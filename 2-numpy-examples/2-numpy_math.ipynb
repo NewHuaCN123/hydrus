{
 "cells": [
  {
   "cell_type": "markdown",
   "metadata": {
    "pycharm": {
     "name": "#%% md\n"
    }
   },
   "source": [
    "# 常见数学运算\n",
    "\n",
    "## 排序等算法"
   ]
  },
  {
   "cell_type": "code",
   "execution_count": 1,
   "metadata": {},
   "outputs": [
    {
     "name": "stdout",
     "output_type": "stream",
     "text": [
      "我们的数组是：\n",
      "[[3 7]\n",
      " [9 1]]\n",
      "\n",
      "\n",
      "调用 sort() 函数：\n",
      "[[3 7]\n",
      " [1 9]]\n",
      "\n",
      "\n",
      "按列排序：\n",
      "[[3 1]\n",
      " [9 7]]\n",
      "\n",
      "\n"
     ]
    }
   ],
   "source": [
    "import numpy as np  \n",
    " \n",
    "a = np.array([[3,7],[9,1]])  \n",
    "print ('我们的数组是：')\n",
    "print (a)\n",
    "print ('\\n')\n",
    "print ('调用 sort() 函数：')\n",
    "print (np.sort(a))\n",
    "print ('\\n')\n",
    "print ('按列排序：')\n",
    "print (np.sort(a, axis =  0))\n",
    "print ('\\n')"
   ]
  },
  {
   "cell_type": "code",
   "execution_count": 6,
   "metadata": {},
   "outputs": [
    {
     "data": {
      "text/plain": [
       "dtype([('name', 'S10'), ('age', '<i4')])"
      ]
     },
     "execution_count": 6,
     "metadata": {},
     "output_type": "execute_result"
    }
   ],
   "source": [
    "# 在 sort 函数中排序字段 \n",
    "dt = np.dtype([('name',  'S10'),('age',  int)]) \n",
    "dt"
   ]
  },
  {
   "cell_type": "markdown",
   "metadata": {},
   "source": [
    "关于dtype，可以参考：[Data type objects (dtype)](https://docs.scipy.org/doc/numpy/reference/arrays.dtypes.html)"
   ]
  },
  {
   "cell_type": "code",
   "execution_count": 7,
   "metadata": {},
   "outputs": [
    {
     "name": "stdout",
     "output_type": "stream",
     "text": [
      "我们的数组是：\n",
      "[(b'raju', 21) (b'anil', 25) (b'ravi', 17) (b'amar', 27)]\n",
      "\n",
      "\n",
      "按 name 排序：\n",
      "[(b'amar', 27) (b'anil', 25) (b'raju', 21) (b'ravi', 17)]\n"
     ]
    }
   ],
   "source": [
    "a = np.array([(\"raju\",21),(\"anil\",25),(\"ravi\",  17),  (\"amar\",27)], dtype = dt)  \n",
    "print ('我们的数组是：')\n",
    "print (a)\n",
    "print ('\\n')\n",
    "print ('按 name 排序：')\n",
    "print (np.sort(a, order =  'name'))"
   ]
  },
  {
   "cell_type": "markdown",
   "metadata": {},
   "source": [
    "如果要返回排序的索引，可以使用："
   ]
  },
  {
   "cell_type": "code",
   "execution_count": 8,
   "metadata": {},
   "outputs": [
    {
     "data": {
      "text/plain": [
       "array([2, 4, 0, 1, 3], dtype=int64)"
      ]
     },
     "execution_count": 8,
     "metadata": {},
     "output_type": "execute_result"
    }
   ],
   "source": [
    "np.argsort([3,4,1,7,2])"
   ]
  },
  {
   "cell_type": "markdown",
   "metadata": {},
   "source": [
    "排序里面要注意np.nan值的处理。如下例子所示，可以看出，nan是被当作最大值的。"
   ]
  },
  {
   "cell_type": "code",
   "execution_count": 7,
   "metadata": {},
   "outputs": [
    {
     "data": {
      "text/plain": [
       "array([ 1.,  2.,  3.,  4.,  5.,  6.,  7.,  8.,  9., nan])"
      ]
     },
     "execution_count": 7,
     "metadata": {},
     "output_type": "execute_result"
    }
   ],
   "source": [
    "import numpy as np\n",
    "arr_nan = [1,2,3,4,np.nan,5,6,7,8,9]\n",
    "np.sort(arr_nan)"
   ]
  },
  {
   "cell_type": "markdown",
   "metadata": {},
   "source": [
    "## 算术运算\n",
    "\n",
    "### 最值\n",
    "\n",
    "首先看看取最大值："
   ]
  },
  {
   "cell_type": "code",
   "execution_count": 8,
   "metadata": {},
   "outputs": [
    {
     "data": {
      "text/plain": [
       "3"
      ]
     },
     "execution_count": 8,
     "metadata": {},
     "output_type": "execute_result"
    }
   ],
   "source": [
    "import numpy as np  \n",
    "a = np.arange(4).reshape((2,2))\n",
    "np.amax(a)        \n",
    "# np.max和np.amax是一个函数"
   ]
  },
  {
   "cell_type": "markdown",
   "metadata": {},
   "source": [
    "这里承接上文的np.nan，补充一点需要注意的情况。根据如下例子，可以看出，nan会被当做最值，无论最大最小。"
   ]
  },
  {
   "cell_type": "code",
   "execution_count": 9,
   "metadata": {},
   "outputs": [
    {
     "data": {
      "text/plain": [
       "nan"
      ]
     },
     "execution_count": 9,
     "metadata": {},
     "output_type": "execute_result"
    }
   ],
   "source": [
    "np.max(arr_nan)"
   ]
  },
  {
   "cell_type": "code",
   "execution_count": 10,
   "metadata": {},
   "outputs": [
    {
     "data": {
      "text/plain": [
       "nan"
      ]
     },
     "execution_count": 10,
     "metadata": {},
     "output_type": "execute_result"
    }
   ],
   "source": [
    "np.min(arr_nan)"
   ]
  },
  {
   "cell_type": "markdown",
   "metadata": {},
   "source": [
    "如果需要排除掉nan值来求最值，可以使用 nanmax"
   ]
  },
  {
   "cell_type": "code",
   "execution_count": 11,
   "metadata": {},
   "outputs": [
    {
     "data": {
      "text/plain": [
       "9.0"
      ]
     },
     "execution_count": 11,
     "metadata": {},
     "output_type": "execute_result"
    }
   ],
   "source": [
    "np.nanmax(arr_nan)"
   ]
  },
  {
   "cell_type": "markdown",
   "metadata": {},
   "source": [
    "还有inf和nan是有区别的。\n",
    "\n",
    "- Nan：Not a number\n",
    "- Inf：Infinity(无穷大）\n",
    "\n",
    "看例子，可以发现inf是正无穷大（负无穷大是-inf），总是最值，这时候用nanmax也没用，也仍然是inf最大"
   ]
  },
  {
   "cell_type": "code",
   "execution_count": 22,
   "metadata": {},
   "outputs": [
    {
     "name": "stdout",
     "output_type": "stream",
     "text": [
      "inf\n",
      "1.0\n",
      "inf\n"
     ]
    }
   ],
   "source": [
    "arr_inf = np.array([1,2,3,np.inf,4,5,6])\n",
    "print(np.max(arr_inf))\n",
    "print(np.min(arr_inf))\n",
    "print(np.nanmax(arr_inf))"
   ]
  },
  {
   "cell_type": "code",
   "execution_count": 32,
   "metadata": {},
   "outputs": [
    {
     "name": "stdout",
     "output_type": "stream",
     "text": [
      "-inf\n",
      "-inf\n"
     ]
    }
   ],
   "source": [
    "arr_neg_inf = np.array([1,2,3,-np.inf,4,5,6])\n",
    "print(np.min(arr_neg_inf))\n",
    "print(np.nanmin(arr_neg_inf))"
   ]
  },
  {
   "cell_type": "markdown",
   "metadata": {},
   "source": [
    "另一个inf和nan的不同是inf和自己是相等的。"
   ]
  },
  {
   "cell_type": "code",
   "execution_count": 23,
   "metadata": {},
   "outputs": [
    {
     "data": {
      "text/plain": [
       "True"
      ]
     },
     "execution_count": 23,
     "metadata": {},
     "output_type": "execute_result"
    }
   ],
   "source": [
    "np.inf == np.inf"
   ]
  },
  {
   "cell_type": "markdown",
   "metadata": {},
   "source": [
    "因此如果要找一个数组中inf值，可以直接使用==的方式索引判断。"
   ]
  },
  {
   "cell_type": "code",
   "execution_count": 27,
   "metadata": {},
   "outputs": [
    {
     "data": {
      "text/plain": [
       "array([False, False, False,  True, False, False, False])"
      ]
     },
     "execution_count": 27,
     "metadata": {},
     "output_type": "execute_result"
    }
   ],
   "source": [
    "arr_inf == np.inf"
   ]
  },
  {
   "cell_type": "code",
   "execution_count": 29,
   "metadata": {},
   "outputs": [
    {
     "data": {
      "text/plain": [
       "array([ 1.,  2.,  3., nan,  4.,  5.,  6.])"
      ]
     },
     "execution_count": 29,
     "metadata": {},
     "output_type": "execute_result"
    }
   ],
   "source": [
    "# 把inf换成别的值\n",
    "arr_inf[arr_inf==np.inf] = np.nan\n",
    "arr_inf"
   ]
  },
  {
   "cell_type": "markdown",
   "metadata": {},
   "source": [
    "假定现在有一个数组a = [3, 1, 2, 4, 6, 1]现在要算数组a中最大数的索引是多少？argmax解决的就是这类问题"
   ]
  },
  {
   "cell_type": "code",
   "execution_count": 46,
   "metadata": {
    "pycharm": {
     "name": "#%%\n"
    }
   },
   "outputs": [
    {
     "name": "stdout",
     "output_type": "stream",
     "text": [
      "[1 2 2 1]\n",
      "[1 0 2]\n"
     ]
    }
   ],
   "source": [
    "a = np.array([[1, 5, 5, 2],\n",
    "              [9, 6, 2, 8],\n",
    "              [3, 7, 9, 1]])\n",
    "print(np.argmax(a, axis=0))\n",
    "print(np.argmax(a, axis=1))"
   ]
  },
  {
   "cell_type": "markdown",
   "metadata": {},
   "source": [
    "二维数组最值也很容易求"
   ]
  },
  {
   "cell_type": "code",
   "execution_count": 2,
   "metadata": {},
   "outputs": [
    {
     "data": {
      "text/plain": [
       "17"
      ]
     },
     "execution_count": 2,
     "metadata": {},
     "output_type": "execute_result"
    }
   ],
   "source": [
    "import numpy\n",
    "# Create a 2D Numpy array from list of lists\n",
    "arr2D = numpy.array([[11, 12, 13],\n",
    "                     [14, 15, 16],\n",
    "                     [17, 15, 11],\n",
    "                     [12, 14, 15]])\n",
    "maxValue = numpy.amax(arr2D)\n",
    "maxValue"
   ]
  },
  {
   "cell_type": "code",
   "execution_count": 3,
   "metadata": {},
   "outputs": [
    {
     "name": "stdout",
     "output_type": "stream",
     "text": [
      "Max value of every column:  [17 15 16]\n"
     ]
    }
   ],
   "source": [
    "# Get the maximum values of each column i.e. along axis 0\n",
    "maxInColumns = numpy.amax(arr2D, axis=0)\n",
    "print('Max value of every column: ', maxInColumns)"
   ]
  },
  {
   "cell_type": "code",
   "execution_count": 4,
   "metadata": {},
   "outputs": [
    {
     "name": "stdout",
     "output_type": "stream",
     "text": [
      "Max value of every Row:  [13 16 17 15]\n"
     ]
    }
   ],
   "source": [
    "# Get the maximum values of each row i.e. along axis 1\n",
    "maxInRows = numpy.amax(arr2D, axis=1)\n",
    "print('Max value of every Row: ', maxInRows)"
   ]
  },
  {
   "cell_type": "markdown",
   "metadata": {},
   "source": [
    "### 求和\n",
    "\n",
    "numpy对一个数组的元素求和很简单："
   ]
  },
  {
   "cell_type": "code",
   "execution_count": 1,
   "metadata": {},
   "outputs": [
    {
     "name": "stdout",
     "output_type": "stream",
     "text": [
      "This is a 2*3rows 4cols array\n",
      " [[[0.2001844  0.59828362 0.89803567 0.19994524]\n",
      "  [0.6723276  0.90640623 0.63449198 0.61039935]\n",
      "  [0.48283839 0.25518871 0.07872092 0.28393224]]\n",
      "\n",
      " [[0.42119023 0.36297776 0.71298413 0.14999227]\n",
      "  [0.54201121 0.08248969 0.45641066 0.40780454]\n",
      "  [0.10365223 0.88742464 0.91143636 0.74297621]]]\n"
     ]
    }
   ],
   "source": [
    "import numpy as np\n",
    "x = np.random.rand(2,3,4)    #生成三维随array\n",
    "print(\"This is a 2*3rows 4cols array\\n\",x)"
   ]
  },
  {
   "cell_type": "code",
   "execution_count": 2,
   "metadata": {},
   "outputs": [
    {
     "name": "stdout",
     "output_type": "stream",
     "text": [
      "instance method: 11.602104284327002\n",
      "numpy function: 11.602104284327002\n"
     ]
    }
   ],
   "source": [
    "print('instance method:',x.sum())\n",
    "print('numpy function:',np.sum(x))"
   ]
  },
  {
   "cell_type": "markdown",
   "metadata": {},
   "source": [
    "对一个二维数组的每行或者每列求和也很简单，指定axis即可"
   ]
  },
  {
   "cell_type": "code",
   "execution_count": 5,
   "metadata": {},
   "outputs": [
    {
     "name": "stdout",
     "output_type": "stream",
     "text": [
      "[[ 0  1  2  3  4]\n",
      " [ 5  6  7  8  9]\n",
      " [10 11 12 13 14]\n",
      " [15 16 17 18 19]]\n",
      " [30 34 38 42 46]\n",
      " [10 35 60 85]\n"
     ]
    }
   ],
   "source": [
    "arr = np.arange(20).reshape(4,5)\n",
    "print(arr)\n",
    "print(\"对每列求和\",np.sum(arr,axis=0))\n",
    "print(\"对每行求和\",np.sum(arr,axis=1))"
   ]
  },
  {
   "cell_type": "markdown",
   "metadata": {
    "pycharm": {
     "name": "#%% md\n"
    }
   },
   "source": [
    "### 卷积"
   ]
  },
  {
   "cell_type": "code",
   "execution_count": 47,
   "metadata": {
    "pycharm": {
     "is_executing": false,
     "name": "#%%\n"
    }
   },
   "outputs": [
    {
     "name": "stdout",
     "output_type": "stream",
     "text": [
      "[0.  1.  2.5 4.  1.5]\n"
     ]
    }
   ],
   "source": [
    "print(np.convolve([1, 2, 3], [0, 1, 0.5]))"
   ]
  },
  {
   "cell_type": "markdown",
   "metadata": {},
   "source": [
    "### 矩阵运算\n",
    "\n",
    "首先再看看广播运算，二维数组和一维数组进行广播运算："
   ]
  },
  {
   "cell_type": "code",
   "execution_count": 2,
   "metadata": {},
   "outputs": [
    {
     "name": "stdout",
     "output_type": "stream",
     "text": [
      "[[ 0  0  0]\n",
      " [10 20 30]\n",
      " [20 40 60]\n",
      " [30 60 90]]\n"
     ]
    }
   ],
   "source": [
    "import numpy as np \n",
    " \n",
    "a = np.array([[ 0, 0, 0],\n",
    "           [10,10,10],\n",
    "           [20,20,20],\n",
    "           [30,30,30]])\n",
    "b = np.array([1,2,3])\n",
    "print(a * b)"
   ]
  },
  {
   "cell_type": "code",
   "execution_count": 4,
   "metadata": {},
   "outputs": [
    {
     "name": "stdout",
     "output_type": "stream",
     "text": [
      "[[  0   0   0]\n",
      " [ 20  20  20]\n",
      " [ 60  60  60]\n",
      " [120 120 120]]\n"
     ]
    }
   ],
   "source": [
    "import numpy as np \n",
    " \n",
    "a = np.array([[ 0, 0, 0],\n",
    "           [10,10,10],\n",
    "           [20,20,20],\n",
    "           [30,30,30]])\n",
    "b = np.array([[1],[2],[3], [4]])\n",
    "print(a * b)"
   ]
  },
  {
   "cell_type": "markdown",
   "metadata": {},
   "source": [
    "### 高维数组算术\n",
    "\n",
    "指定维度数据算术运算"
   ]
  },
  {
   "cell_type": "code",
   "execution_count": 48,
   "metadata": {},
   "outputs": [
    {
     "data": {
      "text/plain": [
       "array([[ 2, 10, 10,  4],\n",
       "       [18, 12,  4, 16],\n",
       "       [ 6, 14, 18,  2]])"
      ]
     },
     "execution_count": 48,
     "metadata": {},
     "output_type": "execute_result"
    }
   ],
   "source": [
    "import numpy as np\n",
    "a = np.array([[1, 5, 5, 2],\n",
    "              [9, 6, 2, 8],\n",
    "              [3, 7, 9, 1]])\n",
    "b = np.array([[1, 5, 5, 2],\n",
    "              [9, 6, 2, 8],\n",
    "              [3, 7, 9, 1]])\n",
    "a+b"
   ]
  },
  {
   "cell_type": "code",
   "execution_count": 49,
   "metadata": {},
   "outputs": [
    {
     "data": {
      "text/plain": [
       "array([[1., 5., 5.],\n",
       "       [9., 6., 2.],\n",
       "       [3., 7., 9.]])"
      ]
     },
     "execution_count": 49,
     "metadata": {},
     "output_type": "execute_result"
    }
   ],
   "source": [
    "c = np.array([[1, 5, 5],\n",
    "              [9, 6, 2],\n",
    "              [3, 7, 9]])\n",
    "(a[:,:3]+c)/2"
   ]
  },
  {
   "cell_type": "code",
   "execution_count": 50,
   "metadata": {},
   "outputs": [
    {
     "data": {
      "text/plain": [
       "array([[[1.],\n",
       "        [5.]],\n",
       "\n",
       "       [[9.],\n",
       "        [6.]],\n",
       "\n",
       "       [[3.],\n",
       "        [7.]]])"
      ]
     },
     "execution_count": 50,
     "metadata": {},
     "output_type": "execute_result"
    }
   ],
   "source": [
    "c = np.array([[[1], [5]],\n",
    "              [[9], [6]],\n",
    "              [[3], [7]]])\n",
    "d = np.array([[[1], [5]],\n",
    "              [[9], [6]],\n",
    "              [[3], [7]]])\n",
    "(c+d)/2"
   ]
  },
  {
   "cell_type": "markdown",
   "metadata": {},
   "source": [
    "### 广播\n",
    "\n",
    "广播是numpy中一个比较重要的运算形式。该部分主要参考了[广播（Broadcasting）](https://www.numpy.org.cn/user/basics/broadcasting.html)，[Array Broadcasting in Numpy](https://numpy.org/devdocs/user/theory.broadcasting.html)，[菜鸟教程](https://www.runoob.com/numpy/numpy-broadcast.html)和相关[博客](https://zhuanlan.zhihu.com/p/35010592)。\n",
    "\n",
    "广播是指numpy的一种处理不同shape数组的算术运算的方式。\n",
    "\n",
    "执行 broadcast 的前提在于，两个 ndarray 执行的是 **element-wise**（按位加，按位减等） 的运算，而不是矩阵乘法的运算，矩阵乘法运算时需要维度之间严格匹配。\n",
    "\n",
    "广播的规则如下：\n",
    "\n",
    "- 让所有输入数组都向其中shape最长的数组看齐，shape中不足的部分都通过在前面加1补齐；\n",
    "- 输出数组的shape是输入数组shape的各个轴上的最大值；\n",
    "- 如果输入数组的某个轴和输出数组的对应轴的长度相同或者其长度为1时，这个数组能够用来计算，否则出错；\n",
    "- 当输入数组的某个轴的长度为1时，沿着此轴运算时都用此轴上的第一组值。"
   ]
  },
  {
   "cell_type": "code",
   "execution_count": 1,
   "metadata": {
    "pycharm": {
     "is_executing": false,
     "name": "#%%\n"
    }
   },
   "outputs": [
    {
     "name": "stdout",
     "output_type": "stream",
     "text": [
      "[2. 4. 3.]\n"
     ]
    }
   ],
   "source": [
    "import numpy as np\n",
    "# 广播运算只在某些情况下可用，比如：\n",
    "arr1 = np.array([1, 2, 3])\n",
    "arr2 = np.array([1, 2])\n",
    "# 当维度不同的向量想要对齐，并在不足处补0时，不可以使用广播\n",
    "length_zero = max(arr1.size, arr2.size) - min(arr1.size, arr2.size)\n",
    "zeros = np.zeros(length_zero)\n",
    "if arr1.size > arr2.size:\n",
    "    arr_new = np.hstack([arr2, zeros])\n",
    "    print(arr_new + arr1)\n",
    "else:\n",
    "    arr_new = np.hstack([arr1, zeros])\n",
    "    print(arr_new + arr2)"
   ]
  },
  {
   "cell_type": "markdown",
   "metadata": {},
   "source": [
    "二维数组和一维数组相乘，可以看到广播默认会将二维数组的每列和一维数组的每个值对应相乘。"
   ]
  },
  {
   "cell_type": "code",
   "execution_count": 4,
   "metadata": {},
   "outputs": [
    {
     "name": "stdout",
     "output_type": "stream",
     "text": [
      "[[ 0  1  2  3]\n",
      " [ 4  5  6  7]\n",
      " [ 8  9 10 11]]\n",
      "(4,)\n"
     ]
    },
    {
     "data": {
      "text/plain": [
       "array([[ 0,  2,  6, 12],\n",
       "       [ 4, 10, 18, 28],\n",
       "       [ 8, 18, 30, 44]])"
      ]
     },
     "execution_count": 4,
     "metadata": {},
     "output_type": "execute_result"
    }
   ],
   "source": [
    "arr1 = np.arange(12).reshape(3,4)\n",
    "print(arr1)\n",
    "arr2 = np.arange(1,5)\n",
    "print(arr2.shape)\n",
    "arr1*arr2"
   ]
  },
  {
   "cell_type": "markdown",
   "metadata": {
    "pycharm": {
     "name": "#%% md\n"
    }
   },
   "source": [
    "## 统计运算\n",
    "\n",
    "### 基础统计计算\n",
    "\n",
    "常见的有均值计算：直接取mean可计算，如果有nan值，就调用nanmean。"
   ]
  },
  {
   "cell_type": "code",
   "execution_count": 51,
   "metadata": {},
   "outputs": [
    {
     "data": {
      "text/plain": [
       "2.6666666666666665"
      ]
     },
     "execution_count": 51,
     "metadata": {},
     "output_type": "execute_result"
    }
   ],
   "source": [
    "a = np.array([[1, np.nan], [3, 4]])\n",
    "np.nanmean(a)"
   ]
  },
  {
   "cell_type": "code",
   "execution_count": 52,
   "metadata": {},
   "outputs": [
    {
     "data": {
      "text/plain": [
       "array([2., 4.])"
      ]
     },
     "execution_count": 52,
     "metadata": {},
     "output_type": "execute_result"
    }
   ],
   "source": [
    "np.nanmean(a, axis=0) # 0是每列求平均"
   ]
  },
  {
   "cell_type": "code",
   "execution_count": 53,
   "metadata": {},
   "outputs": [
    {
     "data": {
      "text/plain": [
       "array([1. , 3.5])"
      ]
     },
     "execution_count": 53,
     "metadata": {},
     "output_type": "execute_result"
    }
   ],
   "source": [
    "np.nanmean(a, axis=1)"
   ]
  },
  {
   "cell_type": "code",
   "execution_count": 54,
   "metadata": {},
   "outputs": [
    {
     "name": "stdout",
     "output_type": "stream",
     "text": [
      "[5.]\n",
      "5.0\n"
     ]
    }
   ],
   "source": [
    "arr = np.array([\n",
    "    [1, 2, 3, 4],\n",
    "    [2, 4, 6, 8],\n",
    "    [3, 6, 9, 12],\n",
    "    [4, 8, 12, 16]\n",
    "])\n",
    "index=np.array([(0, 2), (3, 1),(3,3)])\n",
    "# keepdims可以保持维度\n",
    "data_mean = np.mean(arr[index[0],index[1]], axis=0, keepdims=True)\n",
    "print(data_mean)\n",
    "# 没有keepdims就直接求均值了\n",
    "data_mean = np.mean(arr[index[0],index[1]], axis=0)\n",
    "print(data_mean)"
   ]
  },
  {
   "cell_type": "markdown",
   "metadata": {},
   "source": [
    "多维数组求均值"
   ]
  },
  {
   "cell_type": "code",
   "execution_count": 2,
   "metadata": {},
   "outputs": [
    {
     "name": "stdout",
     "output_type": "stream",
     "text": [
      "[[[ 0  1  2]\n",
      "  [ 3  4  5]\n",
      "  [ 6  7  8]]\n",
      "\n",
      " [[ 9 10 11]\n",
      "  [12 13 14]\n",
      "  [15 16 17]]\n",
      "\n",
      " [[18 19 20]\n",
      "  [21 22 23]\n",
      "  [24 25 26]]]\n"
     ]
    }
   ],
   "source": [
    "import numpy as np\n",
    "arr3d=np.arange(27).reshape(3,3,3)\n",
    "print(arr3d)"
   ]
  },
  {
   "cell_type": "code",
   "execution_count": 3,
   "metadata": {},
   "outputs": [
    {
     "data": {
      "text/plain": [
       "array([[ 9., 10., 11.],\n",
       "       [12., 13., 14.],\n",
       "       [15., 16., 17.]])"
      ]
     },
     "execution_count": 3,
     "metadata": {},
     "output_type": "execute_result"
    }
   ],
   "source": [
    "np.mean(arr3d, axis=0)"
   ]
  },
  {
   "cell_type": "code",
   "execution_count": 4,
   "metadata": {},
   "outputs": [
    {
     "data": {
      "text/plain": [
       "array([[ 3.,  4.,  5.],\n",
       "       [12., 13., 14.],\n",
       "       [21., 22., 23.]])"
      ]
     },
     "execution_count": 4,
     "metadata": {},
     "output_type": "execute_result"
    }
   ],
   "source": [
    "np.mean(arr3d, axis=1)"
   ]
  },
  {
   "cell_type": "code",
   "execution_count": 5,
   "metadata": {},
   "outputs": [
    {
     "data": {
      "text/plain": [
       "array([[ 1.,  4.,  7.],\n",
       "       [10., 13., 16.],\n",
       "       [19., 22., 25.]])"
      ]
     },
     "execution_count": 5,
     "metadata": {},
     "output_type": "execute_result"
    }
   ],
   "source": [
    "np.mean(arr3d, axis=2)"
   ]
  },
  {
   "cell_type": "markdown",
   "metadata": {},
   "source": [
    "### 随机数运算\n",
    "\n",
    "首先，是随机数生成，以及不重复生成，就是随机抽样了，随机抽样使用np.random.choice函数，如果replace参数是True，那么就和np.random.randint是一样的了。设置为False，就是不重复均匀抽样了。"
   ]
  },
  {
   "cell_type": "code",
   "execution_count": 5,
   "metadata": {},
   "outputs": [
    {
     "data": {
      "text/plain": [
       "array([4, 0, 3, 3])"
      ]
     },
     "execution_count": 5,
     "metadata": {},
     "output_type": "execute_result"
    }
   ],
   "source": [
    "import numpy as np\n",
    "# randint是可以重复的抽样\n",
    "np.random.randint(5,size=4)"
   ]
  },
  {
   "cell_type": "markdown",
   "metadata": {},
   "source": [
    "如果需要无重复抽样，那么需要使用choice，并设置replace为False"
   ]
  },
  {
   "cell_type": "code",
   "execution_count": 10,
   "metadata": {},
   "outputs": [
    {
     "data": {
      "text/plain": [
       "array([4, 2, 3])"
      ]
     },
     "execution_count": 10,
     "metadata": {},
     "output_type": "execute_result"
    }
   ],
   "source": [
    "np.random.choice(5, 3, replace=False)"
   ]
  },
  {
   "cell_type": "code",
   "execution_count": 4,
   "metadata": {},
   "outputs": [
    {
     "data": {
      "text/plain": [
       "array([3, 3, 1, 3, 2, 4, 0, 0, 4, 2])"
      ]
     },
     "execution_count": 4,
     "metadata": {},
     "output_type": "execute_result"
    }
   ],
   "source": [
    "# 等价方法\n",
    "np.random.randint(0, 5, [10])"
   ]
  },
  {
   "cell_type": "code",
   "execution_count": 56,
   "metadata": {},
   "outputs": [
    {
     "data": {
      "text/plain": [
       "array([6, 8, 6, 9, 7, 6, 8, 7, 9, 5])"
      ]
     },
     "execution_count": 56,
     "metadata": {},
     "output_type": "execute_result"
    }
   ],
   "source": [
    "np.random.randint(low=5,high=10,size=10)"
   ]
  },
  {
   "cell_type": "code",
   "execution_count": 57,
   "metadata": {},
   "outputs": [
    {
     "data": {
      "text/plain": [
       "array([0, 3, 2])"
      ]
     },
     "execution_count": 57,
     "metadata": {},
     "output_type": "execute_result"
    }
   ],
   "source": [
    "np.random.choice(6, 3, replace=False)"
   ]
  },
  {
   "cell_type": "markdown",
   "metadata": {},
   "source": [
    "还有很常见的比如生成某区间内的均匀分布的随机数："
   ]
  },
  {
   "cell_type": "code",
   "execution_count": 2,
   "metadata": {},
   "outputs": [
    {
     "data": {
      "text/plain": [
       "array([3.19502816, 2.37255754, 4.31815999, 1.30437647])"
      ]
     },
     "execution_count": 2,
     "metadata": {},
     "output_type": "execute_result"
    }
   ],
   "source": [
    "np.random.uniform(1,5,4) # 生成1-5区间内的4个随机数"
   ]
  },
  {
   "cell_type": "markdown",
   "metadata": {},
   "source": [
    "接下来重点记录下seed在随机数生成中的重要作用。"
   ]
  },
  {
   "cell_type": "code",
   "execution_count": 2,
   "metadata": {
    "pycharm": {
     "name": "#%%\n"
    }
   },
   "outputs": [
    {
     "name": "stdout",
     "output_type": "stream",
     "text": [
      "[[ 1.62434536 -0.61175641 -0.52817175 -1.07296862  0.86540763]]\n",
      "[[ 1.62434536 -0.61175641 -0.52817175 -1.07296862  0.86540763]]\n",
      "[[ 1.62434536 -0.61175641 -0.52817175 -1.07296862  0.86540763]]\n",
      "[[-2.3015387   1.74481176 -0.7612069   0.3190391  -0.24937038]]\n",
      "[[ 1.46210794 -2.06014071 -0.3224172  -0.38405435  1.13376944]]\n",
      "[[-1.09989127 -0.17242821 -0.87785842  0.04221375  0.58281521]]\n",
      "------从上面6次可以看出seed的影响-------\n",
      "[[-1.10061918  1.14472371  0.90159072  0.50249434  0.90085595]]\n",
      "[[-0.68372786 -0.12289023 -0.93576943 -0.26788808  0.53035547]]\n",
      "----跳出原来的循环，看看新的循环里有没有不同，下面想比较个8次循环的随机内容，因为前面有三个循环是一样的，所以再补充两组随机值，凑够8个----\n",
      "[[-0.69166075 -0.39675353 -0.6871727  -0.84520564 -0.67124613]\n",
      " [-0.0126646  -1.11731035  0.2344157   1.65980218  0.74204416]]\n",
      "----新的8次循环，和之前的8次循环进行比较-----\n",
      "[[1.76405235 0.40015721 0.97873798 2.2408932  1.86755799]]\n",
      "[[-0.97727788  0.95008842 -0.15135721 -0.10321885  0.4105985 ]]\n",
      "[[0.14404357 1.45427351 0.76103773 0.12167502 0.44386323]]\n",
      "[[ 0.33367433  1.49407907 -0.20515826  0.3130677  -0.85409574]]\n",
      "[[-2.55298982  0.6536186   0.8644362  -0.74216502  2.26975462]]\n",
      "[[-1.45436567  0.04575852 -0.18718385  1.53277921  1.46935877]]\n",
      "[[ 0.15494743  0.37816252 -0.88778575 -1.98079647 -0.34791215]]\n",
      "[[ 0.15634897  1.23029068  1.20237985 -0.38732682 -0.30230275]]\n",
      "---可以看到，在种子一样的情况下，前后两次8个依次随机生成的数是一样的---\n",
      "============================================================\n",
      "---------接下来换一个种子，看一看随机生成的数据是否一样----------\n",
      "[[1.76405235 0.40015721 0.97873798 2.2408932  1.86755799]]\n",
      "[[-0.97727788  0.95008842 -0.15135721 -0.10321885  0.4105985 ]]\n",
      "[[0.14404357 1.45427351 0.76103773 0.12167502 0.44386323]]\n",
      "[[ 1.62434536 -0.61175641 -0.52817175 -1.07296862  0.86540763]]\n",
      "[[-2.3015387   1.74481176 -0.7612069   0.3190391  -0.24937038]]\n",
      "[[ 1.46210794 -2.06014071 -0.3224172  -0.38405435  1.13376944]]\n",
      "----当种子一样时，不论什么时候生成的随机数都是一样的，当种子不一样时，生成的随机数自然就不同了----\n",
      "1.0\n",
      "0.0\n"
     ]
    }
   ],
   "source": [
    "import numpy as np\n",
    "# 随机数运算\n",
    "i = 0\n",
    "while i < 6:\n",
    "    if i < 3:\n",
    "        np.random.seed(1)\n",
    "        # 种子一样，生成的随机数也是一样的\n",
    "        print(np.random.randn(1, 5))\n",
    "    else:\n",
    "        print(np.random.randn(1, 5))\n",
    "        pass\n",
    "    i += 1\n",
    "print(\"------从上面6次可以看出seed的影响-------\")\n",
    "i = 0\n",
    "while i < 2:\n",
    "    print(np.random.randn(1, 5))\n",
    "    i += 1\n",
    "print(\"----跳出原来的循环，看看新的循环里有没有不同，下面想比较个8次循环的随机内容，因为前面有三个循环是一样的，所以再补充两组随机值，凑够8个----\")\n",
    "print(np.random.randn(2, 5))\n",
    "np.random.seed(0)\n",
    "i = 0\n",
    "print(\"----新的8次循环，和之前的8次循环进行比较-----\")\n",
    "while i < 8:\n",
    "    print(np.random.randn(1, 5))\n",
    "    i += 1\n",
    "print(\"---可以看到，在种子一样的情况下，前后两次8个依次随机生成的数是一样的---\")\n",
    "# 以上结果说明，随机数种子对后面的结果一直有影响。同时，加了随机数种子以后，后面的随机数组都是按一定的顺序生成的\n",
    "\n",
    "print(\"============================================================\")\n",
    "print(\"---------接下来换一个种子，看一看随机生成的数据是否一样----------\")\n",
    "i = 0\n",
    "np.random.seed(0)\n",
    "while i < 3:\n",
    "    print(np.random.randn(1, 5))\n",
    "    i += 1\n",
    "i = 0\n",
    "np.random.seed(1)\n",
    "i = 0\n",
    "while i < 3:\n",
    "    print(np.random.randn(1, 5))\n",
    "    i += 1\n",
    "print(\"----当种子一样时，不论什么时候生成的随机数都是一样的，当种子不一样时，生成的随机数自然就不同了----\")\n",
    "# 不论在哪台电脑上，当随机数种子参数为0和1时，生成的随机数相同。说明该参数指定了一个随机数生成的起始位置。每个参数对应一个位置。并且在该参数确定后，其后面的随机数的生成顺序也就确定了。\n",
    "# 所以随机数种子的参数怎么选择？我认为随意，这个参数只是确定一下随机数的起始位置。\n",
    "\n",
    "# ------------------numpy all()函数---------------------\n",
    "a = np.array([1, 2, 3])\n",
    "b = a.copy()\n",
    "print((a == b).all(axis=0).mean())\n",
    "c = b.copy()\n",
    "c[0] = 0\n",
    "print((b == c).all(axis=0).mean())"
   ]
  },
  {
   "cell_type": "markdown",
   "metadata": {},
   "source": [
    "### shuffle函数\n",
    "\n",
    "numpy中使用shuffle函数也是十分常见的操作，shuffle是一个in-place的运算，以下给出例子"
   ]
  },
  {
   "cell_type": "code",
   "execution_count": 24,
   "metadata": {},
   "outputs": [
    {
     "data": {
      "text/plain": [
       "array([8, 6, 7, 0, 4, 2, 1, 5, 9, 3])"
      ]
     },
     "execution_count": 24,
     "metadata": {},
     "output_type": "execute_result"
    }
   ],
   "source": [
    "import numpy as np\n",
    "indices = np.arange(10)\n",
    "np.random.shuffle(indices)\n",
    "indices"
   ]
  },
  {
   "cell_type": "code",
   "execution_count": 25,
   "metadata": {},
   "outputs": [
    {
     "data": {
      "text/plain": [
       "array([0, 4, 2, 9, 6])"
      ]
     },
     "execution_count": 25,
     "metadata": {},
     "output_type": "execute_result"
    }
   ],
   "source": [
    "index = np.random.randint(0, len(indices), [5])\n",
    "index"
   ]
  },
  {
   "cell_type": "code",
   "execution_count": 29,
   "metadata": {},
   "outputs": [
    {
     "data": {
      "text/plain": [
       "array([0, 4, 2, 9, 6])"
      ]
     },
     "execution_count": 29,
     "metadata": {},
     "output_type": "execute_result"
    }
   ],
   "source": [
    "indices = list(range(10))\n",
    "np.array(indices)[index]"
   ]
  },
  {
   "cell_type": "markdown",
   "metadata": {
    "pycharm": {
     "name": "#%% md\n"
    }
   },
   "source": [
    "### percentile函数\n",
    "\n",
    "百分位数是统计中使用的度量，表示小于这个值的观察值的百分比。 函数numpy.percentile()接受三个参数：\n",
    "\n",
    "输入数组；要计算的百分位数，在 0 ~ 100 之间；沿着它计算百分位数的轴。"
   ]
  },
  {
   "cell_type": "code",
   "execution_count": 59,
   "metadata": {
    "pycharm": {
     "is_executing": false,
     "name": "#%%\n"
    }
   },
   "outputs": [
    {
     "name": "stdout",
     "output_type": "stream",
     "text": [
      "数组是：\n",
      "[[30 40 70]\n",
      " [80 20 10]\n",
      " [50 90 60]]\n",
      "调用 percentile() 函数：\n",
      "50.0\n",
      "沿轴 1 调用 percentile() 函数：\n",
      "[40. 20. 60.]\n",
      "沿轴 0 调用 percentile() 函数：\n",
      "[50. 40. 60.]\n"
     ]
    }
   ],
   "source": [
    "import numpy as np \n",
    "a = np.array([[30,40,70],[80,20,10],[50,90,60]])  \n",
    "print ('数组是：'  )\n",
    "print (a )\n",
    "print  ('调用 percentile() 函数：'  )\n",
    "print (np.percentile(a,50)  )\n",
    "print ( '沿轴 1 调用 percentile() 函数：'  )\n",
    "print (np.percentile(a,50, axis =  1)  )\n",
    "print ( '沿轴 0 调用 percentile() 函数：')  \n",
    "print (np.percentile(a,50, axis =  0))"
   ]
  },
  {
   "cell_type": "markdown",
   "metadata": {},
   "source": [
    "percentile函数里面也要注意nan值的情况，和前面min，max函数类似。"
   ]
  },
  {
   "cell_type": "code",
   "execution_count": 13,
   "metadata": {},
   "outputs": [
    {
     "data": {
      "text/plain": [
       "nan"
      ]
     },
     "execution_count": 13,
     "metadata": {},
     "output_type": "execute_result"
    }
   ],
   "source": [
    "import numpy as np \n",
    "arr_nan_percent = np.array([1,2,3,np.nan,4,5,6])\n",
    "np.percentile(arr_nan_percent,0)"
   ]
  },
  {
   "cell_type": "code",
   "execution_count": 14,
   "metadata": {},
   "outputs": [
    {
     "data": {
      "text/plain": [
       "nan"
      ]
     },
     "execution_count": 14,
     "metadata": {},
     "output_type": "execute_result"
    }
   ],
   "source": [
    "np.percentile(arr_nan_percent,100)"
   ]
  },
  {
   "cell_type": "markdown",
   "metadata": {},
   "source": [
    "这时候如果要忽略nan值，可以考虑nanpercentile"
   ]
  },
  {
   "cell_type": "code",
   "execution_count": 17,
   "metadata": {},
   "outputs": [
    {
     "name": "stdout",
     "output_type": "stream",
     "text": [
      "1.0\n",
      "6.0\n"
     ]
    }
   ],
   "source": [
    "print(np.nanpercentile(arr_nan_percent,0))\n",
    "print(np.nanpercentile(arr_nan_percent,100))"
   ]
  },
  {
   "cell_type": "markdown",
   "metadata": {
    "pycharm": {
     "name": "#%% md\n"
    }
   },
   "source": [
    "## 集合运算\n",
    "\n",
    "### 交并集等运算\n",
    "\n",
    "使用intersect1d找到两个数组的交集。返回的是排序的、没有重复值的数组，还有交集中各个元素在原数组中的index。"
   ]
  },
  {
   "cell_type": "code",
   "execution_count": 60,
   "metadata": {
    "pycharm": {
     "is_executing": false,
     "name": "#%%\n"
    }
   },
   "outputs": [
    {
     "name": "stdout",
     "output_type": "stream",
     "text": [
      "[1 3]\n",
      "[3]\n",
      "[1 3]\n",
      "[0 1]\n",
      "[1 0]\n",
      "[1 1 3 3]\n",
      "[0 5 1 3]\n",
      "[ 1  3 -1  0]\n",
      "属于原数组的索引\n",
      "[0, 1, 3]\n",
      "[1, 3, 0]\n"
     ]
    }
   ],
   "source": [
    "from functools import reduce\n",
    "lst1 = [1, 3, 4, 3]\n",
    "lst2 = [3, 1, 2, 1]\n",
    "print(np.intersect1d(lst1, lst2))\n",
    "# 多个集合取交集，使用reduce操作\n",
    "print(reduce(np.intersect1d, ([1, 3, 4, 3], [3, 1, 2, 1], [6, 3, 4, 2])))\n",
    "# 返回两个交集相交的元素的index\n",
    "C, ind1, ind2 = np.intersect1d(lst1, lst2, return_indices=True)\n",
    "print(C)\n",
    "print(ind1)\n",
    "print(ind2)\n",
    "# 取交集不去重\n",
    "C, ind1, ind2 = np.intersect1d(lst1, lst2, return_indices=True, assume_unique=True)\n",
    "print(C)\n",
    "print(ind1)\n",
    "print(ind2)\n",
    "print(\"属于原数组的索引\")\n",
    "print([X for X in list(ind1) if (X >= 0 and X <= 3)])\n",
    "print([X for X in list(ind2) if (X >= 0 and X <= 3)])"
   ]
  },
  {
   "cell_type": "markdown",
   "metadata": {},
   "source": [
    "还有并集运算，差异运算，如下所示："
   ]
  },
  {
   "cell_type": "code",
   "execution_count": 6,
   "metadata": {},
   "outputs": [
    {
     "name": "stdout",
     "output_type": "stream",
     "text": [
      "x =  [1 2 3 4 5]\n",
      "y =  [6 5 4 8 7]\n",
      "使用intersect1d输出在x和y中共有的元素: [4 5]\n",
      "使用setdiff1d输出在x中不在y中的元素: [1 2 3]\n",
      "使用setdiff1d输出在y中不在x中的元素: [6 7 8]\n",
      "使用union1d输出在x和y有的元素: [1 2 3 4 5 6 7 8]\n"
     ]
    }
   ],
   "source": [
    "import numpy as np\n",
    "# 创建一维 ndarray x\n",
    "x = np.array([1,2,3,4,5])\n",
    "# 创建一维 ndarray y\n",
    "y = np.array([6,5,4,8,7])\n",
    "# 输出 x\n",
    "print('x = ', x)\n",
    "# 输出 y\n",
    "print('y = ', y)\n",
    "# 比较x和y\n",
    "print('使用intersect1d输出在x和y中共有的元素:', np.intersect1d(x,y))\n",
    "print('使用setdiff1d输出在x中不在y中的元素:', np.setdiff1d(x,y))\n",
    "print('使用setdiff1d输出在y中不在x中的元素:', np.setdiff1d(y,x))\n",
    "print('使用union1d输出在x和y有的元素:',np.union1d(x,y))"
   ]
  },
  {
   "cell_type": "markdown",
   "metadata": {},
   "source": [
    "注意集合运算是会自动排序的，所以使用的时候一定要注意，比如："
   ]
  },
  {
   "cell_type": "code",
   "execution_count": 7,
   "metadata": {},
   "outputs": [
    {
     "name": "stdout",
     "output_type": "stream",
     "text": [
      "使用intersect1d输出在x_inverse和y_inverse中共有的元素: [4 5]\n",
      "使用setdiff1d输出在x_inverse中不在y_inverse中的元素: [1 2 3]\n",
      "使用setdiff1d输出在y_inverse中不在x_inverse中的元素: [6 7 8]\n",
      "使用union1d输出在x_inverse和y_inverse有的元素: [1 2 3 4 5 6 7 8]\n"
     ]
    }
   ],
   "source": [
    "# 倒序\n",
    "x_inverse = x[::-1]\n",
    "y_inverse = y[::-1]\n",
    "print('使用intersect1d输出在x_inverse和y_inverse中共有的元素:', np.intersect1d(x_inverse,y_inverse))\n",
    "print('使用setdiff1d输出在x_inverse中不在y_inverse中的元素:', np.setdiff1d(x_inverse,y_inverse))\n",
    "print('使用setdiff1d输出在y_inverse中不在x_inverse中的元素:', np.setdiff1d(y_inverse,x_inverse))\n",
    "print('使用union1d输出在x_inverse和y_inverse有的元素:',np.union1d(x_inverse,y_inverse))"
   ]
  },
  {
   "cell_type": "markdown",
   "metadata": {},
   "source": [
    "### 子集\n",
    "\n",
    "判断一个数组中的所有元素是否在另一个数组中（即不考虑顺序，判断是否为子集）\n",
    "\n",
    "下面的例子是判断a是否为b的子集："
   ]
  },
  {
   "cell_type": "code",
   "execution_count": 5,
   "metadata": {},
   "outputs": [
    {
     "data": {
      "text/plain": [
       "True"
      ]
     },
     "execution_count": 5,
     "metadata": {},
     "output_type": "execute_result"
    }
   ],
   "source": [
    "import numpy as np\n",
    "a = np.arange(3)\n",
    "b = np.arange(6)\n",
    "np.all(np.isin(a,b))"
   ]
  },
  {
   "cell_type": "code",
   "execution_count": 6,
   "metadata": {},
   "outputs": [
    {
     "data": {
      "text/plain": [
       "False"
      ]
     },
     "execution_count": 6,
     "metadata": {},
     "output_type": "execute_result"
    }
   ],
   "source": [
    "import numpy as np\n",
    "a = np.arange(3)\n",
    "b = np.array([2,3,4,5,6,7])\n",
    "np.all(np.isin(a,b))"
   ]
  },
  {
   "cell_type": "markdown",
   "metadata": {},
   "source": [
    "## 逻辑运算\n",
    "\n",
    "### where函数"
   ]
  },
  {
   "cell_type": "code",
   "execution_count": 61,
   "metadata": {
    "pycharm": {
     "name": "#%%\n"
    }
   },
   "outputs": [
    {
     "name": "stdout",
     "output_type": "stream",
     "text": [
      "[-1  1  1  1  1  1  1  1  1  1]\n",
      "[-1 -1 -1 -1 -1 -1  1  1  1  1]\n",
      "(array([2, 3, 4], dtype=int64),)\n"
     ]
    }
   ],
   "source": [
    "aa = np.arange(10)\n",
    "# np.where(condition, x, y)：满足条件(condition)，输出x，不满足输出y。\n",
    "print(np.where(aa, 1, -1))\n",
    "print(np.where(aa > 5, 1, -1))\n",
    "# np.where(condition)：只有条件 (condition)，没有x和y，则输出满足条件 (即非0) 元素的坐标\n",
    "a = np.array([2, 4, 6, 8, 10])\n",
    "print(np.where(a > 5))"
   ]
  },
  {
   "cell_type": "markdown",
   "metadata": {},
   "source": [
    "如果涉及多条件，使用python的列表生成式实现可能更方便"
   ]
  },
  {
   "cell_type": "code",
   "execution_count": 62,
   "metadata": {},
   "outputs": [
    {
     "name": "stdout",
     "output_type": "stream",
     "text": [
      "[4]\n"
     ]
    }
   ],
   "source": [
    "print([i for i in a if i>2 and i<5])"
   ]
  },
  {
   "cell_type": "markdown",
   "metadata": {},
   "source": [
    "## 时间日期\n",
    "\n",
    "从NumPy 1.7开始，有核心数组数据类型本身支持日期时间功能。数据类型称为 “datetime64” ， 因为 “datetime” 已被Python中包含的日期时间库所占用。\n",
    "\n",
    "创建日期时间的最基本方法是使用ISO 8601日期或日期时间格式的字符串。"
   ]
  },
  {
   "cell_type": "code",
   "execution_count": 6,
   "metadata": {},
   "outputs": [
    {
     "data": {
      "text/plain": [
       "numpy.datetime64('2005-02-25')"
      ]
     },
     "execution_count": 6,
     "metadata": {},
     "output_type": "execute_result"
    }
   ],
   "source": [
    "import numpy as np\n",
    "np.datetime64('2005-02-25')"
   ]
  },
  {
   "cell_type": "code",
   "execution_count": 7,
   "metadata": {},
   "outputs": [
    {
     "data": {
      "text/plain": [
       "numpy.datetime64('2005-02-25T03:30')"
      ]
     },
     "execution_count": 7,
     "metadata": {},
     "output_type": "execute_result"
    }
   ],
   "source": [
    "np.datetime64('2005-02-25T03:30')"
   ]
  },
  {
   "cell_type": "markdown",
   "metadata": {},
   "source": [
    "可以创建日期数组："
   ]
  },
  {
   "cell_type": "code",
   "execution_count": 8,
   "metadata": {},
   "outputs": [
    {
     "data": {
      "text/plain": [
       "array(['2007-07-13', '2006-01-13', '2010-08-13'], dtype='datetime64[D]')"
      ]
     },
     "execution_count": 8,
     "metadata": {},
     "output_type": "execute_result"
    }
   ],
   "source": [
    "np.array(['2007-07-13', '2006-01-13', '2010-08-13'], dtype='datetime64')"
   ]
  },
  {
   "cell_type": "code",
   "execution_count": 9,
   "metadata": {},
   "outputs": [
    {
     "data": {
      "text/plain": [
       "array(['2005-02-01', '2005-02-02', '2005-02-03', '2005-02-04',\n",
       "       '2005-02-05', '2005-02-06', '2005-02-07', '2005-02-08',\n",
       "       '2005-02-09', '2005-02-10', '2005-02-11', '2005-02-12',\n",
       "       '2005-02-13', '2005-02-14', '2005-02-15', '2005-02-16',\n",
       "       '2005-02-17', '2005-02-18', '2005-02-19', '2005-02-20',\n",
       "       '2005-02-21', '2005-02-22', '2005-02-23', '2005-02-24',\n",
       "       '2005-02-25', '2005-02-26', '2005-02-27', '2005-02-28'],\n",
       "      dtype='datetime64[D]')"
      ]
     },
     "execution_count": 9,
     "metadata": {},
     "output_type": "execute_result"
    }
   ],
   "source": [
    "np.arange('2005-02', '2005-03', dtype='datetime64[D]')"
   ]
  },
  {
   "cell_type": "markdown",
   "metadata": {},
   "source": [
    "datetime对象表示**单个时刻**。如果两个日期时间具有不同的单位，它们可能仍然代表相同的时刻，并且从较大的单位（如月份）转换为较小的单位（如天数）被视为“安全”投射，因为时刻仍然正好表示。"
   ]
  },
  {
   "cell_type": "code",
   "execution_count": 10,
   "metadata": {},
   "outputs": [
    {
     "data": {
      "text/plain": [
       "True"
      ]
     },
     "execution_count": 10,
     "metadata": {},
     "output_type": "execute_result"
    }
   ],
   "source": [
    "np.datetime64('2005') == np.datetime64('2005-01-01')"
   ]
  },
  {
   "cell_type": "code",
   "execution_count": 11,
   "metadata": {},
   "outputs": [
    {
     "name": "stderr",
     "output_type": "stream",
     "text": [
      "C:\\Users\\11445\\miniconda3\\envs\\hydrus\\lib\\site-packages\\ipykernel_launcher.py:1: DeprecationWarning: parsing timezone aware datetimes is deprecated; this will raise an error in the future\n",
      "  \"\"\"Entry point for launching an IPython kernel.\n"
     ]
    },
    {
     "data": {
      "text/plain": [
       "True"
      ]
     },
     "execution_count": 11,
     "metadata": {},
     "output_type": "execute_result"
    }
   ],
   "source": [
    "np.datetime64('2010-03-14T15Z') == np.datetime64('2010-03-14T15:00:00.00Z')"
   ]
  },
  {
   "cell_type": "markdown",
   "metadata": {},
   "source": [
    "获取年月日，根据[Get year, month or day from numpy datetime64](https://stackoverflow.com/questions/13648774/get-year-month-or-day-from-numpy-datetime64)的高赞回答："
   ]
  },
  {
   "cell_type": "code",
   "execution_count": 12,
   "metadata": {},
   "outputs": [
    {
     "name": "stdout",
     "output_type": "stream",
     "text": [
      "[2000 2000 2000 ... 2009 2009 2009]\n",
      "[ 1  1  1 ... 12 12 12]\n",
      "[ 1  2  3 ... 29 30 31]\n"
     ]
    }
   ],
   "source": [
    "dates = np.arange(np.datetime64('2000-01-01'), np.datetime64('2010-01-01'))\n",
    "years = dates.astype('datetime64[Y]').astype(int) + 1970\n",
    "months = dates.astype('datetime64[M]').astype(int) % 12 + 1\n",
    "days = dates - dates.astype('datetime64[M]') + 1\n",
    "print(years)\n",
    "print(months)\n",
    "print(days)"
   ]
  },
  {
   "cell_type": "code",
   "execution_count": 13,
   "metadata": {},
   "outputs": [
    {
     "name": "stdout",
     "output_type": "stream",
     "text": [
      "2002\n",
      "4\n"
     ]
    },
    {
     "name": "stderr",
     "output_type": "stream",
     "text": [
      "C:\\Users\\11445\\miniconda3\\envs\\hydrus\\lib\\site-packages\\ipykernel_launcher.py:1: DeprecationWarning: parsing timezone aware datetimes is deprecated; this will raise an error in the future\n",
      "  \"\"\"Entry point for launching an IPython kernel.\n"
     ]
    }
   ],
   "source": [
    "datetime64Obj = np.datetime64('2002-07-04T02:55:41-0700')\n",
    "print (datetime64Obj.astype(object).year)\n",
    "# 2002\n",
    "print (datetime64Obj.astype(object).day)\n",
    "# 4"
   ]
  },
  {
   "cell_type": "markdown",
   "metadata": {},
   "source": [
    "将numpy日期时间转为字符串："
   ]
  },
  {
   "cell_type": "code",
   "execution_count": 1,
   "metadata": {},
   "outputs": [
    {
     "data": {
      "text/plain": [
       "'2012-06-30'"
      ]
     },
     "execution_count": 1,
     "metadata": {},
     "output_type": "execute_result"
    }
   ],
   "source": [
    "import numpy as np\n",
    "t = np.datetime64('2012-06-30T20:00:00')\n",
    "np.datetime_as_string(t, unit='D')"
   ]
  },
  {
   "cell_type": "markdown",
   "metadata": {},
   "source": [
    "注意这里的字符串类型是numpy.str_，不是原生的str类型。"
   ]
  },
  {
   "cell_type": "code",
   "execution_count": 2,
   "metadata": {},
   "outputs": [
    {
     "data": {
      "text/plain": [
       "numpy.str_"
      ]
     },
     "execution_count": 2,
     "metadata": {},
     "output_type": "execute_result"
    }
   ],
   "source": [
    "type(np.datetime_as_string(t, unit='D'))"
   ]
  },
  {
   "cell_type": "code",
   "execution_count": 3,
   "metadata": {},
   "outputs": [
    {
     "data": {
      "text/plain": [
       "str"
      ]
     },
     "execution_count": 3,
     "metadata": {},
     "output_type": "execute_result"
    }
   ],
   "source": [
    "type(str(np.datetime_as_string(t, unit='D')))"
   ]
  },
  {
   "cell_type": "code",
   "execution_count": 5,
   "metadata": {},
   "outputs": [
    {
     "data": {
      "text/plain": [
       "'2012-06-30T20:00:00'"
      ]
     },
     "execution_count": 5,
     "metadata": {},
     "output_type": "execute_result"
    }
   ],
   "source": [
    "np.datetime_as_string(t)"
   ]
  },
  {
   "cell_type": "markdown",
   "metadata": {},
   "source": [
    "日期算数运算："
   ]
  },
  {
   "cell_type": "code",
   "execution_count": 73,
   "metadata": {},
   "outputs": [
    {
     "data": {
      "text/plain": [
       "numpy.timedelta64(366,'D')"
      ]
     },
     "execution_count": 73,
     "metadata": {},
     "output_type": "execute_result"
    }
   ],
   "source": [
    "import numpy as np\n",
    "np.datetime64('2009-01-01') - np.datetime64('2008-01-01')"
   ]
  },
  {
   "cell_type": "code",
   "execution_count": 74,
   "metadata": {},
   "outputs": [
    {
     "data": {
      "text/plain": [
       "numpy.datetime64('2009-01-21')"
      ]
     },
     "execution_count": 74,
     "metadata": {},
     "output_type": "execute_result"
    }
   ],
   "source": [
    "np.datetime64('2009') + np.timedelta64(20, 'D')"
   ]
  },
  {
   "cell_type": "code",
   "execution_count": 75,
   "metadata": {},
   "outputs": [
    {
     "data": {
      "text/plain": [
       "numpy.datetime64('2011-06-15T12:00')"
      ]
     },
     "execution_count": 75,
     "metadata": {},
     "output_type": "execute_result"
    }
   ],
   "source": [
    "np.datetime64('2011-06-15T00:00') + np.timedelta64(12, 'h')"
   ]
  },
  {
   "cell_type": "code",
   "execution_count": 76,
   "metadata": {},
   "outputs": [
    {
     "data": {
      "text/plain": [
       "7.0"
      ]
     },
     "execution_count": 76,
     "metadata": {},
     "output_type": "execute_result"
    }
   ],
   "source": [
    "np.timedelta64(1,'W') / np.timedelta64(1,'D')"
   ]
  },
  {
   "cell_type": "code",
   "execution_count": 77,
   "metadata": {},
   "outputs": [
    {
     "data": {
      "text/plain": [
       "numpy.timedelta64(7,'D')"
      ]
     },
     "execution_count": 77,
     "metadata": {},
     "output_type": "execute_result"
    }
   ],
   "source": [
    "np.timedelta64(1,'W') % np.timedelta64(10,'D')"
   ]
  },
  {
   "cell_type": "markdown",
   "metadata": {},
   "source": [
    "## 自定义函数\n",
    "\n",
    "在numpy中，为了加速运算，通常尽量使用内置函数，并避免使用for循环，比如可以使用apply来执行特定函数。"
   ]
  },
  {
   "cell_type": "code",
   "execution_count": 78,
   "metadata": {},
   "outputs": [
    {
     "name": "stdout",
     "output_type": "stream",
     "text": [
      "[[1 2 3]\n",
      " [4 5 6]\n",
      " [7 8 9]]\n"
     ]
    },
    {
     "data": {
      "text/plain": [
       "array([4., 5., 6.])"
      ]
     },
     "execution_count": 78,
     "metadata": {},
     "output_type": "execute_result"
    }
   ],
   "source": [
    "def my_func(a):\n",
    "    \"\"\"Average first and last element of a 1-D array\"\"\"\n",
    "    return (a[0] + a[-1]) * 0.5\n",
    "\n",
    "b = np.array([[1,2,3], [4,5,6], [7,8,9]])\n",
    "print(b)\n",
    "# 0表示第0维度的方向上的运算\n",
    "np.apply_along_axis(my_func, 0, b)"
   ]
  },
  {
   "cell_type": "code",
   "execution_count": 79,
   "metadata": {},
   "outputs": [
    {
     "data": {
      "text/plain": [
       "array([2., 5., 8.])"
      ]
     },
     "execution_count": 79,
     "metadata": {},
     "output_type": "execute_result"
    }
   ],
   "source": [
    "np.apply_along_axis(my_func, 1, b)"
   ]
  },
  {
   "cell_type": "code",
   "execution_count": 80,
   "metadata": {},
   "outputs": [
    {
     "data": {
      "text/plain": [
       "array([2., 5., 8.])"
      ]
     },
     "execution_count": 80,
     "metadata": {},
     "output_type": "execute_result"
    }
   ],
   "source": [
    "np.apply_along_axis(lambda x: (x[0] + x[-1]) * 0.5, 1, b)"
   ]
  },
  {
   "cell_type": "code",
   "execution_count": 81,
   "metadata": {},
   "outputs": [
    {
     "data": {
      "text/plain": [
       "array([2., 5., 8.])"
      ]
     },
     "execution_count": 81,
     "metadata": {},
     "output_type": "execute_result"
    }
   ],
   "source": [
    "def my_func(a):\n",
    "    \"\"\"Average first and last element of a 1-D array\"\"\"\n",
    "    x=a[0]\n",
    "    y=a[-1]\n",
    "    return (x + y) * 0.5\n",
    "\n",
    "np.apply_along_axis(my_func, 1, b)"
   ]
  }
 ],
 "metadata": {
  "kernelspec": {
   "display_name": "Python 3",
   "language": "python",
   "name": "python3"
  },
  "language_info": {
   "codemirror_mode": {
    "name": "ipython",
    "version": 3
   },
   "file_extension": ".py",
   "mimetype": "text/x-python",
   "name": "python",
   "nbconvert_exporter": "python",
   "pygments_lexer": "ipython3",
   "version": "3.7.8"
  }
 },
 "nbformat": 4,
 "nbformat_minor": 4
}
