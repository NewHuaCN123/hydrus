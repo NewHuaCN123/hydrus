{
 "cells": [
  {
   "cell_type": "markdown",
   "metadata": {},
   "source": [
    "# Numpy基本应用\n",
    "\n",
    "从基础数据结构和常见数学运算两个方面展开。目录结构主要参考[TutorialsPoint NumPy 教程](https://legacy.gitbook.com/book/wizardforcel/ts-numpy-tut/details)。\n",
    "\n",
    "基本思路是：\n",
    "\n",
    "1. 首先需要定义数据结构并初始化，这是一切运算的基础；\n",
    "2. 其次针对基本的数据结构有一些常用的基本操作，包括索引，变形操作等；\n",
    "3. 最后是基于这些数据结构的数学运算，包括统计的，算术的，逻辑的，集合的，时间等其他类型的等等多方面(这部分内容放在另一个文件中)\n",
    "\n",
    "## 数据结构及操作\n",
    "\n",
    "### 向量、矩阵初始化"
   ]
  },
  {
   "cell_type": "code",
   "execution_count": 1,
   "metadata": {
    "pycharm": {
     "is_executing": false,
     "name": "#%%\n"
    }
   },
   "outputs": [
    {
     "name": "stdout",
     "output_type": "stream",
     "text": [
      "[ 0.49671415 -0.1382643   0.64768854]\n",
      "[ 0.49671415 -0.1382643   0.64768854]\n",
      "[[ 0.49671415]\n",
      " [-0.1382643 ]\n",
      " [ 0.64768854]]\n",
      "[[[0. 0. 0.]\n",
      "  [0. 0. 0.]]\n",
      "\n",
      " [[0. 0. 0.]\n",
      "  [0. 0. 0.]]]\n"
     ]
    }
   ],
   "source": [
    "import numpy as np\n",
    "\"\"\"numpy向量\"\"\"\n",
    "# NumPy向量默认行向量\n",
    "features = np.array([0.49671415, -0.1382643, 0.64768854])\n",
    "print(features)\n",
    "# 对于一维数组，转置之后仍为一维数组\n",
    "print(features.T)\n",
    "# 可以用array[:,None]来创建列向量\n",
    "print(features[:, None])\n",
    "# 使用zeros初始化\n",
    "all_zeros = np.zeros([2,2,3])\n",
    "print(all_zeros)"
   ]
  },
  {
   "cell_type": "markdown",
   "metadata": {},
   "source": [
    "和zeros不同, empty并不将数组值设置为0，因此其比zeros稍微快一些；\n",
    "另一方面，需要用户手动设置数组中的所有值，所以使用的时候要小心。\n",
    "\n",
    "full函数可以指定用某个值填充若干大小的数组。\n",
    "\n",
    "还可以使用arange进行初始化。"
   ]
  },
  {
   "cell_type": "code",
   "execution_count": 2,
   "metadata": {
    "pycharm": {
     "name": "#%%\n"
    }
   },
   "outputs": [
    {
     "name": "stdout",
     "output_type": "stream",
     "text": [
      "[[4.67296746e-307 1.69121096e-306]\n",
      " [1.37962592e-306 1.11257937e-307]]\n",
      "[[-2007272825  1757634786]\n",
      " [ -736514949 -2036393483]]\n",
      "[nan nan nan nan nan nan nan nan nan nan]\n",
      "[[nan nan]\n",
      " [nan nan]\n",
      " [nan nan]\n",
      " [nan nan]\n",
      " [nan nan]\n",
      " [nan nan]\n",
      " [nan nan]\n",
      " [nan nan]\n",
      " [nan nan]\n",
      " [nan nan]]\n",
      "['yes' 'yes' 'yes' 'yes' 'yes' 'yes' 'yes' 'yes' 'yes' 'yes']\n",
      "[0 1 2]\n",
      "[0. 1. 2.]\n",
      "[3 5]\n"
     ]
    }
   ],
   "source": [
    "import numpy as np\n",
    "e1=np.empty([2, 2])  #uninitialized\n",
    "print(e1)\n",
    "e2=np.empty([2, 2], dtype=int)  #uninitialized\n",
    "print(e2)\n",
    "\n",
    "out = np.full([10], np.nan)\n",
    "print(out)\n",
    "out = np.full([10,2], np.nan)\n",
    "print(out)\n",
    "out = np.full([10], 'yes')\n",
    "print(out)\n",
    "# arange：numpy.arange([start, ]stop, [step, ]dtype=None)\n",
    "print(np.arange(3))\n",
    "print(np.arange(3.0))\n",
    "print(np.arange(3,7,2))"
   ]
  },
  {
   "cell_type": "markdown",
   "metadata": {},
   "source": [
    "linespace是生成等差数列的好方法，注意是闭区间"
   ]
  },
  {
   "cell_type": "code",
   "execution_count": 4,
   "metadata": {},
   "outputs": [
    {
     "data": {
      "text/plain": [
       "array([2.  , 2.25, 2.5 , 2.75, 3.  ])"
      ]
     },
     "execution_count": 4,
     "metadata": {},
     "output_type": "execute_result"
    }
   ],
   "source": [
    "np.linspace(2.0, 3.0, num=5)"
   ]
  },
  {
   "cell_type": "code",
   "execution_count": 6,
   "metadata": {},
   "outputs": [
    {
     "data": {
      "text/plain": [
       "[<matplotlib.lines.Line2D at 0x234a06d9748>]"
      ]
     },
     "execution_count": 6,
     "metadata": {},
     "output_type": "execute_result"
    },
    {
     "data": {
      "image/png": "[encoded data removed]",
      "text/plain": [
       "<Figure size 432x288 with 1 Axes>"
      ]
     },
     "metadata": {
      "needs_background": "light"
     },
     "output_type": "display_data"
    }
   ],
   "source": [
    "import matplotlib.pyplot as plt\n",
    "N = 8\n",
    "y = np.zeros(N)\n",
    "x1 = np.linspace(0, 10, N, endpoint=True)\n",
    "x2 = np.linspace(0, 10, N, endpoint=False)\n",
    "plt.plot(x1, y, 'o')\n",
    "plt.plot(x2, y + 0.5, 'o')"
   ]
  },
  {
   "cell_type": "markdown",
   "metadata": {
    "pycharm": {
     "name": "#%% md\n"
    }
   },
   "source": [
    "astype函数是对array的copy，指定到一个特定的数据类型。\n"
   ]
  },
  {
   "cell_type": "code",
   "execution_count": 3,
   "metadata": {
    "pycharm": {
     "is_executing": false,
     "name": "#%%\n"
    }
   },
   "outputs": [
    {
     "data": {
      "text/plain": [
       "array([1, 2, 2])"
      ]
     },
     "execution_count": 3,
     "metadata": {},
     "output_type": "execute_result"
    }
   ],
   "source": [
    "x = np.array([1, 2, 2.5])\n",
    "x.astype(int)"
   ]
  },
  {
   "cell_type": "markdown",
   "metadata": {},
   "source": [
    "如果是初始化多维数据，那么使用grid类的函数是不错的选择。比如mgrid可以快速生成一个三维数组。"
   ]
  },
  {
   "cell_type": "code",
   "execution_count": 1,
   "metadata": {},
   "outputs": [
    {
     "data": {
      "text/plain": [
       "array([[[0, 0, 0, 0, 0],\n",
       "        [1, 1, 1, 1, 1],\n",
       "        [2, 2, 2, 2, 2],\n",
       "        [3, 3, 3, 3, 3],\n",
       "        [4, 4, 4, 4, 4]],\n",
       "\n",
       "       [[0, 1, 2, 3, 4],\n",
       "        [0, 1, 2, 3, 4],\n",
       "        [0, 1, 2, 3, 4],\n",
       "        [0, 1, 2, 3, 4],\n",
       "        [0, 1, 2, 3, 4]]])"
      ]
     },
     "execution_count": 1,
     "metadata": {},
     "output_type": "execute_result"
    }
   ],
   "source": [
    "import numpy as np\n",
    "np.mgrid[0:5,0:5]"
   ]
  },
  {
   "cell_type": "code",
   "execution_count": 6,
   "metadata": {},
   "outputs": [
    {
     "data": {
      "text/plain": [
       "array([[-3., -3., -3., -3., -3.],\n",
       "       [ 2.,  2.,  2.,  2.,  2.]])"
      ]
     },
     "execution_count": 6,
     "metadata": {},
     "output_type": "execute_result"
    }
   ],
   "source": [
    "N=5\n",
    "X, Y = np.mgrid[-3:3:5, -2:2:complex(0, N)]\n",
    "X"
   ]
  },
  {
   "cell_type": "markdown",
   "metadata": {},
   "source": [
    "用复数的形式可以生成两个方向的元素"
   ]
  },
  {
   "cell_type": "code",
   "execution_count": 5,
   "metadata": {},
   "outputs": [
    {
     "data": {
      "text/plain": [
       "array([[-2., -1.,  0.,  1.,  2.],\n",
       "       [-2., -1.,  0.,  1.,  2.],\n",
       "       [-2., -1.,  0.,  1.,  2.],\n",
       "       [-2., -1.,  0.,  1.,  2.],\n",
       "       [-2., -1.,  0.,  1.,  2.]])"
      ]
     },
     "execution_count": 5,
     "metadata": {},
     "output_type": "execute_result"
    }
   ],
   "source": [
    "Y"
   ]
  },
  {
   "cell_type": "markdown",
   "metadata": {},
   "source": [
    "有时候也会遇到ndarray和list需要相互转化的情况，list转为ndarray就很简单了，就直接np.array即可，反过来转也很容易："
   ]
  },
  {
   "cell_type": "code",
   "execution_count": 4,
   "metadata": {},
   "outputs": [
    {
     "data": {
      "text/plain": [
       "[3.234, 34.0, 3.777, 6.33]"
      ]
     },
     "execution_count": 4,
     "metadata": {},
     "output_type": "execute_result"
    }
   ],
   "source": [
    "import numpy as np\n",
    "a=[3.234,34,3.777,6.33]\n",
    "a= np.array(a)\n",
    "a.tolist()"
   ]
  },
  {
   "cell_type": "markdown",
   "metadata": {},
   "source": [
    "日期总是个麻烦的事情，但是很重要的数据类型,numpy也提供了很方便处理日期的工具"
   ]
  },
  {
   "cell_type": "code",
   "execution_count": 1,
   "metadata": {},
   "outputs": [
    {
     "name": "stdout",
     "output_type": "stream",
     "text": [
      "2005-02-25\n",
      "2005-02\n",
      "2005-02-01\n",
      "2005-02-25T03:30\n",
      "['2007-07-13' '2006-01-13' '2010-08-13']\n",
      "['2001-01-01T12:00:00.000' '2002-02-03T13:56:03.172']\n",
      "['2005-02-01' '2005-02-02' '2005-02-03' '2005-02-04' '2005-02-05'\n",
      " '2005-02-06' '2005-02-07' '2005-02-08' '2005-02-09' '2005-02-10'\n",
      " '2005-02-11' '2005-02-12' '2005-02-13' '2005-02-14' '2005-02-15'\n",
      " '2005-02-16' '2005-02-17' '2005-02-18' '2005-02-19' '2005-02-20'\n",
      " '2005-02-21' '2005-02-22' '2005-02-23' '2005-02-24' '2005-02-25'\n",
      " '2005-02-26' '2005-02-27' '2005-02-28']\n",
      "['1995' '1996' '1997' '1998' '1999']\n",
      "['1995' '1996' '1997' '1998' '1999']\n",
      "True\n",
      "True\n"
     ]
    },
    {
     "name": "stderr",
     "output_type": "stream",
     "text": [
      "C:\\Users\\hust2\\.conda\\envs\\hydrus\\lib\\site-packages\\ipykernel_launcher.py:12: DeprecationWarning: parsing timezone aware datetimes is deprecated; this will raise an error in the future\n",
      "  if sys.path[0] == '':\n"
     ]
    }
   ],
   "source": [
    "import numpy as np\n",
    "print(np.datetime64('2005-02-25'))\n",
    "print(np.datetime64('2005-02'))\n",
    "print(np.datetime64('2005-02', 'D'))\n",
    "print(np.datetime64('2005-02-25T03:30'))\n",
    "print(np.array(['2007-07-13', '2006-01-13', '2010-08-13'], dtype='datetime64'))\n",
    "print(np.array(['2001-01-01T12:00', '2002-02-03T13:56:03.172'], dtype='datetime64'))\n",
    "print(np.arange('2005-02', '2005-03', dtype='datetime64[D]'))\n",
    "print(np.arange('1995-01-01', '2000-01-01', dtype='datetime64[Y]'))\n",
    "print(np.arange('1995-01-01', '2000-01-01', dtype='datetime64[Y]').astype(str))\n",
    "print(np.datetime64('2005') == np.datetime64('2005-01-01'))\n",
    "print(np.datetime64('2010-03-14T15Z') == np.datetime64('2010-03-14T15:00:00.00Z'))"
   ]
  },
  {
   "cell_type": "markdown",
   "metadata": {},
   "source": [
    "关于日期运算，通常结合timedelta"
   ]
  },
  {
   "cell_type": "code",
   "execution_count": 1,
   "metadata": {},
   "outputs": [
    {
     "name": "stdout",
     "output_type": "stream",
     "text": [
      "366 days\n",
      "2009-01-21\n",
      "2011-06-15T12:00\n",
      "7.0\n",
      "2.0\n"
     ]
    }
   ],
   "source": [
    "import numpy as np\n",
    "print(np.datetime64('2009-01-01') - np.datetime64('2008-01-01'))\n",
    "print(np.datetime64('2009') + np.timedelta64(20, 'D'))\n",
    "print(np.datetime64('2011-06-15T00:00') + np.timedelta64(12, 'h'))\n",
    "print(np.timedelta64(1,'W') / np.timedelta64(1,'D'))\n",
    "# 计算年数\n",
    "print((np.datetime64('2010') - np.datetime64('2008'))/np.timedelta64(1,'Y'))"
   ]
  },
  {
   "cell_type": "markdown",
   "metadata": {},
   "source": [
    "还有比较常用的日期和字符串转换"
   ]
  },
  {
   "cell_type": "code",
   "execution_count": 2,
   "metadata": {},
   "outputs": [
    {
     "name": "stdout",
     "output_type": "stream",
     "text": [
      "['2002-10-27T04:30' '2002-10-27T05:30' '2002-10-27T06:30'\n",
      " '2002-10-27T07:30']\n"
     ]
    },
    {
     "data": {
      "text/plain": [
       "array(['2002-10-27T04:30Z', '2002-10-27T05:30Z', '2002-10-27T06:30Z',\n",
       "       '2002-10-27T07:30Z'], dtype='<U35')"
      ]
     },
     "execution_count": 2,
     "metadata": {},
     "output_type": "execute_result"
    }
   ],
   "source": [
    "import pytz\n",
    "d = np.arange('2002-10-27T04:30', 4*60, 60, dtype='M8[m]')\n",
    "print(d)\n",
    "np.datetime_as_string(d, timezone='UTC')"
   ]
  },
  {
   "cell_type": "code",
   "execution_count": 9,
   "metadata": {},
   "outputs": [
    {
     "data": {
      "text/plain": [
       "array(['1995-01-01', '1995-01-02', '1995-01-01', '1995-01-02'],\n",
       "      dtype='datetime64[D]')"
      ]
     },
     "execution_count": 9,
     "metadata": {},
     "output_type": "execute_result"
    }
   ],
   "source": [
    "t1=('1995-01-01T00:00:00','1995-01-02T00:00:00','1995-01-01T00:00:00','1995-01-02T00:00:00')\n",
    "t2=np.array(t1,dtype='datetime64[D]')\n",
    "t2"
   ]
  },
  {
   "cell_type": "markdown",
   "metadata": {},
   "source": [
    "numpy数组比较的时候和list略有不同"
   ]
  },
  {
   "cell_type": "code",
   "execution_count": 1,
   "metadata": {},
   "outputs": [
    {
     "data": {
      "text/plain": [
       "True"
      ]
     },
     "execution_count": 1,
     "metadata": {},
     "output_type": "execute_result"
    }
   ],
   "source": [
    "a = [1,2,3]\n",
    "b = [1,2,3]\n",
    "a==b"
   ]
  },
  {
   "cell_type": "code",
   "execution_count": 2,
   "metadata": {},
   "outputs": [
    {
     "data": {
      "text/plain": [
       "array([ True,  True,  True])"
      ]
     },
     "execution_count": 2,
     "metadata": {},
     "output_type": "execute_result"
    }
   ],
   "source": [
    "import numpy as np\n",
    "a = np.array(a)\n",
    "b = np.array(b)\n",
    "a==b"
   ]
  },
  {
   "cell_type": "code",
   "execution_count": 3,
   "metadata": {},
   "outputs": [
    {
     "data": {
      "text/plain": [
       "True"
      ]
     },
     "execution_count": 3,
     "metadata": {},
     "output_type": "execute_result"
    }
   ],
   "source": [
    "(a==b).all()"
   ]
  },
  {
   "cell_type": "code",
   "execution_count": 5,
   "metadata": {},
   "outputs": [
    {
     "data": {
      "text/plain": [
       "True"
      ]
     },
     "execution_count": 5,
     "metadata": {},
     "output_type": "execute_result"
    }
   ],
   "source": [
    "b=np.array([1,2,4])\n",
    "(a==b).any()"
   ]
  },
  {
   "cell_type": "code",
   "execution_count": 6,
   "metadata": {},
   "outputs": [
    {
     "data": {
      "text/plain": [
       "False"
      ]
     },
     "execution_count": 6,
     "metadata": {},
     "output_type": "execute_result"
    }
   ],
   "source": [
    "(a==b).all()"
   ]
  },
  {
   "cell_type": "markdown",
   "metadata": {},
   "source": [
    "list中有多个numpy数组，flat成一个一维numpy数组的方式："
   ]
  },
  {
   "cell_type": "code",
   "execution_count": 1,
   "metadata": {},
   "outputs": [
    {
     "data": {
      "text/plain": [
       "[array([0, 1]), array([0, 1, 2]), array([0, 1, 2, 3])]"
      ]
     },
     "execution_count": 1,
     "metadata": {},
     "output_type": "execute_result"
    }
   ],
   "source": [
    "import numpy as np\n",
    "a1= [np.arange(2),np.arange(3),np.arange(4)]\n",
    "a1"
   ]
  },
  {
   "cell_type": "code",
   "execution_count": 10,
   "metadata": {},
   "outputs": [
    {
     "data": {
      "text/plain": [
       "array([0, 0, 0, 1, 1, 1, 2, 2, 3])"
      ]
     },
     "execution_count": 10,
     "metadata": {},
     "output_type": "execute_result"
    }
   ],
   "source": [
    "from functools import reduce\n",
    "# a2=reduce(lambda x,y: np.hstack((x,y)),a1)\n",
    "# 如果需要排序：\n",
    "a2=np.sort(reduce(lambda x,y: np.hstack((x,y)),a1))\n",
    "a2"
   ]
  },
  {
   "cell_type": "markdown",
   "metadata": {
    "pycharm": {
     "name": "#%% md\n"
    }
   },
   "source": [
    "### 切片与索引\n",
    "\n",
    "ndarray对象的内容可以通过索引或切片来访问和修改，就像 Python 的内置容器对象一样。\n",
    "\n",
    "ndarray对象中的元素遵循基于零的索引。 有三种可用的索引方法类型： 字段访问，基本切片和高级索引。\n",
    "\n",
    "#### 基本切片\n",
    "\n",
    "Numpy 中多维数组的切片操作与 Python 中 list 的切片操作一样，同样由 start, stop, step 三个部分组成;\n",
    "如果是多维数组，将不同维度上的切片操作用 逗号 分开就好了."
   ]
  },
  {
   "cell_type": "code",
   "execution_count": 3,
   "metadata": {},
   "outputs": [
    {
     "name": "stdout",
     "output_type": "stream",
     "text": [
      "array is: [3 4 5 6]\n",
      "array is: [ 0  1  2  3  4  5  6  7  8  9 10 11]\n",
      "slice begins at 0 and ends at 4 is: [0 1 2 3]\n",
      "slice begins at 7 and ends at 10 is: [7 8 9]\n",
      "slice at 8 and 7 is: [8 7]\n",
      "slice begins at 0 and ends at 12 with step 4 is: [0 4 8]\n",
      "array is:\n",
      "[[ 0  1  2  3]\n",
      " [ 4  5  6  7]\n",
      " [ 8  9 10 11]]\n",
      "first slice is:\n",
      "[[5 6]]\n",
      "second slice is:\n",
      "[[ 0  2]\n",
      " [ 4  6]\n",
      " [ 8 10]]\n"
     ]
    }
   ],
   "source": [
    "import numpy as np\n",
    "arr = np.arange(3,7)\n",
    "print ('array is:', arr)\n",
    "\n",
    "arr = np.arange(12)\n",
    "print ('array is:', arr)\n",
    "\n",
    "slice_one = arr[:4]\n",
    "print ('slice begins at 0 and ends at 4 is:', slice_one)\n",
    "\n",
    "slice_two = arr[7:10]\n",
    "print( 'slice begins at 7 and ends at 10 is:', slice_two)\n",
    "slice_two_unsort = arr[[8,7]]\n",
    "print( 'slice at 8 and 7 is:', slice_two_unsort)\n",
    "\n",
    "slice_three = arr[0:12:4]\n",
    "print( 'slice begins at 0 and ends at 12 with step 4 is:', slice_three)\n",
    "\n",
    "arr = np.arange(12).reshape((3, 4))\n",
    "print ('array is:')\n",
    "print (arr)\n",
    "\n",
    "# 取第一维的索引 1 到索引 2 之间的元素，也就是第二行\n",
    "# 取第二维的索引 1 到索引 3 之间的元素，也就是第二列和第三列\n",
    "slice_one = arr[1:2, 1:3]\n",
    "print ('first slice is:')\n",
    "print (slice_one)\n",
    "\n",
    "# 取第一维的全部\n",
    "# 按步长为 2 取第二维的索引 0 到末尾 之间的元素，也就是第一列和第三列\n",
    "slice_two = arr[:, ::2]\n",
    "print( 'second slice is:')\n",
    "print (slice_two)"
   ]
  },
  {
   "cell_type": "markdown",
   "metadata": {},
   "source": [
    "#### 基本索引\n",
    "\n",
    "对于一个多维数组来说，最简单的情况就是访问其中一个特定位置的元素了.\n",
    "\n",
    "事实上，在 Numpy 的索引操作方式 `x = arr[obj]` 中， obj 不仅仅可以是一个用逗号分隔开的数字序列，还可以是更复杂的内容。这里介绍用逗号分隔的数组序列，其余在高级索引中见。注意两点：\n",
    "\n",
    "- 序列的长度和多维数组的维数要一致\n",
    "- 序列中每个数组的长度要一致"
   ]
  },
  {
   "cell_type": "code",
   "execution_count": 11,
   "metadata": {},
   "outputs": [
    {
     "name": "stdout",
     "output_type": "stream",
     "text": [
      "第二行第二列的值: 4\n",
      "list indices must be integers or slices, not tuple\n",
      "对应坐标(0,3)和(2,1)的数据： [4 6]\n",
      "多个点坐标对应数据： [1 4 5]\n",
      "[[0 2]\n",
      " [3 1]\n",
      " [3 3]]\n",
      "[[0 3 3]\n",
      " [2 1 3]]\n",
      "[ 3  8 16]\n",
      "数组c：： [[ 0  1  2  3]\n",
      " [ 4  5  6  7]\n",
      " [ 8  9 10 11]\n",
      " [12 13 14 15]]\n",
      "第0和2行的第2,3列数字： [[ 2  3]\n",
      " [10 11]]\n"
     ]
    }
   ],
   "source": [
    "import numpy as np\n",
    "arr = [\n",
    "    [1, 2, 3, 4],\n",
    "    [2, 4, 6, 8],\n",
    "    [3, 6, 9, 12],\n",
    "    [4, 8, 12, 16]\n",
    "]\n",
    "print( '第二行第二列的值:', arr[1][1])\n",
    "try:\n",
    "    print ('第二行第二列的值(尝试用 Numpy 的方式获取):', arr[1, 1])\n",
    "except Exception as e:\n",
    "    print (str(e))\n",
    "\n",
    "arr = np.array([\n",
    "    [1, 2, 3, 4],\n",
    "    [2, 4, 6, 8],\n",
    "    [3, 6, 9, 12],\n",
    "    [4, 8, 12, 16]\n",
    "])\n",
    "\n",
    "print(\"对应坐标(0,3)和(2,1)的数据：\",arr[[0, 2], [3, 1]])\n",
    "# 但是这种索引超过两个就会报错\n",
    "# print( arr[[0, 2], [3, 1],[3,3]])\n",
    "# 所以如果想索引多个坐标的点，如下所示\n",
    "x = np.array([[1,  2],  [3,  4],  [5,  6]]) \n",
    "y = x[[0,1,2],  [0,1,0]]  \n",
    "print (\"多个点坐标对应数据：\",y)\n",
    "\n",
    "# 因此对于arr，[0, 2], [3, 1],[3,3]\n",
    "index=np.array([(0, 2), (3, 1),(3,3)])\n",
    "print(index)\n",
    "index=index.T\n",
    "print(index)\n",
    "print(arr[index[0],index[1]])\n",
    "\n",
    "# 取某几行某几列数据\n",
    "c=np.arange(16).reshape(4,4)\n",
    "C_A = c[[0,2]]    #先取出想要的行数据\n",
    "C_A = C_A[:,[2,3]] #再取出要求的列数据\n",
    "print(\"数组c：：\",c) #输出原数组\n",
    "print(\"第0和2行的第2,3列数字：\",C_A) #输出最终结果"
   ]
  },
  {
   "cell_type": "markdown",
   "metadata": {},
   "source": [
    "补充一点高维数组的索引"
   ]
  },
  {
   "cell_type": "code",
   "execution_count": 12,
   "metadata": {},
   "outputs": [
    {
     "name": "stdout",
     "output_type": "stream",
     "text": [
      "[[[ 0  1  2]\n",
      "  [ 3  4  5]\n",
      "  [ 6  7  8]]\n",
      "\n",
      " [[ 9 10 11]\n",
      "  [12 13 14]\n",
      "  [15 16 17]]\n",
      "\n",
      " [[18 19 20]\n",
      "  [21 22 23]\n",
      "  [24 25 26]]]\n",
      "\n",
      "\n",
      "[[ 0  5]\n",
      " [ 9 14]\n",
      " [18 23]]\n",
      "\n",
      "\n",
      "[[ 0  1  2]\n",
      " [15 16 17]]\n",
      "\n",
      "\n",
      "[ 2.5 11.5 20.5]\n"
     ]
    }
   ],
   "source": [
    "import numpy as np\n",
    "arr3d=np.arange(27).reshape(3,3,3)\n",
    "print(arr3d)\n",
    "# 索引所有第一维的指定第二三维数据，如下，找所有二维数组中，索引为[0,0]和[1,2]两个点，也就是[0,5], [9,14]和[18,23]\n",
    "index1=[0,1]\n",
    "index2=[0,2]\n",
    "print('\\n')\n",
    "# 这条是符合上面注释要求的索引方式\n",
    "print(arr3d[:,index1,index2])\n",
    "# 注意下面这种索引和上面这条是不同的\n",
    "print('\\n')\n",
    "print(arr3d[:][index1,index2])\n",
    "\n",
    "arr_index=arr3d[:,index1,index2]\n",
    "#  对第二维度的每个数求平均\n",
    "arr_mean = np.mean(arr_index, axis=1)\n",
    "print('\\n')\n",
    "print(arr_mean)"
   ]
  },
  {
   "cell_type": "markdown",
   "metadata": {
    "pycharm": {
     "name": "#%% md\n"
    }
   },
   "source": [
    "#### 高级索引\n",
    "\n",
    "如果一个ndarray是非元组序列，数据类型为整数或布尔值的ndarray，或者至少一个元素为序列对象的元组，我们就能够用它来索引ndarray。\n",
    "高级索引始终返回数据的副本。 与此相反，切片只提供了一个视图。\n",
    "\n",
    "有两种类型的高级索引：整数和布尔值。"
   ]
  },
  {
   "cell_type": "code",
   "execution_count": 13,
   "metadata": {
    "pycharm": {
     "is_executing": false,
     "name": "#%%\n"
    }
   },
   "outputs": [
    {
     "name": "stdout",
     "output_type": "stream",
     "text": [
      "我们的数组是：\n",
      "[[ 0  1  2]\n",
      " [ 3  4  5]\n",
      " [ 6  7  8]\n",
      " [ 9 10 11]]\n",
      "\n",
      "\n",
      "大于 5 的元素是：\n",
      "[ 6  7  8  9 10 11]\n",
      "过滤NaN值\n",
      "[[0]\n",
      " [3]]\n",
      "非nan的数据: [1. 2. 3. 4. 5.]\n",
      "条件判断： [3. 4. 5.]\n"
     ]
    },
    {
     "name": "stderr",
     "output_type": "stream",
     "text": [
      "<ipython-input-13-6e754f2c48a7>:16: RuntimeWarning: invalid value encountered in greater\n",
      "  print(\"条件判断：\",a[np.where(a > 2)])\n"
     ]
    }
   ],
   "source": [
    "# 布尔值做索引\n",
    "import numpy as np \n",
    "x = np.array([[  0,  1,  2],[  3,  4,  5],[  6,  7,  8],[  9,  10,  11]])  \n",
    "print('我们的数组是：')\n",
    "print(x)\n",
    "print ('\\n')\n",
    "# 现在我们会打印出大于 5 的元素  \n",
    "print('大于 5 的元素是：')\n",
    "print (x[x >  5])\n",
    "\n",
    "# 使用取补运算符来过滤NaN。\n",
    "print('过滤NaN值')\n",
    "a = np.array([np.nan,  1,2,np.nan,3,4,5])  \n",
    "print(np.argwhere(np.isnan(a)))\n",
    "print(\"非nan的数据:\",a[~np.isnan(a)])\n",
    "print(\"条件判断：\",a[np.where(a > 2)])"
   ]
  },
  {
   "cell_type": "markdown",
   "metadata": {},
   "source": [
    "补充一个例子，两个无重复的数组，找出其中一个数组的各个元素，在另一个元素中的位置"
   ]
  },
  {
   "cell_type": "code",
   "execution_count": 10,
   "metadata": {},
   "outputs": [
    {
     "data": {
      "text/plain": [
       "array([7, 0, 3], dtype=int64)"
      ]
     },
     "execution_count": 10,
     "metadata": {},
     "output_type": "execute_result"
    }
   ],
   "source": [
    "import numpy as np\n",
    "a = np.array([3,2,5,1,6,7,8,4])\n",
    "b = np.array([4,3,1])\n",
    "index = np.array([np.where(a==i) for i in b]).flatten()\n",
    "index"
   ]
  },
  {
   "cell_type": "markdown",
   "metadata": {},
   "source": [
    "如果有些元素不存在于a中，那么这种方式会得到一个array容器，如下所示："
   ]
  },
  {
   "cell_type": "code",
   "execution_count": 11,
   "metadata": {},
   "outputs": [
    {
     "data": {
      "text/plain": [
       "array([array([7], dtype=int64), array([0], dtype=int64),\n",
       "       array([3], dtype=int64), array([], dtype=int64)], dtype=object)"
      ]
     },
     "execution_count": 11,
     "metadata": {},
     "output_type": "execute_result"
    }
   ],
   "source": [
    "b1 = np.array([4,3,1,10])\n",
    "index = np.array([np.where(a==i) for i in b1]).flatten()\n",
    "index"
   ]
  },
  {
   "cell_type": "markdown",
   "metadata": {},
   "source": [
    "那不是我们想要的结果，这时候可以使用另一种方法--intersect1d，即找到相交的元素"
   ]
  },
  {
   "cell_type": "code",
   "execution_count": 16,
   "metadata": {},
   "outputs": [
    {
     "name": "stdout",
     "output_type": "stream",
     "text": [
      "[1 3 4]\n",
      "[3 0 7]\n",
      "[2 1 0]\n"
     ]
    }
   ],
   "source": [
    "xy, x_ind, y_ind = np.intersect1d(a, b1, return_indices=True)\n",
    "print(xy)\n",
    "print(x_ind)\n",
    "print(y_ind)"
   ]
  },
  {
   "cell_type": "markdown",
   "metadata": {},
   "source": [
    "注意这种方法，如果a和b中重复元素的顺序不一样，那是不能直接在a上用相交得到的索引去完全获取b的，也就是a[x_ind]是得不到b的："
   ]
  },
  {
   "cell_type": "code",
   "execution_count": 17,
   "metadata": {},
   "outputs": [
    {
     "data": {
      "text/plain": [
       "array([1, 3, 4])"
      ]
     },
     "execution_count": 17,
     "metadata": {},
     "output_type": "execute_result"
    }
   ],
   "source": [
    "a[x_ind]"
   ]
  },
  {
   "cell_type": "markdown",
   "metadata": {},
   "source": [
    "这时候如果想通过a和x_ind还想得到b，可以使用："
   ]
  },
  {
   "cell_type": "code",
   "execution_count": 18,
   "metadata": {},
   "outputs": [
    {
     "data": {
      "text/plain": [
       "array([4, 3, 1, 0])"
      ]
     },
     "execution_count": 18,
     "metadata": {},
     "output_type": "execute_result"
    }
   ],
   "source": [
    "c=np.zeros(b1.size)\n",
    "c[y_ind]=a[x_ind]\n",
    "c.astype(int)"
   ]
  },
  {
   "cell_type": "markdown",
   "metadata": {},
   "source": [
    "同理，想要恢复在a中的顺序："
   ]
  },
  {
   "cell_type": "code",
   "execution_count": 19,
   "metadata": {},
   "outputs": [
    {
     "data": {
      "text/plain": [
       "array([3, 0, 0, 1, 0, 0, 0, 4])"
      ]
     },
     "execution_count": 19,
     "metadata": {},
     "output_type": "execute_result"
    }
   ],
   "source": [
    "d=np.zeros(a.size)\n",
    "d[x_ind]=b1[y_ind]\n",
    "d.astype(int)"
   ]
  },
  {
   "cell_type": "markdown",
   "metadata": {},
   "source": [
    "切记，相交之后，相交的结果是排过序的，否则后面如果用到前面的结果是很可能犯错的。"
   ]
  },
  {
   "cell_type": "markdown",
   "metadata": {},
   "source": [
    "利用argwhere可以对元素进行条件判断，比如找到non-zero元素在array中的索引,一行一行地逐个元素确认。np.argwhere(a)和np.transpose(np.nonzero(a))一样。\n",
    "\n",
    "argwhere输出不适用于indexing数组。 如果要索引数组，使用nonzero(a)。"
   ]
  },
  {
   "cell_type": "code",
   "execution_count": 14,
   "metadata": {},
   "outputs": [
    {
     "name": "stdout",
     "output_type": "stream",
     "text": [
      "非0个数： 2\n",
      "2\n",
      "(array([1, 2], dtype=int64),)\n"
     ]
    }
   ],
   "source": [
    "import numpy as np\n",
    "#a是1维数组\n",
    "a = [0,2,3]\n",
    "num_non_zero=np.count_nonzero(a)\n",
    "print(\"非0个数：\",num_non_zero)\n",
    "b = np.nonzero(a)\n",
    "print(np.array(b).ndim)\n",
    "print(b)"
   ]
  },
  {
   "cell_type": "code",
   "execution_count": 15,
   "metadata": {
    "pycharm": {
     "name": "#%%\n"
    },
    "scrolled": true
   },
   "outputs": [
    {
     "name": "stdout",
     "output_type": "stream",
     "text": [
      "[[0 1 2]\n",
      " [3 4 5]]\n",
      "[[0 2]\n",
      " [1 0]\n",
      " [1 1]\n",
      " [1 2]]\n",
      "[[1]\n",
      " [1]\n",
      " [2]\n",
      " [2]\n",
      " [3]\n",
      " [3]\n",
      " [4]\n",
      " [4]]\n",
      "[[2]\n",
      " [2]]\n"
     ]
    }
   ],
   "source": [
    "x = np.arange(6).reshape(2,3)\n",
    "print(x)\n",
    "print(np.argwhere(x>1))\n",
    "list1=np.array([1,1,2,2,3,3,4,4]).reshape(8,1)\n",
    "print(list1)\n",
    "list2=np.array([2,4])\n",
    "list3=list1[np.where(list1[:,0]==2)]\n",
    "print(list3)"
   ]
  },
  {
   "cell_type": "markdown",
   "metadata": {},
   "source": [
    "numpy.unravel_index(indices, dims)函数返回indices中的元素在维度为dims的数组中的索引值，默认按元组的形式返回。那下面的例子是什么意思呢？\n",
    "\n",
    "参考博文[numpy.unravel_index 函数功能说明](https://blog.csdn.net/qq_39366624/article/details/79918937)\n",
    "\n",
    "第一行代码其过程类似：首先构造一个数组arr1=np.array(range(7*6)).reshape((7,6));返回indices中的元素值在数组arr1中对应值的索引位置。[3, 6, 6]分别对应[22, 41, 37]在第1维中的位置，[4, 5, 1]分别对应[22, 41, 37]在2维中的位置。\n",
    "\n",
    "第二行代码则是column-major (Fortran-style) order的。关于row-major和column-major，下面一张来自wiki百科的图可以轻松了解\n",
    "\n",
    "![Row- and column-major order](170px-Row_and_column_major_order.png)"
   ]
  },
  {
   "cell_type": "code",
   "execution_count": 16,
   "metadata": {},
   "outputs": [
    {
     "name": "stdout",
     "output_type": "stream",
     "text": [
      "[[ 0  1  2  3  4  5]\n",
      " [ 6  7  8  9 10 11]\n",
      " [12 13 14 15 16 17]\n",
      " [18 19 20 21 22 23]\n",
      " [24 25 26 27 28 29]\n",
      " [30 31 32 33 34 35]\n",
      " [36 37 38 39 40 41]]\n",
      "(array([3, 6, 6], dtype=int64), array([4, 5, 1], dtype=int64))\n",
      "[[ 0  1  2  3  4  5  6]\n",
      " [ 7  8  9 10 11 12 13]\n",
      " [14 15 16 17 18 19 20]\n",
      " [21 22 23 24 25 26 27]\n",
      " [28 29 30 31 32 33 34]\n",
      " [35 36 37 38 39 40 41]]\n",
      "(array([3, 6, 6], dtype=int64), array([4, 5, 1], dtype=int64))\n"
     ]
    }
   ],
   "source": [
    "import numpy as np\n",
    "print(np.array(range(7*6)).reshape((7,6)))\n",
    "print(np.unravel_index([22, 41, 37], (7,6)))\n",
    "print(np.array(range(7*6)).reshape((6,7)))\n",
    "print(np.unravel_index([31, 41, 13], (7,6), order='F'))"
   ]
  },
  {
   "cell_type": "markdown",
   "metadata": {
    "pycharm": {
     "name": "#%% md\n"
    }
   },
   "source": [
    "### 数组操作\n",
    "\n",
    "#### 翻转操作\n",
    "\n",
    "除了比较容易熟悉的转置操作外，还有swapaxes：该函数交换数组的两个轴。对于 1.10 之前的 NumPy 版本，会返回交换后数组的视图。\n",
    "\n",
    "函数三个参数：\n",
    "\n",
    "- arr： 要交换其轴的输入数组\n",
    "- axis1：对应第一个轴的整数\n",
    "- axis2：对应第二个轴的整数\n"
   ]
  },
  {
   "cell_type": "code",
   "execution_count": 18,
   "metadata": {
    "pycharm": {
     "is_executing": false,
     "name": "#%%\n"
    }
   },
   "outputs": [
    {
     "name": "stdout",
     "output_type": "stream",
     "text": [
      "原数组：\n",
      "[[[0 1]\n",
      "  [2 3]]\n",
      "\n",
      " [[4 5]\n",
      "  [6 7]]]\n",
      "调用 swapaxes 函数后的数组：\n",
      "[[[0 4]\n",
      "  [2 6]]\n",
      "\n",
      " [[1 5]\n",
      "  [3 7]]]\n"
     ]
    }
   ],
   "source": [
    "# 创建了三维的 ndarray\n",
    "a = np.arange(8).reshape(2,2,2)\n",
    "\n",
    "print('原数组：')\n",
    "print( a)\n",
    "# 现在交换轴 0（深度方向）到轴 2（宽度方向）\n",
    "print( '调用 swapaxes 函数后的数组：')\n",
    "print( np.swapaxes(a, 2, 0))"
   ]
  },
  {
   "cell_type": "markdown",
   "metadata": {
    "pycharm": {
     "name": "#%% md\n"
    }
   },
   "source": [
    "#### 修改形状\n",
    "\n",
    "最常用的就是reshape函数，这个函数在不改变数据的条件下修改形状，它可接受如下参数：\n",
    "\n",
    "- arr：要修改形状的数组\n",
    "- newshape：整数或者整数数组，新的形状应当兼容原有形状\n",
    "- order：'C'为 C 风格顺序，'F'为 F 风格顺序，'A'为保留原顺序。\n",
    "\n",
    "也可以使用array.reshape直接调用。\n"
   ]
  },
  {
   "cell_type": "code",
   "execution_count": 19,
   "metadata": {
    "pycharm": {
     "is_executing": false,
     "name": "#%%\n"
    }
   },
   "outputs": [
    {
     "name": "stdout",
     "output_type": "stream",
     "text": [
      "原始数组：\n",
      "[0 1 2 3 4 5 6 7]\n",
      "修改后的数组：\n",
      "[[0 1]\n",
      " [2 3]\n",
      " [4 5]\n",
      " [6 7]]\n",
      "[[0 1 2 3]\n",
      " [4 5 6 7]]\n",
      "[[0 4 1 5]\n",
      " [2 6 3 7]]\n",
      "[[0 1 2 3]\n",
      " [4 5 6 7]]\n"
     ]
    }
   ],
   "source": [
    "a = np.arange(8)\n",
    "print('原始数组：')\n",
    "print(a)\n",
    "b = a.reshape(4,2)\n",
    "print ('修改后的数组：')\n",
    "print (b)\n",
    "# 维度用()或者[]表示均可\n",
    "print(np.reshape(b, [2,4], order='C'))\n",
    "print(np.reshape(b, (2,4), order='F'))\n",
    "print(np.reshape(b, (2,4), order='A'))"
   ]
  },
  {
   "cell_type": "markdown",
   "metadata": {},
   "source": [
    "三维数据展开到二维可以利用reshape函数"
   ]
  },
  {
   "cell_type": "code",
   "execution_count": 1,
   "metadata": {},
   "outputs": [
    {
     "data": {
      "text/plain": [
       "array([[[ 0,  1,  2,  3],\n",
       "        [ 4,  5,  6,  7],\n",
       "        [ 8,  9, 10, 11]],\n",
       "\n",
       "       [[12, 13, 14, 15],\n",
       "        [16, 17, 18, 19],\n",
       "        [20, 21, 22, 23]]])"
      ]
     },
     "execution_count": 1,
     "metadata": {},
     "output_type": "execute_result"
    }
   ],
   "source": [
    "import numpy as np\n",
    "arr=np.arange(24).reshape(2,3,4)\n",
    "arr"
   ]
  },
  {
   "cell_type": "code",
   "execution_count": 2,
   "metadata": {},
   "outputs": [
    {
     "data": {
      "text/plain": [
       "array([[ 0,  1,  2,  3,  4,  5,  6,  7,  8,  9, 10, 11],\n",
       "       [12, 13, 14, 15, 16, 17, 18, 19, 20, 21, 22, 23]])"
      ]
     },
     "execution_count": 2,
     "metadata": {},
     "output_type": "execute_result"
    }
   ],
   "source": [
    "arr.reshape(arr.shape[0],-1)"
   ]
  },
  {
   "cell_type": "markdown",
   "metadata": {
    "pycharm": {
     "name": "#%% md\n"
    }
   },
   "source": [
    "二维展开为一维：flatten()函数。\n",
    "Return a copy of the array collapsed into one dimension."
   ]
  },
  {
   "cell_type": "code",
   "execution_count": 20,
   "metadata": {
    "pycharm": {
     "is_executing": false,
     "name": "#%%\n"
    }
   },
   "outputs": [
    {
     "name": "stdout",
     "output_type": "stream",
     "text": [
      "[1 2 3 4]\n"
     ]
    },
    {
     "data": {
      "text/plain": [
       "array([1, 3, 2, 4])"
      ]
     },
     "execution_count": 20,
     "metadata": {},
     "output_type": "execute_result"
    }
   ],
   "source": [
    "a = np.array([[1,2], [3,4]])\n",
    "print(a.flatten())\n",
    "a.flatten('F')"
   ]
  },
  {
   "cell_type": "markdown",
   "metadata": {
    "pycharm": {
     "name": "#%% md\n"
    }
   },
   "source": [
    "低维度扩充到高维——expand_dims，函数通过在指定位置插入新的轴来扩展数组形状。该函数需要两个参数：输入数组和新轴插入的位置。"
   ]
  },
  {
   "cell_type": "code",
   "execution_count": 22,
   "metadata": {
    "pycharm": {
     "is_executing": false,
     "name": "#%%\n"
    }
   },
   "outputs": [
    {
     "name": "stdout",
     "output_type": "stream",
     "text": [
      "[[1 2]\n",
      " [3 4]]\n",
      "[[[1 2]\n",
      "  [3 4]]]\n",
      "数组 x 和 y 的形状：\n",
      "(2, 2) (1, 2, 2)\n",
      "[[[1 2]]\n",
      "\n",
      " [[3 4]]]\n",
      "ndim 和 shape：\n",
      "2 3\n",
      "(2, 2) (2, 1, 2)\n"
     ]
    }
   ],
   "source": [
    "x = np.array(([1,2],[3,4]))\n",
    "print(x)\n",
    "y = np.expand_dims(x, axis = 0)\n",
    "print(y)\n",
    "\n",
    "print('数组 x 和 y 的形状：')\n",
    "print(x.shape, y.shape)\n",
    "# 在位置 1 插入轴\n",
    "y = np.expand_dims(x, axis = 1)\n",
    "print(y)\n",
    "\n",
    "print('ndim 和 shape：')\n",
    "print(x.ndim,y.ndim)\n",
    "print(x.shape, y.shape)"
   ]
  },
  {
   "cell_type": "markdown",
   "metadata": {},
   "source": [
    "reshape也可以完成维度变换：\n",
    "形如[[1,3,5,6][1,4,7,8],[2,3,9,10],[2,4,11,12]]要取出每一维除前两个数之外的数据放入如下位置[[[5,6],[7,8]],[[9,10],[11,12]]]。"
   ]
  },
  {
   "cell_type": "code",
   "execution_count": 23,
   "metadata": {},
   "outputs": [
    {
     "name": "stdout",
     "output_type": "stream",
     "text": [
      "[[ 1  3  5  6]\n",
      " [ 1  4  7  8]\n",
      " [ 2  3  9 10]\n",
      " [ 2  4 11 12]]\n",
      "[[[ 5  6]\n",
      "  [ 7  8]]\n",
      "\n",
      " [[ 9 10]\n",
      "  [11 12]]]\n",
      "(2, 2, 2)\n"
     ]
    }
   ],
   "source": [
    "import numpy as np\n",
    "array1=np.array(([1,3,5,6],[1,4,7,8],[2,3,9,10],[2,4,11,12]))\n",
    "print(array1)\n",
    "n=2\n",
    "# 先去掉列，然后转换成3维\n",
    "array2=array1[:,2:].reshape(int(array1.shape[0]/n),2,2)\n",
    "print(array2)\n",
    "print(array2.shape)"
   ]
  },
  {
   "cell_type": "markdown",
   "metadata": {
    "pycharm": {
     "name": "#%% md\n"
    }
   },
   "source": [
    "#### 数组连接\n",
    "\n",
    "数组连接有几种方式：\n",
    "\n",
    "- concatenate 沿着现存的轴连接数据序列:此函数用于**沿指定轴**连接**相同形状**的两个或多个数组。\n",
    "- stack 沿着新轴连接数组序列:此函数沿**新轴**连接数组序列。\n",
    "- hstack 水平堆叠序列中的数组（列方向）；\n",
    "- vstack 竖直堆叠序列中的数组（行方向）。\n",
    "\n",
    "另外，一维数组可以直接使用append连接"
   ]
  },
  {
   "cell_type": "code",
   "execution_count": 3,
   "metadata": {},
   "outputs": [
    {
     "data": {
      "text/plain": [
       "array([1, 2, 3, 4, 5, 6])"
      ]
     },
     "execution_count": 3,
     "metadata": {},
     "output_type": "execute_result"
    }
   ],
   "source": [
    "import numpy as np\n",
    "a =np.array([1,2,3])\n",
    "b =np.array([6,5,4])\n",
    "# np.append(a,b)\n",
    "np.sort(np.append(a,b))"
   ]
  },
  {
   "cell_type": "code",
   "execution_count": 24,
   "metadata": {
    "pycharm": {
     "is_executing": false,
     "name": "#%%\n"
    }
   },
   "outputs": [
    {
     "name": "stdout",
     "output_type": "stream",
     "text": [
      "第一个数组：\n",
      "[[1.2 2. ]\n",
      " [3.  4. ]]\n",
      "\n",
      "\n",
      "第二个数组：\n",
      "[[5 6]\n",
      " [7 8]]\n",
      "\n",
      "\n",
      "沿轴 0 连接两个数组：\n",
      "[[1.2 2. ]\n",
      " [3.  4. ]\n",
      " [5.  6. ]\n",
      " [7.  8. ]]\n",
      "\n",
      "\n",
      "沿轴 1 连接两个数组：\n",
      "[[1.2 2.  5.  6. ]\n",
      " [3.  4.  7.  8. ]]\n"
     ]
    }
   ],
   "source": [
    "import numpy as np\n",
    "a = np.array([[1.2,2],[3,4]])\n",
    "\n",
    "print ('第一个数组：')\n",
    "print (a)\n",
    "print ('\\n' ) \n",
    "b = np.array([[5,6],[7,8]])\n",
    "\n",
    "print( '第二个数组：')\n",
    "print (b)\n",
    "print ('\\n'  )\n",
    "# 两个数组的维度相同\n",
    "\n",
    "print ('沿轴 0 连接两个数组：')\n",
    "print( np.concatenate((a,b)))\n",
    "print ('\\n'  )\n",
    "\n",
    "print ('沿轴 1 连接两个数组：')\n",
    "print( np.concatenate((a,b),axis = 1))"
   ]
  },
  {
   "cell_type": "code",
   "execution_count": 25,
   "metadata": {},
   "outputs": [
    {
     "name": "stdout",
     "output_type": "stream",
     "text": [
      "第一个数组：\n",
      "[[1 2]\n",
      " [3 4]]\n",
      "\n",
      "\n",
      "第二个数组：\n",
      "[[5 6]\n",
      " [7 8]]\n",
      "\n",
      "\n",
      "沿轴 0 堆叠两个数组：\n",
      "[[[1 2]\n",
      "  [3 4]]\n",
      "\n",
      " [[5 6]\n",
      "  [7 8]]]\n",
      "\n",
      "\n",
      "沿轴 1 堆叠两个数组：\n",
      "[[[1 2]\n",
      "  [5 6]]\n",
      "\n",
      " [[3 4]\n",
      "  [7 8]]]\n"
     ]
    }
   ],
   "source": [
    "import numpy as np\n",
    "a = np.array([[1,2],[3,4]])\n",
    "\n",
    "print( '第一个数组：')\n",
    "print (a)\n",
    "print( '\\n')\n",
    "b = np.array([[5,6],[7,8]])\n",
    "\n",
    "print ('第二个数组：')\n",
    "print (b)\n",
    "print( '\\n'  )\n",
    "\n",
    "print( '沿轴 0 堆叠两个数组：')\n",
    "print( np.stack((a,b),0))\n",
    "print ('\\n')  \n",
    "\n",
    "print ('沿轴 1 堆叠两个数组：')\n",
    "print( np.stack((a,b),1))"
   ]
  },
  {
   "cell_type": "markdown",
   "metadata": {},
   "source": [
    "如果是多个长度相同的数组，一种简单的方式是直接写在一起："
   ]
  },
  {
   "cell_type": "code",
   "execution_count": 26,
   "metadata": {},
   "outputs": [
    {
     "name": "stdout",
     "output_type": "stream",
     "text": [
      "[[1 2 3 4 5 6]\n",
      " [1 2 3 4 5 6]\n",
      " [1 2 3 4 5 6]]\n",
      "[[1 2 3 4 5 6]\n",
      " [1 2 3 4 5 6]\n",
      " [1 2 3 4 5 6]]\n"
     ]
    }
   ],
   "source": [
    "import numpy as np\n",
    "a=np.array([1,2,3,4,5,6])\n",
    "b=np.array([1,2,3,4,5,6])\n",
    "c=np.array([1,2,3,4,5,6])\n",
    "d=np.array([a,b,c])\n",
    "print(d)\n",
    "e=np.vstack((a,b,c))\n",
    "print(e)"
   ]
  },
  {
   "cell_type": "markdown",
   "metadata": {},
   "source": [
    "数组连续拼接，可以试试reduce操作："
   ]
  },
  {
   "cell_type": "code",
   "execution_count": 27,
   "metadata": {},
   "outputs": [
    {
     "name": "stdout",
     "output_type": "stream",
     "text": [
      "[[1 2 3 4 5 6]\n",
      " [1 2 3 4 5 6]\n",
      " [1 2 3 4 5 6]]\n"
     ]
    }
   ],
   "source": [
    "import numpy as np\n",
    "from functools import reduce\n",
    "a=np.array([1,2,3,4,5,6])\n",
    "b=np.array([1,2,3,4,5,6])\n",
    "c=np.array([1,2,3,4,5,6])\n",
    "def merge(a,b):\n",
    "    return np.vstack((a,b))\n",
    "print(reduce(merge, [a,b,c]))"
   ]
  },
  {
   "cell_type": "markdown",
   "metadata": {},
   "source": [
    "写为匿名函数的形式，可以如下所示："
   ]
  },
  {
   "cell_type": "code",
   "execution_count": 28,
   "metadata": {},
   "outputs": [
    {
     "name": "stdout",
     "output_type": "stream",
     "text": [
      "[[1 2 3 4 5 6]\n",
      " [1 2 3 4 5 6]\n",
      " [1 2 3 4 5 6]]\n"
     ]
    }
   ],
   "source": [
    "print(reduce(lambda x,y: np.vstack((x,y)), [a,b,c]))"
   ]
  },
  {
   "cell_type": "markdown",
   "metadata": {},
   "source": [
    "上面使纵向的，下面是一个横向的例子，即一个list中多个二维数组，每个二维数组的行数都相同，但是列数不同："
   ]
  },
  {
   "cell_type": "code",
   "execution_count": 6,
   "metadata": {},
   "outputs": [
    {
     "name": "stdout",
     "output_type": "stream",
     "text": [
      "[[ 1  2  5  6  9]\n",
      " [ 3  4  7  8 10]]\n"
     ]
    }
   ],
   "source": [
    "import numpy as np\n",
    "a = np.array([[1,2],[3,4]])\n",
    "b = np.array([[5,6],[7,8]])\n",
    "c = np.array([[9],[10]])\n",
    "print(reduce(lambda x,y: np.hstack((x,y)), [a,b,c]))"
   ]
  },
  {
   "cell_type": "markdown",
   "metadata": {},
   "source": [
    "如果需要先对每个数组操作下，那么可以试试map操作："
   ]
  },
  {
   "cell_type": "code",
   "execution_count": 29,
   "metadata": {},
   "outputs": [
    {
     "name": "stdout",
     "output_type": "stream",
     "text": [
      "[array([[1],\n",
      "       [2],\n",
      "       [3],\n",
      "       [4],\n",
      "       [5],\n",
      "       [6]]), array([[1],\n",
      "       [2],\n",
      "       [3],\n",
      "       [4],\n",
      "       [5],\n",
      "       [6]]), array([[1],\n",
      "       [2],\n",
      "       [3],\n",
      "       [4],\n",
      "       [5],\n",
      "       [6]])]\n",
      "[[1 1 1]\n",
      " [2 2 2]\n",
      " [3 3 3]\n",
      " [4 4 4]\n",
      " [5 5 5]\n",
      " [6 6 6]]\n"
     ]
    }
   ],
   "source": [
    "def transport(a):\n",
    "    return a.reshape(6,1)\n",
    "print(list(map(transport, [a,b,c])))\n",
    "def merge(a,b):\n",
    "    return np.hstack((a,b))\n",
    "print(reduce(merge, list(map(transport, [a,b,c]))))"
   ]
  },
  {
   "cell_type": "markdown",
   "metadata": {},
   "source": [
    "写为匿名函数的形式："
   ]
  },
  {
   "cell_type": "code",
   "execution_count": 30,
   "metadata": {},
   "outputs": [
    {
     "name": "stdout",
     "output_type": "stream",
     "text": [
      "[[1 1 1]\n",
      " [2 2 2]\n",
      " [3 3 3]\n",
      " [4 4 4]\n",
      " [5 5 5]\n",
      " [6 6 6]]\n"
     ]
    }
   ],
   "source": [
    "print(reduce(lambda x,y: np.hstack((x,y)), list(map(lambda x:x.reshape(6,1), [a,b,c]))))"
   ]
  },
  {
   "cell_type": "markdown",
   "metadata": {},
   "source": [
    "试试二维数据的循环拼接："
   ]
  },
  {
   "cell_type": "code",
   "execution_count": 31,
   "metadata": {},
   "outputs": [
    {
     "name": "stdout",
     "output_type": "stream",
     "text": [
      "[[ 1  2]\n",
      " [ 3  4]\n",
      " [ 5  6]\n",
      " [ 7  8]\n",
      " [ 9 10]]\n"
     ]
    }
   ],
   "source": [
    "import numpy as np\n",
    "a = np.array([[1,2],[3,4]])\n",
    "b = np.array([[5,6],[7,8]])\n",
    "c = np.array([[9,10]])\n",
    "def merge(a,b):\n",
    "    return np.vstack((a,b))\n",
    "print(reduce(merge, [a,b,c]))"
   ]
  },
  {
   "cell_type": "markdown",
   "metadata": {},
   "source": [
    "map和reduce一起的："
   ]
  },
  {
   "cell_type": "code",
   "execution_count": 5,
   "metadata": {},
   "outputs": [
    {
     "name": "stdout",
     "output_type": "stream",
     "text": [
      "[[ 1  2]\n",
      " [ 3  4]\n",
      " [ 5  6]\n",
      " [ 7  8]\n",
      " [ 9 10]\n",
      " [11 12]]\n",
      "[[ 1  3]\n",
      " [ 2  4]\n",
      " [ 5  7]\n",
      " [ 6  8]\n",
      " [ 9 11]\n",
      " [10 12]]\n"
     ]
    }
   ],
   "source": [
    "import numpy as np\n",
    "from functools import reduce\n",
    "a = np.array([[1,2],[3,4]])\n",
    "b = np.array([[5,6],[7,8]])\n",
    "c = np.array([[9,10],[11,12]])\n",
    "def merge(a,b):\n",
    "    return np.vstack((a,b))\n",
    "# 仅仅为了展示下map函数，因为其实这里直接reduce即可：\n",
    "print(reduce(merge, list(map(lambda x:x, [a,b,c]))))\n",
    "# 比如对list的每个元素先做转置，然后再reduce\n",
    "print(reduce(merge, list(map(lambda x:x.T, [a,b,c]))))"
   ]
  },
  {
   "cell_type": "markdown",
   "metadata": {},
   "source": [
    "接下来演示一个三维数组的拼接：前两维都相同，第三维拼接。"
   ]
  },
  {
   "cell_type": "code",
   "execution_count": 33,
   "metadata": {},
   "outputs": [
    {
     "name": "stdout",
     "output_type": "stream",
     "text": [
      "[[[1]\n",
      "  [2]]\n",
      "\n",
      " [[3]\n",
      "  [4]]]\n",
      "[[[1 2]\n",
      "  [2 3]]\n",
      "\n",
      " [[3 4]\n",
      "  [4 5]]]\n",
      "[[[1. 1. 2.]\n",
      "  [2. 2. 3.]]\n",
      "\n",
      " [[3. 3. 4.]\n",
      "  [4. 4. 5.]]]\n"
     ]
    }
   ],
   "source": [
    "import numpy as np\n",
    "a = np.array([[[1],[2]],[[3],[4]]])\n",
    "a=a.reshape(2,-1,1)\n",
    "print(a)\n",
    "b = np.array([[[1,2],[2,3]],[[3,4],[4,5]]])\n",
    "b=b.reshape(2,-1,2)\n",
    "print(b)\n",
    "c = np.zeros([a.shape[0],a.shape[1],a.shape[2]+b.shape[2]])\n",
    "for i in range(a.shape[0]):\n",
    "    c[i]=np.concatenate((a[i],b[i]),axis = 1)\n",
    "print(c)"
   ]
  },
  {
   "cell_type": "markdown",
   "metadata": {},
   "source": [
    "演示一个多个三维数据拼接的，使用reduce函数对第一维拼接："
   ]
  },
  {
   "cell_type": "code",
   "execution_count": 10,
   "metadata": {},
   "outputs": [
    {
     "data": {
      "text/plain": [
       "(2, 3, 1)"
      ]
     },
     "execution_count": 10,
     "metadata": {},
     "output_type": "execute_result"
    }
   ],
   "source": [
    "import numpy as np\n",
    "a = np.arange(6).reshape(2,3,-1)\n",
    "a.shape"
   ]
  },
  {
   "cell_type": "code",
   "execution_count": 11,
   "metadata": {},
   "outputs": [],
   "source": [
    "b = np.arange(3).reshape(1,3,-1)\n",
    "c = np.arange(9).reshape(3,3,-1)\n",
    "arr= [a,b,c]"
   ]
  },
  {
   "cell_type": "code",
   "execution_count": 14,
   "metadata": {},
   "outputs": [
    {
     "name": "stdout",
     "output_type": "stream",
     "text": [
      "(6, 3, 1) \n",
      " [[[0]\n",
      "  [1]\n",
      "  [2]]\n",
      "\n",
      " [[3]\n",
      "  [4]\n",
      "  [5]]\n",
      "\n",
      " [[0]\n",
      "  [1]\n",
      "  [2]]\n",
      "\n",
      " [[0]\n",
      "  [1]\n",
      "  [2]]\n",
      "\n",
      " [[3]\n",
      "  [4]\n",
      "  [5]]\n",
      "\n",
      " [[6]\n",
      "  [7]\n",
      "  [8]]]\n"
     ]
    }
   ],
   "source": [
    "from functools import reduce\n",
    "d = reduce(lambda x,y: np.vstack((x,y)), arr)\n",
    "print(d.shape,'\\n',d)"
   ]
  },
  {
   "cell_type": "markdown",
   "metadata": {
    "pycharm": {
     "name": "#%% md\n"
    }
   },
   "source": [
    "#### 数组扩充\n",
    "\n",
    "numpy数组扩展函数有repeat和tile，由于数组不能进行动态扩展，故函数调用之后都重新分配新的空间来存储扩展后的数据。\n",
    "\n",
    "repeat函数功能：对数组中的元素进行连续重复复制。\n",
    "\n",
    "tile函数功能：对整个数组进行复制拼接。"
   ]
  },
  {
   "cell_type": "code",
   "execution_count": 3,
   "metadata": {
    "pycharm": {
     "is_executing": false,
     "name": "#%%\n"
    }
   },
   "outputs": [
    {
     "name": "stdout",
     "output_type": "stream",
     "text": [
      "[0 1 2 3 4 5 6 7 8 9] 原地重复: [0 0 0 0 0 1 1 1 1 1 2 2 2 2 2 3 3 3 3 3 4 4 4 4 4 5 5 5 5 5 6 6 6 6 6 7 7\n",
      " 7 7 7 8 8 8 8 8 9 9 9 9 9]\n",
      "重复一个元素： [3, 3, 3, 3, 3]\n",
      "[10 20] 不同元素重复不同次数: [10 10 10 20 20]\n",
      "[10 20] 整体重复: [10 20 10 20]\n",
      "[10 20] 多维重复: [[10 20 10 20]\n",
      " [10 20 10 20]\n",
      " [10 20 10 20]]\n",
      "[10 20] 多维重复: [[10 20]\n",
      " [10 20]\n",
      " [10 20]]\n"
     ]
    }
   ],
   "source": [
    "import numpy as np\n",
    "a = np.arange(10)  \n",
    "print(a,\"原地重复:\",a.repeat(5))\n",
    "print(\"重复一个元素：\",a[3].repeat(5))\n",
    "a=np.array([10,20])\n",
    "print(a,\"不同元素重复不同次数:\",a.repeat([3,2]))\n",
    "\n",
    "print(a,\"整体重复:\",np.tile(a,2))\n",
    "print(a,\"多维重复:\",np.tile(a, (3,2))) #构造3*2个copy\n",
    "print(a,\"多维重复:\",np.tile(a, (3,1))) #构造3*1个copy"
   ]
  },
  {
   "cell_type": "markdown",
   "metadata": {},
   "source": [
    "每行元素重复n次："
   ]
  },
  {
   "cell_type": "code",
   "execution_count": 4,
   "metadata": {},
   "outputs": [
    {
     "name": "stdout",
     "output_type": "stream",
     "text": [
      "[[10]\n",
      " [20]] 多维重复: [[10 10 10]\n",
      " [20 20 20]]\n"
     ]
    }
   ],
   "source": [
    "import numpy as np\n",
    "a=np.array([[10],[20]])\n",
    "print(a,\"多维重复:\",np.tile(a, (1,3)))"
   ]
  },
  {
   "cell_type": "markdown",
   "metadata": {},
   "source": [
    "示范一个二维数组，在中间加一维，现在有一个数组arr，每个元素都复制6个，作为第三维的数据。"
   ]
  },
  {
   "cell_type": "code",
   "execution_count": 35,
   "metadata": {},
   "outputs": [
    {
     "data": {
      "text/plain": [
       "array([[ 0,  1,  2,  3,  4],\n",
       "       [ 5,  6,  7,  8,  9],\n",
       "       [10, 11, 12, 13, 14],\n",
       "       [15, 16, 17, 18, 19]])"
      ]
     },
     "execution_count": 35,
     "metadata": {},
     "output_type": "execute_result"
    }
   ],
   "source": [
    "arr = np.arange(0,20).reshape(4,5)\n",
    "arr"
   ]
  },
  {
   "cell_type": "code",
   "execution_count": 36,
   "metadata": {},
   "outputs": [
    {
     "data": {
      "text/plain": [
       "array([[[ 0.,  1.,  2.,  3.,  4.],\n",
       "        [ 0.,  1.,  2.,  3.,  4.],\n",
       "        [ 0.,  1.,  2.,  3.,  4.],\n",
       "        [ 0.,  1.,  2.,  3.,  4.],\n",
       "        [ 0.,  1.,  2.,  3.,  4.],\n",
       "        [ 0.,  1.,  2.,  3.,  4.]],\n",
       "\n",
       "       [[ 5.,  6.,  7.,  8.,  9.],\n",
       "        [ 5.,  6.,  7.,  8.,  9.],\n",
       "        [ 5.,  6.,  7.,  8.,  9.],\n",
       "        [ 5.,  6.,  7.,  8.,  9.],\n",
       "        [ 5.,  6.,  7.,  8.,  9.],\n",
       "        [ 5.,  6.,  7.,  8.,  9.]],\n",
       "\n",
       "       [[10., 11., 12., 13., 14.],\n",
       "        [10., 11., 12., 13., 14.],\n",
       "        [10., 11., 12., 13., 14.],\n",
       "        [10., 11., 12., 13., 14.],\n",
       "        [10., 11., 12., 13., 14.],\n",
       "        [10., 11., 12., 13., 14.]],\n",
       "\n",
       "       [[15., 16., 17., 18., 19.],\n",
       "        [15., 16., 17., 18., 19.],\n",
       "        [15., 16., 17., 18., 19.],\n",
       "        [15., 16., 17., 18., 19.],\n",
       "        [15., 16., 17., 18., 19.],\n",
       "        [15., 16., 17., 18., 19.]]])"
      ]
     },
     "execution_count": 36,
     "metadata": {},
     "output_type": "execute_result"
    }
   ],
   "source": [
    "arr_new = np.zeros([4,6,5])\n",
    "for i in range(arr.shape[0]):\n",
    "    arr_new[i]=np.tile(arr[i],6).reshape(6,5)\n",
    "arr_new"
   ]
  },
  {
   "cell_type": "markdown",
   "metadata": {},
   "source": [
    "#### 添加/删除元素\n",
    "\n",
    "添加元素常见的操作就是append了：numpy.append(arr, values, axis=None)——Append values to the end of an array 这个比较简单和list的append类似。"
   ]
  },
  {
   "cell_type": "code",
   "execution_count": 4,
   "metadata": {},
   "outputs": [
    {
     "name": "stdout",
     "output_type": "stream",
     "text": [
      "第一个数组：\n",
      "[[1 2 3]\n",
      " [4 5 6]]\n",
      "\n",
      "\n",
      "向数组添加元素：\n",
      "[1 2 3 4 5 6 7 8 9]\n",
      "\n",
      "\n",
      "沿轴 0 添加元素：\n",
      "[[1 2 3]\n",
      " [4 5 6]\n",
      " [7 8 9]]\n",
      "\n",
      "\n",
      "沿轴 1 添加元素：\n",
      "[[1 2 3 5 5 5]\n",
      " [4 5 6 7 8 9]]\n"
     ]
    }
   ],
   "source": [
    "import numpy as np\n",
    "a = np.array([[1,2,3],[4,5,6]])\n",
    "\n",
    "print ('第一个数组：')\n",
    "print (a)\n",
    "print ('\\n')\n",
    "\n",
    "print ('向数组添加元素：')\n",
    "print (np.append(a, [7,8,9]))\n",
    "print ('\\n'  )\n",
    "\n",
    "print ('沿轴 0 添加元素：')\n",
    "print (np.append(a, [[7,8,9]],axis = 0))\n",
    "print ('\\n'  )\n",
    "\n",
    "print ('沿轴 1 添加元素：')\n",
    "print( np.append(a, [[5,5,5],[7,8,9]],axis = 1))"
   ]
  },
  {
   "cell_type": "markdown",
   "metadata": {},
   "source": [
    "删除指定位置的元素："
   ]
  },
  {
   "cell_type": "code",
   "execution_count": 10,
   "metadata": {},
   "outputs": [
    {
     "name": "stdout",
     "output_type": "stream",
     "text": [
      "第一个数组：\n",
      "[[10 11 12 13]\n",
      " [14 15 16 17]\n",
      " [18 19 20 21]]\n",
      "\n",
      "\n",
      "未传递 Axis 参数。 在插入之前输入数组会被展开。\n",
      " 删除一个数\n",
      "[10 11 12 13 14 16 17 18 19 20 21]\n",
      "\n",
      " 删除多个数\n",
      "[10 12 14 15 16 17 18 19 20 21]\n",
      "\n",
      "\n",
      "删除第二列：\n",
      "[[10 12 13]\n",
      " [14 16 17]\n",
      " [18 20 21]]\n",
      "\n",
      "\n",
      "包含从数组中删除的替代值的切片：\n",
      "[ 2  4  6  8 10]\n"
     ]
    }
   ],
   "source": [
    "import numpy as np\n",
    "a = np.arange(12).reshape(3,4) +10\n",
    "\n",
    "print ('第一个数组：')\n",
    "print (a)\n",
    "print ('\\n')  \n",
    "\n",
    "print ('未传递 Axis 参数。 在插入之前输入数组会被展开。\\n 删除一个数')\n",
    "print (np.delete(a,5))\n",
    "print ('\\n 删除多个数')\n",
    "print (np.delete(a,[3,1]))\n",
    "print ('\\n'  )\n",
    "\n",
    "print ('删除第二列：'  )\n",
    "print (np.delete(a,1,axis = 1))\n",
    "print ('\\n'  )\n",
    "\n",
    "print ('包含从数组中删除的替代值的切片：')\n",
    "a = np.array([1,2,3,4,5,6,7,8,9,10])\n",
    "print (np.delete(a, np.s_[::2]))"
   ]
  },
  {
   "cell_type": "markdown",
   "metadata": {},
   "source": [
    "unique可用来寻找数组内的唯一元素。注意其返回结果是排序的。"
   ]
  },
  {
   "cell_type": "code",
   "execution_count": 37,
   "metadata": {},
   "outputs": [
    {
     "name": "stdout",
     "output_type": "stream",
     "text": [
      "第一个数组：\n",
      "[[1 2 3]\n",
      " [4 5 6]]\n",
      "\n",
      "\n",
      "向数组添加元素：\n",
      "[1 2 3 4 5 6 7 8 9]\n",
      "\n",
      "\n",
      "沿轴 0 添加元素：\n",
      "[[1 2 3]\n",
      " [4 5 6]\n",
      " [7 8 9]]\n",
      "\n",
      "\n",
      "沿轴 1 添加元素：\n",
      "[[1 2 3 5 5 5]\n",
      " [4 5 6 7 8 9]]\n"
     ]
    }
   ],
   "source": [
    "import numpy as np\n",
    "a = np.array([[1,2,3],[4,5,6]])\n",
    "\n",
    "print ('第一个数组：')\n",
    "print (a)\n",
    "print ('\\n'  )\n",
    "\n",
    "print ('向数组添加元素：')\n",
    "print (np.append(a, [7,8,9]))\n",
    "print ('\\n'  )\n",
    "\n",
    "print ('沿轴 0 添加元素：')\n",
    "print( np.append(a, [[7,8,9]],axis = 0))\n",
    "print ('\\n'  )\n",
    "\n",
    "print( '沿轴 1 添加元素：')\n",
    "print (np.append(a, [[5,5,5],[7,8,9]],axis = 1))"
   ]
  },
  {
   "cell_type": "code",
   "execution_count": 38,
   "metadata": {},
   "outputs": [
    {
     "name": "stdout",
     "output_type": "stream",
     "text": [
      "第一个数组：\n",
      "[5 2 6 2 7 5 6 8 2 9]\n",
      "\n",
      "\n",
      "第一个数组的去重值：\n",
      "[2 5 6 7 8 9]\n",
      "\n",
      "\n",
      "去重数组的索引数组：\n",
      "[1 0 2 4 7 9]\n",
      "\n",
      "\n",
      "我们可以看到每个和原数组下标对应的数值：\n",
      "[5 2 6 2 7 5 6 8 2 9]\n",
      "\n",
      "\n",
      "去重数组的下标：\n",
      "[2 5 6 7 8 9]\n",
      "\n",
      "\n",
      "下标为：\n",
      "[1 0 2 0 3 1 2 4 0 5]\n",
      "\n",
      "\n",
      "使用下标重构原数组：\n",
      "[5 2 6 2 7 5 6 8 2 9]\n",
      "\n",
      "\n",
      "返回去重元素的重复数量：\n",
      "[2 5 6 7 8 9]\n",
      "6\n",
      "6\n",
      "[3 2 2 1 1 1]\n"
     ]
    }
   ],
   "source": [
    "import numpy as np\n",
    "a = np.array([5,2,6,2,7,5,6,8,2,9])\n",
    "\n",
    "print ('第一个数组：')\n",
    "print( a)\n",
    "print ('\\n'  )\n",
    "\n",
    "print( '第一个数组的去重值：')\n",
    "u = np.unique(a)\n",
    "print (u)\n",
    "print ('\\n'  )\n",
    "\n",
    "print ('去重数组的索引数组：')\n",
    "u,indices = np.unique(a, return_index = True)\n",
    "print (indices)\n",
    "print ('\\n'  )\n",
    "\n",
    "print ('我们可以看到每个和原数组下标对应的数值：')\n",
    "print (a)\n",
    "print ('\\n')  \n",
    "\n",
    "print ('去重数组的下标：')\n",
    "u,indices = np.unique(a,return_inverse = True)\n",
    "print( u)\n",
    "print ('\\n')\n",
    "\n",
    "print ('原数组各个元素在去重后数组中的位置：')\n",
    "print (indices)\n",
    "print ('\\n'  )\n",
    "\n",
    "print ('使用下标重构原数组：')\n",
    "print( u[indices])\n",
    "print ('\\n'  )\n",
    "\n",
    "print ('返回去重元素的重复数量：')\n",
    "u,indices = np.unique(a,return_counts = True)\n",
    "print( u)\n",
    "print( len(u))\n",
    "print( u.size)\n",
    "print (indices)"
   ]
  },
  {
   "cell_type": "markdown",
   "metadata": {},
   "source": [
    "如果希望unique之后，各元素出现的顺序与它们第一次出现的时候保持一致。"
   ]
  },
  {
   "cell_type": "code",
   "execution_count": 2,
   "metadata": {},
   "outputs": [
    {
     "data": {
      "text/plain": [
       "[4, 2, 1, 3]"
      ]
     },
     "execution_count": 2,
     "metadata": {},
     "output_type": "execute_result"
    }
   ],
   "source": [
    "import numpy as np\n",
    "a = [4,2,1,3,1,2,3,4]\n",
    "indexes = np.unique(a, return_index=True)[1]\n",
    "[a[index] for index in sorted(indexes)]"
   ]
  },
  {
   "cell_type": "markdown",
   "metadata": {},
   "source": [
    "#### 数组序列化\n",
    "\n",
    "这部分主要参考了：[numpy 的数据文件的序列化](https://easyfly007.github.io/blogs/python/npy.html)以及[Numpy中数据的常用的保存与读取方法](https://www.cnblogs.com/wushaogui/p/9142019.html)\n",
    "\n",
    "在经常性读取大量的数值文件时(比如深度学习训练数据),可以考虑现将数据存储为Numpy格式,然后直接使用Numpy去读取,速度相比为转化前快很多.\n",
    "\n",
    "对于 numpy 的 ndarray 数据，除了 pickle（一个python中序列化常用工具），我们可以用保存数据到二进制文件和保存数据到文本文件两种方式。\n",
    "\n",
    "首先看第一种，二进制的用numpy 自带的 save/savez 以及 load 方法来序列化保存到硬盘上以及读取。\n",
    "\n",
    "npy 文件可以保存一个 numpy 数据， 用的函数是 save"
   ]
  },
  {
   "cell_type": "code",
   "execution_count": 39,
   "metadata": {},
   "outputs": [
    {
     "name": "stdout",
     "output_type": "stream",
     "text": [
      "[[1 2 3]\n",
      " [4 5 6]]\n"
     ]
    }
   ],
   "source": [
    "import numpy as np\n",
    "x = np.array([[1,2,3], [4,5,6]])\n",
    "np.save('./123', x)\n",
    "y = np.load('./123.npy')\n",
    "print(y)"
   ]
  },
  {
   "cell_type": "markdown",
   "metadata": {},
   "source": [
    "npz 文件可以保存多个 numpy 数据，用的函数是 savez"
   ]
  },
  {
   "cell_type": "code",
   "execution_count": 40,
   "metadata": {},
   "outputs": [
    {
     "name": "stdout",
     "output_type": "stream",
     "text": [
      "[[1 2 3]\n",
      " [4 5 6]]\n",
      "[1 2]\n"
     ]
    }
   ],
   "source": [
    "import numpy as np\n",
    "a = np.array([[1, 2, 3], [4, 5, 6]])\n",
    "b = np.array([1, 2])\n",
    "np.savez('./123.npz', a = a, b = b)\n",
    "data = np.load('./123.npz')\n",
    "print(data['a'])\n",
    "print(data['b'])\n",
    "data.close()"
   ]
  },
  {
   "cell_type": "markdown",
   "metadata": {},
   "source": [
    "值得注意的是，如果我们用 np.load(filename)\n",
    "\n",
    "如果是一个 .npy 文件, 那么 load 返回一个 ndarray\n",
    "如果是一个 .npz 文件，那么 load 返回一个字典，格式为 {filename : array}， 和 pickle 类似\n",
    "如果是一个 .npz 文件，那么也支持以下方式访问：\n",
    "\n",
    "```python\n",
    "with np.load('foo.npz') as data:\n",
    "    a = data['a']\n",
    "```\n",
    "\n",
    "这简直不能太爽,深度学习中,有时候你保存了训练集,验证集,测试集,还包括他们的标签,用这个方式存储起来,要啥加载啥,文件数量大大减少,也不会到处改文件名去.\n",
    "\n",
    "另外还有一个numpy.savez_compressed方法，这个就是在前面numpy.savez的基础上加了压缩,前面我介绍时尤其注明numpy.savez是得到的文件打包,不压缩的.这个文件就是对文件进行打包时使用了压缩,可以理解为压缩前各npy的文件大小不变,使用该函数比前面的numpy.savez得到的npz文件更小.\n",
    "\n",
    "注:函数所需参数和numpy.savez一致,用法完成一样.\n",
    "\n",
    "第二种方式是保存到文本文件。numpy.savetxt 保存数组到文本文件上,可以直接打开查看文件里面的内容."
   ]
  },
  {
   "cell_type": "code",
   "execution_count": 41,
   "metadata": {},
   "outputs": [
    {
     "data": {
      "text/plain": [
       "array([[1., 1., 1.],\n",
       "       [1., 1., 1.]])"
      ]
     },
     "execution_count": 41,
     "metadata": {},
     "output_type": "execute_result"
    }
   ],
   "source": [
    "import numpy as np \n",
    "x = y = z = np.ones((2,3))\n",
    "x"
   ]
  },
  {
   "cell_type": "code",
   "execution_count": 42,
   "metadata": {},
   "outputs": [],
   "source": [
    "#保存数据 \n",
    "np.savetxt('./test/test.out', x) \n",
    "np.savetxt('./test/test1.out', x,fmt='%1.4e') \n",
    "np.savetxt('./test/test2.out', x, delimiter=',') \n",
    "np.savetxt('./test/test3.out', x,newline='a') \n",
    "np.savetxt('./test/test4.out', x,delimiter=',',newline='a') \n",
    "np.savetxt('./test/test5.out', x,delimiter=',',header='abc') \n",
    "np.savetxt('./test/test6.out', x,delimiter=',',footer='abc') "
   ]
  },
  {
   "cell_type": "markdown",
   "metadata": {},
   "source": [
    "那么接下来看看打开文件有什么变化没。numpy.loadtxt 根据前面定制的保存格式,相应的加载数据的函数也得变化."
   ]
  },
  {
   "cell_type": "code",
   "execution_count": 43,
   "metadata": {},
   "outputs": [
    {
     "data": {
      "text/plain": [
       "array([[1., 1., 1.],\n",
       "       [1., 1., 1.]])"
      ]
     },
     "execution_count": 43,
     "metadata": {},
     "output_type": "execute_result"
    }
   ],
   "source": [
    "np.loadtxt('./test/test.out') "
   ]
  },
  {
   "cell_type": "code",
   "execution_count": 44,
   "metadata": {},
   "outputs": [
    {
     "data": {
      "text/plain": [
       "array([[1., 1., 1.],\n",
       "       [1., 1., 1.]])"
      ]
     },
     "execution_count": 44,
     "metadata": {},
     "output_type": "execute_result"
    }
   ],
   "source": [
    "np.loadtxt('./test/test2.out', delimiter=',') "
   ]
  }
 ],
 "metadata": {
  "kernelspec": {
   "display_name": "Python 3",
   "language": "python",
   "name": "python3"
  },
  "language_info": {
   "codemirror_mode": {
    "name": "ipython",
    "version": 3
   },
   "file_extension": ".py",
   "mimetype": "text/x-python",
   "name": "python",
   "nbconvert_exporter": "python",
   "pygments_lexer": "ipython3",
   "version": "3.7.8"
  },
  "pycharm": {
   "stem_cell": {
    "cell_type": "raw",
    "metadata": {
     "collapsed": false
    },
    "source": []
   }
  }
 },
 "nbformat": 4,
 "nbformat_minor": 4
}
