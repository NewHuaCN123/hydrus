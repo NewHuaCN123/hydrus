{
 "cells": [
  {
   "cell_type": "markdown",
   "metadata": {},
   "source": [
    "# Numpy基本应用\n",
    "\n",
    "从基础数据结构和常见数学运算两个方面展开。目录结构主要参考[TutorialsPoint NumPy 教程](https://legacy.gitbook.com/book/wizardforcel/ts-numpy-tut/details)。\n",
    "\n",
    "基本思路是：\n",
    "\n",
    "1. 首先需要定义数据结构并初始化，这是一切运算的基础；\n",
    "2. 其次针对基本的数据结构有一些常用的基本操作，包括索引，变形操作等；\n",
    "3. 最后是基于这些数据结构的数学运算，包括统计的，算术的，逻辑的，集合的，时间等其他类型的等等多方面。\n",
    "\n",
    "## 数据结构及操作\n",
    "\n",
    "### 向量、矩阵初始化"
   ]
  },
  {
   "cell_type": "code",
   "execution_count": 1,
   "metadata": {
    "pycharm": {
     "is_executing": false,
     "name": "#%%\n"
    }
   },
   "outputs": [
    {
     "name": "stdout",
     "output_type": "stream",
     "text": [
      "[ 0.49671415 -0.1382643   0.64768854]\n",
      "[ 0.49671415 -0.1382643   0.64768854]\n",
      "[[ 0.49671415]\n",
      " [-0.1382643 ]\n",
      " [ 0.64768854]]\n"
     ]
    }
   ],
   "source": [
    "import numpy as np\n",
    "\"\"\"numpy向量\"\"\"\n",
    "# NumPy向量默认行向量\n",
    "features = np.array([0.49671415, -0.1382643, 0.64768854])\n",
    "print(features)\n",
    "# 对于一维数组，转置之后仍为一维数组\n",
    "print(features.T)\n",
    "# 可以用array[:,None]来创建列向量\n",
    "print(features[:, None])"
   ]
  },
  {
   "cell_type": "markdown",
   "metadata": {},
   "source": [
    "和zeros不同, empty并不将数组值设置为0，因此其比zeros稍微快一些；\n",
    "另一方面，需要用户手动设置数组中的所有值，所以使用的时候要小心。\n",
    "\n",
    "full函数可以指定用某个值填充若干大小的数组。\n",
    "\n",
    "还可以使用arange进行初始化。"
   ]
  },
  {
   "cell_type": "code",
   "execution_count": 15,
   "metadata": {
    "pycharm": {
     "name": "#%%\n"
    }
   },
   "outputs": [
    {
     "name": "stdout",
     "output_type": "stream",
     "text": [
      "[[1.5e-323 3.5e-323]\n",
      " [4.4e-323 4.9e-324]]\n",
      "[[3 7]\n",
      " [9 1]]\n",
      "[nan nan nan nan nan nan nan nan nan nan]\n",
      "[[nan nan]\n",
      " [nan nan]\n",
      " [nan nan]\n",
      " [nan nan]\n",
      " [nan nan]\n",
      " [nan nan]\n",
      " [nan nan]\n",
      " [nan nan]\n",
      " [nan nan]\n",
      " [nan nan]]\n",
      "['yes' 'yes' 'yes' 'yes' 'yes' 'yes' 'yes' 'yes' 'yes' 'yes']\n",
      "[0 1 2]\n",
      "[0. 1. 2.]\n",
      "[3 5]\n"
     ]
    }
   ],
   "source": [
    "import numpy as np\n",
    "e1=np.empty([2, 2])  #uninitialized\n",
    "print(e1)\n",
    "e2=np.empty([2, 2], dtype=int)  #uninitialized\n",
    "print(e2)\n",
    "\n",
    "out = np.full([10], np.nan)\n",
    "print(out)\n",
    "out = np.full([10,2], np.nan)\n",
    "print(out)\n",
    "out = np.full([10], 'yes')\n",
    "print(out)\n",
    "# arange：numpy.arange([start, ]stop, [step, ]dtype=None)\n",
    "print(np.arange(3))\n",
    "print(np.arange(3.0))\n",
    "print(np.arange(3,7,2))"
   ]
  },
  {
   "cell_type": "markdown",
   "metadata": {
    "pycharm": {
     "name": "#%% md\n"
    }
   },
   "source": [
    "astype函数是对array的copy，指定到一个特定的数据类型。\n"
   ]
  },
  {
   "cell_type": "code",
   "execution_count": 3,
   "metadata": {
    "pycharm": {
     "is_executing": false,
     "name": "#%%\n"
    }
   },
   "outputs": [
    {
     "data": {
      "text/plain": [
       "array([1, 2, 2])"
      ]
     },
     "execution_count": 3,
     "metadata": {},
     "output_type": "execute_result"
    }
   ],
   "source": [
    "x = np.array([1, 2, 2.5])\n",
    "x.astype(int)"
   ]
  },
  {
   "cell_type": "markdown",
   "metadata": {},
   "source": [
    "日期总是个麻烦的事情，但是很重要的数据类型,numpy也提供了很方便处理日期的工具"
   ]
  },
  {
   "cell_type": "code",
   "execution_count": 3,
   "metadata": {},
   "outputs": [
    {
     "name": "stdout",
     "output_type": "stream",
     "text": [
      "2005-02-25\n",
      "2005-02\n",
      "2005-02-01\n",
      "2005-02-25T03:30\n",
      "['2007-07-13' '2006-01-13' '2010-08-13']\n",
      "['2001-01-01T12:00:00.000' '2002-02-03T13:56:03.172']\n",
      "['2005-02-01' '2005-02-02' '2005-02-03' '2005-02-04' '2005-02-05'\n",
      " '2005-02-06' '2005-02-07' '2005-02-08' '2005-02-09' '2005-02-10'\n",
      " '2005-02-11' '2005-02-12' '2005-02-13' '2005-02-14' '2005-02-15'\n",
      " '2005-02-16' '2005-02-17' '2005-02-18' '2005-02-19' '2005-02-20'\n",
      " '2005-02-21' '2005-02-22' '2005-02-23' '2005-02-24' '2005-02-25'\n",
      " '2005-02-26' '2005-02-27' '2005-02-28']\n",
      "['1995' '1996' '1997' '1998' '1999']\n",
      "['1995' '1996' '1997' '1998' '1999']\n",
      "True\n",
      "True\n"
     ]
    },
    {
     "name": "stderr",
     "output_type": "stream",
     "text": [
      "E:\\Programs\\anaconda3\\lib\\site-packages\\ipykernel_launcher.py:12: DeprecationWarning: parsing timezone aware datetimes is deprecated; this will raise an error in the future\n",
      "  if sys.path[0] == '':\n"
     ]
    }
   ],
   "source": [
    "import numpy as np\n",
    "print(np.datetime64('2005-02-25'))\n",
    "print(np.datetime64('2005-02'))\n",
    "print(np.datetime64('2005-02', 'D'))\n",
    "print(np.datetime64('2005-02-25T03:30'))\n",
    "print(np.array(['2007-07-13', '2006-01-13', '2010-08-13'], dtype='datetime64'))\n",
    "print(np.array(['2001-01-01T12:00', '2002-02-03T13:56:03.172'], dtype='datetime64'))\n",
    "print(np.arange('2005-02', '2005-03', dtype='datetime64[D]'))\n",
    "print(np.arange('1995-01-01', '2000-01-01', dtype='datetime64[Y]'))\n",
    "print(np.arange('1995-01-01', '2000-01-01', dtype='datetime64[Y]').astype(str))\n",
    "print(np.datetime64('2005') == np.datetime64('2005-01-01'))\n",
    "print(np.datetime64('2010-03-14T15Z') == np.datetime64('2010-03-14T15:00:00.00Z'))"
   ]
  },
  {
   "cell_type": "markdown",
   "metadata": {},
   "source": [
    "关于日期运算，通常结合timedelta"
   ]
  },
  {
   "cell_type": "code",
   "execution_count": 38,
   "metadata": {},
   "outputs": [
    {
     "name": "stdout",
     "output_type": "stream",
     "text": [
      "366 days\n",
      "2009-01-21\n",
      "2011-06-15T12:00\n",
      "7.0\n"
     ]
    }
   ],
   "source": [
    "print(np.datetime64('2009-01-01') - np.datetime64('2008-01-01'))\n",
    "print(np.datetime64('2009') + np.timedelta64(20, 'D'))\n",
    "print(np.datetime64('2011-06-15T00:00') + np.timedelta64(12, 'h'))\n",
    "print(np.timedelta64(1,'W') / np.timedelta64(1,'D'))"
   ]
  },
  {
   "cell_type": "code",
   "execution_count": null,
   "metadata": {},
   "outputs": [],
   "source": [
    "还有比较常用的日期和字符串转换"
   ]
  },
  {
   "cell_type": "code",
   "execution_count": 40,
   "metadata": {},
   "outputs": [
    {
     "name": "stdout",
     "output_type": "stream",
     "text": [
      "['2002-10-27T04:30' '2002-10-27T05:30' '2002-10-27T06:30'\n",
      " '2002-10-27T07:30']\n"
     ]
    },
    {
     "data": {
      "text/plain": [
       "array(['2002-10-27T04:30Z', '2002-10-27T05:30Z', '2002-10-27T06:30Z',\n",
       "       '2002-10-27T07:30Z'], dtype='<U35')"
      ]
     },
     "execution_count": 40,
     "metadata": {},
     "output_type": "execute_result"
    }
   ],
   "source": [
    "import pytz\n",
    "d = np.arange('2002-10-27T04:30', 4*60, 60, dtype='M8[m]')\n",
    "print(d)\n",
    "np.datetime_as_string(d, timezone='UTC')"
   ]
  },
  {
   "cell_type": "code",
   "execution_count": 46,
   "metadata": {},
   "outputs": [
    {
     "data": {
      "text/plain": [
       "array(['1995-01-01', '1995-01-02', '1995-01-01', '1995-01-02'],\n",
       "      dtype='datetime64[D]')"
      ]
     },
     "execution_count": 46,
     "metadata": {},
     "output_type": "execute_result"
    }
   ],
   "source": [
    "t1=('1995-01-01T00:00:00','1995-01-02T00:00:00','1995-01-01T00:00:00','1995-01-02T00:00:00')\n",
    "t2=np.array(t1,dtype='datetime64[D]')\n",
    "t2"
   ]
  },
  {
   "cell_type": "markdown",
   "metadata": {
    "pycharm": {
     "name": "#%% md\n"
    }
   },
   "source": [
    "### 切片与索引\n",
    "\n",
    "ndarray对象的内容可以通过索引或切片来访问和修改，就像 Python 的内置容器对象一样。\n",
    "\n",
    "ndarray对象中的元素遵循基于零的索引。 有三种可用的索引方法类型： 字段访问，基本切片和高级索引。\n",
    "\n",
    "#### 基本切片\n",
    "\n",
    "Numpy 中多维数组的切片操作与 Python 中 list 的切片操作一样，同样由 start, stop, step 三个部分组成;\n",
    "如果是多维数组，将不同维度上的切片操作用 逗号 分开就好了."
   ]
  },
  {
   "cell_type": "code",
   "execution_count": 19,
   "metadata": {},
   "outputs": [
    {
     "name": "stdout",
     "output_type": "stream",
     "text": [
      "array is: [ 0  1  2  3  4  5  6  7  8  9 10 11]\n",
      "slice begins at 0 and ends at 4 is: [0 1 2 3]\n",
      "slice begins at 7 and ends at 10 is: [7 8 9]\n",
      "slice begins at 0 and ends at 12 with step 4 is: [0 4 8]\n",
      "array is:\n",
      "[[ 0  1  2  3]\n",
      " [ 4  5  6  7]\n",
      " [ 8  9 10 11]]\n",
      "first slice is:\n",
      "[[5 6]]\n",
      "second slice is:\n",
      "[[ 0  2]\n",
      " [ 4  6]\n",
      " [ 8 10]]\n"
     ]
    }
   ],
   "source": [
    "import numpy as np\n",
    "\n",
    "arr = np.arange(12)\n",
    "print ('array is:', arr)\n",
    "\n",
    "slice_one = arr[:4]\n",
    "print ('slice begins at 0 and ends at 4 is:', slice_one)\n",
    "\n",
    "slice_two = arr[7:10]\n",
    "print( 'slice begins at 7 and ends at 10 is:', slice_two)\n",
    "\n",
    "slice_three = arr[0:12:4]\n",
    "print( 'slice begins at 0 and ends at 12 with step 4 is:', slice_three)\n",
    "\n",
    "arr = np.arange(12).reshape((3, 4))\n",
    "print ('array is:')\n",
    "print (arr)\n",
    "\n",
    "# 取第一维的索引 1 到索引 2 之间的元素，也就是第二行\n",
    "# 取第二维的索引 1 到索引 3 之间的元素，也就是第二列和第三列\n",
    "slice_one = arr[1:2, 1:3]\n",
    "print ('first slice is:')\n",
    "print (slice_one)\n",
    "\n",
    "# 取第一维的全部\n",
    "# 按步长为 2 取第二维的索引 0 到末尾 之间的元素，也就是第一列和第三列\n",
    "slice_two = arr[:, ::2]\n",
    "print( 'second slice is:')\n",
    "print (slice_two)"
   ]
  },
  {
   "cell_type": "markdown",
   "metadata": {},
   "source": [
    "#### 基本索引\n",
    "\n",
    "对于一个多维数组来说，最简单的情况就是访问其中一个特定位置的元素了.\n",
    "\n",
    "事实上，在 Numpy 的索引操作方式 `x = arr[obj]` 中， obj 不仅仅可以是一个用逗号分隔开的数字序列，还可以是更复杂的内容。这里介绍用逗号分隔的数组序列，其余在高级索引中见。注意两点：\n",
    "\n",
    "- 序列的长度和多维数组的维数要一致\n",
    "- 序列中每个数组的长度要一致"
   ]
  },
  {
   "cell_type": "code",
   "execution_count": 3,
   "metadata": {},
   "outputs": [
    {
     "name": "stdout",
     "output_type": "stream",
     "text": [
      "第二行第二列的值: 4\n",
      "list indices must be integers or slices, not tuple\n",
      "对应坐标(0,3)和(2,1)的数据： [4 6]\n",
      "多个点坐标对应数据： [1 4 5]\n",
      "[[0 2]\n",
      " [3 1]\n",
      " [3 3]]\n",
      "[[0 3 3]\n",
      " [2 1 3]]\n",
      "[ 3  8 16]\n",
      "数组c：： [[ 0  1  2  3]\n",
      " [ 4  5  6  7]\n",
      " [ 8  9 10 11]\n",
      " [12 13 14 15]]\n",
      "第0和2行的第2,3列数字： [[ 2  3]\n",
      " [10 11]]\n"
     ]
    }
   ],
   "source": [
    "import numpy as np\n",
    "arr = [\n",
    "    [1, 2, 3, 4],\n",
    "    [2, 4, 6, 8],\n",
    "    [3, 6, 9, 12],\n",
    "    [4, 8, 12, 16]\n",
    "]\n",
    "print( '第二行第二列的值:', arr[1][1])\n",
    "try:\n",
    "    print ('第二行第二列的值(尝试用 Numpy 的方式获取):', arr[1, 1])\n",
    "except Exception as e:\n",
    "    print (str(e))\n",
    "\n",
    "arr = np.array([\n",
    "    [1, 2, 3, 4],\n",
    "    [2, 4, 6, 8],\n",
    "    [3, 6, 9, 12],\n",
    "    [4, 8, 12, 16]\n",
    "])\n",
    "\n",
    "print(\"对应坐标(0,3)和(2,1)的数据：\",arr[[0, 2], [3, 1]])\n",
    "# 但是这种索引超过两个就会报错\n",
    "# print( arr[[0, 2], [3, 1],[3,3]])\n",
    "# 所以如果想索引多个坐标的点，如下所示\n",
    "x = np.array([[1,  2],  [3,  4],  [5,  6]]) \n",
    "y = x[[0,1,2],  [0,1,0]]  \n",
    "print (\"多个点坐标对应数据：\",y)\n",
    "\n",
    "# 因此对于arr，[0, 2], [3, 1],[3,3]\n",
    "index=np.array([(0, 2), (3, 1),(3,3)])\n",
    "print(index)\n",
    "index=index.T\n",
    "print(index)\n",
    "print(arr[index[0],index[1]])\n",
    "\n",
    "# 取某几行某几列数据\n",
    "c=np.arange(16).reshape(4,4)\n",
    "C_A = c[[0,2]]    #先取出想要的行数据\n",
    "C_A = C_A[:,[2,3]] #再取出要求的列数据\n",
    "print(\"数组c：：\",c) #输出原数组\n",
    "print(\"第0和2行的第2,3列数字：\",C_A) #输出最终结果"
   ]
  },
  {
   "cell_type": "markdown",
   "metadata": {},
   "source": [
    "补充一点高维数组的索引"
   ]
  },
  {
   "cell_type": "code",
   "execution_count": 9,
   "metadata": {},
   "outputs": [
    {
     "name": "stdout",
     "output_type": "stream",
     "text": [
      "[[[ 0  1  2]\n",
      "  [ 3  4  5]\n",
      "  [ 6  7  8]]\n",
      "\n",
      " [[ 9 10 11]\n",
      "  [12 13 14]\n",
      "  [15 16 17]]\n",
      "\n",
      " [[18 19 20]\n",
      "  [21 22 23]\n",
      "  [24 25 26]]]\n",
      "\n",
      "\n",
      "[[ 0  5]\n",
      " [ 9 14]\n",
      " [18 23]]\n",
      "\n",
      "\n",
      "[[ 0  1  2]\n",
      " [15 16 17]]\n",
      "\n",
      "\n",
      "[ 2.5 11.5 20.5]\n"
     ]
    }
   ],
   "source": [
    "import numpy as np\n",
    "arr3d=np.arange(27).reshape(3,3,3)\n",
    "print(arr3d)\n",
    "# 索引所有第一维的指定第二三维数据，如下，找所有二维数组中，索引为[0,0]和[1,2]两个点，也就是[0,5], [9,14]和[18,23]\n",
    "index1=[0,1]\n",
    "index2=[0,2]\n",
    "print('\\n')\n",
    "# 这条是符合上面注释要求的索引方式\n",
    "print(arr3d[:,index1,index2])\n",
    "# 注意下面这种索引和上面这条是不同的\n",
    "print('\\n')\n",
    "print(arr3d[:][index1,index2])\n",
    "\n",
    "arr_index=arr3d[:,index1,index2]\n",
    "#  对第二维度的每个数求平均\n",
    "arr_mean = np.mean(arr_index, axis=1)\n",
    "print('\\n')\n",
    "print(arr_mean)"
   ]
  },
  {
   "cell_type": "markdown",
   "metadata": {
    "pycharm": {
     "name": "#%% md\n"
    }
   },
   "source": [
    "#### 高级索引\n",
    "\n",
    "如果一个ndarray是非元组序列，数据类型为整数或布尔值的ndarray，或者至少一个元素为序列对象的元组，我们就能够用它来索引ndarray。\n",
    "高级索引始终返回数据的副本。 与此相反，切片只提供了一个视图。\n",
    "\n",
    "有两种类型的高级索引：整数和布尔值。"
   ]
  },
  {
   "cell_type": "code",
   "execution_count": 7,
   "metadata": {
    "pycharm": {
     "is_executing": false,
     "name": "#%%\n"
    }
   },
   "outputs": [
    {
     "name": "stdout",
     "output_type": "stream",
     "text": [
      "我们的数组是：\n",
      "[[ 0  1  2]\n",
      " [ 3  4  5]\n",
      " [ 6  7  8]\n",
      " [ 9 10 11]]\n",
      "\n",
      "\n",
      "大于 5 的元素是：\n",
      "[ 6  7  8  9 10 11]\n",
      "过滤NaN值\n",
      "[[0]\n",
      " [3]]\n",
      "非nan的数据: [1. 2. 3. 4. 5.]\n",
      "条件判断： [3. 4. 5.]\n"
     ]
    },
    {
     "name": "stderr",
     "output_type": "stream",
     "text": [
      "/home/owen/anaconda3/lib/python3.7/site-packages/ipykernel_launcher.py:16: RuntimeWarning: invalid value encountered in greater\n",
      "  app.launch_new_instance()\n"
     ]
    }
   ],
   "source": [
    "# 布尔值做索引\n",
    "import numpy as np \n",
    "x = np.array([[  0,  1,  2],[  3,  4,  5],[  6,  7,  8],[  9,  10,  11]])  \n",
    "print('我们的数组是：')\n",
    "print(x)\n",
    "print ('\\n')\n",
    "# 现在我们会打印出大于 5 的元素  \n",
    "print('大于 5 的元素是：')\n",
    "print (x[x >  5])\n",
    "\n",
    "# 使用取补运算符来过滤NaN。\n",
    "print('过滤NaN值')\n",
    "a = np.array([np.nan,  1,2,np.nan,3,4,5])  \n",
    "print(np.argwhere(np.isnan(a)))\n",
    "print(\"非nan的数据:\",a[~np.isnan(a)])\n",
    "print(\"条件判断：\",a[np.where(a > 2)])"
   ]
  },
  {
   "cell_type": "markdown",
   "metadata": {},
   "source": [
    "利用argwhere可以对元素进行条件判断，比如找到non-zero元素在array中的索引,一行一行地逐个元素确认。np.argwhere(a)和np.transpose(np.nonzero(a))一样。\n",
    "\n",
    "argwhere输出不适用于indexing数组。 如果要索引数组，使用nonzero(a)。"
   ]
  },
  {
   "cell_type": "code",
   "execution_count": 11,
   "metadata": {
    "pycharm": {
     "name": "#%%\n"
    },
    "scrolled": true
   },
   "outputs": [
    {
     "name": "stdout",
     "output_type": "stream",
     "text": [
      "[[0 1 2]\n",
      " [3 4 5]]\n",
      "[[0 2]\n",
      " [1 0]\n",
      " [1 1]\n",
      " [1 2]]\n",
      "[[1]\n",
      " [1]\n",
      " [2]\n",
      " [2]\n",
      " [3]\n",
      " [3]\n",
      " [4]\n",
      " [4]]\n",
      "[[2]\n",
      " [2]]\n"
     ]
    }
   ],
   "source": [
    "x = np.arange(6).reshape(2,3)\n",
    "print(x)\n",
    "print(np.argwhere(x>1))\n",
    "list1=np.array([1,1,2,2,3,3,4,4]).reshape(8,1)\n",
    "print(list1)\n",
    "list2=np.array([2,4])\n",
    "list3=list1[np.where(list1[:,0]==2)]\n",
    "print(list3)"
   ]
  },
  {
   "cell_type": "markdown",
   "metadata": {},
   "source": [
    "numpy.unravel_index(indices, dims)函数返回indices中的元素在维度为dims的数组中的索引值，默认按元组的形式返回。那下面的例子是什么意思呢？\n",
    "\n",
    "参考博文[numpy.unravel_index 函数功能说明](https://blog.csdn.net/qq_39366624/article/details/79918937)\n",
    "\n",
    "第一行代码其过程类似：首先构造一个数组arr1=np.array(range(7*6)).reshape((7,6));返回indices中的元素值在数组arr1中对应值的索引位置。[3, 6, 6]分别对应[22, 41, 37]在第1维中的位置，[4, 5, 1]分别对应[22, 41, 37]在2维中的位置。\n",
    "\n",
    "第二行代码则是column-major (Fortran-style) order的。关于row-major和column-major，下面一张来自wiki百科的图可以轻松了解\n",
    "\n",
    "![Row- and column-major order](170px-Row_and_column_major_order.png)"
   ]
  },
  {
   "cell_type": "code",
   "execution_count": 3,
   "metadata": {},
   "outputs": [
    {
     "name": "stdout",
     "output_type": "stream",
     "text": [
      "[[ 0  1  2  3  4  5]\n",
      " [ 6  7  8  9 10 11]\n",
      " [12 13 14 15 16 17]\n",
      " [18 19 20 21 22 23]\n",
      " [24 25 26 27 28 29]\n",
      " [30 31 32 33 34 35]\n",
      " [36 37 38 39 40 41]]\n",
      "(array([3, 6, 6]), array([4, 5, 1]))\n",
      "[[ 0  1  2  3  4  5  6]\n",
      " [ 7  8  9 10 11 12 13]\n",
      " [14 15 16 17 18 19 20]\n",
      " [21 22 23 24 25 26 27]\n",
      " [28 29 30 31 32 33 34]\n",
      " [35 36 37 38 39 40 41]]\n",
      "(array([3, 6, 6]), array([4, 5, 1]))\n"
     ]
    }
   ],
   "source": [
    "import numpy as np\n",
    "print(np.array(range(7*6)).reshape((7,6)))\n",
    "print(np.unravel_index([22, 41, 37], (7,6)))\n",
    "print(np.array(range(7*6)).reshape((6,7)))\n",
    "print(np.unravel_index([31, 41, 13], (7,6), order='F'))"
   ]
  },
  {
   "cell_type": "markdown",
   "metadata": {},
   "source": [
    "### 广播\n",
    "\n",
    "该部分参考了[菜鸟教程](https://www.runoob.com/numpy/numpy-broadcast.html)和相关[博客](https://zhuanlan.zhihu.com/p/35010592)。\n",
    "\n",
    "执行 broadcast 的前提在于，两个 ndarray 执行的是 **element-wise**（按位加，按位减等） 的运算，而不是矩阵乘法的运算，矩阵乘法运算时需要维度之间严格匹配。\n",
    "\n",
    "广播的规则如下：\n",
    "\n",
    "- 让所有输入数组都向其中shape最长的数组看齐，shape中不足的部分都通过在前面加1补齐；\n",
    "- 输出数组的shape是输入数组shape的各个轴上的最大值；\n",
    "- 如果输入数组的某个轴和输出数组的对应轴的长度相同或者其长度为1时，这个数组能够用来计算，否则出错；\n",
    "- 当输入数组的某个轴的长度为1时，沿着此轴运算时都用此轴上的第一组值。\n"
   ]
  },
  {
   "cell_type": "code",
   "execution_count": 9,
   "metadata": {
    "pycharm": {
     "is_executing": false,
     "name": "#%%\n"
    }
   },
   "outputs": [
    {
     "name": "stdout",
     "output_type": "stream",
     "text": [
      "[2. 4. 3.]\n"
     ]
    }
   ],
   "source": [
    "# 广播运算只在某些情况下可用，比如：\n",
    "arr1 = np.array([1, 2, 3])\n",
    "arr2 = np.array([1, 2])\n",
    "# 当维度不同的向量想要对齐，并在不足处补0时，不可以使用广播\n",
    "length_zero = max(arr1.size, arr2.size) - min(arr1.size, arr2.size)\n",
    "zeros = np.zeros(length_zero)\n",
    "if arr1.size > arr2.size:\n",
    "    arr_new = np.hstack([arr2, zeros])\n",
    "    print(arr_new + arr1)\n",
    "else:\n",
    "    arr_new = np.hstack([arr1, zeros])\n",
    "    print(arr_new + arr2)\n"
   ]
  },
  {
   "cell_type": "markdown",
   "metadata": {
    "pycharm": {
     "name": "#%% md\n"
    }
   },
   "source": [
    "### 数组操作\n",
    "\n",
    "#### 翻转操作\n",
    "\n",
    "除了比较容易熟悉的转置操作外，还有swapaxes：该函数交换数组的两个轴。对于 1.10 之前的 NumPy 版本，会返回交换后数组的视图。\n",
    "\n",
    "函数三个参数：\n",
    "\n",
    "- arr： 要交换其轴的输入数组\n",
    "- axis1：对应第一个轴的整数\n",
    "- axis2：对应第二个轴的整数\n"
   ]
  },
  {
   "cell_type": "code",
   "execution_count": 3,
   "metadata": {
    "pycharm": {
     "is_executing": false,
     "name": "#%%\n"
    }
   },
   "outputs": [
    {
     "name": "stdout",
     "output_type": "stream",
     "text": [
      "原数组：\n",
      "[[[0 1]\n",
      "  [2 3]]\n",
      "\n",
      " [[4 5]\n",
      "  [6 7]]]\n",
      "\n",
      "\n",
      "调用 swapaxes 函数后的数组：\n",
      "[[[0 4]\n",
      "  [2 6]]\n",
      "\n",
      " [[1 5]\n",
      "  [3 7]]]\n"
     ]
    }
   ],
   "source": [
    "# 创建了三维的 ndarray\n",
    "a = np.arange(8).reshape(2,2,2)\n",
    "\n",
    "print('原数组：')\n",
    "print( a)\n",
    "# 现在交换轴 0（深度方向）到轴 2（宽度方向）\n",
    "print( '调用 swapaxes 函数后的数组：')\n",
    "print( np.swapaxes(a, 2, 0))\n"
   ]
  },
  {
   "cell_type": "markdown",
   "metadata": {
    "pycharm": {
     "name": "#%% md\n"
    }
   },
   "source": [
    "#### 修改形状\n",
    "\n",
    "最常用的就是reshape函数，这个函数在不改变数据的条件下修改形状，它可接受如下参数：\n",
    "\n",
    "- arr：要修改形状的数组\n",
    "- newshape：整数或者整数数组，新的形状应当兼容原有形状\n",
    "- order：'C'为 C 风格顺序，'F'为 F 风格顺序，'A'为保留原顺序。\n",
    "\n",
    "也可以使用array.reshape直接调用。\n"
   ]
  },
  {
   "cell_type": "code",
   "execution_count": 14,
   "metadata": {
    "pycharm": {
     "is_executing": false,
     "name": "#%%\n"
    }
   },
   "outputs": [
    {
     "name": "stdout",
     "output_type": "stream",
     "text": [
      "原始数组：\n",
      "[0 1 2 3 4 5 6 7]\n",
      "修改后的数组：\n",
      "[[0 1]\n",
      " [2 3]\n",
      " [4 5]\n",
      " [6 7]]\n",
      "[[0 1 2 3]\n",
      " [4 5 6 7]]\n",
      "[[0 4 1 5]\n",
      " [2 6 3 7]]\n",
      "[[0 1 2 3]\n",
      " [4 5 6 7]]\n"
     ]
    }
   ],
   "source": [
    "a = np.arange(8)\n",
    "print('原始数组：')\n",
    "print(a)\n",
    "b = a.reshape(4,2)\n",
    "print ('修改后的数组：')\n",
    "print (b)\n",
    "# 维度用()或者[]表示均可\n",
    "print(np.reshape(b, [2,4], order='C'))\n",
    "print(np.reshape(b, (2,4), order='F'))\n",
    "print(np.reshape(b, (2,4), order='A'))\n"
   ]
  },
  {
   "cell_type": "markdown",
   "metadata": {
    "pycharm": {
     "name": "#%% md\n"
    }
   },
   "source": [
    "二维展开为一维：flatten()函数。\n",
    "Return a copy of the array collapsed into one dimension."
   ]
  },
  {
   "cell_type": "code",
   "execution_count": 14,
   "metadata": {
    "pycharm": {
     "is_executing": false,
     "name": "#%%\n"
    }
   },
   "outputs": [
    {
     "name": "stdout",
     "output_type": "stream",
     "text": [
      "[1 2 3 4]\n"
     ]
    },
    {
     "data": {
      "text/plain": [
       "array([1, 3, 2, 4])"
      ]
     },
     "execution_count": 14,
     "metadata": {},
     "output_type": "execute_result"
    }
   ],
   "source": [
    "a = np.array([[1,2], [3,4]])\n",
    "print(a.flatten())\n",
    "a.flatten('F')"
   ]
  },
  {
   "cell_type": "markdown",
   "metadata": {
    "pycharm": {
     "name": "#%% md\n"
    }
   },
   "source": [
    "低维度扩充到高维——expand_dims，函数通过在指定位置插入新的轴来扩展数组形状。该函数需要两个参数：输入数组和新轴插入的位置。"
   ]
  },
  {
   "cell_type": "code",
   "execution_count": 1,
   "metadata": {
    "pycharm": {
     "is_executing": false,
     "name": "#%%\n"
    }
   },
   "outputs": [
    {
     "name": "stdout",
     "output_type": "stream",
     "text": [
      "[[1 2]\n",
      " [3 4]]\n",
      "[[[1 2]\n",
      "  [3 4]]]\n",
      "数组 x 和 y 的形状：\n",
      "(2, 2) (1, 2, 2)\n",
      "[[[1 2]]\n",
      "\n",
      " [[3 4]]]\n",
      "ndim 和 shape：\n",
      "2 3\n",
      "(2, 2) (2, 1, 2)\n"
     ]
    }
   ],
   "source": [
    "x = np.array(([1,2],[3,4]))\n",
    "print(x)\n",
    "y = np.expand_dims(x, axis = 0)\n",
    "print(y)）\n",
    "\n",
    "print('数组 x 和 y 的形状：')\n",
    "print(x.shape, y.shape)\n",
    "# 在位置 1 插入轴\n",
    "y = np.expand_dims(x, axis = 1)\n",
    "print(y)\n",
    "\n",
    "print('ndim 和 shape：')\n",
    "print(x.ndim,y.ndim)\n",
    "print(x.shape, y.shape)"
   ]
  },
  {
   "cell_type": "markdown",
   "metadata": {},
   "source": [
    "reshape也可以完成维度变换：\n",
    "形如[[1,3,5,6][1,4,7,8],[2,3,9,10],[2,4,11,12]]要取出每一维除前两个数之外的数据放入如下位置[[[5,6],[7,8]],[[9,10],[11,12]]]。"
   ]
  },
  {
   "cell_type": "code",
   "execution_count": 5,
   "metadata": {},
   "outputs": [
    {
     "name": "stdout",
     "output_type": "stream",
     "text": [
      "[[ 1  3  5  6]\n",
      " [ 1  4  7  8]\n",
      " [ 2  3  9 10]\n",
      " [ 2  4 11 12]]\n",
      "[[[ 5  6]\n",
      "  [ 7  8]]\n",
      "\n",
      " [[ 9 10]\n",
      "  [11 12]]]\n",
      "(2, 2, 2)\n"
     ]
    }
   ],
   "source": [
    "import numpy as np\n",
    "array1=np.array(([1,3,5,6],[1,4,7,8],[2,3,9,10],[2,4,11,12]))\n",
    "print(array1)\n",
    "n=2\n",
    "# 先去掉列，然后转换成3维\n",
    "array2=array1[:,2:].reshape(int(array1.shape[0]/n),2,2)\n",
    "print(array2)\n",
    "print(array2.shape)"
   ]
  },
  {
   "cell_type": "markdown",
   "metadata": {
    "pycharm": {
     "name": "#%% md\n"
    }
   },
   "source": [
    "#### 数组连接\n",
    "\n",
    "数组连接有几种方式：\n",
    "\n",
    "- concatenate 沿着现存的轴连接数据序列:此函数用于**沿指定轴**连接**相同形状**的两个或多个数组。\n",
    "- stack 沿着新轴连接数组序列:此函数沿**新轴**连接数组序列。\n",
    "- hstack 水平堆叠序列中的数组（列方向）；\n",
    "- vstack 竖直堆叠序列中的数组（行方向）。"
   ]
  },
  {
   "cell_type": "code",
   "execution_count": 6,
   "metadata": {
    "pycharm": {
     "is_executing": false,
     "name": "#%%\n"
    }
   },
   "outputs": [
    {
     "name": "stdout",
     "output_type": "stream",
     "text": [
      "第一个数组：\n",
      "[[1.2 2. ]\n",
      " [3.  4. ]]\n",
      "\n",
      "\n",
      "第二个数组：\n",
      "[[5 6]\n",
      " [7 8]]\n",
      "\n",
      "\n",
      "沿轴 0 连接两个数组：\n",
      "[[1.2 2. ]\n",
      " [3.  4. ]\n",
      " [5.  6. ]\n",
      " [7.  8. ]]\n",
      "\n",
      "\n",
      "沿轴 1 连接两个数组：\n",
      "[[1.2 2.  5.  6. ]\n",
      " [3.  4.  7.  8. ]]\n"
     ]
    }
   ],
   "source": [
    "import numpy as np\n",
    "a = np.array([[1.2,2],[3,4]])\n",
    "\n",
    "print ('第一个数组：')\n",
    "print (a)\n",
    "print ('\\n' ) \n",
    "b = np.array([[5,6],[7,8]])\n",
    "\n",
    "print( '第二个数组：')\n",
    "print (b)\n",
    "print ('\\n'  )\n",
    "# 两个数组的维度相同\n",
    "\n",
    "print ('沿轴 0 连接两个数组：')\n",
    "print( np.concatenate((a,b)))\n",
    "print ('\\n'  )\n",
    "\n",
    "print ('沿轴 1 连接两个数组：')\n",
    "print( np.concatenate((a,b),axis = 1))"
   ]
  },
  {
   "cell_type": "code",
   "execution_count": 3,
   "metadata": {},
   "outputs": [
    {
     "name": "stdout",
     "output_type": "stream",
     "text": [
      "第一个数组：\n",
      "[[1 2]\n",
      " [3 4]]\n",
      "\n",
      "\n",
      "第二个数组：\n",
      "[[5 6]\n",
      " [7 8]]\n",
      "\n",
      "\n",
      "沿轴 0 堆叠两个数组：\n",
      "[[[1 2]\n",
      "  [3 4]]\n",
      "\n",
      " [[5 6]\n",
      "  [7 8]]]\n",
      "\n",
      "\n",
      "沿轴 1 堆叠两个数组：\n",
      "[[[1 2]\n",
      "  [5 6]]\n",
      "\n",
      " [[3 4]\n",
      "  [7 8]]]\n"
     ]
    }
   ],
   "source": [
    "import numpy as np\n",
    "a = np.array([[1,2],[3,4]])\n",
    "\n",
    "print( '第一个数组：')\n",
    "print (a)\n",
    "print( '\\n')\n",
    "b = np.array([[5,6],[7,8]])\n",
    "\n",
    "print ('第二个数组：')\n",
    "print (b)\n",
    "print( '\\n'  )\n",
    "\n",
    "print( '沿轴 0 堆叠两个数组：')\n",
    "print( np.stack((a,b),0))\n",
    "print ('\\n')  \n",
    "\n",
    "print ('沿轴 1 堆叠两个数组：')\n",
    "print( np.stack((a,b),1))"
   ]
  },
  {
   "cell_type": "markdown",
   "metadata": {},
   "source": [
    "如果是多个长度相同的数组，一种简单的方式是直接写在一起："
   ]
  },
  {
   "cell_type": "code",
   "execution_count": 1,
   "metadata": {},
   "outputs": [
    {
     "name": "stdout",
     "output_type": "stream",
     "text": [
      "[[1 2 3 4 5 6]\n",
      " [1 2 3 4 5 6]\n",
      " [1 2 3 4 5 6]]\n"
     ]
    }
   ],
   "source": [
    "import numpy as np\n",
    "a=np.array([1,2,3,4,5,6])\n",
    "b=np.array([1,2,3,4,5,6])\n",
    "c=np.array([1,2,3,4,5,6])\n",
    "d=np.array([a,b,c])\n",
    "print(d)"
   ]
  },
  {
   "cell_type": "markdown",
   "metadata": {
    "pycharm": {
     "name": "#%% md\n"
    }
   },
   "source": [
    "#### 数组扩充\n",
    "\n",
    "numpy数组扩展函数有repeat和tile，由于数组不能进行动态扩展，故函数调用之后都重新分配新的空间来存储扩展后的数据。\n",
    "\n",
    "repeat函数功能：对数组中的元素进行连续重复复制。\n",
    "\n",
    "tile函数功能：对整个数组进行复制拼接。"
   ]
  },
  {
   "cell_type": "code",
   "execution_count": 12,
   "metadata": {
    "pycharm": {
     "is_executing": false,
     "name": "#%%\n"
    }
   },
   "outputs": [
    {
     "name": "stdout",
     "output_type": "stream",
     "text": [
      "[0 1 2 3 4 5 6 7 8 9] 原地重复: [0 0 0 0 0 1 1 1 1 1 2 2 2 2 2 3 3 3 3 3 4 4 4 4 4 5 5 5 5 5 6 6 6 6 6 7 7\n",
      " 7 7 7 8 8 8 8 8 9 9 9 9 9]\n",
      "[10 20] 不同元素重复不同次数: [10 10 10 20 20]\n",
      "[10 20] 整体重复: [10 20 10 20]\n",
      "[10 20] 多维重复: [[10 20 10 20]\n",
      " [10 20 10 20]\n",
      " [10 20 10 20]]\n",
      "[10 20] 多维重复: [[10 20]\n",
      " [10 20]\n",
      " [10 20]]\n"
     ]
    }
   ],
   "source": [
    "import numpy as np\n",
    "a = np.arange(10)  \n",
    "print(a,\"原地重复:\",a.repeat(5))\n",
    "a=np.array([10,20])\n",
    "print(a,\"不同元素重复不同次数:\",a.repeat([3,2]))\n",
    "\n",
    "print(a,\"整体重复:\",np.tile(a,2))\n",
    "print(a,\"多维重复:\",np.tile(a, (3,2))) #构造3*2个copy\n",
    "print(a,\"多维重复:\",np.tile(a, (3,1))) #构造3*1个copy"
   ]
  },
  {
   "cell_type": "markdown",
   "metadata": {},
   "source": [
    "#### 添加/删除元素\n",
    "\n",
    "添加元素常见的操作就是append了：numpy.append(arr, values, axis=None)——Append values to the end of an array\n",
    "\n",
    "unique可用来寻找数组内的唯一元素。"
   ]
  },
  {
   "cell_type": "code",
   "execution_count": 1,
   "metadata": {},
   "outputs": [
    {
     "name": "stdout",
     "output_type": "stream",
     "text": [
      "第一个数组：\n",
      "[[1 2 3]\n",
      " [4 5 6]]\n",
      "\n",
      "\n",
      "向数组添加元素：\n",
      "[1 2 3 4 5 6 7 8 9]\n",
      "\n",
      "\n",
      "沿轴 0 添加元素：\n",
      "[[1 2 3]\n",
      " [4 5 6]\n",
      " [7 8 9]]\n",
      "\n",
      "\n",
      "沿轴 1 添加元素：\n",
      "[[1 2 3 5 5 5]\n",
      " [4 5 6 7 8 9]]\n"
     ]
    }
   ],
   "source": [
    "import numpy as np\n",
    "a = np.array([[1,2,3],[4,5,6]])\n",
    "\n",
    "print ('第一个数组：')\n",
    "print (a)\n",
    "print ('\\n'  )\n",
    "\n",
    "print ('向数组添加元素：')\n",
    "print (np.append(a, [7,8,9]))\n",
    "print ('\\n'  )\n",
    "\n",
    "print ('沿轴 0 添加元素：')\n",
    "print( np.append(a, [[7,8,9]],axis = 0))\n",
    "print ('\\n'  )\n",
    "\n",
    "print( '沿轴 1 添加元素：')\n",
    "print (np.append(a, [[5,5,5],[7,8,9]],axis = 1))"
   ]
  },
  {
   "cell_type": "code",
   "execution_count": 3,
   "metadata": {},
   "outputs": [
    {
     "name": "stdout",
     "output_type": "stream",
     "text": [
      "第一个数组：\n",
      "[5 2 6 2 7 5 6 8 2 9]\n",
      "\n",
      "\n",
      "第一个数组的去重值：\n",
      "[2 5 6 7 8 9]\n",
      "\n",
      "\n",
      "去重数组的索引数组：\n",
      "[1 0 2 4 7 9]\n",
      "\n",
      "\n",
      "我们可以看到每个和原数组下标对应的数值：\n",
      "[5 2 6 2 7 5 6 8 2 9]\n",
      "\n",
      "\n",
      "去重数组的下标：\n",
      "[2 5 6 7 8 9]\n",
      "\n",
      "\n",
      "下标为：\n",
      "[1 0 2 0 3 1 2 4 0 5]\n",
      "\n",
      "\n",
      "使用下标重构原数组：\n",
      "[5 2 6 2 7 5 6 8 2 9]\n",
      "\n",
      "\n",
      "返回去重元素的重复数量：\n",
      "[2 5 6 7 8 9]\n",
      "6\n",
      "6\n",
      "[3 2 2 1 1 1]\n"
     ]
    }
   ],
   "source": [
    "import numpy as np\n",
    "a = np.array([5,2,6,2,7,5,6,8,2,9])\n",
    "\n",
    "print ('第一个数组：')\n",
    "print( a)\n",
    "print ('\\n'  )\n",
    "\n",
    "print( '第一个数组的去重值：')\n",
    "u = np.unique(a)\n",
    "print (u)\n",
    "print ('\\n'  )\n",
    "\n",
    "print ('去重数组的索引数组：')\n",
    "u,indices = np.unique(a, return_index = True)\n",
    "print (indices)\n",
    "print ('\\n'  )\n",
    "\n",
    "print ('我们可以看到每个和原数组下标对应的数值：')\n",
    "print (a)\n",
    "print ('\\n')  \n",
    "\n",
    "print ('去重数组的下标：')\n",
    "u,indices = np.unique(a,return_inverse = True)\n",
    "print( u)\n",
    "print ('\\n')\n",
    "\n",
    "print ('下标为：')\n",
    "print (indices)\n",
    "print ('\\n'  )\n",
    "\n",
    "print ('使用下标重构原数组：')\n",
    "print( u[indices])\n",
    "print ('\\n'  )\n",
    "\n",
    "print ('返回去重元素的重复数量：')\n",
    "u,indices = np.unique(a,return_counts = True)\n",
    "print( u)\n",
    "print( len(u))\n",
    "print( u.size)\n",
    "print (indices)"
   ]
  },
  {
   "cell_type": "markdown",
   "metadata": {},
   "source": [
    "#### 数组序列化\n",
    "\n",
    "这部分主要参考了：[numpy 的数据文件的序列化](https://easyfly007.github.io/blogs/python/npy.html)以及[Numpy中数据的常用的保存与读取方法](https://www.cnblogs.com/wushaogui/p/9142019.html)\n",
    "\n",
    "在经常性读取大量的数值文件时(比如深度学习训练数据),可以考虑现将数据存储为Numpy格式,然后直接使用Numpy去读取,速度相比为转化前快很多.\n",
    "\n",
    "对于 numpy 的 ndarray 数据，除了 pickle（一个python中序列化常用工具），我们可以用保存数据到二进制文件和保存数据到文本文件两种方式。\n",
    "\n",
    "首先看第一种，二进制的用numpy 自带的 save/savez 以及 load 方法来序列化保存到硬盘上以及读取。\n",
    "\n",
    "npy 文件可以保存一个 numpy 数据， 用的函数是 save"
   ]
  },
  {
   "cell_type": "code",
   "execution_count": 1,
   "metadata": {},
   "outputs": [
    {
     "name": "stdout",
     "output_type": "stream",
     "text": [
      "[[1 2 3]\n",
      " [4 5 6]]\n"
     ]
    }
   ],
   "source": [
    "import numpy as np\n",
    "x = np.array([[1,2,3], [4,5,6]])\n",
    "np.save('./123', x)\n",
    "y = np.load('./123.npy')\n",
    "print(y)"
   ]
  },
  {
   "cell_type": "markdown",
   "metadata": {},
   "source": [
    "npz 文件可以保存多个 numpy 数据，用的函数是 savez"
   ]
  },
  {
   "cell_type": "code",
   "execution_count": 3,
   "metadata": {},
   "outputs": [
    {
     "name": "stdout",
     "output_type": "stream",
     "text": [
      "[[1 2 3]\n",
      " [4 5 6]]\n",
      "[1 2]\n"
     ]
    }
   ],
   "source": [
    "import numpy as np\n",
    "a = np.array([[1, 2, 3], [4, 5, 6]])\n",
    "b = np.array([1, 2])\n",
    "np.savez('./123.npz', a = a, b = b)\n",
    "data = np.load('./123.npz')\n",
    "print(data['a'])\n",
    "print(data['b'])\n",
    "data.close()"
   ]
  },
  {
   "cell_type": "markdown",
   "metadata": {},
   "source": [
    "值得注意的是，如果我们用 np.load(filename)\n",
    "\n",
    "如果是一个 .npy 文件, 那么 load 返回一个 ndarray\n",
    "如果是一个 .npz 文件，那么 load 返回一个字典，格式为 {filename : array}， 和 pickle 类似\n",
    "如果是一个 .npz 文件，那么也支持以下方式访问：\n",
    "\n",
    "```python\n",
    "with np.load('foo.npz') as data:\n",
    "    a = data['a']\n",
    "```\n",
    "\n",
    "这简直不能太爽,深度学习中,有时候你保存了训练集,验证集,测试集,还包括他们的标签,用这个方式存储起来,要啥加载啥,文件数量大大减少,也不会到处改文件名去.\n",
    "\n",
    "另外还有一个numpy.savez_compressed方法，这个就是在前面numpy.savez的基础上加了压缩,前面我介绍时尤其注明numpy.savez是得到的文件打包,不压缩的.这个文件就是对文件进行打包时使用了压缩,可以理解为压缩前各npy的文件大小不变,使用该函数比前面的numpy.savez得到的npz文件更小.\n",
    "\n",
    "注:函数所需参数和numpy.savez一致,用法完成一样.\n",
    "\n",
    "第二种方式是保存到文本文件。numpy.savetxt 保存数组到文本文件上,可以直接打开查看文件里面的内容."
   ]
  },
  {
   "cell_type": "code",
   "execution_count": 4,
   "metadata": {},
   "outputs": [
    {
     "data": {
      "text/plain": [
       "array([[1., 1., 1.],\n",
       "       [1., 1., 1.]])"
      ]
     },
     "execution_count": 4,
     "metadata": {},
     "output_type": "execute_result"
    }
   ],
   "source": [
    "import numpy as np \n",
    "x = y = z = np.ones((2,3))\n",
    "x"
   ]
  },
  {
   "cell_type": "code",
   "execution_count": 5,
   "metadata": {},
   "outputs": [],
   "source": [
    "#保存数据 \n",
    "np.savetxt('./test/test.out', x) \n",
    "np.savetxt('./test/test1.out', x,fmt='%1.4e') \n",
    "np.savetxt('./test/test2.out', x, delimiter=',') \n",
    "np.savetxt('./test/test3.out', x,newline='a') \n",
    "np.savetxt('./test/test4.out', x,delimiter=',',newline='a') \n",
    "np.savetxt('./test/test5.out', x,delimiter=',',header='abc') \n",
    "np.savetxt('./test/test6.out', x,delimiter=',',footer='abc') "
   ]
  },
  {
   "cell_type": "markdown",
   "metadata": {},
   "source": [
    "那么接下来看看打开文件有什么变化没。numpy.loadtxt 根据前面定制的保存格式,相应的加载数据的函数也得变化."
   ]
  },
  {
   "cell_type": "code",
   "execution_count": 7,
   "metadata": {},
   "outputs": [
    {
     "data": {
      "text/plain": [
       "array([[1., 1., 1.],\n",
       "       [1., 1., 1.]])"
      ]
     },
     "execution_count": 7,
     "metadata": {},
     "output_type": "execute_result"
    }
   ],
   "source": [
    "np.loadtxt('./test/test.out') "
   ]
  },
  {
   "cell_type": "code",
   "execution_count": 8,
   "metadata": {},
   "outputs": [
    {
     "data": {
      "text/plain": [
       "array([[1., 1., 1.],\n",
       "       [1., 1., 1.]])"
      ]
     },
     "execution_count": 8,
     "metadata": {},
     "output_type": "execute_result"
    }
   ],
   "source": [
    "np.loadtxt('./test/test2.out', delimiter=',') "
   ]
  },
  {
   "cell_type": "markdown",
   "metadata": {
    "pycharm": {
     "name": "#%% md\n"
    }
   },
   "source": [
    "## 常见数学运算\n",
    "\n",
    "### 排序等算法"
   ]
  },
  {
   "cell_type": "code",
   "execution_count": 11,
   "metadata": {},
   "outputs": [
    {
     "name": "stdout",
     "output_type": "stream",
     "text": [
      "我们的数组是：\n",
      "[[3 7]\n",
      " [9 1]]\n",
      "\n",
      "\n",
      "调用 sort() 函数：\n",
      "[[3 7]\n",
      " [1 9]]\n",
      "\n",
      "\n",
      "按列排序：\n",
      "[[3 1]\n",
      " [9 7]]\n",
      "\n",
      "\n",
      "我们的数组是：\n",
      "[(b'raju', 21) (b'anil', 25) (b'ravi', 17) (b'amar', 27)]\n",
      "\n",
      "\n",
      "按 name 排序：\n",
      "[(b'amar', 27) (b'anil', 25) (b'raju', 21) (b'ravi', 17)]\n"
     ]
    }
   ],
   "source": [
    "import numpy as np  \n",
    " \n",
    "a = np.array([[3,7],[9,1]])  \n",
    "print ('我们的数组是：')\n",
    "print (a)\n",
    "print ('\\n')\n",
    "print ('调用 sort() 函数：')\n",
    "print (np.sort(a))\n",
    "print ('\\n')\n",
    "print ('按列排序：')\n",
    "print (np.sort(a, axis =  0))\n",
    "print ('\\n')\n",
    "# 在 sort 函数中排序字段 \n",
    "dt = np.dtype([('name',  'S10'),('age',  int)]) \n",
    "a = np.array([(\"raju\",21),(\"anil\",25),(\"ravi\",  17),  (\"amar\",27)], dtype = dt)  \n",
    "print ('我们的数组是：')\n",
    "print (a)\n",
    "print ('\\n')\n",
    "print ('按 name 排序：')\n",
    "print (np.sort(a, order =  'name'))"
   ]
  },
  {
   "cell_type": "markdown",
   "metadata": {},
   "source": [
    "### 算术运算\n",
    "\n",
    "#### argmax函数\n",
    "\n",
    "假定现在有一个数组a = [3, 1, 2, 4, 6, 1]现在要算数组a中最大数的索引是多少？argmax解决的就是这类问题"
   ]
  },
  {
   "cell_type": "code",
   "execution_count": null,
   "metadata": {
    "pycharm": {
     "name": "#%%\n"
    }
   },
   "outputs": [],
   "source": [
    "a = np.array([[1, 5, 5, 2],\n",
    "              [9, 6, 2, 8],\n",
    "              [3, 7, 9, 1]])\n",
    "print(np.argmax(a, axis=0))\n",
    "print(np.argmax(a, axis=1))"
   ]
  },
  {
   "cell_type": "markdown",
   "metadata": {
    "pycharm": {
     "name": "#%% md\n"
    }
   },
   "source": [
    "#### 卷积"
   ]
  },
  {
   "cell_type": "code",
   "execution_count": 10,
   "metadata": {
    "pycharm": {
     "is_executing": false,
     "name": "#%%\n"
    }
   },
   "outputs": [
    {
     "name": "stdout",
     "output_type": "stream",
     "text": [
      "[0.  1.  2.5 4.  1.5]\n"
     ]
    }
   ],
   "source": [
    "print(np.convolve([1, 2, 3], [0, 1, 0.5]))"
   ]
  },
  {
   "cell_type": "markdown",
   "metadata": {
    "pycharm": {
     "name": "#%% md\n"
    }
   },
   "source": [
    "### 统计运算\n",
    "\n",
    "#### 基础统计计算\n",
    "\n",
    "常见的有均值计算：直接取mean可计算，如果有nan值，就调用nanmean。"
   ]
  },
  {
   "cell_type": "code",
   "execution_count": 3,
   "metadata": {},
   "outputs": [
    {
     "data": {
      "text/plain": [
       "2.6666666666666665"
      ]
     },
     "execution_count": 3,
     "metadata": {},
     "output_type": "execute_result"
    }
   ],
   "source": [
    "a = np.array([[1, np.nan], [3, 4]])\n",
    "np.nanmean(a)"
   ]
  },
  {
   "cell_type": "code",
   "execution_count": 4,
   "metadata": {},
   "outputs": [
    {
     "data": {
      "text/plain": [
       "array([2., 4.])"
      ]
     },
     "execution_count": 4,
     "metadata": {},
     "output_type": "execute_result"
    }
   ],
   "source": [
    "np.nanmean(a, axis=0) # 0是每列求平均"
   ]
  },
  {
   "cell_type": "code",
   "execution_count": 5,
   "metadata": {},
   "outputs": [
    {
     "data": {
      "text/plain": [
       "array([1. , 3.5])"
      ]
     },
     "execution_count": 5,
     "metadata": {},
     "output_type": "execute_result"
    }
   ],
   "source": [
    "np.nanmean(a, axis=1)"
   ]
  },
  {
   "cell_type": "code",
   "execution_count": 19,
   "metadata": {},
   "outputs": [
    {
     "name": "stdout",
     "output_type": "stream",
     "text": [
      "[5.]\n",
      "5.0\n"
     ]
    }
   ],
   "source": [
    "arr = np.array([\n",
    "    [1, 2, 3, 4],\n",
    "    [2, 4, 6, 8],\n",
    "    [3, 6, 9, 12],\n",
    "    [4, 8, 12, 16]\n",
    "])\n",
    "index=np.array([(0, 2), (3, 1),(3,3)])\n",
    "# keepdims可以保持维度\n",
    "data_mean = np.mean(arr[index[0],index[1]], axis=0, keepdims=True)\n",
    "print(data_mean)\n",
    "# 没有keepdims就直接求均值了\n",
    "data_mean = np.mean(arr[index[0],index[1]], axis=0)\n",
    "print(data_mean)"
   ]
  },
  {
   "cell_type": "markdown",
   "metadata": {},
   "source": [
    "#### 随机数运算\n",
    "\n",
    "首先，是随机数生成，以及不重复生成，就是随机抽样了，随机抽样使用np.random.choice函数，如果replace参数是True，那么就和np.random.randint是一样的了。设置为False，就是不重复均匀抽样了。"
   ]
  },
  {
   "cell_type": "code",
   "execution_count": 3,
   "metadata": {},
   "outputs": [
    {
     "data": {
      "text/plain": [
       "array([0, 4, 1, 0, 0, 3, 2, 1, 0, 3])"
      ]
     },
     "execution_count": 3,
     "metadata": {},
     "output_type": "execute_result"
    }
   ],
   "source": [
    "import numpy as np\n",
    "np.random.randint(5,size=10)"
   ]
  },
  {
   "cell_type": "code",
   "execution_count": 4,
   "metadata": {},
   "outputs": [
    {
     "data": {
      "text/plain": [
       "array([6, 6, 8, 9, 5, 6, 8, 9, 7, 9])"
      ]
     },
     "execution_count": 4,
     "metadata": {},
     "output_type": "execute_result"
    }
   ],
   "source": [
    "np.random.randint(low=5,high=10,size=10)"
   ]
  },
  {
   "cell_type": "code",
   "execution_count": 10,
   "metadata": {},
   "outputs": [
    {
     "data": {
      "text/plain": [
       "array([1, 5, 2])"
      ]
     },
     "execution_count": 10,
     "metadata": {},
     "output_type": "execute_result"
    }
   ],
   "source": [
    "np.random.choice(6, 3, replace=False)"
   ]
  },
  {
   "cell_type": "markdown",
   "metadata": {},
   "source": [
    "接下来重点记录下seed在随机数生成中的重要作用。"
   ]
  },
  {
   "cell_type": "code",
   "execution_count": 1,
   "metadata": {
    "pycharm": {
     "name": "#%%\n"
    }
   },
   "outputs": [
    {
     "name": "stdout",
     "output_type": "stream",
     "text": [
      "[[1.76405235 0.40015721 0.97873798 2.2408932  1.86755799]]\n",
      "[[1.76405235 0.40015721 0.97873798 2.2408932  1.86755799]]\n",
      "[[1.76405235 0.40015721 0.97873798 2.2408932  1.86755799]]\n",
      "[[-0.97727788  0.95008842 -0.15135721 -0.10321885  0.4105985 ]]\n",
      "[[0.14404357 1.45427351 0.76103773 0.12167502 0.44386323]]\n",
      "[[ 0.33367433  1.49407907 -0.20515826  0.3130677  -0.85409574]]\n",
      "------从上面6次可以看出seed的影响-------\n",
      "[[-2.55298982  0.6536186   0.8644362  -0.74216502  2.26975462]]\n",
      "[[-1.45436567  0.04575852 -0.18718385  1.53277921  1.46935877]]\n",
      "----跳出原来的循环，看看新的循环里有没有不同，下面想比较个8次循环的随机内容，因为前面有三个循环是一样的，所以再补充两组随机值，凑够8个----\n",
      "[[ 0.15494743  0.37816252 -0.88778575 -1.98079647 -0.34791215]\n",
      " [ 0.15634897  1.23029068  1.20237985 -0.38732682 -0.30230275]]\n",
      "----新的8次循环，和之前的8次循环进行比较-----\n",
      "[[1.76405235 0.40015721 0.97873798 2.2408932  1.86755799]]\n",
      "[[-0.97727788  0.95008842 -0.15135721 -0.10321885  0.4105985 ]]\n",
      "[[0.14404357 1.45427351 0.76103773 0.12167502 0.44386323]]\n",
      "[[ 0.33367433  1.49407907 -0.20515826  0.3130677  -0.85409574]]\n",
      "[[-2.55298982  0.6536186   0.8644362  -0.74216502  2.26975462]]\n",
      "[[-1.45436567  0.04575852 -0.18718385  1.53277921  1.46935877]]\n",
      "[[ 0.15494743  0.37816252 -0.88778575 -1.98079647 -0.34791215]]\n",
      "[[ 0.15634897  1.23029068  1.20237985 -0.38732682 -0.30230275]]\n",
      "---可以看到，在种子一样的情况下，前后两次8个依次随机生成的数是一样的---\n",
      "============================================================\n",
      "---------接下来换一个种子，看一看随机生成的数据是否一样----------\n",
      "[[1.76405235 0.40015721 0.97873798 2.2408932  1.86755799]]\n",
      "[[-0.97727788  0.95008842 -0.15135721 -0.10321885  0.4105985 ]]\n",
      "[[0.14404357 1.45427351 0.76103773 0.12167502 0.44386323]]\n",
      "[[ 1.62434536 -0.61175641 -0.52817175 -1.07296862  0.86540763]]\n",
      "[[-2.3015387   1.74481176 -0.7612069   0.3190391  -0.24937038]]\n",
      "[[ 1.46210794 -2.06014071 -0.3224172  -0.38405435  1.13376944]]\n",
      "----当种子一样时，不论什么时候生成的随机数都是一样的，当种子不一样时，生成的随机数自然就不同了----\n",
      "1.0\n",
      "0.0\n"
     ]
    }
   ],
   "source": [
    "# 随机数运算\n",
    "i = 0\n",
    "while i < 6:\n",
    "    if i < 3:\n",
    "        np.random.seed(0)\n",
    "        # 种子一样，生成的随机数也是一样的\n",
    "        print(np.random.randn(1, 5))\n",
    "    else:\n",
    "        print(np.random.randn(1, 5))\n",
    "        pass\n",
    "    i += 1\n",
    "print(\"------从上面6次可以看出seed的影响-------\")\n",
    "i = 0\n",
    "while i < 2:\n",
    "    print(np.random.randn(1, 5))\n",
    "    i += 1\n",
    "print(\"----跳出原来的循环，看看新的循环里有没有不同，下面想比较个8次循环的随机内容，因为前面有三个循环是一样的，所以再补充两组随机值，凑够8个----\")\n",
    "print(np.random.randn(2, 5))\n",
    "np.random.seed(0)\n",
    "i = 0\n",
    "print(\"----新的8次循环，和之前的8次循环进行比较-----\")\n",
    "while i < 8:\n",
    "    print(np.random.randn(1, 5))\n",
    "    i += 1\n",
    "print(\"---可以看到，在种子一样的情况下，前后两次8个依次随机生成的数是一样的---\")\n",
    "# 以上结果说明，随机数种子对后面的结果一直有影响。同时，加了随机数种子以后，后面的随机数组都是按一定的顺序生成的\n",
    "\n",
    "print(\"============================================================\")\n",
    "print(\"---------接下来换一个种子，看一看随机生成的数据是否一样----------\")\n",
    "i = 0\n",
    "np.random.seed(0)\n",
    "while i < 3:\n",
    "    print(np.random.randn(1, 5))\n",
    "    i += 1\n",
    "i = 0\n",
    "np.random.seed(1)\n",
    "i = 0\n",
    "while i < 3:\n",
    "    print(np.random.randn(1, 5))\n",
    "    i += 1\n",
    "print(\"----当种子一样时，不论什么时候生成的随机数都是一样的，当种子不一样时，生成的随机数自然就不同了----\")\n",
    "# 不论在哪台电脑上，当随机数种子参数为0和1时，生成的随机数相同。说明该参数指定了一个随机数生成的起始位置。每个参数对应一个位置。并且在该参数确定后，其后面的随机数的生成顺序也就确定了。\n",
    "# 所以随机数种子的参数怎么选择？我认为随意，这个参数只是确定一下随机数的起始位置。\n",
    "\n",
    "# ------------------numpy all()函数---------------------\n",
    "a = np.array([1, 2, 3])\n",
    "b = a.copy()\n",
    "print((a == b).all(axis=0).mean())\n",
    "c = b.copy()\n",
    "c[0] = 0\n",
    "print((b == c).all(axis=0).mean())"
   ]
  },
  {
   "cell_type": "markdown",
   "metadata": {
    "pycharm": {
     "name": "#%% md\n"
    }
   },
   "source": [
    "#### percentile函数\n",
    "\n",
    "百分位数是统计中使用的度量，表示小于这个值的观察值的百分比。 函数numpy.percentile()接受三个参数：\n",
    "\n",
    "输入数组；要计算的百分位数，在 0 ~ 100 之间；沿着它计算百分位数的轴。\n"
   ]
  },
  {
   "cell_type": "code",
   "execution_count": 2,
   "metadata": {
    "pycharm": {
     "is_executing": false,
     "name": "#%%\n"
    }
   },
   "outputs": [
    {
     "name": "stdout",
     "output_type": "stream",
     "text": [
      "数组是：\n",
      "[[30 40 70]\n",
      " [80 20 10]\n",
      " [50 90 60]]\n",
      "调用 percentile() 函数：\n",
      "50.0\n",
      "沿轴 1 调用 percentile() 函数：\n",
      "[40. 20. 60.]\n",
      "沿轴 0 调用 percentile() 函数：\n",
      "[50. 40. 60.]\n"
     ]
    }
   ],
   "source": [
    "import numpy as np \n",
    "a = np.array([[30,40,70],[80,20,10],[50,90,60]])  \n",
    "print ('数组是：'  )\n",
    "print (a )\n",
    "print  ('调用 percentile() 函数：'  )\n",
    "print (np.percentile(a,50)  )\n",
    "print ( '沿轴 1 调用 percentile() 函数：'  )\n",
    "print (np.percentile(a,50, axis =  1)  )\n",
    "print ( '沿轴 0 调用 percentile() 函数：')  \n",
    "print (np.percentile(a,50, axis =  0))"
   ]
  },
  {
   "cell_type": "markdown",
   "metadata": {
    "pycharm": {
     "name": "#%% md\n"
    }
   },
   "source": [
    "### 集合运算\n",
    "\n",
    "#### 取交集\n",
    "\n",
    "使用intersect1d找到两个数组的交集。返回的是排序的、没有重复值的数组，还有交集中各个元素在原数组中的index。\n"
   ]
  },
  {
   "cell_type": "code",
   "execution_count": 20,
   "metadata": {
    "pycharm": {
     "is_executing": false,
     "name": "#%%\n"
    }
   },
   "outputs": [
    {
     "name": "stdout",
     "output_type": "stream",
     "text": [
      "[1 3]\n",
      "[3]\n",
      "[1 3]\n",
      "[0 1]\n",
      "[1 0]\n",
      "[1 1 3 3]\n",
      "[0 5 1 3]\n",
      "[ 1  3 -1  0]\n",
      "属于原数组的索引\n",
      "[0, 1, 3]\n",
      "[1, 3, 0]\n"
     ]
    }
   ],
   "source": [
    "from functools import reduce\n",
    "lst1 = [1, 3, 4, 3]\n",
    "lst2 = [3, 1, 2, 1]\n",
    "print(np.intersect1d(lst1, lst2))\n",
    "# 多个集合取交集，使用reduce操作\n",
    "print(reduce(np.intersect1d, ([1, 3, 4, 3], [3, 1, 2, 1], [6, 3, 4, 2])))\n",
    "# 返回两个交集相交的元素的index\n",
    "C, ind1, ind2 = np.intersect1d(lst1, lst2, return_indices=True)\n",
    "print(C)\n",
    "print(ind1)\n",
    "print(ind2)\n",
    "# 取交集不去重\n",
    "C, ind1, ind2 = np.intersect1d(lst1, lst2, return_indices=True, assume_unique=True)\n",
    "print(C)\n",
    "print(ind1)\n",
    "print(ind2)\n",
    "print(\"属于原数组的索引\")\n",
    "print([X for X in list(ind1) if (X >= 0 and X <= 3)])\n",
    "print([X for X in list(ind2) if (X >= 0 and X <= 3)])"
   ]
  },
  {
   "cell_type": "markdown",
   "metadata": {},
   "source": [
    "### 逻辑运算\n",
    "\n",
    "#### where函数"
   ]
  },
  {
   "cell_type": "code",
   "execution_count": 22,
   "metadata": {
    "pycharm": {
     "name": "#%%\n"
    }
   },
   "outputs": [
    {
     "name": "stdout",
     "output_type": "stream",
     "text": [
      "[-1  1  1  1  1  1  1  1  1  1]\n",
      "[-1 -1 -1 -1 -1 -1  1  1  1  1]\n",
      "(array([2, 3, 4], dtype=int64),)\n"
     ]
    }
   ],
   "source": [
    "aa = np.arange(10)\n",
    "# np.where(condition, x, y)：满足条件(condition)，输出x，不满足输出y。\n",
    "print(np.where(aa, 1, -1))\n",
    "print(np.where(aa > 5, 1, -1))\n",
    "# np.where(condition)：只有条件 (condition)，没有x和y，则输出满足条件 (即非0) 元素的坐标\n",
    "a = np.array([2, 4, 6, 8, 10])\n",
    "print(np.where(a > 5))"
   ]
  },
  {
   "cell_type": "markdown",
   "metadata": {},
   "source": [
    "如果涉及多条件，使用python的列表生成式实现可能更方便"
   ]
  },
  {
   "cell_type": "code",
   "execution_count": 23,
   "metadata": {},
   "outputs": [
    {
     "name": "stdout",
     "output_type": "stream",
     "text": [
      "[4]\n"
     ]
    }
   ],
   "source": [
    "print([i for i in a if i>2 and i<5])"
   ]
  },
  {
   "cell_type": "markdown",
   "metadata": {},
   "source": [
    "### 时间日期\n",
    "\n",
    "从NumPy 1.7开始，有核心数组数据类型本身支持日期时间功能。数据类型称为 “datetime64” ， 因为 “datetime” 已被Python中包含的日期时间库所占用。\n",
    "\n",
    "创建日期时间的最基本方法是使用ISO 8601日期或日期时间格式的字符串。"
   ]
  },
  {
   "cell_type": "code",
   "execution_count": 8,
   "metadata": {},
   "outputs": [
    {
     "data": {
      "text/plain": [
       "numpy.datetime64('2005-02-25')"
      ]
     },
     "execution_count": 8,
     "metadata": {},
     "output_type": "execute_result"
    }
   ],
   "source": [
    "import numpy as np\n",
    "np.datetime64('2005-02-25')"
   ]
  },
  {
   "cell_type": "code",
   "execution_count": 9,
   "metadata": {},
   "outputs": [
    {
     "data": {
      "text/plain": [
       "numpy.datetime64('2005-02-25T03:30')"
      ]
     },
     "execution_count": 9,
     "metadata": {},
     "output_type": "execute_result"
    }
   ],
   "source": [
    "np.datetime64('2005-02-25T03:30')"
   ]
  },
  {
   "cell_type": "markdown",
   "metadata": {},
   "source": [
    "可以创建日期数组："
   ]
  },
  {
   "cell_type": "code",
   "execution_count": 10,
   "metadata": {},
   "outputs": [
    {
     "data": {
      "text/plain": [
       "array(['2007-07-13', '2006-01-13', '2010-08-13'], dtype='datetime64[D]')"
      ]
     },
     "execution_count": 10,
     "metadata": {},
     "output_type": "execute_result"
    }
   ],
   "source": [
    "np.array(['2007-07-13', '2006-01-13', '2010-08-13'], dtype='datetime64')"
   ]
  },
  {
   "cell_type": "code",
   "execution_count": 11,
   "metadata": {},
   "outputs": [
    {
     "data": {
      "text/plain": [
       "array(['2005-02-01', '2005-02-02', '2005-02-03', '2005-02-04',\n",
       "       '2005-02-05', '2005-02-06', '2005-02-07', '2005-02-08',\n",
       "       '2005-02-09', '2005-02-10', '2005-02-11', '2005-02-12',\n",
       "       '2005-02-13', '2005-02-14', '2005-02-15', '2005-02-16',\n",
       "       '2005-02-17', '2005-02-18', '2005-02-19', '2005-02-20',\n",
       "       '2005-02-21', '2005-02-22', '2005-02-23', '2005-02-24',\n",
       "       '2005-02-25', '2005-02-26', '2005-02-27', '2005-02-28'],\n",
       "      dtype='datetime64[D]')"
      ]
     },
     "execution_count": 11,
     "metadata": {},
     "output_type": "execute_result"
    }
   ],
   "source": [
    "np.arange('2005-02', '2005-03', dtype='datetime64[D]')"
   ]
  },
  {
   "cell_type": "markdown",
   "metadata": {},
   "source": [
    "datetime对象表示**单个时刻**。如果两个日期时间具有不同的单位，它们可能仍然代表相同的时刻，并且从较大的单位（如月份）转换为较小的单位（如天数）被视为“安全”投射，因为时刻仍然正好表示。"
   ]
  },
  {
   "cell_type": "code",
   "execution_count": 12,
   "metadata": {},
   "outputs": [
    {
     "data": {
      "text/plain": [
       "True"
      ]
     },
     "execution_count": 12,
     "metadata": {},
     "output_type": "execute_result"
    }
   ],
   "source": [
    "np.datetime64('2005') == np.datetime64('2005-01-01')"
   ]
  },
  {
   "cell_type": "code",
   "execution_count": 13,
   "metadata": {},
   "outputs": [
    {
     "name": "stderr",
     "output_type": "stream",
     "text": [
      "/home/owen/anaconda3/lib/python3.7/site-packages/ipykernel_launcher.py:1: DeprecationWarning: parsing timezone aware datetimes is deprecated; this will raise an error in the future\n",
      "  \"\"\"Entry point for launching an IPython kernel.\n"
     ]
    },
    {
     "data": {
      "text/plain": [
       "True"
      ]
     },
     "execution_count": 13,
     "metadata": {},
     "output_type": "execute_result"
    }
   ],
   "source": [
    "np.datetime64('2010-03-14T15Z') == np.datetime64('2010-03-14T15:00:00.00Z')"
   ]
  },
  {
   "cell_type": "markdown",
   "metadata": {},
   "source": [
    "获取年月日，根据[Get year, month or day from numpy datetime64](https://stackoverflow.com/questions/13648774/get-year-month-or-day-from-numpy-datetime64)的高赞回答："
   ]
  },
  {
   "cell_type": "code",
   "execution_count": 16,
   "metadata": {},
   "outputs": [
    {
     "name": "stdout",
     "output_type": "stream",
     "text": [
      "[2000 2000 2000 ... 2009 2009 2009]\n",
      "[ 1  1  1 ... 12 12 12]\n",
      "[ 1  2  3 ... 29 30 31]\n"
     ]
    }
   ],
   "source": [
    "dates = np.arange(np.datetime64('2000-01-01'), np.datetime64('2010-01-01'))\n",
    "years = dates.astype('datetime64[Y]').astype(int) + 1970\n",
    "months = dates.astype('datetime64[M]').astype(int) % 12 + 1\n",
    "days = dates - dates.astype('datetime64[M]') + 1\n",
    "print(years)\n",
    "print(months)\n",
    "print(days)"
   ]
  },
  {
   "cell_type": "code",
   "execution_count": 18,
   "metadata": {},
   "outputs": [
    {
     "name": "stdout",
     "output_type": "stream",
     "text": [
      "2002\n",
      "4\n"
     ]
    },
    {
     "name": "stderr",
     "output_type": "stream",
     "text": [
      "/home/owen/anaconda3/lib/python3.7/site-packages/ipykernel_launcher.py:1: DeprecationWarning: parsing timezone aware datetimes is deprecated; this will raise an error in the future\n",
      "  \"\"\"Entry point for launching an IPython kernel.\n"
     ]
    }
   ],
   "source": [
    "datetime64Obj = np.datetime64('2002-07-04T02:55:41-0700')\n",
    "print (datetime64Obj.astype(object).year)\n",
    "# 2002\n",
    "print (datetime64Obj.astype(object).day)\n",
    "# 4"
   ]
  },
  {
   "cell_type": "markdown",
   "metadata": {},
   "source": [
    "将numpy日期时间转为字符串："
   ]
  },
  {
   "cell_type": "code",
   "execution_count": 13,
   "metadata": {},
   "outputs": [
    {
     "data": {
      "text/plain": [
       "'2012-06-30'"
      ]
     },
     "execution_count": 13,
     "metadata": {},
     "output_type": "execute_result"
    }
   ],
   "source": [
    "import numpy as np\n",
    "t = np.datetime64('2012-06-30T20:00:00')\n",
    "np.datetime_as_string(t, unit='D')"
   ]
  },
  {
   "cell_type": "code",
   "execution_count": 14,
   "metadata": {},
   "outputs": [
    {
     "data": {
      "text/plain": [
       "'2012-06-30T20:00:00'"
      ]
     },
     "execution_count": 14,
     "metadata": {},
     "output_type": "execute_result"
    }
   ],
   "source": [
    "np.datetime_as_string(t)"
   ]
  },
  {
   "cell_type": "markdown",
   "metadata": {},
   "source": [
    "日期算数运算："
   ]
  },
  {
   "cell_type": "code",
   "execution_count": 1,
   "metadata": {},
   "outputs": [
    {
     "data": {
      "text/plain": [
       "numpy.timedelta64(366,'D')"
      ]
     },
     "execution_count": 1,
     "metadata": {},
     "output_type": "execute_result"
    }
   ],
   "source": [
    "import numpy as np\n",
    "np.datetime64('2009-01-01') - np.datetime64('2008-01-01')"
   ]
  },
  {
   "cell_type": "code",
   "execution_count": 2,
   "metadata": {},
   "outputs": [
    {
     "data": {
      "text/plain": [
       "numpy.datetime64('2009-01-21')"
      ]
     },
     "execution_count": 2,
     "metadata": {},
     "output_type": "execute_result"
    }
   ],
   "source": [
    "np.datetime64('2009') + np.timedelta64(20, 'D')"
   ]
  },
  {
   "cell_type": "code",
   "execution_count": 3,
   "metadata": {},
   "outputs": [
    {
     "data": {
      "text/plain": [
       "numpy.datetime64('2011-06-15T12:00')"
      ]
     },
     "execution_count": 3,
     "metadata": {},
     "output_type": "execute_result"
    }
   ],
   "source": [
    "np.datetime64('2011-06-15T00:00') + np.timedelta64(12, 'h')"
   ]
  },
  {
   "cell_type": "code",
   "execution_count": 4,
   "metadata": {},
   "outputs": [
    {
     "data": {
      "text/plain": [
       "7.0"
      ]
     },
     "execution_count": 4,
     "metadata": {},
     "output_type": "execute_result"
    }
   ],
   "source": [
    "np.timedelta64(1,'W') / np.timedelta64(1,'D')"
   ]
  },
  {
   "cell_type": "code",
   "execution_count": 5,
   "metadata": {},
   "outputs": [
    {
     "data": {
      "text/plain": [
       "numpy.timedelta64(7,'D')"
      ]
     },
     "execution_count": 5,
     "metadata": {},
     "output_type": "execute_result"
    }
   ],
   "source": [
    "np.timedelta64(1,'W') % np.timedelta64(10,'D')"
   ]
  },
  {
   "cell_type": "markdown",
   "metadata": {},
   "source": [
    "### 自定义函数\n",
    "\n",
    "在numpy中，为了加速运算，通常尽量使用内置函数，并避免使用for循环，比如可以使用apply来执行特定函数。"
   ]
  },
  {
   "cell_type": "code",
   "execution_count": 6,
   "metadata": {},
   "outputs": [
    {
     "name": "stdout",
     "output_type": "stream",
     "text": [
      "[[1 2 3]\n",
      " [4 5 6]\n",
      " [7 8 9]]\n"
     ]
    },
    {
     "data": {
      "text/plain": [
       "array([4., 5., 6.])"
      ]
     },
     "execution_count": 6,
     "metadata": {},
     "output_type": "execute_result"
    }
   ],
   "source": [
    "def my_func(a):\n",
    "    \"\"\"Average first and last element of a 1-D array\"\"\"\n",
    "    return (a[0] + a[-1]) * 0.5\n",
    "\n",
    "b = np.array([[1,2,3], [4,5,6], [7,8,9]])\n",
    "print(b)\n",
    "# 0表示第0维度的方向上的运算\n",
    "np.apply_along_axis(my_func, 0, b)"
   ]
  },
  {
   "cell_type": "code",
   "execution_count": 5,
   "metadata": {},
   "outputs": [
    {
     "data": {
      "text/plain": [
       "array([2., 5., 8.])"
      ]
     },
     "execution_count": 5,
     "metadata": {},
     "output_type": "execute_result"
    }
   ],
   "source": [
    "np.apply_along_axis(my_func, 1, b)"
   ]
  },
  {
   "cell_type": "code",
   "execution_count": 15,
   "metadata": {},
   "outputs": [
    {
     "data": {
      "text/plain": [
       "array([2., 5., 8.])"
      ]
     },
     "execution_count": 15,
     "metadata": {},
     "output_type": "execute_result"
    }
   ],
   "source": [
    "np.apply_along_axis(lambda x: (x[0] + x[-1]) * 0.5, 1, b)"
   ]
  },
  {
   "cell_type": "code",
   "execution_count": 17,
   "metadata": {},
   "outputs": [
    {
     "data": {
      "text/plain": [
       "array([2., 5., 8.])"
      ]
     },
     "execution_count": 17,
     "metadata": {},
     "output_type": "execute_result"
    }
   ],
   "source": [
    "def my_func(a):\n",
    "    \"\"\"Average first and last element of a 1-D array\"\"\"\n",
    "    x=a[0]\n",
    "    y=a[-1]\n",
    "    return (x + y) * 0.5\n",
    "\n",
    "np.apply_along_axis(my_func, 1, b)"
   ]
  }
 ],
 "metadata": {
  "kernelspec": {
   "display_name": "Python 3",
   "language": "python",
   "name": "python3"
  },
  "language_info": {
   "codemirror_mode": {
    "name": "ipython",
    "version": 3
   },
   "file_extension": ".py",
   "mimetype": "text/x-python",
   "name": "python",
   "nbconvert_exporter": "python",
   "pygments_lexer": "ipython3",
   "version": "3.7.4"
  },
  "pycharm": {
   "stem_cell": {
    "cell_type": "raw",
    "metadata": {
     "collapsed": false
    },
    "source": []
   }
  }
 },
 "nbformat": 4,
 "nbformat_minor": 4
}
