{
 "cells": [
  {
   "cell_type": "markdown",
   "metadata": {},
   "source": [
    "# DEAP 的基本使用\n",
    "\n",
    "本文简单介绍DEAP的基本框架，并结合一个实例展示使用DEAP中算法的过程。\n",
    "\n",
    "参考资料如下：\n",
    "\n",
    "- [DEAP: Evolutionary Algorithms Made Easy](https://www.jmlr.org/papers/volume13/fortin12a/fortin12a.pdf)\n",
    "- [DEAP documentation](https://deap.readthedocs.io/en/master/)\n",
    "- [基于DEAP库的Python进化算法从入门到入土](https://www.jianshu.com/p/8fa044ed9267)\n",
    "- [lmarti/evolutionary-computation-course](https://github.com/lmarti/evolutionary-computation-course)\n",
    "\n",
    "安装deap执行以下语句即可：\n",
    "\n",
    "```Shell\n",
    "conda install -c conda-forge deap\n",
    "```\n",
    "\n",
    "## DEAP 核心结构\n",
    "\n",
    "进化算法(Evolutionary Algorithms)是一类元启发式算法的统称。这类算法借鉴大自然中生物的进化、选择与淘汰机制，通常先产生一个族群，然后不断进化与淘汰，最终产生能够在严酷的自然环境中生存的优异个体（也就是有较大适应度函数的可行解）。它具有自组织、自适应的特性，常被用来处理传统优化算法难以解决的问题。\n",
    "\n",
    "其优点在于：\n",
    "\n",
    "- 泛用性强，对连续变量和离散变量都能适用；\n",
    "- 不需要导数信息，因此不要求适应度函数的连续和可微性质(或者说不需要问题内在机理的相关信息)；\n",
    "- 可以在解空间内大范围并行搜索；\n",
    "- 不容易陷入局部最优；\n",
    "- 高度并行化，并且容易与其他优化方法整合。\n",
    "\n",
    "缺点包括：\n",
    "\n",
    "- 对于凸优化问题，相对基于梯度的优化方法（例如梯度下降法，牛顿/拟牛顿法）收敛速度更慢；\n",
    "- 进化算法需要在搜索空间投放大量个体来搜索最优解。对于高维问题，由于搜索空间随维度指数级膨胀，需要投放的个体数也大幅增长，会导致收敛速度变慢；\n",
    "- 设计编码方式、适应度函数以及变异规则需要大量经验。\n",
    "\n",
    "宽泛来讲，大部分进化算法都具有以下元素：\n",
    "\n",
    "- 个体编码(Individual representation): 将问题的解空间编码映射到搜索空间的过程。常用的编码方式有二值编码(Binary)，格雷编码(Gray)，浮点编码(Floating-point)等。\n",
    "- 评价(Evaluation and Fitness assignment): 设定一定的准则评价族群内每个个体的优秀程度。这种优秀程度通常称为适应度(Fitness)。\n",
    "- 配种选择(Mating selection): 建立准则从父代中选择个体参与育种。尽可能选择精英个体的同时也应当维护种群的多样性，避免算法过早陷入局部最优。\n",
    "- 变异(Variation): 变异过程包括一系列受到生物启发的操作，例如重组(Recombination)，突变(mutation)等。通过变异操作，父代的个体编码以一定方式继承和重新组合后，形成后代族群。\n",
    "- 环境选择(Environmental selection): 将父代与子代重组成新的族群。这个过程中育种得到的后代被重新插入到父代种群中，替换父代种群的部分或全体，形成具有与前代相近规模的新族群。\n",
    "- 停止准则(Stopping crieterion): 确定算法何时停止，通常有两种情况：算法已经找到最优解或者算法已经选入局部最优，不能继续在解空间内搜索。\n",
    "\n",
    "利用这些元素，我们就可以依照流程图组成一个进化算法：\n",
    "\n",
    "![](pictures/17867674-a70e9d4134cdbad6.webp)\n",
    "\n",
    "伪代码表述如下：\n",
    "\n",
    "``` pseudo-code\n",
    "Generate the initial population P(0) at random, and set t to 0.\n",
    "repeat\n",
    "    Evaluate the fitness of each individual in P(t).\n",
    "    Select parents from P(t) based on their fitness.\n",
    "    Obtain population P(t+1) by making variations to parents.\n",
    "    Set t = t + 1\n",
    "until Stopping crieterion satisfied\n",
    "```\n",
    "\n",
    "python代码会类似这样：\n",
    "\n",
    "```python\n",
    "def evolutionary_algorithm():\n",
    "    'Pseudocode of an evolutionary algorithm'    \n",
    "    populations = [] # a list with all the populations\n",
    "    \n",
    "    populations[0] =  initialize_population(pop_size)\n",
    "    t = 0\n",
    "    \n",
    "    while not stop_criterion(populations[t]):\n",
    "        fitnesses = evaluate(populations[t])\n",
    "        offspring = matting_and_variation(populations[t],\n",
    "                                          fitnesses)\n",
    "        populations[t+1] = environmental_selection(           \n",
    "                                          populations[t],\n",
    "                                          offspring)\n",
    "        t = t+1\n",
    "```\n",
    "\n",
    "进化算法已经发展成为一个由许多不同的技术和机制组成的复杂领域了，为了能够更快速的构建算法原型，Fortin等制作了DEAP这一工具。\n",
    "\n",
    "DEAP核心主要由两个结构组成：creator和toolbox。creator模块是一个meta-factory（关于元编程的概念可以参考[这里](https://github.com/waterDLut/hydrus/blob/master/1-learn-python/5.1-advanced-python.ipynb)“元编程”一小节，还是有必要了解一下的，否则后面的代码不好理解），能够在运行时通过继承和组合来构建类。数据和函数能够动态地添加到已有的类中以根据用户定制的函数创建新的类型。creator的概念是灵活实现各类进化算法的关键。toolbox是各类工具的容器，它由使用者选择自己要用的工具来填充，选择一个工具后将它注册到toolbox中，每类工具有它的那一类运算名字，比如交叉操作，叫“mate”。\n",
    "\n",
    "这两个核心模块会被一些外围模块运用。algorithms模块包含了很多经典的进化算法，用户可以从这里开始使用代码。tools模块提供了进化基本运算，比如初始化、变异、交叉、选择等，它们都能直接添加入toolbox以使用算法；tools还有一些整合进化中相关信息的组件，比如最优种群的适应度统计、谱系、名人堂等，以及保存中间结果等。base模块有一些基本的进化算法中常用数据结构，不过不是python实现的。最后一个模块dtm，是为了执行分布式任务。"
   ]
  },
  {
   "cell_type": "markdown",
   "metadata": {},
   "source": [
    "接下来介绍上面涉及到的中间过程。"
   ]
  },
  {
   "cell_type": "markdown",
   "metadata": {},
   "source": [
    "## 定义个体\n",
    "\n",
    "- 单目标优化：creator.create('FitnessMin', base.Fitness, weights=(-1.0, ))\n",
    "\n",
    "在创建单目标优化问题时，weights用来指示最大化和最小化。此处-1.0即代表问题是一个最小化问题，对于最大化，应将weights改为正数，如1.0。\n",
    "\n",
    "另外即使是单目标优化，weights也需要是一个tuple，以保证单目标和多目标优化时数据结构的统一。\n",
    "\n",
    "对于单目标优化问题，weights 的绝对值没有意义，只要符号选择正确即可。\n",
    "\n",
    "- 多目标优化：creator.create('FitnessMulti', base.Fitness, weights=(-1.0, 1.0))\n",
    "\n",
    "对于多目标优化问题，weights用来指示多个优化目标之间的相对重要程度以及最大化最小化。如示例中给出的(-1.0, 1.0)代表对第一个目标函数取最小值，对第二个目标函数取最大值。\n",
    "\n",
    "创建类型后，需要用值填充它们，值的形式有多种。比如实数编码(Value encoding)：直接用实数对变量进行编码。优点是不用解码，基因表达非常简洁，而且能对应连续区间。但是实数编码后搜索区间连续，因此容易陷入局部最优。\n",
    "\n",
    "具体执行时，使用 Toolbox。用random.random来产生随机数，给到5个实数编码的个体。\n",
    "\n",
    "注册函数register第一个参数就是一个别名，第二个参数就是这个别名对应的实际的函数，剩余的参数就是别名被调用的时候传给这个函数的参数。"
   ]
  },
  {
   "cell_type": "code",
   "execution_count": 1,
   "metadata": {},
   "outputs": [],
   "source": [
    "import random\n",
    "\n",
    "from deap import base\n",
    "from deap import creator\n",
    "from deap import tools"
   ]
  },
  {
   "cell_type": "code",
   "execution_count": 2,
   "metadata": {},
   "outputs": [],
   "source": [
    "IND_SIZE = 5"
   ]
  },
  {
   "cell_type": "code",
   "execution_count": 3,
   "metadata": {},
   "outputs": [],
   "source": [
    "creator.create(\"FitnessMin\", base.Fitness, weights=(-1.0, -1.0))\n",
    "creator.create(\"Individual\", list, fitness=creator.FitnessMin)\n",
    "\n",
    "toolbox1 = base.Toolbox()\n",
    "toolbox1.register(\"attr_float\", random.random)\n",
    "toolbox1.register(\"individual\", tools.initRepeat, creator.Individual,\n",
    "                 toolbox1.attr_float, n=IND_SIZE)"
   ]
  },
  {
   "cell_type": "code",
   "execution_count": 4,
   "metadata": {},
   "outputs": [],
   "source": [
    "ind1 = toolbox1.individual()"
   ]
  },
  {
   "cell_type": "code",
   "execution_count": 5,
   "metadata": {},
   "outputs": [
    {
     "name": "stdout",
     "output_type": "stream",
     "text": [
      "[0.303294697772998, 0.32927165578090345, 0.11870912399752243, 0.15879442449763292, 0.5896414824088129]\n"
     ]
    }
   ],
   "source": [
    "print(ind1)"
   ]
  },
  {
   "cell_type": "markdown",
   "metadata": {
    "tags": []
   },
   "source": [
    "可以看看它的适应度。个体被打印为它的基类表示（这里是一个列表）并且适应度是valid的，因为现在它不包含任何值。"
   ]
  },
  {
   "cell_type": "code",
   "execution_count": 6,
   "metadata": {},
   "outputs": [
    {
     "name": "stdout",
     "output_type": "stream",
     "text": [
      "False\n"
     ]
    }
   ],
   "source": [
    "print(ind1.fitness.valid)"
   ]
  },
  {
   "cell_type": "markdown",
   "metadata": {},
   "source": [
    "## 评价\n",
    "\n",
    "评价部分是根据任务的特性高度定制的，DEAP库中并没有预置的评价函数模版。这里也是针对自己的问题用户自己写相关代码的地方。比如这里还是用一个很简单的例子，求个体元素的和。\n",
    "\n",
    "在使用DEAP时，需要注意的是，无论是单目标还是多目标优化，评价函数的返回值必须是一个tuple类型。\n",
    "\n",
    "适应度是浮点数值，有一个属性valid来帮助了解个体是否需要被再评价"
   ]
  },
  {
   "cell_type": "code",
   "execution_count": 7,
   "metadata": {},
   "outputs": [],
   "source": [
    "def evaluate(individual):\n",
    "    # Do some hard computing on the individual\n",
    "    a = sum(individual)\n",
    "    b = len(individual)\n",
    "    return a, 1. / b"
   ]
  },
  {
   "cell_type": "code",
   "execution_count": 8,
   "metadata": {},
   "outputs": [],
   "source": [
    "ind1.fitness.values = evaluate(ind1)"
   ]
  },
  {
   "cell_type": "code",
   "execution_count": 9,
   "metadata": {},
   "outputs": [
    {
     "name": "stdout",
     "output_type": "stream",
     "text": [
      "True\n"
     ]
    }
   ],
   "source": [
    "print(ind1.fitness.valid)"
   ]
  },
  {
   "cell_type": "code",
   "execution_count": 10,
   "metadata": {},
   "outputs": [
    {
     "name": "stdout",
     "output_type": "stream",
     "text": [
      "(1.4997113844578696, 0.2)\n"
     ]
    }
   ],
   "source": [
    "print(ind1.fitness)"
   ]
  },
  {
   "cell_type": "markdown",
   "metadata": {
    "tags": []
   },
   "source": [
    "## 变异\n",
    "\n",
    "变异过程就是从父代的基因出发，进行操作，最终得到子代基因的过程。通常包括交叉(Crossover)和突变(Mutation)两种操作。\n",
    "\n",
    "### 突变\n",
    "\n",
    "deap.tools 模块中有多种变异算子。\n",
    "\n",
    "|函数|简介|适用编码方式|\n",
    "|-|-|-|\n",
    "|mutGaussian()|高斯突变|实数|\n",
    "|mutShuffleIndexes()|乱序突变|实数、二进制、序列|\n",
    "|mutFlipBit()|位翻转突变|二进制|\n",
    "|mutPolynomialBounded()|有界多项式突变|实数|\n",
    "|mutUniformInt()|均匀整数突变|实数、序列|\n",
    "|mutESLogNormal()||\n",
    "    \n",
    "\n",
    "每个突变都有自己的特点，可能适用于不同类型的个体。请仔细阅读所选运算的文档，以避免出现不良行为。\n",
    "\n",
    "这里例子是高斯突变：tools.mutGaussian(individual, mu, sigma, indpb) \n",
    "\n",
    "对个体序列中的每一个基因按概率变异，变异后的值为按均值为mu，方差为sigma的高斯分布选取的一个随机数。如果不希望均值发生变化，则应该将设为0。\n",
    "\n",
    "变异算子的规则是它们只负责变异，这意味着如果原始个体必须保留或引用其他个体（参见后面的选择算子），则必须在变异个体之前制作独立副本。"
   ]
  },
  {
   "cell_type": "code",
   "execution_count": 11,
   "metadata": {},
   "outputs": [],
   "source": [
    "mutant = toolbox1.clone(ind1)\n",
    "ind2, = tools.mutGaussian(mutant, mu=0.0, sigma=0.2, indpb=0.2)\n",
    "del mutant.fitness.values"
   ]
  },
  {
   "cell_type": "markdown",
   "metadata": {},
   "source": [
    "删除适应度的值是因为它们不再与个体相关。如上所述，突变确实会发生变异，并且只会使个体发生变异，它不负责使适合度或其他任何事情无效。下面说明ind2和mutant实际上是同一个个体。"
   ]
  },
  {
   "cell_type": "code",
   "execution_count": 12,
   "metadata": {},
   "outputs": [
    {
     "data": {
      "text/plain": [
       "True"
      ]
     },
     "execution_count": 12,
     "metadata": {},
     "output_type": "execute_result"
    }
   ],
   "source": [
    "ind2 is mutant"
   ]
  },
  {
   "cell_type": "code",
   "execution_count": 13,
   "metadata": {},
   "outputs": [
    {
     "data": {
      "text/plain": [
       "True"
      ]
     },
     "execution_count": 13,
     "metadata": {},
     "output_type": "execute_result"
    }
   ],
   "source": [
    "mutant is ind2"
   ]
  },
  {
   "cell_type": "markdown",
   "metadata": {},
   "source": [
    "### 交叉\n",
    "\n",
    "DEAP内置的交叉(Crossover)操作\n",
    "\n",
    "|函数|\t简介|\t适用编码方式|\n",
    "|-|-|-|\n",
    "|cxOnePoint()|\t单点交叉|\t实数、二进制|\n",
    "|cxTwoPoint()|\t两点交叉|\t实数、二进制|\n",
    "|cxUniform()|\t均匀交叉|\t实数、二进制|\n",
    "|cxPartialyMatched()|\t部分匹配交叉PMX|\t序列|\n",
    "|cxUniformPartialyMatched()|\tPMX变种，改两点为均匀交叉|\t序列|\n",
    "|cxOrdered()|\t有序交叉|\t序列|\n",
    "|cxBlend()|\t混合交叉|\t实数|\n",
    "|cxESBlend()|\t带进化策略的混合交叉\t||\n",
    "|cxESTwoPoint()|\t带进化策略的两点交叉|\t|\n",
    "|cxSimulatedBinary()|\t模拟二值交叉|\t实数|\n",
    "|cxSimulatedBinaryBounded()|\t有界模拟二值交叉|\t实数|\n",
    "|cxMessyOnePoint()|\t混乱单点交叉|\t实数、二进制|\n",
    "\n",
    "比如单点交叉：deap.tools.cxOnePoint(ind1, ind2)\n",
    "\n",
    "最简单的交叉方式，选择一个切口，将两条基因切开之后，交换尾部基因段。该方法非常简单，但是多篇文章指出，该算法在各种实验中性能都被其他交叉算法吊打，因此算是一种不建议使用的loser algorithm。\n",
    "\n",
    "两点交叉：deap.tools.cxTwoPoint(ind1, ind2)\n",
    "\n",
    "用两个点切开基因之后，交换切出来的基因段。\n",
    "\n",
    "![](pictures/17867674-b08f2a38bd9540c7.webp)\n",
    "\n",
    "比如均匀交叉：deap.tools.cxUniform(ind1, ind2, indpb)\n",
    "\n",
    "指定一个变异几率，两父代中的每个基因都以该几率交叉。\n",
    "\n",
    "![](pictures/17867674-61e22658b6147854.webp)\n",
    "\n",
    "官方提示最好不要直接用父代进行交叉，因为有些交叉算法是in-place运算的，因此最好先复制，再进行交叉。具体见代码："
   ]
  },
  {
   "cell_type": "code",
   "execution_count": 14,
   "metadata": {},
   "outputs": [],
   "source": [
    "child1, child2 = [toolbox1.clone(ind) for ind in (ind1, ind2)]\n",
    "tools.cxBlend(child1, child2, 0.5)\n",
    "del child1.fitness.values\n",
    "del child2.fitness.values"
   ]
  },
  {
   "cell_type": "markdown",
   "metadata": {},
   "source": [
    "## 选择\n",
    "\n",
    "DEAP的tools模块中内置了13种选择操作，对全部选择算子的描述可以参考[官方文档](https://deap.readthedocs.io/en/master/api/tools.html#deap.tools.selTournament)。\n",
    "\n",
    "|函数|\t简介|\n",
    "|-|-|\n",
    "|selTournament()|\t锦标赛选择|\n",
    "|selRoulette()|\t轮盘赌选择（不能用于最小化或者适应度会小于等于0的问题）|\n",
    "|selNSGA2()|\tNSGA-II选择，适用于多目标遗传算法|\n",
    "|selSPEA2()|\tSPEA2选择，目前版本(ver 1.2.2)的该函数实现有误，没有为个体分配距离，不建议使用。|\n",
    "|selRandom()|\t有放回的随机选择|\n",
    "|selBest()|\t选择最佳|\n",
    "|selWorst()|\t选择最差|\n",
    "|selTournamentDCD()|\tDominance/Crowding distance锦标赛选择，目前版本的实现也有些问题|\n",
    "|selDoubleTournament()|\tSize+Fitness双锦标赛选择|\n",
    "|selStochasticUniversalSampling()|\t随机抽样选择|\n",
    "|selLexicase()|\t词典选择|\n",
    "|selEpsilonLexicase()|\t词典选择在连续值域上的扩展|\n",
    "|selAutomaticEpsilonLexicase()|\t|\n",
    "\n",
    "比如锦标赛选择：deap.tools.selTournament(individuals, k, tournsize, fit_attr = 'fitness')\n",
    "\n",
    "就是模拟锦标赛的方式，首先在族群中随机抽取tournsize个个体，然后从中选取具有最佳适应度的个体，将此过程重复k次，获得育种族群。tournsize越大，选择强度(selection intensity)越高，在选择之后留下的育种族群的平均适应度也就越高。\n",
    "\n",
    "下图给出了由5个个体构成的族群中进行一次tournsize为3的锦标赛选择的过程。\n",
    "\n",
    "![](pictures/17867674-d94652a0f18353b2.webp)\n",
    "\n",
    "还有轮盘赌选择，它是最常见的选择策略，可以看作是有放回的随机抽样。\n",
    "\n",
    "轮盘赌选择: deap.tools.selRoulette(individuals, k, fit_attr = 'fitness')\n",
    "\n",
    "在轮盘赌选择中，每个个体$a_i$被选中的概率$P(a_i)$与其适应度函数$f(a_i)$成正比：\n",
    "\n",
    "$$P(a_i)=\\frac{f(a_i)}{\\sum _{i} f(a_i)}$$\n",
    "\n",
    "下图给出了与前文同样例子的轮盘赌选择\n",
    "\n",
    "![](pictures/17867674-3c503fc666584cf5.webp)\n",
    "\n",
    "但在实际应用中，很多文章都指出轮盘赌选择的性能较差，在通常情况下都不如随机抽样选择和锦标赛选择。\n",
    "\n",
    "随机普遍抽样选择：deap.tools.selStochasticUniversalSampling(individuals, k, fit_attr = 'fitness')\n",
    "\n",
    "随机普遍抽样选择是一种有多个指针的轮盘赌选择，其优点是能够保存族群多样性，而不会像轮盘赌一样，有较大几率对重复选择最优个体。\n",
    "\n",
    "在与前文相同的例子中使用随机普遍抽样选择，设定指针数k为3，那么指针间距即为1/3\n",
    "\n",
    "![](pictures/17867674-c20b83385c700292.webp)"
   ]
  },
  {
   "cell_type": "code",
   "execution_count": 15,
   "metadata": {},
   "outputs": [
    {
     "data": {
      "text/plain": [
       "True"
      ]
     },
     "execution_count": 15,
     "metadata": {},
     "output_type": "execute_result"
    }
   ],
   "source": [
    "selected = tools.selBest([child1, child2], 2)\n",
    "child1 in selected"
   ]
  },
  {
   "cell_type": "markdown",
   "metadata": {
    "internals": {
     "frag_helper": "fragment_end",
     "frag_number": 6,
     "slide_helper": "subslide_end"
    },
    "slide_helper": "slide_end",
    "slideshow": {
     "slide_type": "-"
    }
   },
   "source": [
    "## One Max 问题示例\n",
    "\n",
    "下面给一个完整点的例子，后续会在此例子上涉及到更多细节。\n",
    "\n",
    "* 最大化二进制字符串（列表、向量等）中 1 的数量。\n",
    "* 更正式地说，从长度为 $n$ 的二进制字符串集合中，\n",
    "$$\\mathcal{S}=\\left\\{s_1,\\ldots,s_n\\right\\}, \\text{ with } s_i=\\left\\{0,1\\right\\}.$$\n",
    "* 找到 $s^\\ast\\in\\mathcal{S}$ 使得\n",
    "$$s^\\ast = \\operatorname*{arg\\,max}_{s\\in\\mathcal{S}} \\sum_{i=1}^{n}{s_i}.$$\n",
    "* 很明显，最优值是一个 *all-ones* 字符串。"
   ]
  },
  {
   "cell_type": "markdown",
   "metadata": {},
   "source": [
    "首先定义问题"
   ]
  },
  {
   "cell_type": "code",
   "execution_count": 16,
   "metadata": {
    "collapsed": false,
    "internals": {
     "frag_helper": "fragment_end",
     "frag_number": 12
    },
    "jupyter": {
     "outputs_hidden": false
    },
    "slideshow": {
     "slide_type": "-"
    }
   },
   "outputs": [],
   "source": [
    "import random\n",
    "from deap import algorithms, base, creator, tools"
   ]
  },
  {
   "cell_type": "code",
   "execution_count": 17,
   "metadata": {
    "collapsed": false,
    "jupyter": {
     "outputs_hidden": false
    },
    "slideshow": {
     "slide_type": "skip"
    }
   },
   "outputs": [],
   "source": [
    "import matplotlib.pyplot as plt\n",
    "%matplotlib inline\n",
    "%config InlineBackend.figure_format = 'retina'\n",
    "plt.rc('text', usetex=True)\n",
    "plt.rc('font', family='serif')\n",
    "plt.rcParams['text.latex.preamble'] ='\\\\usepackage{libertine}\\n\\\\usepackage[utf8]{inputenc}'\n",
    "\n",
    "import seaborn\n",
    "seaborn.set(style='whitegrid')\n",
    "seaborn.set_context('notebook')"
   ]
  },
  {
   "cell_type": "code",
   "execution_count": 18,
   "metadata": {
    "collapsed": false,
    "internals": {
     "frag_helper": "fragment_end",
     "frag_number": 13
    },
    "jupyter": {
     "outputs_hidden": false
    },
    "slideshow": {
     "slide_type": "-"
    }
   },
   "outputs": [
    {
     "name": "stderr",
     "output_type": "stream",
     "text": [
      "C:\\Users\\hust2\\miniconda3\\envs\\hydrus\\lib\\site-packages\\deap\\creator.py:138: RuntimeWarning: A class named 'Individual' has already been created and it will be overwritten. Consider deleting previous creation of that class or rename it.\n",
      "  warnings.warn(\"A class named '{0}' has already been created and it \"\n"
     ]
    }
   ],
   "source": [
    "creator.create(\"FitnessMax\", base.Fitness, weights=(1.0,))\n",
    "creator.create(\"Individual\", list, fitness=creator.FitnessMax)"
   ]
  },
  {
   "cell_type": "code",
   "execution_count": 19,
   "metadata": {
    "collapsed": false,
    "internals": {
     "frag_helper": "fragment_end",
     "frag_number": 14,
     "slide_helper": "subslide_end"
    },
    "jupyter": {
     "outputs_hidden": false
    },
    "slide_helper": "slide_end",
    "slideshow": {
     "slide_type": "-"
    }
   },
   "outputs": [],
   "source": [
    "def evalOneMax(individual):\n",
    "    return (sum(individual),)"
   ]
  },
  {
   "cell_type": "markdown",
   "metadata": {},
   "source": [
    "然后定义元素"
   ]
  },
  {
   "cell_type": "code",
   "execution_count": 20,
   "metadata": {
    "collapsed": false,
    "internals": {},
    "jupyter": {
     "outputs_hidden": false
    },
    "slideshow": {
     "slide_type": "-"
    }
   },
   "outputs": [],
   "source": [
    "toolbox = base.Toolbox()"
   ]
  },
  {
   "cell_type": "code",
   "execution_count": 21,
   "metadata": {
    "collapsed": false,
    "internals": {
     "frag_helper": "fragment_end",
     "frag_number": 17
    },
    "jupyter": {
     "outputs_hidden": false
    },
    "slideshow": {
     "slide_type": "fragment"
    }
   },
   "outputs": [],
   "source": [
    "toolbox.register(\"attr_bool\", random.randint, 0, 1)\n",
    "toolbox.register(\"individual\", tools.initRepeat, creator.Individual,\n",
    "                 toolbox.attr_bool, n=100)\n",
    "toolbox.register(\"population\", tools.initRepeat, list, \n",
    "                 toolbox.individual)"
   ]
  },
  {
   "cell_type": "code",
   "execution_count": 22,
   "metadata": {
    "collapsed": false,
    "internals": {
     "frag_helper": "fragment_end",
     "frag_number": 18,
     "slide_helper": "subslide_end"
    },
    "jupyter": {
     "outputs_hidden": false
    },
    "slide_helper": "slide_end",
    "slideshow": {
     "slide_type": "fragment"
    }
   },
   "outputs": [],
   "source": [
    "toolbox.register(\"evaluate\", evalOneMax)\n",
    "toolbox.register(\"mate\", tools.cxTwoPoint)\n",
    "toolbox.register(\"mutate\", tools.mutFlipBit, indpb=0.05)\n",
    "toolbox.register(\"select\", tools.selTournament, tournsize=3)"
   ]
  },
  {
   "cell_type": "markdown",
   "metadata": {},
   "source": [
    "然后运行实验："
   ]
  },
  {
   "cell_type": "code",
   "execution_count": 23,
   "metadata": {
    "collapsed": false,
    "internals": {
     "frag_helper": "fragment_end",
     "frag_number": 18
    },
    "jupyter": {
     "outputs_hidden": false
    },
    "slideshow": {
     "slide_type": "-"
    }
   },
   "outputs": [],
   "source": [
    "pop = toolbox.population(n=300)"
   ]
  },
  {
   "cell_type": "markdown",
   "metadata": {
    "internals": {
     "frag_helper": "fragment_end",
     "frag_number": 21
    },
    "slideshow": {
     "slide_type": "fragment"
    }
   },
   "source": [
    "Lets run only 10 generations"
   ]
  },
  {
   "cell_type": "code",
   "execution_count": 24,
   "metadata": {
    "collapsed": false,
    "internals": {
     "frag_helper": "fragment_end",
     "frag_number": 22
    },
    "jupyter": {
     "outputs_hidden": false
    },
    "slideshow": {
     "slide_type": "fragment"
    }
   },
   "outputs": [],
   "source": [
    "result = algorithms.eaSimple(pop, toolbox, cxpb=0.5, mutpb=0.2, \n",
    "                             ngen=10, verbose=False)"
   ]
  },
  {
   "cell_type": "code",
   "execution_count": 25,
   "metadata": {
    "collapsed": false,
    "internals": {
     "frag_helper": "fragment_end",
     "frag_number": 23
    },
    "jupyter": {
     "outputs_hidden": false
    },
    "slideshow": {
     "slide_type": "fragment"
    }
   },
   "outputs": [
    {
     "name": "stdout",
     "output_type": "stream",
     "text": [
      "Current best fitness: (82,)\n"
     ]
    }
   ],
   "source": [
    "print('Current best fitness:', evalOneMax(tools.selBest(pop, k=1)[0]))"
   ]
  },
  {
   "cell_type": "code",
   "execution_count": 26,
   "metadata": {
    "collapsed": false,
    "internals": {
     "frag_helper": "fragment_end",
     "frag_number": 24
    },
    "jupyter": {
     "outputs_hidden": false
    },
    "slideshow": {
     "slide_type": "fragment"
    }
   },
   "outputs": [],
   "source": [
    "result = algorithms.eaSimple(pop, toolbox, cxpb=0.5, mutpb=0.2, \n",
    "                             ngen=50, verbose=False)"
   ]
  },
  {
   "cell_type": "code",
   "execution_count": 27,
   "metadata": {
    "collapsed": false,
    "internals": {
     "frag_helper": "fragment_end",
     "frag_number": 25,
     "slide_helper": "subslide_end"
    },
    "jupyter": {
     "outputs_hidden": false
    },
    "slide_helper": "slide_end",
    "slideshow": {
     "slide_type": "fragment"
    }
   },
   "outputs": [
    {
     "name": "stdout",
     "output_type": "stream",
     "text": [
      "Current best fitness: (100,)\n"
     ]
    }
   ],
   "source": [
    "print('Current best fitness:', evalOneMax(tools.selBest(pop, k=1)[0]))"
   ]
  },
  {
   "cell_type": "markdown",
   "metadata": {},
   "source": [
    "## Tool Decoration"
   ]
  },
  {
   "cell_type": "markdown",
   "metadata": {},
   "source": [
    "在实际应用中，有时候需要对代码内部做一些精准控制，这时候工具装饰器Tool Decoration是很有用的，并且它很强大，使用它无需更改算法或运算符中的任何内容。\n",
    "\n",
    "装饰器是一个被调用的包装器，而不是一个函数。它被要求在调用实际函数之前和之后进行一些初始化和终止工作。\n",
    "\n",
    "例如，需要约束域时，可以将装饰器应用于变异和交叉，以防止任何个体越界。\n",
    "\n",
    "下面是例子，定义了一个装饰器，用于检查列表中的任何属性是否越界，如果是，则对其进行切割。\n",
    "\n",
    "- 装饰器使用三个函数定义，以接收 min 和 max 参数。\n",
    "- 每当调用突变或交叉时，都会检查结果个体的边界。"
   ]
  },
  {
   "cell_type": "code",
   "execution_count": 30,
   "metadata": {},
   "outputs": [],
   "source": [
    "def checkBounds(min, max):\n",
    "    def decorator(func):\n",
    "        def wrapper(*args, **kargs):\n",
    "            offspring = func(*args, **kargs)\n",
    "            for child in offspring:\n",
    "                for i in xrange(len(child)):\n",
    "                    if child[i] > max:\n",
    "                        child[i] = max\n",
    "                    elif child[i] < min:\n",
    "                        child[i] = min\n",
    "            return offspring\n",
    "        return wrapper\n",
    "    return decorator\n",
    "\n",
    "toolbox.register(\"mate_example\", tools.cxBlend, alpha=0.2)\n",
    "toolbox.register(\"mutate_example\", tools.mutGaussian, mu=0, sigma=2)\n",
    "\n",
    "MIN = 0; MAX = 10\n",
    "\n",
    "toolbox.decorate(\"mate_example\", checkBounds(MIN, MAX))\n",
    "toolbox.decorate(\"mutate_example\", checkBounds(MIN, MAX))"
   ]
  },
  {
   "cell_type": "markdown",
   "metadata": {},
   "source": [
    "这会作用于交叉和变异，因为两者都返回一组个体。变异通常被认为是返回单个个体，但跟评估一样，单个个体案例是多个个体案例的特例。"
   ]
  },
  {
   "cell_type": "markdown",
   "metadata": {},
   "source": [
    "## Variations\n",
    "\n",
    "变体允许使用预定义的小的组块构建简单的算法。\n",
    "\n",
    "为了使用变体，必须将工具箱设置为包含所需的运算符。\n",
    "\n",
    "例如，在之前提出的算法中，将交叉和变异重新组合在 varAnd() 函数中，该函数需要工具箱包含 mate() 和 mutate() 函数。这些变化可用于简化算法的编写，如下所示"
   ]
  },
  {
   "cell_type": "code",
   "execution_count": 31,
   "metadata": {},
   "outputs": [],
   "source": [
    "from deap import algorithms\n",
    "\n",
    "NGEN = 20 # number of generations\n",
    "CXPB = 0.6\n",
    "MUTPB = 0.05\n",
    "\n",
    "for g in range(NGEN):\n",
    "    # Select and clone the next generation individuals\n",
    "    offspring = map(toolbox.clone, toolbox.select(pop, len(pop)))\n",
    "\n",
    "    # Apply crossover and mutation on the offspring\n",
    "    offspring = algorithms.varAnd(offspring, toolbox, CXPB, MUTPB)\n",
    "\n",
    "    # Evaluate the individuals with an invalid fitness\n",
    "    invalid_ind = [ind for ind in offspring if not ind.fitness.valid]\n",
    "    fitnesses = toolbox.map(toolbox.evaluate, invalid_ind)\n",
    "    for ind, fit in zip(invalid_ind, fitnesses):\n",
    "        ind.fitness.values = fit\n",
    "\n",
    "    # The population is entirely replaced by the offspring\n",
    "    pop[:] = offspring"
   ]
  },
  {
   "cell_type": "markdown",
   "metadata": {},
   "source": [
    "## Algorithms\n",
    "\n",
    "算法模块中实现了多种算法。它们非常简单，反映了各类文献中存在的进化算法的基本类型。\n",
    "\n",
    "为了设置算法的工具箱，必须在指定的名称下注册所需的运算符。\n",
    "\n",
    "一旦工具箱准备好，就可以启动算法了。\n",
    "\n",
    "simple evolutionary algorithm 需要 5 个参数：种群、工具箱、每一代每个个体交配的概率 (cxpb)、每一代每个个体变异的概率 (mutpb) 和要完成的代数 (ngen)。"
   ]
  },
  {
   "cell_type": "code",
   "execution_count": 32,
   "metadata": {},
   "outputs": [
    {
     "name": "stdout",
     "output_type": "stream",
     "text": [
      "gen\tnevals\n",
      "0  \t0     \n",
      "1  \t174   \n",
      "2  \t173   \n",
      "3  \t159   \n",
      "4  \t193   \n",
      "5  \t191   \n",
      "6  \t202   \n",
      "7  \t179   \n",
      "8  \t178   \n",
      "9  \t185   \n",
      "10 \t181   \n",
      "11 \t187   \n",
      "12 \t210   \n",
      "13 \t170   \n",
      "14 \t164   \n",
      "15 \t179   \n",
      "16 \t179   \n",
      "17 \t180   \n",
      "18 \t189   \n",
      "19 \t159   \n",
      "20 \t165   \n",
      "21 \t159   \n",
      "22 \t182   \n",
      "23 \t171   \n",
      "24 \t197   \n",
      "25 \t171   \n",
      "26 \t187   \n",
      "27 \t178   \n",
      "28 \t186   \n",
      "29 \t166   \n",
      "30 \t183   \n",
      "31 \t164   \n",
      "32 \t195   \n",
      "33 \t181   \n",
      "34 \t188   \n",
      "35 \t184   \n",
      "36 \t174   \n",
      "37 \t184   \n",
      "38 \t194   \n",
      "39 \t188   \n",
      "40 \t172   \n",
      "41 \t188   \n",
      "42 \t184   \n",
      "43 \t166   \n",
      "44 \t174   \n",
      "45 \t200   \n",
      "46 \t176   \n",
      "47 \t193   \n",
      "48 \t172   \n",
      "49 \t205   \n",
      "50 \t180   \n"
     ]
    }
   ],
   "source": [
    "from deap import algorithms\n",
    "\n",
    "result = algorithms.eaSimple(pop, toolbox, cxpb=0.5, mutpb=0.2, ngen=50)"
   ]
  },
  {
   "cell_type": "markdown",
   "metadata": {},
   "source": [
    "## Computing Statistics\n",
    "\n",
    "通常，人们想要对优化中发生的事情进行统计。工具中的Statistics能够编译任何指定对象的任意属性的此类数据。需要使用与工具箱完全相同的语法在 stats 对象内注册所需的统计函数。"
   ]
  },
  {
   "cell_type": "code",
   "execution_count": 33,
   "metadata": {},
   "outputs": [],
   "source": [
    "stats = tools.Statistics(key=lambda ind: ind.fitness.values)"
   ]
  },
  {
   "cell_type": "markdown",
   "metadata": {},
   "source": [
    "统计对象是使用键作为第一个参数创建的。必须为该键提供一个函数，该函数稍后将应用于计算统计数据的数据。前面的代码示例使用每个元素的 fitness.values 属性。"
   ]
  },
  {
   "cell_type": "code",
   "execution_count": 34,
   "metadata": {},
   "outputs": [],
   "source": [
    "import numpy\n",
    "stats.register(\"avg\", numpy.mean)\n",
    "stats.register(\"std\", numpy.std)\n",
    "stats.register(\"min\", numpy.min)\n",
    "stats.register(\"max\", numpy.max)"
   ]
  },
  {
   "cell_type": "markdown",
   "metadata": {},
   "source": [
    "统计函数现已注册。\n",
    "\n",
    "register 函数需要一个别名作为第一个参数，一个对向量进行操作的函数作为第二个参数。\n",
    "任何后续参数在调用时都会传递给函数。统计对象的创建现已完成。"
   ]
  },
  {
   "cell_type": "markdown",
   "metadata": {},
   "source": [
    "当使用预定义的算法时，例如 eaSimple()、eaMuPlusLambda()、eaMuCommaLambda() 或 eaGenerateUpdate()，之前创建的统计对象可以作为算法的参数提供。"
   ]
  },
  {
   "cell_type": "code",
   "execution_count": 35,
   "metadata": {},
   "outputs": [
    {
     "name": "stdout",
     "output_type": "stream",
     "text": [
      "gen\tnevals\tavg    \tstd    \tmin\tmax\n",
      "0  \t0     \t99.1633\t2.07284\t87 \t100\n"
     ]
    }
   ],
   "source": [
    "pop, logbook = algorithms.eaSimple(pop, toolbox, cxpb=0.5, mutpb=0.2, ngen=0, \n",
    "                                   stats=stats, verbose=True)"
   ]
  },
  {
   "cell_type": "markdown",
   "metadata": {},
   "source": [
    "将自动计算每一代种群的统计数据。\n",
    "\n",
    "verbose 参数在优化发生时在屏幕上打印统计信息。\n",
    "\n",
    "算法返回后，将返回最终种群和日志。"
   ]
  },
  {
   "cell_type": "markdown",
   "metadata": {},
   "source": [
    "在编写自己的算法时，包括统计数据非常简单。只需要编译所需对象的统计信息。\n",
    "\n",
    "例如，通过调用 compile() 方法来编译给定种群的统计数据。"
   ]
  },
  {
   "cell_type": "code",
   "execution_count": 36,
   "metadata": {},
   "outputs": [],
   "source": [
    "record = stats.compile(pop)"
   ]
  },
  {
   "cell_type": "markdown",
   "metadata": {},
   "source": [
    "compile 函数的参数必须是将调用键的元素的可迭代对象。在这里，种群 (pop) 包含个体。\n",
    "\n",
    "统计对象将调用每个人的 key 函数来检索他们的 fitness.values 属性。\n",
    "\n",
    "最终得到的值数组被赋予每个统计函数，并将结果放入与该函数关联的键下的记录字典中。\n",
    "\n",
    "打印记录揭示了它的性质。"
   ]
  },
  {
   "cell_type": "code",
   "execution_count": 37,
   "metadata": {},
   "outputs": [
    {
     "name": "stdout",
     "output_type": "stream",
     "text": [
      "{'avg': 99.16333333333333, 'std': 2.0728375613046857, 'min': 87.0, 'max': 100.0}\n"
     ]
    }
   ],
   "source": [
    "print(record)"
   ]
  },
  {
   "cell_type": "markdown",
   "metadata": {},
   "source": [
    "## 记录数据\n",
    "\n",
    "一旦统计产生数据，就可以将其保存在日志中以供进一步使用。\n",
    "\n",
    "日志旨在成为按时间顺序排列的条目（作为字典）。\n",
    "\n",
    "它直接符合统计对象返回的数据类型，但不限于此数据。\n",
    "\n",
    "事实上，任何东西都可以纳入日志的条目中。"
   ]
  },
  {
   "cell_type": "code",
   "execution_count": 38,
   "metadata": {},
   "outputs": [],
   "source": [
    "logbook = tools.Logbook()\n",
    "logbook.record(gen=0, evals=30, **record)"
   ]
  },
  {
   "cell_type": "markdown",
   "metadata": {},
   "source": [
    "record() 方法采用可变数量的参数，每个参数都是要记录的数据。在最后一个示例中，我们使用 star 魔法保存统计对象生成的记录中包含的生成、评估次数和所有内容。所有记录都将保存在日志中，直至销毁。\n",
    "\n",
    "在多次记录之后，人们可能想要检索日志中包含的信息。"
   ]
  },
  {
   "cell_type": "code",
   "execution_count": 39,
   "metadata": {},
   "outputs": [],
   "source": [
    "gen, avg = logbook.select(\"gen\", \"avg\")"
   ]
  },
  {
   "cell_type": "markdown",
   "metadata": {},
   "source": [
    "select() 方法提供了一种在所有记录中检索与关键字关联的所有信息的方法。此方法采用可变数量的字符串参数，这些参数是记录或统计对象中使用的关键字。在这里，我们使用一次 select 调用来检索生成和平均适应度。\n",
    "\n",
    "## 打印到屏幕\n",
    "\n",
    "日志可以打印到屏幕或文件。\n",
    "\n",
    "它的 \\_\\_str\\_\\_() 方法返回第一个记录中插入的每个键的标头以及每个键的完整日志。\n",
    "\n",
    "行按插入的时间顺序排列，而列按未定义的顺序排列。\n",
    "\n",
    "指定顺序的最简单方法是将 header 属性设置为指定列顺序的字符串列表。"
   ]
  },
  {
   "cell_type": "code",
   "execution_count": 40,
   "metadata": {},
   "outputs": [],
   "source": [
    "logbook.header = \"gen\", \"avg\", \"spam\""
   ]
  },
  {
   "cell_type": "code",
   "execution_count": 41,
   "metadata": {},
   "outputs": [
    {
     "name": "stdout",
     "output_type": "stream",
     "text": [
      "gen\tavg    \tspam\n",
      "0  \t99.1633\t    \n"
     ]
    }
   ],
   "source": [
    "print(logbook)"
   ]
  },
  {
   "cell_type": "markdown",
   "metadata": {},
   "source": [
    "## 绘图功能\n",
    "\n",
    "优化完成后最常见的操作之一是在演化过程中绘制数据。\n",
    "\n",
    "日志允许非常有效地做到这一点。\n",
    "\n",
    "使用 select 方法，可以检索所需的数据并使用 matplotlib 绘制它。"
   ]
  },
  {
   "cell_type": "code",
   "execution_count": 42,
   "metadata": {
    "collapsed": false,
    "jupyter": {
     "outputs_hidden": false
    }
   },
   "outputs": [],
   "source": [
    "pop = toolbox.population(n=300)\n",
    "pop, logbook = algorithms.eaSimple(pop, toolbox, cxpb=0.5, mutpb=0.2, ngen=50, \n",
    "                                   stats=stats, verbose=False)"
   ]
  },
  {
   "cell_type": "code",
   "execution_count": 43,
   "metadata": {
    "collapsed": false,
    "internals": {
     "frag_helper": "fragment_end",
     "frag_number": 43
    },
    "jupyter": {
     "outputs_hidden": false
    },
    "slideshow": {
     "slide_type": "-"
    }
   },
   "outputs": [],
   "source": [
    "gen = logbook.select(\"gen\")\n",
    "fit_mins = logbook.select(\"min\")\n",
    "size_avgs = logbook.select(\"avg\")"
   ]
  },
  {
   "cell_type": "code",
   "execution_count": 44,
   "metadata": {
    "collapsed": false,
    "internals": {
     "frag_helper": "fragment_end",
     "frag_number": 43,
     "slide_helper": "subslide_end"
    },
    "jupyter": {
     "outputs_hidden": false
    },
    "slide_helper": "slide_end",
    "slideshow": {
     "slide_type": "-"
    }
   },
   "outputs": [
    {
     "data": {
      "image/png": "[encoded data removed]",
      "text/plain": [
       "<Figure size 432x288 with 2 Axes>"
      ]
     },
     "metadata": {
      "image/png": {
       "height": 266,
       "width": 426
      }
     },
     "output_type": "display_data"
    }
   ],
   "source": [
    "fig, ax1 = plt.subplots()\n",
    "line1 = ax1.plot(gen, fit_mins, \"b-\", label=\"Minimum Fitness\")\n",
    "ax1.set_xlabel(\"Generation\")\n",
    "ax1.set_ylabel(\"Fitness\", color=\"b\")\n",
    "for tl in ax1.get_yticklabels():\n",
    "    tl.set_color(\"b\")\n",
    "\n",
    "ax2 = ax1.twinx()\n",
    "line2 = ax2.plot(gen, size_avgs, \"r-\", label=\"Average Fitness\")\n",
    "ax2.set_ylabel(\"Size\", color=\"r\")\n",
    "for tl in ax2.get_yticklabels():\n",
    "    tl.set_color(\"r\")\n",
    "\n",
    "lns = line1 + line2\n",
    "labs = [l.get_label() for l in lns]\n",
    "ax1.legend(lns, labs, loc=\"lower right\", frameon=True)\n",
    "\n",
    "plt.show()"
   ]
  },
  {
   "cell_type": "markdown",
   "metadata": {},
   "source": [
    "## 约束处理\n",
    "\n",
    "我们已经看到了一些替代方案。\n",
    "\n",
    "当落入给定区域时，惩罚函数是处理个人无法评估或因问题特定原因被禁止的最基本方法。\n",
    "\n",
    "惩罚函数根据解决方案中违反约束的数量为这些个体提供适应度劣势。\n",
    "\n",
    "<img src='http://deap.readthedocs.org/en/master/_images/constraints.png' width='92%'/>\n",
    "\n",
    "在 DEAP 中，可以使用工具模块中提供的 DeltaPenality 装饰器将惩罚函数添加到任何评估函数中。"
   ]
  },
  {
   "cell_type": "code",
   "execution_count": 45,
   "metadata": {},
   "outputs": [],
   "source": [
    "from math import sin\n",
    "from deap import base\n",
    "from deap import tools\n",
    "\n",
    "def evalFct(individual):\n",
    "    \"\"\"Evaluation function for the individual.\"\"\"\n",
    "    x = individual[0]\n",
    "    return (x - 5)**2 * sin(x) * (x/3),\n",
    "\n",
    "def feasible(individual):\n",
    "    \"\"\"Feasability function for the individual. Returns True if feasible False\n",
    "    otherwise.\"\"\"\n",
    "    if 3 < individual[0] < 5:\n",
    "        return True\n",
    "    return False\n",
    "\n",
    "def distance(individual):\n",
    "    \"\"\"A distance function to the feasability region.\"\"\"\n",
    "    return (individual[0] - 5.0)**2\n",
    "\n",
    "toolbox = base.Toolbox()\n",
    "toolbox.register(\"evaluate\", evalFct)\n",
    "toolbox.decorate(\"evaluate\", tools.DeltaPenality(feasible, 7.0, distance))"
   ]
  },
  {
   "cell_type": "markdown",
   "metadata": {},
   "source": [
    "更多例子可以参考[这里](https://deap.readthedocs.io/en/master/examples/ga_onemax.html)\n",
    "\n",
    "还有一些常见的问题，比如\n",
    "\n",
    "- 多参数设定，可以参考：[Optimization with multiple variables #304](https://github.com/DEAP/deap/issues/304)\n",
    "- 评价函数多参数，可以参考：[How to write loss function with extra parameters? #331](https://github.com/DEAP/deap/issues/331)"
   ]
  }
 ],
 "metadata": {
  "kernelspec": {
   "display_name": "Python 3 (ipykernel)",
   "language": "python",
   "name": "python3"
  },
  "language_info": {
   "codemirror_mode": {
    "name": "ipython",
    "version": 3
   },
   "file_extension": ".py",
   "mimetype": "text/x-python",
   "name": "python",
   "nbconvert_exporter": "python",
   "pygments_lexer": "ipython3",
   "version": "3.9.6"
  }
 },
 "nbformat": 4,
 "nbformat_minor": 4
}
