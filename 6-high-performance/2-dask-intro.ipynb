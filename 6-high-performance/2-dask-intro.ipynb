{
 "cells": [
  {
   "cell_type": "markdown",
   "metadata": {},
   "source": [
    "# Dask\n",
    "\n",
    "主要参考资料：\n",
    "\n",
    "- [Dask Tutorial](https://github.com/dask/dask-tutorial)\n",
    "- [Speeding up your Algorithms Part 4— Dask](https://towardsdatascience.com/speeding-up-your-algorithms-part-4-dask-7c6ed79994ef)\n",
    "- [Robust correlations with xarray and dask](http://martin-jung.github.io/post/2018-xarrayregression/)\n",
    "\n",
    "示例代码都放在 7-parallel-programming/dask-tutorial-master 下了。\n",
    "\n",
    "Dask在大于内存的数据集上提供多核执行。\n",
    "\n",
    "可以从高和低的角度理解dask：\n",
    "\n",
    "- 高层集合： Dask提供了高级Array，Bag和DataFrame集合，它们模仿NumPy，lists和Pandas，但可以在不适合主内存的数据集上并行操作。Dask的高级集合是大型数据集的NumPy和Pandas的替代品。\n",
    "- 底层调度： Dask提供了 dynamic task schedulers 动态任务调度程序，这些schedulers可以并行执行任务图（这块和pytorch中的计算图有些类似，先构建好要算的结构，最后再一气算）。这些执行引擎为上述高级集合提供支持，但也可以为用户定义的自定义工作负载提供支持。这些调度程序的等待时间很短（大约1毫秒），并且努力在较小的内存占用空间中运行计算。Dask的schedulers是在复杂情况中直接使用threading或 multiprocessing库或其他任务计划系统（例如Luigi或IPython paralle）的替代方法。\n",
    "\n",
    "不同的用户在不同的级别上进行操作，但了解两者都有帮助。dask-tutorial教程将交错在高层次使用dask.array和 dask.dataframe（偶数部分）和低层次使用dask graphs and schedulers之间。\n",
    "\n",
    "为了运行 dask-tutorial 的代码，需要安装：\n",
    "\n",
    "```Shell\n",
    "conda install -c conda-forge numpy pandas h5py pillow matplotlib scipy toolz pytables snakeviz scikit-image dask distributed\n",
    "```\n",
    "\n",
    "在README里已经装过了，这里就不重复了。\n",
    "\n",
    "如果只在一台电脑上使用dask，那么没必要进行任何配置。在单个电脑上，有Single machine scheduler，很容易用。当然也可以在集群上使用。更多内容参考7-parallel-programming/parallel-tutorial-master 和 dask-tutorial-master 下的内容。 "
   ]
  }
 ],
 "metadata": {
  "kernelspec": {
   "display_name": "Python 3",
   "language": "python",
   "name": "python3"
  },
  "language_info": {
   "codemirror_mode": {
    "name": "ipython",
    "version": 3
   },
   "file_extension": ".py",
   "mimetype": "text/x-python",
   "name": "python",
   "nbconvert_exporter": "python",
   "pygments_lexer": "ipython3",
   "version": "3.7.8"
  }
 },
 "nbformat": 4,
 "nbformat_minor": 4
}
