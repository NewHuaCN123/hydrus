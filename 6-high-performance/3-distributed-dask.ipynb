{
 "cells": [
  {
   "cell_type": "markdown",
   "metadata": {},
   "source": [
    "# Dask下分布式Python编程\n",
    "\n",
    "经过调研后，觉得执行分布式计算的的策略应该还是以DASK为主较好。\n",
    "\n",
    "根据[这篇blog](https://towardsdatascience.com/set-up-a-dask-cluster-for-distributed-machine-learning-31f587b1b553)的介绍，DASK下可以通过SSH快速地连接到多台没有统一管理的电脑，以迅速地学习使用；这种方法简单但是有很多限制，而更加灵活的方法则需要更复杂的操作，比如 利用Hadoop或者kubernates等。考虑到现在Kubernate这方面教程可能比较充足，另外比较常用的 jupyter 有 jupyterhub，结合kubernete 支持多人的访问应用，还有就是相关的云计算服务付费条件下比较容易获取，所以计划还是先从单机开始，了解Dask的基本用法，这样也便于后面的程序测试，详见 2-dask-intro.ipynb，然后再在单机上尝试一下kubernetes（或者直接上云也行），再调试dask程序，最后成功之后正式上云。\n",
    "\n",
    "由于Kubernete的部分涉及的计算机方面内容较多，所以学习曲线还是相当陡峭的，故补充更多前期配置和学习的内容到 3-kubernete-intro.md， 这里只记录下关于 Dask的使用。"
   ]
  }
 ],
 "metadata": {
  "kernelspec": {
   "display_name": "Python 3",
   "language": "python",
   "name": "python3"
  },
  "language_info": {
   "codemirror_mode": {
    "name": "ipython",
    "version": 3
   },
   "file_extension": ".py",
   "mimetype": "text/x-python",
   "name": "python",
   "nbconvert_exporter": "python",
   "pygments_lexer": "ipython3",
   "version": "3.7.8"
  }
 },
 "nbformat": 4,
 "nbformat_minor": 4
}
