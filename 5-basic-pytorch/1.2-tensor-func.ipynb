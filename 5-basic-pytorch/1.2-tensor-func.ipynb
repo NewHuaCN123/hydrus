{
 "cells": [
  {
   "cell_type": "markdown",
   "metadata": {},
   "source": [
    "# PyTorch 基本运算示例\n",
    "\n",
    "Torch的tensor和Numpy的Array，Pandas的Series和Dataframe类似，都是了解它们的基础，所以这里日常积累一些常用张量运算函数。\n",
    "\n",
    "主要参考：\n",
    "\n",
    "- [TENSORS](https://pytorch.org/tutorials/beginner/former_torchies/tensor_tutorial.html)。"
   ]
  },
  {
   "cell_type": "code",
   "execution_count": 10,
   "metadata": {},
   "outputs": [
    {
     "name": "stdout",
     "output_type": "stream",
     "text": [
      "[[0.85832951 0.17197487 0.84933902 0.78488964]\n",
      " [0.70293221 0.88172093 0.82549544 0.73390744]\n",
      " [0.06626581 0.75575926 0.03123777 0.4620981 ]\n",
      " [0.76854514 0.92926573 0.34542583 0.47172337]\n",
      " [0.46905619 0.00569534 0.36139286 0.68522161]\n",
      " [0.4085438  0.46559733 0.53468566 0.25821807]] (6, 4)\n"
     ]
    },
    {
     "data": {
      "text/plain": [
       "(array([0.54561211, 0.53500224, 0.49126277, 0.56600971]),\n",
       " array([6., 6., 6., 6.]))"
      ]
     },
     "execution_count": 10,
     "metadata": {},
     "output_type": "execute_result"
    }
   ],
   "source": [
    "import numpy as np\n",
    "import torch\n",
    "\n",
    "X = np.random.rand(6,4)\n",
    "print(X,X.shape)\n",
    "avg_np, _ = np.average(X, axis=0, returned=True)\n",
    "avg_np, _"
   ]
  },
  {
   "cell_type": "code",
   "execution_count": 11,
   "metadata": {},
   "outputs": [
    {
     "data": {
      "text/plain": [
       "tensor([0.5456, 0.5350, 0.4913, 0.5660], dtype=torch.float64)"
      ]
     },
     "execution_count": 11,
     "metadata": {},
     "output_type": "execute_result"
    }
   ],
   "source": [
    "X_th = torch.tensor(X)\n",
    "avg_th = torch.mean(X_th, dim=0)\n",
    "avg_th"
   ]
  },
  {
   "cell_type": "code",
   "execution_count": 13,
   "metadata": {},
   "outputs": [],
   "source": [
    "assert (X == X_th.numpy()).all()\n",
    "# assert (avg_np == avg_th.numpy()).all()   # this fails alread"
   ]
  },
  {
   "cell_type": "markdown",
   "metadata": {},
   "source": [
    "求和运算和平均运算类似："
   ]
  },
  {
   "cell_type": "code",
   "execution_count": 30,
   "metadata": {},
   "outputs": [
    {
     "data": {
      "text/plain": [
       "tensor(5.)"
      ]
     },
     "execution_count": 30,
     "metadata": {},
     "output_type": "execute_result"
    }
   ],
   "source": [
    "ta=torch.ones(5)\n",
    "tc=torch.sum(ta)\n",
    "tc"
   ]
  },
  {
   "cell_type": "markdown",
   "metadata": {},
   "source": [
    "类似numpy的repeat和tile，torch中可以使用repeat："
   ]
  },
  {
   "cell_type": "code",
   "execution_count": 15,
   "metadata": {},
   "outputs": [
    {
     "data": {
      "text/plain": [
       "tensor([[1., 2., 3., 1., 2., 3., 1., 2., 3., 1., 2., 3.],\n",
       "        [4., 5., 6., 4., 5., 6., 4., 5., 6., 4., 5., 6.]])"
      ]
     },
     "execution_count": 15,
     "metadata": {},
     "output_type": "execute_result"
    }
   ],
   "source": [
    "z = torch.FloatTensor([[1,2,3],[4,5,6]])\n",
    "z.repeat(1,4)"
   ]
  },
  {
   "cell_type": "code",
   "execution_count": 16,
   "metadata": {},
   "outputs": [
    {
     "data": {
      "text/plain": [
       "tensor([[1., 2., 3.],\n",
       "        [1., 2., 3.],\n",
       "        [1., 2., 3.],\n",
       "        [1., 2., 3.],\n",
       "        [4., 5., 6.],\n",
       "        [4., 5., 6.],\n",
       "        [4., 5., 6.],\n",
       "        [4., 5., 6.]])"
      ]
     },
     "execution_count": 16,
     "metadata": {},
     "output_type": "execute_result"
    }
   ],
   "source": [
    "z.repeat(1,4).view(-1, 3)"
   ]
  },
  {
   "cell_type": "code",
   "execution_count": 17,
   "metadata": {},
   "outputs": [
    {
     "data": {
      "text/plain": [
       "tensor([[1., 2., 3.],\n",
       "        [4., 5., 6.],\n",
       "        [1., 2., 3.],\n",
       "        [4., 5., 6.],\n",
       "        [1., 2., 3.],\n",
       "        [4., 5., 6.],\n",
       "        [1., 2., 3.],\n",
       "        [4., 5., 6.]])"
      ]
     },
     "execution_count": 17,
     "metadata": {},
     "output_type": "execute_result"
    }
   ],
   "source": [
    "z.repeat(4,1)"
   ]
  },
  {
   "cell_type": "markdown",
   "metadata": {},
   "source": [
    "初始化张量1："
   ]
  },
  {
   "cell_type": "code",
   "execution_count": 21,
   "metadata": {},
   "outputs": [],
   "source": [
    "ta=torch.ones(5)"
   ]
  },
  {
   "cell_type": "markdown",
   "metadata": {},
   "source": [
    "tensor的element-wise运算。"
   ]
  },
  {
   "cell_type": "code",
   "execution_count": 22,
   "metadata": {},
   "outputs": [
    {
     "data": {
      "text/plain": [
       "tensor([1., 1., 1., 1., 1.])"
      ]
     },
     "execution_count": 22,
     "metadata": {},
     "output_type": "execute_result"
    }
   ],
   "source": [
    "tb=torch.zeros(5)\n",
    "ta-tb"
   ]
  },
  {
   "cell_type": "code",
   "execution_count": 27,
   "metadata": {},
   "outputs": [
    {
     "data": {
      "text/plain": [
       "tensor([[2., 2., 2., 2., 2.]])"
      ]
     },
     "execution_count": 27,
     "metadata": {},
     "output_type": "execute_result"
    }
   ],
   "source": [
    "z = torch.FloatTensor([2]).repeat(1,5)\n",
    "z"
   ]
  },
  {
   "cell_type": "code",
   "execution_count": 28,
   "metadata": {},
   "outputs": [
    {
     "data": {
      "text/plain": [
       "tensor([[2., 2., 2., 2., 2.]])"
      ]
     },
     "execution_count": 28,
     "metadata": {},
     "output_type": "execute_result"
    }
   ],
   "source": [
    "z/ta"
   ]
  },
  {
   "cell_type": "code",
   "execution_count": 31,
   "metadata": {},
   "outputs": [
    {
     "data": {
      "text/plain": [
       "tensor([[0.5000, 0.5000, 0.5000, 0.5000, 0.5000]])"
      ]
     },
     "execution_count": 31,
     "metadata": {},
     "output_type": "execute_result"
    }
   ],
   "source": [
    "td=ta/z\n",
    "td"
   ]
  },
  {
   "cell_type": "code",
   "execution_count": 32,
   "metadata": {},
   "outputs": [
    {
     "data": {
      "text/plain": [
       "tensor([[0.2500, 0.2500, 0.2500, 0.2500, 0.2500]])"
      ]
     },
     "execution_count": 32,
     "metadata": {},
     "output_type": "execute_result"
    }
   ],
   "source": [
    "te=td**2\n",
    "te"
   ]
  },
  {
   "cell_type": "markdown",
   "metadata": {},
   "source": [
    "看看二维的情况："
   ]
  },
  {
   "cell_type": "code",
   "execution_count": 35,
   "metadata": {},
   "outputs": [
    {
     "data": {
      "text/plain": [
       "tensor([[1., 2., 3.],\n",
       "        [1., 2., 3.],\n",
       "        [1., 2., 3.],\n",
       "        [1., 2., 3.],\n",
       "        [4., 5., 6.],\n",
       "        [4., 5., 6.],\n",
       "        [4., 5., 6.],\n",
       "        [4., 5., 6.]])"
      ]
     },
     "execution_count": 35,
     "metadata": {},
     "output_type": "execute_result"
    }
   ],
   "source": [
    "t1 = torch.FloatTensor([[1,2,3],[4,5,6]])\n",
    "t2=t1.repeat(1,4).view(-1, 3)\n",
    "t2"
   ]
  },
  {
   "cell_type": "code",
   "execution_count": 36,
   "metadata": {},
   "outputs": [
    {
     "data": {
      "text/plain": [
       "tensor([[ 7.,  8.,  9.],\n",
       "        [ 7.,  8.,  9.],\n",
       "        [ 7.,  8.,  9.],\n",
       "        [ 7.,  8.,  9.],\n",
       "        [10., 11., 12.],\n",
       "        [10., 11., 12.],\n",
       "        [10., 11., 12.],\n",
       "        [10., 11., 12.]])"
      ]
     },
     "execution_count": 36,
     "metadata": {},
     "output_type": "execute_result"
    }
   ],
   "source": [
    "t3 = torch.FloatTensor([[7,8,9],[10,11,12]])\n",
    "t4=t3.repeat(1,4).view(-1, 3)\n",
    "t4"
   ]
  },
  {
   "cell_type": "code",
   "execution_count": 45,
   "metadata": {},
   "outputs": [
    {
     "data": {
      "text/plain": [
       "tensor([[36., 36., 36.],\n",
       "        [36., 36., 36.],\n",
       "        [36., 36., 36.],\n",
       "        [36., 36., 36.],\n",
       "        [36., 36., 36.],\n",
       "        [36., 36., 36.],\n",
       "        [36., 36., 36.],\n",
       "        [36., 36., 36.]])"
      ]
     },
     "execution_count": 45,
     "metadata": {},
     "output_type": "execute_result"
    }
   ],
   "source": [
    "SST = (t4 - t2) ** 2\n",
    "SST"
   ]
  },
  {
   "cell_type": "code",
   "execution_count": 46,
   "metadata": {},
   "outputs": [
    {
     "data": {
      "text/plain": [
       "tensor([288., 288., 288.])"
      ]
     },
     "execution_count": 46,
     "metadata": {},
     "output_type": "execute_result"
    }
   ],
   "source": [
    "SST=torch.sum(SST,dim=0)\n",
    "SST"
   ]
  },
  {
   "cell_type": "markdown",
   "metadata": {},
   "source": [
    "有时候会有一nan值需要处理，有一种技巧如下所示，可以利用这个作为判断一个tensor有没有nan值得方法。"
   ]
  },
  {
   "cell_type": "code",
   "execution_count": 41,
   "metadata": {},
   "outputs": [
    {
     "name": "stdout",
     "output_type": "stream",
     "text": [
      "False\n"
     ]
    }
   ],
   "source": [
    "print(np.nan==np.nan)"
   ]
  },
  {
   "cell_type": "code",
   "execution_count": 42,
   "metadata": {},
   "outputs": [
    {
     "data": {
      "text/plain": [
       "tensor([[ 7., nan,  9.],\n",
       "        [10., 11., 12.]])"
      ]
     },
     "execution_count": 42,
     "metadata": {},
     "output_type": "execute_result"
    }
   ],
   "source": [
    "t5 = torch.FloatTensor([[7,np.nan,9],[10,11,12]])\n",
    "t5"
   ]
  },
  {
   "cell_type": "code",
   "execution_count": 43,
   "metadata": {},
   "outputs": [
    {
     "data": {
      "text/plain": [
       "tensor([[ True, False,  True],\n",
       "        [ True,  True,  True]])"
      ]
     },
     "execution_count": 43,
     "metadata": {},
     "output_type": "execute_result"
    }
   ],
   "source": [
    "mask= t5==t5\n",
    "mask"
   ]
  },
  {
   "cell_type": "code",
   "execution_count": 44,
   "metadata": {},
   "outputs": [
    {
     "data": {
      "text/plain": [
       "tensor([ 7.,  9., 10., 11., 12.])"
      ]
     },
     "execution_count": 44,
     "metadata": {},
     "output_type": "execute_result"
    }
   ],
   "source": [
    "t6=t5[mask]\n",
    "t6"
   ]
  },
  {
   "cell_type": "code",
   "execution_count": 48,
   "metadata": {},
   "outputs": [
    {
     "name": "stdout",
     "output_type": "stream",
     "text": [
      "tensor(0.)\n"
     ]
    }
   ],
   "source": [
    "def nse_2d(t,p):\n",
    "    seq_length = t.shape[0]\n",
    "    Ngage = t.shape[1]\n",
    "    tmean = torch.mean(t, dim=0)\n",
    "    tmeans = tmean.repeat(seq_length, 1)\n",
    "    SST = torch.sum((t - tmeans) ** 2, dim=0)\n",
    "    SSRes = torch.sum((t - p) ** 2, dim=0)\n",
    "    # Same as Fredrick 2019\n",
    "    # temp = SSRes / ((torch.sqrt(SST) + 0.1) ** 2)\n",
    "    # original NSE\n",
    "    temp = SSRes / SST\n",
    "    loss = torch.sum(temp) / Ngage\n",
    "    return loss\n",
    "\n",
    "t1 = torch.FloatTensor([[1,2,3],[4,5,6]])\n",
    "t2 = torch.FloatTensor([[1,2,3],[4,5,6]])\n",
    "print(nse_2d(t1,t2))"
   ]
  },
  {
   "cell_type": "markdown",
   "metadata": {},
   "source": [
    "试试torch的广播功能："
   ]
  },
  {
   "cell_type": "code",
   "execution_count": 49,
   "metadata": {},
   "outputs": [
    {
     "data": {
      "text/plain": [
       "tensor([[1.0000, 1.4142, 1.7321],\n",
       "        [2.0000, 2.2361, 2.4495]])"
      ]
     },
     "execution_count": 49,
     "metadata": {},
     "output_type": "execute_result"
    }
   ],
   "source": [
    "t1 = torch.FloatTensor([[1,2,3],[4,5,6]])\n",
    "t2=torch.sqrt(t1)"
   ]
  },
  {
   "cell_type": "code",
   "execution_count": 52,
   "metadata": {},
   "outputs": [
    {
     "data": {
      "text/plain": [
       "tensor([[0.8264, 0.4535, 0.3122],\n",
       "        [0.2380, 0.1922, 0.1612]])"
      ]
     },
     "execution_count": 52,
     "metadata": {},
     "output_type": "execute_result"
    }
   ],
   "source": [
    "t1/((t2+0.1)**2)"
   ]
  },
  {
   "cell_type": "markdown",
   "metadata": {},
   "source": [
    "tensor 转换为numpy："
   ]
  },
  {
   "cell_type": "code",
   "execution_count": 1,
   "metadata": {},
   "outputs": [
    {
     "name": "stdout",
     "output_type": "stream",
     "text": [
      "tensor([1., 1., 1., 1., 1.])\n"
     ]
    }
   ],
   "source": [
    "import torch\n",
    "a = torch.ones(5)\n",
    "print(a)"
   ]
  },
  {
   "cell_type": "code",
   "execution_count": 2,
   "metadata": {},
   "outputs": [
    {
     "name": "stdout",
     "output_type": "stream",
     "text": [
      "[1. 1. 1. 1. 1.]\n"
     ]
    }
   ],
   "source": [
    "b = a.numpy()\n",
    "print(b)"
   ]
  },
  {
   "cell_type": "code",
   "execution_count": 3,
   "metadata": {},
   "outputs": [
    {
     "name": "stdout",
     "output_type": "stream",
     "text": [
      "tensor([2., 2., 2., 2., 2.])\n",
      "[2. 2. 2. 2. 2.]\n"
     ]
    }
   ],
   "source": [
    "a.add_(1)\n",
    "print(a)\n",
    "print(b)    # see how the numpy array changed in value"
   ]
  },
  {
   "cell_type": "markdown",
   "metadata": {},
   "source": [
    "注意tensor变化时，array也会跟着变。反过来也一样："
   ]
  },
  {
   "cell_type": "code",
   "execution_count": 4,
   "metadata": {},
   "outputs": [
    {
     "name": "stdout",
     "output_type": "stream",
     "text": [
      "[2. 2. 2. 2. 2.]\n",
      "tensor([2., 2., 2., 2., 2.], dtype=torch.float64)\n"
     ]
    }
   ],
   "source": [
    "import numpy as np\n",
    "a = np.ones(5)\n",
    "b = torch.from_numpy(a)\n",
    "np.add(a, 1, out=a)\n",
    "print(a)\n",
    "print(b)  # see how changing the np array changed the torch Tensor automatically"
   ]
  },
  {
   "cell_type": "markdown",
   "metadata": {},
   "source": [
    "All the Tensors on the CPU except a CharTensor support converting to NumPy and back."
   ]
  },
  {
   "cell_type": "markdown",
   "metadata": {},
   "source": [
    "再看看维度变换，三维变二维："
   ]
  },
  {
   "cell_type": "code",
   "execution_count": 2,
   "metadata": {},
   "outputs": [
    {
     "data": {
      "text/plain": [
       "tensor([[[ 7.,  8.,  9.],\n",
       "         [10., 11., 12.]],\n",
       "\n",
       "        [[ 7.,  8.,  9.],\n",
       "         [10., 11., 12.]]])"
      ]
     },
     "execution_count": 2,
     "metadata": {},
     "output_type": "execute_result"
    }
   ],
   "source": [
    "import torch\n",
    "t1 = torch.FloatTensor([[[7,8,9],[10,11,12]],[[7,8,9],[10,11,12]]])\n",
    "t1"
   ]
  },
  {
   "cell_type": "code",
   "execution_count": 4,
   "metadata": {},
   "outputs": [
    {
     "data": {
      "text/plain": [
       "tensor([[ 7.,  8.,  9.],\n",
       "        [10., 11., 12.],\n",
       "        [ 7.,  8.,  9.],\n",
       "        [10., 11., 12.]])"
      ]
     },
     "execution_count": 4,
     "metadata": {},
     "output_type": "execute_result"
    }
   ],
   "source": [
    "t2=t1.view(-1, 3)\n",
    "t2"
   ]
  },
  {
   "cell_type": "code",
   "execution_count": 5,
   "metadata": {},
   "outputs": [
    {
     "data": {
      "text/plain": [
       "tensor([[ 7.,  8.,  9.],\n",
       "        [10., 11., 12.],\n",
       "        [ 7.,  8.,  9.],\n",
       "        [10., 11., 12.]])"
      ]
     },
     "execution_count": 5,
     "metadata": {},
     "output_type": "execute_result"
    }
   ],
   "source": [
    "t3=t1.reshape(-1, 3)\n",
    "t3"
   ]
  },
  {
   "cell_type": "markdown",
   "metadata": {},
   "source": [
    "reshape 和 view 的区别这里简单补充下，参考了：[Pytorch-reshape与view的区别](https://congluwen.top/2018/12/pytorch_reshape_view/)。Pytorch中reshape()与view()都可以改变Tensor的shape但是有略微的区别.\n",
    "\n",
    "- view()只可以由torch.Tensor.view()来调用，view():\n",
    "    - 不改变Tensor数据，改变Tensor的size(即shape)\n",
    "    - 对于一个将要被view的Tensor，新的size必须与原来的size与stride兼容,即新的维度必须是以下两种情况: \n",
    "        - 是原有维度的一个子空间\n",
    "        - 只跨越原有满足邻接条件，stride[i]=stride[i+1]×size[i+1]的原有维度d,d+1,…,d+k\\\n",
    "    - 否则，在view之前必须调用contiguous()方法，对于该方法的讨论，见[StackOverflow](https://stackoverflow.com/questions/48915810/pytorch-contiguous)\n",
    "- reshape()可以由torch.reshape(),也可由torch.Tensor.reshape()调用。reshape():\n",
    "    - 同样也是返回与input数据量相同，但形状不同的tensor\n",
    "    - 若满足view的条件，则不会copy，若不满足，则会copy"
   ]
  },
  {
   "cell_type": "markdown",
   "metadata": {},
   "source": [
    "张量的转置："
   ]
  },
  {
   "cell_type": "code",
   "execution_count": 6,
   "metadata": {},
   "outputs": [
    {
     "data": {
      "text/plain": [
       "tensor([[-0.0589, -0.2256, -1.2757],\n",
       "        [-0.5401,  1.4478, -1.2537]])"
      ]
     },
     "execution_count": 6,
     "metadata": {},
     "output_type": "execute_result"
    }
   ],
   "source": [
    "import torch\n",
    "x = torch.randn(2, 3)\n",
    "x"
   ]
  },
  {
   "cell_type": "code",
   "execution_count": 7,
   "metadata": {},
   "outputs": [
    {
     "data": {
      "text/plain": [
       "tensor([[-0.0589, -0.5401],\n",
       "        [-0.2256,  1.4478],\n",
       "        [-1.2757, -1.2537]])"
      ]
     },
     "execution_count": 7,
     "metadata": {},
     "output_type": "execute_result"
    }
   ],
   "source": [
    "torch.t(x)"
   ]
  },
  {
   "cell_type": "markdown",
   "metadata": {},
   "source": [
    "关于torch中的nan值，在torch中检测是否有nan值可以使用：x != x"
   ]
  },
  {
   "cell_type": "code",
   "execution_count": 9,
   "metadata": {},
   "outputs": [
    {
     "data": {
      "text/plain": [
       "tensor([False, False,  True])"
      ]
     },
     "execution_count": 9,
     "metadata": {},
     "output_type": "execute_result"
    }
   ],
   "source": [
    "import torch\n",
    "import numpy as np\n",
    "x = torch.tensor([1, 2, np.nan])\n",
    "x != x"
   ]
  },
  {
   "cell_type": "markdown",
   "metadata": {},
   "source": [
    "如果是直接判断一个多维张量是否有nan值，可以使用："
   ]
  },
  {
   "cell_type": "code",
   "execution_count": 10,
   "metadata": {},
   "outputs": [
    {
     "name": "stdout",
     "output_type": "stream",
     "text": [
      "please check\n"
     ]
    }
   ],
   "source": [
    "mask = x != x\n",
    "if len(mask[mask == True]) > 0:\n",
    "    print(\"please check\")"
   ]
  },
  {
   "cell_type": "markdown",
   "metadata": {},
   "source": [
    "复制张量："
   ]
  },
  {
   "cell_type": "code",
   "execution_count": 1,
   "metadata": {},
   "outputs": [
    {
     "data": {
      "text/plain": [
       "tensor([[[ 0.3281, -0.8897,  0.7370, -0.9295],\n",
       "         [ 0.7451,  0.3618, -0.4559, -0.7497],\n",
       "         [-0.9598, -1.1446, -2.7180, -1.1157]],\n",
       "\n",
       "        [[ 1.1102, -1.1062, -0.7549,  1.4117],\n",
       "         [ 0.5135, -1.6110,  0.4967,  1.1779],\n",
       "         [ 0.5094,  1.6470,  0.0407,  0.1715]]])"
      ]
     },
     "execution_count": 1,
     "metadata": {},
     "output_type": "execute_result"
    }
   ],
   "source": [
    "import torch\n",
    "x = torch.randn(2, 3, 4)\n",
    "x"
   ]
  },
  {
   "cell_type": "code",
   "execution_count": 2,
   "metadata": {},
   "outputs": [
    {
     "data": {
      "text/plain": [
       "tensor([[ 1.1102, -1.1062, -0.7549,  1.4117],\n",
       "        [ 0.5135, -1.6110,  0.4967,  1.1779],\n",
       "        [ 0.5094,  1.6470,  0.0407,  0.1715]])"
      ]
     },
     "execution_count": 2,
     "metadata": {},
     "output_type": "execute_result"
    }
   ],
   "source": [
    "x[-1,:,:]"
   ]
  },
  {
   "cell_type": "code",
   "execution_count": 3,
   "metadata": {},
   "outputs": [
    {
     "data": {
      "text/plain": [
       "tensor([[[ 1.1102, -1.1062, -0.7549,  1.4117],\n",
       "         [ 0.5135, -1.6110,  0.4967,  1.1779],\n",
       "         [ 0.5094,  1.6470,  0.0407,  0.1715]],\n",
       "\n",
       "        [[ 1.1102, -1.1062, -0.7549,  1.4117],\n",
       "         [ 0.5135, -1.6110,  0.4967,  1.1779],\n",
       "         [ 0.5094,  1.6470,  0.0407,  0.1715]],\n",
       "\n",
       "        [[ 1.1102, -1.1062, -0.7549,  1.4117],\n",
       "         [ 0.5135, -1.6110,  0.4967,  1.1779],\n",
       "         [ 0.5094,  1.6470,  0.0407,  0.1715]]])"
      ]
     },
     "execution_count": 3,
     "metadata": {},
     "output_type": "execute_result"
    }
   ],
   "source": [
    "x[-1,:,:].repeat(3,1,1)"
   ]
  }
 ],
 "metadata": {
  "kernelspec": {
   "display_name": "Python 3",
   "language": "python",
   "name": "python3"
  },
  "language_info": {
   "codemirror_mode": {
    "name": "ipython",
    "version": 3
   },
   "file_extension": ".py",
   "mimetype": "text/x-python",
   "name": "python",
   "nbconvert_exporter": "python",
   "pygments_lexer": "ipython3",
   "version": "3.7.8"
  }
 },
 "nbformat": 4,
 "nbformat_minor": 4
}
