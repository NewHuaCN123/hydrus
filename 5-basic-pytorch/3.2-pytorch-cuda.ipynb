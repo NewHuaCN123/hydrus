{
 "cells": [
  {
   "cell_type": "markdown",
   "id": "ef5d728f-d9e2-49fd-be95-282c0a61ecf4",
   "metadata": {},
   "source": [
    "# PyTorch CUDA 算子\n",
    "\n",
    "本文主要根据[熬了几个通宵，我写了份CUDA新手入门代码](https://zhuanlan.zhihu.com/p/360441891)简单了解如何在PyTorch下自己实现一个CUDA运算。注意如果安装环境时候默认安装的PyTorch是CPU版本，可能没有办法跑通本文件内的程序。这部分内容相对比较复杂，用不到可忽略。本文暂时也没记录全。\n",
    "\n",
    "## PyTorch如何自定义CUDA算子\n",
    "\n",
    "首先，详细了解一下PyTorch是如何调用自定义的CUDA算子的。\n",
    "\n",
    "在本文件夹下的cuda文件夹内有四个代码文件：\n",
    "\n",
    "- main.py，这是python入口，也就是你平时写模型的地方。\n",
    "- add2.cpp，这是torch和CUDA连接的地方，将CUDA程序封装成了python可以调用的库。\n",
    "- add2.h，CUDA函数声明。\n",
    "- add2.cu，CUDA函数实现。\n",
    "\n",
    "首先最简单的当属add2.h和add2.cu，这就是普通的CUDA实现。\n",
    "\n",
    "这里实现的功能是两个长度为n的tensor相加，每个block有1024个线程，一共有n/1024个block。具体CUDA细节参考后面“并行计算”部分的Numba介绍。\n",
    "\n",
    "add2_kernel是kernel函数，运行在GPU端的。而launch_add2是CPU端的执行函数，调用kernel。注意它是异步的，调用完之后控制权立刻返回给CPU，所以之后计算时间的时候要格外小心，很容易只统计到调用的时间。"
   ]
  }
 ],
 "metadata": {
  "kernelspec": {
   "display_name": "Python 3",
   "language": "python",
   "name": "python3"
  },
  "language_info": {
   "codemirror_mode": {
    "name": "ipython",
    "version": 3
   },
   "file_extension": ".py",
   "mimetype": "text/x-python",
   "name": "python",
   "nbconvert_exporter": "python",
   "pygments_lexer": "ipython3",
   "version": "3.8.8"
  }
 },
 "nbformat": 4,
 "nbformat_minor": 5
}
