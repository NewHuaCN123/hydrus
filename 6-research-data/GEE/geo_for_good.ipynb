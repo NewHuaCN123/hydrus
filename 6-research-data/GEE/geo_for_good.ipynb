{
 "cells": [
  {
   "cell_type": "markdown",
   "metadata": {},
   "source": [
    "# Geo for good\n",
    "\n",
    "Geo for Good User Summit是一个Google的会议，每年都会有，会对Google地球相关的内容进行讨论和培训。这里仅简单了解下从2014年到现在的峰会的培训材料内容，以储备一些GEE的使用资料。\n",
    "\n",
    "首先，补充一些基本卫星的解释，以使后面的阅读顺利。\n",
    "\n",
    "|简称|全称|中文|基本用途|\n",
    "|-|-|-|-|\n",
    "|Suomi NPP| Suomi National Polar-orbiting Partnership |索米国家极地轨道伙伴卫星| weather satellite  |\n",
    "|Auro|-|-|studying the Earth's ozone layer, air quality and climate|\n",
    "|ACRIMSAT| Active Cavity Radiometer Irradiance Monitor Satellite||Solar astronomy|\n",
    "|SORCE|Solar Radiation and Climate Experiment|太阳辐射和气候实验| measures incoming X-ray, ultraviolet, visible, near-infrared, and total solar radiation|\n",
    "|CALIPSO|Cloud-Aerosol Lidar and Infrared Pathfinder Satellite Observations||monitor aerosols and clouds|\n",
    "|CLOUDSAT|||measure the altitude and properties of clouds for global warming|\n",
    "|EO-1|Earth Observing-1|| develop and validate a number of instrument and spacecraft bus breakthrough technologies|\n",
    "|Terra|||同时采集地球大气、陆地、海洋和太阳能量平衡等信息|\n",
    "|Aqua|||studying the precipitation, evaporation, and cycling of water|\n",
    "|QuikSCAT|Quick Scatterometer||measure the surface wind speed and direction over the ice-free global oceans|\n",
    "|OSTM/Jason-2| Ocean Surface Topography Mission on the Jason-2 satellite|| sea surface height measurements |\n",
    "|Aquarius/SAC-D |||demonstrate that accurate measurements of salinity could be made from space|\n",
    "\n",
    "## 2014\n",
    "\n",
    "Google Earth Engine 101，201，301，302 介绍了GEE的一些使用。下面逐一简单概述。\n",
    "\n",
    "空间数据量很大，比如一张Landsat8图像（30m分辨率）有64M大，10个波段，12位分辨率，每天有600张这样的图，共40多年的数据。"
   ]
  }
 ],
 "metadata": {
  "kernelspec": {
   "display_name": "Python 3",
   "language": "python",
   "name": "python3"
  },
  "language_info": {
   "codemirror_mode": {
    "name": "ipython",
    "version": 3
   },
   "file_extension": ".py",
   "mimetype": "text/x-python",
   "name": "python",
   "nbconvert_exporter": "python",
   "pygments_lexer": "ipython3",
   "version": "3.7.4"
  }
 },
 "nbformat": 4,
 "nbformat_minor": 2
}
