{
 "cells": [
  {
   "cell_type": "markdown",
   "metadata": {},
   "source": [
    "# Geo for good\n",
    "\n",
    "Geo for Good User Summit是一个Google的会议，每年都会有，会对Google地球相关的内容进行讨论和培训。这里仅简单了解下从2014年到现在的峰会的培训材料内容，以储备一些GEE的使用资料。\n",
    "\n",
    "## 2014\n",
    "\n",
    "Google Earth Engine 101，201，301，302 介绍了GEE的一些使用。下面逐一简单概述。\n",
    "\n"
   ]
  }
 ],
 "metadata": {
  "kernelspec": {
   "display_name": "Python 3",
   "language": "python",
   "name": "python3"
  },
  "language_info": {
   "codemirror_mode": {
    "name": "ipython",
    "version": 3
   },
   "file_extension": ".py",
   "mimetype": "text/x-python",
   "name": "python",
   "nbconvert_exporter": "python",
   "pygments_lexer": "ipython3",
   "version": "3.7.4"
  }
 },
 "nbformat": 4,
 "nbformat_minor": 2
}
