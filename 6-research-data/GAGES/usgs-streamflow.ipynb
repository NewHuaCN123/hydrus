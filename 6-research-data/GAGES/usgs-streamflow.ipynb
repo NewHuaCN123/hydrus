{
 "cells": [
  {
   "cell_type": "markdown",
   "metadata": {
    "collapsed": true,
    "pycharm": {
     "name": "#%% md\n"
    }
   },
   "source": [
    "# 美国USGS径流数据\n",
    "\n",
    "这部分主要参考了博客[径流观测数据](http://mengfeimu.com/2019/03/06/streamflow/)\n",
    "\n",
    "USGS [National Water Information System (NWIS)](https://waterdata.usgs.gov/nwis)，公开数据。\n",
    "\n",
    "径流站点信息查询：\n",
    "\n",
    "[NWIS](https://waterdata.usgs.gov/nwis)中的Site Information和[Map of all sites with links to all available water data for individual sites](https://maps.waterdata.usgs.gov/mapper/index.html).\n",
    "\n",
    "批量下载："
   ]
  },
  {
   "cell_type": "code",
   "execution_count": 10,
   "metadata": {
    "pycharm": {
     "is_executing": false,
     "name": "#%%\n"
    }
   },
   "outputs": [
    {
     "name": "stdout",
     "output_type": "stream",
     "text": [
      "https://waterdata.usgs.gov/nwis/dv?cb_00060=on&format=rdb&site_no=05594100&referred_module=sw&period=&begin_date=2011-01-01&end_date=2012-12-31\n",
      "           site_no    datetime    flow mode\n",
      "agency_cd                                  \n",
      "USGS       5594100  2011-01-01  5400.0    A\n",
      "USGS       5594100  2011-01-02  6310.0    A\n",
      "USGS       5594100  2011-01-03  6070.0    A\n",
      "USGS       5594100  2011-01-04  5540.0    A\n",
      "USGS       5594100  2011-01-05  4880.0    A\n",
      "...            ...         ...     ...  ...\n",
      "USGS       5594100  2012-12-27  2000.0    A\n",
      "USGS       5594100  2012-12-28  2430.0    A\n",
      "USGS       5594100  2012-12-29  3470.0    A\n",
      "USGS       5594100  2012-12-30  3970.0    A\n",
      "USGS       5594100  2012-12-31  4110.0    A\n",
      "\n",
      "[731 rows x 4 columns]\n",
      "Good! No missing flow data!\n",
      "写入成功！\n"
     ]
    }
   ],
   "source": [
    "import pandas as pd\n",
    "import requests\n",
    "\n",
    "site_id = '05594100'\n",
    "year1 = 2011\n",
    "year2 = 2012\n",
    "url = 'https://waterdata.usgs.gov/nwis/dv?cb_00060=on&format=rdb&site_no={}&\\\n",
    "referred_module=sw&period=&begin_date={}-01-01&end_date={}-12-31'.format(site_id,year1,year2)\n",
    "print(url)\n",
    "# pandas从0.19.2及之后的版本都可以直接从url中读取数据，因为是存入dataframe，而整齐的数据是从第30行开始的，因此跳过前面29行。\n",
    "df_flow = pd.read_csv(url, skiprows=29, sep='\\t', names = ['agency_cd','site_no','datetime','flow','mode'], index_col=0)\n",
    "print(df_flow)\n",
    "\n",
    "df_flow.index = pd.DatetimeIndex(df_flow.datetime)\n",
    "# convert unit: f3/s --> m3/s\n",
    "df_flow.flow *= 0.0283168\n",
    "if len(df_flow.index) == len(pd.date_range('{}0101'.format(year1), '{}1231'.format(year2),freq='D')):\n",
    "    print('Good! No missing flow data!')\n",
    "else:\n",
    "    print('Opoo! Please check missing data!')\n",
    "    \n",
    "\n",
    "# 通过直接读取网页的方式也可以获取数据，然后存入txt文件\n",
    "r = requests.get(url)\n",
    "with open('usgs-test.txt','w') as f:\n",
    "    f.write(r.text)\n",
    "print(\"写入成功！\")"
   ]
  }
 ],
 "metadata": {
  "kernelspec": {
   "display_name": "Python 3",
   "language": "python",
   "name": "python3"
  },
  "language_info": {
   "codemirror_mode": {
    "name": "ipython",
    "version": 3
   },
   "file_extension": ".py",
   "mimetype": "text/x-python",
   "name": "python",
   "nbconvert_exporter": "python",
   "pygments_lexer": "ipython3",
   "version": "3.7.4"
  },
  "pycharm": {
   "stem_cell": {
    "cell_type": "raw",
    "metadata": {
     "collapsed": false
    },
    "source": []
   }
  }
 },
 "nbformat": 4,
 "nbformat_minor": 1
}
