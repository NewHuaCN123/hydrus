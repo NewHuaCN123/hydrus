{
 "cells": [
  {
   "cell_type": "markdown",
   "metadata": {
    "collapsed": true,
    "pycharm": {
     "name": "#%% md\n"
    }
   },
   "source": [
    "# 美国USGS径流数据\n",
    "\n",
    "USGS [National Water Information System (NWIS)](https://waterdata.usgs.gov/nwis)，公开数据。\n",
    "\n",
    "径流站点信息查询：\n",
    "\n",
    "[NWIS](https://waterdata.usgs.gov/nwis)中的Site Information和[Map of all sites with links to all available water data for individual sites](https://maps.waterdata.usgs.gov/mapper/index.html).\n",
    "\n",
    "批量下载："
   ]
  },
  {
   "cell_type": "code",
   "execution_count": 6,
   "outputs": [
    {
     "name": "stdout",
     "text": [
      "https://waterdata.usgs.gov/nwis/dv?cb_00060=on&format=rdb&site_no=05594100&referred_module=sw&period=&begin_date=2011-01-01&end_date=2012-12-31\n",
      "              flow\ndate              \n2011-01-01  5400.0\n2011-01-02  6310.0\n2011-01-03  6070.0\n2011-01-04  5540.0\n2011-01-05  4880.0\n...            ...\n2012-12-27  2000.0\n2012-12-28  2430.0\n2012-12-29  3470.0\n2012-12-30  3970.0\n2012-12-31  4110.0\n\n[731 rows x 1 columns]\nGood! No missing flow data!\n"
     ],
     "output_type": "stream"
    }
   ],
   "source": [
    "import pandas as pd\n",
    "site_id = '05594100'\n",
    "year1 = 2011\n",
    "year2 = 2012\n",
    "url = 'https://waterdata.usgs.gov/nwis/dv?cb_00060=on&format=rdb&site_no={}&\\\n",
    "referred_module=sw&period=&begin_date={}-01-01&end_date={}-12-31'.format(site_id,year1,year2)\n",
    "print(url)\n",
    "\n",
    "df_flow = pd.read_csv(url, skiprows=29, sep='\\t', usecols=(2,3), names = ['date','flow'], index_col=(0))\n",
    "print(df_flow)\n",
    "df_flow.index = pd.DatetimeIndex(df_flow.index)\n",
    "\n",
    "# convert unit: f3/s --> m3/s\n",
    "df_flow.flow *= 0.0283168\n",
    "if len(df_flow.index) == len(pd.date_range('{}0101'.format(year1), '{}1231'.format(year2),freq='D')):\n",
    "    print('Good! No missing flow data!')"
   ],
   "metadata": {
    "collapsed": false,
    "pycharm": {
     "name": "#%%\n",
     "is_executing": false
    }
   }
  }
 ],
 "metadata": {
  "language_info": {
   "codemirror_mode": {
    "name": "ipython",
    "version": 2
   },
   "file_extension": ".py",
   "mimetype": "text/x-python",
   "name": "python",
   "nbconvert_exporter": "python",
   "pygments_lexer": "ipython2",
   "version": "2.7.6"
  },
  "kernelspec": {
   "name": "python3",
   "language": "python",
   "display_name": "Python 3"
  },
  "pycharm": {
   "stem_cell": {
    "cell_type": "raw",
    "source": [],
    "metadata": {
     "collapsed": false
    }
   }
  }
 },
 "nbformat": 4,
 "nbformat_minor": 0
}