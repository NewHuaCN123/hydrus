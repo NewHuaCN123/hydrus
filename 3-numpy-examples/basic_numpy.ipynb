{
 "cells": [
  {
   "cell_type": "markdown",
   "source": [
    "# Numpy基本应用\n",
    "\n",
    "从基础数据结构和常见数学运算两个方面展开。目录结构主要参考[TutorialsPoint NumPy 教程](https://legacy.gitbook.com/book/wizardforcel/ts-numpy-tut/details)。\n",
    "\n",
    "基本思路是：\n",
    "\n",
    "1. 首先需要定义数据结构并初始化，这是一切运算的基础；\n",
    "2. 其次针对基本的数据结构有一些常用的基本操作，包括索引，变形操作等；\n",
    "3. 最后是基于这些数据结构的数学运算，包括统计的，算术的，逻辑的，集合的等等多方面。\n",
    "\n",
    "## 数据结构及操作\n",
    "\n",
    "### 向量、矩阵初始化"
   ],
   "metadata": {
    "collapsed": false
   }
  },
  {
   "cell_type": "code",
   "execution_count": 3,
   "outputs": [
    {
     "name": "stdout",
     "text": [
      "[ 0.49671415 -0.1382643   0.64768854]\n[ 0.49671415 -0.1382643   0.64768854]\n[[ 0.49671415]\n [-0.1382643 ]\n [ 0.64768854]]\n"
     ],
     "output_type": "stream"
    }
   ],
   "source": [
    "import numpy as np\n",
    "\"\"\"numpy向量\"\"\"\n",
    "# NumPy向量默认行向量\n",
    "features = np.array([0.49671415, -0.1382643, 0.64768854])\n",
    "print(features)\n",
    "# 对于一维数组，转置之后仍为一维数组\n",
    "print(features.T)\n",
    "# 可以用array[:,None]来创建列向量\n",
    "print(features[:, None])\n"
   ],
   "metadata": {
    "collapsed": false,
    "pycharm": {
     "name": "#%%\n",
     "is_executing": false
    }
   }
  },
  {
   "cell_type": "markdown",
   "source": [
    "和zeros不同, empty并不将数组值设置为0，因此其比zeros稍微快一些；\n",
    "另一方面，需要用户手动设置数组中的所有值，所以使用的时候要小心。\n",
    "\n",
    "full函数可以指定用某个值填充若干大小的数组。\n"
   ],
   "metadata": {
    "collapsed": false
   }
  },
  {
   "cell_type": "code",
   "execution_count": null,
   "outputs": [],
   "source": [
    "e1=np.empty([2, 2])  #uninitialized\n",
    "print(e1)\n",
    "e2=np.empty([2, 2], dtype=int)  #uninitialized\n",
    "print(e2)\n",
    "\n",
    "out = np.full([10], np.nan)\n",
    "print(out)\n"
   ],
   "metadata": {
    "collapsed": false,
    "pycharm": {
     "name": "#%%\n"
    }
   }
  },
  {
   "cell_type": "markdown",
   "source": [
    "astype函数是对array的copy，指定到一个特定的数据类型。\n"
   ],
   "metadata": {
    "collapsed": false,
    "pycharm": {
     "name": "#%% md\n"
    }
   }
  },
  {
   "cell_type": "code",
   "execution_count": 3,
   "outputs": [
    {
     "data": {
      "text/plain": "array([1, 2, 2])"
     },
     "metadata": {},
     "output_type": "execute_result",
     "execution_count": 3
    }
   ],
   "source": [
    "x = np.array([1, 2, 2.5])\n",
    "x.astype(int)\n"
   ],
   "metadata": {
    "collapsed": false,
    "pycharm": {
     "name": "#%%\n",
     "is_executing": false
    }
   }
  },
  {
   "cell_type": "markdown",
   "source": [
    "### 切片与索引\n",
    "\n",
    "ndarray对象的内容可以通过索引或切片来访问和修改，就像 Python 的内置容器对象一样。\n",
    "\n",
    "ndarray对象中的元素遵循基于零的索引。 有三种可用的索引方法类型： 字段访问，基本切片和高级索引。\n",
    "\n",
    "#### 矩阵索引\n",
    "\n",
    "np.argwhere(a)和np.transpose(np.nonzero(a))一样。找到non-zero元素在array中的索引,一行一行地逐个元素确认。\n",
    "\n",
    "argwhere输出不适用于indexing数组。 如果要索引数组，使用nonzero(a)。\n"
   ],
   "metadata": {
    "collapsed": false,
    "pycharm": {
     "name": "#%% md\n"
    }
   }
  },
  {
   "cell_type": "code",
   "execution_count": null,
   "outputs": [],
   "source": [
    "x = np.arange(6).reshape(2,3)\n",
    "print(x)\n",
    "np.argwhere(x>1)\n"
   ],
   "metadata": {
    "collapsed": false,
    "pycharm": {
     "name": "#%%\n"
    }
   }
  },
  {
   "cell_type": "markdown",
   "source": [
    "#### 高级索引\n",
    "\n",
    "如果一个ndarray是非元组序列，数据类型为整数或布尔值的ndarray，或者至少一个元素为序列对象的元组，我们就能够用它来索引ndarray。\n",
    "高级索引始终返回数据的副本。 与此相反，切片只提供了一个视图。\n",
    "\n",
    "有两种类型的高级索引：整数和布尔值。\n"
   ],
   "metadata": {
    "collapsed": false,
    "pycharm": {
     "name": "#%% md\n"
    }
   }
  },
  {
   "cell_type": "code",
   "execution_count": 11,
   "outputs": [
    {
     "name": "stdout",
     "text": [
      "我们的数组是：\n[[ 0  1  2]\n [ 3  4  5]\n [ 6  7  8]\n [ 9 10 11]]\n\n\n大于 5 的元素是：\n[ 6  7  8  9 10 11]\n[1. 2. 3. 4. 5.]\n"
     ],
     "output_type": "stream"
    }
   ],
   "source": [
    "# 布尔值做索引\n",
    "import numpy as np \n",
    "x = np.array([[  0,  1,  2],[  3,  4,  5],[  6,  7,  8],[  9,  10,  11]])  \n",
    "print('我们的数组是：')\n",
    "print(x)\n",
    "print ('\\n')\n",
    "# 现在我们会打印出大于 5 的元素  \n",
    "print('大于 5 的元素是：')\n",
    "print (x[x >  5])\n",
    "\n",
    "# 使用取补运算符来过滤NaN。\n",
    "print('过滤NaN值')\n",
    "a = np.array([np.nan,  1,2,np.nan,3,4,5])  \n",
    "print(a[~np.isnan(a)])\n"
   ],
   "metadata": {
    "collapsed": false,
    "pycharm": {
     "name": "#%%\n",
     "is_executing": false
    }
   }
  },
  {
   "cell_type": "markdown",
   "source": [
    "### 广播\n",
    "\n",
    "该部分参考了[菜鸟教程](https://www.runoob.com/numpy/numpy-broadcast.html)和相关[博客](https://zhuanlan.zhihu.com/p/35010592)。\n",
    "\n",
    "执行 broadcast 的前提在于，两个 ndarray 执行的是 **element-wise**（按位加，按位减等） 的运算，而不是矩阵乘法的运算，矩阵乘法运算时需要维度之间严格匹配。\n",
    "\n",
    "广播的规则如下：\n",
    "\n",
    "- 让所有输入数组都向其中shape最长的数组看齐，shape中不足的部分都通过在前面加1补齐；\n",
    "- 输出数组的shape是输入数组shape的各个轴上的最大值；\n",
    "- 如果输入数组的某个轴和输出数组的对应轴的长度相同或者其长度为1时，这个数组能够用来计算，否则出错；\n",
    "- 当输入数组的某个轴的长度为1时，沿着此轴运算时都用此轴上的第一组值。\n"
   ],
   "metadata": {
    "collapsed": false
   }
  },
  {
   "cell_type": "code",
   "execution_count": 9,
   "outputs": [
    {
     "name": "stdout",
     "text": [
      "[2. 4. 3.]\n"
     ],
     "output_type": "stream"
    }
   ],
   "source": [
    "# 广播运算只在某些情况下可用，比如：\n",
    "arr1 = np.array([1, 2, 3])\n",
    "arr2 = np.array([1, 2])\n",
    "# 当维度不同的向量想要对齐，并在不足处补0时，不可以使用广播\n",
    "length_zero = max(arr1.size, arr2.size) - min(arr1.size, arr2.size)\n",
    "zeros = np.zeros(length_zero)\n",
    "if arr1.size > arr2.size:\n",
    "    arr_new = np.hstack([arr2, zeros])\n",
    "    print(arr_new + arr1)\n",
    "else:\n",
    "    arr_new = np.hstack([arr1, zeros])\n",
    "    print(arr_new + arr2)\n"
   ],
   "metadata": {
    "collapsed": false,
    "pycharm": {
     "name": "#%%\n",
     "is_executing": false
    }
   }
  },
  {
   "cell_type": "markdown",
   "source": [
    "### 数组操作\n",
    "\n",
    "#### 翻转操作\n",
    "\n",
    "除了比较容易熟悉的转置操作外，还有swapaxes：该函数交换数组的两个轴。对于 1.10 之前的 NumPy 版本，会返回交换后数组的视图。\n",
    "\n",
    "函数三个参数：\n",
    "\n",
    "- arr： 要交换其轴的输入数组\n",
    "- axis1：对应第一个轴的整数\n",
    "- axis2：对应第二个轴的整数\n"
   ],
   "metadata": {
    "collapsed": false,
    "pycharm": {
     "name": "#%% md\n"
    }
   }
  },
  {
   "cell_type": "code",
   "execution_count": 3,
   "outputs": [
    {
     "name": "stdout",
     "text": [
      "原数组：\n[[[0 1]\n  [2 3]]\n\n [[4 5]\n  [6 7]]]\n\n\n调用 swapaxes 函数后的数组：\n[[[0 4]\n  [2 6]]\n\n [[1 5]\n  [3 7]]]\n"
     ],
     "output_type": "stream"
    }
   ],
   "source": [
    "# 创建了三维的 ndarray\n",
    "a = np.arange(8).reshape(2,2,2)\n",
    "\n",
    "print('原数组：')\n",
    "print( a)\n",
    "# 现在交换轴 0（深度方向）到轴 2（宽度方向）\n",
    "print( '调用 swapaxes 函数后的数组：')\n",
    "print( np.swapaxes(a, 2, 0))\n"
   ],
   "metadata": {
    "collapsed": false,
    "pycharm": {
     "name": "#%%\n",
     "is_executing": false
    }
   }
  },
  {
   "cell_type": "markdown",
   "source": [
    "#### 修改形状\n",
    "\n",
    "最常用的就是reshape函数，这个函数在不改变数据的条件下修改形状，它可接受如下参数：\n",
    "\n",
    "- arr：要修改形状的数组\n",
    "- newshape：整数或者整数数组，新的形状应当兼容原有形状\n",
    "- order：'C'为 C 风格顺序，'F'为 F 风格顺序，'A'为保留原顺序。\n",
    "\n",
    "也可以使用array.reshape直接调用。\n"
   ],
   "metadata": {
    "collapsed": false,
    "pycharm": {
     "name": "#%% md\n"
    }
   }
  },
  {
   "cell_type": "code",
   "execution_count": 14,
   "outputs": [
    {
     "name": "stdout",
     "text": [
      "原始数组：\n[0 1 2 3 4 5 6 7]\n修改后的数组：\n[[0 1]\n [2 3]\n [4 5]\n [6 7]]\n[[0 1 2 3]\n [4 5 6 7]]\n[[0 4 1 5]\n [2 6 3 7]]\n[[0 1 2 3]\n [4 5 6 7]]\n"
     ],
     "output_type": "stream"
    }
   ],
   "source": [
    "a = np.arange(8)\n",
    "print('原始数组：')\n",
    "print(a)\n",
    "b = a.reshape(4,2)\n",
    "print ('修改后的数组：')\n",
    "print (b)\n",
    "# 维度用()或者[]表示均可\n",
    "print(np.reshape(b, [2,4], order='C'))\n",
    "print(np.reshape(b, (2,4), order='F'))\n",
    "print(np.reshape(b, (2,4), order='A'))\n"
   ],
   "metadata": {
    "collapsed": false,
    "pycharm": {
     "name": "#%%\n",
     "is_executing": false
    }
   }
  },
  {
   "cell_type": "markdown",
   "source": [
    "二维展开为一维：flatten()函数。\n",
    "Return a copy of the array collapsed into one dimension.\n"
   ],
   "metadata": {
    "collapsed": false,
    "pycharm": {
     "name": "#%% md\n"
    }
   }
  },
  {
   "cell_type": "code",
   "execution_count": 14,
   "outputs": [
    {
     "name": "stdout",
     "text": [
      "[1 2 3 4]\n"
     ],
     "output_type": "stream"
    },
    {
     "data": {
      "text/plain": "array([1, 3, 2, 4])"
     },
     "metadata": {},
     "output_type": "execute_result",
     "execution_count": 14
    }
   ],
   "source": [
    "a = np.array([[1,2], [3,4]])\n",
    "print(a.flatten())\n",
    "a.flatten('F')\n"
   ],
   "metadata": {
    "collapsed": false,
    "pycharm": {
     "name": "#%%\n",
     "is_executing": false
    }
   }
  },
  {
   "cell_type": "markdown",
   "source": [
    "低维度扩充到高维——expand_dims，函数通过在指定位置插入新的轴来扩展数组形状。该函数需要两个参数：输入数组和新轴插入的位置。\n"
   ],
   "metadata": {
    "collapsed": false,
    "pycharm": {
     "name": "#%% md\n"
    }
   }
  },
  {
   "cell_type": "code",
   "execution_count": 1,
   "outputs": [
    {
     "name": "stdout",
     "text": [
      "[[1 2]\n [3 4]]\n[[[1 2]\n  [3 4]]]\n数组 x 和 y 的形状：\n(2, 2) (1, 2, 2)\n[[[1 2]]\n\n [[3 4]]]\nndim 和 shape：\n2 3\n(2, 2) (2, 1, 2)\n"
     ],
     "output_type": "stream"
    }
   ],
   "source": [
    "x = np.array(([1,2],[3,4]))\n",
    "print(x)\n",
    "y = np.expand_dims(x, axis = 0)\n",
    "print(y)\n",
    "\n",
    "print('数组 x 和 y 的形状：')\n",
    "print(x.shape, y.shape)\n",
    "# 在位置 1 插入轴\n",
    "y = np.expand_dims(x, axis = 1)\n",
    "print(y)\n",
    "\n",
    "print('ndim 和 shape：')\n",
    "print(x.ndim,y.ndim)\n",
    "print(x.shape, y.shape)\n"
   ],
   "metadata": {
    "collapsed": false,
    "pycharm": {
     "name": "#%%\n",
     "is_executing": false
    }
   }
  },
  {
   "cell_type": "markdown",
   "source": [
    "#### 数组连接\n"
   ],
   "metadata": {
    "collapsed": false,
    "pycharm": {
     "name": "#%% md\n"
    }
   }
  },
  {
   "cell_type": "code",
   "execution_count": 4,
   "outputs": [
    {
     "name": "stdout",
     "text": [
      "[0 1 2 3 4 5 6 7 8 9]\n[1 1 1 1 1 1 1 1 1 1]\n[0 1 2 3 4 5 6 7 8 9 1 1 1 1 1 1 1 1 1 1]\n[0 1 2 3 4 5 6 7 8 9 1 1 1 1 1 1 1 1 1 1]\n"
     ],
     "output_type": "stream"
    }
   ],
   "source": [
    "# 水平拼接\n",
    "a = np.arange(10)\n",
    "b = np.repeat(1, 10)\n",
    "print(a)\n",
    "print(b)\n",
    "# 方法一\n",
    "print(np.concatenate([a, b]))\n",
    "# 方法二\n",
    "print(np.hstack([a, b]))\n"
   ],
   "metadata": {
    "collapsed": false,
    "pycharm": {
     "name": "#%%\n",
     "is_executing": false
    }
   }
  },
  {
   "cell_type": "markdown",
   "source": [
    "#### 数组扩充\n",
    "\n",
    "numpy数组扩展函数有repeat和tile，由于数组不能进行动态扩展，故函数调用之后都重新分配新的空间来存储扩展后的数据。\n",
    "\n",
    "repeat函数功能：对数组中的元素进行连续重复复制。\n",
    "\n",
    "tile函数功能：对整个数组进行复制拼接。\n"
   ],
   "metadata": {
    "collapsed": false,
    "pycharm": {
     "name": "#%% md\n"
    }
   }
  },
  {
   "cell_type": "code",
   "execution_count": 9,
   "outputs": [
    {
     "name": "stdout",
     "text": [
      "[0 0 0 0 0 1 1 1 1 1 2 2 2 2 2 3 3 3 3 3 4 4 4 4 4 5 5 5 5 5 6 6 6 6 6 7 7\n 7 7 7 8 8 8 8 8 9 9 9 9 9]\n[10 10 10 20 20]\n[10 20 10 20]\n"
     ],
     "output_type": "stream"
    },
    {
     "data": {
      "text/plain": "array([[10, 20, 10, 20],\n       [10, 20, 10, 20],\n       [10, 20, 10, 20]])"
     },
     "metadata": {},
     "output_type": "execute_result",
     "execution_count": 9
    }
   ],
   "source": [
    "a = np.arange(10)  \n",
    "print(a.repeat(5))\n",
    "a=np.array([10,20])\n",
    "print(a.repeat([3,2]))\n",
    "\n",
    "print(np.tile(a,2))\n",
    "np.tile(a, (3,2)) #构造3*2个copy\n"
   ],
   "metadata": {
    "collapsed": false,
    "pycharm": {
     "name": "#%%\n",
     "is_executing": false
    }
   }
  },
  {
   "cell_type": "markdown",
   "source": [
    "## 常见数学运算\n",
    "\n",
    "### 算术运算\n",
    "\n",
    "#### argmax函数\n",
    "\n",
    "假定现在有一个数组a = [3, 1, 2, 4, 6, 1]现在要算数组a中最大数的索引是多少？argmax解决的就是这类问题\n"
   ],
   "metadata": {
    "collapsed": false,
    "pycharm": {
     "name": "#%% md\n"
    }
   }
  },
  {
   "cell_type": "code",
   "execution_count": null,
   "outputs": [],
   "source": [
    "a = np.array([[1, 5, 5, 2],\n",
    "              [9, 6, 2, 8],\n",
    "              [3, 7, 9, 1]])\n",
    "print(np.argmax(a, axis=0))\n",
    "print(np.argmax(a, axis=1))\n"
   ],
   "metadata": {
    "collapsed": false,
    "pycharm": {
     "name": "#%%\n"
    }
   }
  },
  {
   "cell_type": "markdown",
   "source": [
    "#### 卷积"
   ],
   "metadata": {
    "collapsed": false,
    "pycharm": {
     "name": "#%% md\n"
    }
   }
  },
  {
   "cell_type": "code",
   "execution_count": 10,
   "outputs": [
    {
     "name": "stdout",
     "text": [
      "[0.  1.  2.5 4.  1.5]\n"
     ],
     "output_type": "stream"
    }
   ],
   "source": [
    "print(np.convolve([1, 2, 3], [0, 1, 0.5]))\n"
   ],
   "metadata": {
    "collapsed": false,
    "pycharm": {
     "name": "#%%\n",
     "is_executing": false
    }
   }
  },
  {
   "cell_type": "markdown",
   "source": [
    "### 统计运算\n",
    "\n",
    "#### 随机数运算\n"
   ],
   "metadata": {
    "collapsed": false,
    "pycharm": {
     "name": "#%% md\n"
    }
   }
  },
  {
   "cell_type": "code",
   "execution_count": null,
   "outputs": [],
   "source": [
    "# 随机数运算\n",
    "i = 0\n",
    "while i < 6:\n",
    "    if i < 3:\n",
    "        np.random.seed(0)\n",
    "        # 种子一样，生成的随机数也是一样的\n",
    "        print(np.random.randn(1, 5))\n",
    "    else:\n",
    "        print(np.random.randn(1, 5))\n",
    "        pass\n",
    "    i += 1\n",
    "print(\"------从上面6次可以看出seed的影响-------\")\n",
    "i = 0\n",
    "while i < 2:\n",
    "    print(np.random.randn(1, 5))\n",
    "    i += 1\n",
    "print(\"----跳出原来的循环，看看新的循环里有没有不同，下面想比较个8次循环的随机内容，因为前面有三个循环是一样的，所以再补充两组随机值，凑够8个----\")\n",
    "print(np.random.randn(2, 5))\n",
    "np.random.seed(0)\n",
    "i = 0\n",
    "print(\"----新的8次循环，和之前的8次循环进行比较-----\")\n",
    "while i < 8:\n",
    "    print(np.random.randn(1, 5))\n",
    "    i += 1\n",
    "print(\"---可以看到，在种子一样的情况下，前后两次8个依次随机生成的数是一样的---\")\n",
    "# 以上结果说明，随机数种子对后面的结果一直有影响。同时，加了随机数种子以后，后面的随机数组都是按一定的顺序生成的\n",
    "\n",
    "print(\"============================================================\")\n",
    "print(\"---------接下来换一个种子，看一看随机生成的数据是否一样----------\")\n",
    "i = 0\n",
    "np.random.seed(0)\n",
    "while i < 3:\n",
    "    print(np.random.randn(1, 5))\n",
    "    i += 1\n",
    "i = 0\n",
    "np.random.seed(1)\n",
    "i = 0\n",
    "while i < 3:\n",
    "    print(np.random.randn(1, 5))\n",
    "    i += 1\n",
    "print(\"----当种子一样时，不论什么时候生成的随机数都是一样的，当种子不一样时，生成的随机数自然就不同了----\")\n",
    "# 不论在哪台电脑上，当随机数种子参数为0和1时，生成的随机数相同。说明该参数指定了一个随机数生成的起始位置。每个参数对应一个位置。并且在该参数确定后，其后面的随机数的生成顺序也就确定了。\n",
    "# 所以随机数种子的参数怎么选择？我认为随意，这个参数只是确定一下随机数的起始位置。\n",
    "\n",
    "# ------------------numpy all()函数---------------------\n",
    "a = np.array([1, 2, 3])\n",
    "b = a.copy()\n",
    "print((a == b).all(axis=0).mean())\n",
    "c = b.copy()\n",
    "c[0] = 0\n",
    "print((b == c).all(axis=0).mean())\n"
   ],
   "metadata": {
    "collapsed": false,
    "pycharm": {
     "name": "#%%\n"
    }
   }
  },
  {
   "cell_type": "markdown",
   "source": [
    "#### percentile函数\n",
    "\n",
    "百分位数是统计中使用的度量，表示小于这个值的观察值的百分比。 函数numpy.percentile()接受三个参数：\n",
    "\n",
    "输入数组；要计算的百分位数，在 0 ~ 100 之间；沿着它计算百分位数的轴。\n"
   ],
   "metadata": {
    "collapsed": false,
    "pycharm": {
     "name": "#%% md\n"
    }
   }
  },
  {
   "cell_type": "code",
   "execution_count": 2,
   "outputs": [
    {
     "name": "stdout",
     "text": [
      "数组是：\n[[30 40 70]\n [80 20 10]\n [50 90 60]]\n调用 percentile() 函数：\n50.0\n沿轴 1 调用 percentile() 函数：\n[40. 20. 60.]\n沿轴 0 调用 percentile() 函数：\n[50. 40. 60.]\n"
     ],
     "output_type": "stream"
    }
   ],
   "source": [
    "import numpy as np \n",
    "a = np.array([[30,40,70],[80,20,10],[50,90,60]])  \n",
    "print ('数组是：'  )\n",
    "print (a )\n",
    "print  ('调用 percentile() 函数：'  )\n",
    "print (np.percentile(a,50)  )\n",
    "print ( '沿轴 1 调用 percentile() 函数：'  )\n",
    "print (np.percentile(a,50, axis =  1)  )\n",
    "print ( '沿轴 0 调用 percentile() 函数：')  \n",
    "print (np.percentile(a,50, axis =  0))\n"
   ],
   "metadata": {
    "collapsed": false,
    "pycharm": {
     "name": "#%%\n",
     "is_executing": false
    }
   }
  },
  {
   "cell_type": "markdown",
   "source": [
    "### 集合运算\n",
    "\n",
    "#### 取交集\n",
    "\n",
    "使用intersect1d找到两个数组的交集。返回的是排序的、没有重复值的数组，还有交集中各个元素在原数组中的index。\n"
   ],
   "metadata": {
    "collapsed": false,
    "pycharm": {
     "name": "#%% md\n"
    }
   }
  },
  {
   "cell_type": "code",
   "execution_count": 9,
   "outputs": [
    {
     "name": "stdout",
     "text": [
      "[1 3]\n[3]\n[1 3]\n[0 1]\n[1 0]\n"
     ],
     "output_type": "stream"
    }
   ],
   "source": [
    "from functools import reduce\n",
    "lst1 = [1, 3, 4, 3]\n",
    "lst2 = [3, 1, 2, 1]\n",
    "print(np.intersect1d(lst1, lst2))\n",
    "# 多个集合取交集\n",
    "print(reduce(np.intersect1d, ([1, 3, 4, 3], [3, 1, 2, 1], [6, 3, 4, 2])))\n",
    "# 返回两个交集相交的元素的index\n",
    "C, ind1, ind2 = np.intersect1d(lst1, lst2, return_indices=True)\n",
    "print(C)\n",
    "print(ind1)\n",
    "print(ind2)\n"
   ],
   "metadata": {
    "collapsed": false,
    "pycharm": {
     "name": "#%%\n",
     "is_executing": false
    }
   }
  },
  {
   "cell_type": "markdown",
   "source": [
    "### 逻辑运算\n",
    "\n",
    "#### where函数\n"
   ],
   "metadata": {
    "collapsed": false
   }
  },
  {
   "cell_type": "code",
   "execution_count": null,
   "outputs": [],
   "source": [
    "aa = np.arange(10)\n",
    "# np.where(condition, x, y)：满足条件(condition)，输出x，不满足输出y。\n",
    "print(np.where(aa, 1, -1))\n",
    "print(np.where(aa > 5, 1, -1))\n",
    "# np.where(condition)：只有条件 (condition)，没有x和y，则输出满足条件 (即非0) 元素的坐标\n",
    "a = np.array([2, 4, 6, 8, 10])\n",
    "print(np.where(a > 5))"
   ],
   "metadata": {
    "collapsed": false,
    "pycharm": {
     "name": "#%%\n"
    }
   }
  }
 ],
 "metadata": {
  "language_info": {
   "codemirror_mode": {
    "name": "ipython",
    "version": 2
   },
   "file_extension": ".py",
   "mimetype": "text/x-python",
   "name": "python",
   "nbconvert_exporter": "python",
   "pygments_lexer": "ipython2",
   "version": "2.7.6"
  },
  "kernelspec": {
   "name": "python3",
   "language": "python",
   "display_name": "Python 3"
  },
  "pycharm": {
   "stem_cell": {
    "cell_type": "raw",
    "source": [],
    "metadata": {
     "collapsed": false
    }
   }
  }
 },
 "nbformat": 4,
 "nbformat_minor": 0
}