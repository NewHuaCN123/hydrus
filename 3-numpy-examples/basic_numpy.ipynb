{
 "cells": [
  {
   "cell_type": "markdown",
   "source": [
    "# Numpy基本应用\n",
    "\n",
    "从基础数据结构和常用函数两个方面展开。\n",
    "\n",
    "## Numpy基本数据结构\n",
    "\n",
    "### 向量\n",
    "\n",
    "#### 基本结构"
   ],
   "metadata": {
    "collapsed": false
   }
  },
  {
   "cell_type": "code",
   "execution_count": 2,
   "outputs": [
    {
     "name": "stdout",
     "text": [
      "[ 0.49671415 -0.1382643   0.64768854]\n[ 0.49671415 -0.1382643   0.64768854]\n[[ 0.49671415]\n [-0.1382643 ]\n [ 0.64768854]]\n[0 1 2 3 4 5 6 7 8 9]\n[1 1 1 1 1 1 1 1 1 1]\n[0 1 2 3 4 5 6 7 8 9 1 1 1 1 1 1 1 1 1 1]\n[0 1 2 3 4 5 6 7 8 9 1 1 1 1 1 1 1 1 1 1]\n[2. 4. 3.]\n"
     ],
     "output_type": "stream"
    }
   ],
   "source": [
    "import numpy as np\n",
    "\"\"\"numpy向量\"\"\"\n",
    "# NumPy向量默认行向量\n",
    "features = np.array([0.49671415, -0.1382643, 0.64768854])\n",
    "print(features)\n",
    "# 对于一维数组，转置之后仍为一维数组\n",
    "print(features.T)\n",
    "# 可以用array[:,None]来创建列向量\n",
    "print(features[:, None])\n"
   ],
   "metadata": {
    "collapsed": false,
    "pycharm": {
     "name": "#%%\n",
     "is_executing": false
    }
   }
  },
  {
   "cell_type": "markdown",
   "source": [
    "#### 基础运算\n",
    "\n",
    "##### 拼接数组\n"
   ],
   "metadata": {
    "collapsed": false,
    "pycharm": {
     "name": "#%% md\n"
    }
   }
  },
  {
   "cell_type": "code",
   "execution_count": null,
   "outputs": [],
   "source": [
    "# 水平拼接\n",
    "a = np.arange(10)\n",
    "b = np.repeat(1, 10)\n",
    "print(a)\n",
    "print(b)\n",
    "# 方法一\n",
    "print(np.concatenate([a, b]))\n",
    "# 方法二\n",
    "print(np.hstack([a, b]))\n"
   ],
   "metadata": {
    "collapsed": false,
    "pycharm": {
     "name": "#%%\n"
    }
   }
  },
  {
   "cell_type": "markdown",
   "source": [
    "##### 广播运算\n"
   ],
   "metadata": {
    "collapsed": false
   }
  },
  {
   "cell_type": "code",
   "execution_count": null,
   "outputs": [],
   "source": [
    "# 广播运算只在某些情况下可用，比如：\n",
    "arr1 = np.array([1, 2, 3])\n",
    "arr2 = np.array([1, 2])\n",
    "# 当维度不同的向量想要对齐，并在不足处补0时，不可以使用广播\n",
    "length_zero = max(arr1.size, arr2.size) - min(arr1.size, arr2.size)\n",
    "zeros = np.zeros(length_zero)\n",
    "if arr1.size > arr2.size:\n",
    "    arr_new = np.hstack([arr2, zeros])\n",
    "    print(arr_new + arr1)\n",
    "else:\n",
    "    arr_new = np.hstack([arr1, zeros])\n",
    "    print(arr_new + arr2)\n"
   ],
   "metadata": {
    "collapsed": false,
    "pycharm": {
     "name": "#%%\n"
    }
   }
  },
  {
   "cell_type": "markdown",
   "source": [
    "### 矩阵\n",
    "\n",
    "#### 元素索引\n",
    "\n",
    "np.argwhere(a)和np.transpose(np.nonzero(a))一样。找到non-zero元素在array中的索引,一行一行地逐个元素确认。\n",
    "\n",
    "argwhere输出不适用于indexing数组。 如果要索引数组，使用nonzero(a)。\n"
   ],
   "metadata": {
    "collapsed": false
   }
  },
  {
   "cell_type": "code",
   "execution_count": 6,
   "outputs": [
    {
     "name": "stdout",
     "text": [
      "[[0 1 2]\n [3 4 5]]\n"
     ],
     "output_type": "stream"
    },
    {
     "data": {
      "text/plain": "array([[0, 2],\n       [1, 0],\n       [1, 1],\n       [1, 2]], dtype=int64)"
     },
     "metadata": {},
     "output_type": "execute_result",
     "execution_count": 6
    }
   ],
   "source": [
    "x = np.arange(6).reshape(2,3)\n",
    "print(x)\n",
    "np.argwhere(x>1)\n"
   ],
   "metadata": {
    "collapsed": false,
    "pycharm": {
     "name": "#%%\n",
     "is_executing": false
    }
   }
  },
  {
   "cell_type": "markdown",
   "source": [
    "#### 结构变换\n",
    "\n",
    "二维展开为一维：flatten()函数。\n",
    "Return a copy of the array collapsed into one dimension.\n"
   ],
   "metadata": {
    "collapsed": false,
    "pycharm": {
     "name": "#%% md\n"
    }
   }
  },
  {
   "cell_type": "code",
   "execution_count": 14,
   "outputs": [
    {
     "name": "stdout",
     "text": [
      "[1 2 3 4]\n"
     ],
     "output_type": "stream"
    },
    {
     "data": {
      "text/plain": "array([1, 3, 2, 4])"
     },
     "metadata": {},
     "output_type": "execute_result",
     "execution_count": 14
    }
   ],
   "source": [
    "a = np.array([[1,2], [3,4]])\n",
    "print(a.flatten())\n",
    "a.flatten('F')\n"
   ],
   "metadata": {
    "collapsed": false,
    "pycharm": {
     "name": "#%%\n",
     "is_executing": false
    }
   }
  },
  {
   "cell_type": "markdown",
   "source": [
    "### 数据结构变量初始化 \n",
    "\n",
    "#### zeros/empty/full\n",
    "\n",
    "和zeros不同, empty并不将数组值设置为0，因此其比zeros稍微快一些；\n",
    "另一方面，需要用户手动设置数组中的所有值，所以使用的时候要小心。\n",
    "\n",
    "full函数可以指定用某个值填充若干大小的数组。\n"
   ],
   "metadata": {
    "collapsed": false,
    "pycharm": {
     "name": "#%% md\n"
    }
   }
  },
  {
   "cell_type": "code",
   "execution_count": 11,
   "outputs": [
    {
     "name": "stdout",
     "text": [
      "[[1.44635488e-307 1.37962320e-306]\n [1.29060871e-306 7.56603881e-307]]\n[[         0 1072693248]\n [         0 1073741824]]\n[nan nan nan nan nan nan nan nan nan nan]\n"
     ],
     "output_type": "stream"
    }
   ],
   "source": [
    "e1=np.empty([2, 2])  #uninitialized\n",
    "print(e1)\n",
    "e2=np.empty([2, 2], dtype=int)  #uninitialized\n",
    "print(e2)\n",
    "\n",
    "out = np.full([10], np.nan)\n",
    "print(out)\n"
   ],
   "metadata": {
    "collapsed": false,
    "pycharm": {
     "name": "#%%\n",
     "is_executing": false
    }
   }
  },
  {
   "cell_type": "markdown",
   "source": [
    "## 常见数学运算\n",
    "\n",
    "### 卷积运算\n"
   ],
   "metadata": {
    "collapsed": false,
    "pycharm": {
     "name": "#%% md\n"
    }
   }
  },
  {
   "cell_type": "code",
   "execution_count": 10,
   "outputs": [
    {
     "name": "stdout",
     "text": [
      "[0.  1.  2.5 4.  1.5]\n"
     ],
     "output_type": "stream"
    }
   ],
   "source": [
    "print(np.convolve([1, 2, 3], [0, 1, 0.5]))\n"
   ],
   "metadata": {
    "collapsed": false,
    "pycharm": {
     "name": "#%%\n",
     "is_executing": false
    }
   }
  },
  {
   "cell_type": "markdown",
   "source": [
    "### 随机数运算\n"
   ],
   "metadata": {
    "collapsed": false,
    "pycharm": {
     "name": "#%% md\n"
    }
   }
  },
  {
   "cell_type": "code",
   "execution_count": null,
   "outputs": [],
   "source": [
    "# 随机数运算\n",
    "i = 0\n",
    "while i < 6:\n",
    "    if i < 3:\n",
    "        np.random.seed(0)\n",
    "        # 种子一样，生成的随机数也是一样的\n",
    "        print(np.random.randn(1, 5))\n",
    "    else:\n",
    "        print(np.random.randn(1, 5))\n",
    "        pass\n",
    "    i += 1\n",
    "print(\"------从上面6次可以看出seed的影响-------\")\n",
    "i = 0\n",
    "while i < 2:\n",
    "    print(np.random.randn(1, 5))\n",
    "    i += 1\n",
    "print(\"----跳出原来的循环，看看新的循环里有没有不同，下面想比较个8次循环的随机内容，因为前面有三个循环是一样的，所以再补充两组随机值，凑够8个----\")\n",
    "print(np.random.randn(2, 5))\n",
    "np.random.seed(0)\n",
    "i = 0\n",
    "print(\"----新的8次循环，和之前的8次循环进行比较-----\")\n",
    "while i < 8:\n",
    "    print(np.random.randn(1, 5))\n",
    "    i += 1\n",
    "print(\"---可以看到，在种子一样的情况下，前后两次8个依次随机生成的数是一样的---\")\n",
    "# 以上结果说明，随机数种子对后面的结果一直有影响。同时，加了随机数种子以后，后面的随机数组都是按一定的顺序生成的\n",
    "\n",
    "print(\"============================================================\")\n",
    "print(\"---------接下来换一个种子，看一看随机生成的数据是否一样----------\")\n",
    "i = 0\n",
    "np.random.seed(0)\n",
    "while i < 3:\n",
    "    print(np.random.randn(1, 5))\n",
    "    i += 1\n",
    "i = 0\n",
    "np.random.seed(1)\n",
    "i = 0\n",
    "while i < 3:\n",
    "    print(np.random.randn(1, 5))\n",
    "    i += 1\n",
    "print(\"----当种子一样时，不论什么时候生成的随机数都是一样的，当种子不一样时，生成的随机数自然就不同了----\")\n",
    "# 不论在哪台电脑上，当随机数种子参数为0和1时，生成的随机数相同。说明该参数指定了一个随机数生成的起始位置。每个参数对应一个位置。并且在该参数确定后，其后面的随机数的生成顺序也就确定了。\n",
    "# 所以随机数种子的参数怎么选择？我认为随意，这个参数只是确定一下随机数的起始位置。\n",
    "\n",
    "# ------------------numpy all()函数---------------------\n",
    "a = np.array([1, 2, 3])\n",
    "b = a.copy()\n",
    "print((a == b).all(axis=0).mean())\n",
    "c = b.copy()\n",
    "c[0] = 0\n",
    "print((b == c).all(axis=0).mean())\n"
   ],
   "metadata": {
    "collapsed": false,
    "pycharm": {
     "name": "#%%\n"
    }
   }
  },
  {
   "cell_type": "markdown",
   "source": [
    "### 取交集\n",
    "\n",
    "使用intersect1d找到两个数组的交集。返回的是排序的、没有重复值的数组，还有交集中各个元素在原数组中的index。\n"
   ],
   "metadata": {
    "collapsed": false,
    "pycharm": {
     "name": "#%% md\n"
    }
   }
  },
  {
   "cell_type": "code",
   "execution_count": 9,
   "outputs": [
    {
     "name": "stdout",
     "text": [
      "[1 3]\n[3]\n[1 3]\n[0 1]\n[1 0]\n"
     ],
     "output_type": "stream"
    }
   ],
   "source": [
    "from functools import reduce\n",
    "lst1 = [1, 3, 4, 3]\n",
    "lst2 = [3, 1, 2, 1]\n",
    "print(np.intersect1d(lst1, lst2))\n",
    "# 多个集合取交集\n",
    "print(reduce(np.intersect1d, ([1, 3, 4, 3], [3, 1, 2, 1], [6, 3, 4, 2])))\n",
    "# 返回两个交集相交的元素的index\n",
    "C, ind1, ind2 = np.intersect1d(lst1, lst2, return_indices=True)\n",
    "print(C)\n",
    "print(ind1)\n",
    "print(ind2)\n"
   ],
   "metadata": {
    "collapsed": false,
    "pycharm": {
     "name": "#%%\n",
     "is_executing": false
    }
   }
  },
  {
   "cell_type": "markdown",
   "source": [
    "### where函数\n"
   ],
   "metadata": {
    "collapsed": false
   }
  },
  {
   "cell_type": "code",
   "execution_count": null,
   "outputs": [],
   "source": [
    "aa = np.arange(10)\n",
    "# np.where(condition, x, y)：满足条件(condition)，输出x，不满足输出y。\n",
    "print(np.where(aa, 1, -1))\n",
    "print(np.where(aa > 5, 1, -1))\n",
    "# np.where(condition)：只有条件 (condition)，没有x和y，则输出满足条件 (即非0) 元素的坐标\n",
    "a = np.array([2, 4, 6, 8, 10])\n",
    "print(np.where(a > 5))\n",
    "\n",
    "\n",
    "# ------------------------argmax函数--------------------------------------------\n",
    "# 假定现在有一个数组a = [3, 1, 2, 4, 6, 1]现在要算数组a中最大数的索引是多少？argmax解决的就是这类问题\n",
    "a = np.array([[1, 5, 5, 2],\n",
    "              [9, 6, 2, 8],\n",
    "              [3, 7, 9, 1]])\n",
    "print(np.argmax(a, axis=0))\n",
    "print(np.argmax(a, axis=1))\n",
    "\n",
    "\n"
   ],
   "metadata": {
    "collapsed": false,
    "pycharm": {
     "name": "#%%\n"
    }
   }
  }
 ],
 "metadata": {
  "language_info": {
   "codemirror_mode": {
    "name": "ipython",
    "version": 2
   },
   "file_extension": ".py",
   "mimetype": "text/x-python",
   "name": "python",
   "nbconvert_exporter": "python",
   "pygments_lexer": "ipython2",
   "version": "2.7.6"
  },
  "kernelspec": {
   "name": "python3",
   "language": "python",
   "display_name": "Python 3"
  },
  "pycharm": {
   "stem_cell": {
    "cell_type": "raw",
    "source": [],
    "metadata": {
     "collapsed": false
    }
   }
  }
 },
 "nbformat": 4,
 "nbformat_minor": 0
}