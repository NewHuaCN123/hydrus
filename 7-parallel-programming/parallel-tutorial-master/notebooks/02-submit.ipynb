{
 "cells": [
  {
   "cell_type": "markdown",
   "metadata": {},
   "source": [
    "Ad-hoc computations with Futures\n",
    "------------------------------------\n",
    "\n",
    "While many parallel applications can be described as maps, some can be more complex.\n",
    "In this section we look at the asynchronous Future interface,\n",
    "which provides a simple API for ad-hoc parallelism.\n",
    "This is useful for when your computations don't fit a regular pattern.\n",
    "\n",
    "### Objectives\n",
    "\n",
    "*  Use the `concurrent.futures` function `submit` to perform ad-hoc parallel computing\n",
    "\n",
    "### Requirements\n",
    "\n",
    "*  Pandas\n",
    "*  concurrent.futures (standard in Python 3, `pip install futures` in Python 2)\n",
    "\n",
    "\n",
    "    pip install snakeviz\n",
    "    pip install futures"
   ]
  },
  {
   "cell_type": "markdown",
   "metadata": {},
   "source": [
    "### Application\n",
    "\n",
    "Given our HDF5 files from the last section we want to find the two datasets with the greatest pair-wise correlation.  This forces us to consider all $n\\times(n-1)$ possibilities.\n",
    "\n",
    "As before we start with a sequential solution."
   ]
  },
  {
   "cell_type": "code",
   "execution_count": 26,
   "metadata": {
    "collapsed": false,
    "jupyter": {
     "outputs_hidden": false
    }
   },
   "outputs": [
    {
     "data": {
      "text/plain": [
       "['..\\\\data\\\\json\\\\afl.h5',\n",
       " '..\\\\data\\\\json\\\\bwa.h5',\n",
       " '..\\\\data\\\\json\\\\hal.h5',\n",
       " '..\\\\data\\\\json\\\\hp.h5',\n",
       " '..\\\\data\\\\json\\\\hpq.h5']"
      ]
     },
     "execution_count": 26,
     "metadata": {},
     "output_type": "execute_result"
    }
   ],
   "source": [
    "from glob import glob\n",
    "import pandas as pd\n",
    "import os\n",
    "\n",
    "filenames = sorted(glob(os.path.join('..', 'data', 'json', '*.h5')))  # ../data/json/*.json\n",
    "filenames[:5]"
   ]
  },
  {
   "cell_type": "code",
   "execution_count": 28,
   "metadata": {},
   "outputs": [],
   "source": [
    "series = {}\n",
    "for fn in filenames:\n",
    "    series[fn] = pd.read_hdf(fn)['close']"
   ]
  },
  {
   "cell_type": "code",
   "execution_count": 29,
   "metadata": {
    "collapsed": false,
    "jupyter": {
     "outputs_hidden": false
    }
   },
   "outputs": [
    {
     "name": "stdout",
     "output_type": "stream",
     "text": [
      "..\\data\\json\\afl.h5 matches with ..\\data\\json\\usb.h5 with correlation 0.982529\n",
      "Wall time: 821 ms\n"
     ]
    }
   ],
   "source": [
    "%%time\n",
    "\n",
    "results = {}\n",
    "\n",
    "for a in filenames:\n",
    "    for b in filenames:\n",
    "        if a != b:\n",
    "            results[a, b] = series[a].corr(series[b])\n",
    "            \n",
    "((a, b), corr) = max(results.items(), key=lambda kv: kv[1])\n",
    "print(\"%s matches with %s with correlation %f\" % (a, b, corr))"
   ]
  },
  {
   "cell_type": "markdown",
   "metadata": {},
   "source": [
    "### Visually inspect correlated series\n",
    "\n",
    "We use matplotlib to visually inspect the highly correlated timeseries"
   ]
  },
  {
   "cell_type": "code",
   "execution_count": 30,
   "metadata": {
    "collapsed": false,
    "jupyter": {
     "outputs_hidden": false
    }
   },
   "outputs": [
    {
     "data": {
      "image/png": "[encoded data removed]",
      "text/plain": [
       "<Figure size 720x288 with 1 Axes>"
      ]
     },
     "metadata": {
      "needs_background": "light"
     },
     "output_type": "display_data"
    }
   ],
   "source": [
    "%matplotlib inline\n",
    "from matplotlib import pyplot as plt\n",
    "plt.figure(figsize=(10, 4))\n",
    "plt.plot(series[a] / series[a].max())\n",
    "plt.plot(series[b] / series[b].max())\n",
    "plt.xticks(visible=False);"
   ]
  },
  {
   "cell_type": "markdown",
   "metadata": {},
   "source": [
    "### Analysis\n",
    "\n",
    "This computation starts out with an embarrassingly parallel part loading data from disk:\n",
    "\n",
    "```python\n",
    "series = {}\n",
    "for fn in filenames:\n",
    "    series[fn] = pd.read_hdf(fn)['x']\n",
    "```\n",
    "\n",
    "It follows with a doubly nested for loop with an if statement.  \n",
    "\n",
    "```python\n",
    "results = {}\n",
    "\n",
    "for a in filenames:\n",
    "    for b in filenames:\n",
    "        if a != b:\n",
    "            results[a, b] = series[a].corr(series[b])\n",
    "```\n",
    "\n",
    "It *is* possible to solve this problem with `map`, but it requires some cleverness.  Instead we'll learn `submit`, an interface to start individual function calls asynchronously.\n",
    "\n",
    "It finishes with a reduction on small data.  We're not going to care about parallelizing this (it's already very fast.)\n",
    "\n",
    "```python\n",
    "((a, b), corr) = max(results.items(), key=lambda kv: kv[1])\n",
    "```"
   ]
  },
  {
   "cell_type": "markdown",
   "metadata": {},
   "source": [
    "### Executor.submit\n",
    "\n",
    "The `submit` method starts a computation in a separate thread or process and immediately gives us a `Future` object that refers to the result.  At first, the future is pending.  Once the function completes the future is finished. \n",
    "\n",
    "We collect the result of the task with the `.result()` method,\n",
    "which does not return until the results are available."
   ]
  },
  {
   "cell_type": "code",
   "execution_count": 31,
   "metadata": {
    "collapsed": false,
    "jupyter": {
     "outputs_hidden": false
    }
   },
   "outputs": [
    {
     "data": {
      "text/plain": [
       "<Future at 0x26e881db208 state=running>"
      ]
     },
     "execution_count": 31,
     "metadata": {},
     "output_type": "execute_result"
    }
   ],
   "source": [
    "from concurrent.futures import ThreadPoolExecutor\n",
    "e = ThreadPoolExecutor(4)\n",
    "\n",
    "from time import sleep\n",
    "\n",
    "def slowadd(a, b, delay=1):\n",
    "    sleep(delay)\n",
    "    return a + b\n",
    "\n",
    "future = e.submit(slowadd, 1, 2)\n",
    "future"
   ]
  },
  {
   "cell_type": "code",
   "execution_count": 32,
   "metadata": {
    "collapsed": false,
    "jupyter": {
     "outputs_hidden": false
    }
   },
   "outputs": [
    {
     "data": {
      "text/plain": [
       "3"
      ]
     },
     "execution_count": 32,
     "metadata": {},
     "output_type": "execute_result"
    }
   ],
   "source": [
    "future.result()"
   ]
  },
  {
   "cell_type": "markdown",
   "metadata": {},
   "source": [
    "### Submit many tasks, receive many futures\n",
    "\n",
    "Because submit returns immediately we can submit many tasks all at once and they will execute in parallel."
   ]
  },
  {
   "cell_type": "code",
   "execution_count": 33,
   "metadata": {
    "collapsed": false,
    "jupyter": {
     "outputs_hidden": false
    }
   },
   "outputs": [
    {
     "name": "stdout",
     "output_type": "stream",
     "text": [
      "Wall time: 10 s\n"
     ]
    }
   ],
   "source": [
    "%%time\n",
    "results = [slowadd(i, i, delay=1) for i in range(10)]"
   ]
  },
  {
   "cell_type": "code",
   "execution_count": 35,
   "metadata": {
    "collapsed": false,
    "jupyter": {
     "outputs_hidden": false
    }
   },
   "outputs": [
    {
     "name": "stdout",
     "output_type": "stream",
     "text": [
      "Wall time: 3 s\n"
     ]
    }
   ],
   "source": [
    "%%time\n",
    "futures = [e.submit(slowadd, i, i, delay=1) for i in range(10)]\n",
    "results = [f.result() for f in futures]"
   ]
  },
  {
   "cell_type": "markdown",
   "metadata": {},
   "source": [
    "### Submit different tasks\n",
    "\n",
    "The virtue of submit is that you can submit different functions and you can perform a bit of logic on each input."
   ]
  },
  {
   "cell_type": "markdown",
   "metadata": {},
   "source": [
    "### Exercise: parallelize the following code with e.submit\n",
    "\n",
    "1.  Replace the `results` list with a list called `futures`\n",
    "2.  Replace calls to `slowadd` and `slowinc` with `e.submit` calls on those functions\n",
    "3.  At the end, block on the computation by recreating the `results` list by calling `.result()` on each future in the `futures` list."
   ]
  },
  {
   "cell_type": "code",
   "execution_count": 36,
   "metadata": {
    "collapsed": false,
    "jupyter": {
     "outputs_hidden": false
    }
   },
   "outputs": [
    {
     "name": "stdout",
     "output_type": "stream",
     "text": [
      "Wall time: 20 s\n"
     ]
    }
   ],
   "source": [
    "%%time\n",
    "\n",
    "### Sequential Version\n",
    "\n",
    "def slowadd(a, b, delay=1):\n",
    "    sleep(delay)\n",
    "    return a + b\n",
    "\n",
    "def slowsub(a, b, delay=1):\n",
    "    sleep(delay)\n",
    "    return a - b\n",
    "\n",
    "results = []\n",
    "for i in range(5):\n",
    "    for j in range(5):\n",
    "        if i < j:\n",
    "            results.append(slowadd(i, j, delay=1))\n",
    "        elif i > j:\n",
    "            results.append(slowsub(i, j, delay=1))"
   ]
  },
  {
   "cell_type": "code",
   "execution_count": 40,
   "metadata": {
    "collapsed": false,
    "jupyter": {
     "outputs_hidden": false
    }
   },
   "outputs": [
    {
     "name": "stdout",
     "output_type": "stream",
     "text": [
      "Wall time: 5.01 s\n"
     ]
    }
   ],
   "source": [
    "%%time\n",
    "\n",
    "### Parallel Version 把任务调价到futures\n",
    "futures = []\n",
    "for i in range(5):\n",
    "    for j in range(5):\n",
    "        if i < j:\n",
    "#             注意submit的时候是把函数和参数分别作为submit的参数的\n",
    "            futures.append(e.submit(slowadd, i, j, delay=1))\n",
    "        elif i > j:\n",
    "            futures.append(e.submit(slowsub, i, j, delay=1))\n",
    "# futures 中结果取出来，用 .result\n",
    "results = [f.result() for f in futures]"
   ]
  },
  {
   "cell_type": "code",
   "execution_count": 39,
   "metadata": {},
   "outputs": [],
   "source": [
    "%load solutions/submit-1.py"
   ]
  },
  {
   "cell_type": "markdown",
   "metadata": {},
   "source": [
    "### Conclusion on submit\n",
    "\n",
    "*  Submit fires off a single function call in the background, returning a future.  \n",
    "*  When we combine submit with a single for loop we recover the functionality of map.  \n",
    "*  When we want to collect our results we replace each of our futures, `f`, with a call to `f.result()`\n",
    "*  We can combine submit with multiple for loops and other general programming to get something more general than map.\n"
   ]
  },
  {
   "cell_type": "markdown",
   "metadata": {},
   "source": [
    "### Exercise: Parallelize pair-wise correlations with `e.submit`\n"
   ]
  },
  {
   "cell_type": "code",
   "execution_count": 43,
   "metadata": {
    "collapsed": false,
    "jupyter": {
     "outputs_hidden": false
    }
   },
   "outputs": [
    {
     "name": "stdout",
     "output_type": "stream",
     "text": [
      "Wall time: 712 ms\n"
     ]
    },
    {
     "data": {
      "text/plain": [
       "{('..\\\\data\\\\json\\\\afl.h5', '..\\\\data\\\\json\\\\bwa.h5'): 0.5918591029584709,\n",
       " ('..\\\\data\\\\json\\\\afl.h5', '..\\\\data\\\\json\\\\hal.h5'): 0.910259887661687,\n",
       " ('..\\\\data\\\\json\\\\afl.h5', '..\\\\data\\\\json\\\\hp.h5'): 0.9549201044903431,\n",
       " ('..\\\\data\\\\json\\\\afl.h5', '..\\\\data\\\\json\\\\hpq.h5'): 0.7471529916241803,\n",
       " ('..\\\\data\\\\json\\\\afl.h5', '..\\\\data\\\\json\\\\ibm.h5'): 0.8449463956086701,\n",
       " ('..\\\\data\\\\json\\\\afl.h5', '..\\\\data\\\\json\\\\jbl.h5'): 0.8282240153850632,\n",
       " ('..\\\\data\\\\json\\\\afl.h5', '..\\\\data\\\\json\\\\jpm.h5'): 0.9756592115414888,\n",
       " ('..\\\\data\\\\json\\\\afl.h5', '..\\\\data\\\\json\\\\luv.h5'): 0.9407068268094191,\n",
       " ('..\\\\data\\\\json\\\\afl.h5', '..\\\\data\\\\json\\\\pcg.h5'): 0.210629807682613,\n",
       " ('..\\\\data\\\\json\\\\afl.h5', '..\\\\data\\\\json\\\\usb.h5'): 0.9825292035622964,\n",
       " ('..\\\\data\\\\json\\\\bwa.h5', '..\\\\data\\\\json\\\\afl.h5'): 0.5918591029584708,\n",
       " ('..\\\\data\\\\json\\\\bwa.h5', '..\\\\data\\\\json\\\\hal.h5'): 0.7622587851488899,\n",
       " ('..\\\\data\\\\json\\\\bwa.h5', '..\\\\data\\\\json\\\\hp.h5'): 0.4466779792447738,\n",
       " ('..\\\\data\\\\json\\\\bwa.h5', '..\\\\data\\\\json\\\\hpq.h5'): 0.6054301960284947,\n",
       " ('..\\\\data\\\\json\\\\bwa.h5', '..\\\\data\\\\json\\\\ibm.h5'): 0.5271627772623687,\n",
       " ('..\\\\data\\\\json\\\\bwa.h5', '..\\\\data\\\\json\\\\jbl.h5'): 0.843445190357775,\n",
       " ('..\\\\data\\\\json\\\\bwa.h5', '..\\\\data\\\\json\\\\jpm.h5'): 0.5885396963673805,\n",
       " ('..\\\\data\\\\json\\\\bwa.h5', '..\\\\data\\\\json\\\\luv.h5'): 0.5518109912416783,\n",
       " ('..\\\\data\\\\json\\\\bwa.h5', '..\\\\data\\\\json\\\\pcg.h5'): -0.25358044421718196,\n",
       " ('..\\\\data\\\\json\\\\bwa.h5', '..\\\\data\\\\json\\\\usb.h5'): 0.6112400717889057,\n",
       " ('..\\\\data\\\\json\\\\hal.h5', '..\\\\data\\\\json\\\\afl.h5'): 0.9102598876616871,\n",
       " ('..\\\\data\\\\json\\\\hal.h5', '..\\\\data\\\\json\\\\bwa.h5'): 0.76225878514889,\n",
       " ('..\\\\data\\\\json\\\\hal.h5', '..\\\\data\\\\json\\\\hp.h5'): 0.8872977016552969,\n",
       " ('..\\\\data\\\\json\\\\hal.h5', '..\\\\data\\\\json\\\\hpq.h5'): 0.8081521721130916,\n",
       " ('..\\\\data\\\\json\\\\hal.h5', '..\\\\data\\\\json\\\\ibm.h5'): 0.8420060339008659,\n",
       " ('..\\\\data\\\\json\\\\hal.h5', '..\\\\data\\\\json\\\\jbl.h5'): 0.9338713174342561,\n",
       " ('..\\\\data\\\\json\\\\hal.h5', '..\\\\data\\\\json\\\\jpm.h5'): 0.9367799946001566,\n",
       " ('..\\\\data\\\\json\\\\hal.h5', '..\\\\data\\\\json\\\\luv.h5'): 0.8482529071583665,\n",
       " ('..\\\\data\\\\json\\\\hal.h5', '..\\\\data\\\\json\\\\pcg.h5'): 0.20125031381732902,\n",
       " ('..\\\\data\\\\json\\\\hal.h5', '..\\\\data\\\\json\\\\usb.h5'): 0.9100799042616668,\n",
       " ('..\\\\data\\\\json\\\\hp.h5', '..\\\\data\\\\json\\\\afl.h5'): 0.9549201044903431,\n",
       " ('..\\\\data\\\\json\\\\hp.h5', '..\\\\data\\\\json\\\\bwa.h5'): 0.4466779792447738,\n",
       " ('..\\\\data\\\\json\\\\hp.h5', '..\\\\data\\\\json\\\\hal.h5'): 0.8872977016552969,\n",
       " ('..\\\\data\\\\json\\\\hp.h5', '..\\\\data\\\\json\\\\hpq.h5'): 0.7051664627398594,\n",
       " ('..\\\\data\\\\json\\\\hp.h5', '..\\\\data\\\\json\\\\ibm.h5'): 0.8153437663800388,\n",
       " ('..\\\\data\\\\json\\\\hp.h5', '..\\\\data\\\\json\\\\jbl.h5'): 0.7532769474491984,\n",
       " ('..\\\\data\\\\json\\\\hp.h5', '..\\\\data\\\\json\\\\jpm.h5'): 0.9663493051822112,\n",
       " ('..\\\\data\\\\json\\\\hp.h5', '..\\\\data\\\\json\\\\luv.h5'): 0.9027677725126563,\n",
       " ('..\\\\data\\\\json\\\\hp.h5', '..\\\\data\\\\json\\\\pcg.h5'): 0.32583986049337377,\n",
       " ('..\\\\data\\\\json\\\\hp.h5', '..\\\\data\\\\json\\\\usb.h5'): 0.9527935052106437,\n",
       " ('..\\\\data\\\\json\\\\hpq.h5', '..\\\\data\\\\json\\\\afl.h5'): 0.7471529916241803,\n",
       " ('..\\\\data\\\\json\\\\hpq.h5', '..\\\\data\\\\json\\\\bwa.h5'): 0.6054301960284947,\n",
       " ('..\\\\data\\\\json\\\\hpq.h5', '..\\\\data\\\\json\\\\hal.h5'): 0.8081521721130916,\n",
       " ('..\\\\data\\\\json\\\\hpq.h5', '..\\\\data\\\\json\\\\hp.h5'): 0.7051664627398595,\n",
       " ('..\\\\data\\\\json\\\\hpq.h5', '..\\\\data\\\\json\\\\ibm.h5'): 0.7691267575881365,\n",
       " ('..\\\\data\\\\json\\\\hpq.h5', '..\\\\data\\\\json\\\\jbl.h5'): 0.8257409540718138,\n",
       " ('..\\\\data\\\\json\\\\hpq.h5', '..\\\\data\\\\json\\\\jpm.h5'): 0.8046915794326314,\n",
       " ('..\\\\data\\\\json\\\\hpq.h5', '..\\\\data\\\\json\\\\luv.h5'): 0.7997204106933999,\n",
       " ('..\\\\data\\\\json\\\\hpq.h5', '..\\\\data\\\\json\\\\pcg.h5'): 0.4325609240762508,\n",
       " ('..\\\\data\\\\json\\\\hpq.h5', '..\\\\data\\\\json\\\\usb.h5'): 0.7305868508340903,\n",
       " ('..\\\\data\\\\json\\\\ibm.h5', '..\\\\data\\\\json\\\\afl.h5'): 0.8449463956086701,\n",
       " ('..\\\\data\\\\json\\\\ibm.h5', '..\\\\data\\\\json\\\\bwa.h5'): 0.5271627772623687,\n",
       " ('..\\\\data\\\\json\\\\ibm.h5', '..\\\\data\\\\json\\\\hal.h5'): 0.8420060339008658,\n",
       " ('..\\\\data\\\\json\\\\ibm.h5', '..\\\\data\\\\json\\\\hp.h5'): 0.8153437663800388,\n",
       " ('..\\\\data\\\\json\\\\ibm.h5', '..\\\\data\\\\json\\\\hpq.h5'): 0.7691267575881364,\n",
       " ('..\\\\data\\\\json\\\\ibm.h5', '..\\\\data\\\\json\\\\jbl.h5'): 0.811145988268567,\n",
       " ('..\\\\data\\\\json\\\\ibm.h5', '..\\\\data\\\\json\\\\jpm.h5'): 0.8536931551377446,\n",
       " ('..\\\\data\\\\json\\\\ibm.h5', '..\\\\data\\\\json\\\\luv.h5'): 0.7502193279327466,\n",
       " ('..\\\\data\\\\json\\\\ibm.h5', '..\\\\data\\\\json\\\\pcg.h5'): 0.49169174585661657,\n",
       " ('..\\\\data\\\\json\\\\ibm.h5', '..\\\\data\\\\json\\\\usb.h5'): 0.7892481202426154,\n",
       " ('..\\\\data\\\\json\\\\jbl.h5', '..\\\\data\\\\json\\\\afl.h5'): 0.8282240153850632,\n",
       " ('..\\\\data\\\\json\\\\jbl.h5', '..\\\\data\\\\json\\\\bwa.h5'): 0.843445190357775,\n",
       " ('..\\\\data\\\\json\\\\jbl.h5', '..\\\\data\\\\json\\\\hal.h5'): 0.9338713174342559,\n",
       " ('..\\\\data\\\\json\\\\jbl.h5', '..\\\\data\\\\json\\\\hp.h5'): 0.7532769474491985,\n",
       " ('..\\\\data\\\\json\\\\jbl.h5', '..\\\\data\\\\json\\\\hpq.h5'): 0.8257409540718138,\n",
       " ('..\\\\data\\\\json\\\\jbl.h5', '..\\\\data\\\\json\\\\ibm.h5'): 0.8111459882685669,\n",
       " ('..\\\\data\\\\json\\\\jbl.h5', '..\\\\data\\\\json\\\\jpm.h5'): 0.8471571007117111,\n",
       " ('..\\\\data\\\\json\\\\jbl.h5', '..\\\\data\\\\json\\\\luv.h5'): 0.7710638288856428,\n",
       " ('..\\\\data\\\\json\\\\jbl.h5', '..\\\\data\\\\json\\\\pcg.h5'): 0.1651590798069103,\n",
       " ('..\\\\data\\\\json\\\\jbl.h5', '..\\\\data\\\\json\\\\usb.h5'): 0.8208093933627193,\n",
       " ('..\\\\data\\\\json\\\\jpm.h5', '..\\\\data\\\\json\\\\afl.h5'): 0.9756592115414889,\n",
       " ('..\\\\data\\\\json\\\\jpm.h5', '..\\\\data\\\\json\\\\bwa.h5'): 0.5885396963673805,\n",
       " ('..\\\\data\\\\json\\\\jpm.h5', '..\\\\data\\\\json\\\\hal.h5'): 0.9367799946001565,\n",
       " ('..\\\\data\\\\json\\\\jpm.h5', '..\\\\data\\\\json\\\\hp.h5'): 0.9663493051822113,\n",
       " ('..\\\\data\\\\json\\\\jpm.h5', '..\\\\data\\\\json\\\\hpq.h5'): 0.8046915794326314,\n",
       " ('..\\\\data\\\\json\\\\jpm.h5', '..\\\\data\\\\json\\\\ibm.h5'): 0.8536931551377447,\n",
       " ('..\\\\data\\\\json\\\\jpm.h5', '..\\\\data\\\\json\\\\jbl.h5'): 0.8471571007117111,\n",
       " ('..\\\\data\\\\json\\\\jpm.h5', '..\\\\data\\\\json\\\\luv.h5'): 0.9444645152613582,\n",
       " ('..\\\\data\\\\json\\\\jpm.h5', '..\\\\data\\\\json\\\\pcg.h5'): 0.303251830420858,\n",
       " ('..\\\\data\\\\json\\\\jpm.h5', '..\\\\data\\\\json\\\\usb.h5'): 0.9749730175391421,\n",
       " ('..\\\\data\\\\json\\\\luv.h5', '..\\\\data\\\\json\\\\afl.h5'): 0.940706826809419,\n",
       " ('..\\\\data\\\\json\\\\luv.h5', '..\\\\data\\\\json\\\\bwa.h5'): 0.5518109912416783,\n",
       " ('..\\\\data\\\\json\\\\luv.h5', '..\\\\data\\\\json\\\\hal.h5'): 0.8482529071583664,\n",
       " ('..\\\\data\\\\json\\\\luv.h5', '..\\\\data\\\\json\\\\hp.h5'): 0.9027677725126563,\n",
       " ('..\\\\data\\\\json\\\\luv.h5', '..\\\\data\\\\json\\\\hpq.h5'): 0.7997204106934,\n",
       " ('..\\\\data\\\\json\\\\luv.h5', '..\\\\data\\\\json\\\\ibm.h5'): 0.7502193279327466,\n",
       " ('..\\\\data\\\\json\\\\luv.h5', '..\\\\data\\\\json\\\\jbl.h5'): 0.7710638288856427,\n",
       " ('..\\\\data\\\\json\\\\luv.h5', '..\\\\data\\\\json\\\\jpm.h5'): 0.9444645152613582,\n",
       " ('..\\\\data\\\\json\\\\luv.h5', '..\\\\data\\\\json\\\\pcg.h5'): 0.18971431580794385,\n",
       " ('..\\\\data\\\\json\\\\luv.h5', '..\\\\data\\\\json\\\\usb.h5'): 0.9491962612682876,\n",
       " ('..\\\\data\\\\json\\\\pcg.h5', '..\\\\data\\\\json\\\\afl.h5'): 0.21062980768261302,\n",
       " ('..\\\\data\\\\json\\\\pcg.h5', '..\\\\data\\\\json\\\\bwa.h5'): -0.25358044421718196,\n",
       " ('..\\\\data\\\\json\\\\pcg.h5', '..\\\\data\\\\json\\\\hal.h5'): 0.20125031381732905,\n",
       " ('..\\\\data\\\\json\\\\pcg.h5', '..\\\\data\\\\json\\\\hp.h5'): 0.3258398604933737,\n",
       " ('..\\\\data\\\\json\\\\pcg.h5', '..\\\\data\\\\json\\\\hpq.h5'): 0.4325609240762508,\n",
       " ('..\\\\data\\\\json\\\\pcg.h5', '..\\\\data\\\\json\\\\ibm.h5'): 0.4916917458566166,\n",
       " ('..\\\\data\\\\json\\\\pcg.h5', '..\\\\data\\\\json\\\\jbl.h5'): 0.1651590798069103,\n",
       " ('..\\\\data\\\\json\\\\pcg.h5', '..\\\\data\\\\json\\\\jpm.h5'): 0.303251830420858,\n",
       " ('..\\\\data\\\\json\\\\pcg.h5', '..\\\\data\\\\json\\\\luv.h5'): 0.18971431580794385,\n",
       " ('..\\\\data\\\\json\\\\pcg.h5', '..\\\\data\\\\json\\\\usb.h5'): 0.14545772007182314,\n",
       " ('..\\\\data\\\\json\\\\usb.h5', '..\\\\data\\\\json\\\\afl.h5'): 0.9825292035622963,\n",
       " ('..\\\\data\\\\json\\\\usb.h5', '..\\\\data\\\\json\\\\bwa.h5'): 0.6112400717889057,\n",
       " ('..\\\\data\\\\json\\\\usb.h5', '..\\\\data\\\\json\\\\hal.h5'): 0.9100799042616668,\n",
       " ('..\\\\data\\\\json\\\\usb.h5', '..\\\\data\\\\json\\\\hp.h5'): 0.9527935052106438,\n",
       " ('..\\\\data\\\\json\\\\usb.h5', '..\\\\data\\\\json\\\\hpq.h5'): 0.7305868508340903,\n",
       " ('..\\\\data\\\\json\\\\usb.h5', '..\\\\data\\\\json\\\\ibm.h5'): 0.7892481202426155,\n",
       " ('..\\\\data\\\\json\\\\usb.h5', '..\\\\data\\\\json\\\\jbl.h5'): 0.8208093933627193,\n",
       " ('..\\\\data\\\\json\\\\usb.h5', '..\\\\data\\\\json\\\\jpm.h5'): 0.9749730175391421,\n",
       " ('..\\\\data\\\\json\\\\usb.h5', '..\\\\data\\\\json\\\\luv.h5'): 0.9491962612682878,\n",
       " ('..\\\\data\\\\json\\\\usb.h5', '..\\\\data\\\\json\\\\pcg.h5'): 0.14545772007182317}"
      ]
     },
     "execution_count": 43,
     "metadata": {},
     "output_type": "execute_result"
    }
   ],
   "source": [
    "%%time\n",
    "\n",
    "### Sequential Code\n",
    "\n",
    "results = {}\n",
    "\n",
    "for a in filenames:\n",
    "    for b in filenames:\n",
    "        if a != b:\n",
    "            results[a, b] = series[a].corr(series[b])\n",
    "results"
   ]
  },
  {
   "cell_type": "code",
   "execution_count": 44,
   "metadata": {},
   "outputs": [
    {
     "name": "stdout",
     "output_type": "stream",
     "text": [
      "Wall time: 442 ms\n"
     ]
    },
    {
     "data": {
      "text/plain": [
       "{('..\\\\data\\\\json\\\\afl.h5', '..\\\\data\\\\json\\\\bwa.h5'): 0.5918591029584709,\n",
       " ('..\\\\data\\\\json\\\\afl.h5', '..\\\\data\\\\json\\\\hal.h5'): 0.910259887661687,\n",
       " ('..\\\\data\\\\json\\\\afl.h5', '..\\\\data\\\\json\\\\hp.h5'): 0.9549201044903431,\n",
       " ('..\\\\data\\\\json\\\\afl.h5', '..\\\\data\\\\json\\\\hpq.h5'): 0.7471529916241803,\n",
       " ('..\\\\data\\\\json\\\\afl.h5', '..\\\\data\\\\json\\\\ibm.h5'): 0.8449463956086701,\n",
       " ('..\\\\data\\\\json\\\\afl.h5', '..\\\\data\\\\json\\\\jbl.h5'): 0.8282240153850632,\n",
       " ('..\\\\data\\\\json\\\\afl.h5', '..\\\\data\\\\json\\\\jpm.h5'): 0.9756592115414888,\n",
       " ('..\\\\data\\\\json\\\\afl.h5', '..\\\\data\\\\json\\\\luv.h5'): 0.9407068268094191,\n",
       " ('..\\\\data\\\\json\\\\afl.h5', '..\\\\data\\\\json\\\\pcg.h5'): 0.210629807682613,\n",
       " ('..\\\\data\\\\json\\\\afl.h5', '..\\\\data\\\\json\\\\usb.h5'): 0.9825292035622964,\n",
       " ('..\\\\data\\\\json\\\\bwa.h5', '..\\\\data\\\\json\\\\afl.h5'): 0.5918591029584708,\n",
       " ('..\\\\data\\\\json\\\\bwa.h5', '..\\\\data\\\\json\\\\hal.h5'): 0.7622587851488899,\n",
       " ('..\\\\data\\\\json\\\\bwa.h5', '..\\\\data\\\\json\\\\hp.h5'): 0.4466779792447738,\n",
       " ('..\\\\data\\\\json\\\\bwa.h5', '..\\\\data\\\\json\\\\hpq.h5'): 0.6054301960284947,\n",
       " ('..\\\\data\\\\json\\\\bwa.h5', '..\\\\data\\\\json\\\\ibm.h5'): 0.5271627772623687,\n",
       " ('..\\\\data\\\\json\\\\bwa.h5', '..\\\\data\\\\json\\\\jbl.h5'): 0.843445190357775,\n",
       " ('..\\\\data\\\\json\\\\bwa.h5', '..\\\\data\\\\json\\\\jpm.h5'): 0.5885396963673805,\n",
       " ('..\\\\data\\\\json\\\\bwa.h5', '..\\\\data\\\\json\\\\luv.h5'): 0.5518109912416783,\n",
       " ('..\\\\data\\\\json\\\\bwa.h5', '..\\\\data\\\\json\\\\pcg.h5'): -0.25358044421718196,\n",
       " ('..\\\\data\\\\json\\\\bwa.h5', '..\\\\data\\\\json\\\\usb.h5'): 0.6112400717889057,\n",
       " ('..\\\\data\\\\json\\\\hal.h5', '..\\\\data\\\\json\\\\afl.h5'): 0.9102598876616871,\n",
       " ('..\\\\data\\\\json\\\\hal.h5', '..\\\\data\\\\json\\\\bwa.h5'): 0.76225878514889,\n",
       " ('..\\\\data\\\\json\\\\hal.h5', '..\\\\data\\\\json\\\\hp.h5'): 0.8872977016552969,\n",
       " ('..\\\\data\\\\json\\\\hal.h5', '..\\\\data\\\\json\\\\hpq.h5'): 0.8081521721130916,\n",
       " ('..\\\\data\\\\json\\\\hal.h5', '..\\\\data\\\\json\\\\ibm.h5'): 0.8420060339008659,\n",
       " ('..\\\\data\\\\json\\\\hal.h5', '..\\\\data\\\\json\\\\jbl.h5'): 0.9338713174342561,\n",
       " ('..\\\\data\\\\json\\\\hal.h5', '..\\\\data\\\\json\\\\jpm.h5'): 0.9367799946001566,\n",
       " ('..\\\\data\\\\json\\\\hal.h5', '..\\\\data\\\\json\\\\luv.h5'): 0.8482529071583665,\n",
       " ('..\\\\data\\\\json\\\\hal.h5', '..\\\\data\\\\json\\\\pcg.h5'): 0.20125031381732902,\n",
       " ('..\\\\data\\\\json\\\\hal.h5', '..\\\\data\\\\json\\\\usb.h5'): 0.9100799042616668,\n",
       " ('..\\\\data\\\\json\\\\hp.h5', '..\\\\data\\\\json\\\\afl.h5'): 0.9549201044903431,\n",
       " ('..\\\\data\\\\json\\\\hp.h5', '..\\\\data\\\\json\\\\bwa.h5'): 0.4466779792447738,\n",
       " ('..\\\\data\\\\json\\\\hp.h5', '..\\\\data\\\\json\\\\hal.h5'): 0.8872977016552969,\n",
       " ('..\\\\data\\\\json\\\\hp.h5', '..\\\\data\\\\json\\\\hpq.h5'): 0.7051664627398594,\n",
       " ('..\\\\data\\\\json\\\\hp.h5', '..\\\\data\\\\json\\\\ibm.h5'): 0.8153437663800388,\n",
       " ('..\\\\data\\\\json\\\\hp.h5', '..\\\\data\\\\json\\\\jbl.h5'): 0.7532769474491984,\n",
       " ('..\\\\data\\\\json\\\\hp.h5', '..\\\\data\\\\json\\\\jpm.h5'): 0.9663493051822112,\n",
       " ('..\\\\data\\\\json\\\\hp.h5', '..\\\\data\\\\json\\\\luv.h5'): 0.9027677725126563,\n",
       " ('..\\\\data\\\\json\\\\hp.h5', '..\\\\data\\\\json\\\\pcg.h5'): 0.32583986049337377,\n",
       " ('..\\\\data\\\\json\\\\hp.h5', '..\\\\data\\\\json\\\\usb.h5'): 0.9527935052106437,\n",
       " ('..\\\\data\\\\json\\\\hpq.h5', '..\\\\data\\\\json\\\\afl.h5'): 0.7471529916241803,\n",
       " ('..\\\\data\\\\json\\\\hpq.h5', '..\\\\data\\\\json\\\\bwa.h5'): 0.6054301960284947,\n",
       " ('..\\\\data\\\\json\\\\hpq.h5', '..\\\\data\\\\json\\\\hal.h5'): 0.8081521721130916,\n",
       " ('..\\\\data\\\\json\\\\hpq.h5', '..\\\\data\\\\json\\\\hp.h5'): 0.7051664627398595,\n",
       " ('..\\\\data\\\\json\\\\hpq.h5', '..\\\\data\\\\json\\\\ibm.h5'): 0.7691267575881365,\n",
       " ('..\\\\data\\\\json\\\\hpq.h5', '..\\\\data\\\\json\\\\jbl.h5'): 0.8257409540718138,\n",
       " ('..\\\\data\\\\json\\\\hpq.h5', '..\\\\data\\\\json\\\\jpm.h5'): 0.8046915794326314,\n",
       " ('..\\\\data\\\\json\\\\hpq.h5', '..\\\\data\\\\json\\\\luv.h5'): 0.7997204106933999,\n",
       " ('..\\\\data\\\\json\\\\hpq.h5', '..\\\\data\\\\json\\\\pcg.h5'): 0.4325609240762508,\n",
       " ('..\\\\data\\\\json\\\\hpq.h5', '..\\\\data\\\\json\\\\usb.h5'): 0.7305868508340903,\n",
       " ('..\\\\data\\\\json\\\\ibm.h5', '..\\\\data\\\\json\\\\afl.h5'): 0.8449463956086701,\n",
       " ('..\\\\data\\\\json\\\\ibm.h5', '..\\\\data\\\\json\\\\bwa.h5'): 0.5271627772623687,\n",
       " ('..\\\\data\\\\json\\\\ibm.h5', '..\\\\data\\\\json\\\\hal.h5'): 0.8420060339008658,\n",
       " ('..\\\\data\\\\json\\\\ibm.h5', '..\\\\data\\\\json\\\\hp.h5'): 0.8153437663800388,\n",
       " ('..\\\\data\\\\json\\\\ibm.h5', '..\\\\data\\\\json\\\\hpq.h5'): 0.7691267575881364,\n",
       " ('..\\\\data\\\\json\\\\ibm.h5', '..\\\\data\\\\json\\\\jbl.h5'): 0.811145988268567,\n",
       " ('..\\\\data\\\\json\\\\ibm.h5', '..\\\\data\\\\json\\\\jpm.h5'): 0.8536931551377446,\n",
       " ('..\\\\data\\\\json\\\\ibm.h5', '..\\\\data\\\\json\\\\luv.h5'): 0.7502193279327466,\n",
       " ('..\\\\data\\\\json\\\\ibm.h5', '..\\\\data\\\\json\\\\pcg.h5'): 0.49169174585661657,\n",
       " ('..\\\\data\\\\json\\\\ibm.h5', '..\\\\data\\\\json\\\\usb.h5'): 0.7892481202426154,\n",
       " ('..\\\\data\\\\json\\\\jbl.h5', '..\\\\data\\\\json\\\\afl.h5'): 0.8282240153850632,\n",
       " ('..\\\\data\\\\json\\\\jbl.h5', '..\\\\data\\\\json\\\\bwa.h5'): 0.843445190357775,\n",
       " ('..\\\\data\\\\json\\\\jbl.h5', '..\\\\data\\\\json\\\\hal.h5'): 0.9338713174342559,\n",
       " ('..\\\\data\\\\json\\\\jbl.h5', '..\\\\data\\\\json\\\\hp.h5'): 0.7532769474491985,\n",
       " ('..\\\\data\\\\json\\\\jbl.h5', '..\\\\data\\\\json\\\\hpq.h5'): 0.8257409540718138,\n",
       " ('..\\\\data\\\\json\\\\jbl.h5', '..\\\\data\\\\json\\\\ibm.h5'): 0.8111459882685669,\n",
       " ('..\\\\data\\\\json\\\\jbl.h5', '..\\\\data\\\\json\\\\jpm.h5'): 0.8471571007117111,\n",
       " ('..\\\\data\\\\json\\\\jbl.h5', '..\\\\data\\\\json\\\\luv.h5'): 0.7710638288856428,\n",
       " ('..\\\\data\\\\json\\\\jbl.h5', '..\\\\data\\\\json\\\\pcg.h5'): 0.1651590798069103,\n",
       " ('..\\\\data\\\\json\\\\jbl.h5', '..\\\\data\\\\json\\\\usb.h5'): 0.8208093933627193,\n",
       " ('..\\\\data\\\\json\\\\jpm.h5', '..\\\\data\\\\json\\\\afl.h5'): 0.9756592115414889,\n",
       " ('..\\\\data\\\\json\\\\jpm.h5', '..\\\\data\\\\json\\\\bwa.h5'): 0.5885396963673805,\n",
       " ('..\\\\data\\\\json\\\\jpm.h5', '..\\\\data\\\\json\\\\hal.h5'): 0.9367799946001565,\n",
       " ('..\\\\data\\\\json\\\\jpm.h5', '..\\\\data\\\\json\\\\hp.h5'): 0.9663493051822113,\n",
       " ('..\\\\data\\\\json\\\\jpm.h5', '..\\\\data\\\\json\\\\hpq.h5'): 0.8046915794326314,\n",
       " ('..\\\\data\\\\json\\\\jpm.h5', '..\\\\data\\\\json\\\\ibm.h5'): 0.8536931551377447,\n",
       " ('..\\\\data\\\\json\\\\jpm.h5', '..\\\\data\\\\json\\\\jbl.h5'): 0.8471571007117111,\n",
       " ('..\\\\data\\\\json\\\\jpm.h5', '..\\\\data\\\\json\\\\luv.h5'): 0.9444645152613582,\n",
       " ('..\\\\data\\\\json\\\\jpm.h5', '..\\\\data\\\\json\\\\pcg.h5'): 0.303251830420858,\n",
       " ('..\\\\data\\\\json\\\\jpm.h5', '..\\\\data\\\\json\\\\usb.h5'): 0.9749730175391421,\n",
       " ('..\\\\data\\\\json\\\\luv.h5', '..\\\\data\\\\json\\\\afl.h5'): 0.940706826809419,\n",
       " ('..\\\\data\\\\json\\\\luv.h5', '..\\\\data\\\\json\\\\bwa.h5'): 0.5518109912416783,\n",
       " ('..\\\\data\\\\json\\\\luv.h5', '..\\\\data\\\\json\\\\hal.h5'): 0.8482529071583664,\n",
       " ('..\\\\data\\\\json\\\\luv.h5', '..\\\\data\\\\json\\\\hp.h5'): 0.9027677725126563,\n",
       " ('..\\\\data\\\\json\\\\luv.h5', '..\\\\data\\\\json\\\\hpq.h5'): 0.7997204106934,\n",
       " ('..\\\\data\\\\json\\\\luv.h5', '..\\\\data\\\\json\\\\ibm.h5'): 0.7502193279327466,\n",
       " ('..\\\\data\\\\json\\\\luv.h5', '..\\\\data\\\\json\\\\jbl.h5'): 0.7710638288856427,\n",
       " ('..\\\\data\\\\json\\\\luv.h5', '..\\\\data\\\\json\\\\jpm.h5'): 0.9444645152613582,\n",
       " ('..\\\\data\\\\json\\\\luv.h5', '..\\\\data\\\\json\\\\pcg.h5'): 0.18971431580794385,\n",
       " ('..\\\\data\\\\json\\\\luv.h5', '..\\\\data\\\\json\\\\usb.h5'): 0.9491962612682876,\n",
       " ('..\\\\data\\\\json\\\\pcg.h5', '..\\\\data\\\\json\\\\afl.h5'): 0.21062980768261302,\n",
       " ('..\\\\data\\\\json\\\\pcg.h5', '..\\\\data\\\\json\\\\bwa.h5'): -0.25358044421718196,\n",
       " ('..\\\\data\\\\json\\\\pcg.h5', '..\\\\data\\\\json\\\\hal.h5'): 0.20125031381732905,\n",
       " ('..\\\\data\\\\json\\\\pcg.h5', '..\\\\data\\\\json\\\\hp.h5'): 0.3258398604933737,\n",
       " ('..\\\\data\\\\json\\\\pcg.h5', '..\\\\data\\\\json\\\\hpq.h5'): 0.4325609240762508,\n",
       " ('..\\\\data\\\\json\\\\pcg.h5', '..\\\\data\\\\json\\\\ibm.h5'): 0.4916917458566166,\n",
       " ('..\\\\data\\\\json\\\\pcg.h5', '..\\\\data\\\\json\\\\jbl.h5'): 0.1651590798069103,\n",
       " ('..\\\\data\\\\json\\\\pcg.h5', '..\\\\data\\\\json\\\\jpm.h5'): 0.303251830420858,\n",
       " ('..\\\\data\\\\json\\\\pcg.h5', '..\\\\data\\\\json\\\\luv.h5'): 0.18971431580794385,\n",
       " ('..\\\\data\\\\json\\\\pcg.h5', '..\\\\data\\\\json\\\\usb.h5'): 0.14545772007182314,\n",
       " ('..\\\\data\\\\json\\\\usb.h5', '..\\\\data\\\\json\\\\afl.h5'): 0.9825292035622963,\n",
       " ('..\\\\data\\\\json\\\\usb.h5', '..\\\\data\\\\json\\\\bwa.h5'): 0.6112400717889057,\n",
       " ('..\\\\data\\\\json\\\\usb.h5', '..\\\\data\\\\json\\\\hal.h5'): 0.9100799042616668,\n",
       " ('..\\\\data\\\\json\\\\usb.h5', '..\\\\data\\\\json\\\\hp.h5'): 0.9527935052106438,\n",
       " ('..\\\\data\\\\json\\\\usb.h5', '..\\\\data\\\\json\\\\hpq.h5'): 0.7305868508340903,\n",
       " ('..\\\\data\\\\json\\\\usb.h5', '..\\\\data\\\\json\\\\ibm.h5'): 0.7892481202426155,\n",
       " ('..\\\\data\\\\json\\\\usb.h5', '..\\\\data\\\\json\\\\jbl.h5'): 0.8208093933627193,\n",
       " ('..\\\\data\\\\json\\\\usb.h5', '..\\\\data\\\\json\\\\jpm.h5'): 0.9749730175391421,\n",
       " ('..\\\\data\\\\json\\\\usb.h5', '..\\\\data\\\\json\\\\luv.h5'): 0.9491962612682878,\n",
       " ('..\\\\data\\\\json\\\\usb.h5', '..\\\\data\\\\json\\\\pcg.h5'): 0.14545772007182317}"
      ]
     },
     "execution_count": 44,
     "metadata": {},
     "output_type": "execute_result"
    }
   ],
   "source": [
    "%%time\n",
    "\n",
    "### Parallel Code\n",
    "# pair-wise的操作时，futures要用 {},函数是要重新定义一个外部式的\n",
    "def corr(a, b):\n",
    "    return a.corr(b)\n",
    "\n",
    "futures = {}\n",
    "for a in filenames:\n",
    "    for b in filenames:\n",
    "        if a != b:\n",
    "#             对于成对内置型函数，和前面的直接函数还是略有区别\n",
    "            futures[a, b] = e.submit(corr, series[a], series[b])\n",
    "# result在dict的value里面，用v.result()取出来 \n",
    "results = {k: v.result() for k,v in futures.items()}\n",
    "results"
   ]
  },
  {
   "cell_type": "code",
   "execution_count": 42,
   "metadata": {},
   "outputs": [],
   "source": [
    "%load solutions/submit-2.py"
   ]
  },
  {
   "cell_type": "markdown",
   "metadata": {},
   "source": [
    "### Exercise: Threads vs Processes\n",
    "\n",
    "Try the exercise above using Processes vs Threads by replacing `e` with a ProcessPoolExecutor:\n",
    "\n",
    "#### Before\n",
    "\n",
    "```python\n",
    "from concurrent.futures import ThreadPoolExecutor\n",
    "e = ThreadPoolExecutor(4)\n",
    "```\n",
    "\n",
    "#### After\n",
    "\n",
    "```python\n",
    "from concurrent.futures import ProcessPoolExecutor\n",
    "e = ProcessPoolExecutor(4)\n",
    "```\n",
    "\n",
    "How does performance vary?  We'll talk more about the tradeoffs between threads and processes later on in the tutorial."
   ]
  },
  {
   "cell_type": "markdown",
   "metadata": {},
   "source": [
    "### Exercise: Break Python by loading the data in parallel\n",
    "\n",
    "The HDF5 library we use to load our data is not threadsafe and can cause our entire Python session to crash."
   ]
  },
  {
   "cell_type": "code",
   "execution_count": 45,
   "metadata": {},
   "outputs": [
    {
     "name": "stdout",
     "output_type": "stream",
     "text": [
      "Wall time: 5.05 s\n"
     ]
    }
   ],
   "source": [
    "%%time\n",
    "from concurrent.futures import ThreadPoolExecutor\n",
    "e = ThreadPoolExecutor(4)\n",
    "\n",
    "dfs = e.map(pd.read_hdf, filenames)\n",
    "series = e.map(lambda df: df['close'], dfs)\n",
    "series = dict(zip(filenames, series))"
   ]
  },
  {
   "cell_type": "markdown",
   "metadata": {},
   "source": [
    "Conclusion\n",
    "-----------\n",
    "\n",
    "*  We learned how `e.submit` can help us to parallelize more complex applications\n",
    "*  We used `e.submit` to compute pairwise collelations in parallel\n",
    "*  We learned that this didn't actually speed up our code very much\n",
    "*  We compared threads against processes to see some performance differences\n",
    "*  We crashed our Python session by using threads with unsafe code, warning us that parallelism is sometimes dangerous"
   ]
  }
 ],
 "metadata": {
  "anaconda-cloud": {},
  "kernelspec": {
   "display_name": "Python 3",
   "language": "python",
   "name": "python3"
  },
  "language_info": {
   "codemirror_mode": {
    "name": "ipython",
    "version": 3
   },
   "file_extension": ".py",
   "mimetype": "text/x-python",
   "name": "python",
   "nbconvert_exporter": "python",
   "pygments_lexer": "ipython3",
   "version": "3.7.6"
  }
 },
 "nbformat": 4,
 "nbformat_minor": 4
}
