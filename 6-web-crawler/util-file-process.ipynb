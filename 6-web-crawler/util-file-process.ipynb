{
 "cells": [
  {
   "cell_type": "markdown",
   "metadata": {
    "collapsed": true,
    "pycharm": {
     "name": "#%% md\n"
    }
   },
   "source": [
    "暂时放一些可能用到的程序："
   ]
  },
  {
   "cell_type": "code",
   "execution_count": null,
   "outputs": [],
   "source": [
    "# -*- coding=utf-8 -*-\n",
    "# The files downloaded from \"http://data.cma.cn/'(Chinese meteorology data website) should be handled for our intends\n",
    "# First, if we have downloaded the files, we need to change the file names, because its suffix leads to a misunderstand for computers\n",
    "import os\n",
    "import shutil\n",
    "import subprocess\n",
    "\n",
    "import com_decom_press\n",
    "import read_config\n",
    "\n",
    "\n",
    "def decompress_download_data(data_download_directory, data_decompress_directory):\n",
    "    \"\"\"The format of data downloaded from the website given by 'txt' files are a little strange with a suffix of\n",
    "    'Expires=...', so we have to deal with it for an unzipable format, and do the unzip-action \"\"\"\n",
    "    file_names = os.listdir(data_download_directory)\n",
    "    for temp in file_names:\n",
    "        print(temp)\n",
    "        # 找到最右边_Expires= or @Expires=的\"_\"or\"@\"的下标\n",
    "        num = temp.rfind('Expires=') - 1\n",
    "        # if 'Expires=' doesn't exist\n",
    "        if num < 0:\n",
    "            continue\n",
    "        new_name = temp[:num]\n",
    "        print(new_name)\n",
    "        print(data_download_directory + '/' + temp)\n",
    "        print(data_download_directory + '/' + new_name)\n",
    "        if os.path.exists(data_download_directory + '/' + new_name):\n",
    "            continue\n",
    "        os.rename(data_download_directory + '/' + temp, data_download_directory + '/' + new_name)\n",
    "    new_file_names = os.listdir(data_download_directory)\n",
    "    # decompress all files and then move them to a directory.\n",
    "    for temp in new_file_names:\n",
    "        decompress_directory = com_decom_press.extract_tarbz2(data_download_directory + '/' + temp)\n",
    "        if decompress_directory == None:\n",
    "            continue\n",
    "        if not os.path.exists(data_decompress_directory):\n",
    "            os.makedirs(data_decompress_directory)\n",
    "        # if there already are file decompressed, we should skip. this contains two situations.\n",
    "        if os.path.exists(data_decompress_directory + '/' + temp) or os.path.exists(\n",
    "                data_decompress_directory + '/' + temp[:temp.rfind('.tar.bz2')]):\n",
    "            continue\n",
    "        shutil.move(decompress_directory, data_decompress_directory)\n",
    "    print(\"The radar graph has been decompressed!\")\n",
    "\n",
    "\n",
    "def wget_from_txt(txt_directory, outpath):\n",
    "    \"\"\"Download data from website provided by txt files. There are a list of web urls in a txt file,\n",
    "    and we should get data we want by a command like 'wget -P THE_TARGET_DIRECTORY -i THE_FILE_LIST' \"\"\"\n",
    "    # TODO: It seems that we need a synchronized download, or we will execute the decompress program before we finished the download that will leads to a uncomplete progress\n",
    "    files = os.listdir(txt_directory)\n",
    "    for filelist in files:\n",
    "        filelist = txt_directory + '/' + filelist\n",
    "        try:\n",
    "            '''If your os is windows, you should have to download a \"wget\" from \n",
    "            \"http://gnuwin32.sourceforge.net/packages/wget.htm\", and remeber that restart your IDE'''\n",
    "            cmd = 'wget -P ' + outpath + ' -i ' + filelist\n",
    "            print(cmd)\n",
    "            os.popen(cmd)\n",
    "            print('\\nSucceed: download data from ' + filelist)\n",
    "        except:\n",
    "            print('\\nFailed: download data from ' + filelist)\n",
    "\n",
    "\n",
    "if __name__ == \"__main__\":\n",
    "    \"\"\"Note: before you run this program, you'd better clear up your data_download_directory!!!\"\"\"\n",
    "    print(\"Start:\")\n",
    "    data_download_directory = read_config.read_radar_data_dir('../config.ini', 'radar-data-config',\n",
    "                                                              'data_download_directory')\n",
    "    txt_directory = read_config.read_radar_data_dir('../config.ini', 'radar-data-config',\n",
    "                                                    'data_txt_directory')\n",
    "    # wget_from_txt(txt_directory, data_download_directory)\n",
    "    data_decompress_directory = read_config.read_radar_data_dir('../config.ini', 'radar-data-config',\n",
    "                                                                'data_decompress_directory')\n",
    "    decompress_download_data(data_download_directory, data_decompress_directory)\n",
    "    print('END!')\n"
   ],
   "metadata": {
    "collapsed": false,
    "pycharm": {
     "name": "#%%\n"
    }
   }
  },
  {
   "cell_type": "code",
   "execution_count": null,
   "outputs": [],
   "source": [
    "\"\"\"这是一个压缩和解压缩的工具类\"\"\"\n",
    "# !/bin/python\n",
    "#\n",
    "# site: www.ahlinux.com\n",
    "# 压缩文件夹为 .tar.bz2\n",
    "import tarfile\n",
    "import os\n",
    "\n",
    "\n",
    "def extract_tarbz2(file_route):\n",
    "    \"\"\"解压一个.tar.bz2，file_route表示被解压文件的位置，返回解压的目标文件夹\"\"\"\n",
    "    num = file_route.rfind('.tar.bz2')\n",
    "    # if it is not a file with suffix '.tar.bz2', we have to stop, and return the file_route itself\n",
    "    if num == -1:\n",
    "        return file_route\n",
    "        # target_directory is where I want to uncompress the files which is created with name same as the file we will decoompress\n",
    "    target_derectory = file_route[0:num]\n",
    "    if not os.path.exists(target_derectory):\n",
    "        os.mkdir(target_derectory)\n",
    "    archive = tarfile.open(file_route, 'r:bz2')\n",
    "    archive.debug = 1  # Display the files beeing decompressed.\n",
    "    for tarinfo in archive:\n",
    "        archive.extract(tarinfo, target_derectory)\n",
    "    archive.close()\n",
    "    return target_derectory\n",
    "\n",
    "# 压缩为.tar.bz2文件\n",
    "# archive = tarfile.open('RADA_CHN_DOR_L3_MOCPUP_OHP.20150930-Z9240.tar.bz2', 'w:bz2')\n",
    "# archive.debug = 1  # Display the files beeing compressed.\n",
    "# archive.add(r'd:/myfiles')  # d:/myfiles contains the files to compress\n",
    "# archive.close()\n"
   ],
   "metadata": {
    "collapsed": false,
    "pycharm": {
     "name": "#%%\n"
    }
   }
  },
  {
   "cell_type": "code",
   "execution_count": null,
   "outputs": [],
   "source": [
    "import configparser\n",
    "\n",
    "\n",
    "def read_radar_data_dir(config_file_name, config_section_name, config_option_name):\n",
    "    \"\"\"根据配置文件的名称，配置section的名称和配置option的名称获取目标文件夹\"\"\"\n",
    "    global target_directory\n",
    "    cf = configparser.ConfigParser()\n",
    "    # 读配置文件（ini、conf）返回结果是列表\n",
    "    config_file = cf.read(config_file_name, encoding=\"utf-8\")\n",
    "    # 获取读到的所有sections(域)，返回列表类型\n",
    "    config_sections = cf.sections()\n",
    "    for config_section in config_sections:\n",
    "        if config_section == config_section_name:\n",
    "            # 某个域下的所有key，返回列表类型\n",
    "            config_options = cf.options(config_section)\n",
    "            for config_option in config_options:\n",
    "                if config_option == config_option_name:\n",
    "                    # 获取某个域下的key对应的value值\n",
    "                    target_directory = cf.get(config_section, config_option)\n",
    "                    break\n",
    "            break\n",
    "    return target_directory\n"
   ],
   "metadata": {
    "collapsed": false,
    "pycharm": {
     "name": "#%%\n"
    }
   }
  },
  {
   "cell_type": "markdown",
   "source": [
    "## 附：爬虫示例程序"
   ],
   "metadata": {
    "collapsed": false
   }
  }
 ],
 "metadata": {
  "language_info": {
   "codemirror_mode": {
    "name": "ipython",
    "version": 2
   },
   "file_extension": ".py",
   "mimetype": "text/x-python",
   "name": "python",
   "nbconvert_exporter": "python",
   "pygments_lexer": "ipython2",
   "version": "2.7.6"
  },
  "kernelspec": {
   "name": "python3",
   "language": "python",
   "display_name": "Python 3"
  },
  "pycharm": {
   "stem_cell": {
    "cell_type": "raw",
    "source": [],
    "metadata": {
     "collapsed": false
    }
   }
  }
 },
 "nbformat": 4,
 "nbformat_minor": 0
}