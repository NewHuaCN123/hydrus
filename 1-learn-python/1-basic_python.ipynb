{
 "cells": [
  {
   "cell_type": "markdown",
   "metadata": {
    "collapsed": true,
    "pycharm": {
     "name": "#%% md\n"
    }
   },
   "source": [
    "# Python基础\n",
    "\n",
    "Python基础有很多内容，作为非CS专业的想快速上手的同学，没必要从头到尾照本宣科，因此这里主要把握基本内容。\n",
    "\n",
    "这部分结构主要参考了[Python programming guide for Earth Scientists](http://python.hydrology-amsterdam.nl/manuals/hydro_python_manual.pdf)。\n",
    "\n",
    "内容上参考了<https://www.liaoxuefeng.com/wiki/1016959663602400>，但主要是记录一些自己平常见到的，又不同于其他编程语言比如Java的一些特点。\n",
    "\n",
    "思路是这样的：\n",
    "\n",
    "- 首先，所有语言的练习都离不开的基础：安装python，使用IDE；\n",
    "- 其次熟悉基本的语法（变量常量、数据类型、运算、循环for/while、条件if/switch等）；\n",
    "- 接着就是函数及面向对象编程；\n",
    "- 最后基础部分就是熟悉python的内置库，基础库的使用。\n",
    "\n",
    "安装python及IDE就不赘述了，python安装anaconda即可，IDE可以直接使用anaconda自带的IPython或spider，个人推荐VScode和Pycharm社区版。\n",
    "\n",
    "## 基础语法\n",
    "\n",
    "整型、浮点型等特别基础的就不记录了，变量常量里重点记录一些字符串相关的内容。\n",
    "\n",
    "### 字符串\n"
   ]
  },
  {
   "cell_type": "code",
   "execution_count": null,
   "outputs": [],
   "source": [
    "# 数据和字符串转换\n",
    "print(chr(65))\n",
    "print(ord('A'))\n",
    "\n",
    "print(int('2'))\n",
    "print(str(2))\n",
    "\n",
    "\"\"\" 字符串包含\"\"\"\n",
    "string = 'helloworld'\n",
    "if 'world' in string:\n",
    "    print('Exist')\n",
    "else:\n",
    "    print('Not exist')\n",
    "\n",
    "\"\"\"list取值\"\"\"\n",
    "a_list = [1, 2, 3]\n",
    "print(a_list[0])\n",
    "\n",
    "\"\"\"enumerate函数的使用\"\"\"\n",
    "seq = ['one', 'two', 'three']\n",
    "for i, element in enumerate(seq):\n",
    "    print(i, element)\n"
   ],
   "metadata": {
    "collapsed": false,
    "pycharm": {
     "name": "#%%\n"
    }
   }
  },
  {
   "cell_type": "markdown",
   "source": [
    "zfill()函数：Python zfill() 方法返回指定长度的字符串，原字符串右对齐，前面填充0。\n"
   ],
   "metadata": {
    "collapsed": false
   }
  },
  {
   "cell_type": "code",
   "execution_count": 1,
   "outputs": [
    {
     "name": "stdout",
     "text": [
      "00000000this is string example....wow!!!\n000000000000000000this is string example....wow!!!\n"
     ],
     "output_type": "stream"
    }
   ],
   "source": [
    "str = \"this is string example....wow!!!\";\n",
    "\n",
    "print(str.zfill(40))\n",
    "print(str.zfill(50))\n"
   ],
   "metadata": {
    "collapsed": false,
    "pycharm": {
     "name": "#%%\n",
     "is_executing": false
    }
   }
  },
  {
   "cell_type": "markdown",
   "source": [
    "### 基本数据结构\n",
    "\n",
    "python几个最基本的数据结构有：\n",
    "\n",
    "- list：可理解为可变大小的数组，python索引可以为负值，表示倒序。\n",
    "- tuple：和list类似，区别是一经初始化就不能修改。\n",
    "- dict：就是map，使用key-value存储，查找较快。\n",
    "- set：和dict类似，也是一组key的集合，但不存储value，且由于key不能重复，这就意味着set中没有重复的元素。\n"
   ],
   "metadata": {
    "collapsed": false,
    "pycharm": {
     "name": "#%% md\n"
    }
   }
  },
  {
   "cell_type": "code",
   "execution_count": null,
   "outputs": [],
   "source": [
    "# list\n",
    "a=[1,2,3]\n",
    "b=[4,5,6]\n",
    "# list拼接\n",
    "print(a+b)\n"
   ],
   "metadata": {
    "collapsed": false,
    "pycharm": {
     "name": "#%%\n"
    }
   }
  },
  {
   "cell_type": "markdown",
   "source": [
    "### 基础运算\n",
    "\n",
    "这里介绍一些python里面相对特殊的运算符。\n",
    "\n",
    "#### \"~\"运算符\n",
    "\n",
    "按位取反运算符：对数据的每个二进制位取反,即把1变为0,把0变为1 。~x 类似于 -x-1。\n"
   ],
   "metadata": {
    "collapsed": false
   }
  },
  {
   "cell_type": "code",
   "execution_count": 2,
   "outputs": [
    {
     "name": "stdout",
     "text": [
      "-61\n-2\n-1\n"
     ],
     "output_type": "stream"
    }
   ],
   "source": [
    "a = 60  # 60 = 0011 1100\n",
    "c=~a\n",
    "print(c) # -61 = 1100 0011\n",
    "b1=True\n",
    "d1=~b1\n",
    "print(d1)\n",
    "b2=False\n",
    "d2=~b2\n",
    "print(d2)\n"
   ],
   "metadata": {
    "collapsed": false,
    "pycharm": {
     "name": "#%%\n",
     "is_executing": false
    }
   }
  },
  {
   "cell_type": "markdown",
   "source": [
    "#### 一些特别情况\n",
    "\n",
    "计算机的数学运算中会遇到一些平时手算时不会碰到的错误。\n"
   ],
   "metadata": {
    "collapsed": false,
    "pycharm": {
     "name": "#%% md\n"
    }
   }
  },
  {
   "cell_type": "code",
   "source": [
    "# RuntimeWarning: invalid value encountered in double_scalars\n",
    "kss = 0.22917998605606738\n",
    "kg = 0.832161545953715\n",
    "period_num_1d = 24\n",
    "# 开方运算会遇到根式下为负数的情况，会得到复数，如果数据类型是float，那么运算结果会为nan\n",
    "kss_period = (1 - (1 - (kss + kg)) ** (1 / period_num_1d)) / (1 + kg / kss)\n",
    "print(type(kss_period))\n",
    "print(kss_period)\n",
    "\n",
    "# 基本数学运算符中，整除符号是//\n",
    "a = 10\n",
    "b = 5\n",
    "c = a // b\n",
    "print(\"c 的值为：\", c)\n"
   ],
   "metadata": {
    "collapsed": false,
    "pycharm": {
     "name": "#%%\n"
    }
   },
   "execution_count": null,
   "outputs": []
  },
  {
   "cell_type": "markdown",
   "source": [
    "### python的独特语法\n",
    "\n",
    "#### With语句\n",
    "\n",
    "有一些任务，可能事先需要设置，事后做清理工作。对于这种场景，Python的with语句提供了一种非常方便的处理方式。\n",
    "一个很好的例子是文件处理，你需要获取一个文件句柄，从文件中读取数据，然后关闭文件句柄。\n",
    "\n",
    "如果不用with语句，代码如下：\n"
   ],
   "metadata": {
    "collapsed": false,
    "pycharm": {
     "name": "#%% md\n"
    }
   }
  },
  {
   "cell_type": "code",
   "execution_count": null,
   "outputs": [],
   "source": [
    "file = open(\"data.json\")\n",
    "data = file.read()\n",
    "file.close()\n"
   ],
   "metadata": {
    "collapsed": false,
    "pycharm": {
     "name": "#%%\n"
    }
   }
  },
  {
   "cell_type": "markdown",
   "source": [
    "这里有两个问题。一是可能忘记关闭文件句柄；二是文件读取数据发生异常，没有进行任何处理。下面是处理异常的加强版本。\n"
   ],
   "metadata": {
    "collapsed": false
   }
  },
  {
   "cell_type": "code",
   "execution_count": null,
   "outputs": [],
   "source": [
    "file = open(\"data.json\")\n",
    "try:\n",
    "    data = file.read()\n",
    "finally:\n",
    "    file.close()\n",
    "    "
   ],
   "metadata": {
    "collapsed": false,
    "pycharm": {
     "name": "#%% \n"
    }
   }
  },
  {
   "cell_type": "markdown",
   "source": [
    "虽然这段代码运行良好，但是太冗长了。这时候就是with一展身手的时候了。\n",
    "除了有更优雅的语法，with还可以很好的处理上下文环境产生的异常。下面是with版本的代码\n"
   ],
   "metadata": {
    "collapsed": false
   }
  },
  {
   "cell_type": "code",
   "execution_count": null,
   "outputs": [],
   "source": [
    "with open(\"data.json\") as file:\n",
    "    data = file.read()\n"
   ],
   "metadata": {
    "collapsed": false,
    "pycharm": {
     "name": "#%%\n"
    }
   }
  },
  {
   "cell_type": "markdown",
   "source": [
    "with如何工作？\n",
    "\n",
    "Python对with的处理还很聪明。基本思想是with所求值的对象必须有一个__enter__()方法，一个__exit__()方法。\n",
    "\n",
    "紧跟with后面的语句被求值后，返回对象的__enter__()方法被调用，这个方法的返回值将被赋值给as后面的变量。\n",
    "当with后面的代码块全部被执行完之后，将调用前面返回对象的__exit__()方法。\n",
    "\n",
    "## 函数与类\n",
    "\n",
    "函数就是直接编写，在脚本中调用即可，相关内容可参考开头提供的guide文档。这里重点介绍python特别的函数形式以及面向对象的基本内容。\n",
    "\n",
    "### 回调函数"
   ],
   "metadata": {
    "collapsed": false
   }
  },
  {
   "cell_type": "code",
   "execution_count": null,
   "outputs": [],
   "source": [
    "\n",
    "import time\n",
    "\n",
    "\n",
    "def apply_async(func, args, *, callback):\n",
    "    \"\"\"回调函数的应用，python的函数很灵活，可以直接做函数参数\"\"\"\n",
    "    # Compute the result\n",
    "    result = func(*args)\n",
    "\n",
    "    # Invoke the callback with the result\n",
    "    callback(result)\n",
    "\n",
    "\n",
    "def print_result(result):\n",
    "    print('Got:', result)\n",
    "\n",
    "\n",
    "def add(x, y):\n",
    "    return x + y\n",
    "\n",
    "\n",
    "apply_async(add, (2, 3), callback=print_result)\n",
    "\n",
    "apply_async(add, ('hello', 'world'), callback=print_result)\n"
   ],
   "metadata": {
    "collapsed": false,
    "pycharm": {
     "name": "#%%\n"
    }
   }
  },
  {
   "cell_type": "markdown",
   "source": [
    "### 闭包\n",
    "闭包的基本点"
   ],
   "metadata": {
    "collapsed": false
   }
  },
  {
   "cell_type": "code",
   "execution_count": null,
   "outputs": [],
   "source": [
    "def outer():\n",
    "    var = 3\n",
    "\n",
    "    def inner():\n",
    "        print(\"the func is used: var=\" + str(var))\n",
    "\n",
    "    return inner\n",
    "\n",
    "\n",
    "# 以上，函数inner和自有变量var的“引用”共同构成了闭包。var对于inner来说是自由变量。\n",
    "# 在一个内部函数中，对外部作用域的变量进行引用，并且外部函数的返回值为内部函数，那么内部函数就被认为是闭包。\n",
    "outer()  # no print\n",
    "func = outer()\n",
    "func()  # print 3\n",
    "var = 5\n",
    "func()  # print 3\n",
    "\n",
    "# 闭包的作用可以保存当前的运行环境\n",
    "def create(pos=[0, 0]):\n",
    "    def go(direction, step):\n",
    "        new_x = pos[0] + direction[0] * step\n",
    "        new_y = pos[1] + direction[1] * step\n",
    "        pos[0] = new_x\n",
    "        pos[1] = new_y\n",
    "        return pos\n",
    "\n",
    "    return go\n",
    "\n",
    "\n",
    "player = create()\n",
    "print(player([1, 0], 10))\n",
    "print(player([0, 1], 20))\n",
    "print(player([-1, 0], 10))\n",
    "\n"
   ],
   "metadata": {
    "collapsed": false,
    "pycharm": {
     "name": "#%%\n"
    }
   }
  },
  {
   "cell_type": "markdown",
   "source": [
    "### *和_\n",
    "\n",
    "*和_在python语法中十分常见，这里特别总结以下内容说明其常见用途。\n"
   ],
   "metadata": {
    "collapsed": false
   }
  },
  {
   "cell_type": "code",
   "execution_count": null,
   "outputs": [],
   "source": [
    "print(\"--------------------__call__()----------------------------\")\n",
    "\n",
    "\n",
    "# __call__函数的作用\n",
    "# /usr/bin/env python\n",
    "class test:\n",
    "    def __init__(self, a):\n",
    "        self.a = a\n",
    "\n",
    "    def __call__(self, b):\n",
    "        c = self.a + b\n",
    "        print(c)\n",
    "\n",
    "    def display(self):\n",
    "        print(self.a)\n",
    "\n",
    "\n",
    "Test = test(\"This is test!\")\n",
    "Test.display()  # 调用display函数\n",
    "Test(\"##Append something\")  # __call__实际上是将一个类重载了\"()\"，也就是让一个类也可以像一个函数一样可以拿来调用了。因此这里会调用__call__函数\n"
   ],
   "metadata": {
    "collapsed": false,
    "pycharm": {
     "name": "#%%\n"
    }
   }
  },
  {
   "cell_type": "markdown",
   "source": [
    "### classmethod v.s. staticmethod\n",
    "\n",
    "- [ ] classmethod v.s. staticmethod\n",
    "\n",
    "## 基本库的使用\n",
    "\n",
    "基本库的运用可以从这些方面下手：\n",
    "\n",
    "- 数据结构操作\n",
    "- 日期时间表达\n",
    "- 文件读写\n",
    "\n",
    "### 数据结构基本操作\n"
   ],
   "metadata": {
    "collapsed": false
   }
  },
  {
   "cell_type": "code",
   "execution_count": 1,
   "outputs": [
    {
     "name": "stdout",
     "text": [
      "True\nFalse\nFalse\nTrue\nTrue\n21\n4\n4\n"
     ],
     "output_type": "stream"
    },
    {
     "traceback": [
      "\u001b[1;31m---------------------------------------------------------------------------\u001b[0m",
      "\u001b[1;31mNameError\u001b[0m                                 Traceback (most recent call last)",
      "\u001b[1;32m<ipython-input-1-600f1410dc9d>\u001b[0m in \u001b[0;36m<module>\u001b[1;34m\u001b[0m\n\u001b[0;32m     16\u001b[0m \u001b[1;31m# ---------------------时间函数-----------------------------\u001b[0m\u001b[1;33m\u001b[0m\u001b[1;33m\u001b[0m\u001b[1;33m\u001b[0m\u001b[0m\n\u001b[0;32m     17\u001b[0m \u001b[1;31m# time的time函数开始计时的时间戳也是1970纪元，返回的是当前时间的时间戳\u001b[0m\u001b[1;33m\u001b[0m\u001b[1;33m\u001b[0m\u001b[1;33m\u001b[0m\u001b[0m\n\u001b[1;32m---> 18\u001b[1;33m \u001b[0mprint\u001b[0m\u001b[1;33m(\u001b[0m\u001b[1;34m\"time.time(): %f \"\u001b[0m \u001b[1;33m%\u001b[0m \u001b[0mtime\u001b[0m\u001b[1;33m.\u001b[0m\u001b[0mtime\u001b[0m\u001b[1;33m(\u001b[0m\u001b[1;33m)\u001b[0m\u001b[1;33m)\u001b[0m\u001b[1;33m\u001b[0m\u001b[1;33m\u001b[0m\u001b[0m\n\u001b[0m\u001b[0;32m     19\u001b[0m \u001b[0mprint\u001b[0m\u001b[1;33m(\u001b[0m\u001b[0mtime\u001b[0m\u001b[1;33m.\u001b[0m\u001b[0mlocaltime\u001b[0m\u001b[1;33m(\u001b[0m\u001b[0mtime\u001b[0m\u001b[1;33m.\u001b[0m\u001b[0mtime\u001b[0m\u001b[1;33m(\u001b[0m\u001b[1;33m)\u001b[0m\u001b[1;33m)\u001b[0m\u001b[1;33m)\u001b[0m\u001b[1;33m\u001b[0m\u001b[1;33m\u001b[0m\u001b[0m\n\u001b[0;32m     20\u001b[0m \u001b[0mprint\u001b[0m\u001b[1;33m(\u001b[0m\u001b[0mtime\u001b[0m\u001b[1;33m.\u001b[0m\u001b[0masctime\u001b[0m\u001b[1;33m(\u001b[0m\u001b[0mtime\u001b[0m\u001b[1;33m.\u001b[0m\u001b[0mlocaltime\u001b[0m\u001b[1;33m(\u001b[0m\u001b[0mtime\u001b[0m\u001b[1;33m.\u001b[0m\u001b[0mtime\u001b[0m\u001b[1;33m(\u001b[0m\u001b[1;33m)\u001b[0m\u001b[1;33m)\u001b[0m\u001b[1;33m)\u001b[0m\u001b[1;33m)\u001b[0m\u001b[1;33m\u001b[0m\u001b[1;33m\u001b[0m\u001b[0m\n",
      "\u001b[1;31mNameError\u001b[0m: name 'time' is not defined"
     ],
     "ename": "NameError",
     "evalue": "name 'time' is not defined",
     "output_type": "error"
    }
   ],
   "source": [
    "# all()函数\n",
    "print(all(['a', 'b', 'c', 'd']))  # 列表list，元素都不为空或0\n",
    "print(all(['a', 'b', '', 'd']))\n",
    "print(all([0, 1, 2, 3]))\n",
    "print(all([]))\n",
    "print(all(()))\n",
    "\n",
    "# eval()函数\n",
    "x = 7\n",
    "# eval(expression[, globals[, locals]])用来执行一个字符串表达式，并返回表达式的值。\n",
    "print(eval('3*x'))\n",
    "print(eval('2+2'))\n",
    "print(eval('pow(2,2)'))\n"
   ],
   "metadata": {
    "collapsed": false,
    "pycharm": {
     "name": "#%% \n",
     "is_executing": false
    }
   }
  },
  {
   "cell_type": "markdown",
   "source": [
    "### 日期时间\n"
   ],
   "metadata": {
    "collapsed": false
   }
  },
  {
   "cell_type": "code",
   "execution_count": null,
   "outputs": [],
   "source": [
    "# ---------------------时间函数-----------------------------\n",
    "# time的time函数开始计时的时间戳也是1970纪元，返回的是当前时间的时间戳\n",
    "print(\"time.time(): %f \" % time.time())\n",
    "print(time.localtime(time.time()))\n",
    "print(time.asctime(time.localtime(time.time())))\n"
   ],
   "metadata": {
    "collapsed": false,
    "pycharm": {
     "name": "#%%\n"
    }
   }
  },
  {
   "cell_type": "markdown",
   "source": [
    "### IO编程\n",
    "\n",
    "#### 读写json文件\n",
    "\n",
    "json 模块提供了一种很简单的方式来编码和解码JSON数据。 \n",
    "\n",
    "其中两个主要的函数是 json.dumps() 和 json.loads()，要比其他序列化函数库如pickle的接口少得多。\n",
    "\n",
    "下面演示如何将一个Python数据结构转换为JSON\n"
   ],
   "metadata": {
    "collapsed": false,
    "pycharm": {
     "name": "#%% md\n"
    }
   }
  },
  {
   "cell_type": "code",
   "execution_count": 6,
   "outputs": [],
   "source": [
    "import json\n",
    "# 写入json\n",
    "data = {\n",
    "    'name' : 'ACME',\n",
    "    'shares' : 100,\n",
    "    'price' : 542.23\n",
    "}\n",
    "\n",
    "json_str = json.dumps(data)\n",
    "\n",
    "# 读取\n",
    "data = json.loads(json_str)\n"
   ],
   "metadata": {
    "collapsed": false,
    "pycharm": {
     "name": "#%%\n",
     "is_executing": false
    }
   }
  },
  {
   "cell_type": "markdown",
   "source": [
    "如果你要处理的是文件而不是字符串，你可以使用 json.dump() 和 json.load() 来编码和解码JSON数据。例如：\n"
   ],
   "metadata": {
    "collapsed": false
   }
  },
  {
   "cell_type": "code",
   "execution_count": 8,
   "outputs": [],
   "source": [
    "# Writing JSON data（with语句见下文）\n",
    "with open('data.json', 'w') as f:\n",
    "    json.dump(data, f)\n",
    "\n",
    "# Reading data back\n",
    "with open('data.json', 'r') as f:\n",
    "    data = json.load(f)\n"
   ],
   "metadata": {
    "collapsed": false,
    "pycharm": {
     "name": "#%%\n",
     "is_executing": false
    }
   }
  },
  {
   "cell_type": "markdown",
   "source": [
    "JSON编码支持的基本数据类型为 None ， bool ， int ， float 和 str ， 以及包含这些类型数据的lists，tuples和dictionaries。\n",
    "\n",
    "对于dictionaries，keys需要是字符串类型(字典中任何非字符串类型的key在编码时会先转换为字符串)。\n",
    "\n",
    "为了遵循JSON规范，你应该只编码Python的lists和dictionaries。 而且，在web应用程序中，顶层对象被编码为一个字典是一个标准做法。\n",
    "\n",
    "在编码JSON的时候，还有一些选项很有用。 如果你想获得漂亮的格式化字符串后输出，可以使用 json.dumps() 的indent参数。 它会使得输出和pprint()函数效果类似。\n"
   ],
   "metadata": {
    "collapsed": false,
    "pycharm": {
     "name": "#%% md\n"
    }
   }
  },
  {
   "cell_type": "code",
   "execution_count": 9,
   "outputs": [
    {
     "name": "stdout",
     "text": [
      "{\"name\": \"ACME\", \"shares\": 100, \"price\": 542.23}\n{\n    \"name\": \"ACME\",\n    \"shares\": 100,\n    \"price\": 542.23\n}\n"
     ],
     "output_type": "stream"
    }
   ],
   "source": [
    "print(json.dumps(data))\n",
    "print(json.dumps(data, indent=4))\n"
   ],
   "metadata": {
    "collapsed": false,
    "pycharm": {
     "name": "#%%\n",
     "is_executing": false
    }
   }
  },
  {
   "cell_type": "markdown",
   "source": [
    "#### netcdf文件\n",
    "\n",
    "关于netcdf的介绍，参考[netcdf-intro](netcdf-intro.md)。\n",
    "\n",
    "NAME\n",
    "    NetCDF with Python\n",
    "PURPOSE\n",
    "    To demonstrate how to read and write data with NetCDF files using\n",
    "    a NetCDF file from the NCEP/NCAR Reanalysis.\n",
    "    Plotting using Matplotlib and Basemap is also shown.\n",
    "PROGRAMMER(S)\n",
    "    Chris Slocum\n",
    "    Owenyy修改\n",
    "REVISION HISTORY\n",
    "    20140320 -- Initial version created and posted online\n",
    "    20140722 -- Added basic error handling to ncdump\n",
    "                Thanks to K.-Michael Aye for highlighting the issue\n",
    "    20190505 -- basemap2020年断更，新的绘图包使用cartopy\n",
    "REFERENCES\n",
    "    netcdf4-python -- http://code.google.com/p/netcdf4-python/\n",
    "    NCEP/NCAR Reanalysis -- Kalnay et al. 1996\n",
    "        http://dx.doi.org/10.1175/1520-0477(1996)077<0437:TNYRP>2.0.CO;2\n"
   ],
   "metadata": {
    "collapsed": false
   }
  },
  {
   "cell_type": "code",
   "execution_count": null,
   "outputs": [],
   "source": [
    "import datetime as dt  # Python standard library datetime  module\n",
    "import numpy as np\n",
    "from netCDF4 import Dataset  # http://code.google.com/p/netcdf4-python/\n",
    "import matplotlib.pyplot as plt\n",
    "import cartopy.crs as ccrs\n",
    "import cartopy.feature as cfeature\n",
    "\n",
    "\n",
    "def ncdump(nc_fid, verb=True):\n",
    "    '''\n",
    "    ncdump outputs dimensions, variables and their attribute information.\n",
    "    The information is similar to that of NCAR's ncdump utility.\n",
    "    ncdump requires a valid instance of Dataset.\n",
    "\n",
    "    Parameters\n",
    "    ----------\n",
    "    nc_fid : netCDF4.Dataset\n",
    "        A netCDF4 dateset object\n",
    "    verb : Boolean\n",
    "        whether or not nc_attrs, nc_dims, and nc_vars are printed\n",
    "\n",
    "    Returns\n",
    "    -------\n",
    "    nc_attrs : list\n",
    "        A Python list of the NetCDF file global attributes\n",
    "    nc_dims : list\n",
    "        A Python list of the NetCDF file dimensions\n",
    "    nc_vars : list\n",
    "        A Python list of the NetCDF file variables\n",
    "    '''\n",
    "\n",
    "    def print_ncattr(key):\n",
    "        \"\"\"\n",
    "        Prints the NetCDF file attributes for a given key\n",
    "\n",
    "        Parameters\n",
    "        ----------\n",
    "        key : unicode\n",
    "            a valid netCDF4.Dataset.variables key\n",
    "        \"\"\"\n",
    "        try:\n",
    "            print(\"\\t\\ttype:\", repr(nc_fid.variables[key].dtype))\n",
    "            for ncattr in nc_fid.variables[key].ncattrs():\n",
    "                print('\\t\\t%s:' % ncattr, \\\n",
    "                      repr(nc_fid.variables[key].getncattr(ncattr)))\n",
    "        except KeyError:\n",
    "            print(\"\\t\\tWARNING: %s does not contain variable attributes\" % key)\n",
    "\n",
    "    # NetCDF global attributes\n",
    "    nc_attrs = nc_fid.ncattrs()\n",
    "    if verb:\n",
    "        print(\"NetCDF Global Attributes:\")\n",
    "        for nc_attr in nc_attrs:\n",
    "            print('\\t%s:' % nc_attr, repr(nc_fid.getncattr(nc_attr)))\n",
    "    nc_dims = [dim for dim in nc_fid.dimensions]  # list of nc dimensions\n",
    "    # Dimension shape information.\n",
    "    if verb:\n",
    "        print(\"NetCDF dimension information:\")\n",
    "        for dim in nc_dims:\n",
    "            print(\"\\tName:\", dim)\n",
    "            print(\"\\t\\tsize:\", len(nc_fid.dimensions[dim]))\n",
    "            print_ncattr(dim)\n",
    "    # Variable information.\n",
    "    nc_vars = [var for var in nc_fid.variables]  # list of nc variables\n",
    "    if verb:\n",
    "        print(\"NetCDF variable information:\")\n",
    "        for var in nc_vars:\n",
    "            if var not in nc_dims:\n",
    "                print('\\tName:', var)\n",
    "                print(\"\\t\\tdimensions:\", nc_fid.variables[var].dimensions)\n",
    "                print(\"\\t\\tsize:\", nc_fid.variables[var].size)\n",
    "                print_ncattr(var)\n",
    "    return nc_attrs, nc_dims, nc_vars\n",
    "\n",
    "\n",
    "# 读取nc文件的步骤一般是先创建一个Datase对象\n",
    "nc_fid = Dataset('./air.sig995.2012.nc')  # Dataset is the class behavior to open the file\n",
    "print(nc_fid)\n",
    "# and create an instance of the ncCDF4 class，显示数据的全局属性、维度和变量信息\n",
    "nc_attrs, nc_dims, nc_vars = ncdump(nc_fid)\n",
    "# Extract data from NetCDF file\n",
    "lats = nc_fid.variables['lat'][:]  # extract/copy the data\n",
    "lons = nc_fid.variables['lon'][:]\n",
    "time = nc_fid.variables['time'][:]\n",
    "air = nc_fid.variables['air'][:]  # shape is time, lat, lon as shown above\n",
    "\n",
    "# Python and NCEP reanalysis Daily Averages的数据集 are slightly off in time， so this fixes that problem\n",
    "offset = dt.timedelta(hours=48)\n",
    "# List of all times in the file as datetime objects，这里time的时间表示是与1-1-1 00:00:0.0的小时差\n",
    "dt_time = [dt.date(1, 1, 1) + dt.timedelta(hours=t) - offset for t in time]\n",
    "time_idx = 237  # some random day in 2012，随意选一天。\n",
    "cur_time = dt_time[time_idx]\n",
    "\n",
    "# Plot of global temperature on our random day\n",
    "fig = plt.figure()\n",
    "fig.subplots_adjust(left=0., right=1., bottom=0., top=0.9)\n",
    "# 首先构建一个map对象，给定它投影以及一些特征，在cartopy中使用axes\n",
    "ax = plt.axes(projection=ccrs.Mollweide(180))\n",
    "# 绘制coastlines（各大洲的边界线）和borders（国家的边界）\n",
    "ax.add_feature(cfeature.COASTLINE)\n",
    "ax.add_feature(cfeature.BORDERS)\n",
    "air_cyclic = air[time_idx, :, :]\n",
    "# transform 和 projection易混。核心概念是坐标轴的projection独立于数据定义的坐标系。\n",
    "# 当画图并决定最终的图像的投影时，使用projection参数；而transform参数是告诉Cartopy数据是用什么坐标系定义的。\n",
    "# data defined on a regular latitude/longitude grid 的坐标系是PlateCarree（普通的线性投影）\n",
    "# 当没有提供transform参数时，默认的是假设坐标系与投影相匹配。\n",
    "# 最安全的做法是不管最后的projection是什么，都指定transform参数，这样可选任意的projection以显示数据\n",
    "# cmap参数指定colormap的颜色\n",
    "cs = plt.contourf(lons, lats, air_cyclic, 11, cmap=plt.cm.Spectral_r, transform=ccrs.PlateCarree())\n",
    "# 增加彩色条状图显示颜色对应的数值范围\n",
    "cbar = plt.colorbar(cs, orientation='horizontal', shrink=0.5)\n",
    "cbar.set_label(\"%s (%s)\" % (nc_fid.variables['air'].var_desc, nc_fid.variables['air'].units))\n",
    "# 添加标题，包括数据信息和日期\n",
    "plt.title(\"%s on %s\" % (nc_fid.variables['air'].var_desc, cur_time))\n",
    "\n",
    "# Writing NetCDF files\n",
    "# For this example, we will create two NetCDF4 files. One with the global air\n",
    "# temperature departure from its value at Darwin, Australia. The other with\n",
    "# the temperature profile for the entire year at Darwin.\n",
    "darwin = {'name': 'Darwin, Australia', 'lat': -12.45, 'lon': 130.83}\n",
    "\n",
    "# Find the nearest latitude and longitude for Darwin\n",
    "lat_idx = np.abs(lats - darwin['lat']).argmin()\n",
    "lon_idx = np.abs(lons - darwin['lon']).argmin()\n",
    "\n",
    "# Simple example: temperature profile for the entire year at Darwin.\n",
    "# Open a new NetCDF file to write the data to. For format, you can choose from\n",
    "# 'NETCDF3_CLASSIC', 'NETCDF3_64BIT', 'NETCDF4_CLASSIC', and 'NETCDF4'\n",
    "# 参数mode='w'表示是“写”netcdf文件的模式\n",
    "w_nc_fid = Dataset('darwin_2012.nc', 'w', format='NETCDF4')\n",
    "# 创建的w_nc_fid是空的，没有信息，先给其增加描述信息，这里使用的是之前读取的netcdf数据的信息\n",
    "w_nc_fid.description = \"NCEP/NCAR Reanalysis %s from its value at %s. %s\" % (nc_fid.variables['air'].var_desc.lower(), \\\n",
    "                                                                             darwin['name'], nc_fid.description)\n",
    "# Using our previous dimension info, we can create the new time dimension。创建维度信息\n",
    "# Even though we know the size, we are going to set the size to unknown\n",
    "w_nc_fid.createDimension('time', None)\n",
    "# 创建变量信息，包括变量名称、变量数据类型，坐标变量。返回的是Variable变量\n",
    "w_nc_dim = w_nc_fid.createVariable('time', nc_fid.variables['time'].dtype, ('time',))\n",
    "# 设置全局属性，包括units、long_name等。You can do this step yourself but 前面的数据里已经有相关信息了.\n",
    "for ncattr in nc_fid.variables['time'].ncattrs():\n",
    "    w_nc_dim.setncattr(ncattr, nc_fid.variables['time'].getncattr(ncattr))\n",
    "# Assign the dimension data to the new NetCDF file.\n",
    "w_nc_fid.variables['time'][:] = time\n",
    "# 添加一个air变量，其数据类型是float64，坐标变量也是time\n",
    "w_nc_var = w_nc_fid.createVariable('air', 'f8', ('time'))\n",
    "# 手动设置全局属性如下，u应该表示的是编码格式\n",
    "w_nc_var.setncatts({'long_name': u\"mean Daily Air temperature\", 'units': u\"degK\", 'level_desc': u'Surface', \\\n",
    "                    'var_desc': u\"Air temperature\", 'statistic': u'Mean\\nM'})\n",
    "# 数据使用之前读取的数据放入到当前的netcdf对象中\n",
    "w_nc_fid.variables['air'][:] = air[time_idx, lat_idx, lon_idx]\n",
    "w_nc_fid.close()  # close the new file\n",
    "\n",
    "# A plot of the temperature profile for Darwin in 2012\n",
    "fig = plt.figure()\n",
    "# c表示color颜色，r是红色，b是蓝色，先绘出固定坐标所有dt_time时间的数据\n",
    "plt.plot(dt_time, air[:, lat_idx, lon_idx], c='r')\n",
    "# marker是点的标记形式，绘出这一点\n",
    "plt.plot(dt_time[time_idx], air[time_idx, lat_idx, lon_idx], c='b', marker='o')\n",
    "# ha是让点的横坐标数据cur_time显示在点的右侧，默认是左侧\n",
    "plt.text(dt_time[time_idx], air[time_idx, lat_idx, lon_idx], cur_time, ha='right')\n",
    "# 害怕横坐标刻度的数据显示重叠，因此让横坐标的刻度倾斜\n",
    "fig.autofmt_xdate()\n",
    "plt.ylabel(\"%s (%s)\" % (nc_fid.variables['air'].var_desc, nc_fid.variables['air'].units))\n",
    "plt.xlabel(\"Time\")\n",
    "plt.title(\"%s from\\n%s for %s\" % (nc_fid.variables['air'].var_desc, darwin['name'], cur_time.year))\n",
    "\n",
    "# Complex example: global temperature departure from its value at Darwin\n",
    "departure = air[:, :, :] - air[:, lat_idx, lon_idx].reshape((time.shape[0], 1, 1))\n",
    "\n",
    "# Open a new NetCDF file to write the data to. For format, you can choose from\n",
    "# 'NETCDF3_CLASSIC', 'NETCDF3_64BIT', 'NETCDF4_CLASSIC', and 'NETCDF4'\n",
    "w_nc_fid = Dataset('air.departure.sig995.2012.nc', 'w', format='NETCDF4')\n",
    "w_nc_fid.description = \"The departure of the NCEP/NCAR Reanalysis %s from its value at %s. %s\" % \\\n",
    "                       (nc_fid.variables['air'].var_desc.lower(), darwin['name'], nc_fid.description)\n",
    "# 创建多维度。Using our previous dimension information, we can create the new dimensions\n",
    "data = {}\n",
    "for dim in nc_dims:\n",
    "    w_nc_fid.createDimension(dim, nc_fid.variables[dim].size)\n",
    "    data[dim] = w_nc_fid.createVariable(dim, nc_fid.variables[dim].dtype, \\\n",
    "                                        (dim,))\n",
    "    # You can do this step yourself but someone else did the work for us.\n",
    "    for ncattr in nc_fid.variables[dim].ncattrs():\n",
    "        data[dim].setncattr(ncattr, nc_fid.variables[dim].getncattr(ncattr))\n",
    "# Assign the dimension data to the new NetCDF file.\n",
    "w_nc_fid.variables['time'][:] = time\n",
    "w_nc_fid.variables['lat'][:] = lats\n",
    "w_nc_fid.variables['lon'][:] = lons\n",
    "\n",
    "# Ok, time to create our departure variable\n",
    "w_nc_var = w_nc_fid.createVariable('air_dep', 'f8', ('time', 'lat', 'lon'))\n",
    "w_nc_var.setncatts({'long_name': u\"mean Daily Air temperature departure\", \\\n",
    "                    'units': u\"degK\", 'level_desc': u'Surface', \\\n",
    "                    'var_desc': u\"Air temperature departure\", \\\n",
    "                    'statistic': u'Mean\\nM'})\n",
    "w_nc_fid.variables['air_dep'][:] = departure\n",
    "w_nc_fid.close()  # close the new file\n",
    "\n",
    "# Rounded maximum absolute value of the departure used for contouring\n",
    "max_dep = np.round(np.abs(departure[time_idx, :, :]).max() + 5., decimals=-1)\n",
    "\n",
    "# Generate a figure of the departure for a single day\n",
    "fig = plt.figure()\n",
    "fig.subplots_adjust(left=0., right=1., bottom=0., top=0.9)\n",
    "ax = plt.axes(projection=ccrs.Mollweide(180))\n",
    "# 绘制coastlines（各大洲的边界线）和borders\n",
    "ax.add_feature(cfeature.COASTLINE)\n",
    "ax.add_feature(cfeature.BORDERS)\n",
    "\n",
    "dep_cyclic = departure[time_idx, :, :]\n",
    "levels = np.linspace(-max_dep, max_dep, 11)\n",
    "cs = plt.contourf(lons, lats, dep_cyclic, levels=levels, cmap=plt.cm.bwr, transform=ccrs.PlateCarree())\n",
    "x, y = darwin['lon'], darwin['lat']\n",
    "# 点如果直接用plt画，没法设置transform，会导致显示的坐标不正确，因此用ax。\n",
    "ax.plot(x, y, c='c', marker='o', transform=ccrs.PlateCarree())\n",
    "ax.text(x, y, 'Darwin,\\nAustralia', color='r', weight='semibold', transform=ccrs.PlateCarree())\n",
    "cbar = plt.colorbar(cs, orientation='horizontal', shrink=0.5)\n",
    "cbar.set_label(\"%s departure (%s)\" % (nc_fid.variables['air'].var_desc, nc_fid.variables['air'].units))\n",
    "plt.title(\"Departure of Global %s from\\n%s for %s\" % (nc_fid.variables['air'].var_desc, darwin['name'], cur_time))\n",
    "plt.show()\n",
    "\n",
    "# Close original NetCDF file.\n",
    "nc_fid.close()\n"
   ],
   "metadata": {
    "collapsed": false,
    "pycharm": {
     "name": "#%%\n"
    }
   }
  },
  {
   "cell_type": "markdown",
   "source": [
    "### 调用R程序\n",
    "\n",
    "水文水资源中有很多程序是R语言编写的，相关内容可参考文献：[Using R in hydrology](https://doi.org/10.5194/hess-23-2939-2019)，所以能调用R程序也是一个十分重要的基础技术。\n",
    "\n",
    "在python中调用R语言的最常用的方式就是利用rpy2库。\n",
    "\n",
    "#### 安装rpy2\n",
    "rpy2是一个支持在python环境下调用R的库。是RPy1.x的更新版本。官网说明可以使用pip安装rpy2。\n",
    "\n",
    "``` code\n",
    "pip install rpy2\n",
    "```\n",
    "\n",
    "个人在使用上述方法安装时报错，怀疑是R的环境变量没有配置导致的，因此配置了R的环境。但是仍然报错，再次网上搜索]找到了[另一种安装方式](https://www.jianshu.com/p/0849c8f402c6)：\n",
    "\n",
    "``` code\n",
    "conda install -c r rpy2\n",
    "```\n",
    "\n",
    "尝试之后，安装成功。之后进行测试。不过运行官网的测试程序依然报错（可能是因为我下载的是2.9版本的，而2.9版的文档还没完成），但是查找rpy2的包，已经存在。\n",
    "\n",
    "运行下列最基本代码也没问题。因此尝试直接运行robjects下的tests.py的程序。有如下报错：\n"
   ],
   "metadata": {
    "collapsed": false,
    "pycharm": {
     "name": "#%% md\n"
    }
   }
  },
  {
   "cell_type": "code",
   "execution_count": 5,
   "outputs": [
    {
     "name": "stdout",
     "text": [
      "2.9.4\n"
     ],
     "output_type": "stream"
    }
   ],
   "source": [
    "import rpy2\n",
    "print(rpy2.__version__)\n"
   ],
   "metadata": {
    "collapsed": false,
    "pycharm": {
     "name": "#%%\n",
     "is_executing": false
    }
   }
  },
  {
   "cell_type": "markdown",
   "source": [
    "``` python\n",
    "C:\\Users\\hust2\\Anaconda3\\lib\\site-packages\\rpy2\\robjects\\packages.py:347: UserWarning: The symbol 'quartz' is not in this R namespace/package.\n",
    "  warnings.warn(\"The symbol '%s' is not in this R namespace/package.\" % name)\n",
    "```\n",
    "\n",
    "因此，在命令行终端里，输入R，进入R环境，然后键入如下代码安装quartz库。\n",
    "\n",
    "``` R\n",
    "install.packages(\"quartz\")\n",
    "```\n",
    "\n",
    "但是我是在VS2017下安装的R语言，因此默认的是新版本的R 3.6.1。该版本中没有quartz包。\n",
    "\n",
    "因此，先搁置。继续往下看官网内容。\n",
    "\n",
    "#### 基本内容\n",
    "\n",
    "rpy2下有几个基本的文件夹。\n",
    "\n",
    "- rpy2.rinterface：Low-level interface to R, 追求速度和灵活性时更多地使用. Close to R’s C-level API.\n",
    "- rpy2.robjects：High-level interface, 简易上手. Should be the right pick for casual and general use. Based on the previous one.\n",
    "- rpy2.interactive：High-level interface, 主要针对interactive work. Largely based on rpy2.robjects.\n",
    "- rpy2.rpy_classic：High-level interface similar to the one in RPy-1.x. 为了兼容性, as well as to facilitate the migration to RPy2.\n",
    "- rpy2.rlike：Data structures and functions to mimic some of R’s features and specificities in pure Python (no embedded R process).\n"
   ],
   "metadata": {
    "collapsed": false,
    "pycharm": {
     "name": "#%% md\n"
    }
   }
  },
  {
   "cell_type": "code",
   "execution_count": 7,
   "outputs": [
    {
     "name": "stdout",
     "text": [
      "('3', '6.0', '', 76424)\n"
     ],
     "output_type": "stream"
    }
   ],
   "source": [
    "from rpy2.rinterface import R_VERSION_BUILD\n",
    "print(R_VERSION_BUILD)\n",
    "import rpy2.robjects as robjects\n"
   ],
   "metadata": {
    "collapsed": false,
    "pycharm": {
     "name": "#%%\n",
     "is_executing": false
    }
   }
  },
  {
   "cell_type": "markdown",
   "source": [
    "接下来是一些基操。\n"
   ],
   "metadata": {
    "collapsed": false
   }
  },
  {
   "cell_type": "code",
   "execution_count": 16,
   "outputs": [
    {
     "name": "stdout",
     "text": [
      "3.141592653589793\n6\n3:1\n"
     ],
     "output_type": "stream"
    }
   ],
   "source": [
    "from rpy2.robjects.packages import importr\n",
    "# import R's \"base\" package\n",
    "base = importr('base')\n",
    "\n",
    "# import R's \"utils\" package\n",
    "utils = importr('utils')\n",
    "# R的object\n",
    "pi = robjects.r['pi']\n",
    "print(pi[0])\n",
    "\n",
    "# 调用R函数\n",
    "rsum = robjects.r['sum']\n",
    "print(rsum(robjects.IntVector([1,2,3]))[0])\n",
    "\n",
    "rsort = robjects.r['sort']\n",
    "res = rsort(robjects.IntVector([1,2,3]), decreasing=True)\n",
    "print(res.r_repr())"
   ],
   "metadata": {
    "collapsed": false,
    "pycharm": {
     "name": "#%%\n",
     "is_executing": false
    }
   }
  }
 ],
 "metadata": {
  "language_info": {
   "codemirror_mode": {
    "name": "ipython",
    "version": 2
   },
   "file_extension": ".py",
   "mimetype": "text/x-python",
   "name": "python",
   "nbconvert_exporter": "python",
   "pygments_lexer": "ipython2",
   "version": "2.7.6"
  },
  "kernelspec": {
   "name": "python3",
   "language": "python",
   "display_name": "Python 3"
  },
  "pycharm": {
   "stem_cell": {
    "cell_type": "raw",
    "source": [],
    "metadata": {
     "collapsed": false
    }
   }
  }
 },
 "nbformat": 4,
 "nbformat_minor": 0
}