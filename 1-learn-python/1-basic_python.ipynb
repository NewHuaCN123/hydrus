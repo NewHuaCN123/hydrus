{
 "cells": [
  {
   "cell_type": "markdown",
   "metadata": {
    "collapsed": true,
    "pycharm": {
     "name": "#%% md\n"
    }
   },
   "source": [
    "# Python基础\n",
    "\n",
    "## python基本数据结构"
   ]
  },
  {
   "cell_type": "code",
   "execution_count": null,
   "outputs": [],
   "source": [
    "# 数据和字符串转换\n",
    "print(chr(65))\n",
    "print(ord('A'))\n",
    "\n",
    "print(int('2'))\n",
    "print(str(2))\n",
    "\n",
    "\"\"\" 字符串包含\"\"\"\n",
    "string = 'helloworld'\n",
    "if 'world' in string:\n",
    "    print('Exist')\n",
    "else:\n",
    "    print('Not exist')\n",
    "\n",
    "\"\"\"list取值\"\"\"\n",
    "a_list = [1, 2, 3]\n",
    "print(a_list[0])\n",
    "\n",
    "\"\"\"enumerate函数的使用\"\"\"\n",
    "seq = ['one', 'two', 'three']\n",
    "for i, element in enumerate(seq):\n",
    "    print(i, element)"
   ],
   "metadata": {
    "collapsed": false,
    "pycharm": {
     "name": "#%%\n"
    }
   }
  },
  {
   "cell_type": "markdown",
   "source": [
    "## Python基础运算"
   ],
   "metadata": {
    "collapsed": false
   }
  },
  {
   "cell_type": "code",
   "source": [
    "\"\"\"数学运算中常遇的一些错误\"\"\"\n",
    "# RuntimeWarning: invalid value encountered in double_scalars\n",
    "kss = 0.22917998605606738\n",
    "kg = 0.832161545953715\n",
    "period_num_1d = 24\n",
    "# 开方运算会遇到根式下为负数的情况，会得到复数，如果数据类型是float，那么运算结果会为nan\n",
    "kss_period = (1 - (1 - (kss + kg)) ** (1 / period_num_1d)) / (1 + kg / kss)\n",
    "print(type(kss_period))\n",
    "print(kss_period)\n",
    "\n",
    "# 基本数学运算符中，整除符号是//\n",
    "a = 10\n",
    "b = 5\n",
    "c = a // b\n",
    "print(\"c 的值为：\", c)\n"
   ],
   "metadata": {
    "collapsed": false,
    "pycharm": {
     "name": "#%%\n"
    }
   },
   "execution_count": null,
   "outputs": []
  },
  {
   "cell_type": "markdown",
   "source": [
    "## python常用基本函数\n"
   ],
   "metadata": {
    "collapsed": false,
    "pycharm": {
     "name": "#%% md\n"
    }
   }
  },
  {
   "cell_type": "code",
   "execution_count": null,
   "outputs": [],
   "source": [
    "# ------------all()函数----------------\n",
    "\n",
    "print(all(['a', 'b', 'c', 'd']))  # 列表list，元素都不为空或0\n",
    "print(all(['a', 'b', '', 'd']))\n",
    "print(all([0, 1, 2, 3]))\n",
    "print(all([]))\n",
    "print(all(()))\n",
    "\n",
    "# ------------------eval()函数-----------------------\n",
    "x = 7\n",
    "# eval(expression[, globals[, locals]])用来执行一个字符串表达式，并返回表达式的值。\n",
    "print(eval('3*x'))\n",
    "print(eval('2+2'))\n",
    "print(eval('pow(2,2)'))\n",
    "\n",
    "# ---------------------时间函数-----------------------------\n",
    "# time的time函数开始计时的时间戳也是1970纪元，返回的是当前时间的时间戳\n",
    "print(\"time.time(): %f \" % time.time())\n",
    "print(time.localtime(time.time()))\n",
    "print(time.asctime(time.localtime(time.time())))\n"
   ],
   "metadata": {
    "collapsed": false,
    "pycharm": {
     "name": "#%% \n"
    }
   }
  },
  {
   "cell_type": "markdown",
   "source": [
    "## python测试"
   ],
   "metadata": {
    "collapsed": false,
    "pycharm": {
     "name": "#%% md\n"
    }
   }
  },
  {
   "cell_type": "code",
   "execution_count": null,
   "outputs": [],
   "source": [
    "import inc_dec    # The code to test\n",
    "\n",
    "\n",
    "def test_increment():\n",
    "    assert inc_dec.increment(3) == 4\n",
    "\n",
    "\n",
    "def test_decrement():\n",
    "    assert inc_dec.decrement(3) == 2\n"
   ],
   "metadata": {
    "collapsed": false,
    "pycharm": {
     "name": "#%%\n"
    }
   }
  }
 ],
 "metadata": {
  "language_info": {
   "codemirror_mode": {
    "name": "ipython",
    "version": 2
   },
   "file_extension": ".py",
   "mimetype": "text/x-python",
   "name": "python",
   "nbconvert_exporter": "python",
   "pygments_lexer": "ipython2",
   "version": "2.7.6"
  },
  "kernelspec": {
   "name": "python3",
   "language": "python",
   "display_name": "Python 3"
  },
  "pycharm": {
   "stem_cell": {
    "cell_type": "raw",
    "source": [],
    "metadata": {
     "collapsed": false
    }
   }
  }
 },
 "nbformat": 4,
 "nbformat_minor": 0
}