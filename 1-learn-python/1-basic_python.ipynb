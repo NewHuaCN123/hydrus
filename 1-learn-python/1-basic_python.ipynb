{
 "cells": [
  {
   "cell_type": "markdown",
   "metadata": {
    "collapsed": true,
    "pycharm": {
     "name": "#%% md\n"
    }
   },
   "source": [
    "# Python基础\n",
    "\n",
    "## python基本数据结构"
   ]
  },
  {
   "cell_type": "code",
   "execution_count": null,
   "outputs": [],
   "source": [
    "# 数据和字符串转换\n",
    "print(chr(65))\n",
    "print(ord('A'))\n",
    "\n",
    "print(int('2'))\n",
    "print(str(2))\n",
    "\n",
    "\"\"\" 字符串包含\"\"\"\n",
    "string = 'helloworld'\n",
    "if 'world' in string:\n",
    "    print('Exist')\n",
    "else:\n",
    "    print('Not exist')\n",
    "\n",
    "\"\"\"list取值\"\"\"\n",
    "a_list = [1, 2, 3]\n",
    "print(a_list[0])\n",
    "\n",
    "\"\"\"enumerate函数的使用\"\"\"\n",
    "seq = ['one', 'two', 'three']\n",
    "for i, element in enumerate(seq):\n",
    "    print(i, element)"
   ],
   "metadata": {
    "collapsed": false,
    "pycharm": {
     "name": "#%%\n"
    }
   }
  },
  {
   "cell_type": "markdown",
   "source": [
    "## Python基础运算"
   ],
   "metadata": {
    "collapsed": false
   }
  },
  {
   "cell_type": "code",
   "source": [
    "\"\"\"数学运算中常遇的一些错误\"\"\"\n",
    "# RuntimeWarning: invalid value encountered in double_scalars\n",
    "kss = 0.22917998605606738\n",
    "kg = 0.832161545953715\n",
    "period_num_1d = 24\n",
    "# 开方运算会遇到根式下为负数的情况，会得到复数，如果数据类型是float，那么运算结果会为nan\n",
    "kss_period = (1 - (1 - (kss + kg)) ** (1 / period_num_1d)) / (1 + kg / kss)\n",
    "print(type(kss_period))\n",
    "print(kss_period)\n",
    "\n",
    "# 基本数学运算符中，整除符号是//\n",
    "a = 10\n",
    "b = 5\n",
    "c = a // b\n",
    "print(\"c 的值为：\", c)\n"
   ],
   "metadata": {
    "collapsed": false,
    "pycharm": {
     "name": "#%%\n"
    }
   },
   "execution_count": null,
   "outputs": []
  },
  {
   "cell_type": "markdown",
   "source": [
    "## python常用基本函数\n"
   ],
   "metadata": {
    "collapsed": false,
    "pycharm": {
     "name": "#%% md\n"
    }
   }
  },
  {
   "cell_type": "code",
   "execution_count": null,
   "outputs": [],
   "source": [
    "# ------------all()函数----------------\n",
    "\n",
    "print(all(['a', 'b', 'c', 'd']))  # 列表list，元素都不为空或0\n",
    "print(all(['a', 'b', '', 'd']))\n",
    "print(all([0, 1, 2, 3]))\n",
    "print(all([]))\n",
    "print(all(()))\n",
    "\n",
    "# ------------------eval()函数-----------------------\n",
    "x = 7\n",
    "# eval(expression[, globals[, locals]])用来执行一个字符串表达式，并返回表达式的值。\n",
    "print(eval('3*x'))\n",
    "print(eval('2+2'))\n",
    "print(eval('pow(2,2)'))\n",
    "\n",
    "# ---------------------时间函数-----------------------------\n",
    "# time的time函数开始计时的时间戳也是1970纪元，返回的是当前时间的时间戳\n",
    "print(\"time.time(): %f \" % time.time())\n",
    "print(time.localtime(time.time()))\n",
    "print(time.asctime(time.localtime(time.time())))\n"
   ],
   "metadata": {
    "collapsed": false,
    "pycharm": {
     "name": "#%% \n"
    }
   }
  },
  {
   "cell_type": "markdown",
   "source": [
    "## 读写json文件\n",
    "json 模块提供了一种很简单的方式来编码和解码JSON数据。 \n",
    "\n",
    "其中两个主要的函数是 json.dumps() 和 json.loads()，要比其他序列化函数库如pickle的接口少得多。\n",
    "\n",
    "下面演示如何将一个Python数据结构转换为JSON\n"
   ],
   "metadata": {
    "collapsed": false,
    "pycharm": {
     "name": "#%% md\n"
    }
   }
  },
  {
   "cell_type": "code",
   "execution_count": 6,
   "outputs": [],
   "source": [
    "import json\n",
    "# 写入json\n",
    "data = {\n",
    "    'name' : 'ACME',\n",
    "    'shares' : 100,\n",
    "    'price' : 542.23\n",
    "}\n",
    "\n",
    "json_str = json.dumps(data)\n",
    "\n",
    "# 读取\n",
    "data = json.loads(json_str)\n"
   ],
   "metadata": {
    "collapsed": false,
    "pycharm": {
     "name": "#%%\n",
     "is_executing": false
    }
   }
  },
  {
   "cell_type": "markdown",
   "source": [
    "如果你要处理的是文件而不是字符串，你可以使用 json.dump() 和 json.load() 来编码和解码JSON数据。例如：\n"
   ],
   "metadata": {
    "collapsed": false
   }
  },
  {
   "cell_type": "code",
   "execution_count": 8,
   "outputs": [],
   "source": [
    "# Writing JSON data（with语句见下文）\n",
    "with open('data.json', 'w') as f:\n",
    "    json.dump(data, f)\n",
    "\n",
    "# Reading data back\n",
    "with open('data.json', 'r') as f:\n",
    "    data = json.load(f)\n"
   ],
   "metadata": {
    "collapsed": false,
    "pycharm": {
     "name": "#%%\n",
     "is_executing": false
    }
   }
  },
  {
   "cell_type": "markdown",
   "source": [
    "JSON编码支持的基本数据类型为 None ， bool ， int ， float 和 str ， 以及包含这些类型数据的lists，tuples和dictionaries。\n",
    "\n",
    "对于dictionaries，keys需要是字符串类型(字典中任何非字符串类型的key在编码时会先转换为字符串)。\n",
    "\n",
    "为了遵循JSON规范，你应该只编码Python的lists和dictionaries。 而且，在web应用程序中，顶层对象被编码为一个字典是一个标准做法。\n",
    "\n",
    "在编码JSON的时候，还有一些选项很有用。 如果你想获得漂亮的格式化字符串后输出，可以使用 json.dumps() 的indent参数。 它会使得输出和pprint()函数效果类似。\n"
   ],
   "metadata": {
    "collapsed": false,
    "pycharm": {
     "name": "#%% md\n"
    }
   }
  },
  {
   "cell_type": "code",
   "execution_count": 9,
   "outputs": [
    {
     "name": "stdout",
     "text": [
      "{\"name\": \"ACME\", \"shares\": 100, \"price\": 542.23}\n{\n    \"name\": \"ACME\",\n    \"shares\": 100,\n    \"price\": 542.23\n}\n"
     ],
     "output_type": "stream"
    }
   ],
   "source": [
    "print(json.dumps(data))\n",
    "print(json.dumps(data, indent=4))\n"
   ],
   "metadata": {
    "collapsed": false,
    "pycharm": {
     "name": "#%%\n",
     "is_executing": false
    }
   }
  },
  {
   "cell_type": "markdown",
   "source": [
    "## With语句\n",
    "\n",
    "有一些任务，可能事先需要设置，事后做清理工作。对于这种场景，Python的with语句提供了一种非常方便的处理方式。\n",
    "一个很好的例子是文件处理，你需要获取一个文件句柄，从文件中读取数据，然后关闭文件句柄。\n",
    "\n",
    "如果不用with语句，代码如下：\n"
   ],
   "metadata": {
    "collapsed": false,
    "pycharm": {
     "name": "#%% md\n"
    }
   }
  },
  {
   "cell_type": "code",
   "execution_count": null,
   "outputs": [],
   "source": [
    "file = open(\"data.json\")\n",
    "data = file.read()\n",
    "file.close()\n"
   ],
   "metadata": {
    "collapsed": false,
    "pycharm": {
     "name": "#%%\n"
    }
   }
  },
  {
   "cell_type": "markdown",
   "source": [
    "这里有两个问题。一是可能忘记关闭文件句柄；二是文件读取数据发生异常，没有进行任何处理。下面是处理异常的加强版本。\n"
   ],
   "metadata": {
    "collapsed": false,
    "pycharm": {
     "name": "#%% md\n"
    }
   }
  },
  {
   "cell_type": "code",
   "execution_count": null,
   "outputs": [],
   "source": [
    "file = open(\"data.json\")\n",
    "try:\n",
    "    data = file.read()\n",
    "finally:\n",
    "    file.close()\n",
    "    "
   ],
   "metadata": {
    "collapsed": false,
    "pycharm": {
     "name": "#%% \n"
    }
   }
  },
  {
   "cell_type": "markdown",
   "source": [
    "虽然这段代码运行良好，但是太冗长了。这时候就是with一展身手的时候了。\n",
    "除了有更优雅的语法，with还可以很好的处理上下文环境产生的异常。下面是with版本的代码\n"
   ],
   "metadata": {
    "collapsed": false,
    "pycharm": {
     "name": "#%% md\n"
    }
   }
  },
  {
   "cell_type": "code",
   "execution_count": null,
   "outputs": [],
   "source": [
    "with open(\"data.json\") as file:\n",
    "    data = file.read()\n"
   ],
   "metadata": {
    "collapsed": false,
    "pycharm": {
     "name": "#%%\n"
    }
   }
  },
  {
   "cell_type": "markdown",
   "source": [
    "with如何工作？\n",
    "\n",
    "Python对with的处理还很聪明。基本思想是with所求值的对象必须有一个__enter__()方法，一个__exit__()方法。\n",
    "\n",
    "紧跟with后面的语句被求值后，返回对象的__enter__()方法被调用，这个方法的返回值将被赋值给as后面的变量。\n",
    "当with后面的代码块全部被执行完之后，将调用前面返回对象的__exit__()方法。\n",
    "\n",
    "## 命令行解析器\n",
    "\n",
    "Python 命令行与参数解析方法有很多工具，这里参考python[官方文档](https://docs.python.org/zh-cn/3/library/argparse.html)\n",
    "和[blog](https://zhuanlan.zhihu.com/p/34395749)学习使用python 自带的argparse ，来说明python 如何进行命令行解析。\n",
    "\n",
    "### 命令行与参数解析\n",
    "\n",
    "通俗来说，命令行与参数解析就是当你输入cmd 打开dos 交互界面时候，启动程序要进行的参数给定。比如在dos 界面输入：\n",
    "\n",
    "```code\n",
    "python openPythonFile.py \"a\" -b \"number\"\n",
    "```\n",
    "\n",
    "其中，\"a\" -b等就是命令行与参数解析要做的事情。\n",
    "\n",
    "就是设计程序在运行时必须给定某些额外参数才能运行，也就是如果设置了命令行参数解析，那么各种编译器按F5 是无法直接运行程序的。\n",
    "\n",
    "用途就是不能随便就能运行脚本，可以达到一定程度上的安全功能。\n",
    "\n",
    "### 使用步骤\n",
    "\n",
    "总体上分为三大步：\n",
    "\n",
    "- 创建解析\n",
    "- 添加参数\n",
    "- 解析参数\n",
    "\n",
    "使用 argparse 的第一步是创建一个 ArgumentParser 对象。\n",
    "\n",
    "ArgumentParser 对象包含将命令行解析成 Python 数据类型所需的全部信息。\n"
   ],
   "metadata": {
    "collapsed": false,
    "pycharm": {
     "name": "#%% md\n"
    }
   }
  },
  {
   "cell_type": "code",
   "execution_count": 2,
   "outputs": [],
   "source": [
    "import argparse\n",
    "parser = argparse.ArgumentParser(description='Process some integers.')\n"
   ],
   "metadata": {
    "collapsed": false,
    "pycharm": {
     "name": "#%%\n",
     "is_executing": false
    }
   }
  },
  {
   "cell_type": "markdown",
   "source": [
    "第二步是添加参数，给一个 ArgumentParser 添加程序参数信息是通过调用 add_argument() 方法完成的。\n",
    "\n",
    "通常，这些调用指定 ArgumentParser 如何获取命令行字符串并将其转换为对象。这些信息在 parse_args() 调用时被存储和使用。\n",
    "\n",
    "add_argument方法定义单个的命令行参数应当如何解析。每个形参都在下面有它自己更多的描述：\n",
    "\n",
    "- name or flags - 一个命名或者一个选项字符串的列表，例如 foo 或 -f, --foo。\n",
    "- action - 当参数在命令行中出现时使用的动作基本类型。\n",
    "- nargs - 命令行参数应当消耗的数目。\n",
    "- const - 被一些 action 和 nargs 选择所需求的常数。\n",
    "- default - 当参数未在命令行中出现时使用的值。\n",
    "- type - 命令行参数应当被转换成的类型。\n",
    "- choices - 可用的参数的容器。\n",
    "- required - 此命令行选项是否可省略 （仅选项可用）。\n",
    "- help - 一个此选项作用的简单描述。\n",
    "- metavar - 在使用方法消息中使用的参数值示例。\n",
    "- dest - 被添加到 parse_args() 所返回对象上的属性名。大多数ArgumentParser actions增加一些值作为the object的一个属性被parse_args()返回 \n"
   ],
   "metadata": {
    "collapsed": false,
    "pycharm": {
     "name": "#%% md\n"
    }
   }
  },
  {
   "cell_type": "code",
   "execution_count": 3,
   "outputs": [
    {
     "data": {
      "text/plain": "_StoreConstAction(option_strings=['--sum'], dest='accumulate', nargs=0, const=<built-in function sum>, default=<built-in function max>, type=None, choices=None, help='sum the integers (default: find the max)', metavar=None)"
     },
     "metadata": {},
     "output_type": "execute_result",
     "execution_count": 3
    }
   ],
   "source": [
    "parser.add_argument('integers', metavar='N', type=int,\n",
    "                    nargs='+', help='an integer for the accumulator')\n",
    "parser.add_argument('--sum', dest='accumulate', action='store_const',\n",
    "                    const=sum, default=max,\n",
    "                    help='sum the integers (default: find the max)')\n"
   ],
   "metadata": {
    "collapsed": false,
    "pycharm": {
     "name": "#%%\n",
     "is_executing": false
    }
   }
  },
  {
   "cell_type": "markdown",
   "source": [
    "最后ArgumentParser 通过 parse_args() 方法解析参数。它将检查命令行，把每个参数转换为适当的类型然后调用相应的操作。\n",
    "\n",
    "在大多数情况下，这意味着一个简单的 Namespace 对象将从命令行参数中解析出的属性构建。\n",
    "\n",
    "在脚本中，通常 parse_args() 会被不带参数调用，而 ArgumentParser 将自动从 sys.argv 中确定命令行参数。\n"
   ],
   "metadata": {
    "collapsed": false,
    "pycharm": {
     "name": "#%% md\n"
    }
   }
  },
  {
   "cell_type": "code",
   "execution_count": 5,
   "outputs": [
    {
     "name": "stdout",
     "text": [
      "48\n"
     ],
     "output_type": "stream"
    }
   ],
   "source": [
    "args=parser.parse_args(['--sum', '7', '-1', '42'])\n",
    "print(args.accumulate(args.integers))\n"
   ],
   "metadata": {
    "collapsed": false,
    "pycharm": {
     "name": "#%%\n",
     "is_executing": false
    }
   }
  },
  {
   "cell_type": "markdown",
   "source": [
    "## python测试\n"
   ],
   "metadata": {
    "collapsed": false,
    "pycharm": {
     "name": "#%% md\n"
    }
   }
  },
  {
   "cell_type": "code",
   "execution_count": null,
   "outputs": [],
   "source": [
    "import inc_dec    # The code to test\n",
    "\n",
    "\n",
    "def test_increment():\n",
    "    assert inc_dec.increment(3) == 4\n",
    "\n",
    "\n",
    "def test_decrement():\n",
    "    assert inc_dec.decrement(3) == 2\n",
    "\n",
    "\n"
   ],
   "metadata": {
    "collapsed": false,
    "pycharm": {
     "name": "#%%\n"
    }
   }
  }
 ],
 "metadata": {
  "language_info": {
   "codemirror_mode": {
    "name": "ipython",
    "version": 2
   },
   "file_extension": ".py",
   "mimetype": "text/x-python",
   "name": "python",
   "nbconvert_exporter": "python",
   "pygments_lexer": "ipython2",
   "version": "2.7.6"
  },
  "kernelspec": {
   "name": "python3",
   "language": "python",
   "display_name": "Python 3"
  },
  "pycharm": {
   "stem_cell": {
    "cell_type": "raw",
    "source": [],
    "metadata": {
     "collapsed": false
    }
   }
  }
 },
 "nbformat": 4,
 "nbformat_minor": 0
}