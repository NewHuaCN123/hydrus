{
 "cells": [
  {
   "cell_type": "markdown",
   "metadata": {},
   "source": [
    "# 元编程\n",
    "\n",
    "这部分还重点参考了这个资料：[Python Metaclasses](https://realpython.com/python-metaclasses/)\n",
    "\n",
    "术语元编程是指程序具有了解或操纵自身的潜力。Python支持一种称为metaclasses的类的元编程形式。\n",
    "\n",
    "元类是一个比较复杂的面向对象概念，几乎隐藏在所有Python代码之后。无论是否知道，你都在使用它们。在大多数情况下，无需意识到这一点。大多数Python使用者很少（即使有的话）也不必考虑元类。\n",
    "\n",
    "但是，当需要时，Python提供了并非所有面向对象的语言都支持的功能：我们可以深入了解并自定义元类。自定义元类的使用引起了一些争议，正如Python 禅意作者Tim Peters所引用的那样：\n",
    "\n",
    "> 元类具有比99％的用户应该担心的更深的魔力。如果您想知道是否需要它们，则不需要（实际上需要它们的人肯定会知道他们需要它们，并且不需要解释原因）。”\n",
    "— 蒂姆·彼得斯\n",
    "\n",
    "有一些python使用者则认为永远不要使用自定义元类。这可能有点夸张，但是确实很可能不需要自定义元类。如果不是很明显有问题需要解决，如果能以更简单的方式解决问题，那么不用它可能会让代码更简洁，更易读。\n",
    "\n",
    "尽管如此，理解 Python 元类还是值得的，因为通过元类可以更好地理解Python 类的内部。可能有一天会遇到一种情况：只需要一个自定义元类即可以解决问题。\n",
    "\n",
    "## 两种类 NewClass Vs ClassicClass\n",
    "\n",
    "Python类可以是以下两个变体之一：ClassicClass 或 NewClass，由于尚未确定官方术语，因此将它们非正式地称为旧类和新类。\n",
    "\n",
    "对于旧类，类和类型不是一回事。旧类的实例始终由称为instance的一个内置类型实现。如果obj是旧类的一个实例，那么obl.\\_\\_class\\_\\_ 则给出了类，但是 type(obj) 则是instance。比如在python 2.7里面：\n",
    "\n",
    "```Python\n",
    ">>> class Foo:\n",
    "...     pass\n",
    "...\n",
    ">>> x = Foo()\n",
    ">>> x.__class__\n",
    "<class __main__.Foo at 0x000000000535CC48>\n",
    ">>> type(x)\n",
    "<type 'instance'>\n",
    "```\n",
    "\n",
    "新类则统一了类和类型的概念。如果obj是新类的实例，那么type(obj)和obj.\\_\\_class\\_\\_ 是一样的"
   ]
  },
  {
   "cell_type": "code",
   "execution_count": 1,
   "metadata": {},
   "outputs": [
    {
     "data": {
      "text/plain": [
       "__main__.Foo"
      ]
     },
     "execution_count": 1,
     "metadata": {},
     "output_type": "execute_result"
    }
   ],
   "source": [
    "class Foo:\n",
    "    pass\n",
    "obj = Foo()\n",
    "obj.__class__"
   ]
  },
  {
   "cell_type": "code",
   "execution_count": 2,
   "metadata": {},
   "outputs": [
    {
     "data": {
      "text/plain": [
       "__main__.Foo"
      ]
     },
     "execution_count": 2,
     "metadata": {},
     "output_type": "execute_result"
    }
   ],
   "source": [
    "type(obj)"
   ]
  },
  {
   "cell_type": "code",
   "execution_count": 3,
   "metadata": {},
   "outputs": [
    {
     "name": "stdout",
     "output_type": "stream",
     "text": [
      "True\n",
      "True\n",
      "True\n"
     ]
    }
   ],
   "source": [
    "n = 5\n",
    "d = { 'x' : 1, 'y' : 2 }\n",
    "\n",
    "class Foo:\n",
    "    pass\n",
    "\n",
    "x = Foo()\n",
    "\n",
    "for obj in (n, d, x):\n",
    "    print(type(obj) is obj.__class__)"
   ]
  },
  {
   "cell_type": "markdown",
   "metadata": {},
   "source": [
    "## 类和类型\n",
    "\n",
    "Python3中所有类都是新类。因此在Python 3中，对象的类型和类是可以互换着使用的。Python2.2之前是不支持新类的，之后python2默认的也是旧类。\n",
    "\n",
    "记住，在python中，所有都是对象，类也是对象。所以类也得有类型。"
   ]
  },
  {
   "cell_type": "code",
   "execution_count": 4,
   "metadata": {},
   "outputs": [
    {
     "data": {
      "text/plain": [
       "__main__.Foo"
      ]
     },
     "execution_count": 4,
     "metadata": {},
     "output_type": "execute_result"
    }
   ],
   "source": [
    "class Foo:\n",
    "    pass\n",
    "\n",
    "x = Foo()\n",
    "\n",
    "type(x)"
   ]
  },
  {
   "cell_type": "code",
   "execution_count": 5,
   "metadata": {},
   "outputs": [
    {
     "data": {
      "text/plain": [
       "type"
      ]
     },
     "execution_count": 5,
     "metadata": {},
     "output_type": "execute_result"
    }
   ],
   "source": [
    "type(Foo)"
   ]
  },
  {
   "cell_type": "markdown",
   "metadata": {},
   "source": [
    "x的类型是class Foo。但是Foo类本身的类型是type。通常，新式类的类型都是type。\n",
    "\n",
    "那些都比较熟悉的内置类的类型也是type，包括type自己："
   ]
  },
  {
   "cell_type": "code",
   "execution_count": 6,
   "metadata": {},
   "outputs": [
    {
     "name": "stdout",
     "output_type": "stream",
     "text": [
      "<class 'type'>\n",
      "<class 'type'>\n",
      "<class 'type'>\n",
      "<class 'type'>\n",
      "<class 'type'>\n"
     ]
    }
   ],
   "source": [
    "for t in int, float, dict, list, tuple:\n",
    "    print(type(t))"
   ]
  },
  {
   "cell_type": "code",
   "execution_count": 7,
   "metadata": {},
   "outputs": [
    {
     "data": {
      "text/plain": [
       "type"
      ]
     },
     "execution_count": 7,
     "metadata": {},
     "output_type": "execute_result"
    }
   ],
   "source": [
    "type(type)"
   ]
  },
  {
   "cell_type": "markdown",
   "metadata": {},
   "source": [
    "type就是一个元类，其中的类是实例。就像普通对象是类的实例一样，Python中的任何新类或者说Python 3中的任何类都是type这一元类的实例。\n",
    "\n",
    "![](pictures/class-chain.5cb031a299fe.png)\n",
    "\n",
    "## 动态定义一个类\n",
    "\n",
    "当传递一个参数时，内置函数type()将返回对象的类型。对于新类，通常与对象的\\_\\_class\\_\\_属性相同："
   ]
  },
  {
   "cell_type": "code",
   "execution_count": 8,
   "metadata": {},
   "outputs": [
    {
     "data": {
      "text/plain": [
       "int"
      ]
     },
     "execution_count": 8,
     "metadata": {},
     "output_type": "execute_result"
    }
   ],
   "source": [
    "type(3)"
   ]
  },
  {
   "cell_type": "code",
   "execution_count": 9,
   "metadata": {},
   "outputs": [
    {
     "data": {
      "text/plain": [
       "list"
      ]
     },
     "execution_count": 9,
     "metadata": {},
     "output_type": "execute_result"
    }
   ],
   "source": [
    "type(['foo', 'bar', 'baz'])"
   ]
  },
  {
   "cell_type": "code",
   "execution_count": 10,
   "metadata": {},
   "outputs": [
    {
     "data": {
      "text/plain": [
       "tuple"
      ]
     },
     "execution_count": 10,
     "metadata": {},
     "output_type": "execute_result"
    }
   ],
   "source": [
    "t = (1, 2, 3, 4, 5)\n",
    "type(t)"
   ]
  },
  {
   "cell_type": "code",
   "execution_count": 11,
   "metadata": {},
   "outputs": [
    {
     "data": {
      "text/plain": [
       "__main__.Foo"
      ]
     },
     "execution_count": 11,
     "metadata": {},
     "output_type": "execute_result"
    }
   ],
   "source": [
    "class Foo:\n",
    "    pass\n",
    "\n",
    "type(Foo())"
   ]
  },
  {
   "cell_type": "markdown",
   "metadata": {},
   "source": [
    "还可以使用三参数调用的方式：type(<name>, <bases>, <dct>)：\n",
    "\n",
    "- <name>指定类名称。该类的__name__属性。\n",
    "- <bases>指定类继承的基类的元组。该类的__bases__属性。\n",
    "- <dct>指定一个包含类主体定义的命名空间字典。该类的__dict__属性。\n",
    "\n",
    "以这种方式调用type()会创建type元类的新实例。换句话说，它动态创建一个新类。\n",
    "\n",
    "下面给出一些示例。每个示例最上面的代码段使用type()来动态定义一个类，而下面的代码段则使用class语句以通常的方式定义该类。每个例子中，这两个代码段在功能上是等效的。\n",
    "\n",
    "在第一个示例中，传递给type()的<bases>和<dct>参数均为空。没有指定任何父类的继承，并且最初在命名空间字典中未放置任何内容。这是最简单的类定义："
   ]
  },
  {
   "cell_type": "code",
   "execution_count": 12,
   "metadata": {},
   "outputs": [
    {
     "data": {
      "text/plain": [
       "<__main__.Foo at 0x2905d35f100>"
      ]
     },
     "execution_count": 12,
     "metadata": {},
     "output_type": "execute_result"
    }
   ],
   "source": [
    "Foo = type('Foo', (), {})\n",
    "\n",
    "x = Foo()\n",
    "x"
   ]
  },
  {
   "cell_type": "code",
   "execution_count": 13,
   "metadata": {},
   "outputs": [
    {
     "data": {
      "text/plain": [
       "<__main__.Foo at 0x2905d35fcd0>"
      ]
     },
     "execution_count": 13,
     "metadata": {},
     "output_type": "execute_result"
    }
   ],
   "source": [
    "class Foo:\n",
    "    pass\n",
    "\n",
    "x = Foo()\n",
    "x"
   ]
  },
  {
   "cell_type": "markdown",
   "metadata": {},
   "source": [
    "例2里<bases>是一个具有单个元素Foo的元组，指定Bar继承的父类。属性attr放置在名称空间字典中："
   ]
  },
  {
   "cell_type": "code",
   "execution_count": 14,
   "metadata": {},
   "outputs": [
    {
     "name": "stdout",
     "output_type": "stream",
     "text": [
      "100\n",
      "<class '__main__.Bar'>\n",
      "(<class '__main__.Foo'>,)\n"
     ]
    }
   ],
   "source": [
    "Bar = type('Bar', (Foo,), dict(attr=100))\n",
    "\n",
    "x = Bar()\n",
    "print(x.attr)\n",
    "print(x.__class__)\n",
    "print(x.__class__.__bases__)"
   ]
  },
  {
   "cell_type": "code",
   "execution_count": 15,
   "metadata": {},
   "outputs": [
    {
     "name": "stdout",
     "output_type": "stream",
     "text": [
      "100\n",
      "<class '__main__.Bar'>\n",
      "(<class '__main__.Foo'>,)\n"
     ]
    }
   ],
   "source": [
    "class Bar(Foo):\n",
    "    attr = 100\n",
    "\n",
    "\n",
    "x = Bar()\n",
    "print(x.attr)\n",
    "print(x.__class__)\n",
    "print(x.__class__.__bases__)"
   ]
  },
  {
   "cell_type": "markdown",
   "metadata": {},
   "source": [
    "这次，<bases>又是空的。通过<dct>参数将两个对象放入命名空间字典中。第一个是名为attr的属性，第二个是名为attr_val的函数，该函数成为已定义类的方法："
   ]
  },
  {
   "cell_type": "code",
   "execution_count": 16,
   "metadata": {},
   "outputs": [
    {
     "name": "stdout",
     "output_type": "stream",
     "text": [
      "100\n",
      "100\n"
     ]
    }
   ],
   "source": [
    "Foo = type(\n",
    "    'Foo',\n",
    "    (),\n",
    "    {\n",
    "        'attr': 100,\n",
    "        'attr_val': lambda x : x.attr\n",
    "    }\n",
    ")\n",
    "\n",
    "x = Foo()\n",
    "print(x.attr)\n",
    "print(x.attr_val())"
   ]
  },
  {
   "cell_type": "code",
   "execution_count": 17,
   "metadata": {},
   "outputs": [
    {
     "name": "stdout",
     "output_type": "stream",
     "text": [
      "100\n",
      "100\n"
     ]
    }
   ],
   "source": [
    "class Foo:\n",
    "    attr = 100\n",
    "    def attr_val(self):\n",
    "        return self.attr\n",
    "\n",
    "\n",
    "x = Foo()\n",
    "print(x.attr)\n",
    "print(x.attr_val())"
   ]
  },
  {
   "cell_type": "markdown",
   "metadata": {},
   "source": [
    "lambda在Python中只能定义非常简单的函数。在下面的示例中，在外部定义了一个稍微复杂一点的函数，然后通过名称attr_val在名称空间字典中将f分配给它："
   ]
  },
  {
   "cell_type": "code",
   "execution_count": 18,
   "metadata": {},
   "outputs": [
    {
     "name": "stdout",
     "output_type": "stream",
     "text": [
      "100\n",
      "attr = 100\n"
     ]
    }
   ],
   "source": [
    "def f(obj):\n",
    "    print('attr =', obj.attr)\n",
    "\n",
    "Foo = type(\n",
    "    'Foo',\n",
    "    (),\n",
    "    {\n",
    "        'attr': 100,\n",
    "        'attr_val': f\n",
    "    }\n",
    ")\n",
    "\n",
    "x = Foo()\n",
    "print(x.attr)\n",
    "x.attr_val()"
   ]
  },
  {
   "cell_type": "code",
   "execution_count": 19,
   "metadata": {},
   "outputs": [
    {
     "name": "stdout",
     "output_type": "stream",
     "text": [
      "100\n",
      "attr = 100\n"
     ]
    }
   ],
   "source": [
    "def f(obj):\n",
    "    print('attr =', obj.attr)\n",
    "\n",
    "class Foo:\n",
    "    attr = 100\n",
    "    attr_val = f\n",
    "\n",
    "\n",
    "x = Foo()\n",
    "print(x.attr)\n",
    "x.attr_val()"
   ]
  },
  {
   "cell_type": "markdown",
   "metadata": {},
   "source": [
    "## 定制元类\n",
    "\n",
    "再次考虑简单的Foo："
   ]
  },
  {
   "cell_type": "code",
   "execution_count": 20,
   "metadata": {},
   "outputs": [],
   "source": [
    "class Foo:\n",
    "    pass\n",
    "\n",
    "f = Foo()"
   ]
  },
  {
   "cell_type": "markdown",
   "metadata": {},
   "source": [
    "表达式Foo()创建了类Foo的新实例。解释器遇到Foo()时，将发生以下情况：\n",
    "\n",
    "- Foo的父类的\\_\\_call\\_\\_()方法被调用。由于Foo是标准的新类，因此其父类是type元类，因此调用type的\\_\\_call\\_\\_()方法。\n",
    "- 该\\_\\_call\\_\\_()方法依次调用以下内容：\n",
    "    - \\_\\_new\\_\\_()\n",
    "    - \\_\\_init\\_\\_()\n",
    "    \n",
    "如果Foo未定义\\_\\_new\\_\\_()和\\_\\_init\\_\\_()，则默认方法继承自Foo的祖先。如果Foo中确实定义了这些方法，则它们会覆盖祖先中的方法，从而在实例化Foo时允许自定义行为。\n",
    "\n",
    "在下面，定义了一个自定义方法new()，并将其指定为Foo的\\_\\_new\\_\\_()方法："
   ]
  },
  {
   "cell_type": "code",
   "execution_count": 21,
   "metadata": {},
   "outputs": [
    {
     "data": {
      "text/plain": [
       "100"
      ]
     },
     "execution_count": 21,
     "metadata": {},
     "output_type": "execute_result"
    }
   ],
   "source": [
    "def new(cls):\n",
    "    x = object.__new__(cls)\n",
    "    x.attr = 100\n",
    "    return x\n",
    "\n",
    "Foo.__new__ = new\n",
    "\n",
    "f = Foo()\n",
    "f.attr"
   ]
  },
  {
   "cell_type": "code",
   "execution_count": 22,
   "metadata": {},
   "outputs": [
    {
     "data": {
      "text/plain": [
       "100"
      ]
     },
     "execution_count": 22,
     "metadata": {},
     "output_type": "execute_result"
    }
   ],
   "source": [
    "g = Foo()\n",
    "g.attr"
   ]
  },
  {
   "cell_type": "markdown",
   "metadata": {},
   "source": [
    "这会修改类Foo的实例化行为：每次Foo创建实例时，默认情况下都会使用名为attr的属性对其进行初始化，该属性的值为100。（这样的代码通常会出现在\\_\\_init\\_\\_()方法中，而通常不会出现在方法\\_\\_new\\_\\_()中，这个示例是为演示目的而设计的）\n",
    "\n",
    "现在，正如已经重申的，类也是对象。假设您要在创建类似的类时，可以以类似的自定义方式完成Foo实例化行为。如果要遵循上述模式，需要再次定义一个自定义方法，并将其分配为\\_\\_new\\_\\_()方法。Foo是type元类的实例，因此代码如下所示："
   ]
  },
  {
   "cell_type": "code",
   "execution_count": 23,
   "metadata": {},
   "outputs": [
    {
     "ename": "TypeError",
     "evalue": "can't set attributes of built-in/extension type 'type'",
     "output_type": "error",
     "traceback": [
      "\u001b[1;31m---------------------------------------------------------------------------\u001b[0m",
      "\u001b[1;31mTypeError\u001b[0m                                 Traceback (most recent call last)",
      "\u001b[1;32m~\\AppData\\Local\\Temp/ipykernel_1492/1228145721.py\u001b[0m in \u001b[0;36m<module>\u001b[1;34m\u001b[0m\n\u001b[0;32m      4\u001b[0m     \u001b[1;32mreturn\u001b[0m \u001b[0mx\u001b[0m\u001b[1;33m\u001b[0m\u001b[1;33m\u001b[0m\u001b[0m\n\u001b[0;32m      5\u001b[0m \u001b[1;33m\u001b[0m\u001b[0m\n\u001b[1;32m----> 6\u001b[1;33m \u001b[0mtype\u001b[0m\u001b[1;33m.\u001b[0m\u001b[0m__new__\u001b[0m \u001b[1;33m=\u001b[0m \u001b[0mnew\u001b[0m\u001b[1;33m\u001b[0m\u001b[1;33m\u001b[0m\u001b[0m\n\u001b[0m",
      "\u001b[1;31mTypeError\u001b[0m: can't set attributes of built-in/extension type 'type'"
     ]
    }
   ],
   "source": [
    "def new(cls):\n",
    "    x = type.__new__(cls)\n",
    "    x.attr = 100\n",
    "    return x\n",
    "\n",
    "type.__new__ = new"
   ]
  },
  {
   "cell_type": "markdown",
   "metadata": {},
   "source": [
    "如您所见，报错了，不能重新赋给元类type的\\_\\_new\\_\\_()方法。Python不允许这样做。\n",
    "\n",
    "因为type是派生所有新类的元类。无论如何，不能这么做。但是，如果要自定义类的实例化，有什么办法？\n",
    "\n",
    "一种可能的解决方案是自定义元类。该元类是从type派生的，然后就可以使用这个元类了。\n",
    "\n",
    "第一步是定义一个从type派生的元类，如下所示："
   ]
  },
  {
   "cell_type": "code",
   "execution_count": 24,
   "metadata": {},
   "outputs": [],
   "source": [
    "class Meta(type):\n",
    "    def __new__(cls, name, bases, dct):\n",
    "        x = super().__new__(cls, name, bases, dct)\n",
    "        x.attr = 100\n",
    "        return x"
   ]
  },
  {
   "cell_type": "markdown",
   "metadata": {},
   "source": [
    "“class Meta(type):”语句指定Meta从type派生。由于type是一个元类，因此现在构建了一个Meta元类。\n",
    "\n",
    "请注意，已为Meta定义了自定义方法\\_\\_new\\_\\_()。无法直接对元类type执行此操作。该\\_\\_new\\_\\_()方法执行以下操作：\n",
    "\n",
    "- 用父元类（即type）的代理--super()的__new__()方法创建一个新的类\n",
    "- 将自定义属性attr分配给该类，其值为100\n",
    "- 返回新创建的类\n",
    "\n",
    "下面定义一个新类Foo，并指定其元类是自定义元类Meta，而不是标准元类type。使用类定义中的关键字metaclass来完成此操作，如下所示："
   ]
  },
  {
   "cell_type": "code",
   "execution_count": 25,
   "metadata": {},
   "outputs": [
    {
     "data": {
      "text/plain": [
       "100"
      ]
     },
     "execution_count": 25,
     "metadata": {},
     "output_type": "execute_result"
    }
   ],
   "source": [
    "class Foo(metaclass=Meta):\n",
    "    pass\n",
    "\n",
    "Foo.attr"
   ]
  },
  {
   "cell_type": "markdown",
   "metadata": {},
   "source": [
    "现在， Foo已经自动拿到Meta元类的attr属性。当然，类似定义的任何其他类也将这样做："
   ]
  },
  {
   "cell_type": "code",
   "execution_count": 26,
   "metadata": {},
   "outputs": [
    {
     "data": {
      "text/plain": [
       "(100, 100)"
      ]
     },
     "execution_count": 26,
     "metadata": {},
     "output_type": "execute_result"
    }
   ],
   "source": [
    "class Bar(metaclass=Meta):\n",
    "    pass\n",
    "\n",
    "class Qux(metaclass=Meta):\n",
    "    pass\n",
    "\n",
    "Bar.attr, Qux.attr"
   ]
  },
  {
   "cell_type": "markdown",
   "metadata": {},
   "source": [
    "与类充当创建对象的模板的方式相似，元类充当创建类的模板。元类有时称为类工厂。\n",
    "\n",
    "比较以下两个示例：\n",
    "\n",
    "对象工厂："
   ]
  },
  {
   "cell_type": "code",
   "execution_count": 27,
   "metadata": {},
   "outputs": [
    {
     "name": "stdout",
     "output_type": "stream",
     "text": [
      "100\n",
      "100\n",
      "100\n"
     ]
    }
   ],
   "source": [
    "class Foo:\n",
    "    def __init__(self):\n",
    "        self.attr = 100\n",
    "\n",
    "\n",
    "x = Foo()\n",
    "print(x.attr)\n",
    "\n",
    "\n",
    "y = Foo()\n",
    "print(y.attr)\n",
    "\n",
    "\n",
    "z = Foo()\n",
    "print(z.attr)"
   ]
  },
  {
   "cell_type": "markdown",
   "metadata": {},
   "source": [
    "类工厂："
   ]
  },
  {
   "cell_type": "code",
   "execution_count": 28,
   "metadata": {},
   "outputs": [
    {
     "name": "stdout",
     "output_type": "stream",
     "text": [
      "100\n",
      "100\n",
      "100\n"
     ]
    }
   ],
   "source": [
    "class Meta(type):\n",
    "    def __init__(\n",
    "        cls, name, bases, dct\n",
    "    ):\n",
    "        cls.attr = 100\n",
    "\n",
    "class X(metaclass=Meta):\n",
    "    pass\n",
    "\n",
    "print(X.attr)\n",
    "\n",
    "\n",
    "class Y(metaclass=Meta):\n",
    "    pass\n",
    "\n",
    "print(Y.attr)\n",
    "\n",
    "\n",
    "class Z(metaclass=Meta):\n",
    "    pass\n",
    "\n",
    "print(Z.attr)"
   ]
  },
  {
   "cell_type": "markdown",
   "metadata": {},
   "source": [
    "## 真的需要元类么\n",
    "\n",
    "上面的类工厂示例是元类如何工作的本质。它们允许自定义的类实例化。这个好处就是不必重复地去为每个类写attr，代码能更好地复用。\n",
    "\n",
    "但是尽管如此，在每个新创建的类上赋予自定义attr属性仍然有很多麻烦。我们真的需要一个元类吗？\n",
    "\n",
    "在 Python 中，至少有几种其他方法可以有效地完成同一件事："
   ]
  },
  {
   "cell_type": "code",
   "execution_count": 29,
   "metadata": {},
   "outputs": [
    {
     "name": "stdout",
     "output_type": "stream",
     "text": [
      "100\n",
      "100\n",
      "100\n"
     ]
    }
   ],
   "source": [
    "class Base:\n",
    "    attr = 100\n",
    "\n",
    "\n",
    "class X(Base):\n",
    "    pass\n",
    "\n",
    "\n",
    "class Y(Base):\n",
    "    pass\n",
    "\n",
    "\n",
    "class Z(Base):\n",
    "    pass\n",
    "\n",
    "\n",
    "print(X.attr)\n",
    "\n",
    "print(Y.attr)\n",
    "\n",
    "print(Z.attr)\n"
   ]
  },
  {
   "cell_type": "code",
   "execution_count": 30,
   "metadata": {},
   "outputs": [
    {
     "name": "stdout",
     "output_type": "stream",
     "text": [
      "100\n",
      "100\n",
      "100\n"
     ]
    }
   ],
   "source": [
    "def decorator(cls):\n",
    "    class NewClass(cls):\n",
    "        attr = 100\n",
    "    return NewClass\n",
    "\n",
    "@decorator\n",
    "class X:\n",
    "    pass\n",
    "\n",
    "@decorator\n",
    "class Y:\n",
    "    pass\n",
    "\n",
    "@decorator\n",
    "class Z:\n",
    "    pass\n",
    "\n",
    "\n",
    "print(X.attr)\n",
    "\n",
    "print(Y.attr)\n",
    "\n",
    "print(Z.attr)"
   ]
  },
  {
   "cell_type": "markdown",
   "metadata": {},
   "source": [
    "正如蒂姆·彼得斯（Tim Peters）所建议的那样，元类很容易进入“从问题中寻找解决方案”的境界。通常不需要创建自定义元类。如果眼前的问题可以用更简单的方法解决，那就应该这样解决。尽管如此，理解元类还是有好处的，这样您就可以大致理解Python类，并可以识别何时才真正适合使用元类。\n",
    "\n",
    "装饰器是较常用的元编程方式，下面再看点例子。\n",
    "\n",
    "## 装饰器\n",
    "\n",
    "比如想在函数上添加一个装饰器，增加额外的操作处理(比如日志、计时等)。这是很常用的功能。使用额外的代码包装一个函数，可以定义一个装饰器函数："
   ]
  },
  {
   "cell_type": "code",
   "execution_count": 31,
   "metadata": {},
   "outputs": [],
   "source": [
    "import time\n",
    "from functools import wraps\n",
    "\n",
    "def timethis(func):\n",
    "    '''\n",
    "    Decorator that reports the execution time.\n",
    "    '''\n",
    "    @wraps(func)\n",
    "    def wrapper(*args, **kwargs):\n",
    "        start = time.time()\n",
    "        result = func(*args, **kwargs)\n",
    "        end = time.time()\n",
    "        print(func.__name__, end-start)\n",
    "        return result\n",
    "    return wrapper"
   ]
  },
  {
   "cell_type": "code",
   "execution_count": 32,
   "metadata": {},
   "outputs": [],
   "source": [
    "@timethis\n",
    "def countdown(n):\n",
    "#       Counts down\n",
    "    while n > 0:\n",
    "        n -= 1"
   ]
  },
  {
   "cell_type": "code",
   "execution_count": 33,
   "metadata": {},
   "outputs": [
    {
     "name": "stdout",
     "output_type": "stream",
     "text": [
      "countdown 0.006994724273681641\n"
     ]
    }
   ],
   "source": [
    "countdown(100000)"
   ]
  },
  {
   "cell_type": "markdown",
   "metadata": {},
   "source": [
    "实际上一个装饰器就是一个函数，它接受一个函数作为参数并返回一个新的函数。下面两个函数是等价的："
   ]
  },
  {
   "cell_type": "code",
   "execution_count": 34,
   "metadata": {},
   "outputs": [],
   "source": [
    "@timethis\n",
    "def countdown(n):\n",
    "    pass"
   ]
  },
  {
   "cell_type": "code",
   "execution_count": 35,
   "metadata": {},
   "outputs": [],
   "source": [
    "def countdown(n):\n",
    "    pass\n",
    "countdown = timethis(countdown)"
   ]
  },
  {
   "cell_type": "markdown",
   "metadata": {},
   "source": [
    "另外，内置的装饰器比如 @staticmethod, @classmethod,@property 原理也是一样的。\n",
    "\n",
    "不过在使用装饰器时，要注意复制元信息。即任何时候你定义装饰器的时候，都应该使用 functools 库中的 @wraps 装饰器来注解底层包装函数。如果你忘记了使用 @wraps ， 那么你会发现被装饰函数丢失了所有有用的信息。\n",
    "\n",
    "还可以定义带参数的装饰器，比如你想写一个装饰器，给函数添加日志功能，同时允许用户指定日志的级别和其他的选项。 下面是这个装饰器的定义和使用示例："
   ]
  },
  {
   "cell_type": "code",
   "execution_count": 36,
   "metadata": {},
   "outputs": [],
   "source": [
    "from functools import wraps\n",
    "import logging\n",
    "\n",
    "def logged(level, name=None, message=None):\n",
    "    \"\"\"\n",
    "    Add logging to a function. level is the logging\n",
    "    level, name is the logger name, and message is the\n",
    "    log message. If name and message aren't specified,\n",
    "    they default to the function's module and name.\n",
    "    \"\"\"\n",
    "    def decorate(func):\n",
    "        logname = name if name else func.__module__\n",
    "        log = logging.getLogger(logname)\n",
    "        logmsg = message if message else func.__name__\n",
    "\n",
    "        @wraps(func)\n",
    "        def wrapper(*args, **kwargs):\n",
    "            log.log(level, logmsg)\n",
    "            return func(*args, **kwargs)\n",
    "        return wrapper\n",
    "    return decorate\n",
    "\n",
    "# Example use\n",
    "@logged(logging.DEBUG)\n",
    "def add(x, y):\n",
    "    return x + y\n",
    "\n",
    "@logged(logging.CRITICAL, 'example')\n",
    "def spam():\n",
    "    print('Spam!')"
   ]
  },
  {
   "cell_type": "code",
   "execution_count": null,
   "metadata": {},
   "outputs": [],
   "source": []
  }
 ],
 "metadata": {
  "kernelspec": {
   "display_name": "Python 3 (ipykernel)",
   "language": "python",
   "name": "python3"
  },
  "language_info": {
   "codemirror_mode": {
    "name": "ipython",
    "version": 3
   },
   "file_extension": ".py",
   "mimetype": "text/x-python",
   "name": "python",
   "nbconvert_exporter": "python",
   "pygments_lexer": "ipython3",
   "version": "3.9.6"
  },
  "pycharm": {
   "stem_cell": {
    "cell_type": "raw",
    "metadata": {
     "collapsed": false
    },
    "source": []
   }
  }
 },
 "nbformat": 4,
 "nbformat_minor": 4
}
