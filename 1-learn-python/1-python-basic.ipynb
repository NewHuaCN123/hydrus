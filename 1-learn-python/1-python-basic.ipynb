{
 "cells": [
  {
   "cell_type": "markdown",
   "id": "32f64d56-b8da-4b54-a411-625751f1cf71",
   "metadata": {},
   "source": [
    "# Python基础语法\n",
    "\n",
    "## 数据类型\n",
    "\n",
    "整型、浮点型等特别基础的就不记录了，不过python中直接赋值、浅拷贝和深度拷贝是需要注意的。另外，重点记录一些字符串相关的内容等。\n",
    "\n",
    "### 直接赋值、浅拷贝和深度拷贝\n",
    "\n",
    "这部分参考了[Python 直接赋值、浅拷贝和深度拷贝解析](https://www.runoob.com/w3cnote/python-understanding-dict-copy-shallow-or-deep.html)。\n",
    "\n",
    "- 直接赋值：其实就是对象的引用（别名）。\n",
    "- 浅拷贝(copy)：拷贝父对象，不会拷贝对象的内部的子对象。\n",
    "- 深拷贝(deepcopy)： copy 模块的 deepcopy 方法，完全拷贝了父对象及其子对象。\n",
    "\n",
    "直接看例子，首先是浅拷贝："
   ]
  },
  {
   "cell_type": "code",
   "execution_count": 1,
   "id": "d3801c58-453e-46cd-a7b1-7b45d86e08fa",
   "metadata": {},
   "outputs": [
    {
     "data": {
      "text/plain": [
       "({1: [1, 2, 3]}, {1: [1, 2, 3]})"
      ]
     },
     "execution_count": 1,
     "metadata": {},
     "output_type": "execute_result"
    }
   ],
   "source": [
    "a = {1: [1,2,3]}\n",
    "b = a.copy()\n",
    "a, b"
   ]
  },
  {
   "cell_type": "code",
   "execution_count": 2,
   "id": "14d8f427-5434-4547-9d28-fbacb54298ca",
   "metadata": {},
   "outputs": [
    {
     "data": {
      "text/plain": [
       "({1: [1, 2, 3, 4]}, {1: [1, 2, 3, 4]})"
      ]
     },
     "execution_count": 2,
     "metadata": {},
     "output_type": "execute_result"
    }
   ],
   "source": [
    "a[1].append(4)\n",
    "a, b"
   ]
  },
  {
   "cell_type": "markdown",
   "id": "f1afe6c3-3e20-42a2-91ef-48a126cfc613",
   "metadata": {},
   "source": [
    "深度copy需要引入copy模块："
   ]
  },
  {
   "cell_type": "code",
   "execution_count": 4,
   "id": "9eede24f-7d76-4e0d-b065-63c2ec9da1a0",
   "metadata": {},
   "outputs": [
    {
     "data": {
      "text/plain": [
       "({1: [1, 2, 3, 4]}, {1: [1, 2, 3, 4]})"
      ]
     },
     "execution_count": 4,
     "metadata": {},
     "output_type": "execute_result"
    }
   ],
   "source": [
    "import copy\n",
    "c = copy.deepcopy(a)\n",
    "a, c"
   ]
  },
  {
   "cell_type": "code",
   "execution_count": 5,
   "id": "6322697d-d8ef-40a8-aeab-7e3cc196e785",
   "metadata": {},
   "outputs": [
    {
     "data": {
      "text/plain": [
       "({1: [1, 2, 3, 4, 5]}, {1: [1, 2, 3, 4]})"
      ]
     },
     "execution_count": 5,
     "metadata": {},
     "output_type": "execute_result"
    }
   ],
   "source": [
    "a[1].append(5)\n",
    "a, c"
   ]
  },
  {
   "cell_type": "markdown",
   "id": "1d2240d3-c396-4b99-92a4-99711afa78c1",
   "metadata": {},
   "source": [
    "b = a: 赋值引用，a 和 b 都指向同一个对象。\n",
    "\n",
    "![](pictures/1489720931-7116-4AQC6.png)\n",
    "\n",
    "b = a.copy(): 浅拷贝, a 和 b 是一个独立的对象，但他们的子对象还是指向统一对象（是引用）。\n",
    "\n",
    "![](pictures/1489720930-6827-Vtk4m.png)\n",
    "\n",
    "b = copy.deepcopy(a): 深度拷贝, a 和 b 完全拷贝了父对象及其子对象，两者是完全独立的。\n",
    "\n",
    "![](pictures/1489720930-5882-BO4qO.png)\n",
    "\n",
    "总结下例子："
   ]
  },
  {
   "cell_type": "code",
   "execution_count": 6,
   "id": "4cb1f0ca-7997-4e1a-bc09-ffcfde74e29e",
   "metadata": {},
   "outputs": [
    {
     "name": "stdout",
     "output_type": "stream",
     "text": [
      "a =  [1, 2, 3, 4, ['a', 'b', 'c'], 5]\n",
      "b =  [1, 2, 3, 4, ['a', 'b', 'c'], 5]\n",
      "c =  [1, 2, 3, 4, ['a', 'b', 'c']]\n",
      "d =  [1, 2, 3, 4, ['a', 'b']]\n"
     ]
    }
   ],
   "source": [
    "import copy\n",
    "a = [1, 2, 3, 4, ['a', 'b']] #原始对象\n",
    " \n",
    "b = a                       #赋值，传对象的引用\n",
    "c = copy.copy(a)            #对象拷贝，浅拷贝\n",
    "d = copy.deepcopy(a)        #对象拷贝，深拷贝\n",
    " \n",
    "a.append(5)                 #修改对象a\n",
    "a[4].append('c')            #修改对象a中的['a', 'b']数组对象\n",
    " \n",
    "print( 'a = ', a )\n",
    "print( 'b = ', b )\n",
    "print( 'c = ', c )\n",
    "print( 'd = ', d )"
   ]
  },
  {
   "cell_type": "markdown",
   "id": "04d22683-817b-411c-b0e6-598f3a0626cb",
   "metadata": {},
   "source": [
    "### 字符串\n",
    "\n",
    "首先，记录一些关于编码的问题。计算机只能处理数字，如果要处理文本，就必须先把文本转换为数字才能处理。最早只有**127个字符**被编码到计算机里，也就是大小写英文字母、数字和一些符号，这个编码表被称为**ASCII编码**，比如大写字母A的编码是65，小写字母z的编码是122。\n",
    "\n",
    "但是要处理中文显然一个字节是不够的，至少需要两个字节，而且还不能和ASCII编码冲突，所以，中国制定了**GB2312编码**，用来把中文编进去。\n",
    "\n",
    "全世界有上百种语言，各国有各国的标准，就会不可避免地出现冲突，Unicode应运而生。Unicode把所有语言都统一到一套编码里，最常用的是用两个字节表示一个字符（如果要用到非常偏僻的字符，就需要4个字节）。\n",
    "\n",
    "但是，如果你写的文本基本上全部是英文的话，用Unicode编码比ASCII编码需要多一倍的存储空间，在存储和传输上就十分不划算。所以又出现了把Unicode编码转化为 **“可变长编码”的UTF-8编码**。UTF-8编码把一个Unicode字符根据不同的数字大小编码成1-6个字节，常用的英文字母被编码成1个字节，汉字通常是3个字节，只有很生僻的字符才会被编码成4-6个字节。如果你要传输的文本包含大量英文字符，用UTF-8编码就能节省空间UTF-8编码有一个额外的好处，就是ASCII编码实际上可以被看成是UTF-8编码的一部分，所以，大量只支持ASCII编码的历史遗留软件可以在UTF-8编码下继续工作。\n",
    "\n",
    "现在计算机系统通用的字符编码工作方式：在计算机内存中，统一使用Unicode编码，当需要保存到硬盘或者需要传输的时候，就转换为UTF-8编码。\n",
    "\n",
    "在最新的Python 3版本中，字符串是以Unicode编码的，也就是说，Python的字符串支持多语言。Python的字符串类型是str，在内存中以Unicode表示，一个字符对应若干个字节。如果要在网络上传输，或者保存到磁盘上，就需要把str变为以字节为单位的bytes。以Unicode表示的str通过encode()方法可以编码为指定的bytes"
   ]
  },
  {
   "cell_type": "code",
   "execution_count": 7,
   "id": "b770f985-6736-400e-ab4d-9fe1526fa88f",
   "metadata": {},
   "outputs": [
    {
     "data": {
      "text/plain": [
       "b'ABC'"
      ]
     },
     "execution_count": 7,
     "metadata": {},
     "output_type": "execute_result"
    }
   ],
   "source": [
    "'ABC'.encode('ascii')"
   ]
  },
  {
   "cell_type": "code",
   "execution_count": 8,
   "id": "e0630fb1-53e0-42fb-8906-e3d5238ee73f",
   "metadata": {},
   "outputs": [
    {
     "data": {
      "text/plain": [
       "b'\\xe4\\xb8\\xad\\xe6\\x96\\x87'"
      ]
     },
     "execution_count": 8,
     "metadata": {},
     "output_type": "execute_result"
    }
   ],
   "source": [
    "'中文'.encode('utf-8')"
   ]
  },
  {
   "cell_type": "markdown",
   "id": "3f365ce2-488f-4852-94b5-c97ca3c7193c",
   "metadata": {},
   "source": [
    "反过来，如果我们从网络或磁盘上读取了字节流，那么读到的数据就是bytes。要把bytes变为str，就需要用decode()方法："
   ]
  },
  {
   "cell_type": "code",
   "execution_count": 9,
   "id": "297ed083-460f-48cf-95fa-83ca7d243e8e",
   "metadata": {},
   "outputs": [
    {
     "data": {
      "text/plain": [
       "'ABC'"
      ]
     },
     "execution_count": 9,
     "metadata": {},
     "output_type": "execute_result"
    }
   ],
   "source": [
    "b'ABC'.decode('ascii')"
   ]
  },
  {
   "cell_type": "code",
   "execution_count": 10,
   "id": "d848960d-5ee2-4866-ae5a-8e6985bae36b",
   "metadata": {},
   "outputs": [
    {
     "data": {
      "text/plain": [
       "'中文'"
      ]
     },
     "execution_count": 10,
     "metadata": {},
     "output_type": "execute_result"
    }
   ],
   "source": [
    "b'\\xe4\\xb8\\xad\\xe6\\x96\\x87'.decode('utf-8')"
   ]
  },
  {
   "cell_type": "code",
   "execution_count": 11,
   "id": "035c131e-e738-4045-90d5-d3b9c9c20be1",
   "metadata": {},
   "outputs": [
    {
     "data": {
      "text/plain": [
       "2"
      ]
     },
     "execution_count": 11,
     "metadata": {},
     "output_type": "execute_result"
    }
   ],
   "source": [
    "len('中文')"
   ]
  },
  {
   "cell_type": "code",
   "execution_count": 12,
   "id": "6b80a844-3bed-45c0-a4c7-5886bab59718",
   "metadata": {},
   "outputs": [
    {
     "data": {
      "text/plain": [
       "6"
      ]
     },
     "execution_count": 12,
     "metadata": {},
     "output_type": "execute_result"
    }
   ],
   "source": [
    "len('中文'.encode('utf-8'))"
   ]
  },
  {
   "cell_type": "markdown",
   "id": "49a95a85-a522-4f9d-9780-28443a425c52",
   "metadata": {},
   "source": [
    "接下来字符串操作："
   ]
  },
  {
   "cell_type": "code",
   "execution_count": 13,
   "id": "653c6550-0a50-411b-8e17-8ba010761faa",
   "metadata": {
    "pycharm": {
     "name": "#%%\n"
    }
   },
   "outputs": [
    {
     "name": "stdout",
     "output_type": "stream",
     "text": [
      "A\n",
      "65\n",
      "2\n",
      "Exist\n",
      "world\n",
      "HELLOWORLD\n",
      "helloworld\n",
      "Helloworld\n",
      "Helloworld\n"
     ]
    }
   ],
   "source": [
    "# 数据和字符串转换\n",
    "print(chr(65))\n",
    "print(ord('A'))\n",
    "\n",
    "print(int('2'))\n",
    "\n",
    "\"\"\" 字符串包含\"\"\"\n",
    "test_string = 'helloworld'\n",
    "if 'world' in test_string:\n",
    "    print('Exist')\n",
    "else:\n",
    "    print('Not exist')\n",
    "\n",
    "# 字符串的子字符串，不像java用substring，而是直接使用索引取值\n",
    "print(test_string[5:])\n",
    "\n",
    "# 大小写转换\n",
    "print(test_string.upper())          # 把所有字符中的小写字母转换成大写字母\n",
    "print(test_string.lower())          # 把所有字符中的大写字母转换成小写字母\n",
    "print(test_string.capitalize())     # 把第一个字母转化为大写字母，其余小写\n",
    "print(test_string.title())          # 把每个单词的第一个字母转化为大写，其余小写 "
   ]
  },
  {
   "cell_type": "markdown",
   "id": "9af3f494-ca7b-435b-893e-0b701ce0ce88",
   "metadata": {},
   "source": [
    "接着记录下关于格式化的内容。在Python中，采用的格式化方式和C语言是一致的，用%实现，常见的占位符有：%d\t整数，%f\t浮点数，%s\t字符串。举例如下："
   ]
  },
  {
   "cell_type": "code",
   "execution_count": 14,
   "id": "34310288-43b7-48b3-936a-51b01b76d763",
   "metadata": {},
   "outputs": [
    {
     "data": {
      "text/plain": [
       "'Hi, Michael, you have $1000000.'"
      ]
     },
     "execution_count": 14,
     "metadata": {},
     "output_type": "execute_result"
    }
   ],
   "source": [
    "'Hi, %s, you have $%d.' % ('Michael', 1000000)"
   ]
  },
  {
   "cell_type": "markdown",
   "id": "a4da66f1-bbaa-46e1-8e15-b332a67bd488",
   "metadata": {},
   "source": [
    "还有zfill()函数也常用：Python zfill() 方法返回指定长度的字符串，原字符串右对齐，前面填充0。"
   ]
  },
  {
   "cell_type": "code",
   "execution_count": 15,
   "id": "e1839067-dc1b-4383-a1ef-b49d912c4029",
   "metadata": {
    "pycharm": {
     "name": "#%%\n"
    }
   },
   "outputs": [
    {
     "name": "stdout",
     "output_type": "stream",
     "text": [
      "00000000this is string example....wow!!!\n",
      "000000000000000000this is string example....wow!!!\n"
     ]
    }
   ],
   "source": [
    "str = \"this is string example....wow!!!\";\n",
    "\n",
    "print(str.zfill(40))\n",
    "print(str.zfill(50))"
   ]
  },
  {
   "cell_type": "markdown",
   "id": "550a8f6d-8d32-4af4-8db6-a6a551451410",
   "metadata": {},
   "source": [
    "## 基本流程控制\n",
    "\n",
    "倒序for循环的写法："
   ]
  },
  {
   "cell_type": "code",
   "execution_count": 16,
   "id": "b8505d37-6795-41be-8754-b3e0ee48e637",
   "metadata": {},
   "outputs": [
    {
     "name": "stdout",
     "output_type": "stream",
     "text": [
      "5\n",
      "4\n",
      "2\n",
      "1\n"
     ]
    }
   ],
   "source": [
    "lista = [1,2,4,5]\n",
    "for i in range(len(lista)-1,-1,-1):\n",
    "    print(lista[i])  "
   ]
  },
  {
   "cell_type": "markdown",
   "id": "5a8eb9dd-bbad-4a78-9f40-dc3a01830092",
   "metadata": {},
   "source": [
    "如果if 语句有很多，想要使用类似switch的方式，可以类似下面这样写："
   ]
  },
  {
   "cell_type": "code",
   "execution_count": 17,
   "id": "01db1b10-b020-4210-9723-bd0e406f1edd",
   "metadata": {},
   "outputs": [
    {
     "data": {
      "text/plain": [
       "'0.2 - 0.4'"
      ]
     },
     "execution_count": 17,
     "metadata": {},
     "output_type": "execute_result"
    }
   ],
   "source": [
    "range_lst = [\"0 - 0.0001\", \"0.0001 - 0.02\", \"0.02 - 0.05\", \"0.05 - 0.1\", \"0.1 - 0.2\", \"0.2 - 0.4\", \"0.4 - 0.8\", \"≥ 0.8\"]\n",
    "\n",
    "def a_range_name_func(value_tmp):\n",
    "    switcher = {\n",
    "        0 <= value_tmp < 0.0001: range_lst[0],\n",
    "        0.0001 <= value_tmp < 0.02: range_lst[1],\n",
    "        0.02 <= value_tmp < 0.05: range_lst[2],\n",
    "        0.05 <= value_tmp < 0.1: range_lst[3],\n",
    "        0.1 <= value_tmp < 0.2: range_lst[4],\n",
    "        0.2 <= value_tmp < 0.4: range_lst[5],\n",
    "        0.4 <= value_tmp < 0.8: range_lst[6],\n",
    "        0.8 <= value_tmp: range_lst[7],\n",
    "    }\n",
    "    return switcher[True]\n",
    "a_range_name_func(0.3)"
   ]
  },
  {
   "cell_type": "markdown",
   "id": "f4e3296f-9a54-4270-af08-83507ed12ceb",
   "metadata": {},
   "source": [
    "## 基本数据结构\n",
    "\n",
    "python几个最基本的数据结构有：\n",
    "\n",
    "- list：可理解为可变大小的数组，python索引可以为负值，表示倒序。\n",
    "- tuple：和list类似，区别是一经初始化就不能修改。\n",
    "- dict：就是map，使用key-value存储，查找较快。\n",
    "- set：和dict类似，也是一组key的集合，但不存储value，且由于key不能重复，这就意味着set中没有重复的元素。\n",
    "\n",
    "接下来依次举例认识下几个基本数据结构。\n",
    "\n",
    "### list"
   ]
  },
  {
   "cell_type": "code",
   "execution_count": 18,
   "id": "9c9b359e-7f26-49bb-a340-16d6d6a6ecfd",
   "metadata": {},
   "outputs": [
    {
     "name": "stdout",
     "output_type": "stream",
     "text": [
      "[1, 2, 3, 4, 5, 6]\n",
      "[3, 4]\n",
      "True\n"
     ]
    }
   ],
   "source": [
    "# list\n",
    "a=[1,2,3]\n",
    "b=[4,5,6]\n",
    "# list拼接\n",
    "print(a+b)\n",
    "# list 索引：直接使用[]即可，一个例子：找出c中非0值编号对应的d中的数字， \n",
    "c=[0,0,1,1]\n",
    "d=[1,2,3,4]\n",
    "e=[d[i] for i in range(len(c)) if c[i]>0] # 使用列表生成式很方便\n",
    "print(e)\n",
    "print(1 in d)"
   ]
  },
  {
   "cell_type": "markdown",
   "id": "415328df-4811-4ffa-92cb-ca442c831af5",
   "metadata": {},
   "source": [
    "给list添加元素："
   ]
  },
  {
   "cell_type": "code",
   "execution_count": 19,
   "id": "e9651ed0-603f-409e-b60f-90035e877140",
   "metadata": {},
   "outputs": [
    {
     "data": {
      "text/plain": [
       "['a', 'b', [2, 'd'], 'e']"
      ]
     },
     "execution_count": 19,
     "metadata": {},
     "output_type": "execute_result"
    }
   ],
   "source": [
    "li=['a', 'b']   \n",
    "li.append([2,'d'])   \n",
    "li.append('e')  \n",
    "li"
   ]
  },
  {
   "cell_type": "markdown",
   "id": "fc2a41c5-ac50-44ce-b8d3-2bf7d6960383",
   "metadata": {},
   "source": [
    "两个list拼接："
   ]
  },
  {
   "cell_type": "code",
   "execution_count": 20,
   "id": "4309b067-7f3e-449f-92a4-53ac8a0a5001",
   "metadata": {},
   "outputs": [
    {
     "data": {
      "text/plain": [
       "[1, 2, 3, 4, 5, 6]"
      ]
     },
     "execution_count": 20,
     "metadata": {},
     "output_type": "execute_result"
    }
   ],
   "source": [
    "l1=[1,2,3]\n",
    "l2=[4,5,6]\n",
    "l1+l2"
   ]
  },
  {
   "cell_type": "markdown",
   "id": "255d1efd-ad38-4e04-80b1-e11ff46b44e9",
   "metadata": {},
   "source": [
    "list还能直接拆分字符串："
   ]
  },
  {
   "cell_type": "code",
   "execution_count": 21,
   "id": "1fa49856-1a44-40ea-9e51-f8cde8c68d4f",
   "metadata": {},
   "outputs": [
    {
     "name": "stdout",
     "output_type": "stream",
     "text": [
      "['W', 'o', 'r', 'd', ' ', 't', 'o', ' ', 'S', 'p', 'l', 'i', 't']\n",
      "['W', 'o', 'r', 'd', ' ', 't', 'o', ' ', 'S', 'p', 'l', 'i', 't']\n"
     ]
    }
   ],
   "source": [
    "s = \"Word to Split\"\n",
    "wordlist = list(s) # option 1, \n",
    "print(wordlist) \n",
    "wordlist = [ch for ch in s]      # option 2, list comprehension.\n",
    "print(wordlist) "
   ]
  },
  {
   "cell_type": "markdown",
   "id": "5da182b6-a3c8-4fe3-be16-c45ff5d2ac28",
   "metadata": {},
   "source": [
    "删除list中的元素，注意不同方法是有区别的，remove是直接删元素，del是按索引。"
   ]
  },
  {
   "cell_type": "code",
   "execution_count": 22,
   "id": "af42fdbe-a0cb-4792-853c-2283a78c467b",
   "metadata": {},
   "outputs": [
    {
     "data": {
      "text/plain": [
       "[1, 2]"
      ]
     },
     "execution_count": 22,
     "metadata": {},
     "output_type": "execute_result"
    }
   ],
   "source": [
    "del l1[2]\n",
    "l1"
   ]
  },
  {
   "cell_type": "code",
   "execution_count": 23,
   "id": "a50155b2-1fdb-4204-8f2b-03ec7f0bef54",
   "metadata": {},
   "outputs": [
    {
     "data": {
      "text/plain": [
       "[1, 2, 4]"
      ]
     },
     "execution_count": 23,
     "metadata": {},
     "output_type": "execute_result"
    }
   ],
   "source": [
    "li = [1, 2, 3, 4]\n",
    "li.remove(3)\n",
    "li"
   ]
  },
  {
   "cell_type": "markdown",
   "id": "7785c029-b4ac-4160-8348-be8ec3c78d95",
   "metadata": {},
   "source": [
    "这个remove操作是inplace的，即会改变原变量值的，如果想要获取一个新的删除某些元素的list，可以先复制一份，然后再执行remove操作，注意不要直接赋值："
   ]
  },
  {
   "cell_type": "code",
   "execution_count": 24,
   "id": "c97d891a-cbb6-4924-aa28-63bd118c17f4",
   "metadata": {},
   "outputs": [
    {
     "name": "stdout",
     "output_type": "stream",
     "text": [
      "[1, 5, 7]\n",
      "[1, 5, 7]\n"
     ]
    }
   ],
   "source": [
    "a_list = [1,3,5,7]\n",
    "b_list = a_list\n",
    "b_list.remove(3)\n",
    "print(a_list)\n",
    "print(b_list)"
   ]
  },
  {
   "cell_type": "markdown",
   "id": "dbd14ce7-7061-4aa7-b48f-c19052cbacf3",
   "metadata": {},
   "source": [
    "需要这样操作（或者使用上面提到的copy方法）："
   ]
  },
  {
   "cell_type": "code",
   "execution_count": 25,
   "id": "7c5c270c-9c90-4596-aa3d-ec3a155e74d9",
   "metadata": {},
   "outputs": [
    {
     "name": "stdout",
     "output_type": "stream",
     "text": [
      "[1, 3, 5, 7]\n",
      "[1, 5, 7]\n"
     ]
    }
   ],
   "source": [
    "a_list = [1,3,5,7]\n",
    "b_list = a_list[:]\n",
    "b_list.remove(3)\n",
    "print(a_list)\n",
    "print(b_list)"
   ]
  },
  {
   "cell_type": "markdown",
   "id": "312a3b4f-e762-4c5d-bd5b-d092bf98c632",
   "metadata": {},
   "source": [
    "list中的最值："
   ]
  },
  {
   "cell_type": "code",
   "execution_count": 26,
   "id": "68aca293-d896-4e95-ad91-c2a388844573",
   "metadata": {},
   "outputs": [
    {
     "data": {
      "text/plain": [
       "3"
      ]
     },
     "execution_count": 26,
     "metadata": {},
     "output_type": "execute_result"
    }
   ],
   "source": [
    "l1=[1,2,3]\n",
    "max(l1)"
   ]
  },
  {
   "cell_type": "markdown",
   "id": "31c8d101-236e-475c-8ea3-4a1c81e5eb87",
   "metadata": {},
   "source": [
    "最值对应的元素index："
   ]
  },
  {
   "cell_type": "code",
   "execution_count": 27,
   "id": "513fb3d5-3f0f-4738-9850-f23d19ad2622",
   "metadata": {},
   "outputs": [
    {
     "data": {
      "text/plain": [
       "2"
      ]
     },
     "execution_count": 27,
     "metadata": {},
     "output_type": "execute_result"
    }
   ],
   "source": [
    "l1.index(max(l1))"
   ]
  },
  {
   "cell_type": "markdown",
   "id": "ae9b3f11-6a37-4d79-a578-6ec081f14dfc",
   "metadata": {},
   "source": [
    "找到指定元素的index"
   ]
  },
  {
   "cell_type": "code",
   "execution_count": 28,
   "id": "115ee72b-4903-4135-9e15-f7c0c1eba5c7",
   "metadata": {},
   "outputs": [
    {
     "name": "stdout",
     "output_type": "stream",
     "text": [
      "The index of e: 1\n",
      "The index of i: 2\n"
     ]
    }
   ],
   "source": [
    "# vowels list\n",
    "vowels = ['a', 'e', 'i', 'o', 'i', 'u']\n",
    "\n",
    "# index of 'e' in vowels\n",
    "index = vowels.index('e')\n",
    "print('The index of e:', index)\n",
    "\n",
    "# element 'i' is searched\n",
    "# index of the first 'i' is returned\n",
    "index = vowels.index('i')\n",
    "\n",
    "print('The index of i:', index)"
   ]
  },
  {
   "cell_type": "markdown",
   "id": "7db6be29-7390-4d43-a9e9-ffa4323d139a",
   "metadata": {},
   "source": [
    "list排序："
   ]
  },
  {
   "cell_type": "code",
   "execution_count": 29,
   "id": "293aee93-dc1b-44b1-a909-f29ab70cd7f1",
   "metadata": {},
   "outputs": [
    {
     "data": {
      "text/plain": [
       "['Facebook', 'Google', 'Runoob', 'Taobao']"
      ]
     },
     "execution_count": 29,
     "metadata": {},
     "output_type": "execute_result"
    }
   ],
   "source": [
    "aList = ['Google', 'Runoob', 'Taobao', 'Facebook'];\n",
    "aList.sort()\n",
    "aList"
   ]
  },
  {
   "cell_type": "code",
   "execution_count": 30,
   "id": "9c1fbfe2-2d57-44a9-be5f-259f787cc9b5",
   "metadata": {
    "pycharm": {
     "name": "#%%\n"
    }
   },
   "outputs": [
    {
     "name": "stdout",
     "output_type": "stream",
     "text": [
      "['bbbb', 'sss', 'cc', 'shafa', 'afa']\n",
      "['cc', 'bbbb', 'afa', 'sss', 'shafa']\n"
     ]
    }
   ],
   "source": [
    "# 排序的set\n",
    "mailto = ['cc', 'bbbb', 'afa', 'sss', 'bbbb', 'cc', 'shafa']\n",
    "addr_to = list(set(mailto))\n",
    "print(addr_to)\n",
    "addr_to.sort(key=mailto.index)\n",
    "print(addr_to)"
   ]
  },
  {
   "cell_type": "markdown",
   "id": "816f156b-85dd-424c-a57c-6ea534c6b6bb",
   "metadata": {},
   "source": [
    "python list数组是可以直接进行大小比较的，其基本比较逻辑是先比较第一位，如果第一位数字两个数字相等，就比较第二位，依次类推。max和min函数也有同样的作用"
   ]
  },
  {
   "cell_type": "code",
   "execution_count": 31,
   "id": "d5599f3d-2fbf-41e9-bb2e-328d51b7fac4",
   "metadata": {},
   "outputs": [
    {
     "data": {
      "text/plain": [
       "True"
      ]
     },
     "execution_count": 31,
     "metadata": {},
     "output_type": "execute_result"
    }
   ],
   "source": [
    "[1,2,3,4] > [0,5,6,7]"
   ]
  },
  {
   "cell_type": "code",
   "execution_count": 32,
   "id": "0eeed3f0-deb4-424c-8f32-38d92f461a67",
   "metadata": {},
   "outputs": [
    {
     "data": {
      "text/plain": [
       "[1, 2, 3, 4]"
      ]
     },
     "execution_count": 32,
     "metadata": {},
     "output_type": "execute_result"
    }
   ],
   "source": [
    "max([1,2,3,4],[0,5,6,7])"
   ]
  },
  {
   "cell_type": "code",
   "execution_count": 33,
   "id": "da3eb503-8d69-49cf-90c9-928fa4bc4c15",
   "metadata": {},
   "outputs": [
    {
     "data": {
      "text/plain": [
       "[1, 2, 3, 4]"
      ]
     },
     "execution_count": 33,
     "metadata": {},
     "output_type": "execute_result"
    }
   ],
   "source": [
    "max([0,5,6,7],[1,2,3,4])"
   ]
  },
  {
   "cell_type": "markdown",
   "id": "19fbbf0c-c0c8-450b-bdb5-594c5699103e",
   "metadata": {},
   "source": [
    "不过numpy的数组比较更多样，所以如果需要更多灵活的数组比较可以使用numpy。\n",
    "\n",
    "如果是多个数组比较，可以参考下面的例子："
   ]
  },
  {
   "cell_type": "code",
   "execution_count": 34,
   "id": "687f7d05-dc93-4a05-89cd-2ad8d58f2850",
   "metadata": {},
   "outputs": [
    {
     "name": "stdout",
     "output_type": "stream",
     "text": [
      "[2]\n"
     ]
    }
   ],
   "source": [
    "nums = [[1,2,3],[5,4,5],[5,5,6]]\n",
    "max_of_nums = max(nums)\n",
    "# print(max_of_nums)\n",
    "# ([k for k, v in count.items() if v == highest])\n",
    "# 先把索引和元素写成元组\n",
    "tup = [(i, nums[i]) for i in range(len(nums))]\n",
    "print([i for i, n in tup if n == max_of_nums])"
   ]
  },
  {
   "cell_type": "markdown",
   "id": "50f485c8-457e-40fd-aba2-8d81aaf60383",
   "metadata": {},
   "source": [
    "如果是想要看多维的list中哪个数字最大，直接max就不行了，需要先flatten一下，可以利用itertools："
   ]
  },
  {
   "cell_type": "code",
   "execution_count": 35,
   "id": "10e85de6-233a-49f5-9c79-b59bd6e9bad7",
   "metadata": {},
   "outputs": [
    {
     "data": {
      "text/plain": [
       "9"
      ]
     },
     "execution_count": 35,
     "metadata": {},
     "output_type": "execute_result"
    }
   ],
   "source": [
    "import itertools\n",
    "\n",
    "list2d = [[1,2,3], [4,5,6], [7], [8,9]]\n",
    "merged = list(itertools.chain(*list2d))\n",
    "max(merged)"
   ]
  },
  {
   "cell_type": "markdown",
   "id": "b49eb512-828f-47b9-911b-b643e7f722d3",
   "metadata": {},
   "source": [
    "tuple是不能变长的数组，比如list的连接操作，tuple就不可以："
   ]
  },
  {
   "cell_type": "code",
   "execution_count": 36,
   "id": "3865e23e-3b4d-4514-b6f1-95930462b8e2",
   "metadata": {},
   "outputs": [
    {
     "data": {
      "text/plain": [
       "tuple"
      ]
     },
     "execution_count": 36,
     "metadata": {},
     "output_type": "execute_result"
    }
   ],
   "source": [
    "a = (2,3)\n",
    "type(a)"
   ]
  },
  {
   "cell_type": "code",
   "execution_count": 37,
   "id": "6b11d900-3079-4779-92cd-44fc4567bfc6",
   "metadata": {},
   "outputs": [
    {
     "ename": "TypeError",
     "evalue": "can only concatenate tuple (not \"int\") to tuple",
     "output_type": "error",
     "traceback": [
      "\u001b[1;31m---------------------------------------------------------------------------\u001b[0m",
      "\u001b[1;31mTypeError\u001b[0m                                 Traceback (most recent call last)",
      "\u001b[1;32m~\\AppData\\Local\\Temp/ipykernel_4712/792300187.py\u001b[0m in \u001b[0;36m<module>\u001b[1;34m\u001b[0m\n\u001b[1;32m----> 1\u001b[1;33m \u001b[0ma\u001b[0m\u001b[1;33m+\u001b[0m\u001b[1;33m(\u001b[0m\u001b[1;36m4\u001b[0m\u001b[1;33m)\u001b[0m\u001b[1;33m\u001b[0m\u001b[1;33m\u001b[0m\u001b[0m\n\u001b[0m",
      "\u001b[1;31mTypeError\u001b[0m: can only concatenate tuple (not \"int\") to tuple"
     ]
    }
   ],
   "source": [
    "a+(4)"
   ]
  },
  {
   "cell_type": "markdown",
   "id": "32f4f960-554e-45f1-9985-ab3bfa6ee706",
   "metadata": {},
   "source": [
    "很容易将tuple转换为list"
   ]
  },
  {
   "cell_type": "code",
   "execution_count": 38,
   "id": "a65bfb87-a6a3-4fb8-a0a6-4ac4192789d7",
   "metadata": {},
   "outputs": [
    {
     "data": {
      "text/plain": [
       "[2, 3]"
      ]
     },
     "execution_count": 38,
     "metadata": {},
     "output_type": "execute_result"
    }
   ],
   "source": [
    "list(a)"
   ]
  },
  {
   "cell_type": "markdown",
   "id": "a63e2538-8f54-41a7-88d1-151c115549c5",
   "metadata": {},
   "source": [
    "### dict\n",
    "\n",
    "字典初始化方式有多种，可以根据自己实际情况采用最方便的方式，具体可参考：[Python中字典创建的几种方法及适用场景](https://blog.csdn.net/Jerry_1126/article/details/78239530)"
   ]
  },
  {
   "cell_type": "code",
   "execution_count": 41,
   "id": "e3bba2c7-790b-480d-b91c-3b3fdb7e14fe",
   "metadata": {},
   "outputs": [
    {
     "name": "stdout",
     "output_type": "stream",
     "text": [
      "{'age': 23, 'name': 'lala'}\n",
      "{'age': 23, 'name': 'lala', 'school': 'nanhaizhongxue'}\n",
      "{'a': 1, 'b': 2}\n",
      "{'a': 0, 'b': 0}\n",
      "{'a': [3, 1], 'b': 2}\n"
     ]
    }
   ],
   "source": [
    "# 直接创建\n",
    "d = {'age': 23, 'name': 'lala'}\n",
    "print(d)\n",
    "# 动态创建\n",
    "d['school'] = 'nanhaizhongxue'\n",
    "print(d)\n",
    "# zip创建字典\n",
    "d = dict(zip(['a', 'b'], [1, 2]))\n",
    "print(d)\n",
    "import numpy as np\n",
    "# 可以利用numpy来帮助生成数组数据，更多关于numpy的内容，后续会介绍，安装numpy -- conda install -c conda-forge numpy\n",
    "d = dict(zip(['a', 'b'], np.full(2,0)))\n",
    "print(d)\n",
    "# 字典的key必须得是唯一的，但是values可以是多个\n",
    "d_special = dict(zip(['a', 'b'], [[3,1], 2]))\n",
    "print(d_special)"
   ]
  },
  {
   "cell_type": "markdown",
   "id": "0a283fc3-51d2-44eb-82f2-4b598798ebc2",
   "metadata": {},
   "source": [
    "现在看看两个dict拼接，参考：[Python优雅的合并两个Dict](https://segmentfault.com/a/1190000010567015)"
   ]
  },
  {
   "cell_type": "code",
   "execution_count": 42,
   "id": "0a6bf135-8a9f-4d09-8923-17fcbbc52cac",
   "metadata": {},
   "outputs": [
    {
     "name": "stdout",
     "output_type": "stream",
     "text": [
      "{'a': 1, 'b': 2}\n"
     ]
    },
    {
     "data": {
      "text/plain": [
       "{'a': 1, 'b': 3, 'c': 4}"
      ]
     },
     "execution_count": 42,
     "metadata": {},
     "output_type": "execute_result"
    }
   ],
   "source": [
    "d = {}\n",
    "x = {'a': 1, 'b': 2}\n",
    "x = {**d, **x}\n",
    "print(x)\n",
    "y = {'b': 3, 'c': 4}\n",
    "z = {**x, **y}\n",
    "z"
   ]
  },
  {
   "cell_type": "markdown",
   "id": "45fb9486-1b02-4c61-834f-08304f24624a",
   "metadata": {},
   "source": [
    "对字典的循环操作可以使用两种方式："
   ]
  },
  {
   "cell_type": "code",
   "execution_count": 43,
   "id": "10fdbd31-ee49-4a36-bf18-c94754bb1167",
   "metadata": {},
   "outputs": [
    {
     "name": "stdout",
     "output_type": "stream",
     "text": [
      "x corresponds to 1\n",
      "y corresponds to 2\n",
      "z corresponds to 3\n"
     ]
    }
   ],
   "source": [
    "d = {'x':1, 'y':2, 'z':3}\n",
    "for key in d:\n",
    "    print (key, 'corresponds to', d[key])"
   ]
  },
  {
   "cell_type": "code",
   "execution_count": 44,
   "id": "03e93746-2379-44fa-8235-00751daa11af",
   "metadata": {},
   "outputs": [
    {
     "name": "stdout",
     "output_type": "stream",
     "text": [
      "x corresponds to 1\n",
      "y corresponds to 2\n",
      "z corresponds to 3\n"
     ]
    }
   ],
   "source": [
    "for key, value in d.items():\n",
    "    print (key, 'corresponds to', value)"
   ]
  },
  {
   "cell_type": "markdown",
   "id": "1b65319a-baa4-4b1a-b8d6-b81504c9bfdf",
   "metadata": {},
   "source": [
    "取出dict的所有keys："
   ]
  },
  {
   "cell_type": "code",
   "execution_count": 45,
   "id": "569a649c-8ab4-40ee-bc37-e29eac08df23",
   "metadata": {},
   "outputs": [
    {
     "name": "stdout",
     "output_type": "stream",
     "text": [
      "Value : dict_keys(['Name', 'Age'])\n",
      "<class 'dict_keys'>\n"
     ]
    }
   ],
   "source": [
    "dict = {'Name': 'Zara', 'Age': 7}\n",
    "print (\"Value : %s\" %  dict.keys())\n",
    "print (type(dict.keys()))"
   ]
  },
  {
   "cell_type": "code",
   "execution_count": 46,
   "id": "9abea7e1-e48c-498c-96b5-a4a047c1fa54",
   "metadata": {},
   "outputs": [
    {
     "data": {
      "text/plain": [
       "['Name', 'Age']"
      ]
     },
     "execution_count": 46,
     "metadata": {},
     "output_type": "execute_result"
    }
   ],
   "source": [
    "list(dict.keys())"
   ]
  },
  {
   "cell_type": "markdown",
   "id": "d370fa22-a123-4a15-875a-c2d1ec68f792",
   "metadata": {},
   "source": [
    "所有value："
   ]
  },
  {
   "cell_type": "code",
   "execution_count": 47,
   "id": "daaed9b3-9e8f-4982-9b47-b9cb576bb5a7",
   "metadata": {},
   "outputs": [
    {
     "data": {
      "text/plain": [
       "dict_values(['Zara', 7])"
      ]
     },
     "execution_count": 47,
     "metadata": {},
     "output_type": "execute_result"
    }
   ],
   "source": [
    "dict.values()"
   ]
  },
  {
   "cell_type": "code",
   "execution_count": 48,
   "id": "9d07a5e2-a471-404e-877f-1073245498e9",
   "metadata": {},
   "outputs": [
    {
     "data": {
      "text/plain": [
       "['Zara', 7]"
      ]
     },
     "execution_count": 48,
     "metadata": {},
     "output_type": "execute_result"
    }
   ],
   "source": [
    "alist=list(dict.values())\n",
    "alist"
   ]
  },
  {
   "cell_type": "markdown",
   "id": "42160944-02e6-47dd-b694-988ffcbdfc2b",
   "metadata": {},
   "source": [
    "判断dict的value最大值对应的key："
   ]
  },
  {
   "cell_type": "code",
   "execution_count": 49,
   "id": "67145537-a445-42e1-ad4c-f500738f4900",
   "metadata": {},
   "outputs": [
    {
     "data": {
      "text/plain": [
       "'b'"
      ]
     },
     "execution_count": 49,
     "metadata": {},
     "output_type": "execute_result"
    }
   ],
   "source": [
    "import operator\n",
    "stats = {'a':1000, 'b':3000, 'c': 100}\n",
    "max(stats.items(), key=operator.itemgetter(1))[0]"
   ]
  },
  {
   "cell_type": "markdown",
   "id": "74a5ff4f-d2fa-4734-85e3-0e5bd50cb372",
   "metadata": {},
   "source": [
    "判断一个key是否在一个dict的keys中："
   ]
  },
  {
   "cell_type": "code",
   "execution_count": 50,
   "id": "778ead79-fafa-4447-b73c-456597dd784c",
   "metadata": {},
   "outputs": [
    {
     "name": "stdout",
     "output_type": "stream",
     "text": [
      "True\n"
     ]
    }
   ],
   "source": [
    "#生成一个字典\n",
    "d = {'name':'Tom', 'age':10, 'Tel':110}\n",
    "#打印返回值，其中d.keys()是列出字典所有的key\n",
    "print ('name' in d.keys()) # 注意是keys()，不是keys。"
   ]
  },
  {
   "cell_type": "markdown",
   "id": "69473557-b15f-4cee-a3f5-ecd8a0f1dae5",
   "metadata": {},
   "source": [
    "字典按keys排序："
   ]
  },
  {
   "cell_type": "code",
   "execution_count": 51,
   "id": "4d0d77e3-70f1-4a05-abf9-0d6388f64054",
   "metadata": {},
   "outputs": [
    {
     "data": {
      "text/plain": [
       "['Age', 'Name']"
      ]
     },
     "execution_count": 51,
     "metadata": {},
     "output_type": "execute_result"
    }
   ],
   "source": [
    "d = {'Name': 'Zara', 'Age': 7}\n",
    "sorted(d.keys())"
   ]
  },
  {
   "cell_type": "code",
   "execution_count": 52,
   "id": "9bc22e6f-e839-4c7d-8415-be55f085a58e",
   "metadata": {},
   "outputs": [
    {
     "name": "stdout",
     "output_type": "stream",
     "text": [
      "Age 7\n",
      "Name Zara\n"
     ]
    }
   ],
   "source": [
    "for key in sorted(d.keys()):\n",
    "    print(key, d[key]) "
   ]
  },
  {
   "cell_type": "code",
   "execution_count": 53,
   "id": "0549f9c5-1416-4c15-849c-23e453d19a92",
   "metadata": {},
   "outputs": [
    {
     "data": {
      "text/plain": [
       "{'Age': 7, 'Name': 'Zara'}"
      ]
     },
     "execution_count": 53,
     "metadata": {},
     "output_type": "execute_result"
    }
   ],
   "source": [
    "d_sorted={}\n",
    "for key in sorted(d.keys()):\n",
    "    d_sorted[key]=d[key]\n",
    "d_sorted"
   ]
  },
  {
   "cell_type": "markdown",
   "id": "84a301f8-3974-4d72-bdcb-61f5a3f1324e",
   "metadata": {},
   "source": [
    "想要格式化打印dict可以使用json包快速实现"
   ]
  },
  {
   "cell_type": "code",
   "execution_count": 54,
   "id": "888eb69d-4f9f-4a76-b6cb-5029659580b7",
   "metadata": {},
   "outputs": [
    {
     "name": "stdout",
     "output_type": "stream",
     "text": [
      "普通输出：\n",
      " {'Infomation': '成绩单', 'Students': [{'Name': '小明', 'Age': 22, 'Grade': {'Chinese': 80, 'Math': 100, 'English': 90}}, {'Name': '小红', 'Age': 21, 'Grade': {'Chinese': 70, 'Math': 90, 'English': 80}}]}\n",
      "格式化输出：\n",
      " {\n",
      "    \"Infomation\": \"成绩单\",\n",
      "    \"Students\": [\n",
      "        {\n",
      "            \"Name\": \"小明\",\n",
      "            \"Age\": 22,\n",
      "            \"Grade\": {\n",
      "                \"Chinese\": 80,\n",
      "                \"Math\": 100,\n",
      "                \"English\": 90\n",
      "            }\n",
      "        },\n",
      "        {\n",
      "            \"Name\": \"小红\",\n",
      "            \"Age\": 21,\n",
      "            \"Grade\": {\n",
      "                \"Chinese\": 70,\n",
      "                \"Math\": 90,\n",
      "                \"English\": 80\n",
      "            }\n",
      "        }\n",
      "    ]\n",
      "}\n"
     ]
    }
   ],
   "source": [
    "import json\n",
    "a_dict = {'Infomation': '成绩单',\n",
    "        'Students': [{'Name': '小明', 'Age': 22, 'Grade': {'Chinese': 80, 'Math': 100, 'English': 90}},\n",
    "                     {'Name': '小红', 'Age': 21, 'Grade': {'Chinese': 70, 'Math': 90, 'English': 80}}]}\n",
    "print(\"普通输出：\\n\",a_dict)\n",
    "print(\"格式化输出：\\n\",json.dumps(a_dict, indent=4, ensure_ascii=False))"
   ]
  },
  {
   "cell_type": "markdown",
   "id": "9bffcd9f-638a-4fc3-bd04-614097e090f0",
   "metadata": {},
   "source": [
    "当需要dict中的元素有一定的顺序时，我们可以使用 OrderedDict："
   ]
  },
  {
   "cell_type": "code",
   "execution_count": 55,
   "id": "776fa492-e9e6-485a-8fc3-b1a38fb95370",
   "metadata": {},
   "outputs": [
    {
     "data": {
      "text/plain": [
       "OrderedDict([('r', 1), ('s', 1), ('a', 1), ('n', 1), ('y', 1)])"
      ]
     },
     "execution_count": 55,
     "metadata": {},
     "output_type": "execute_result"
    }
   ],
   "source": [
    "from collections import OrderedDict\n",
    "od = OrderedDict([('r', 1), ('s', 1), ('a', 1), ('n', 1), ('y', 1)])\n",
    "od"
   ]
  },
  {
   "cell_type": "markdown",
   "id": "b0e6b73f-2896-4242-b530-a2c74bb8aa18",
   "metadata": {},
   "source": [
    "可以看到keys输出时也是有顺序的："
   ]
  },
  {
   "cell_type": "code",
   "execution_count": 56,
   "id": "a8a3e4f2-312b-4424-97e5-0bed2d3256c1",
   "metadata": {},
   "outputs": [
    {
     "data": {
      "text/plain": [
       "['r', 's', 'a', 'n', 'y']"
      ]
     },
     "execution_count": 56,
     "metadata": {},
     "output_type": "execute_result"
    }
   ],
   "source": [
    "list(od.keys())"
   ]
  },
  {
   "cell_type": "markdown",
   "id": "b43ccf51-d85c-4a2b-a59d-b25646cc82d9",
   "metadata": {},
   "source": [
    "遍历方法和普通的dict一致，如果想要带上数字序号，可以利用 enumerate："
   ]
  },
  {
   "cell_type": "code",
   "execution_count": 57,
   "id": "48ae2b44-7949-4214-a9f5-bc37f177a75d",
   "metadata": {},
   "outputs": [
    {
     "name": "stdout",
     "output_type": "stream",
     "text": [
      "0 r 1\n",
      "1 s 1\n",
      "2 a 1\n",
      "3 n 1\n",
      "4 y 1\n"
     ]
    }
   ],
   "source": [
    "for i, (key, value) in enumerate(od.items()):\n",
    "    print(i, key, value)"
   ]
  },
  {
   "cell_type": "markdown",
   "id": "cc762924-7232-4588-a7ff-9f7ec38ad4cd",
   "metadata": {},
   "source": [
    "## 基础运算\n",
    "\n",
    "这里介绍一些python里面相对特殊的运算符。\n",
    "\n",
    "### \"~\"运算符\n",
    "\n",
    "按位取反运算符：对数据的每个二进制位取反,即把1变为0,把0变为1 。~x 类似于 -x-1。"
   ]
  },
  {
   "cell_type": "code",
   "execution_count": 58,
   "id": "9f1a09b3-8d0d-4bef-aecf-93c7a4d77255",
   "metadata": {
    "pycharm": {
     "name": "#%%\n"
    }
   },
   "outputs": [
    {
     "name": "stdout",
     "output_type": "stream",
     "text": [
      "-61\n",
      "-2\n",
      "-1\n"
     ]
    }
   ],
   "source": [
    "a = 60  # 60 = 0011 1100\n",
    "c=~a\n",
    "print(c) # -61 = 1100 0011\n",
    "b1=True\n",
    "d1=~b1\n",
    "print(d1)\n",
    "b2=False\n",
    "d2=~b2\n",
    "print(d2)"
   ]
  },
  {
   "cell_type": "markdown",
   "id": "c2f35020-d6a4-47cf-824c-0a6858566e14",
   "metadata": {},
   "source": [
    "### \"//\"运算符\n",
    "\n",
    "基本数学运算符中，整除符号是//"
   ]
  },
  {
   "cell_type": "code",
   "execution_count": 59,
   "id": "a766006f-3df8-4211-bf4c-f2fc1dcd58c2",
   "metadata": {
    "pycharm": {
     "name": "#%%\n"
    }
   },
   "outputs": [
    {
     "name": "stdout",
     "output_type": "stream",
     "text": [
      "c 的值为： 2\n"
     ]
    }
   ],
   "source": [
    "# a = 1\n",
    "a = 11\n",
    "b = 5\n",
    "c = a // b\n",
    "print(\"c 的值为：\", c)"
   ]
  },
  {
   "cell_type": "markdown",
   "id": "d6585857-cc3d-4dbd-b0bc-64748b1b48c2",
   "metadata": {},
   "source": [
    "### \"%\"运算符\n",
    "\n",
    "求余运算符。"
   ]
  },
  {
   "cell_type": "code",
   "execution_count": 60,
   "id": "b5781cc8-8ca9-4009-a1c7-2ec37c76c900",
   "metadata": {},
   "outputs": [
    {
     "name": "stdout",
     "output_type": "stream",
     "text": [
      "c 的值为： 1\n"
     ]
    }
   ],
   "source": [
    "a = 1\n",
    "b = 5\n",
    "c = a % b\n",
    "print(\"c 的值为：\", c)"
   ]
  },
  {
   "cell_type": "markdown",
   "id": "6ff1dcb1-cc1e-471b-85c6-d095a40914c4",
   "metadata": {},
   "source": [
    "### and/or运算符\n",
    "\n",
    "python中不使用&&和||来表示与或运算符，而是使用and和or。"
   ]
  },
  {
   "cell_type": "code",
   "execution_count": 61,
   "id": "65ffa274-794e-4d1f-8bc0-857a6f05e80d",
   "metadata": {
    "pycharm": {
     "name": "#%%\n"
    }
   },
   "outputs": [
    {
     "name": "stdout",
     "output_type": "stream",
     "text": [
      "hello\n"
     ]
    }
   ],
   "source": [
    "num = 9\n",
    "if num >= 0 and num <= 10:    # 判断值是否在0~10之间\n",
    "    print('hello')\n",
    "# 输出结果: hello"
   ]
  },
  {
   "cell_type": "markdown",
   "id": "e0c3ca42-3002-45a6-b7e5-e6966d48c3f2",
   "metadata": {},
   "source": [
    "### is和==的区别\n",
    "\n",
    "主要参考：[Python中is和==的区别](https://juejin.im/entry/5a3b62446fb9a0451f311b5c)\n",
    "\n",
    "在Python中一切都是对象。Python中对象包含的三个基本要素，分别是：id(身份标识)、type(数据类型)和value(值)。\n",
    "\n",
    "对象之间比较是否相等可以用==，也可以用is，is和==都是对对象进行比较判断作用的，但对对象比较判断的内容并不相同。\n",
    "\n",
    "- is比较的是两个对象的id值是否相等，也就是比较两个对象是否为同一个实例对象，是否指向同一个内存地址。\n",
    "- ==比较的是两个对象的内容是否相等，默认会调用对象的__eq__()方法。"
   ]
  },
  {
   "cell_type": "code",
   "execution_count": 62,
   "id": "4d9aca0e-31f1-4524-a42e-968e60d3de09",
   "metadata": {
    "pycharm": {
     "name": "#%%\n"
    }
   },
   "outputs": [
    {
     "name": "stdout",
     "output_type": "stream",
     "text": [
      "True\n",
      "True\n",
      "False\n",
      "True\n"
     ]
    }
   ],
   "source": [
    "a = [1, 2, 3]\n",
    "b = a\n",
    "print(b is a) \n",
    "print(b == a)\n",
    "b = a[:]\n",
    "print(b is a) \n",
    "print(b == a)"
   ]
  },
  {
   "cell_type": "markdown",
   "id": "7b833430-445b-4827-922e-de26e7dd3968",
   "metadata": {},
   "source": [
    "算术运算，比如max,min"
   ]
  },
  {
   "cell_type": "code",
   "execution_count": 63,
   "id": "acedbf81-e6d8-4c85-a2ae-f86c41f05b1e",
   "metadata": {},
   "outputs": [
    {
     "name": "stdout",
     "output_type": "stream",
     "text": [
      "3\n",
      "2\n"
     ]
    }
   ],
   "source": [
    "print(max(2,3))\n",
    "print(min(2,3))"
   ]
  },
  {
   "cell_type": "code",
   "execution_count": 64,
   "id": "2b733aa4-bf10-4d42-9048-fd9dede35db3",
   "metadata": {},
   "outputs": [
    {
     "data": {
      "text/plain": [
       "0"
      ]
     },
     "execution_count": 64,
     "metadata": {},
     "output_type": "execute_result"
    }
   ],
   "source": [
    "a=[3,3]\n",
    "a.index(max(a))"
   ]
  },
  {
   "cell_type": "markdown",
   "id": "7c234402-02ca-479a-a56d-e924baebe2fb",
   "metadata": {},
   "source": [
    "max只能返回第一个最大值对应的index，不过有时候我们想要返回所有的index，参考：[Python 获取相同的多个最大值元素](https://zhuanlan.zhihu.com/p/64035516)，可以这样："
   ]
  },
  {
   "cell_type": "code",
   "execution_count": 65,
   "id": "48fa07bd-2e3c-4263-a556-51fe2fbc68e0",
   "metadata": {},
   "outputs": [
    {
     "name": "stdout",
     "output_type": "stream",
     "text": [
      "[3, 5, 6, 7]\n"
     ]
    }
   ],
   "source": [
    "nums = [1,2,3,5,4,5,5,5]\n",
    "max_of_nums = max(nums)\n",
    "# print(max_of_nums)\n",
    "# ([k for k, v in count.items() if v == highest])\n",
    "# 先把索引和元素写成元组\n",
    "tup = [(i, nums[i]) for i in range(len(nums))]\n",
    "print([i for i, n in tup if n == max_of_nums])"
   ]
  },
  {
   "cell_type": "markdown",
   "id": "91f65588-0b4e-4bb8-bf48-918766c897d2",
   "metadata": {},
   "source": [
    "如果是对dict，可以有这样的例子："
   ]
  },
  {
   "cell_type": "code",
   "execution_count": 66,
   "id": "5b07f776-c82a-4452-ac71-14407320422a",
   "metadata": {},
   "outputs": [
    {
     "name": "stdout",
     "output_type": "stream",
     "text": [
      "['a', 'b']\n"
     ]
    }
   ],
   "source": [
    "count = {'a': 120, 'b': 120, 'c': 100}\n",
    "highest = max(count.values())\n",
    "print([k for k, v in count.items() if v == highest])"
   ]
  },
  {
   "cell_type": "markdown",
   "id": "3029c2c5-2d68-493a-9d8b-55378121dd94",
   "metadata": {},
   "source": [
    "比如判断分子包含多少个分母："
   ]
  },
  {
   "cell_type": "code",
   "execution_count": 67,
   "id": "a0d934c7-c6af-48fb-bb6d-3be845ccf80b",
   "metadata": {},
   "outputs": [
    {
     "data": {
      "text/plain": [
       "3"
      ]
     },
     "execution_count": 67,
     "metadata": {},
     "output_type": "execute_result"
    }
   ],
   "source": [
    "a=5\n",
    "b=2\n",
    "c=int(a/b) if a%b==0 else int(a/b)+1\n",
    "c"
   ]
  },
  {
   "cell_type": "markdown",
   "id": "96962f04-3827-4923-9878-9eedc21d23a7",
   "metadata": {},
   "source": [
    "### |= 运算符\n",
    "\n",
    "这是一种不太常见的赋值运算符.\n",
    "\n",
    "x |= 3 等价于 x = x | 3\n",
    "\n",
    "即做一个OR的位运算."
   ]
  },
  {
   "cell_type": "code",
   "execution_count": 68,
   "id": "1c83f3c1-4c1f-47af-b4c7-7b19ed7b9e8e",
   "metadata": {},
   "outputs": [
    {
     "data": {
      "text/plain": [
       "7"
      ]
     },
     "execution_count": 68,
     "metadata": {},
     "output_type": "execute_result"
    }
   ],
   "source": [
    "2|5 # 010 | 101 = 111"
   ]
  },
  {
   "cell_type": "code",
   "execution_count": 69,
   "id": "141197eb-deb2-4ab9-9351-57c5ef8d1275",
   "metadata": {},
   "outputs": [
    {
     "data": {
      "text/plain": [
       "7"
      ]
     },
     "execution_count": 69,
     "metadata": {},
     "output_type": "execute_result"
    }
   ],
   "source": [
    "x = 2\n",
    "x |= 5\n",
    "x"
   ]
  },
  {
   "cell_type": "markdown",
   "id": "74641f34-33bf-4d15-9d27-c5bf5c0a7424",
   "metadata": {},
   "source": [
    "## 函数\n",
    "\n",
    "函数就是直接编写，在脚本中调用即可，相关内容可参考开头提供的guide文档。这里重点介绍python特别的函数形式以及面向对象的基本内容。\n",
    "\n",
    "### With语句\n",
    "\n",
    "有一些任务，可能事先需要设置，事后做清理工作。对于这种场景，Python的with语句提供了一种非常方便的处理方式。\n",
    "一个很好的例子是文件处理，你需要获取一个文件句柄，从文件中读取数据，然后关闭文件句柄。\n",
    "\n",
    "如果不用with语句，代码如下："
   ]
  },
  {
   "cell_type": "code",
   "execution_count": 71,
   "id": "99a4afe6-2ea4-4c65-ae92-ae20d9b1c8dc",
   "metadata": {
    "pycharm": {
     "name": "#%%\n"
    }
   },
   "outputs": [],
   "source": [
    "file = open(\"data.json\")\n",
    "data = file.read()\n",
    "file.close()"
   ]
  },
  {
   "cell_type": "markdown",
   "id": "b5d0d845-5f0d-4fd8-aa0c-5d402c97d20d",
   "metadata": {},
   "source": [
    "这里有两个问题。一是可能忘记关闭文件句柄；二是文件读取数据发生异常，没有进行任何处理。下面是处理异常的加强版本。\n"
   ]
  },
  {
   "cell_type": "code",
   "execution_count": 72,
   "id": "6dea1c15-a28b-4615-87a4-8e55b76f2307",
   "metadata": {
    "pycharm": {
     "name": "#%% \n"
    }
   },
   "outputs": [],
   "source": [
    "file = open(\"data.json\")\n",
    "try:\n",
    "    data = file.read()\n",
    "finally:\n",
    "    file.close()\n",
    "    "
   ]
  },
  {
   "cell_type": "markdown",
   "id": "08e32ee7-3b09-446c-aa2d-8da4f4e1502f",
   "metadata": {},
   "source": [
    "虽然这段代码运行良好，但是太冗长了。这时候就是with一展身手的时候了。\n",
    "除了有更优雅的语法，with还可以很好的处理上下文环境产生的异常。下面是with版本的代码\n"
   ]
  },
  {
   "cell_type": "code",
   "execution_count": 73,
   "id": "6671b89c-6a47-4b22-bdfb-cad55467a936",
   "metadata": {
    "pycharm": {
     "name": "#%%\n"
    }
   },
   "outputs": [],
   "source": [
    "with open(\"data.json\") as file:\n",
    "    data = file.read()"
   ]
  },
  {
   "cell_type": "markdown",
   "id": "9e9d8be8-4211-48d8-a6bb-2ef5740a3c15",
   "metadata": {},
   "source": [
    "with如何工作？\n",
    "\n",
    "Python对with的处理还很聪明。基本思想是with所求值的对象必须有一个__enter__()方法，一个__exit__()方法。\n",
    "\n",
    "紧跟with后面的语句被求值后，返回对象的__enter__()方法被调用，这个方法的返回值将被赋值给as后面的变量。\n",
    "当with后面的代码块全部被执行完之后，将调用前面返回对象的__exit__()方法。\n",
    "\n",
    "#### 回调函数"
   ]
  },
  {
   "cell_type": "code",
   "execution_count": 74,
   "id": "af20689c-7570-4451-ad41-e9959f68edef",
   "metadata": {
    "pycharm": {
     "name": "#%%\n"
    }
   },
   "outputs": [
    {
     "name": "stdout",
     "output_type": "stream",
     "text": [
      "Got: 5\n",
      "Got: helloworld\n"
     ]
    }
   ],
   "source": [
    "import time\n",
    "\n",
    "\n",
    "def apply_async(func, args, *, callback):\n",
    "    \"\"\"回调函数的应用，python的函数很灵活，可以直接做函数参数\"\"\"\n",
    "    # Compute the result\n",
    "    result = func(*args)\n",
    "\n",
    "    # Invoke the callback with the result\n",
    "    callback(result)\n",
    "\n",
    "\n",
    "def print_result(result):\n",
    "    print('Got:', result)\n",
    "\n",
    "\n",
    "def add(x, y):\n",
    "    return x + y\n",
    "\n",
    "\n",
    "apply_async(add, (2, 3), callback=print_result)\n",
    "\n",
    "apply_async(add, ('hello', 'world'), callback=print_result)"
   ]
  },
  {
   "cell_type": "markdown",
   "id": "e9c6e637-b538-4d57-91e0-93c43d5a87a1",
   "metadata": {},
   "source": [
    "### 一些高级特性\n",
    "\n",
    "切片比较简单，这里就不赘述。\n",
    "\n",
    "迭代稍微说一下：python的for循环抽象程度是很高的，可以作用于任何可迭代对象上。比如dict的遍历，默认情况下，dict迭代的是key。如果要迭代value，可以用for value in d.values()，如果要同时迭代key和value，可以用for k, v in d.items()。\n",
    "\n",
    "然后再补充一些常用的内置函数。"
   ]
  },
  {
   "cell_type": "code",
   "execution_count": 75,
   "id": "1c45fda7-7eed-44ff-bf64-84c2de9da51b",
   "metadata": {
    "pycharm": {
     "name": "#%%\n"
    }
   },
   "outputs": [
    {
     "name": "stdout",
     "output_type": "stream",
     "text": [
      "a\n",
      "b\n",
      "c\n"
     ]
    }
   ],
   "source": [
    "d = {'a': 1, 'b': 2, 'c': 3}\n",
    "for key in d:\n",
    "    print(key)"
   ]
  },
  {
   "cell_type": "markdown",
   "id": "6ae2d90d-2dc0-462b-ae35-0b51d98c9f83",
   "metadata": {},
   "source": [
    "对list也可以实现类似Java那样的下标循环，Python内置的enumerate函数可以把一个list变成索引-元素对，这样就可以在for循环中同时迭代索引和元素本身："
   ]
  },
  {
   "cell_type": "code",
   "execution_count": 76,
   "id": "76b34d26-07dd-4038-8739-a4c31183d81c",
   "metadata": {
    "pycharm": {
     "name": "#%%\n"
    }
   },
   "outputs": [
    {
     "name": "stdout",
     "output_type": "stream",
     "text": [
      "0 one\n",
      "1 two\n",
      "2 three\n"
     ]
    }
   ],
   "source": [
    "seq = ['one', 'two', 'three']\n",
    "for i, element in enumerate(seq):\n",
    "    print(i, element)"
   ]
  },
  {
   "cell_type": "markdown",
   "id": "81850778-caa3-4327-b146-45c8b085ec29",
   "metadata": {},
   "source": [
    "python还有一个很强大的列表生成式，直接看代码："
   ]
  },
  {
   "cell_type": "code",
   "execution_count": 77,
   "id": "1b30bd7e-a586-4678-b304-d1e8bd4fe15c",
   "metadata": {
    "pycharm": {
     "name": "#%%\n"
    }
   },
   "outputs": [
    {
     "data": {
      "text/plain": [
       "[1, 4, 9, 16, 25, 36, 49, 64, 81, 100]"
      ]
     },
     "execution_count": 77,
     "metadata": {},
     "output_type": "execute_result"
    }
   ],
   "source": [
    "[x * x for x in range(1, 11)]"
   ]
  },
  {
   "cell_type": "markdown",
   "id": "695e1c06-e228-4f96-ac5f-0410ecadc8db",
   "metadata": {},
   "source": [
    "for循环后面还可以加上if判断："
   ]
  },
  {
   "cell_type": "code",
   "execution_count": 78,
   "id": "ca0ee631-b7d8-4c5e-bcf4-6a6efe55c557",
   "metadata": {
    "pycharm": {
     "name": "#%%\n"
    }
   },
   "outputs": [
    {
     "data": {
      "text/plain": [
       "[4, 16, 36, 64, 100]"
      ]
     },
     "execution_count": 78,
     "metadata": {},
     "output_type": "execute_result"
    }
   ],
   "source": [
    "[x * x for x in range(1, 11) if x % 2 == 0]"
   ]
  },
  {
   "cell_type": "markdown",
   "id": "ca4dd3b4-e82d-4cf3-9f29-d0a1cce0c126",
   "metadata": {},
   "source": [
    "通过列表生成式，我们可以直接创建一个列表。但是，受到内存限制，列表容量肯定是有限的。而且，创建一个包含100万个元素的列表，不仅占用很大的存储空间，如果我们仅仅需要访问前面几个元素，那后面绝大多数元素占用的空间都白白浪费了。\n",
    "\n",
    "所以，如果列表元素可以按照某种算法推算出来，那我们是否可以**在循环的过程中不断推算出后续的元素**呢？这样就不必创建完整的list，从而节省大量的空间。在Python中，这种**一边循环一边计算的机制，称为生成器**：generator。只要把一个列表生成式的[]改成()，就创建了一个generator。\n",
    "\n",
    "generator保存的是算法，每次调用next(g)，就计算出g的下一个元素的值，直到计算到最后一个元素。更详细的信息在advanced-python一文中再解析。"
   ]
  },
  {
   "cell_type": "code",
   "execution_count": 79,
   "id": "11c6846d-9a0f-4ab2-b434-76526f0c3b17",
   "metadata": {
    "pycharm": {
     "name": "#%%\n"
    }
   },
   "outputs": [
    {
     "name": "stdout",
     "output_type": "stream",
     "text": [
      "0\n",
      "1\n",
      "4\n",
      "9\n",
      "16\n",
      "25\n",
      "36\n",
      "49\n",
      "64\n",
      "81\n"
     ]
    }
   ],
   "source": [
    "g = (x * x for x in range(10))\n",
    "g\n",
    "for n in g:\n",
    "    print(n)"
   ]
  },
  {
   "cell_type": "markdown",
   "id": "0797794e-b572-4b0e-b468-b13e989ad62a",
   "metadata": {},
   "source": [
    "而可以**被next()函数调用并不断返回下一个值的对象称为迭代器**：Iterator。"
   ]
  },
  {
   "cell_type": "markdown",
   "id": "693c898e-75a4-49aa-9c4c-00c60269c232",
   "metadata": {},
   "source": [
    "接下来补充一些常用的内置函数，主要跟迭代运算等相关。利用内置函数，可以有较快的运算速度。主要参考了[python 3 教程](https://www.runoob.com/python3/python3-tutorial.html)\n",
    "\n",
    "all()函数也是一个常用的内置函数，用于判断给定的可迭代参数 iterable 中的所有元素是否都为 TRUE，如果是返回 True，否则返回 False。函数等价于：\n",
    "\n",
    "``` python\n",
    "def all(iterable):\n",
    "    for element in iterable:\n",
    "        if not element:\n",
    "            return False\n",
    "    return True\n",
    "```\n",
    "\n",
    "all()函数语法：all(iterable)"
   ]
  },
  {
   "cell_type": "code",
   "execution_count": 80,
   "id": "1fcbd293-1995-44a3-b51b-ed52260d4b47",
   "metadata": {},
   "outputs": [
    {
     "data": {
      "text/plain": [
       "True"
      ]
     },
     "execution_count": 80,
     "metadata": {},
     "output_type": "execute_result"
    }
   ],
   "source": [
    "all(['a', 'b', 'c', 'd'])  # 列表list，元素都不为空或0"
   ]
  },
  {
   "cell_type": "code",
   "execution_count": 81,
   "id": "056e596f-dcf7-4545-8c42-ceeaf7f3062b",
   "metadata": {},
   "outputs": [
    {
     "data": {
      "text/plain": [
       "False"
      ]
     },
     "execution_count": 81,
     "metadata": {},
     "output_type": "execute_result"
    }
   ],
   "source": [
    "all([0, 1,2, 3])          # 列表list，存在一个为0的元素"
   ]
  },
  {
   "cell_type": "markdown",
   "id": "b847a5df-9b13-4f7a-9eb1-16822bb45716",
   "metadata": {},
   "source": [
    "zip() 函数用于将可迭代的对象作为参数，**将对象中对应的元素打包成一个个元组**，然后返回由这些元组组成的对象，这样做的好处是节约了不少的内存。zip就是解压，所以有时候会在python中说到解压，不是指的文件那个解压，而是这个zip函数的反向操作，即从一个序列里把数据分离。"
   ]
  },
  {
   "cell_type": "code",
   "execution_count": 82,
   "id": "83e35271-63c7-4f94-91f4-af2ec6382281",
   "metadata": {},
   "outputs": [
    {
     "name": "stdout",
     "output_type": "stream",
     "text": [
      "<zip object at 0x00000161E7B85380>\n",
      "list of zipped tuples: [(1, 4), (2, 5), (3, 6)]\n",
      "list of zipped tuples: [(1, 4), (2, 5), (3, 6)]\n"
     ]
    }
   ],
   "source": [
    "a = [1,2,3]\n",
    "b = [4,5,6]\n",
    "c = [4,5,6,7,8]\n",
    "zipped = zip(a,b)     # 返回一个对象\n",
    "print(zipped)\n",
    "print(\"list of zipped tuples:\",list(zipped) )\n",
    "print(\"list of zipped tuples:\",list(zip(a,c))  )"
   ]
  },
  {
   "cell_type": "code",
   "execution_count": 83,
   "id": "f0e1251d-a986-4e0e-b87f-1d48147951b7",
   "metadata": {},
   "outputs": [
    {
     "name": "stdout",
     "output_type": "stream",
     "text": [
      "[1, 2, 3]\n",
      "[4, 5, 6]\n"
     ]
    }
   ],
   "source": [
    "# 与 zip 相反，zip(*) 可理解为解压，返回二维矩阵式\n",
    "a1, a2 = zip(*zip(a,b)) \n",
    "print(list(a1))\n",
    "print(list(a2))"
   ]
  }
 ],
 "metadata": {
  "kernelspec": {
   "display_name": "Python 3 (ipykernel)",
   "language": "python",
   "name": "python3"
  },
  "language_info": {
   "codemirror_mode": {
    "name": "ipython",
    "version": 3
   },
   "file_extension": ".py",
   "mimetype": "text/x-python",
   "name": "python",
   "nbconvert_exporter": "python",
   "pygments_lexer": "ipython3",
   "version": "3.9.6"
  }
 },
 "nbformat": 4,
 "nbformat_minor": 5
}
