{
 "cells": [
  {
   "cell_type": "markdown",
   "id": "32f64d56-b8da-4b54-a411-625751f1cf71",
   "metadata": {},
   "source": [
    "# Python基础语法\n",
    "\n",
    "## 数据类型\n",
    "\n",
    "整型、浮点型等特别基础的就不记录了，不过python中直接赋值、浅拷贝和深度拷贝是需要注意的。另外，重点记录一些字符串相关的内容等。\n",
    "\n",
    "### 直接赋值、浅拷贝和深度拷贝\n",
    "\n",
    "这部分参考了[Python 直接赋值、浅拷贝和深度拷贝解析](https://www.runoob.com/w3cnote/python-understanding-dict-copy-shallow-or-deep.html)。\n",
    "\n",
    "- 直接赋值：其实就是对象的引用（别名）。\n",
    "- 浅拷贝(copy)：拷贝父对象，不会拷贝对象的内部的子对象。\n",
    "- 深拷贝(deepcopy)： copy 模块的 deepcopy 方法，完全拷贝了父对象及其子对象。\n",
    "\n",
    "直接看例子，首先是浅拷贝："
   ]
  },
  {
   "cell_type": "code",
   "execution_count": 1,
   "id": "d3801c58-453e-46cd-a7b1-7b45d86e08fa",
   "metadata": {},
   "outputs": [
    {
     "data": {
      "text/plain": [
       "({1: [1, 2, 3]}, {1: [1, 2, 3]})"
      ]
     },
     "execution_count": 1,
     "metadata": {},
     "output_type": "execute_result"
    }
   ],
   "source": [
    "a = {1: [1,2,3]}\n",
    "b = a.copy()\n",
    "a, b"
   ]
  },
  {
   "cell_type": "code",
   "execution_count": 2,
   "id": "14d8f427-5434-4547-9d28-fbacb54298ca",
   "metadata": {},
   "outputs": [
    {
     "data": {
      "text/plain": [
       "({1: [1, 2, 3, 4]}, {1: [1, 2, 3, 4]})"
      ]
     },
     "execution_count": 2,
     "metadata": {},
     "output_type": "execute_result"
    }
   ],
   "source": [
    "a[1].append(4)\n",
    "a, b"
   ]
  },
  {
   "cell_type": "markdown",
   "id": "f1afe6c3-3e20-42a2-91ef-48a126cfc613",
   "metadata": {},
   "source": [
    "深度copy需要引入copy模块："
   ]
  },
  {
   "cell_type": "code",
   "execution_count": 3,
   "id": "9eede24f-7d76-4e0d-b065-63c2ec9da1a0",
   "metadata": {},
   "outputs": [
    {
     "data": {
      "text/plain": [
       "({1: [1, 2, 3, 4]}, {1: [1, 2, 3, 4]})"
      ]
     },
     "execution_count": 3,
     "metadata": {},
     "output_type": "execute_result"
    }
   ],
   "source": [
    "import copy\n",
    "c = copy.deepcopy(a)\n",
    "a, c"
   ]
  },
  {
   "cell_type": "code",
   "execution_count": 4,
   "id": "6322697d-d8ef-40a8-aeab-7e3cc196e785",
   "metadata": {},
   "outputs": [
    {
     "data": {
      "text/plain": [
       "({1: [1, 2, 3, 4, 5]}, {1: [1, 2, 3, 4]})"
      ]
     },
     "execution_count": 4,
     "metadata": {},
     "output_type": "execute_result"
    }
   ],
   "source": [
    "a[1].append(5)\n",
    "a, c"
   ]
  },
  {
   "cell_type": "markdown",
   "id": "1d2240d3-c396-4b99-92a4-99711afa78c1",
   "metadata": {},
   "source": [
    "b = a: 赋值引用，a 和 b 都指向同一个对象。\n",
    "\n",
    "![](pictures/1489720931-7116-4AQC6.png)\n",
    "\n",
    "b = a.copy(): 浅拷贝, a 和 b 是一个独立的对象，但他们的子对象还是指向统一对象（是引用）。\n",
    "\n",
    "![](pictures/1489720930-6827-Vtk4m.png)\n",
    "\n",
    "b = copy.deepcopy(a): 深度拷贝, a 和 b 完全拷贝了父对象及其子对象，两者是完全独立的。\n",
    "\n",
    "![](pictures/1489720930-5882-BO4qO.png)\n",
    "\n",
    "总结下例子："
   ]
  },
  {
   "cell_type": "code",
   "execution_count": 5,
   "id": "4cb1f0ca-7997-4e1a-bc09-ffcfde74e29e",
   "metadata": {},
   "outputs": [
    {
     "name": "stdout",
     "output_type": "stream",
     "text": [
      "a =  [1, 2, 3, 4, ['a', 'b', 'c'], 5]\n",
      "b =  [1, 2, 3, 4, ['a', 'b', 'c'], 5]\n",
      "c =  [1, 2, 3, 4, ['a', 'b', 'c']]\n",
      "d =  [1, 2, 3, 4, ['a', 'b']]\n"
     ]
    }
   ],
   "source": [
    "import copy\n",
    "a = [1, 2, 3, 4, ['a', 'b']] #原始对象\n",
    " \n",
    "b = a                       #赋值，传对象的引用\n",
    "c = copy.copy(a)            #对象拷贝，浅拷贝\n",
    "d = copy.deepcopy(a)        #对象拷贝，深拷贝\n",
    " \n",
    "a.append(5)                 #修改对象a\n",
    "a[4].append('c')            #修改对象a中的['a', 'b']数组对象\n",
    " \n",
    "print( 'a = ', a )\n",
    "print( 'b = ', b )\n",
    "print( 'c = ', c )\n",
    "print( 'd = ', d )"
   ]
  },
  {
   "cell_type": "markdown",
   "id": "04d22683-817b-411c-b0e6-598f3a0626cb",
   "metadata": {},
   "source": [
    "### 字符串\n",
    "\n",
    "首先，记录一些关于编码的问题。计算机只能处理数字，如果要处理文本，就必须先把文本转换为数字才能处理。最早只有**127个字符**被编码到计算机里，也就是大小写英文字母、数字和一些符号，这个编码表被称为**ASCII编码**，比如大写字母A的编码是65，小写字母z的编码是122。\n",
    "\n",
    "但是要处理中文显然一个字节是不够的，至少需要两个字节，而且还不能和ASCII编码冲突，所以，中国制定了**GB2312编码**，用来把中文编进去。\n",
    "\n",
    "全世界有上百种语言，各国有各国的标准，就会不可避免地出现冲突，Unicode应运而生。Unicode把所有语言都统一到一套编码里，最常用的是用两个字节表示一个字符（如果要用到非常偏僻的字符，就需要4个字节）。\n",
    "\n",
    "但是，如果你写的文本基本上全部是英文的话，用Unicode编码比ASCII编码需要多一倍的存储空间，在存储和传输上就十分不划算。所以又出现了把Unicode编码转化为 **“可变长编码”的UTF-8编码**。UTF-8编码把一个Unicode字符根据不同的数字大小编码成1-6个字节，常用的英文字母被编码成1个字节，汉字通常是3个字节，只有很生僻的字符才会被编码成4-6个字节。如果你要传输的文本包含大量英文字符，用UTF-8编码就能节省空间UTF-8编码有一个额外的好处，就是ASCII编码实际上可以被看成是UTF-8编码的一部分，所以，大量只支持ASCII编码的历史遗留软件可以在UTF-8编码下继续工作。\n",
    "\n",
    "现在计算机系统通用的字符编码工作方式：在计算机内存中，统一使用Unicode编码，当需要保存到硬盘或者需要传输的时候，就转换为UTF-8编码。\n",
    "\n",
    "在最新的Python 3版本中，字符串是以Unicode编码的，也就是说，Python的字符串支持多语言。Python的字符串类型是str，在内存中以Unicode表示，一个字符对应若干个字节。如果要在网络上传输，或者保存到磁盘上，就需要把str变为以字节为单位的bytes。以Unicode表示的str通过encode()方法可以编码为指定的bytes"
   ]
  },
  {
   "cell_type": "code",
   "execution_count": 6,
   "id": "b770f985-6736-400e-ab4d-9fe1526fa88f",
   "metadata": {},
   "outputs": [
    {
     "data": {
      "text/plain": [
       "b'ABC'"
      ]
     },
     "execution_count": 6,
     "metadata": {},
     "output_type": "execute_result"
    }
   ],
   "source": [
    "'ABC'.encode('ascii')"
   ]
  },
  {
   "cell_type": "code",
   "execution_count": 7,
   "id": "e0630fb1-53e0-42fb-8906-e3d5238ee73f",
   "metadata": {},
   "outputs": [
    {
     "data": {
      "text/plain": [
       "b'\\xe4\\xb8\\xad\\xe6\\x96\\x87'"
      ]
     },
     "execution_count": 7,
     "metadata": {},
     "output_type": "execute_result"
    }
   ],
   "source": [
    "'中文'.encode('utf-8')"
   ]
  },
  {
   "cell_type": "markdown",
   "id": "3f365ce2-488f-4852-94b5-c97ca3c7193c",
   "metadata": {},
   "source": [
    "反过来，如果我们从网络或磁盘上读取了字节流，那么读到的数据就是bytes。要把bytes变为str，就需要用decode()方法："
   ]
  },
  {
   "cell_type": "code",
   "execution_count": 8,
   "id": "297ed083-460f-48cf-95fa-83ca7d243e8e",
   "metadata": {},
   "outputs": [
    {
     "data": {
      "text/plain": [
       "'ABC'"
      ]
     },
     "execution_count": 8,
     "metadata": {},
     "output_type": "execute_result"
    }
   ],
   "source": [
    "b'ABC'.decode('ascii')"
   ]
  },
  {
   "cell_type": "code",
   "execution_count": 9,
   "id": "d848960d-5ee2-4866-ae5a-8e6985bae36b",
   "metadata": {},
   "outputs": [
    {
     "data": {
      "text/plain": [
       "'中文'"
      ]
     },
     "execution_count": 9,
     "metadata": {},
     "output_type": "execute_result"
    }
   ],
   "source": [
    "b'\\xe4\\xb8\\xad\\xe6\\x96\\x87'.decode('utf-8')"
   ]
  },
  {
   "cell_type": "code",
   "execution_count": 10,
   "id": "035c131e-e738-4045-90d5-d3b9c9c20be1",
   "metadata": {},
   "outputs": [
    {
     "data": {
      "text/plain": [
       "2"
      ]
     },
     "execution_count": 10,
     "metadata": {},
     "output_type": "execute_result"
    }
   ],
   "source": [
    "len('中文')"
   ]
  },
  {
   "cell_type": "code",
   "execution_count": 11,
   "id": "6b80a844-3bed-45c0-a4c7-5886bab59718",
   "metadata": {},
   "outputs": [
    {
     "data": {
      "text/plain": [
       "6"
      ]
     },
     "execution_count": 11,
     "metadata": {},
     "output_type": "execute_result"
    }
   ],
   "source": [
    "len('中文'.encode('utf-8'))"
   ]
  },
  {
   "cell_type": "markdown",
   "id": "49a95a85-a522-4f9d-9780-28443a425c52",
   "metadata": {},
   "source": [
    "接下来字符串操作："
   ]
  },
  {
   "cell_type": "code",
   "execution_count": 12,
   "id": "653c6550-0a50-411b-8e17-8ba010761faa",
   "metadata": {
    "pycharm": {
     "name": "#%%\n"
    }
   },
   "outputs": [
    {
     "name": "stdout",
     "output_type": "stream",
     "text": [
      "A\n",
      "65\n",
      "2\n",
      "Exist\n",
      "world\n",
      "HELLOWORLD\n",
      "helloworld\n",
      "Helloworld\n",
      "Helloworld\n"
     ]
    }
   ],
   "source": [
    "# 数据和字符串转换\n",
    "print(chr(65))\n",
    "print(ord('A'))\n",
    "\n",
    "print(int('2'))\n",
    "\n",
    "\"\"\" 字符串包含\"\"\"\n",
    "test_string = 'helloworld'\n",
    "if 'world' in test_string:\n",
    "    print('Exist')\n",
    "else:\n",
    "    print('Not exist')\n",
    "\n",
    "# 字符串的子字符串，不像java用substring，而是直接使用索引取值\n",
    "print(test_string[5:])\n",
    "\n",
    "# 大小写转换\n",
    "print(test_string.upper())          # 把所有字符中的小写字母转换成大写字母\n",
    "print(test_string.lower())          # 把所有字符中的大写字母转换成小写字母\n",
    "print(test_string.capitalize())     # 把第一个字母转化为大写字母，其余小写\n",
    "print(test_string.title())          # 把每个单词的第一个字母转化为大写，其余小写 "
   ]
  },
  {
   "cell_type": "markdown",
   "id": "9af3f494-ca7b-435b-893e-0b701ce0ce88",
   "metadata": {},
   "source": [
    "接着记录下关于格式化的内容。在Python中，采用的格式化方式和C语言是一致的，用%实现，常见的占位符有：%d\t整数，%f\t浮点数，%s\t字符串。举例如下："
   ]
  },
  {
   "cell_type": "code",
   "execution_count": 13,
   "id": "34310288-43b7-48b3-936a-51b01b76d763",
   "metadata": {},
   "outputs": [
    {
     "data": {
      "text/plain": [
       "'Hi, Michael, you have $1000000.'"
      ]
     },
     "execution_count": 13,
     "metadata": {},
     "output_type": "execute_result"
    }
   ],
   "source": [
    "'Hi, %s, you have $%d.' % ('Michael', 1000000)"
   ]
  },
  {
   "cell_type": "markdown",
   "id": "a4da66f1-bbaa-46e1-8e15-b332a67bd488",
   "metadata": {},
   "source": [
    "还有zfill()函数也常用：Python zfill() 方法返回指定长度的字符串，原字符串右对齐，前面填充0。"
   ]
  },
  {
   "cell_type": "code",
   "execution_count": 14,
   "id": "e1839067-dc1b-4383-a1ef-b49d912c4029",
   "metadata": {
    "pycharm": {
     "name": "#%%\n"
    }
   },
   "outputs": [
    {
     "name": "stdout",
     "output_type": "stream",
     "text": [
      "00000000this is string example....wow!!!\n",
      "000000000000000000this is string example....wow!!!\n"
     ]
    }
   ],
   "source": [
    "str = \"this is string example....wow!!!\";\n",
    "\n",
    "print(str.zfill(40))\n",
    "print(str.zfill(50))"
   ]
  },
  {
   "cell_type": "markdown",
   "id": "cd1ba9a2-c955-4482-afc1-1a5ada612224",
   "metadata": {},
   "source": [
    "更多字符串操作如下\n",
    "\n",
    "#### 字符串搜索和替换\n",
    "\n",
    "在字符串中搜索和匹配指定的文本模式。\n",
    "\n",
    "对于简单的字面模式，直接使用 str.replace() 方法即可"
   ]
  },
  {
   "cell_type": "code",
   "execution_count": 15,
   "id": "7e6c4657-71c1-42ea-bd72-53a87f43e984",
   "metadata": {},
   "outputs": [
    {
     "data": {
      "text/plain": [
       "'yep, but no, but yep, but no, but yep'"
      ]
     },
     "execution_count": 15,
     "metadata": {},
     "output_type": "execute_result"
    }
   ],
   "source": [
    "text = 'yeah, but no, but yeah, but no, but yeah'\n",
    "text.replace('yeah', 'yep')"
   ]
  },
  {
   "cell_type": "markdown",
   "id": "7b0db8f4-1f19-4b34-959b-2108f8d84391",
   "metadata": {},
   "source": [
    "对于复杂的模式，请使用 re 模块中的 sub() 函数。 为了说明这个，假设你想将形式为 11/27/2012 的日期字符串改成 2012-11-27 "
   ]
  },
  {
   "cell_type": "code",
   "execution_count": 16,
   "id": "3dc03656-222e-43a3-ba97-cfb3baae7d63",
   "metadata": {},
   "outputs": [
    {
     "data": {
      "text/plain": [
       "'Today is 2012-11-27. PyCon starts 2013-3-13.'"
      ]
     },
     "execution_count": 16,
     "metadata": {},
     "output_type": "execute_result"
    }
   ],
   "source": [
    "text = 'Today is 11/27/2012. PyCon starts 3/13/2013.'\n",
    "import re\n",
    "re.sub(r'(\\d+)/(\\d+)/(\\d+)', r'\\3-\\1-\\2', text)"
   ]
  },
  {
   "cell_type": "markdown",
   "id": "db5e2488-421f-460a-bd8b-8ba64bbdc328",
   "metadata": {},
   "source": [
    "sub() 函数中的第一个参数是被匹配的模式，第二个参数是替换模式。反斜杠数字比如 \\3 指向前面模式的捕获组号。"
   ]
  },
  {
   "cell_type": "markdown",
   "id": "0de0a2bb-6392-437d-88c9-3513a7ca2b42",
   "metadata": {},
   "source": [
    "#### 拆分／拼接字符串\n",
    "\n",
    "字符串拆分与拼接是很常用的操作："
   ]
  },
  {
   "cell_type": "code",
   "execution_count": 17,
   "id": "89463a9c-f98e-4f3d-9b43-d590f48ec28b",
   "metadata": {},
   "outputs": [
    {
     "name": "stdout",
     "output_type": "stream",
     "text": [
      "['geeks', 'for', 'geeks']\n",
      "['geeks', 'for', 'geeks']\n",
      "['geeks', 'for', 'geeks']\n",
      "['Cat', 'Bat', 'Sat', 'Fat', 'Or']\n"
     ]
    }
   ],
   "source": [
    "text = 'geeks for geeks'\n",
    "\n",
    "# Splits at space \n",
    "print(text.split()) \n",
    "\n",
    "word = 'geeks, for, geeks'\n",
    "\n",
    "# Splits at ',' \n",
    "print(word.split(', ')) \n",
    "\n",
    "word = 'geeks:for:geeks'\n",
    "\n",
    "# Splitting at ':' \n",
    "print(word.split(':')) \n",
    "\n",
    "word = 'CatBatSatFatOr'\n",
    "\n",
    "# Splitting at 3 \n",
    "print([word[i:i+3] for i in range(0, len(word), 3)]) "
   ]
  },
  {
   "cell_type": "markdown",
   "id": "6919d7bf-0edd-45c3-aaff-13c46b52a431",
   "metadata": {},
   "source": [
    "将几个小的字符串合并为一个大的字符串。想要合并的字符串是在一个序列或者 iterable 中，那么最快的方式就是使用 join() 方法。"
   ]
  },
  {
   "cell_type": "code",
   "execution_count": 18,
   "id": "38f27844-dceb-4dde-9b8f-0998774c4e89",
   "metadata": {},
   "outputs": [
    {
     "name": "stdout",
     "output_type": "stream",
     "text": [
      "Is Chicago Not Chicago?\n",
      "Is,Chicago,Not,Chicago?\n"
     ]
    }
   ],
   "source": [
    "parts = ['Is', 'Chicago', 'Not', 'Chicago?']\n",
    "print(' '.join(parts))\n",
    "print(','.join(parts))"
   ]
  },
  {
   "cell_type": "markdown",
   "id": "3c4f9f49-93a8-41cd-a5bf-18b682fa0f20",
   "metadata": {},
   "source": [
    "当使用加号(+)操作符去连接大量的字符串的时候是非常低效率的， 因为加号连接会引起内存复制以及垃圾回收操作。不应像下面这样写字符串连接代码："
   ]
  },
  {
   "cell_type": "code",
   "execution_count": 19,
   "id": "2697a7e6-d608-4cbe-99c7-2d82c2bc9001",
   "metadata": {},
   "outputs": [],
   "source": [
    "s = ''\n",
    "for p in parts:\n",
    "    s += p"
   ]
  },
  {
   "cell_type": "markdown",
   "id": "bb498a1d-1286-47bf-90cf-0fad42775f64",
   "metadata": {},
   "source": [
    "这种写法会比使用 join() 方法运行的要慢一些，因为每一次执行+=操作的时候会创建一个新的字符串对象。 你最好是先收集所有的字符串片段然后再将它们连接起来。所以能用join就尽量不用+了。\n",
    "\n",
    "最后补充一个拆分后合并一部分的小例子："
   ]
  },
  {
   "cell_type": "code",
   "execution_count": 20,
   "id": "0b172f42-591d-4a63-bdf6-cd1a2055d850",
   "metadata": {},
   "outputs": [
    {
     "data": {
      "text/plain": [
       "'/geeks/for'"
      ]
     },
     "execution_count": 20,
     "metadata": {},
     "output_type": "execute_result"
    }
   ],
   "source": [
    "text = '/geeks/for/geeks'\n",
    "temp_list = text.split('/')\n",
    "prefix = '/'.join(temp_list[:-1])\n",
    "prefix"
   ]
  },
  {
   "cell_type": "markdown",
   "id": "237d4312-e228-4523-bffa-d6104da0d075",
   "metadata": {},
   "source": [
    "#### 字符串中插入变量\n",
    "\n",
    "想创建一个内嵌变量的字符串，变量被它的值所表示的字符串替换掉。这在包括print结果，构建带参数的url等很多场景下都会用到。\n",
    "\n",
    "Python并没有对在字符串中简单替换变量值提供直接的支持。 但是通过使用字符串的 format() 方法来解决这个问题。比如："
   ]
  },
  {
   "cell_type": "code",
   "execution_count": 21,
   "id": "7c1462f5-242e-4439-bc66-2b9d7c590c3a",
   "metadata": {},
   "outputs": [
    {
     "data": {
      "text/plain": [
       "'Guido has 37 messages.'"
      ]
     },
     "execution_count": 21,
     "metadata": {},
     "output_type": "execute_result"
    }
   ],
   "source": [
    "s = '{name} has {n} messages.'\n",
    "s.format(name='Guido', n=37)"
   ]
  },
  {
   "cell_type": "markdown",
   "id": "32c238c5-28a9-48bb-bbf7-17714eac1b5d",
   "metadata": {},
   "source": [
    "或者，如果要被替换的变量能在变量域中找到， 那么可以结合使用format_map() 和 vars() 。就像下面这样："
   ]
  },
  {
   "cell_type": "code",
   "execution_count": 22,
   "id": "f81857f6-a3bd-45f1-9a24-09e92d64474f",
   "metadata": {},
   "outputs": [
    {
     "data": {
      "text/plain": [
       "'Guido has 37 messages.'"
      ]
     },
     "execution_count": 22,
     "metadata": {},
     "output_type": "execute_result"
    }
   ],
   "source": [
    "name = 'Guido'\n",
    "n = 37\n",
    "s.format_map(vars())"
   ]
  },
  {
   "cell_type": "markdown",
   "id": "17e60450-0886-46c4-a3e8-92e187ba8ecf",
   "metadata": {},
   "source": [
    "vars() 还有一个有意思的特性就是它也适用于对象实例。"
   ]
  },
  {
   "cell_type": "code",
   "execution_count": 23,
   "id": "11402b2c-200e-455e-8c8a-7b2a72f9de74",
   "metadata": {},
   "outputs": [
    {
     "name": "stdout",
     "output_type": "stream",
     "text": [
      "Guido has 37 messages.\n"
     ]
    }
   ],
   "source": [
    "class Info:\n",
    "     def __init__(self, name, n):\n",
    "            self.name = name\n",
    "            self.n = n\n",
    "            \n",
    "a = Info('Guido',37)\n",
    "s_out=s.format_map(vars(a))\n",
    "print(s_out)"
   ]
  },
  {
   "cell_type": "markdown",
   "id": "a9036df2-67e7-456c-8815-c3ac6ab96793",
   "metadata": {},
   "source": [
    "format 和 format_map() 的一个缺陷就是它们并不能很好的处理变量缺失的情况，一种避免这种错误的方法是另外定义一个含有 __missing__() 方法的字典对象，就像下面这样："
   ]
  },
  {
   "cell_type": "code",
   "execution_count": 24,
   "id": "e28a70b6-3b44-42fe-82d0-c716810dccd1",
   "metadata": {},
   "outputs": [
    {
     "data": {
      "text/plain": [
       "'Guido has {n} messages.'"
      ]
     },
     "execution_count": 24,
     "metadata": {},
     "output_type": "execute_result"
    }
   ],
   "source": [
    "class safesub(dict):\n",
    "# \"\"\"防止key找不到\"\"\"\n",
    "    def __missing__(self, key):\n",
    "        return '{' + key + '}'\n",
    "    \n",
    "del n # Make sure n is undefined\n",
    "s.format_map(safesub(vars()))"
   ]
  },
  {
   "cell_type": "markdown",
   "id": "500e430e-d5a4-41d2-a8b0-c078adb9d103",
   "metadata": {},
   "source": [
    "多年以来由于Python缺乏对变量替换的内置支持而导致了各种不同的解决方案。比如常见的%做占位符。不过format() 和 format_map() 相比较上面这些方案而已更加先进，因此应该被优先选择。 使用 format() 方法还有一个好处就是你可以获得对字符串格式化的所有支持(对齐，填充，数字格式化等待)， 而这些特性是使用像模板字符串之类的方案不可能获得的。"
   ]
  },
  {
   "cell_type": "code",
   "execution_count": 25,
   "id": "2e33514a-3199-457e-b965-ed933d120b9d",
   "metadata": {},
   "outputs": [
    {
     "data": {
      "text/plain": [
       "'Guido has 37 messages，Guido.'"
      ]
     },
     "execution_count": 25,
     "metadata": {},
     "output_type": "execute_result"
    }
   ],
   "source": [
    "s = '{name} has {n} messages，{name}.'\n",
    "s.format(name='Guido', n=37)"
   ]
  },
  {
   "cell_type": "markdown",
   "id": "f4e3296f-9a54-4270-af08-83507ed12ceb",
   "metadata": {},
   "source": [
    "## 基本数据结构\n",
    "\n",
    "python几个最基本的数据结构有：\n",
    "\n",
    "- list：可理解为可变大小的数组，python索引可以为负值，表示倒序。\n",
    "- tuple：和list类似，区别是一经初始化就不能修改。\n",
    "- dict：就是map，使用key-value存储，查找较快。\n",
    "- set：和dict类似，也是一组key的集合，但不存储value，且由于key不能重复，这就意味着set中没有重复的元素。\n",
    "\n",
    "接下来依次举例认识下几个基本数据结构。\n",
    "\n",
    "### list"
   ]
  },
  {
   "cell_type": "code",
   "execution_count": 26,
   "id": "9c9b359e-7f26-49bb-a340-16d6d6a6ecfd",
   "metadata": {},
   "outputs": [
    {
     "name": "stdout",
     "output_type": "stream",
     "text": [
      "[1, 2, 3, 4, 5, 6]\n",
      "[3, 4]\n",
      "True\n"
     ]
    }
   ],
   "source": [
    "# list\n",
    "a=[1,2,3]\n",
    "b=[4,5,6]\n",
    "# list拼接\n",
    "print(a+b)\n",
    "# list 索引：直接使用[]即可，一个例子：找出c中非0值编号对应的d中的数字， \n",
    "c=[0,0,1,1]\n",
    "d=[1,2,3,4]\n",
    "e=[d[i] for i in range(len(c)) if c[i]>0] # 使用列表生成式很方便\n",
    "print(e)\n",
    "print(1 in d)"
   ]
  },
  {
   "cell_type": "markdown",
   "id": "415328df-4811-4ffa-92cb-ca442c831af5",
   "metadata": {},
   "source": [
    "给list添加元素："
   ]
  },
  {
   "cell_type": "code",
   "execution_count": 27,
   "id": "e9651ed0-603f-409e-b60f-90035e877140",
   "metadata": {},
   "outputs": [
    {
     "data": {
      "text/plain": [
       "['a', 'b', [2, 'd'], 'e']"
      ]
     },
     "execution_count": 27,
     "metadata": {},
     "output_type": "execute_result"
    }
   ],
   "source": [
    "li=['a', 'b']   \n",
    "li.append([2,'d'])   \n",
    "li.append('e')  \n",
    "li"
   ]
  },
  {
   "cell_type": "markdown",
   "id": "fc2a41c5-ac50-44ce-b8d3-2bf7d6960383",
   "metadata": {},
   "source": [
    "两个list拼接："
   ]
  },
  {
   "cell_type": "code",
   "execution_count": 28,
   "id": "4309b067-7f3e-449f-92a4-53ac8a0a5001",
   "metadata": {},
   "outputs": [
    {
     "data": {
      "text/plain": [
       "[1, 2, 3, 4, 5, 6]"
      ]
     },
     "execution_count": 28,
     "metadata": {},
     "output_type": "execute_result"
    }
   ],
   "source": [
    "l1=[1,2,3]\n",
    "l2=[4,5,6]\n",
    "l1+l2"
   ]
  },
  {
   "cell_type": "markdown",
   "id": "255d1efd-ad38-4e04-80b1-e11ff46b44e9",
   "metadata": {},
   "source": [
    "list还能直接拆分字符串："
   ]
  },
  {
   "cell_type": "code",
   "execution_count": 29,
   "id": "1fa49856-1a44-40ea-9e51-f8cde8c68d4f",
   "metadata": {},
   "outputs": [
    {
     "name": "stdout",
     "output_type": "stream",
     "text": [
      "['W', 'o', 'r', 'd', ' ', 't', 'o', ' ', 'S', 'p', 'l', 'i', 't']\n",
      "['W', 'o', 'r', 'd', ' ', 't', 'o', ' ', 'S', 'p', 'l', 'i', 't']\n"
     ]
    }
   ],
   "source": [
    "s = \"Word to Split\"\n",
    "wordlist = list(s) # option 1, \n",
    "print(wordlist) \n",
    "wordlist = [ch for ch in s]      # option 2, list comprehension.\n",
    "print(wordlist) "
   ]
  },
  {
   "cell_type": "markdown",
   "id": "5da182b6-a3c8-4fe3-be16-c45ff5d2ac28",
   "metadata": {},
   "source": [
    "删除list中的元素，注意不同方法是有区别的，remove是直接删元素，del是按索引。"
   ]
  },
  {
   "cell_type": "code",
   "execution_count": 30,
   "id": "af42fdbe-a0cb-4792-853c-2283a78c467b",
   "metadata": {},
   "outputs": [
    {
     "data": {
      "text/plain": [
       "[1, 2]"
      ]
     },
     "execution_count": 30,
     "metadata": {},
     "output_type": "execute_result"
    }
   ],
   "source": [
    "del l1[2]\n",
    "l1"
   ]
  },
  {
   "cell_type": "code",
   "execution_count": 31,
   "id": "a50155b2-1fdb-4204-8f2b-03ec7f0bef54",
   "metadata": {},
   "outputs": [
    {
     "data": {
      "text/plain": [
       "[1, 2, 4]"
      ]
     },
     "execution_count": 31,
     "metadata": {},
     "output_type": "execute_result"
    }
   ],
   "source": [
    "li = [1, 2, 3, 4]\n",
    "li.remove(3)\n",
    "li"
   ]
  },
  {
   "cell_type": "markdown",
   "id": "7785c029-b4ac-4160-8348-be8ec3c78d95",
   "metadata": {},
   "source": [
    "这个remove操作是inplace的，即会改变原变量值的，如果想要获取一个新的删除某些元素的list，可以先复制一份，然后再执行remove操作，注意不要直接赋值："
   ]
  },
  {
   "cell_type": "code",
   "execution_count": 32,
   "id": "c97d891a-cbb6-4924-aa28-63bd118c17f4",
   "metadata": {},
   "outputs": [
    {
     "name": "stdout",
     "output_type": "stream",
     "text": [
      "[1, 5, 7]\n",
      "[1, 5, 7]\n"
     ]
    }
   ],
   "source": [
    "a_list = [1,3,5,7]\n",
    "b_list = a_list\n",
    "b_list.remove(3)\n",
    "print(a_list)\n",
    "print(b_list)"
   ]
  },
  {
   "cell_type": "markdown",
   "id": "dbd14ce7-7061-4aa7-b48f-c19052cbacf3",
   "metadata": {},
   "source": [
    "需要这样操作（或者使用上面提到的copy方法）："
   ]
  },
  {
   "cell_type": "code",
   "execution_count": 33,
   "id": "7c5c270c-9c90-4596-aa3d-ec3a155e74d9",
   "metadata": {},
   "outputs": [
    {
     "name": "stdout",
     "output_type": "stream",
     "text": [
      "[1, 3, 5, 7]\n",
      "[1, 5, 7]\n"
     ]
    }
   ],
   "source": [
    "a_list = [1,3,5,7]\n",
    "b_list = a_list[:]\n",
    "b_list.remove(3)\n",
    "print(a_list)\n",
    "print(b_list)"
   ]
  },
  {
   "cell_type": "markdown",
   "id": "312a3b4f-e762-4c5d-bd5b-d092bf98c632",
   "metadata": {},
   "source": [
    "list中的最值："
   ]
  },
  {
   "cell_type": "code",
   "execution_count": 34,
   "id": "68aca293-d896-4e95-ad91-c2a388844573",
   "metadata": {},
   "outputs": [
    {
     "data": {
      "text/plain": [
       "3"
      ]
     },
     "execution_count": 34,
     "metadata": {},
     "output_type": "execute_result"
    }
   ],
   "source": [
    "l1=[1,2,3]\n",
    "max(l1)"
   ]
  },
  {
   "cell_type": "markdown",
   "id": "31c8d101-236e-475c-8ea3-4a1c81e5eb87",
   "metadata": {},
   "source": [
    "最值对应的元素index："
   ]
  },
  {
   "cell_type": "code",
   "execution_count": 35,
   "id": "513fb3d5-3f0f-4738-9850-f23d19ad2622",
   "metadata": {},
   "outputs": [
    {
     "data": {
      "text/plain": [
       "2"
      ]
     },
     "execution_count": 35,
     "metadata": {},
     "output_type": "execute_result"
    }
   ],
   "source": [
    "l1.index(max(l1))"
   ]
  },
  {
   "cell_type": "markdown",
   "id": "ae9b3f11-6a37-4d79-a578-6ec081f14dfc",
   "metadata": {},
   "source": [
    "找到指定元素的index"
   ]
  },
  {
   "cell_type": "code",
   "execution_count": 36,
   "id": "115ee72b-4903-4135-9e15-f7c0c1eba5c7",
   "metadata": {},
   "outputs": [
    {
     "name": "stdout",
     "output_type": "stream",
     "text": [
      "The index of e: 1\n",
      "The index of i: 2\n"
     ]
    }
   ],
   "source": [
    "# vowels list\n",
    "vowels = ['a', 'e', 'i', 'o', 'i', 'u']\n",
    "\n",
    "# index of 'e' in vowels\n",
    "index = vowels.index('e')\n",
    "print('The index of e:', index)\n",
    "\n",
    "# element 'i' is searched\n",
    "# index of the first 'i' is returned\n",
    "index = vowels.index('i')\n",
    "\n",
    "print('The index of i:', index)"
   ]
  },
  {
   "cell_type": "markdown",
   "id": "7db6be29-7390-4d43-a9e9-ffa4323d139a",
   "metadata": {},
   "source": [
    "list排序："
   ]
  },
  {
   "cell_type": "code",
   "execution_count": 37,
   "id": "293aee93-dc1b-44b1-a909-f29ab70cd7f1",
   "metadata": {},
   "outputs": [
    {
     "data": {
      "text/plain": [
       "['Facebook', 'Google', 'Runoob', 'Taobao']"
      ]
     },
     "execution_count": 37,
     "metadata": {},
     "output_type": "execute_result"
    }
   ],
   "source": [
    "aList = ['Google', 'Runoob', 'Taobao', 'Facebook'];\n",
    "aList.sort()\n",
    "aList"
   ]
  },
  {
   "cell_type": "code",
   "execution_count": 38,
   "id": "9c1fbfe2-2d57-44a9-be5f-259f787cc9b5",
   "metadata": {
    "pycharm": {
     "name": "#%%\n"
    }
   },
   "outputs": [
    {
     "name": "stdout",
     "output_type": "stream",
     "text": [
      "['afa', 'sss', 'shafa', 'cc', 'bbbb']\n",
      "['cc', 'bbbb', 'afa', 'sss', 'shafa']\n"
     ]
    }
   ],
   "source": [
    "# 排序的set\n",
    "mailto = ['cc', 'bbbb', 'afa', 'sss', 'bbbb', 'cc', 'shafa']\n",
    "addr_to = list(set(mailto))\n",
    "print(addr_to)\n",
    "addr_to.sort(key=mailto.index)\n",
    "print(addr_to)"
   ]
  },
  {
   "cell_type": "markdown",
   "id": "816f156b-85dd-424c-a57c-6ea534c6b6bb",
   "metadata": {},
   "source": [
    "python list数组是可以直接进行大小比较的，其基本比较逻辑是先比较第一位，如果第一位数字两个数字相等，就比较第二位，依次类推。max和min函数也有同样的作用"
   ]
  },
  {
   "cell_type": "code",
   "execution_count": 39,
   "id": "d5599f3d-2fbf-41e9-bb2e-328d51b7fac4",
   "metadata": {},
   "outputs": [
    {
     "data": {
      "text/plain": [
       "True"
      ]
     },
     "execution_count": 39,
     "metadata": {},
     "output_type": "execute_result"
    }
   ],
   "source": [
    "[1,2,3,4] > [0,5,6,7]"
   ]
  },
  {
   "cell_type": "code",
   "execution_count": 40,
   "id": "0eeed3f0-deb4-424c-8f32-38d92f461a67",
   "metadata": {},
   "outputs": [
    {
     "data": {
      "text/plain": [
       "[1, 2, 3, 4]"
      ]
     },
     "execution_count": 40,
     "metadata": {},
     "output_type": "execute_result"
    }
   ],
   "source": [
    "max([1,2,3,4],[0,5,6,7])"
   ]
  },
  {
   "cell_type": "code",
   "execution_count": 41,
   "id": "da3eb503-8d69-49cf-90c9-928fa4bc4c15",
   "metadata": {},
   "outputs": [
    {
     "data": {
      "text/plain": [
       "[1, 2, 3, 4]"
      ]
     },
     "execution_count": 41,
     "metadata": {},
     "output_type": "execute_result"
    }
   ],
   "source": [
    "max([0,5,6,7],[1,2,3,4])"
   ]
  },
  {
   "cell_type": "markdown",
   "id": "19fbbf0c-c0c8-450b-bdb5-594c5699103e",
   "metadata": {},
   "source": [
    "不过numpy的数组比较更多样，所以如果需要更多灵活的数组比较可以使用numpy。\n",
    "\n",
    "如果是多个数组比较，可以参考下面的例子："
   ]
  },
  {
   "cell_type": "code",
   "execution_count": 42,
   "id": "687f7d05-dc93-4a05-89cd-2ad8d58f2850",
   "metadata": {},
   "outputs": [
    {
     "name": "stdout",
     "output_type": "stream",
     "text": [
      "[2]\n"
     ]
    }
   ],
   "source": [
    "nums = [[1,2,3],[5,4,5],[5,5,6]]\n",
    "max_of_nums = max(nums)\n",
    "# print(max_of_nums)\n",
    "# ([k for k, v in count.items() if v == highest])\n",
    "# 先把索引和元素写成元组\n",
    "tup = [(i, nums[i]) for i in range(len(nums))]\n",
    "print([i for i, n in tup if n == max_of_nums])"
   ]
  },
  {
   "cell_type": "markdown",
   "id": "50f485c8-457e-40fd-aba2-8d81aaf60383",
   "metadata": {},
   "source": [
    "如果是想要看多维的list中哪个数字最大，直接max就不行了，需要先flatten一下，可以利用itertools："
   ]
  },
  {
   "cell_type": "code",
   "execution_count": 43,
   "id": "10e85de6-233a-49f5-9c79-b59bd6e9bad7",
   "metadata": {},
   "outputs": [
    {
     "data": {
      "text/plain": [
       "9"
      ]
     },
     "execution_count": 43,
     "metadata": {},
     "output_type": "execute_result"
    }
   ],
   "source": [
    "import itertools\n",
    "\n",
    "list2d = [[1,2,3], [4,5,6], [7], [8,9]]\n",
    "merged = list(itertools.chain(*list2d))\n",
    "max(merged)"
   ]
  },
  {
   "cell_type": "markdown",
   "id": "b49eb512-828f-47b9-911b-b643e7f722d3",
   "metadata": {},
   "source": [
    "tuple是不能变长的数组，比如list的连接操作，tuple就不可以："
   ]
  },
  {
   "cell_type": "code",
   "execution_count": 44,
   "id": "3865e23e-3b4d-4514-b6f1-95930462b8e2",
   "metadata": {},
   "outputs": [
    {
     "data": {
      "text/plain": [
       "tuple"
      ]
     },
     "execution_count": 44,
     "metadata": {},
     "output_type": "execute_result"
    }
   ],
   "source": [
    "a = (2,3)\n",
    "type(a)"
   ]
  },
  {
   "cell_type": "code",
   "execution_count": 45,
   "id": "6b11d900-3079-4779-92cd-44fc4567bfc6",
   "metadata": {},
   "outputs": [
    {
     "ename": "TypeError",
     "evalue": "can only concatenate tuple (not \"int\") to tuple",
     "output_type": "error",
     "traceback": [
      "\u001b[1;31m---------------------------------------------------------------------------\u001b[0m",
      "\u001b[1;31mTypeError\u001b[0m                                 Traceback (most recent call last)",
      "Input \u001b[1;32mIn [45]\u001b[0m, in \u001b[0;36m<cell line: 1>\u001b[1;34m()\u001b[0m\n\u001b[1;32m----> 1\u001b[0m \u001b[43ma\u001b[49m\u001b[38;5;241;43m+\u001b[39;49m\u001b[43m(\u001b[49m\u001b[38;5;241;43m4\u001b[39;49m\u001b[43m)\u001b[49m\n",
      "\u001b[1;31mTypeError\u001b[0m: can only concatenate tuple (not \"int\") to tuple"
     ]
    }
   ],
   "source": [
    "a+(4)"
   ]
  },
  {
   "cell_type": "markdown",
   "id": "32f4f960-554e-45f1-9985-ab3bfa6ee706",
   "metadata": {},
   "source": [
    "很容易将tuple转换为list"
   ]
  },
  {
   "cell_type": "code",
   "execution_count": null,
   "id": "a65bfb87-a6a3-4fb8-a0a6-4ac4192789d7",
   "metadata": {},
   "outputs": [],
   "source": [
    "list(a)"
   ]
  },
  {
   "cell_type": "markdown",
   "id": "c1cdaca3-de50-465d-95c7-5c3cc1530548",
   "metadata": {},
   "source": [
    "Python 列表有一个内置的 list.sort() 方法可以直接修改列表。还有一个 sorted() 内置函数，它会从一个可迭代对象构建一个新的排序列表。"
   ]
  },
  {
   "cell_type": "code",
   "execution_count": 46,
   "id": "fde2ecef-482f-47cf-8165-e8d55447d1a9",
   "metadata": {},
   "outputs": [
    {
     "data": {
      "text/plain": [
       "[1, 2, 3, 4, 5]"
      ]
     },
     "execution_count": 46,
     "metadata": {},
     "output_type": "execute_result"
    }
   ],
   "source": [
    "sorted([5, 2, 3, 1, 4])"
   ]
  },
  {
   "cell_type": "code",
   "execution_count": 47,
   "id": "ceca301d-b502-4a6c-b694-96da6f1035ac",
   "metadata": {},
   "outputs": [
    {
     "data": {
      "text/plain": [
       "[1, 2, 3, 4, 5]"
      ]
     },
     "execution_count": 47,
     "metadata": {},
     "output_type": "execute_result"
    }
   ],
   "source": [
    "a = [5, 2, 3, 1, 4]\n",
    "a.sort()\n",
    "a"
   ]
  },
  {
   "cell_type": "markdown",
   "id": "58825fab-9574-400b-95b3-2ba6633e21d3",
   "metadata": {},
   "source": [
    "给定一个数，寻找一个数组中与该数字最接近的"
   ]
  },
  {
   "cell_type": "code",
   "execution_count": 48,
   "id": "d6c24c12-df28-4e51-af39-41801be3ce5c",
   "metadata": {},
   "outputs": [
    {
     "name": "stdout",
     "output_type": "stream",
     "text": [
      "9.35\n"
     ]
    }
   ],
   "source": [
    "# Python3 program to find Closest number in a list \n",
    "  \n",
    "def closest(lst, K): \n",
    "      \n",
    "    return lst[min(range(len(lst)), key = lambda i: abs(lst[i]-K))] \n",
    "      \n",
    "# Driver code \n",
    "lst = [3.64, 5.2, 9.42, 9.35, 8.5, 8] \n",
    "K = 9.1\n",
    "print(closest(lst, K)) "
   ]
  },
  {
   "cell_type": "markdown",
   "id": "f2dc848f-2d6b-4b74-9a46-22281df789bf",
   "metadata": {},
   "source": [
    "判断一个数组是否递增："
   ]
  },
  {
   "cell_type": "code",
   "execution_count": 49,
   "id": "12ee6a0c-c182-4347-8937-852830d67341",
   "metadata": {},
   "outputs": [
    {
     "name": "stdout",
     "output_type": "stream",
     "text": [
      "True\n"
     ]
    }
   ],
   "source": [
    "l = range(10000)\n",
    "print(all(x<y for x, y in zip(l, l[1:])))"
   ]
  },
  {
   "cell_type": "code",
   "execution_count": 50,
   "id": "61c31903-3b8e-4bef-95f9-0168ef046ee0",
   "metadata": {},
   "outputs": [
    {
     "data": {
      "text/plain": [
       "list"
      ]
     },
     "execution_count": 50,
     "metadata": {},
     "output_type": "execute_result"
    }
   ],
   "source": [
    "x=1\n",
    "y=[x]\n",
    "type(y)"
   ]
  },
  {
   "cell_type": "markdown",
   "id": "a63e2538-8f54-41a7-88d1-151c115549c5",
   "metadata": {},
   "source": [
    "### dict\n",
    "\n",
    "字典初始化方式有多种，可以根据自己实际情况采用最方便的方式，具体可参考：[Python中字典创建的几种方法及适用场景](https://blog.csdn.net/Jerry_1126/article/details/78239530)"
   ]
  },
  {
   "cell_type": "code",
   "execution_count": 51,
   "id": "e3bba2c7-790b-480d-b91c-3b3fdb7e14fe",
   "metadata": {},
   "outputs": [
    {
     "name": "stdout",
     "output_type": "stream",
     "text": [
      "{'age': 23, 'name': 'lala'}\n",
      "{'age': 23, 'name': 'lala', 'school': 'nanhaizhongxue'}\n",
      "{'a': 1, 'b': 2}\n",
      "{'a': 0, 'b': 0}\n",
      "{'a': [3, 1], 'b': 2}\n"
     ]
    }
   ],
   "source": [
    "# 直接创建\n",
    "d = {'age': 23, 'name': 'lala'}\n",
    "print(d)\n",
    "# 动态创建\n",
    "d['school'] = 'nanhaizhongxue'\n",
    "print(d)\n",
    "# zip创建字典\n",
    "d = dict(zip(['a', 'b'], [1, 2]))\n",
    "print(d)\n",
    "import numpy as np\n",
    "# 可以利用numpy来帮助生成数组数据，更多关于numpy的内容，后续会介绍，安装numpy -- conda install -c conda-forge numpy\n",
    "d = dict(zip(['a', 'b'], np.full(2,0)))\n",
    "print(d)\n",
    "# 字典的key必须得是唯一的，但是values可以是多个\n",
    "d_special = dict(zip(['a', 'b'], [[3,1], 2]))\n",
    "print(d_special)"
   ]
  },
  {
   "cell_type": "markdown",
   "id": "0a283fc3-51d2-44eb-82f2-4b598798ebc2",
   "metadata": {},
   "source": [
    "现在看看两个dict拼接，参考：[Python优雅的合并两个Dict](https://segmentfault.com/a/1190000010567015)"
   ]
  },
  {
   "cell_type": "code",
   "execution_count": 52,
   "id": "0a6bf135-8a9f-4d09-8923-17fcbbc52cac",
   "metadata": {},
   "outputs": [
    {
     "name": "stdout",
     "output_type": "stream",
     "text": [
      "{'a': 1, 'b': 2}\n"
     ]
    },
    {
     "data": {
      "text/plain": [
       "{'a': 1, 'b': 3, 'c': 4}"
      ]
     },
     "execution_count": 52,
     "metadata": {},
     "output_type": "execute_result"
    }
   ],
   "source": [
    "d = {}\n",
    "x = {'a': 1, 'b': 2}\n",
    "x = {**d, **x}\n",
    "print(x)\n",
    "y = {'b': 3, 'c': 4}\n",
    "z = {**x, **y}\n",
    "z"
   ]
  },
  {
   "cell_type": "markdown",
   "id": "45fb9486-1b02-4c61-834f-08304f24624a",
   "metadata": {},
   "source": [
    "对字典的循环操作可以使用两种方式："
   ]
  },
  {
   "cell_type": "code",
   "execution_count": 53,
   "id": "10fdbd31-ee49-4a36-bf18-c94754bb1167",
   "metadata": {},
   "outputs": [
    {
     "name": "stdout",
     "output_type": "stream",
     "text": [
      "x corresponds to 1\n",
      "y corresponds to 2\n",
      "z corresponds to 3\n"
     ]
    }
   ],
   "source": [
    "d = {'x':1, 'y':2, 'z':3}\n",
    "for key in d:\n",
    "    print (key, 'corresponds to', d[key])"
   ]
  },
  {
   "cell_type": "code",
   "execution_count": 54,
   "id": "03e93746-2379-44fa-8235-00751daa11af",
   "metadata": {},
   "outputs": [
    {
     "name": "stdout",
     "output_type": "stream",
     "text": [
      "x corresponds to 1\n",
      "y corresponds to 2\n",
      "z corresponds to 3\n"
     ]
    }
   ],
   "source": [
    "for key, value in d.items():\n",
    "    print (key, 'corresponds to', value)"
   ]
  },
  {
   "cell_type": "markdown",
   "id": "1b65319a-baa4-4b1a-b8d6-b81504c9bfdf",
   "metadata": {},
   "source": [
    "取出dict的所有keys："
   ]
  },
  {
   "cell_type": "code",
   "execution_count": 55,
   "id": "569a649c-8ab4-40ee-bc37-e29eac08df23",
   "metadata": {},
   "outputs": [
    {
     "name": "stdout",
     "output_type": "stream",
     "text": [
      "Value : dict_keys(['Name', 'Age'])\n",
      "<class 'dict_keys'>\n"
     ]
    }
   ],
   "source": [
    "dict = {'Name': 'Zara', 'Age': 7}\n",
    "print (\"Value : %s\" %  dict.keys())\n",
    "print (type(dict.keys()))"
   ]
  },
  {
   "cell_type": "code",
   "execution_count": 56,
   "id": "9abea7e1-e48c-498c-96b5-a4a047c1fa54",
   "metadata": {},
   "outputs": [
    {
     "data": {
      "text/plain": [
       "['Name', 'Age']"
      ]
     },
     "execution_count": 56,
     "metadata": {},
     "output_type": "execute_result"
    }
   ],
   "source": [
    "list(dict.keys())"
   ]
  },
  {
   "cell_type": "markdown",
   "id": "d370fa22-a123-4a15-875a-c2d1ec68f792",
   "metadata": {},
   "source": [
    "所有value："
   ]
  },
  {
   "cell_type": "code",
   "execution_count": 57,
   "id": "daaed9b3-9e8f-4982-9b47-b9cb576bb5a7",
   "metadata": {},
   "outputs": [
    {
     "data": {
      "text/plain": [
       "dict_values(['Zara', 7])"
      ]
     },
     "execution_count": 57,
     "metadata": {},
     "output_type": "execute_result"
    }
   ],
   "source": [
    "dict.values()"
   ]
  },
  {
   "cell_type": "code",
   "execution_count": 58,
   "id": "9d07a5e2-a471-404e-877f-1073245498e9",
   "metadata": {},
   "outputs": [
    {
     "data": {
      "text/plain": [
       "['Zara', 7]"
      ]
     },
     "execution_count": 58,
     "metadata": {},
     "output_type": "execute_result"
    }
   ],
   "source": [
    "alist=list(dict.values())\n",
    "alist"
   ]
  },
  {
   "cell_type": "markdown",
   "id": "42160944-02e6-47dd-b694-988ffcbdfc2b",
   "metadata": {},
   "source": [
    "判断dict的value最大值对应的key："
   ]
  },
  {
   "cell_type": "code",
   "execution_count": 59,
   "id": "67145537-a445-42e1-ad4c-f500738f4900",
   "metadata": {},
   "outputs": [
    {
     "data": {
      "text/plain": [
       "'b'"
      ]
     },
     "execution_count": 59,
     "metadata": {},
     "output_type": "execute_result"
    }
   ],
   "source": [
    "import operator\n",
    "stats = {'a':1000, 'b':3000, 'c': 100}\n",
    "max(stats.items(), key=operator.itemgetter(1))[0]"
   ]
  },
  {
   "cell_type": "markdown",
   "id": "74a5ff4f-d2fa-4734-85e3-0e5bd50cb372",
   "metadata": {},
   "source": [
    "判断一个key是否在一个dict的keys中："
   ]
  },
  {
   "cell_type": "code",
   "execution_count": 60,
   "id": "778ead79-fafa-4447-b73c-456597dd784c",
   "metadata": {},
   "outputs": [
    {
     "name": "stdout",
     "output_type": "stream",
     "text": [
      "True\n"
     ]
    }
   ],
   "source": [
    "#生成一个字典\n",
    "d = {'name':'Tom', 'age':10, 'Tel':110}\n",
    "#打印返回值，其中d.keys()是列出字典所有的key\n",
    "print ('name' in d.keys()) # 注意是keys()，不是keys。"
   ]
  },
  {
   "cell_type": "markdown",
   "id": "69473557-b15f-4cee-a3f5-ecd8a0f1dae5",
   "metadata": {},
   "source": [
    "字典按keys排序："
   ]
  },
  {
   "cell_type": "code",
   "execution_count": 61,
   "id": "4d0d77e3-70f1-4a05-abf9-0d6388f64054",
   "metadata": {},
   "outputs": [
    {
     "data": {
      "text/plain": [
       "['Age', 'Name']"
      ]
     },
     "execution_count": 61,
     "metadata": {},
     "output_type": "execute_result"
    }
   ],
   "source": [
    "d = {'Name': 'Zara', 'Age': 7}\n",
    "sorted(d.keys())"
   ]
  },
  {
   "cell_type": "code",
   "execution_count": 62,
   "id": "9bc22e6f-e839-4c7d-8415-be55f085a58e",
   "metadata": {},
   "outputs": [
    {
     "name": "stdout",
     "output_type": "stream",
     "text": [
      "Age 7\n",
      "Name Zara\n"
     ]
    }
   ],
   "source": [
    "for key in sorted(d.keys()):\n",
    "    print(key, d[key]) "
   ]
  },
  {
   "cell_type": "code",
   "execution_count": 63,
   "id": "0549f9c5-1416-4c15-849c-23e453d19a92",
   "metadata": {},
   "outputs": [
    {
     "data": {
      "text/plain": [
       "{'Age': 7, 'Name': 'Zara'}"
      ]
     },
     "execution_count": 63,
     "metadata": {},
     "output_type": "execute_result"
    }
   ],
   "source": [
    "d_sorted={}\n",
    "for key in sorted(d.keys()):\n",
    "    d_sorted[key]=d[key]\n",
    "d_sorted"
   ]
  },
  {
   "cell_type": "markdown",
   "id": "84a301f8-3974-4d72-bdcb-61f5a3f1324e",
   "metadata": {},
   "source": [
    "想要格式化打印dict可以使用json包快速实现"
   ]
  },
  {
   "cell_type": "code",
   "execution_count": 64,
   "id": "888eb69d-4f9f-4a76-b6cb-5029659580b7",
   "metadata": {},
   "outputs": [
    {
     "name": "stdout",
     "output_type": "stream",
     "text": [
      "普通输出：\n",
      " {'Infomation': '成绩单', 'Students': [{'Name': '小明', 'Age': 22, 'Grade': {'Chinese': 80, 'Math': 100, 'English': 90}}, {'Name': '小红', 'Age': 21, 'Grade': {'Chinese': 70, 'Math': 90, 'English': 80}}]}\n",
      "格式化输出：\n",
      " {\n",
      "    \"Infomation\": \"成绩单\",\n",
      "    \"Students\": [\n",
      "        {\n",
      "            \"Name\": \"小明\",\n",
      "            \"Age\": 22,\n",
      "            \"Grade\": {\n",
      "                \"Chinese\": 80,\n",
      "                \"Math\": 100,\n",
      "                \"English\": 90\n",
      "            }\n",
      "        },\n",
      "        {\n",
      "            \"Name\": \"小红\",\n",
      "            \"Age\": 21,\n",
      "            \"Grade\": {\n",
      "                \"Chinese\": 70,\n",
      "                \"Math\": 90,\n",
      "                \"English\": 80\n",
      "            }\n",
      "        }\n",
      "    ]\n",
      "}\n"
     ]
    }
   ],
   "source": [
    "import json\n",
    "a_dict = {'Infomation': '成绩单',\n",
    "        'Students': [{'Name': '小明', 'Age': 22, 'Grade': {'Chinese': 80, 'Math': 100, 'English': 90}},\n",
    "                     {'Name': '小红', 'Age': 21, 'Grade': {'Chinese': 70, 'Math': 90, 'English': 80}}]}\n",
    "print(\"普通输出：\\n\",a_dict)\n",
    "print(\"格式化输出：\\n\",json.dumps(a_dict, indent=4, ensure_ascii=False))"
   ]
  },
  {
   "cell_type": "markdown",
   "id": "9bffcd9f-638a-4fc3-bd04-614097e090f0",
   "metadata": {},
   "source": [
    "当需要dict中的元素有一定的顺序时，我们可以使用 OrderedDict："
   ]
  },
  {
   "cell_type": "code",
   "execution_count": 65,
   "id": "776fa492-e9e6-485a-8fc3-b1a38fb95370",
   "metadata": {},
   "outputs": [
    {
     "data": {
      "text/plain": [
       "OrderedDict([('r', 1), ('s', 1), ('a', 1), ('n', 1), ('y', 1)])"
      ]
     },
     "execution_count": 65,
     "metadata": {},
     "output_type": "execute_result"
    }
   ],
   "source": [
    "from collections import OrderedDict\n",
    "od = OrderedDict([('r', 1), ('s', 1), ('a', 1), ('n', 1), ('y', 1)])\n",
    "od"
   ]
  },
  {
   "cell_type": "markdown",
   "id": "b0e6b73f-2896-4242-b530-a2c74bb8aa18",
   "metadata": {},
   "source": [
    "可以看到keys输出时也是有顺序的："
   ]
  },
  {
   "cell_type": "code",
   "execution_count": 66,
   "id": "a8a3e4f2-312b-4424-97e5-0bed2d3256c1",
   "metadata": {},
   "outputs": [
    {
     "data": {
      "text/plain": [
       "['r', 's', 'a', 'n', 'y']"
      ]
     },
     "execution_count": 66,
     "metadata": {},
     "output_type": "execute_result"
    }
   ],
   "source": [
    "list(od.keys())"
   ]
  },
  {
   "cell_type": "markdown",
   "id": "b43ccf51-d85c-4a2b-a59d-b25646cc82d9",
   "metadata": {},
   "source": [
    "遍历方法和普通的dict一致，如果想要带上数字序号，可以利用 enumerate："
   ]
  },
  {
   "cell_type": "code",
   "execution_count": 67,
   "id": "48ae2b44-7949-4214-a9f5-bc37f177a75d",
   "metadata": {},
   "outputs": [
    {
     "name": "stdout",
     "output_type": "stream",
     "text": [
      "0 r 1\n",
      "1 s 1\n",
      "2 a 1\n",
      "3 n 1\n",
      "4 y 1\n"
     ]
    }
   ],
   "source": [
    "for i, (key, value) in enumerate(od.items()):\n",
    "    print(i, key, value)"
   ]
  },
  {
   "cell_type": "markdown",
   "id": "ac6fe4b4-2c71-489c-8d0f-e06896e4536c",
   "metadata": {},
   "source": [
    "接下来，看一个示例，从字典中提取子集，即想构造一个字典，它是另外一个字典的子集。\n",
    "\n",
    "最简单的方式是使用字典推导。"
   ]
  },
  {
   "cell_type": "code",
   "execution_count": 68,
   "id": "0fe6bb88-90de-4326-941e-83cd8b4af95c",
   "metadata": {},
   "outputs": [
    {
     "name": "stdout",
     "output_type": "stream",
     "text": [
      "{'AAPL': 612.78, 'IBM': 205.55}\n",
      "{'AAPL': 612.78, 'IBM': 205.55, 'HPQ': 37.2}\n"
     ]
    }
   ],
   "source": [
    "prices = {\n",
    "    'ACME': 45.23,\n",
    "    'AAPL': 612.78,\n",
    "    'IBM': 205.55,\n",
    "    'HPQ': 37.20,\n",
    "    'FB': 10.75\n",
    "}\n",
    "# Make a dictionary of all prices over 200\n",
    "p1 = {key: value for key, value in prices.items() if value > 200}\n",
    "# Make a dictionary of tech stocks\n",
    "tech_names = {'AAPL', 'IBM', 'HPQ', 'MSFT'}\n",
    "p2 = {key: value for key, value in prices.items() if key in tech_names}\n",
    "print(p1)\n",
    "print(p2)"
   ]
  },
  {
   "cell_type": "markdown",
   "id": "cc762924-7232-4588-a7ff-9f7ec38ad4cd",
   "metadata": {},
   "source": [
    "## 基础运算\n",
    "\n",
    "这里介绍一些python里面相对特殊的运算符。\n",
    "\n",
    "### \"~\"运算符\n",
    "\n",
    "按位取反运算符：对数据的每个二进制位取反,即把1变为0,把0变为1 。~x 类似于 -x-1。"
   ]
  },
  {
   "cell_type": "code",
   "execution_count": 69,
   "id": "9f1a09b3-8d0d-4bef-aecf-93c7a4d77255",
   "metadata": {
    "pycharm": {
     "name": "#%%\n"
    }
   },
   "outputs": [
    {
     "name": "stdout",
     "output_type": "stream",
     "text": [
      "-61\n",
      "-2\n",
      "-1\n"
     ]
    }
   ],
   "source": [
    "a = 60  # 60 = 0011 1100\n",
    "c=~a\n",
    "print(c) # -61 = 1100 0011\n",
    "b1=True\n",
    "d1=~b1\n",
    "print(d1)\n",
    "b2=False\n",
    "d2=~b2\n",
    "print(d2)"
   ]
  },
  {
   "cell_type": "markdown",
   "id": "c2f35020-d6a4-47cf-824c-0a6858566e14",
   "metadata": {},
   "source": [
    "### \"//\"运算符\n",
    "\n",
    "基本数学运算符中，整除符号是//"
   ]
  },
  {
   "cell_type": "code",
   "execution_count": 70,
   "id": "a766006f-3df8-4211-bf4c-f2fc1dcd58c2",
   "metadata": {
    "pycharm": {
     "name": "#%%\n"
    }
   },
   "outputs": [
    {
     "name": "stdout",
     "output_type": "stream",
     "text": [
      "c 的值为： 2\n"
     ]
    }
   ],
   "source": [
    "# a = 1\n",
    "a = 11\n",
    "b = 5\n",
    "c = a // b\n",
    "print(\"c 的值为：\", c)"
   ]
  },
  {
   "cell_type": "markdown",
   "id": "d6585857-cc3d-4dbd-b0bc-64748b1b48c2",
   "metadata": {},
   "source": [
    "### \"%\"运算符\n",
    "\n",
    "求余运算符。"
   ]
  },
  {
   "cell_type": "code",
   "execution_count": 71,
   "id": "b5781cc8-8ca9-4009-a1c7-2ec37c76c900",
   "metadata": {},
   "outputs": [
    {
     "name": "stdout",
     "output_type": "stream",
     "text": [
      "c 的值为： 1\n"
     ]
    }
   ],
   "source": [
    "a = 1\n",
    "b = 5\n",
    "c = a % b\n",
    "print(\"c 的值为：\", c)"
   ]
  },
  {
   "cell_type": "markdown",
   "id": "6ff1dcb1-cc1e-471b-85c6-d095a40914c4",
   "metadata": {},
   "source": [
    "### and/or运算符\n",
    "\n",
    "python中不使用&&和||来表示与或运算符，而是使用and和or。"
   ]
  },
  {
   "cell_type": "code",
   "execution_count": 72,
   "id": "65ffa274-794e-4d1f-8bc0-857a6f05e80d",
   "metadata": {
    "pycharm": {
     "name": "#%%\n"
    }
   },
   "outputs": [
    {
     "name": "stdout",
     "output_type": "stream",
     "text": [
      "hello\n"
     ]
    }
   ],
   "source": [
    "num = 9\n",
    "if num >= 0 and num <= 10:    # 判断值是否在0~10之间\n",
    "    print('hello')\n",
    "# 输出结果: hello"
   ]
  },
  {
   "cell_type": "markdown",
   "id": "e0c3ca42-3002-45a6-b7e5-e6966d48c3f2",
   "metadata": {},
   "source": [
    "### is和==的区别\n",
    "\n",
    "主要参考：[Python中is和==的区别](https://juejin.im/entry/5a3b62446fb9a0451f311b5c)\n",
    "\n",
    "在Python中一切都是对象。Python中对象包含的三个基本要素，分别是：id(身份标识)、type(数据类型)和value(值)。\n",
    "\n",
    "对象之间比较是否相等可以用==，也可以用is，is和==都是对对象进行比较判断作用的，但对对象比较判断的内容并不相同。\n",
    "\n",
    "- is比较的是两个对象的id值是否相等，也就是比较两个对象是否为同一个实例对象，是否指向同一个内存地址。\n",
    "- ==比较的是两个对象的内容是否相等，默认会调用对象的__eq__()方法。"
   ]
  },
  {
   "cell_type": "code",
   "execution_count": 73,
   "id": "4d9aca0e-31f1-4524-a42e-968e60d3de09",
   "metadata": {
    "pycharm": {
     "name": "#%%\n"
    }
   },
   "outputs": [
    {
     "name": "stdout",
     "output_type": "stream",
     "text": [
      "True\n",
      "True\n",
      "False\n",
      "True\n"
     ]
    }
   ],
   "source": [
    "a = [1, 2, 3]\n",
    "b = a\n",
    "print(b is a) \n",
    "print(b == a)\n",
    "b = a[:]\n",
    "print(b is a) \n",
    "print(b == a)"
   ]
  },
  {
   "cell_type": "markdown",
   "id": "7b833430-445b-4827-922e-de26e7dd3968",
   "metadata": {},
   "source": [
    "算术运算，比如max,min"
   ]
  },
  {
   "cell_type": "code",
   "execution_count": 74,
   "id": "acedbf81-e6d8-4c85-a2ae-f86c41f05b1e",
   "metadata": {},
   "outputs": [
    {
     "name": "stdout",
     "output_type": "stream",
     "text": [
      "3\n",
      "2\n"
     ]
    }
   ],
   "source": [
    "print(max(2,3))\n",
    "print(min(2,3))"
   ]
  },
  {
   "cell_type": "code",
   "execution_count": 75,
   "id": "2b733aa4-bf10-4d42-9048-fd9dede35db3",
   "metadata": {},
   "outputs": [
    {
     "data": {
      "text/plain": [
       "0"
      ]
     },
     "execution_count": 75,
     "metadata": {},
     "output_type": "execute_result"
    }
   ],
   "source": [
    "a=[3,3]\n",
    "a.index(max(a))"
   ]
  },
  {
   "cell_type": "markdown",
   "id": "7c234402-02ca-479a-a56d-e924baebe2fb",
   "metadata": {},
   "source": [
    "max只能返回第一个最大值对应的index，不过有时候我们想要返回所有的index，参考：[Python 获取相同的多个最大值元素](https://zhuanlan.zhihu.com/p/64035516)，可以这样："
   ]
  },
  {
   "cell_type": "code",
   "execution_count": 76,
   "id": "48fa07bd-2e3c-4263-a556-51fe2fbc68e0",
   "metadata": {},
   "outputs": [
    {
     "name": "stdout",
     "output_type": "stream",
     "text": [
      "[3, 5, 6, 7]\n"
     ]
    }
   ],
   "source": [
    "nums = [1,2,3,5,4,5,5,5]\n",
    "max_of_nums = max(nums)\n",
    "# print(max_of_nums)\n",
    "# ([k for k, v in count.items() if v == highest])\n",
    "# 先把索引和元素写成元组\n",
    "tup = [(i, nums[i]) for i in range(len(nums))]\n",
    "print([i for i, n in tup if n == max_of_nums])"
   ]
  },
  {
   "cell_type": "markdown",
   "id": "91f65588-0b4e-4bb8-bf48-918766c897d2",
   "metadata": {},
   "source": [
    "如果是对dict，可以有这样的例子："
   ]
  },
  {
   "cell_type": "code",
   "execution_count": 77,
   "id": "5b07f776-c82a-4452-ac71-14407320422a",
   "metadata": {},
   "outputs": [
    {
     "name": "stdout",
     "output_type": "stream",
     "text": [
      "['a', 'b']\n"
     ]
    }
   ],
   "source": [
    "count = {'a': 120, 'b': 120, 'c': 100}\n",
    "highest = max(count.values())\n",
    "print([k for k, v in count.items() if v == highest])"
   ]
  },
  {
   "cell_type": "markdown",
   "id": "3029c2c5-2d68-493a-9d8b-55378121dd94",
   "metadata": {},
   "source": [
    "比如判断分子包含多少个分母："
   ]
  },
  {
   "cell_type": "code",
   "execution_count": 78,
   "id": "a0d934c7-c6af-48fb-bb6d-3be845ccf80b",
   "metadata": {},
   "outputs": [
    {
     "data": {
      "text/plain": [
       "3"
      ]
     },
     "execution_count": 78,
     "metadata": {},
     "output_type": "execute_result"
    }
   ],
   "source": [
    "a=5\n",
    "b=2\n",
    "c=int(a/b) if a%b==0 else int(a/b)+1\n",
    "c"
   ]
  },
  {
   "cell_type": "markdown",
   "id": "96962f04-3827-4923-9878-9eedc21d23a7",
   "metadata": {},
   "source": [
    "### |= 运算符\n",
    "\n",
    "这是一种不太常见的赋值运算符.\n",
    "\n",
    "x |= 3 等价于 x = x | 3\n",
    "\n",
    "即做一个OR的位运算."
   ]
  },
  {
   "cell_type": "code",
   "execution_count": 79,
   "id": "1c83f3c1-4c1f-47af-b4c7-7b19ed7b9e8e",
   "metadata": {},
   "outputs": [
    {
     "data": {
      "text/plain": [
       "7"
      ]
     },
     "execution_count": 79,
     "metadata": {},
     "output_type": "execute_result"
    }
   ],
   "source": [
    "2|5 # 010 | 101 = 111"
   ]
  },
  {
   "cell_type": "code",
   "execution_count": 80,
   "id": "141197eb-deb2-4ab9-9351-57c5ef8d1275",
   "metadata": {},
   "outputs": [
    {
     "data": {
      "text/plain": [
       "7"
      ]
     },
     "execution_count": 80,
     "metadata": {},
     "output_type": "execute_result"
    }
   ],
   "source": [
    "x = 2\n",
    "x |= 5\n",
    "x"
   ]
  },
  {
   "cell_type": "markdown",
   "id": "ebeace2f-3c3b-4813-ab45-a5ff053b1a24",
   "metadata": {
    "tags": []
   },
   "source": [
    "## 基本流程控制\n",
    "\n",
    "主要就是for循环、while循环和if else语句，比较简单，下面是一点例子，更多内容可以参考[这里](https://www.liaoxuefeng.com/wiki/1016959663602400/1017099478626848)。\n",
    "\n",
    "倒序for循环的写法："
   ]
  },
  {
   "cell_type": "code",
   "execution_count": 81,
   "id": "5bea4295-b1bb-467a-b8d3-4466a14c3c51",
   "metadata": {},
   "outputs": [
    {
     "name": "stdout",
     "output_type": "stream",
     "text": [
      "5\n",
      "4\n",
      "2\n",
      "1\n"
     ]
    }
   ],
   "source": [
    "lista = [1,2,4,5]\n",
    "for i in range(len(lista)-1,-1,-1):\n",
    "    print(lista[i])  "
   ]
  },
  {
   "cell_type": "markdown",
   "id": "d9ebd176-1596-41dc-b39b-064854812ca0",
   "metadata": {},
   "source": [
    "如果if 语句有很多，想要使用类似switch的方式，可以类似下面这样写："
   ]
  },
  {
   "cell_type": "code",
   "execution_count": 82,
   "id": "45585a58-0165-4e05-8d92-2391428caff7",
   "metadata": {},
   "outputs": [
    {
     "data": {
      "text/plain": [
       "'0.2 - 0.4'"
      ]
     },
     "execution_count": 82,
     "metadata": {},
     "output_type": "execute_result"
    }
   ],
   "source": [
    "range_lst = [\"0 - 0.0001\", \"0.0001 - 0.02\", \"0.02 - 0.05\", \"0.05 - 0.1\", \"0.1 - 0.2\", \"0.2 - 0.4\", \"0.4 - 0.8\", \"≥ 0.8\"]\n",
    "\n",
    "def a_range_name_func(value_tmp):\n",
    "    switcher = {\n",
    "        0 <= value_tmp < 0.0001: range_lst[0],\n",
    "        0.0001 <= value_tmp < 0.02: range_lst[1],\n",
    "        0.02 <= value_tmp < 0.05: range_lst[2],\n",
    "        0.05 <= value_tmp < 0.1: range_lst[3],\n",
    "        0.1 <= value_tmp < 0.2: range_lst[4],\n",
    "        0.2 <= value_tmp < 0.4: range_lst[5],\n",
    "        0.4 <= value_tmp < 0.8: range_lst[6],\n",
    "        0.8 <= value_tmp: range_lst[7],\n",
    "    }\n",
    "    return switcher[True]\n",
    "a_range_name_func(0.3)"
   ]
  },
  {
   "cell_type": "markdown",
   "id": "5cb16ff9-1e2d-41f2-a64c-4a68b6a5852f",
   "metadata": {},
   "source": [
    "## 函数\n",
    "\n",
    "函数基本写法如下加法函数所示。\n",
    "\n",
    "写好一个函数后，可以为这个函数的参数增加一些额外的信息，这样的话其他使用者就能清楚的知道这个函数应该怎么使用。这时候可以使用函数参数注解，这是一个很好的办法，它能提示程序员应该怎样正确使用这个函数。"
   ]
  },
  {
   "cell_type": "code",
   "execution_count": 83,
   "id": "63cf3ae2-3e62-4fe0-a713-81ed6fa00912",
   "metadata": {},
   "outputs": [],
   "source": [
    "def add(x:int, y:int) -> int:\n",
    "    return x + y"
   ]
  },
  {
   "cell_type": "markdown",
   "id": "ecbcb4c9-b469-4840-9474-9d3ecc40b0de",
   "metadata": {},
   "source": [
    "python解释器不会对这些注解添加任何的语义。它们不会被类型检查，运行时跟没有加注解之前的效果也没有任何差距。 然而，对于那些阅读源码的人来讲就很有帮助啦。第三方工具和框架可能会对这些注解添加语义。同时它们也会出现在文档中。"
   ]
  },
  {
   "cell_type": "code",
   "execution_count": 84,
   "id": "9a6033e1-68b4-41a0-8517-9dcf41a93864",
   "metadata": {},
   "outputs": [
    {
     "name": "stdout",
     "output_type": "stream",
     "text": [
      "Help on function add in module __main__:\n",
      "\n",
      "add(x: int, y: int) -> int\n",
      "\n"
     ]
    }
   ],
   "source": [
    "help(add)"
   ]
  },
  {
   "cell_type": "markdown",
   "id": "96c4472f-f91f-4144-8b3c-237beb3257a5",
   "metadata": {},
   "source": [
    "函数注解只存储在函数的 __annotations__ 属性中。例如："
   ]
  },
  {
   "cell_type": "code",
   "execution_count": 85,
   "id": "7262bae7-c131-42a0-ab59-4b82cddd5fb7",
   "metadata": {},
   "outputs": [
    {
     "data": {
      "text/plain": [
       "{'x': int, 'y': int, 'return': int}"
      ]
     },
     "execution_count": 85,
     "metadata": {},
     "output_type": "execute_result"
    }
   ],
   "source": [
    "add.__annotations__"
   ]
  },
  {
   "cell_type": "code",
   "execution_count": null,
   "id": "ff4b1cab-3e8f-4baf-a782-dc8954257ebd",
   "metadata": {},
   "outputs": [],
   "source": []
  }
 ],
 "metadata": {
  "kernelspec": {
   "display_name": "hydrus",
   "language": "python",
   "name": "hydrus"
  },
  "language_info": {
   "codemirror_mode": {
    "name": "ipython",
    "version": 3
   },
   "file_extension": ".py",
   "mimetype": "text/x-python",
   "name": "python",
   "nbconvert_exporter": "python",
   "pygments_lexer": "ipython3",
   "version": "3.10.5"
  }
 },
 "nbformat": 4,
 "nbformat_minor": 5
}
