{
 "cells": [
  {
   "cell_type": "markdown",
   "id": "a0b06b97-8dd5-4df8-a102-3864aa68aa5a",
   "metadata": {},
   "source": [
    "## 脚本编程与系统管理\n",
    "\n",
    "首先补充一些基本的在python脚本中执行系统命令的代码。cank "
   ]
  },
  {
   "cell_type": "code",
   "execution_count": 53,
   "id": "67f7a6cf-7a80-4265-91b1-603a2d96d454",
   "metadata": {},
   "outputs": [
    {
     "data": {
      "text/plain": [
       "1"
      ]
     },
     "execution_count": 53,
     "metadata": {},
     "output_type": "execute_result"
    }
   ],
   "source": [
    "import os\n",
    "os.system('ls')"
   ]
  },
  {
   "cell_type": "code",
   "execution_count": 54,
   "id": "ec285679-7479-4e0a-acee-a8d20773d811",
   "metadata": {},
   "outputs": [
    {
     "data": {
      "text/plain": [
       "[]"
      ]
     },
     "execution_count": 54,
     "metadata": {},
     "output_type": "execute_result"
    }
   ],
   "source": [
    "tmp = os.popen('ls *.py').readlines()\n",
    "tmp"
   ]
  },
  {
   "cell_type": "code",
   "execution_count": 55,
   "id": "73baa5e7-3040-414f-a67f-7c28a735470d",
   "metadata": {},
   "outputs": [
    {
     "name": "stdout",
     "output_type": "stream",
     "text": [
      "b\"'ls' \\xb2\\xbb\\xca\\xc7\\xc4\\xda\\xb2\\xbf\\xbb\\xf2\\xcd\\xe2\\xb2\\xbf\\xc3\\xfc\\xc1\\xee\\xa3\\xac\\xd2\\xb2\\xb2\\xbb\\xca\\xc7\\xbf\\xc9\\xd4\\xcb\\xd0\\xd0\\xb5\\xc4\\xb3\\xcc\\xd0\\xf2\\r\\n\"\n",
      "b'\\xbb\\xf2\\xc5\\xfa\\xb4\\xa6\\xc0\\xed\\xce\\xc4\\xbc\\xfe\\xa1\\xa3\\r\\n'\n"
     ]
    }
   ],
   "source": [
    "import subprocess\n",
    "\n",
    "p = subprocess.Popen('ls', shell=True, stdout=subprocess.PIPE, stderr=subprocess.STDOUT)\n",
    "for line in p.stdout.readlines():\n",
    "    print (line)\n",
    "retval = p.wait()"
   ]
  },
  {
   "cell_type": "markdown",
   "id": "5e0ed61f-2a00-4b0d-812a-fcab1ef8d3aa",
   "metadata": {},
   "source": [
    "### 命令行解析器\n",
    "\n",
    "Python 命令行与参数解析方法有很多工具，这里学习使用python 自带的argparse ，来说明python 如何进行命令行解析。主要参考了\n",
    "\n",
    "- [HelloGitHub-Article](https://github.com/HelloGitHub-Team/Article)\n",
    "- [argparse模块用法实例详解](https://zhuanlan.zhihu.com/p/56922793)\n",
    "- python[官方文档](https://docs.python.org/zh-cn/3/library/argparse.html)\n",
    "- [Python-argparse-命令行与参数解析](https://zhuanlan.zhihu.com/p/34395749)\n",
    "\n",
    "通俗来说，命令行与参数解析就是当你输入cmd 打开dos 交互界面时候，启动程序要进行的参数给定。比如在dos 界面输入：\n",
    "\n",
    "```code\n",
    "python openPythonFile.py \"a\" -b \"number\"\n",
    "```\n",
    "\n",
    "其中，\"a\" -b等就是命令行与参数解析要做的事情。先不用深究参数的含义，这里就是个示例，简而言之，就是设计程序在**运行时必须给定某些额外参数**才能运行，也就是如果设置了命令行参数解析，那么各种编译器按F5 是无法直接运行程序的。这样的目的之一是不能随便就能运行脚本，可以达到一定程度上的安全功能。\n",
    "\n",
    "那肯定就会好奇命令行中敲入一段命令后，是如何被解析执行的？自己如何实现一个命令行工具来帮助执行和处理任务？如何利用python库来帮助实现？\n",
    "\n",
    "这一节就主要记录如何使用Python 内置的 argparse 标准库解析命令行。\n",
    "\n",
    "argparse 作为 Python 内置的标准库，提供了较为简单的方式来编写命令行接口。当你在程序中定义需要哪些参数，argparse 便会从 sys.argv 中获取命令行输入进行解析，对正确或非法输入做出响应，也可以自动生成帮助信息和使用说明。\n",
    "\n",
    "总体上分为三大步：\n",
    "\n",
    "- 创建解析：设置解析器，后续对命令行的解析就**依赖于这个解析器**，它能够**将命令行字符串转换为Python对象**。通过实例化 argparse.ArgumentParser，给定一些选填参数，就可以设置一个解析器\n",
    "- 添加参数：通过ArgumentParser.add_argument 方法来**为解析器设置参数信息**，以告诉解析器命令行字符串中的**哪些内容**应解析为**哪些类型的Python对象**。注意，每一个参数都要单独设置，需要两个参数就用两个add_argument\n",
    "- 解析参数：定义好参数后，就可以使用 ArgumenteParser.**parse_args 方法来解析一组命令行参数字符串**了。默认情况下，参数取自**sys.argv[1:]**,它就是我们在命令行敲入的**一段命令（不含文件名）所对应的一个字符串列表**，比如，若输入 python3 cmd.py --sum 1 2 3，那么sys.argsv[1:]就是['--sum','1','2','3']。\n",
    "\n",
    "基本的业务逻辑是这样的。解析好命令行后，我们就可以从解析结果中获取每个参数的值，进而根据自己的业务需求做进一步的处理。比如，对于上文中所定义的nums参数，我们可以通过解析后的结果中的accumulate方法对其进行求最大值或求和（取决于是否提供 --sum 参数）。\n",
    "\n",
    "下面就给出一个较完整的代码示例。"
   ]
  },
  {
   "cell_type": "code",
   "execution_count": 56,
   "id": "45b1d29d-4955-4dfc-bc4d-56a30f2a90ad",
   "metadata": {
    "pycharm": {
     "name": "#%%\n"
    }
   },
   "outputs": [
    {
     "name": "stdout",
     "output_type": "stream",
     "text": [
      "Namespace(nums=[-1, 0, 1], accumulate=<built-in function sum>)\n",
      "0\n"
     ]
    }
   ],
   "source": [
    "import argparse\n",
    "\n",
    "# 1. 设置解析器\n",
    "parser = argparse.ArgumentParser(\n",
    "    description='My Cmd Line Program',\n",
    ")\n",
    "\n",
    "# 2. 定义参数\n",
    "# 添加 nums 参数，在使用信息中显示为 num\n",
    "# 其类型为 int，且支持输入多个，且至少需要提供一个\n",
    "parser.add_argument('nums',  metavar='num', type=int, nargs='+',\n",
    "                    help='a num for the accumulator')\n",
    "# 添加 --sum 参数，该参数被 parser 解析后所对应的属性名为 accumulate\n",
    "# 若不提供 --sum，默认值为 max 函数，否则为 sum 函数\n",
    "parser.add_argument('--sum', dest='accumulate', action='store_const',\n",
    "                    const=sum, default=max,\n",
    "                    help='sum the nums (default: find the max)')\n",
    "\n",
    "# 3. 解析命令行\n",
    "args = parser.parse_args(['--sum', '-1', '0', '1'])\n",
    "print(args) # 结果：Namespace(accumulate=<built-in function sum>, nums=[-1, 0, 1])\n",
    "\n",
    "# 4. 业务逻辑\n",
    "result = args.accumulate(args.nums)\n",
    "print(result)"
   ]
  },
  {
   "cell_type": "markdown",
   "id": "dfaa32ef-ff65-4474-b19e-5261fde6b804",
   "metadata": {},
   "source": [
    "若我们需要对一组数字求和，只需执行：\n",
    "\n",
    "```Shell\n",
    "$ python3 cmd.py --sum -1 0 1\n",
    "0\n",
    "```\n",
    "\n",
    "若需要对一组数字求最大值，只需执行：\n",
    "\n",
    "```Shell\n",
    "$ python3 cmd.py -1 0 1\n",
    "1\n",
    "```\n",
    "\n",
    "如果给定的参数不是数字，则会报错提示：\n",
    "\n",
    "```Shell\n",
    "$ python3 cmd.py a b c\n",
    "usage: cmd.py [-h] [--sum] num [num ...]\n",
    "cmd.py: error: argument num: invalid int value: 'a'\n",
    "```\n",
    "\n",
    "我们还可以通过 -h 或 --help 参数查看其自动生成的使用说明和帮助：\n",
    "\n",
    "```Shell\n",
    "usage: cmd.py [-h] [--sum] num [num ...]\n",
    "\n",
    "My Cmd Line Program\n",
    "\n",
    "positional arguments:\n",
    "  num         a num for the accumulator\n",
    "\n",
    "optional arguments:\n",
    "  -h, --help  show this help message and exit\n",
    "  --sum       sum the nums (default: find the max)\n",
    "```"
   ]
  },
  {
   "cell_type": "markdown",
   "id": "92023817-a162-44c8-8e78-c6e0c52da272",
   "metadata": {},
   "source": [
    "接下来进一步探讨关于argparse更多复杂的情况，比如各种类型参数、参数前缀、参数组、互斥选项、嵌套解析、自定义帮助等等。主要要认识的问题是：argparse支持哪些类型的参数？这些参数该如何配置？"
   ]
  },
  {
   "cell_type": "code",
   "execution_count": 57,
   "id": "528b1c0a-d08b-4786-8b73-d56795523068",
   "metadata": {},
   "outputs": [],
   "source": [
    "import argparse\n",
    "\n",
    "# 1. 设置解析器\n",
    "parser = argparse.ArgumentParser(\n",
    "    description='My Cmd Line Program',\n",
    ")"
   ]
  },
  {
   "cell_type": "markdown",
   "id": "ab4fdfa3-d87d-4baa-a70a-c2003423bcd3",
   "metadata": {},
   "source": [
    "1. 参数动作"
   ]
  },
  {
   "cell_type": "code",
   "execution_count": 58,
   "id": "f25923b3-6bbe-44e4-8784-0ef2f69fd49c",
   "metadata": {},
   "outputs": [
    {
     "data": {
      "text/plain": [
       "_StoreConstAction(option_strings=['--sum'], dest='accumulate', nargs=0, const=<built-in function sum>, default=<built-in function max>, type=None, choices=None, help='sum the nums (default: find the max)', metavar=None)"
      ]
     },
     "execution_count": 58,
     "metadata": {},
     "output_type": "execute_result"
    }
   ],
   "source": [
    "parser.add_argument('--sum', dest='accumulate', action='store_const',\n",
    "                    const=sum, default=max,\n",
    "                    help='sum the nums (default: find the max)')"
   ]
  },
  {
   "cell_type": "markdown",
   "id": "a9b12e3c-9ce9-44a2-912b-d1dac687c580",
   "metadata": {},
   "source": [
    "这里面的 action，也就是 参数动作，究竟是用来做什么的呢？\n",
    "\n",
    "想象一下，当我们在命令行输入**一串参数**后，对于**不同类型的参数是希望做不同的处理**的。 那么 **参数动作** 其实就是告诉解析器，我们希望**对应的参数该被如何处理**。比如，参数值是该被存成一个值呢，还是追加到一个列表中？是当成布尔的 True 呢，还是 False？\n",
    "\n",
    "参数动作 被分成了如下 8 个类别：\n",
    "\n",
    "- store —— 保存参数的值，这是**默认**的参数动作。它通常用于给一个参数指定值，如指定名字："
   ]
  },
  {
   "cell_type": "code",
   "execution_count": 59,
   "id": "fd1b5b4e-11ec-4ef7-b447-3ca2b79712e3",
   "metadata": {},
   "outputs": [
    {
     "data": {
      "text/plain": [
       "Namespace(name='Eric')"
      ]
     },
     "execution_count": 59,
     "metadata": {},
     "output_type": "execute_result"
    }
   ],
   "source": [
    "parser = argparse.ArgumentParser(\n",
    "    description='My Cmd Line Program',\n",
    ")\n",
    "parser.add_argument('--name')\n",
    "parser.parse_args(['--name', 'Eric'])"
   ]
  },
  {
   "cell_type": "markdown",
   "id": "585a73ab-42a9-4151-b383-ce9c0edfd15b",
   "metadata": {},
   "source": [
    "- store_const —— 保存被 const 命名的固定值。当我们想通过**是否给定参数**来起到**标志**的作用，给定就取某个值，就可以使用该参数动作，如："
   ]
  },
  {
   "cell_type": "code",
   "execution_count": 60,
   "id": "32be2117-3982-4bf4-8d5d-ccd775f8b715",
   "metadata": {},
   "outputs": [
    {
     "data": {
      "text/plain": [
       "Namespace(sum=<built-in function sum>)"
      ]
     },
     "execution_count": 60,
     "metadata": {},
     "output_type": "execute_result"
    }
   ],
   "source": [
    "parser = argparse.ArgumentParser(\n",
    "    description='My Cmd Line Program',\n",
    ")\n",
    "parser.add_argument('--sum', action='store_const', const=sum)\n",
    "parser.parse_args(['--sum'])"
   ]
  },
  {
   "cell_type": "markdown",
   "id": "9b01eab2-9bb2-4c58-b048-81225e0868e9",
   "metadata": {},
   "source": [
    "- store_true 和 store_false —— 是 store_const 的特殊情况，用来分别保存 True 和 False。如果为指定参数，则其默认值分别为 False 和 True，如："
   ]
  },
  {
   "cell_type": "code",
   "execution_count": 61,
   "id": "2f0852a7-da9c-4010-9bfc-e67c9bf9e2ed",
   "metadata": {},
   "outputs": [
    {
     "data": {
      "text/plain": [
       "Namespace(use=True, nouse=False)"
      ]
     },
     "execution_count": 61,
     "metadata": {},
     "output_type": "execute_result"
    }
   ],
   "source": [
    "parser = argparse.ArgumentParser(\n",
    "    description='My Cmd Line Program',\n",
    ")\n",
    "parser.add_argument('--use', action='store_true')\n",
    "parser.add_argument('--nouse', action='store_false')\n",
    "parser.parse_args(['--use', '--nouse'])"
   ]
  },
  {
   "cell_type": "code",
   "execution_count": 62,
   "id": "f530b5ef-40b6-4592-9644-6625802b1fd0",
   "metadata": {},
   "outputs": [
    {
     "data": {
      "text/plain": [
       "Namespace(use=False, nouse=True)"
      ]
     },
     "execution_count": 62,
     "metadata": {},
     "output_type": "execute_result"
    }
   ],
   "source": [
    "parser.parse_args([])"
   ]
  },
  {
   "cell_type": "markdown",
   "id": "da92d876-121c-4581-a797-af9a2dbfec98",
   "metadata": {},
   "source": [
    "- append —— 将参数值追加保存到一个列表中。它常常用于命令行中允许多个相同选项，如："
   ]
  },
  {
   "cell_type": "code",
   "execution_count": 63,
   "id": "5c586945-d472-40da-8b1e-a8545ca1aaa0",
   "metadata": {},
   "outputs": [
    {
     "data": {
      "text/plain": [
       "Namespace(file=['f1', 'f2'])"
      ]
     },
     "execution_count": 63,
     "metadata": {},
     "output_type": "execute_result"
    }
   ],
   "source": [
    "parser = argparse.ArgumentParser(\n",
    "    description='My Cmd Line Program',\n",
    ")\n",
    "parser.add_argument('--file', action='append')\n",
    "parser.parse_args(['--file', 'f1', '--file', 'f2'])"
   ]
  },
  {
   "cell_type": "markdown",
   "id": "00cfe797-8b56-4fe5-949d-9ea78a73220c",
   "metadata": {},
   "source": [
    "- append_const —— 将 const 命名的固定值追加保存到一个列表中（const 的默认值为 None）。它常常用于将多个参数所对应的固定值都保存在同一个列表中，相应的需要 dest 入参来配合，以放在同一个列表中，如：\n",
    "\n",
    "不指定 dest 入参，则固定值保存在以参数名命名的变量中"
   ]
  },
  {
   "cell_type": "code",
   "execution_count": 64,
   "id": "086aaf88-84e7-4504-8735-59ec93df02cd",
   "metadata": {},
   "outputs": [
    {
     "data": {
      "text/plain": [
       "Namespace(int=[<class 'int'>], str=[<class 'str'>])"
      ]
     },
     "execution_count": 64,
     "metadata": {},
     "output_type": "execute_result"
    }
   ],
   "source": [
    "parser = argparse.ArgumentParser(\n",
    "    description='My Cmd Line Program',\n",
    ")\n",
    "parser.add_argument('--int', action='append_const', const=int)\n",
    "parser.add_argument('--str', action='append_const', const=str)\n",
    "parser.parse_args(['--int', '--str'])"
   ]
  },
  {
   "cell_type": "markdown",
   "id": "9f0252ec-0787-464c-8062-df1f0866d656",
   "metadata": {},
   "source": [
    "指定 dest 入参，则固定值保存在 dest 命名的变量中"
   ]
  },
  {
   "cell_type": "code",
   "execution_count": 65,
   "id": "c0435550-b056-42e4-a5a2-879098a8c93d",
   "metadata": {},
   "outputs": [
    {
     "data": {
      "text/plain": [
       "Namespace(types=[<class 'int'>, <class 'str'>])"
      ]
     },
     "execution_count": 65,
     "metadata": {},
     "output_type": "execute_result"
    }
   ],
   "source": [
    "parser = argparse.ArgumentParser(\n",
    "    description='My Cmd Line Program',\n",
    ")\n",
    "parser.add_argument('--int', dest='types', action='append_const', const=int)\n",
    "parser.add_argument('--str', dest='types', action='append_const', const=str)\n",
    "parser.parse_args(['--int', '--str'])"
   ]
  },
  {
   "cell_type": "markdown",
   "id": "5bf4f63b-db4f-4687-b045-eaac71c7bc79",
   "metadata": {},
   "source": [
    "- count —— 计算参数出现次数，如："
   ]
  },
  {
   "cell_type": "code",
   "execution_count": 66,
   "id": "52080410-b23b-4fca-80e9-5c7b58c4eb85",
   "metadata": {},
   "outputs": [
    {
     "data": {
      "text/plain": [
       "Namespace(increase=2)"
      ]
     },
     "execution_count": 66,
     "metadata": {},
     "output_type": "execute_result"
    }
   ],
   "source": [
    "parser = argparse.ArgumentParser(\n",
    "    description='My Cmd Line Program',\n",
    ")\n",
    "parser.add_argument('--increase', '-i', action='count')\n",
    "parser.parse_args(['--increase', '--increase'])"
   ]
  },
  {
   "cell_type": "code",
   "execution_count": 67,
   "id": "bbb1ab60-a013-450a-bc16-42b4efff6b88",
   "metadata": {},
   "outputs": [
    {
     "data": {
      "text/plain": [
       "Namespace(increase=3)"
      ]
     },
     "execution_count": 67,
     "metadata": {},
     "output_type": "execute_result"
    }
   ],
   "source": [
    "parser.parse_args(['-iii'])"
   ]
  },
  {
   "cell_type": "markdown",
   "id": "205f17ed-f5ec-4ca1-9917-805d115c5552",
   "metadata": {},
   "source": [
    "- help —— 打印解析器中所有选项和参数的完整帮助信息，然后退出。\n",
    "\n",
    "- version —— 打印命令行版本，通过指定 version 入参来指定版本，调用后退出。如："
   ]
  },
  {
   "cell_type": "code",
   "execution_count": 68,
   "id": "51b3e38d-3fbe-40cc-a82c-f0246e2f49c9",
   "metadata": {},
   "outputs": [
    {
     "name": "stdout",
     "output_type": "stream",
     "text": [
      "CMD 1.0\n"
     ]
    },
    {
     "ename": "SystemExit",
     "evalue": "0",
     "output_type": "error",
     "traceback": [
      "An exception has occurred, use %tb to see the full traceback.\n",
      "\u001b[1;31mSystemExit\u001b[0m\u001b[1;31m:\u001b[0m 0\n"
     ]
    },
    {
     "name": "stderr",
     "output_type": "stream",
     "text": [
      "C:\\Users\\hust2\\miniconda3\\envs\\hydrus\\lib\\site-packages\\IPython\\core\\interactiveshell.py:3449: UserWarning: To exit: use 'exit', 'quit', or Ctrl-D.\n",
      "  warn(\"To exit: use 'exit', 'quit', or Ctrl-D.\", stacklevel=1)\n"
     ]
    }
   ],
   "source": [
    "parser = argparse.ArgumentParser(prog='CMD')\n",
    "parser.add_argument('--version', action='version', version='%(prog)s 1.0')\n",
    "parser.parse_args(['--version'])"
   ]
  },
  {
   "cell_type": "markdown",
   "id": "8fc085f7-3b8c-404d-8e89-27abe6cc315d",
   "metadata": {},
   "source": [
    "2. 参数类别\n",
    "\n",
    "如果说 参数动作 定义了**解析器在接收到参数后该如何处理参数**，那么 参数类别 就是告诉解析器**这个参数的元信息**，也就是参数是什么样的。比如，参数是字符串呢？还是布尔类型呢？参数是在几个值中可选的呢？还是可以给定值，等等。\n",
    "\n",
    "可选参数 顾名思义就是参数是可以加上，或不加上。**默认**情况下，通过 ArgumentParser.add_argument 添加的参数就是**可选参数**。\n",
    "\n",
    "可以通过 - 来指定**短参数**，也就是名称短的参数；也可以通过 -- 来指定**长参数**，也就是名称长的参数。当然也可以两个都指定。\n",
    "\n",
    "可选参数通常用于：用户提供一个参数以及对应值，则使用该值；若不提供，则使用默认值。如："
   ]
  },
  {
   "cell_type": "code",
   "execution_count": 69,
   "id": "6ea7c183-a174-4b2e-a019-84b8d5a92441",
   "metadata": {},
   "outputs": [
    {
     "data": {
      "text/plain": [
       "Namespace(name='Eric')"
      ]
     },
     "execution_count": 69,
     "metadata": {},
     "output_type": "execute_result"
    }
   ],
   "source": [
    "parser = argparse.ArgumentParser(prog='CMD')\n",
    "parser.add_argument('--name', '-n')\n",
    "parser.parse_args(['--name', 'Eric'])  # 通过长参数指定名称"
   ]
  },
  {
   "cell_type": "code",
   "execution_count": 70,
   "id": "d9dfb930-b08b-46d8-9589-8d35d40aeaae",
   "metadata": {},
   "outputs": [
    {
     "data": {
      "text/plain": [
       "Namespace(name='Eric')"
      ]
     },
     "execution_count": 70,
     "metadata": {},
     "output_type": "execute_result"
    }
   ],
   "source": [
    "parser.parse_args(['-n', 'Eric']) # 通过短参数指定名称"
   ]
  },
  {
   "cell_type": "code",
   "execution_count": 71,
   "id": "1ea1ffff-8d26-4dc1-b135-8614425d0587",
   "metadata": {},
   "outputs": [
    {
     "data": {
      "text/plain": [
       "Namespace(name=None)"
      ]
     },
     "execution_count": 71,
     "metadata": {},
     "output_type": "execute_result"
    }
   ],
   "source": [
    "parser.parse_args([]) # 不指定则默认为 None"
   ]
  },
  {
   "cell_type": "markdown",
   "id": "cd613ec1-cb9e-4f80-bf0e-4e1bf585b995",
   "metadata": {},
   "source": [
    "参数类型 就是解析器**参数值是要作为什么类型去解析**，默认情况下是 str 类型。我们可以通过 type 入参来指定参数类型。\n",
    "\n",
    "argparse 所支持的参数类型多种多样，可以是 int、float、bool等，比如："
   ]
  },
  {
   "cell_type": "code",
   "execution_count": 72,
   "id": "ef33ff56-d22b-4f0d-8b85-2048023818bd",
   "metadata": {},
   "outputs": [
    {
     "data": {
      "text/plain": [
       "Namespace(i=1, f=2.1, b=True)"
      ]
     },
     "execution_count": 72,
     "metadata": {},
     "output_type": "execute_result"
    }
   ],
   "source": [
    "parser = argparse.ArgumentParser(prog='CMD')\n",
    "parser.add_argument('-i', type=int)\n",
    "parser.add_argument('-f', type=float)\n",
    "parser.add_argument('-b', type=bool)\n",
    "parser.parse_args(['-i', '1', '-f', '2.1', '-b', '0'])"
   ]
  },
  {
   "cell_type": "markdown",
   "id": "4be00414-50db-47f8-962c-9e571ee487b1",
   "metadata": {},
   "source": [
    "更厉害的是，type 入参还可以是**可调用(callable)对象**。这就给了我们很大的想象空间，可以指定 type=open 来把参数值作为文件进行处理，也可以指定自定义函数来进行类型检查和类型转换。\n",
    "\n",
    "作为文件进行处理："
   ]
  },
  {
   "cell_type": "code",
   "execution_count": 73,
   "id": "e0c29665-9f23-42e7-b32d-0e2099b87377",
   "metadata": {},
   "outputs": [
    {
     "data": {
      "text/plain": [
       "Namespace(file=<_io.TextIOWrapper name='test.txt' mode='r' encoding='cp936'>)"
      ]
     },
     "execution_count": 73,
     "metadata": {},
     "output_type": "execute_result"
    }
   ],
   "source": [
    "parser = argparse.ArgumentParser(prog='CMD')\n",
    "parser.add_argument('--file', type=open)\n",
    "parser.parse_args(['--file', 'test.txt'])"
   ]
  },
  {
   "cell_type": "markdown",
   "id": "447c2325-ea5c-48aa-961a-4787bb731354",
   "metadata": {},
   "source": [
    "使用自定义函数进行处理，入参为参数值，需返回转换后的结果。 比如，对于参数 --num，我们希望当其值小于 1 时则返回 1，大于 10 时则返回 10："
   ]
  },
  {
   "cell_type": "code",
   "execution_count": 74,
   "id": "abebb95e-ecf9-4238-a682-094048f0873d",
   "metadata": {},
   "outputs": [
    {
     "data": {
      "text/plain": [
       "Namespace(num=1)"
      ]
     },
     "execution_count": 74,
     "metadata": {},
     "output_type": "execute_result"
    }
   ],
   "source": [
    "def limit(string):\n",
    "    num = int(string)\n",
    "    if num < 1:\n",
    "        return 1\n",
    "    if num > 10:\n",
    "        return 10\n",
    "    return num\n",
    "parser = argparse.ArgumentParser(prog='CMD')\n",
    "parser.add_argument('--num', type=limit)\n",
    "parser.parse_args(['--num', '-1'])  # num 小于1，则取1"
   ]
  },
  {
   "cell_type": "code",
   "execution_count": 75,
   "id": "b318b3d8-5e41-4382-bb93-aac2e20d7d99",
   "metadata": {},
   "outputs": [
    {
     "data": {
      "text/plain": [
       "Namespace(num=10)"
      ]
     },
     "execution_count": 75,
     "metadata": {},
     "output_type": "execute_result"
    }
   ],
   "source": [
    "parser.parse_args(['--num', '15'])  # num 大于10，则取10"
   ]
  },
  {
   "cell_type": "code",
   "execution_count": 76,
   "id": "9d7c39f5-2f3d-4e00-9a61-89a8cfeba97e",
   "metadata": {},
   "outputs": [
    {
     "data": {
      "text/plain": [
       "Namespace(num=5)"
      ]
     },
     "execution_count": 76,
     "metadata": {},
     "output_type": "execute_result"
    }
   ],
   "source": [
    "parser.parse_args(['--num', '5'])  # num 在1和10之间，则取原来的值"
   ]
  },
  {
   "cell_type": "markdown",
   "id": "1d6a5e45-89b2-43d0-a71a-298cde18ed06",
   "metadata": {},
   "source": [
    "3. 参数默认值\n",
    "\n",
    "参数默认值 用于在命令行中不传参数值的情况下的默认取值，可通过 default 来指定。如果不指定该值，则参数默认值为 None。\n",
    "\n",
    "比如："
   ]
  },
  {
   "cell_type": "code",
   "execution_count": 77,
   "id": "b1d912b1-e946-4c7a-a6ed-c8f4df51551a",
   "metadata": {},
   "outputs": [
    {
     "data": {
      "text/plain": [
       "Namespace(i=0, f=3.14, b=True)"
      ]
     },
     "execution_count": 77,
     "metadata": {},
     "output_type": "execute_result"
    }
   ],
   "source": [
    "parser = argparse.ArgumentParser(prog='CMD')\n",
    "parser.add_argument('-i', default=0, type=int)\n",
    "parser.add_argument('-f', default=3.14, type=float)\n",
    "parser.add_argument('-b', default=True, type=bool)\n",
    "parser.parse_args([])"
   ]
  },
  {
   "cell_type": "markdown",
   "id": "e545473f-4ccb-47a2-a132-be9d440934d9",
   "metadata": {},
   "source": [
    "4. 位置参数\n",
    "\n",
    "位置参数 就是通过位置而非是 - 或 -- 开头的参数来指定参数值。\n",
    "\n",
    "比如，我们可以指定两个位置参数 x 和 y ，先添加的 x 位于第一个位置，后加入的 y 位于第二个位置。那么在命令行中输入 1 2的时候，分别对应到的就是 x 和 y："
   ]
  },
  {
   "cell_type": "code",
   "execution_count": 78,
   "id": "97411f6e-e256-4c44-802a-ed6fc53d3de1",
   "metadata": {},
   "outputs": [
    {
     "data": {
      "text/plain": [
       "Namespace(x='1', y='2')"
      ]
     },
     "execution_count": 78,
     "metadata": {},
     "output_type": "execute_result"
    }
   ],
   "source": [
    "parser = argparse.ArgumentParser(prog='CMD')\n",
    "parser.add_argument('x')\n",
    "parser.add_argument('y')\n",
    "parser.parse_args(['1', '2'])"
   ]
  },
  {
   "cell_type": "markdown",
   "id": "27841b20-5558-491e-b937-b0bdd79c2693",
   "metadata": {},
   "source": [
    "5. 可选值\n",
    "\n",
    "可选值 就是**限定参数值的内容**，通过 choices 入参指定。\n",
    "\n",
    "有些情况下，我们可能需要限制用户输入参数的内容，只能在预设的几个值中选一个，那么 可选值 就派上了用场。\n",
    "\n",
    "比如，指定文件读取方式限制为 read-only 和 read-write："
   ]
  },
  {
   "cell_type": "code",
   "execution_count": 79,
   "id": "0ff51b4b-36a7-4163-a4f5-81a8b63502ef",
   "metadata": {},
   "outputs": [
    {
     "data": {
      "text/plain": [
       "Namespace(mode='read-only')"
      ]
     },
     "execution_count": 79,
     "metadata": {},
     "output_type": "execute_result"
    }
   ],
   "source": [
    "parser = argparse.ArgumentParser(prog='CMD')\n",
    "parser.add_argument('--mode', choices=('read-only', 'read-write'))\n",
    "parser.parse_args(['--mode', 'read-only'])"
   ]
  },
  {
   "cell_type": "code",
   "execution_count": 80,
   "id": "62318d2b-5a47-4f2b-ab1e-ccf75f0c48c6",
   "metadata": {},
   "outputs": [
    {
     "name": "stderr",
     "output_type": "stream",
     "text": [
      "usage: CMD [-h] [--mode {read-only,read-write}]\n",
      "CMD: error: argument --mode: invalid choice: 'read' (choose from 'read-only', 'read-write')\n",
      "ERROR:root:Internal Python error in the inspect module.\n",
      "Below is the traceback from this internal error.\n",
      "\n"
     ]
    },
    {
     "name": "stdout",
     "output_type": "stream",
     "text": [
      "Traceback (most recent call last):\n",
      "  File \"C:\\Users\\hust2\\miniconda3\\envs\\hydrus\\lib\\argparse.py\", line 1851, in parse_known_args\n",
      "    namespace, args = self._parse_known_args(args, namespace)\n",
      "  File \"C:\\Users\\hust2\\miniconda3\\envs\\hydrus\\lib\\argparse.py\", line 2060, in _parse_known_args\n",
      "    start_index = consume_optional(start_index)\n",
      "  File \"C:\\Users\\hust2\\miniconda3\\envs\\hydrus\\lib\\argparse.py\", line 2000, in consume_optional\n",
      "    take_action(action, args, option_string)\n",
      "  File \"C:\\Users\\hust2\\miniconda3\\envs\\hydrus\\lib\\argparse.py\", line 1912, in take_action\n",
      "    argument_values = self._get_values(action, argument_strings)\n",
      "  File \"C:\\Users\\hust2\\miniconda3\\envs\\hydrus\\lib\\argparse.py\", line 2444, in _get_values\n",
      "    self._check_value(action, value)\n",
      "  File \"C:\\Users\\hust2\\miniconda3\\envs\\hydrus\\lib\\argparse.py\", line 2500, in _check_value\n",
      "    raise ArgumentError(action, msg % args)\n",
      "argparse.ArgumentError: argument --mode: invalid choice: 'read' (choose from 'read-only', 'read-write')\n",
      "\n",
      "During handling of the above exception, another exception occurred:\n",
      "\n",
      "Traceback (most recent call last):\n",
      "  File \"C:\\Users\\hust2\\miniconda3\\envs\\hydrus\\lib\\site-packages\\IPython\\core\\interactiveshell.py\", line 3441, in run_code\n",
      "    exec(code_obj, self.user_global_ns, self.user_ns)\n",
      "  File \"C:\\Users\\hust2\\AppData\\Local\\Temp/ipykernel_9120/603182907.py\", line 1, in <module>\n",
      "    parser.parse_args(['--mode', 'read'])\n",
      "  File \"C:\\Users\\hust2\\miniconda3\\envs\\hydrus\\lib\\argparse.py\", line 1818, in parse_args\n",
      "    args, argv = self.parse_known_args(args, namespace)\n",
      "  File \"C:\\Users\\hust2\\miniconda3\\envs\\hydrus\\lib\\argparse.py\", line 1854, in parse_known_args\n",
      "    self.error(str(err))\n",
      "  File \"C:\\Users\\hust2\\miniconda3\\envs\\hydrus\\lib\\argparse.py\", line 2575, in error\n",
      "    self.exit(2, _('%(prog)s: error: %(message)s\\n') % args)\n",
      "  File \"C:\\Users\\hust2\\miniconda3\\envs\\hydrus\\lib\\argparse.py\", line 2562, in exit\n",
      "    _sys.exit(status)\n",
      "SystemExit: 2\n",
      "\n",
      "During handling of the above exception, another exception occurred:\n",
      "\n",
      "Traceback (most recent call last):\n",
      "  File \"C:\\Users\\hust2\\miniconda3\\envs\\hydrus\\lib\\site-packages\\IPython\\core\\ultratb.py\", line 1101, in get_records\n",
      "    return _fixed_getinnerframes(etb, number_of_lines_of_context, tb_offset)\n",
      "  File \"C:\\Users\\hust2\\miniconda3\\envs\\hydrus\\lib\\site-packages\\IPython\\core\\ultratb.py\", line 248, in wrapped\n",
      "    return f(*args, **kwargs)\n",
      "  File \"C:\\Users\\hust2\\miniconda3\\envs\\hydrus\\lib\\site-packages\\IPython\\core\\ultratb.py\", line 281, in _fixed_getinnerframes\n",
      "    records = fix_frame_records_filenames(inspect.getinnerframes(etb, context))\n",
      "  File \"C:\\Users\\hust2\\miniconda3\\envs\\hydrus\\lib\\inspect.py\", line 1541, in getinnerframes\n",
      "    frameinfo = (tb.tb_frame,) + getframeinfo(tb, context)\n",
      "AttributeError: 'tuple' object has no attribute 'tb_frame'\n"
     ]
    },
    {
     "ename": "TypeError",
     "evalue": "object of type 'NoneType' has no len()",
     "output_type": "error",
     "traceback": [
      "\u001b[1;31m---------------------------------------------------------------------------\u001b[0m",
      "\u001b[1;31mArgumentError\u001b[0m                             Traceback (most recent call last)",
      "\u001b[1;32m~\\miniconda3\\envs\\hydrus\\lib\\argparse.py\u001b[0m in \u001b[0;36mparse_known_args\u001b[1;34m(self, args, namespace)\u001b[0m\n\u001b[0;32m   1850\u001b[0m             \u001b[1;32mtry\u001b[0m\u001b[1;33m:\u001b[0m\u001b[1;33m\u001b[0m\u001b[1;33m\u001b[0m\u001b[0m\n\u001b[1;32m-> 1851\u001b[1;33m                 \u001b[0mnamespace\u001b[0m\u001b[1;33m,\u001b[0m \u001b[0margs\u001b[0m \u001b[1;33m=\u001b[0m \u001b[0mself\u001b[0m\u001b[1;33m.\u001b[0m\u001b[0m_parse_known_args\u001b[0m\u001b[1;33m(\u001b[0m\u001b[0margs\u001b[0m\u001b[1;33m,\u001b[0m \u001b[0mnamespace\u001b[0m\u001b[1;33m)\u001b[0m\u001b[1;33m\u001b[0m\u001b[1;33m\u001b[0m\u001b[0m\n\u001b[0m\u001b[0;32m   1852\u001b[0m             \u001b[1;32mexcept\u001b[0m \u001b[0mArgumentError\u001b[0m\u001b[1;33m:\u001b[0m\u001b[1;33m\u001b[0m\u001b[1;33m\u001b[0m\u001b[0m\n",
      "\u001b[1;32m~\\miniconda3\\envs\\hydrus\\lib\\argparse.py\u001b[0m in \u001b[0;36m_parse_known_args\u001b[1;34m(self, arg_strings, namespace)\u001b[0m\n\u001b[0;32m   2059\u001b[0m             \u001b[1;31m# consume the next optional and any arguments for it\u001b[0m\u001b[1;33m\u001b[0m\u001b[1;33m\u001b[0m\u001b[1;33m\u001b[0m\u001b[0m\n\u001b[1;32m-> 2060\u001b[1;33m             \u001b[0mstart_index\u001b[0m \u001b[1;33m=\u001b[0m \u001b[0mconsume_optional\u001b[0m\u001b[1;33m(\u001b[0m\u001b[0mstart_index\u001b[0m\u001b[1;33m)\u001b[0m\u001b[1;33m\u001b[0m\u001b[1;33m\u001b[0m\u001b[0m\n\u001b[0m\u001b[0;32m   2061\u001b[0m \u001b[1;33m\u001b[0m\u001b[0m\n",
      "\u001b[1;32m~\\miniconda3\\envs\\hydrus\\lib\\argparse.py\u001b[0m in \u001b[0;36mconsume_optional\u001b[1;34m(start_index)\u001b[0m\n\u001b[0;32m   1999\u001b[0m             \u001b[1;32mfor\u001b[0m \u001b[0maction\u001b[0m\u001b[1;33m,\u001b[0m \u001b[0margs\u001b[0m\u001b[1;33m,\u001b[0m \u001b[0moption_string\u001b[0m \u001b[1;32min\u001b[0m \u001b[0maction_tuples\u001b[0m\u001b[1;33m:\u001b[0m\u001b[1;33m\u001b[0m\u001b[1;33m\u001b[0m\u001b[0m\n\u001b[1;32m-> 2000\u001b[1;33m                 \u001b[0mtake_action\u001b[0m\u001b[1;33m(\u001b[0m\u001b[0maction\u001b[0m\u001b[1;33m,\u001b[0m \u001b[0margs\u001b[0m\u001b[1;33m,\u001b[0m \u001b[0moption_string\u001b[0m\u001b[1;33m)\u001b[0m\u001b[1;33m\u001b[0m\u001b[1;33m\u001b[0m\u001b[0m\n\u001b[0m\u001b[0;32m   2001\u001b[0m             \u001b[1;32mreturn\u001b[0m \u001b[0mstop\u001b[0m\u001b[1;33m\u001b[0m\u001b[1;33m\u001b[0m\u001b[0m\n",
      "\u001b[1;32m~\\miniconda3\\envs\\hydrus\\lib\\argparse.py\u001b[0m in \u001b[0;36mtake_action\u001b[1;34m(action, argument_strings, option_string)\u001b[0m\n\u001b[0;32m   1911\u001b[0m             \u001b[0mseen_actions\u001b[0m\u001b[1;33m.\u001b[0m\u001b[0madd\u001b[0m\u001b[1;33m(\u001b[0m\u001b[0maction\u001b[0m\u001b[1;33m)\u001b[0m\u001b[1;33m\u001b[0m\u001b[1;33m\u001b[0m\u001b[0m\n\u001b[1;32m-> 1912\u001b[1;33m             \u001b[0margument_values\u001b[0m \u001b[1;33m=\u001b[0m \u001b[0mself\u001b[0m\u001b[1;33m.\u001b[0m\u001b[0m_get_values\u001b[0m\u001b[1;33m(\u001b[0m\u001b[0maction\u001b[0m\u001b[1;33m,\u001b[0m \u001b[0margument_strings\u001b[0m\u001b[1;33m)\u001b[0m\u001b[1;33m\u001b[0m\u001b[1;33m\u001b[0m\u001b[0m\n\u001b[0m\u001b[0;32m   1913\u001b[0m \u001b[1;33m\u001b[0m\u001b[0m\n",
      "\u001b[1;32m~\\miniconda3\\envs\\hydrus\\lib\\argparse.py\u001b[0m in \u001b[0;36m_get_values\u001b[1;34m(self, action, arg_strings)\u001b[0m\n\u001b[0;32m   2443\u001b[0m             \u001b[0mvalue\u001b[0m \u001b[1;33m=\u001b[0m \u001b[0mself\u001b[0m\u001b[1;33m.\u001b[0m\u001b[0m_get_value\u001b[0m\u001b[1;33m(\u001b[0m\u001b[0maction\u001b[0m\u001b[1;33m,\u001b[0m \u001b[0marg_string\u001b[0m\u001b[1;33m)\u001b[0m\u001b[1;33m\u001b[0m\u001b[1;33m\u001b[0m\u001b[0m\n\u001b[1;32m-> 2444\u001b[1;33m             \u001b[0mself\u001b[0m\u001b[1;33m.\u001b[0m\u001b[0m_check_value\u001b[0m\u001b[1;33m(\u001b[0m\u001b[0maction\u001b[0m\u001b[1;33m,\u001b[0m \u001b[0mvalue\u001b[0m\u001b[1;33m)\u001b[0m\u001b[1;33m\u001b[0m\u001b[1;33m\u001b[0m\u001b[0m\n\u001b[0m\u001b[0;32m   2445\u001b[0m \u001b[1;33m\u001b[0m\u001b[0m\n",
      "\u001b[1;32m~\\miniconda3\\envs\\hydrus\\lib\\argparse.py\u001b[0m in \u001b[0;36m_check_value\u001b[1;34m(self, action, value)\u001b[0m\n\u001b[0;32m   2499\u001b[0m             \u001b[0mmsg\u001b[0m \u001b[1;33m=\u001b[0m \u001b[0m_\u001b[0m\u001b[1;33m(\u001b[0m\u001b[1;34m'invalid choice: %(value)r (choose from %(choices)s)'\u001b[0m\u001b[1;33m)\u001b[0m\u001b[1;33m\u001b[0m\u001b[1;33m\u001b[0m\u001b[0m\n\u001b[1;32m-> 2500\u001b[1;33m             \u001b[1;32mraise\u001b[0m \u001b[0mArgumentError\u001b[0m\u001b[1;33m(\u001b[0m\u001b[0maction\u001b[0m\u001b[1;33m,\u001b[0m \u001b[0mmsg\u001b[0m \u001b[1;33m%\u001b[0m \u001b[0margs\u001b[0m\u001b[1;33m)\u001b[0m\u001b[1;33m\u001b[0m\u001b[1;33m\u001b[0m\u001b[0m\n\u001b[0m\u001b[0;32m   2501\u001b[0m \u001b[1;33m\u001b[0m\u001b[0m\n",
      "\u001b[1;31mArgumentError\u001b[0m: argument --mode: invalid choice: 'read' (choose from 'read-only', 'read-write')",
      "\nDuring handling of the above exception, another exception occurred:\n",
      "\u001b[1;31mSystemExit\u001b[0m                                Traceback (most recent call last)",
      "    \u001b[1;31m[... skipping hidden 1 frame]\u001b[0m\n",
      "\u001b[1;32m~\\AppData\\Local\\Temp/ipykernel_9120/603182907.py\u001b[0m in \u001b[0;36m<module>\u001b[1;34m\u001b[0m\n\u001b[1;32m----> 1\u001b[1;33m \u001b[0mparser\u001b[0m\u001b[1;33m.\u001b[0m\u001b[0mparse_args\u001b[0m\u001b[1;33m(\u001b[0m\u001b[1;33m[\u001b[0m\u001b[1;34m'--mode'\u001b[0m\u001b[1;33m,\u001b[0m \u001b[1;34m'read'\u001b[0m\u001b[1;33m]\u001b[0m\u001b[1;33m)\u001b[0m\u001b[1;33m\u001b[0m\u001b[1;33m\u001b[0m\u001b[0m\n\u001b[0m",
      "\u001b[1;32m~\\miniconda3\\envs\\hydrus\\lib\\argparse.py\u001b[0m in \u001b[0;36mparse_args\u001b[1;34m(self, args, namespace)\u001b[0m\n\u001b[0;32m   1817\u001b[0m     \u001b[1;32mdef\u001b[0m \u001b[0mparse_args\u001b[0m\u001b[1;33m(\u001b[0m\u001b[0mself\u001b[0m\u001b[1;33m,\u001b[0m \u001b[0margs\u001b[0m\u001b[1;33m=\u001b[0m\u001b[1;32mNone\u001b[0m\u001b[1;33m,\u001b[0m \u001b[0mnamespace\u001b[0m\u001b[1;33m=\u001b[0m\u001b[1;32mNone\u001b[0m\u001b[1;33m)\u001b[0m\u001b[1;33m:\u001b[0m\u001b[1;33m\u001b[0m\u001b[1;33m\u001b[0m\u001b[0m\n\u001b[1;32m-> 1818\u001b[1;33m         \u001b[0margs\u001b[0m\u001b[1;33m,\u001b[0m \u001b[0margv\u001b[0m \u001b[1;33m=\u001b[0m \u001b[0mself\u001b[0m\u001b[1;33m.\u001b[0m\u001b[0mparse_known_args\u001b[0m\u001b[1;33m(\u001b[0m\u001b[0margs\u001b[0m\u001b[1;33m,\u001b[0m \u001b[0mnamespace\u001b[0m\u001b[1;33m)\u001b[0m\u001b[1;33m\u001b[0m\u001b[1;33m\u001b[0m\u001b[0m\n\u001b[0m\u001b[0;32m   1819\u001b[0m         \u001b[1;32mif\u001b[0m \u001b[0margv\u001b[0m\u001b[1;33m:\u001b[0m\u001b[1;33m\u001b[0m\u001b[1;33m\u001b[0m\u001b[0m\n",
      "\u001b[1;32m~\\miniconda3\\envs\\hydrus\\lib\\argparse.py\u001b[0m in \u001b[0;36mparse_known_args\u001b[1;34m(self, args, namespace)\u001b[0m\n\u001b[0;32m   1853\u001b[0m                 \u001b[0merr\u001b[0m \u001b[1;33m=\u001b[0m \u001b[0m_sys\u001b[0m\u001b[1;33m.\u001b[0m\u001b[0mexc_info\u001b[0m\u001b[1;33m(\u001b[0m\u001b[1;33m)\u001b[0m\u001b[1;33m[\u001b[0m\u001b[1;36m1\u001b[0m\u001b[1;33m]\u001b[0m\u001b[1;33m\u001b[0m\u001b[1;33m\u001b[0m\u001b[0m\n\u001b[1;32m-> 1854\u001b[1;33m                 \u001b[0mself\u001b[0m\u001b[1;33m.\u001b[0m\u001b[0merror\u001b[0m\u001b[1;33m(\u001b[0m\u001b[0mstr\u001b[0m\u001b[1;33m(\u001b[0m\u001b[0merr\u001b[0m\u001b[1;33m)\u001b[0m\u001b[1;33m)\u001b[0m\u001b[1;33m\u001b[0m\u001b[1;33m\u001b[0m\u001b[0m\n\u001b[0m\u001b[0;32m   1855\u001b[0m         \u001b[1;32melse\u001b[0m\u001b[1;33m:\u001b[0m\u001b[1;33m\u001b[0m\u001b[1;33m\u001b[0m\u001b[0m\n",
      "\u001b[1;32m~\\miniconda3\\envs\\hydrus\\lib\\argparse.py\u001b[0m in \u001b[0;36merror\u001b[1;34m(self, message)\u001b[0m\n\u001b[0;32m   2574\u001b[0m         \u001b[0margs\u001b[0m \u001b[1;33m=\u001b[0m \u001b[1;33m{\u001b[0m\u001b[1;34m'prog'\u001b[0m\u001b[1;33m:\u001b[0m \u001b[0mself\u001b[0m\u001b[1;33m.\u001b[0m\u001b[0mprog\u001b[0m\u001b[1;33m,\u001b[0m \u001b[1;34m'message'\u001b[0m\u001b[1;33m:\u001b[0m \u001b[0mmessage\u001b[0m\u001b[1;33m}\u001b[0m\u001b[1;33m\u001b[0m\u001b[1;33m\u001b[0m\u001b[0m\n\u001b[1;32m-> 2575\u001b[1;33m         \u001b[0mself\u001b[0m\u001b[1;33m.\u001b[0m\u001b[0mexit\u001b[0m\u001b[1;33m(\u001b[0m\u001b[1;36m2\u001b[0m\u001b[1;33m,\u001b[0m \u001b[0m_\u001b[0m\u001b[1;33m(\u001b[0m\u001b[1;34m'%(prog)s: error: %(message)s\\n'\u001b[0m\u001b[1;33m)\u001b[0m \u001b[1;33m%\u001b[0m \u001b[0margs\u001b[0m\u001b[1;33m)\u001b[0m\u001b[1;33m\u001b[0m\u001b[1;33m\u001b[0m\u001b[0m\n\u001b[0m",
      "\u001b[1;32m~\\miniconda3\\envs\\hydrus\\lib\\argparse.py\u001b[0m in \u001b[0;36mexit\u001b[1;34m(self, status, message)\u001b[0m\n\u001b[0;32m   2561\u001b[0m             \u001b[0mself\u001b[0m\u001b[1;33m.\u001b[0m\u001b[0m_print_message\u001b[0m\u001b[1;33m(\u001b[0m\u001b[0mmessage\u001b[0m\u001b[1;33m,\u001b[0m \u001b[0m_sys\u001b[0m\u001b[1;33m.\u001b[0m\u001b[0mstderr\u001b[0m\u001b[1;33m)\u001b[0m\u001b[1;33m\u001b[0m\u001b[1;33m\u001b[0m\u001b[0m\n\u001b[1;32m-> 2562\u001b[1;33m         \u001b[0m_sys\u001b[0m\u001b[1;33m.\u001b[0m\u001b[0mexit\u001b[0m\u001b[1;33m(\u001b[0m\u001b[0mstatus\u001b[0m\u001b[1;33m)\u001b[0m\u001b[1;33m\u001b[0m\u001b[1;33m\u001b[0m\u001b[0m\n\u001b[0m\u001b[0;32m   2563\u001b[0m \u001b[1;33m\u001b[0m\u001b[0m\n",
      "\u001b[1;31mSystemExit\u001b[0m: 2",
      "\nDuring handling of the above exception, another exception occurred:\n",
      "\u001b[1;31mTypeError\u001b[0m                                 Traceback (most recent call last)",
      "    \u001b[1;31m[... skipping hidden 1 frame]\u001b[0m\n",
      "\u001b[1;32m~\\miniconda3\\envs\\hydrus\\lib\\site-packages\\IPython\\core\\interactiveshell.py\u001b[0m in \u001b[0;36mshowtraceback\u001b[1;34m(self, exc_tuple, filename, tb_offset, exception_only, running_compiled_code)\u001b[0m\n\u001b[0;32m   2052\u001b[0m                     stb = ['An exception has occurred, use %tb to see '\n\u001b[0;32m   2053\u001b[0m                            'the full traceback.\\n']\n\u001b[1;32m-> 2054\u001b[1;33m                     stb.extend(self.InteractiveTB.get_exception_only(etype,\n\u001b[0m\u001b[0;32m   2055\u001b[0m                                                                      value))\n\u001b[0;32m   2056\u001b[0m                 \u001b[1;32melse\u001b[0m\u001b[1;33m:\u001b[0m\u001b[1;33m\u001b[0m\u001b[1;33m\u001b[0m\u001b[0m\n",
      "\u001b[1;32m~\\miniconda3\\envs\\hydrus\\lib\\site-packages\\IPython\\core\\ultratb.py\u001b[0m in \u001b[0;36mget_exception_only\u001b[1;34m(self, etype, value)\u001b[0m\n\u001b[0;32m    752\u001b[0m         \u001b[0mvalue\u001b[0m \u001b[1;33m:\u001b[0m \u001b[0mexception\u001b[0m \u001b[0mvalue\u001b[0m\u001b[1;33m\u001b[0m\u001b[1;33m\u001b[0m\u001b[0m\n\u001b[0;32m    753\u001b[0m         \"\"\"\n\u001b[1;32m--> 754\u001b[1;33m         \u001b[1;32mreturn\u001b[0m \u001b[0mListTB\u001b[0m\u001b[1;33m.\u001b[0m\u001b[0mstructured_traceback\u001b[0m\u001b[1;33m(\u001b[0m\u001b[0mself\u001b[0m\u001b[1;33m,\u001b[0m \u001b[0metype\u001b[0m\u001b[1;33m,\u001b[0m \u001b[0mvalue\u001b[0m\u001b[1;33m)\u001b[0m\u001b[1;33m\u001b[0m\u001b[1;33m\u001b[0m\u001b[0m\n\u001b[0m\u001b[0;32m    755\u001b[0m \u001b[1;33m\u001b[0m\u001b[0m\n\u001b[0;32m    756\u001b[0m     \u001b[1;32mdef\u001b[0m \u001b[0mshow_exception_only\u001b[0m\u001b[1;33m(\u001b[0m\u001b[0mself\u001b[0m\u001b[1;33m,\u001b[0m \u001b[0metype\u001b[0m\u001b[1;33m,\u001b[0m \u001b[0mevalue\u001b[0m\u001b[1;33m)\u001b[0m\u001b[1;33m:\u001b[0m\u001b[1;33m\u001b[0m\u001b[1;33m\u001b[0m\u001b[0m\n",
      "\u001b[1;32m~\\miniconda3\\envs\\hydrus\\lib\\site-packages\\IPython\\core\\ultratb.py\u001b[0m in \u001b[0;36mstructured_traceback\u001b[1;34m(self, etype, evalue, etb, tb_offset, context)\u001b[0m\n\u001b[0;32m    627\u001b[0m             \u001b[0mchained_exceptions_tb_offset\u001b[0m \u001b[1;33m=\u001b[0m \u001b[1;36m0\u001b[0m\u001b[1;33m\u001b[0m\u001b[1;33m\u001b[0m\u001b[0m\n\u001b[0;32m    628\u001b[0m             out_list = (\n\u001b[1;32m--> 629\u001b[1;33m                 self.structured_traceback(\n\u001b[0m\u001b[0;32m    630\u001b[0m                     \u001b[0metype\u001b[0m\u001b[1;33m,\u001b[0m \u001b[0mevalue\u001b[0m\u001b[1;33m,\u001b[0m \u001b[1;33m(\u001b[0m\u001b[0metb\u001b[0m\u001b[1;33m,\u001b[0m \u001b[0mchained_exc_ids\u001b[0m\u001b[1;33m)\u001b[0m\u001b[1;33m,\u001b[0m\u001b[1;33m\u001b[0m\u001b[1;33m\u001b[0m\u001b[0m\n\u001b[0;32m    631\u001b[0m                     chained_exceptions_tb_offset, context)\n",
      "\u001b[1;32m~\\miniconda3\\envs\\hydrus\\lib\\site-packages\\IPython\\core\\ultratb.py\u001b[0m in \u001b[0;36mstructured_traceback\u001b[1;34m(self, etype, value, tb, tb_offset, number_of_lines_of_context)\u001b[0m\n\u001b[0;32m   1365\u001b[0m         \u001b[1;32melse\u001b[0m\u001b[1;33m:\u001b[0m\u001b[1;33m\u001b[0m\u001b[1;33m\u001b[0m\u001b[0m\n\u001b[0;32m   1366\u001b[0m             \u001b[0mself\u001b[0m\u001b[1;33m.\u001b[0m\u001b[0mtb\u001b[0m \u001b[1;33m=\u001b[0m \u001b[0mtb\u001b[0m\u001b[1;33m\u001b[0m\u001b[1;33m\u001b[0m\u001b[0m\n\u001b[1;32m-> 1367\u001b[1;33m         return FormattedTB.structured_traceback(\n\u001b[0m\u001b[0;32m   1368\u001b[0m             self, etype, value, tb, tb_offset, number_of_lines_of_context)\n\u001b[0;32m   1369\u001b[0m \u001b[1;33m\u001b[0m\u001b[0m\n",
      "\u001b[1;32m~\\miniconda3\\envs\\hydrus\\lib\\site-packages\\IPython\\core\\ultratb.py\u001b[0m in \u001b[0;36mstructured_traceback\u001b[1;34m(self, etype, value, tb, tb_offset, number_of_lines_of_context)\u001b[0m\n\u001b[0;32m   1265\u001b[0m         \u001b[1;32mif\u001b[0m \u001b[0mmode\u001b[0m \u001b[1;32min\u001b[0m \u001b[0mself\u001b[0m\u001b[1;33m.\u001b[0m\u001b[0mverbose_modes\u001b[0m\u001b[1;33m:\u001b[0m\u001b[1;33m\u001b[0m\u001b[1;33m\u001b[0m\u001b[0m\n\u001b[0;32m   1266\u001b[0m             \u001b[1;31m# Verbose modes need a full traceback\u001b[0m\u001b[1;33m\u001b[0m\u001b[1;33m\u001b[0m\u001b[1;33m\u001b[0m\u001b[0m\n\u001b[1;32m-> 1267\u001b[1;33m             return VerboseTB.structured_traceback(\n\u001b[0m\u001b[0;32m   1268\u001b[0m                 \u001b[0mself\u001b[0m\u001b[1;33m,\u001b[0m \u001b[0metype\u001b[0m\u001b[1;33m,\u001b[0m \u001b[0mvalue\u001b[0m\u001b[1;33m,\u001b[0m \u001b[0mtb\u001b[0m\u001b[1;33m,\u001b[0m \u001b[0mtb_offset\u001b[0m\u001b[1;33m,\u001b[0m \u001b[0mnumber_of_lines_of_context\u001b[0m\u001b[1;33m\u001b[0m\u001b[1;33m\u001b[0m\u001b[0m\n\u001b[0;32m   1269\u001b[0m             )\n",
      "\u001b[1;32m~\\miniconda3\\envs\\hydrus\\lib\\site-packages\\IPython\\core\\ultratb.py\u001b[0m in \u001b[0;36mstructured_traceback\u001b[1;34m(self, etype, evalue, etb, tb_offset, number_of_lines_of_context)\u001b[0m\n\u001b[0;32m   1122\u001b[0m         \u001b[1;34m\"\"\"Return a nice text document describing the traceback.\"\"\"\u001b[0m\u001b[1;33m\u001b[0m\u001b[1;33m\u001b[0m\u001b[0m\n\u001b[0;32m   1123\u001b[0m \u001b[1;33m\u001b[0m\u001b[0m\n\u001b[1;32m-> 1124\u001b[1;33m         formatted_exception = self.format_exception_as_a_whole(etype, evalue, etb, number_of_lines_of_context,\n\u001b[0m\u001b[0;32m   1125\u001b[0m                                                                tb_offset)\n\u001b[0;32m   1126\u001b[0m \u001b[1;33m\u001b[0m\u001b[0m\n",
      "\u001b[1;32m~\\miniconda3\\envs\\hydrus\\lib\\site-packages\\IPython\\core\\ultratb.py\u001b[0m in \u001b[0;36mformat_exception_as_a_whole\u001b[1;34m(self, etype, evalue, etb, number_of_lines_of_context, tb_offset)\u001b[0m\n\u001b[0;32m   1080\u001b[0m \u001b[1;33m\u001b[0m\u001b[0m\n\u001b[0;32m   1081\u001b[0m \u001b[1;33m\u001b[0m\u001b[0m\n\u001b[1;32m-> 1082\u001b[1;33m         \u001b[0mlast_unique\u001b[0m\u001b[1;33m,\u001b[0m \u001b[0mrecursion_repeat\u001b[0m \u001b[1;33m=\u001b[0m \u001b[0mfind_recursion\u001b[0m\u001b[1;33m(\u001b[0m\u001b[0morig_etype\u001b[0m\u001b[1;33m,\u001b[0m \u001b[0mevalue\u001b[0m\u001b[1;33m,\u001b[0m \u001b[0mrecords\u001b[0m\u001b[1;33m)\u001b[0m\u001b[1;33m\u001b[0m\u001b[1;33m\u001b[0m\u001b[0m\n\u001b[0m\u001b[0;32m   1083\u001b[0m \u001b[1;33m\u001b[0m\u001b[0m\n\u001b[0;32m   1084\u001b[0m         \u001b[0mframes\u001b[0m \u001b[1;33m=\u001b[0m \u001b[0mself\u001b[0m\u001b[1;33m.\u001b[0m\u001b[0mformat_records\u001b[0m\u001b[1;33m(\u001b[0m\u001b[0mrecords\u001b[0m\u001b[1;33m,\u001b[0m \u001b[0mlast_unique\u001b[0m\u001b[1;33m,\u001b[0m \u001b[0mrecursion_repeat\u001b[0m\u001b[1;33m)\u001b[0m\u001b[1;33m\u001b[0m\u001b[1;33m\u001b[0m\u001b[0m\n",
      "\u001b[1;32m~\\miniconda3\\envs\\hydrus\\lib\\site-packages\\IPython\\core\\ultratb.py\u001b[0m in \u001b[0;36mfind_recursion\u001b[1;34m(etype, value, records)\u001b[0m\n\u001b[0;32m    380\u001b[0m     \u001b[1;31m# first frame (from in to out) that looks different.\u001b[0m\u001b[1;33m\u001b[0m\u001b[1;33m\u001b[0m\u001b[1;33m\u001b[0m\u001b[0m\n\u001b[0;32m    381\u001b[0m     \u001b[1;32mif\u001b[0m \u001b[1;32mnot\u001b[0m \u001b[0mis_recursion_error\u001b[0m\u001b[1;33m(\u001b[0m\u001b[0metype\u001b[0m\u001b[1;33m,\u001b[0m \u001b[0mvalue\u001b[0m\u001b[1;33m,\u001b[0m \u001b[0mrecords\u001b[0m\u001b[1;33m)\u001b[0m\u001b[1;33m:\u001b[0m\u001b[1;33m\u001b[0m\u001b[1;33m\u001b[0m\u001b[0m\n\u001b[1;32m--> 382\u001b[1;33m         \u001b[1;32mreturn\u001b[0m \u001b[0mlen\u001b[0m\u001b[1;33m(\u001b[0m\u001b[0mrecords\u001b[0m\u001b[1;33m)\u001b[0m\u001b[1;33m,\u001b[0m \u001b[1;36m0\u001b[0m\u001b[1;33m\u001b[0m\u001b[1;33m\u001b[0m\u001b[0m\n\u001b[0m\u001b[0;32m    383\u001b[0m \u001b[1;33m\u001b[0m\u001b[0m\n\u001b[0;32m    384\u001b[0m     \u001b[1;31m# Select filename, lineno, func_name to track frames with\u001b[0m\u001b[1;33m\u001b[0m\u001b[1;33m\u001b[0m\u001b[1;33m\u001b[0m\u001b[0m\n",
      "\u001b[1;31mTypeError\u001b[0m: object of type 'NoneType' has no len()"
     ]
    }
   ],
   "source": [
    "parser.parse_args(['--mode', 'read'])"
   ]
  },
  {
   "cell_type": "markdown",
   "id": "31804430-67a5-4fe6-ba9f-27244c18979f",
   "metadata": {},
   "source": [
    "6. 互斥参数\n",
    "\n",
    "互斥参数 就是多个参数之间彼此互斥，不能同时出现。使用互斥参数首先通过 ArgumentParser.add_mutually_exclusive_group 在解析器中添加一个互斥组，然后在这个组里添加参数，那么组内的所有参数都是互斥的。\n",
    "\n",
    "比如，我们希望通过命令行来告知乘坐的交通工具，要么是汽车，要么是公交，要么是自行车，那么就可以这么写："
   ]
  },
  {
   "cell_type": "code",
   "execution_count": 81,
   "id": "d1c3f121-3a72-4c31-b882-b021329fb48c",
   "metadata": {},
   "outputs": [
    {
     "data": {
      "text/plain": [
       "Namespace(car=False, bus=False, bike=False)"
      ]
     },
     "execution_count": 81,
     "metadata": {},
     "output_type": "execute_result"
    }
   ],
   "source": [
    "parser = argparse.ArgumentParser(prog='CMD')\n",
    "group = parser.add_mutually_exclusive_group()\n",
    "group.add_argument('--car', action='store_true')\n",
    "group.add_argument('--bus', action='store_true')\n",
    "group.add_argument('--bike', action='store_true')\n",
    "parser.parse_args([])  # 什么都不乘坐"
   ]
  },
  {
   "cell_type": "code",
   "execution_count": 82,
   "id": "bb8a42d9-7767-4776-ba58-523907cbf992",
   "metadata": {},
   "outputs": [
    {
     "data": {
      "text/plain": [
       "Namespace(car=False, bus=True, bike=False)"
      ]
     },
     "execution_count": 82,
     "metadata": {},
     "output_type": "execute_result"
    }
   ],
   "source": [
    "parser.parse_args(['--bus'])  # 乘坐公交"
   ]
  },
  {
   "cell_type": "code",
   "execution_count": 83,
   "id": "95feaee2-4a89-4c5c-b4ee-f0ec32bef3d1",
   "metadata": {},
   "outputs": [
    {
     "data": {
      "text/plain": [
       "Namespace(car=False, bus=False, bike=True)"
      ]
     },
     "execution_count": 83,
     "metadata": {},
     "output_type": "execute_result"
    }
   ],
   "source": [
    "parser.parse_args(['--bike'])  # 骑自行车"
   ]
  },
  {
   "cell_type": "code",
   "execution_count": 84,
   "id": "ca03f12c-bc58-4309-8c0a-0772933286d9",
   "metadata": {},
   "outputs": [
    {
     "name": "stderr",
     "output_type": "stream",
     "text": [
      "usage: CMD [-h] [--car | --bus | --bike]\n",
      "CMD: error: argument --car: not allowed with argument --bike\n",
      "ERROR:root:Internal Python error in the inspect module.\n",
      "Below is the traceback from this internal error.\n",
      "\n"
     ]
    },
    {
     "name": "stdout",
     "output_type": "stream",
     "text": [
      "Traceback (most recent call last):\n",
      "  File \"C:\\Users\\hust2\\miniconda3\\envs\\hydrus\\lib\\argparse.py\", line 1851, in parse_known_args\n",
      "    namespace, args = self._parse_known_args(args, namespace)\n",
      "  File \"C:\\Users\\hust2\\miniconda3\\envs\\hydrus\\lib\\argparse.py\", line 2060, in _parse_known_args\n",
      "    start_index = consume_optional(start_index)\n",
      "  File \"C:\\Users\\hust2\\miniconda3\\envs\\hydrus\\lib\\argparse.py\", line 2000, in consume_optional\n",
      "    take_action(action, args, option_string)\n",
      "  File \"C:\\Users\\hust2\\miniconda3\\envs\\hydrus\\lib\\argparse.py\", line 1923, in take_action\n",
      "    raise ArgumentError(action, msg % action_name)\n",
      "argparse.ArgumentError: argument --car: not allowed with argument --bike\n",
      "\n",
      "During handling of the above exception, another exception occurred:\n",
      "\n",
      "Traceback (most recent call last):\n",
      "  File \"C:\\Users\\hust2\\miniconda3\\envs\\hydrus\\lib\\site-packages\\IPython\\core\\interactiveshell.py\", line 3441, in run_code\n",
      "    exec(code_obj, self.user_global_ns, self.user_ns)\n",
      "  File \"C:\\Users\\hust2\\AppData\\Local\\Temp/ipykernel_9120/3372606779.py\", line 1, in <module>\n",
      "    parser.parse_args(['--bike', '--car'])  # 又想骑车，又想坐车，那是不行的\n",
      "  File \"C:\\Users\\hust2\\miniconda3\\envs\\hydrus\\lib\\argparse.py\", line 1818, in parse_args\n",
      "    args, argv = self.parse_known_args(args, namespace)\n",
      "  File \"C:\\Users\\hust2\\miniconda3\\envs\\hydrus\\lib\\argparse.py\", line 1854, in parse_known_args\n",
      "    self.error(str(err))\n",
      "  File \"C:\\Users\\hust2\\miniconda3\\envs\\hydrus\\lib\\argparse.py\", line 2575, in error\n",
      "    self.exit(2, _('%(prog)s: error: %(message)s\\n') % args)\n",
      "  File \"C:\\Users\\hust2\\miniconda3\\envs\\hydrus\\lib\\argparse.py\", line 2562, in exit\n",
      "    _sys.exit(status)\n",
      "SystemExit: 2\n",
      "\n",
      "During handling of the above exception, another exception occurred:\n",
      "\n",
      "Traceback (most recent call last):\n",
      "  File \"C:\\Users\\hust2\\miniconda3\\envs\\hydrus\\lib\\site-packages\\IPython\\core\\ultratb.py\", line 1101, in get_records\n",
      "    return _fixed_getinnerframes(etb, number_of_lines_of_context, tb_offset)\n",
      "  File \"C:\\Users\\hust2\\miniconda3\\envs\\hydrus\\lib\\site-packages\\IPython\\core\\ultratb.py\", line 248, in wrapped\n",
      "    return f(*args, **kwargs)\n",
      "  File \"C:\\Users\\hust2\\miniconda3\\envs\\hydrus\\lib\\site-packages\\IPython\\core\\ultratb.py\", line 281, in _fixed_getinnerframes\n",
      "    records = fix_frame_records_filenames(inspect.getinnerframes(etb, context))\n",
      "  File \"C:\\Users\\hust2\\miniconda3\\envs\\hydrus\\lib\\inspect.py\", line 1541, in getinnerframes\n",
      "    frameinfo = (tb.tb_frame,) + getframeinfo(tb, context)\n",
      "AttributeError: 'tuple' object has no attribute 'tb_frame'\n"
     ]
    },
    {
     "ename": "TypeError",
     "evalue": "object of type 'NoneType' has no len()",
     "output_type": "error",
     "traceback": [
      "\u001b[1;31m---------------------------------------------------------------------------\u001b[0m",
      "\u001b[1;31mArgumentError\u001b[0m                             Traceback (most recent call last)",
      "\u001b[1;32m~\\miniconda3\\envs\\hydrus\\lib\\argparse.py\u001b[0m in \u001b[0;36mparse_known_args\u001b[1;34m(self, args, namespace)\u001b[0m\n\u001b[0;32m   1850\u001b[0m             \u001b[1;32mtry\u001b[0m\u001b[1;33m:\u001b[0m\u001b[1;33m\u001b[0m\u001b[1;33m\u001b[0m\u001b[0m\n\u001b[1;32m-> 1851\u001b[1;33m                 \u001b[0mnamespace\u001b[0m\u001b[1;33m,\u001b[0m \u001b[0margs\u001b[0m \u001b[1;33m=\u001b[0m \u001b[0mself\u001b[0m\u001b[1;33m.\u001b[0m\u001b[0m_parse_known_args\u001b[0m\u001b[1;33m(\u001b[0m\u001b[0margs\u001b[0m\u001b[1;33m,\u001b[0m \u001b[0mnamespace\u001b[0m\u001b[1;33m)\u001b[0m\u001b[1;33m\u001b[0m\u001b[1;33m\u001b[0m\u001b[0m\n\u001b[0m\u001b[0;32m   1852\u001b[0m             \u001b[1;32mexcept\u001b[0m \u001b[0mArgumentError\u001b[0m\u001b[1;33m:\u001b[0m\u001b[1;33m\u001b[0m\u001b[1;33m\u001b[0m\u001b[0m\n",
      "\u001b[1;32m~\\miniconda3\\envs\\hydrus\\lib\\argparse.py\u001b[0m in \u001b[0;36m_parse_known_args\u001b[1;34m(self, arg_strings, namespace)\u001b[0m\n\u001b[0;32m   2059\u001b[0m             \u001b[1;31m# consume the next optional and any arguments for it\u001b[0m\u001b[1;33m\u001b[0m\u001b[1;33m\u001b[0m\u001b[1;33m\u001b[0m\u001b[0m\n\u001b[1;32m-> 2060\u001b[1;33m             \u001b[0mstart_index\u001b[0m \u001b[1;33m=\u001b[0m \u001b[0mconsume_optional\u001b[0m\u001b[1;33m(\u001b[0m\u001b[0mstart_index\u001b[0m\u001b[1;33m)\u001b[0m\u001b[1;33m\u001b[0m\u001b[1;33m\u001b[0m\u001b[0m\n\u001b[0m\u001b[0;32m   2061\u001b[0m \u001b[1;33m\u001b[0m\u001b[0m\n",
      "\u001b[1;32m~\\miniconda3\\envs\\hydrus\\lib\\argparse.py\u001b[0m in \u001b[0;36mconsume_optional\u001b[1;34m(start_index)\u001b[0m\n\u001b[0;32m   1999\u001b[0m             \u001b[1;32mfor\u001b[0m \u001b[0maction\u001b[0m\u001b[1;33m,\u001b[0m \u001b[0margs\u001b[0m\u001b[1;33m,\u001b[0m \u001b[0moption_string\u001b[0m \u001b[1;32min\u001b[0m \u001b[0maction_tuples\u001b[0m\u001b[1;33m:\u001b[0m\u001b[1;33m\u001b[0m\u001b[1;33m\u001b[0m\u001b[0m\n\u001b[1;32m-> 2000\u001b[1;33m                 \u001b[0mtake_action\u001b[0m\u001b[1;33m(\u001b[0m\u001b[0maction\u001b[0m\u001b[1;33m,\u001b[0m \u001b[0margs\u001b[0m\u001b[1;33m,\u001b[0m \u001b[0moption_string\u001b[0m\u001b[1;33m)\u001b[0m\u001b[1;33m\u001b[0m\u001b[1;33m\u001b[0m\u001b[0m\n\u001b[0m\u001b[0;32m   2001\u001b[0m             \u001b[1;32mreturn\u001b[0m \u001b[0mstop\u001b[0m\u001b[1;33m\u001b[0m\u001b[1;33m\u001b[0m\u001b[0m\n",
      "\u001b[1;32m~\\miniconda3\\envs\\hydrus\\lib\\argparse.py\u001b[0m in \u001b[0;36mtake_action\u001b[1;34m(action, argument_strings, option_string)\u001b[0m\n\u001b[0;32m   1922\u001b[0m                         \u001b[0maction_name\u001b[0m \u001b[1;33m=\u001b[0m \u001b[0m_get_action_name\u001b[0m\u001b[1;33m(\u001b[0m\u001b[0mconflict_action\u001b[0m\u001b[1;33m)\u001b[0m\u001b[1;33m\u001b[0m\u001b[1;33m\u001b[0m\u001b[0m\n\u001b[1;32m-> 1923\u001b[1;33m                         \u001b[1;32mraise\u001b[0m \u001b[0mArgumentError\u001b[0m\u001b[1;33m(\u001b[0m\u001b[0maction\u001b[0m\u001b[1;33m,\u001b[0m \u001b[0mmsg\u001b[0m \u001b[1;33m%\u001b[0m \u001b[0maction_name\u001b[0m\u001b[1;33m)\u001b[0m\u001b[1;33m\u001b[0m\u001b[1;33m\u001b[0m\u001b[0m\n\u001b[0m\u001b[0;32m   1924\u001b[0m \u001b[1;33m\u001b[0m\u001b[0m\n",
      "\u001b[1;31mArgumentError\u001b[0m: argument --car: not allowed with argument --bike",
      "\nDuring handling of the above exception, another exception occurred:\n",
      "\u001b[1;31mSystemExit\u001b[0m                                Traceback (most recent call last)",
      "    \u001b[1;31m[... skipping hidden 1 frame]\u001b[0m\n",
      "\u001b[1;32m~\\AppData\\Local\\Temp/ipykernel_9120/3372606779.py\u001b[0m in \u001b[0;36m<module>\u001b[1;34m\u001b[0m\n\u001b[1;32m----> 1\u001b[1;33m \u001b[0mparser\u001b[0m\u001b[1;33m.\u001b[0m\u001b[0mparse_args\u001b[0m\u001b[1;33m(\u001b[0m\u001b[1;33m[\u001b[0m\u001b[1;34m'--bike'\u001b[0m\u001b[1;33m,\u001b[0m \u001b[1;34m'--car'\u001b[0m\u001b[1;33m]\u001b[0m\u001b[1;33m)\u001b[0m  \u001b[1;31m# 又想骑车，又想坐车，那是不行的\u001b[0m\u001b[1;33m\u001b[0m\u001b[1;33m\u001b[0m\u001b[0m\n\u001b[0m",
      "\u001b[1;32m~\\miniconda3\\envs\\hydrus\\lib\\argparse.py\u001b[0m in \u001b[0;36mparse_args\u001b[1;34m(self, args, namespace)\u001b[0m\n\u001b[0;32m   1817\u001b[0m     \u001b[1;32mdef\u001b[0m \u001b[0mparse_args\u001b[0m\u001b[1;33m(\u001b[0m\u001b[0mself\u001b[0m\u001b[1;33m,\u001b[0m \u001b[0margs\u001b[0m\u001b[1;33m=\u001b[0m\u001b[1;32mNone\u001b[0m\u001b[1;33m,\u001b[0m \u001b[0mnamespace\u001b[0m\u001b[1;33m=\u001b[0m\u001b[1;32mNone\u001b[0m\u001b[1;33m)\u001b[0m\u001b[1;33m:\u001b[0m\u001b[1;33m\u001b[0m\u001b[1;33m\u001b[0m\u001b[0m\n\u001b[1;32m-> 1818\u001b[1;33m         \u001b[0margs\u001b[0m\u001b[1;33m,\u001b[0m \u001b[0margv\u001b[0m \u001b[1;33m=\u001b[0m \u001b[0mself\u001b[0m\u001b[1;33m.\u001b[0m\u001b[0mparse_known_args\u001b[0m\u001b[1;33m(\u001b[0m\u001b[0margs\u001b[0m\u001b[1;33m,\u001b[0m \u001b[0mnamespace\u001b[0m\u001b[1;33m)\u001b[0m\u001b[1;33m\u001b[0m\u001b[1;33m\u001b[0m\u001b[0m\n\u001b[0m\u001b[0;32m   1819\u001b[0m         \u001b[1;32mif\u001b[0m \u001b[0margv\u001b[0m\u001b[1;33m:\u001b[0m\u001b[1;33m\u001b[0m\u001b[1;33m\u001b[0m\u001b[0m\n",
      "\u001b[1;32m~\\miniconda3\\envs\\hydrus\\lib\\argparse.py\u001b[0m in \u001b[0;36mparse_known_args\u001b[1;34m(self, args, namespace)\u001b[0m\n\u001b[0;32m   1853\u001b[0m                 \u001b[0merr\u001b[0m \u001b[1;33m=\u001b[0m \u001b[0m_sys\u001b[0m\u001b[1;33m.\u001b[0m\u001b[0mexc_info\u001b[0m\u001b[1;33m(\u001b[0m\u001b[1;33m)\u001b[0m\u001b[1;33m[\u001b[0m\u001b[1;36m1\u001b[0m\u001b[1;33m]\u001b[0m\u001b[1;33m\u001b[0m\u001b[1;33m\u001b[0m\u001b[0m\n\u001b[1;32m-> 1854\u001b[1;33m                 \u001b[0mself\u001b[0m\u001b[1;33m.\u001b[0m\u001b[0merror\u001b[0m\u001b[1;33m(\u001b[0m\u001b[0mstr\u001b[0m\u001b[1;33m(\u001b[0m\u001b[0merr\u001b[0m\u001b[1;33m)\u001b[0m\u001b[1;33m)\u001b[0m\u001b[1;33m\u001b[0m\u001b[1;33m\u001b[0m\u001b[0m\n\u001b[0m\u001b[0;32m   1855\u001b[0m         \u001b[1;32melse\u001b[0m\u001b[1;33m:\u001b[0m\u001b[1;33m\u001b[0m\u001b[1;33m\u001b[0m\u001b[0m\n",
      "\u001b[1;32m~\\miniconda3\\envs\\hydrus\\lib\\argparse.py\u001b[0m in \u001b[0;36merror\u001b[1;34m(self, message)\u001b[0m\n\u001b[0;32m   2574\u001b[0m         \u001b[0margs\u001b[0m \u001b[1;33m=\u001b[0m \u001b[1;33m{\u001b[0m\u001b[1;34m'prog'\u001b[0m\u001b[1;33m:\u001b[0m \u001b[0mself\u001b[0m\u001b[1;33m.\u001b[0m\u001b[0mprog\u001b[0m\u001b[1;33m,\u001b[0m \u001b[1;34m'message'\u001b[0m\u001b[1;33m:\u001b[0m \u001b[0mmessage\u001b[0m\u001b[1;33m}\u001b[0m\u001b[1;33m\u001b[0m\u001b[1;33m\u001b[0m\u001b[0m\n\u001b[1;32m-> 2575\u001b[1;33m         \u001b[0mself\u001b[0m\u001b[1;33m.\u001b[0m\u001b[0mexit\u001b[0m\u001b[1;33m(\u001b[0m\u001b[1;36m2\u001b[0m\u001b[1;33m,\u001b[0m \u001b[0m_\u001b[0m\u001b[1;33m(\u001b[0m\u001b[1;34m'%(prog)s: error: %(message)s\\n'\u001b[0m\u001b[1;33m)\u001b[0m \u001b[1;33m%\u001b[0m \u001b[0margs\u001b[0m\u001b[1;33m)\u001b[0m\u001b[1;33m\u001b[0m\u001b[1;33m\u001b[0m\u001b[0m\n\u001b[0m",
      "\u001b[1;32m~\\miniconda3\\envs\\hydrus\\lib\\argparse.py\u001b[0m in \u001b[0;36mexit\u001b[1;34m(self, status, message)\u001b[0m\n\u001b[0;32m   2561\u001b[0m             \u001b[0mself\u001b[0m\u001b[1;33m.\u001b[0m\u001b[0m_print_message\u001b[0m\u001b[1;33m(\u001b[0m\u001b[0mmessage\u001b[0m\u001b[1;33m,\u001b[0m \u001b[0m_sys\u001b[0m\u001b[1;33m.\u001b[0m\u001b[0mstderr\u001b[0m\u001b[1;33m)\u001b[0m\u001b[1;33m\u001b[0m\u001b[1;33m\u001b[0m\u001b[0m\n\u001b[1;32m-> 2562\u001b[1;33m         \u001b[0m_sys\u001b[0m\u001b[1;33m.\u001b[0m\u001b[0mexit\u001b[0m\u001b[1;33m(\u001b[0m\u001b[0mstatus\u001b[0m\u001b[1;33m)\u001b[0m\u001b[1;33m\u001b[0m\u001b[1;33m\u001b[0m\u001b[0m\n\u001b[0m\u001b[0;32m   2563\u001b[0m \u001b[1;33m\u001b[0m\u001b[0m\n",
      "\u001b[1;31mSystemExit\u001b[0m: 2",
      "\nDuring handling of the above exception, another exception occurred:\n",
      "\u001b[1;31mTypeError\u001b[0m                                 Traceback (most recent call last)",
      "    \u001b[1;31m[... skipping hidden 1 frame]\u001b[0m\n",
      "\u001b[1;32m~\\miniconda3\\envs\\hydrus\\lib\\site-packages\\IPython\\core\\interactiveshell.py\u001b[0m in \u001b[0;36mshowtraceback\u001b[1;34m(self, exc_tuple, filename, tb_offset, exception_only, running_compiled_code)\u001b[0m\n\u001b[0;32m   2052\u001b[0m                     stb = ['An exception has occurred, use %tb to see '\n\u001b[0;32m   2053\u001b[0m                            'the full traceback.\\n']\n\u001b[1;32m-> 2054\u001b[1;33m                     stb.extend(self.InteractiveTB.get_exception_only(etype,\n\u001b[0m\u001b[0;32m   2055\u001b[0m                                                                      value))\n\u001b[0;32m   2056\u001b[0m                 \u001b[1;32melse\u001b[0m\u001b[1;33m:\u001b[0m\u001b[1;33m\u001b[0m\u001b[1;33m\u001b[0m\u001b[0m\n",
      "\u001b[1;32m~\\miniconda3\\envs\\hydrus\\lib\\site-packages\\IPython\\core\\ultratb.py\u001b[0m in \u001b[0;36mget_exception_only\u001b[1;34m(self, etype, value)\u001b[0m\n\u001b[0;32m    752\u001b[0m         \u001b[0mvalue\u001b[0m \u001b[1;33m:\u001b[0m \u001b[0mexception\u001b[0m \u001b[0mvalue\u001b[0m\u001b[1;33m\u001b[0m\u001b[1;33m\u001b[0m\u001b[0m\n\u001b[0;32m    753\u001b[0m         \"\"\"\n\u001b[1;32m--> 754\u001b[1;33m         \u001b[1;32mreturn\u001b[0m \u001b[0mListTB\u001b[0m\u001b[1;33m.\u001b[0m\u001b[0mstructured_traceback\u001b[0m\u001b[1;33m(\u001b[0m\u001b[0mself\u001b[0m\u001b[1;33m,\u001b[0m \u001b[0metype\u001b[0m\u001b[1;33m,\u001b[0m \u001b[0mvalue\u001b[0m\u001b[1;33m)\u001b[0m\u001b[1;33m\u001b[0m\u001b[1;33m\u001b[0m\u001b[0m\n\u001b[0m\u001b[0;32m    755\u001b[0m \u001b[1;33m\u001b[0m\u001b[0m\n\u001b[0;32m    756\u001b[0m     \u001b[1;32mdef\u001b[0m \u001b[0mshow_exception_only\u001b[0m\u001b[1;33m(\u001b[0m\u001b[0mself\u001b[0m\u001b[1;33m,\u001b[0m \u001b[0metype\u001b[0m\u001b[1;33m,\u001b[0m \u001b[0mevalue\u001b[0m\u001b[1;33m)\u001b[0m\u001b[1;33m:\u001b[0m\u001b[1;33m\u001b[0m\u001b[1;33m\u001b[0m\u001b[0m\n",
      "\u001b[1;32m~\\miniconda3\\envs\\hydrus\\lib\\site-packages\\IPython\\core\\ultratb.py\u001b[0m in \u001b[0;36mstructured_traceback\u001b[1;34m(self, etype, evalue, etb, tb_offset, context)\u001b[0m\n\u001b[0;32m    627\u001b[0m             \u001b[0mchained_exceptions_tb_offset\u001b[0m \u001b[1;33m=\u001b[0m \u001b[1;36m0\u001b[0m\u001b[1;33m\u001b[0m\u001b[1;33m\u001b[0m\u001b[0m\n\u001b[0;32m    628\u001b[0m             out_list = (\n\u001b[1;32m--> 629\u001b[1;33m                 self.structured_traceback(\n\u001b[0m\u001b[0;32m    630\u001b[0m                     \u001b[0metype\u001b[0m\u001b[1;33m,\u001b[0m \u001b[0mevalue\u001b[0m\u001b[1;33m,\u001b[0m \u001b[1;33m(\u001b[0m\u001b[0metb\u001b[0m\u001b[1;33m,\u001b[0m \u001b[0mchained_exc_ids\u001b[0m\u001b[1;33m)\u001b[0m\u001b[1;33m,\u001b[0m\u001b[1;33m\u001b[0m\u001b[1;33m\u001b[0m\u001b[0m\n\u001b[0;32m    631\u001b[0m                     chained_exceptions_tb_offset, context)\n",
      "\u001b[1;32m~\\miniconda3\\envs\\hydrus\\lib\\site-packages\\IPython\\core\\ultratb.py\u001b[0m in \u001b[0;36mstructured_traceback\u001b[1;34m(self, etype, value, tb, tb_offset, number_of_lines_of_context)\u001b[0m\n\u001b[0;32m   1365\u001b[0m         \u001b[1;32melse\u001b[0m\u001b[1;33m:\u001b[0m\u001b[1;33m\u001b[0m\u001b[1;33m\u001b[0m\u001b[0m\n\u001b[0;32m   1366\u001b[0m             \u001b[0mself\u001b[0m\u001b[1;33m.\u001b[0m\u001b[0mtb\u001b[0m \u001b[1;33m=\u001b[0m \u001b[0mtb\u001b[0m\u001b[1;33m\u001b[0m\u001b[1;33m\u001b[0m\u001b[0m\n\u001b[1;32m-> 1367\u001b[1;33m         return FormattedTB.structured_traceback(\n\u001b[0m\u001b[0;32m   1368\u001b[0m             self, etype, value, tb, tb_offset, number_of_lines_of_context)\n\u001b[0;32m   1369\u001b[0m \u001b[1;33m\u001b[0m\u001b[0m\n",
      "\u001b[1;32m~\\miniconda3\\envs\\hydrus\\lib\\site-packages\\IPython\\core\\ultratb.py\u001b[0m in \u001b[0;36mstructured_traceback\u001b[1;34m(self, etype, value, tb, tb_offset, number_of_lines_of_context)\u001b[0m\n\u001b[0;32m   1265\u001b[0m         \u001b[1;32mif\u001b[0m \u001b[0mmode\u001b[0m \u001b[1;32min\u001b[0m \u001b[0mself\u001b[0m\u001b[1;33m.\u001b[0m\u001b[0mverbose_modes\u001b[0m\u001b[1;33m:\u001b[0m\u001b[1;33m\u001b[0m\u001b[1;33m\u001b[0m\u001b[0m\n\u001b[0;32m   1266\u001b[0m             \u001b[1;31m# Verbose modes need a full traceback\u001b[0m\u001b[1;33m\u001b[0m\u001b[1;33m\u001b[0m\u001b[1;33m\u001b[0m\u001b[0m\n\u001b[1;32m-> 1267\u001b[1;33m             return VerboseTB.structured_traceback(\n\u001b[0m\u001b[0;32m   1268\u001b[0m                 \u001b[0mself\u001b[0m\u001b[1;33m,\u001b[0m \u001b[0metype\u001b[0m\u001b[1;33m,\u001b[0m \u001b[0mvalue\u001b[0m\u001b[1;33m,\u001b[0m \u001b[0mtb\u001b[0m\u001b[1;33m,\u001b[0m \u001b[0mtb_offset\u001b[0m\u001b[1;33m,\u001b[0m \u001b[0mnumber_of_lines_of_context\u001b[0m\u001b[1;33m\u001b[0m\u001b[1;33m\u001b[0m\u001b[0m\n\u001b[0;32m   1269\u001b[0m             )\n",
      "\u001b[1;32m~\\miniconda3\\envs\\hydrus\\lib\\site-packages\\IPython\\core\\ultratb.py\u001b[0m in \u001b[0;36mstructured_traceback\u001b[1;34m(self, etype, evalue, etb, tb_offset, number_of_lines_of_context)\u001b[0m\n\u001b[0;32m   1122\u001b[0m         \u001b[1;34m\"\"\"Return a nice text document describing the traceback.\"\"\"\u001b[0m\u001b[1;33m\u001b[0m\u001b[1;33m\u001b[0m\u001b[0m\n\u001b[0;32m   1123\u001b[0m \u001b[1;33m\u001b[0m\u001b[0m\n\u001b[1;32m-> 1124\u001b[1;33m         formatted_exception = self.format_exception_as_a_whole(etype, evalue, etb, number_of_lines_of_context,\n\u001b[0m\u001b[0;32m   1125\u001b[0m                                                                tb_offset)\n\u001b[0;32m   1126\u001b[0m \u001b[1;33m\u001b[0m\u001b[0m\n",
      "\u001b[1;32m~\\miniconda3\\envs\\hydrus\\lib\\site-packages\\IPython\\core\\ultratb.py\u001b[0m in \u001b[0;36mformat_exception_as_a_whole\u001b[1;34m(self, etype, evalue, etb, number_of_lines_of_context, tb_offset)\u001b[0m\n\u001b[0;32m   1080\u001b[0m \u001b[1;33m\u001b[0m\u001b[0m\n\u001b[0;32m   1081\u001b[0m \u001b[1;33m\u001b[0m\u001b[0m\n\u001b[1;32m-> 1082\u001b[1;33m         \u001b[0mlast_unique\u001b[0m\u001b[1;33m,\u001b[0m \u001b[0mrecursion_repeat\u001b[0m \u001b[1;33m=\u001b[0m \u001b[0mfind_recursion\u001b[0m\u001b[1;33m(\u001b[0m\u001b[0morig_etype\u001b[0m\u001b[1;33m,\u001b[0m \u001b[0mevalue\u001b[0m\u001b[1;33m,\u001b[0m \u001b[0mrecords\u001b[0m\u001b[1;33m)\u001b[0m\u001b[1;33m\u001b[0m\u001b[1;33m\u001b[0m\u001b[0m\n\u001b[0m\u001b[0;32m   1083\u001b[0m \u001b[1;33m\u001b[0m\u001b[0m\n\u001b[0;32m   1084\u001b[0m         \u001b[0mframes\u001b[0m \u001b[1;33m=\u001b[0m \u001b[0mself\u001b[0m\u001b[1;33m.\u001b[0m\u001b[0mformat_records\u001b[0m\u001b[1;33m(\u001b[0m\u001b[0mrecords\u001b[0m\u001b[1;33m,\u001b[0m \u001b[0mlast_unique\u001b[0m\u001b[1;33m,\u001b[0m \u001b[0mrecursion_repeat\u001b[0m\u001b[1;33m)\u001b[0m\u001b[1;33m\u001b[0m\u001b[1;33m\u001b[0m\u001b[0m\n",
      "\u001b[1;32m~\\miniconda3\\envs\\hydrus\\lib\\site-packages\\IPython\\core\\ultratb.py\u001b[0m in \u001b[0;36mfind_recursion\u001b[1;34m(etype, value, records)\u001b[0m\n\u001b[0;32m    380\u001b[0m     \u001b[1;31m# first frame (from in to out) that looks different.\u001b[0m\u001b[1;33m\u001b[0m\u001b[1;33m\u001b[0m\u001b[1;33m\u001b[0m\u001b[0m\n\u001b[0;32m    381\u001b[0m     \u001b[1;32mif\u001b[0m \u001b[1;32mnot\u001b[0m \u001b[0mis_recursion_error\u001b[0m\u001b[1;33m(\u001b[0m\u001b[0metype\u001b[0m\u001b[1;33m,\u001b[0m \u001b[0mvalue\u001b[0m\u001b[1;33m,\u001b[0m \u001b[0mrecords\u001b[0m\u001b[1;33m)\u001b[0m\u001b[1;33m:\u001b[0m\u001b[1;33m\u001b[0m\u001b[1;33m\u001b[0m\u001b[0m\n\u001b[1;32m--> 382\u001b[1;33m         \u001b[1;32mreturn\u001b[0m \u001b[0mlen\u001b[0m\u001b[1;33m(\u001b[0m\u001b[0mrecords\u001b[0m\u001b[1;33m)\u001b[0m\u001b[1;33m,\u001b[0m \u001b[1;36m0\u001b[0m\u001b[1;33m\u001b[0m\u001b[1;33m\u001b[0m\u001b[0m\n\u001b[0m\u001b[0;32m    383\u001b[0m \u001b[1;33m\u001b[0m\u001b[0m\n\u001b[0;32m    384\u001b[0m     \u001b[1;31m# Select filename, lineno, func_name to track frames with\u001b[0m\u001b[1;33m\u001b[0m\u001b[1;33m\u001b[0m\u001b[1;33m\u001b[0m\u001b[0m\n",
      "\u001b[1;31mTypeError\u001b[0m: object of type 'NoneType' has no len()"
     ]
    }
   ],
   "source": [
    "parser.parse_args(['--bike', '--car'])  # 又想骑车，又想坐车，那是不行的"
   ]
  },
  {
   "cell_type": "markdown",
   "id": "d2fef535-f71b-48fc-9788-ef9a25fa6c56",
   "metadata": {},
   "source": [
    "7. 可变参数列表\n",
    "\n",
    "可变参数列表 用来定义一个参数可以有多个值，且能通过 nargs 来定义值的个数。\n",
    "\n",
    "若 nargs=N，N为一个数字，则要求该参数提供 N 个值，如："
   ]
  },
  {
   "cell_type": "code",
   "execution_count": 85,
   "id": "d0f6200c-8b9b-4315-8d9f-cde9c13d2d67",
   "metadata": {},
   "outputs": [
    {
     "name": "stdout",
     "output_type": "stream",
     "text": [
      "Namespace(foo=['a', 'b'])\n"
     ]
    }
   ],
   "source": [
    "parser = argparse.ArgumentParser(prog='CMD')\n",
    "parser.add_argument('--foo', nargs=2)\n",
    "print(parser.parse_args(['--foo', 'a', 'b']))"
   ]
  },
  {
   "cell_type": "markdown",
   "id": "e4d338d4-f77c-40b0-9251-4a66d23473ef",
   "metadata": {},
   "source": [
    "若 nargs=?，则要求改参数提供 0 或 1 个值，如："
   ]
  },
  {
   "cell_type": "code",
   "execution_count": 86,
   "id": "17e428a0-e152-45e0-9984-aa6e54ac8695",
   "metadata": {},
   "outputs": [
    {
     "data": {
      "text/plain": [
       "Namespace(foo=None)"
      ]
     },
     "execution_count": 86,
     "metadata": {},
     "output_type": "execute_result"
    }
   ],
   "source": [
    "parser = argparse.ArgumentParser(prog='CMD')\n",
    "parser.add_argument('--foo', nargs='?')\n",
    "parser.parse_args(['--foo'])"
   ]
  },
  {
   "cell_type": "code",
   "execution_count": 87,
   "id": "878f4cc3-60aa-4381-af00-a3852ed3bdcb",
   "metadata": {},
   "outputs": [
    {
     "data": {
      "text/plain": [
       "Namespace(foo='a')"
      ]
     },
     "execution_count": 87,
     "metadata": {},
     "output_type": "execute_result"
    }
   ],
   "source": [
    "parser.parse_args(['--foo', 'a'])"
   ]
  },
  {
   "cell_type": "markdown",
   "id": "672c1a91-2c9e-4116-a334-126fbdb6b359",
   "metadata": {},
   "source": [
    "若 nargs=*，则要求改参数提供 0 或多个值，如："
   ]
  },
  {
   "cell_type": "code",
   "execution_count": 88,
   "id": "6cb30fce-9f78-4904-91d7-3892387067f0",
   "metadata": {},
   "outputs": [
    {
     "data": {
      "text/plain": [
       "Namespace(foo=['a', 'b', 'c', 'd', 'e'])"
      ]
     },
     "execution_count": 88,
     "metadata": {},
     "output_type": "execute_result"
    }
   ],
   "source": [
    "parser = argparse.ArgumentParser(prog='CMD')\n",
    "parser.add_argument('--foo', nargs='*')\n",
    "parser.parse_args(['--foo', 'a', 'b', 'c', 'd', 'e'])"
   ]
  },
  {
   "cell_type": "markdown",
   "id": "06df5211-cb36-4f30-94d4-bf6d773c10b5",
   "metadata": {},
   "source": [
    "若 nargs=+，则要求改参数至少提供 1 个值，如："
   ]
  },
  {
   "cell_type": "code",
   "execution_count": 89,
   "id": "37a652dc-177b-44e3-a2bc-32fae38429bc",
   "metadata": {},
   "outputs": [
    {
     "data": {
      "text/plain": [
       "Namespace(foo=['a'])"
      ]
     },
     "execution_count": 89,
     "metadata": {},
     "output_type": "execute_result"
    }
   ],
   "source": [
    "parser = argparse.ArgumentParser(prog='CMD')\n",
    "parser.add_argument('--foo', nargs='+')\n",
    "parser.parse_args(['--foo', 'a'])"
   ]
  },
  {
   "cell_type": "markdown",
   "id": "c051fa54-0823-4651-896c-828f2e513e6c",
   "metadata": {},
   "source": [
    "小结下。\n",
    "\n",
    "add_argument 方法定义**单个**的命令行参数应当**如何解析**。每个形参更多的描述：\n",
    "\n",
    "- name or flags - 一个命名或者一个选项字符串的列表，例如 foo 或 -f, --foo。\n",
    "- action - 当参数在命令行中出现时使用的动作基本类型。\n",
    "- nargs - 命令行参数应当消耗的数目。\n",
    "- const - 被一些 action 和 nargs 选择所需求的常数。\n",
    "- default - 当参数未在命令行中出现时使用的值。\n",
    "- type - 命令行参数应当被转换成的类型。\n",
    "- choices - 可用的参数的容器。\n",
    "- required - 此命令行选项是否可省略 （仅选项可用）。\n",
    "- help - 一个此选项作用的简单描述。\n",
    "- metavar - 在使用方法消息中使用的参数值示例。\n",
    "- dest - 解析后的参数名称，默认情况下，对于可选参数选取最长的名称，中划线转换为下划线. \n",
    "\n",
    "然后一个比较完整的，需要在命令行中执行的例子如下，对应的python文件是argv_argparse.py.\n",
    "\n",
    "调用方式：\n",
    "\n",
    "```Shell\n",
    "python argv_argparse.py -h\n",
    "python argv_argparse.py xiaoming 1991.11.11\n",
    "python argv_argparse.py xiaoming 1991.11.11 -p xiaohong xiaohei -a 25 -r han -s female -o 1 2 3 4 5 6\n",
    "```\n",
    "\n",
    "-h表示调出help信息。"
   ]
  },
  {
   "cell_type": "markdown",
   "id": "198eec05-88d2-4d03-ab99-cfe3fe5a298d",
   "metadata": {},
   "source": [
    "以上是参数动作和参数类别相关内容，接下来继续深入了解 argparse 的功能，包括如何修改参数前缀，如何定义参数组，如何定义嵌套的解析器，如何编写自定义动作等。\n",
    "\n",
    "1. 帮助\n",
    "\n",
    "自动生成帮助\n",
    "\n",
    "当你在命令行程序中指定 -h 或 --help 参数时，都会输出帮助信息。而 argparse 可通过指定 add_help 入参为 True 或不指定，以达到自动输出帮助信息的目的。"
   ]
  },
  {
   "cell_type": "code",
   "execution_count": 90,
   "id": "33afa8f7-d675-429e-967d-3be47d23a72a",
   "metadata": {},
   "outputs": [
    {
     "name": "stdout",
     "output_type": "stream",
     "text": [
      "usage: ipykernel_launcher.py [-h] [--foo FOO]\n",
      "\n",
      "optional arguments:\n",
      "  -h, --help  show this help message and exit\n",
      "  --foo FOO\n"
     ]
    },
    {
     "ename": "SystemExit",
     "evalue": "0",
     "output_type": "error",
     "traceback": [
      "An exception has occurred, use %tb to see the full traceback.\n",
      "\u001b[1;31mSystemExit\u001b[0m\u001b[1;31m:\u001b[0m 0\n"
     ]
    }
   ],
   "source": [
    "import argparse\n",
    "parser = argparse.ArgumentParser(add_help=True)\n",
    "parser.add_argument('--foo')\n",
    "parser.parse_args(['-h'])"
   ]
  },
  {
   "cell_type": "markdown",
   "id": "dc990f61-0514-4593-bfc9-245a250d260b",
   "metadata": {},
   "source": [
    "自定义帮助\n",
    "\n",
    "ArgumentParser 使用 formatter_class 入参来控制所输出的帮助格式。 比如，通过指定 formatter_class=argparse.RawTextHelpFormatter，我们可以让帮助内容遵循原始格式："
   ]
  },
  {
   "cell_type": "code",
   "execution_count": 91,
   "id": "af505ca9-4534-438a-97b6-940c5b5855f6",
   "metadata": {},
   "outputs": [
    {
     "name": "stdout",
     "output_type": "stream",
     "text": [
      "usage: ipykernel_launcher.py [-h] [-a]\n",
      "\n",
      "description  raw formatted\n",
      "\n",
      "optional arguments:\n",
      "  -h, --help  show this help message and exit\n",
      "  -a          argument raw formatted\n"
     ]
    },
    {
     "ename": "SystemExit",
     "evalue": "0",
     "output_type": "error",
     "traceback": [
      "An exception has occurred, use %tb to see the full traceback.\n",
      "\u001b[1;31mSystemExit\u001b[0m\u001b[1;31m:\u001b[0m 0\n"
     ]
    }
   ],
   "source": [
    "import argparse\n",
    "parser = argparse.ArgumentParser(\n",
    "    add_help=True,\n",
    "    formatter_class=argparse.RawTextHelpFormatter,\n",
    "    description=\"\"\"description  raw formatted\"\"\"\n",
    ")\n",
    "parser.add_argument(\n",
    "    '-a', action=\"store_true\",\n",
    "    help=\"\"\"argument raw formatted\"\"\"\n",
    ")\n",
    "parser.parse_args(['-h'])"
   ]
  },
  {
   "cell_type": "markdown",
   "id": "42d4bfb0-e720-4756-80be-64165a597c28",
   "metadata": {},
   "source": [
    "2. 参数组\n",
    "\n",
    "有时候，我们需要给参数分组，以使得在显示帮助信息时能够显示到一起。\n",
    "\n",
    "比如某命令行支持三个参数选项 --user、--password和--push，前两者需要放在一个名为 authentication 的分组中以表示它们是身份认证信息。那么我们可以用 ArgumentParser.add_argument_group 来满足："
   ]
  },
  {
   "cell_type": "code",
   "execution_count": 92,
   "id": "97ec0fd4-c8f8-4718-b1df-a58bac0593a6",
   "metadata": {},
   "outputs": [
    {
     "name": "stdout",
     "output_type": "stream",
     "text": [
      "usage: ipykernel_launcher.py [-h] [--user USER] [--password PASSWORD] [--push PUSH]\n",
      "\n",
      "optional arguments:\n",
      "  -h, --help           show this help message and exit\n",
      "  --push PUSH\n",
      "\n",
      "authentication:\n",
      "  --user USER\n",
      "  --password PASSWORD\n"
     ]
    },
    {
     "ename": "SystemExit",
     "evalue": "0",
     "output_type": "error",
     "traceback": [
      "An exception has occurred, use %tb to see the full traceback.\n",
      "\u001b[1;31mSystemExit\u001b[0m\u001b[1;31m:\u001b[0m 0\n"
     ]
    }
   ],
   "source": [
    "import argparse\n",
    "parser = argparse.ArgumentParser()\n",
    "group = parser.add_argument_group('authentication')\n",
    "group.add_argument('--user', action=\"store\")\n",
    "group.add_argument('--password', action=\"store\")\n",
    "parser.add_argument('--push', action='store')\n",
    "parser.parse_args(['-h'])"
   ]
  },
  {
   "cell_type": "markdown",
   "id": "6d605d4f-44f3-4d5d-a2f9-4b78c234c0ef",
   "metadata": {},
   "source": [
    "3. 选项参数前缀\n",
    "\n",
    "不知你是否注意到，在不同平台上命令行程序的选项参数前缀可能是不同的。比如在 Unix 上，其前缀是 -；而在 Windows 上，大多数命令行程序（比如 findstr）的选项参数前缀是 /。\n",
    "\n",
    "在 argparse 中，选项参数前缀默认采用 Unix 命令行约定，也就是 -。但它也支持自定义前缀，下面是一个例子："
   ]
  },
  {
   "cell_type": "code",
   "execution_count": 93,
   "id": "d5d75378-ee70-4501-84ed-cc1274171881",
   "metadata": {},
   "outputs": [
    {
     "data": {
      "text/plain": [
       "Namespace(power=False, win=False)"
      ]
     },
     "execution_count": 93,
     "metadata": {},
     "output_type": "execute_result"
    }
   ],
   "source": [
    "import argparse\n",
    "parser = argparse.ArgumentParser(\n",
    "    description='Option prefix',\n",
    "    prefix_chars='-+/',\n",
    ")\n",
    "\n",
    "parser.add_argument('-power', action=\"store_false\",\n",
    "                    default=None,\n",
    "                    help='Set power off',\n",
    "                   )\n",
    "parser.add_argument('+power', action=\"store_true\",\n",
    "                    default=None,\n",
    "                    help='Set power on',\n",
    "                   )\n",
    "parser.add_argument('/win',\n",
    "                    action=\"store_true\",\n",
    "                    default=False)\n",
    "parser.parse_args(['-power'])"
   ]
  },
  {
   "cell_type": "code",
   "execution_count": 94,
   "id": "f700b68f-3865-4f62-8818-2eac15f5b4e7",
   "metadata": {},
   "outputs": [
    {
     "data": {
      "text/plain": [
       "Namespace(power=True, win=True)"
      ]
     },
     "execution_count": 94,
     "metadata": {},
     "output_type": "execute_result"
    }
   ],
   "source": [
    "parser.parse_args(['+power', '/win'])"
   ]
  },
  {
   "cell_type": "markdown",
   "id": "420aa452-b556-4a98-b0fa-cd08896e3e6e",
   "metadata": {},
   "source": [
    "在这个例子中，我们指定了三个选项参数前缀 -、+和/，从而：\n",
    "\n",
    "- 通过指定选项参数 -power，使得 power=False\n",
    "- 通过指定选项参数 +power，使得 power=True\n",
    "- 通过指定选项参数 /win，使得 win=True"
   ]
  },
  {
   "cell_type": "markdown",
   "id": "fdded22c-0c66-4afb-ab24-cef0068ac3da",
   "metadata": {},
   "source": [
    "### 读取配置文件\n",
    "\n",
    "很多情况下，我们需要通过配置文件来定义一些参数性质的数据，因为配置文件作为一种可读性很好的格式，非常适用于存储程序中的配置数据。 \n",
    "\n",
    "在每个配置文件中，配置数据会被分组（比如例子中的“installation”、 “debug” 和 “server”）。 每个分组在其中指定对应的各个变量值。那么如何读取普通.ini格式的配置文件？\n",
    "\n",
    "在python中，configparser 模块能被用来读取配置文件。例如，假设有配置文件config.ini。下面给出读取代码："
   ]
  },
  {
   "cell_type": "code",
   "execution_count": 95,
   "id": "790b10f3-f9b0-43ee-a1c2-6abe5ee512e9",
   "metadata": {},
   "outputs": [
    {
     "data": {
      "text/plain": [
       "['config.ini']"
      ]
     },
     "execution_count": 95,
     "metadata": {},
     "output_type": "execute_result"
    }
   ],
   "source": [
    "from configparser import ConfigParser\n",
    "cfg = ConfigParser()\n",
    "cfg.read('config.ini')"
   ]
  },
  {
   "cell_type": "code",
   "execution_count": 96,
   "id": "61d44fe0-628f-43e3-a59c-1cbb4f662360",
   "metadata": {},
   "outputs": [
    {
     "data": {
      "text/plain": [
       "['installation', 'debug', 'server']"
      ]
     },
     "execution_count": 96,
     "metadata": {},
     "output_type": "execute_result"
    }
   ],
   "source": [
    "cfg.sections()"
   ]
  },
  {
   "cell_type": "code",
   "execution_count": 97,
   "id": "54f205e2-d2b8-4b2c-a1dc-3068e67cb997",
   "metadata": {},
   "outputs": [
    {
     "data": {
      "text/plain": [
       "'/usr/local/lib'"
      ]
     },
     "execution_count": 97,
     "metadata": {},
     "output_type": "execute_result"
    }
   ],
   "source": [
    "cfg.get('installation','library')"
   ]
  },
  {
   "cell_type": "code",
   "execution_count": 98,
   "id": "e310791c-8007-4d29-a583-581a350578db",
   "metadata": {},
   "outputs": [
    {
     "data": {
      "text/plain": [
       "True"
      ]
     },
     "execution_count": 98,
     "metadata": {},
     "output_type": "execute_result"
    }
   ],
   "source": [
    "cfg.getboolean('debug','log_errors')"
   ]
  },
  {
   "cell_type": "code",
   "execution_count": 99,
   "id": "db422ffe-4f7d-4f82-9064-e98dfb724504",
   "metadata": {},
   "outputs": [
    {
     "data": {
      "text/plain": [
       "8080"
      ]
     },
     "execution_count": 99,
     "metadata": {},
     "output_type": "execute_result"
    }
   ],
   "source": [
    "cfg.getint('server','port')"
   ]
  },
  {
   "cell_type": "code",
   "execution_count": 100,
   "id": "bef2761a-bc5f-49de-bc70-2010881b1e8b",
   "metadata": {},
   "outputs": [
    {
     "data": {
      "text/plain": [
       "32"
      ]
     },
     "execution_count": 100,
     "metadata": {},
     "output_type": "execute_result"
    }
   ],
   "source": [
    "cfg.getint('server','nworkers')"
   ]
  },
  {
   "cell_type": "code",
   "execution_count": 101,
   "id": "ef74a52e-5e47-4470-80ab-8b7ebc95108a",
   "metadata": {},
   "outputs": [
    {
     "name": "stdout",
     "output_type": "stream",
     "text": [
      "\n",
      "=================================\n",
      "Brought to you by the Python Cookbook\n",
      "=================================\n"
     ]
    }
   ],
   "source": [
    "print(cfg.get('server','signature'))"
   ]
  },
  {
   "cell_type": "markdown",
   "id": "44b094af-cfd2-4e72-8378-76880d979162",
   "metadata": {},
   "source": [
    "还可以读取一个section下的所有keys或所有键值对，参考：[Python 读取写入配置文件 —— ConfigParser](https://blog.csdn.net/jiede1/article/details/79064780)"
   ]
  },
  {
   "cell_type": "code",
   "execution_count": 102,
   "id": "09217dde-909d-4cb1-a695-917af16dc1ba",
   "metadata": {},
   "outputs": [
    {
     "data": {
      "text/plain": [
       "['library', 'include', 'bin', 'prefix']"
      ]
     },
     "execution_count": 102,
     "metadata": {},
     "output_type": "execute_result"
    }
   ],
   "source": [
    "cfg.options(\"installation\") "
   ]
  },
  {
   "cell_type": "code",
   "execution_count": 103,
   "id": "2b7b4a99-e1b0-44c8-a302-75822ae6f95e",
   "metadata": {},
   "outputs": [
    {
     "data": {
      "text/plain": [
       "[('library', '/usr/local/lib'),\n",
       " ('include', '/usr/local/include'),\n",
       " ('bin', '/usr/local/bin'),\n",
       " ('prefix', '/usr/local')]"
      ]
     },
     "execution_count": 103,
     "metadata": {},
     "output_type": "execute_result"
    }
   ],
   "source": [
    "cfg.items(\"installation\")  "
   ]
  },
  {
   "cell_type": "markdown",
   "id": "575cefd3-323c-4600-9447-30a8aeda7349",
   "metadata": {},
   "source": [
    "如果需要，还能修改配置并使用 cfg.write() 方法将其写回到文件中。例如："
   ]
  },
  {
   "cell_type": "code",
   "execution_count": 104,
   "id": "5ea67a00-48de-472f-bb23-aea538f00c62",
   "metadata": {},
   "outputs": [
    {
     "name": "stdout",
     "output_type": "stream",
     "text": [
      "[installation]\n",
      "library = %(prefix)s/lib\n",
      "include = %(prefix)s/include\n",
      "bin = %(prefix)s/bin\n",
      "prefix = /usr/local\n",
      "\n",
      "[debug]\n",
      "log_errors = False\n",
      "show_warnings = False\n",
      "\n",
      "[server]\n",
      "port = 9000\n",
      "nworkers = 32\n",
      "pid-file = /tmp/spam.pid\n",
      "root = /www/root\n",
      "signature = \n",
      "\t=================================\n",
      "\tBrought to you by the Python Cookbook\n",
      "\t=================================\n",
      "\n"
     ]
    }
   ],
   "source": [
    "cfg.set('server','port','9000')\n",
    "cfg.set('debug','log_errors','False')\n",
    "import sys\n",
    "cfg.write(sys.stdout)"
   ]
  },
  {
   "cell_type": "markdown",
   "id": "5178d0e9-441b-4cd3-96dc-e76d3f5369bb",
   "metadata": {},
   "source": [
    "### 日志功能\n",
    "\n",
    "即在脚本和程序中将诊断信息写入日志文件。打印日志最简单方式是使用 logging 模块。\n",
    "\n",
    "这小节的内容主要参考了：\n",
    "\n",
    "- [python必掌握模块(四）logging模块用法](https://zhuanlan.zhihu.com/p/56968001)\n",
    "- [Python模块学习之Logging日志模块](https://y4er.com/post/python-logging/)\n",
    "\n",
    "日志是 学习任何编程语言都有必要掌握的核心模块。因为当把python代码放入到**生产环境**中的时候，我们只能看到代码运行的结果，我们不知道的是代码每一步过程的最终运行状态。\n",
    "\n",
    "如果代码中间过程出现了问题的话，logging库的引用得出的日志记录可以帮助我们排查程序运行错误步骤的。方便我们修复代码，快速排查问题。\n",
    "\n",
    "logging模块是Python内置的标准模块，主要用于输出运行日志，可以设置输出日志的等级、日志保存路径、日志文件回滚等；相比print，具备如下优点：\n",
    "\n",
    "- 可以通过设置不同的日志等级，在release版本中只输出重要信息，而不必显示大量的调试信息：print将所有信息都输出到标准输出中，严重影响开发者从标准输出中查看其它数据；logging则可以由开发者决定将信息输出到什么地方，以及怎么输出\n",
    "- logging具有更灵活的格式化功能，比如运行时间、模块信息\n",
    "- print输出都在控制台上，logging可以输出到任何位置，比如文件甚至是远程服务器\n",
    "\n",
    "logging 的模块结构如下：\n",
    "\n",
    "- Logger\t记录日志时创建的对象，调用其方法来传入日志模板和信息生成日志记录\n",
    "- Log Record\tLogger对象生成的一条条记录\n",
    "- Handler\t处理日志记录，输出或者存储日志记录\n",
    "- Formatter\t格式化日志记录\n",
    "- Filter\t日志过滤器\n",
    "- Parent Handler\tHandler之间存在分层关系"
   ]
  },
  {
   "cell_type": "code",
   "execution_count": 105,
   "id": "5e4a339e-ae4f-472c-9ffa-9f45116cd8d1",
   "metadata": {},
   "outputs": [
    {
     "name": "stderr",
     "output_type": "stream",
     "text": [
      "2021/07/29 17:58:42 - Your Logger - INFO - this is info msg\n",
      "INFO:Your Logger:this is info msg\n",
      "2021/07/29 17:58:42 - Your Logger - DEBUG - this is debug msg\n",
      "DEBUG:Your Logger:this is debug msg\n",
      "2021/07/29 17:58:42 - Your Logger - WARNING - this is warn msg\n",
      "WARNING:Your Logger:this is warn msg\n",
      "2021/07/29 17:58:42 - Your Logger - ERROR - this is error msg\n",
      "ERROR:Your Logger:this is error msg\n"
     ]
    }
   ],
   "source": [
    "import logging\n",
    "import sys\n",
    "logger = logging.getLogger(\"Your Logger\")\n",
    "logger.setLevel(logging.DEBUG)\n",
    "# 标准输出流，输出到控制台，用sys.stdout的话，就是输出白色的\n",
    "# handler = logging.StreamHandler(sys.stdout)\n",
    "handler = logging.StreamHandler()\n",
    "formatter = logging.Formatter(fmt='%(asctime)s - %(name)s - %(levelname)s - %(message)s', datefmt='%Y/%m/%d %H:%M:%S')\n",
    "handler.setFormatter(formatter)\n",
    "logger.addHandler(handler)\n",
    "\n",
    "logger.info(\"this is info msg\")\n",
    "logger.debug(\"this is debug msg\")\n",
    "logger.warning(\"this is warn msg\")\n",
    "logger.error(\"this is error msg\")"
   ]
  },
  {
   "cell_type": "markdown",
   "id": "c57648c5-6129-4819-aaca-f545ef497abd",
   "metadata": {},
   "source": [
    "理解下这个例子。首先，创建了一个logger对象，来作为生成日志记录的对象，然后设置输出级别（所有级别低于此级别的日志消息都会被忽略掉）。 \n",
    "\n",
    "接着创建了一个 StramHandler对象来处理日志。\n",
    "\n",
    "随后创建一个formatter对象来格式化输出日志记录。构造最终的日志消息的时候我们使用了%操作符来格式化消息字符串。\n",
    "\n",
    "然后把formatter 赋给 handler。\n",
    "\n",
    "最后handler处理器添加到logger对象，完成整个处理流程。\n",
    "\n",
    "下面稍作补充解释。"
   ]
  },
  {
   "cell_type": "markdown",
   "id": "81d0c3ac-fe94-465e-b25e-9c2eb0c793eb",
   "metadata": {},
   "source": [
    "前面说到，设置输出级别时候，低于此级别的消息就被忽略了，低于是怎么判断的？其实logging 的 这些 level 常数是对应特定的整数值的，所以设置logging level的时候，也可以直接使用对应的整数来赋值。"
   ]
  },
  {
   "cell_type": "code",
   "execution_count": 106,
   "id": "9bb55aed-b64b-4d89-87d9-eb45486d9735",
   "metadata": {},
   "outputs": [
    {
     "name": "stdout",
     "output_type": "stream",
     "text": [
      "logging.DEBUG: 10\n",
      "logging.INFO: 20\n",
      "logging.WARNING: 30\n",
      "logging.ERROR: 40\n",
      "logging.CRITICAL: 50\n"
     ]
    }
   ],
   "source": [
    "print(\"logging.DEBUG:\",logging.DEBUG)\n",
    "print(\"logging.INFO:\",logging.INFO)\n",
    "print(\"logging.WARNING:\",logging.WARNING)\n",
    "print(\"logging.ERROR:\",logging.ERROR)\n",
    "print(\"logging.CRITICAL:\",logging.CRITICAL)"
   ]
  },
  {
   "cell_type": "markdown",
   "id": "ae18c5b4-37ff-4226-aa18-7ebf6a3a51d5",
   "metadata": {},
   "source": [
    "从值上就可以看出来 DEBUG最低，然后依次往上，级别越来越高。\n",
    "\n",
    "logging 提供的Handler有很多，比如：\n",
    "\n",
    "- StreamHandler\tlogging.StreamHandler\t日志输出到流，可以是 sys.stderr，sys.stdout 或者文件\n",
    "- FileHandler\tlogging.FileHandler\t日志输出到文件\n",
    "- SMTPHandler\tlogging.handlers.SMTPHandler\t远程输出日志到邮件地址\n",
    "- SysLogHandler\tlogging.handlers.SysLogHandler\t日志输出到syslog\n",
    "- HTTPHandler\tlogging.handlers.HTTPHandler\t通过”GET”或者”POST”远程输出到HTTP服务器\n",
    "\n",
    "如果需要设置一个全局的logger以供使用，可以参考：\n",
    "- https://blog.csdn.net/weixin_42526352/article/details/90242840\n",
    "- https://blog.csdn.net/brucewong0516/article/details/82817008\n",
    "\n",
    "这里也给出例子--globalLog.py。"
   ]
  },
  {
   "cell_type": "code",
   "execution_count": 107,
   "id": "7ae8df0e-901c-4bf0-b848-dcce4230d590",
   "metadata": {},
   "outputs": [
    {
     "name": "stderr",
     "output_type": "stream",
     "text": [
      "this is warn msg\n",
      "WARNING:globalLog:this is warn msg\n",
      "this is error msg\n",
      "ERROR:globalLog:this is error msg\n"
     ]
    }
   ],
   "source": [
    "from globalLog import hydro_logger\n",
    "\n",
    "hydro_logger.info(\"this is info msg\")\n",
    "hydro_logger.debug(\"this is debug msg\")\n",
    "hydro_logger.warning(\"this is warn msg\")\n",
    "hydro_logger.error(\"this is error msg\")"
   ]
  },
  {
   "cell_type": "markdown",
   "id": "82a8084d-7b66-4532-b64e-fb931735e5f8",
   "metadata": {},
   "source": [
    "## 测试、调试与异常\n",
    "\n",
    "在Python测试代码之前没有编译器来分析代码，因此使得测试成为开发的一个重要部分。这里记录一些关于测试、调试和异常处理的常见问题。\n",
    "\n",
    "### 关于单元测试\n",
    "\n",
    "之前basic部分已经记录了一些unittest内容，这里补充一些诸如mock等概念的基本内容。主要参考了：[Python Mocking, You Are A Tricksy Beast](https://medium.com/python-pandemonium/python-mocking-you-are-a-tricksy-beast-6c4a1f8d19b2)，[An Introduction to Mocking in Python](https://www.toptal.com/python/an-introduction-to-mocking-in-python)和[Understanding the Python Mock Object Library](https://realpython.com/python-mock-library/#patch-as-a-decorator)。\n",
    "\n",
    "#### 为什么要使用mock\n",
    "\n",
    "测试是验证逻辑是否正确的可靠高效的方式。不过由于一些复杂逻辑和依赖库，会使得测试变得困难。一个使用Python mock 对象的理由就是在测试过程中控制代码的行为。比如代码发送HTTP请求到外部服务，只有当服务的行为符合您的预期时，您的测试才会可预测地执行。有时，这些外部服务行为的临时更改可能导致测试套件中的间歇性故障。因此，我们想要使我们的代码在一个受控的环境下测试。而使用mock对象可以做到这一点。\n",
    "\n",
    "有时，很难测试代码的某些环节，比如except代码块，if代码块，因为可能不出现这样的场景，这时候使用mock对象也可以帮助控制代码执行的路径来使程序能运行到这些地方，提升code coverage。\n",
    "\n",
    "另一个原因是更好地理解如何使用代码的真实副本。一个python mock对象包含关于其用法的数据，您可以检查这些数据，比如：是否调用了某个方法，如何调用某个方法，多久一次调用某个方法。\n",
    "\n",
    "此外，有时候我们会面临这样的情形，即我们想测试我们的代码，但是不想产生一些脏结果，比如：我们想要测试facebook的上传功能，但是并不想真的上传一个内容上去。再比如，写一个弹出一个CD drive的脚本，或者一个从/tmp文件夹清除缓存的服务，或者一个绑定到TCP端口的socket服务，这些在unittest下都会产生dirty结果。作为写代码的，更关心的是您的库成功地调用了系统函数来弹出CD，而不是每次运行测试时都还需要打开CD drive。保持单元测试的效率和性能意味着尽量避免运行自动化测试的缓慢代码。\n",
    "\n",
    "还有，个人认为，在实际测试算法代码的过程中，后面函数会用到前面过程的数据结果，如果每次都从头测试，那么花费时间会很长，因此保存中间计算结果，然后使用mock来代替前面的函数过程，直接读取中间结果来供后面代码测试也是十分必要的。\n",
    "\n",
    "而unittest.mock可以客服这些困难。接下来就看看mock究竟是什么。\n",
    "\n",
    "#### What Is Mocking?\n",
    "\n",
    "mock就是“看起来像真的”的意思，在**测试环境下**，一个mock对象**代替模拟**一个真实的对象。是一个灵活有力的提升测试质量的工具。\n",
    "\n",
    "unittest.mock库提供了一个叫做Mock的类，可以使用它来模拟代码中的真实对象。Mock还提供了一个函数patch()，它用Mock实例提到了代码中的真实对象。可以将patch()用为decorator，也可以用作context manager ， 取决于想要模拟的对象控制的scope。一旦退出指定的scope，patch就会立刻用真实的副本来取代mock对象。\n",
    "\n",
    "首先先看看Mock。"
   ]
  },
  {
   "cell_type": "code",
   "execution_count": 108,
   "id": "8d6dad06-498f-4012-be27-6684994b796e",
   "metadata": {},
   "outputs": [
    {
     "data": {
      "text/plain": [
       "<Mock id='2262709476464'>"
      ]
     },
     "execution_count": 108,
     "metadata": {},
     "output_type": "execute_result"
    }
   ],
   "source": [
    "from unittest.mock import Mock\n",
    "mock = Mock()\n",
    "mock"
   ]
  },
  {
   "cell_type": "markdown",
   "id": "4e3263fc-fb34-4c96-ba9d-21b063039168",
   "metadata": {},
   "source": [
    "现在就可以使用 Mock来替代代码中的对象了。可以传递它为一个函数的参数或者重定义一个对象。形如：\n",
    "\n",
    "```python\n",
    "# Pass mock as an argument to do_something()\n",
    "do_something(mock)\n",
    "\n",
    "# Patch the json library\n",
    "json = mock\n",
    "```\n",
    "\n",
    "注意，当你替换一个对象时，Mock必须要看起来真的像这个对象。比如要mock json库，那么程序调用dumps函数，你的mock对象里必须得有一个dumps函数。"
   ]
  },
  {
   "cell_type": "code",
   "execution_count": 109,
   "id": "2d809738-ee4a-4c2b-8eb2-e7a7d1bc247c",
   "metadata": {},
   "outputs": [
    {
     "data": {
      "text/plain": [
       "<Mock name='mock.some_attribute' id='2262709476560'>"
      ]
     },
     "execution_count": 109,
     "metadata": {},
     "output_type": "execute_result"
    }
   ],
   "source": [
    "mock.some_attribute"
   ]
  },
  {
   "cell_type": "code",
   "execution_count": 110,
   "id": "892745f4-6240-40ef-a1a8-68c6da9bea13",
   "metadata": {},
   "outputs": [
    {
     "data": {
      "text/plain": [
       "<Mock name='mock.do_something()' id='2262709930496'>"
      ]
     },
     "execution_count": 110,
     "metadata": {},
     "output_type": "execute_result"
    }
   ],
   "source": [
    "mock.do_something()"
   ]
  },
  {
   "cell_type": "markdown",
   "id": "fb9b064a-53aa-41f2-9ea4-ac0219e5ba7b",
   "metadata": {},
   "source": [
    "Mock可以创建任意属性，可以代替任意对象。用一下之前提到的json例子："
   ]
  },
  {
   "cell_type": "code",
   "execution_count": 111,
   "id": "d309fb28-5f3e-4d4d-9430-b7f10648592e",
   "metadata": {},
   "outputs": [
    {
     "data": {
      "text/plain": [
       "<Mock name='mock.dumps()' id='2262709931408'>"
      ]
     },
     "execution_count": 111,
     "metadata": {},
     "output_type": "execute_result"
    }
   ],
   "source": [
    "json = Mock()\n",
    "json.dumps()"
   ]
  },
  {
   "cell_type": "markdown",
   "id": "c60ac964-8c27-4152-a883-0ed6e6fd2afa",
   "metadata": {},
   "source": [
    "可以看到很容易的就mock了kson库和其dumps函数，dumps可以接受任意参数，返回值也是一个mock对象，因此mock可以用到很复杂的环境下。很灵活。\n",
    "\n",
    "接下来，看看如何用mock更好地理解代码。Mock实例存储这怎么使用它们的数据。\n",
    "\n",
    "首先可以断言程序使用了你期望的一个对象。"
   ]
  },
  {
   "cell_type": "code",
   "execution_count": 112,
   "id": "01ce9433-f4ae-4299-8dd1-bb1ec70a4cb8",
   "metadata": {},
   "outputs": [
    {
     "data": {
      "text/plain": [
       "<Mock name='mock.loads()' id='2262710018352'>"
      ]
     },
     "execution_count": 112,
     "metadata": {},
     "output_type": "execute_result"
    }
   ],
   "source": [
    "from unittest.mock import Mock\n",
    "json = Mock()\n",
    "json.loads('{\"key\": \"value\"}')"
   ]
  },
  {
   "cell_type": "code",
   "execution_count": 113,
   "id": "fe53da42-1df2-4710-998e-4d83ddbcf6b2",
   "metadata": {},
   "outputs": [],
   "source": [
    "json.loads.assert_called()"
   ]
  },
  {
   "cell_type": "code",
   "execution_count": 114,
   "id": "76ed5dcc-d8ba-4ea6-9c65-51e9be72ae3d",
   "metadata": {},
   "outputs": [],
   "source": [
    "json.loads.assert_called_with('{\"key\": \"value\"}')"
   ]
  },
  {
   "cell_type": "code",
   "execution_count": 115,
   "id": "a29502cf-2a3a-460c-ac33-22a4542c5158",
   "metadata": {},
   "outputs": [],
   "source": [
    "json.loads.assert_called_once_with('{\"key\": \"value\"}')"
   ]
  },
  {
   "cell_type": "code",
   "execution_count": 116,
   "id": "69e6cd3c-8055-4ac1-9e5c-c30fcafa52be",
   "metadata": {},
   "outputs": [
    {
     "data": {
      "text/plain": [
       "<Mock name='mock.loads()' id='2262710018352'>"
      ]
     },
     "execution_count": 116,
     "metadata": {},
     "output_type": "execute_result"
    }
   ],
   "source": [
    "json.loads('{\"key\": \"value\"}')"
   ]
  },
  {
   "cell_type": "code",
   "execution_count": 117,
   "id": "e0e2a8ec-f807-4811-9e43-7be10a44e894",
   "metadata": {},
   "outputs": [
    {
     "ename": "AssertionError",
     "evalue": "Expected 'loads' to have been called once. Called 2 times.\nCalls: [call('{\"key\": \"value\"}'), call('{\"key\": \"value\"}')].",
     "output_type": "error",
     "traceback": [
      "\u001b[1;31m---------------------------------------------------------------------------\u001b[0m",
      "\u001b[1;31mAssertionError\u001b[0m                            Traceback (most recent call last)",
      "\u001b[1;32m~\\AppData\\Local\\Temp/ipykernel_9120/1308084012.py\u001b[0m in \u001b[0;36m<module>\u001b[1;34m\u001b[0m\n\u001b[1;32m----> 1\u001b[1;33m \u001b[0mjson\u001b[0m\u001b[1;33m.\u001b[0m\u001b[0mloads\u001b[0m\u001b[1;33m.\u001b[0m\u001b[0massert_called_once\u001b[0m\u001b[1;33m(\u001b[0m\u001b[1;33m)\u001b[0m\u001b[1;33m\u001b[0m\u001b[1;33m\u001b[0m\u001b[0m\n\u001b[0m",
      "\u001b[1;32m~\\miniconda3\\envs\\hydrus\\lib\\unittest\\mock.py\u001b[0m in \u001b[0;36massert_called_once\u001b[1;34m(self)\u001b[0m\n\u001b[0;32m    884\u001b[0m                       \u001b[0mself\u001b[0m\u001b[1;33m.\u001b[0m\u001b[0mcall_count\u001b[0m\u001b[1;33m,\u001b[0m\u001b[1;33m\u001b[0m\u001b[1;33m\u001b[0m\u001b[0m\n\u001b[0;32m    885\u001b[0m                       self._calls_repr()))\n\u001b[1;32m--> 886\u001b[1;33m             \u001b[1;32mraise\u001b[0m \u001b[0mAssertionError\u001b[0m\u001b[1;33m(\u001b[0m\u001b[0mmsg\u001b[0m\u001b[1;33m)\u001b[0m\u001b[1;33m\u001b[0m\u001b[1;33m\u001b[0m\u001b[0m\n\u001b[0m\u001b[0;32m    887\u001b[0m \u001b[1;33m\u001b[0m\u001b[0m\n\u001b[0;32m    888\u001b[0m     \u001b[1;32mdef\u001b[0m \u001b[0massert_called_with\u001b[0m\u001b[1;33m(\u001b[0m\u001b[0mself\u001b[0m\u001b[1;33m,\u001b[0m \u001b[1;33m/\u001b[0m\u001b[1;33m,\u001b[0m \u001b[1;33m*\u001b[0m\u001b[0margs\u001b[0m\u001b[1;33m,\u001b[0m \u001b[1;33m**\u001b[0m\u001b[0mkwargs\u001b[0m\u001b[1;33m)\u001b[0m\u001b[1;33m:\u001b[0m\u001b[1;33m\u001b[0m\u001b[1;33m\u001b[0m\u001b[0m\n",
      "\u001b[1;31mAssertionError\u001b[0m: Expected 'loads' to have been called once. Called 2 times.\nCalls: [call('{\"key\": \"value\"}'), call('{\"key\": \"value\"}')]."
     ]
    }
   ],
   "source": [
    "json.loads.assert_called_once()"
   ]
  },
  {
   "cell_type": "code",
   "execution_count": 118,
   "id": "b5bbd22f-1d6f-436d-ac7c-35980d823750",
   "metadata": {},
   "outputs": [
    {
     "ename": "AssertionError",
     "evalue": "Expected 'loads' to be called once. Called 2 times.\nCalls: [call('{\"key\": \"value\"}'), call('{\"key\": \"value\"}')].",
     "output_type": "error",
     "traceback": [
      "\u001b[1;31m---------------------------------------------------------------------------\u001b[0m",
      "\u001b[1;31mAssertionError\u001b[0m                            Traceback (most recent call last)",
      "\u001b[1;32m~\\AppData\\Local\\Temp/ipykernel_9120/1715554454.py\u001b[0m in \u001b[0;36m<module>\u001b[1;34m\u001b[0m\n\u001b[1;32m----> 1\u001b[1;33m \u001b[0mjson\u001b[0m\u001b[1;33m.\u001b[0m\u001b[0mloads\u001b[0m\u001b[1;33m.\u001b[0m\u001b[0massert_called_once_with\u001b[0m\u001b[1;33m(\u001b[0m\u001b[1;34m'{\"key\": \"value\"}'\u001b[0m\u001b[1;33m)\u001b[0m\u001b[1;33m\u001b[0m\u001b[1;33m\u001b[0m\u001b[0m\n\u001b[0m",
      "\u001b[1;32m~\\miniconda3\\envs\\hydrus\\lib\\unittest\\mock.py\u001b[0m in \u001b[0;36massert_called_once_with\u001b[1;34m(self, *args, **kwargs)\u001b[0m\n\u001b[0;32m    916\u001b[0m                       \u001b[0mself\u001b[0m\u001b[1;33m.\u001b[0m\u001b[0mcall_count\u001b[0m\u001b[1;33m,\u001b[0m\u001b[1;33m\u001b[0m\u001b[1;33m\u001b[0m\u001b[0m\n\u001b[0;32m    917\u001b[0m                       self._calls_repr()))\n\u001b[1;32m--> 918\u001b[1;33m             \u001b[1;32mraise\u001b[0m \u001b[0mAssertionError\u001b[0m\u001b[1;33m(\u001b[0m\u001b[0mmsg\u001b[0m\u001b[1;33m)\u001b[0m\u001b[1;33m\u001b[0m\u001b[1;33m\u001b[0m\u001b[0m\n\u001b[0m\u001b[0;32m    919\u001b[0m         \u001b[1;32mreturn\u001b[0m \u001b[0mself\u001b[0m\u001b[1;33m.\u001b[0m\u001b[0massert_called_with\u001b[0m\u001b[1;33m(\u001b[0m\u001b[1;33m*\u001b[0m\u001b[0margs\u001b[0m\u001b[1;33m,\u001b[0m \u001b[1;33m**\u001b[0m\u001b[0mkwargs\u001b[0m\u001b[1;33m)\u001b[0m\u001b[1;33m\u001b[0m\u001b[1;33m\u001b[0m\u001b[0m\n\u001b[0;32m    920\u001b[0m \u001b[1;33m\u001b[0m\u001b[0m\n",
      "\u001b[1;31mAssertionError\u001b[0m: Expected 'loads' to be called once. Called 2 times.\nCalls: [call('{\"key\": \"value\"}'), call('{\"key\": \"value\"}')]."
     ]
    }
   ],
   "source": [
    "json.loads.assert_called_once_with('{\"key\": \"value\"}')"
   ]
  },
  {
   "cell_type": "code",
   "execution_count": 119,
   "id": "4e53e703-acb0-4139-ba63-a60442aec174",
   "metadata": {},
   "outputs": [
    {
     "ename": "AssertionError",
     "evalue": "Expected 'loads' to not have been called. Called 2 times.\nCalls: [call('{\"key\": \"value\"}'), call('{\"key\": \"value\"}')].",
     "output_type": "error",
     "traceback": [
      "\u001b[1;31m---------------------------------------------------------------------------\u001b[0m",
      "\u001b[1;31mAssertionError\u001b[0m                            Traceback (most recent call last)",
      "\u001b[1;32m~\\AppData\\Local\\Temp/ipykernel_9120/1090188118.py\u001b[0m in \u001b[0;36m<module>\u001b[1;34m\u001b[0m\n\u001b[1;32m----> 1\u001b[1;33m \u001b[0mjson\u001b[0m\u001b[1;33m.\u001b[0m\u001b[0mloads\u001b[0m\u001b[1;33m.\u001b[0m\u001b[0massert_not_called\u001b[0m\u001b[1;33m(\u001b[0m\u001b[1;33m)\u001b[0m\u001b[1;33m\u001b[0m\u001b[1;33m\u001b[0m\u001b[0m\n\u001b[0m",
      "\u001b[1;32m~\\miniconda3\\envs\\hydrus\\lib\\unittest\\mock.py\u001b[0m in \u001b[0;36massert_not_called\u001b[1;34m(self)\u001b[0m\n\u001b[0;32m    866\u001b[0m                       \u001b[0mself\u001b[0m\u001b[1;33m.\u001b[0m\u001b[0mcall_count\u001b[0m\u001b[1;33m,\u001b[0m\u001b[1;33m\u001b[0m\u001b[1;33m\u001b[0m\u001b[0m\n\u001b[0;32m    867\u001b[0m                       self._calls_repr()))\n\u001b[1;32m--> 868\u001b[1;33m             \u001b[1;32mraise\u001b[0m \u001b[0mAssertionError\u001b[0m\u001b[1;33m(\u001b[0m\u001b[0mmsg\u001b[0m\u001b[1;33m)\u001b[0m\u001b[1;33m\u001b[0m\u001b[1;33m\u001b[0m\u001b[0m\n\u001b[0m\u001b[0;32m    869\u001b[0m \u001b[1;33m\u001b[0m\u001b[0m\n\u001b[0;32m    870\u001b[0m     \u001b[1;32mdef\u001b[0m \u001b[0massert_called\u001b[0m\u001b[1;33m(\u001b[0m\u001b[0mself\u001b[0m\u001b[1;33m)\u001b[0m\u001b[1;33m:\u001b[0m\u001b[1;33m\u001b[0m\u001b[1;33m\u001b[0m\u001b[0m\n",
      "\u001b[1;31mAssertionError\u001b[0m: Expected 'loads' to not have been called. Called 2 times.\nCalls: [call('{\"key\": \"value\"}'), call('{\"key\": \"value\"}')]."
     ]
    }
   ],
   "source": [
    "json.loads.assert_not_called()"
   ]
  },
  {
   "cell_type": "markdown",
   "id": "1247e3be-af5e-43d2-b473-23e7aa5dff1d",
   "metadata": {},
   "source": [
    ".assert_called()函数确保了调用mocked函数。 .assert_called_once()可以检查调用的次数。\n",
    "\n",
    "第二，可以查看特殊属性以理解应用是如何使用该对象的。"
   ]
  },
  {
   "cell_type": "code",
   "execution_count": 120,
   "id": "34f1acd3-6117-4ace-a62f-ae64ed21632a",
   "metadata": {},
   "outputs": [
    {
     "data": {
      "text/plain": [
       "<Mock name='mock.loads()' id='2262710019744'>"
      ]
     },
     "execution_count": 120,
     "metadata": {},
     "output_type": "execute_result"
    }
   ],
   "source": [
    "from unittest.mock import Mock\n",
    "json = Mock()\n",
    "json.loads('{\"key\": \"value\"}')"
   ]
  },
  {
   "cell_type": "code",
   "execution_count": 121,
   "id": "8acff346-34c3-438c-88f1-2313c1a7ad5d",
   "metadata": {},
   "outputs": [
    {
     "data": {
      "text/plain": [
       "1"
      ]
     },
     "execution_count": 121,
     "metadata": {},
     "output_type": "execute_result"
    }
   ],
   "source": [
    "json.loads.call_count"
   ]
  },
  {
   "cell_type": "code",
   "execution_count": 122,
   "id": "5089aaa0-14c2-4c47-bd9f-d6b7a8f4d9e2",
   "metadata": {},
   "outputs": [
    {
     "data": {
      "text/plain": [
       "call('{\"key\": \"value\"}')"
      ]
     },
     "execution_count": 122,
     "metadata": {},
     "output_type": "execute_result"
    }
   ],
   "source": [
    "json.loads.call_args"
   ]
  },
  {
   "cell_type": "code",
   "execution_count": 123,
   "id": "bcfb0b20-63f1-4ad1-b439-548efc1fbdbd",
   "metadata": {},
   "outputs": [
    {
     "data": {
      "text/plain": [
       "[call('{\"key\": \"value\"}')]"
      ]
     },
     "execution_count": 123,
     "metadata": {},
     "output_type": "execute_result"
    }
   ],
   "source": [
    "json.loads.call_args_list"
   ]
  },
  {
   "cell_type": "code",
   "execution_count": 124,
   "id": "aaa0a8e2-6a18-4c8b-908e-44afb645b312",
   "metadata": {},
   "outputs": [
    {
     "data": {
      "text/plain": [
       "[call.loads('{\"key\": \"value\"}')]"
      ]
     },
     "execution_count": 124,
     "metadata": {},
     "output_type": "execute_result"
    }
   ],
   "source": [
    "json.method_calls"
   ]
  },
  {
   "cell_type": "markdown",
   "id": "4ae2c773-ef0b-4b5d-b5a2-165b69860c27",
   "metadata": {},
   "source": [
    "通过以上测试代码可以使用各类属性来保证对象行为是想要的。这是一些固有的方法，接下来看看如何定制mocked方法。\n",
    "\n",
    "管理一个Mock的返回值。一个使用mocks的原因就是控制代码的行为。一种十分常用的方式就是指定一个函数的返回值。\n",
    "\n",
    "首先，创建一个文件my_calendar.py，代码见文件。然后执行下列语句："
   ]
  },
  {
   "cell_type": "code",
   "execution_count": 125,
   "id": "f9654004-e057-478e-80e8-368ed13bd787",
   "metadata": {},
   "outputs": [],
   "source": [
    "!python my_calendar.py"
   ]
  },
  {
   "cell_type": "markdown",
   "id": "468c4115-cc7a-42e0-888a-e40ca4a6b353",
   "metadata": {},
   "source": [
    "上述代码如果在周末的时候运行是会报错的。而平常是正确的。写测试代码时候，很重要的是确保结果是可预测的。可以使用Mock来去除代码中的不确定性。如下所示，通过Mock .today() 指定返回值来实现。"
   ]
  },
  {
   "cell_type": "code",
   "execution_count": 126,
   "id": "c9693844-dd11-43f8-b24c-bd4bec3a7e16",
   "metadata": {},
   "outputs": [],
   "source": [
    "import datetime\n",
    "from unittest.mock import Mock\n",
    "\n",
    "# Save a couple of test days\n",
    "tuesday = datetime.datetime(year=2019, month=1, day=1)\n",
    "saturday = datetime.datetime(year=2019, month=1, day=5)\n",
    "\n",
    "# Mock datetime to control today's date\n",
    "datetime = Mock()\n",
    "\n",
    "def is_weekday():\n",
    "    today = datetime.datetime.today()\n",
    "    # Python's datetime library treats Monday as 0 and Sunday as 6\n",
    "    return (0 <= today.weekday() < 5)\n",
    "\n",
    "# Mock .today() to return Tuesday\n",
    "datetime.datetime.today.return_value = tuesday\n",
    "# Test Tuesday is a weekday\n",
    "assert is_weekday()\n",
    "# Mock .today() to return Saturday\n",
    "datetime.datetime.today.return_value = saturday\n",
    "# Test Saturday is not a weekday\n",
    "assert not is_weekday()"
   ]
  },
  {
   "cell_type": "markdown",
   "id": "efc4ad4a-ffe3-4f4d-8146-d54f6eeb861c",
   "metadata": {},
   "source": [
    "#### patch()\n",
    "\n",
    "前面已经提到，unittest.mock还有一个很好的机制：patch(), 装饰器，补丁。\n",
    "\n",
    "接下来通过实例分析。\n",
    "\n",
    "看下mock官方的说明：“mock is a library for testing in Python. It allows you to replace parts of your system under test with mock objects and make assertions about how they have been used.”\n",
    "\n",
    "关键是如何理解“replace parts of your system”。这里的parts指的是什么。实际上可以包括：\n",
    "\n",
    "- functions\n",
    "- classes，objects\n",
    "\n",
    "可以使用Mock 或 MagicMock 类的实例的“mock 对象”来替代它们。\n",
    "\n",
    "比如mocking functions，以一个简单的函数为例，文件 simple.py。在测试中调用该函数有两种方式，其一是直接使用："
   ]
  },
  {
   "cell_type": "code",
   "execution_count": 127,
   "id": "7d293b8b-d542-4a88-b02a-1f84ee6b50fd",
   "metadata": {},
   "outputs": [
    {
     "name": "stdout",
     "output_type": "stream",
     "text": [
      "You have called simple_function\n"
     ]
    }
   ],
   "source": [
    "import simple\n",
    "from unittest import mock\n",
    "def use_simple_function():\n",
    "    result = simple.simple_function()\n",
    "    print(result)\n",
    "use_simple_function()"
   ]
  },
  {
   "cell_type": "markdown",
   "id": "f0cf6e5f-f6a2-4334-aa09-d4744bae0f1f",
   "metadata": {},
   "source": [
    "其二就是利用mock进行测试，为了模仿 simple_function，可以使用 mock.patch decorator。该decorator可以使用户通过以‘package.module.FunctionName’形式传入字符串参数指定想要mock的内容。对于本例，即module simple和函数simple_function，decorator如下第一行，函数可以表达为如下所示。其中函数mock_simple_function的参数是MagicMock类对象，用来代替想要mock的函数。"
   ]
  },
  {
   "cell_type": "code",
   "execution_count": 128,
   "id": "0f9e18d4-95dc-46c8-b59e-8a110bbb1274",
   "metadata": {},
   "outputs": [
    {
     "name": "stdout",
     "output_type": "stream",
     "text": [
      "<MagicMock name='simple_function' id='2262709874752'>\n"
     ]
    }
   ],
   "source": [
    "@mock.patch('simple.simple_function')\n",
    "def mock_simple_function(mock_simple_func):\n",
    "    print(mock_simple_func)\n",
    "mock_simple_function()"
   ]
  },
  {
   "cell_type": "markdown",
   "id": "9599bf87-778a-4ff2-9a8d-a9a46cf80ba3",
   "metadata": {},
   "source": [
    "通过语句“@mock.patch(‘simple.simple_function’)”表明想使用MagicMock对象表达来替代simple_function，这个对象放入了mock_simple_func这一函数形参中。如上代码执行结果所示，输出是一个MagicMock对象，就是它替代了simple_function被调用。可从以下代码中看出："
   ]
  },
  {
   "cell_type": "code",
   "execution_count": 129,
   "id": "91057989-f9f5-411a-bae3-59bbb7573ed4",
   "metadata": {},
   "outputs": [
    {
     "name": "stdout",
     "output_type": "stream",
     "text": [
      "<MagicMock name='simple_function' id='2262710350848'>\n",
      "<MagicMock name='simple_function' id='2262710350848'>\n",
      "<MagicMock name='simple_function()' id='2262709875712'>\n"
     ]
    }
   ],
   "source": [
    "@mock.patch('simple.simple_function')\n",
    "def mock_simple_function(mock_simple_func):\n",
    "    print(mock_simple_func)\n",
    "    print(simple.simple_function)\n",
    "    result = simple.simple_function()\n",
    "    print(result)\n",
    "mock_simple_function()"
   ]
  },
  {
   "cell_type": "markdown",
   "id": "913675a6-c8d7-45fb-9b3d-ac8731ddd48e",
   "metadata": {},
   "source": [
    "不过现在还有个更重要的问题：为什么创建新的MagicMock对象，究竟怎么调用这个对象。所以要看看MagicMock这个类。MagicMock之所以叫magic，是因为它有大多数python的magic函数的默认实现，即那些名称前后有双下划线的函数，可以查看[这里](http://www.ironpythoninaction.com/magic-methods.html)。比如__call__，即可以让一个类对象可以像函数那样被调用。因此，MagicMock对象是可以直接像函数那样被调用的。\n",
    "\n",
    "回到例子中，现在已经mock了simple_function，但是还没有使用它来做什么。那么现在想返回simple_function()的结果要怎么做呢？可以使用MagicMock的return_value属性来实现："
   ]
  },
  {
   "cell_type": "code",
   "execution_count": 130,
   "id": "3ce86625-6d38-4364-afc6-8d2a22710420",
   "metadata": {},
   "outputs": [
    {
     "name": "stdout",
     "output_type": "stream",
     "text": [
      "You have mocked simple_function\n"
     ]
    }
   ],
   "source": [
    "@mock.patch('simple.simple_function')\n",
    "def mock_simple_function(mock_simple_func):\n",
    "    mock_simple_func.return_value = \"You have mocked simple_function\"\n",
    "    result = simple.simple_function()\n",
    "    print(result)\n",
    "mock_simple_function()"
   ]
  },
  {
   "cell_type": "markdown",
   "id": "696a397a-94b0-46ef-a9ec-e6e167230093",
   "metadata": {},
   "source": [
    "从上面结果可以看出很好地模仿了simple_function函数结果。\n",
    "\n",
    "如果除了返回值之外，还想其他功能，可以使用MagicMock.side_effect 。比如想要测试一个错误并抛出一个异常。"
   ]
  },
  {
   "cell_type": "code",
   "execution_count": 131,
   "id": "8139b72c-07fa-4147-b505-222e19508729",
   "metadata": {},
   "outputs": [
    {
     "ename": "FloatingPointError",
     "evalue": "A disastrous floating point error has occurred",
     "output_type": "error",
     "traceback": [
      "\u001b[1;31m---------------------------------------------------------------------------\u001b[0m",
      "\u001b[1;31mFloatingPointError\u001b[0m                        Traceback (most recent call last)",
      "\u001b[1;32m~\\AppData\\Local\\Temp/ipykernel_9120/1503262243.py\u001b[0m in \u001b[0;36m<module>\u001b[1;34m\u001b[0m\n\u001b[0;32m      8\u001b[0m     \u001b[0mprint\u001b[0m\u001b[1;33m(\u001b[0m\u001b[0mresult\u001b[0m\u001b[1;33m)\u001b[0m\u001b[1;33m\u001b[0m\u001b[1;33m\u001b[0m\u001b[0m\n\u001b[0;32m      9\u001b[0m \u001b[1;33m\u001b[0m\u001b[0m\n\u001b[1;32m---> 10\u001b[1;33m \u001b[0mmock_simple_function_with_side_effect\u001b[0m\u001b[1;33m(\u001b[0m\u001b[1;33m)\u001b[0m\u001b[1;33m\u001b[0m\u001b[1;33m\u001b[0m\u001b[0m\n\u001b[0m",
      "\u001b[1;32m~\\miniconda3\\envs\\hydrus\\lib\\unittest\\mock.py\u001b[0m in \u001b[0;36mpatched\u001b[1;34m(*args, **keywargs)\u001b[0m\n\u001b[0;32m   1335\u001b[0m                                         \u001b[0margs\u001b[0m\u001b[1;33m,\u001b[0m\u001b[1;33m\u001b[0m\u001b[1;33m\u001b[0m\u001b[0m\n\u001b[0;32m   1336\u001b[0m                                         keywargs) as (newargs, newkeywargs):\n\u001b[1;32m-> 1337\u001b[1;33m                 \u001b[1;32mreturn\u001b[0m \u001b[0mfunc\u001b[0m\u001b[1;33m(\u001b[0m\u001b[1;33m*\u001b[0m\u001b[0mnewargs\u001b[0m\u001b[1;33m,\u001b[0m \u001b[1;33m**\u001b[0m\u001b[0mnewkeywargs\u001b[0m\u001b[1;33m)\u001b[0m\u001b[1;33m\u001b[0m\u001b[1;33m\u001b[0m\u001b[0m\n\u001b[0m\u001b[0;32m   1338\u001b[0m \u001b[1;33m\u001b[0m\u001b[0m\n\u001b[0;32m   1339\u001b[0m         \u001b[0mpatched\u001b[0m\u001b[1;33m.\u001b[0m\u001b[0mpatchings\u001b[0m \u001b[1;33m=\u001b[0m \u001b[1;33m[\u001b[0m\u001b[0mself\u001b[0m\u001b[1;33m]\u001b[0m\u001b[1;33m\u001b[0m\u001b[1;33m\u001b[0m\u001b[0m\n",
      "\u001b[1;32m~\\AppData\\Local\\Temp/ipykernel_9120/1503262243.py\u001b[0m in \u001b[0;36mmock_simple_function_with_side_effect\u001b[1;34m(mock_simple_func)\u001b[0m\n\u001b[0;32m      5\u001b[0m \u001b[1;32mdef\u001b[0m \u001b[0mmock_simple_function_with_side_effect\u001b[0m\u001b[1;33m(\u001b[0m\u001b[0mmock_simple_func\u001b[0m\u001b[1;33m)\u001b[0m\u001b[1;33m:\u001b[0m\u001b[1;33m\u001b[0m\u001b[1;33m\u001b[0m\u001b[0m\n\u001b[0;32m      6\u001b[0m     \u001b[0mmock_simple_func\u001b[0m\u001b[1;33m.\u001b[0m\u001b[0mside_effect\u001b[0m \u001b[1;33m=\u001b[0m \u001b[0mside_effect_function\u001b[0m\u001b[1;33m\u001b[0m\u001b[1;33m\u001b[0m\u001b[0m\n\u001b[1;32m----> 7\u001b[1;33m     \u001b[0mresult\u001b[0m \u001b[1;33m=\u001b[0m \u001b[0msimple\u001b[0m\u001b[1;33m.\u001b[0m\u001b[0msimple_function\u001b[0m\u001b[1;33m(\u001b[0m\u001b[1;33m)\u001b[0m\u001b[1;33m\u001b[0m\u001b[1;33m\u001b[0m\u001b[0m\n\u001b[0m\u001b[0;32m      8\u001b[0m     \u001b[0mprint\u001b[0m\u001b[1;33m(\u001b[0m\u001b[0mresult\u001b[0m\u001b[1;33m)\u001b[0m\u001b[1;33m\u001b[0m\u001b[1;33m\u001b[0m\u001b[0m\n\u001b[0;32m      9\u001b[0m \u001b[1;33m\u001b[0m\u001b[0m\n",
      "\u001b[1;32m~\\miniconda3\\envs\\hydrus\\lib\\unittest\\mock.py\u001b[0m in \u001b[0;36m__call__\u001b[1;34m(self, *args, **kwargs)\u001b[0m\n\u001b[0;32m   1091\u001b[0m         \u001b[0mself\u001b[0m\u001b[1;33m.\u001b[0m\u001b[0m_mock_check_sig\u001b[0m\u001b[1;33m(\u001b[0m\u001b[1;33m*\u001b[0m\u001b[0margs\u001b[0m\u001b[1;33m,\u001b[0m \u001b[1;33m**\u001b[0m\u001b[0mkwargs\u001b[0m\u001b[1;33m)\u001b[0m\u001b[1;33m\u001b[0m\u001b[1;33m\u001b[0m\u001b[0m\n\u001b[0;32m   1092\u001b[0m         \u001b[0mself\u001b[0m\u001b[1;33m.\u001b[0m\u001b[0m_increment_mock_call\u001b[0m\u001b[1;33m(\u001b[0m\u001b[1;33m*\u001b[0m\u001b[0margs\u001b[0m\u001b[1;33m,\u001b[0m \u001b[1;33m**\u001b[0m\u001b[0mkwargs\u001b[0m\u001b[1;33m)\u001b[0m\u001b[1;33m\u001b[0m\u001b[1;33m\u001b[0m\u001b[0m\n\u001b[1;32m-> 1093\u001b[1;33m         \u001b[1;32mreturn\u001b[0m \u001b[0mself\u001b[0m\u001b[1;33m.\u001b[0m\u001b[0m_mock_call\u001b[0m\u001b[1;33m(\u001b[0m\u001b[1;33m*\u001b[0m\u001b[0margs\u001b[0m\u001b[1;33m,\u001b[0m \u001b[1;33m**\u001b[0m\u001b[0mkwargs\u001b[0m\u001b[1;33m)\u001b[0m\u001b[1;33m\u001b[0m\u001b[1;33m\u001b[0m\u001b[0m\n\u001b[0m\u001b[0;32m   1094\u001b[0m \u001b[1;33m\u001b[0m\u001b[0m\n\u001b[0;32m   1095\u001b[0m \u001b[1;33m\u001b[0m\u001b[0m\n",
      "\u001b[1;32m~\\miniconda3\\envs\\hydrus\\lib\\unittest\\mock.py\u001b[0m in \u001b[0;36m_mock_call\u001b[1;34m(self, *args, **kwargs)\u001b[0m\n\u001b[0;32m   1095\u001b[0m \u001b[1;33m\u001b[0m\u001b[0m\n\u001b[0;32m   1096\u001b[0m     \u001b[1;32mdef\u001b[0m \u001b[0m_mock_call\u001b[0m\u001b[1;33m(\u001b[0m\u001b[0mself\u001b[0m\u001b[1;33m,\u001b[0m \u001b[1;33m/\u001b[0m\u001b[1;33m,\u001b[0m \u001b[1;33m*\u001b[0m\u001b[0margs\u001b[0m\u001b[1;33m,\u001b[0m \u001b[1;33m**\u001b[0m\u001b[0mkwargs\u001b[0m\u001b[1;33m)\u001b[0m\u001b[1;33m:\u001b[0m\u001b[1;33m\u001b[0m\u001b[1;33m\u001b[0m\u001b[0m\n\u001b[1;32m-> 1097\u001b[1;33m         \u001b[1;32mreturn\u001b[0m \u001b[0mself\u001b[0m\u001b[1;33m.\u001b[0m\u001b[0m_execute_mock_call\u001b[0m\u001b[1;33m(\u001b[0m\u001b[1;33m*\u001b[0m\u001b[0margs\u001b[0m\u001b[1;33m,\u001b[0m \u001b[1;33m**\u001b[0m\u001b[0mkwargs\u001b[0m\u001b[1;33m)\u001b[0m\u001b[1;33m\u001b[0m\u001b[1;33m\u001b[0m\u001b[0m\n\u001b[0m\u001b[0;32m   1098\u001b[0m \u001b[1;33m\u001b[0m\u001b[0m\n\u001b[0;32m   1099\u001b[0m     \u001b[1;32mdef\u001b[0m \u001b[0m_increment_mock_call\u001b[0m\u001b[1;33m(\u001b[0m\u001b[0mself\u001b[0m\u001b[1;33m,\u001b[0m \u001b[1;33m/\u001b[0m\u001b[1;33m,\u001b[0m \u001b[1;33m*\u001b[0m\u001b[0margs\u001b[0m\u001b[1;33m,\u001b[0m \u001b[1;33m**\u001b[0m\u001b[0mkwargs\u001b[0m\u001b[1;33m)\u001b[0m\u001b[1;33m:\u001b[0m\u001b[1;33m\u001b[0m\u001b[1;33m\u001b[0m\u001b[0m\n",
      "\u001b[1;32m~\\miniconda3\\envs\\hydrus\\lib\\unittest\\mock.py\u001b[0m in \u001b[0;36m_execute_mock_call\u001b[1;34m(self, *args, **kwargs)\u001b[0m\n\u001b[0;32m   1156\u001b[0m                     \u001b[1;32mraise\u001b[0m \u001b[0mresult\u001b[0m\u001b[1;33m\u001b[0m\u001b[1;33m\u001b[0m\u001b[0m\n\u001b[0;32m   1157\u001b[0m             \u001b[1;32melse\u001b[0m\u001b[1;33m:\u001b[0m\u001b[1;33m\u001b[0m\u001b[1;33m\u001b[0m\u001b[0m\n\u001b[1;32m-> 1158\u001b[1;33m                 \u001b[0mresult\u001b[0m \u001b[1;33m=\u001b[0m \u001b[0meffect\u001b[0m\u001b[1;33m(\u001b[0m\u001b[1;33m*\u001b[0m\u001b[0margs\u001b[0m\u001b[1;33m,\u001b[0m \u001b[1;33m**\u001b[0m\u001b[0mkwargs\u001b[0m\u001b[1;33m)\u001b[0m\u001b[1;33m\u001b[0m\u001b[1;33m\u001b[0m\u001b[0m\n\u001b[0m\u001b[0;32m   1159\u001b[0m \u001b[1;33m\u001b[0m\u001b[0m\n\u001b[0;32m   1160\u001b[0m             \u001b[1;32mif\u001b[0m \u001b[0mresult\u001b[0m \u001b[1;32mis\u001b[0m \u001b[1;32mnot\u001b[0m \u001b[0mDEFAULT\u001b[0m\u001b[1;33m:\u001b[0m\u001b[1;33m\u001b[0m\u001b[1;33m\u001b[0m\u001b[0m\n",
      "\u001b[1;32m~\\AppData\\Local\\Temp/ipykernel_9120/1503262243.py\u001b[0m in \u001b[0;36mside_effect_function\u001b[1;34m()\u001b[0m\n\u001b[0;32m      1\u001b[0m \u001b[1;32mdef\u001b[0m \u001b[0mside_effect_function\u001b[0m\u001b[1;33m(\u001b[0m\u001b[1;33m)\u001b[0m\u001b[1;33m:\u001b[0m\u001b[1;33m\u001b[0m\u001b[1;33m\u001b[0m\u001b[0m\n\u001b[1;32m----> 2\u001b[1;33m     \u001b[1;32mraise\u001b[0m \u001b[0mFloatingPointError\u001b[0m\u001b[1;33m(\u001b[0m\u001b[1;34m\"A disastrous floating point error has occurred\"\u001b[0m\u001b[1;33m)\u001b[0m\u001b[1;33m\u001b[0m\u001b[1;33m\u001b[0m\u001b[0m\n\u001b[0m\u001b[0;32m      3\u001b[0m \u001b[1;33m\u001b[0m\u001b[0m\n\u001b[0;32m      4\u001b[0m \u001b[1;33m@\u001b[0m\u001b[0mmock\u001b[0m\u001b[1;33m.\u001b[0m\u001b[0mpatch\u001b[0m\u001b[1;33m(\u001b[0m\u001b[1;34m'simple.simple_function'\u001b[0m\u001b[1;33m)\u001b[0m\u001b[1;33m\u001b[0m\u001b[1;33m\u001b[0m\u001b[0m\n\u001b[0;32m      5\u001b[0m \u001b[1;32mdef\u001b[0m \u001b[0mmock_simple_function_with_side_effect\u001b[0m\u001b[1;33m(\u001b[0m\u001b[0mmock_simple_func\u001b[0m\u001b[1;33m)\u001b[0m\u001b[1;33m:\u001b[0m\u001b[1;33m\u001b[0m\u001b[1;33m\u001b[0m\u001b[0m\n",
      "\u001b[1;31mFloatingPointError\u001b[0m: A disastrous floating point error has occurred"
     ]
    }
   ],
   "source": [
    "def side_effect_function():\n",
    "    raise FloatingPointError(\"A disastrous floating point error has occurred\")\n",
    "\n",
    "@mock.patch('simple.simple_function')\n",
    "def mock_simple_function_with_side_effect(mock_simple_func):\n",
    "    mock_simple_func.side_effect = side_effect_function\n",
    "    result = simple.simple_function()\n",
    "    print(result)\n",
    "    \n",
    "mock_simple_function_with_side_effect()"
   ]
  },
  {
   "cell_type": "markdown",
   "id": "e83c9799-b188-4eb8-a8e1-18bb78bc2635",
   "metadata": {},
   "source": [
    "接下来看一看如何mock类。在simple.py 文件中定义一个类。然后定义一个调用的函数，首先还是传统的调用方式："
   ]
  },
  {
   "cell_type": "code",
   "execution_count": 132,
   "id": "d4d8b140-b46e-4569-9c24-20e1233274ea",
   "metadata": {},
   "outputs": [
    {
     "name": "stdout",
     "output_type": "stream",
     "text": [
      "KABOOM!\n"
     ]
    }
   ],
   "source": [
    "import simple\n",
    "def use_simple_class():\n",
    "    inst = simple.SimpleClass()\n",
    "    print(inst.explode())\n",
    "use_simple_class()"
   ]
  },
  {
   "cell_type": "markdown",
   "id": "65a6b1a9-128e-4c13-9a74-7201efc81beb",
   "metadata": {},
   "source": [
    "然后接下来看看mock下如何操作。依然使用@mock.patch decorator"
   ]
  },
  {
   "cell_type": "code",
   "execution_count": 133,
   "id": "4dde5a72-a926-40cb-b187-16df977167e4",
   "metadata": {},
   "outputs": [
    {
     "name": "stdout",
     "output_type": "stream",
     "text": [
      "<MagicMock name='SimpleClass' id='2262710318080'>\n"
     ]
    }
   ],
   "source": [
    "from unittest import mock\n",
    "@mock.patch(\"simple.SimpleClass\")\n",
    "def mock_simple_class(mock_class):\n",
    "    print(mock_class)\n",
    "mock_simple_class()"
   ]
  },
  {
   "cell_type": "markdown",
   "id": "6d957d7c-2c0a-4a0b-8365-83ba79242f92",
   "metadata": {},
   "source": [
    "通过@mock.patch decorator ，参数mock_class使用了MagicMock对象来代替了SimpleClass对象。"
   ]
  },
  {
   "cell_type": "code",
   "execution_count": 134,
   "id": "5567f5b8-dab3-4d50-b04c-aec19e647841",
   "metadata": {},
   "outputs": [
    {
     "name": "stdout",
     "output_type": "stream",
     "text": [
      "<MagicMock name='SimpleClass' id='2262710360816'>\n",
      "<MagicMock name='SimpleClass' id='2262710360816'>\n"
     ]
    }
   ],
   "source": [
    "@mock.patch(\"simple.SimpleClass\")\n",
    "def mock_simple_class(mock_class):\n",
    "    print(mock_class)\n",
    "    print(simple.SimpleClass)\n",
    "mock_simple_class()"
   ]
  },
  {
   "cell_type": "markdown",
   "id": "00532456-1171-448a-94c2-6878a4040178",
   "metadata": {},
   "source": [
    "接下来创建一个SimpleClass实例，然后打印，看看会发生什么。"
   ]
  },
  {
   "cell_type": "code",
   "execution_count": 135,
   "id": "bc8d316a-3b23-4510-8aa2-8f4d4e234c60",
   "metadata": {},
   "outputs": [
    {
     "name": "stdout",
     "output_type": "stream",
     "text": [
      "<MagicMock name='SimpleClass' id='2262708013568'>\n",
      "<MagicMock name='SimpleClass' id='2262708013568'>\n",
      "<MagicMock name='SimpleClass()' id='2262710383232'>\n"
     ]
    }
   ],
   "source": [
    "@mock.patch(\"simple.SimpleClass\")\n",
    "def mock_simple_class(mock_class):\n",
    "    print(mock_class)\n",
    "    print(simple.SimpleClass)\n",
    "    inst = simple.SimpleClass()\n",
    "    print(inst)\n",
    "mock_simple_class()"
   ]
  },
  {
   "cell_type": "markdown",
   "id": "511b548f-1cb6-4205-9a24-aa890bb053f1",
   "metadata": {},
   "source": [
    "可以看出，调用SimpleClass() 就调用了MagicMock对象作为函数来创建了MagicMock对象。\n",
    "\n",
    "到这里，mock一个函数和mock一个类并没有什么区别。不过在类中，使用的更多是其对象。从下面的例子中可以看出，类的MagicMock对象返回值是类对象。\n",
    "\n",
    "简单小结一下，就是mock一个class时创建了一个MagicMock对象。创建一个类对象时，新的MagicMock对象也被创建，另外类的MagicMock对象返回值也就是类对象的MagicMock对象。"
   ]
  },
  {
   "cell_type": "code",
   "execution_count": 136,
   "id": "5a5fd70c-a3c8-4bcd-8793-45b0660537bd",
   "metadata": {},
   "outputs": [
    {
     "name": "stdout",
     "output_type": "stream",
     "text": [
      "<MagicMock name='SimpleClass' id='2262710354896'>\n",
      "<MagicMock name='SimpleClass' id='2262710354896'>\n",
      "<MagicMock name='SimpleClass()' id='2262710465152'>\n",
      "<MagicMock name='SimpleClass()' id='2262710465152'>\n"
     ]
    }
   ],
   "source": [
    "@mock.patch(\"simple.SimpleClass\")\n",
    "def mock_simple_class(mock_class):\n",
    "    print(mock_class)\n",
    "    print(simple.SimpleClass)\n",
    "    inst = simple.SimpleClass()\n",
    "    print(inst)\n",
    "    print(mock_class.return_value)\n",
    "mock_simple_class()"
   ]
  },
  {
   "cell_type": "markdown",
   "id": "33b7acc5-f742-48b0-ace4-5ff29a379c5f",
   "metadata": {},
   "source": [
    "此外，可以在类对象中通过explode函数来设置return_value，以mock 类对象的返回值。"
   ]
  },
  {
   "cell_type": "code",
   "execution_count": 137,
   "id": "dde2e570-c991-4ba4-9f9a-241580bedef8",
   "metadata": {},
   "outputs": [
    {
     "name": "stdout",
     "output_type": "stream",
     "text": [
      "BOO!\n",
      "<MagicMock name='SimpleClass()' id='2262685234320'>\n"
     ]
    }
   ],
   "source": [
    "@mock.patch(\"simple.SimpleClass\")\n",
    "def mock_simple_class(mock_class):\n",
    "    mock_class.return_value.explode.return_value = \"BOO!\"\n",
    "    inst = simple.SimpleClass()\n",
    "    result = inst.explode()\n",
    "    print(result)\n",
    "    print(mock_class.return_value)\n",
    "mock_simple_class()"
   ]
  },
  {
   "cell_type": "markdown",
   "id": "bb1ccd71-cda8-4c30-a3bb-a56bbe4fa91f",
   "metadata": {},
   "source": [
    "### 给程序性能测试\n",
    "\n",
    "测试程序运行所花费的时间并做性能测试。如果只是简单的想测试下程序整体花费的时间， 通常使用Unix时间函数就行了，比如：\n",
    "\n",
    "```code\n",
    "bash % time python3 someprogram.py\n",
    "real 0m13.937s\n",
    "user 0m12.162s\n",
    "sys  0m0.098s\n",
    "bash %\n",
    "```\n",
    "\n",
    "如果你还需要一个程序各个细节的详细报告，可以使用 cProfile 模块：\n",
    "\n",
    "```code\n",
    "bash % python3 -m cProfile someprogram.py\n",
    "bash %\n",
    "```\n",
    "\n",
    "不过通常情况是介于这两个极端之间。比如已经知道代码运行时在少数几个函数中花费了绝大部分时间。 对于这些函数的性能测试，可以使用一个简单的装饰器。要使用这个装饰器，只需要将其放置在要进行性能测试的函数定义前即可。"
   ]
  },
  {
   "cell_type": "code",
   "execution_count": 138,
   "id": "343255bc-56d5-4d2e-841d-f1707785004d",
   "metadata": {},
   "outputs": [
    {
     "name": "stdout",
     "output_type": "stream",
     "text": [
      "__main__.countdown : 1.0297941000000037\n"
     ]
    }
   ],
   "source": [
    "# timethis.py\n",
    "\n",
    "import time\n",
    "from functools import wraps\n",
    "\n",
    "def timethis(func):\n",
    "    @wraps(func)\n",
    "    def wrapper(*args, **kwargs):\n",
    "        start = time.perf_counter()\n",
    "        r = func(*args, **kwargs)\n",
    "        end = time.perf_counter()\n",
    "        print('{}.{} : {}'.format(func.__module__, func.__name__, end - start))\n",
    "        return r\n",
    "    return wrapper\n",
    "\n",
    "@timethis\n",
    "def countdown(n):\n",
    "     while n > 0:\n",
    "            n -= 1\n",
    "\n",
    "countdown(10000000)"
   ]
  },
  {
   "cell_type": "markdown",
   "id": "e297b3f0-21c0-4a13-816a-3fff87cf0ad2",
   "metadata": {},
   "source": [
    "对于测试很小的代码片段运行性能，使用 timeit 模块会很方便"
   ]
  },
  {
   "cell_type": "code",
   "execution_count": 139,
   "id": "cf061a54-6411-4422-99a9-7f5032ed2250",
   "metadata": {},
   "outputs": [
    {
     "data": {
      "text/plain": [
       "1.3171404999999936"
      ]
     },
     "execution_count": 139,
     "metadata": {},
     "output_type": "execute_result"
    }
   ],
   "source": [
    "from timeit import timeit\n",
    "timeit('math.sqrt(2)', 'import math')\n",
    "timeit('sqrt(2)', 'from math import sqrt')\n",
    "timeit('math.sqrt(2)', 'import math', number=10000000)\n",
    "timeit('sqrt(2)', 'from math import sqrt', number=10000000)"
   ]
  },
  {
   "cell_type": "markdown",
   "id": "b906c611-3db9-46ff-9ba4-4f4fa037b1cd",
   "metadata": {},
   "source": [
    "当执行性能测试的时候，需要注意的是你获取的结果都是近似值。 time.perf_counter() 函数会在给定平台上获取最高精度的计时值。 不过，它仍然还是基于时钟时间，很多因素会影响到它的精确度，比如机器负载。 如果你对于执行时间更感兴趣，使用 time.process_time() 来代替它。"
   ]
  },
  {
   "cell_type": "code",
   "execution_count": 140,
   "id": "666e6b0d-199a-4ecf-8d09-f4935657bde4",
   "metadata": {},
   "outputs": [],
   "source": [
    "from functools import wraps\n",
    "def timethis(func):\n",
    "    @wraps(func)\n",
    "    def wrapper(*args, **kwargs):\n",
    "        start = time.process_time()\n",
    "        r = func(*args, **kwargs)\n",
    "        end = time.process_time()\n",
    "        print('{}.{} : {}'.format(func.__module__, func.__name__, end - start))\n",
    "        return r\n",
    "    return wrapper"
   ]
  },
  {
   "cell_type": "markdown",
   "id": "9cd7743a-eb8c-490a-88f6-fc06bf97a37d",
   "metadata": {},
   "source": [
    "### 加速程序运行\n",
    "\n",
    "程序运行太慢，想在不使用复杂技术比如C扩展或JIT编译器的情况下加快程序运行速度。\n",
    "\n",
    "关于程序优化的第一个准则是“不要优化”，第二个准则是“不要优化那些无关紧要的部分”。 如果你的程序运行缓慢，首先得对它进行性能测试找到问题所在。\n",
    "\n",
    "通常来讲会发现程序在少数几个热点地方花费了大量时间， 比如内存的数据处理循环。一旦定位到这些点，就可以使用下面这些实用技术来加速程序运行。\n",
    "\n",
    "#### 使用函数\n",
    "\n",
    "很多程序员刚开始会使用Python语言写一些简单脚本。 当编写脚本的时候，通常习惯了写毫无结构的代码。比如：\n",
    "\n",
    "```python\n",
    "# somescript.py\n",
    "\n",
    "import sys\n",
    "import csv\n",
    "\n",
    "with open(sys.argv[1]) as f:\n",
    "     for row in csv.reader(f):\n",
    "\n",
    "         # Some kind of processing\n",
    "         pass\n",
    "```\n",
    "\n",
    "像这样定义在全局范围的代码运行起来要比定义在函数中运行慢的多。 这种速度差异是由于局部变量和全局变量的实现方式（**使用局部变量要更快些**）。 因此，如果想让程序运行更快些，只需要将脚本语句放入函数中即可：\n",
    "\n",
    "```python\n",
    "# somescript.py\n",
    "import sys\n",
    "import csv\n",
    "\n",
    "def main(filename):\n",
    "    with open(filename) as f:\n",
    "         for row in csv.reader(f):\n",
    "             # Some kind of processing\n",
    "             pass\n",
    "\n",
    "main(sys.argv[1])\n",
    "```\n",
    "\n",
    "根据经验，使用函数带来15-30%的性能提升是很常见的。\n",
    "\n",
    "局部变量会比全局变量运行速度快。 对于频繁访问的名称，通过将这些名称变成局部变量可以加速程序运行。\n",
    "\n",
    "对于类中的属性访问也同样适用于这个原理。 通常来讲，查找某个值比如 self.name 会比访问一个局部变量要慢一些。 在内部循环中，可以将某个需要频繁访问的属性放入到一个局部变量中。\n",
    "\n",
    "#### 尽可能去掉属性访问\n",
    "\n",
    "每一次**使用点(.)操作符来访问属性的时候会带来额外的开销**。 它会触发特定的方法，比如 __getattribute__() 和 __getattr__() ，这些方法会进行字典操作操作。\n",
    "\n",
    "通常你可以使用 from module import name 这样的导入形式，以及使用绑定的方法。比如下面的函数是耗时的：\n",
    "\n",
    "```python\n",
    "import math\n",
    "\n",
    "def compute_roots(nums):\n",
    "    result = []\n",
    "    for n in nums:\n",
    "        result.append(math.sqrt(n))\n",
    "    return result\n",
    "\n",
    "# Test\n",
    "nums = range(1000000)\n",
    "for n in range(100):\n",
    "    r = compute_roots(nums)\n",
    "```\n",
    "\n",
    "可以修改compute_roots函数如下："
   ]
  },
  {
   "cell_type": "code",
   "execution_count": 141,
   "id": "6d5daf98-4816-4dc7-acf0-f802e83e1427",
   "metadata": {},
   "outputs": [],
   "source": [
    "from math import sqrt\n",
    "\n",
    "def compute_roots(nums):\n",
    "\n",
    "    result = []\n",
    "    result_append = result.append\n",
    "    for n in nums:\n",
    "        result_append(sqrt(n))\n",
    "    return result"
   ]
  },
  {
   "cell_type": "markdown",
   "id": "ad9fb1fb-30d6-471c-a48d-c5d85c47699e",
   "metadata": {},
   "source": [
    "修改后的版本运行时间会减少一些。唯一不同之处就是消除了属性访问。 用 sqrt() 代替了 math.sqrt() 。 The result.append() 方法被赋给一个局部变量 result_append ，然后在内部循环中使用它。\n",
    "\n",
    "这些改变只有在大量重复代码中才有意义，比如循环。 因此，这些优化也只是在某些特定地方才应该被使用。\n",
    "\n",
    "#### 避免不必要的抽象\n",
    "\n",
    "任何时候当你使用额外的处理层（比如装饰器、属性访问、描述器）去包装你的代码时，都会让程序运行变慢。"
   ]
  },
  {
   "cell_type": "code",
   "execution_count": 142,
   "id": "09043bde-5166-4185-9821-160b20d5788c",
   "metadata": {},
   "outputs": [
    {
     "data": {
      "text/plain": [
       "0.044568299999980354"
      ]
     },
     "execution_count": 142,
     "metadata": {},
     "output_type": "execute_result"
    }
   ],
   "source": [
    "class A:\n",
    "    def __init__(self, x, y):\n",
    "        self.x = x\n",
    "        self.y = y\n",
    "    @property\n",
    "    def y(self):\n",
    "        return self._y\n",
    "    @y.setter\n",
    "    def y(self, value):\n",
    "        self._y = value\n",
    "        \n",
    "from timeit import timeit\n",
    "a = A(1,2)\n",
    "timeit('a.x', 'from __main__ import a')"
   ]
  },
  {
   "cell_type": "code",
   "execution_count": 143,
   "id": "ba5d88a8-6919-40e2-bcec-d534bdb74529",
   "metadata": {},
   "outputs": [
    {
     "data": {
      "text/plain": [
       "0.14513039999999933"
      ]
     },
     "execution_count": 143,
     "metadata": {},
     "output_type": "execute_result"
    }
   ],
   "source": [
    "timeit('a.y', 'from __main__ import a')"
   ]
  },
  {
   "cell_type": "markdown",
   "id": "67da4a74-472f-489f-aba2-4e33b196172f",
   "metadata": {
    "jp-MarkdownHeadingCollapsed": true,
    "tags": []
   },
   "source": [
    "访问属性y相比属性x而言慢的不止一点点，大概慢了4.5倍。 如果你在意性能的话，那么就需要重新审视下对于y的属性访问器的定义是否真的有必要了。 如果没有必要，就使用简单属性吧。 如果仅仅是因为其他编程语言需要使用getter/setter函数就去修改代码风格，这个真的没有必要。\n",
    "\n",
    "#### 使用内置的容器\n",
    "\n",
    "内置的数据类型比如字符串、元组、列表、集合和字典都是使用C来实现的，运行起来非常快。 如果想自己实现新的数据结构（比如链接列表、平衡树等）， 那么要想在性能上达到内置的速度几乎不可能，因此，还是乖乖的使用内置的吧。\n",
    "\n",
    "另外，还要避免创建不必要的数据结构或复制。\n",
    "\n",
    "#### 并行编程\n",
    "\n",
    "这部分有参考：[Python性能优化的20条建议](https://segmentfault.com/a/1190000000666603)。\n",
    "\n",
    "可以通过内置的模块multiprocessing实现下面几种并行模式：\n",
    "\n",
    "多进程：对于CPU密集型的程序，可以使用multiprocessing的Process,Pool等封装好的类，通过多进程的方式实现并行计算。但是因为进程中的通信成本比较大，对于进程之间需要大量数据交互的程序效率未必有大的提高。\n",
    "\n",
    "多线程：对于IO密集型的程序，multiprocessing.dummy模块使用multiprocessing的接口封装threading，使得多线程编程也变得非常轻松(比如可以使用Pool的map接口，简洁高效)。\n",
    "\n",
    "分布式：multiprocessing中的Managers类提供了可以在不同进程之共享数据的方式，可以在此基础上开发出分布式的程序。\n",
    "\n",
    "不同的业务场景可以选择其中的一种或几种的组合实现程序性能的优化。\n",
    "\n",
    "#### 讨论\n",
    "\n",
    "**在优化之前，有必要先研究下使用的算法**。 选择一个复杂度为 O(n log n) 的算法要比你去调整一个复杂度为 O(n**2) 的算法所带来的性能提升要大得多。\n",
    "\n",
    "如果你觉得你还是得进行优化，那么请从整体考虑。 作为一般准则，不要对程序的每一个部分都去优化,因为这些修改会导致代码难以阅读和理解。 你应该**专注于优化产生性能瓶颈的地方，比如内部循环**。\n",
    "\n",
    "对循环的优化所遵循的原则是尽量减少循环过程中的计算量，有多重循环的尽量将内层的计算提到上一层———[Python 代码性能优化技巧](https://www.ibm.com/developerworks/cn/linux/l-cn-python-optim/index.html)。\n",
    "\n",
    "这里对循环做些补充，参考：[Python性能诀窍](http://pfmiles.github.io/blog/python-speed-performance-tips/).\n",
    "\n",
    "Python支持好几种循环结构。for语句是最常用的。它遍历一个序列的每个元素，将每个元素赋值给循环变量。如果你的循环体很简单，for循环本身的解释成本将占据大部分的开销。这个时候**map函数**就能派上用场了。你可以将map函数看作是for循环采用C代码来实现。唯一的约束是“**循环体”必须是一个函数调用**。**list comprehension 列表生成式**除了语法上的便利性之外，他们常常和等价的map调用一样快甚至更快。比如：\n",
    "\n",
    "```python\n",
    "newlist = []\n",
    "for word in oldlist:\n",
    "    newlist.append(word.upper())\n",
    "```\n",
    "\n",
    "可以使用map函数将这个循环由解释执行推到编译好的C代码中去执行：\n",
    "\n",
    "```python\n",
    "newlist = map(str.upper, oldlist)\n",
    "```\n",
    "\n",
    "List comprehension在python 2.0的时候被加入。它们提供了一种更紧凑的语法和更高效的方式来表达上面的for循环：\n",
    "\n",
    "```python\n",
    "newlist = [s.upper() for s in oldlist]\n",
    "```\n",
    "\n",
    "如果优化要求比较高，本节的这些简单技术满足不了，那么可以研究下基于即时编译（JIT）技术的一些工具。 例如，PyPy工程是Python解释器的另外一种实现，它会分析程序运行并对那些频繁执行的部分生成本机机器码。 它有时候能极大的提升性能，通常可以接近C代码的速度。 不过可惜的是，PyPy还不能完全支持Python3.。\n",
    "\n",
    "还可以考虑下Numba工程， Numba是一个在你使用装饰器来选择Python函数进行优化时的动态编译器。 这些函数会使用LLVM被编译成本地机器码。它同样可以极大的提升性能。 但是，跟PyPy一样，它对于Python 3的支持现在还停留在实验阶段。\n",
    "\n",
    "最后引用John Ousterhout说过的话作为结尾：“最好的性能优化是从不工作到工作状态的迁移”。 直到你真的需要优化的时候再去考虑它。确保你程序正确的运行通常比让它运行更快要更重要一些（至少开始是这样的）."
   ]
  }
 ],
 "metadata": {
  "kernelspec": {
   "display_name": "Python 3 (ipykernel)",
   "language": "python",
   "name": "python3"
  },
  "language_info": {
   "codemirror_mode": {
    "name": "ipython",
    "version": 3
   },
   "file_extension": ".py",
   "mimetype": "text/x-python",
   "name": "python",
   "nbconvert_exporter": "python",
   "pygments_lexer": "ipython3",
   "version": "3.9.6"
  }
 },
 "nbformat": 4,
 "nbformat_minor": 5
}
