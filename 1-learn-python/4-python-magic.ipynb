{
 "cells": [
  {
   "cell_type": "markdown",
   "metadata": {},
   "source": [
    "# python 中的特别语法"
   ]
  },
  {
   "cell_type": "markdown",
   "metadata": {},
   "source": [
    "本节主要对python中一些令人印象深刻的基础语法进行归纳总结，为更高级的python语句的理解做铺垫。\n",
    "\n",
    "\"\\*\"和\"\\_\"等特殊符号在python语法中十分常见，本节先从这些符号开始说起。\n",
    "\n",
    "然后记录一些 magic function；\n",
    "\n",
    "最后补充一些特别情况说明。\n",
    "\n",
    "## _号的用法\n",
    "\n",
    "本小节主要参考：[Python中下划线的5种含义](https://zhuanlan.zhihu.com/p/36173202)。下划线在python变量、方法等的名称中都各有其含义，主要包括两个层面：\n",
    "\n",
    "- 约定的含义，对程序员的提示；\n",
    "- 由Python解释器严格执行的。\n",
    "\n",
    "主要讨论5类下划线模式及对python程序的行为的影响：\n",
    "\n",
    "- 单前导下划线（_var）：一个命名约定，表示变量或方法仅内部（比如类内，模块内等）使用；\n",
    "- 单末尾下划线（var_）：一个命名约定，用来避免与关键字产生命名冲突；\n",
    "- 双前导下划线（__var）：解释器会更改该变量的名称，以便在类被扩展的时候不冲突；\n",
    "- 双前导和末尾下划线（__var__）：Python保留了这类名称用于特殊用途，最好避免在自己的程序中使用；\n",
    "- 单下划线（_）：约定，表示这个变量是临时的，也是一个特殊变量，解释器评估的最近一个表达式的结果。\n",
    "\n",
    "综上，单下划线的基本上属于约定类的，双下划线的则是解释器级的。下面给例子说明下__var和__var__"
   ]
  },
  {
   "cell_type": "code",
   "execution_count": 1,
   "metadata": {
    "pycharm": {
     "name": "#%%\n"
    }
   },
   "outputs": [
    {
     "data": {
      "text/plain": [
       "['_Test__baz',\n",
       " '__class__',\n",
       " '__delattr__',\n",
       " '__dict__',\n",
       " '__dir__',\n",
       " '__doc__',\n",
       " '__eq__',\n",
       " '__format__',\n",
       " '__ge__',\n",
       " '__getattribute__',\n",
       " '__gt__',\n",
       " '__hash__',\n",
       " '__init__',\n",
       " '__init_subclass__',\n",
       " '__le__',\n",
       " '__lt__',\n",
       " '__module__',\n",
       " '__ne__',\n",
       " '__new__',\n",
       " '__reduce__',\n",
       " '__reduce_ex__',\n",
       " '__repr__',\n",
       " '__setattr__',\n",
       " '__sizeof__',\n",
       " '__str__',\n",
       " '__subclasshook__',\n",
       " '__weakref__',\n",
       " '_bar',\n",
       " 'foo']"
      ]
     },
     "execution_count": 1,
     "metadata": {},
     "output_type": "execute_result"
    }
   ],
   "source": [
    "class Test:\n",
    "   def __init__(self):\n",
    "       self.foo = 11\n",
    "       self._bar = 23\n",
    "       self.__baz = 23\n",
    "        \n",
    "t = Test()\n",
    "dir(t)"
   ]
  },
  {
   "cell_type": "markdown",
   "metadata": {},
   "source": [
    "dir()函数可查看对象的属性，从上例中可以看出，__baz变量已经变为_Test__baz变量。也就是说双下划线变量的这种名称修饰对程序员是透明的，这是为了防止被意外修改。对方法的命名也是一样的，这里就不再赘述了。\n",
    "\n",
    "首尾双下划线的例子，以__call__函数为例。"
   ]
  },
  {
   "cell_type": "code",
   "execution_count": 2,
   "metadata": {
    "pycharm": {
     "name": "#%%\n"
    }
   },
   "outputs": [
    {
     "name": "stdout",
     "output_type": "stream",
     "text": [
      "This is test!\n",
      "This is test!##Append something\n"
     ]
    }
   ],
   "source": [
    "# __call__函数的作用\n",
    "# /usr/bin/env python\n",
    "class test:\n",
    "    def __init__(self, a):\n",
    "        self.a = a\n",
    "\n",
    "    def __call__(self, b):\n",
    "        c = self.a + b\n",
    "        print(c)\n",
    "\n",
    "    def display(self):\n",
    "        print(self.a)\n",
    "\n",
    "\n",
    "Test = test(\"This is test!\")\n",
    "Test.display()  # 调用display函数\n",
    "Test(\"##Append something\")  # __call__实际上是将一个类重载了\"()\"，也就是让一个类也可以像一个函数一样可以拿来调用了。因此这里会调用__call__函数"
   ]
  },
  {
   "cell_type": "markdown",
   "metadata": {},
   "source": [
    "## *的用法\n",
    "\n",
    "这部分主要参考：[Python函数中*和**的内涵究竟是什么呢？](https://www.zhihu.com/question/265519629)。\n",
    "\n",
    "星号主要在函数定义和函数调用的时候使用：\n",
    "\n",
    "- 函数定义：\n",
    "  - 使用单个星号会将所有的参数放入一个元组tuple供函数使用；\n",
    "  - 使用两个星号会将所有的参数放入一个字典dict供函数使用；\n",
    "- 函数调用：\n",
    "  - 在list、tuple、set前加一个星号会把容器中所有元素解包变成位置参数；\n",
    "  - 在dict前加一个星号会把字典的键变成位置参数；\n",
    "  - 在dict前加两个星号会把字典的键值对变成关键字参数。\n",
    "  \n",
    "结合以下例子便可理解。"
   ]
  },
  {
   "cell_type": "code",
   "execution_count": 3,
   "metadata": {
    "pycharm": {
     "name": "#%%\n"
    }
   },
   "outputs": [
    {
     "name": "stdout",
     "output_type": "stream",
     "text": [
      "1\n",
      "\n",
      "1\n",
      "2\n",
      "3\n"
     ]
    }
   ],
   "source": [
    "def foo(*args):\n",
    "    for a in args:\n",
    "        print(a)\n",
    "        \n",
    "foo(1)\n",
    "print()\n",
    "foo(1,2,3)"
   ]
  },
  {
   "cell_type": "code",
   "execution_count": 4,
   "metadata": {
    "pycharm": {
     "name": "#%%\n"
    }
   },
   "outputs": [
    {
     "name": "stdout",
     "output_type": "stream",
     "text": [
      "name one\n",
      "age 27\n"
     ]
    }
   ],
   "source": [
    "def bar(**kwargs):\n",
    "    for a in kwargs:\n",
    "        print(a, kwargs[a])\n",
    "        \n",
    "bar(name='one', age=27)"
   ]
  },
  {
   "cell_type": "code",
   "execution_count": 5,
   "metadata": {
    "pycharm": {
     "name": "#%%\n"
    }
   },
   "outputs": [
    {
     "name": "stdout",
     "output_type": "stream",
     "text": [
      "x= 1\n",
      "y= 2\n",
      "z= 3\n"
     ]
    }
   ],
   "source": [
    "def foo(x,y,z):\n",
    "    print(\"x=\" , x)\n",
    "    print(\"y=\" , y)\n",
    "    print(\"z=\" , z)\n",
    "    \n",
    "mylist = [1,2,3]\n",
    "foo(*mylist)"
   ]
  },
  {
   "cell_type": "code",
   "execution_count": 6,
   "metadata": {
    "pycharm": {
     "name": "#%%\n"
    }
   },
   "outputs": [
    {
     "name": "stdout",
     "output_type": "stream",
     "text": [
      "x= 1\n",
      "y= 2\n",
      "z= 3\n"
     ]
    }
   ],
   "source": [
    "mydict = {'x':1,'y':2,'z':3}\n",
    "foo(**mydict)"
   ]
  },
  {
   "cell_type": "code",
   "execution_count": 7,
   "metadata": {
    "pycharm": {
     "name": "#%%\n"
    }
   },
   "outputs": [
    {
     "name": "stdout",
     "output_type": "stream",
     "text": [
      "1\n",
      "(2, 3, 4, 5)\n",
      "1\n",
      "{'a': 2, 'b': 3}\n"
     ]
    }
   ],
   "source": [
    "def foo(param1, *param2):\n",
    "    print(param1)\n",
    "    print(param2)\n",
    "\n",
    "def bar(param1, **param2):\n",
    "    print(param1)\n",
    "    print(param2)\n",
    "\n",
    "foo(1,2,3,4,5)\n",
    "bar(1,a=2,b=3)"
   ]
  },
  {
   "cell_type": "markdown",
   "metadata": {},
   "source": [
    "## @的用法\n",
    "\n",
    "这里涉及到python装饰器的一些内容。主要参考了：[如何理解Python装饰器](https://www.zhihu.com/question/26930016)和[Python装饰器和符号@](https://gohom.win/2015/10/25/pyDecorator/)\n",
    "\n",
    "装饰器本质上是一个**Python函数**，它可以让其他函数在**不需要做任何代码变动**的前提下**增加额外功能**，装饰器的**返回值**也是一个**函数对象**，它经常用于有切面需求的场景（类似java里的注解），比如插入日志、性能测试等。"
   ]
  },
  {
   "cell_type": "code",
   "execution_count": 8,
   "metadata": {
    "pycharm": {
     "name": "#%%\n"
    }
   },
   "outputs": [
    {
     "name": "stdout",
     "output_type": "stream",
     "text": [
      "call now():\n",
      "2015-10-26\n"
     ]
    },
    {
     "data": {
      "text/plain": [
       "'done'"
      ]
     },
     "execution_count": 8,
     "metadata": {},
     "output_type": "execute_result"
    }
   ],
   "source": [
    "def log(func):\n",
    "    def wrapper(*args, **kw):\n",
    "        print('call %s():' % func.__name__)\n",
    "        return func(*args, **kw)\n",
    "    return wrapper\n",
    "\n",
    "@log\n",
    "def now():\n",
    "    print('2015-10-26')\n",
    "    return \"done\"\n",
    "now()"
   ]
  },
  {
   "cell_type": "markdown",
   "metadata": {},
   "source": [
    "机制就是,调用now()实际调用log(now)() (前面@写法后,实际运行now=log(now)),也就是运行了wrapper(),并把now函数原有参数传递给了wrapper函数. wrapper在运行时,加入了新的处理print 'call %s():' % func.__name__一句, 并运行相应传递参数的func(*args,**kw)并把原有结果返回.\n",
    "\n",
    "带参数的装饰器会稍微复杂一些，它是对原有装饰器的一个函数封装，并返回一个装饰器。"
   ]
  },
  {
   "cell_type": "code",
   "execution_count": 9,
   "metadata": {
    "pycharm": {
     "name": "#%%\n"
    }
   },
   "outputs": [
    {
     "name": "stdout",
     "output_type": "stream",
     "text": [
      "execute now():\n",
      "2015-10-26\n"
     ]
    },
    {
     "data": {
      "text/plain": [
       "'done'"
      ]
     },
     "execution_count": 9,
     "metadata": {},
     "output_type": "execute_result"
    }
   ],
   "source": [
    "def log(text):\n",
    "    def decorator(func):\n",
    "        def wrapper(*args, **kw):\n",
    "            print('%s %s():' % (text, func.__name__))\n",
    "            return func(*args, **kw)\n",
    "        return wrapper\n",
    "    return decorator\n",
    "@log('execute')\n",
    "def now():\n",
    "    print('2015-10-26')\n",
    "    return \"done\"\n",
    "now()"
   ]
  },
  {
   "cell_type": "markdown",
   "metadata": {},
   "source": [
    "实际now=log('execute')(now)两个参数表就是执行了一次闭包decorator(now).执行该闭包后返回的才是真正的装饰器wrapper.\n",
    "\n",
    "两层闭包的机制可以保证传递参数给内在的装饰器wrapper.第一层将参数传进行生成第一层闭包对应返回函数,第二层则将该参数继续留给真正的装饰器闭包。\n",
    "\n",
    "此外，还有类装饰器，类装饰器有灵活度大、高内聚、封装性等优点，使用类装饰器要依靠类内部的__call__方法。"
   ]
  },
  {
   "cell_type": "code",
   "execution_count": 10,
   "metadata": {
    "pycharm": {
     "name": "#%%\n"
    }
   },
   "outputs": [
    {
     "name": "stdout",
     "output_type": "stream",
     "text": [
      "class decorator runing\n",
      "bar\n",
      "class decorator ending\n"
     ]
    }
   ],
   "source": [
    "class Foo(object):\n",
    "    def __init__(self, func):\n",
    "        self._func = func\n",
    "\n",
    "    def __call__(self):\n",
    "        print ('class decorator runing')\n",
    "        self._func()\n",
    "        print ('class decorator ending')\n",
    "\n",
    "@Foo\n",
    "def bar():\n",
    "    print ('bar')\n",
    "\n",
    "bar()"
   ]
  },
  {
   "cell_type": "markdown",
   "metadata": {},
   "source": [
    "使用装饰器会丢失一些原函数的元信息，这时候可以用functools.wraps，它把原函数的元信息拷贝到装饰器函数中。\n",
    "\n",
    "此外，还有内置装饰器@staticmathod、@classmethod、@property等。\n",
    "\n",
    "先补充下对staticmathod、classmethod的介绍。\n",
    "\n",
    "- classmethod : 被classmethod()函数处理过的函数,能被类所调用，也能被对象所调用（是继承的关系）。\n",
    "- staticmethod: 相当于“全局函数”，可以被类直接调用，可以被所有实例化对象共享，通过staticmethod()定义静态方法，静态方法没有self参数\n",
    "\n",
    "关于两者的解释可以参考：[Python 中的 classmethod 和 staticmethod 有什么具体用途？](https://www.zhihu.com/question/20021164)。\n",
    "\n",
    "Python中的类也是一个普通对象，如果需要**直接使用这个类**，例如将类作为参数传递到其他函数中，又希望在实例化这个类之前就能提供某些功能，那么最简单的办法就是使用classmethod和staticmethod。这两者的区别在于在存在类的继承的情况下**对多态的支持不同**。\n",
    "\n",
    "本质上来说，面向对象中实例方法有哪些作用，classmethod也就有哪些作用，只是这个面向的 **“对象”是类本身**而已。这和C++中的static method其实是不同的，C++中的static method只有命名空间的作用，而Python中不管是classmethod还是staticmethod都有OOP、多态上的意义。\n",
    "\n",
    "首先，看看共同点的使用条件。举例分析，类中最常用的方法是实例方法, 即通过通过实例作为第一个参数的方法。比如，一个基本的实例方法就向下面这个:"
   ]
  },
  {
   "cell_type": "code",
   "execution_count": 11,
   "metadata": {},
   "outputs": [
    {
     "name": "stdout",
     "output_type": "stream",
     "text": [
      "arun\n",
      "seema\n"
     ]
    }
   ],
   "source": [
    "class Kls(object):\n",
    "    def __init__(self, data):\n",
    "        self.data = data\n",
    "    def printd(self):\n",
    "        print(self.data)\n",
    "ik1 = Kls('arun')\n",
    "ik2 = Kls('seema')\n",
    "ik1.printd()\n",
    "ik2.printd()"
   ]
  },
  {
   "cell_type": "markdown",
   "metadata": {},
   "source": [
    "如果现在我们想写一些**仅仅与类交互而不是和实例交互的方法**会怎么样呢? 我们可以在类外面写一个简单的方法来做这些，但是这样做就扩散了类代码的关系到类定义的外面. 如果像下面这样写就会导致以后代码维护的困难:"
   ]
  },
  {
   "cell_type": "code",
   "execution_count": 12,
   "metadata": {},
   "outputs": [
    {
     "name": "stdout",
     "output_type": "stream",
     "text": [
      "2\n"
     ]
    }
   ],
   "source": [
    "def get_no_of_instances(cls_obj):\n",
    "    return cls_obj.no_inst\n",
    "class Kls(object):\n",
    "    no_inst = 0\n",
    "    def __init__(self):\n",
    "        Kls.no_inst = Kls.no_inst + 1\n",
    "ik1 = Kls()\n",
    "ik2 = Kls()\n",
    "print(get_no_of_instances(Kls))"
   ]
  },
  {
   "cell_type": "markdown",
   "metadata": {},
   "source": [
    "我们要写一个只在类中运行而不在实例中运行的方法.可以使用："
   ]
  },
  {
   "cell_type": "code",
   "execution_count": 13,
   "metadata": {},
   "outputs": [
    {
     "name": "stdout",
     "output_type": "stream",
     "text": [
      "2\n"
     ]
    }
   ],
   "source": [
    "def iget_no_of_instance(ins_obj):\n",
    "    return ins_obj.__class__.no_inst\n",
    "class Kls(object):\n",
    "    no_inst = 0\n",
    "    def __init__(self):\n",
    "        Kls.no_inst = Kls.no_inst + 1\n",
    "ik1 = Kls()\n",
    "ik2 = Kls()\n",
    "print (iget_no_of_instance(ik1))"
   ]
  },
  {
   "cell_type": "markdown",
   "metadata": {},
   "source": [
    "现在可以使用@classmethod装饰器来创建类方法."
   ]
  },
  {
   "cell_type": "code",
   "execution_count": 14,
   "metadata": {},
   "outputs": [
    {
     "name": "stdout",
     "output_type": "stream",
     "text": [
      "2\n",
      "2\n"
     ]
    }
   ],
   "source": [
    "class Kls(object):\n",
    "    no_inst = 0\n",
    "    def __init__(self):\n",
    "        Kls.no_inst = Kls.no_inst + 1\n",
    "    @classmethod\n",
    "    def get_no_of_instance(cls_obj):\n",
    "        return cls_obj.no_inst\n",
    "ik1 = Kls()\n",
    "ik2 = Kls()\n",
    "print (ik1.get_no_of_instance())\n",
    "print (Kls.get_no_of_instance())"
   ]
  },
  {
   "cell_type": "markdown",
   "metadata": {},
   "source": [
    "这样的好处是: 不管这个方式是从实例调用还是从类调用，它都用第一个参数把类传递过来.\n",
    "\n",
    "另外，经常有一些**跟类有关系的功能**但**在运行时又不需要实例和类参与**的情况下需要用到**静态方法**. 比如更改环境变量或者修改其他类的属性等能用到静态方法. 这种情况可以直接用函数解决, 但这样同样会扩散类内部的代码，造成维护困难. 比如有一个时间类。"
   ]
  },
  {
   "cell_type": "code",
   "execution_count": 15,
   "metadata": {},
   "outputs": [
    {
     "name": "stdout",
     "output_type": "stream",
     "text": [
      "year : 2016\n",
      "month : 8\n",
      "day : 1\n"
     ]
    }
   ],
   "source": [
    "class Data_test(object):\n",
    "    day=0\n",
    "    month=0\n",
    "    year=0\n",
    "    def __init__(self,year=0,month=0,day=0):\n",
    "        self.day=day\n",
    "        self.month=month\n",
    "        self.year=year\n",
    "\n",
    "    def out_date(self):\n",
    "        print (\"year :\",self.year)\n",
    "        print( \"month :\",self.month)\n",
    "        print (\"day :\",self.day)\n",
    "        \n",
    "t=Data_test(2016,8,1)\n",
    "t.out_date()"
   ]
  },
  {
   "cell_type": "markdown",
   "metadata": {},
   "source": [
    "如果用户输入的是 \"2016-8-1\" 这样的字符格式，那么就需要调用Date_test 类前做一下处理："
   ]
  },
  {
   "cell_type": "code",
   "execution_count": 16,
   "metadata": {},
   "outputs": [
    {
     "name": "stdout",
     "output_type": "stream",
     "text": [
      "year : 2016\n",
      "month : 8\n",
      "day : 1\n"
     ]
    }
   ],
   "source": [
    "string_date='2016-8-1'\n",
    "year,month,day=map(int,string_date.split('-'))\n",
    "s=Data_test(year,month,day)\n",
    "s.out_date()"
   ]
  },
  {
   "cell_type": "markdown",
   "metadata": {},
   "source": [
    "那可不可以把这个字符串处理的函数放到 Date_test 类当中呢？这时候就可以用到@classmethod，在Date_test类里面创建一个成员函数， 前面用@classmethod装饰。它可以传进来一个当前类作为第一个参数。"
   ]
  },
  {
   "cell_type": "code",
   "execution_count": 17,
   "metadata": {},
   "outputs": [],
   "source": [
    "class Data_test2(object):\n",
    "    day=0\n",
    "    month=0\n",
    "    year=0\n",
    "    def __init__(self,year=0,month=0,day=0):\n",
    "        self.day=day\n",
    "        self.month=month\n",
    "        self.year=year\n",
    "\n",
    "    @classmethod\n",
    "    def get_date(cls,string_date):\n",
    "        #这里第一个参数是cls， 表示调用当前的类名\n",
    "        year,month,day=map(int,string_date.split('-'))\n",
    "        date1=cls(year,month,day)\n",
    "        #返回的是一个初始化后的类\n",
    "        return date1\n",
    "\n",
    "    def out_date(self):\n",
    "        print (\"year :\",self.year)\n",
    "        print( \"month :\",self.month)\n",
    "        print (\"day :\",self.day)"
   ]
  },
  {
   "cell_type": "markdown",
   "metadata": {},
   "source": [
    "可以使用如下方法调用："
   ]
  },
  {
   "cell_type": "code",
   "execution_count": 18,
   "metadata": {},
   "outputs": [
    {
     "name": "stdout",
     "output_type": "stream",
     "text": [
      "year : 2016\n",
      "month : 8\n",
      "day : 6\n"
     ]
    }
   ],
   "source": [
    "r=Data_test2.get_date(\"2016-8-6\")\n",
    "r.out_date()"
   ]
  },
  {
   "cell_type": "markdown",
   "metadata": {},
   "source": [
    "这样子等于先调用get_date（）对字符串进行处理，然后才使用Data_test的构造函数初始化。这样的好处就是你以后**重构类的时候不必要修改构造函数，只需要额外添加你要处理的函数**，然后使用装饰符 @classmethod 就可以了。以上参考：[python @classmethod 的使用场合](http://30daydo.com/article/89)\n",
    "\n",
    "此外，通过类方法类内的方法 ，不涉及的属性和方法不会被加载，节省内存，快。\n",
    "\n",
    "接着看看两者的区别，首先看看两者的构造方式："
   ]
  },
  {
   "cell_type": "code",
   "execution_count": 19,
   "metadata": {},
   "outputs": [
    {
     "name": "stdout",
     "output_type": "stream",
     "text": [
      "Testing....\n"
     ]
    }
   ],
   "source": [
    "class People(object):\n",
    "    color = 'yellow'\n",
    "    __age = 30   #私有属性\n",
    "\n",
    "    def think(self):\n",
    "        self.color = \"black\"\n",
    "        print (\"I am a %s \"  % self.color)\n",
    "        print (\"I am a thinker\")\n",
    "        print (self.__age)\n",
    "\n",
    "    def  __talk(self):\n",
    "        print (\"I am talking with Tom\")\n",
    "\n",
    "    def test(self):\n",
    "        print ('Testing....')\n",
    "\n",
    "    cm = classmethod(test)\n",
    "\n",
    "jack = People()\n",
    "People.cm()"
   ]
  },
  {
   "cell_type": "code",
   "execution_count": 20,
   "metadata": {},
   "outputs": [
    {
     "name": "stdout",
     "output_type": "stream",
     "text": [
      "30\n"
     ]
    }
   ],
   "source": [
    "class People(object):\n",
    "    color = 'yellow'\n",
    "    __age = 30   #私有属性\n",
    "\n",
    "    def think(self):\n",
    "        self.color = \"black\"\n",
    "        print (\"I am a %s \"  % self.color)\n",
    "        print (\"I am a thinker\")\n",
    "        print (self.__age)\n",
    "\n",
    "    def  __talk(self):\n",
    "        print( \"I am talking with Tom\")\n",
    "\n",
    "    def test():   ##没有self   静态调用     会把所有的属性加载到内存里。\n",
    "        print (People.__age  ) #  通过类访问内部变量\n",
    "\n",
    "    sm = staticmethod(test)\n",
    "\n",
    "jack = People()\n",
    "People.sm()"
   ]
  },
  {
   "cell_type": "code",
   "execution_count": 21,
   "metadata": {},
   "outputs": [
    {
     "name": "stdout",
     "output_type": "stream",
     "text": [
      "this is class method\n",
      "this is static method\n"
     ]
    }
   ],
   "source": [
    "class People(object):\n",
    "    color = 'yellow'\n",
    "    __age = 30   #私有属性\n",
    "\n",
    "    def think(self):\n",
    "        self.color = \"black\"\n",
    "        print (\"I am a %s \"  % self.color)\n",
    "        print (\"I am a thinker\")\n",
    "        print (self.__age)\n",
    "\n",
    "    def  __talk(self):\n",
    "        print (\"I am talking with Tom\")\n",
    "\n",
    "    @classmethod #调用类的方法 \n",
    "    def test(self):\n",
    "        print (\"this is class method\")\n",
    "\n",
    "    @staticmethod  #调用类的方法 \n",
    "    def test1():    \n",
    "        print (\"this is static method\")\n",
    "\n",
    "jack = People()\n",
    "People.test()\n",
    "People.test1()"
   ]
  },
  {
   "cell_type": "markdown",
   "metadata": {},
   "source": [
    "classmethod与staticmethod这两个方法的用法是类似的，大多数情况下，classmethod也可以通过staticmethod代替，在通过类调用时，这两者对于调用者来说是不可区分的。两者的区别在于，classmethod增加了一个对实际调用类的引用，这带来了很多方便的地方：方法可以判断出自己是通过基类被调用，还是通过某个子类被调用；通过子类调用时，方法可以返回子类的实例而非基类的实例；通过子类调用时，方法可以调用子类的其他classmethod.\n",
    "\n",
    "一般来说classmethod可以完全替代staticmethod。\n",
    "\n",
    "staticmethod唯一的好处是调用时它**返回的是一个真正的函数**，而且**每次调用时返回同一个实例**（classmethod则会对基类和子类返回不同的bound method实例），但这点几乎从来没有什么时候是有用的。\n",
    "\n",
    "Python中的classmethod（和staticmethod）并不止拥有美学上（或者命名空间上）的意义，而是可以实际参与多态的、足够纯粹的OOP功能，原理在于Python中类可以作为first class的对象使用，很大程度上替代其他OOP语言中的**工厂模式**。classmethod既可以作为factory method提供额外的构造实例的手段，也可以作为工厂类的接口，用来读取或者修改工厂类本身。classmethod还可以通过额外的类引用，提供继承时的多态特性，实现子类挂载点等。\n",
    "\n",
    "这段话参考了：https://www.zhihu.com/question/20021164/answer/537385841\n",
    "\n",
    "一个图解，参考：[Difference between @staticmethod and @classmethod in Python](https://www.pythoncentral.io/difference-between-staticmethod-and-classmethod-in-python/)：\n",
    "\n",
    "![](pictures/comparison.png)\n",
    "\n",
    "对应代码："
   ]
  },
  {
   "cell_type": "code",
   "execution_count": 22,
   "metadata": {},
   "outputs": [],
   "source": [
    "class Kls(object):\n",
    "    def __init__(self, data):\n",
    "        self.data = data\n",
    " \n",
    "    def printd(self):\n",
    "        print(self.data)\n",
    " \n",
    "    @staticmethod\n",
    "    def smethod(*arg):\n",
    "        print('Static:', arg)\n",
    " \n",
    "    @classmethod\n",
    "    def cmethod(*arg):\n",
    "        print('Class:', arg)"
   ]
  },
  {
   "cell_type": "code",
   "execution_count": 23,
   "metadata": {},
   "outputs": [
    {
     "name": "stdout",
     "output_type": "stream",
     "text": [
      "23\n",
      "Static: ()\n",
      "Class: (<class '__main__.Kls'>,)\n"
     ]
    }
   ],
   "source": [
    "ik = Kls(23)\n",
    "ik.printd()\n",
    "ik.smethod()\n",
    "ik.cmethod()"
   ]
  },
  {
   "cell_type": "code",
   "execution_count": 24,
   "metadata": {},
   "outputs": [
    {
     "ename": "TypeError",
     "evalue": "printd() missing 1 required positional argument: 'self'",
     "output_type": "error",
     "traceback": [
      "\u001b[1;31m---------------------------------------------------------------------------\u001b[0m",
      "\u001b[1;31mTypeError\u001b[0m                                 Traceback (most recent call last)",
      "\u001b[1;32m~\\AppData\\Local\\Temp/ipykernel_19824/396917164.py\u001b[0m in \u001b[0;36m<module>\u001b[1;34m\u001b[0m\n\u001b[1;32m----> 1\u001b[1;33m \u001b[0mKls\u001b[0m\u001b[1;33m.\u001b[0m\u001b[0mprintd\u001b[0m\u001b[1;33m(\u001b[0m\u001b[1;33m)\u001b[0m  \u001b[1;31m# 类是不能直接调用对象方法的，会报错\u001b[0m\u001b[1;33m\u001b[0m\u001b[1;33m\u001b[0m\u001b[0m\n\u001b[0m",
      "\u001b[1;31mTypeError\u001b[0m: printd() missing 1 required positional argument: 'self'"
     ]
    }
   ],
   "source": [
    "Kls.printd()  # 类是不能直接调用对象方法的，会报错"
   ]
  },
  {
   "cell_type": "code",
   "execution_count": 26,
   "metadata": {},
   "outputs": [
    {
     "name": "stdout",
     "output_type": "stream",
     "text": [
      "Static: ()\n",
      "Class: (<class '__main__.Kls'>,)\n"
     ]
    }
   ],
   "source": [
    "Kls.smethod()\n",
    "Kls.cmethod()"
   ]
  },
  {
   "cell_type": "markdown",
   "metadata": {},
   "source": [
    "再看看@property。该装饰器就像java，c++里面将变量声明为private一样，负责把一个方法变成属性调用的。这样还可以设置一些检查，防止犯错。"
   ]
  },
  {
   "cell_type": "code",
   "execution_count": 27,
   "metadata": {},
   "outputs": [],
   "source": [
    "class Student(object):\n",
    "\n",
    "    @property\n",
    "    def score(self):\n",
    "        return self._score\n",
    "\n",
    "    @score.setter\n",
    "    def score(self, value):\n",
    "        if not isinstance(value, int):\n",
    "            raise ValueError('score must be an integer!')\n",
    "        if value < 0 or value > 100:\n",
    "            raise ValueError('score must between 0 ~ 100!')\n",
    "        self._score = value"
   ]
  },
  {
   "cell_type": "markdown",
   "metadata": {},
   "source": [
    "@score.setter相当于设置了set函数。"
   ]
  },
  {
   "cell_type": "code",
   "execution_count": 28,
   "metadata": {},
   "outputs": [
    {
     "data": {
      "text/plain": [
       "60"
      ]
     },
     "execution_count": 28,
     "metadata": {},
     "output_type": "execute_result"
    }
   ],
   "source": [
    "s = Student()\n",
    "s.score = 60\n",
    "s.score"
   ]
  },
  {
   "cell_type": "code",
   "execution_count": 29,
   "metadata": {},
   "outputs": [
    {
     "ename": "ValueError",
     "evalue": "score must between 0 ~ 100!",
     "output_type": "error",
     "traceback": [
      "\u001b[1;31m---------------------------------------------------------------------------\u001b[0m",
      "\u001b[1;31mValueError\u001b[0m                                Traceback (most recent call last)",
      "\u001b[1;32m~\\AppData\\Local\\Temp/ipykernel_19824/1481774815.py\u001b[0m in \u001b[0;36m<module>\u001b[1;34m\u001b[0m\n\u001b[1;32m----> 1\u001b[1;33m \u001b[0ms\u001b[0m\u001b[1;33m.\u001b[0m\u001b[0mscore\u001b[0m \u001b[1;33m=\u001b[0m \u001b[1;36m9999\u001b[0m\u001b[1;33m\u001b[0m\u001b[1;33m\u001b[0m\u001b[0m\n\u001b[0m",
      "\u001b[1;32m~\\AppData\\Local\\Temp/ipykernel_19824/3165759200.py\u001b[0m in \u001b[0;36mscore\u001b[1;34m(self, value)\u001b[0m\n\u001b[0;32m     10\u001b[0m             \u001b[1;32mraise\u001b[0m \u001b[0mValueError\u001b[0m\u001b[1;33m(\u001b[0m\u001b[1;34m'score must be an integer!'\u001b[0m\u001b[1;33m)\u001b[0m\u001b[1;33m\u001b[0m\u001b[1;33m\u001b[0m\u001b[0m\n\u001b[0;32m     11\u001b[0m         \u001b[1;32mif\u001b[0m \u001b[0mvalue\u001b[0m \u001b[1;33m<\u001b[0m \u001b[1;36m0\u001b[0m \u001b[1;32mor\u001b[0m \u001b[0mvalue\u001b[0m \u001b[1;33m>\u001b[0m \u001b[1;36m100\u001b[0m\u001b[1;33m:\u001b[0m\u001b[1;33m\u001b[0m\u001b[1;33m\u001b[0m\u001b[0m\n\u001b[1;32m---> 12\u001b[1;33m             \u001b[1;32mraise\u001b[0m \u001b[0mValueError\u001b[0m\u001b[1;33m(\u001b[0m\u001b[1;34m'score must between 0 ~ 100!'\u001b[0m\u001b[1;33m)\u001b[0m\u001b[1;33m\u001b[0m\u001b[1;33m\u001b[0m\u001b[0m\n\u001b[0m\u001b[0;32m     13\u001b[0m         \u001b[0mself\u001b[0m\u001b[1;33m.\u001b[0m\u001b[0m_score\u001b[0m \u001b[1;33m=\u001b[0m \u001b[0mvalue\u001b[0m\u001b[1;33m\u001b[0m\u001b[1;33m\u001b[0m\u001b[0m\n",
      "\u001b[1;31mValueError\u001b[0m: score must between 0 ~ 100!"
     ]
    }
   ],
   "source": [
    "s.score = 9999"
   ]
  },
  {
   "cell_type": "markdown",
   "metadata": {},
   "source": [
    "## 其他符号\n",
    "\n",
    "- \".\"符号除了取值时用，在from . import XXX中表示sessions当前文件夹里的初始化文件，也就是sessions所在目录下的__init__.py文件；from .. import XXX就是从上级目录里面的__init__.py文件导入XXX。\n",
    "- \"%\"符号除了取余运算外，在字符串的格式化操作中起到占位符的作用。"
   ]
  },
  {
   "cell_type": "code",
   "execution_count": 30,
   "metadata": {
    "pycharm": {
     "name": "#%%\n"
    }
   },
   "outputs": [
    {
     "name": "stdout",
     "output_type": "stream",
     "text": [
      " 2.300\n",
      "        +a\n",
      "-a   \n",
      "pi的值是3.1415\n",
      "pi的值是3.14150000\n",
      "    1.2000\n"
     ]
    }
   ],
   "source": [
    "print(\"%6.3f\" % 2.3) # 6为显示宽度，3为小数点位数，f为浮点数类型，第二个\"%\"后面为显示的内容来源，输出结果右对齐，2.300长度为5，故前面有一空格\n",
    "print(\"%+10x\" % 10) # x为表示16进制，显示宽度为10，前面有8个空格\n",
    "print(\"%-5x\" % -10) #  \"%-5x\" 负号为左对齐，显示宽度为5，故-a后面有3个空格\n",
    "\n",
    "pi=3.1415\n",
    "print (\"pi的值是%s\"%pi)\n",
    "print (\"pi的值是%.8f\"%pi)\n",
    "\n",
    "print(\"%10.*f\" % (4, 1.2))"
   ]
  },
  {
   "cell_type": "markdown",
   "metadata": {},
   "source": [
    "## 类中特殊函数\n",
    "\n",
    "本节记录一些类中特殊函数的作用，主要参考了：[Enriching Your Python Classes With Dunder (Magic, Special) Methods](https://dbader.org/blog/python-dunder-methods#:~:text=In%20Python%2C%20special%20methods%20are,__%20or%20__str__%20.)\n",
    "\n",
    "在Python中，特殊方法是可以用来丰富类的一组预定义方法。它们很容易识别，因为它们以双下划线开头和结尾，例如__init__或__str__。\n",
    "\n",
    "因为说“下划线下划线方法下划线下划线”比较麻烦，所以 Python者 就采用了“Dunder”一词，这是“双重下划线”的简称。\n",
    "\n",
    "Python中的这些“dunders”也称为“magic 方法”。但是使用这种术语可能会使它们看起来比实际复杂得多—因为它们并没有什么“神奇”的东西，应该将这些方法视为正常的语言功能。\n",
    "\n",
    "Dunder方法使您可以模拟内置类型的行为。例如，要获取字符串的长度，可以调用len('string')。但是，空类定义不支持以下行为："
   ]
  },
  {
   "cell_type": "code",
   "execution_count": 31,
   "metadata": {},
   "outputs": [
    {
     "ename": "TypeError",
     "evalue": "object of type 'NoLenSupport' has no len()",
     "output_type": "error",
     "traceback": [
      "\u001b[1;31m---------------------------------------------------------------------------\u001b[0m",
      "\u001b[1;31mTypeError\u001b[0m                                 Traceback (most recent call last)",
      "\u001b[1;32m~\\AppData\\Local\\Temp/ipykernel_19824/4089486749.py\u001b[0m in \u001b[0;36m<module>\u001b[1;34m\u001b[0m\n\u001b[0;32m      3\u001b[0m \u001b[1;33m\u001b[0m\u001b[0m\n\u001b[0;32m      4\u001b[0m \u001b[0mobj\u001b[0m \u001b[1;33m=\u001b[0m \u001b[0mNoLenSupport\u001b[0m\u001b[1;33m(\u001b[0m\u001b[1;33m)\u001b[0m\u001b[1;33m\u001b[0m\u001b[1;33m\u001b[0m\u001b[0m\n\u001b[1;32m----> 5\u001b[1;33m \u001b[0mlen\u001b[0m\u001b[1;33m(\u001b[0m\u001b[0mobj\u001b[0m\u001b[1;33m)\u001b[0m\u001b[1;33m\u001b[0m\u001b[1;33m\u001b[0m\u001b[0m\n\u001b[0m",
      "\u001b[1;31mTypeError\u001b[0m: object of type 'NoLenSupport' has no len()"
     ]
    }
   ],
   "source": [
    "class NoLenSupport:\n",
    "    pass\n",
    "\n",
    "obj = NoLenSupport()\n",
    "len(obj)"
   ]
  },
  {
   "cell_type": "markdown",
   "metadata": {},
   "source": [
    "为了能够使用该方法，可以添加 __len__ 这一dunder 方法："
   ]
  },
  {
   "cell_type": "code",
   "execution_count": 32,
   "metadata": {},
   "outputs": [
    {
     "data": {
      "text/plain": [
       "42"
      ]
     },
     "execution_count": 32,
     "metadata": {},
     "output_type": "execute_result"
    }
   ],
   "source": [
    "class LenSupport:\n",
    "    def __len__(self):\n",
    "        return 42\n",
    "\n",
    "obj = LenSupport()\n",
    "len(obj)"
   ]
  },
  {
   "cell_type": "markdown",
   "metadata": {},
   "source": [
    "另一个比较常见的例子是 slicing，可以通过实现 __getitem__ 方法来使得自己能执行类似这样的切片操作：obj[start:stop].\n",
    "\n",
    "这种优雅的设计被称为Python数据模型，使开发人员可以利用丰富的语言功能，例如序列，迭代，运算符重载，属性访问等。\n",
    "\n",
    "可以将Python的数据模型视为一种强大的API，可以通过实现一个或多个dunder方法来与之交互。如果想编写更多Python风格代码，那么知道如何以及何时使用dunder方法是重要的一步。\n",
    "\n",
    "对于初学者来说，起初可能有点不知所措。本节就以一个简单的Account类为例，记录使用dunder的方法，解锁以下语言功能：\n",
    "\n",
    "- 初始化新对象\n",
    "- 对象表示\n",
    "- 启用迭代\n",
    "- 运算符重载（比较）\n",
    "- 运算符重载（加法）\n",
    "- 方法调用\n",
    "- 上下文管理器支持（with声明）"
   ]
  },
  {
   "cell_type": "markdown",
   "metadata": {},
   "source": [
    "### 对象初始化: __init__\n",
    "\n",
    "这个是最常用的，之前的笔记中也已经提到了，就是初始化类对象"
   ]
  },
  {
   "cell_type": "code",
   "execution_count": 33,
   "metadata": {},
   "outputs": [],
   "source": [
    "class Account:\n",
    "    \"\"\"A simple account class\"\"\"\n",
    "\n",
    "    def __init__(self, owner, amount=0):\n",
    "        \"\"\"\n",
    "        This is the constructor that lets us create\n",
    "        objects from this class\n",
    "        \"\"\"\n",
    "        self.owner = owner\n",
    "        self.amount = amount\n",
    "        self._transactions = []"
   ]
  },
  {
   "cell_type": "code",
   "execution_count": 34,
   "metadata": {},
   "outputs": [],
   "source": [
    "acc = Account('bob')  # default amount = 0\n",
    "acc = Account('bob', 10)"
   ]
  },
  {
   "cell_type": "markdown",
   "metadata": {},
   "source": [
    "### 对象表示: __str__, __repr__\n",
    "\n",
    "在Python中，通常的做法是为类的使用者提供对象的字符串表示形式（有点类似于API文档）使用dunder方法有两种方法可以做到这一点：\n",
    "\n",
    "1. __repr__：对象的“正式”字符串表示形式。这就是使该类成为对象的方式。__repr__ 的目标是明确的。\n",
    "2. __str__：对象的“非正式”或可很好打印的字符串表示形式。这是给最终用户的。\n",
    "\n",
    "让我们在Account类上实现这两个方法："
   ]
  },
  {
   "cell_type": "code",
   "execution_count": 35,
   "metadata": {},
   "outputs": [],
   "source": [
    "class Account:\n",
    "    def __init__(self, owner, amount=0):\n",
    "        \"\"\"\n",
    "        This is the constructor that lets us create\n",
    "        objects from this class\n",
    "        \"\"\"\n",
    "        self.owner = owner\n",
    "        self.amount = amount\n",
    "        self._transactions = []\n",
    "\n",
    "    def __repr__(self):\n",
    "        return 'Account({!r}, {!r})'.format(self.owner, self.amount)\n",
    "\n",
    "    def __str__(self):\n",
    "        return 'Account of {} with starting amount: {}'.format(\n",
    "            self.owner, self.amount)"
   ]
  },
  {
   "cell_type": "markdown",
   "metadata": {},
   "source": [
    "如果不想硬编码\"Account\"用作类的名称，则也可以使用 self.__class__.__name__ 访问。\n",
    "\n",
    "如果只想在Python类上实现这两个to-string方法之一，请确保它是__repr__。\n",
    "\n",
    "现在，可以通过多种方式查询对象，并且始终获得漂亮的字符串表示形式："
   ]
  },
  {
   "cell_type": "code",
   "execution_count": 36,
   "metadata": {},
   "outputs": [],
   "source": [
    "acc = Account('bob', 10)"
   ]
  },
  {
   "cell_type": "code",
   "execution_count": 37,
   "metadata": {},
   "outputs": [
    {
     "data": {
      "text/plain": [
       "'Account of bob with starting amount: 10'"
      ]
     },
     "execution_count": 37,
     "metadata": {},
     "output_type": "execute_result"
    }
   ],
   "source": [
    "str(acc)"
   ]
  },
  {
   "cell_type": "code",
   "execution_count": 38,
   "metadata": {},
   "outputs": [
    {
     "name": "stdout",
     "output_type": "stream",
     "text": [
      "Account of bob with starting amount: 10\n"
     ]
    }
   ],
   "source": [
    "print(acc)"
   ]
  },
  {
   "cell_type": "code",
   "execution_count": 39,
   "metadata": {},
   "outputs": [
    {
     "data": {
      "text/plain": [
       "\"Account('bob', 10)\""
      ]
     },
     "execution_count": 39,
     "metadata": {},
     "output_type": "execute_result"
    }
   ],
   "source": [
    "repr(acc)"
   ]
  },
  {
   "cell_type": "markdown",
   "metadata": {},
   "source": [
    "### 迭代：__len__，__getitem__，__reversed__\n",
    "\n",
    "为了遍历对象，需要添加一些交易。因此，首先，定义一个简单的方法来添加事务："
   ]
  },
  {
   "cell_type": "code",
   "execution_count": 40,
   "metadata": {},
   "outputs": [],
   "source": [
    "class Account:\n",
    "    def __init__(self, owner, amount=0):\n",
    "        \"\"\"\n",
    "        This is the constructor that lets us create\n",
    "        objects from this class\n",
    "        \"\"\"\n",
    "        self.owner = owner\n",
    "        self.amount = amount\n",
    "        self._transactions = []\n",
    "\n",
    "    def __repr__(self):\n",
    "        return 'Account({!r}, {!r})'.format(self.owner, self.amount)\n",
    "\n",
    "    def __str__(self):\n",
    "        return 'Account of {} with starting amount: {}'.format(\n",
    "            self.owner, self.amount)\n",
    "    def add_transaction(self, amount):\n",
    "        if not isinstance(amount, int):\n",
    "            raise ValueError('please use int for amount')\n",
    "        self._transactions.append(amount)\n",
    "    \n",
    "    @property\n",
    "    def balance(self):\n",
    "        return self.amount + sum(self._transactions)"
   ]
  },
  {
   "cell_type": "markdown",
   "metadata": {},
   "source": [
    "还定义了一个属性来计算帐户的余额，因此可以方便地使用account.balance。此方法采用起始金额，并添加所有事务的总和。\n",
    "\n",
    "现在在该帐户上进行一些存款和取款："
   ]
  },
  {
   "cell_type": "code",
   "execution_count": 41,
   "metadata": {},
   "outputs": [],
   "source": [
    "acc = Account('bob', 10)\n",
    "acc.add_transaction(20)\n",
    "acc.add_transaction(-10)\n",
    "acc.add_transaction(50)\n",
    "acc.add_transaction(-20)\n",
    "acc.add_transaction(30)"
   ]
  },
  {
   "cell_type": "code",
   "execution_count": 42,
   "metadata": {},
   "outputs": [
    {
     "data": {
      "text/plain": [
       "80"
      ]
     },
     "execution_count": 42,
     "metadata": {},
     "output_type": "execute_result"
    }
   ],
   "source": [
    "acc.balance"
   ]
  },
  {
   "cell_type": "markdown",
   "metadata": {},
   "source": [
    "现在我有一些数据，我想知道：\n",
    "\n",
    "1. 那里有几笔交易？\n",
    "2. 为帐户对象编制索引以获取交易号…\n",
    "3. 循环交易\n",
    "\n",
    "使用类定义，我目前无法做到这一点。以下所有语句均引发TypeError异常："
   ]
  },
  {
   "cell_type": "code",
   "execution_count": 43,
   "metadata": {},
   "outputs": [
    {
     "ename": "TypeError",
     "evalue": "object of type 'Account' has no len()",
     "output_type": "error",
     "traceback": [
      "\u001b[1;31m---------------------------------------------------------------------------\u001b[0m",
      "\u001b[1;31mTypeError\u001b[0m                                 Traceback (most recent call last)",
      "\u001b[1;32m~\\AppData\\Local\\Temp/ipykernel_19824/2114563243.py\u001b[0m in \u001b[0;36m<module>\u001b[1;34m\u001b[0m\n\u001b[1;32m----> 1\u001b[1;33m \u001b[0mlen\u001b[0m\u001b[1;33m(\u001b[0m\u001b[0macc\u001b[0m\u001b[1;33m)\u001b[0m\u001b[1;33m\u001b[0m\u001b[1;33m\u001b[0m\u001b[0m\n\u001b[0m",
      "\u001b[1;31mTypeError\u001b[0m: object of type 'Account' has no len()"
     ]
    }
   ],
   "source": [
    "len(acc)"
   ]
  },
  {
   "cell_type": "code",
   "execution_count": 44,
   "metadata": {},
   "outputs": [
    {
     "ename": "TypeError",
     "evalue": "'Account' object is not iterable",
     "output_type": "error",
     "traceback": [
      "\u001b[1;31m---------------------------------------------------------------------------\u001b[0m",
      "\u001b[1;31mTypeError\u001b[0m                                 Traceback (most recent call last)",
      "\u001b[1;32m~\\AppData\\Local\\Temp/ipykernel_19824/3878688383.py\u001b[0m in \u001b[0;36m<module>\u001b[1;34m\u001b[0m\n\u001b[1;32m----> 1\u001b[1;33m \u001b[1;32mfor\u001b[0m \u001b[0mt\u001b[0m \u001b[1;32min\u001b[0m \u001b[0macc\u001b[0m\u001b[1;33m:\u001b[0m\u001b[1;33m\u001b[0m\u001b[1;33m\u001b[0m\u001b[0m\n\u001b[0m\u001b[0;32m      2\u001b[0m     \u001b[0mprint\u001b[0m\u001b[1;33m(\u001b[0m\u001b[0mt\u001b[0m\u001b[1;33m)\u001b[0m\u001b[1;33m\u001b[0m\u001b[1;33m\u001b[0m\u001b[0m\n",
      "\u001b[1;31mTypeError\u001b[0m: 'Account' object is not iterable"
     ]
    }
   ],
   "source": [
    "for t in acc:\n",
    "    print(t)"
   ]
  },
  {
   "cell_type": "code",
   "execution_count": 45,
   "metadata": {},
   "outputs": [
    {
     "ename": "TypeError",
     "evalue": "'Account' object is not subscriptable",
     "output_type": "error",
     "traceback": [
      "\u001b[1;31m---------------------------------------------------------------------------\u001b[0m",
      "\u001b[1;31mTypeError\u001b[0m                                 Traceback (most recent call last)",
      "\u001b[1;32m~\\AppData\\Local\\Temp/ipykernel_19824/3388334457.py\u001b[0m in \u001b[0;36m<module>\u001b[1;34m\u001b[0m\n\u001b[1;32m----> 1\u001b[1;33m \u001b[0macc\u001b[0m\u001b[1;33m[\u001b[0m\u001b[1;36m1\u001b[0m\u001b[1;33m]\u001b[0m\u001b[1;33m\u001b[0m\u001b[1;33m\u001b[0m\u001b[0m\n\u001b[0m",
      "\u001b[1;31mTypeError\u001b[0m: 'Account' object is not subscriptable"
     ]
    }
   ],
   "source": [
    "acc[1]"
   ]
  },
  {
   "cell_type": "markdown",
   "metadata": {},
   "source": [
    "利用dunder方法，只需要一点代码就可以使该类可迭代："
   ]
  },
  {
   "cell_type": "code",
   "execution_count": 46,
   "metadata": {},
   "outputs": [],
   "source": [
    "class Account:\n",
    "    def __init__(self, owner, amount=0):\n",
    "        \"\"\"\n",
    "        This is the constructor that lets us create\n",
    "        objects from this class\n",
    "        \"\"\"\n",
    "        self.owner = owner\n",
    "        self.amount = amount\n",
    "        self._transactions = []\n",
    "\n",
    "    def __repr__(self):\n",
    "        return 'Account({!r}, {!r})'.format(self.owner, self.amount)\n",
    "\n",
    "    def __str__(self):\n",
    "        return 'Account of {} with starting amount: {}'.format(\n",
    "            self.owner, self.amount)\n",
    "    def add_transaction(self, amount):\n",
    "        if not isinstance(amount, int):\n",
    "            raise ValueError('please use int for amount')\n",
    "        self._transactions.append(amount)\n",
    "    \n",
    "    @property\n",
    "    def balance(self):\n",
    "        return self.amount + sum(self._transactions)\n",
    "    \n",
    "    def __len__(self):\n",
    "        return len(self._transactions)\n",
    "\n",
    "    def __getitem__(self, position):\n",
    "        return self._transactions[position]"
   ]
  },
  {
   "cell_type": "code",
   "execution_count": 47,
   "metadata": {},
   "outputs": [
    {
     "data": {
      "text/plain": [
       "80"
      ]
     },
     "execution_count": 47,
     "metadata": {},
     "output_type": "execute_result"
    }
   ],
   "source": [
    "acc = Account('bob', 10)\n",
    "acc.add_transaction(20)\n",
    "acc.add_transaction(-10)\n",
    "acc.add_transaction(50)\n",
    "acc.add_transaction(-20)\n",
    "acc.add_transaction(30)\n",
    "acc.balance"
   ]
  },
  {
   "cell_type": "markdown",
   "metadata": {},
   "source": [
    "现在再执行前面报错的语句："
   ]
  },
  {
   "cell_type": "code",
   "execution_count": 48,
   "metadata": {},
   "outputs": [
    {
     "data": {
      "text/plain": [
       "5"
      ]
     },
     "execution_count": 48,
     "metadata": {},
     "output_type": "execute_result"
    }
   ],
   "source": [
    "len(acc)"
   ]
  },
  {
   "cell_type": "code",
   "execution_count": 49,
   "metadata": {},
   "outputs": [
    {
     "name": "stdout",
     "output_type": "stream",
     "text": [
      "20\n",
      "-10\n",
      "50\n",
      "-20\n",
      "30\n"
     ]
    }
   ],
   "source": [
    "for t in acc:\n",
    "    print(t)"
   ]
  },
  {
   "cell_type": "code",
   "execution_count": 50,
   "metadata": {},
   "outputs": [
    {
     "data": {
      "text/plain": [
       "-10"
      ]
     },
     "execution_count": 50,
     "metadata": {},
     "output_type": "execute_result"
    }
   ],
   "source": [
    "acc[1]"
   ]
  },
  {
   "cell_type": "markdown",
   "metadata": {},
   "source": [
    "要以相反的顺序遍历，可以实现__reversed__特殊的方法："
   ]
  },
  {
   "cell_type": "code",
   "execution_count": 51,
   "metadata": {},
   "outputs": [
    {
     "data": {
      "text/plain": [
       "[30, -20, 50, -10, 20]"
      ]
     },
     "execution_count": 51,
     "metadata": {},
     "output_type": "execute_result"
    }
   ],
   "source": [
    "class Account:\n",
    "    def __init__(self, owner, amount=0):\n",
    "        \"\"\"\n",
    "        This is the constructor that lets us create\n",
    "        objects from this class\n",
    "        \"\"\"\n",
    "        self.owner = owner\n",
    "        self.amount = amount\n",
    "        self._transactions = []\n",
    "\n",
    "    def __repr__(self):\n",
    "        return 'Account({!r}, {!r})'.format(self.owner, self.amount)\n",
    "\n",
    "    def __str__(self):\n",
    "        return 'Account of {} with starting amount: {}'.format(\n",
    "            self.owner, self.amount)\n",
    "    def add_transaction(self, amount):\n",
    "        if not isinstance(amount, int):\n",
    "            raise ValueError('please use int for amount')\n",
    "        self._transactions.append(amount)\n",
    "    \n",
    "    @property\n",
    "    def balance(self):\n",
    "        return self.amount + sum(self._transactions)\n",
    "    \n",
    "    def __len__(self):\n",
    "        return len(self._transactions)\n",
    "\n",
    "    def __getitem__(self, position):\n",
    "        return self._transactions[position]\n",
    "    \n",
    "    def __reversed__(self):\n",
    "        return self[::-1]\n",
    "    \n",
    "acc = Account('bob', 10)\n",
    "acc.add_transaction(20)\n",
    "acc.add_transaction(-10)\n",
    "acc.add_transaction(50)\n",
    "acc.add_transaction(-20)\n",
    "acc.add_transaction(30)\n",
    "list(reversed(acc))"
   ]
  },
  {
   "cell_type": "markdown",
   "metadata": {},
   "source": [
    "### 重载运算符来比较: __eq__, __lt__"
   ]
  },
  {
   "cell_type": "code",
   "execution_count": 52,
   "metadata": {},
   "outputs": [
    {
     "data": {
      "text/plain": [
       "True"
      ]
     },
     "execution_count": 52,
     "metadata": {},
     "output_type": "execute_result"
    }
   ],
   "source": [
    "2 > 1"
   ]
  },
  {
   "cell_type": "code",
   "execution_count": 53,
   "metadata": {},
   "outputs": [
    {
     "data": {
      "text/plain": [
       "False"
      ]
     },
     "execution_count": 53,
     "metadata": {},
     "output_type": "execute_result"
    }
   ],
   "source": [
    "'a' > 'b'"
   ]
  },
  {
   "cell_type": "markdown",
   "metadata": {},
   "source": [
    "这感觉很自然，但是实际上幕后发生的事情是令人惊讶的。为什么>在整数，字符串和其他对象（只要它们是相同的类型）上同样能很好地工作？ -- 因为这些对象实现了一个或多个比较dunder方法。\n",
    "\n",
    "一种简单的验证方法是使用dir()内置函数："
   ]
  },
  {
   "cell_type": "code",
   "execution_count": 54,
   "metadata": {},
   "outputs": [
    {
     "data": {
      "text/plain": [
       "['__add__',\n",
       " '__class__',\n",
       " '__contains__',\n",
       " '__delattr__',\n",
       " '__dir__',\n",
       " '__doc__',\n",
       " '__eq__',\n",
       " '__format__',\n",
       " '__ge__',\n",
       " '__getattribute__',\n",
       " '__getitem__',\n",
       " '__getnewargs__',\n",
       " '__gt__',\n",
       " '__hash__',\n",
       " '__init__',\n",
       " '__init_subclass__',\n",
       " '__iter__',\n",
       " '__le__',\n",
       " '__len__',\n",
       " '__lt__',\n",
       " '__mod__',\n",
       " '__mul__',\n",
       " '__ne__',\n",
       " '__new__',\n",
       " '__reduce__',\n",
       " '__reduce_ex__',\n",
       " '__repr__',\n",
       " '__rmod__',\n",
       " '__rmul__',\n",
       " '__setattr__',\n",
       " '__sizeof__',\n",
       " '__str__',\n",
       " '__subclasshook__',\n",
       " 'capitalize',\n",
       " 'casefold',\n",
       " 'center',\n",
       " 'count',\n",
       " 'encode',\n",
       " 'endswith',\n",
       " 'expandtabs',\n",
       " 'find',\n",
       " 'format',\n",
       " 'format_map',\n",
       " 'index',\n",
       " 'isalnum',\n",
       " 'isalpha',\n",
       " 'isascii',\n",
       " 'isdecimal',\n",
       " 'isdigit',\n",
       " 'isidentifier',\n",
       " 'islower',\n",
       " 'isnumeric',\n",
       " 'isprintable',\n",
       " 'isspace',\n",
       " 'istitle',\n",
       " 'isupper',\n",
       " 'join',\n",
       " 'ljust',\n",
       " 'lower',\n",
       " 'lstrip',\n",
       " 'maketrans',\n",
       " 'partition',\n",
       " 'removeprefix',\n",
       " 'removesuffix',\n",
       " 'replace',\n",
       " 'rfind',\n",
       " 'rindex',\n",
       " 'rjust',\n",
       " 'rpartition',\n",
       " 'rsplit',\n",
       " 'rstrip',\n",
       " 'split',\n",
       " 'splitlines',\n",
       " 'startswith',\n",
       " 'strip',\n",
       " 'swapcase',\n",
       " 'title',\n",
       " 'translate',\n",
       " 'upper',\n",
       " 'zfill']"
      ]
     },
     "execution_count": 54,
     "metadata": {},
     "output_type": "execute_result"
    }
   ],
   "source": [
    "dir('A')"
   ]
  },
  {
   "cell_type": "markdown",
   "metadata": {},
   "source": [
    "现在添加比较函数。为了不必实现所有比较dunder方法，使用functools.total_ordering装饰器，该装饰器允许仅实现__eq__和__lt__："
   ]
  },
  {
   "cell_type": "code",
   "execution_count": 55,
   "metadata": {},
   "outputs": [],
   "source": [
    "from functools import total_ordering\n",
    "\n",
    "@total_ordering\n",
    "class Account:\n",
    "    def __init__(self, owner, amount=0):\n",
    "        \"\"\"\n",
    "        This is the constructor that lets us create\n",
    "        objects from this class\n",
    "        \"\"\"\n",
    "        self.owner = owner\n",
    "        self.amount = amount\n",
    "        self._transactions = []\n",
    "\n",
    "    def __repr__(self):\n",
    "        return 'Account({!r}, {!r})'.format(self.owner, self.amount)\n",
    "\n",
    "    def __str__(self):\n",
    "        return 'Account of {} with starting amount: {}'.format(\n",
    "            self.owner, self.amount)\n",
    "    def add_transaction(self, amount):\n",
    "        if not isinstance(amount, int):\n",
    "            raise ValueError('please use int for amount')\n",
    "        self._transactions.append(amount)\n",
    "    \n",
    "    @property\n",
    "    def balance(self):\n",
    "        return self.amount + sum(self._transactions)\n",
    "    \n",
    "    def __len__(self):\n",
    "        return len(self._transactions)\n",
    "\n",
    "    def __getitem__(self, position):\n",
    "        return self._transactions[position]\n",
    "    \n",
    "    def __reversed__(self):\n",
    "        return self[::-1]\n",
    "\n",
    "    def __eq__(self, other):\n",
    "        return self.balance == other.balance\n",
    "\n",
    "    def __lt__(self, other):\n",
    "        return self.balance < other.balance"
   ]
  },
  {
   "cell_type": "code",
   "execution_count": 56,
   "metadata": {},
   "outputs": [
    {
     "data": {
      "text/plain": [
       "True"
      ]
     },
     "execution_count": 56,
     "metadata": {},
     "output_type": "execute_result"
    }
   ],
   "source": [
    "acc = Account('bob', 10)\n",
    "acc.add_transaction(20)\n",
    "acc.add_transaction(-10)\n",
    "acc.add_transaction(50)\n",
    "acc.add_transaction(-20)\n",
    "acc.add_transaction(30)\n",
    "acc.balance\n",
    "\n",
    "acc2 = Account('tim', 100)\n",
    "acc2.add_transaction(20)\n",
    "acc2.add_transaction(40)\n",
    "acc2.balance\n",
    "\n",
    "acc2 > acc"
   ]
  },
  {
   "cell_type": "markdown",
   "metadata": {},
   "source": [
    "### 重载： __add__\n",
    "\n",
    "在Python中，一切都是对象。我们完全可以使用+（plus）运算符添加两个整数或两个字符串，可以重载该运算符"
   ]
  },
  {
   "cell_type": "code",
   "execution_count": 57,
   "metadata": {},
   "outputs": [],
   "source": [
    "from functools import total_ordering\n",
    "\n",
    "@total_ordering\n",
    "class Account:\n",
    "    def __init__(self, owner, amount=0):\n",
    "        \"\"\"\n",
    "        This is the constructor that lets us create\n",
    "        objects from this class\n",
    "        \"\"\"\n",
    "        self.owner = owner\n",
    "        self.amount = amount\n",
    "        self._transactions = []\n",
    "\n",
    "    def __repr__(self):\n",
    "        return 'Account({!r}, {!r})'.format(self.owner, self.amount)\n",
    "\n",
    "    def __str__(self):\n",
    "        return 'Account of {} with starting amount: {}'.format(\n",
    "            self.owner, self.amount)\n",
    "    def add_transaction(self, amount):\n",
    "        if not isinstance(amount, int):\n",
    "            raise ValueError('please use int for amount')\n",
    "        self._transactions.append(amount)\n",
    "    \n",
    "    @property\n",
    "    def balance(self):\n",
    "        return self.amount + sum(self._transactions)\n",
    "    \n",
    "    def __len__(self):\n",
    "        return len(self._transactions)\n",
    "\n",
    "    def __getitem__(self, position):\n",
    "        return self._transactions[position]\n",
    "    \n",
    "    def __reversed__(self):\n",
    "        return self[::-1]\n",
    "\n",
    "    def __eq__(self, other):\n",
    "        return self.balance == other.balance\n",
    "\n",
    "    def __lt__(self, other):\n",
    "        return self.balance < other.balance\n",
    "    \n",
    "    def __add__(self, other):\n",
    "        owner = self.owner + other.owner\n",
    "        start_amount = self.balance + other.balance\n",
    "        return Account(owner, start_amount)"
   ]
  },
  {
   "cell_type": "code",
   "execution_count": 58,
   "metadata": {},
   "outputs": [
    {
     "data": {
      "text/plain": [
       "Account('timbob', 240)"
      ]
     },
     "execution_count": 58,
     "metadata": {},
     "output_type": "execute_result"
    }
   ],
   "source": [
    "acc = Account('bob', 10)\n",
    "acc.add_transaction(20)\n",
    "acc.add_transaction(-10)\n",
    "acc.add_transaction(50)\n",
    "acc.add_transaction(-20)\n",
    "acc.add_transaction(30)\n",
    "acc.balance\n",
    "\n",
    "acc2 = Account('tim', 100)\n",
    "acc2.add_transaction(20)\n",
    "acc2.add_transaction(40)\n",
    "acc2.balance\n",
    "\n",
    "acc3 = acc2 + acc\n",
    "acc3"
   ]
  },
  {
   "cell_type": "markdown",
   "metadata": {},
   "source": [
    "### 可调用的Python对象： __call__\n",
    "\n",
    "通过添加__call__ dunder方法，可以使对象像常规函数一样可调用。对于我们的帐户类，我们可以打印一个组成其余额的所有交易的漂亮报告："
   ]
  },
  {
   "cell_type": "code",
   "execution_count": 59,
   "metadata": {},
   "outputs": [],
   "source": [
    "from functools import total_ordering\n",
    "\n",
    "@total_ordering\n",
    "class Account:\n",
    "    def __init__(self, owner, amount=0):\n",
    "        \"\"\"\n",
    "        This is the constructor that lets us create\n",
    "        objects from this class\n",
    "        \"\"\"\n",
    "        self.owner = owner\n",
    "        self.amount = amount\n",
    "        self._transactions = []\n",
    "\n",
    "    def __repr__(self):\n",
    "        return 'Account({!r}, {!r})'.format(self.owner, self.amount)\n",
    "\n",
    "    def __str__(self):\n",
    "        return 'Account of {} with starting amount: {}'.format(\n",
    "            self.owner, self.amount)\n",
    "    def add_transaction(self, amount):\n",
    "        if not isinstance(amount, int):\n",
    "            raise ValueError('please use int for amount')\n",
    "        self._transactions.append(amount)\n",
    "    \n",
    "    @property\n",
    "    def balance(self):\n",
    "        return self.amount + sum(self._transactions)\n",
    "    \n",
    "    def __len__(self):\n",
    "        return len(self._transactions)\n",
    "\n",
    "    def __getitem__(self, position):\n",
    "        return self._transactions[position]\n",
    "    \n",
    "    def __reversed__(self):\n",
    "        return self[::-1]\n",
    "\n",
    "    def __eq__(self, other):\n",
    "        return self.balance == other.balance\n",
    "\n",
    "    def __lt__(self, other):\n",
    "        return self.balance < other.balance\n",
    "    \n",
    "    def __add__(self, other):\n",
    "        owner = self.owner + other.owner\n",
    "        start_amount = self.balance + other.balance\n",
    "        return Account(owner, start_amount)\n",
    "    \n",
    "    def __call__(self):\n",
    "        print('Start amount: {}'.format(self.amount))\n",
    "        print('Transactions: ')\n",
    "        for transaction in self:\n",
    "            print(transaction)\n",
    "        print('\\nBalance: {}'.format(self.balance))"
   ]
  },
  {
   "cell_type": "code",
   "execution_count": 60,
   "metadata": {},
   "outputs": [
    {
     "name": "stdout",
     "output_type": "stream",
     "text": [
      "Start amount: 10\n",
      "Transactions: \n",
      "20\n",
      "-10\n",
      "50\n",
      "-20\n",
      "30\n",
      "\n",
      "Balance: 80\n"
     ]
    }
   ],
   "source": [
    "acc = Account('bob', 10)\n",
    "acc.add_transaction(20)\n",
    "acc.add_transaction(-10)\n",
    "acc.add_transaction(50)\n",
    "acc.add_transaction(-20)\n",
    "acc.add_transaction(30)\n",
    "acc()"
   ]
  },
  {
   "cell_type": "markdown",
   "metadata": {},
   "source": [
    "### 上下文管理支持和With声明：__enter__，__exit__\n",
    "\n",
    "这里展示的最后一个示例是有关Python的一个稍微高级的概念：上下文管理器，并增加了对该with语句的支持。\n",
    "\n",
    "Python中的“上下文管理器”是什么？\n",
    "\n",
    "上下文管理器是对象需要遵循的简单“协议”（或接口），因此可以与with语句一起使用。基本上，如果您希望对象充当上下文管理器，则只需为对象添加__enter__和__exit__方法。\n",
    "\n",
    "让我们使用上下文管理器支持将回滚机制添加到我们的Account类中。如果余额在添加另一笔交易后变为负数，我们将回滚到先前的状态。"
   ]
  },
  {
   "cell_type": "code",
   "execution_count": 61,
   "metadata": {},
   "outputs": [],
   "source": [
    "from functools import total_ordering\n",
    "\n",
    "@total_ordering\n",
    "class Account:\n",
    "    def __init__(self, owner, amount=0):\n",
    "        \"\"\"\n",
    "        This is the constructor that lets us create\n",
    "        objects from this class\n",
    "        \"\"\"\n",
    "        self.owner = owner\n",
    "        self.amount = amount\n",
    "        self._transactions = []\n",
    "\n",
    "    def __repr__(self):\n",
    "        return 'Account({!r}, {!r})'.format(self.owner, self.amount)\n",
    "\n",
    "    def __str__(self):\n",
    "        return 'Account of {} with starting amount: {}'.format(\n",
    "            self.owner, self.amount)\n",
    "    def add_transaction(self, amount):\n",
    "        if not isinstance(amount, int):\n",
    "            raise ValueError('please use int for amount')\n",
    "        self._transactions.append(amount)\n",
    "    \n",
    "    @property\n",
    "    def balance(self):\n",
    "        return self.amount + sum(self._transactions)\n",
    "    \n",
    "    def __len__(self):\n",
    "        return len(self._transactions)\n",
    "\n",
    "    def __getitem__(self, position):\n",
    "        return self._transactions[position]\n",
    "    \n",
    "    def __reversed__(self):\n",
    "        return self[::-1]\n",
    "\n",
    "    def __eq__(self, other):\n",
    "        return self.balance == other.balance\n",
    "\n",
    "    def __lt__(self, other):\n",
    "        return self.balance < other.balance\n",
    "    \n",
    "    def __add__(self, other):\n",
    "        owner = self.owner + other.owner\n",
    "        start_amount = self.balance + other.balance\n",
    "        return Account(owner, start_amount)\n",
    "    \n",
    "    def __call__(self):\n",
    "        print('Start amount: {}'.format(self.amount))\n",
    "        print('Transactions: ')\n",
    "        for transaction in self:\n",
    "            print(transaction)\n",
    "        print('\\nBalance: {}'.format(self.balance))\n",
    "        \n",
    "    def __enter__(self):\n",
    "        print('ENTER WITH: Making backup of transactions for rollback')\n",
    "        self._copy_transactions = list(self._transactions)\n",
    "        return self\n",
    "\n",
    "    def __exit__(self, exc_type, exc_val, exc_tb):\n",
    "        print('EXIT WITH:', end=' ')\n",
    "        if exc_type:\n",
    "            self._transactions = self._copy_transactions\n",
    "            print('Rolling back to previous transactions')\n",
    "            print('Transaction resulted in {} ({})'.format(\n",
    "                exc_type.__name__, exc_val))\n",
    "        else:\n",
    "            print('Transaction OK')"
   ]
  },
  {
   "cell_type": "code",
   "execution_count": 62,
   "metadata": {},
   "outputs": [],
   "source": [
    "def validate_transaction(acc, amount_to_add):\n",
    "    with acc as a:\n",
    "        print('Adding {} to account'.format(amount_to_add))\n",
    "        a.add_transaction(amount_to_add)\n",
    "        print('New balance would be: {}'.format(a.balance))\n",
    "        if a.balance < 0:\n",
    "            raise ValueError('sorry cannot go in debt!')"
   ]
  },
  {
   "cell_type": "code",
   "execution_count": 63,
   "metadata": {},
   "outputs": [
    {
     "name": "stdout",
     "output_type": "stream",
     "text": [
      "\n",
      "Balance start: 10\n",
      "ENTER WITH: Making backup of transactions for rollback\n",
      "Adding 20 to account\n",
      "New balance would be: 30\n",
      "EXIT WITH: Transaction OK\n",
      "\n",
      "Balance end: 30\n"
     ]
    }
   ],
   "source": [
    "acc4 = Account('sue', 10)\n",
    "\n",
    "print('\\nBalance start: {}'.format(acc4.balance))\n",
    "validate_transaction(acc4, 20)\n",
    "\n",
    "print('\\nBalance end: {}'.format(acc4.balance))"
   ]
  },
  {
   "cell_type": "code",
   "execution_count": 64,
   "metadata": {},
   "outputs": [
    {
     "name": "stdout",
     "output_type": "stream",
     "text": [
      "\n",
      "Balance start: 10\n",
      "ENTER WITH: Making backup of transactions for rollback\n",
      "Adding -50 to account\n",
      "New balance would be: -40\n",
      "EXIT WITH: Rolling back to previous transactions\n",
      "Transaction resulted in ValueError (sorry cannot go in debt!)\n",
      "sorry cannot go in debt!\n",
      "\n",
      "Balance end: 10\n"
     ]
    }
   ],
   "source": [
    "acc4 = Account('sue', 10)\n",
    "\n",
    "print('\\nBalance start: {}'.format(acc4.balance))\n",
    "try:\n",
    "    validate_transaction(acc4, -50)\n",
    "except ValueError as exc:\n",
    "    print(exc)\n",
    "\n",
    "print('\\nBalance end: {}'.format(acc4.balance))"
   ]
  },
  {
   "cell_type": "markdown",
   "metadata": {},
   "source": [
    "了解 dunder 方法可以帮助写出更加python风格的代码。但是dunder方法比较多，可以根据自己需要看情况来运用。"
   ]
  },
  {
   "cell_type": "markdown",
   "metadata": {},
   "source": [
    "## Side Effects\n",
    "\n",
    "主要参考：[What is a side-effect of a function in Python?](https://dev.to/dev0928/what-is-a-side-effect-of-a-function-in-python-36ei#:~:text=A%20function%20is%20said%20to,gets%20updated%20within%20the%20function.)\n",
    "\n",
    "任何有意义的函数或过程都需要其调用环境中的某种数据才能产生有意义的结果。如果发送到函数的数据在函数内发生变化，会出现什么情况？我们说一个函数有side-effect，即副作用，就是当在函数内，给的数据或任何其他比如全局变量所提供的值被更新。\n",
    "\n",
    "从一些基本术语开始，然后再尝试进一步解释Python中的副作用。\n",
    "\n",
    "什么是parameters？\n",
    "\n",
    "作为输入传递给函数的数据称为参数。以下函数中的num1和num2是参数。"
   ]
  },
  {
   "cell_type": "code",
   "execution_count": 65,
   "metadata": {},
   "outputs": [],
   "source": [
    "def my_sum(num1, num2):\n",
    "    return num1 + num2"
   ]
  },
  {
   "cell_type": "markdown",
   "metadata": {},
   "source": [
    "什么是arguments？\n",
    "\n",
    "函数调用期间提供的值称为arguments。因此，以下函数调用中的val1和val2是参数。尽管这俩术语经常被互换使用，中文也都翻译成参数，不过更准确地说，parameter是函数内参数，而argument是传递给函数的参数。"
   ]
  },
  {
   "cell_type": "code",
   "execution_count": 66,
   "metadata": {},
   "outputs": [],
   "source": [
    "val1 = 10\n",
    "val2 = 20\n",
    "ans = my_sum(val1,val2)"
   ]
  },
  {
   "cell_type": "markdown",
   "metadata": {},
   "source": [
    "通过值和引用传递参数是什么？\n",
    "\n",
    "如果在对提供的参数的函数调用期间创建了新的参数副本，则认为参数是通过value传递的。如果将相同变量的引用传递给函数，则参数由reference传递。\n",
    "\n",
    "在Python中,参数是通过值传递还是通过引用传递？\n",
    "\n",
    "Python通过在函数调用期间共享对象引用来传递参数。使用下面的函数示例检查Python的行为："
   ]
  },
  {
   "cell_type": "code",
   "execution_count": 67,
   "metadata": {},
   "outputs": [
    {
     "name": "stdout",
     "output_type": "stream",
     "text": [
      "before function call - num = 10, id = 2173715901008\n",
      "x = 10, id = 2173715901008\n",
      "x = 55, id = 2173716090928\n",
      "after function call - num = 10, id = 2173715901008\n"
     ]
    }
   ],
   "source": [
    "def ref_copy_demo(x):\n",
    "    print(f\"x = {x}, id = {id(x)}\")\n",
    "    x += 45\n",
    "    print(f\"x = {x}, id = {id(x)}\")\n",
    "\n",
    "\n",
    "num = 10\n",
    "print(f\"before function call - num = {num}, id = {id(num)}\") \n",
    "ref_copy_demo(num)\n",
    "print(f\"after function call - num = {num}, id = {id(num)}\")"
   ]
  },
  {
   "cell_type": "markdown",
   "metadata": {},
   "source": [
    "这是上述函数调用的说明：\n",
    "\n",
    "![](pictures/6056x8a7rwk1hv9h4oot.png)\n",
    "\n",
    "分析函数调用及其输出：\n",
    "\n",
    "- 在上面的调用中使用了id函数来获取对象的标识值。id函数返回一个整数，该整数在此对象的生存期内是唯一且恒定的。它有助于我们跟踪对象是否通过是引用传递给函数的。\n",
    "- 请注意，对于变量值更改前后传递的参数，id值已更改。\n",
    "- 这意味着直到parameter值没有变化时，函数内部的parameter 还与argument 保持相同。Python保留argument 的引用传递。但是，一旦 parameter 被更新，parameter 的本地副本就会被保留，而argument的值将保持不变。\n",
    "\n",
    "什么是副作用？\n",
    "\n",
    "如果函数更改了函数定义之外的任何内容（例如更改传递给函数的参数或更改全局变量），则称其具有副作用。例如："
   ]
  },
  {
   "cell_type": "code",
   "execution_count": 68,
   "metadata": {},
   "outputs": [
    {
     "name": "stdout",
     "output_type": "stream",
     "text": [
      "Fruits List before function call - ['apple', 'orange'] id - 2173789222016\n",
      "Fruits before change - ['apple', 'orange'] id - 2173789222016\n",
      "Fruits after change - ['apple', 'orange', 'pear', 'banana'] id - 2173789222016\n",
      "Fruits List after function call - ['apple', 'orange', 'pear', 'banana'] id - 2173789222016\n"
     ]
    }
   ],
   "source": [
    "def fn_side_effects(fruits):\n",
    "    print(f\"Fruits before change - {fruits} id - {id(fruits)}\")\n",
    "    fruits += [\"pear\", \"banana\"]\n",
    "    print(f\"Fruits after change - {fruits} id - {id(fruits)}\")\n",
    "\n",
    "fruit_list = [\"apple\", \"orange\"]\n",
    "print(f\"Fruits List before function call - {fruit_list} id - {id(fruit_list)}\")\n",
    "fn_side_effects(fruit_list)\n",
    "print(f\"Fruits List after function call - {fruit_list} id - {id(fruit_list)}\")"
   ]
  },
  {
   "cell_type": "markdown",
   "metadata": {},
   "source": [
    "因此，由于以下原因，此功能显然具有副作用：\n",
    "\n",
    "- ID值 argument 和parameter 完全相同。\n",
    "- 但在函数调用之后，Argument 中已添加了其他值。\n",
    "\n",
    "如何创建没有副作用的类似功能？"
   ]
  },
  {
   "cell_type": "code",
   "execution_count": 69,
   "metadata": {},
   "outputs": [
    {
     "name": "stdout",
     "output_type": "stream",
     "text": [
      "Fruits List before function call - ['apple', 'orange'] id - 2173789218496\n",
      "Fruits before change - ['apple', 'orange'] id - 2173789218496\n",
      "Fruits after change - ['apple', 'orange', 'pear', 'banana'] id - 2173789222016\n",
      "Fruits List after function call - ['apple', 'orange'] id - 2173789218496\n"
     ]
    }
   ],
   "source": [
    "def fn_no_side_effects(fruits):\n",
    "    print(f\"Fruits before change - {fruits} id - {id(fruits)}\")\n",
    "    fruits = fruits + [\"pear\", \"banana\"]\n",
    "    print(f\"Fruits after change - {fruits} id - {id(fruits)}\")\n",
    "\n",
    "fruit_list = [\"apple\", \"orange\"]\n",
    "print(f\"Fruits List before function call - {fruit_list} id - {id(fruit_list)}\")\n",
    "fn_no_side_effects(fruit_list)\n",
    "print(f\"Fruits List after function call - {fruit_list} id - {id(fruit_list)}\")"
   ]
  },
  {
   "cell_type": "markdown",
   "metadata": {},
   "source": [
    "通过在水果列表更新期间显式调用赋值，列表值仅在函数范围内按预期更改。因此此功能没有副作用。\n",
    "\n",
    "请注意，如果明确创建了列表的副本，我们也可以避免在第一个函数调用中产生副作用- fn_side_effects(fruit_list[:])\n",
    "\n",
    "所以不要随便使用 += 运算符哦！！！\n",
    "\n",
    "为什么编写没有副作用的函数为什么很重要？\n",
    "\n",
    "具有副作用的函数，尤其是在无意中出现时，可能会导致许多潜在的错误，难以调试。\n",
    "\n",
    "对于没有副作用的函数编写测试更加容易。\n",
    "\n",
    "如果某函数应该改变环境中的任何内容，则必须清楚地记录在案，以免造成混淆。\n",
    "\n",
    "在编写包含可变数据类型（例如列表，集合，字典等）作为其函数参数的函数定义时，必须格外小心！"
   ]
  }
 ],
 "metadata": {
  "kernelspec": {
   "display_name": "Python 3 (ipykernel)",
   "language": "python",
   "name": "python3"
  },
  "language_info": {
   "codemirror_mode": {
    "name": "ipython",
    "version": 3
   },
   "file_extension": ".py",
   "mimetype": "text/x-python",
   "name": "python",
   "nbconvert_exporter": "python",
   "pygments_lexer": "ipython3",
   "version": "3.9.6"
  }
 },
 "nbformat": 4,
 "nbformat_minor": 4
}
