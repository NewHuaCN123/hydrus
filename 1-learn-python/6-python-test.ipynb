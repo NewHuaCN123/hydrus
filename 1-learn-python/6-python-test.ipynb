{
 "cells": [
  {
   "cell_type": "markdown",
   "id": "82a8084d-7b66-4532-b64e-fb931735e5f8",
   "metadata": {},
   "source": [
    "# Python测试\n",
    "\n",
    "本文主要参考以下资料，了解可用来编写和执行测试的工具，以检查应用程序的性能，寻找问题。\n",
    "\n",
    "- [Getting Started With Testing in Python](https://realpython.com/python-testing/#testing-your-code)\n",
    "\n",
    "## 测试代码\n",
    "\n",
    "### 自动测试与手动测试\n",
    "\n",
    "当我们运行应用程序的时候，可能已经在不知不觉中创建了一个测试。我们会检查代码的功能是否符合我们的期望，这就是所谓的**探索性测试**，是手动测试的一种形式。\n",
    "\n",
    "探索性测试是一种没有计划的测试形式。我们只是在摸索当前应用程序是否正确运行。\n",
    "\n",
    "要有一套完整的手动测试，需要做的是列出应用程序的所有功能，它可以接受的不同类型的输入获得预期的结果。\n",
    "\n",
    "每次修改代码后，我们都需要查看清单上的每一项，并检查是否能得到正确的结果。这就比较麻烦了，而这时候正是自动化测试发挥作用的时候。自动化测试是由一个脚本来执行测试计划（想测试的应用程序的部分，想测试它们的顺序，以及预期的反应）。Python已经提供了一套工具和库来帮助我们为应用程序创建自动测试。接下来探讨这些工具和库。\n",
    "\n",
    "### 单元测试与集成测试\n",
    "\n",
    "处理自动化测试和手动测试的区别，测试的世界还有一些术语是需要深入了解一下的。\n",
    "\n",
    "想一想如何测试汽车的灯光。首先我们会打开车灯（称为**测试步骤**），然后到车外或请朋友检查车灯是否打开（称为**测试诊断**）。测试多个组件被称为**集成测试**。\n",
    "\n",
    "想一想，为了使一个简单的任务得到正确的结果，所有需要正确工作的东西。这些组件是应用程序的部件，包括所有的那些类、函数和模块。\n",
    "\n",
    "集成测试的一个主要挑战是当一个集成测试没有给出正确的结果时。如果不能够隔离出系统的哪一部分出现故障，就很难诊断出问题。如果灯没有打开，那么可能是灯泡坏了，也可能是蓄电池坏了？交流发电机呢？汽车的计算机是否出现故障？\n",
    "\n",
    "如果是一辆现代汽车，它会告诉我们什么时候灯泡已经坏了。因为它能使用**单元测试**来做这件事。\n",
    "\n",
    "单元测试是一个较小的测试，它检查单个组件是否以正确的方式运行。单元测试可以帮助隔离应用程序中的故障，并更快地修复它。\n",
    "\n",
    "以上是两种类型的测试：\n",
    "\n",
    "1. 集成测试检查应用程序中的组件是否协同运行正常。\n",
    "2. 单元测试检查应用程序中的一个小部件。\n",
    "\n",
    "可以在Python中编写集成测试和单元测试。\n",
    "\n",
    "比如要为内置函数sum()写一个单元测试，你要根据一个已知的输出来检查sum()的输出。\n",
    "\n",
    "下面是如何检查数字 (1, 2, 3) 的 sum() 是否等于 6。"
   ]
  },
  {
   "cell_type": "code",
   "execution_count": 1,
   "id": "75da12a9-0daa-490d-8ccf-f6fac9903fbb",
   "metadata": {},
   "outputs": [],
   "source": [
    "assert sum([1, 2, 3]) == 6, \"Should be 6\""
   ]
  },
  {
   "cell_type": "markdown",
   "id": "72ef513b-01be-4d4b-bd81-bf68fc86ed78",
   "metadata": {},
   "source": [
    "这不会输出任何东西，因为这些值是正确的。\n",
    "\n",
    "如果sum()的结果不正确，这将失败，出现断言错误和消息 \"应该是6\"。下面用错误的值再次尝试断言语句，以看到断言错误。"
   ]
  },
  {
   "cell_type": "code",
   "execution_count": 2,
   "id": "5a39141f-47b1-4337-8126-c125e0cdc89d",
   "metadata": {},
   "outputs": [
    {
     "ename": "AssertionError",
     "evalue": "Should be 6",
     "output_type": "error",
     "traceback": [
      "\u001b[1;31m---------------------------------------------------------------------------\u001b[0m",
      "\u001b[1;31mAssertionError\u001b[0m                            Traceback (most recent call last)",
      "\u001b[1;32m~\\AppData\\Local\\Temp/ipykernel_14920/17110154.py\u001b[0m in \u001b[0;36m<module>\u001b[1;34m\u001b[0m\n\u001b[1;32m----> 1\u001b[1;33m \u001b[1;32massert\u001b[0m \u001b[0msum\u001b[0m\u001b[1;33m(\u001b[0m\u001b[1;33m[\u001b[0m\u001b[1;36m1\u001b[0m\u001b[1;33m,\u001b[0m \u001b[1;36m1\u001b[0m\u001b[1;33m,\u001b[0m \u001b[1;36m1\u001b[0m\u001b[1;33m]\u001b[0m\u001b[1;33m)\u001b[0m \u001b[1;33m==\u001b[0m \u001b[1;36m6\u001b[0m\u001b[1;33m,\u001b[0m \u001b[1;34m\"Should be 6\"\u001b[0m\u001b[1;33m\u001b[0m\u001b[1;33m\u001b[0m\u001b[0m\n\u001b[0m",
      "\u001b[1;31mAssertionError\u001b[0m: Should be 6"
     ]
    }
   ],
   "source": [
    "assert sum([1, 1, 1]) == 6, \"Should be 6\""
   ]
  },
  {
   "cell_type": "markdown",
   "id": "6f9fa8cd-7294-4223-ad09-f35190b18f1b",
   "metadata": {},
   "source": [
    "我们可以把它放到一个完整的python文件中，如下所示"
   ]
  },
  {
   "cell_type": "code",
   "execution_count": 3,
   "id": "8cdf73bd-1262-46c5-b622-daa96ab6bcdc",
   "metadata": {},
   "outputs": [
    {
     "name": "stdout",
     "output_type": "stream",
     "text": [
      "Everything passed\n"
     ]
    }
   ],
   "source": [
    "def test_sum():\n",
    "    assert sum([1, 2, 3]) == 6, \"Should be 6\"\n",
    "\n",
    "if __name__ == \"__main__\":\n",
    "    test_sum()\n",
    "    print(\"Everything passed\")"
   ]
  },
  {
   "cell_type": "markdown",
   "id": "937b8979-cb73-45f8-89a9-343d7e288067",
   "metadata": {},
   "source": [
    "在 Python 中，sum() 接受任何可迭代的东西作为其第一个参数。刚才用一个列表进行了测试。现在也可以用元组来测试。"
   ]
  },
  {
   "cell_type": "code",
   "execution_count": 4,
   "id": "59af7fb4-f21e-4b12-87b7-db2b4e5eb321",
   "metadata": {},
   "outputs": [
    {
     "ename": "AssertionError",
     "evalue": "Should be 6",
     "output_type": "error",
     "traceback": [
      "\u001b[1;31m---------------------------------------------------------------------------\u001b[0m",
      "\u001b[1;31mAssertionError\u001b[0m                            Traceback (most recent call last)",
      "\u001b[1;32m~\\AppData\\Local\\Temp/ipykernel_14920/3915460295.py\u001b[0m in \u001b[0;36m<module>\u001b[1;34m\u001b[0m\n\u001b[0;32m      7\u001b[0m \u001b[1;32mif\u001b[0m \u001b[0m__name__\u001b[0m \u001b[1;33m==\u001b[0m \u001b[1;34m\"__main__\"\u001b[0m\u001b[1;33m:\u001b[0m\u001b[1;33m\u001b[0m\u001b[1;33m\u001b[0m\u001b[0m\n\u001b[0;32m      8\u001b[0m     \u001b[0mtest_sum\u001b[0m\u001b[1;33m(\u001b[0m\u001b[1;33m)\u001b[0m\u001b[1;33m\u001b[0m\u001b[1;33m\u001b[0m\u001b[0m\n\u001b[1;32m----> 9\u001b[1;33m     \u001b[0mtest_sum_tuple\u001b[0m\u001b[1;33m(\u001b[0m\u001b[1;33m)\u001b[0m\u001b[1;33m\u001b[0m\u001b[1;33m\u001b[0m\u001b[0m\n\u001b[0m\u001b[0;32m     10\u001b[0m     \u001b[0mprint\u001b[0m\u001b[1;33m(\u001b[0m\u001b[1;34m\"Everything passed\"\u001b[0m\u001b[1;33m)\u001b[0m\u001b[1;33m\u001b[0m\u001b[1;33m\u001b[0m\u001b[0m\n",
      "\u001b[1;32m~\\AppData\\Local\\Temp/ipykernel_14920/3915460295.py\u001b[0m in \u001b[0;36mtest_sum_tuple\u001b[1;34m()\u001b[0m\n\u001b[0;32m      3\u001b[0m \u001b[1;33m\u001b[0m\u001b[0m\n\u001b[0;32m      4\u001b[0m \u001b[1;32mdef\u001b[0m \u001b[0mtest_sum_tuple\u001b[0m\u001b[1;33m(\u001b[0m\u001b[1;33m)\u001b[0m\u001b[1;33m:\u001b[0m\u001b[1;33m\u001b[0m\u001b[1;33m\u001b[0m\u001b[0m\n\u001b[1;32m----> 5\u001b[1;33m     \u001b[1;32massert\u001b[0m \u001b[0msum\u001b[0m\u001b[1;33m(\u001b[0m\u001b[1;33m(\u001b[0m\u001b[1;36m1\u001b[0m\u001b[1;33m,\u001b[0m \u001b[1;36m2\u001b[0m\u001b[1;33m,\u001b[0m \u001b[1;36m2\u001b[0m\u001b[1;33m)\u001b[0m\u001b[1;33m)\u001b[0m \u001b[1;33m==\u001b[0m \u001b[1;36m6\u001b[0m\u001b[1;33m,\u001b[0m \u001b[1;34m\"Should be 6\"\u001b[0m\u001b[1;33m\u001b[0m\u001b[1;33m\u001b[0m\u001b[0m\n\u001b[0m\u001b[0;32m      6\u001b[0m \u001b[1;33m\u001b[0m\u001b[0m\n\u001b[0;32m      7\u001b[0m \u001b[1;32mif\u001b[0m \u001b[0m__name__\u001b[0m \u001b[1;33m==\u001b[0m \u001b[1;34m\"__main__\"\u001b[0m\u001b[1;33m:\u001b[0m\u001b[1;33m\u001b[0m\u001b[1;33m\u001b[0m\u001b[0m\n",
      "\u001b[1;31mAssertionError\u001b[0m: Should be 6"
     ]
    }
   ],
   "source": [
    "def test_sum():\n",
    "    assert sum([1, 2, 3]) == 6, \"Should be 6\"\n",
    "\n",
    "def test_sum_tuple():\n",
    "    assert sum((1, 2, 2)) == 6, \"Should be 6\"\n",
    "\n",
    "if __name__ == \"__main__\":\n",
    "    test_sum()\n",
    "    test_sum_tuple()\n",
    "    print(\"Everything passed\")"
   ]
  },
  {
   "cell_type": "markdown",
   "id": "49c03850-7b50-459e-a5e5-05ccc73c253e",
   "metadata": {},
   "source": [
    "可以看到代码中的一个错误是如何在控制台中给出的，并有一些关于错误的位置和预期结果的信息。\n",
    "\n",
    "以这种方式编写测试，对于简单的检查来说是可以的，但如果有多处失败呢？这就是**测试运行器Test Runner**的作用。测试运行器是一个特殊的应用程序，旨在运行测试，检查输出，并提供调试和诊断测试和应用程序的工具。\n",
    "\n",
    "### 选择一个Test Runner\n",
    "\n",
    "Python有许多测试运行器。内置在 Python 标准库中的称为 unittest，之前也简单提到过。\n",
    "\n",
    "这里首先我们使用 unittest 测试用例和 unittest 测试运行器。unittest 的原则很容易移植到其他框架上；后续我们会补充pytest的使用。\n",
    "\n",
    "unittest 从 2.1 版开始就被内置于 Python 标准库中。在某些商业 Python 应用程序和开源项目中也会看到它。\n",
    "\n",
    "unittest 包含一个测试框架和一个测试运行器。 unittest 对编写和执行测试有一些重要的要求。\n",
    "\n",
    "unittest 要求\n",
    "\n",
    "- 把测试作为方法放到类中\n",
    "- 在 unittest.TestCase 类中使用一系列特殊的断言方法，而不是使用内置的 assert 语句\n",
    "\n",
    "要把前面的例子转换为 unittest 测试用例，必须：\n",
    "\n",
    "1. 从标准库中导入 unittest\n",
    "2. 创建一个名为TestSum的类，继承自TestCase类\n",
    "3. 通过添加self作为第一个参数，将测试函数转换为方法\n",
    "4. 改变断言，使用TestCase类中的self.assertEqual()方法\n",
    "5. 改变命令行入口点以调用 unittest.main()\n",
    "\n",
    "按照这些步骤："
   ]
  },
  {
   "cell_type": "markdown",
   "id": "4fb383ca-aa95-4c56-9b57-11cd372cba44",
   "metadata": {},
   "source": [
    "```Python\n",
    "import unittest\n",
    "\n",
    "\n",
    "class TestSum(unittest.TestCase):\n",
    "\n",
    "    def test_sum(self):\n",
    "        self.assertEqual(sum([1, 2, 3]), 6, \"Should be 6\")\n",
    "\n",
    "    def test_sum_tuple(self):\n",
    "        self.assertEqual(sum((1, 2, 2)), 6, \"Should be 6\")\n",
    "\n",
    "if __name__ == '__main__':\n",
    "    unittest.main()\n",
    "```"
   ]
  },
  {
   "cell_type": "markdown",
   "id": "88ec8c03-86cb-4555-96be-a0b680b1b042",
   "metadata": {},
   "source": [
    "## 编写测试\n",
    "\n",
    "让我们把到目前为止所学到的东西集中起来，不要测试内置的sum()函数，而是测试同一要求的简单实现。\n",
    "\n",
    "创建一个新的项目文件夹，并在其中创建一个名为 my_sum 的新文件夹。在 my_sum 中，创建一个名为 __init__.py 的空文件。创建 __init__.py 文件意味着 my_sum 文件夹可以作为一个模块从父目录中导入。\n",
    "\n",
    "你的项目文件夹应该看起来像这样。\n",
    "\n",
    "```File system\n",
    "project/\n",
    "│\n",
    "└── my_sum/\n",
    "    └── __init__.py\n",
    "```\n",
    "\n",
    "打开 my_sum/__init__.py 并创建一个名为 sum() 的新函数，它接收一个迭代器（一个列表、元组或集合）并将其值加在一起。\n",
    "\n",
    "这个代码示例创建了一个名为total的变量，遍历arg中的所有值，并将它们加到total中。一旦迭代完毕，它就会返回结果。\n",
    "\n",
    "### 在哪里写测试\n",
    "\n",
    "要开始编写测试，可以简单地创建一个名为test.py的文件，其中将包含一个测试案例。因为该文件需要能够导入应用程序才能进行测试，你要把test.py放在module文件同一个文件夹下，所以目录树看起来像这样。\n",
    "\n",
    "```File system\n",
    "project/\n",
    "│\n",
    "└── my_sum.py\n",
    "|\n",
    "└── test.py\n",
    "```\n",
    "\n",
    "随着你添加越来越多的测试，单一文件会变得杂乱无章，难以维护，所以可以创建一个名为test/的文件夹，将测试分成多个文件。惯例是确保每个文件以test_开头，这样所有的测试运行程序都会认为Python文件包含要执行的测试。一些非常大的项目根据其目的或用途将测试分成更多的子目录（后面有例子）。\n",
    "\n",
    "> 注意：如果应用程序是一个单一的脚本怎么办？\n",
    "那么可以通过使用内置的\\_\\_import\\_\\_()函数导入脚本的任何属性，例如类、函数和变量。你可以这样写，而不是从my_sum导入sum:\n",
    ">```Python\n",
    "target = __import__(\"my_sum.py\")\n",
    "sum = target.sum\n",
    ">```\n",
    "> 使用 \\_\\_import\\_\\_() 的好处是，你不必把你的项目文件夹变成一个包，而且你可以指定文件名。如果你的文件名与任何标准库包相冲突，这也很有用。例如，math.py会与数学模块相冲突。"
   ]
  },
  {
   "cell_type": "markdown",
   "id": "a9509287-4af2-419a-a9e5-18d5365a134d",
   "metadata": {},
   "source": [
    "### 如何构造一个简单的测试\n",
    "\n",
    "在开始写测试之前，要先做几个决定。\n",
    "\n",
    "1. 想测试什么？\n",
    "2. 是写一个单元测试还是集成测试？\n",
    "\n",
    "然后，测试的结构应该松散地遵循下面的工作流程。\n",
    "\n",
    "1. 创建输入\n",
    "2. 执行被测试的代码，捕获输出结果\n",
    "3. 将输出与预期结果进行比较\n",
    "\n",
    "对于示例应用程序，要测试sum()。可以检查sum()中的许多行为，例如。\n",
    "\n",
    "- 能否对整数（整数）的列表进行求和？\n",
    "- 它能对一个元组或集合求和吗？\n",
    "- 它能对一个浮点数的列表求和吗？\n",
    "- 当给它提供一个不好的值，如一个整数或一个字符串，会发生什么？\n",
    "- 当其中一个值是负数时会发生什么？\n",
    "\n",
    "最简单的测试是一个整数的列表。已经创建一个文件 test.py，代码如下\n",
    "\n",
    "```Python\n",
    "import unittest\n",
    "\n",
    "from my_sum import sum\n",
    "\n",
    "\n",
    "class TestSum(unittest.TestCase):\n",
    "    def test_list_int(self):\n",
    "        \"\"\"\n",
    "        Test that it can sum a list of integers\n",
    "        \"\"\"\n",
    "        data = [1, 2, 3]\n",
    "        result = sum(data)\n",
    "        self.assertEqual(result, 6)\n",
    "\n",
    "if __name__ == '__main__':\n",
    "    unittest.main()\n",
    "```\n",
    "\n",
    "可以看到从创建的 my_sum 包中导入 sum()。\n",
    "\n",
    "- 定义了一个名为 TestSum 的新测试用例类，它继承自 unittest.TestCase。\n",
    "- 定义了一个测试方法 test_list_int()，用来测试一个整数列表。通过使用 unittest.TestCase 类上的 self.assertEqual() 方法，断言结果的值等于 6。\n",
    "- 定义一个命令行入口点，运行 unittest 的 main() 函数\n",
    "\n",
    "### 如何编写断言\n",
    "\n",
    "编写测试的最后一步是根据已知的响应来验证输出。这就是所谓的断言。在如何编写断言方面，有一些建议的最佳实践方式。\n",
    "\n",
    "- 确保测试是可重复的，并多次运行你的测试，以确保它每次都给出相同的结果。\n",
    "- 尝试断言与你的输入数据有关的结果，例如检查结果是否是sum()例子中的实际数值之和。\n",
    "\n",
    "unittest 提供了很多方法来断言变量的值、类型和存在。\n",
    "\n",
    "### 副作用\n",
    "\n",
    "当你写测试的时候，往往不是看一个函数的返回值那么简单。通常，执行一段代码会改变环境中的其他东西，如类的属性，文件系统中的文件，或数据库中的值。这些被称为副作用，是测试的一个重要部分。在将其纳入断言列表之前，决定是否对副作用进行测试。\n",
    "\n",
    "如果你发现你要测试的代码单元有很多副作用，你可能会破坏单一责任原则。破坏单一责任原则意味着这段代码做了太多的事情，最好重构一下。遵循 \"单一责任原则 \"是设计代码的一个很好的方法，它易于编写可重复和简单的单元测试，并最终实现可靠的应用。"
   ]
  },
  {
   "cell_type": "markdown",
   "id": "b0e79fd9-bace-4c74-9dcd-abe7cbc95ad6",
   "metadata": {},
   "source": [
    "## 执行测试\n",
    "\n",
    "现在已经创建了第一个测试，接下来就执行它。当然，我们知道它会通过，但在创建更复杂的测试之前，还是检查下是否能成功执行测试。\n",
    "\n",
    "### 执行测试运行程序\n",
    "\n",
    "执行测试代码，检查断言，并在控制台给出测试结果的Python应用程序被称为测试运行器。\n",
    "\n",
    "在test.py的底部，你添加了这一小段代码。\n",
    "\n",
    "```Python\n",
    "if __name__ == '__main__':\n",
    "    unittest.main()\n",
    "```\n",
    "\n",
    "这是一个命令行入口点。这意味着，如果通过在命令行运行 python test.py 来单独执行该脚本，它将调用 unittest.main()。这将通过发现这个文件中所有继承自 unittest.TestCase 的类来执行测试运行器。\n",
    "\n",
    "这是执行 unittest 测试运行器的许多方法之一。当你有一个名为test.py的单一测试文件时，调用python test.py是一个很好的开始方式。\n",
    "\n",
    "另一种方法是使用 unittest 命令行。试试（cd project 是为了先移动到project文件夹下，执行的测试命令是 python -m unittest test）:"
   ]
  },
  {
   "cell_type": "code",
   "execution_count": 7,
   "id": "87a478da-d14e-4640-bab7-751dd560db99",
   "metadata": {},
   "outputs": [
    {
     "name": "stderr",
     "output_type": "stream",
     "text": [
      ".\n",
      "----------------------------------------------------------------------\n",
      "Ran 1 test in 0.000s\n",
      "\n",
      "OK\n"
     ]
    }
   ],
   "source": [
    "! cd project & python -m unittest test"
   ]
  },
  {
   "cell_type": "markdown",
   "id": "a413b5d9-d095-4d9d-b5d9-7a662aa54800",
   "metadata": {},
   "source": [
    "这将通过命令行执行测试模块（test）。\n",
    "\n",
    "可以提供额外的选项来改变输出。其中一个是-v，表示verbose："
   ]
  },
  {
   "cell_type": "code",
   "execution_count": 9,
   "id": "5cb523c8-8c5c-4e38-876a-6204a8d2cdd0",
   "metadata": {},
   "outputs": [
    {
     "name": "stderr",
     "output_type": "stream",
     "text": [
      "test_list_int (test.TestSum)\n",
      "Test that it can sum a list of integers ... ok\n",
      "\n",
      "----------------------------------------------------------------------\n",
      "Ran 1 test in 0.000s\n",
      "\n",
      "OK\n"
     ]
    }
   ],
   "source": [
    "! cd project & python -m unittest -v test"
   ]
  },
  {
   "cell_type": "markdown",
   "id": "ea2a85ec-ff79-4efa-a155-41d8d92236bc",
   "metadata": {},
   "source": [
    "这将执行test.py中的一个测试，并将结果打印到控制台。Verbose 模式首先列出了它所执行的测试的名称，以及每个测试的结果。\n",
    "\n",
    "你可以用下面的方法请求自动发现，而不是提供包含测试的模块的名称。"
   ]
  },
  {
   "cell_type": "code",
   "execution_count": 10,
   "id": "c2490e0f-6dae-4368-a089-52a3f3db6443",
   "metadata": {},
   "outputs": [
    {
     "name": "stderr",
     "output_type": "stream",
     "text": [
      ".\n",
      "----------------------------------------------------------------------\n",
      "Ran 1 test in 0.000s\n",
      "\n",
      "OK\n"
     ]
    }
   ],
   "source": [
    "! cd project & python -m unittest discover"
   ]
  },
  {
   "cell_type": "markdown",
   "id": "9f6d9c61-ecb6-4b87-b2cf-8e1d736ecaf1",
   "metadata": {},
   "source": [
    "这将在当前目录（进入了project目录）中搜索任何名为test*.py的文件，并尝试对它们进行测试。\n",
    "\n",
    "一旦你有多个测试文件，只要遵循test*.py的命名模式，可以通过使用-s标志和目录的名称来代替提供目录的名称。加入我们有个tests文件夹里面放了测试文件：\n",
    "\n",
    "```Shell\n",
    "python -m unittest discover -s tests\n",
    "```\n",
    "\n",
    "unittest 将在一个测试计划中运行所有的测试并给出结果。\n",
    "\n",
    "最后，如果源代码不在根目录中，而是包含在一个子目录中，例如在一个叫做 src/ 的文件夹中，你可以告诉 unittest 在哪里执行测试，以便它能用 -t 标志正确导入模块。\n",
    "\n",
    "```Shell\n",
    "python -m unittest discover -s tests -t src\n",
    "```\n",
    "\n",
    "unittest 会切换到 src/ 目录，扫描 tests 目录下的所有 test*.py 文件，并执行它们。"
   ]
  },
  {
   "cell_type": "markdown",
   "id": "b7268acf-03ea-4f25-a95f-a2cda1e57f99",
   "metadata": {},
   "source": [
    "### 了解测试的输出\n",
    "\n",
    "之前的例子非常简单，测试都通过了，现在尝试一个失败的测试并解释输出。\n",
    "\n",
    "sum()应该能够接受其他数字类型的列表，如分数，我们设置了 1/4, 1/4, 和 2/5 的求和，我们期望的结果是 1，显然是应该报错的:"
   ]
  },
  {
   "cell_type": "code",
   "execution_count": 13,
   "id": "d49d95cf-bf87-48d1-929e-13a6b33c3259",
   "metadata": {},
   "outputs": [
    {
     "name": "stderr",
     "output_type": "stream",
     "text": [
      "F.\n",
      "======================================================================\n",
      "FAIL: test_list_fraction (test_fractions.TestSum)\n",
      "Test that it can sum a list of fractions\n",
      "----------------------------------------------------------------------\n",
      "Traceback (most recent call last):\n",
      "  File \"C:\\Projects\\git\\hydrus\\1-learn-python\\project\\test_fractions.py\", line 21, in test_list_fraction\n",
      "    self.assertEqual(result, 1)\n",
      "AssertionError: Fraction(9, 10) != 1\n",
      "\n",
      "----------------------------------------------------------------------\n",
      "Ran 2 tests in 0.001s\n",
      "\n",
      "FAILED (failures=1)\n"
     ]
    }
   ],
   "source": [
    "! cd project & python -m unittest test_fractions"
   ]
  },
  {
   "cell_type": "markdown",
   "id": "bcaf879b-f6f7-4fff-ad87-a325c8b0a5c0",
   "metadata": {},
   "source": [
    "在输出中，看到的是以下信息。\n",
    "\n",
    "1. 第一行显示了所有测试的执行结果，一个失败（F），一个通过（...）。\n",
    "2. FAIL项显示了关于失败测试的一些细节。\n",
    "    - 测试方法名称(test_list_fraction)\n",
    "    - 测试模块（test_fractions）和测试案例（TestSum）。\n",
    "    - 回溯到失败的那一行\n",
    "    - 断言的细节，包括预期结果（1）和实际结果（Fraction(9, 10)）。\n",
    "\n",
    "记住，可以通过在 python -m unittest 命令中添加 -v 标志来为测试输出添加额外信息。"
   ]
  },
  {
   "cell_type": "markdown",
   "id": "b5be4ffd-39d1-4f5b-9d38-910cc8016f4a",
   "metadata": {},
   "source": [
    "## 更高级的测试场景\n",
    "\n",
    "在开始为应用程序创建测试之前，请记住每个测试的三个基本步骤。\n",
    "\n",
    "1. 创建输入\n",
    "2. 执行代码，捕获输出\n",
    "3. 将输出与预期结果进行比较\n",
    "\n",
    "这并不总是像为输入创建一个静态值那样简单，比如一个字符串或数字。有时，应用程序需要一个类的实例或一个上下文。这时该怎么办呢？\n",
    "\n",
    "创建的作为输入的数据被称为 **fixture**。创建fixture并重复使用它们是一种常见的做法。\n",
    "\n",
    "如果运行同一个测试，每次传递不同的值，并期望得到相同的结果，这就是所谓的**参数化 parameterization**。\n",
    "\n",
    "### 处理预期的失败\n",
    "\n",
    "做一个测试sum()的场景列表时，如果给它提供一个不好的值，如一个单一的整数或一个字符串，会发生什么？\n",
    "\n",
    "在这种情况下，我们会期望sum()抛出一个错误。当它抛出一个错误时，就会导致测试失败。\n",
    "\n",
    "有一种特殊的方法来处理预期错误。可以使用.assertRaises()作为上下文管理器，然后在with块中执行测试步骤，例如：\n",
    "\n",
    "```Python\n",
    "import unittest\n",
    "\n",
    "from my_sum import sum\n",
    "\n",
    "\n",
    "class TestSum(unittest.TestCase):\n",
    "    def test_bad_type(self):\n",
    "        data = \"banana\"\n",
    "        with self.assertRaises(TypeError):\n",
    "            result = sum(data)\n",
    "\n",
    "if __name__ == '__main__':\n",
    "    unittest.main()\n",
    "```\n",
    "\n",
    "现在这个测试案例只有在sum(data)引发TypeError时才会通过，其中TypeError 可以是任何异常类型。"
   ]
  },
  {
   "cell_type": "markdown",
   "id": "f07ae997-77c3-4768-9751-f224dd17d7ac",
   "metadata": {},
   "source": [
    "### 隔离应用程序中的行为\n",
    "\n",
    "副作用使单元测试更加困难，因为每次运行测试都可能得到不同的结果，或者更糟糕的是，一个测试可能影响应用程序的状态，导致另一个测试失败\n",
    "\n",
    "有一些简单的技术，可以用来测试应用程序中具有许多副作用的部分。\n",
    "\n",
    "- 重构代码以遵循单一责任原则\n",
    "- Mock 任何方法或函数的调用以消除副作用\n",
    "- 对应用程序的这一部分使用集成测试而不是单元测试\n",
    "\n",
    "个人遇到具体实例之后再做进一步详细介绍。\n",
    "\n",
    "### 编写集成测试\n",
    "\n",
    "到目前为止，主要在了解单元测试。单元测试是建立可预测和稳定的代码的一个好方法。但应用程序需要在启动时能够完整地工作，需要我们做好集成测试。\n",
    "\n",
    "集成测试是对应用程序的多个组件的测试，以检查它们是否能一起工作。\n",
    "\n",
    "每种类型的集成测试都可以用与单元测试相同的方式编写，遵循输入、执行和断言模式。最显著的区别是，集成测试一次检查更多的组件，因此会比单元测试有更多的副作用。另外，集成测试需要更多的固定装置，如数据库，或配置文件等。\n",
    "\n",
    "这就是为什么把单元测试和集成测试分开是一个好的做法。创建集成所需的固定装置，如测试数据库和测试用例本身，往往需要比单元测试更长的时间来执行，所以你可能只想在推送到生产之前运行集成测试，而不是在每次提交时运行一次。\n",
    "\n",
    "分开单元测试和集成测试的一个简单方法是把它们放在不同的文件夹里。\n",
    "\n",
    "```File System\n",
    "project/\n",
    "│\n",
    "├── my_app/\n",
    "│   └── __init__.py\n",
    "│\n",
    "└── tests/\n",
    "    |\n",
    "    ├── unit/\n",
    "    |   ├── __init__.py\n",
    "    |   └── test_sum.py\n",
    "    |\n",
    "    └── integration/\n",
    "        ├── __init__.py\n",
    "        └── test_integration.py\n",
    "```\n",
    "\n",
    "有很多方法可以只执行一组选定的测试。指定源目录标志，-s，可以用包含测试的路径添加到 unittest discover 中。\n",
    "\n",
    "```Shell\n",
    "python -m unittest discover -s tests/integration\n",
    "```\n",
    "\n",
    "unittest就会给你test/integration目录内所有测试的结果。"
   ]
  }
 ],
 "metadata": {
  "kernelspec": {
   "display_name": "Python 3 (ipykernel)",
   "language": "python",
   "name": "python3"
  },
  "language_info": {
   "codemirror_mode": {
    "name": "ipython",
    "version": 3
   },
   "file_extension": ".py",
   "mimetype": "text/x-python",
   "name": "python",
   "nbconvert_exporter": "python",
   "pygments_lexer": "ipython3",
   "version": "3.9.6"
  }
 },
 "nbformat": 4,
 "nbformat_minor": 5
}
