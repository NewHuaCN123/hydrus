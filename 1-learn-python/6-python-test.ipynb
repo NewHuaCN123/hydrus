{
 "cells": [
  {
   "cell_type": "markdown",
   "id": "82a8084d-7b66-4532-b64e-fb931735e5f8",
   "metadata": {},
   "source": [
    "# Python测试\n",
    "\n",
    "本文主要参考以下资料，了解可用来编写和执行测试的工具，以检查应用程序的性能，寻找问题。\n",
    "\n",
    "- [Getting Started With Testing in Python](https://realpython.com/python-testing/#testing-your-code)\n",
    "- [Effective Python Testing With Pytest](https://realpython.com/pytest-python-testing/)\n",
    "\n",
    "## 测试代码\n",
    "\n",
    "### 自动测试与手动测试\n",
    "\n",
    "当我们运行应用程序的时候，可能已经在不知不觉中创建了一个测试。我们会检查代码的功能是否符合我们的期望，这就是所谓的**探索性测试**，是手动测试的一种形式。\n",
    "\n",
    "探索性测试是一种没有计划的测试形式。我们只是在摸索当前应用程序是否正确运行。\n",
    "\n",
    "要有一套完整的手动测试，需要做的是列出应用程序的所有功能，它可以接受的不同类型的输入获得预期的结果。\n",
    "\n",
    "每次修改代码后，我们都需要查看清单上的每一项，并检查是否能得到正确的结果。这就比较麻烦了，而这时候正是自动化测试发挥作用的时候。自动化测试是由一个脚本来执行测试计划（想测试的应用程序的部分，想测试它们的顺序，以及预期的反应）。Python已经提供了一套工具和库来帮助我们为应用程序创建自动测试。接下来探讨这些工具和库。\n",
    "\n",
    "### 单元测试与集成测试\n",
    "\n",
    "处理自动化测试和手动测试的区别，测试的世界还有一些术语是需要深入了解一下的。\n",
    "\n",
    "想一想如何测试汽车的灯光。首先我们会打开车灯（称为**测试步骤**），然后到车外或请朋友检查车灯是否打开（称为**测试诊断**）。测试多个组件被称为**集成测试**。\n",
    "\n",
    "想一想，为了使一个简单的任务得到正确的结果，所有需要正确工作的东西。这些组件是应用程序的部件，包括所有的那些类、函数和模块。\n",
    "\n",
    "集成测试的一个主要挑战是当一个集成测试没有给出正确的结果时。如果不能够隔离出系统的哪一部分出现故障，就很难诊断出问题。如果灯没有打开，那么可能是灯泡坏了，也可能是蓄电池坏了？交流发电机呢？汽车的计算机是否出现故障？\n",
    "\n",
    "如果是一辆现代汽车，它会告诉我们什么时候灯泡已经坏了。因为它能使用**单元测试**来做这件事。\n",
    "\n",
    "单元测试是一个较小的测试，它检查单个组件是否以正确的方式运行。单元测试可以帮助隔离应用程序中的故障，并更快地修复它。\n",
    "\n",
    "以上是两种类型的测试：\n",
    "\n",
    "1. 集成测试检查应用程序中的组件是否协同运行正常。\n",
    "2. 单元测试检查应用程序中的一个小部件。\n",
    "\n",
    "可以在Python中编写集成测试和单元测试。\n",
    "\n",
    "比如要为内置函数sum()写一个单元测试，你要根据一个已知的输出来检查sum()的输出。\n",
    "\n",
    "下面是如何检查数字 (1, 2, 3) 的 sum() 是否等于 6。"
   ]
  },
  {
   "cell_type": "code",
   "execution_count": 1,
   "id": "75da12a9-0daa-490d-8ccf-f6fac9903fbb",
   "metadata": {},
   "outputs": [],
   "source": [
    "assert sum([1, 2, 3]) == 6, \"Should be 6\""
   ]
  },
  {
   "cell_type": "markdown",
   "id": "72ef513b-01be-4d4b-bd81-bf68fc86ed78",
   "metadata": {},
   "source": [
    "这不会输出任何东西，因为这些值是正确的。\n",
    "\n",
    "如果sum()的结果不正确，这将失败，出现断言错误和消息 \"应该是6\"。下面用错误的值再次尝试断言语句，以看到断言错误。"
   ]
  },
  {
   "cell_type": "code",
   "execution_count": 2,
   "id": "5a39141f-47b1-4337-8126-c125e0cdc89d",
   "metadata": {},
   "outputs": [
    {
     "ename": "AssertionError",
     "evalue": "Should be 6",
     "output_type": "error",
     "traceback": [
      "\u001b[1;31m---------------------------------------------------------------------------\u001b[0m",
      "\u001b[1;31mAssertionError\u001b[0m                            Traceback (most recent call last)",
      "\u001b[1;32m~\\AppData\\Local\\Temp/ipykernel_14920/17110154.py\u001b[0m in \u001b[0;36m<module>\u001b[1;34m\u001b[0m\n\u001b[1;32m----> 1\u001b[1;33m \u001b[1;32massert\u001b[0m \u001b[0msum\u001b[0m\u001b[1;33m(\u001b[0m\u001b[1;33m[\u001b[0m\u001b[1;36m1\u001b[0m\u001b[1;33m,\u001b[0m \u001b[1;36m1\u001b[0m\u001b[1;33m,\u001b[0m \u001b[1;36m1\u001b[0m\u001b[1;33m]\u001b[0m\u001b[1;33m)\u001b[0m \u001b[1;33m==\u001b[0m \u001b[1;36m6\u001b[0m\u001b[1;33m,\u001b[0m \u001b[1;34m\"Should be 6\"\u001b[0m\u001b[1;33m\u001b[0m\u001b[1;33m\u001b[0m\u001b[0m\n\u001b[0m",
      "\u001b[1;31mAssertionError\u001b[0m: Should be 6"
     ]
    }
   ],
   "source": [
    "assert sum([1, 1, 1]) == 6, \"Should be 6\""
   ]
  },
  {
   "cell_type": "markdown",
   "id": "6f9fa8cd-7294-4223-ad09-f35190b18f1b",
   "metadata": {},
   "source": [
    "我们可以把它放到一个完整的python文件中，如下所示"
   ]
  },
  {
   "cell_type": "code",
   "execution_count": 3,
   "id": "8cdf73bd-1262-46c5-b622-daa96ab6bcdc",
   "metadata": {},
   "outputs": [
    {
     "name": "stdout",
     "output_type": "stream",
     "text": [
      "Everything passed\n"
     ]
    }
   ],
   "source": [
    "def test_sum():\n",
    "    assert sum([1, 2, 3]) == 6, \"Should be 6\"\n",
    "\n",
    "if __name__ == \"__main__\":\n",
    "    test_sum()\n",
    "    print(\"Everything passed\")"
   ]
  },
  {
   "cell_type": "markdown",
   "id": "937b8979-cb73-45f8-89a9-343d7e288067",
   "metadata": {},
   "source": [
    "在 Python 中，sum() 接受任何可迭代的东西作为其第一个参数。刚才用一个列表进行了测试。现在也可以用元组来测试。"
   ]
  },
  {
   "cell_type": "code",
   "execution_count": 4,
   "id": "59af7fb4-f21e-4b12-87b7-db2b4e5eb321",
   "metadata": {},
   "outputs": [
    {
     "ename": "AssertionError",
     "evalue": "Should be 6",
     "output_type": "error",
     "traceback": [
      "\u001b[1;31m---------------------------------------------------------------------------\u001b[0m",
      "\u001b[1;31mAssertionError\u001b[0m                            Traceback (most recent call last)",
      "\u001b[1;32m~\\AppData\\Local\\Temp/ipykernel_14920/3915460295.py\u001b[0m in \u001b[0;36m<module>\u001b[1;34m\u001b[0m\n\u001b[0;32m      7\u001b[0m \u001b[1;32mif\u001b[0m \u001b[0m__name__\u001b[0m \u001b[1;33m==\u001b[0m \u001b[1;34m\"__main__\"\u001b[0m\u001b[1;33m:\u001b[0m\u001b[1;33m\u001b[0m\u001b[1;33m\u001b[0m\u001b[0m\n\u001b[0;32m      8\u001b[0m     \u001b[0mtest_sum\u001b[0m\u001b[1;33m(\u001b[0m\u001b[1;33m)\u001b[0m\u001b[1;33m\u001b[0m\u001b[1;33m\u001b[0m\u001b[0m\n\u001b[1;32m----> 9\u001b[1;33m     \u001b[0mtest_sum_tuple\u001b[0m\u001b[1;33m(\u001b[0m\u001b[1;33m)\u001b[0m\u001b[1;33m\u001b[0m\u001b[1;33m\u001b[0m\u001b[0m\n\u001b[0m\u001b[0;32m     10\u001b[0m     \u001b[0mprint\u001b[0m\u001b[1;33m(\u001b[0m\u001b[1;34m\"Everything passed\"\u001b[0m\u001b[1;33m)\u001b[0m\u001b[1;33m\u001b[0m\u001b[1;33m\u001b[0m\u001b[0m\n",
      "\u001b[1;32m~\\AppData\\Local\\Temp/ipykernel_14920/3915460295.py\u001b[0m in \u001b[0;36mtest_sum_tuple\u001b[1;34m()\u001b[0m\n\u001b[0;32m      3\u001b[0m \u001b[1;33m\u001b[0m\u001b[0m\n\u001b[0;32m      4\u001b[0m \u001b[1;32mdef\u001b[0m \u001b[0mtest_sum_tuple\u001b[0m\u001b[1;33m(\u001b[0m\u001b[1;33m)\u001b[0m\u001b[1;33m:\u001b[0m\u001b[1;33m\u001b[0m\u001b[1;33m\u001b[0m\u001b[0m\n\u001b[1;32m----> 5\u001b[1;33m     \u001b[1;32massert\u001b[0m \u001b[0msum\u001b[0m\u001b[1;33m(\u001b[0m\u001b[1;33m(\u001b[0m\u001b[1;36m1\u001b[0m\u001b[1;33m,\u001b[0m \u001b[1;36m2\u001b[0m\u001b[1;33m,\u001b[0m \u001b[1;36m2\u001b[0m\u001b[1;33m)\u001b[0m\u001b[1;33m)\u001b[0m \u001b[1;33m==\u001b[0m \u001b[1;36m6\u001b[0m\u001b[1;33m,\u001b[0m \u001b[1;34m\"Should be 6\"\u001b[0m\u001b[1;33m\u001b[0m\u001b[1;33m\u001b[0m\u001b[0m\n\u001b[0m\u001b[0;32m      6\u001b[0m \u001b[1;33m\u001b[0m\u001b[0m\n\u001b[0;32m      7\u001b[0m \u001b[1;32mif\u001b[0m \u001b[0m__name__\u001b[0m \u001b[1;33m==\u001b[0m \u001b[1;34m\"__main__\"\u001b[0m\u001b[1;33m:\u001b[0m\u001b[1;33m\u001b[0m\u001b[1;33m\u001b[0m\u001b[0m\n",
      "\u001b[1;31mAssertionError\u001b[0m: Should be 6"
     ]
    }
   ],
   "source": [
    "def test_sum():\n",
    "    assert sum([1, 2, 3]) == 6, \"Should be 6\"\n",
    "\n",
    "def test_sum_tuple():\n",
    "    assert sum((1, 2, 2)) == 6, \"Should be 6\"\n",
    "\n",
    "if __name__ == \"__main__\":\n",
    "    test_sum()\n",
    "    test_sum_tuple()\n",
    "    print(\"Everything passed\")"
   ]
  },
  {
   "cell_type": "markdown",
   "id": "49c03850-7b50-459e-a5e5-05ccc73c253e",
   "metadata": {},
   "source": [
    "可以看到代码中的一个错误是如何在控制台中给出的，并有一些关于错误的位置和预期结果的信息。\n",
    "\n",
    "以这种方式编写测试，对于简单的检查来说是可以的，但如果有多处失败呢？这就是**测试运行器Test Runner**的作用。测试运行器是一个特殊的应用程序，旨在运行测试，检查输出，并提供调试和诊断测试和应用程序的工具。\n",
    "\n",
    "### 选择一个Test Runner\n",
    "\n",
    "Python有许多测试运行器。内置在 Python 标准库中的称为 unittest，之前也简单提到过。\n",
    "\n",
    "这里首先我们使用 unittest 测试用例和 unittest 测试运行器。unittest 的原则很容易移植到其他框架上；后续我们会补充pytest的使用。\n",
    "\n",
    "unittest 从 2.1 版开始就被内置于 Python 标准库中。在某些商业 Python 应用程序和开源项目中也会看到它。\n",
    "\n",
    "unittest 包含一个测试框架和一个测试运行器。 unittest 对编写和执行测试有一些重要的要求。\n",
    "\n",
    "unittest 要求\n",
    "\n",
    "- 把测试作为方法放到类中\n",
    "- 在 unittest.TestCase 类中使用一系列特殊的断言方法，而不是使用内置的 assert 语句\n",
    "\n",
    "要把前面的例子转换为 unittest 测试用例，必须：\n",
    "\n",
    "1. 从标准库中导入 unittest\n",
    "2. 创建一个名为TestSum的类，继承自TestCase类\n",
    "3. 通过添加self作为第一个参数，将测试函数转换为方法\n",
    "4. 改变断言，使用TestCase类中的self.assertEqual()方法\n",
    "5. 改变命令行入口点以调用 unittest.main()\n",
    "\n",
    "按照这些步骤："
   ]
  },
  {
   "cell_type": "code",
   "execution_count": null,
   "id": "664227ac-eb1c-4c1f-bade-924827073ed9",
   "metadata": {},
   "outputs": [
    {
     "name": "stderr",
     "output_type": "stream",
     "text": [
      "E\n",
      "======================================================================\n",
      "ERROR: C:\\Users\\hust2\\AppData\\Roaming\\jupyter\\runtime\\kernel-6e35f2ee-acd6-4039-8f43-4624426b6eae (unittest.loader._FailedTest)\n",
      "----------------------------------------------------------------------\n",
      "AttributeError: module '__main__' has no attribute 'C:\\Users\\hust2\\AppData\\Roaming\\jupyter\\runtime\\kernel-6e35f2ee-acd6-4039-8f43-4624426b6eae'\n",
      "\n",
      "----------------------------------------------------------------------\n",
      "Ran 1 test in 0.001s\n",
      "\n",
      "FAILED (errors=1)\n"
     ]
    },
    {
     "ename": "SystemExit",
     "evalue": "True",
     "output_type": "error",
     "traceback": [
      "An exception has occurred, use %tb to see the full traceback.\n",
      "\u001b[1;31mSystemExit\u001b[0m\u001b[1;31m:\u001b[0m True\n"
     ]
    },
    {
     "name": "stderr",
     "output_type": "stream",
     "text": [
      "C:\\Users\\hust2\\miniconda3\\envs\\hydrus\\lib\\site-packages\\IPython\\core\\interactiveshell.py:3449: UserWarning: To exit: use 'exit', 'quit', or Ctrl-D.\n",
      "  warn(\"To exit: use 'exit', 'quit', or Ctrl-D.\", stacklevel=1)\n"
     ]
    }
   ],
   "source": [
    "import unittest\n",
    "\n",
    "\n",
    "class TestSum(unittest.TestCase):\n",
    "\n",
    "    def test_sum(self):\n",
    "        self.assertEqual(sum([1, 2, 3]), 6, \"Should be 6\")\n",
    "\n",
    "    def test_sum_tuple(self):\n",
    "        self.assertEqual(sum((1, 2, 2)), 6, \"Should be 6\")\n",
    "\n",
    "if __name__ == '__main__':\n",
    "    unittest.main()"
   ]
  },
  {
   "cell_type": "markdown",
   "id": "88ec8c03-86cb-4555-96be-a0b680b1b042",
   "metadata": {},
   "source": [
    "## 编写测试\n",
    "\n",
    "让我们把到目前为止所学到的东西集中起来，不要测试内置的sum()函数，而是测试同一要求的简单实现。\n",
    "\n",
    "创建一个新的项目文件夹，并在其中创建一个名为 my_sum 的新文件夹。在 my_sum 中，创建一个名为 __init__.py 的空文件。创建 __init__.py 文件意味着 my_sum 文件夹可以作为一个模块从父目录中导入。\n",
    "\n",
    "你的项目文件夹应该看起来像这样。\n",
    "\n",
    "```File system\n",
    "project/\n",
    "│\n",
    "└── my_sum/\n",
    "    └── __init__.py\n",
    "```\n",
    "\n",
    "打开 my_sum/__init__.py 并创建一个名为 sum() 的新函数，它接收一个迭代器（一个列表、元组或集合）并将其值加在一起。\n",
    "\n",
    "这个代码示例创建了一个名为total的变量，遍历arg中的所有值，并将它们加到total中。一旦迭代完毕，它就会返回结果。\n",
    "\n",
    "### 在哪里写测试\n",
    "\n",
    "要开始编写测试，可以简单地创建一个名为test.py的文件，其中将包含一个测试案例。因为该文件需要能够导入应用程序才能进行测试，你要把test.py放在module文件同一个文件夹下，所以目录树看起来像这样。\n",
    "\n",
    "```File system\n",
    "project/\n",
    "│\n",
    "└── my_sum.py\n",
    "|\n",
    "└── test.py\n",
    "```\n",
    "\n",
    "随着你添加越来越多的测试，单一文件会变得杂乱无章，难以维护，所以可以创建一个名为test/的文件夹，将测试分成多个文件。惯例是确保每个文件以test_开头，这样所有的测试运行程序都会认为Python文件包含要执行的测试。一些非常大的项目根据其目的或用途将测试分成更多的子目录（后面有例子）。\n",
    "\n",
    "> 注意：如果应用程序是一个单一的脚本怎么办？\n",
    "那么可以通过使用内置的\\_\\_import\\_\\_()函数导入脚本的任何属性，例如类、函数和变量。你可以这样写，而不是从my_sum导入sum:\n",
    ">```Python\n",
    "target = __import__(\"my_sum.py\")\n",
    "sum = target.sum\n",
    ">```\n",
    "> 使用 \\_\\_import\\_\\_() 的好处是，你不必把你的项目文件夹变成一个包，而且你可以指定文件名。如果你的文件名与任何标准库包相冲突，这也很有用。例如，math.py会与数学模块相冲突。"
   ]
  },
  {
   "cell_type": "markdown",
   "id": "a9509287-4af2-419a-a9e5-18d5365a134d",
   "metadata": {},
   "source": [
    "### 如何构造一个简单的测试\n",
    "\n",
    "在开始写测试之前，要先做几个决定。\n",
    "\n",
    "1. 想测试什么？\n",
    "2. 是写一个单元测试还是集成测试？\n",
    "\n",
    "然后，测试的结构应该松散地遵循下面的工作流程。\n",
    "\n",
    "1. 创建输入\n",
    "2. 执行被测试的代码，捕获输出结果\n",
    "3. 将输出与预期结果进行比较\n",
    "\n",
    "对于示例应用程序，要测试sum()。可以检查sum()中的许多行为，例如。\n",
    "\n",
    "- 能否对整数（整数）的列表进行求和？\n",
    "- 它能对一个元组或集合求和吗？\n",
    "- 它能对一个浮点数的列表求和吗？\n",
    "- 当给它提供一个不好的值，如一个整数或一个字符串，会发生什么？\n",
    "- 当其中一个值是负数时会发生什么？\n",
    "\n",
    "最简单的测试是一个整数的列表。已经创建一个文件 test.py，代码如下\n",
    "\n",
    "```Python\n",
    "import unittest\n",
    "\n",
    "from my_sum import sum\n",
    "\n",
    "\n",
    "class TestSum(unittest.TestCase):\n",
    "    def test_list_int(self):\n",
    "        \"\"\"\n",
    "        Test that it can sum a list of integers\n",
    "        \"\"\"\n",
    "        data = [1, 2, 3]\n",
    "        result = sum(data)\n",
    "        self.assertEqual(result, 6)\n",
    "\n",
    "if __name__ == '__main__':\n",
    "    unittest.main()\n",
    "```\n",
    "\n",
    "可以看到从创建的 my_sum 包中导入 sum()。\n",
    "\n",
    "- 定义了一个名为 TestSum 的新测试用例类，它继承自 unittest.TestCase。\n",
    "- 定义了一个测试方法 test_list_int()，用来测试一个整数列表。通过使用 unittest.TestCase 类上的 self.assertEqual() 方法，断言结果的值等于 6。\n",
    "- 定义一个命令行入口点，运行 unittest 的 main() 函数\n",
    "\n",
    "### 如何编写断言\n",
    "\n",
    "编写测试的最后一步是根据已知的响应来验证输出。这就是所谓的断言。在如何编写断言方面，有一些建议的最佳实践方式。\n",
    "\n",
    "- 确保测试是可重复的，并多次运行你的测试，以确保它每次都给出相同的结果。\n",
    "- 尝试断言与你的输入数据有关的结果，例如检查结果是否是sum()例子中的实际数值之和。\n",
    "\n",
    "unittest 提供了很多方法来断言变量的值、类型和存在。\n",
    "\n",
    "### 副作用\n",
    "\n",
    "当你写测试的时候，往往不是看一个函数的返回值那么简单。通常，执行一段代码会改变环境中的其他东西，如类的属性，文件系统中的文件，或数据库中的值。这些被称为副作用，是测试的一个重要部分。在将其纳入断言列表之前，决定是否对副作用进行测试。\n",
    "\n",
    "如果你发现你要测试的代码单元有很多副作用，你可能会破坏单一责任原则。破坏单一责任原则意味着这段代码做了太多的事情，最好重构一下。遵循 \"单一责任原则 \"是设计代码的一个很好的方法，它易于编写可重复和简单的单元测试，并最终实现可靠的应用。"
   ]
  },
  {
   "cell_type": "markdown",
   "id": "b0e79fd9-bace-4c74-9dcd-abe7cbc95ad6",
   "metadata": {},
   "source": [
    "## 执行测试\n",
    "\n",
    "现在已经创建了第一个测试，接下来就执行它。当然，我们知道它会通过，但在创建更复杂的测试之前，还是检查下是否能成功执行测试。\n",
    "\n",
    "### 执行测试运行程序\n",
    "\n",
    "执行测试代码，检查断言，并在控制台给出测试结果的Python应用程序被称为测试运行器。\n",
    "\n",
    "在test.py的底部，你添加了这一小段代码。\n",
    "\n",
    "```Python\n",
    "if __name__ == '__main__':\n",
    "    unittest.main()\n",
    "```\n",
    "\n",
    "这是一个命令行入口点。这意味着，如果通过在命令行运行 python test.py 来单独执行该脚本，它将调用 unittest.main()。这将通过发现这个文件中所有继承自 unittest.TestCase 的类来执行测试运行器。\n",
    "\n",
    "这是执行 unittest 测试运行器的许多方法之一。当你有一个名为test.py的单一测试文件时，调用python test.py是一个很好的开始方式。\n",
    "\n",
    "另一种方法是使用 unittest 命令行。试试（cd project 是为了先移动到project文件夹下，执行的测试命令是 python -m unittest test）:"
   ]
  },
  {
   "cell_type": "code",
   "execution_count": 7,
   "id": "87a478da-d14e-4640-bab7-751dd560db99",
   "metadata": {},
   "outputs": [
    {
     "name": "stderr",
     "output_type": "stream",
     "text": [
      ".\n",
      "----------------------------------------------------------------------\n",
      "Ran 1 test in 0.000s\n",
      "\n",
      "OK\n"
     ]
    }
   ],
   "source": [
    "! cd project & python -m unittest test"
   ]
  },
  {
   "cell_type": "markdown",
   "id": "a413b5d9-d095-4d9d-b5d9-7a662aa54800",
   "metadata": {},
   "source": [
    "这将通过命令行执行测试模块（test）。\n",
    "\n",
    "可以提供额外的选项来改变输出。其中一个是-v，表示verbose："
   ]
  },
  {
   "cell_type": "code",
   "execution_count": 9,
   "id": "5cb523c8-8c5c-4e38-876a-6204a8d2cdd0",
   "metadata": {},
   "outputs": [
    {
     "name": "stderr",
     "output_type": "stream",
     "text": [
      "test_list_int (test.TestSum)\n",
      "Test that it can sum a list of integers ... ok\n",
      "\n",
      "----------------------------------------------------------------------\n",
      "Ran 1 test in 0.000s\n",
      "\n",
      "OK\n"
     ]
    }
   ],
   "source": [
    "! cd project & python -m unittest -v test"
   ]
  },
  {
   "cell_type": "markdown",
   "id": "ea2a85ec-ff79-4efa-a155-41d8d92236bc",
   "metadata": {},
   "source": [
    "这将执行test.py中的一个测试，并将结果打印到控制台。Verbose 模式首先列出了它所执行的测试的名称，以及每个测试的结果。\n",
    "\n",
    "你可以用下面的方法请求自动发现，而不是提供包含测试的模块的名称。"
   ]
  },
  {
   "cell_type": "code",
   "execution_count": 10,
   "id": "c2490e0f-6dae-4368-a089-52a3f3db6443",
   "metadata": {},
   "outputs": [
    {
     "name": "stderr",
     "output_type": "stream",
     "text": [
      ".\n",
      "----------------------------------------------------------------------\n",
      "Ran 1 test in 0.000s\n",
      "\n",
      "OK\n"
     ]
    }
   ],
   "source": [
    "! cd project & python -m unittest discover"
   ]
  },
  {
   "cell_type": "markdown",
   "id": "9f6d9c61-ecb6-4b87-b2cf-8e1d736ecaf1",
   "metadata": {},
   "source": [
    "这将在当前目录（进入了project目录）中搜索任何名为test*.py的文件，并尝试对它们进行测试。\n",
    "\n",
    "一旦你有多个测试文件，只要遵循test*.py的命名模式，可以通过使用-s标志和目录的名称来代替提供目录的名称。加入我们有个tests文件夹里面放了测试文件：\n",
    "\n",
    "```Shell\n",
    "python -m unittest discover -s tests\n",
    "```\n",
    "\n",
    "unittest 将在一个测试计划中运行所有的测试并给出结果。\n",
    "\n",
    "最后，如果源代码不在根目录中，而是包含在一个子目录中，例如在一个叫做 src/ 的文件夹中，你可以告诉 unittest 在哪里执行测试，以便它能用 -t 标志正确导入模块。\n",
    "\n",
    "```Shell\n",
    "python -m unittest discover -s tests -t src\n",
    "```\n",
    "\n",
    "unittest 会切换到 src/ 目录，扫描 tests 目录下的所有 test*.py 文件，并执行它们。"
   ]
  },
  {
   "cell_type": "markdown",
   "id": "b7268acf-03ea-4f25-a95f-a2cda1e57f99",
   "metadata": {},
   "source": [
    "### 了解测试的输出\n",
    "\n",
    "之前的例子非常简单，测试都通过了，现在尝试一个失败的测试并解释输出。\n",
    "\n",
    "sum()应该能够接受其他数字类型的列表，如分数，我们设置了 1/4, 1/4, 和 2/5 的求和，我们期望的结果是 1，显然是应该报错的:"
   ]
  },
  {
   "cell_type": "code",
   "execution_count": 13,
   "id": "d49d95cf-bf87-48d1-929e-13a6b33c3259",
   "metadata": {},
   "outputs": [
    {
     "name": "stderr",
     "output_type": "stream",
     "text": [
      "F.\n",
      "======================================================================\n",
      "FAIL: test_list_fraction (test_fractions.TestSum)\n",
      "Test that it can sum a list of fractions\n",
      "----------------------------------------------------------------------\n",
      "Traceback (most recent call last):\n",
      "  File \"C:\\Projects\\git\\hydrus\\1-learn-python\\project\\test_fractions.py\", line 21, in test_list_fraction\n",
      "    self.assertEqual(result, 1)\n",
      "AssertionError: Fraction(9, 10) != 1\n",
      "\n",
      "----------------------------------------------------------------------\n",
      "Ran 2 tests in 0.001s\n",
      "\n",
      "FAILED (failures=1)\n"
     ]
    }
   ],
   "source": [
    "! cd project & python -m unittest test_fractions"
   ]
  },
  {
   "cell_type": "markdown",
   "id": "bcaf879b-f6f7-4fff-ad87-a325c8b0a5c0",
   "metadata": {},
   "source": [
    "在输出中，看到的是以下信息。\n",
    "\n",
    "1. 第一行显示了所有测试的执行结果，一个失败（F），一个通过（...）。\n",
    "2. FAIL项显示了关于失败测试的一些细节。\n",
    "    - 测试方法名称(test_list_fraction)\n",
    "    - 测试模块（test_fractions）和测试案例（TestSum）。\n",
    "    - 回溯到失败的那一行\n",
    "    - 断言的细节，包括预期结果（1）和实际结果（Fraction(9, 10)）。\n",
    "\n",
    "记住，可以通过在 python -m unittest 命令中添加 -v 标志来为测试输出添加额外信息。"
   ]
  },
  {
   "cell_type": "markdown",
   "id": "b5be4ffd-39d1-4f5b-9d38-910cc8016f4a",
   "metadata": {},
   "source": [
    "## 更高级的测试场景\n",
    "\n",
    "在开始为应用程序创建测试之前，请记住每个测试的三个基本步骤。\n",
    "\n",
    "1. 创建输入\n",
    "2. 执行代码，捕获输出\n",
    "3. 将输出与预期结果进行比较\n",
    "\n",
    "这并不总是像为输入创建一个静态值那样简单，比如一个字符串或数字。有时，应用程序需要一个类的实例或一个上下文。这时该怎么办呢？\n",
    "\n",
    "创建的作为输入的数据被称为 **fixture**。创建fixture并重复使用它们是一种常见的做法。\n",
    "\n",
    "如果运行同一个测试，每次传递不同的值，并期望得到相同的结果，这就是所谓的**参数化 parameterization**。\n",
    "\n",
    "### 处理预期的失败\n",
    "\n",
    "做一个测试sum()的场景列表时，如果给它提供一个不好的值，如一个单一的整数或一个字符串，会发生什么？\n",
    "\n",
    "在这种情况下，我们会期望sum()抛出一个错误。当它抛出一个错误时，就会导致测试失败。\n",
    "\n",
    "有一种特殊的方法来处理预期错误。可以使用.assertRaises()作为上下文管理器，然后在with块中执行测试步骤，例如：\n",
    "\n",
    "```Python\n",
    "import unittest\n",
    "\n",
    "from my_sum import sum\n",
    "\n",
    "\n",
    "class TestSum(unittest.TestCase):\n",
    "    def test_bad_type(self):\n",
    "        data = \"banana\"\n",
    "        with self.assertRaises(TypeError):\n",
    "            result = sum(data)\n",
    "\n",
    "if __name__ == '__main__':\n",
    "    unittest.main()\n",
    "```\n",
    "\n",
    "现在这个测试案例只有在sum(data)引发TypeError时才会通过，其中TypeError 可以是任何异常类型。"
   ]
  },
  {
   "cell_type": "markdown",
   "id": "f07ae997-77c3-4768-9751-f224dd17d7ac",
   "metadata": {},
   "source": [
    "### 隔离应用程序中的行为\n",
    "\n",
    "副作用使单元测试更加困难，因为每次运行测试都可能得到不同的结果，或者更糟糕的是，一个测试可能影响应用程序的状态，导致另一个测试失败\n",
    "\n",
    "有一些简单的技术，可以用来测试应用程序中具有许多副作用的部分。\n",
    "\n",
    "- 重构代码以遵循单一责任原则\n",
    "- Mock 任何方法或函数的调用以消除副作用\n",
    "- 对应用程序的这一部分使用集成测试而不是单元测试\n",
    "\n",
    "如果你不熟悉Mock，下一节有一些介绍。\n",
    "\n",
    "### 编写集成测试\n",
    "\n",
    "到目前为止，主要在了解单元测试。单元测试是建立可预测和稳定的代码的一个好方法。但应用程序需要在启动时能够完整地工作，需要我们做好集成测试。\n",
    "\n",
    "集成测试是对应用程序的多个组件的测试，以检查它们是否能一起工作。\n",
    "\n",
    "每种类型的集成测试都可以用与单元测试相同的方式编写，遵循输入、执行和断言模式。最显著的区别是，集成测试一次检查更多的组件，因此会比单元测试有更多的副作用。另外，集成测试需要更多的固定装置，如数据库，或配置文件等。\n",
    "\n",
    "这就是为什么把单元测试和集成测试分开是一个好的做法。创建集成所需的固定装置，如测试数据库和测试用例本身，往往需要比单元测试更长的时间来执行，所以你可能只想在推送到生产之前运行集成测试，而不是在每次提交时运行一次。\n",
    "\n",
    "分开单元测试和集成测试的一个简单方法是把它们放在不同的文件夹里。\n",
    "\n",
    "```File System\n",
    "project/\n",
    "│\n",
    "├── my_app/\n",
    "│   └── __init__.py\n",
    "│\n",
    "└── tests/\n",
    "    |\n",
    "    ├── unit/\n",
    "    |   ├── __init__.py\n",
    "    |   └── test_sum.py\n",
    "    |\n",
    "    └── integration/\n",
    "        ├── __init__.py\n",
    "        └── test_integration.py\n",
    "```\n",
    "\n",
    "有很多方法可以只执行一组选定的测试。指定源目录标志，-s，可以用包含测试的路径添加到 unittest discover 中。\n",
    "\n",
    "```Shell\n",
    "python -m unittest discover -s tests/integration\n",
    "```\n",
    "\n",
    "unittest就会给你test/integration目录内所有测试的结果。\n",
    "\n",
    "### 测试数据驱动应用程序\n",
    "\n",
    "许多集成测试需要像数据库这样的后端数据存在某些值。例如，可能希望有一个测试，检查数据库中超过100个客户的应用程序是否显示正确，或者即使产品名称用日语显示，订单页面也能正常工作。\n",
    "\n",
    "这些类型的集成测试将依赖于不同的测试夹具，以确保它们是可重复和可预测的。\n",
    "\n",
    "一个好的技术是将测试数据存储在你的集成测试文件夹中的一个叫fixtures的文件夹中，以表明它包含测试数据。然后，在你的测试中，你可以加载数据并运行测试。\n",
    "\n",
    "下面是一个结构的例子，如果数据是由JSON文件组成的。\n",
    "\n",
    "```File System\n",
    "project/\n",
    "│\n",
    "├── my_app/\n",
    "│   └── __init__.py\n",
    "│\n",
    "└── tests/\n",
    "    |\n",
    "    └── unit/\n",
    "    |   ├── __init__.py\n",
    "    |   └── test_sum.py\n",
    "    |\n",
    "    └── integration/\n",
    "        |\n",
    "        ├── fixtures/\n",
    "        |   ├── test_basic.json\n",
    "        |   └── test_complex.json\n",
    "        |\n",
    "        ├── __init__.py\n",
    "        └── test_integration.py\n",
    "```\n",
    "\n",
    "在测试用例中，可以使用 .setUp() 方法从已知路径的fixture文件中加载测试数据，并针对该测试数据执行许多测试。记住可以在一个Python文件中拥有多个测试用例，unittest发现将执行这两个文件。可以为每组测试数据准备一个测试用例。比如：\n",
    "\n",
    "```Python\n",
    "import unittest\n",
    "\n",
    "\n",
    "class TestBasic(unittest.TestCase):\n",
    "    def setUp(self):\n",
    "        # Load test data\n",
    "        self.app = App(database='fixtures/test_basic.json')\n",
    "\n",
    "    def test_customer_count(self):\n",
    "        self.assertEqual(len(self.app.customers), 100)\n",
    "\n",
    "    def test_existence_of_customer(self):\n",
    "        customer = self.app.get_customer(id=10)\n",
    "        self.assertEqual(customer.name, \"Org XYZ\")\n",
    "        self.assertEqual(customer.address, \"10 Red Road, Reading\")\n",
    "\n",
    "\n",
    "class TestComplexData(unittest.TestCase):\n",
    "    def setUp(self):\n",
    "        # load test data\n",
    "        self.app = App(database='fixtures/test_complex.json')\n",
    "\n",
    "    def test_customer_count(self):\n",
    "        self.assertEqual(len(self.app.customers), 10000)\n",
    "\n",
    "    def test_existence_of_customer(self):\n",
    "        customer = self.app.get_customer(id=9999)\n",
    "        self.assertEqual(customer.name, u\"バナナ\")\n",
    "        self.assertEqual(customer.address, \"10 Red Road, Akihabara, Tokyo\")\n",
    "\n",
    "if __name__ == '__main__':\n",
    "    unittest.main()\n",
    "```\n",
    "\n",
    "如果你的应用程序依赖于来自远程位置的数据，如远程API，你会想确保你的测试是可重复的。如果你的测试因为API离线或有连接问题而失败，可能会拖累开发。在这些类型的情况下，最好的做法是将远程固定程序存储在本地，这样它们就可以被调用并发送给应用程序。\n",
    "\n",
    "requests库有一个名为response的免费包，它为你提供了创建响应固定程序的方法，并将它们保存在你的测试文件夹中。"
   ]
  },
  {
   "cell_type": "markdown",
   "id": "cb5db3af-2bcd-4c04-b750-46b29582b5a8",
   "metadata": {},
   "source": [
    "## 关于mock的补充\n",
    "\n",
    "这里补充一些诸如mock等概念的基本内容。主要参考了：\n",
    "\n",
    "- [Python Mocking, You Are A Tricksy Beast](https://medium.com/python-pandemonium/python-mocking-you-are-a-tricksy-beast-6c4a1f8d19b2)\n",
    "- [An Introduction to Mocking in Python](https://www.toptal.com/python/an-introduction-to-mocking-in-python)\n",
    "- [Understanding the Python Mock Object Library](https://realpython.com/python-mock-library/#patch-as-a-decorator)\n",
    "- [4 Techniques for Testing Python Command-Line (CLI) Apps](https://realpython.com/python-cli-testing/#lo-fi-debugging-with-print)\n",
    "\n",
    "### 为什么要使用mock\n",
    "\n",
    "测试是验证逻辑是否正确的可靠高效的方式。不过由于一些复杂逻辑和依赖库，会使得测试变得困难。一个使用Python mock 对象的理由就是在测试过程中控制代码的行为。比如代码发送HTTP请求到外部服务，只有当服务的行为符合您的预期时，您的测试才会可预测地执行。有时，这些外部服务行为的临时更改可能导致测试套件中的间歇性故障。因此，我们想要使我们的代码在一个受控的环境下测试。而使用mock对象可以做到这一点。\n",
    "\n",
    "有时，很难测试代码的某些环节，比如except代码块，if代码块，因为可能不出现这样的场景，这时候使用mock对象也可以帮助控制代码执行的路径来使程序能运行到这些地方，提升code coverage。\n",
    "\n",
    "另一个原因是更好地理解如何使用代码的真实副本。一个python mock对象包含关于其用法的数据，您可以检查这些数据，比如：是否调用了某个方法，如何调用某个方法，多久一次调用某个方法。\n",
    "\n",
    "此外，有时候我们会面临这样的情形，即我们想测试我们的代码，但是不想产生一些脏结果，比如：我们想要测试facebook的上传功能，但是并不想真的上传一个内容上去。再比如，写一个弹出一个CD drive的脚本，或者一个从/tmp文件夹清除缓存的服务，或者一个绑定到TCP端口的socket服务，这些在unittest下都会产生dirty结果。作为写代码的，更关心的是您的库成功地调用了系统函数来弹出CD，而不是每次运行测试时都还需要打开CD drive。保持单元测试的效率和性能意味着尽量避免运行自动化测试的缓慢代码。\n",
    "\n",
    "还有，个人认为，在实际测试算法代码的过程中，后面函数会用到前面过程的数据结果，如果每次都从头测试，那么花费时间会很长，因此保存中间计算结果，然后使用mock来代替前面的函数过程，直接读取中间结果来供后面代码测试也是十分必要的。\n",
    "\n",
    "而unittest.mock可以客服这些困难。接下来就看看mock究竟是什么。\n",
    "\n",
    "### What Is Mocking?\n",
    "\n",
    "mock就是“看起来像真的”的意思，在**测试环境下**，一个mock对象**代替模拟**一个真实的对象。是一个灵活有力的提升测试质量的工具。\n",
    "\n",
    "unittest.mock库提供了一个叫做Mock的类，可以使用它来模拟代码中的真实对象。Mock还提供了一个函数patch()，它用Mock实例提到了代码中的真实对象。可以将patch()用为decorator，也可以用作context manager ， 取决于想要模拟的对象控制的scope。一旦退出指定的scope，patch就会立刻用真实的副本来取代mock对象。\n",
    "\n",
    "首先先看看Mock。"
   ]
  },
  {
   "cell_type": "code",
   "execution_count": 1,
   "id": "8d6dad06-498f-4012-be27-6684994b796e",
   "metadata": {},
   "outputs": [
    {
     "data": {
      "text/plain": [
       "<Mock id='1808095415504'>"
      ]
     },
     "execution_count": 1,
     "metadata": {},
     "output_type": "execute_result"
    }
   ],
   "source": [
    "from unittest.mock import Mock\n",
    "mock = Mock()\n",
    "mock"
   ]
  },
  {
   "cell_type": "markdown",
   "id": "4e3263fc-fb34-4c96-ba9d-21b063039168",
   "metadata": {},
   "source": [
    "现在就可以使用 Mock来替代代码中的对象了。可以传递它为一个函数的参数或者重定义一个对象。形如：\n",
    "\n",
    "```python\n",
    "# Pass mock as an argument to do_something()\n",
    "do_something(mock)\n",
    "\n",
    "# Patch the json library\n",
    "json = mock\n",
    "```\n",
    "\n",
    "注意，当你替换一个对象时，Mock必须要看起来真的像这个对象。比如要mock json库，那么程序调用dumps函数，你的mock对象里必须得有一个dumps函数。"
   ]
  },
  {
   "cell_type": "code",
   "execution_count": 2,
   "id": "2d809738-ee4a-4c2b-8eb2-e7a7d1bc247c",
   "metadata": {},
   "outputs": [
    {
     "data": {
      "text/plain": [
       "<Mock name='mock.some_attribute' id='1808096142240'>"
      ]
     },
     "execution_count": 2,
     "metadata": {},
     "output_type": "execute_result"
    }
   ],
   "source": [
    "mock.some_attribute"
   ]
  },
  {
   "cell_type": "code",
   "execution_count": 3,
   "id": "892745f4-6240-40ef-a1a8-68c6da9bea13",
   "metadata": {},
   "outputs": [
    {
     "data": {
      "text/plain": [
       "<Mock name='mock.do_something()' id='1808096143056'>"
      ]
     },
     "execution_count": 3,
     "metadata": {},
     "output_type": "execute_result"
    }
   ],
   "source": [
    "mock.do_something()"
   ]
  },
  {
   "cell_type": "markdown",
   "id": "fb9b064a-53aa-41f2-9ea4-ac0219e5ba7b",
   "metadata": {},
   "source": [
    "Mock可以创建任意属性，可以代替任意对象。用一下之前提到的json例子："
   ]
  },
  {
   "cell_type": "code",
   "execution_count": 4,
   "id": "d309fb28-5f3e-4d4d-9430-b7f10648592e",
   "metadata": {},
   "outputs": [
    {
     "data": {
      "text/plain": [
       "<Mock name='mock.dumps()' id='1808096143872'>"
      ]
     },
     "execution_count": 4,
     "metadata": {},
     "output_type": "execute_result"
    }
   ],
   "source": [
    "json = Mock()\n",
    "json.dumps()"
   ]
  },
  {
   "cell_type": "markdown",
   "id": "c60ac964-8c27-4152-a883-0ed6e6fd2afa",
   "metadata": {},
   "source": [
    "可以看到很容易的就mock了kson库和其dumps函数，dumps可以接受任意参数，返回值也是一个mock对象，因此mock可以用到很复杂的环境下。很灵活。\n",
    "\n",
    "接下来，看看如何用mock更好地理解代码。Mock实例存储这怎么使用它们的数据。\n",
    "\n",
    "首先可以断言程序使用了你期望的一个对象。"
   ]
  },
  {
   "cell_type": "code",
   "execution_count": 5,
   "id": "01ce9433-f4ae-4299-8dd1-bb1ec70a4cb8",
   "metadata": {},
   "outputs": [
    {
     "data": {
      "text/plain": [
       "<Mock name='mock.loads()' id='1808096143200'>"
      ]
     },
     "execution_count": 5,
     "metadata": {},
     "output_type": "execute_result"
    }
   ],
   "source": [
    "from unittest.mock import Mock\n",
    "json = Mock()\n",
    "json.loads('{\"key\": \"value\"}')"
   ]
  },
  {
   "cell_type": "code",
   "execution_count": 6,
   "id": "fe53da42-1df2-4710-998e-4d83ddbcf6b2",
   "metadata": {},
   "outputs": [],
   "source": [
    "json.loads.assert_called()"
   ]
  },
  {
   "cell_type": "code",
   "execution_count": 7,
   "id": "76ed5dcc-d8ba-4ea6-9c65-51e9be72ae3d",
   "metadata": {},
   "outputs": [],
   "source": [
    "json.loads.assert_called_with('{\"key\": \"value\"}')"
   ]
  },
  {
   "cell_type": "code",
   "execution_count": 8,
   "id": "a29502cf-2a3a-460c-ac33-22a4542c5158",
   "metadata": {},
   "outputs": [],
   "source": [
    "json.loads.assert_called_once_with('{\"key\": \"value\"}')"
   ]
  },
  {
   "cell_type": "code",
   "execution_count": 9,
   "id": "69e6cd3c-8055-4ac1-9e5c-c30fcafa52be",
   "metadata": {},
   "outputs": [
    {
     "data": {
      "text/plain": [
       "<Mock name='mock.loads()' id='1808096143200'>"
      ]
     },
     "execution_count": 9,
     "metadata": {},
     "output_type": "execute_result"
    }
   ],
   "source": [
    "json.loads('{\"key\": \"value\"}')"
   ]
  },
  {
   "cell_type": "code",
   "execution_count": 10,
   "id": "e0e2a8ec-f807-4811-9e43-7be10a44e894",
   "metadata": {},
   "outputs": [
    {
     "ename": "AssertionError",
     "evalue": "Expected 'loads' to have been called once. Called 2 times.\nCalls: [call('{\"key\": \"value\"}'), call('{\"key\": \"value\"}')].",
     "output_type": "error",
     "traceback": [
      "\u001b[1;31m---------------------------------------------------------------------------\u001b[0m",
      "\u001b[1;31mAssertionError\u001b[0m                            Traceback (most recent call last)",
      "\u001b[1;32m~\\AppData\\Local\\Temp/ipykernel_16076/1308084012.py\u001b[0m in \u001b[0;36m<module>\u001b[1;34m\u001b[0m\n\u001b[1;32m----> 1\u001b[1;33m \u001b[0mjson\u001b[0m\u001b[1;33m.\u001b[0m\u001b[0mloads\u001b[0m\u001b[1;33m.\u001b[0m\u001b[0massert_called_once\u001b[0m\u001b[1;33m(\u001b[0m\u001b[1;33m)\u001b[0m\u001b[1;33m\u001b[0m\u001b[1;33m\u001b[0m\u001b[0m\n\u001b[0m",
      "\u001b[1;32m~\\miniconda3\\envs\\hydrus\\lib\\unittest\\mock.py\u001b[0m in \u001b[0;36massert_called_once\u001b[1;34m(self)\u001b[0m\n\u001b[0;32m    884\u001b[0m                       \u001b[0mself\u001b[0m\u001b[1;33m.\u001b[0m\u001b[0mcall_count\u001b[0m\u001b[1;33m,\u001b[0m\u001b[1;33m\u001b[0m\u001b[1;33m\u001b[0m\u001b[0m\n\u001b[0;32m    885\u001b[0m                       self._calls_repr()))\n\u001b[1;32m--> 886\u001b[1;33m             \u001b[1;32mraise\u001b[0m \u001b[0mAssertionError\u001b[0m\u001b[1;33m(\u001b[0m\u001b[0mmsg\u001b[0m\u001b[1;33m)\u001b[0m\u001b[1;33m\u001b[0m\u001b[1;33m\u001b[0m\u001b[0m\n\u001b[0m\u001b[0;32m    887\u001b[0m \u001b[1;33m\u001b[0m\u001b[0m\n\u001b[0;32m    888\u001b[0m     \u001b[1;32mdef\u001b[0m \u001b[0massert_called_with\u001b[0m\u001b[1;33m(\u001b[0m\u001b[0mself\u001b[0m\u001b[1;33m,\u001b[0m \u001b[1;33m/\u001b[0m\u001b[1;33m,\u001b[0m \u001b[1;33m*\u001b[0m\u001b[0margs\u001b[0m\u001b[1;33m,\u001b[0m \u001b[1;33m**\u001b[0m\u001b[0mkwargs\u001b[0m\u001b[1;33m)\u001b[0m\u001b[1;33m:\u001b[0m\u001b[1;33m\u001b[0m\u001b[1;33m\u001b[0m\u001b[0m\n",
      "\u001b[1;31mAssertionError\u001b[0m: Expected 'loads' to have been called once. Called 2 times.\nCalls: [call('{\"key\": \"value\"}'), call('{\"key\": \"value\"}')]."
     ]
    }
   ],
   "source": [
    "json.loads.assert_called_once()"
   ]
  },
  {
   "cell_type": "code",
   "execution_count": null,
   "id": "b5bbd22f-1d6f-436d-ac7c-35980d823750",
   "metadata": {},
   "outputs": [],
   "source": [
    "json.loads.assert_called_once_with('{\"key\": \"value\"}')"
   ]
  },
  {
   "cell_type": "code",
   "execution_count": 11,
   "id": "4e53e703-acb0-4139-ba63-a60442aec174",
   "metadata": {},
   "outputs": [
    {
     "ename": "AssertionError",
     "evalue": "Expected 'loads' to not have been called. Called 2 times.\nCalls: [call('{\"key\": \"value\"}'), call('{\"key\": \"value\"}')].",
     "output_type": "error",
     "traceback": [
      "\u001b[1;31m---------------------------------------------------------------------------\u001b[0m",
      "\u001b[1;31mAssertionError\u001b[0m                            Traceback (most recent call last)",
      "\u001b[1;32m~\\AppData\\Local\\Temp/ipykernel_16076/1090188118.py\u001b[0m in \u001b[0;36m<module>\u001b[1;34m\u001b[0m\n\u001b[1;32m----> 1\u001b[1;33m \u001b[0mjson\u001b[0m\u001b[1;33m.\u001b[0m\u001b[0mloads\u001b[0m\u001b[1;33m.\u001b[0m\u001b[0massert_not_called\u001b[0m\u001b[1;33m(\u001b[0m\u001b[1;33m)\u001b[0m\u001b[1;33m\u001b[0m\u001b[1;33m\u001b[0m\u001b[0m\n\u001b[0m",
      "\u001b[1;32m~\\miniconda3\\envs\\hydrus\\lib\\unittest\\mock.py\u001b[0m in \u001b[0;36massert_not_called\u001b[1;34m(self)\u001b[0m\n\u001b[0;32m    866\u001b[0m                       \u001b[0mself\u001b[0m\u001b[1;33m.\u001b[0m\u001b[0mcall_count\u001b[0m\u001b[1;33m,\u001b[0m\u001b[1;33m\u001b[0m\u001b[1;33m\u001b[0m\u001b[0m\n\u001b[0;32m    867\u001b[0m                       self._calls_repr()))\n\u001b[1;32m--> 868\u001b[1;33m             \u001b[1;32mraise\u001b[0m \u001b[0mAssertionError\u001b[0m\u001b[1;33m(\u001b[0m\u001b[0mmsg\u001b[0m\u001b[1;33m)\u001b[0m\u001b[1;33m\u001b[0m\u001b[1;33m\u001b[0m\u001b[0m\n\u001b[0m\u001b[0;32m    869\u001b[0m \u001b[1;33m\u001b[0m\u001b[0m\n\u001b[0;32m    870\u001b[0m     \u001b[1;32mdef\u001b[0m \u001b[0massert_called\u001b[0m\u001b[1;33m(\u001b[0m\u001b[0mself\u001b[0m\u001b[1;33m)\u001b[0m\u001b[1;33m:\u001b[0m\u001b[1;33m\u001b[0m\u001b[1;33m\u001b[0m\u001b[0m\n",
      "\u001b[1;31mAssertionError\u001b[0m: Expected 'loads' to not have been called. Called 2 times.\nCalls: [call('{\"key\": \"value\"}'), call('{\"key\": \"value\"}')]."
     ]
    }
   ],
   "source": [
    "json.loads.assert_not_called()"
   ]
  },
  {
   "cell_type": "markdown",
   "id": "1247e3be-af5e-43d2-b473-23e7aa5dff1d",
   "metadata": {},
   "source": [
    ".assert_called()函数确保了调用mocked函数。 .assert_called_once()可以检查调用的次数。\n",
    "\n",
    "第二，可以查看特殊属性以理解应用是如何使用该对象的。"
   ]
  },
  {
   "cell_type": "code",
   "execution_count": 12,
   "id": "34f1acd3-6117-4ace-a62f-ae64ed21632a",
   "metadata": {},
   "outputs": [
    {
     "data": {
      "text/plain": [
       "<Mock name='mock.loads()' id='1808097178288'>"
      ]
     },
     "execution_count": 12,
     "metadata": {},
     "output_type": "execute_result"
    }
   ],
   "source": [
    "from unittest.mock import Mock\n",
    "json = Mock()\n",
    "json.loads('{\"key\": \"value\"}')"
   ]
  },
  {
   "cell_type": "code",
   "execution_count": 13,
   "id": "8acff346-34c3-438c-88f1-2313c1a7ad5d",
   "metadata": {},
   "outputs": [
    {
     "data": {
      "text/plain": [
       "1"
      ]
     },
     "execution_count": 13,
     "metadata": {},
     "output_type": "execute_result"
    }
   ],
   "source": [
    "json.loads.call_count"
   ]
  },
  {
   "cell_type": "code",
   "execution_count": 14,
   "id": "5089aaa0-14c2-4c47-bd9f-d6b7a8f4d9e2",
   "metadata": {},
   "outputs": [
    {
     "data": {
      "text/plain": [
       "call('{\"key\": \"value\"}')"
      ]
     },
     "execution_count": 14,
     "metadata": {},
     "output_type": "execute_result"
    }
   ],
   "source": [
    "json.loads.call_args"
   ]
  },
  {
   "cell_type": "code",
   "execution_count": 15,
   "id": "bcfb0b20-63f1-4ad1-b439-548efc1fbdbd",
   "metadata": {},
   "outputs": [
    {
     "data": {
      "text/plain": [
       "[call('{\"key\": \"value\"}')]"
      ]
     },
     "execution_count": 15,
     "metadata": {},
     "output_type": "execute_result"
    }
   ],
   "source": [
    "json.loads.call_args_list"
   ]
  },
  {
   "cell_type": "code",
   "execution_count": 16,
   "id": "aaa0a8e2-6a18-4c8b-908e-44afb645b312",
   "metadata": {},
   "outputs": [
    {
     "data": {
      "text/plain": [
       "[call.loads('{\"key\": \"value\"}')]"
      ]
     },
     "execution_count": 16,
     "metadata": {},
     "output_type": "execute_result"
    }
   ],
   "source": [
    "json.method_calls"
   ]
  },
  {
   "cell_type": "markdown",
   "id": "4ae2c773-ef0b-4b5d-b5a2-165b69860c27",
   "metadata": {},
   "source": [
    "通过以上测试代码可以使用各类属性来保证对象行为是想要的。这是一些固有的方法，接下来看看如何定制mocked方法。\n",
    "\n",
    "管理一个Mock的返回值。一个使用mocks的原因就是控制代码的行为。一种十分常用的方式就是指定一个函数的返回值。\n",
    "\n",
    "首先，创建一个文件my_calendar.py，代码见文件。然后执行下列语句："
   ]
  },
  {
   "cell_type": "code",
   "execution_count": 17,
   "id": "f9654004-e057-478e-80e8-368ed13bd787",
   "metadata": {},
   "outputs": [],
   "source": [
    "!python my_calendar.py"
   ]
  },
  {
   "cell_type": "markdown",
   "id": "468c4115-cc7a-42e0-888a-e40ca4a6b353",
   "metadata": {},
   "source": [
    "上述代码如果在周末的时候运行是会报错的。而平常是正确的。写测试代码时候，很重要的是确保结果是可预测的。可以使用Mock来去除代码中的不确定性。如下所示，通过Mock .today() 指定返回值来实现。"
   ]
  },
  {
   "cell_type": "code",
   "execution_count": 18,
   "id": "c9693844-dd11-43f8-b24c-bd4bec3a7e16",
   "metadata": {},
   "outputs": [],
   "source": [
    "import datetime\n",
    "from unittest.mock import Mock\n",
    "\n",
    "# Save a couple of test days\n",
    "tuesday = datetime.datetime(year=2019, month=1, day=1)\n",
    "saturday = datetime.datetime(year=2019, month=1, day=5)\n",
    "\n",
    "# Mock datetime to control today's date\n",
    "datetime = Mock()\n",
    "\n",
    "def is_weekday():\n",
    "    today = datetime.datetime.today()\n",
    "    # Python's datetime library treats Monday as 0 and Sunday as 6\n",
    "    return (0 <= today.weekday() < 5)\n",
    "\n",
    "# Mock .today() to return Tuesday\n",
    "datetime.datetime.today.return_value = tuesday\n",
    "# Test Tuesday is a weekday\n",
    "assert is_weekday()\n",
    "# Mock .today() to return Saturday\n",
    "datetime.datetime.today.return_value = saturday\n",
    "# Test Saturday is not a weekday\n",
    "assert not is_weekday()"
   ]
  },
  {
   "cell_type": "markdown",
   "id": "efc4ad4a-ffe3-4f4d-8146-d54f6eeb861c",
   "metadata": {},
   "source": [
    "### patch()\n",
    "\n",
    "前面已经提到，unittest.mock还有一个很好的机制：patch(), 装饰器，补丁。\n",
    "\n",
    "接下来通过实例分析。\n",
    "\n",
    "看下mock官方的说明：“mock is a library for testing in Python. It allows you to replace parts of your system under test with mock objects and make assertions about how they have been used.”\n",
    "\n",
    "关键是如何理解“replace parts of your system”。这里的parts指的是什么。实际上可以包括：\n",
    "\n",
    "- functions\n",
    "- classes，objects\n",
    "\n",
    "可以使用Mock 或 MagicMock 类的实例的“mock 对象”来替代它们。\n",
    "\n",
    "比如mocking functions，以一个简单的函数为例，文件 simple.py。在测试中调用该函数有两种方式，其一是直接使用："
   ]
  },
  {
   "cell_type": "code",
   "execution_count": 19,
   "id": "7d293b8b-d542-4a88-b02a-1f84ee6b50fd",
   "metadata": {},
   "outputs": [
    {
     "name": "stdout",
     "output_type": "stream",
     "text": [
      "You have called simple_function\n"
     ]
    }
   ],
   "source": [
    "import simple\n",
    "from unittest import mock\n",
    "def use_simple_function():\n",
    "    result = simple.simple_function()\n",
    "    print(result)\n",
    "use_simple_function()"
   ]
  },
  {
   "cell_type": "markdown",
   "id": "f0cf6e5f-f6a2-4334-aa09-d4744bae0f1f",
   "metadata": {},
   "source": [
    "其二就是利用mock进行测试，为了模仿 simple_function，可以使用 mock.patch decorator。该decorator可以使用户通过以‘package.module.FunctionName’形式传入字符串参数指定想要mock的内容。对于本例，即module simple和函数simple_function，decorator如下第一行，函数可以表达为如下所示。其中函数mock_simple_function的参数是MagicMock类对象，用来代替想要mock的函数。"
   ]
  },
  {
   "cell_type": "code",
   "execution_count": 20,
   "id": "0f9e18d4-95dc-46c8-b59e-8a110bbb1274",
   "metadata": {},
   "outputs": [
    {
     "name": "stdout",
     "output_type": "stream",
     "text": [
      "<MagicMock name='simple_function' id='1808096143680'>\n"
     ]
    }
   ],
   "source": [
    "@mock.patch('simple.simple_function')\n",
    "def mock_simple_function(mock_simple_func):\n",
    "    print(mock_simple_func)\n",
    "mock_simple_function()"
   ]
  },
  {
   "cell_type": "markdown",
   "id": "9599bf87-778a-4ff2-9a8d-a9a46cf80ba3",
   "metadata": {},
   "source": [
    "通过语句“@mock.patch(‘simple.simple_function’)”表明想使用MagicMock对象表达来替代simple_function，这个对象放入了mock_simple_func这一函数形参中。如上代码执行结果所示，输出是一个MagicMock对象，就是它替代了simple_function被调用。可从以下代码中看出："
   ]
  },
  {
   "cell_type": "code",
   "execution_count": 21,
   "id": "91057989-f9f5-411a-bae3-59bbb7573ed4",
   "metadata": {},
   "outputs": [
    {
     "name": "stdout",
     "output_type": "stream",
     "text": [
      "<MagicMock name='simple_function' id='1808097177952'>\n",
      "<MagicMock name='simple_function' id='1808097177952'>\n",
      "<MagicMock name='simple_function()' id='1808097243920'>\n"
     ]
    }
   ],
   "source": [
    "@mock.patch('simple.simple_function')\n",
    "def mock_simple_function(mock_simple_func):\n",
    "    print(mock_simple_func)\n",
    "    print(simple.simple_function)\n",
    "    result = simple.simple_function()\n",
    "    print(result)\n",
    "mock_simple_function()"
   ]
  },
  {
   "cell_type": "markdown",
   "id": "913675a6-c8d7-45fb-9b3d-ac8731ddd48e",
   "metadata": {},
   "source": [
    "不过现在还有个更重要的问题：为什么创建新的MagicMock对象，究竟怎么调用这个对象。所以要看看MagicMock这个类。MagicMock之所以叫magic，是因为它有大多数python的magic函数的默认实现，即那些名称前后有双下划线的函数，可以查看[这里](http://www.ironpythoninaction.com/magic-methods.html)。比如__call__，即可以让一个类对象可以像函数那样被调用。因此，MagicMock对象是可以直接像函数那样被调用的。\n",
    "\n",
    "回到例子中，现在已经mock了simple_function，但是还没有使用它来做什么。那么现在想返回simple_function()的结果要怎么做呢？可以使用MagicMock的return_value属性来实现："
   ]
  },
  {
   "cell_type": "code",
   "execution_count": 22,
   "id": "3ce86625-6d38-4364-afc6-8d2a22710420",
   "metadata": {},
   "outputs": [
    {
     "name": "stdout",
     "output_type": "stream",
     "text": [
      "You have mocked simple_function\n"
     ]
    }
   ],
   "source": [
    "@mock.patch('simple.simple_function')\n",
    "def mock_simple_function(mock_simple_func):\n",
    "    mock_simple_func.return_value = \"You have mocked simple_function\"\n",
    "    result = simple.simple_function()\n",
    "    print(result)\n",
    "mock_simple_function()"
   ]
  },
  {
   "cell_type": "markdown",
   "id": "696a397a-94b0-46ef-a9ec-e6e167230093",
   "metadata": {},
   "source": [
    "从上面结果可以看出很好地模仿了simple_function函数结果。\n",
    "\n",
    "如果除了返回值之外，还想其他功能，可以使用MagicMock.side_effect 。比如想要测试一个错误并抛出一个异常。"
   ]
  },
  {
   "cell_type": "code",
   "execution_count": 23,
   "id": "8139b72c-07fa-4147-b505-222e19508729",
   "metadata": {},
   "outputs": [
    {
     "ename": "FloatingPointError",
     "evalue": "A disastrous floating point error has occurred",
     "output_type": "error",
     "traceback": [
      "\u001b[1;31m---------------------------------------------------------------------------\u001b[0m",
      "\u001b[1;31mFloatingPointError\u001b[0m                        Traceback (most recent call last)",
      "\u001b[1;32m~\\AppData\\Local\\Temp/ipykernel_16076/1503262243.py\u001b[0m in \u001b[0;36m<module>\u001b[1;34m\u001b[0m\n\u001b[0;32m      8\u001b[0m     \u001b[0mprint\u001b[0m\u001b[1;33m(\u001b[0m\u001b[0mresult\u001b[0m\u001b[1;33m)\u001b[0m\u001b[1;33m\u001b[0m\u001b[1;33m\u001b[0m\u001b[0m\n\u001b[0;32m      9\u001b[0m \u001b[1;33m\u001b[0m\u001b[0m\n\u001b[1;32m---> 10\u001b[1;33m \u001b[0mmock_simple_function_with_side_effect\u001b[0m\u001b[1;33m(\u001b[0m\u001b[1;33m)\u001b[0m\u001b[1;33m\u001b[0m\u001b[1;33m\u001b[0m\u001b[0m\n\u001b[0m",
      "\u001b[1;32m~\\miniconda3\\envs\\hydrus\\lib\\unittest\\mock.py\u001b[0m in \u001b[0;36mpatched\u001b[1;34m(*args, **keywargs)\u001b[0m\n\u001b[0;32m   1335\u001b[0m                                         \u001b[0margs\u001b[0m\u001b[1;33m,\u001b[0m\u001b[1;33m\u001b[0m\u001b[1;33m\u001b[0m\u001b[0m\n\u001b[0;32m   1336\u001b[0m                                         keywargs) as (newargs, newkeywargs):\n\u001b[1;32m-> 1337\u001b[1;33m                 \u001b[1;32mreturn\u001b[0m \u001b[0mfunc\u001b[0m\u001b[1;33m(\u001b[0m\u001b[1;33m*\u001b[0m\u001b[0mnewargs\u001b[0m\u001b[1;33m,\u001b[0m \u001b[1;33m**\u001b[0m\u001b[0mnewkeywargs\u001b[0m\u001b[1;33m)\u001b[0m\u001b[1;33m\u001b[0m\u001b[1;33m\u001b[0m\u001b[0m\n\u001b[0m\u001b[0;32m   1338\u001b[0m \u001b[1;33m\u001b[0m\u001b[0m\n\u001b[0;32m   1339\u001b[0m         \u001b[0mpatched\u001b[0m\u001b[1;33m.\u001b[0m\u001b[0mpatchings\u001b[0m \u001b[1;33m=\u001b[0m \u001b[1;33m[\u001b[0m\u001b[0mself\u001b[0m\u001b[1;33m]\u001b[0m\u001b[1;33m\u001b[0m\u001b[1;33m\u001b[0m\u001b[0m\n",
      "\u001b[1;32m~\\AppData\\Local\\Temp/ipykernel_16076/1503262243.py\u001b[0m in \u001b[0;36mmock_simple_function_with_side_effect\u001b[1;34m(mock_simple_func)\u001b[0m\n\u001b[0;32m      5\u001b[0m \u001b[1;32mdef\u001b[0m \u001b[0mmock_simple_function_with_side_effect\u001b[0m\u001b[1;33m(\u001b[0m\u001b[0mmock_simple_func\u001b[0m\u001b[1;33m)\u001b[0m\u001b[1;33m:\u001b[0m\u001b[1;33m\u001b[0m\u001b[1;33m\u001b[0m\u001b[0m\n\u001b[0;32m      6\u001b[0m     \u001b[0mmock_simple_func\u001b[0m\u001b[1;33m.\u001b[0m\u001b[0mside_effect\u001b[0m \u001b[1;33m=\u001b[0m \u001b[0mside_effect_function\u001b[0m\u001b[1;33m\u001b[0m\u001b[1;33m\u001b[0m\u001b[0m\n\u001b[1;32m----> 7\u001b[1;33m     \u001b[0mresult\u001b[0m \u001b[1;33m=\u001b[0m \u001b[0msimple\u001b[0m\u001b[1;33m.\u001b[0m\u001b[0msimple_function\u001b[0m\u001b[1;33m(\u001b[0m\u001b[1;33m)\u001b[0m\u001b[1;33m\u001b[0m\u001b[1;33m\u001b[0m\u001b[0m\n\u001b[0m\u001b[0;32m      8\u001b[0m     \u001b[0mprint\u001b[0m\u001b[1;33m(\u001b[0m\u001b[0mresult\u001b[0m\u001b[1;33m)\u001b[0m\u001b[1;33m\u001b[0m\u001b[1;33m\u001b[0m\u001b[0m\n\u001b[0;32m      9\u001b[0m \u001b[1;33m\u001b[0m\u001b[0m\n",
      "\u001b[1;32m~\\miniconda3\\envs\\hydrus\\lib\\unittest\\mock.py\u001b[0m in \u001b[0;36m__call__\u001b[1;34m(self, *args, **kwargs)\u001b[0m\n\u001b[0;32m   1091\u001b[0m         \u001b[0mself\u001b[0m\u001b[1;33m.\u001b[0m\u001b[0m_mock_check_sig\u001b[0m\u001b[1;33m(\u001b[0m\u001b[1;33m*\u001b[0m\u001b[0margs\u001b[0m\u001b[1;33m,\u001b[0m \u001b[1;33m**\u001b[0m\u001b[0mkwargs\u001b[0m\u001b[1;33m)\u001b[0m\u001b[1;33m\u001b[0m\u001b[1;33m\u001b[0m\u001b[0m\n\u001b[0;32m   1092\u001b[0m         \u001b[0mself\u001b[0m\u001b[1;33m.\u001b[0m\u001b[0m_increment_mock_call\u001b[0m\u001b[1;33m(\u001b[0m\u001b[1;33m*\u001b[0m\u001b[0margs\u001b[0m\u001b[1;33m,\u001b[0m \u001b[1;33m**\u001b[0m\u001b[0mkwargs\u001b[0m\u001b[1;33m)\u001b[0m\u001b[1;33m\u001b[0m\u001b[1;33m\u001b[0m\u001b[0m\n\u001b[1;32m-> 1093\u001b[1;33m         \u001b[1;32mreturn\u001b[0m \u001b[0mself\u001b[0m\u001b[1;33m.\u001b[0m\u001b[0m_mock_call\u001b[0m\u001b[1;33m(\u001b[0m\u001b[1;33m*\u001b[0m\u001b[0margs\u001b[0m\u001b[1;33m,\u001b[0m \u001b[1;33m**\u001b[0m\u001b[0mkwargs\u001b[0m\u001b[1;33m)\u001b[0m\u001b[1;33m\u001b[0m\u001b[1;33m\u001b[0m\u001b[0m\n\u001b[0m\u001b[0;32m   1094\u001b[0m \u001b[1;33m\u001b[0m\u001b[0m\n\u001b[0;32m   1095\u001b[0m \u001b[1;33m\u001b[0m\u001b[0m\n",
      "\u001b[1;32m~\\miniconda3\\envs\\hydrus\\lib\\unittest\\mock.py\u001b[0m in \u001b[0;36m_mock_call\u001b[1;34m(self, *args, **kwargs)\u001b[0m\n\u001b[0;32m   1095\u001b[0m \u001b[1;33m\u001b[0m\u001b[0m\n\u001b[0;32m   1096\u001b[0m     \u001b[1;32mdef\u001b[0m \u001b[0m_mock_call\u001b[0m\u001b[1;33m(\u001b[0m\u001b[0mself\u001b[0m\u001b[1;33m,\u001b[0m \u001b[1;33m/\u001b[0m\u001b[1;33m,\u001b[0m \u001b[1;33m*\u001b[0m\u001b[0margs\u001b[0m\u001b[1;33m,\u001b[0m \u001b[1;33m**\u001b[0m\u001b[0mkwargs\u001b[0m\u001b[1;33m)\u001b[0m\u001b[1;33m:\u001b[0m\u001b[1;33m\u001b[0m\u001b[1;33m\u001b[0m\u001b[0m\n\u001b[1;32m-> 1097\u001b[1;33m         \u001b[1;32mreturn\u001b[0m \u001b[0mself\u001b[0m\u001b[1;33m.\u001b[0m\u001b[0m_execute_mock_call\u001b[0m\u001b[1;33m(\u001b[0m\u001b[1;33m*\u001b[0m\u001b[0margs\u001b[0m\u001b[1;33m,\u001b[0m \u001b[1;33m**\u001b[0m\u001b[0mkwargs\u001b[0m\u001b[1;33m)\u001b[0m\u001b[1;33m\u001b[0m\u001b[1;33m\u001b[0m\u001b[0m\n\u001b[0m\u001b[0;32m   1098\u001b[0m \u001b[1;33m\u001b[0m\u001b[0m\n\u001b[0;32m   1099\u001b[0m     \u001b[1;32mdef\u001b[0m \u001b[0m_increment_mock_call\u001b[0m\u001b[1;33m(\u001b[0m\u001b[0mself\u001b[0m\u001b[1;33m,\u001b[0m \u001b[1;33m/\u001b[0m\u001b[1;33m,\u001b[0m \u001b[1;33m*\u001b[0m\u001b[0margs\u001b[0m\u001b[1;33m,\u001b[0m \u001b[1;33m**\u001b[0m\u001b[0mkwargs\u001b[0m\u001b[1;33m)\u001b[0m\u001b[1;33m:\u001b[0m\u001b[1;33m\u001b[0m\u001b[1;33m\u001b[0m\u001b[0m\n",
      "\u001b[1;32m~\\miniconda3\\envs\\hydrus\\lib\\unittest\\mock.py\u001b[0m in \u001b[0;36m_execute_mock_call\u001b[1;34m(self, *args, **kwargs)\u001b[0m\n\u001b[0;32m   1156\u001b[0m                     \u001b[1;32mraise\u001b[0m \u001b[0mresult\u001b[0m\u001b[1;33m\u001b[0m\u001b[1;33m\u001b[0m\u001b[0m\n\u001b[0;32m   1157\u001b[0m             \u001b[1;32melse\u001b[0m\u001b[1;33m:\u001b[0m\u001b[1;33m\u001b[0m\u001b[1;33m\u001b[0m\u001b[0m\n\u001b[1;32m-> 1158\u001b[1;33m                 \u001b[0mresult\u001b[0m \u001b[1;33m=\u001b[0m \u001b[0meffect\u001b[0m\u001b[1;33m(\u001b[0m\u001b[1;33m*\u001b[0m\u001b[0margs\u001b[0m\u001b[1;33m,\u001b[0m \u001b[1;33m**\u001b[0m\u001b[0mkwargs\u001b[0m\u001b[1;33m)\u001b[0m\u001b[1;33m\u001b[0m\u001b[1;33m\u001b[0m\u001b[0m\n\u001b[0m\u001b[0;32m   1159\u001b[0m \u001b[1;33m\u001b[0m\u001b[0m\n\u001b[0;32m   1160\u001b[0m             \u001b[1;32mif\u001b[0m \u001b[0mresult\u001b[0m \u001b[1;32mis\u001b[0m \u001b[1;32mnot\u001b[0m \u001b[0mDEFAULT\u001b[0m\u001b[1;33m:\u001b[0m\u001b[1;33m\u001b[0m\u001b[1;33m\u001b[0m\u001b[0m\n",
      "\u001b[1;32m~\\AppData\\Local\\Temp/ipykernel_16076/1503262243.py\u001b[0m in \u001b[0;36mside_effect_function\u001b[1;34m()\u001b[0m\n\u001b[0;32m      1\u001b[0m \u001b[1;32mdef\u001b[0m \u001b[0mside_effect_function\u001b[0m\u001b[1;33m(\u001b[0m\u001b[1;33m)\u001b[0m\u001b[1;33m:\u001b[0m\u001b[1;33m\u001b[0m\u001b[1;33m\u001b[0m\u001b[0m\n\u001b[1;32m----> 2\u001b[1;33m     \u001b[1;32mraise\u001b[0m \u001b[0mFloatingPointError\u001b[0m\u001b[1;33m(\u001b[0m\u001b[1;34m\"A disastrous floating point error has occurred\"\u001b[0m\u001b[1;33m)\u001b[0m\u001b[1;33m\u001b[0m\u001b[1;33m\u001b[0m\u001b[0m\n\u001b[0m\u001b[0;32m      3\u001b[0m \u001b[1;33m\u001b[0m\u001b[0m\n\u001b[0;32m      4\u001b[0m \u001b[1;33m@\u001b[0m\u001b[0mmock\u001b[0m\u001b[1;33m.\u001b[0m\u001b[0mpatch\u001b[0m\u001b[1;33m(\u001b[0m\u001b[1;34m'simple.simple_function'\u001b[0m\u001b[1;33m)\u001b[0m\u001b[1;33m\u001b[0m\u001b[1;33m\u001b[0m\u001b[0m\n\u001b[0;32m      5\u001b[0m \u001b[1;32mdef\u001b[0m \u001b[0mmock_simple_function_with_side_effect\u001b[0m\u001b[1;33m(\u001b[0m\u001b[0mmock_simple_func\u001b[0m\u001b[1;33m)\u001b[0m\u001b[1;33m:\u001b[0m\u001b[1;33m\u001b[0m\u001b[1;33m\u001b[0m\u001b[0m\n",
      "\u001b[1;31mFloatingPointError\u001b[0m: A disastrous floating point error has occurred"
     ]
    }
   ],
   "source": [
    "def side_effect_function():\n",
    "    raise FloatingPointError(\"A disastrous floating point error has occurred\")\n",
    "\n",
    "@mock.patch('simple.simple_function')\n",
    "def mock_simple_function_with_side_effect(mock_simple_func):\n",
    "    mock_simple_func.side_effect = side_effect_function\n",
    "    result = simple.simple_function()\n",
    "    print(result)\n",
    "    \n",
    "mock_simple_function_with_side_effect()"
   ]
  },
  {
   "cell_type": "markdown",
   "id": "e83c9799-b188-4eb8-a8e1-18bb78bc2635",
   "metadata": {},
   "source": [
    "接下来看一看如何mock类。在simple.py 文件中定义一个类。然后定义一个调用的函数，首先还是传统的调用方式："
   ]
  },
  {
   "cell_type": "code",
   "execution_count": 24,
   "id": "d4d8b140-b46e-4569-9c24-20e1233274ea",
   "metadata": {},
   "outputs": [
    {
     "name": "stdout",
     "output_type": "stream",
     "text": [
      "KABOOM!\n"
     ]
    }
   ],
   "source": [
    "import simple\n",
    "def use_simple_class():\n",
    "    inst = simple.SimpleClass()\n",
    "    print(inst.explode())\n",
    "use_simple_class()"
   ]
  },
  {
   "cell_type": "markdown",
   "id": "65a6b1a9-128e-4c13-9a74-7201efc81beb",
   "metadata": {},
   "source": [
    "然后接下来看看mock下如何操作。依然使用@mock.patch decorator"
   ]
  },
  {
   "cell_type": "code",
   "execution_count": 25,
   "id": "4dde5a72-a926-40cb-b187-16df977167e4",
   "metadata": {},
   "outputs": [
    {
     "name": "stdout",
     "output_type": "stream",
     "text": [
      "<MagicMock name='SimpleClass' id='1808097295520'>\n"
     ]
    }
   ],
   "source": [
    "from unittest import mock\n",
    "@mock.patch(\"simple.SimpleClass\")\n",
    "def mock_simple_class(mock_class):\n",
    "    print(mock_class)\n",
    "mock_simple_class()"
   ]
  },
  {
   "cell_type": "markdown",
   "id": "6d957d7c-2c0a-4a0b-8365-83ba79242f92",
   "metadata": {},
   "source": [
    "通过@mock.patch decorator ，参数mock_class使用了MagicMock对象来代替了SimpleClass对象。"
   ]
  },
  {
   "cell_type": "code",
   "execution_count": 26,
   "id": "5567f5b8-dab3-4d50-b04c-aec19e647841",
   "metadata": {},
   "outputs": [
    {
     "name": "stdout",
     "output_type": "stream",
     "text": [
      "<MagicMock name='SimpleClass' id='1808097362320'>\n",
      "<MagicMock name='SimpleClass' id='1808097362320'>\n"
     ]
    }
   ],
   "source": [
    "@mock.patch(\"simple.SimpleClass\")\n",
    "def mock_simple_class(mock_class):\n",
    "    print(mock_class)\n",
    "    print(simple.SimpleClass)\n",
    "mock_simple_class()"
   ]
  },
  {
   "cell_type": "markdown",
   "id": "00532456-1171-448a-94c2-6878a4040178",
   "metadata": {},
   "source": [
    "接下来创建一个SimpleClass实例，然后打印，看看会发生什么。"
   ]
  },
  {
   "cell_type": "code",
   "execution_count": 27,
   "id": "bc8d316a-3b23-4510-8aa2-8f4d4e234c60",
   "metadata": {},
   "outputs": [
    {
     "name": "stdout",
     "output_type": "stream",
     "text": [
      "<MagicMock name='SimpleClass' id='1808097347952'>\n",
      "<MagicMock name='SimpleClass' id='1808097347952'>\n",
      "<MagicMock name='SimpleClass()' id='1808097400000'>\n"
     ]
    }
   ],
   "source": [
    "@mock.patch(\"simple.SimpleClass\")\n",
    "def mock_simple_class(mock_class):\n",
    "    print(mock_class)\n",
    "    print(simple.SimpleClass)\n",
    "    inst = simple.SimpleClass()\n",
    "    print(inst)\n",
    "mock_simple_class()"
   ]
  },
  {
   "cell_type": "markdown",
   "id": "511b548f-1cb6-4205-9a24-aa890bb053f1",
   "metadata": {},
   "source": [
    "可以看出，调用SimpleClass() 就调用了MagicMock对象作为函数来创建了MagicMock对象。\n",
    "\n",
    "到这里，mock一个函数和mock一个类并没有什么区别。不过在类中，使用的更多是其对象。从下面的例子中可以看出，类的MagicMock对象返回值是类对象。\n",
    "\n",
    "简单小结一下，就是mock一个class时创建了一个MagicMock对象。创建一个类对象时，新的MagicMock对象也被创建，另外类的MagicMock对象返回值也就是类对象的MagicMock对象。"
   ]
  },
  {
   "cell_type": "code",
   "execution_count": 28,
   "id": "5a5fd70c-a3c8-4bcd-8793-45b0660537bd",
   "metadata": {},
   "outputs": [
    {
     "name": "stdout",
     "output_type": "stream",
     "text": [
      "<MagicMock name='SimpleClass' id='1808097429632'>\n",
      "<MagicMock name='SimpleClass' id='1808097429632'>\n",
      "<MagicMock name='SimpleClass()' id='1808097465776'>\n",
      "<MagicMock name='SimpleClass()' id='1808097465776'>\n"
     ]
    }
   ],
   "source": [
    "@mock.patch(\"simple.SimpleClass\")\n",
    "def mock_simple_class(mock_class):\n",
    "    print(mock_class)\n",
    "    print(simple.SimpleClass)\n",
    "    inst = simple.SimpleClass()\n",
    "    print(inst)\n",
    "    print(mock_class.return_value)\n",
    "mock_simple_class()"
   ]
  },
  {
   "cell_type": "markdown",
   "id": "33b7acc5-f742-48b0-ace4-5ff29a379c5f",
   "metadata": {},
   "source": [
    "此外，可以在类对象中通过explode函数来设置return_value，以mock 类对象的返回值。"
   ]
  },
  {
   "cell_type": "code",
   "execution_count": 29,
   "id": "dde2e570-c991-4ba4-9f9a-241580bedef8",
   "metadata": {},
   "outputs": [
    {
     "name": "stdout",
     "output_type": "stream",
     "text": [
      "BOO!\n",
      "<MagicMock name='SimpleClass()' id='1808095444272'>\n"
     ]
    }
   ],
   "source": [
    "@mock.patch(\"simple.SimpleClass\")\n",
    "def mock_simple_class(mock_class):\n",
    "    mock_class.return_value.explode.return_value = \"BOO!\"\n",
    "    inst = simple.SimpleClass()\n",
    "    result = inst.explode()\n",
    "    print(result)\n",
    "    print(mock_class.return_value)\n",
    "mock_simple_class()"
   ]
  },
  {
   "cell_type": "code",
   "execution_count": null,
   "id": "52945317-abce-4891-b913-48607c237c42",
   "metadata": {},
   "outputs": [],
   "source": []
  }
 ],
 "metadata": {
  "kernelspec": {
   "display_name": "Python 3 (ipykernel)",
   "language": "python",
   "name": "python3"
  },
  "language_info": {
   "codemirror_mode": {
    "name": "ipython",
    "version": 3
   },
   "file_extension": ".py",
   "mimetype": "text/x-python",
   "name": "python",
   "nbconvert_exporter": "python",
   "pygments_lexer": "ipython3",
   "version": "3.9.6"
  }
 },
 "nbformat": 4,
 "nbformat_minor": 5
}
