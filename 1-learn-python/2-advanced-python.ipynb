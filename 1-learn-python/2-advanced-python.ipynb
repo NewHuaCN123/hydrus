{
 "cells": [
  {
   "cell_type": "markdown",
   "metadata": {},
   "source": [
    "# Python常见高级应用\n",
    "\n",
    "这部分主要参考python3-cookbook，主要记录一些在实际编写模型算法及开发应用程序的过程中值得一用的高级技巧。\n",
    "\n",
    "结合basic-python的结构，针对每一部分都有高级的用法，主要分为以下部分：\n",
    "\n",
    "- 基础语法进阶：比如结合基本数据结构的基本算法，以及迭代器、生成器等；\n",
    "- 函数与类的高级运用：比如元编程；\n",
    "- python实际应用：从项目构建的模块、包等概念到常见应用，如脚本系统管理、web编程、并发管理、测试调试等。\n"
   ]
  },
  {
   "cell_type": "markdown",
   "metadata": {},
   "source": [
    "## 基础语法进阶\n",
    "\n",
    "- [ ] 迭代器 \n",
    "- [ ] 生成器\n",
    " \n",
    "## 函数与类高阶\n",
    "\n",
    "- [ ] 元编程\n",
    "\n",
    "## python实战\n",
    "\n",
    "- [ ] 模块与包\n",
    "- [ ] web编程\n",
    "- [ ] 并发编程\n",
    "\n",
    "### 脚本编程与系统管理\n",
    "\n",
    "#### 命令行解析器\n",
    "\n",
    "Python 命令行与参数解析方法有很多工具，这里参考python[官方文档](https://docs.python.org/zh-cn/3/library/argparse.html)\n",
    "和[blog](https://zhuanlan.zhihu.com/p/34395749)学习使用python 自带的argparse ，来说明python 如何进行命令行解析。\n",
    "\n",
    "通俗来说，命令行与参数解析就是当你输入cmd 打开dos 交互界面时候，启动程序要进行的参数给定。比如在dos 界面输入：\n",
    "\n",
    "```code\n",
    "python openPythonFile.py \"a\" -b \"number\"\n",
    "```\n",
    "\n",
    "其中，\"a\" -b等就是命令行与参数解析要做的事情。\n",
    "\n",
    "就是设计程序在运行时必须给定某些额外参数才能运行，也就是如果设置了命令行参数解析，那么各种编译器按F5 是无法直接运行程序的。\n",
    "\n",
    "用途就是不能随便就能运行脚本，可以达到一定程度上的安全功能。\n",
    "\n",
    "总体上分为三大步：\n",
    "\n",
    "- 创建解析\n",
    "- 添加参数\n",
    "- 解析参数\n",
    "\n",
    "使用 argparse 的第一步是创建一个 ArgumentParser 对象。\n",
    "\n",
    "ArgumentParser 对象包含将命令行解析成 Python 数据类型所需的全部信息。\n"
   ]
  },
  {
   "cell_type": "code",
   "execution_count": null,
   "metadata": {
    "pycharm": {
     "name": "#%%\n"
    }
   },
   "outputs": [],
   "source": [
    "import argparse\n",
    "parser = argparse.ArgumentParser(description='Process some integers.')\n"
   ]
  },
  {
   "cell_type": "markdown",
   "metadata": {},
   "source": [
    "第二步是添加参数，给一个 ArgumentParser 添加程序参数信息是通过调用 add_argument() 方法完成的。\n",
    "\n",
    "通常，这些调用指定 ArgumentParser 如何获取命令行字符串并将其转换为对象。这些信息在 parse_args() 调用时被存储和使用。\n",
    "\n",
    "add_argument方法定义单个的命令行参数应当如何解析。每个形参都在下面有它自己更多的描述：\n",
    "\n",
    "- name or flags - 一个命名或者一个选项字符串的列表，例如 foo 或 -f, --foo。\n",
    "- action - 当参数在命令行中出现时使用的动作基本类型。\n",
    "- nargs - 命令行参数应当消耗的数目。\n",
    "- const - 被一些 action 和 nargs 选择所需求的常数。\n",
    "- default - 当参数未在命令行中出现时使用的值。\n",
    "- type - 命令行参数应当被转换成的类型。\n",
    "- choices - 可用的参数的容器。\n",
    "- required - 此命令行选项是否可省略 （仅选项可用）。\n",
    "- help - 一个此选项作用的简单描述。\n",
    "- metavar - 在使用方法消息中使用的参数值示例。\n",
    "- dest - 被添加到 parse_args() 所返回对象上的属性名。大多数ArgumentParser actions增加一些值作为the object的一个属性被parse_args()返回 \n"
   ]
  },
  {
   "cell_type": "code",
   "execution_count": null,
   "metadata": {
    "pycharm": {
     "name": "#%%\n"
    }
   },
   "outputs": [],
   "source": [
    "parser.add_argument('integers', metavar='N', type=int,\n",
    "                    nargs='+', help='an integer for the accumulator')\n",
    "parser.add_argument('--sum', dest='accumulate', action='store_const',\n",
    "                    const=sum, default=max,\n",
    "                    help='sum the integers (default: find the max)')\n"
   ]
  },
  {
   "cell_type": "markdown",
   "metadata": {},
   "source": [
    "最后ArgumentParser 通过 parse_args() 方法解析参数。它将检查命令行，把每个参数转换为适当的类型然后调用相应的操作。\n",
    "\n",
    "在大多数情况下，这意味着一个简单的 Namespace 对象将从命令行参数中解析出的属性构建。\n",
    "\n",
    "在脚本中，通常 parse_args() 会被不带参数调用，而 ArgumentParser 将自动从 sys.argv 中确定命令行参数。\n"
   ]
  },
  {
   "cell_type": "code",
   "execution_count": null,
   "metadata": {
    "pycharm": {
     "name": "#%%\n"
    }
   },
   "outputs": [],
   "source": [
    "args=parser.parse_args(['--sum', '7', '-1', '42'])\n",
    "print(args.accumulate(args.integers))\n"
   ]
  },
  {
   "cell_type": "markdown",
   "metadata": {},
   "source": [
    "### 测试、调试与异常\n"
   ]
  },
  {
   "cell_type": "code",
   "execution_count": null,
   "metadata": {
    "pycharm": {
     "name": "#%%\n"
    }
   },
   "outputs": [],
   "source": [
    "import inc_dec    # The code to test\n",
    "\n",
    "\n",
    "def test_increment():\n",
    "    assert inc_dec.increment(3) == 4\n",
    "\n",
    "\n",
    "def test_decrement():\n",
    "    assert inc_dec.decrement(3) == 2\n",
    "\n"
   ]
  }
 ],
 "metadata": {
  "kernelspec": {
   "display_name": "Python 3",
   "language": "python",
   "name": "python3"
  },
  "language_info": {
   "codemirror_mode": {
    "name": "ipython",
    "version": 3
   },
   "file_extension": ".py",
   "mimetype": "text/x-python",
   "name": "python",
   "nbconvert_exporter": "python",
   "pygments_lexer": "ipython3",
   "version": "3.7.4"
  },
  "pycharm": {
   "stem_cell": {
    "cell_type": "raw",
    "metadata": {
     "collapsed": false
    },
    "source": []
   }
  }
 },
 "nbformat": 4,
 "nbformat_minor": 1
}
