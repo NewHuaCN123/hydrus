{
 "cells": [
  {
   "cell_type": "markdown",
   "metadata": {},
   "source": [
    "# Python基础\n",
    "\n",
    "Python基础有很多内容，作为非CS专业的想快速上手的同学，没必要从头到尾照本宣科，因此这里主要把握基本内容。\n",
    "\n",
    "这部分结构主要参考了[Python programming guide for Earth Scientists](http://python.hydrology-amsterdam.nl/manuals/hydro_python_manual.pdf)。\n",
    "\n",
    "内容上参考了<https://www.liaoxuefeng.com/wiki/1016959663602400>，但主要是记录一些自己平常见到的，又不同于其他编程语言比如Java的一些特点。\n",
    "\n",
    "思路是这样的：\n",
    "\n",
    "- 首先，所有语言的练习都离不开的基础：安装python，使用IDE；\n",
    "- 其次熟悉基本的语法（变量常量、数据类型、运算、循环for/while、条件if/switch等）；\n",
    "- 接着就是函数及面向对象编程以及python中重要的函数式编程；\n",
    "- 最后基础部分就是熟悉python的内置库，基础库的使用。\n",
    "\n",
    "安装python及IDE就不赘述了，python安装anaconda即可，IDE可以直接使用anaconda自带的IPython或spider，个人推荐VScode和Pycharm社区版。\n",
    "\n",
    "## 基础语法\n",
    "\n",
    "整型、浮点型等特别基础的就不记录了，变量常量里重点记录一些字符串相关的内容。\n",
    "\n",
    "### 字符串\n"
   ]
  },
  {
   "cell_type": "code",
   "execution_count": null,
   "metadata": {
    "pycharm": {
     "name": "#%%\n"
    }
   },
   "outputs": [],
   "source": [
    "# 数据和字符串转换\n",
    "print(chr(65))\n",
    "print(ord('A'))\n",
    "\n",
    "print(int('2'))\n",
    "\n",
    "\"\"\" 字符串包含\"\"\"\n",
    "test_string = 'helloworld'\n",
    "if 'world' in test_string:\n",
    "    print('Exist')\n",
    "else:\n",
    "    print('Not exist')\n",
    "\n",
    "# 字符串的子字符串，不像java用substring，而是直接使用索引取值\n",
    "print(test_string[5:])\n",
    "\n",
    "# 大小写转换\n",
    "print(test_string.upper())          # 把所有字符中的小写字母转换成大写字母\n",
    "print(test_string.lower())          # 把所有字符中的大写字母转换成小写字母\n",
    "print(test_string.capitalize())     # 把第一个字母转化为大写字母，其余小写\n",
    "print(test_string.title())          # 把每个单词的第一个字母转化为大写，其余小写 "
   ]
  },
  {
   "cell_type": "markdown",
   "metadata": {},
   "source": [
    "zfill()函数：Python zfill() 方法返回指定长度的字符串，原字符串右对齐，前面填充0。\n"
   ]
  },
  {
   "cell_type": "code",
   "execution_count": null,
   "metadata": {
    "pycharm": {
     "name": "#%%\n"
    }
   },
   "outputs": [],
   "source": [
    "str = \"this is string example....wow!!!\";\n",
    "\n",
    "print(str.zfill(40))\n",
    "print(str.zfill(50))\n"
   ]
  },
  {
   "cell_type": "markdown",
   "metadata": {},
   "source": [
    "### 基本数据结构\n",
    "\n",
    "python几个最基本的数据结构有：\n",
    "\n",
    "- list：可理解为可变大小的数组，python索引可以为负值，表示倒序。\n",
    "- tuple：和list类似，区别是一经初始化就不能修改。\n",
    "- dict：就是map，使用key-value存储，查找较快。\n",
    "- set：和dict类似，也是一组key的集合，但不存储value，且由于key不能重复，这就意味着set中没有重复的元素。\n"
   ]
  },
  {
   "cell_type": "code",
   "execution_count": 2,
   "metadata": {
    "pycharm": {
     "name": "#%%\n"
    }
   },
   "outputs": [
    {
     "name": "stdout",
     "output_type": "stream",
     "text": [
      "[1, 2, 3, 4, 5, 6]\n",
      "[3, 4]\n",
      "['sss', 'bbbb', 'cc', 'shafa', 'afa']\n",
      "['cc', 'bbbb', 'afa', 'sss', 'shafa']\n"
     ]
    }
   ],
   "source": [
    "# list\n",
    "a=[1,2,3]\n",
    "b=[4,5,6]\n",
    "# list拼接\n",
    "print(a+b)\n",
    "# list 索引：直接使用[]即可，一个例子：找出c中非0值编号对应的d中的数字， \n",
    "c=[0,0,1,1]\n",
    "d=[1,2,3,4]\n",
    "e=[d[i] for i in range(len(c)) if c[i]>0] # 使用列表生成式很方便\n",
    "print(e)\n",
    "\n",
    "# 排序的set\n",
    "mailto = ['cc', 'bbbb', 'afa', 'sss', 'bbbb', 'cc', 'shafa']\n",
    "addr_to = list(set(mailto))\n",
    "print(addr_to)\n",
    "addr_to.sort(key=mailto.index)\n",
    "print(addr_to)"
   ]
  },
  {
   "cell_type": "markdown",
   "metadata": {},
   "source": [
    "### 基础运算\n",
    "\n",
    "这里介绍一些python里面相对特殊的运算符。\n",
    "\n",
    "#### \"~\"运算符\n",
    "\n",
    "按位取反运算符：对数据的每个二进制位取反,即把1变为0,把0变为1 。~x 类似于 -x-1。\n"
   ]
  },
  {
   "cell_type": "code",
   "execution_count": null,
   "metadata": {
    "pycharm": {
     "name": "#%%\n"
    }
   },
   "outputs": [],
   "source": [
    "a = 60  # 60 = 0011 1100\n",
    "c=~a\n",
    "print(c) # -61 = 1100 0011\n",
    "b1=True\n",
    "d1=~b1\n",
    "print(d1)\n",
    "b2=False\n",
    "d2=~b2\n",
    "print(d2)\n"
   ]
  },
  {
   "cell_type": "markdown",
   "metadata": {},
   "source": [
    "#### \"//\"运算符"
   ]
  },
  {
   "cell_type": "code",
   "execution_count": null,
   "metadata": {
    "pycharm": {
     "name": "#%%\n"
    }
   },
   "outputs": [],
   "source": [
    "# 基本数学运算符中，整除符号是//\n",
    "a = 10\n",
    "b = 5\n",
    "c = a // b\n",
    "print(\"c 的值为：\", c)"
   ]
  },
  {
   "cell_type": "markdown",
   "metadata": {},
   "source": [
    "#### and/or运算符\n",
    "\n",
    "python中不使用&&和||来表示与或运算符，而是使用and和or。"
   ]
  },
  {
   "cell_type": "code",
   "execution_count": null,
   "metadata": {
    "pycharm": {
     "name": "#%%\n"
    }
   },
   "outputs": [],
   "source": [
    "num = 9\n",
    "if num >= 0 and num <= 10:    # 判断值是否在0~10之间\n",
    "    print('hello')\n",
    "# 输出结果: hello"
   ]
  },
  {
   "cell_type": "markdown",
   "metadata": {},
   "source": [
    "#### is和==的区别\n",
    "\n",
    "主要参考：[Python中is和==的区别](https://juejin.im/entry/5a3b62446fb9a0451f311b5c)\n",
    "\n",
    "在Python中一切都是对象。Python中对象包含的三个基本要素，分别是：id(身份标识)、type(数据类型)和value(值)。\n",
    "\n",
    "对象之间比较是否相等可以用==，也可以用is，is和==都是对对象进行比较判断作用的，但对对象比较判断的内容并不相同。\n",
    "\n",
    "- is比较的是两个对象的id值是否相等，也就是比较两个对象是否为同一个实例对象，是否指向同一个内存地址。\n",
    "- ==比较的是两个对象的内容是否相等，默认会调用对象的__eq__()方法。\n"
   ]
  },
  {
   "cell_type": "code",
   "execution_count": null,
   "metadata": {
    "pycharm": {
     "name": "#%%\n"
    }
   },
   "outputs": [],
   "source": [
    "a = [1, 2, 3]\n",
    "b = a\n",
    "print(b is a) \n",
    "print(b == a)\n",
    "b = a[:]\n",
    "print(b is a) \n",
    "print(b == a)"
   ]
  },
  {
   "cell_type": "markdown",
   "metadata": {},
   "source": [
    "#### 一些特别情况\n",
    "\n",
    "计算机的数学运算中会遇到一些平时手算时不会碰到的错误。"
   ]
  },
  {
   "cell_type": "code",
   "execution_count": null,
   "metadata": {
    "pycharm": {
     "name": "#%%\n"
    }
   },
   "outputs": [],
   "source": [
    "# RuntimeWarning: invalid value encountered in double_scalars\n",
    "kss = 0.22917998605606738\n",
    "kg = 0.832161545953715\n",
    "period_num_1d = 24\n",
    "# 开方运算会遇到根式下为负数的情况，会得到复数，如果数据类型是float，那么运算结果会为nan\n",
    "kss_period = (1 - (1 - (kss + kg)) ** (1 / period_num_1d)) / (1 + kg / kss)\n",
    "print(type(kss_period))\n",
    "print(kss_period)"
   ]
  },
  {
   "cell_type": "markdown",
   "metadata": {},
   "source": [
    "## 函数、函数式编程与面向对象编程\n",
    "\n",
    "函数就是直接编写，在脚本中调用即可，相关内容可参考开头提供的guide文档。这里重点介绍python特别的函数形式以及面向对象的基本内容。\n",
    "\n",
    "### 函数\n",
    "\n",
    "#### With语句\n",
    "\n",
    "有一些任务，可能事先需要设置，事后做清理工作。对于这种场景，Python的with语句提供了一种非常方便的处理方式。\n",
    "一个很好的例子是文件处理，你需要获取一个文件句柄，从文件中读取数据，然后关闭文件句柄。\n",
    "\n",
    "如果不用with语句，代码如下："
   ]
  },
  {
   "cell_type": "code",
   "execution_count": null,
   "metadata": {
    "pycharm": {
     "name": "#%%\n"
    }
   },
   "outputs": [],
   "source": [
    "file = open(\"data.json\")\n",
    "data = file.read()\n",
    "file.close()\n"
   ]
  },
  {
   "cell_type": "markdown",
   "metadata": {},
   "source": [
    "这里有两个问题。一是可能忘记关闭文件句柄；二是文件读取数据发生异常，没有进行任何处理。下面是处理异常的加强版本。\n"
   ]
  },
  {
   "cell_type": "code",
   "execution_count": null,
   "metadata": {
    "pycharm": {
     "name": "#%% \n"
    }
   },
   "outputs": [],
   "source": [
    "file = open(\"data.json\")\n",
    "try:\n",
    "    data = file.read()\n",
    "finally:\n",
    "    file.close()\n",
    "    "
   ]
  },
  {
   "cell_type": "markdown",
   "metadata": {},
   "source": [
    "虽然这段代码运行良好，但是太冗长了。这时候就是with一展身手的时候了。\n",
    "除了有更优雅的语法，with还可以很好的处理上下文环境产生的异常。下面是with版本的代码\n"
   ]
  },
  {
   "cell_type": "code",
   "execution_count": null,
   "metadata": {
    "pycharm": {
     "name": "#%%\n"
    }
   },
   "outputs": [],
   "source": [
    "with open(\"data.json\") as file:\n",
    "    data = file.read()\n"
   ]
  },
  {
   "cell_type": "markdown",
   "metadata": {},
   "source": [
    "with如何工作？\n",
    "\n",
    "Python对with的处理还很聪明。基本思想是with所求值的对象必须有一个__enter__()方法，一个__exit__()方法。\n",
    "\n",
    "紧跟with后面的语句被求值后，返回对象的__enter__()方法被调用，这个方法的返回值将被赋值给as后面的变量。\n",
    "当with后面的代码块全部被执行完之后，将调用前面返回对象的__exit__()方法。\n",
    "\n",
    "#### 回调函数"
   ]
  },
  {
   "cell_type": "code",
   "execution_count": null,
   "metadata": {
    "pycharm": {
     "name": "#%%\n"
    }
   },
   "outputs": [],
   "source": [
    "import time\n",
    "\n",
    "\n",
    "def apply_async(func, args, *, callback):\n",
    "    \"\"\"回调函数的应用，python的函数很灵活，可以直接做函数参数\"\"\"\n",
    "    # Compute the result\n",
    "    result = func(*args)\n",
    "\n",
    "    # Invoke the callback with the result\n",
    "    callback(result)\n",
    "\n",
    "\n",
    "def print_result(result):\n",
    "    print('Got:', result)\n",
    "\n",
    "\n",
    "def add(x, y):\n",
    "    return x + y\n",
    "\n",
    "\n",
    "apply_async(add, (2, 3), callback=print_result)\n",
    "\n",
    "apply_async(add, ('hello', 'world'), callback=print_result)\n"
   ]
  },
  {
   "cell_type": "markdown",
   "metadata": {},
   "source": []
  },
  {
   "cell_type": "code",
   "execution_count": null,
   "metadata": {
    "pycharm": {
     "name": "#%%\n"
    }
   },
   "outputs": [],
   "source": [
    "def outer():\n",
    "    var = 3\n",
    "\n",
    "    def inner():\n",
    "        print(\"the func is used: var=\" + str(var))\n",
    "\n",
    "    return inner\n",
    "\n",
    "outer()  # no print\n",
    "func = outer()\n",
    "func()  # print 3\n",
    "var = 5\n",
    "func()  # print 3"
   ]
  },
  {
   "cell_type": "markdown",
   "metadata": {},
   "source": [
    "#### 一些高级特性\n",
    "\n",
    "切片比较简单，这里就不赘述。迭代稍微说一下：python的for循环抽象程度是很高的，可以作用于任何可迭代对象上。比如dict的遍历，默认情况下，dict迭代的是key。如果要迭代value，可以用for value in d.values()，如果要同时迭代key和value，可以用for k, v in d.items()。"
   ]
  },
  {
   "cell_type": "code",
   "execution_count": null,
   "metadata": {
    "pycharm": {
     "name": "#%%\n"
    }
   },
   "outputs": [],
   "source": [
    "d = {'a': 1, 'b': 2, 'c': 3}\n",
    "for key in d:\n",
    "    print(key)"
   ]
  },
  {
   "cell_type": "markdown",
   "metadata": {},
   "source": [
    "对list也可以实现类似Java那样的下标循环，Python内置的enumerate函数可以把一个list变成索引-元素对，这样就可以在for循环中同时迭代索引和元素本身："
   ]
  },
  {
   "cell_type": "code",
   "execution_count": null,
   "metadata": {
    "pycharm": {
     "name": "#%%\n"
    }
   },
   "outputs": [],
   "source": [
    "seq = ['one', 'two', 'three']\n",
    "for i, element in enumerate(seq):\n",
    "    print(i, element)"
   ]
  },
  {
   "cell_type": "markdown",
   "metadata": {},
   "source": [
    "python还有一个很强大的列表生成式，直接看代码："
   ]
  },
  {
   "cell_type": "code",
   "execution_count": null,
   "metadata": {
    "pycharm": {
     "name": "#%%\n"
    }
   },
   "outputs": [],
   "source": [
    "[x * x for x in range(1, 11)]"
   ]
  },
  {
   "cell_type": "markdown",
   "metadata": {},
   "source": [
    "for循环后面还可以加上if判断："
   ]
  },
  {
   "cell_type": "code",
   "execution_count": null,
   "metadata": {
    "pycharm": {
     "name": "#%%\n"
    }
   },
   "outputs": [],
   "source": [
    "[x * x for x in range(1, 11) if x % 2 == 0]"
   ]
  },
  {
   "cell_type": "markdown",
   "metadata": {},
   "source": [
    "通过列表生成式，我们可以直接创建一个列表。但是，受到内存限制，列表容量肯定是有限的。而且，创建一个包含100万个元素的列表，不仅占用很大的存储空间，如果我们仅仅需要访问前面几个元素，那后面绝大多数元素占用的空间都白白浪费了。\n",
    "\n",
    "所以，如果列表元素可以按照某种算法推算出来，那我们是否可以在循环的过程中不断推算出后续的元素呢？这样就不必创建完整的list，从而节省大量的空间。在Python中，这种一边循环一边计算的机制，称为生成器：generator。只要把一个列表生成式的[]改成()，就创建了一个generator。\n",
    "\n",
    "generator保存的是算法，每次调用next(g)，就计算出g的下一个元素的值，直到计算到最后一个元素。更详细的信息在advanced-python一文中再解析。"
   ]
  },
  {
   "cell_type": "code",
   "execution_count": null,
   "metadata": {
    "pycharm": {
     "name": "#%%\n"
    }
   },
   "outputs": [],
   "source": [
    "g = (x * x for x in range(10))\n",
    "g\n",
    "for n in g:\n",
    "    print(n)"
   ]
  },
  {
   "cell_type": "markdown",
   "metadata": {},
   "source": [
    "而可以被next()函数调用并不断返回下一个值的对象称为迭代器：Iterator。"
   ]
  },
  {
   "cell_type": "markdown",
   "metadata": {},
   "source": [
    "### 函数式编程\n",
    "\n",
    "函数式编程思想更接近数学计算，是一种抽象程度很高的编程范式，纯粹的函数式编程语言编写的函数没有变量，因此任意一个函数只要输入是确定的，输出就是确定的。python允许使用变量，所以不是纯函数式编程语言。\n",
    "\n",
    "函数式编程的一个特点就是允许把函数本身作为参数传入另一个函数，还允许返回一个函数。比如："
   ]
  },
  {
   "cell_type": "code",
   "execution_count": null,
   "metadata": {
    "pycharm": {
     "name": "#%%\n"
    }
   },
   "outputs": [],
   "source": [
    "def add(x, y, f):\n",
    "    return f(x) + f(y)\n",
    "\n",
    "print(add(-5, 6, abs))"
   ]
  },
  {
   "cell_type": "markdown",
   "metadata": {},
   "source": [
    "#### 一些高阶函数\n",
    "\n",
    "python内建了map和reduce函数。\n",
    "\n",
    "map()函数接收两个参数，一个是函数，一个是Iterable，map将传入的函数**依次作用到序列的每个元素**，并把结果作为新的Iterator返回。\n",
    "\n",
    "map()作为高阶函数，事实上它把运算规则抽象了."
   ]
  },
  {
   "cell_type": "code",
   "execution_count": 1,
   "metadata": {
    "pycharm": {
     "name": "#%%\n"
    }
   },
   "outputs": [
    {
     "data": {
      "text/plain": [
       "[1, 4, 9, 16, 25, 36, 49, 64, 81]"
      ]
     },
     "execution_count": 1,
     "metadata": {},
     "output_type": "execute_result"
    }
   ],
   "source": [
    "def f(x):\n",
    "    return x * x\n",
    "\n",
    "r = map(f, [1, 2, 3, 4, 5, 6, 7, 8, 9])\n",
    "list(r)"
   ]
  },
  {
   "cell_type": "markdown",
   "metadata": {},
   "source": [
    "当需要传递多个参数到函数时，map函数的使用就没那么直接了，要么把参数构造成一个集合作为一个参数，要么采用下面这种利用进程的方式，具体内容见后面“基本库使用”之“进程和线程”。"
   ]
  },
  {
   "cell_type": "code",
   "execution_count": 6,
   "metadata": {},
   "outputs": [
    {
     "name": "stdout",
     "output_type": "stream",
     "text": [
      "['Brown & Brown', 'Brown & Wilson', 'Brown & Bartlett', 'Brown & Rivera', 'Brown & Molloy', 'Brown & Opie', 'Wilson & Brown', 'Wilson & Wilson', 'Wilson & Bartlett', 'Wilson & Rivera', 'Wilson & Molloy', 'Wilson & Opie', 'Bartlett & Brown', 'Bartlett & Wilson', 'Bartlett & Bartlett', 'Bartlett & Rivera', 'Bartlett & Molloy', 'Bartlett & Opie', 'Rivera & Brown', 'Rivera & Wilson', 'Rivera & Bartlett', 'Rivera & Rivera', 'Rivera & Molloy', 'Rivera & Opie', 'Molloy & Brown', 'Molloy & Wilson', 'Molloy & Bartlett', 'Molloy & Rivera', 'Molloy & Molloy', 'Molloy & Opie', 'Opie & Brown', 'Opie & Wilson', 'Opie & Bartlett', 'Opie & Rivera', 'Opie & Molloy', 'Opie & Opie']\n"
     ]
    }
   ],
   "source": [
    "import multiprocessing\n",
    "from itertools import product\n",
    "\n",
    "def merge_names(a, b):\n",
    "    return '{} & {}'.format(a, b)\n",
    "\n",
    "names = ['Brown', 'Wilson', 'Bartlett', 'Rivera', 'Molloy', 'Opie']\n",
    "with multiprocessing.Pool(processes=3) as pool:\n",
    "    results = pool.starmap(merge_names, product(names, repeat=2))\n",
    "print(results)"
   ]
  },
  {
   "cell_type": "code",
   "execution_count": null,
   "metadata": {
    "pycharm": {
     "name": "#%%\n"
    }
   },
   "outputs": [],
   "source": [
    "list(map(str, [1, 2, 3, 4, 5, 6, 7, 8, 9]))"
   ]
  },
  {
   "cell_type": "markdown",
   "metadata": {},
   "source": [
    "reduce把一个函数作用在一个序列[x1, x2, x3, ...]上，这个函数必须接收两个参数，reduce把结果继续和序列的下一个元素做累积计算，其效果就是：reduce(f, [x1, x2, x3, x4]) = f(f(f(x1, x2), x3), x4)"
   ]
  },
  {
   "cell_type": "code",
   "execution_count": null,
   "metadata": {
    "pycharm": {
     "name": "#%%\n"
    }
   },
   "outputs": [],
   "source": [
    "from functools import reduce\n",
    "def add(x, y):\n",
    "    return x + y\n",
    "\n",
    "reduce(add, [1, 3, 5, 7, 9])"
   ]
  },
  {
   "cell_type": "code",
   "execution_count": null,
   "metadata": {
    "pycharm": {
     "name": "#%%\n"
    }
   },
   "outputs": [],
   "source": [
    "from functools import reduce\n",
    "def fn(x, y):\n",
    "    return x * 10 + y\n",
    "\n",
    "reduce(fn, [1, 3, 5, 7, 9])"
   ]
  },
  {
   "cell_type": "code",
   "execution_count": 1,
   "metadata": {
    "pycharm": {
     "name": "#%%\n"
    }
   },
   "outputs": [
    {
     "data": {
      "text/plain": [
       "13579"
      ]
     },
     "execution_count": 1,
     "metadata": {},
     "output_type": "execute_result"
    }
   ],
   "source": [
    "from functools import reduce\n",
    "def fn(x, y):\n",
    "    return x * 10 + y\n",
    "\n",
    "def char2num(s):\n",
    "    digits = {'0': 0, '1': 1, '2': 2, '3': 3, '4': 4, '5': 5, '6': 6, '7': 7, '8': 8, '9': 9}\n",
    "    return digits[s]\n",
    "\n",
    "reduce(fn, map(char2num, '13579'))"
   ]
  },
  {
   "cell_type": "markdown",
   "metadata": {},
   "source": [
    "上式可以整理为如下形式。"
   ]
  },
  {
   "cell_type": "code",
   "execution_count": null,
   "metadata": {
    "pycharm": {
     "name": "#%%\n"
    }
   },
   "outputs": [],
   "source": [
    "from functools import reduce\n",
    "\n",
    "DIGITS = {'0': 0, '1': 1, '2': 2, '3': 3, '4': 4, '5': 5, '6': 6, '7': 7, '8': 8, '9': 9}\n",
    "\n",
    "def str2int(s):\n",
    "    def fn(x, y):\n",
    "        return x * 10 + y\n",
    "    def char2num(s):\n",
    "        return DIGITS[s]\n",
    "    return reduce(fn, map(char2num, s))"
   ]
  },
  {
   "cell_type": "markdown",
   "metadata": {},
   "source": [
    "python的filter()函数可以用于过滤序列。和map()类似，filter()也接收一个函数和一个序列。和map()不同的是，filter()把传入的函数依次作用于每个元素，然后根据返回值是True还是False决定保留还是丢弃该元素。"
   ]
  },
  {
   "cell_type": "code",
   "execution_count": null,
   "metadata": {
    "pycharm": {
     "name": "#%%\n"
    }
   },
   "outputs": [],
   "source": [
    "def is_odd(n):\n",
    "    return n % 2 == 1\n",
    "\n",
    "list(filter(is_odd, [1, 2, 4, 5, 6, 9, 10, 15]))"
   ]
  },
  {
   "cell_type": "markdown",
   "metadata": {},
   "source": [
    "最后补充下sorted函数："
   ]
  },
  {
   "cell_type": "code",
   "execution_count": null,
   "metadata": {
    "pycharm": {
     "name": "#%%\n"
    }
   },
   "outputs": [],
   "source": [
    "sorted([36, 5, -12, 9, -21])"
   ]
  },
  {
   "cell_type": "markdown",
   "metadata": {},
   "source": [
    "#### 闭包\n",
    "闭包概念：在一个内部函数中，对外部作用域的变量进行引用，(并且一般外部函数的返回值为内部函数)，那么内部函数就被认为是闭包。比如："
   ]
  },
  {
   "cell_type": "code",
   "execution_count": null,
   "metadata": {
    "pycharm": {
     "name": "#%%\n"
    }
   },
   "outputs": [],
   "source": [
    "def outer():\n",
    "    var = 3\n",
    "\n",
    "    def inner():\n",
    "        print(\"the func is used: var=\" + str(var))\n",
    "\n",
    "    return inner\n",
    "\n",
    "outer()  # no print\n",
    "func = outer()\n",
    "func()  # print 3\n",
    "var = 5\n",
    "func()  # print 3"
   ]
  },
  {
   "cell_type": "markdown",
   "metadata": {},
   "source": [
    "以上，函数inner和自有变量var的“引用”共同构成了闭包。var对于inner来说是自由变量。在一个内部函数中，对外部作用域的变量进行引用，并且外部函数的返回值为内部函数，那么内部函数就被认为是闭包。\n",
    "\n",
    "闭包的作用是可以保存当前的运行环境。"
   ]
  },
  {
   "cell_type": "code",
   "execution_count": null,
   "metadata": {
    "pycharm": {
     "name": "#%%\n"
    }
   },
   "outputs": [],
   "source": [
    "def create(pos=[0, 0]):\n",
    "    def go(direction, step):\n",
    "        new_x = pos[0] + direction[0] * step\n",
    "        new_y = pos[1] + direction[1] * step\n",
    "        pos[0] = new_x\n",
    "        pos[1] = new_y\n",
    "        return pos\n",
    "\n",
    "    return go\n",
    "\n",
    "\n",
    "player = create()\n",
    "print(player([1, 0], 10))\n",
    "print(player([0, 1], 20))\n",
    "print(player([-1, 0], 10))"
   ]
  },
  {
   "cell_type": "markdown",
   "metadata": {},
   "source": [
    "闭包可以帮助实现lazy的运算。比如求和，不需要立刻求和，而是在调用之后再求和。"
   ]
  },
  {
   "cell_type": "code",
   "execution_count": 22,
   "metadata": {},
   "outputs": [
    {
     "data": {
      "text/plain": [
       "<function __main__.lazy_sum.<locals>.sum()>"
      ]
     },
     "execution_count": 22,
     "metadata": {},
     "output_type": "execute_result"
    }
   ],
   "source": [
    "def lazy_sum(*args):\n",
    "    def sum():\n",
    "        ax = 0\n",
    "        for n in args:\n",
    "            ax = ax + n\n",
    "        return ax\n",
    "    return sum\n",
    "\n",
    "f = lazy_sum(1, 3, 5, 7, 9)\n",
    "f"
   ]
  },
  {
   "cell_type": "code",
   "execution_count": 21,
   "metadata": {},
   "outputs": [
    {
     "data": {
      "text/plain": [
       "25"
      ]
     },
     "execution_count": 21,
     "metadata": {},
     "output_type": "execute_result"
    }
   ],
   "source": [
    "f()"
   ]
  },
  {
   "cell_type": "markdown",
   "metadata": {},
   "source": [
    "#### 匿名函数\n",
    "\n",
    "当我们在传入函数时，有些时候，不需要显式地定义函数，直接传入匿名函数更方便。\n",
    "\n",
    "在Python中，对匿名函数提供了有限支持。还是以map()函数为例，计算f(x)=x2时，除了定义一个f(x)的函数外，还可以直接传入匿名函数："
   ]
  },
  {
   "cell_type": "code",
   "execution_count": 23,
   "metadata": {},
   "outputs": [
    {
     "data": {
      "text/plain": [
       "[1, 4, 9, 16, 25, 36, 49, 64, 81]"
      ]
     },
     "execution_count": 23,
     "metadata": {},
     "output_type": "execute_result"
    }
   ],
   "source": [
    "list(map(lambda x: x * x, [1, 2, 3, 4, 5, 6, 7, 8, 9]))"
   ]
  },
  {
   "cell_type": "markdown",
   "metadata": {},
   "source": [
    "关键字lambda表示匿名函数，冒号前面的x表示函数参数。匿名函数有个限制，就是只能有一个表达式，不用写return，返回值就是该表达式的结果。\n",
    "\n",
    "### 面向对象\n",
    "\n",
    "python的面向对象和java有所不同。python是一种动态编程语言，根据[动态语言与鸭子类型](https://juejin.im/post/59ae5865f265da249517b484)一文所述，动态语言就是只有等到程序运行时才知道一切，变量（严格来说叫名字，就像人的名字一样）不需要指定类型，变量本身没有任何类型信息，类型信息在对象身上，对象是什么类型，必须等到程序运行时才知道，动态类型语言的优点在于方便阅读，不需要写很多类型相关的代码；缺点是不方便调试，命名不规范时会造成读不懂，不利于理解等。\n",
    "\n",
    "动态语言中经常提到鸭子类型，所谓鸭子类型就是：如果走起路来像鸭子，叫起来也像鸭子，那么它就是鸭子（If it walks like a duck and quacks like a duck, it must be a duck）。鸭子类型是编程语言中动态类型语言中的一种设计风格，一个对象的特征不是由父类决定，而是通过对象的方法决定的。"
   ]
  },
  {
   "cell_type": "code",
   "execution_count": 1,
   "metadata": {},
   "outputs": [
    {
     "name": "stdout",
     "output_type": "stream",
     "text": [
      "True\n",
      "True\n"
     ]
    },
    {
     "name": "stderr",
     "output_type": "stream",
     "text": [
      "C:\\Users\\hust2\\Anaconda3\\lib\\site-packages\\ipykernel_launcher.py:9: DeprecationWarning: Using or importing the ABCs from 'collections' instead of from 'collections.abc' is deprecated, and in 3.8 it will stop working\n",
      "  if __name__ == '__main__':\n",
      "C:\\Users\\hust2\\Anaconda3\\lib\\site-packages\\ipykernel_launcher.py:10: DeprecationWarning: Using or importing the ABCs from 'collections' instead of from 'collections.abc' is deprecated, and in 3.8 it will stop working\n",
      "  # Remove the CWD from sys.path while we load stuff.\n"
     ]
    }
   ],
   "source": [
    "# python3\n",
    "class Foo:\n",
    "    def __iter__(self):\n",
    "        pass\n",
    "\n",
    "    def __next__(self):\n",
    "        pass\n",
    "\n",
    "from collections import Iterable\n",
    "from collections import Iterator\n",
    "\n",
    "print(isinstance(Foo(), Iterable)) # True\n",
    "print(isinstance(Foo(), Iterator)) # True"
   ]
  },
  {
   "cell_type": "markdown",
   "metadata": {},
   "source": [
    "我们并不需要继承 Iterator 就可以实现迭代器的功能。当有一函数希望接收的参数是 Iterator 类型时，但是我们传递的是 Foo 的实例对象，其实也没问题，换成是Java等静态语言，就必须传递 Iterator或者是它的子类。鸭子类型通常得益于\"不\"测试方法和函数中参数的类型，而是依赖文档、清晰的代码和测试来确保正确使用，这既是优点也是缺点，缺点是需要通过文档才能知道参数类型，为了弥补这方面的不足，Python3.6引入了类型信息，定义变量的时候可以指定类型"
   ]
  },
  {
   "cell_type": "code",
   "execution_count": null,
   "metadata": {},
   "outputs": [],
   "source": [
    "def greeting(name: str) -> str:\n",
    "    \"\"\"该函数表示接收str类型的参数，并返回str类型的值\"\"\"\n",
    "    return 'Hello ' + name"
   ]
  },
  {
   "cell_type": "markdown",
   "metadata": {},
   "source": [
    "接下来，记录一些python面向对象的高级特性。"
   ]
  },
  {
   "cell_type": "markdown",
   "metadata": {},
   "source": [
    "## python语法小结\n",
    "\n",
    "本节主要对python中一些令人印象深刻的基础语法进行归纳总结，为更高级的python语句的理解做铺垫。\n",
    "\n",
    "\"*\"和\"_\"等特殊符号在python语法中十分常见，本节先从这些符号开始说起。\n",
    "\n",
    "### _号的用法\n",
    "\n",
    "本小节主要参考：[Python中下划线的5种含义](https://zhuanlan.zhihu.com/p/36173202)。下划线在python变量、方法等的名称中都各有其含义，主要包括两个层面：\n",
    "\n",
    "- 约定的含义，对程序员的提示；\n",
    "- 由Python解释器严格执行的。\n",
    "\n",
    "主要讨论5类下划线模式及对python程序的行为的影响：\n",
    "\n",
    "- 单前导下划线（_var）：一个命名约定，表示变量或方法仅内部（比如类内，模块内等）使用；\n",
    "- 单末尾下划线（var_）：一个命名约定，用来避免与关键字产生命名冲突；\n",
    "- 双前导下划线（__var）：解释器会更改该变量的名称，以便在类被扩展的时候不冲突；\n",
    "- 双前导和末尾下划线（__var__）：Python保留了这类名称用于特殊用途，最好避免在自己的程序中使用；\n",
    "- 单下划线（_）：约定，表示这个变量是临时的，也是一个特殊变量，解释器评估的最近一个表达式的结果。\n",
    "\n",
    "综上，单下划线的基本上属于约定类的，双下划线的则是解释器级的。下面给例子说明下__var和__var__"
   ]
  },
  {
   "cell_type": "code",
   "execution_count": null,
   "metadata": {
    "pycharm": {
     "name": "#%%\n"
    }
   },
   "outputs": [],
   "source": [
    "class Test:\n",
    "   def __init__(self):\n",
    "       self.foo = 11\n",
    "       self._bar = 23\n",
    "       self.__baz = 23\n",
    "        \n",
    "t = Test()\n",
    "dir(t)"
   ]
  },
  {
   "cell_type": "markdown",
   "metadata": {},
   "source": [
    "dir()函数可查看对象的属性，从上例中可以看出，__baz变量已经变为_Test__baz变量。也就是说双下划线变量的这种名称修饰对程序员是透明的，这是为了防止被意外修改。对方法的命名也是一样的，这里就不再赘述了。\n",
    "\n",
    "首尾双下划线的例子，以__call__函数为例。"
   ]
  },
  {
   "cell_type": "code",
   "execution_count": null,
   "metadata": {
    "pycharm": {
     "name": "#%%\n"
    }
   },
   "outputs": [],
   "source": [
    "# __call__函数的作用\n",
    "# /usr/bin/env python\n",
    "class test:\n",
    "    def __init__(self, a):\n",
    "        self.a = a\n",
    "\n",
    "    def __call__(self, b):\n",
    "        c = self.a + b\n",
    "        print(c)\n",
    "\n",
    "    def display(self):\n",
    "        print(self.a)\n",
    "\n",
    "\n",
    "Test = test(\"This is test!\")\n",
    "Test.display()  # 调用display函数\n",
    "Test(\"##Append something\")  # __call__实际上是将一个类重载了\"()\"，也就是让一个类也可以像一个函数一样可以拿来调用了。因此这里会调用__call__函数"
   ]
  },
  {
   "cell_type": "markdown",
   "metadata": {},
   "source": [
    "### *的用法\n",
    "\n",
    "这部分主要参考：[Python函数中*和**的内涵究竟是什么呢？](https://www.zhihu.com/question/265519629)。\n",
    "\n",
    "星号主要在函数定义和函数调用的时候使用：\n",
    "\n",
    "- 函数定义：\n",
    "  - 使用单个星号会将所有的参数放入一个元组tuple供函数使用；\n",
    "  - 使用两个星号会将所有的参数放入一个字典dict供函数使用；\n",
    "- 函数调用：\n",
    "  - 在list、tuple、set前加一个星号会把容器中所有元素解包变成位置参数；\n",
    "  - 在dict前加一个星号会把字典的键变成位置参数；\n",
    "  - 在dict前加两个星号会把字典的键值对变成关键字参数。\n",
    "  \n",
    "结合以下例子便可理解。"
   ]
  },
  {
   "cell_type": "code",
   "execution_count": null,
   "metadata": {
    "pycharm": {
     "name": "#%%\n"
    }
   },
   "outputs": [],
   "source": [
    "def foo(*args):\n",
    "    for a in args:\n",
    "        print(a)\n",
    "        \n",
    "foo(1)\n",
    "print()\n",
    "foo(1,2,3)"
   ]
  },
  {
   "cell_type": "code",
   "execution_count": null,
   "metadata": {
    "pycharm": {
     "name": "#%%\n"
    }
   },
   "outputs": [],
   "source": [
    "def bar(**kwargs):\n",
    "    for a in kwargs:\n",
    "        print(a, kwargs[a])\n",
    "        \n",
    "bar(name='one', age=27)"
   ]
  },
  {
   "cell_type": "code",
   "execution_count": null,
   "metadata": {
    "pycharm": {
     "name": "#%%\n"
    }
   },
   "outputs": [],
   "source": [
    "def foo(x,y,z):\n",
    "    print(\"x=\" + str(x))\n",
    "    print(\"y=\" + str(y))\n",
    "    print(\"z=\" + str(z))\n",
    "    \n",
    "mylist = [1,2,3]\n",
    "foo(*mylist)"
   ]
  },
  {
   "cell_type": "code",
   "execution_count": null,
   "metadata": {
    "pycharm": {
     "name": "#%%\n"
    }
   },
   "outputs": [],
   "source": [
    "mydict = {'x':1,'y':2,'z':3}\n",
    "foo(**mydict)"
   ]
  },
  {
   "cell_type": "code",
   "execution_count": null,
   "metadata": {
    "pycharm": {
     "name": "#%%\n"
    }
   },
   "outputs": [],
   "source": [
    "def foo(param1, *param2):\n",
    "    print(param1)\n",
    "    print(param2)\n",
    "\n",
    "def bar(param1, **param2):\n",
    "    print(param1)\n",
    "    print(param2)\n",
    "\n",
    "foo(1,2,3,4,5)\n",
    "bar(1,a=2,b=3)"
   ]
  },
  {
   "cell_type": "markdown",
   "metadata": {},
   "source": [
    "### @的用法\n",
    "\n",
    "这里涉及到python装饰器的一些内容。主要参考了：[如何理解Python装饰器](https://www.zhihu.com/question/26930016)和[Python装饰器和符号@](https://gohom.win/2015/10/25/pyDecorator/)\n",
    "\n",
    "装饰器本质上是一个**Python函数**，它可以让其他函数在**不需要做任何代码变动**的前提下**增加额外功能**，装饰器的**返回值**也是一个**函数对象**，它经常用于有切面需求的场景（类似java里的注解），比如插入日志、性能测试等。"
   ]
  },
  {
   "cell_type": "code",
   "execution_count": 1,
   "metadata": {
    "pycharm": {
     "name": "#%%\n"
    }
   },
   "outputs": [
    {
     "name": "stdout",
     "output_type": "stream",
     "text": [
      "call now():\n",
      "2015-10-26\n"
     ]
    },
    {
     "data": {
      "text/plain": [
       "'done'"
      ]
     },
     "execution_count": 1,
     "metadata": {},
     "output_type": "execute_result"
    }
   ],
   "source": [
    "def log(func):\n",
    "    def wrapper(*args, **kw):\n",
    "        print('call %s():' % func.__name__)\n",
    "        return func(*args, **kw)\n",
    "    return wrapper\n",
    "\n",
    "@log\n",
    "def now():\n",
    "    print('2015-10-26')\n",
    "    return \"done\"\n",
    "now()"
   ]
  },
  {
   "cell_type": "markdown",
   "metadata": {},
   "source": [
    "机制就是,调用now()实际调用log(now)() (前面@写法后,实际运行now=log(now)),也就是运行了wrapper(),并把now函数原有参数传递给了wrapper函数. wrapper在运行时,加入了新的处理print 'call %s():' % func.__name__一句, 并运行相应传递参数的func(*args,**kw)并把原有结果返回.\n",
    "\n",
    "带参数的装饰器会稍微复杂一些，它是对原有装饰器的一个函数封装，并返回一个装饰器。"
   ]
  },
  {
   "cell_type": "code",
   "execution_count": null,
   "metadata": {
    "pycharm": {
     "name": "#%%\n"
    }
   },
   "outputs": [],
   "source": [
    "def log(text):\n",
    "    def decorator(func):\n",
    "        def wrapper(*args, **kw):\n",
    "            print('%s %s():' % (text, func.__name__))\n",
    "            return func(*args, **kw)\n",
    "        return wrapper\n",
    "    return decorator\n",
    "@log('execute')\n",
    "def now():\n",
    "    print('2015-10-26')\n",
    "    return \"done\"\n",
    "now()"
   ]
  },
  {
   "cell_type": "markdown",
   "metadata": {},
   "source": [
    "实际now=log('execute')(now)两个参数表就是执行了一次闭包decorator(now).执行该闭包后返回的才是真正的装饰器wrapper.\n",
    "\n",
    "两层闭包的机制可以保证传递参数给内在的装饰器wrapper.第一层将参数传进行生成第一层闭包对应返回函数,第二层则将该参数继续留给真正的装饰器闭包。\n",
    "\n",
    "此外，还有类装饰器，类装饰器有灵活度大、高内聚、封装性等优点，使用类装饰器要依靠类内部的__call__方法。"
   ]
  },
  {
   "cell_type": "code",
   "execution_count": null,
   "metadata": {
    "pycharm": {
     "name": "#%%\n"
    }
   },
   "outputs": [],
   "source": [
    "class Foo(object):\n",
    "    def __init__(self, func):\n",
    "        self._func = func\n",
    "\n",
    "    def __call__(self):\n",
    "        print ('class decorator runing')\n",
    "        self._func()\n",
    "        print ('class decorator ending')\n",
    "\n",
    "@Foo\n",
    "def bar():\n",
    "    print ('bar')\n",
    "\n",
    "bar()"
   ]
  },
  {
   "cell_type": "markdown",
   "metadata": {},
   "source": [
    "使用装饰器会丢失一些原函数的元信息，这时候可以用functools.wraps，它把原函数的元信息拷贝到装饰器函数中。\n",
    "\n",
    "此外，还有内置装饰器@staticmathod、@classmethod、@property等。\n",
    "\n",
    "- [ ] classmethod v.s. staticmethod\n",
    "\n",
    "### 其他符号\n",
    "\n",
    "- \".\"符号除了取值时用，在from . import XXX中表示sessions当前文件夹里的初始化文件，也就是sessions所在目录下的__init__.py文件；from .. import XXX就是从上级目录里面的__init__.py文件导入XXX。\n",
    "- \"%\"符号除了取余运算外，在字符串的格式化操作中起到占位符的作用。"
   ]
  },
  {
   "cell_type": "code",
   "execution_count": null,
   "metadata": {
    "pycharm": {
     "name": "#%%\n"
    }
   },
   "outputs": [],
   "source": [
    "print(\"%6.3f\" % 2.3) # 6为显示宽度，3为小数点位数，f为浮点数类型，第二个\"%\"后面为显示的内容来源，输出结果右对齐，2.300长度为5，故前面有一空格\n",
    "print(\"%+10x\" % 10) # x为表示16进制，显示宽度为10，前面有8个空格\n",
    "print(\"%-5x\" % -10) #  \"%-5x\" 负号为左对齐，显示宽度为5，故-a后面有3个空格\n",
    "\n",
    "pi=3.1415\n",
    "print (\"pi的值是%s\"%pi)\n",
    "print (\"pi的值是%.8f\"%pi)\n",
    "\n",
    "print(\"%10.*f\" % (4, 1.2))"
   ]
  },
  {
   "cell_type": "markdown",
   "metadata": {},
   "source": [
    "## 基本库的使用\n",
    "\n",
    "基本库的运用可以从这些方面着手：\n",
    "\n",
    "- 数据结构操作\n",
    "- 日期时间表达\n",
    "- 文件读写\n",
    "- 系统模块\n",
    "- 进程和线程\n",
    "- 电子邮件\n",
    "- 调用其他语言程序\n",
    "\n",
    "以下各小节，没有特别说明的话，都是主要引用了[廖雪峰python教程](https://www.liaoxuefeng.com/wiki/1016959663602400)\n",
    "\n",
    "### 数据结构基本操作\n"
   ]
  },
  {
   "cell_type": "code",
   "execution_count": null,
   "metadata": {
    "pycharm": {
     "name": "#%% \n"
    }
   },
   "outputs": [],
   "source": [
    "# all()函数\n",
    "print(all(['a', 'b', 'c', 'd']))  # 列表list，元素都不为空或0\n",
    "print(all(['a', 'b', '', 'd']))\n",
    "print(all([0, 1, 2, 3]))\n",
    "print(all([]))\n",
    "print(all(()))\n",
    "\n",
    "# eval()函数\n",
    "x = 7\n",
    "# eval(expression[, globals[, locals]])用来执行一个字符串表达式，并返回表达式的值。\n",
    "print(eval('3*x'))\n",
    "print(eval('2+2'))\n",
    "print(eval('pow(2,2)'))\n"
   ]
  },
  {
   "cell_type": "markdown",
   "metadata": {},
   "source": [
    "### 日期时间\n",
    "\n",
    "datetime是Python处理日期和时间的标准库。\n",
    "\n",
    "获取当前日期和时间："
   ]
  },
  {
   "cell_type": "code",
   "execution_count": 2,
   "metadata": {
    "pycharm": {
     "name": "#%%\n"
    }
   },
   "outputs": [
    {
     "name": "stdout",
     "output_type": "stream",
     "text": [
      "2019-11-21 20:58:23.505184\n"
     ]
    }
   ],
   "source": [
    "from datetime import datetime\n",
    "now = datetime.now() # 获取当前datetime\n",
    "print(now)"
   ]
  },
  {
   "cell_type": "code",
   "execution_count": null,
   "metadata": {
    "pycharm": {
     "name": "#%%\n"
    }
   },
   "outputs": [],
   "source": [
    "注意到datetime是模块，datetime模块还包含一个datetime类，通过from datetime import datetime导入的才是datetime这个类。\n",
    "\n",
    "如果仅导入import datetime，则必须引用全名datetime.datetime。\n",
    "\n",
    "datetime.now()返回当前日期和时间，其类型是datetime。"
   ]
  },
  {
   "cell_type": "code",
   "execution_count": 5,
   "metadata": {
    "pycharm": {
     "name": "#%%\n"
    }
   },
   "outputs": [
    {
     "name": "stdout",
     "output_type": "stream",
     "text": [
      "2015-04-19 12:20:00\n",
      "2015-06-01 18:19:59\n",
      "Thu, Nov 21 20:58\n",
      "2019-11-22 06:58:23.505184\n",
      "True\n"
     ]
    }
   ],
   "source": [
    "from datetime import datetime, timedelta\n",
    "dt = datetime(2015, 4, 19, 12, 20) # 用指定日期时间创建datetime\n",
    "print(dt)\n",
    "# str转换为datetime\n",
    "cday = datetime.strptime('2015-6-1 18:19:59', '%Y-%m-%d %H:%M:%S')\n",
    "print(cday)\n",
    "# datetime转换为str\n",
    "print(now.strftime('%a, %b %d %H:%M'))\n",
    "# datetime加减\n",
    "print(now + timedelta(hours=10))\n",
    "now + timedelta(days=2, hours=12)\n",
    "\n",
    "import calendar\n",
    "print (calendar.isleap(1996))"
   ]
  },
  {
   "cell_type": "markdown",
   "metadata": {},
   "source": [
    "### IO编程\n",
    "\n",
    "IO就是输入输出，IO中有一个很重要的概念，就是流Stream，数据从网络、硬盘流入内存是Input stream，反过来就是output stream。\n",
    "\n",
    "控制IO的方式有同步和异步两种，这是因为内存存取数据的速度是远高于外设的，因此就存在速度不匹配的问题，所以要么就忍者，快的等慢的，即同步的；要么就不等，快的告诉慢的你先弄着，我先去干别的，搞完了告诉我，这就是异步。异步优点是性能好，缺点是麻烦。\n",
    "\n",
    "操作IO的能力都是操作系统提供的，每一种编程语言都会把操作系统提供的低级C接口封装起来方便使用，Python也不例外。接下来就从一些常用操作开始说起。\n",
    "\n",
    "#### 读写txt文件\n",
    "\n",
    "在磁盘上读写文件的功能都是由操作系统提供的，现代操作系统不允许普通的程序直接操作磁盘，所以，读写文件就是**请求操作系统打开一个文件对象**（通常称为文件描述符），然后，通过**操作系统提供的接口**从这个文件对象中读取数据（读文件），或者把数据写入这个文件对象（写文件）。\n",
    "\n",
    "要以读文件的模式打开一个文件对象，使用Python内置的**open()函数**，传入文件名和标示符："
   ]
  },
  {
   "cell_type": "code",
   "execution_count": null,
   "metadata": {
    "pycharm": {
     "name": "#%%\n"
    }
   },
   "outputs": [],
   "source": [
    "# open函数请求操作系统打开文件\n",
    "f=open('test.txt','r')\n",
    "# 打开后读取文件内容到内存中，是一个str对象\n",
    "f.read()"
   ]
  },
  {
   "cell_type": "markdown",
   "metadata": {},
   "source": [
    "最后，要记得关闭文件，因为其会占用操作系统的资源，操作系统同一时间能打开的文件数量是有限的。"
   ]
  },
  {
   "cell_type": "code",
   "execution_count": null,
   "metadata": {
    "pycharm": {
     "name": "#%%\n"
    }
   },
   "outputs": [],
   "source": [
    "f.close()"
   ]
  },
  {
   "cell_type": "markdown",
   "metadata": {},
   "source": [
    "前面说过with的用法，因为有时候可能会有错误，所以读写文件这类操作通常会有try...finally来实现，但是这样写太麻烦，所以使用with语句。"
   ]
  },
  {
   "cell_type": "code",
   "execution_count": null,
   "metadata": {
    "pycharm": {
     "name": "#%%\n"
    }
   },
   "outputs": [],
   "source": [
    "with open('test.txt', 'r') as f:\n",
    "    print(f.read())"
   ]
  },
  {
   "cell_type": "markdown",
   "metadata": {},
   "source": [
    "如果文件很小，read()一次性读取最方便；如果不能确定文件大小，反复调用read(size)比较保险；如果是配置文件，调用readlines()最方便："
   ]
  },
  {
   "cell_type": "code",
   "execution_count": null,
   "metadata": {
    "pycharm": {
     "name": "#%%\n"
    }
   },
   "outputs": [],
   "source": [
    "with open('test.txt', 'r') as f:\n",
    "    for line in f.readlines():\n",
    "        print(line.strip()) # 把末尾的'\\n'删掉"
   ]
  },
  {
   "cell_type": "markdown",
   "metadata": {},
   "source": [
    "另外还有readline方法，该方法比较适合读取大文件，for line in f将文件对象f视为一个迭代器，自动的采用缓冲IO和内存管理，所以不必担心大文件。让系统来处理，其实是最简单的方式，交给解释器，就万事大吉了。——[python读GB级大文件](https://github.com/Shuang0420/Shuang0420.github.io/wiki/python%E8%AF%BBGB%E7%BA%A7%E5%A4%A7%E6%96%87%E4%BB%B6)"
   ]
  },
  {
   "cell_type": "code",
   "execution_count": null,
   "metadata": {
    "pycharm": {
     "name": "#%%\n"
    }
   },
   "outputs": [],
   "source": [
    "with open('test.txt', 'r') as f:\n",
    "    for line in f:\n",
    "        print(line.strip()) # 把末尾的'\\n'删掉"
   ]
  },
  {
   "cell_type": "markdown",
   "metadata": {},
   "source": [
    "这三种方法的区别，参考：[Python中的read(),readline(),readlines()区别与用法](https://www.jianshu.com/p/a672f39287c4)\n",
    "\n",
    "- read([size])方法从文件当前位置起读取size个字节，若无参数size，则表示读取至文件结束为止，它范围为字符串对象；\n",
    "- 从字面意思可以看出，该方法每次读出一行内容，所以，读取时占用内存小，比较适合大文件，该方法返回一个字符串对象；\n",
    "- readlines()方法读取整个文件所有行，保存在一个列表(list)变量中，每行作为一个元素，但读取大文件会比较占内存。\n",
    "\n",
    "写文件和读文件是一样的，唯一区别是调用open()函数时，传入标识符'w'或者'wb'表示写文本文件或写二进制文件："
   ]
  },
  {
   "cell_type": "code",
   "execution_count": null,
   "metadata": {
    "pycharm": {
     "name": "#%%\n"
    }
   },
   "outputs": [],
   "source": [
    "with open('test.txt', 'w') as f:\n",
    "    f.write('Hello, world!')"
   ]
  },
  {
   "cell_type": "markdown",
   "metadata": {},
   "source": [
    "以'w'模式写入文件时，如果文件已存在，会直接覆盖（相当于删掉后新写入一个文件）。如果我们希望追加到文件末尾怎么办？可以传入'a'以追加（append）模式写入。"
   ]
  },
  {
   "cell_type": "code",
   "execution_count": null,
   "metadata": {
    "pycharm": {
     "name": "#%%\n"
    }
   },
   "outputs": [],
   "source": [
    "with open('test.txt', 'a') as f:\n",
    "    # 字符串开头加\\n，可以另起一行开始添加    \n",
    "    f.write('\\nHello, Owen!')"
   ]
  },
  {
   "cell_type": "markdown",
   "metadata": {},
   "source": [
    "#### 读写json文件\n",
    "\n",
    "json 模块提供了一种很简单的方式来编码和解码JSON数据。 \n",
    "\n",
    "其中两个主要的函数是 json.dumps() 和 json.loads()，要比其他序列化函数库如pickle的接口少得多。\n",
    "\n",
    "下面演示如何将一个Python数据结构转换为JSON"
   ]
  },
  {
   "cell_type": "code",
   "execution_count": null,
   "metadata": {
    "pycharm": {
     "name": "#%%\n"
    }
   },
   "outputs": [],
   "source": [
    "import json\n",
    "# 写入json\n",
    "data = {\n",
    "    'name' : 'ACME',\n",
    "    'shares' : 100,\n",
    "    'price' : 542.23\n",
    "}\n",
    "\n",
    "json_str = json.dumps(data)\n",
    "\n",
    "# 读取\n",
    "data = json.loads(json_str)\n"
   ]
  },
  {
   "cell_type": "markdown",
   "metadata": {},
   "source": [
    "如果你要处理的是文件而不是字符串，你可以使用 json.dump() 和 json.load() 来编码和解码JSON数据。例如：\n"
   ]
  },
  {
   "cell_type": "code",
   "execution_count": null,
   "metadata": {
    "pycharm": {
     "name": "#%%\n"
    }
   },
   "outputs": [],
   "source": [
    "# Writing JSON data\n",
    "with open('data.json', 'w') as f:\n",
    "    json.dump(data, f)\n",
    "\n",
    "# Reading data back\n",
    "with open('data.json', 'r') as f:\n",
    "    data = json.load(f)\n"
   ]
  },
  {
   "cell_type": "markdown",
   "metadata": {},
   "source": [
    "JSON编码支持的基本数据类型为 None ， bool ， int ， float 和 str ， 以及包含这些类型数据的lists，tuples和dictionaries。\n",
    "\n",
    "对于dictionaries，keys需要是字符串类型(字典中任何非字符串类型的key在编码时会先转换为字符串)。\n",
    "\n",
    "为了遵循JSON规范，你应该只编码Python的lists和dictionaries。 而且，在web应用程序中，顶层对象被编码为一个字典是一个标准做法。\n",
    "\n",
    "在编码JSON的时候，还有一些选项很有用。 如果你想获得漂亮的格式化字符串后输出，可以使用 json.dumps() 的indent参数。 它会使得输出和pprint()函数效果类似。\n"
   ]
  },
  {
   "cell_type": "code",
   "execution_count": null,
   "metadata": {
    "pycharm": {
     "name": "#%%\n"
    }
   },
   "outputs": [],
   "source": [
    "print(json.dumps(data))\n",
    "print(json.dumps(data, indent=4))"
   ]
  },
  {
   "cell_type": "markdown",
   "metadata": {},
   "source": [
    "### 进程和线程\n",
    "\n",
    "现代操作系统基本都是支持“多任务”的操作系统。“多任务”，简单地说，就是操作系统可以同时运行多个任务。\n",
    "\n",
    "因为CPU的速度很快，为了不浪费资源，所以单核的时候就有让操作系统轮流执行多任务的犀利操作了。而有了多核CPU之后，就有了真正的并行多任务。但是，由于任务数量远远多于CPU的核心数量，所以，操作系统也会自动把很多任务轮流调度到每个核心上执行。\n",
    "\n",
    "对于操作系统来说，一个任务就是一个进程（Process），比如打开一个浏览器就是启动一个浏览器进程。有些进程还不止同时干一件事，比如Word，它可以同时进行打字、拼写检查、打印等事情。在一个进程内部，要同时干多件事，就需要同时运行多个“子任务”，我们把进程内的这些“子任务”称为线程（Thread）。关于进程和线程的区别可以参考这篇[post](https://www.zhihu.com/question/25532384)。引用一句总结：线程共享了进程的上下文环境，是颗粒更小的CPU时间段的描述。\n",
    "\n",
    "回到python，之前的程序基本都是单任务的进程，也就是只有一个线程，现在如果要同时执行多个任务怎么办？\n",
    "\n",
    "多任务的实现有3种方式：\n",
    "\n",
    "- 多进程模式；\n",
    "- 多线程模式；\n",
    "- 多进程+多线程模式\n",
    "\n",
    "启动多个进程，每个进程再启动多个线程，这种模型更复杂，实际很少采用。\n",
    "\n",
    "同时执行多个任务通常各个任务之间并不是没有关联的，而是需要相互通信和协调，有时，任务1必须暂停等待任务2完成后才能继续执行，有时，任务3和任务4又不能同时执行，所以，多进程和多线程的程序的**复杂度要远远高于**我们前面写的单进程单线程的程序。\n",
    "\n",
    "不是迫不得已，也不想编写多任务。但是，有很多时候，没有多任务还真不行。想想在电脑上看电影，就必须由一个线程播放视频，另一个线程播放音频，否则，单线程实现的话就只能先把视频播放完再播放音频，或者先把音频播放完再播放视频，这显然是不行的。\n",
    "\n",
    "#### 多进程\n",
    "\n",
    "Unix/Linux操作系统提供了一个fork()系统调用，它非常特殊。普通的函数调用，调用一次，返回一次，但是**fork()调用一次，返回两次**，因为操作系统自动把当前进程（称为父进程）复制了一份（称为子进程），然后，分别在父进程和子进程内返回。\n",
    "\n",
    "子进程永远返回0，而父进程返回子进程的ID。这样做的理由是，一个父进程可以fork出很多子进程，所以，父进程要记下每个子进程的ID，而子进程只需要调用getppid()就可以拿到父进程的ID。\n",
    "\n",
    "Python的os模块封装了常见的系统调用，其中就包括fork，可以在Python程序中轻松创建子进程："
   ]
  },
  {
   "cell_type": "code",
   "execution_count": 7,
   "metadata": {},
   "outputs": [
    {
     "name": "stdout",
     "output_type": "stream",
     "text": [
      "Process (31803) start...\n",
      "I (31803) just created a child process (7406).\n",
      "I am child process (7406) and my parent is 31803.\n"
     ]
    }
   ],
   "source": [
    "import os\n",
    "\n",
    "print('Process (%s) start...' % os.getpid())\n",
    "# Only works on Unix/Linux/Mac:\n",
    "pid = os.fork()\n",
    "if pid == 0:\n",
    "    print('I am child process (%s) and my parent is %s.' % (os.getpid(), os.getppid()))\n",
    "else:\n",
    "    print('I (%s) just created a child process (%s).' % (os.getpid(), pid))"
   ]
  },
  {
   "cell_type": "markdown",
   "metadata": {},
   "source": [
    "如果打算编写多进程的服务程序，Unix/Linux无疑是正确的选择。那么Windows没有fork调用，难道在Windows上无法用Python编写多进程的程序？\n",
    "\n",
    "python提供的multiprocessing模块是跨平台版本的多进程模块。\n",
    "\n",
    "multiprocessing模块提供了一个Process类来代表一个进程对象，下面的例子演示了启动一个子进程并等待其结束："
   ]
  },
  {
   "cell_type": "code",
   "execution_count": 8,
   "metadata": {},
   "outputs": [
    {
     "name": "stdout",
     "output_type": "stream",
     "text": [
      "Parent process 31803.\n",
      "Child process will start.\n",
      "Run child process test (5610)...\n",
      "Child process end.\n"
     ]
    }
   ],
   "source": [
    "from multiprocessing import Process\n",
    "import os\n",
    "\n",
    "# 子进程要执行的代码\n",
    "def run_proc(name):\n",
    "    print('Run child process %s (%s)...' % (name, os.getpid()))\n",
    "\n",
    "if __name__=='__main__':\n",
    "    print('Parent process %s.' % os.getpid())\n",
    "    p = Process(target=run_proc, args=('test',))\n",
    "    print('Child process will start.')\n",
    "    p.start()\n",
    "    p.join()\n",
    "    print('Child process end.')"
   ]
  },
  {
   "cell_type": "markdown",
   "metadata": {},
   "source": [
    "### 访问操作系统功能\n",
    "\n",
    "这部分参考了[简书博客](https://www.jianshu.com/p/5ce082723fe6)。\n",
    "\n",
    "OS模块是Python标准库中的一个用于**访问操作系统功能**的模块，OS模块提供了一种可移植的方法使用操作系统的功能。使用OS模块中提供的接口，可以实现跨平台访问。但是在OS模块中的接口并不是所有平台都通用，有些接口的实现是依靠特定平台下的接口的。在OS模块中提供了一系列访问操作系统功能的接口，便于编写跨平台的应用。"
   ]
  },
  {
   "cell_type": "code",
   "execution_count": 1,
   "metadata": {
    "pycharm": {
     "name": "#%%\n"
    }
   },
   "outputs": [
    {
     "data": {
      "text/plain": [
       "'nt'"
      ]
     },
     "execution_count": 1,
     "metadata": {},
     "output_type": "execute_result"
    }
   ],
   "source": [
    "import os\n",
    "# 系统名称，windows下为‘nt’，linux下为‘posix’\n",
    "os.name"
   ]
  },
  {
   "cell_type": "markdown",
   "metadata": {},
   "source": [
    "在使用OS模块的时候，如果使用过程中出现了异常，OS模块会抛出OSError异常，表明：无效的路径名或文件名，或者给出的路径名或文件名无法访问，或者当前使用的系统不支持。\n",
    "\n",
    "这里给出一些常用的os命令："
   ]
  },
  {
   "cell_type": "code",
   "execution_count": 2,
   "metadata": {
    "pycharm": {
     "name": "#%%\n"
    }
   },
   "outputs": [
    {
     "name": "stdout",
     "output_type": "stream",
     "text": [
      "True\n",
      "False\n",
      "True\n",
      "('', 'test.txt')\n"
     ]
    },
    {
     "data": {
      "text/plain": [
       "'1-basin-python\\\\test.txt'"
      ]
     },
     "execution_count": 2,
     "metadata": {},
     "output_type": "execute_result"
    }
   ],
   "source": [
    "# 得到当前工作的目录\n",
    "os.getcwd()\n",
    "# 列出指定目录（默认是当前目录）下所有的文件和目录名\n",
    "os.listdir()\n",
    "# 判断指定对象是否为文件\n",
    "print(os.path.isfile('test.txt'))\n",
    "# 判断指定对象是否为目录\n",
    "print(os.path.isdir('test.txt'))\n",
    "# 检验指定的对象是否存在\n",
    "print(os.path.exists('test.txt'))\n",
    "# 返回路径的目录和文件名\n",
    "print(os.path.split('test.txt'))\n",
    "# 执行shell命令\n",
    "os.system(\"echo 'hello world!'\")\n",
    "# 连接目录和文件名\n",
    "os.path.join('1-basin-python', 'test.txt')"
   ]
  },
  {
   "cell_type": "markdown",
   "metadata": {},
   "source": [
    "补充一些os.path.join()的内容：\n",
    "\n",
    "- 该函数会从第一个以”/”开头的参数开始拼接，之前的参数全部丢弃；\n",
    "- 在上一种情况确保情况下，若出现”./”开头的参数，会从”./”开头的参数的上一个参数开始拼接。"
   ]
  },
  {
   "cell_type": "code",
   "execution_count": null,
   "metadata": {
    "pycharm": {
     "name": "#%%\n"
    }
   },
   "outputs": [],
   "source": [
    "print(\"1:\",os.path.join('aaaa','/bbbb','ccccc.txt'))\n",
    "\n",
    "print(\"2:\",os.path.join('/aaaa','/bbbb','/ccccc.txt'))\n",
    "\n",
    "print(\"3:\",os.path.join('aaaa','./bbb','ccccc.txt'))\n",
    "# 获取上上上级目录\n",
    "os.path.abspath(os.path.join(os.getcwd(), \"../../..\"))"
   ]
  },
  {
   "cell_type": "markdown",
   "metadata": {},
   "source": [
    "### 电子邮件\n",
    "\n",
    "电子邮件的流程和传统邮件基本一致，假设自己的电子邮件地址是me@163.com，对方的电子邮件地址是friend@sina.com，梳理一下基本的流程：\n",
    "\n",
    "1. 用Outlook或者Foxmail之类的软件写好邮件，填上对方的Email地址，点“发送”，电子邮件就发出去了。这些电子邮件软件被称为**MUA：Mail User Agent——邮件用户代理**；\n",
    "2. Email从MUA发出去，不是直接到达对方电脑，而是发到**MTA：Mail Transfer Agent——邮件传输代理**，就是那些Email服务提供商，比如网易、新浪等等，本例中，Email首先被投递到网易提供的MTA，再由网易的MTA发到新浪的MTA；\n",
    "3. 到达新浪的MTA后，新浪的MTA会把Email投递到邮件的最终目的地**MDA：Mail Delivery Agent——邮件投递代理**，Email到达MDA后，就静静地躺在新浪的某个服务器上，存放在某个文件或特殊的数据库里，我们将这个长期保存邮件的地方称之为电子邮箱；\n",
    "4. 对方要取到邮件，必须通过MUA从MDA上把邮件取到自己的电脑上。\n",
    "\n",
    "所以，一封电子邮件的旅程就是：\n",
    "\n",
    "```\n",
    "发件人 -> MUA -> MTA -> MTA -> 若干个MTA -> MDA <- MUA <- 收件人\n",
    "```\n",
    "\n",
    "因此要编写程序来发送和接收邮件，本质上就是：\n",
    "\n",
    "- 编写MUA把邮件发到MTA；\n",
    "- 编写MUA从MDA上收邮件。\n",
    "\n",
    "发邮件时，MUA和MTA使用的协议就是**SMTP**：Simple Mail Transfer Protocol，后面的MTA到另一个MTA也是用SMTP协议。\n",
    "\n",
    "收邮件时，MUA和MDA使用的协议有两种：**POP**：Post Office Protocol，目前版本是3，俗称POP3；**IMAP**：Internet Message Access Protocol，目前版本是4，优点是不但能取邮件，还可以直接操作MDA上存储的邮件，比如从收件箱移到垃圾箱，等等。\n",
    "\n",
    "邮件客户端软件在发邮件时，会让你先**配置SMTP服务器**，也就是你要发到哪个MTA上。假设你正在使用163的邮箱，你就不能直接发到新浪的MTA上，因为它只服务新浪的用户，所以，你得填163提供的SMTP服务器地址：smtp.163.com，为了证明你是163的用户，SMTP服务器还要求你填写邮箱地址和邮箱口令，这样，MUA才能正常地把Email通过SMTP协议发送到MTA。\n",
    "\n",
    "类似的，从MDA收邮件时，MDA服务器也要求**验证你的邮箱口令**，确保不会有人冒充你收取你的邮件，所以，Outlook之类的邮件客户端会要求你填写POP3或IMAP服务器地址、邮箱地址和口令，这样，MUA才能顺利地通过POP或IMAP协议从MDA取到邮件。\n",
    "\n",
    "特别注意，目前大多数邮件服务商都需要手动打开SMTP发信和POP收信的功能。\n",
    "\n",
    "接下来以谷歌邮箱为例记录邮件发送相关内容，这部分主要参考：[Python邮件发送，看这篇就够](https://juejin.im/post/5c6d64c7f265da2dca385d90)。\n",
    "\n",
    "目前简单记录一些基本内容，详细内容可参考原文。\n",
    "\n",
    "这里使用Gmail，需要调整Gmail账户的[安全设置](https://myaccount.google.com/lesssecureapps)来允许python代码访问，这可能泄露登陆信息的，因此最好用一个全新的账号专门来测试。\n",
    "\n",
    "如果你不想降低Gmail帐户的安全设置，请查看Google的[文档](https://developers.google.com/gmail/api/quickstart/python)，了解如何使用Python脚本进行OAuth2授权来获取访问凭据。\n",
    "\n",
    "使用 SMTP_SSL() 建立安全的SMTP连接:"
   ]
  },
  {
   "cell_type": "code",
   "execution_count": null,
   "metadata": {
    "pycharm": {
     "name": "#%%\n"
    }
   },
   "outputs": [],
   "source": [
    "import smtplib, ssl\n",
    "\n",
    "port = 465  # For SSL\n",
    "smtp_server = \"smtp.gmail.com\"\n",
    "sender_email = \"my@gmail.com\"  # Enter your address\n",
    "receiver_email = \"your@gmail.com\"  # Enter receiver address\n",
    "password = input(\"Type your password and press enter: \")\n",
    "message = \"\"\"\\\n",
    "Subject: Hi there\n",
    "\n",
    "This message is sent from Python.\"\"\"\n",
    "\n",
    "context = ssl.create_default_context()\n",
    "with smtplib.SMTP_SSL(smtp_server, port, context=context) as server:\n",
    "    server.login(sender_email, password)\n",
    "    server.sendmail(sender_email, receiver_email, message)\n"
   ]
  },
  {
   "cell_type": "markdown",
   "metadata": {},
   "source": [
    "### 调用R程序\n",
    "\n",
    "水文水资源中有很多程序是R语言编写的，相关内容可参考文献：[Using R in hydrology](https://doi.org/10.5194/hess-23-2939-2019)，所以能调用R程序也是一个十分重要的基础技术。\n",
    "\n",
    "在python中调用R语言的最常用的方式就是利用rpy2库。\n",
    "\n",
    "#### 安装rpy2\n",
    "rpy2是一个支持在python环境下调用R的库。是RPy1.x的更新版本。官网说明可以使用pip安装rpy2。\n",
    "\n",
    "``` code\n",
    "pip install rpy2\n",
    "```\n",
    "\n",
    "个人在使用上述方法安装时报错，怀疑是R的环境变量没有配置导致的，因此配置了R的环境。但是仍然报错，再次网上搜索]找到了[另一种安装方式](https://www.jianshu.com/p/0849c8f402c6)：\n",
    "\n",
    "``` code\n",
    "conda install -c r rpy2\n",
    "```\n",
    "\n",
    "尝试之后，安装成功。之后进行测试。不过运行官网的测试程序依然报错（可能是因为我下载的是2.9版本的，而2.9版的文档还没完成），但是查找rpy2的包，已经存在。\n",
    "\n",
    "运行下列最基本代码也没问题。因此尝试直接运行robjects下的tests.py的程序。有如下报错：\n"
   ]
  },
  {
   "cell_type": "code",
   "execution_count": null,
   "metadata": {
    "pycharm": {
     "name": "#%%\n"
    }
   },
   "outputs": [],
   "source": [
    "import rpy2\n",
    "print(rpy2.__version__)\n"
   ]
  },
  {
   "cell_type": "markdown",
   "metadata": {},
   "source": [
    "``` python\n",
    "C:\\Users\\hust2\\Anaconda3\\lib\\site-packages\\rpy2\\robjects\\packages.py:347: UserWarning: The symbol 'quartz' is not in this R namespace/package.\n",
    "  warnings.warn(\"The symbol '%s' is not in this R namespace/package.\" % name)\n",
    "```\n",
    "\n",
    "因此，在命令行终端里，输入R，进入R环境，然后键入如下代码安装quartz库。\n",
    "\n",
    "``` R\n",
    "install.packages(\"quartz\")\n",
    "```\n",
    "\n",
    "但是我是在VS2017下安装的R语言，因此默认的是新版本的R 3.6.1。该版本中没有quartz包。\n",
    "\n",
    "因此，先搁置。继续往下看官网内容。\n",
    "\n",
    "#### 基本内容\n",
    "\n",
    "rpy2下有几个基本的文件夹。\n",
    "\n",
    "- rpy2.rinterface：Low-level interface to R, 追求速度和灵活性时更多地使用. Close to R’s C-level API.\n",
    "- rpy2.robjects：High-level interface, 简易上手. Should be the right pick for casual and general use. Based on the previous one.\n",
    "- rpy2.interactive：High-level interface, 主要针对interactive work. Largely based on rpy2.robjects.\n",
    "- rpy2.rpy_classic：High-level interface similar to the one in RPy-1.x. 为了兼容性, as well as to facilitate the migration to RPy2.\n",
    "- rpy2.rlike：Data structures and functions to mimic some of R’s features and specificities in pure Python (no embedded R process).\n"
   ]
  },
  {
   "cell_type": "code",
   "execution_count": null,
   "metadata": {
    "pycharm": {
     "name": "#%%\n"
    }
   },
   "outputs": [],
   "source": [
    "from rpy2.rinterface import R_VERSION_BUILD\n",
    "print(R_VERSION_BUILD)\n",
    "import rpy2.robjects as robjects\n"
   ]
  },
  {
   "cell_type": "markdown",
   "metadata": {},
   "source": [
    "接下来是一些基操。\n"
   ]
  },
  {
   "cell_type": "code",
   "execution_count": null,
   "metadata": {
    "pycharm": {
     "name": "#%%\n"
    }
   },
   "outputs": [],
   "source": [
    "from rpy2.robjects.packages import importr\n",
    "# import R's \"base\" package\n",
    "base = importr('base')\n",
    "\n",
    "# import R's \"utils\" package\n",
    "utils = importr('utils')\n",
    "# R的object\n",
    "pi = robjects.r['pi']\n",
    "print(pi[0])\n",
    "\n",
    "# 调用R函数\n",
    "rsum = robjects.r['sum']\n",
    "print(rsum(robjects.IntVector([1,2,3]))[0])\n",
    "\n",
    "rsort = robjects.r['sort']\n",
    "res = rsort(robjects.IntVector([1,2,3]), decreasing=True)\n",
    "print(res.r_repr())"
   ]
  }
 ],
 "metadata": {
  "kernelspec": {
   "display_name": "Python 3",
   "language": "python",
   "name": "python3"
  },
  "language_info": {
   "codemirror_mode": {
    "name": "ipython",
    "version": 3
   },
   "file_extension": ".py",
   "mimetype": "text/x-python",
   "name": "python",
   "nbconvert_exporter": "python",
   "pygments_lexer": "ipython3",
   "version": "3.7.4"
  },
  "pycharm": {
   "stem_cell": {
    "cell_type": "raw",
    "metadata": {
     "collapsed": false
    },
    "source": []
   }
  }
 },
 "nbformat": 4,
 "nbformat_minor": 4
}
