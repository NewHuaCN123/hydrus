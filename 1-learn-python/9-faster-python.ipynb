{
 "cells": [
  {
   "cell_type": "markdown",
   "id": "74baa5c1-7cd8-4c4c-8e67-113c484b03a5",
   "metadata": {},
   "source": [
    "# 加速程序运行\n",
    "\n",
    "python代码相比于C++、Java等运行还是慢的，虽然我们大多数时候感觉不明显，但是还是要注意尽可能写出高效率的代码。下面看一点简单的注意事项。\n",
    "\n",
    "## 给程序性能测试\n",
    "\n",
    "测试程序运行所花费的时间并做性能测试。如果只是简单的想测试下程序整体花费的时间， 通常使用Unix时间函数就行了，比如：\n",
    "\n",
    "```code\n",
    "bash % time python3 someprogram.py\n",
    "real 0m13.937s\n",
    "user 0m12.162s\n",
    "sys  0m0.098s\n",
    "bash %\n",
    "```\n",
    "\n",
    "如果你还需要一个程序各个细节的详细报告，可以使用 cProfile 模块：\n",
    "\n",
    "```code\n",
    "bash % python3 -m cProfile someprogram.py\n",
    "bash %\n",
    "```\n",
    "\n",
    "不过通常情况是介于这两个极端之间。比如已经知道代码运行时在少数几个函数中花费了绝大部分时间。 对于这些函数的性能测试，可以使用一个简单的装饰器。要使用这个装饰器，只需要将其放置在要进行性能测试的函数定义前即可。"
   ]
  },
  {
   "cell_type": "code",
   "execution_count": 138,
   "id": "c0ff2ff6-09b7-418d-a2c8-94aa7f12658c",
   "metadata": {},
   "outputs": [
    {
     "name": "stdout",
     "output_type": "stream",
     "text": [
      "__main__.countdown : 1.0297941000000037\n"
     ]
    }
   ],
   "source": [
    "# timethis.py\n",
    "\n",
    "import time\n",
    "from functools import wraps\n",
    "\n",
    "def timethis(func):\n",
    "    @wraps(func)\n",
    "    def wrapper(*args, **kwargs):\n",
    "        start = time.perf_counter()\n",
    "        r = func(*args, **kwargs)\n",
    "        end = time.perf_counter()\n",
    "        print('{}.{} : {}'.format(func.__module__, func.__name__, end - start))\n",
    "        return r\n",
    "    return wrapper\n",
    "\n",
    "@timethis\n",
    "def countdown(n):\n",
    "     while n > 0:\n",
    "            n -= 1\n",
    "\n",
    "countdown(10000000)"
   ]
  },
  {
   "cell_type": "markdown",
   "id": "81a39aa6-3403-4fe4-b066-ed84a0ed2a53",
   "metadata": {},
   "source": [
    "对于测试很小的代码片段运行性能，使用 timeit 模块会很方便"
   ]
  },
  {
   "cell_type": "code",
   "execution_count": 139,
   "id": "fc78c7d8-78a3-4f3d-a995-e5e82f60e650",
   "metadata": {},
   "outputs": [
    {
     "data": {
      "text/plain": [
       "1.3171404999999936"
      ]
     },
     "execution_count": 139,
     "metadata": {},
     "output_type": "execute_result"
    }
   ],
   "source": [
    "from timeit import timeit\n",
    "timeit('math.sqrt(2)', 'import math')\n",
    "timeit('sqrt(2)', 'from math import sqrt')\n",
    "timeit('math.sqrt(2)', 'import math', number=10000000)\n",
    "timeit('sqrt(2)', 'from math import sqrt', number=10000000)"
   ]
  },
  {
   "cell_type": "markdown",
   "id": "263c786a-6ccb-4fee-8093-61af62c2ad0e",
   "metadata": {},
   "source": [
    "当执行性能测试的时候，需要注意的是你获取的结果都是近似值。 time.perf_counter() 函数会在给定平台上获取最高精度的计时值。 不过，它仍然还是基于时钟时间，很多因素会影响到它的精确度，比如机器负载。 如果你对于执行时间更感兴趣，使用 time.process_time() 来代替它。"
   ]
  },
  {
   "cell_type": "code",
   "execution_count": 140,
   "id": "4b8e8a98-5c9e-4a06-b101-ab0737455f81",
   "metadata": {},
   "outputs": [],
   "source": [
    "from functools import wraps\n",
    "def timethis(func):\n",
    "    @wraps(func)\n",
    "    def wrapper(*args, **kwargs):\n",
    "        start = time.process_time()\n",
    "        r = func(*args, **kwargs)\n",
    "        end = time.process_time()\n",
    "        print('{}.{} : {}'.format(func.__module__, func.__name__, end - start))\n",
    "        return r\n",
    "    return wrapper"
   ]
  },
  {
   "cell_type": "markdown",
   "id": "3bd45b31-ecd0-4b6c-b752-56fa1f2e8c14",
   "metadata": {},
   "source": [
    "## 如何加速程序运行\n",
    "\n",
    "程序运行太慢，想在不使用复杂技术比如C扩展或JIT编译器的情况下加快程序运行速度。\n",
    "\n",
    "关于程序优化的第一个准则是“不要优化”，第二个准则是“不要优化那些无关紧要的部分”。 如果你的程序运行缓慢，首先得对它进行性能测试找到问题所在。\n",
    "\n",
    "通常来讲会发现程序在少数几个热点地方花费了大量时间， 比如内存的数据处理循环。一旦定位到这些点，就可以使用下面这些实用技术来加速程序运行。\n",
    "\n",
    "### 使用函数\n",
    "\n",
    "很多程序员刚开始会使用Python语言写一些简单脚本。 当编写脚本的时候，通常习惯了写毫无结构的代码。比如：\n",
    "\n",
    "```python\n",
    "# somescript.py\n",
    "\n",
    "import sys\n",
    "import csv\n",
    "\n",
    "with open(sys.argv[1]) as f:\n",
    "     for row in csv.reader(f):\n",
    "\n",
    "         # Some kind of processing\n",
    "         pass\n",
    "```\n",
    "\n",
    "像这样定义在全局范围的代码运行起来要比定义在函数中运行慢的多。 这种速度差异是由于局部变量和全局变量的实现方式（**使用局部变量要更快些**）。 因此，如果想让程序运行更快些，只需要将脚本语句放入函数中即可：\n",
    "\n",
    "```python\n",
    "# somescript.py\n",
    "import sys\n",
    "import csv\n",
    "\n",
    "def main(filename):\n",
    "    with open(filename) as f:\n",
    "         for row in csv.reader(f):\n",
    "             # Some kind of processing\n",
    "             pass\n",
    "\n",
    "main(sys.argv[1])\n",
    "```\n",
    "\n",
    "根据经验，使用函数带来15-30%的性能提升是很常见的。\n",
    "\n",
    "局部变量会比全局变量运行速度快。 对于频繁访问的名称，通过将这些名称变成局部变量可以加速程序运行。\n",
    "\n",
    "对于类中的属性访问也同样适用于这个原理。 通常来讲，查找某个值比如 self.name 会比访问一个局部变量要慢一些。 在内部循环中，可以将某个需要频繁访问的属性放入到一个局部变量中。\n",
    "\n",
    "### 尽可能去掉属性访问\n",
    "\n",
    "每一次**使用点(.)操作符来访问属性的时候会带来额外的开销**。 它会触发特定的方法，比如 __getattribute__() 和 __getattr__() ，这些方法会进行字典操作操作。\n",
    "\n",
    "通常你可以使用 from module import name 这样的导入形式，以及使用绑定的方法。比如下面的函数是耗时的：\n",
    "\n",
    "```python\n",
    "import math\n",
    "\n",
    "def compute_roots(nums):\n",
    "    result = []\n",
    "    for n in nums:\n",
    "        result.append(math.sqrt(n))\n",
    "    return result\n",
    "\n",
    "# Test\n",
    "nums = range(1000000)\n",
    "for n in range(100):\n",
    "    r = compute_roots(nums)\n",
    "```\n",
    "\n",
    "可以修改compute_roots函数如下："
   ]
  },
  {
   "cell_type": "code",
   "execution_count": 141,
   "id": "0b00763c-3aa9-41c6-b2f9-c9108c1126e7",
   "metadata": {},
   "outputs": [],
   "source": [
    "from math import sqrt\n",
    "\n",
    "def compute_roots(nums):\n",
    "\n",
    "    result = []\n",
    "    result_append = result.append\n",
    "    for n in nums:\n",
    "        result_append(sqrt(n))\n",
    "    return result"
   ]
  },
  {
   "cell_type": "markdown",
   "id": "b2bd9e63-1905-40e3-a6c5-d8de3f11cb5a",
   "metadata": {},
   "source": [
    "修改后的版本运行时间会减少一些。唯一不同之处就是消除了属性访问。 用 sqrt() 代替了 math.sqrt() 。 The result.append() 方法被赋给一个局部变量 result_append ，然后在内部循环中使用它。\n",
    "\n",
    "这些改变只有在大量重复代码中才有意义，比如循环。 因此，这些优化也只是在某些特定地方才应该被使用。\n",
    "\n",
    "### 避免不必要的抽象\n",
    "\n",
    "任何时候当你使用额外的处理层（比如装饰器、属性访问、描述器）去包装你的代码时，都会让程序运行变慢。"
   ]
  },
  {
   "cell_type": "code",
   "execution_count": 142,
   "id": "a4d23a9d-af09-40c4-8a71-d0981b644733",
   "metadata": {},
   "outputs": [
    {
     "data": {
      "text/plain": [
       "0.044568299999980354"
      ]
     },
     "execution_count": 142,
     "metadata": {},
     "output_type": "execute_result"
    }
   ],
   "source": [
    "class A:\n",
    "    def __init__(self, x, y):\n",
    "        self.x = x\n",
    "        self.y = y\n",
    "    @property\n",
    "    def y(self):\n",
    "        return self._y\n",
    "    @y.setter\n",
    "    def y(self, value):\n",
    "        self._y = value\n",
    "        \n",
    "from timeit import timeit\n",
    "a = A(1,2)\n",
    "timeit('a.x', 'from __main__ import a')"
   ]
  },
  {
   "cell_type": "code",
   "execution_count": 143,
   "id": "adbd7448-2e5a-4094-992f-eabe0df55184",
   "metadata": {},
   "outputs": [
    {
     "data": {
      "text/plain": [
       "0.14513039999999933"
      ]
     },
     "execution_count": 143,
     "metadata": {},
     "output_type": "execute_result"
    }
   ],
   "source": [
    "timeit('a.y', 'from __main__ import a')"
   ]
  },
  {
   "cell_type": "markdown",
   "id": "1eb73d46-405d-43a4-93af-00ca98b40f47",
   "metadata": {
    "tags": []
   },
   "source": [
    "访问属性y相比属性x而言慢的不止一点点，大概慢了4.5倍。 如果你在意性能的话，那么就需要重新审视下对于y的属性访问器的定义是否真的有必要了。 如果没有必要，就使用简单属性吧。 如果仅仅是因为其他编程语言需要使用getter/setter函数就去修改代码风格，这个真的没有必要。\n",
    "\n",
    "### 使用内置的容器\n",
    "\n",
    "内置的数据类型比如字符串、元组、列表、集合和字典都是使用C来实现的，运行起来非常快。 如果想自己实现新的数据结构（比如链接列表、平衡树等）， 那么要想在性能上达到内置的速度几乎不可能，因此，还是乖乖的使用内置的吧。\n",
    "\n",
    "另外，还要避免创建不必要的数据结构或复制。"
   ]
  },
  {
   "cell_type": "markdown",
   "id": "78517e1f-d977-4ace-9e33-5ca77ff1750d",
   "metadata": {},
   "source": [
    "### 并行编程\n",
    "\n",
    "这部分有参考：[Python性能优化的20条建议](https://segmentfault.com/a/1190000000666603)。\n",
    "\n",
    "可以通过内置的模块multiprocessing实现下面几种并行模式：\n",
    "\n",
    "多进程：对于CPU密集型的程序，可以使用multiprocessing的Process,Pool等封装好的类，通过多进程的方式实现并行计算。但是因为进程中的通信成本比较大，对于进程之间需要大量数据交互的程序效率未必有大的提高。\n",
    "\n",
    "多线程：对于IO密集型的程序，multiprocessing.dummy模块使用multiprocessing的接口封装threading，使得多线程编程也变得非常轻松(比如可以使用Pool的map接口，简洁高效)。\n",
    "\n",
    "分布式：multiprocessing中的Managers类提供了可以在不同进程之共享数据的方式，可以在此基础上开发出分布式的程序。\n",
    "\n",
    "不同的业务场景可以选择其中的一种或几种的组合实现程序性能的优化。\n",
    "\n",
    "下一节稍微介绍一点并行编程的概念。\n",
    "\n",
    "### 讨论\n",
    "\n",
    "**在优化之前，有必要先研究下使用的算法**。 选择一个复杂度为 O(n log n) 的算法要比你去调整一个复杂度为 O(n**2) 的算法所带来的性能提升要大得多。\n",
    "\n",
    "如果你觉得你还是得进行优化，那么请从整体考虑。 作为一般准则，不要对程序的每一个部分都去优化,因为这些修改会导致代码难以阅读和理解。 你应该**专注于优化产生性能瓶颈的地方，比如内部循环**。\n",
    "\n",
    "对循环的优化所遵循的原则是尽量减少循环过程中的计算量，有多重循环的尽量将内层的计算提到上一层———[Python 代码性能优化技巧](https://www.ibm.com/developerworks/cn/linux/l-cn-python-optim/index.html)。\n",
    "\n",
    "这里对循环做些补充，参考：[Python性能诀窍](http://pfmiles.github.io/blog/python-speed-performance-tips/).\n",
    "\n",
    "Python支持好几种循环结构。for语句是最常用的。它遍历一个序列的每个元素，将每个元素赋值给循环变量。如果你的循环体很简单，for循环本身的解释成本将占据大部分的开销。这个时候**map函数**就能派上用场了。你可以将map函数看作是for循环采用C代码来实现。唯一的约束是“**循环体”必须是一个函数调用**。**list comprehension 列表生成式**除了语法上的便利性之外，他们常常和等价的map调用一样快甚至更快。比如：\n",
    "\n",
    "```python\n",
    "newlist = []\n",
    "for word in oldlist:\n",
    "    newlist.append(word.upper())\n",
    "```\n",
    "\n",
    "可以使用map函数将这个循环由解释执行推到编译好的C代码中去执行：\n",
    "\n",
    "```python\n",
    "newlist = map(str.upper, oldlist)\n",
    "```\n",
    "\n",
    "List comprehension在python 2.0的时候被加入。它们提供了一种更紧凑的语法和更高效的方式来表达上面的for循环：\n",
    "\n",
    "```python\n",
    "newlist = [s.upper() for s in oldlist]\n",
    "```\n",
    "\n",
    "如果优化要求比较高，本节的这些简单技术满足不了，那么可以研究下基于即时编译（JIT）技术的一些工具。 例如，PyPy工程是Python解释器的另外一种实现，它会分析程序运行并对那些频繁执行的部分生成本机机器码。 它有时候能极大的提升性能，通常可以接近C代码的速度。 不过可惜的是，PyPy还不能完全支持Python3.。\n",
    "\n",
    "还可以考虑下Numba工程， Numba是一个在你使用装饰器来选择Python函数进行优化时的动态编译器。 这些函数会使用LLVM被编译成本地机器码。它同样可以极大的提升性能。 但是，跟PyPy一样，它对于Python 3的支持现在还停留在实验阶段。\n",
    "\n",
    "最后引用John Ousterhout说过的话作为结尾：“最好的性能优化是从不工作到工作状态的迁移”。 直到你真的需要优化的时候再去考虑它。确保你程序正确的运行通常比让它运行更快要更重要一些（至少开始是这样的）."
   ]
  },
  {
   "cell_type": "markdown",
   "id": "84c12004-11f7-4024-a6b6-ca8af288e90b",
   "metadata": {},
   "source": [
    "## 并行编程\n",
    "\n",
    "对于并行编程, Python有多种长期支持的方法, 包括**多线程**, **调用子进程**, 以及各种各样的关于**生成器函数**的技巧。这部分将会简单记录并发编程各种方面的技巧, 包括通用的**多线程技术**以及**并行计算的实现方法**。并发的程序有潜在的危险. 因此, 要注意能给出更加可信赖和易调试的代码。这里只是简单介绍，更多关于并行计算的内容会在7-parallel-programming文件夹中记录。\n",
    "\n",
    "### 启动与停止线程\n",
    "\n",
    "为需要并发执行的代码创建/销毁线程：**threading 库**可以**在单独的线程中执行任何的在 Python 中可以调用的对象**。可以创建一个 Thread 对象并将你要执行的对象以 target 参数的形式提供给该对象。"
   ]
  },
  {
   "cell_type": "code",
   "execution_count": 49,
   "id": "8c7fbf2a-e1a3-427f-afa6-31d4333249b0",
   "metadata": {},
   "outputs": [
    {
     "name": "stdout",
     "output_type": "stream",
     "text": [
      "T-minus 3\n"
     ]
    }
   ],
   "source": [
    "import time\n",
    "def countdown(n):\n",
    "    while n > 0:\n",
    "        print('T-minus', n)\n",
    "        n -= 1\n",
    "        time.sleep(1)\n",
    "\n",
    "# Create and launch a thread\n",
    "from threading import Thread\n",
    "t = Thread(target=countdown, args=(3,))\n",
    "t.start()"
   ]
  },
  {
   "cell_type": "markdown",
   "id": "961d562e-d696-4f86-a796-756ded234038",
   "metadata": {},
   "source": [
    "当创建好一个线程对象后，该对象**并不会立即执行**，除非你调用它的 **start() 方法**（当你调用 start() 方法时，它会调用你传递进来的函数，并把你传递进来的参数传递给该函数）。Python中的线程会在一个单独的系统级线程中执行（比如说一个 POSIX 线程或者一个 Windows 线程），这些线程将由操作系统来全权管理。线程一旦启动，将独立执行直到目标函数返回。\n",
    "\n",
    "可以查询一个线程对象的状态，看它是否还在执行："
   ]
  },
  {
   "cell_type": "code",
   "execution_count": 50,
   "id": "2f469d8a-5c6d-4465-a3a0-afa6645e40a6",
   "metadata": {},
   "outputs": [
    {
     "name": "stdout",
     "output_type": "stream",
     "text": [
      "Still running\n",
      "T-minus 2\n"
     ]
    }
   ],
   "source": [
    "if t.is_alive():\n",
    "    print('Still running')\n",
    "else:\n",
    "    print('Completed')"
   ]
  },
  {
   "cell_type": "markdown",
   "id": "1c226c95-9e01-4f92-bdef-1f24d4ed1680",
   "metadata": {},
   "source": [
    "Python解释器直到所有线程都终止前仍保持运行。对于需要长时间运行的线程或者需要一直运行的后台任务，你应当考虑使用后台线程。\n",
    "```python\n",
    "# 使用daemon\n",
    "t = Thread(target=countdown, args=(10,), daemon=True)\n",
    "t.start()\n",
    "```\n",
    "\n",
    "由于全局解释锁（GIL）的原因，Python 的线程被限制到同一时刻只允许一个线程执行这样一个执行模型。所以，Python 的线程更适用于处理I/O和其他需要并发执行的阻塞操作（比如等待I/O、等待从数据库获取数据等等），而**不是需要多处理器并行的计算密集型任务**。所以这块暂时不需要太多关注。\n",
    "\n",
    "### 简单并行编程\n",
    "\n",
    "有个程序要执行CPU密集型工作，想让他利用**多核CPU**的优势来运行的快一点。\n",
    "\n",
    "concurrent.futures 库提供了一个 ProcessPoolExecutor 类， 可被用来在一个单独的Python解释器中执行计算密集型函数。 不过，要使用它，首先要有一些计算密集型的任务。一个脚本，在这些日志文件中查找出所有访问过robots.txt文件的主机(因为我没有日志文件，所以没运行结果)"
   ]
  },
  {
   "cell_type": "code",
   "execution_count": 51,
   "id": "5ffc6314-4fc1-41b0-b25e-f79eb5b35f23",
   "metadata": {},
   "outputs": [
    {
     "name": "stdout",
     "output_type": "stream",
     "text": [
      "T-minus 1\n"
     ]
    }
   ],
   "source": [
    "# findrobots.py\n",
    "\n",
    "import gzip\n",
    "import io\n",
    "import glob\n",
    "\n",
    "def find_robots(filename):\n",
    "    '''\n",
    "    Find all of the hosts that access robots.txt in a single log file\n",
    "    '''\n",
    "    robots = set()\n",
    "    with gzip.open(filename) as f:\n",
    "        for line in io.TextIOWrapper(f,encoding='ascii'):\n",
    "            fields = line.split()\n",
    "            if fields[6] == '/robots.txt':\n",
    "                robots.add(fields[0])\n",
    "    return robots\n",
    "\n",
    "def find_all_robots(logdir):\n",
    "    '''\n",
    "    Find all hosts across and entire sequence of files\n",
    "    '''\n",
    "    files = glob.glob(logdir+'/*.log.gz')\n",
    "    all_robots = set()\n",
    "    for robots in map(find_robots, files):\n",
    "        all_robots.update(robots)\n",
    "    return all_robots\n",
    "\n",
    "if __name__ == '__main__':\n",
    "    robots = find_all_robots('logs')\n",
    "    for ipaddr in robots:\n",
    "        print(ipaddr)"
   ]
  },
  {
   "cell_type": "markdown",
   "id": "ab8bbe28-c385-426d-b3a3-bafd8738e5c5",
   "metadata": {},
   "source": [
    "前面的程序使用了通常的**map-reduce风格**来编写。 函数 find_robots() 在一个文件名集合上做map操作，并将结果汇总为一个单独的结果， 也就是 find_all_robots() 函数中的 all_robots 集合。 现在，假设你想要修改这个程序让它使用多核CPU。 很简单——只需要**将map()操作替换为一个 concurrent.futures 库中生成的类似操作即可**。"
   ]
  },
  {
   "cell_type": "code",
   "execution_count": 52,
   "id": "6b5622ee-78f6-401c-bd3a-6179bb93443d",
   "metadata": {},
   "outputs": [],
   "source": [
    "# findrobots.py\n",
    "\n",
    "import gzip\n",
    "import io\n",
    "import glob\n",
    "from concurrent import futures\n",
    "\n",
    "def find_robots(filename):\n",
    "    '''\n",
    "    Find all of the hosts that access robots.txt in a single log file\n",
    "\n",
    "    '''\n",
    "    robots = set()\n",
    "    with gzip.open(filename) as f:\n",
    "        for line in io.TextIOWrapper(f,encoding='ascii'):\n",
    "            fields = line.split()\n",
    "            if fields[6] == '/robots.txt':\n",
    "                robots.add(fields[0])\n",
    "    return robots\n",
    "\n",
    "def find_all_robots(logdir):\n",
    "    '''\n",
    "    Find all hosts across and entire sequence of files\n",
    "    '''\n",
    "    files = glob.glob(logdir+'/*.log.gz')\n",
    "    all_robots = set()\n",
    "    with futures.ProcessPoolExecutor() as pool:\n",
    "        for robots in pool.map(find_robots, files):\n",
    "            all_robots.update(robots)\n",
    "    return all_robots\n",
    "\n",
    "if __name__ == '__main__':\n",
    "    robots = find_all_robots('logs')\n",
    "    for ipaddr in robots:\n",
    "        print(ipaddr)"
   ]
  }
 ],
 "metadata": {
  "kernelspec": {
   "display_name": "Python 3 (ipykernel)",
   "language": "python",
   "name": "python3"
  },
  "language_info": {
   "codemirror_mode": {
    "name": "ipython",
    "version": 3
   },
   "file_extension": ".py",
   "mimetype": "text/x-python",
   "name": "python",
   "nbconvert_exporter": "python",
   "pygments_lexer": "ipython3",
   "version": "3.9.6"
  }
 },
 "nbformat": 4,
 "nbformat_minor": 5
}
