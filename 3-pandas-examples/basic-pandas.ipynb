{
 "cells": [
  {
   "cell_type": "markdown",
   "metadata": {
    "collapsed": true,
    "pycharm": {
     "name": "#%% md\n"
    }
   },
   "source": [
    "# Pandas基础\n",
    "\n",
    "该部分以[Pandas中文网](https://www.pypandas.cn/docs/)提供的资料——[Learn Pandas](https://bitbucket.org/hrojas/learn-pandas/src/master/)的思路为主体思路。\n",
    "\n",
    "Pandas是一个开源的，为Python编程语言提供高性能，易于使用的**数据结构和数据分析工具**。\n",
    "\n",
    "因此这部分的记录主要思路就是围绕数据结构和分析工具两方面来展开。\n",
    "\n",
    "- 第一部分主要是Create data以及Analyze data的基础操作；\n",
    "- 第二部分则包括Get Data、Prepare Data、Analyze Data以及Present Data。\n",
    "\n",
    "## Pandas数据结构\n",
    "\n",
    "### Series与Dataframe\n"
   ]
  },
  {
   "cell_type": "code",
   "execution_count": null,
   "outputs": [],
   "source": [
    "import pandas as pd\n",
    "import numpy as np\n",
    "from matplotlib import pyplot\n",
    "\n",
    "\"\"\"几列字符串拼为一列字符串\"\"\"\n",
    "# 结构很简单: 第一列的名称.str.cat(第二列的名称)\n",
    "df = pd.DataFrame({\"a\": range(3), \"b\": range(3), \"c\": range(3)})\n",
    "df['a'] = df.iloc[:, 0].apply(str) + \"-\" + df['b'].apply(str) + \"-\" + df['b'].apply(str)\n",
    "# 拼接之后，只留下特定的几列\n",
    "df = df[['a', 'c']]\n",
    "print(df)\n",
    "\n",
    "# 取出某列的第几行\n",
    "print(df['a'][0])\n",
    "# df行数\n",
    "print(df.shape[0])\n",
    "\n",
    "\"\"\"多个Series拼接\"\"\"\n",
    "# 初始化的时候不起名，后面rename没有用\n",
    "a = pd.Series([1, 2], name='aa')\n",
    "rng1 = pd.date_range('2011-1-1', periods=2, freq='D')\n",
    "a.index = rng1\n",
    "print(a)\n",
    "b = pd.Series([2, 3, 4])\n",
    "rng2 = pd.date_range('2011-1-2', periods=3, freq='D')\n",
    "b.index = rng2\n",
    "c = pd.Series([5, 6])\n",
    "rng3 = pd.date_range('2011-1-1', periods=2, freq='D')\n",
    "c.index = rng3\n",
    "series1 = pd.concat([a, b], axis=1)\n",
    "# 拼接时，给各列取名\n",
    "print(series1)\n",
    "df2 = pd.concat([series1, c], axis=1)\n",
    "print(df2)\n",
    "\n",
    "\"\"\"重新命名各列\"\"\"\n",
    "new_col = ['new1', 'new2', 'new3']\n",
    "df2.columns = new_col\n",
    "print(df2)\n",
    "\n",
    "\"\"\"交换列的位置\"\"\"\n",
    "order = ['new2', 'new1', 'new3']\n",
    "df2 = df2[order]\n",
    "print(df2)\n",
    "\n",
    "\"\"\"取dataframe指定多行列 slice操作\"\"\"\n",
    "# 取多行\n",
    "print(df2.iloc[0:2])\n",
    "# 取多列\n",
    "print(df2.iloc[:, 0:2])\n",
    "# 取多行多列\n",
    "print(df2.iloc[0:2, 0:2])\n",
    "# 行用数字取，列用名字取\n",
    "print(df2.iloc[0:2]['new1'])\n",
    "\n",
    "\"\"\"按日期取值并处理\"\"\"\n",
    "print(df2)\n",
    "print(type(df2.index))\n",
    "print('---------获取2011年前两天的数据-----------')\n",
    "# 获取某段日期内的数据\n",
    "print(df2['2011-01-01':'2011-01-02'])\n",
    "\n",
    "\"\"\"给Series作slice操作\"\"\"\n",
    "arr = [1, 2, 3, 4]  # 创建数组\n",
    "series_1 = pd.Series(arr)\n",
    "series_1.index = ['a', 'b', 'c', 'd']\n",
    "print(\"------------------Series查询操作----------------------\")\n",
    "print(series_1['a'])\n",
    "print(series_1[['a', 'b']])\n",
    "print(series_1[series_1 > 2])\n",
    "print(series_1[:2])\n",
    "print(series_1['a':'c'])\n",
    "\n",
    "\"\"\"对dataframe进行分组的例子\"\"\"\n",
    "salaries = pd.DataFrame({\n",
    "    'name': ['BOSS', 'Lilei', 'Lilei', 'Han', 'BOSS', 'BOSS', 'Han', 'BOSS'],\n",
    "    'Year': [2016, 2016, 2016, 2016, 2017, 2017, 2017, 2017],\n",
    "    'Salary': [999999, 20000, 25000, 3000, 9999999, 999999, 3500, 999999],\n",
    "    'Bonus': [100000, 20000, 20000, 5000, 200000, 300000, 3000, 400000]\n",
    "})\n",
    "print(salaries.columns)\n",
    "print(salaries.info())\n",
    "print(salaries.describe())\n",
    "salaries = salaries[['name', 'Year', 'Salary', 'Bonus']]\n",
    "# 定顺序\n",
    "print(salaries)\n",
    "# 对dataframe按name进行分组\n",
    "group_by_name = salaries.groupby('name')\n",
    "# 获取分组后的某一组\n",
    "se_temp = group_by_name.get_group('Lilei')\n",
    "print(se_temp)\n",
    "print(se_temp.describe())\n",
    "# 循环各组，并将名字在给定的序列中的group添加到数组中\n",
    "config = pd.Series({'names': ['Lilei', 'BOSS']})\n",
    "dfs = []\n",
    "for name, group in group_by_name:\n",
    "    print(name)\n",
    "    if name in config['names']:\n",
    "        dfs.append(group)\n",
    "\n",
    "for i in range(len(dfs)):\n",
    "    # 如果没有把name和group分开，那么dfs[i]的类型会是tuple，key为name，value是group，可参考接下来的输出\n",
    "    print(type(dfs[i]))\n",
    "    print(dfs[i])\n",
    "\n",
    "# 如果没有把name和group分开，那么dfs[i]的类型会是tuple，key为name，value是group\n",
    "dfs_s = []\n",
    "for group in group_by_name:\n",
    "    dfs_s.append(group)\n",
    "for i in range(len(dfs_s)):\n",
    "    print(type(dfs_s[i]))\n",
    "    print(dfs_s[i])\n"
   ],
   "metadata": {
    "collapsed": false,
    "pycharm": {
     "name": "#%%\n"
    }
   }
  },
  {
   "cell_type": "markdown",
   "source": [
    "\n",
    "### pandas与numpy数据结构之间的转换\n"
   ],
   "metadata": {
    "collapsed": false,
    "pycharm": {
     "name": "#%% md\n"
    }
   }
  },
  {
   "cell_type": "code",
   "execution_count": null,
   "outputs": [],
   "source": [
    "# pandas dataframe与numpy array之间的转换\n",
    "df = pd.DataFrame({'A': [1, 2, 3], 'B': [4, 5, 6], 'C': [7, 8, 9]})\n",
    "print(df)\n",
    "# df转换为ndarray\n",
    "print(np.array(df))\n",
    "# 读取某一列数据，两种方式均可\n",
    "print(df['A'])\n",
    "print(df.loc[:, 'A'])\n",
    "# 一列数据转换为ndarray\n",
    "print(np.array(df['A']))\n",
    "# Series转ndarray\n",
    "# Creating the Series\n",
    "sr = pd.Series(['New York', 'Chicago', 'Toronto', 'Lisbon', 'Rio'])\n",
    "# Create the Index\n",
    "index_ = ['City 1', 'City 2', 'City 3', 'City 4', 'City 5']\n",
    "# set the index\n",
    "sr.index = index_\n",
    "# return numpy array representation\n",
    "result = sr.as_matrix()\n",
    "# Print the result\n",
    "print(\"series转为ndarray：\")\n",
    "print(result)\n",
    "# Print the series\n",
    "print(sr)\n",
    "\n"
   ],
   "metadata": {
    "collapsed": false,
    "pycharm": {
     "name": "#%%\n"
    }
   }
  },
  {
   "cell_type": "markdown",
   "source": [
    "## Pandas数据分析\n",
    "\n",
    "这部分结构主要参考了[Pandas cookbook](https://github.com/jvns/pandas-cookbook)。从实例应用得角度展开。\n",
    "\n",
    "### 读取csv等文件\n"
   ],
   "metadata": {
    "collapsed": false,
    "pycharm": {
     "name": "#%% md\n"
    }
   }
  },
  {
   "cell_type": "code",
   "execution_count": null,
   "outputs": [],
   "source": [
    "# 如果遇到“UnicodeDecodeError: 'utf8' codec can't decode byte....”错误，用记事本另存csv文件时，将“编码”设置为‘UTF-8’即可\n",
    "dataset = pd.read_csv('Sheet1.csv')\n",
    "print(dataset)\n",
    "# header指定某行的值作为各列的列名，1表示第二行，如果是None，则从第一行开始就是数据。\n",
    "dataset = pd.read_csv('Sheet1.csv', header=1)\n",
    "print(dataset)\n",
    "# 因为给定的数据格式，各人有各自的一套，所以具体情况具体分析。比如，这里dataset的第一列可以去掉，即得到所有数据，删除列时，用drop函数，加参数axis=1，不加则表示删除行\n",
    "dataset1 = dataset.drop(['旬平均'], axis=1)\n",
    "print(dataset1)\n",
    "\n",
    "\"\"\"专业方面，很多数据都是把年月或者年旬或者年日分别当做行和列，在计算时，需要进行处理，把时间变为一列或一行，即把几列或行的数组拼接起来\n",
    "即将[1 2;2 3]的数据变为[1 2 2 3]，pandas的concat和numpy的concatenate类似。最后把行名index统一换成日期，构成时间序列Series\"\"\"\n",
    "df = pd.DataFrame({\"a\": range(3), \"b\": range(3), \"c\": range(3)})\n",
    "# iloc获取的数据格式为Series\n",
    "se = df.iloc[:, 0]\n",
    "# 获取dataframe的列数：df.shape[1]\n",
    "for i in range(1, df.shape[1]):\n",
    "    print(\"拼接第\" + str(i) + \"列:\")\n",
    "    se_temp = df.iloc[:, i]\n",
    "    se = pd.concat([se, se_temp])\n",
    "    print(se)\n",
    "# 如果一开始没有给series起名，比如从csv读取出来时是dataframe，拼接之后没办法再给Series起名，但是又需要给它起名，那么只能采取重新构造一个series的方式来命名\n",
    "se = pd.Series(se, name=\"aaaaaaa\")\n",
    "print(se)\n",
    "# 把每行名称换为日期\n",
    "print(\"index换为日期：\")\n",
    "rng = pd.date_range('2011-1-1', periods=9, freq='H')\n",
    "print(rng)\n",
    "se.index = rng\n",
    "se = pd.Series(se, name=\"bbbbb\")\n",
    "print(se)\n"
   ],
   "metadata": {
    "collapsed": false,
    "pycharm": {
     "name": "#%%\n"
    }
   }
  },
  {
   "cell_type": "markdown",
   "source": [
    "\n",
    "- [ ] Prepare Data\n",
    "- [ ] Analyze Data\n",
    "\n",
    "### Pandas绘图\n"
   ],
   "metadata": {
    "collapsed": false
   }
  },
  {
   "cell_type": "code",
   "execution_count": null,
   "outputs": [],
   "source": [
    "ts = pd.Series(np.random.randn(1000), index=pd.date_range('1/1/2000', periods=1000))\n",
    "print(ts)\n",
    "pyplot.plot(ts.index, ts.values, color='red', label='testing accuracy')\n",
    "pyplot.show()\n"
   ],
   "metadata": {
    "collapsed": false,
    "pycharm": {
     "name": "#%%\n"
    }
   }
  }
 ],
 "metadata": {
  "language_info": {
   "codemirror_mode": {
    "name": "ipython",
    "version": 2
   },
   "file_extension": ".py",
   "mimetype": "text/x-python",
   "name": "python",
   "nbconvert_exporter": "python",
   "pygments_lexer": "ipython2",
   "version": "2.7.6"
  },
  "kernelspec": {
   "name": "python3",
   "language": "python",
   "display_name": "Python 3"
  },
  "pycharm": {
   "stem_cell": {
    "cell_type": "raw",
    "source": [],
    "metadata": {
     "collapsed": false
    }
   }
  }
 },
 "nbformat": 4,
 "nbformat_minor": 0
}