{
 "cells": [
  {
   "cell_type": "markdown",
   "metadata": {
    "collapsed": true,
    "pycharm": {
     "name": "#%% md\n"
    }
   },
   "source": [
    "# Pandas基础\n",
    "\n",
    "该部分主要参考[Pandas中文网](https://www.pypandas.cn/docs/)和[官方用户手册](https://pandas.pydata.org/pandas-docs/stable/index.html)。\n",
    "\n",
    "Pandas是一个开源的，为Python编程语言提供高性能，易于使用的**数据结构**和**数据分析工具**。\n",
    "\n",
    "因此这部分的记录主要思路就是围绕数据结构和分析工具两方面来展开。\n",
    "\n",
    "Pandas适合处理多种不同类型的数据：\n",
    "\n",
    "- 不同类型的数据列组成的表格数据；\n",
    "- 有序或无序的时间序列数据；\n",
    "- 带行列标签的类型相同或不同的行或列组成的矩阵数据；\n",
    "- 任意形式的观测或统计数据，它们不需标记即可放入pandas数据结构中。 \n",
    "\n",
    "其运算都主要都围绕两类数据结构展开，Series和Dataframe，接下来从它们开始记录。\n",
    "\n",
    "Series(1维)和DataFrame(2维)能处理绝大多数的典型应用，包括金融、统计、社科、工程等各个领域。\n",
    " \n",
    "对于R用户，DataFrame提供了所有R的data.frame提供的，并且还有更多。\n",
    "\n",
    "pandas建立在NumPy之上，也整合了很多第三方库，打造了良好的科学计算环境。\n",
    "\n",
    "pandas处理的经典问题包括且不限于：\n",
    "\n",
    "- 处理缺失数据，用NaN表示；\n",
    "- 数据结构大小可变：可以插入删除DataFrame或者更高维对象的列；\n",
    "- 自动且明确的data alignment，可以明确指定数据到一系列标签下；\n",
    "- 灵活数据分组，很容易聚合转换数据；\n",
    "- 容易将杂乱、标签复杂的Python和NumPy数据结构转换为DataFrame对象；\n",
    "- 根据标签容易slicing,indexing和subsetting大数据集；\n",
    "- 容易合并和连接数据集；\n",
    "- 灵活地reshaping和pivoting数据集；\n",
    "- 多级标签；\n",
    "- 从各类文件中加载数据, 包括HDF5格式的数据；\n",
    "- 时间序列指定的功能：日期范围生成和频率转换,滑动窗口的统计, 滑动线性回归, 日期平移或滞后等。\n",
    "\n",
    "在数据处理的各个环节，包括变换和清洗数据，分析建模，组织分析结果为正式的格式，可视化和输出数据等，pandas都能很好地处理。\n",
    "\n",
    "## Pandas数据结构\n",
    "\n",
    "最好的理解Pandas数据结构的方式是将其当做其更低维数据的容器，比如Series是标量数据的容器，Dataframe是Series的容器。\n",
    "可以通过类似字典的方式从容器中插入或移除对象。\n",
    "\n",
    "pandas中为了更直观地给出数据结构不同维度的信息，更多用index和columns，而不是使用axis0和1这样来表示。例如：\n",
    "\n",
    "``` python\n",
    "for col in df.columns:\n",
    "    series = df[col]\n",
    "    # do something with series\n",
    "```\n",
    "\n",
    "pandas所有数据结构都是值可变的，但不总是size可变的。比如Series的长度是不可变的，但是Dataframe中是可以插入列的。\n",
    "绝大多数方法都会产生新的对象，而不改变原输入数据。一般来说，pandas喜欢保持不可变性。\n",
    "\n",
    "### Series与Dataframe\n"
   ]
  },
  {
   "cell_type": "code",
   "execution_count": 2,
   "outputs": [
    {
     "name": "stdout",
     "text": [
      "       a  c\n0  0-0-0  0\n1  1-1-1  1\n2  2-2-2  2\n0-0-0\n3\n2011-01-01    1\n2011-01-02    2\nFreq: D, Name: aa, dtype: int64\n             aa    0\n2011-01-01  1.0  NaN\n2011-01-02  2.0  2.0\n2011-01-03  NaN  3.0\n2011-01-04  NaN  4.0\n             aa    0    0\n2011-01-01  1.0  NaN  5.0\n2011-01-02  2.0  2.0  6.0\n2011-01-03  NaN  3.0  NaN\n2011-01-04  NaN  4.0  NaN\n            new1  new2  new3\n2011-01-01   1.0   NaN   5.0\n2011-01-02   2.0   2.0   6.0\n2011-01-03   NaN   3.0   NaN\n2011-01-04   NaN   4.0   NaN\n            new2  new1  new3\n2011-01-01   NaN   1.0   5.0\n2011-01-02   2.0   2.0   6.0\n2011-01-03   3.0   NaN   NaN\n2011-01-04   4.0   NaN   NaN\n            new2  new1  new3\n2011-01-01   NaN   1.0   5.0\n2011-01-02   2.0   2.0   6.0\n            new2  new1\n2011-01-01   NaN   1.0\n2011-01-02   2.0   2.0\n2011-01-03   3.0   NaN\n2011-01-04   4.0   NaN\n            new2  new1\n2011-01-01   NaN   1.0\n2011-01-02   2.0   2.0\n2011-01-01    1.0\n2011-01-02    2.0\nFreq: D, Name: new1, dtype: float64\n            new2  new1  new3\n2011-01-01   NaN   1.0   5.0\n2011-01-02   2.0   2.0   6.0\n2011-01-03   3.0   NaN   NaN\n2011-01-04   4.0   NaN   NaN\n<class 'pandas.core.indexes.datetimes.DatetimeIndex'>\n---------获取2011年前两天的数据-----------\n            new2  new1  new3\n2011-01-01   NaN   1.0   5.0\n2011-01-02   2.0   2.0   6.0\n------------------Series查询操作----------------------\n1\na    1\nb    2\ndtype: int64\nc    3\nd    4\ndtype: int64\na    1\nb    2\ndtype: int64\na    1\nb    2\nc    3\ndtype: int64\nIndex(['name', 'Year', 'Salary', 'Bonus'], dtype='object')\n<class 'pandas.core.frame.DataFrame'>\nRangeIndex: 8 entries, 0 to 7\nData columns (total 4 columns):\nname      8 non-null object\nYear      8 non-null int64\nSalary    8 non-null int64\nBonus     8 non-null int64\ndtypes: int64(3), object(1)\nmemory usage: 384.0+ bytes\nNone\n              Year        Salary          Bonus\ncount     8.000000  8.000000e+00       8.000000\nmean   2016.500000  1.631437e+06  131000.000000\nstd       0.534522  3.416521e+06  152851.935826\nmin    2016.000000  3.000000e+03    3000.000000\n25%    2016.000000  1.587500e+04   16250.000000\n50%    2016.500000  5.124995e+05   60000.000000\n75%    2017.000000  9.999990e+05  225000.000000\nmax    2017.000000  9.999999e+06  400000.000000\n    name  Year   Salary   Bonus\n0   BOSS  2016   999999  100000\n1  Lilei  2016    20000   20000\n2  Lilei  2016    25000   20000\n3    Han  2016     3000    5000\n4   BOSS  2017  9999999  200000\n5   BOSS  2017   999999  300000\n6    Han  2017     3500    3000\n7   BOSS  2017   999999  400000\n    name  Year  Salary  Bonus\n1  Lilei  2016   20000  20000\n2  Lilei  2016   25000  20000\n         Year        Salary    Bonus\ncount     2.0      2.000000      2.0\nmean   2016.0  22500.000000  20000.0\nstd       0.0   3535.533906      0.0\nmin    2016.0  20000.000000  20000.0\n25%    2016.0  21250.000000  20000.0\n50%    2016.0  22500.000000  20000.0\n75%    2016.0  23750.000000  20000.0\nmax    2016.0  25000.000000  20000.0\nBOSS\nHan\nLilei\n<class 'pandas.core.frame.DataFrame'>\n   name  Year   Salary   Bonus\n0  BOSS  2016   999999  100000\n4  BOSS  2017  9999999  200000\n5  BOSS  2017   999999  300000\n7  BOSS  2017   999999  400000\n<class 'pandas.core.frame.DataFrame'>\n    name  Year  Salary  Bonus\n1  Lilei  2016   20000  20000\n2  Lilei  2016   25000  20000\n<class 'tuple'>\n('BOSS',    name  Year   Salary   Bonus\n0  BOSS  2016   999999  100000\n4  BOSS  2017  9999999  200000\n5  BOSS  2017   999999  300000\n7  BOSS  2017   999999  400000)\n<class 'tuple'>\n('Han',   name  Year  Salary  Bonus\n3  Han  2016    3000   5000\n6  Han  2017    3500   3000)\n<class 'tuple'>\n('Lilei',     name  Year  Salary  Bonus\n1  Lilei  2016   20000  20000\n2  Lilei  2016   25000  20000)\n"
     ],
     "output_type": "stream"
    }
   ],
   "source": [
    "import numpy as np\n",
    "import pandas as pd\n",
    "from matplotlib import pyplot\n",
    "\n",
    "\"\"\"几列字符串拼为一列字符串\"\"\"\n",
    "# 结构很简单: 第一列的名称.str.cat(第二列的名称)\n",
    "df = pd.DataFrame({\"a\": range(3), \"b\": range(3), \"c\": range(3)})\n",
    "df['a'] = df.iloc[:, 0].apply(str) + \"-\" + df['b'].apply(str) + \"-\" + df['b'].apply(str)\n",
    "# 拼接之后，只留下特定的几列\n",
    "df = df[['a', 'c']]\n",
    "print(df)\n",
    "\n",
    "# 取出某列的第几行\n",
    "print(df['a'][0])\n",
    "# df行数\n",
    "print(df.shape[0])\n",
    "\n",
    "\"\"\"多个Series拼接\"\"\"\n",
    "# 初始化的时候不起名，后面rename没有用\n",
    "a = pd.Series([1, 2], name='aa')\n",
    "rng1 = pd.date_range('2011-1-1', periods=2, freq='D')\n",
    "a.index = rng1\n",
    "print(a)\n",
    "b = pd.Series([2, 3, 4])\n",
    "rng2 = pd.date_range('2011-1-2', periods=3, freq='D')\n",
    "b.index = rng2\n",
    "c = pd.Series([5, 6])\n",
    "rng3 = pd.date_range('2011-1-1', periods=2, freq='D')\n",
    "c.index = rng3\n",
    "series1 = pd.concat([a, b], axis=1)\n",
    "# 拼接时，给各列取名\n",
    "print(series1)\n",
    "df2 = pd.concat([series1, c], axis=1)\n",
    "print(df2)\n",
    "\n",
    "\"\"\"重新命名各列\"\"\"\n",
    "new_col = ['new1', 'new2', 'new3']\n",
    "df2.columns = new_col\n",
    "print(df2)\n",
    "\n",
    "\"\"\"交换列的位置\"\"\"\n",
    "order = ['new2', 'new1', 'new3']\n",
    "df2 = df2[order]\n",
    "print(df2)\n",
    "\n",
    "\"\"\"取dataframe指定多行列 slice操作\"\"\"\n",
    "# 取多行\n",
    "print(df2.iloc[0:2])\n",
    "# 取多列\n",
    "print(df2.iloc[:, 0:2])\n",
    "# 取多行多列\n",
    "print(df2.iloc[0:2, 0:2])\n",
    "# 行用数字取，列用名字取\n",
    "print(df2.iloc[0:2]['new1'])\n",
    "\n",
    "\"\"\"按日期取值并处理\"\"\"\n",
    "print(df2)\n",
    "print(type(df2.index))\n",
    "print('---------获取2011年前两天的数据-----------')\n",
    "# 获取某段日期内的数据\n",
    "print(df2['2011-01-01':'2011-01-02'])\n",
    "\n",
    "\"\"\"给Series作slice操作\"\"\"\n",
    "arr = [1, 2, 3, 4]  # 创建数组\n",
    "series_1 = pd.Series(arr)\n",
    "series_1.index = ['a', 'b', 'c', 'd']\n",
    "print(\"------------------Series查询操作----------------------\")\n",
    "print(series_1['a'])\n",
    "print(series_1[['a', 'b']])\n",
    "print(series_1[series_1 > 2])\n",
    "print(series_1[:2])\n",
    "print(series_1['a':'c'])\n",
    "\n",
    "\"\"\"对dataframe进行分组的例子\"\"\"\n",
    "salaries = pd.DataFrame({\n",
    "    'name': ['BOSS', 'Lilei', 'Lilei', 'Han', 'BOSS', 'BOSS', 'Han', 'BOSS'],\n",
    "    'Year': [2016, 2016, 2016, 2016, 2017, 2017, 2017, 2017],\n",
    "    'Salary': [999999, 20000, 25000, 3000, 9999999, 999999, 3500, 999999],\n",
    "    'Bonus': [100000, 20000, 20000, 5000, 200000, 300000, 3000, 400000]\n",
    "})\n",
    "print(salaries.columns)\n",
    "print(salaries.info())\n",
    "print(salaries.describe())\n",
    "salaries = salaries[['name', 'Year', 'Salary', 'Bonus']]\n",
    "# 定顺序\n",
    "print(salaries)\n",
    "# 对dataframe按name进行分组\n",
    "group_by_name = salaries.groupby('name')\n",
    "# 获取分组后的某一组\n",
    "se_temp = group_by_name.get_group('Lilei')\n",
    "print(se_temp)\n",
    "print(se_temp.describe())\n",
    "# 循环各组，并将名字在给定的序列中的group添加到数组中\n",
    "config = pd.Series({'names': ['Lilei', 'BOSS']})\n",
    "dfs = []\n",
    "for name, group in group_by_name:\n",
    "    print(name)\n",
    "    if name in config['names']:\n",
    "        dfs.append(group)\n",
    "\n",
    "for i in range(len(dfs)):\n",
    "    # 如果没有把name和group分开，那么dfs[i]的类型会是tuple，key为name，value是group，可参考接下来的输出\n",
    "    print(type(dfs[i]))\n",
    "    print(dfs[i])\n",
    "\n",
    "# 如果没有把name和group分开，那么dfs[i]的类型会是tuple，key为name，value是group\n",
    "dfs_s = []\n",
    "for group in group_by_name:\n",
    "    dfs_s.append(group)\n",
    "for i in range(len(dfs_s)):\n",
    "    print(type(dfs_s[i]))\n",
    "    print(dfs_s[i])\n"
   ],
   "metadata": {
    "collapsed": false,
    "pycharm": {
     "name": "#%%\n",
     "is_executing": false
    }
   }
  },
  {
   "cell_type": "markdown",
   "source": [
    "\n",
    "### pandas与numpy数据结构之间的转换\n"
   ],
   "metadata": {
    "collapsed": false
   }
  },
  {
   "cell_type": "code",
   "execution_count": null,
   "outputs": [],
   "source": [
    "# pandas dataframe与numpy array之间的转换\n",
    "df = pd.DataFrame({'A': [1, 2, 3], 'B': [4, 5, 6], 'C': [7, 8, 9]})\n",
    "print(df)\n",
    "# df转换为ndarray\n",
    "print(np.array(df))\n",
    "# 读取某一列数据，两种方式均可\n",
    "print(df['A'])\n",
    "print(df.loc[:, 'A'])\n",
    "# 一列数据转换为ndarray\n",
    "print(np.array(df['A']))\n",
    "# Series转ndarray\n",
    "# Creating the Series\n",
    "sr = pd.Series(['New York', 'Chicago', 'Toronto', 'Lisbon', 'Rio'])\n",
    "# Create the Index\n",
    "index_ = ['City 1', 'City 2', 'City 3', 'City 4', 'City 5']\n",
    "# set the index\n",
    "sr.index = index_\n",
    "# return numpy array representation\n",
    "result = sr.as_matrix()\n",
    "# Print the result\n",
    "print(\"series转为ndarray：\")\n",
    "print(result)\n",
    "# Print the series\n",
    "print(sr)\n",
    "\n"
   ],
   "metadata": {
    "collapsed": false,
    "pycharm": {
     "name": "#%%\n"
    }
   }
  },
  {
   "cell_type": "markdown",
   "source": [
    "## Pandas数据分析\n",
    "\n",
    "从数据读取、处理、分析和可视化及输出几个方面展开。\n",
    "\n",
    "### IO工具\n",
    "\n",
    "对于csv文件和txt文件，都可以通过pandas的read_csv()函数读取。\n"
   ],
   "metadata": {
    "collapsed": false
   }
  },
  {
   "cell_type": "code",
   "execution_count": 3,
   "outputs": [
    {
     "name": "stdout",
     "text": [
      "col1,col2,col3\na,b,1\na,b,2\nc,d,3\n  col1 col2  col3\n0    a    b     1\n1    a    b     2\n2    c    d     3\n  col1  col3\n0    a     1\n1    a     2\n2    c     3\n  col1 col2  col3\n0    a    b     2\n                                     旬流量   单位:m3/s\n旬平均   1970 1971 1972 1973 1974 1975           1976\n1月上旬  946  958  1030 900  861  1060            975\n1月中旬  895  908  969  895  885  1030            890\n1月下旬  891  947  891  916  868  958             885\n2月上旬  887  1050 933  885  993  967             914\n2月中旬  919  1060 991  926  927  1030            909\n2月下旬  1060 1150 1120 967  1100 1150           1090\n3月上旬  1040 1150 967  949  937  1260            974\n3月中旬  1160 1260 1230 961  980  1340           1130\n3月下旬  1210 1110 1170 973  1080 1300           1100\n4月上旬  1410 1180 1330 1350 1730 1500           1420\n4月中旬  1770 1370 1500 1440 1840 1330           1790\n4月下旬  1700 1330 1870 1160 1740 1390           1610\n5月上旬  2510 2030 2020 2230 2410 2180           2290\n5月中旬  4460 1870 2350 2680 2510 2440           2100\n5月下旬  2720 2690 2950 2670 2860 2480           3240\n6月上旬  3030 3400 3030 3590 2700 2380           3560\n6月中旬  2300 3610 3250 6400 3280 3760           3470\n6月下旬  2860 5380 4390 6100 5320 4150           5040\n7月上旬  5010 4450 4810 7680 5430 5120           5920\n7月中旬  5360 4990 5390 6130 4150 4670           6560\n7月下旬  7090 3840 8030 3490 6650 9660           4330\n8月上旬  6830 3460 3710 3920 5270 5710           4870\n8月中旬  5750 7080 1910 3020 5180 6370           4170\n8月下旬  4030 3760 3300 4910 6160 2990           6900\n9月上旬  2620 2510 2330 3060 5130 7670           4520\n9月中旬  2380 2990 2280 4500 5300 4840           4220\n9月下旬  2760 3580 2120 2790 4960 3480           5060\n10月上旬 2510 3710 1760 2260 2510 3460           2880\n10月中旬 2620 3790 2110 2640 2780 4270           4550\n10月下旬 2060 3390 1990 2470 2570 3270           3670\n11月上旬 1780 2120 1280 1910 1990 2580           2070\n11月中旬 1630 1820 1410 1480 1920 2440           1920\n11月下旬 1400 1470 1210 1280 1530 1680           1450\n12月上旬 1220 1210 1070 1130 1390 1380           1190\n12月中旬 1150 1180 993  1160 1260 1310           1050\n12月下旬 1050 1060 917  913  1060 1070           1110\n      旬平均  1970  1971  1972  1973  1974  1975  1976\n0    1月上旬   946   958  1030   900   861  1060   975\n1    1月中旬   895   908   969   895   885  1030   890\n2    1月下旬   891   947   891   916   868   958   885\n3    2月上旬   887  1050   933   885   993   967   914\n4    2月中旬   919  1060   991   926   927  1030   909\n5    2月下旬  1060  1150  1120   967  1100  1150  1090\n6    3月上旬  1040  1150   967   949   937  1260   974\n7    3月中旬  1160  1260  1230   961   980  1340  1130\n8    3月下旬  1210  1110  1170   973  1080  1300  1100\n9    4月上旬  1410  1180  1330  1350  1730  1500  1420\n10   4月中旬  1770  1370  1500  1440  1840  1330  1790\n11   4月下旬  1700  1330  1870  1160  1740  1390  1610\n12   5月上旬  2510  2030  2020  2230  2410  2180  2290\n13   5月中旬  4460  1870  2350  2680  2510  2440  2100\n14   5月下旬  2720  2690  2950  2670  2860  2480  3240\n15   6月上旬  3030  3400  3030  3590  2700  2380  3560\n16   6月中旬  2300  3610  3250  6400  3280  3760  3470\n17   6月下旬  2860  5380  4390  6100  5320  4150  5040\n18   7月上旬  5010  4450  4810  7680  5430  5120  5920\n19   7月中旬  5360  4990  5390  6130  4150  4670  6560\n20   7月下旬  7090  3840  8030  3490  6650  9660  4330\n21   8月上旬  6830  3460  3710  3920  5270  5710  4870\n22   8月中旬  5750  7080  1910  3020  5180  6370  4170\n23   8月下旬  4030  3760  3300  4910  6160  2990  6900\n24   9月上旬  2620  2510  2330  3060  5130  7670  4520\n25   9月中旬  2380  2990  2280  4500  5300  4840  4220\n26   9月下旬  2760  3580  2120  2790  4960  3480  5060\n27  10月上旬  2510  3710  1760  2260  2510  3460  2880\n28  10月中旬  2620  3790  2110  2640  2780  4270  4550\n29  10月下旬  2060  3390  1990  2470  2570  3270  3670\n30  11月上旬  1780  2120  1280  1910  1990  2580  2070\n31  11月中旬  1630  1820  1410  1480  1920  2440  1920\n32  11月下旬  1400  1470  1210  1280  1530  1680  1450\n33  12月上旬  1220  1210  1070  1130  1390  1380  1190\n34  12月中旬  1150  1180   993  1160  1260  1310  1050\n35  12月下旬  1050  1060   917   913  1060  1070  1110\n    1970  1971  1972  1973  1974  1975  1976\n0    946   958  1030   900   861  1060   975\n1    895   908   969   895   885  1030   890\n2    891   947   891   916   868   958   885\n3    887  1050   933   885   993   967   914\n4    919  1060   991   926   927  1030   909\n5   1060  1150  1120   967  1100  1150  1090\n6   1040  1150   967   949   937  1260   974\n7   1160  1260  1230   961   980  1340  1130\n8   1210  1110  1170   973  1080  1300  1100\n9   1410  1180  1330  1350  1730  1500  1420\n10  1770  1370  1500  1440  1840  1330  1790\n11  1700  1330  1870  1160  1740  1390  1610\n12  2510  2030  2020  2230  2410  2180  2290\n13  4460  1870  2350  2680  2510  2440  2100\n14  2720  2690  2950  2670  2860  2480  3240\n15  3030  3400  3030  3590  2700  2380  3560\n16  2300  3610  3250  6400  3280  3760  3470\n17  2860  5380  4390  6100  5320  4150  5040\n18  5010  4450  4810  7680  5430  5120  5920\n19  5360  4990  5390  6130  4150  4670  6560\n20  7090  3840  8030  3490  6650  9660  4330\n21  6830  3460  3710  3920  5270  5710  4870\n22  5750  7080  1910  3020  5180  6370  4170\n23  4030  3760  3300  4910  6160  2990  6900\n24  2620  2510  2330  3060  5130  7670  4520\n25  2380  2990  2280  4500  5300  4840  4220\n26  2760  3580  2120  2790  4960  3480  5060\n27  2510  3710  1760  2260  2510  3460  2880\n28  2620  3790  2110  2640  2780  4270  4550\n29  2060  3390  1990  2470  2570  3270  3670\n30  1780  2120  1280  1910  1990  2580  2070\n31  1630  1820  1410  1480  1920  2440  1920\n32  1400  1470  1210  1280  1530  1680  1450\n33  1220  1210  1070  1130  1390  1380  1190\n34  1150  1180   993  1160  1260  1310  1050\n35  1050  1060   917   913  1060  1070  1110\n拼接第1列:\n0    0\n1    1\n2    2\n0    0\n1    1\n2    2\ndtype: int64\n拼接第2列:\n0    0\n1    1\n2    2\n0    0\n1    1\n2    2\n0    0\n1    1\n2    2\ndtype: int64\n0    0\n1    1\n2    2\n0    0\n1    1\n2    2\n0    0\n1    1\n2    2\nName: aaaaaaa, dtype: int64\nindex换为日期：\nDatetimeIndex(['2011-01-01 00:00:00', '2011-01-01 01:00:00',\n               '2011-01-01 02:00:00', '2011-01-01 03:00:00',\n               '2011-01-01 04:00:00', '2011-01-01 05:00:00',\n               '2011-01-01 06:00:00', '2011-01-01 07:00:00',\n               '2011-01-01 08:00:00'],\n              dtype='datetime64[ns]', freq='H')\n2011-01-01 00:00:00    0\n2011-01-01 01:00:00    1\n2011-01-01 02:00:00    2\n2011-01-01 03:00:00    0\n2011-01-01 04:00:00    1\n2011-01-01 05:00:00    2\n2011-01-01 06:00:00    0\n2011-01-01 07:00:00    1\n2011-01-01 08:00:00    2\nFreq: H, Name: bbbbb, dtype: int64\n"
     ],
     "output_type": "stream"
    }
   ],
   "source": [
    "from io import StringIO, BytesIO\n",
    "\n",
    "data = ('col1,col2,col3\\n'\n",
    "         'a,b,1\\n'\n",
    "         'a,b,2\\n'\n",
    "         'c,d,3')\n",
    "print(data)\n",
    "print(pd.read_csv(StringIO(data)))\n",
    "print(pd.read_csv(StringIO(data), usecols=lambda x: x.upper() in ['COL1', 'COL3']))\n",
    "print(pd.read_csv(StringIO(data), skiprows=lambda x: x % 2 != 0))\n",
    "\n",
    "# 如果遇到“UnicodeDecodeError: 'utf8' codec can't decode byte....”错误，用记事本另存csv文件时，将“编码”设置为‘UTF-8’即可\n",
    "dataset = pd.read_csv('Sheet1.csv')\n",
    "print(dataset)\n",
    "# header指定某行的值作为各列的列名，1表示第二行，如果是None，则从第一行开始就是数据。\n",
    "dataset = pd.read_csv('Sheet1.csv', header=1)\n",
    "print(dataset)\n",
    "# 因为给定的数据格式，各人有各自的一套，所以具体情况具体分析。比如，这里dataset的第一列可以去掉，即得到所有数据，删除列时，用drop函数，加参数axis=1，不加则表示删除行\n",
    "dataset1 = dataset.drop(['旬平均'], axis=1)\n",
    "print(dataset1)\n",
    "\n",
    "\"\"\"专业方面，很多数据都是把年月或者年旬或者年日分别当做行和列，在计算时，需要进行处理，把时间变为一列或一行，即把几列或行的数组拼接起来\n",
    "即将[1 2;2 3]的数据变为[1 2 2 3]，pandas的concat和numpy的concatenate类似。最后把行名index统一换成日期，构成时间序列Series\"\"\"\n",
    "df = pd.DataFrame({\"a\": range(3), \"b\": range(3), \"c\": range(3)})\n",
    "# iloc获取的数据格式为Series\n",
    "se = df.iloc[:, 0]\n",
    "# 获取dataframe的列数：df.shape[1]\n",
    "for i in range(1, df.shape[1]):\n",
    "    print(\"拼接第\" + str(i) + \"列:\")\n",
    "    se_temp = df.iloc[:, i]\n",
    "    se = pd.concat([se, se_temp])\n",
    "    print(se)\n",
    "# 如果一开始没有给series起名，比如从csv读取出来时是dataframe，拼接之后没办法再给Series起名，但是又需要给它起名，那么只能采取重新构造一个series的方式来命名\n",
    "se = pd.Series(se, name=\"aaaaaaa\")\n",
    "print(se)\n",
    "# 把每行名称换为日期\n",
    "print(\"index换为日期：\")\n",
    "rng = pd.date_range('2011-1-1', periods=9, freq='H')\n",
    "print(rng)\n",
    "se.index = rng\n",
    "se = pd.Series(se, name=\"bbbbb\")\n",
    "print(se)\n"
   ],
   "metadata": {
    "collapsed": false,
    "pycharm": {
     "name": "#%%\n",
     "is_executing": false
    }
   }
  },
  {
   "cell_type": "markdown",
   "source": [
    "\n",
    "- [ ] Prepare Data\n",
    "- [ ] Analyze Data\n",
    "\n",
    "### Pandas绘图\n"
   ],
   "metadata": {
    "collapsed": false
   }
  },
  {
   "cell_type": "code",
   "execution_count": null,
   "outputs": [],
   "source": [
    "ts = pd.Series(np.random.randn(1000), index=pd.date_range('1/1/2000', periods=1000))\n",
    "print(ts)\n",
    "pyplot.plot(ts.index, ts.values, color='red', label='testing accuracy')\n",
    "pyplot.show()\n"
   ],
   "metadata": {
    "collapsed": false,
    "pycharm": {
     "name": "#%%\n"
    }
   }
  }
 ],
 "metadata": {
  "language_info": {
   "codemirror_mode": {
    "name": "ipython",
    "version": 2
   },
   "file_extension": ".py",
   "mimetype": "text/x-python",
   "name": "python",
   "nbconvert_exporter": "python",
   "pygments_lexer": "ipython2",
   "version": "2.7.6"
  },
  "kernelspec": {
   "name": "python3",
   "language": "python",
   "display_name": "Python 3"
  },
  "pycharm": {
   "stem_cell": {
    "cell_type": "raw",
    "source": [],
    "metadata": {
     "collapsed": false
    }
   }
  }
 },
 "nbformat": 4,
 "nbformat_minor": 0
}