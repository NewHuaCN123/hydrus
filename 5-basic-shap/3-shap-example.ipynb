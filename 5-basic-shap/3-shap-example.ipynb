{
 "cells": [
  {
   "cell_type": "markdown",
   "metadata": {},
   "source": [
    "# Explainable Convolutional Neural Networks\n",
    "\n",
    "   <font size=\"3\" face=\"微软雅黑\">SHAP (SHapely Additive exPlanations) 使深度学习中Black-box models成为过去，通过使用SHAP来解释deep learning models的预测，只需要几行代码。下面，将以MNIST数据集为例，展示SHAP方法的应用。</font><br />\n",
    " <font size=\"3\" face=\"微软雅黑\">CNN可能很难理解。一个网络从图像中学习最优特征提取器（核），这些特征对于检测任何有助于网络正确分类图像的模式都是有用的。</font><br />\n",
    "<font size=\"3\" face=\"微软雅黑\">你的大脑也没什么不同。它还使用一系列模式来识别你面前的物体。例如，什么使数字0为0 ?它是一个圆形到椭圆形的轮廓，里面什么都没有。这是卷积层背后的内核试图学习的一般模式。</font><br />\n",
    " <font size=\"3\" face=\"微软雅黑\">如果您想要直观地表示您的模型解释，只需看看SHAP(形状相加解释)，这是一种解释任何机器学习模型输出的博弈论方法。</font><br />\n",
    "\n",
    "   \n",
    "\n"
   ]
  },
  {
   "cell_type": "markdown",
   "metadata": {},
   "source": [
    "<font color=\"#dd0000\">浅红色文字：</font><br />"
   ]
  },
  {
   "cell_type": "code",
   "execution_count": null,
   "metadata": {},
   "outputs": [],
   "source": []
  }
 ],
 "metadata": {
  "kernelspec": {
   "display_name": "Python 3",
   "language": "python",
   "name": "python3"
  },
  "language_info": {
   "codemirror_mode": {
    "name": "ipython",
    "version": 3
   },
   "file_extension": ".py",
   "mimetype": "text/x-python",
   "name": "python",
   "nbconvert_exporter": "python",
   "pygments_lexer": "ipython3",
   "version": "3.7.0"
  }
 },
 "nbformat": 4,
 "nbformat_minor": 2
}
