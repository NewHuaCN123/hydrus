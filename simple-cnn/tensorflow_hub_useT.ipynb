{
 "cells": [
  {
   "cell_type": "code",
   "execution_count": 6,
   "metadata": {},
   "outputs": [],
   "source": [
    "import tensorflow as tf\n",
    "import tensorflow_hub as hub\n",
    "import numpy as np"
   ]
  },
  {
   "cell_type": "markdown",
   "metadata": {},
   "source": [
    "# universal sentence encoder using Transference ARCHITECTURE"
   ]
  },
  {
   "cell_type": "code",
   "execution_count": 2,
   "metadata": {},
   "outputs": [
    {
     "name": "stdout",
     "output_type": "stream",
     "text": [
      "mkdir: cannot create directory ‘../sentence_wise_email/module/module_useT’: File exists\n",
      "  % Total    % Received % Xferd  Average Speed   Time    Time     Time  Current\n",
      "                                 Dload  Upload   Total   Spent    Left  Speed\n",
      "  0     0    0     0    0     0      0      0 --:--:-- --:--:-- --:--:--     0\n",
      "./\n",
      "./tfhub_module.pb\n",
      "./variables/\n",
      "./variables/variables.data-00000-of-00001\n",
      " 99  745M   99  739M    0     0  20.1M      0  0:00:36  0:00:36 --:--:-- 22.8M./variables/variables.index\n",
      "./assets/\n",
      "./saved_model.pb\n",
      "100  745M  100  745M    0     0  19.6M      0  0:00:37  0:00:37 --:--:-- 16.8M\n"
     ]
    }
   ],
   "source": [
    "#download the model to local so it can be used again and again\n",
    "!mkdir ../sentence_wise_email/module/module_useT\n",
    "# Download the module, and uncompress it to the destination folder. \n",
    "!curl -L \"https://tfhub.dev/google/universal-sentence-encoder-large/3?tf-hub-format=compressed\" | tar -zxvC ../sentence_wise_email/module/module_useT"
   ]
  },
  {
   "cell_type": "code",
   "execution_count": 7,
   "metadata": {},
   "outputs": [
    {
     "name": "stdout",
     "output_type": "stream",
     "text": [
      "Message: Elephant\n",
      "Embedding size: 512\n",
      "Embedding: [0.04498474299907684, -0.05743394419550896, 0.002211471786722541, ...]\n",
      "\n",
      "Message: I am a sentence for which I would like to get its embedding.\n",
      "Embedding size: 512\n",
      "Embedding: [0.05568016692996025, -0.009607920423150063, 0.006246279925107956, ...]\n",
      "\n",
      "Message: Universal Sentence Encoder embeddings also support short paragraphs. There is no hard limit on how long the paragraph is. Roughly, the longer the more 'diluted' the embedding will be.\n",
      "Embedding size: 512\n",
      "Embedding: [0.03874940797686577, 0.0765201598405838, -0.0007945669931359589, ...]\n",
      "\n"
     ]
    }
   ],
   "source": [
    "embed = hub.Module(\"../sentence_wise_email/module/module_useT\")\n",
    "\n",
    "# Compute a representation for each message, showing various lengths supported.\n",
    "word = \"Elephant\"\n",
    "sentence = \"I am a sentence for which I would like to get its embedding.\"\n",
    "paragraph = (\n",
    "    \"Universal Sentence Encoder embeddings also support short paragraphs. \"\n",
    "    \"There is no hard limit on how long the paragraph is. Roughly, the longer \"\n",
    "    \"the more 'diluted' the embedding will be.\")\n",
    "messages = [word, sentence, paragraph]\n",
    "\n",
    "# Reduce logging output.\n",
    "tf.logging.set_verbosity(tf.logging.ERROR)\n",
    "\n",
    "with tf.Session() as session:\n",
    "    session.run([tf.global_variables_initializer(), tf.tables_initializer()])\n",
    "    message_embeddings = session.run(embed(messages))\n",
    "\n",
    "    for i, message_embedding in enumerate(np.array(message_embeddings).tolist()):\n",
    "        print(\"Message: {}\".format(messages[i]))\n",
    "        print(\"Embedding size: {}\".format(len(message_embedding)))\n",
    "        message_embedding_snippet = \", \".join((str(x) for x in message_embedding[:3]))\n",
    "        print(\"Embedding: [{}, ...]\\n\".format(message_embedding_snippet))"
   ]
  },
  {
   "cell_type": "code",
   "execution_count": 8,
   "metadata": {},
   "outputs": [],
   "source": [
    "#Function so that one session can be called multiple times. \n",
    "#Useful while multiple calls need to be done for embedding. \n",
    "import tensorflow as tf\n",
    "import tensorflow_hub as hub\n",
    "def embed_useT(module):\n",
    "    with tf.Graph().as_default():\n",
    "        sentences = tf.placeholder(tf.string)\n",
    "        embed = hub.Module(module)\n",
    "        embeddings = embed(sentences)\n",
    "        session = tf.train.MonitoredSession()\n",
    "    return lambda x: session.run(embeddings, {sentences: x})\n",
    "\n",
    "embed_fn = embed_useT('../sentence_wise_email/module/module_useT')"
   ]
  },
  {
   "cell_type": "code",
   "execution_count": 9,
   "metadata": {},
   "outputs": [],
   "source": [
    "messages = [\n",
    "    \"we are sorry for the inconvenience\",\n",
    "    \"we are sorry for the delay\",\n",
    "    \"we regret for your inconvenience\",\n",
    "    \"we don't deliver to baner region in pune\",\n",
    "    \"we will get you the best possible rate\"\n",
    "]"
   ]
  },
  {
   "cell_type": "code",
   "execution_count": 10,
   "metadata": {},
   "outputs": [],
   "source": [
    "encoding_matrix = embed_fn(messages) "
   ]
  },
  {
   "cell_type": "code",
   "execution_count": 15,
   "metadata": {},
   "outputs": [
    {
     "data": {
      "text/plain": [
       "array([[1.        , 0.87426376, 0.8004891 , 0.23807861, 0.46469775],\n",
       "       [0.87426376, 1.0000001 , 0.60501504, 0.2508136 , 0.4493388 ],\n",
       "       [0.8004891 , 0.60501504, 0.9999998 , 0.1784874 , 0.4195464 ],\n",
       "       [0.23807861, 0.2508136 , 0.1784874 , 1.0000001 , 0.24955797],\n",
       "       [0.46469775, 0.4493388 , 0.4195464 , 0.24955797, 1.0000002 ]],\n",
       "      dtype=float32)"
      ]
     },
     "execution_count": 15,
     "metadata": {},
     "output_type": "execute_result"
    }
   ],
   "source": [
    "np.inner(encoding_matrix, encoding_matrix)"
   ]
  },
  {
   "cell_type": "code",
   "execution_count": 12,
   "metadata": {},
   "outputs": [],
   "source": [
    "from math import*\n",
    "from decimal import Decimal\n",
    "\n",
    "class Similarity():\n",
    "    def euclidean_distance(self,x,y):\n",
    "\n",
    "        \"\"\" return euclidean distance between two lists \"\"\"\n",
    "\n",
    "        return sqrt(sum(pow(a-b,2) for a, b in zip(x, y)))\n",
    "\n",
    "    def manhattan_distance(self,x,y):\n",
    "\n",
    "        \"\"\" return manhattan distance between two lists \"\"\"\n",
    "\n",
    "        return sum(abs(a-b) for a,b in zip(x,y))\n",
    "\n",
    "    def minkowski_distance(self,x,y,p_value):\n",
    "\n",
    "        \"\"\" return minkowski distance between two lists \"\"\"\n",
    "\n",
    "        return self.nth_root(sum(pow(abs(a-b),p_value) for a,b in zip(x, y)),\n",
    "           p_value)\n",
    "\n",
    "    def nth_root(self,value, n_root):\n",
    "\n",
    "        \"\"\" returns the n_root of an value \"\"\"\n",
    "\n",
    "        root_value = 1/float(n_root)\n",
    "        return round (Decimal(value) ** Decimal(root_value),3)\n",
    "\n",
    "    def cosine_similarity(self,x,y):\n",
    "\n",
    "        \"\"\" return cosine similarity between two lists \"\"\"\n",
    "\n",
    "        numerator = sum(a*b for a,b in zip(x,y))\n",
    "        denominator = self.square_rooted(x)*self.square_rooted(y)\n",
    "        return round(numerator/float(denominator),3)\n",
    "\n",
    "    def square_rooted(self,x):\n",
    "\n",
    "        \"\"\" return 3 rounded square rooted value \"\"\"\n",
    "\n",
    "        return round(sqrt(sum([a*a for a in x])),3)"
   ]
  },
  {
   "cell_type": "code",
   "execution_count": 13,
   "metadata": {},
   "outputs": [
    {
     "data": {
      "text/plain": [
       "0.8"
      ]
     },
     "execution_count": 13,
     "metadata": {},
     "output_type": "execute_result"
    }
   ],
   "source": [
    "measures = Similarity()\n",
    "measures.cosine_similarity(encoding_matrix[0],encoding_matrix[2])"
   ]
  },
  {
   "cell_type": "code",
   "execution_count": 16,
   "metadata": {},
   "outputs": [
    {
     "data": {
      "image/png": "[encoded data removed]",
      "text/plain": [
       "<Figure size 432x288 with 2 Axes>"
      ]
     },
     "metadata": {},
     "output_type": "display_data"
    }
   ],
   "source": [
    "import matplotlib.pyplot as plt\n",
    "import seaborn as sns\n",
    "%matplotlib inline\n",
    "def plot_similarity(labels, features, rotation):\n",
    "    corr = np.inner(features, features)\n",
    "    sns.set(font_scale=1.2)\n",
    "    g = sns.heatmap(\n",
    "      corr,\n",
    "      xticklabels=labels,\n",
    "      yticklabels=labels,\n",
    "      vmin=0,\n",
    "      vmax=1,\n",
    "      cmap=\"YlGnBu\")\n",
    "    g.set_xticklabels(labels, rotation=rotation)\n",
    "    g.set_title(\"Semantic Textual Similarity\")\n",
    "\n",
    "plot_similarity(messages, encoding_matrix, 90)"
   ]
  },
  {
   "cell_type": "code",
   "execution_count": 17,
   "metadata": {},
   "outputs": [],
   "source": [
    "#It takes similarity matrix (generated from sentence encoder) as input and gives index of redundant statements\n",
    "def redundant_sent_idx(sim_matrix):\n",
    "    dup_idx = [] \n",
    "    for i in range(sim_matrix.shape[0]):\n",
    "        if i not in dup_idx:\n",
    "            tmp = [t+i+1 for t in list(np.where( sim_matrix[i][i+1:] > 0.8 )[0])]\n",
    "            dup_idx.extend(tmp)\n",
    "    return dup_idx"
   ]
  },
  {
   "cell_type": "code",
   "execution_count": 18,
   "metadata": {},
   "outputs": [],
   "source": [
    "dup_indexes = redundant_sent_idx(np.inner(encoding_matrix,encoding_matrix))"
   ]
  },
  {
   "cell_type": "code",
   "execution_count": 19,
   "metadata": {},
   "outputs": [
    {
     "data": {
      "text/plain": [
       "[1, 2]"
      ]
     },
     "execution_count": 19,
     "metadata": {},
     "output_type": "execute_result"
    }
   ],
   "source": [
    "dup_indexes"
   ]
  },
  {
   "cell_type": "code",
   "execution_count": 20,
   "metadata": {},
   "outputs": [
    {
     "data": {
      "text/plain": [
       "array(['we are sorry for the inconvenience',\n",
       "       \"we don't deliver to baner region in pune\",\n",
       "       'we will get you the best possible rate'], dtype='<U40')"
      ]
     },
     "execution_count": 20,
     "metadata": {},
     "output_type": "execute_result"
    }
   ],
   "source": [
    "unique_messages = np.delete(np.array(messages), dup_indexes)\n",
    "unique_messages"
   ]
  },
  {
   "cell_type": "code",
   "execution_count": 60,
   "metadata": {},
   "outputs": [],
   "source": [
    "######"
   ]
  },
  {
   "cell_type": "code",
   "execution_count": 9,
   "metadata": {},
   "outputs": [],
   "source": [
    "greet_texts = '''- - Hello\n",
    "  - Hi\n",
    "- - Hi\n",
    "  - Hello\n",
    "- - Greetings!\n",
    "  - Hello\n",
    "- - Hello\n",
    "  - Greetings!\n",
    "- - Hi, How is it going?\n",
    "  - Good\n",
    "- - Hi, How is it going?\n",
    "  - Fine\n",
    "- - Hi, How is it going?\n",
    "  - Okay\n",
    "- - Hi, How is it going?\n",
    "  - Great\n",
    "- - Hi, How is it going?\n",
    "  - Could be better.\n",
    "- - Hi, How is it going?\n",
    "  - Not so great.\n",
    "- - How are you doing?\n",
    "  - Good.\n",
    "- - How are you doing?\n",
    "  - Very well, thanks.\n",
    "- - How are you doing?\n",
    "  - Fine, and you?\n",
    "- - Nice to meet you.\n",
    "  - Thank you.\n",
    "- - How do you do?\n",
    "  - I'm doing well.\n",
    "- - How do you do?\n",
    "  - I'm doing well. How are you?\n",
    "- - Hi, nice to meet you.\n",
    "  - Thank you. You too.\n",
    "- - It is a pleasure to meet you.\n",
    "  - Thank you. You too.\n",
    "- - Top of the morning to you!\n",
    "  - Thank you kindly.\n",
    "- - Top of the morning to you!\n",
    "  - And the rest of the day to you.\n",
    "- - What's up?\n",
    "  - Not much.\n",
    "- - What's up?\n",
    "  - Not too much.\n",
    "- - What's up?\n",
    "  - Not much, how about you?\n",
    "- - What's up?\n",
    "  - Nothing much.\n",
    "- - What's up?\n",
    "  - The sky's up but I'm fine thanks. What about you?\n",
    "'''"
   ]
  },
  {
   "cell_type": "code",
   "execution_count": 10,
   "metadata": {},
   "outputs": [],
   "source": [
    "greet_list = greet_texts.split(\"- -\")"
   ]
  },
  {
   "cell_type": "code",
   "execution_count": 11,
   "metadata": {},
   "outputs": [
    {
     "data": {
      "text/plain": [
       "False"
      ]
     },
     "execution_count": 11,
     "metadata": {},
     "output_type": "execute_result"
    }
   ],
   "source": [
    "greet_list[0].strip().split('\\n')[0]!=\"\""
   ]
  },
  {
   "cell_type": "code",
   "execution_count": 12,
   "metadata": {},
   "outputs": [],
   "source": [
    "greets = [i.strip().split('\\n')[0] for i in greet_list if i != \"\" ]"
   ]
  },
  {
   "cell_type": "code",
   "execution_count": 13,
   "metadata": {},
   "outputs": [
    {
     "data": {
      "text/plain": [
       "['Hello',\n",
       " 'Hi',\n",
       " 'Greetings!',\n",
       " 'Hello',\n",
       " 'Hi, How is it going?',\n",
       " 'Hi, How is it going?',\n",
       " 'Hi, How is it going?',\n",
       " 'Hi, How is it going?',\n",
       " 'Hi, How is it going?',\n",
       " 'Hi, How is it going?',\n",
       " 'How are you doing?',\n",
       " 'How are you doing?',\n",
       " 'How are you doing?',\n",
       " 'Nice to meet you.',\n",
       " 'How do you do?',\n",
       " 'How do you do?',\n",
       " 'Hi, nice to meet you.',\n",
       " 'It is a pleasure to meet you.',\n",
       " 'Top of the morning to you!',\n",
       " 'Top of the morning to you!',\n",
       " \"What's up?\",\n",
       " \"What's up?\",\n",
       " \"What's up?\",\n",
       " \"What's up?\",\n",
       " \"What's up?\"]"
      ]
     },
     "execution_count": 13,
     "metadata": {},
     "output_type": "execute_result"
    }
   ],
   "source": [
    "greets"
   ]
  },
  {
   "cell_type": "code",
   "execution_count": 14,
   "metadata": {},
   "outputs": [],
   "source": [
    "greets = list(set(greets))"
   ]
  },
  {
   "cell_type": "code",
   "execution_count": 15,
   "metadata": {},
   "outputs": [
    {
     "data": {
      "text/plain": [
       "[\"What's up?\",\n",
       " 'It is a pleasure to meet you.',\n",
       " 'How do you do?',\n",
       " 'Top of the morning to you!',\n",
       " 'Hi',\n",
       " 'How are you doing?',\n",
       " 'Hello',\n",
       " 'Greetings!',\n",
       " 'Hi, How is it going?',\n",
       " 'Hi, nice to meet you.',\n",
       " 'Nice to meet you.']"
      ]
     },
     "execution_count": 15,
     "metadata": {},
     "output_type": "execute_result"
    }
   ],
   "source": [
    "greets"
   ]
  },
  {
   "cell_type": "code",
   "execution_count": 28,
   "metadata": {},
   "outputs": [],
   "source": [
    "greet_matrix = embed_fn(greets)"
   ]
  },
  {
   "cell_type": "code",
   "execution_count": 41,
   "metadata": {},
   "outputs": [],
   "source": [
    "test_text = \"Hey, how are you?\"\n",
    "test_embed = embed_fn([test_text])"
   ]
  },
  {
   "cell_type": "code",
   "execution_count": 42,
   "metadata": {},
   "outputs": [
    {
     "data": {
      "text/plain": [
       "array([[0.908517  , 0.5567912 , 0.9510286 , 0.4188392 , 0.5115325 ,\n",
       "        0.6289985 , 0.52158314, 0.7922291 , 0.62852156, 0.5008598 ,\n",
       "        0.5546435 ]], dtype=float32)"
      ]
     },
     "execution_count": 42,
     "metadata": {},
     "output_type": "execute_result"
    }
   ],
   "source": [
    "sim_matrix  = np.inner(test_embed, greet_matrix)\n",
    "sim_matrix"
   ]
  },
  {
   "cell_type": "code",
   "execution_count": 44,
   "metadata": {},
   "outputs": [
    {
     "name": "stdout",
     "output_type": "stream",
     "text": [
      "it is a greetings\n"
     ]
    }
   ],
   "source": [
    "if sim_matrix.max() > 0.8:\n",
    "    print(\"it is a greetings\")\n",
    "else:\n",
    "    print(\"it is not a greetings\")"
   ]
  },
  {
   "cell_type": "code",
   "execution_count": null,
   "metadata": {},
   "outputs": [],
   "source": []
  }
 ],
 "metadata": {
  "kernelspec": {
   "display_name": "Python 3",
   "language": "python",
   "name": "python3"
  },
  "language_info": {
   "codemirror_mode": {
    "name": "ipython",
    "version": 3
   },
   "file_extension": ".py",
   "mimetype": "text/x-python",
   "name": "python",
   "nbconvert_exporter": "python",
   "pygments_lexer": "ipython3",
   "version": "3.6.5"
  }
 },
 "nbformat": 4,
 "nbformat_minor": 2
}
