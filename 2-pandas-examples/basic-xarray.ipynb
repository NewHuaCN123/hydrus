{
 "cells": [
  {
   "cell_type": "markdown",
   "metadata": {},
   "source": [
    "# xarray\n",
    "\n",
    "水文水资源等地球科学方面还有一个数据处理的库是非常好用，那就是xarray。本文参考：[xarray官方文档](http://xarray.pydata.org/en/stable/)，简单记录下xarray的基本使用方法。\n",
    "\n",
    "xarray是一个专门用来处理多维标签数据的python库。Xarray在类似于**NumPy的原始数组上以维度，坐标和属性的形式引入标签**，从而提供了更直观，更简洁和更少出错的开发人员体验。引入标签的原因是现实世界中，数据往往不是原始的多维数组，而还包含一系列反映数据编码信息的标签，比如时空信息。xarray可以利用这些标签更好地完成对数据的操作，后面会根据实际使用逐步记录。\n",
    "\n",
    "Xarray借鉴了pandas，特别适合处理netCDF文件，netcdf是xarray数据模型的来源，如果不了解netcdf可以参考：[netcdf-python 介绍](https://github.com/OuyangWenyu/hydroGIS/blob/master/Criteria/netcdf-intro.ipynb)。xarray中最基本的数据结构是DataArray和Dataset，前者类似于pandas里的Series，后者类似DataFrame，更多信息后面记录。\n",
    "\n",
    "另外xarray还与dask紧密集成以进行并行计算，后面用到dask再做记录。\n",
    "\n",
    "首先，看看它的安装方法。建议conda安装：\n",
    "\n",
    "```Shell\n",
    "conda install -c conda-forge xarray\n",
    "```\n",
    "\n",
    "## 基本术语\n",
    "\n",
    "以下无明确说明时，arr 表示DataArray对象。\n",
    "\n",
    "- DataArray：是一个多维数组，有标签，如果name属性设置了，就成为一个named DataArray\n",
    "- Dataset：一个类dict的DataArray对象集合，有多个排列的维度。Datasets有 Varaible\n",
    "- Varaible：类似于netcdf的variable，包含维度，数据，属性等。variables和numpy数组的主要区别是变量上的广播运算基于维度名称的。每个DataArray有一个潜在variable可以通过arr.variable访问。Variable在Dataset和DataArray内的，所以不必单独用它。\n",
    "- Dimension：一个维度轴就是固定一个维度上的所有点的集合。每个维度轴有一个名字，比如x维度。DataArray对象的维度就是被命名的维度轴。第i个维度名称可用arr.dim[i]获取。默认的维度名称是dim_0,dim_1以此类推。\n",
    "- Coordinate：一个标记维度的数组。在一维情况下，坐标数组的至可以被认为是维度的标签。有两种坐标：\n",
    "    - Dimension coordinate：一维的坐标数组用名字和维度名字指定给arr，可见于arr.dims。维度坐标类似于DataFrame中的index。\n",
    "    - Non-dimension coordinate：非维度坐标可见于arr.coords，这些坐标数组可以是一维也可以是多维，多维情况主要见于物理坐标和逻辑坐标不一致的时候，非维度坐标是不能索引的。\n",
    "- Index：index是优化数据结构用于快速索引和切片的。xarray用维度坐标可以i快速索引。\n",
    "\n",
    "以上有些晦涩，接下来看例子。\n",
    "\n",
    "## 基本数据结构\n",
    "\n",
    "先看DataArray，多维标记数组。"
   ]
  },
  {
   "cell_type": "code",
   "execution_count": 1,
   "metadata": {},
   "outputs": [
    {
     "data": {
      "text/plain": [
       "array([[0.86082042, 0.1547373 , 0.28176335],\n",
       "       [0.44304539, 0.39531056, 0.2847507 ],\n",
       "       [0.91936809, 0.50282199, 0.42949692],\n",
       "       [0.11212279, 0.18087763, 0.01919186]])"
      ]
     },
     "execution_count": 1,
     "metadata": {},
     "output_type": "execute_result"
    }
   ],
   "source": [
    "import numpy as np\n",
    "data = np.random.rand(4, 3)\n",
    "data"
   ]
  },
  {
   "cell_type": "code",
   "execution_count": 3,
   "metadata": {},
   "outputs": [
    {
     "data": {
      "text/plain": [
       "DatetimeIndex(['2000-01-01', '2000-01-02', '2000-01-03', '2000-01-04'], dtype='datetime64[ns]', freq='D')"
      ]
     },
     "execution_count": 3,
     "metadata": {},
     "output_type": "execute_result"
    }
   ],
   "source": [
    "import pandas as pd\n",
    "locs = ['IA', 'IL', 'IN']\n",
    "times = pd.date_range('2000-01-01', periods=4)\n",
    "times"
   ]
  },
  {
   "cell_type": "code",
   "execution_count": 5,
   "metadata": {},
   "outputs": [
    {
     "data": {
      "text/html": [
       "<pre>&lt;xarray.DataArray (time: 4, space: 3)&gt;\n",
       "array([[0.86082042, 0.1547373 , 0.28176335],\n",
       "       [0.44304539, 0.39531056, 0.2847507 ],\n",
       "       [0.91936809, 0.50282199, 0.42949692],\n",
       "       [0.11212279, 0.18087763, 0.01919186]])\n",
       "Coordinates:\n",
       "  * time     (time) datetime64[ns] 2000-01-01 2000-01-02 2000-01-03 2000-01-04\n",
       "  * space    (space) &lt;U2 &#x27;IA&#x27; &#x27;IL&#x27; &#x27;IN&#x27;</pre>"
      ],
      "text/plain": [
       "<xarray.DataArray (time: 4, space: 3)>\n",
       "array([[0.86082042, 0.1547373 , 0.28176335],\n",
       "       [0.44304539, 0.39531056, 0.2847507 ],\n",
       "       [0.91936809, 0.50282199, 0.42949692],\n",
       "       [0.11212279, 0.18087763, 0.01919186]])\n",
       "Coordinates:\n",
       "  * time     (time) datetime64[ns] 2000-01-01 2000-01-02 2000-01-03 2000-01-04\n",
       "  * space    (space) <U2 'IA' 'IL' 'IN'"
      ]
     },
     "execution_count": 5,
     "metadata": {},
     "output_type": "execute_result"
    }
   ],
   "source": [
    "import xarray as xr\n",
    "foo = xr.DataArray(data, coords=[times, locs], dims=['time', 'space'])\n",
    "foo"
   ]
  },
  {
   "cell_type": "markdown",
   "metadata": {},
   "source": [
    "可以看到这个arr有两个维度，一个时间，一个空间，时间对应一个坐标数组，是pandas的data_range，空间对应一个list，相应的数据有4\\*3=12个，且数组共4行，对应4个时间，三列对应三个空间。\n",
    "\n",
    "最简单的初始化方式是直接使用data'："
   ]
  },
  {
   "cell_type": "code",
   "execution_count": 6,
   "metadata": {},
   "outputs": [
    {
     "data": {
      "text/html": [
       "<pre>&lt;xarray.DataArray (dim_0: 4, dim_1: 3)&gt;\n",
       "array([[0.86082042, 0.1547373 , 0.28176335],\n",
       "       [0.44304539, 0.39531056, 0.2847507 ],\n",
       "       [0.91936809, 0.50282199, 0.42949692],\n",
       "       [0.11212279, 0.18087763, 0.01919186]])\n",
       "Dimensions without coordinates: dim_0, dim_1</pre>"
      ],
      "text/plain": [
       "<xarray.DataArray (dim_0: 4, dim_1: 3)>\n",
       "array([[0.86082042, 0.1547373 , 0.28176335],\n",
       "       [0.44304539, 0.39531056, 0.2847507 ],\n",
       "       [0.91936809, 0.50282199, 0.42949692],\n",
       "       [0.11212279, 0.18087763, 0.01919186]])\n",
       "Dimensions without coordinates: dim_0, dim_1"
      ]
     },
     "execution_count": 6,
     "metadata": {},
     "output_type": "execute_result"
    }
   ],
   "source": [
    "xr.DataArray(data)"
   ]
  },
  {
   "cell_type": "markdown",
   "metadata": {},
   "source": [
    "可以看到默认的坐标。\n",
    "\n",
    "另外，可以直接使用字典形式创建coords："
   ]
  },
  {
   "cell_type": "code",
   "execution_count": 7,
   "metadata": {},
   "outputs": [
    {
     "data": {
      "text/html": [
       "<pre>&lt;xarray.DataArray (time: 4, space: 3)&gt;\n",
       "array([[0.86082042, 0.1547373 , 0.28176335],\n",
       "       [0.44304539, 0.39531056, 0.2847507 ],\n",
       "       [0.91936809, 0.50282199, 0.42949692],\n",
       "       [0.11212279, 0.18087763, 0.01919186]])\n",
       "Coordinates:\n",
       "  * time     (time) datetime64[ns] 2000-01-01 2000-01-02 2000-01-03 2000-01-04\n",
       "  * space    (space) &lt;U2 &#x27;IA&#x27; &#x27;IL&#x27; &#x27;IN&#x27;</pre>"
      ],
      "text/plain": [
       "<xarray.DataArray (time: 4, space: 3)>\n",
       "array([[0.86082042, 0.1547373 , 0.28176335],\n",
       "       [0.44304539, 0.39531056, 0.2847507 ],\n",
       "       [0.91936809, 0.50282199, 0.42949692],\n",
       "       [0.11212279, 0.18087763, 0.01919186]])\n",
       "Coordinates:\n",
       "  * time     (time) datetime64[ns] 2000-01-01 2000-01-02 2000-01-03 2000-01-04\n",
       "  * space    (space) <U2 'IA' 'IL' 'IN'"
      ]
     },
     "execution_count": 7,
     "metadata": {},
     "output_type": "execute_result"
    }
   ],
   "source": [
    "xr.DataArray(data, coords=[('time', times), ('space', locs)])"
   ]
  },
  {
   "cell_type": "markdown",
   "metadata": {},
   "source": [
    "再比如多维的："
   ]
  },
  {
   "cell_type": "code",
   "execution_count": 8,
   "metadata": {},
   "outputs": [
    {
     "data": {
      "text/html": [
       "<pre>&lt;xarray.DataArray (time: 4, space: 3)&gt;\n",
       "array([[0.86082042, 0.1547373 , 0.28176335],\n",
       "       [0.44304539, 0.39531056, 0.2847507 ],\n",
       "       [0.91936809, 0.50282199, 0.42949692],\n",
       "       [0.11212279, 0.18087763, 0.01919186]])\n",
       "Coordinates:\n",
       "  * time     (time) datetime64[ns] 2000-01-01 2000-01-02 2000-01-03 2000-01-04\n",
       "  * space    (space) &lt;U2 &#x27;IA&#x27; &#x27;IL&#x27; &#x27;IN&#x27;\n",
       "    const    int32 42\n",
       "    ranking  (time, space) int32 0 1 2 3 4 5 6 7 8 9 10 11</pre>"
      ],
      "text/plain": [
       "<xarray.DataArray (time: 4, space: 3)>\n",
       "array([[0.86082042, 0.1547373 , 0.28176335],\n",
       "       [0.44304539, 0.39531056, 0.2847507 ],\n",
       "       [0.91936809, 0.50282199, 0.42949692],\n",
       "       [0.11212279, 0.18087763, 0.01919186]])\n",
       "Coordinates:\n",
       "  * time     (time) datetime64[ns] 2000-01-01 2000-01-02 2000-01-03 2000-01-04\n",
       "  * space    (space) <U2 'IA' 'IL' 'IN'\n",
       "    const    int32 42\n",
       "    ranking  (time, space) int32 0 1 2 3 4 5 6 7 8 9 10 11"
      ]
     },
     "execution_count": 8,
     "metadata": {},
     "output_type": "execute_result"
    }
   ],
   "source": [
    "xr.DataArray(data, coords={'time': times, 'space': locs, 'const': 42, \n",
    "                           'ranking': (('time', 'space'), np.arange(12).reshape(4,3))},\n",
    "             dims=['time', 'space'])"
   ]
  },
  {
   "cell_type": "markdown",
   "metadata": {},
   "source": [
    "如上，time和space就是维度坐标，const和ranking就是非维度坐标。\n",
    "\n",
    "另外，还可以使用DataFrame来初始化："
   ]
  },
  {
   "cell_type": "code",
   "execution_count": 9,
   "metadata": {},
   "outputs": [
    {
     "data": {
      "text/html": [
       "<div>\n",
       "<style scoped>\n",
       "    .dataframe tbody tr th:only-of-type {\n",
       "        vertical-align: middle;\n",
       "    }\n",
       "\n",
       "    .dataframe tbody tr th {\n",
       "        vertical-align: top;\n",
       "    }\n",
       "\n",
       "    .dataframe thead th {\n",
       "        text-align: right;\n",
       "    }\n",
       "</style>\n",
       "<table border=\"1\" class=\"dataframe\">\n",
       "  <thead>\n",
       "    <tr style=\"text-align: right;\">\n",
       "      <th></th>\n",
       "      <th>x</th>\n",
       "      <th>y</th>\n",
       "    </tr>\n",
       "  </thead>\n",
       "  <tbody>\n",
       "    <tr>\n",
       "      <th>a</th>\n",
       "      <td>0</td>\n",
       "      <td>2</td>\n",
       "    </tr>\n",
       "    <tr>\n",
       "      <th>b</th>\n",
       "      <td>1</td>\n",
       "      <td>3</td>\n",
       "    </tr>\n",
       "  </tbody>\n",
       "</table>\n",
       "</div>"
      ],
      "text/plain": [
       "   x  y\n",
       "a  0  2\n",
       "b  1  3"
      ]
     },
     "execution_count": 9,
     "metadata": {},
     "output_type": "execute_result"
    }
   ],
   "source": [
    "df = pd.DataFrame({'x': [0, 1], 'y': [2, 3]}, index=['a', 'b'])\n",
    "df"
   ]
  },
  {
   "cell_type": "code",
   "execution_count": 10,
   "metadata": {},
   "outputs": [
    {
     "data": {
      "text/html": [
       "<div>\n",
       "<style scoped>\n",
       "    .dataframe tbody tr th:only-of-type {\n",
       "        vertical-align: middle;\n",
       "    }\n",
       "\n",
       "    .dataframe tbody tr th {\n",
       "        vertical-align: top;\n",
       "    }\n",
       "\n",
       "    .dataframe thead th {\n",
       "        text-align: right;\n",
       "    }\n",
       "</style>\n",
       "<table border=\"1\" class=\"dataframe\">\n",
       "  <thead>\n",
       "    <tr style=\"text-align: right;\">\n",
       "      <th></th>\n",
       "      <th>x</th>\n",
       "      <th>y</th>\n",
       "    </tr>\n",
       "    <tr>\n",
       "      <th>abc</th>\n",
       "      <th></th>\n",
       "      <th></th>\n",
       "    </tr>\n",
       "  </thead>\n",
       "  <tbody>\n",
       "    <tr>\n",
       "      <th>a</th>\n",
       "      <td>0</td>\n",
       "      <td>2</td>\n",
       "    </tr>\n",
       "    <tr>\n",
       "      <th>b</th>\n",
       "      <td>1</td>\n",
       "      <td>3</td>\n",
       "    </tr>\n",
       "  </tbody>\n",
       "</table>\n",
       "</div>"
      ],
      "text/plain": [
       "     x  y\n",
       "abc      \n",
       "a    0  2\n",
       "b    1  3"
      ]
     },
     "execution_count": 10,
     "metadata": {},
     "output_type": "execute_result"
    }
   ],
   "source": [
    "df.index.name = 'abc'\n",
    "df"
   ]
  },
  {
   "cell_type": "code",
   "execution_count": 11,
   "metadata": {},
   "outputs": [
    {
     "data": {
      "text/html": [
       "<div>\n",
       "<style scoped>\n",
       "    .dataframe tbody tr th:only-of-type {\n",
       "        vertical-align: middle;\n",
       "    }\n",
       "\n",
       "    .dataframe tbody tr th {\n",
       "        vertical-align: top;\n",
       "    }\n",
       "\n",
       "    .dataframe thead th {\n",
       "        text-align: right;\n",
       "    }\n",
       "</style>\n",
       "<table border=\"1\" class=\"dataframe\">\n",
       "  <thead>\n",
       "    <tr style=\"text-align: right;\">\n",
       "      <th>xyz</th>\n",
       "      <th>x</th>\n",
       "      <th>y</th>\n",
       "    </tr>\n",
       "    <tr>\n",
       "      <th>abc</th>\n",
       "      <th></th>\n",
       "      <th></th>\n",
       "    </tr>\n",
       "  </thead>\n",
       "  <tbody>\n",
       "    <tr>\n",
       "      <th>a</th>\n",
       "      <td>0</td>\n",
       "      <td>2</td>\n",
       "    </tr>\n",
       "    <tr>\n",
       "      <th>b</th>\n",
       "      <td>1</td>\n",
       "      <td>3</td>\n",
       "    </tr>\n",
       "  </tbody>\n",
       "</table>\n",
       "</div>"
      ],
      "text/plain": [
       "xyz  x  y\n",
       "abc      \n",
       "a    0  2\n",
       "b    1  3"
      ]
     },
     "execution_count": 11,
     "metadata": {},
     "output_type": "execute_result"
    }
   ],
   "source": [
    "df.columns.name = 'xyz'\n",
    "df"
   ]
  },
  {
   "cell_type": "code",
   "execution_count": 12,
   "metadata": {},
   "outputs": [
    {
     "data": {
      "text/html": [
       "<pre>&lt;xarray.DataArray (abc: 2, xyz: 2)&gt;\n",
       "array([[0, 2],\n",
       "       [1, 3]], dtype=int64)\n",
       "Coordinates:\n",
       "  * abc      (abc) object &#x27;a&#x27; &#x27;b&#x27;\n",
       "  * xyz      (xyz) object &#x27;x&#x27; &#x27;y&#x27;</pre>"
      ],
      "text/plain": [
       "<xarray.DataArray (abc: 2, xyz: 2)>\n",
       "array([[0, 2],\n",
       "       [1, 3]], dtype=int64)\n",
       "Coordinates:\n",
       "  * abc      (abc) object 'a' 'b'\n",
       "  * xyz      (xyz) object 'x' 'y'"
      ]
     },
     "execution_count": 12,
     "metadata": {},
     "output_type": "execute_result"
    }
   ],
   "source": [
    "xr.DataArray(df)"
   ]
  },
  {
   "cell_type": "markdown",
   "metadata": {},
   "source": [
    "接下来看看数组的属性："
   ]
  },
  {
   "cell_type": "code",
   "execution_count": 13,
   "metadata": {},
   "outputs": [
    {
     "data": {
      "text/plain": [
       "array([[0.86082042, 0.1547373 , 0.28176335],\n",
       "       [0.44304539, 0.39531056, 0.2847507 ],\n",
       "       [0.91936809, 0.50282199, 0.42949692],\n",
       "       [0.11212279, 0.18087763, 0.01919186]])"
      ]
     },
     "execution_count": 13,
     "metadata": {},
     "output_type": "execute_result"
    }
   ],
   "source": [
    "foo.values"
   ]
  },
  {
   "cell_type": "markdown",
   "metadata": {},
   "source": [
    "注意DataArray中的数组值都是统一的数据类型。如果需要不同数据类型的，那么需要使用Dataset。"
   ]
  },
  {
   "cell_type": "code",
   "execution_count": 14,
   "metadata": {},
   "outputs": [
    {
     "data": {
      "text/plain": [
       "('time', 'space')"
      ]
     },
     "execution_count": 14,
     "metadata": {},
     "output_type": "execute_result"
    }
   ],
   "source": [
    "foo.dims"
   ]
  },
  {
   "cell_type": "code",
   "execution_count": 15,
   "metadata": {},
   "outputs": [
    {
     "data": {
      "text/plain": [
       "Coordinates:\n",
       "  * time     (time) datetime64[ns] 2000-01-01 2000-01-02 2000-01-03 2000-01-04\n",
       "  * space    (space) <U2 'IA' 'IL' 'IN'"
      ]
     },
     "execution_count": 15,
     "metadata": {},
     "output_type": "execute_result"
    }
   ],
   "source": [
    "foo.coords"
   ]
  },
  {
   "cell_type": "code",
   "execution_count": 16,
   "metadata": {},
   "outputs": [
    {
     "data": {
      "text/plain": [
       "{}"
      ]
     },
     "execution_count": 16,
     "metadata": {},
     "output_type": "execute_result"
    }
   ],
   "source": [
    "foo.attrs"
   ]
  },
  {
   "cell_type": "code",
   "execution_count": 17,
   "metadata": {},
   "outputs": [
    {
     "name": "stdout",
     "output_type": "stream",
     "text": [
      "None\n"
     ]
    }
   ],
   "source": [
    "print(foo.name)"
   ]
  },
  {
   "cell_type": "markdown",
   "metadata": {},
   "source": [
    "以上有缺失默认值的，可以使用下列方式补充："
   ]
  },
  {
   "cell_type": "code",
   "execution_count": 18,
   "metadata": {},
   "outputs": [
    {
     "data": {
      "text/html": [
       "<pre>&lt;xarray.DataArray &#x27;foo&#x27; (time: 4, space: 3)&gt;\n",
       "array([[0.86082042, 0.1547373 , 0.28176335],\n",
       "       [0.44304539, 0.39531056, 0.2847507 ],\n",
       "       [0.91936809, 0.50282199, 0.42949692],\n",
       "       [0.11212279, 0.18087763, 0.01919186]])\n",
       "Coordinates:\n",
       "  * time     (time) datetime64[ns] 2000-01-01 2000-01-02 2000-01-03 2000-01-04\n",
       "  * space    (space) &lt;U2 &#x27;IA&#x27; &#x27;IL&#x27; &#x27;IN&#x27;\n",
       "Attributes:\n",
       "    units:    meters</pre>"
      ],
      "text/plain": [
       "<xarray.DataArray 'foo' (time: 4, space: 3)>\n",
       "array([[0.86082042, 0.1547373 , 0.28176335],\n",
       "       [0.44304539, 0.39531056, 0.2847507 ],\n",
       "       [0.91936809, 0.50282199, 0.42949692],\n",
       "       [0.11212279, 0.18087763, 0.01919186]])\n",
       "Coordinates:\n",
       "  * time     (time) datetime64[ns] 2000-01-01 2000-01-02 2000-01-03 2000-01-04\n",
       "  * space    (space) <U2 'IA' 'IL' 'IN'\n",
       "Attributes:\n",
       "    units:    meters"
      ]
     },
     "execution_count": 18,
     "metadata": {},
     "output_type": "execute_result"
    }
   ],
   "source": [
    "foo.name = 'foo'\n",
    "foo.attrs['units'] = 'meters'\n",
    "foo"
   ]
  },
  {
   "cell_type": "markdown",
   "metadata": {},
   "source": [
    "使用rename会返回一个新的数据数组："
   ]
  },
  {
   "cell_type": "code",
   "execution_count": 19,
   "metadata": {},
   "outputs": [
    {
     "data": {
      "text/html": [
       "<pre>&lt;xarray.DataArray &#x27;bar&#x27; (time: 4, space: 3)&gt;\n",
       "array([[0.86082042, 0.1547373 , 0.28176335],\n",
       "       [0.44304539, 0.39531056, 0.2847507 ],\n",
       "       [0.91936809, 0.50282199, 0.42949692],\n",
       "       [0.11212279, 0.18087763, 0.01919186]])\n",
       "Coordinates:\n",
       "  * time     (time) datetime64[ns] 2000-01-01 2000-01-02 2000-01-03 2000-01-04\n",
       "  * space    (space) &lt;U2 &#x27;IA&#x27; &#x27;IL&#x27; &#x27;IN&#x27;\n",
       "Attributes:\n",
       "    units:    meters</pre>"
      ],
      "text/plain": [
       "<xarray.DataArray 'bar' (time: 4, space: 3)>\n",
       "array([[0.86082042, 0.1547373 , 0.28176335],\n",
       "       [0.44304539, 0.39531056, 0.2847507 ],\n",
       "       [0.91936809, 0.50282199, 0.42949692],\n",
       "       [0.11212279, 0.18087763, 0.01919186]])\n",
       "Coordinates:\n",
       "  * time     (time) datetime64[ns] 2000-01-01 2000-01-02 2000-01-03 2000-01-04\n",
       "  * space    (space) <U2 'IA' 'IL' 'IN'\n",
       "Attributes:\n",
       "    units:    meters"
      ]
     },
     "execution_count": 19,
     "metadata": {},
     "output_type": "execute_result"
    }
   ],
   "source": [
    "foo.rename('bar')"
   ]
  },
  {
   "cell_type": "markdown",
   "metadata": {},
   "source": [
    "坐标是类似dict类型的"
   ]
  },
  {
   "cell_type": "code",
   "execution_count": 20,
   "metadata": {},
   "outputs": [
    {
     "data": {
      "text/html": [
       "<pre>&lt;xarray.DataArray &#x27;time&#x27; (time: 4)&gt;\n",
       "array([&#x27;2000-01-01T00:00:00.000000000&#x27;, &#x27;2000-01-02T00:00:00.000000000&#x27;,\n",
       "       &#x27;2000-01-03T00:00:00.000000000&#x27;, &#x27;2000-01-04T00:00:00.000000000&#x27;],\n",
       "      dtype=&#x27;datetime64[ns]&#x27;)\n",
       "Coordinates:\n",
       "  * time     (time) datetime64[ns] 2000-01-01 2000-01-02 2000-01-03 2000-01-04</pre>"
      ],
      "text/plain": [
       "<xarray.DataArray 'time' (time: 4)>\n",
       "array(['2000-01-01T00:00:00.000000000', '2000-01-02T00:00:00.000000000',\n",
       "       '2000-01-03T00:00:00.000000000', '2000-01-04T00:00:00.000000000'],\n",
       "      dtype='datetime64[ns]')\n",
       "Coordinates:\n",
       "  * time     (time) datetime64[ns] 2000-01-01 2000-01-02 2000-01-03 2000-01-04"
      ]
     },
     "execution_count": 20,
     "metadata": {},
     "output_type": "execute_result"
    }
   ],
   "source": [
    "foo.coords['time']"
   ]
  },
  {
   "cell_type": "code",
   "execution_count": 21,
   "metadata": {},
   "outputs": [
    {
     "data": {
      "text/html": [
       "<pre>&lt;xarray.DataArray &#x27;time&#x27; (time: 4)&gt;\n",
       "array([&#x27;2000-01-01T00:00:00.000000000&#x27;, &#x27;2000-01-02T00:00:00.000000000&#x27;,\n",
       "       &#x27;2000-01-03T00:00:00.000000000&#x27;, &#x27;2000-01-04T00:00:00.000000000&#x27;],\n",
       "      dtype=&#x27;datetime64[ns]&#x27;)\n",
       "Coordinates:\n",
       "  * time     (time) datetime64[ns] 2000-01-01 2000-01-02 2000-01-03 2000-01-04</pre>"
      ],
      "text/plain": [
       "<xarray.DataArray 'time' (time: 4)>\n",
       "array(['2000-01-01T00:00:00.000000000', '2000-01-02T00:00:00.000000000',\n",
       "       '2000-01-03T00:00:00.000000000', '2000-01-04T00:00:00.000000000'],\n",
       "      dtype='datetime64[ns]')\n",
       "Coordinates:\n",
       "  * time     (time) datetime64[ns] 2000-01-01 2000-01-02 2000-01-03 2000-01-04"
      ]
     },
     "execution_count": 21,
     "metadata": {},
     "output_type": "execute_result"
    }
   ],
   "source": [
    "foo['time']"
   ]
  },
  {
   "cell_type": "markdown",
   "metadata": {},
   "source": [
    "坐标可以被删除："
   ]
  },
  {
   "cell_type": "code",
   "execution_count": 22,
   "metadata": {},
   "outputs": [
    {
     "data": {
      "text/plain": [
       "Coordinates:\n",
       "  * time     (time) datetime64[ns] 2000-01-01 2000-01-02 2000-01-03 2000-01-04\n",
       "  * space    (space) <U2 'IA' 'IL' 'IN'\n",
       "    ranking  (space) int32 1 2 3"
      ]
     },
     "execution_count": 22,
     "metadata": {},
     "output_type": "execute_result"
    }
   ],
   "source": [
    "foo['ranking'] = ('space', [1, 2, 3])\n",
    "foo.coords"
   ]
  },
  {
   "cell_type": "code",
   "execution_count": 23,
   "metadata": {},
   "outputs": [
    {
     "data": {
      "text/plain": [
       "Coordinates:\n",
       "  * time     (time) datetime64[ns] 2000-01-01 2000-01-02 2000-01-03 2000-01-04\n",
       "  * space    (space) <U2 'IA' 'IL' 'IN'"
      ]
     },
     "execution_count": 23,
     "metadata": {},
     "output_type": "execute_result"
    }
   ],
   "source": [
    "del foo['ranking']\n",
    "foo.coords"
   ]
  },
  {
   "cell_type": "markdown",
   "metadata": {},
   "source": [
    "下面看Dataset，它就是为netcdf定制的。"
   ]
  },
  {
   "cell_type": "code",
   "execution_count": 24,
   "metadata": {},
   "outputs": [
    {
     "data": {
      "text/plain": [
       "array([[[ 9.38784084,  1.32272273, 11.10376   ],\n",
       "        [13.02591895, 17.73363208, 18.01805839]],\n",
       "\n",
       "       [[11.63603795, 19.42711602, 10.41797777],\n",
       "        [-6.07555963, 10.90500841, 20.84515736]]])"
      ]
     },
     "execution_count": 24,
     "metadata": {},
     "output_type": "execute_result"
    }
   ],
   "source": [
    "temp = 15 + 8 * np.random.randn(2, 2, 3)\n",
    "temp"
   ]
  },
  {
   "cell_type": "code",
   "execution_count": 25,
   "metadata": {},
   "outputs": [
    {
     "data": {
      "text/plain": [
       "array([[[6.27147192, 3.32837045, 8.85742054],\n",
       "        [4.35676988, 3.63088735, 0.09502339]],\n",
       "\n",
       "       [[7.17492778, 0.11402965, 1.72007276],\n",
       "        [1.99444539, 0.1965453 , 1.92094201]]])"
      ]
     },
     "execution_count": 25,
     "metadata": {},
     "output_type": "execute_result"
    }
   ],
   "source": [
    "precip = 10 * np.random.rand(2, 2, 3)\n",
    "precip "
   ]
  },
  {
   "cell_type": "code",
   "execution_count": 26,
   "metadata": {},
   "outputs": [
    {
     "data": {
      "text/html": [
       "<pre>&lt;xarray.Dataset&gt;\n",
       "Dimensions:         (time: 3, x: 2, y: 2)\n",
       "Coordinates:\n",
       "    lon             (x, y) float64 -99.83 -99.32 -99.79 -99.23\n",
       "    lat             (x, y) float64 42.25 42.21 42.63 42.59\n",
       "  * time            (time) datetime64[ns] 2014-09-06 2014-09-07 2014-09-08\n",
       "    reference_time  datetime64[ns] 2014-09-05\n",
       "Dimensions without coordinates: x, y\n",
       "Data variables:\n",
       "    temperature     (x, y, time) float64 9.388 1.323 11.1 ... -6.076 10.91 20.85\n",
       "    precipitation   (x, y, time) float64 6.271 3.328 8.857 ... 0.1965 1.921</pre>"
      ],
      "text/plain": [
       "<xarray.Dataset>\n",
       "Dimensions:         (time: 3, x: 2, y: 2)\n",
       "Coordinates:\n",
       "    lon             (x, y) float64 -99.83 -99.32 -99.79 -99.23\n",
       "    lat             (x, y) float64 42.25 42.21 42.63 42.59\n",
       "  * time            (time) datetime64[ns] 2014-09-06 2014-09-07 2014-09-08\n",
       "    reference_time  datetime64[ns] 2014-09-05\n",
       "Dimensions without coordinates: x, y\n",
       "Data variables:\n",
       "    temperature     (x, y, time) float64 9.388 1.323 11.1 ... -6.076 10.91 20.85\n",
       "    precipitation   (x, y, time) float64 6.271 3.328 8.857 ... 0.1965 1.921"
      ]
     },
     "execution_count": 26,
     "metadata": {},
     "output_type": "execute_result"
    }
   ],
   "source": [
    "lon = [[-99.83, -99.32], [-99.79, -99.23]]\n",
    "lat = [[42.25, 42.21], [42.63, 42.59]]\n",
    "ds = xr.Dataset({'temperature': (['x', 'y', 'time'],  temp),\n",
    "                     'precipitation': (['x', 'y', 'time'], precip)},\n",
    "                    coords={'lon': (['x', 'y'], lon),\n",
    "                            'lat': (['x', 'y'], lat),\n",
    "                            'time': pd.date_range('2014-09-06', periods=3),\n",
    "                            'reference_time': pd.Timestamp('2014-09-05')})\n",
    "ds"
   ]
  },
  {
   "cell_type": "markdown",
   "metadata": {},
   "source": [
    "可以传入arr或者pandas到Dataset："
   ]
  },
  {
   "cell_type": "code",
   "execution_count": 27,
   "metadata": {},
   "outputs": [
    {
     "data": {
      "text/html": [
       "<pre>&lt;xarray.Dataset&gt;\n",
       "Dimensions:  (space: 3, time: 4)\n",
       "Coordinates:\n",
       "  * time     (time) datetime64[ns] 2000-01-01 2000-01-02 2000-01-03 2000-01-04\n",
       "  * space    (space) &lt;U2 &#x27;IA&#x27; &#x27;IL&#x27; &#x27;IN&#x27;\n",
       "Data variables:\n",
       "    bar      (time, space) float64 0.8608 0.1547 0.2818 ... 0.1809 0.01919</pre>"
      ],
      "text/plain": [
       "<xarray.Dataset>\n",
       "Dimensions:  (space: 3, time: 4)\n",
       "Coordinates:\n",
       "  * time     (time) datetime64[ns] 2000-01-01 2000-01-02 2000-01-03 2000-01-04\n",
       "  * space    (space) <U2 'IA' 'IL' 'IN'\n",
       "Data variables:\n",
       "    bar      (time, space) float64 0.8608 0.1547 0.2818 ... 0.1809 0.01919"
      ]
     },
     "execution_count": 27,
     "metadata": {},
     "output_type": "execute_result"
    }
   ],
   "source": [
    "xr.Dataset({'bar': foo})"
   ]
  },
  {
   "cell_type": "code",
   "execution_count": 28,
   "metadata": {},
   "outputs": [
    {
     "data": {
      "text/html": [
       "<pre>&lt;xarray.Dataset&gt;\n",
       "Dimensions:  (space: 3, time: 4)\n",
       "Coordinates:\n",
       "  * time     (time) datetime64[ns] 2000-01-01 2000-01-02 2000-01-03 2000-01-04\n",
       "  * space    (space) object &#x27;IA&#x27; &#x27;IL&#x27; &#x27;IN&#x27;\n",
       "Data variables:\n",
       "    bar      (time, space) float64 0.8608 0.1547 0.2818 ... 0.1809 0.01919</pre>"
      ],
      "text/plain": [
       "<xarray.Dataset>\n",
       "Dimensions:  (space: 3, time: 4)\n",
       "Coordinates:\n",
       "  * time     (time) datetime64[ns] 2000-01-01 2000-01-02 2000-01-03 2000-01-04\n",
       "  * space    (space) object 'IA' 'IL' 'IN'\n",
       "Data variables:\n",
       "    bar      (time, space) float64 0.8608 0.1547 0.2818 ... 0.1809 0.01919"
      ]
     },
     "execution_count": 28,
     "metadata": {},
     "output_type": "execute_result"
    }
   ],
   "source": [
    "xr.Dataset({'bar': foo.to_pandas()})"
   ]
  },
  {
   "cell_type": "markdown",
   "metadata": {},
   "source": [
    "这里就可以理解variable的意义了。\n",
    "\n",
    "接下来看看Dataset的各个属性："
   ]
  },
  {
   "cell_type": "code",
   "execution_count": 29,
   "metadata": {},
   "outputs": [
    {
     "data": {
      "text/plain": [
       "True"
      ]
     },
     "execution_count": 29,
     "metadata": {},
     "output_type": "execute_result"
    }
   ],
   "source": [
    "'temperature' in ds"
   ]
  },
  {
   "cell_type": "code",
   "execution_count": 30,
   "metadata": {},
   "outputs": [
    {
     "data": {
      "text/html": [
       "<pre>&lt;xarray.DataArray &#x27;temperature&#x27; (x: 2, y: 2, time: 3)&gt;\n",
       "array([[[ 9.38784084,  1.32272273, 11.10376   ],\n",
       "        [13.02591895, 17.73363208, 18.01805839]],\n",
       "\n",
       "       [[11.63603795, 19.42711602, 10.41797777],\n",
       "        [-6.07555963, 10.90500841, 20.84515736]]])\n",
       "Coordinates:\n",
       "    lon             (x, y) float64 -99.83 -99.32 -99.79 -99.23\n",
       "    lat             (x, y) float64 42.25 42.21 42.63 42.59\n",
       "  * time            (time) datetime64[ns] 2014-09-06 2014-09-07 2014-09-08\n",
       "    reference_time  datetime64[ns] 2014-09-05\n",
       "Dimensions without coordinates: x, y</pre>"
      ],
      "text/plain": [
       "<xarray.DataArray 'temperature' (x: 2, y: 2, time: 3)>\n",
       "array([[[ 9.38784084,  1.32272273, 11.10376   ],\n",
       "        [13.02591895, 17.73363208, 18.01805839]],\n",
       "\n",
       "       [[11.63603795, 19.42711602, 10.41797777],\n",
       "        [-6.07555963, 10.90500841, 20.84515736]]])\n",
       "Coordinates:\n",
       "    lon             (x, y) float64 -99.83 -99.32 -99.79 -99.23\n",
       "    lat             (x, y) float64 42.25 42.21 42.63 42.59\n",
       "  * time            (time) datetime64[ns] 2014-09-06 2014-09-07 2014-09-08\n",
       "    reference_time  datetime64[ns] 2014-09-05\n",
       "Dimensions without coordinates: x, y"
      ]
     },
     "execution_count": 30,
     "metadata": {},
     "output_type": "execute_result"
    }
   ],
   "source": [
    "ds['temperature']"
   ]
  },
  {
   "cell_type": "code",
   "execution_count": 31,
   "metadata": {},
   "outputs": [
    {
     "data": {
      "text/plain": [
       "Data variables:\n",
       "    temperature    (x, y, time) float64 9.388 1.323 11.1 ... -6.076 10.91 20.85\n",
       "    precipitation  (x, y, time) float64 6.271 3.328 8.857 ... 1.994 0.1965 1.921"
      ]
     },
     "execution_count": 31,
     "metadata": {},
     "output_type": "execute_result"
    }
   ],
   "source": [
    "ds.data_vars"
   ]
  },
  {
   "cell_type": "code",
   "execution_count": 32,
   "metadata": {},
   "outputs": [
    {
     "data": {
      "text/plain": [
       "Coordinates:\n",
       "    lon             (x, y) float64 -99.83 -99.32 -99.79 -99.23\n",
       "    lat             (x, y) float64 42.25 42.21 42.63 42.59\n",
       "  * time            (time) datetime64[ns] 2014-09-06 2014-09-07 2014-09-08\n",
       "    reference_time  datetime64[ns] 2014-09-05"
      ]
     },
     "execution_count": 32,
     "metadata": {},
     "output_type": "execute_result"
    }
   ],
   "source": [
    "ds.coords"
   ]
  },
  {
   "cell_type": "code",
   "execution_count": 33,
   "metadata": {},
   "outputs": [
    {
     "data": {
      "text/plain": [
       "{}"
      ]
     },
     "execution_count": 33,
     "metadata": {},
     "output_type": "execute_result"
    }
   ],
   "source": [
    "ds.attrs"
   ]
  },
  {
   "cell_type": "code",
   "execution_count": 34,
   "metadata": {},
   "outputs": [
    {
     "data": {
      "text/html": [
       "<pre>&lt;xarray.Dataset&gt;\n",
       "Dimensions:         (time: 3, x: 2, y: 2)\n",
       "Coordinates:\n",
       "    lon             (x, y) float64 -99.83 -99.32 -99.79 -99.23\n",
       "    lat             (x, y) float64 42.25 42.21 42.63 42.59\n",
       "  * time            (time) datetime64[ns] 2014-09-06 2014-09-07 2014-09-08\n",
       "    reference_time  datetime64[ns] 2014-09-05\n",
       "Dimensions without coordinates: x, y\n",
       "Data variables:\n",
       "    temperature     (x, y, time) float64 9.388 1.323 11.1 ... -6.076 10.91 20.85\n",
       "    precipitation   (x, y, time) float64 6.271 3.328 8.857 ... 0.1965 1.921\n",
       "Attributes:\n",
       "    title:    example attribute</pre>"
      ],
      "text/plain": [
       "<xarray.Dataset>\n",
       "Dimensions:         (time: 3, x: 2, y: 2)\n",
       "Coordinates:\n",
       "    lon             (x, y) float64 -99.83 -99.32 -99.79 -99.23\n",
       "    lat             (x, y) float64 42.25 42.21 42.63 42.59\n",
       "  * time            (time) datetime64[ns] 2014-09-06 2014-09-07 2014-09-08\n",
       "    reference_time  datetime64[ns] 2014-09-05\n",
       "Dimensions without coordinates: x, y\n",
       "Data variables:\n",
       "    temperature     (x, y, time) float64 9.388 1.323 11.1 ... -6.076 10.91 20.85\n",
       "    precipitation   (x, y, time) float64 6.271 3.328 8.857 ... 0.1965 1.921\n",
       "Attributes:\n",
       "    title:    example attribute"
      ]
     },
     "execution_count": 34,
     "metadata": {},
     "output_type": "execute_result"
    }
   ],
   "source": [
    "ds.attrs['title'] = 'example attribute'\n",
    "ds"
   ]
  },
  {
   "cell_type": "code",
   "execution_count": 35,
   "metadata": {},
   "outputs": [
    {
     "data": {
      "text/html": [
       "<pre>&lt;xarray.DataArray &#x27;temperature&#x27; (x: 2, y: 2, time: 3)&gt;\n",
       "array([[[ 9.38784084,  1.32272273, 11.10376   ],\n",
       "        [13.02591895, 17.73363208, 18.01805839]],\n",
       "\n",
       "       [[11.63603795, 19.42711602, 10.41797777],\n",
       "        [-6.07555963, 10.90500841, 20.84515736]]])\n",
       "Coordinates:\n",
       "    lon             (x, y) float64 -99.83 -99.32 -99.79 -99.23\n",
       "    lat             (x, y) float64 42.25 42.21 42.63 42.59\n",
       "  * time            (time) datetime64[ns] 2014-09-06 2014-09-07 2014-09-08\n",
       "    reference_time  datetime64[ns] 2014-09-05\n",
       "Dimensions without coordinates: x, y</pre>"
      ],
      "text/plain": [
       "<xarray.DataArray 'temperature' (x: 2, y: 2, time: 3)>\n",
       "array([[[ 9.38784084,  1.32272273, 11.10376   ],\n",
       "        [13.02591895, 17.73363208, 18.01805839]],\n",
       "\n",
       "       [[11.63603795, 19.42711602, 10.41797777],\n",
       "        [-6.07555963, 10.90500841, 20.84515736]]])\n",
       "Coordinates:\n",
       "    lon             (x, y) float64 -99.83 -99.32 -99.79 -99.23\n",
       "    lat             (x, y) float64 42.25 42.21 42.63 42.59\n",
       "  * time            (time) datetime64[ns] 2014-09-06 2014-09-07 2014-09-08\n",
       "    reference_time  datetime64[ns] 2014-09-05\n",
       "Dimensions without coordinates: x, y"
      ]
     },
     "execution_count": 35,
     "metadata": {},
     "output_type": "execute_result"
    }
   ],
   "source": [
    "ds.temperature"
   ]
  }
 ],
 "metadata": {
  "kernelspec": {
   "display_name": "Python 3",
   "language": "python",
   "name": "python3"
  },
  "language_info": {
   "codemirror_mode": {
    "name": "ipython",
    "version": 3
   },
   "file_extension": ".py",
   "mimetype": "text/x-python",
   "name": "python",
   "nbconvert_exporter": "python",
   "pygments_lexer": "ipython3",
   "version": "3.7.6"
  }
 },
 "nbformat": 4,
 "nbformat_minor": 4
}
