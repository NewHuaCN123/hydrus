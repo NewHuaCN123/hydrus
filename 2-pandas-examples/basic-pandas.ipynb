{
 "cells": [
  {
   "cell_type": "markdown",
   "metadata": {
    "pycharm": {
     "name": "#%% md\n"
    }
   },
   "source": [
    "# Pandas基础\n",
    "\n",
    "该部分主要参考[Pandas中文网](https://www.pypandas.cn/docs/)和[官方用户手册](https://pandas.pydata.org/pandas-docs/stable/index.html)。\n",
    "\n",
    "Pandas是一个开源的，为Python编程语言提供高性能，易于使用的**数据结构**和**数据分析工具**。\n",
    "\n",
    "因此这部分的记录主要思路就是围绕数据结构和分析工具两方面来展开。两部分之间会有重复的地方，就当是复习了。\n",
    "\n",
    "首先，简单记录下关于pandas的介绍。Pandas适合处理多种不同类型的数据：\n",
    "\n",
    "- 不同类型的数据列组成的表格数据；\n",
    "- 有序或无序的时间序列数据；\n",
    "- 带行列标签的类型相同或不同的行或列组成的矩阵数据；\n",
    "- 任意形式的观测或统计数据，它们不需标记即可放入pandas数据结构中。 \n",
    "\n",
    "其运算都主要都围绕两类数据结构展开，Series和Dataframe，接下来从它们开始记录。\n",
    "\n",
    "Series(1维)和DataFrame(2维)能处理绝大多数的典型应用，包括金融、统计、社科、工程等各个领域。\n",
    " \n",
    "对于R用户，DataFrame提供了所有R的data.frame提供的，并且还有更多。\n",
    "\n",
    "pandas建立在NumPy之上，也整合了很多第三方库，打造了良好的科学计算环境。\n",
    "\n",
    "pandas处理的经典问题包括且不限于：\n",
    "\n",
    "- 处理缺失数据，用NaN表示；\n",
    "- 数据结构大小可变：可以插入删除DataFrame或者更高维对象的列；\n",
    "- 自动且明确的data alignment，可以明确指定数据到一系列标签下；\n",
    "- 灵活数据分组，很容易聚合转换数据；\n",
    "- 容易将杂乱、标签复杂的Python和NumPy数据结构转换为DataFrame对象；\n",
    "- 根据标签容易slicing,indexing和subsetting大数据集；\n",
    "- 容易合并和连接数据集；\n",
    "- 灵活地reshaping和pivoting数据集；\n",
    "- 多级标签；\n",
    "- 从各类文件中加载数据, 包括HDF5格式的数据；\n",
    "- 时间序列指定的功能：日期范围生成和频率转换,滑动窗口的统计, 滑动线性回归, 日期平移或滞后等。\n",
    "\n",
    "在数据处理的各个环节，包括变换和清洗数据，分析建模，组织分析结果为正式的格式，可视化和输出数据等，pandas都能很好地处理。\n",
    "\n",
    "## Pandas数据结构\n",
    "\n",
    "最好的理解Pandas数据结构的方式是将其当做其更低维数据的容器，比如Series是标量数据的容器，Dataframe是Series的容器。\n",
    "可以通过类似字典的方式从容器中插入或移除对象。\n",
    "\n",
    "pandas中为了更直观地给出数据结构不同维度的信息，更多用index和columns，而不是使用axis0和1这样来表示。例如：\n",
    "\n",
    "``` python\n",
    "for col in df.columns:\n",
    "    series = df[col]\n",
    "    # do something with series\n",
    "```\n",
    "\n",
    "pandas所有数据结构都是值可变的，但不总是size可变的。比如Series的长度是不可变的，但是Dataframe中是可以插入列的。\n",
    "绝大多数方法都会产生新的对象，而不改变原输入数据。一般来说，pandas喜欢保持不可变性。\n",
    "\n",
    "### Series与Dataframe\n",
    "\n",
    "对于pandas的这两个数据结构，个人认为从增删改查的角度了解较好，首先是数据结构的初始化，然后增删操作，包括拼接操作等，接下来就是修改名称等，而后重点关注索引切片等查询操作，最后再补充一些分组等其他内容。\n",
    "\n",
    "#### 初始化\n",
    "\n",
    "基本上来说，是利用numpy的数组为值依据，用columns和index给列和行起名。"
   ]
  },
  {
   "cell_type": "code",
   "execution_count": 5,
   "metadata": {},
   "outputs": [
    {
     "name": "stdout",
     "output_type": "stream",
     "text": [
      "Empty DataFrame\n",
      "Columns: [A, B, C, D]\n",
      "Index: []\n",
      "   a  b  c\n",
      "0  0  0  0\n",
      "1  1  1  1\n",
      "2  2  2  2\n",
      "   one  two  three  four\n",
      "a    0    1      2     3\n",
      "b    4    5      6     7\n",
      "c    8    9     10    11\n",
      "d   12   13     14    15\n",
      "            one  two  three  four\n",
      "2011-01-01    0    1      2     3\n",
      "2011-01-02    4    5      6     7\n",
      "2011-01-03    8    9     10    11\n",
      "2011-01-04   12   13     14    15\n",
      "            2011-01-01  2011-01-02  2011-01-03  2011-01-04\n",
      "2011-01-01           0           1           2           3\n",
      "2011-01-02           4           5           6           7\n",
      "2011-01-03           8           9          10          11\n",
      "2011-01-04          12          13          14          15\n"
     ]
    }
   ],
   "source": [
    "import numpy as np\n",
    "import pandas as pd\n",
    "from matplotlib import pyplot\n",
    "# 创建一个空的 DataFrame\n",
    "df_empty = pd.DataFrame(columns=['A', 'B', 'C', 'D'])\n",
    "print(df_empty)\n",
    "df = pd.DataFrame({\"a\": range(3), \"b\": range(3), \"c\": range(3)})\n",
    "print(df)\n",
    "# 使用numpy数组，命名行列进行初始化\n",
    "df2 = pd.DataFrame(np.arange(16).reshape((4,4)), columns=['one', 'two', 'three', 'four'], index=['a', 'b', 'c','d'])\n",
    "print(df2)\n",
    "# 带时间序列的dataframe的初始化\n",
    "time_range = pd.date_range('2011-1-1', periods=4, freq='D')\n",
    "df2.index = time_range\n",
    "print(df2)\n",
    "time_range = pd.date_range('2011-1-1', '2011-1-4', freq='D')\n",
    "df2.columns = time_range\n",
    "print(df2)"
   ]
  },
  {
   "cell_type": "markdown",
   "metadata": {},
   "source": [
    "和python基础，numpy一样，pandas也有自己的日期处理包，日期总是比较麻烦的。"
   ]
  },
  {
   "cell_type": "code",
   "execution_count": 12,
   "metadata": {},
   "outputs": [
    {
     "name": "stdout",
     "output_type": "stream",
     "text": [
      "<class 'pandas._libs.tslibs.timestamps.Timestamp'>\n",
      "<class 'pandas._libs.tslibs.timestamps.Timestamp'>\n",
      "<class 'pandas._libs.tslibs.timestamps.Timestamp'>\n",
      "<class 'str'>\n",
      "['2000-01', '2000-02', '2000-03', '2000-04', '2000-05', '2000-06', '2000-07', '2000-08', '2000-09', '2000-10']\n"
     ]
    },
    {
     "data": {
      "text/plain": [
       "2000-01     1\n",
       "2000-02     2\n",
       "2000-03     3\n",
       "2000-04     4\n",
       "2000-05     5\n",
       "2000-06     6\n",
       "2000-07     7\n",
       "2000-08     8\n",
       "2000-09     9\n",
       "2000-10    10\n",
       "Name: data, dtype: int64"
      ]
     },
     "execution_count": 12,
     "metadata": {},
     "output_type": "execute_result"
    }
   ],
   "source": [
    "# 日期／字符串转换\n",
    "strtime=['2000-01-31', '2000-02-29', '2000-03-31', '2000-04-30',\n",
    "               '2000-05-31', '2000-06-30', '2000-07-31', '2000-08-31',\n",
    "               '2000-09-30', '2000-10-31']\n",
    "index=pd.to_datetime(strtime)\n",
    "time=pd.to_datetime(strtime)\n",
    "data=list(range(1,11))\n",
    "df=pd.DataFrame([time,data],columns=index,index=['time','data']).T\n",
    "\n",
    "#索引和time字段均为Timestamp格式数据\n",
    "print(type(index[0]))\n",
    "\n",
    "print(type(df.index[0]))\n",
    "\n",
    "print(type(df.time[0]))\n",
    "\n",
    "\n",
    "#先来看索引\n",
    "mt_time=df.index.strftime('%Y-%m')\n",
    "mt_time\n",
    "\n",
    "print(type(mt_time[0]))\n",
    "\n",
    "#针对列（直接操作还不清楚怎么操作）\n",
    "time_list=[x.strftime('%Y-%m') for x in df['time']]\n",
    "print(time_list)\n",
    "#再按月份求和\n",
    "df['data'].groupby(time_list).sum()"
   ]
  },
  {
   "cell_type": "markdown",
   "metadata": {},
   "source": [
    "#### 增删，拼接等操作\n",
    "\n",
    "可参考：[Merge, join, and concatenate](https://www.pypandas.cn/docs/user_guide/merging.html#concatenating-objects)\n",
    "\n",
    "首先是纵向拼接。"
   ]
  },
  {
   "cell_type": "code",
   "execution_count": 10,
   "metadata": {},
   "outputs": [
    {
     "name": "stdout",
     "output_type": "stream",
     "text": [
      "      A    B    C    D\n",
      "0    A0   B0   C0   D0\n",
      "1    A1   B1   C1   D1\n",
      "2    A2   B2   C2   D2\n",
      "3    A3   B3   C3   D3\n",
      "4    A4   B4   C4   D4\n",
      "5    A5   B5   C5   D5\n",
      "6    A6   B6   C6   D6\n",
      "7    A7   B7   C7   D7\n",
      "8    A8   B8   C8   D8\n",
      "9    A9   B9   C9   D9\n",
      "10  A10  B10  C10  D10\n",
      "11  A11  B11  C11  D11\n"
     ]
    }
   ],
   "source": [
    "import pandas as pd\n",
    "df0 = pd.DataFrame()\n",
    "df1 = pd.DataFrame({'A': ['A0', 'A1', 'A2', 'A3'],\n",
    "                   'B': ['B0', 'B1', 'B2', 'B3'],\n",
    "                        'C': ['C0', 'C1', 'C2', 'C3'],\n",
    "                        'D': ['D0', 'D1', 'D2', 'D3']},\n",
    "                     index=[0, 1, 2, 3]) \n",
    "\n",
    "df2 = pd.DataFrame({'A': ['A4', 'A5', 'A6', 'A7'],\n",
    "                   'B': ['B4', 'B5', 'B6', 'B7'],\n",
    "                  'C': ['C4', 'C5', 'C6', 'C7'],\n",
    "                     'D': ['D4', 'D5', 'D6', 'D7']},\n",
    "                    index=[4, 5, 6, 7]) \n",
    "\n",
    "df3 = pd.DataFrame({'A': ['A8', 'A9', 'A10', 'A11'],\n",
    "                     'B': ['B8', 'B9', 'B10', 'B11'],\n",
    "                    'C': ['C8', 'C9', 'C10', 'C11'],\n",
    "                    'D': ['D8', 'D9', 'D10', 'D11']},\n",
    "                    index=[8, 9, 10, 11]) \n",
    "\n",
    "frames = [df0, df1, df2, df3]\n",
    "result = pd.concat(frames)\n",
    "print(result)"
   ]
  },
  {
   "cell_type": "markdown",
   "metadata": {},
   "source": [
    "一个多列拼接成一列的小例子"
   ]
  },
  {
   "cell_type": "code",
   "execution_count": 8,
   "metadata": {},
   "outputs": [
    {
     "name": "stdout",
     "output_type": "stream",
     "text": [
      "       a  c\n",
      "0  0-0-0  0\n",
      "1  1-1-1  1\n",
      "2  2-2-2  2\n"
     ]
    }
   ],
   "source": [
    "\"\"\"几列字符串拼为一列字符串\"\"\"\n",
    "# 结构很简单: 第一列的名称.str.cat(第二列的名称)\n",
    "df['a'] = df.iloc[:, 0].apply(str) + \"-\" + df['b'].apply(str) + \"-\" + df['b'].apply(str)\n",
    "# 拼接之后，只留下特定的几列\n",
    "df = df[['a', 'c']]\n",
    "print(df)"
   ]
  },
  {
   "cell_type": "markdown",
   "metadata": {},
   "source": [
    "多个Series拼接"
   ]
  },
  {
   "cell_type": "code",
   "execution_count": 9,
   "metadata": {},
   "outputs": [
    {
     "name": "stdout",
     "output_type": "stream",
     "text": [
      "2011-01-01    1\n",
      "2011-01-02    2\n",
      "Freq: D, Name: aa, dtype: int64\n",
      "             aa    0\n",
      "2011-01-01  1.0  NaN\n",
      "2011-01-02  2.0  2.0\n",
      "2011-01-03  NaN  3.0\n",
      "2011-01-04  NaN  4.0\n",
      "             aa    0    0\n",
      "2011-01-01  1.0  NaN  5.0\n",
      "2011-01-02  2.0  2.0  6.0\n",
      "2011-01-03  NaN  3.0  NaN\n",
      "2011-01-04  NaN  4.0  NaN\n"
     ]
    }
   ],
   "source": [
    "\"\"\"多个Series拼接\"\"\"\n",
    "# 初始化的时候不起名，后面rename没有用\n",
    "a = pd.Series([1, 2], name='aa')\n",
    "rng1 = pd.date_range('2011-1-1', periods=2, freq='D')\n",
    "a.index = rng1\n",
    "print(a)\n",
    "b = pd.Series([2, 3, 4])\n",
    "rng2 = pd.date_range('2011-1-2', periods=3, freq='D')\n",
    "b.index = rng2\n",
    "c = pd.Series([5, 6])\n",
    "rng3 = pd.date_range('2011-1-1', periods=2, freq='D')\n",
    "c.index = rng3\n",
    "series1 = pd.concat([a, b], axis=1)\n",
    "# 拼接时，给各列取名\n",
    "print(series1)\n",
    "df2 = pd.concat([series1, c], axis=1)\n",
    "print(df2)"
   ]
  },
  {
   "cell_type": "markdown",
   "metadata": {},
   "source": [
    "#### 修改操作\n",
    "\n",
    "包括修改行列名，以及交换行列等操作。"
   ]
  },
  {
   "cell_type": "code",
   "execution_count": null,
   "metadata": {},
   "outputs": [],
   "source": [
    "\"\"\"重新命名各列\"\"\"\n",
    "new_col = ['new1', 'new2', 'new3', 'new4']\n",
    "df2.columns = new_col\n",
    "print(df2)\n",
    "\n",
    "\"\"\"交换列的位置\"\"\"\n",
    "order = ['new2', 'new1', 'new3', 'new4']\n",
    "df2 = df2[order]\n",
    "print(df2)"
   ]
  },
  {
   "cell_type": "markdown",
   "metadata": {},
   "source": [
    "行列拆分，参考[DataFrame一列拆成多列以及一行拆成多行](https://blog.csdn.net/Asher117/article/details/84346073)，在数据分析时，经常需要把DataFrame的一列拆成多列或者根据某列把一行拆成多行。"
   ]
  },
  {
   "cell_type": "code",
   "execution_count": 5,
   "metadata": {},
   "outputs": [
    {
     "data": {
      "text/html": [
       "<div>\n",
       "<style scoped>\n",
       "    .dataframe tbody tr th:only-of-type {\n",
       "        vertical-align: middle;\n",
       "    }\n",
       "\n",
       "    .dataframe tbody tr th {\n",
       "        vertical-align: top;\n",
       "    }\n",
       "\n",
       "    .dataframe thead th {\n",
       "        text-align: right;\n",
       "    }\n",
       "</style>\n",
       "<table border=\"1\" class=\"dataframe\">\n",
       "  <thead>\n",
       "    <tr style=\"text-align: right;\">\n",
       "      <th></th>\n",
       "      <th>Country</th>\n",
       "      <th>City</th>\n",
       "    </tr>\n",
       "  </thead>\n",
       "  <tbody>\n",
       "    <tr>\n",
       "      <td>0</td>\n",
       "      <td>China</td>\n",
       "      <td>Shanghai|Shenzhen</td>\n",
       "    </tr>\n",
       "    <tr>\n",
       "      <td>1</td>\n",
       "      <td>America</td>\n",
       "      <td>New York|State College</td>\n",
       "    </tr>\n",
       "    <tr>\n",
       "      <td>2</td>\n",
       "      <td>Japan</td>\n",
       "      <td>Tokyo|Osaka</td>\n",
       "    </tr>\n",
       "  </tbody>\n",
       "</table>\n",
       "</div>"
      ],
      "text/plain": [
       "   Country                    City\n",
       "0    China       Shanghai|Shenzhen\n",
       "1  America  New York|State College\n",
       "2    Japan             Tokyo|Osaka"
      ]
     },
     "execution_count": 5,
     "metadata": {},
     "output_type": "execute_result"
    }
   ],
   "source": [
    "import pandas as pd\n",
    "\n",
    "df= pd.DataFrame({'Country': ['China', 'America', 'Japan'],\n",
    "                   'City': ['Shanghai|Shenzhen', 'New York|State College', 'Tokyo|Osaka']},\n",
    "                     index=[0, 1, 2])\n",
    "df"
   ]
  },
  {
   "cell_type": "code",
   "execution_count": 6,
   "metadata": {},
   "outputs": [
    {
     "data": {
      "text/html": [
       "<div>\n",
       "<style scoped>\n",
       "    .dataframe tbody tr th:only-of-type {\n",
       "        vertical-align: middle;\n",
       "    }\n",
       "\n",
       "    .dataframe tbody tr th {\n",
       "        vertical-align: top;\n",
       "    }\n",
       "\n",
       "    .dataframe thead th {\n",
       "        text-align: right;\n",
       "    }\n",
       "</style>\n",
       "<table border=\"1\" class=\"dataframe\">\n",
       "  <thead>\n",
       "    <tr style=\"text-align: right;\">\n",
       "      <th></th>\n",
       "      <th>Country</th>\n",
       "      <th>City</th>\n",
       "      <th>Citys</th>\n",
       "    </tr>\n",
       "  </thead>\n",
       "  <tbody>\n",
       "    <tr>\n",
       "      <td>0</td>\n",
       "      <td>China</td>\n",
       "      <td>Shanghai|Shenzhen</td>\n",
       "      <td>[Shanghai, Shenzhen]</td>\n",
       "    </tr>\n",
       "    <tr>\n",
       "      <td>1</td>\n",
       "      <td>America</td>\n",
       "      <td>New York|State College</td>\n",
       "      <td>[New York, State College]</td>\n",
       "    </tr>\n",
       "    <tr>\n",
       "      <td>2</td>\n",
       "      <td>Japan</td>\n",
       "      <td>Tokyo|Osaka</td>\n",
       "      <td>[Tokyo, Osaka]</td>\n",
       "    </tr>\n",
       "  </tbody>\n",
       "</table>\n",
       "</div>"
      ],
      "text/plain": [
       "   Country                    City                      Citys\n",
       "0    China       Shanghai|Shenzhen       [Shanghai, Shenzhen]\n",
       "1  America  New York|State College  [New York, State College]\n",
       "2    Japan             Tokyo|Osaka             [Tokyo, Osaka]"
      ]
     },
     "execution_count": 6,
     "metadata": {},
     "output_type": "execute_result"
    }
   ],
   "source": [
    "df['Citys']=df['City'].map(lambda x: x.split('|'))\n",
    "df"
   ]
  },
  {
   "cell_type": "code",
   "execution_count": 7,
   "metadata": {},
   "outputs": [
    {
     "data": {
      "text/html": [
       "<div>\n",
       "<style scoped>\n",
       "    .dataframe tbody tr th:only-of-type {\n",
       "        vertical-align: middle;\n",
       "    }\n",
       "\n",
       "    .dataframe tbody tr th {\n",
       "        vertical-align: top;\n",
       "    }\n",
       "\n",
       "    .dataframe thead th {\n",
       "        text-align: right;\n",
       "    }\n",
       "</style>\n",
       "<table border=\"1\" class=\"dataframe\">\n",
       "  <thead>\n",
       "    <tr style=\"text-align: right;\">\n",
       "      <th></th>\n",
       "      <th>Country</th>\n",
       "      <th>City</th>\n",
       "      <th>Citys</th>\n",
       "      <th>City1</th>\n",
       "      <th>City2</th>\n",
       "    </tr>\n",
       "  </thead>\n",
       "  <tbody>\n",
       "    <tr>\n",
       "      <td>0</td>\n",
       "      <td>China</td>\n",
       "      <td>Shanghai|Shenzhen</td>\n",
       "      <td>[Shanghai, Shenzhen]</td>\n",
       "      <td>Shanghai</td>\n",
       "      <td>Shenzhen</td>\n",
       "    </tr>\n",
       "    <tr>\n",
       "      <td>1</td>\n",
       "      <td>America</td>\n",
       "      <td>New York|State College</td>\n",
       "      <td>[New York, State College]</td>\n",
       "      <td>New York</td>\n",
       "      <td>State College</td>\n",
       "    </tr>\n",
       "    <tr>\n",
       "      <td>2</td>\n",
       "      <td>Japan</td>\n",
       "      <td>Tokyo|Osaka</td>\n",
       "      <td>[Tokyo, Osaka]</td>\n",
       "      <td>Tokyo</td>\n",
       "      <td>Osaka</td>\n",
       "    </tr>\n",
       "  </tbody>\n",
       "</table>\n",
       "</div>"
      ],
      "text/plain": [
       "   Country                    City                      Citys     City1  \\\n",
       "0    China       Shanghai|Shenzhen       [Shanghai, Shenzhen]  Shanghai   \n",
       "1  America  New York|State College  [New York, State College]  New York   \n",
       "2    Japan             Tokyo|Osaka             [Tokyo, Osaka]     Tokyo   \n",
       "\n",
       "           City2  \n",
       "0       Shenzhen  \n",
       "1  State College  \n",
       "2          Osaka  "
      ]
     },
     "execution_count": 7,
     "metadata": {},
     "output_type": "execute_result"
    }
   ],
   "source": [
    "df['City1']=df['City'].map(lambda x: x.split('|')[0])\n",
    "df['City2']=df['City'].map(lambda x: x.split('|')[1])\n",
    "df"
   ]
  },
  {
   "cell_type": "markdown",
   "metadata": {},
   "source": [
    "再比如，常见的日期拆分，"
   ]
  },
  {
   "cell_type": "markdown",
   "metadata": {},
   "source": [
    "#### 索引，切片等操作\n",
    "\n",
    "首先是直接[]索引，以及loc和iloc的使用，这是pandas中最常用的索引方式。"
   ]
  },
  {
   "cell_type": "code",
   "execution_count": 16,
   "metadata": {},
   "outputs": [
    {
     "data": {
      "text/plain": [
       "5"
      ]
     },
     "execution_count": 16,
     "metadata": {},
     "output_type": "execute_result"
    }
   ],
   "source": [
    "import numpy as np\n",
    "import pandas as pd\n",
    "\n",
    "ser = pd.Series(np.arange(3.))\n",
    "\n",
    "data = pd.DataFrame(np.arange(16).reshape(4,4),index=list('abcd'),columns=list('wxyz'))\n",
    "\n",
    "data['w']  #选择表格中的'w'列，使用类字典属性,返回的是Series类型\n",
    "\n",
    "data.w    #选择表格中的'w'列，使用点属性,返回的是Series类型\n",
    "\n",
    "data[['w']]  #选择表格中的'w'列，返回的是DataFrame属性\n",
    "\n",
    "data[['w','z']]  #选择表格中的'w'、'z'列\n",
    "\n",
    "data[0:2]  #返回第1行到第2行的所有行，前闭后开，包括前不包括后\n",
    "\n",
    "data[1:2]  #返回第2行，从0计，返回的是单行，通过有前后值的索引形式，\n",
    "       #如果采用data[1]则报错\n",
    "\n",
    "data.iloc[1:2] #返回第2行的第三种方法，返回的是DataFrame，跟data[1:2]同\n",
    "\n",
    "data['a':'b']  #利用index值进行切片，返回的是**前闭后闭**的DataFrame, \n",
    "\n",
    "data.head()  #返回data的前几行数据，默认为前五行，需要前十行则dta.head(10)\n",
    "data.tail()  #返回data的后几行数据，默认为后五行，需要后十行则data.tail(10)\n",
    "\n",
    "\n",
    "data.iloc[-1]   #选取DataFrame最后一行，返回的是Series\n",
    "data.iloc[-1:]   #选取DataFrame最后一行，返回的是DataFrame\n",
    "\n",
    "data.loc['a',['w','x']]   #返回‘a’行'w'、'x'列，这种用于选取行索引列索引已知\n",
    "\n",
    "data.iat[1,1]   #选取第二行第二列，用于已知行、列位置的选取。"
   ]
  },
  {
   "cell_type": "code",
   "execution_count": 7,
   "metadata": {},
   "outputs": [
    {
     "name": "stdout",
     "output_type": "stream",
     "text": [
      "            new1  new2  new3  new4\n",
      "2011-01-01     0     1     2     3\n",
      "2011-01-02     4     5     6     7\n",
      "2011-01-03     8     9    10    11\n",
      "2011-01-04    12    13    14    15\n",
      "            new2  new1  new3  new4\n",
      "2011-01-01     1     0     2     3\n",
      "2011-01-02     5     4     6     7\n",
      "2011-01-03     9     8    10    11\n",
      "2011-01-04    13    12    14    15\n",
      "            new2  new1  new3  new4\n",
      "2011-01-01     1     0     2     3\n",
      "2011-01-02     5     4     6     7\n",
      "            new2  new1\n",
      "2011-01-01     1     0\n",
      "2011-01-02     5     4\n",
      "2011-01-03     9     8\n",
      "2011-01-04    13    12\n",
      "            new2  new1\n",
      "2011-01-01     1     0\n",
      "2011-01-02     5     4\n",
      "2011-01-01    0\n",
      "2011-01-02    4\n",
      "Freq: D, Name: new1, dtype: int32\n",
      "            new2  new1  new3  new4\n",
      "2011-01-01     1     0     2     3\n",
      "2011-01-02     5     4     6     7\n",
      "2011-01-03     9     8    10    11\n",
      "2011-01-04    13    12    14    15\n",
      "<class 'pandas.core.indexes.datetimes.DatetimeIndex'>\n",
      "---------获取2011年前两天的数据-----------\n",
      "            new2  new1  new3  new4\n",
      "2011-01-01     1     0     2     3\n",
      "2011-01-02     5     4     6     7\n"
     ]
    }
   ],
   "source": [
    "\"\"\"取dataframe指定多行列 slice操作\"\"\"\n",
    "# 取多行\n",
    "print(df2.iloc[0:2])\n",
    "# 取多列\n",
    "print(df2.iloc[:, 0:2])\n",
    "# 取多行多列\n",
    "print(df2.iloc[0:2, 0:2])\n",
    "# 行用数字取，列用名字取\n",
    "print(df2.iloc[0:2]['new1'])\n",
    "\n",
    "\"\"\"按日期取值并处理\"\"\"\n",
    "print(df2)\n",
    "print(type(df2.index))\n",
    "print('---------获取2011年前两天的数据-----------')\n",
    "# 获取某段日期内的数据\n",
    "print(df2['2011-01-01':'2011-01-02'])\n"
   ]
  },
  {
   "cell_type": "markdown",
   "metadata": {},
   "source": [
    "series的slice"
   ]
  },
  {
   "cell_type": "code",
   "execution_count": 3,
   "metadata": {},
   "outputs": [
    {
     "name": "stdout",
     "output_type": "stream",
     "text": [
      "------------------Series查询操作----------------------\n",
      "1\n",
      "a    1\n",
      "b    2\n",
      "dtype: int64\n",
      "c    3\n",
      "d    4\n",
      "dtype: int64\n",
      "a    1\n",
      "b    2\n",
      "dtype: int64\n",
      "a    1\n",
      "b    2\n",
      "c    3\n",
      "dtype: int64\n"
     ]
    }
   ],
   "source": [
    "\"\"\"给Series作slice操作\"\"\"\n",
    "arr = [1, 2, 3, 4]  # 创建数组\n",
    "series_1 = pd.Series(arr)\n",
    "series_1.index = ['a', 'b', 'c', 'd']\n",
    "print(\"------------------Series查询操作----------------------\")\n",
    "print(series_1['a'])\n",
    "print(series_1[['a', 'b']])\n",
    "print(series_1[series_1 > 2])\n",
    "print(series_1[:2])\n",
    "print(series_1['a':'c'])"
   ]
  },
  {
   "cell_type": "markdown",
   "metadata": {},
   "source": [
    "在dataframe中还常用到条件筛选。参考[30分钟带你入门数据分析工具 Pandas（上篇），果断收藏](https://zhuanlan.zhihu.com/p/44174554)，用中括号 [] 的方式，除了直接指定选中某些列外，还能接收一个条件语句，然后筛选出符合条件的行/列。比如："
   ]
  },
  {
   "cell_type": "code",
   "execution_count": 1,
   "metadata": {},
   "outputs": [
    {
     "name": "stdout",
     "output_type": "stream",
     "text": [
      "          W         X         Y         Z\n",
      "C  0.479199  1.551477  1.305261 -0.191563\n",
      "D  1.388126  0.176622 -0.475049 -1.042992\n",
      "\n",
      "\n",
      "C    1.551477\n",
      "D    0.176622\n",
      "Name: X, dtype: float64\n",
      "\n",
      "\n",
      "          X         Y\n",
      "C  1.551477  1.305261\n",
      "D  0.176622 -0.475049\n"
     ]
    }
   ],
   "source": [
    "import pandas as pd\n",
    "import numpy as np\n",
    "df=pd.DataFrame(np.random.randn(5,4),['A','B','C','D','E'],['W','X','Y','Z'])\n",
    "# 筛选出 'W'>0 的行\n",
    "print(df[df['W']>0])\n",
    "print('\\n')\n",
    "# 只看 'X' 列中 'W'>0 的数据\n",
    "print(df[df['W']>0]['X'])\n",
    "print('\\n')\n",
    "print(df[df['W']>0][['X','Y']])"
   ]
  },
  {
   "cell_type": "markdown",
   "metadata": {},
   "source": [
    "还可以用逻辑运算符 &（与）和 |（或）来链接多个条件语句，以便一次应用多个筛选条件到当前的 DataFrame 上，比如筛选出同时满足 'W'>0 和'X'>1 的行："
   ]
  },
  {
   "cell_type": "code",
   "execution_count": 2,
   "metadata": {},
   "outputs": [
    {
     "data": {
      "text/html": [
       "<div>\n",
       "<style scoped>\n",
       "    .dataframe tbody tr th:only-of-type {\n",
       "        vertical-align: middle;\n",
       "    }\n",
       "\n",
       "    .dataframe tbody tr th {\n",
       "        vertical-align: top;\n",
       "    }\n",
       "\n",
       "    .dataframe thead th {\n",
       "        text-align: right;\n",
       "    }\n",
       "</style>\n",
       "<table border=\"1\" class=\"dataframe\">\n",
       "  <thead>\n",
       "    <tr style=\"text-align: right;\">\n",
       "      <th></th>\n",
       "      <th>W</th>\n",
       "      <th>X</th>\n",
       "      <th>Y</th>\n",
       "      <th>Z</th>\n",
       "    </tr>\n",
       "  </thead>\n",
       "  <tbody>\n",
       "    <tr>\n",
       "      <td>C</td>\n",
       "      <td>0.479199</td>\n",
       "      <td>1.551477</td>\n",
       "      <td>1.305261</td>\n",
       "      <td>-0.191563</td>\n",
       "    </tr>\n",
       "  </tbody>\n",
       "</table>\n",
       "</div>"
      ],
      "text/plain": [
       "          W         X         Y         Z\n",
       "C  0.479199  1.551477  1.305261 -0.191563"
      ]
     },
     "execution_count": 2,
     "metadata": {},
     "output_type": "execute_result"
    }
   ],
   "source": [
    "df[(df['W']>0) & (df['X']>1)]"
   ]
  },
  {
   "cell_type": "markdown",
   "metadata": {},
   "source": [
    "再比如，还可以让列之间进行比较并作为索引条件"
   ]
  },
  {
   "cell_type": "code",
   "execution_count": 4,
   "metadata": {},
   "outputs": [
    {
     "data": {
      "text/html": [
       "<div>\n",
       "<style scoped>\n",
       "    .dataframe tbody tr th:only-of-type {\n",
       "        vertical-align: middle;\n",
       "    }\n",
       "\n",
       "    .dataframe tbody tr th {\n",
       "        vertical-align: top;\n",
       "    }\n",
       "\n",
       "    .dataframe thead th {\n",
       "        text-align: right;\n",
       "    }\n",
       "</style>\n",
       "<table border=\"1\" class=\"dataframe\">\n",
       "  <thead>\n",
       "    <tr style=\"text-align: right;\">\n",
       "      <th></th>\n",
       "      <th>W</th>\n",
       "      <th>X</th>\n",
       "      <th>Y</th>\n",
       "      <th>Z</th>\n",
       "    </tr>\n",
       "  </thead>\n",
       "  <tbody>\n",
       "    <tr>\n",
       "      <td>A</td>\n",
       "      <td>-2.003236</td>\n",
       "      <td>0.294592</td>\n",
       "      <td>-0.626207</td>\n",
       "      <td>0.711485</td>\n",
       "    </tr>\n",
       "    <tr>\n",
       "      <td>B</td>\n",
       "      <td>-0.744839</td>\n",
       "      <td>-0.517342</td>\n",
       "      <td>-0.276921</td>\n",
       "      <td>0.975167</td>\n",
       "    </tr>\n",
       "    <tr>\n",
       "      <td>C</td>\n",
       "      <td>0.479199</td>\n",
       "      <td>1.551477</td>\n",
       "      <td>1.305261</td>\n",
       "      <td>-0.191563</td>\n",
       "    </tr>\n",
       "    <tr>\n",
       "      <td>D</td>\n",
       "      <td>1.388126</td>\n",
       "      <td>0.176622</td>\n",
       "      <td>-0.475049</td>\n",
       "      <td>-1.042992</td>\n",
       "    </tr>\n",
       "    <tr>\n",
       "      <td>E</td>\n",
       "      <td>-0.484756</td>\n",
       "      <td>1.224973</td>\n",
       "      <td>0.043494</td>\n",
       "      <td>0.814796</td>\n",
       "    </tr>\n",
       "  </tbody>\n",
       "</table>\n",
       "</div>"
      ],
      "text/plain": [
       "          W         X         Y         Z\n",
       "A -2.003236  0.294592 -0.626207  0.711485\n",
       "B -0.744839 -0.517342 -0.276921  0.975167\n",
       "C  0.479199  1.551477  1.305261 -0.191563\n",
       "D  1.388126  0.176622 -0.475049 -1.042992\n",
       "E -0.484756  1.224973  0.043494  0.814796"
      ]
     },
     "execution_count": 4,
     "metadata": {},
     "output_type": "execute_result"
    }
   ],
   "source": [
    "df"
   ]
  },
  {
   "cell_type": "code",
   "execution_count": 6,
   "metadata": {},
   "outputs": [
    {
     "data": {
      "text/html": [
       "<div>\n",
       "<style scoped>\n",
       "    .dataframe tbody tr th:only-of-type {\n",
       "        vertical-align: middle;\n",
       "    }\n",
       "\n",
       "    .dataframe tbody tr th {\n",
       "        vertical-align: top;\n",
       "    }\n",
       "\n",
       "    .dataframe thead th {\n",
       "        text-align: right;\n",
       "    }\n",
       "</style>\n",
       "<table border=\"1\" class=\"dataframe\">\n",
       "  <thead>\n",
       "    <tr style=\"text-align: right;\">\n",
       "      <th></th>\n",
       "      <th>W</th>\n",
       "      <th>X</th>\n",
       "      <th>Y</th>\n",
       "      <th>Z</th>\n",
       "    </tr>\n",
       "  </thead>\n",
       "  <tbody>\n",
       "    <tr>\n",
       "      <td>A</td>\n",
       "      <td>-2.003236</td>\n",
       "      <td>0.294592</td>\n",
       "      <td>-0.626207</td>\n",
       "      <td>0.711485</td>\n",
       "    </tr>\n",
       "    <tr>\n",
       "      <td>B</td>\n",
       "      <td>-0.744839</td>\n",
       "      <td>-0.517342</td>\n",
       "      <td>-0.276921</td>\n",
       "      <td>0.975167</td>\n",
       "    </tr>\n",
       "    <tr>\n",
       "      <td>C</td>\n",
       "      <td>0.479199</td>\n",
       "      <td>1.551477</td>\n",
       "      <td>1.305261</td>\n",
       "      <td>-0.191563</td>\n",
       "    </tr>\n",
       "    <tr>\n",
       "      <td>E</td>\n",
       "      <td>-0.484756</td>\n",
       "      <td>1.224973</td>\n",
       "      <td>0.043494</td>\n",
       "      <td>0.814796</td>\n",
       "    </tr>\n",
       "  </tbody>\n",
       "</table>\n",
       "</div>"
      ],
      "text/plain": [
       "          W         X         Y         Z\n",
       "A -2.003236  0.294592 -0.626207  0.711485\n",
       "B -0.744839 -0.517342 -0.276921  0.975167\n",
       "C  0.479199  1.551477  1.305261 -0.191563\n",
       "E -0.484756  1.224973  0.043494  0.814796"
      ]
     },
     "execution_count": 6,
     "metadata": {},
     "output_type": "execute_result"
    }
   ],
   "source": [
    "df[df['W']<df['X']]"
   ]
  },
  {
   "cell_type": "markdown",
   "metadata": {},
   "source": [
    "#### 分组\n",
    "\n",
    "对dataframe进行分组的例子。"
   ]
  },
  {
   "cell_type": "code",
   "execution_count": 5,
   "metadata": {
    "pycharm": {
     "is_executing": false,
     "name": "#%%\n"
    }
   },
   "outputs": [
    {
     "name": "stdout",
     "output_type": "stream",
     "text": [
      "Index(['name', 'Year', 'Salary', 'Bonus'], dtype='object')\n",
      "<class 'pandas.core.frame.DataFrame'>\n",
      "RangeIndex: 8 entries, 0 to 7\n",
      "Data columns (total 4 columns):\n",
      "name      8 non-null object\n",
      "Year      8 non-null int64\n",
      "Salary    8 non-null int64\n",
      "Bonus     8 non-null int64\n",
      "dtypes: int64(3), object(1)\n",
      "memory usage: 384.0+ bytes\n",
      "None\n",
      "              Year        Salary          Bonus\n",
      "count     8.000000  8.000000e+00       8.000000\n",
      "mean   2016.500000  1.631437e+06  131000.000000\n",
      "std       0.534522  3.416521e+06  152851.935826\n",
      "min    2016.000000  3.000000e+03    3000.000000\n",
      "25%    2016.000000  1.587500e+04   16250.000000\n",
      "50%    2016.500000  5.124995e+05   60000.000000\n",
      "75%    2017.000000  9.999990e+05  225000.000000\n",
      "max    2017.000000  9.999999e+06  400000.000000\n",
      "    name  Year   Salary   Bonus\n",
      "0   BOSS  2016   999999  100000\n",
      "1  Lilei  2016    20000   20000\n",
      "2  Lilei  2016    25000   20000\n",
      "3    Han  2016     3000    5000\n",
      "4   BOSS  2017  9999999  200000\n",
      "5   BOSS  2017   999999  300000\n",
      "6    Han  2017     3500    3000\n",
      "7   BOSS  2017   999999  400000\n",
      "    name  Year  Salary  Bonus\n",
      "1  Lilei  2016   20000  20000\n",
      "2  Lilei  2016   25000  20000\n",
      "         Year        Salary    Bonus\n",
      "count     2.0      2.000000      2.0\n",
      "mean   2016.0  22500.000000  20000.0\n",
      "std       0.0   3535.533906      0.0\n",
      "min    2016.0  20000.000000  20000.0\n",
      "25%    2016.0  21250.000000  20000.0\n",
      "50%    2016.0  22500.000000  20000.0\n",
      "75%    2016.0  23750.000000  20000.0\n",
      "max    2016.0  25000.000000  20000.0\n",
      "BOSS\n",
      "Han\n",
      "Lilei\n",
      "<class 'pandas.core.frame.DataFrame'>\n",
      "   name  Year   Salary   Bonus\n",
      "0  BOSS  2016   999999  100000\n",
      "4  BOSS  2017  9999999  200000\n",
      "5  BOSS  2017   999999  300000\n",
      "7  BOSS  2017   999999  400000\n",
      "<class 'pandas.core.frame.DataFrame'>\n",
      "    name  Year  Salary  Bonus\n",
      "1  Lilei  2016   20000  20000\n",
      "2  Lilei  2016   25000  20000\n",
      "<class 'tuple'>\n",
      "('BOSS',    name  Year   Salary   Bonus\n",
      "0  BOSS  2016   999999  100000\n",
      "4  BOSS  2017  9999999  200000\n",
      "5  BOSS  2017   999999  300000\n",
      "7  BOSS  2017   999999  400000)\n",
      "<class 'tuple'>\n",
      "('Han',   name  Year  Salary  Bonus\n",
      "3  Han  2016    3000   5000\n",
      "6  Han  2017    3500   3000)\n",
      "<class 'tuple'>\n",
      "('Lilei',     name  Year  Salary  Bonus\n",
      "1  Lilei  2016   20000  20000\n",
      "2  Lilei  2016   25000  20000)\n"
     ]
    }
   ],
   "source": [
    "salaries = pd.DataFrame({\n",
    "    'name': ['BOSS', 'Lilei', 'Lilei', 'Han', 'BOSS', 'BOSS', 'Han', 'BOSS'],\n",
    "    'Year': [2016, 2016, 2016, 2016, 2017, 2017, 2017, 2017],\n",
    "    'Salary': [999999, 20000, 25000, 3000, 9999999, 999999, 3500, 999999],\n",
    "    'Bonus': [100000, 20000, 20000, 5000, 200000, 300000, 3000, 400000]\n",
    "})\n",
    "print(salaries.columns)\n",
    "print(salaries.info())\n",
    "print(salaries.describe())\n",
    "salaries = salaries[['name', 'Year', 'Salary', 'Bonus']]\n",
    "# 定顺序\n",
    "print(salaries)\n",
    "# 对dataframe按name进行分组\n",
    "group_by_name = salaries.groupby('name')\n",
    "# 获取分组后的某一组\n",
    "se_temp = group_by_name.get_group('Lilei')\n",
    "print(se_temp)\n",
    "print(se_temp.describe())\n",
    "# 循环各组，并将名字在给定的序列中的group添加到数组中\n",
    "config = pd.Series({'names': ['Lilei', 'BOSS']})\n",
    "dfs = []\n",
    "for name, group in group_by_name:\n",
    "    print(name)\n",
    "    if name in config['names']:\n",
    "        dfs.append(group)\n",
    "\n",
    "for i in range(len(dfs)):\n",
    "    # 如果没有把name和group分开，那么dfs[i]的类型会是tuple，key为name，value是group，可参考接下来的输出\n",
    "    print(type(dfs[i]))\n",
    "    print(dfs[i])\n",
    "\n",
    "# 如果没有把name和group分开，那么dfs[i]的类型会是tuple，key为name，value是group\n",
    "dfs_s = []\n",
    "for group in group_by_name:\n",
    "    dfs_s.append(group)\n",
    "for i in range(len(dfs_s)):\n",
    "    print(type(dfs_s[i]))\n",
    "    print(dfs_s[i])"
   ]
  },
  {
   "cell_type": "markdown",
   "metadata": {},
   "source": [
    "### pandas与numpy数据结构之间的转换\n",
    "\n",
    "pandas转为numpy比较简单，直接调用value即转为ndarray。反过来，也很容易，直接用pandas的类型，相当于直接初始化了。"
   ]
  },
  {
   "cell_type": "code",
   "execution_count": 21,
   "metadata": {
    "pycharm": {
     "name": "#%%\n"
    }
   },
   "outputs": [
    {
     "name": "stdout",
     "output_type": "stream",
     "text": [
      "   A  B  C\n",
      "0  1  4  7\n",
      "1  2  5  8\n",
      "2  3  6  9\n",
      "[[1 4 7]\n",
      " [2 5 8]\n",
      " [3 6 9]]\n",
      "[[1 4 7]\n",
      " [2 5 8]\n",
      " [3 6 9]]\n",
      "0    1\n",
      "1    2\n",
      "2    3\n",
      "Name: A, dtype: int64\n",
      "0    1\n",
      "1    2\n",
      "2    3\n",
      "Name: A, dtype: int64\n",
      "[1 2 3]\n",
      "series转为ndarray：\n",
      "['New York' 'Chicago' 'Toronto' 'Lisbon' 'Rio']\n",
      "City 1    New York\n",
      "City 2     Chicago\n",
      "City 3     Toronto\n",
      "City 4      Lisbon\n",
      "City 5         Rio\n",
      "dtype: object\n"
     ]
    }
   ],
   "source": [
    "# pandas dataframe与numpy array之间的转换\n",
    "df = pd.DataFrame({'A': [1, 2, 3], 'B': [4, 5, 6], 'C': [7, 8, 9]})\n",
    "print(df)\n",
    "# df转换为ndarray\n",
    "array_from_df=df.values\n",
    "print(array_from_df)\n",
    "print(np.array(df))\n",
    "# 读取某一列数据，两种方式均可\n",
    "print(df['A'])\n",
    "print(df.loc[:, 'A'])\n",
    "# 一列数据转换为ndarray\n",
    "print(np.array(df['A']))\n",
    "# Series转ndarray\n",
    "# Creating the Series\n",
    "sr = pd.Series(['New York', 'Chicago', 'Toronto', 'Lisbon', 'Rio'])\n",
    "# Create the Index\n",
    "index_ = ['City 1', 'City 2', 'City 3', 'City 4', 'City 5']\n",
    "# set the index\n",
    "sr.index = index_\n",
    "# return numpy array representation\n",
    "result = sr.values\n",
    "# Print the result\n",
    "print(\"series转为ndarray：\")\n",
    "print(result)\n",
    "# Print the series\n",
    "print(sr)"
   ]
  },
  {
   "cell_type": "markdown",
   "metadata": {},
   "source": [
    "## Pandas数据分析\n",
    "\n",
    "从数据读取、处理、分析和可视化及输出几个方面展开。\n",
    "\n",
    "### IO工具\n",
    "\n",
    "对于csv文件和txt文件，都可以通过pandas的read_csv()函数读取。"
   ]
  },
  {
   "cell_type": "code",
   "execution_count": 5,
   "metadata": {
    "pycharm": {
     "is_executing": false,
     "name": "#%%\n"
    }
   },
   "outputs": [
    {
     "name": "stdout",
     "output_type": "stream",
     "text": [
      "col1,col2,col3\n",
      "a,b,01\n",
      "a,b,02\n",
      "c,d,03\n",
      "  col1 col2  col3\n",
      "0    a    b     1\n",
      "1    a    b     2\n",
      "2    c    d     3\n",
      "  col1 col2\n",
      "0    a    b\n",
      "1    a    b\n",
      "2    c    d\n",
      "  col1  col3\n",
      "0    a     1\n",
      "1    a     2\n",
      "2    c     3\n",
      "  col1 col2  col3\n",
      "0    a    b     2\n"
     ]
    }
   ],
   "source": [
    "from io import StringIO, BytesIO\n",
    "\n",
    "data = ('col1,col2,col3\\n'\n",
    "         'a,b,01\\n'\n",
    "         'a,b,02\\n'\n",
    "         'c,d,03')\n",
    "print(data)\n",
    "print(pd.read_csv(StringIO(data)))\n",
    "# 读取数据的时候即进行slice\n",
    "print(pd.read_csv(StringIO(data), usecols=range(0,2)))\n",
    "print(pd.read_csv(StringIO(data), usecols=lambda x: x.upper() in ['COL1', 'COL3']))\n",
    "print(pd.read_csv(StringIO(data), skiprows=lambda x: x % 2 != 0))"
   ]
  },
  {
   "cell_type": "markdown",
   "metadata": {},
   "source": [
    "\"\"\"专业方面，很多数据都是把年月或者年旬或者年日分别当做行和列，在计算时，需要进行处理，把时间变为一列或一行，即把几列或行的数组拼接起来\n",
    "即将[1 2;2 3]的数据变为[1 2 2 3]，pandas的concat和numpy的concatenate类似。最后把行名index统一换成日期，构成时间序列Series\"\"\""
   ]
  },
  {
   "cell_type": "code",
   "execution_count": 6,
   "metadata": {},
   "outputs": [
    {
     "name": "stdout",
     "output_type": "stream",
     "text": [
      "                                     旬流量   单位:m3/s\n",
      "旬平均   1970 1971 1972 1973 1974 1975           1976\n",
      "1月上旬  946  958  1030 900  861  1060            975\n",
      "1月中旬  895  908  969  895  885  1030            890\n",
      "1月下旬  891  947  891  916  868  958             885\n",
      "2月上旬  887  1050 933  885  993  967             914\n",
      "2月中旬  919  1060 991  926  927  1030            909\n",
      "2月下旬  1060 1150 1120 967  1100 1150           1090\n",
      "3月上旬  1040 1150 967  949  937  1260            974\n",
      "3月中旬  1160 1260 1230 961  980  1340           1130\n",
      "3月下旬  1210 1110 1170 973  1080 1300           1100\n",
      "4月上旬  1410 1180 1330 1350 1730 1500           1420\n",
      "4月中旬  1770 1370 1500 1440 1840 1330           1790\n",
      "4月下旬  1700 1330 1870 1160 1740 1390           1610\n",
      "5月上旬  2510 2030 2020 2230 2410 2180           2290\n",
      "5月中旬  4460 1870 2350 2680 2510 2440           2100\n",
      "5月下旬  2720 2690 2950 2670 2860 2480           3240\n",
      "6月上旬  3030 3400 3030 3590 2700 2380           3560\n",
      "6月中旬  2300 3610 3250 6400 3280 3760           3470\n",
      "6月下旬  2860 5380 4390 6100 5320 4150           5040\n",
      "7月上旬  5010 4450 4810 7680 5430 5120           5920\n",
      "7月中旬  5360 4990 5390 6130 4150 4670           6560\n",
      "7月下旬  7090 3840 8030 3490 6650 9660           4330\n",
      "8月上旬  6830 3460 3710 3920 5270 5710           4870\n",
      "8月中旬  5750 7080 1910 3020 5180 6370           4170\n",
      "8月下旬  4030 3760 3300 4910 6160 2990           6900\n",
      "9月上旬  2620 2510 2330 3060 5130 7670           4520\n",
      "9月中旬  2380 2990 2280 4500 5300 4840           4220\n",
      "9月下旬  2760 3580 2120 2790 4960 3480           5060\n",
      "10月上旬 2510 3710 1760 2260 2510 3460           2880\n",
      "10月中旬 2620 3790 2110 2640 2780 4270           4550\n",
      "10月下旬 2060 3390 1990 2470 2570 3270           3670\n",
      "11月上旬 1780 2120 1280 1910 1990 2580           2070\n",
      "11月中旬 1630 1820 1410 1480 1920 2440           1920\n",
      "11月下旬 1400 1470 1210 1280 1530 1680           1450\n",
      "12月上旬 1220 1210 1070 1130 1390 1380           1190\n",
      "12月中旬 1150 1180 993  1160 1260 1310           1050\n",
      "12月下旬 1050 1060 917  913  1060 1070           1110\n",
      "      旬平均  1970  1971  1972  1973  1974  1975  1976\n",
      "0    1月上旬   946   958  1030   900   861  1060   975\n",
      "1    1月中旬   895   908   969   895   885  1030   890\n",
      "2    1月下旬   891   947   891   916   868   958   885\n",
      "3    2月上旬   887  1050   933   885   993   967   914\n",
      "4    2月中旬   919  1060   991   926   927  1030   909\n",
      "5    2月下旬  1060  1150  1120   967  1100  1150  1090\n",
      "6    3月上旬  1040  1150   967   949   937  1260   974\n",
      "7    3月中旬  1160  1260  1230   961   980  1340  1130\n",
      "8    3月下旬  1210  1110  1170   973  1080  1300  1100\n",
      "9    4月上旬  1410  1180  1330  1350  1730  1500  1420\n",
      "10   4月中旬  1770  1370  1500  1440  1840  1330  1790\n",
      "11   4月下旬  1700  1330  1870  1160  1740  1390  1610\n",
      "12   5月上旬  2510  2030  2020  2230  2410  2180  2290\n",
      "13   5月中旬  4460  1870  2350  2680  2510  2440  2100\n",
      "14   5月下旬  2720  2690  2950  2670  2860  2480  3240\n",
      "15   6月上旬  3030  3400  3030  3590  2700  2380  3560\n",
      "16   6月中旬  2300  3610  3250  6400  3280  3760  3470\n",
      "17   6月下旬  2860  5380  4390  6100  5320  4150  5040\n",
      "18   7月上旬  5010  4450  4810  7680  5430  5120  5920\n",
      "19   7月中旬  5360  4990  5390  6130  4150  4670  6560\n",
      "20   7月下旬  7090  3840  8030  3490  6650  9660  4330\n",
      "21   8月上旬  6830  3460  3710  3920  5270  5710  4870\n",
      "22   8月中旬  5750  7080  1910  3020  5180  6370  4170\n",
      "23   8月下旬  4030  3760  3300  4910  6160  2990  6900\n",
      "24   9月上旬  2620  2510  2330  3060  5130  7670  4520\n",
      "25   9月中旬  2380  2990  2280  4500  5300  4840  4220\n",
      "26   9月下旬  2760  3580  2120  2790  4960  3480  5060\n",
      "27  10月上旬  2510  3710  1760  2260  2510  3460  2880\n",
      "28  10月中旬  2620  3790  2110  2640  2780  4270  4550\n",
      "29  10月下旬  2060  3390  1990  2470  2570  3270  3670\n",
      "30  11月上旬  1780  2120  1280  1910  1990  2580  2070\n",
      "31  11月中旬  1630  1820  1410  1480  1920  2440  1920\n",
      "32  11月下旬  1400  1470  1210  1280  1530  1680  1450\n",
      "33  12月上旬  1220  1210  1070  1130  1390  1380  1190\n",
      "34  12月中旬  1150  1180   993  1160  1260  1310  1050\n",
      "35  12月下旬  1050  1060   917   913  1060  1070  1110\n",
      "    1970  1971  1972  1973  1974  1975  1976\n",
      "0    946   958  1030   900   861  1060   975\n",
      "1    895   908   969   895   885  1030   890\n",
      "2    891   947   891   916   868   958   885\n",
      "3    887  1050   933   885   993   967   914\n",
      "4    919  1060   991   926   927  1030   909\n",
      "5   1060  1150  1120   967  1100  1150  1090\n",
      "6   1040  1150   967   949   937  1260   974\n",
      "7   1160  1260  1230   961   980  1340  1130\n",
      "8   1210  1110  1170   973  1080  1300  1100\n",
      "9   1410  1180  1330  1350  1730  1500  1420\n",
      "10  1770  1370  1500  1440  1840  1330  1790\n",
      "11  1700  1330  1870  1160  1740  1390  1610\n",
      "12  2510  2030  2020  2230  2410  2180  2290\n",
      "13  4460  1870  2350  2680  2510  2440  2100\n",
      "14  2720  2690  2950  2670  2860  2480  3240\n",
      "15  3030  3400  3030  3590  2700  2380  3560\n",
      "16  2300  3610  3250  6400  3280  3760  3470\n",
      "17  2860  5380  4390  6100  5320  4150  5040\n",
      "18  5010  4450  4810  7680  5430  5120  5920\n",
      "19  5360  4990  5390  6130  4150  4670  6560\n",
      "20  7090  3840  8030  3490  6650  9660  4330\n",
      "21  6830  3460  3710  3920  5270  5710  4870\n",
      "22  5750  7080  1910  3020  5180  6370  4170\n",
      "23  4030  3760  3300  4910  6160  2990  6900\n",
      "24  2620  2510  2330  3060  5130  7670  4520\n",
      "25  2380  2990  2280  4500  5300  4840  4220\n",
      "26  2760  3580  2120  2790  4960  3480  5060\n",
      "27  2510  3710  1760  2260  2510  3460  2880\n",
      "28  2620  3790  2110  2640  2780  4270  4550\n",
      "29  2060  3390  1990  2470  2570  3270  3670\n",
      "30  1780  2120  1280  1910  1990  2580  2070\n",
      "31  1630  1820  1410  1480  1920  2440  1920\n",
      "32  1400  1470  1210  1280  1530  1680  1450\n",
      "33  1220  1210  1070  1130  1390  1380  1190\n",
      "34  1150  1180   993  1160  1260  1310  1050\n",
      "35  1050  1060   917   913  1060  1070  1110\n",
      "拼接第1列:\n",
      "0    0\n",
      "1    1\n",
      "2    2\n",
      "0    0\n",
      "1    1\n",
      "2    2\n",
      "dtype: int64\n",
      "拼接第2列:\n",
      "0    0\n",
      "1    1\n",
      "2    2\n",
      "0    0\n",
      "1    1\n",
      "2    2\n",
      "0    0\n",
      "1    1\n",
      "2    2\n",
      "dtype: int64\n",
      "0    0\n",
      "1    1\n",
      "2    2\n",
      "0    0\n",
      "1    1\n",
      "2    2\n",
      "0    0\n",
      "1    1\n",
      "2    2\n",
      "Name: aaaaaaa, dtype: int64\n",
      "index换为日期：\n",
      "DatetimeIndex(['2011-01-01 00:00:00', '2011-01-01 01:00:00',\n",
      "               '2011-01-01 02:00:00', '2011-01-01 03:00:00',\n",
      "               '2011-01-01 04:00:00', '2011-01-01 05:00:00',\n",
      "               '2011-01-01 06:00:00', '2011-01-01 07:00:00',\n",
      "               '2011-01-01 08:00:00'],\n",
      "              dtype='datetime64[ns]', freq='H')\n",
      "2011-01-01 00:00:00    0\n",
      "2011-01-01 01:00:00    1\n",
      "2011-01-01 02:00:00    2\n",
      "2011-01-01 03:00:00    0\n",
      "2011-01-01 04:00:00    1\n",
      "2011-01-01 05:00:00    2\n",
      "2011-01-01 06:00:00    0\n",
      "2011-01-01 07:00:00    1\n",
      "2011-01-01 08:00:00    2\n",
      "Freq: H, Name: bbbbb, dtype: int64\n"
     ]
    }
   ],
   "source": [
    "# 如果遇到“UnicodeDecodeError: 'utf8' codec can't decode byte....”错误，用记事本另存csv文件时，将“编码”设置为‘UTF-8’即可\n",
    "dataset = pd.read_csv('Sheet1.csv')\n",
    "print(dataset)\n",
    "# header指定某行的值作为各列的列名，1表示第二行，如果是None，则从第一行开始就是数据。\n",
    "dataset = pd.read_csv('Sheet1.csv', header=1)\n",
    "print(dataset)\n",
    "# 因为给定的数据格式，各人有各自的一套，所以具体情况具体分析。比如，这里dataset的第一列可以去掉，即得到所有数据，删除列时，用drop函数，加参数axis=1，不加则表示删除行\n",
    "dataset1 = dataset.drop(['旬平均'], axis=1)\n",
    "print(dataset1)\n",
    "df = pd.DataFrame({\"a\": range(3), \"b\": range(3), \"c\": range(3)})\n",
    "# iloc获取的数据格式为Series\n",
    "se = df.iloc[:, 0]\n",
    "# 获取dataframe的列数：df.shape[1]\n",
    "for i in range(1, df.shape[1]):\n",
    "    print(\"拼接第\" + str(i) + \"列:\")\n",
    "    se_temp = df.iloc[:, i]\n",
    "    se = pd.concat([se, se_temp])\n",
    "    print(se)\n",
    "# 如果一开始没有给series起名，比如从csv读取出来时是dataframe，拼接之后没办法再给Series起名，但是又需要给它起名，那么只能采取重新构造一个series的方式来命名\n",
    "se = pd.Series(se, name=\"aaaaaaa\")\n",
    "print(se)\n",
    "# 把每行名称换为日期\n",
    "print(\"index换为日期：\")\n",
    "rng = pd.date_range('2011-1-1', periods=9, freq='H')\n",
    "print(rng)\n",
    "se.index = rng\n",
    "se = pd.Series(se, name=\"bbbbb\")\n",
    "print(se)"
   ]
  },
  {
   "cell_type": "markdown",
   "metadata": {},
   "source": [
    "当csv中包含了大量的编号代码，比如是002开头的编号——002111， 使用pd.read_csv('text.csv') 则会让所有的002xxx，变成了2xxx，前面2个0不见了，因为作为数值类型，没有必要保留0。\n",
    "\n",
    "因此，为了保持编号的字符串特性，直接在参数一栏设置一下即可：\n",
    "df＝pd.read_csv('text.csv', dtype={'code':str}\n",
    " \n",
    "这样，把你要转换的列的名字设定好， “code”列中的数据读取为str，用列名或者列序号均可。\n",
    " \n",
    "这样，读取到的数据就是按照我们的要求的了。"
   ]
  },
  {
   "cell_type": "code",
   "execution_count": 7,
   "metadata": {},
   "outputs": [
    {
     "name": "stdout",
     "output_type": "stream",
     "text": [
      "  col1 col2 col3\n",
      "0    a    b   01\n",
      "1    a    b   02\n",
      "2    c    d   03\n",
      "  col1 col2 col3\n",
      "0    a    b   01\n",
      "1    a    b   02\n",
      "2    c    d   03\n"
     ]
    }
   ],
   "source": [
    "dataset = pd.read_csv(StringIO(data),dtype={2:str})\n",
    "print(dataset)\n",
    "dataset = pd.read_csv(StringIO(data),dtype={'col3':str})\n",
    "print(dataset)"
   ]
  },
  {
   "cell_type": "markdown",
   "metadata": {},
   "source": [
    "\n",
    "### Prepare Data\n",
    "\n",
    "#### 修改名称\n",
    "\n",
    "包括列名和行名，行一般又称index；列名也称field。\n",
    "\n",
    "总体上可以分为在读数据时修改和读后修改两种。\n",
    "\n",
    "具体的，行的修改方法有多种，参考：[重命名dataframe的index](https://blog.csdn.net/sinat_35930259/article/details/79872577)；列名的修改方法也有多种，参考[Pandas中修改DataFrame列名](http://www.voidcn.com/article/p-wycobfgd-bqs.html)"
   ]
  },
  {
   "cell_type": "code",
   "execution_count": 8,
   "metadata": {},
   "outputs": [
    {
     "name": "stdout",
     "output_type": "stream",
     "text": [
      "Index(['col1', 'col2', 'col3'], dtype='object')\n",
      "['col1', 'col2', 'col3']\n",
      "<class 'str'>\n",
      "   a  b   c\n",
      "0  a  b  01\n",
      "1  a  b  02\n",
      "2  c  d  03\n"
     ]
    }
   ],
   "source": [
    "# 给出所有列名，这里类型是Index，可以直接转为list\n",
    "print(dataset.columns)\n",
    "columns=dataset.columns.tolist()\n",
    "print(columns)\n",
    "# 转换后，每个元素直接就是字符串了\n",
    "print(type(columns[0]))\n",
    "# 修改列名的常用方式,inplace为false的话，还需要赋值到dataset，因此直接设置为true\n",
    "dataset.rename(columns={'col1':'a', 'col2':'b', 'col3':'c'}, inplace = True)\n",
    "print(dataset)\n",
    "# 修改index行名"
   ]
  },
  {
   "cell_type": "markdown",
   "metadata": {},
   "source": [
    "#### Slice\n",
    "\n",
    "切片包括横向切，纵向切，即选取某些行，选取某些列的操作。dataframe的切片操作很容易，记住灵活运用其index的功能即可，第一维是行，第二维是列，定位使用loc，数值定位用iloc。"
   ]
  },
  {
   "cell_type": "code",
   "execution_count": 9,
   "metadata": {},
   "outputs": [
    {
     "name": "stdout",
     "output_type": "stream",
     "text": [
      "   a  b   c\n",
      "0  a  b  01\n",
      "1  a  b  02\n",
      "注意因为行名是0-1-2，所以loc和iloc略有不同\n",
      "   a  b   c\n",
      "0  a  b  01\n",
      "列操作\n",
      "0    01\n",
      "1    02\n",
      "2    03\n",
      "Name: c, dtype: object\n",
      "   a   c\n",
      "0  a  01\n",
      "1  a  02\n",
      "2  c  03\n"
     ]
    }
   ],
   "source": [
    "# 取行直接用index即可\n",
    "print(dataset.loc[0:1,:])\n",
    "print(\"注意因为行名是0-1-2，所以loc和iloc略有不同\")\n",
    "print(dataset.iloc[0:1,:])\n",
    "# 取列用field\n",
    "print(\"列操作\")\n",
    "print(dataset.loc[:,'c'])\n",
    "columns=['a','c']\n",
    "print(dataset.loc[:,columns])"
   ]
  },
  {
   "cell_type": "markdown",
   "metadata": {},
   "source": [
    "#### 数据类型转换\n",
    "\n",
    "参考[Pandas数据类型转换的几个小技巧](https://zhuanlan.zhihu.com/p/35287822)\n",
    "\n",
    "Pandas中进行数据类型转换有三种基本方法：\n",
    "\n",
    "- 使用astype()函数进行强制类型转换\n",
    "- 自定义函数进行数据类型转换\n",
    "- 使用Pandas提供的函数如to_numeric()、to_datetime()"
   ]
  },
  {
   "cell_type": "code",
   "execution_count": 8,
   "metadata": {},
   "outputs": [
    {
     "data": {
      "text/plain": [
       "0    1.0\n",
       "1    2.0\n",
       "2    3.0\n",
       "Name: col3, dtype: float64"
      ]
     },
     "execution_count": 8,
     "metadata": {},
     "output_type": "execute_result"
    }
   ],
   "source": [
    "dataset['col3'].astype('float')"
   ]
  },
  {
   "cell_type": "markdown",
   "metadata": {},
   "source": [
    "当待转换列中含有不能转换的特殊值时(例如￥,ErrorValue,14n等)astype()函数将失效。\n",
    "astype()函数有效的情形：\n",
    "\n",
    "- 数据列中的每一个单位都能简单的解释为数字(2, 2.12等）\n",
    "- 数据列中的每一个单位都是数值类型且向字符串object类型转换\n",
    "\n",
    "Pandas的astype()函数和复杂的自定函数之间有一个中间段，那就是Pandas的一些辅助函数。这些辅助函数对于某些特定数据类型的转换非常有用(如to_numeric()、to_datetime())。"
   ]
  },
  {
   "cell_type": "markdown",
   "metadata": {},
   "source": [
    "#### 数据操作\n",
    "\n",
    "包括旋转、连接等。"
   ]
  },
  {
   "cell_type": "code",
   "execution_count": 11,
   "metadata": {},
   "outputs": [
    {
     "name": "stdout",
     "output_type": "stream",
     "text": [
      "3\n",
      "3\n",
      "[0 0 1 2 0]\n"
     ]
    },
    {
     "data": {
      "text/plain": [
       "array(['b', 'a', 'c'], dtype=object)"
      ]
     },
     "execution_count": 11,
     "metadata": {},
     "output_type": "execute_result"
    }
   ],
   "source": [
    "# 返回列数：\n",
    "print(dataset.shape[1])\n",
    "# 返回行数：\n",
    "print(dataset.shape[0])\n",
    "# factorize(values[, sort, order, …])\tEncode the object as an enumerated type or categorical variable.\n",
    "labels, uniques = pd.factorize(['b', 'b', 'a', 'c', 'b'])\n",
    "print(labels)\n",
    "uniques"
   ]
  },
  {
   "cell_type": "markdown",
   "metadata": {},
   "source": [
    "对dataframe数据执行批量运算，使用pandas的apply函数。"
   ]
  },
  {
   "cell_type": "code",
   "execution_count": 4,
   "metadata": {},
   "outputs": [
    {
     "name": "stdout",
     "output_type": "stream",
     "text": [
      "   A  B\n",
      "0  4  9\n",
      "1  4  9\n",
      "2  4  9\n"
     ]
    },
    {
     "data": {
      "text/html": [
       "<div>\n",
       "<style scoped>\n",
       "    .dataframe tbody tr th:only-of-type {\n",
       "        vertical-align: middle;\n",
       "    }\n",
       "\n",
       "    .dataframe tbody tr th {\n",
       "        vertical-align: top;\n",
       "    }\n",
       "\n",
       "    .dataframe thead th {\n",
       "        text-align: right;\n",
       "    }\n",
       "</style>\n",
       "<table border=\"1\" class=\"dataframe\">\n",
       "  <thead>\n",
       "    <tr style=\"text-align: right;\">\n",
       "      <th></th>\n",
       "      <th>A</th>\n",
       "      <th>B</th>\n",
       "    </tr>\n",
       "  </thead>\n",
       "  <tbody>\n",
       "    <tr>\n",
       "      <th>0</th>\n",
       "      <td>2.0</td>\n",
       "      <td>3.0</td>\n",
       "    </tr>\n",
       "    <tr>\n",
       "      <th>1</th>\n",
       "      <td>2.0</td>\n",
       "      <td>3.0</td>\n",
       "    </tr>\n",
       "    <tr>\n",
       "      <th>2</th>\n",
       "      <td>2.0</td>\n",
       "      <td>3.0</td>\n",
       "    </tr>\n",
       "  </tbody>\n",
       "</table>\n",
       "</div>"
      ],
      "text/plain": [
       "     A    B\n",
       "0  2.0  3.0\n",
       "1  2.0  3.0\n",
       "2  2.0  3.0"
      ]
     },
     "execution_count": 4,
     "metadata": {},
     "output_type": "execute_result"
    }
   ],
   "source": [
    "import pandas as pd\n",
    "import numpy as np\n",
    "df = pd.DataFrame([[4, 9]] * 3, columns=['A', 'B'])\n",
    "print(df)\n",
    "df.apply(np.sqrt)"
   ]
  },
  {
   "cell_type": "code",
   "execution_count": 5,
   "metadata": {},
   "outputs": [
    {
     "data": {
      "text/plain": [
       "A    12\n",
       "B    27\n",
       "dtype: int64"
      ]
     },
     "execution_count": 5,
     "metadata": {},
     "output_type": "execute_result"
    }
   ],
   "source": [
    "# 作用到每列\n",
    "df.apply(np.sum, axis=0)"
   ]
  },
  {
   "cell_type": "code",
   "execution_count": 6,
   "metadata": {},
   "outputs": [
    {
     "data": {
      "text/plain": [
       "0    [1, 2]\n",
       "1    [1, 2]\n",
       "2    [1, 2]\n",
       "dtype: object"
      ]
     },
     "execution_count": 6,
     "metadata": {},
     "output_type": "execute_result"
    }
   ],
   "source": [
    "# 作用到每行\n",
    "df.apply(lambda x: [1, 2], axis=1)"
   ]
  },
  {
   "cell_type": "markdown",
   "metadata": {},
   "source": [
    "- [ ] Analyze Data\n",
    "\n",
    "### Pandas绘图"
   ]
  },
  {
   "cell_type": "code",
   "execution_count": null,
   "metadata": {
    "pycharm": {
     "name": "#%%\n"
    }
   },
   "outputs": [],
   "source": [
    "ts = pd.Series(np.random.randn(1000), index=pd.date_range('1/1/2000', periods=1000))\n",
    "print(ts)\n",
    "pyplot.plot(ts.index, ts.values, color='red', label='testing accuracy')\n",
    "pyplot.show()"
   ]
  }
 ],
 "metadata": {
  "kernelspec": {
   "display_name": "Python 3",
   "language": "python",
   "name": "python3"
  },
  "language_info": {
   "codemirror_mode": {
    "name": "ipython",
    "version": 3
   },
   "file_extension": ".py",
   "mimetype": "text/x-python",
   "name": "python",
   "nbconvert_exporter": "python",
   "pygments_lexer": "ipython3",
   "version": "3.7.4"
  },
  "pycharm": {
   "stem_cell": {
    "cell_type": "raw",
    "metadata": {
     "collapsed": false
    },
    "source": []
   }
  }
 },
 "nbformat": 4,
 "nbformat_minor": 4
}
