{
 "cells": [
  {
   "cell_type": "markdown",
   "metadata": {
    "pycharm": {
     "name": "#%% md\n"
    }
   },
   "source": [
    "# Pandas基础\n",
    "\n",
    "该部分主要参考[Pandas中文网](https://www.pypandas.cn/docs/)和[官方用户手册](https://pandas.pydata.org/pandas-docs/stable/index.html)。\n",
    "\n",
    "Pandas是一个开源的，为Python编程语言提供高性能，易于使用的**数据结构**和**数据分析工具**。在hydrus环境下安装pandas：\n",
    "\n",
    "```Shell\n",
    "conda install -c conda-forge pandas\n",
    "```\n",
    "\n",
    "因此这部分的记录主要思路就是围绕数据结构和分析工具两方面来展开。两部分之间会有重复的地方，就当是复习了。\n",
    "\n",
    "首先，简单记录下关于pandas的介绍。Pandas适合处理多种不同类型的数据：\n",
    "\n",
    "- 不同类型的数据列组成的表格数据；\n",
    "- 有序或无序的时间序列数据；\n",
    "- 带行列标签的类型相同或不同的行或列组成的矩阵数据；\n",
    "- 任意形式的观测或统计数据，它们不需标记即可放入pandas数据结构中。 \n",
    "\n",
    "其运算都主要都围绕两类数据结构展开，Series和Dataframe，接下来从它们开始记录。\n",
    "\n",
    "Series(1维)和DataFrame(2维)能处理绝大多数的典型应用，包括金融、统计、社科、工程等各个领域。\n",
    " \n",
    "对于R用户，DataFrame提供了所有R的data.frame提供的，并且还有更多。\n",
    "\n",
    "pandas建立在NumPy之上，也整合了很多第三方库，打造了良好的科学计算环境。\n",
    "\n",
    "pandas处理的经典问题包括且不限于：\n",
    "\n",
    "- 处理缺失数据，用NaN表示；\n",
    "- 数据结构大小可变：可以插入删除DataFrame或者更高维对象的列；\n",
    "- 自动且明确的data alignment，可以明确指定数据到一系列标签下；\n",
    "- 灵活数据分组，很容易聚合转换数据；\n",
    "- 容易将杂乱、标签复杂的Python和NumPy数据结构转换为DataFrame对象；\n",
    "- 根据标签容易slicing,indexing和subsetting大数据集；\n",
    "- 容易合并和连接数据集；\n",
    "- 灵活地reshaping和pivoting数据集；\n",
    "- 多级标签；\n",
    "- 从各类文件中加载数据, 包括HDF5格式的数据；\n",
    "- 时间序列指定的功能：日期范围生成和频率转换,滑动窗口的统计, 滑动线性回归, 日期平移或滞后等。\n",
    "\n",
    "在数据处理的各个环节，包括变换和清洗数据，分析建模，组织分析结果为正式的格式，可视化和输出数据等，pandas都能很好地处理。\n",
    "\n",
    "## Pandas数据结构\n",
    "\n",
    "最好的理解Pandas数据结构的方式是将其当做其更低维数据的容器，比如Series是标量数据的容器，Dataframe是Series的容器。\n",
    "可以通过类似字典的方式从容器中插入或移除对象。\n",
    "\n",
    "pandas中为了更直观地给出数据结构不同维度的信息，更多用index和columns，而不是使用axis0和1这样来表示。例如：\n",
    "\n",
    "``` python\n",
    "for col in df.columns:\n",
    "    series = df[col]\n",
    "    # do something with series\n",
    "```\n",
    "\n",
    "pandas所有数据结构都是值可变的，但不总是size可变的。比如Series的长度是不可变的，但是Dataframe中是可以插入列的。\n",
    "绝大多数方法都会产生新的对象，而不改变原输入数据。一般来说，pandas喜欢保持不可变性。\n",
    "\n",
    "### Series与Dataframe\n",
    "\n",
    "对于pandas的这两个数据结构，个人认为从增删改查的角度了解较好，首先是数据结构的初始化，然后增删操作，包括拼接操作等，接下来就是修改名称等，而后重点关注索引切片等查询操作，最后再补充一些分组等其他内容。\n",
    "\n",
    "#### 初始化\n",
    "\n",
    "基本上来说，是利用numpy的数组为值依据，用columns和index给列和行起名。"
   ]
  },
  {
   "cell_type": "code",
   "execution_count": 7,
   "metadata": {},
   "outputs": [
    {
     "data": {
      "text/plain": [
       "a    [1, 2, 1, 8, 2]\n",
       "dtype: object"
      ]
     },
     "execution_count": 7,
     "metadata": {},
     "output_type": "execute_result"
    }
   ],
   "source": [
    "import numpy as np\n",
    "import pandas as pd\n",
    "# 初始化Series\n",
    "k = pd.Series({'a':np.random.randint(10,size=5)})\n",
    "k"
   ]
  },
  {
   "cell_type": "code",
   "execution_count": 8,
   "metadata": {},
   "outputs": [
    {
     "name": "stdout",
     "output_type": "stream",
     "text": [
      "Empty DataFrame\n",
      "Columns: [A, B, C, D]\n",
      "Index: []\n",
      "列名： ['A' 'B' 'C' 'D']\n",
      "   a  b  c\n",
      "0  0  0  0\n",
      "1  1  1  1\n",
      "2  2  2  2\n",
      "   one  two  three  four\n",
      "a    0    1      2     3\n",
      "b    4    5      6     7\n",
      "c    8    9     10    11\n",
      "d   12   13     14    15\n",
      "            one  two  three  four\n",
      "2011-01-01    0    1      2     3\n",
      "2011-01-02    4    5      6     7\n",
      "2011-01-03    8    9     10    11\n",
      "2011-01-04   12   13     14    15\n",
      "列：\n",
      " Index(['one', 'two', 'three', 'four'], dtype='object')\n",
      "列名称：\n",
      " ['one' 'two' 'three' 'four']\n",
      "            2011-01-01  2011-01-02  2011-01-03  2011-01-04\n",
      "2011-01-01           0           1           2           3\n",
      "2011-01-02           4           5           6           7\n",
      "2011-01-03           8           9          10          11\n",
      "2011-01-04          12          13          14          15\n"
     ]
    }
   ],
   "source": [
    "# 创建一个空的 DataFrame\n",
    "df_empty = pd.DataFrame(columns=['A', 'B', 'C', 'D'])\n",
    "print(df_empty)\n",
    "print(\"列名：\",df_empty.columns.values)\n",
    "df = pd.DataFrame({\"a\": range(3), \"b\": range(3), \"c\": range(3)})\n",
    "print(df)\n",
    "# 使用numpy数组，命名行列进行初始化\n",
    "df2 = pd.DataFrame(np.arange(16).reshape((4,4)), columns=['one', 'two', 'three', 'four'], index=['a', 'b', 'c','d'])\n",
    "print(df2)\n",
    "# 带时间序列的dataframe的初始化\n",
    "time_range = pd.date_range('2011-1-1', periods=4, freq='D')\n",
    "df2.index = time_range\n",
    "print(df2)\n",
    "print('列：\\n',df2.columns)\n",
    "print('列名称：\\n',df2.columns.values)\n",
    "time_range = pd.date_range('2011-1-1', '2011-1-4', freq='D')\n",
    "df2.columns = time_range\n",
    "print(df2)"
   ]
  },
  {
   "cell_type": "markdown",
   "metadata": {},
   "source": [
    "有时候会需要指定某些列的数据类型，这时候可以使用如下方式："
   ]
  },
  {
   "cell_type": "code",
   "execution_count": 22,
   "metadata": {},
   "outputs": [
    {
     "data": {
      "text/html": [
       "<div>\n",
       "<style scoped>\n",
       "    .dataframe tbody tr th:only-of-type {\n",
       "        vertical-align: middle;\n",
       "    }\n",
       "\n",
       "    .dataframe tbody tr th {\n",
       "        vertical-align: top;\n",
       "    }\n",
       "\n",
       "    .dataframe thead th {\n",
       "        text-align: right;\n",
       "    }\n",
       "</style>\n",
       "<table border=\"1\" class=\"dataframe\">\n",
       "  <thead>\n",
       "    <tr style=\"text-align: right;\">\n",
       "      <th></th>\n",
       "      <th>one</th>\n",
       "      <th>two</th>\n",
       "      <th>three</th>\n",
       "    </tr>\n",
       "  </thead>\n",
       "  <tbody>\n",
       "    <tr>\n",
       "      <th>0</th>\n",
       "      <td>a</td>\n",
       "      <td>1.2</td>\n",
       "      <td>4.2</td>\n",
       "    </tr>\n",
       "    <tr>\n",
       "      <th>1</th>\n",
       "      <td>b</td>\n",
       "      <td>70</td>\n",
       "      <td>0.03</td>\n",
       "    </tr>\n",
       "    <tr>\n",
       "      <th>2</th>\n",
       "      <td>x</td>\n",
       "      <td>5</td>\n",
       "      <td>0</td>\n",
       "    </tr>\n",
       "  </tbody>\n",
       "</table>\n",
       "</div>"
      ],
      "text/plain": [
       "  one  two three\n",
       "0   a  1.2   4.2\n",
       "1   b   70  0.03\n",
       "2   x    5     0"
      ]
     },
     "execution_count": 22,
     "metadata": {},
     "output_type": "execute_result"
    }
   ],
   "source": [
    "a = [['a', '1.2', '4.2'], ['b', '70', '0.03'], ['x', '5', '0']]\n",
    "df = pd.DataFrame(a, columns=['one', 'two', 'three'])\n",
    "df"
   ]
  },
  {
   "cell_type": "code",
   "execution_count": 23,
   "metadata": {},
   "outputs": [
    {
     "data": {
      "text/plain": [
       "one      object\n",
       "two      object\n",
       "three    object\n",
       "dtype: object"
      ]
     },
     "execution_count": 23,
     "metadata": {},
     "output_type": "execute_result"
    }
   ],
   "source": [
    "df.dtypes"
   ]
  },
  {
   "cell_type": "code",
   "execution_count": 27,
   "metadata": {},
   "outputs": [
    {
     "data": {
      "text/plain": [
       "one       object\n",
       "two      float64\n",
       "three    float64\n",
       "dtype: object"
      ]
     },
     "execution_count": 27,
     "metadata": {},
     "output_type": "execute_result"
    }
   ],
   "source": [
    "df[['two', 'three']] = df[['two', 'three']].astype(float)\n",
    "df.dtypes"
   ]
  },
  {
   "cell_type": "markdown",
   "metadata": {},
   "source": [
    "#### 日期时间处理\n",
    "\n",
    "和python基础，numpy一样，pandas也有自己的日期处理包，日期总是比较麻烦的。"
   ]
  },
  {
   "cell_type": "code",
   "execution_count": 5,
   "metadata": {},
   "outputs": [
    {
     "data": {
      "text/plain": [
       "[[2000, 1, 31, 0],\n",
       " [2000, 2, 29, 0],\n",
       " [2000, 3, 31, 0],\n",
       " [2000, 4, 30, 0],\n",
       " [2000, 5, 31, 0],\n",
       " [2000, 6, 30, 0],\n",
       " [2000, 7, 31, 0],\n",
       " [2000, 8, 31, 0],\n",
       " [2000, 9, 30, 0],\n",
       " [2000, 10, 31, 0]]"
      ]
     },
     "execution_count": 5,
     "metadata": {},
     "output_type": "execute_result"
    }
   ],
   "source": [
    "import pandas as pd\n",
    "# 日期／字符串转换\n",
    "strtime=['2000-01-31', '2000-02-29', '2000-03-31', '2000-04-30',\n",
    "               '2000-05-31', '2000-06-30', '2000-07-31', '2000-08-31',\n",
    "               '2000-09-30', '2000-10-31']\n",
    "index=pd.to_datetime(strtime)\n",
    "time=pd.to_datetime(strtime)\n",
    "[[dt.year, dt.month, dt.day, dt.hour] for dt in time]"
   ]
  },
  {
   "cell_type": "code",
   "execution_count": 9,
   "metadata": {},
   "outputs": [
    {
     "data": {
      "text/html": [
       "<div>\n",
       "<style scoped>\n",
       "    .dataframe tbody tr th:only-of-type {\n",
       "        vertical-align: middle;\n",
       "    }\n",
       "\n",
       "    .dataframe tbody tr th {\n",
       "        vertical-align: top;\n",
       "    }\n",
       "\n",
       "    .dataframe thead th {\n",
       "        text-align: right;\n",
       "    }\n",
       "</style>\n",
       "<table border=\"1\" class=\"dataframe\">\n",
       "  <thead>\n",
       "    <tr style=\"text-align: right;\">\n",
       "      <th></th>\n",
       "      <th>Year</th>\n",
       "      <th>Mnth</th>\n",
       "      <th>Day</th>\n",
       "      <th>Hr</th>\n",
       "    </tr>\n",
       "  </thead>\n",
       "  <tbody>\n",
       "    <tr>\n",
       "      <th>0</th>\n",
       "      <td>2000</td>\n",
       "      <td>1</td>\n",
       "      <td>31</td>\n",
       "      <td>0</td>\n",
       "    </tr>\n",
       "    <tr>\n",
       "      <th>1</th>\n",
       "      <td>2000</td>\n",
       "      <td>2</td>\n",
       "      <td>29</td>\n",
       "      <td>0</td>\n",
       "    </tr>\n",
       "    <tr>\n",
       "      <th>2</th>\n",
       "      <td>2000</td>\n",
       "      <td>3</td>\n",
       "      <td>31</td>\n",
       "      <td>0</td>\n",
       "    </tr>\n",
       "    <tr>\n",
       "      <th>3</th>\n",
       "      <td>2000</td>\n",
       "      <td>4</td>\n",
       "      <td>30</td>\n",
       "      <td>0</td>\n",
       "    </tr>\n",
       "    <tr>\n",
       "      <th>4</th>\n",
       "      <td>2000</td>\n",
       "      <td>5</td>\n",
       "      <td>31</td>\n",
       "      <td>0</td>\n",
       "    </tr>\n",
       "  </tbody>\n",
       "</table>\n",
       "</div>"
      ],
      "text/plain": [
       "   Year  Mnth  Day  Hr\n",
       "0  2000     1   31   0\n",
       "1  2000     2   29   0\n",
       "2  2000     3   31   0\n",
       "3  2000     4   30   0\n",
       "4  2000     5   31   0"
      ]
     },
     "execution_count": 9,
     "metadata": {},
     "output_type": "execute_result"
    }
   ],
   "source": [
    "my_time = pd.DataFrame([[dt.year, dt.month, dt.day, dt.hour] for dt in time], columns=['Year', 'Mnth', 'Day', 'Hr'])\n",
    "my_time.head()"
   ]
  },
  {
   "cell_type": "code",
   "execution_count": 4,
   "metadata": {},
   "outputs": [
    {
     "name": "stdout",
     "output_type": "stream",
     "text": [
      "<class 'pandas._libs.tslibs.timestamps.Timestamp'>\n",
      "<class 'pandas._libs.tslibs.timestamps.Timestamp'>\n",
      "<class 'pandas._libs.tslibs.timestamps.Timestamp'>\n",
      "<class 'str'>\n",
      "['2000-01', '2000-02', '2000-03', '2000-04', '2000-05', '2000-06', '2000-07', '2000-08', '2000-09', '2000-10']\n"
     ]
    },
    {
     "data": {
      "text/plain": [
       "2000-01     1\n",
       "2000-02     2\n",
       "2000-03     3\n",
       "2000-04     4\n",
       "2000-05     5\n",
       "2000-06     6\n",
       "2000-07     7\n",
       "2000-08     8\n",
       "2000-09     9\n",
       "2000-10    10\n",
       "Name: data, dtype: int64"
      ]
     },
     "execution_count": 4,
     "metadata": {},
     "output_type": "execute_result"
    }
   ],
   "source": [
    "data=list(range(1,11))\n",
    "df=pd.DataFrame([time,data],columns=index,index=['time','data']).T\n",
    "\n",
    "#索引和time字段均为Timestamp格式数据\n",
    "print(type(index[0]))\n",
    "\n",
    "print(type(df.index[0]))\n",
    "\n",
    "print(type(df.time[0]))\n",
    "\n",
    "\n",
    "#先来看索引\n",
    "mt_time=df.index.strftime('%Y-%m')\n",
    "mt_time\n",
    "\n",
    "print(type(mt_time[0]))\n",
    "\n",
    "#针对列（直接操作还不清楚怎么操作）\n",
    "time_list=[x.strftime('%Y-%m') for x in df['time']]\n",
    "print(time_list)\n",
    "#再按月份求和\n",
    "df['data'].groupby(time_list).sum()"
   ]
  },
  {
   "cell_type": "markdown",
   "metadata": {},
   "source": [
    "再比如下面的数据形式，前面三列是年月日，最后一列是数据："
   ]
  },
  {
   "cell_type": "code",
   "execution_count": 6,
   "metadata": {},
   "outputs": [
    {
     "data": {
      "text/html": [
       "<div>\n",
       "<style scoped>\n",
       "    .dataframe tbody tr th:only-of-type {\n",
       "        vertical-align: middle;\n",
       "    }\n",
       "\n",
       "    .dataframe tbody tr th {\n",
       "        vertical-align: top;\n",
       "    }\n",
       "\n",
       "    .dataframe thead th {\n",
       "        text-align: right;\n",
       "    }\n",
       "</style>\n",
       "<table border=\"1\" class=\"dataframe\">\n",
       "  <thead>\n",
       "    <tr style=\"text-align: right;\">\n",
       "      <th></th>\n",
       "      <th>0</th>\n",
       "      <th>1</th>\n",
       "      <th>2</th>\n",
       "      <th>3</th>\n",
       "    </tr>\n",
       "  </thead>\n",
       "  <tbody>\n",
       "    <tr>\n",
       "      <th>0</th>\n",
       "      <td>1952</td>\n",
       "      <td>1</td>\n",
       "      <td>1</td>\n",
       "      <td>3950</td>\n",
       "    </tr>\n",
       "    <tr>\n",
       "      <th>1</th>\n",
       "      <td>1952</td>\n",
       "      <td>1</td>\n",
       "      <td>2</td>\n",
       "      <td>3920</td>\n",
       "    </tr>\n",
       "    <tr>\n",
       "      <th>2</th>\n",
       "      <td>1952</td>\n",
       "      <td>1</td>\n",
       "      <td>3</td>\n",
       "      <td>3960</td>\n",
       "    </tr>\n",
       "    <tr>\n",
       "      <th>3</th>\n",
       "      <td>1952</td>\n",
       "      <td>1</td>\n",
       "      <td>4</td>\n",
       "      <td>3970</td>\n",
       "    </tr>\n",
       "  </tbody>\n",
       "</table>\n",
       "</div>"
      ],
      "text/plain": [
       "      0  1  2     3\n",
       "0  1952  1  1  3950\n",
       "1  1952  1  2  3920\n",
       "2  1952  1  3  3960\n",
       "3  1952  1  4  3970"
      ]
     },
     "execution_count": 6,
     "metadata": {},
     "output_type": "execute_result"
    }
   ],
   "source": [
    "# 数字，日期转换\n",
    "import pandas as pd\n",
    "data_temp = pd.DataFrame([[1952,1,1,3950],\n",
    "[1952,1,2,3920],\n",
    "[1952,1,3,3960],\n",
    "[1952,1,4,3970]])\n",
    "data_temp"
   ]
  },
  {
   "cell_type": "markdown",
   "metadata": {},
   "source": [
    "也很容易将数字转为日期："
   ]
  },
  {
   "cell_type": "code",
   "execution_count": 7,
   "metadata": {},
   "outputs": [
    {
     "name": "stdout",
     "output_type": "stream",
     "text": [
      "      0  1  2\n",
      "0  1952  1  1\n",
      "1  1952  1  2\n",
      "2  1952  1  3\n",
      "3  1952  1  4\n"
     ]
    },
    {
     "data": {
      "text/plain": [
       "array(['1952-01-01', '1952-01-02', '1952-01-03', '1952-01-04'],\n",
       "      dtype='datetime64[D]')"
      ]
     },
     "execution_count": 7,
     "metadata": {},
     "output_type": "execute_result"
    }
   ],
   "source": [
    "df_date = data_temp[[0, 1, 2]]\n",
    "print(df_date)\n",
    "df_date.columns = ['year', 'month', 'day']\n",
    "date = pd.to_datetime(df_date).values.astype('datetime64[D]')\n",
    "date"
   ]
  },
  {
   "cell_type": "markdown",
   "metadata": {},
   "source": [
    "#### 排序\n",
    "\n",
    "对DataFrame中的数据进行排序也是常用的操作之一。比如："
   ]
  },
  {
   "cell_type": "code",
   "execution_count": 17,
   "metadata": {},
   "outputs": [
    {
     "data": {
      "text/html": [
       "<div>\n",
       "<style scoped>\n",
       "    .dataframe tbody tr th:only-of-type {\n",
       "        vertical-align: middle;\n",
       "    }\n",
       "\n",
       "    .dataframe tbody tr th {\n",
       "        vertical-align: top;\n",
       "    }\n",
       "\n",
       "    .dataframe thead th {\n",
       "        text-align: right;\n",
       "    }\n",
       "</style>\n",
       "<table border=\"1\" class=\"dataframe\">\n",
       "  <thead>\n",
       "    <tr style=\"text-align: right;\">\n",
       "      <th></th>\n",
       "      <th>col1</th>\n",
       "      <th>col2</th>\n",
       "      <th>col3</th>\n",
       "    </tr>\n",
       "  </thead>\n",
       "  <tbody>\n",
       "    <tr>\n",
       "      <th>0</th>\n",
       "      <td>A</td>\n",
       "      <td>2</td>\n",
       "      <td>0</td>\n",
       "    </tr>\n",
       "    <tr>\n",
       "      <th>1</th>\n",
       "      <td>A</td>\n",
       "      <td>1</td>\n",
       "      <td>1</td>\n",
       "    </tr>\n",
       "    <tr>\n",
       "      <th>2</th>\n",
       "      <td>B</td>\n",
       "      <td>9</td>\n",
       "      <td>9</td>\n",
       "    </tr>\n",
       "    <tr>\n",
       "      <th>3</th>\n",
       "      <td>NaN</td>\n",
       "      <td>8</td>\n",
       "      <td>4</td>\n",
       "    </tr>\n",
       "    <tr>\n",
       "      <th>4</th>\n",
       "      <td>D</td>\n",
       "      <td>7</td>\n",
       "      <td>2</td>\n",
       "    </tr>\n",
       "    <tr>\n",
       "      <th>5</th>\n",
       "      <td>C</td>\n",
       "      <td>4</td>\n",
       "      <td>3</td>\n",
       "    </tr>\n",
       "  </tbody>\n",
       "</table>\n",
       "</div>"
      ],
      "text/plain": [
       "  col1  col2  col3\n",
       "0    A     2     0\n",
       "1    A     1     1\n",
       "2    B     9     9\n",
       "3  NaN     8     4\n",
       "4    D     7     2\n",
       "5    C     4     3"
      ]
     },
     "execution_count": 17,
     "metadata": {},
     "output_type": "execute_result"
    }
   ],
   "source": [
    "import pandas as pd\n",
    "import numpy as np\n",
    "df = pd.DataFrame({\n",
    "    'col1': ['A', 'A', 'B', np.nan, 'D', 'C'],\n",
    "    'col2': [2, 1, 9, 8, 7, 4],\n",
    "    'col3': [0, 1, 9, 4, 2, 3],\n",
    "})\n",
    "df"
   ]
  },
  {
   "cell_type": "markdown",
   "metadata": {},
   "source": [
    "Sort by col1"
   ]
  },
  {
   "cell_type": "code",
   "execution_count": 20,
   "metadata": {},
   "outputs": [
    {
     "data": {
      "text/html": [
       "<div>\n",
       "<style scoped>\n",
       "    .dataframe tbody tr th:only-of-type {\n",
       "        vertical-align: middle;\n",
       "    }\n",
       "\n",
       "    .dataframe tbody tr th {\n",
       "        vertical-align: top;\n",
       "    }\n",
       "\n",
       "    .dataframe thead th {\n",
       "        text-align: right;\n",
       "    }\n",
       "</style>\n",
       "<table border=\"1\" class=\"dataframe\">\n",
       "  <thead>\n",
       "    <tr style=\"text-align: right;\">\n",
       "      <th></th>\n",
       "      <th>col1</th>\n",
       "      <th>col2</th>\n",
       "      <th>col3</th>\n",
       "    </tr>\n",
       "  </thead>\n",
       "  <tbody>\n",
       "    <tr>\n",
       "      <th>0</th>\n",
       "      <td>A</td>\n",
       "      <td>2</td>\n",
       "      <td>0</td>\n",
       "    </tr>\n",
       "    <tr>\n",
       "      <th>1</th>\n",
       "      <td>A</td>\n",
       "      <td>1</td>\n",
       "      <td>1</td>\n",
       "    </tr>\n",
       "    <tr>\n",
       "      <th>2</th>\n",
       "      <td>B</td>\n",
       "      <td>9</td>\n",
       "      <td>9</td>\n",
       "    </tr>\n",
       "    <tr>\n",
       "      <th>5</th>\n",
       "      <td>C</td>\n",
       "      <td>4</td>\n",
       "      <td>3</td>\n",
       "    </tr>\n",
       "    <tr>\n",
       "      <th>4</th>\n",
       "      <td>D</td>\n",
       "      <td>7</td>\n",
       "      <td>2</td>\n",
       "    </tr>\n",
       "    <tr>\n",
       "      <th>3</th>\n",
       "      <td>NaN</td>\n",
       "      <td>8</td>\n",
       "      <td>4</td>\n",
       "    </tr>\n",
       "  </tbody>\n",
       "</table>\n",
       "</div>"
      ],
      "text/plain": [
       "  col1  col2  col3\n",
       "0    A     2     0\n",
       "1    A     1     1\n",
       "2    B     9     9\n",
       "5    C     4     3\n",
       "4    D     7     2\n",
       "3  NaN     8     4"
      ]
     },
     "execution_count": 20,
     "metadata": {},
     "output_type": "execute_result"
    }
   ],
   "source": [
    "df.sort_values(by=['col1'])"
   ]
  },
  {
   "cell_type": "markdown",
   "metadata": {},
   "source": [
    "Sort by multiple columns"
   ]
  },
  {
   "cell_type": "code",
   "execution_count": 21,
   "metadata": {},
   "outputs": [
    {
     "data": {
      "text/html": [
       "<div>\n",
       "<style scoped>\n",
       "    .dataframe tbody tr th:only-of-type {\n",
       "        vertical-align: middle;\n",
       "    }\n",
       "\n",
       "    .dataframe tbody tr th {\n",
       "        vertical-align: top;\n",
       "    }\n",
       "\n",
       "    .dataframe thead th {\n",
       "        text-align: right;\n",
       "    }\n",
       "</style>\n",
       "<table border=\"1\" class=\"dataframe\">\n",
       "  <thead>\n",
       "    <tr style=\"text-align: right;\">\n",
       "      <th></th>\n",
       "      <th>col1</th>\n",
       "      <th>col2</th>\n",
       "      <th>col3</th>\n",
       "    </tr>\n",
       "  </thead>\n",
       "  <tbody>\n",
       "    <tr>\n",
       "      <th>1</th>\n",
       "      <td>A</td>\n",
       "      <td>1</td>\n",
       "      <td>1</td>\n",
       "    </tr>\n",
       "    <tr>\n",
       "      <th>0</th>\n",
       "      <td>A</td>\n",
       "      <td>2</td>\n",
       "      <td>0</td>\n",
       "    </tr>\n",
       "    <tr>\n",
       "      <th>2</th>\n",
       "      <td>B</td>\n",
       "      <td>9</td>\n",
       "      <td>9</td>\n",
       "    </tr>\n",
       "    <tr>\n",
       "      <th>5</th>\n",
       "      <td>C</td>\n",
       "      <td>4</td>\n",
       "      <td>3</td>\n",
       "    </tr>\n",
       "    <tr>\n",
       "      <th>4</th>\n",
       "      <td>D</td>\n",
       "      <td>7</td>\n",
       "      <td>2</td>\n",
       "    </tr>\n",
       "    <tr>\n",
       "      <th>3</th>\n",
       "      <td>NaN</td>\n",
       "      <td>8</td>\n",
       "      <td>4</td>\n",
       "    </tr>\n",
       "  </tbody>\n",
       "</table>\n",
       "</div>"
      ],
      "text/plain": [
       "  col1  col2  col3\n",
       "1    A     1     1\n",
       "0    A     2     0\n",
       "2    B     9     9\n",
       "5    C     4     3\n",
       "4    D     7     2\n",
       "3  NaN     8     4"
      ]
     },
     "execution_count": 21,
     "metadata": {},
     "output_type": "execute_result"
    }
   ],
   "source": [
    "df.sort_values(by=['col1', 'col2'])"
   ]
  },
  {
   "cell_type": "markdown",
   "metadata": {},
   "source": [
    "#### 增删，拼接等操作\n",
    "\n",
    "可参考：[Merge, join, and concatenate](https://www.pypandas.cn/docs/user_guide/merging.html#concatenating-objects)\n",
    "\n",
    "拼接主要使用的是concat函数，axis=0是默认选项纵向拼接，axis=1是横向"
   ]
  },
  {
   "cell_type": "code",
   "execution_count": 10,
   "metadata": {},
   "outputs": [
    {
     "name": "stdout",
     "output_type": "stream",
     "text": [
      "      A    B    C    D\n",
      "0    A0   B0   C0   D0\n",
      "1    A1   B1   C1   D1\n",
      "2    A2   B2   C2   D2\n",
      "3    A3   B3   C3   D3\n",
      "4    A4   B4   C4   D4\n",
      "5    A5   B5   C5   D5\n",
      "6    A6   B6   C6   D6\n",
      "7    A7   B7   C7   D7\n",
      "8    A8   B8   C8   D8\n",
      "9    A9   B9   C9   D9\n",
      "10  A10  B10  C10  D10\n",
      "11  A11  B11  C11  D11\n"
     ]
    }
   ],
   "source": [
    "import pandas as pd\n",
    "df0 = pd.DataFrame()\n",
    "df1 = pd.DataFrame({'A': ['A0', 'A1', 'A2', 'A3'],\n",
    "                   'B': ['B0', 'B1', 'B2', 'B3'],\n",
    "                        'C': ['C0', 'C1', 'C2', 'C3'],\n",
    "                        'D': ['D0', 'D1', 'D2', 'D3']},\n",
    "                     index=[0, 1, 2, 3]) \n",
    "\n",
    "df2 = pd.DataFrame({'A': ['A4', 'A5', 'A6', 'A7'],\n",
    "                   'B': ['B4', 'B5', 'B6', 'B7'],\n",
    "                  'C': ['C4', 'C5', 'C6', 'C7'],\n",
    "                     'D': ['D4', 'D5', 'D6', 'D7']},\n",
    "                    index=[4, 5, 6, 7]) \n",
    "\n",
    "df3 = pd.DataFrame({'A': ['A8', 'A9', 'A10', 'A11'],\n",
    "                     'B': ['B8', 'B9', 'B10', 'B11'],\n",
    "                    'C': ['C8', 'C9', 'C10', 'C11'],\n",
    "                    'D': ['D8', 'D9', 'D10', 'D11']},\n",
    "                    index=[8, 9, 10, 11]) \n",
    "\n",
    "frames = [df0, df1, df2, df3]\n",
    "result = pd.concat(frames)\n",
    "print(result)"
   ]
  },
  {
   "cell_type": "code",
   "execution_count": 11,
   "metadata": {},
   "outputs": [
    {
     "data": {
      "text/html": [
       "<div>\n",
       "<style scoped>\n",
       "    .dataframe tbody tr th:only-of-type {\n",
       "        vertical-align: middle;\n",
       "    }\n",
       "\n",
       "    .dataframe tbody tr th {\n",
       "        vertical-align: top;\n",
       "    }\n",
       "\n",
       "    .dataframe thead th {\n",
       "        text-align: right;\n",
       "    }\n",
       "</style>\n",
       "<table border=\"1\" class=\"dataframe\">\n",
       "  <thead>\n",
       "    <tr style=\"text-align: right;\">\n",
       "      <th></th>\n",
       "      <th>A</th>\n",
       "      <th>B</th>\n",
       "      <th>C</th>\n",
       "      <th>D</th>\n",
       "      <th>B</th>\n",
       "      <th>D</th>\n",
       "      <th>F</th>\n",
       "    </tr>\n",
       "  </thead>\n",
       "  <tbody>\n",
       "    <tr>\n",
       "      <th>0</th>\n",
       "      <td>A0</td>\n",
       "      <td>B0</td>\n",
       "      <td>C0</td>\n",
       "      <td>D0</td>\n",
       "      <td>NaN</td>\n",
       "      <td>NaN</td>\n",
       "      <td>NaN</td>\n",
       "    </tr>\n",
       "    <tr>\n",
       "      <th>1</th>\n",
       "      <td>A1</td>\n",
       "      <td>B1</td>\n",
       "      <td>C1</td>\n",
       "      <td>D1</td>\n",
       "      <td>NaN</td>\n",
       "      <td>NaN</td>\n",
       "      <td>NaN</td>\n",
       "    </tr>\n",
       "    <tr>\n",
       "      <th>2</th>\n",
       "      <td>A2</td>\n",
       "      <td>B2</td>\n",
       "      <td>C2</td>\n",
       "      <td>D2</td>\n",
       "      <td>B2</td>\n",
       "      <td>D2</td>\n",
       "      <td>F2</td>\n",
       "    </tr>\n",
       "    <tr>\n",
       "      <th>3</th>\n",
       "      <td>A3</td>\n",
       "      <td>B3</td>\n",
       "      <td>C3</td>\n",
       "      <td>D3</td>\n",
       "      <td>B3</td>\n",
       "      <td>D3</td>\n",
       "      <td>F3</td>\n",
       "    </tr>\n",
       "    <tr>\n",
       "      <th>6</th>\n",
       "      <td>NaN</td>\n",
       "      <td>NaN</td>\n",
       "      <td>NaN</td>\n",
       "      <td>NaN</td>\n",
       "      <td>B6</td>\n",
       "      <td>D6</td>\n",
       "      <td>F6</td>\n",
       "    </tr>\n",
       "    <tr>\n",
       "      <th>7</th>\n",
       "      <td>NaN</td>\n",
       "      <td>NaN</td>\n",
       "      <td>NaN</td>\n",
       "      <td>NaN</td>\n",
       "      <td>B7</td>\n",
       "      <td>D7</td>\n",
       "      <td>F7</td>\n",
       "    </tr>\n",
       "  </tbody>\n",
       "</table>\n",
       "</div>"
      ],
      "text/plain": [
       "     A    B    C    D    B    D    F\n",
       "0   A0   B0   C0   D0  NaN  NaN  NaN\n",
       "1   A1   B1   C1   D1  NaN  NaN  NaN\n",
       "2   A2   B2   C2   D2   B2   D2   F2\n",
       "3   A3   B3   C3   D3   B3   D3   F3\n",
       "6  NaN  NaN  NaN  NaN   B6   D6   F6\n",
       "7  NaN  NaN  NaN  NaN   B7   D7   F7"
      ]
     },
     "execution_count": 11,
     "metadata": {},
     "output_type": "execute_result"
    }
   ],
   "source": [
    "df4 = pd.DataFrame({'B': ['B2', 'B3', 'B6', 'B7'],\n",
    "                        'D': ['D2', 'D3', 'D6', 'D7'],\n",
    "                        'F': ['F2', 'F3', 'F6', 'F7']},\n",
    "                       index=[2, 3, 6, 7])\n",
    "result = pd.concat([df1, df4], axis=1)\n",
    "result"
   ]
  },
  {
   "cell_type": "markdown",
   "metadata": {},
   "source": [
    "再看 一个增加空列的例子，主要参考了：[pandas dataframe在指定的位置添加一列, 或者一次性添加几列，reindex，pd.concat的使用](https://blog.csdn.net/AlanGuoo/article/details/76522429)"
   ]
  },
  {
   "cell_type": "code",
   "execution_count": 13,
   "metadata": {},
   "outputs": [
    {
     "data": {
      "text/html": [
       "<div>\n",
       "<style scoped>\n",
       "    .dataframe tbody tr th:only-of-type {\n",
       "        vertical-align: middle;\n",
       "    }\n",
       "\n",
       "    .dataframe tbody tr th {\n",
       "        vertical-align: top;\n",
       "    }\n",
       "\n",
       "    .dataframe thead th {\n",
       "        text-align: right;\n",
       "    }\n",
       "</style>\n",
       "<table border=\"1\" class=\"dataframe\">\n",
       "  <thead>\n",
       "    <tr style=\"text-align: right;\">\n",
       "      <th></th>\n",
       "      <th>B</th>\n",
       "      <th>D</th>\n",
       "      <th>F</th>\n",
       "      <th>flow</th>\n",
       "      <th>mode</th>\n",
       "    </tr>\n",
       "  </thead>\n",
       "  <tbody>\n",
       "    <tr>\n",
       "      <th>2</th>\n",
       "      <td>B2</td>\n",
       "      <td>D2</td>\n",
       "      <td>F2</td>\n",
       "      <td>NaN</td>\n",
       "      <td>NaN</td>\n",
       "    </tr>\n",
       "    <tr>\n",
       "      <th>3</th>\n",
       "      <td>B3</td>\n",
       "      <td>D3</td>\n",
       "      <td>F3</td>\n",
       "      <td>NaN</td>\n",
       "      <td>NaN</td>\n",
       "    </tr>\n",
       "    <tr>\n",
       "      <th>6</th>\n",
       "      <td>B6</td>\n",
       "      <td>D6</td>\n",
       "      <td>F6</td>\n",
       "      <td>NaN</td>\n",
       "      <td>NaN</td>\n",
       "    </tr>\n",
       "    <tr>\n",
       "      <th>7</th>\n",
       "      <td>B7</td>\n",
       "      <td>D7</td>\n",
       "      <td>F7</td>\n",
       "      <td>NaN</td>\n",
       "      <td>NaN</td>\n",
       "    </tr>\n",
       "  </tbody>\n",
       "</table>\n",
       "</div>"
      ],
      "text/plain": [
       "    B   D   F flow mode\n",
       "2  B2  D2  F2  NaN  NaN\n",
       "3  B3  D3  F3  NaN  NaN\n",
       "6  B6  D6  F6  NaN  NaN\n",
       "7  B7  D7  F7  NaN  NaN"
      ]
     },
     "execution_count": 13,
     "metadata": {},
     "output_type": "execute_result"
    }
   ],
   "source": [
    "df5 = pd.concat([df4, pd.DataFrame(columns=['flow', 'mode'])])\n",
    "df5"
   ]
  },
  {
   "cell_type": "markdown",
   "metadata": {},
   "source": [
    "reindex可以来重新索引，如下所示，只用了df1的index，所以就剩下4行了"
   ]
  },
  {
   "cell_type": "code",
   "execution_count": 17,
   "metadata": {},
   "outputs": [
    {
     "data": {
      "text/html": [
       "<div>\n",
       "<style scoped>\n",
       "    .dataframe tbody tr th:only-of-type {\n",
       "        vertical-align: middle;\n",
       "    }\n",
       "\n",
       "    .dataframe tbody tr th {\n",
       "        vertical-align: top;\n",
       "    }\n",
       "\n",
       "    .dataframe thead th {\n",
       "        text-align: right;\n",
       "    }\n",
       "</style>\n",
       "<table border=\"1\" class=\"dataframe\">\n",
       "  <thead>\n",
       "    <tr style=\"text-align: right;\">\n",
       "      <th></th>\n",
       "      <th>B</th>\n",
       "      <th>D</th>\n",
       "      <th>F</th>\n",
       "      <th>flow</th>\n",
       "      <th>mode</th>\n",
       "    </tr>\n",
       "  </thead>\n",
       "  <tbody>\n",
       "    <tr>\n",
       "      <th>0</th>\n",
       "      <td>NaN</td>\n",
       "      <td>NaN</td>\n",
       "      <td>NaN</td>\n",
       "      <td>NaN</td>\n",
       "      <td>NaN</td>\n",
       "    </tr>\n",
       "    <tr>\n",
       "      <th>1</th>\n",
       "      <td>NaN</td>\n",
       "      <td>NaN</td>\n",
       "      <td>NaN</td>\n",
       "      <td>NaN</td>\n",
       "      <td>NaN</td>\n",
       "    </tr>\n",
       "    <tr>\n",
       "      <th>2</th>\n",
       "      <td>B2</td>\n",
       "      <td>D2</td>\n",
       "      <td>F2</td>\n",
       "      <td>NaN</td>\n",
       "      <td>NaN</td>\n",
       "    </tr>\n",
       "    <tr>\n",
       "      <th>3</th>\n",
       "      <td>B3</td>\n",
       "      <td>D3</td>\n",
       "      <td>F3</td>\n",
       "      <td>NaN</td>\n",
       "      <td>NaN</td>\n",
       "    </tr>\n",
       "  </tbody>\n",
       "</table>\n",
       "</div>"
      ],
      "text/plain": [
       "     B    D    F flow mode\n",
       "0  NaN  NaN  NaN  NaN  NaN\n",
       "1  NaN  NaN  NaN  NaN  NaN\n",
       "2   B2   D2   F2  NaN  NaN\n",
       "3   B3   D3   F3  NaN  NaN"
      ]
     },
     "execution_count": 17,
     "metadata": {},
     "output_type": "execute_result"
    }
   ],
   "source": [
    "df5.reindex(df1.index)"
   ]
  },
  {
   "cell_type": "markdown",
   "metadata": {},
   "source": [
    "另外还有一个多列拼接成一列的小例子，几列字符串拼为一列字符串："
   ]
  },
  {
   "cell_type": "code",
   "execution_count": 13,
   "metadata": {},
   "outputs": [
    {
     "name": "stdout",
     "output_type": "stream",
     "text": [
      "       a  c\n",
      "0  0-0-0  0\n",
      "1  1-1-1  1\n",
      "2  2-2-2  2\n"
     ]
    }
   ],
   "source": [
    "df = pd.DataFrame({\"a\": range(3), \"b\": range(3), \"c\": range(3)})\n",
    "# 结构很简单: 第一列的名称.str.cat(第二列的名称)\n",
    "df['a'] = df.iloc[:, 0].apply(str) + \"-\" + df['b'].apply(str) + \"-\" + df['b'].apply(str)\n",
    "# 拼接之后，只留下特定的几列\n",
    "df = df[['a', 'c']]\n",
    "print(df)"
   ]
  },
  {
   "cell_type": "markdown",
   "metadata": {},
   "source": [
    "多个Series拼接"
   ]
  },
  {
   "cell_type": "code",
   "execution_count": 2,
   "metadata": {},
   "outputs": [
    {
     "name": "stdout",
     "output_type": "stream",
     "text": [
      "<class 'pandas.core.indexes.datetimes.DatetimeIndex'>\n",
      "构建一个序列，并以时间做index： 2011-01-01    1\n",
      "2011-01-02    2\n",
      "Freq: D, Name: aa, dtype: int64\n",
      "拼接a和b：              aa    0\n",
      "2011-01-01  1.0  NaN\n",
      "2011-01-02  2.0  2.0\n",
      "2011-01-03  NaN  3.0\n",
      "2011-01-04  NaN  4.0\n",
      "拼接df1和c：              aa    0    0\n",
      "2011-01-01  1.0  NaN  5.0\n",
      "2011-01-02  2.0  2.0  6.0\n",
      "2011-01-03  NaN  3.0  NaN\n",
      "2011-01-04  NaN  4.0  NaN\n",
      "拼接多个目标：              aa    0    0    1\n",
      "2011-01-01  1.0  NaN  5.0  5.0\n",
      "2011-01-02  2.0  2.0  6.0  6.0\n",
      "2011-01-03  NaN  3.0  NaN  NaN\n",
      "2011-01-04  NaN  4.0  NaN  NaN\n"
     ]
    }
   ],
   "source": [
    "import pandas as pd\n",
    "# 初始化的时候不起名，后面rename没有用\n",
    "a = pd.Series([1, 2], name='aa')\n",
    "rng1 = pd.date_range('2011-1-1', periods=2, freq='D')\n",
    "print(type(rng1))\n",
    "a.index = rng1\n",
    "print(\"构建一个序列，并以时间做index：\",a)\n",
    "b = pd.Series([2, 3, 4])\n",
    "rng2 = pd.date_range('2011-1-2', periods=3, freq='D')\n",
    "b.index = rng2\n",
    "df1 = pd.concat([a, b], axis=1)\n",
    "print(\"拼接a和b：\",df1)\n",
    "c = pd.Series([5, 6])\n",
    "rng3 = pd.date_range('2011-1-1', periods=2, freq='D')\n",
    "c.index = rng3\n",
    "df2 = pd.concat([df1, c], axis=1)\n",
    "print(\"拼接df1和c：\",df2)\n",
    "# 尝试直接拼接多个：\n",
    "df3 = pd.concat([df1, c, c], axis=1)\n",
    "print(\"拼接多个目标：\",df3)"
   ]
  },
  {
   "cell_type": "markdown",
   "metadata": {},
   "source": [
    "拼接还可以使用append："
   ]
  },
  {
   "cell_type": "code",
   "execution_count": 15,
   "metadata": {},
   "outputs": [
    {
     "data": {
      "text/html": [
       "<div>\n",
       "<style scoped>\n",
       "    .dataframe tbody tr th:only-of-type {\n",
       "        vertical-align: middle;\n",
       "    }\n",
       "\n",
       "    .dataframe tbody tr th {\n",
       "        vertical-align: top;\n",
       "    }\n",
       "\n",
       "    .dataframe thead th {\n",
       "        text-align: right;\n",
       "    }\n",
       "</style>\n",
       "<table border=\"1\" class=\"dataframe\">\n",
       "  <thead>\n",
       "    <tr style=\"text-align: right;\">\n",
       "      <th></th>\n",
       "      <th>A</th>\n",
       "      <th>B</th>\n",
       "      <th>C</th>\n",
       "      <th>D</th>\n",
       "    </tr>\n",
       "  </thead>\n",
       "  <tbody>\n",
       "    <tr>\n",
       "      <th>0</th>\n",
       "      <td>A0</td>\n",
       "      <td>B0</td>\n",
       "      <td>C0</td>\n",
       "      <td>D0</td>\n",
       "    </tr>\n",
       "    <tr>\n",
       "      <th>1</th>\n",
       "      <td>A1</td>\n",
       "      <td>B1</td>\n",
       "      <td>C1</td>\n",
       "      <td>D1</td>\n",
       "    </tr>\n",
       "    <tr>\n",
       "      <th>2</th>\n",
       "      <td>A2</td>\n",
       "      <td>B2</td>\n",
       "      <td>C2</td>\n",
       "      <td>D2</td>\n",
       "    </tr>\n",
       "    <tr>\n",
       "      <th>3</th>\n",
       "      <td>A3</td>\n",
       "      <td>B3</td>\n",
       "      <td>C3</td>\n",
       "      <td>D3</td>\n",
       "    </tr>\n",
       "    <tr>\n",
       "      <th>4</th>\n",
       "      <td>A4</td>\n",
       "      <td>B4</td>\n",
       "      <td>C4</td>\n",
       "      <td>D4</td>\n",
       "    </tr>\n",
       "    <tr>\n",
       "      <th>5</th>\n",
       "      <td>A5</td>\n",
       "      <td>B5</td>\n",
       "      <td>C5</td>\n",
       "      <td>D5</td>\n",
       "    </tr>\n",
       "    <tr>\n",
       "      <th>6</th>\n",
       "      <td>A6</td>\n",
       "      <td>B6</td>\n",
       "      <td>C6</td>\n",
       "      <td>D6</td>\n",
       "    </tr>\n",
       "    <tr>\n",
       "      <th>7</th>\n",
       "      <td>A7</td>\n",
       "      <td>B7</td>\n",
       "      <td>C7</td>\n",
       "      <td>D7</td>\n",
       "    </tr>\n",
       "  </tbody>\n",
       "</table>\n",
       "</div>"
      ],
      "text/plain": [
       "    A   B   C   D\n",
       "0  A0  B0  C0  D0\n",
       "1  A1  B1  C1  D1\n",
       "2  A2  B2  C2  D2\n",
       "3  A3  B3  C3  D3\n",
       "4  A4  B4  C4  D4\n",
       "5  A5  B5  C5  D5\n",
       "6  A6  B6  C6  D6\n",
       "7  A7  B7  C7  D7"
      ]
     },
     "execution_count": 15,
     "metadata": {},
     "output_type": "execute_result"
    }
   ],
   "source": [
    "df1 = pd.DataFrame({'A': ['A0', 'A1', 'A2', 'A3'],\n",
    "                        'B': ['B0', 'B1', 'B2', 'B3'],\n",
    "                        'C': ['C0', 'C1', 'C2', 'C3'],\n",
    "                        'D': ['D0', 'D1', 'D2', 'D3']},\n",
    "                       index=[0, 1, 2, 3])\n",
    "df2 = pd.DataFrame({'A': ['A4', 'A5', 'A6', 'A7'],\n",
    "                        'B': ['B4', 'B5', 'B6', 'B7'],\n",
    "                        'C': ['C4', 'C5', 'C6', 'C7'],\n",
    "                        'D': ['D4', 'D5', 'D6', 'D7']},\n",
    "                       index=[4, 5, 6, 7])\n",
    "result = df1.append(df2)\n",
    "result"
   ]
  },
  {
   "cell_type": "markdown",
   "metadata": {},
   "source": [
    "#### 修改操作\n",
    "\n",
    "包括修改行列名，交换行列等操作。"
   ]
  },
  {
   "cell_type": "code",
   "execution_count": 16,
   "metadata": {},
   "outputs": [
    {
     "name": "stdout",
     "output_type": "stream",
     "text": [
      "  new1 new2 new3 new4\n",
      "4   A4   B4   C4   D4\n",
      "5   A5   B5   C5   D5\n",
      "6   A6   B6   C6   D6\n",
      "7   A7   B7   C7   D7\n",
      "  new2 new1 new3 new4\n",
      "4   B4   A4   C4   D4\n",
      "5   B5   A5   C5   D5\n",
      "6   B6   A6   C6   D6\n",
      "7   B7   A7   C7   D7\n"
     ]
    }
   ],
   "source": [
    "\"\"\"重新命名各列\"\"\"\n",
    "new_col = ['new1', 'new2', 'new3', 'new4']\n",
    "df2.columns = new_col\n",
    "print(df2)\n",
    "\n",
    "\"\"\"交换列的位置\"\"\"\n",
    "order = ['new2', 'new1', 'new3', 'new4']\n",
    "df2 = df2[order]\n",
    "print(df2)"
   ]
  },
  {
   "cell_type": "markdown",
   "metadata": {},
   "source": [
    "行列拆分，参考[DataFrame一列拆成多列以及一行拆成多行](https://blog.csdn.net/Asher117/article/details/84346073)，在数据分析时，经常需要把DataFrame的一列拆成多列或者根据某列把一行拆成多行。"
   ]
  },
  {
   "cell_type": "code",
   "execution_count": 17,
   "metadata": {},
   "outputs": [
    {
     "data": {
      "text/html": [
       "<div>\n",
       "<style scoped>\n",
       "    .dataframe tbody tr th:only-of-type {\n",
       "        vertical-align: middle;\n",
       "    }\n",
       "\n",
       "    .dataframe tbody tr th {\n",
       "        vertical-align: top;\n",
       "    }\n",
       "\n",
       "    .dataframe thead th {\n",
       "        text-align: right;\n",
       "    }\n",
       "</style>\n",
       "<table border=\"1\" class=\"dataframe\">\n",
       "  <thead>\n",
       "    <tr style=\"text-align: right;\">\n",
       "      <th></th>\n",
       "      <th>Country</th>\n",
       "      <th>City</th>\n",
       "    </tr>\n",
       "  </thead>\n",
       "  <tbody>\n",
       "    <tr>\n",
       "      <th>0</th>\n",
       "      <td>China</td>\n",
       "      <td>Shanghai|Shenzhen</td>\n",
       "    </tr>\n",
       "    <tr>\n",
       "      <th>1</th>\n",
       "      <td>America</td>\n",
       "      <td>New York|State College</td>\n",
       "    </tr>\n",
       "    <tr>\n",
       "      <th>2</th>\n",
       "      <td>Japan</td>\n",
       "      <td>Tokyo|Osaka</td>\n",
       "    </tr>\n",
       "  </tbody>\n",
       "</table>\n",
       "</div>"
      ],
      "text/plain": [
       "   Country                    City\n",
       "0    China       Shanghai|Shenzhen\n",
       "1  America  New York|State College\n",
       "2    Japan             Tokyo|Osaka"
      ]
     },
     "execution_count": 17,
     "metadata": {},
     "output_type": "execute_result"
    }
   ],
   "source": [
    "import pandas as pd\n",
    "\n",
    "df= pd.DataFrame({'Country': ['China', 'America', 'Japan'],\n",
    "                   'City': ['Shanghai|Shenzhen', 'New York|State College', 'Tokyo|Osaka']},\n",
    "                     index=[0, 1, 2])\n",
    "df"
   ]
  },
  {
   "cell_type": "code",
   "execution_count": 18,
   "metadata": {},
   "outputs": [
    {
     "data": {
      "text/html": [
       "<div>\n",
       "<style scoped>\n",
       "    .dataframe tbody tr th:only-of-type {\n",
       "        vertical-align: middle;\n",
       "    }\n",
       "\n",
       "    .dataframe tbody tr th {\n",
       "        vertical-align: top;\n",
       "    }\n",
       "\n",
       "    .dataframe thead th {\n",
       "        text-align: right;\n",
       "    }\n",
       "</style>\n",
       "<table border=\"1\" class=\"dataframe\">\n",
       "  <thead>\n",
       "    <tr style=\"text-align: right;\">\n",
       "      <th></th>\n",
       "      <th>Country</th>\n",
       "      <th>City</th>\n",
       "      <th>Citys</th>\n",
       "    </tr>\n",
       "  </thead>\n",
       "  <tbody>\n",
       "    <tr>\n",
       "      <th>0</th>\n",
       "      <td>China</td>\n",
       "      <td>Shanghai|Shenzhen</td>\n",
       "      <td>[Shanghai, Shenzhen]</td>\n",
       "    </tr>\n",
       "    <tr>\n",
       "      <th>1</th>\n",
       "      <td>America</td>\n",
       "      <td>New York|State College</td>\n",
       "      <td>[New York, State College]</td>\n",
       "    </tr>\n",
       "    <tr>\n",
       "      <th>2</th>\n",
       "      <td>Japan</td>\n",
       "      <td>Tokyo|Osaka</td>\n",
       "      <td>[Tokyo, Osaka]</td>\n",
       "    </tr>\n",
       "  </tbody>\n",
       "</table>\n",
       "</div>"
      ],
      "text/plain": [
       "   Country                    City                      Citys\n",
       "0    China       Shanghai|Shenzhen       [Shanghai, Shenzhen]\n",
       "1  America  New York|State College  [New York, State College]\n",
       "2    Japan             Tokyo|Osaka             [Tokyo, Osaka]"
      ]
     },
     "execution_count": 18,
     "metadata": {},
     "output_type": "execute_result"
    }
   ],
   "source": [
    "df['Citys']=df['City'].map(lambda x: x.split('|'))\n",
    "df"
   ]
  },
  {
   "cell_type": "code",
   "execution_count": 19,
   "metadata": {},
   "outputs": [
    {
     "data": {
      "text/html": [
       "<div>\n",
       "<style scoped>\n",
       "    .dataframe tbody tr th:only-of-type {\n",
       "        vertical-align: middle;\n",
       "    }\n",
       "\n",
       "    .dataframe tbody tr th {\n",
       "        vertical-align: top;\n",
       "    }\n",
       "\n",
       "    .dataframe thead th {\n",
       "        text-align: right;\n",
       "    }\n",
       "</style>\n",
       "<table border=\"1\" class=\"dataframe\">\n",
       "  <thead>\n",
       "    <tr style=\"text-align: right;\">\n",
       "      <th></th>\n",
       "      <th>Country</th>\n",
       "      <th>City</th>\n",
       "      <th>Citys</th>\n",
       "      <th>City1</th>\n",
       "      <th>City2</th>\n",
       "    </tr>\n",
       "  </thead>\n",
       "  <tbody>\n",
       "    <tr>\n",
       "      <th>0</th>\n",
       "      <td>China</td>\n",
       "      <td>Shanghai|Shenzhen</td>\n",
       "      <td>[Shanghai, Shenzhen]</td>\n",
       "      <td>Shanghai</td>\n",
       "      <td>Shenzhen</td>\n",
       "    </tr>\n",
       "    <tr>\n",
       "      <th>1</th>\n",
       "      <td>America</td>\n",
       "      <td>New York|State College</td>\n",
       "      <td>[New York, State College]</td>\n",
       "      <td>New York</td>\n",
       "      <td>State College</td>\n",
       "    </tr>\n",
       "    <tr>\n",
       "      <th>2</th>\n",
       "      <td>Japan</td>\n",
       "      <td>Tokyo|Osaka</td>\n",
       "      <td>[Tokyo, Osaka]</td>\n",
       "      <td>Tokyo</td>\n",
       "      <td>Osaka</td>\n",
       "    </tr>\n",
       "  </tbody>\n",
       "</table>\n",
       "</div>"
      ],
      "text/plain": [
       "   Country                    City                      Citys     City1  \\\n",
       "0    China       Shanghai|Shenzhen       [Shanghai, Shenzhen]  Shanghai   \n",
       "1  America  New York|State College  [New York, State College]  New York   \n",
       "2    Japan             Tokyo|Osaka             [Tokyo, Osaka]     Tokyo   \n",
       "\n",
       "           City2  \n",
       "0       Shenzhen  \n",
       "1  State College  \n",
       "2          Osaka  "
      ]
     },
     "execution_count": 19,
     "metadata": {},
     "output_type": "execute_result"
    }
   ],
   "source": [
    "df['City1']=df['City'].map(lambda x: x.split('|')[0])\n",
    "df['City2']=df['City'].map(lambda x: x.split('|')[1])\n",
    "df"
   ]
  },
  {
   "cell_type": "markdown",
   "metadata": {},
   "source": [
    "除了上面的拆分，还有将各列拼接到一起，重新组织成符合数据库范式形式的表格，这就要用到十分常用的melt函数了，转换后的格式：其中一个或多个列是标识符变量，而所有其他列(被认为是测量变量)都不以行轴为轴，**只留下两个非标识符列**(变量和值)。"
   ]
  },
  {
   "cell_type": "code",
   "execution_count": 20,
   "metadata": {},
   "outputs": [
    {
     "data": {
      "text/html": [
       "<div>\n",
       "<style scoped>\n",
       "    .dataframe tbody tr th:only-of-type {\n",
       "        vertical-align: middle;\n",
       "    }\n",
       "\n",
       "    .dataframe tbody tr th {\n",
       "        vertical-align: top;\n",
       "    }\n",
       "\n",
       "    .dataframe thead th {\n",
       "        text-align: right;\n",
       "    }\n",
       "</style>\n",
       "<table border=\"1\" class=\"dataframe\">\n",
       "  <thead>\n",
       "    <tr style=\"text-align: right;\">\n",
       "      <th></th>\n",
       "      <th>A</th>\n",
       "      <th>B</th>\n",
       "      <th>C</th>\n",
       "    </tr>\n",
       "  </thead>\n",
       "  <tbody>\n",
       "    <tr>\n",
       "      <th>0</th>\n",
       "      <td>a</td>\n",
       "      <td>1</td>\n",
       "      <td>2</td>\n",
       "    </tr>\n",
       "    <tr>\n",
       "      <th>1</th>\n",
       "      <td>b</td>\n",
       "      <td>3</td>\n",
       "      <td>4</td>\n",
       "    </tr>\n",
       "    <tr>\n",
       "      <th>2</th>\n",
       "      <td>c</td>\n",
       "      <td>5</td>\n",
       "      <td>6</td>\n",
       "    </tr>\n",
       "  </tbody>\n",
       "</table>\n",
       "</div>"
      ],
      "text/plain": [
       "   A  B  C\n",
       "0  a  1  2\n",
       "1  b  3  4\n",
       "2  c  5  6"
      ]
     },
     "execution_count": 20,
     "metadata": {},
     "output_type": "execute_result"
    }
   ],
   "source": [
    "import pandas as pd\n",
    "df = pd.DataFrame({'A': {0: 'a', 1: 'b', 2: 'c'},\n",
    "                    'B': {0: 1, 1: 3, 2: 5},\n",
    "                    'C': {0: 2, 1: 4, 2: 6}})\n",
    "df"
   ]
  },
  {
   "cell_type": "code",
   "execution_count": 21,
   "metadata": {},
   "outputs": [
    {
     "data": {
      "text/html": [
       "<div>\n",
       "<style scoped>\n",
       "    .dataframe tbody tr th:only-of-type {\n",
       "        vertical-align: middle;\n",
       "    }\n",
       "\n",
       "    .dataframe tbody tr th {\n",
       "        vertical-align: top;\n",
       "    }\n",
       "\n",
       "    .dataframe thead th {\n",
       "        text-align: right;\n",
       "    }\n",
       "</style>\n",
       "<table border=\"1\" class=\"dataframe\">\n",
       "  <thead>\n",
       "    <tr style=\"text-align: right;\">\n",
       "      <th></th>\n",
       "      <th>A</th>\n",
       "      <th>variable</th>\n",
       "      <th>value</th>\n",
       "    </tr>\n",
       "  </thead>\n",
       "  <tbody>\n",
       "    <tr>\n",
       "      <th>0</th>\n",
       "      <td>a</td>\n",
       "      <td>B</td>\n",
       "      <td>1</td>\n",
       "    </tr>\n",
       "    <tr>\n",
       "      <th>1</th>\n",
       "      <td>b</td>\n",
       "      <td>B</td>\n",
       "      <td>3</td>\n",
       "    </tr>\n",
       "    <tr>\n",
       "      <th>2</th>\n",
       "      <td>c</td>\n",
       "      <td>B</td>\n",
       "      <td>5</td>\n",
       "    </tr>\n",
       "  </tbody>\n",
       "</table>\n",
       "</div>"
      ],
      "text/plain": [
       "   A variable  value\n",
       "0  a        B      1\n",
       "1  b        B      3\n",
       "2  c        B      5"
      ]
     },
     "execution_count": 21,
     "metadata": {},
     "output_type": "execute_result"
    }
   ],
   "source": [
    "pd.melt(df, id_vars=['A'], value_vars=['B'])"
   ]
  },
  {
   "cell_type": "code",
   "execution_count": 22,
   "metadata": {},
   "outputs": [
    {
     "data": {
      "text/html": [
       "<div>\n",
       "<style scoped>\n",
       "    .dataframe tbody tr th:only-of-type {\n",
       "        vertical-align: middle;\n",
       "    }\n",
       "\n",
       "    .dataframe tbody tr th {\n",
       "        vertical-align: top;\n",
       "    }\n",
       "\n",
       "    .dataframe thead th {\n",
       "        text-align: right;\n",
       "    }\n",
       "</style>\n",
       "<table border=\"1\" class=\"dataframe\">\n",
       "  <thead>\n",
       "    <tr style=\"text-align: right;\">\n",
       "      <th></th>\n",
       "      <th>A</th>\n",
       "      <th>variable</th>\n",
       "      <th>value</th>\n",
       "    </tr>\n",
       "  </thead>\n",
       "  <tbody>\n",
       "    <tr>\n",
       "      <th>0</th>\n",
       "      <td>a</td>\n",
       "      <td>B</td>\n",
       "      <td>1</td>\n",
       "    </tr>\n",
       "    <tr>\n",
       "      <th>1</th>\n",
       "      <td>b</td>\n",
       "      <td>B</td>\n",
       "      <td>3</td>\n",
       "    </tr>\n",
       "    <tr>\n",
       "      <th>2</th>\n",
       "      <td>c</td>\n",
       "      <td>B</td>\n",
       "      <td>5</td>\n",
       "    </tr>\n",
       "    <tr>\n",
       "      <th>3</th>\n",
       "      <td>a</td>\n",
       "      <td>C</td>\n",
       "      <td>2</td>\n",
       "    </tr>\n",
       "    <tr>\n",
       "      <th>4</th>\n",
       "      <td>b</td>\n",
       "      <td>C</td>\n",
       "      <td>4</td>\n",
       "    </tr>\n",
       "    <tr>\n",
       "      <th>5</th>\n",
       "      <td>c</td>\n",
       "      <td>C</td>\n",
       "      <td>6</td>\n",
       "    </tr>\n",
       "  </tbody>\n",
       "</table>\n",
       "</div>"
      ],
      "text/plain": [
       "   A variable  value\n",
       "0  a        B      1\n",
       "1  b        B      3\n",
       "2  c        B      5\n",
       "3  a        C      2\n",
       "4  b        C      4\n",
       "5  c        C      6"
      ]
     },
     "execution_count": 22,
     "metadata": {},
     "output_type": "execute_result"
    }
   ],
   "source": [
    "pd.melt(df, id_vars=['A'], value_vars=['B', 'C'])"
   ]
  },
  {
   "cell_type": "code",
   "execution_count": 23,
   "metadata": {},
   "outputs": [
    {
     "data": {
      "text/html": [
       "<div>\n",
       "<style scoped>\n",
       "    .dataframe tbody tr th:only-of-type {\n",
       "        vertical-align: middle;\n",
       "    }\n",
       "\n",
       "    .dataframe tbody tr th {\n",
       "        vertical-align: top;\n",
       "    }\n",
       "\n",
       "    .dataframe thead th {\n",
       "        text-align: right;\n",
       "    }\n",
       "</style>\n",
       "<table border=\"1\" class=\"dataframe\">\n",
       "  <thead>\n",
       "    <tr style=\"text-align: right;\">\n",
       "      <th></th>\n",
       "      <th>A</th>\n",
       "      <th>myVarname</th>\n",
       "      <th>myValname</th>\n",
       "    </tr>\n",
       "  </thead>\n",
       "  <tbody>\n",
       "    <tr>\n",
       "      <th>0</th>\n",
       "      <td>a</td>\n",
       "      <td>B</td>\n",
       "      <td>1</td>\n",
       "    </tr>\n",
       "    <tr>\n",
       "      <th>1</th>\n",
       "      <td>b</td>\n",
       "      <td>B</td>\n",
       "      <td>3</td>\n",
       "    </tr>\n",
       "    <tr>\n",
       "      <th>2</th>\n",
       "      <td>c</td>\n",
       "      <td>B</td>\n",
       "      <td>5</td>\n",
       "    </tr>\n",
       "  </tbody>\n",
       "</table>\n",
       "</div>"
      ],
      "text/plain": [
       "   A myVarname  myValname\n",
       "0  a         B          1\n",
       "1  b         B          3\n",
       "2  c         B          5"
      ]
     },
     "execution_count": 23,
     "metadata": {},
     "output_type": "execute_result"
    }
   ],
   "source": [
    "pd.melt(df, id_vars=['A'], value_vars=['B'], var_name='myVarname', value_name='myValname')"
   ]
  },
  {
   "cell_type": "markdown",
   "metadata": {},
   "source": [
    "#### 索引，切片等操作\n",
    "\n",
    "首先是直接[]索引，以及loc和iloc的使用，这是pandas中最常用的索引方式。"
   ]
  },
  {
   "cell_type": "code",
   "execution_count": 6,
   "metadata": {},
   "outputs": [
    {
     "name": "stdout",
     "output_type": "stream",
     "text": [
      "    w   x   y   z\n",
      "a   0   1   2   3\n",
      "b   4   5   6   7\n",
      "c   8   9  10  11\n",
      "d  12  13  14  15\n",
      "选择表格中的'w'列，使用类字典属性,返回的是Series类型: a     0\n",
      "b     4\n",
      "c     8\n",
      "d    12\n",
      "Name: w, dtype: int32\n",
      "选择表格中的'w'列，使用点属性,返回的是Series类型: a     0\n",
      "b     4\n",
      "c     8\n",
      "d    12\n",
      "Name: w, dtype: int32\n",
      "选择表格中的'w'列，返回的是DataFrame属性:     w\n",
      "a   0\n",
      "b   4\n",
      "c   8\n",
      "d  12\n",
      "选择表格中的'w'、'z'列:     w   z\n",
      "a   0   3\n",
      "b   4   7\n",
      "c   8  11\n",
      "d  12  15\n",
      "返回第1行到第2行的所有行，前闭后开，包括前不包括后:    w  x  y  z\n",
      "a  0  1  2  3\n",
      "b  4  5  6  7\n",
      " #返回第2行，从0计，返回的是单行，通过有前后值的索引形式:    w  x  y  z\n",
      "b  4  5  6  7\n",
      "#返回第2行的第三种方法，返回的是DataFrame，跟data[1:2]同:    w  x  y  z\n",
      "b  4  5  6  7\n",
      " #利用index值进行切片，返回的是**前闭后闭**的DataFrame:    w  x  y  z\n",
      "a  0  1  2  3\n",
      "b  4  5  6  7\n",
      "#返回data的前几行数据，默认为前五行，需要前十行则dta.head(10):     w   x   y   z\n",
      "a   0   1   2   3\n",
      "b   4   5   6   7\n",
      "c   8   9  10  11\n",
      "d  12  13  14  15\n",
      "#返回data的后几行数据，默认为后五行，需要后十行则data.tail(10):     w   x   y   z\n",
      "a   0   1   2   3\n",
      "b   4   5   6   7\n",
      "c   8   9  10  11\n",
      "d  12  13  14  15\n",
      "#选取DataFrame最后一行，返回的是Series: w    12\n",
      "x    13\n",
      "y    14\n",
      "z    15\n",
      "Name: d, dtype: int32\n",
      "#选取DataFrame最后一行，返回的是DataFrame:     w   x   y   z\n",
      "d  12  13  14  15\n",
      "#返回‘a’行'w'、'x'列，这种用于选取行索引列索引已知 w    0\n",
      "x    1\n",
      "Name: a, dtype: int32\n",
      "#选取第二行第二列，用于已知行、列位置的选取: 5\n"
     ]
    }
   ],
   "source": [
    "import numpy as np\n",
    "import pandas as pd\n",
    "\n",
    "ser = pd.Series(np.arange(3.))\n",
    "\n",
    "data = pd.DataFrame(np.arange(16).reshape(4,4),index=list('abcd'),columns=list('wxyz'))\n",
    "print(data)\n",
    "print(\"选择表格中的'w'列，使用类字典属性,返回的是Series类型:\", data['w'])\n",
    "\n",
    "print(\"选择表格中的'w'列，使用点属性,返回的是Series类型:\",data.w)\n",
    "\n",
    "print(\"选择表格中的'w'列，返回的是DataFrame属性:\",data[['w']])\n",
    "\n",
    "print(\"选择表格中的'w'、'z'列:\",data[['w','z']])  \n",
    "\n",
    "print(\"返回第1行到第2行的所有行，前闭后开，包括前不包括后:\",data[0:2])\n",
    "\n",
    "print(\" #返回第2行，从0计，返回的是单行，通过有前后值的索引形式:\",data[1:2]) \n",
    "       #如果采用data[1]则报错\n",
    "\n",
    "print(\"#返回第2行的第三种方法，返回的是DataFrame，跟data[1:2]同:\",data.iloc[1:2]) \n",
    "\n",
    "print(\" #利用index值进行切片，返回的是**前闭后闭**的DataFrame:\",data['a':'b']) \n",
    "\n",
    "print(\"#返回data的前几行数据，默认为前五行，需要前十行则dta.head(10):\",data.head())  \n",
    "print(\"#返回data的后几行数据，默认为后五行，需要后十行则data.tail(10):\",data.tail())  \n",
    "\n",
    "\n",
    "print(\"#选取DataFrame最后一行，返回的是Series:\",data.iloc[-1])   \n",
    "print(\"#选取DataFrame最后一行，返回的是DataFrame:\",data.iloc[-1:])  \n",
    "\n",
    "print(\"#返回‘a’行'w'、'x'列，这种用于选取行索引列索引已知\",data.loc['a',['w','x']])   \n",
    "\n",
    "print(\"#选取第二行第二列，用于已知行、列位置的选取:\",data.iat[1,1])   "
   ]
  },
  {
   "cell_type": "markdown",
   "metadata": {},
   "source": [
    "如果某列用字符串索引，行用数字索引，那么需要这样做："
   ]
  },
  {
   "cell_type": "code",
   "execution_count": 8,
   "metadata": {},
   "outputs": [
    {
     "name": "stdout",
     "output_type": "stream",
     "text": [
      "    w   x   y   z\n",
      "a   0   1   2   3\n",
      "b   4   5   6   7\n",
      "c   8   9  10  11\n",
      "d  12  13  14  15\n"
     ]
    },
    {
     "data": {
      "text/plain": [
       "1"
      ]
     },
     "execution_count": 8,
     "metadata": {},
     "output_type": "execute_result"
    }
   ],
   "source": [
    "data = pd.DataFrame(np.arange(16).reshape(4,4),index=list('abcd'),columns=list('wxyz'))\n",
    "print(data)\n",
    "data['x'][0]"
   ]
  },
  {
   "cell_type": "code",
   "execution_count": 29,
   "metadata": {},
   "outputs": [
    {
     "name": "stdout",
     "output_type": "stream",
     "text": [
      "             aa    0    0\n",
      "2011-01-01  1.0  NaN  5.0\n",
      "2011-01-02  2.0  2.0  6.0\n",
      "             aa    0\n",
      "2011-01-01  1.0  NaN\n",
      "2011-01-02  2.0  2.0\n",
      "2011-01-03  NaN  3.0\n",
      "2011-01-04  NaN  4.0\n",
      "             aa    0\n",
      "2011-01-01  1.0  NaN\n",
      "2011-01-02  2.0  2.0\n"
     ]
    }
   ],
   "source": [
    "\"\"\"取dataframe指定多行列 slice操作\"\"\"\n",
    "# 取多行\n",
    "print(df2.iloc[0:2])\n",
    "# 取多列\n",
    "print(df2.iloc[:, 0:2])\n",
    "# 取多行多列\n",
    "print(df2.iloc[0:2, 0:2])"
   ]
  },
  {
   "cell_type": "markdown",
   "metadata": {},
   "source": [
    "series的slice"
   ]
  },
  {
   "cell_type": "code",
   "execution_count": 30,
   "metadata": {},
   "outputs": [
    {
     "name": "stdout",
     "output_type": "stream",
     "text": [
      "------------------Series查询操作----------------------\n",
      "1\n",
      "a    1\n",
      "b    2\n",
      "dtype: int64\n",
      "c    3\n",
      "d    4\n",
      "dtype: int64\n",
      "a    1\n",
      "b    2\n",
      "dtype: int64\n",
      "a    1\n",
      "b    2\n",
      "c    3\n",
      "dtype: int64\n"
     ]
    }
   ],
   "source": [
    "\"\"\"给Series作slice操作\"\"\"\n",
    "arr = [1, 2, 3, 4]  # 创建数组\n",
    "series_1 = pd.Series(arr)\n",
    "series_1.index = ['a', 'b', 'c', 'd']\n",
    "print(\"------------------Series查询操作----------------------\")\n",
    "print(series_1['a'])\n",
    "print(series_1[['a', 'b']])\n",
    "print(series_1[series_1 > 2])\n",
    "print(series_1[:2])\n",
    "print(series_1['a':'c'])"
   ]
  },
  {
   "cell_type": "markdown",
   "metadata": {},
   "source": [
    "在dataframe中还常用到条件筛选。参考[30分钟带你入门数据分析工具 Pandas（上篇），果断收藏](https://zhuanlan.zhihu.com/p/44174554)，用中括号 [] 的方式，除了直接指定选中某些列外，还能接收一个条件语句，然后筛选出符合条件的行/列。比如："
   ]
  },
  {
   "cell_type": "code",
   "execution_count": 31,
   "metadata": {},
   "outputs": [
    {
     "name": "stdout",
     "output_type": "stream",
     "text": [
      "          W         X         Y         Z\n",
      "E  0.805262  1.495269  0.997251  0.830787\n",
      "\n",
      "\n",
      "E    1.495269\n",
      "Name: X, dtype: float64\n",
      "\n",
      "\n",
      "          X         Y\n",
      "E  1.495269  0.997251\n"
     ]
    }
   ],
   "source": [
    "import pandas as pd\n",
    "import numpy as np\n",
    "df=pd.DataFrame(np.random.randn(5,4),['A','B','C','D','E'],['W','X','Y','Z'])\n",
    "# 筛选出 'W'>0 的行\n",
    "print(df[df['W']>0])\n",
    "print('\\n')\n",
    "# 只看 'X' 列中 'W'>0 的数据\n",
    "print(df[df['W']>0]['X'])\n",
    "print('\\n')\n",
    "print(df[df['W']>0][['X','Y']])"
   ]
  },
  {
   "cell_type": "markdown",
   "metadata": {},
   "source": [
    "还可以用逻辑运算符 &（与）和 |（或）来链接多个条件语句，以便一次应用多个筛选条件到当前的 DataFrame 上，比如筛选出同时满足 'W'>0 和'X'>1 的行："
   ]
  },
  {
   "cell_type": "code",
   "execution_count": 32,
   "metadata": {},
   "outputs": [
    {
     "data": {
      "text/html": [
       "<div>\n",
       "<style scoped>\n",
       "    .dataframe tbody tr th:only-of-type {\n",
       "        vertical-align: middle;\n",
       "    }\n",
       "\n",
       "    .dataframe tbody tr th {\n",
       "        vertical-align: top;\n",
       "    }\n",
       "\n",
       "    .dataframe thead th {\n",
       "        text-align: right;\n",
       "    }\n",
       "</style>\n",
       "<table border=\"1\" class=\"dataframe\">\n",
       "  <thead>\n",
       "    <tr style=\"text-align: right;\">\n",
       "      <th></th>\n",
       "      <th>W</th>\n",
       "      <th>X</th>\n",
       "      <th>Y</th>\n",
       "      <th>Z</th>\n",
       "    </tr>\n",
       "  </thead>\n",
       "  <tbody>\n",
       "    <tr>\n",
       "      <th>E</th>\n",
       "      <td>0.805262</td>\n",
       "      <td>1.495269</td>\n",
       "      <td>0.997251</td>\n",
       "      <td>0.830787</td>\n",
       "    </tr>\n",
       "  </tbody>\n",
       "</table>\n",
       "</div>"
      ],
      "text/plain": [
       "          W         X         Y         Z\n",
       "E  0.805262  1.495269  0.997251  0.830787"
      ]
     },
     "execution_count": 32,
     "metadata": {},
     "output_type": "execute_result"
    }
   ],
   "source": [
    "df[(df['W']>0) & (df['X']>1)]"
   ]
  },
  {
   "cell_type": "markdown",
   "metadata": {},
   "source": [
    "再比如，还可以让列之间进行比较并作为索引条件"
   ]
  },
  {
   "cell_type": "code",
   "execution_count": 33,
   "metadata": {},
   "outputs": [
    {
     "data": {
      "text/html": [
       "<div>\n",
       "<style scoped>\n",
       "    .dataframe tbody tr th:only-of-type {\n",
       "        vertical-align: middle;\n",
       "    }\n",
       "\n",
       "    .dataframe tbody tr th {\n",
       "        vertical-align: top;\n",
       "    }\n",
       "\n",
       "    .dataframe thead th {\n",
       "        text-align: right;\n",
       "    }\n",
       "</style>\n",
       "<table border=\"1\" class=\"dataframe\">\n",
       "  <thead>\n",
       "    <tr style=\"text-align: right;\">\n",
       "      <th></th>\n",
       "      <th>W</th>\n",
       "      <th>X</th>\n",
       "      <th>Y</th>\n",
       "      <th>Z</th>\n",
       "    </tr>\n",
       "  </thead>\n",
       "  <tbody>\n",
       "    <tr>\n",
       "      <th>A</th>\n",
       "      <td>-0.673042</td>\n",
       "      <td>-2.280204</td>\n",
       "      <td>0.684003</td>\n",
       "      <td>-1.526174</td>\n",
       "    </tr>\n",
       "    <tr>\n",
       "      <th>B</th>\n",
       "      <td>-0.940006</td>\n",
       "      <td>0.390133</td>\n",
       "      <td>0.145146</td>\n",
       "      <td>2.580225</td>\n",
       "    </tr>\n",
       "    <tr>\n",
       "      <th>C</th>\n",
       "      <td>-1.401806</td>\n",
       "      <td>-0.699417</td>\n",
       "      <td>-1.418799</td>\n",
       "      <td>-0.127906</td>\n",
       "    </tr>\n",
       "    <tr>\n",
       "      <th>D</th>\n",
       "      <td>-0.043496</td>\n",
       "      <td>1.327835</td>\n",
       "      <td>0.276914</td>\n",
       "      <td>0.787950</td>\n",
       "    </tr>\n",
       "    <tr>\n",
       "      <th>E</th>\n",
       "      <td>0.805262</td>\n",
       "      <td>1.495269</td>\n",
       "      <td>0.997251</td>\n",
       "      <td>0.830787</td>\n",
       "    </tr>\n",
       "  </tbody>\n",
       "</table>\n",
       "</div>"
      ],
      "text/plain": [
       "          W         X         Y         Z\n",
       "A -0.673042 -2.280204  0.684003 -1.526174\n",
       "B -0.940006  0.390133  0.145146  2.580225\n",
       "C -1.401806 -0.699417 -1.418799 -0.127906\n",
       "D -0.043496  1.327835  0.276914  0.787950\n",
       "E  0.805262  1.495269  0.997251  0.830787"
      ]
     },
     "execution_count": 33,
     "metadata": {},
     "output_type": "execute_result"
    }
   ],
   "source": [
    "df"
   ]
  },
  {
   "cell_type": "code",
   "execution_count": 34,
   "metadata": {},
   "outputs": [
    {
     "data": {
      "text/html": [
       "<div>\n",
       "<style scoped>\n",
       "    .dataframe tbody tr th:only-of-type {\n",
       "        vertical-align: middle;\n",
       "    }\n",
       "\n",
       "    .dataframe tbody tr th {\n",
       "        vertical-align: top;\n",
       "    }\n",
       "\n",
       "    .dataframe thead th {\n",
       "        text-align: right;\n",
       "    }\n",
       "</style>\n",
       "<table border=\"1\" class=\"dataframe\">\n",
       "  <thead>\n",
       "    <tr style=\"text-align: right;\">\n",
       "      <th></th>\n",
       "      <th>W</th>\n",
       "      <th>X</th>\n",
       "      <th>Y</th>\n",
       "      <th>Z</th>\n",
       "    </tr>\n",
       "  </thead>\n",
       "  <tbody>\n",
       "    <tr>\n",
       "      <th>B</th>\n",
       "      <td>-0.940006</td>\n",
       "      <td>0.390133</td>\n",
       "      <td>0.145146</td>\n",
       "      <td>2.580225</td>\n",
       "    </tr>\n",
       "    <tr>\n",
       "      <th>C</th>\n",
       "      <td>-1.401806</td>\n",
       "      <td>-0.699417</td>\n",
       "      <td>-1.418799</td>\n",
       "      <td>-0.127906</td>\n",
       "    </tr>\n",
       "    <tr>\n",
       "      <th>D</th>\n",
       "      <td>-0.043496</td>\n",
       "      <td>1.327835</td>\n",
       "      <td>0.276914</td>\n",
       "      <td>0.787950</td>\n",
       "    </tr>\n",
       "    <tr>\n",
       "      <th>E</th>\n",
       "      <td>0.805262</td>\n",
       "      <td>1.495269</td>\n",
       "      <td>0.997251</td>\n",
       "      <td>0.830787</td>\n",
       "    </tr>\n",
       "  </tbody>\n",
       "</table>\n",
       "</div>"
      ],
      "text/plain": [
       "          W         X         Y         Z\n",
       "B -0.940006  0.390133  0.145146  2.580225\n",
       "C -1.401806 -0.699417 -1.418799 -0.127906\n",
       "D -0.043496  1.327835  0.276914  0.787950\n",
       "E  0.805262  1.495269  0.997251  0.830787"
      ]
     },
     "execution_count": 34,
     "metadata": {},
     "output_type": "execute_result"
    }
   ],
   "source": [
    "df[df['W']<df['X']]"
   ]
  },
  {
   "cell_type": "markdown",
   "metadata": {},
   "source": [
    "使用pandas的loc时要注意，当有missing labels，在pandas 1.0版本之后是会报错的，更推荐的做法是使用reindex()"
   ]
  },
  {
   "cell_type": "code",
   "execution_count": 2,
   "metadata": {},
   "outputs": [
    {
     "data": {
      "text/plain": [
       "1    2\n",
       "2    3\n",
       "dtype: int64"
      ]
     },
     "execution_count": 2,
     "metadata": {},
     "output_type": "execute_result"
    }
   ],
   "source": [
    "import pandas as pd\n",
    "s = pd.Series([1, 2, 3])\n",
    "s.loc[[1, 2]]"
   ]
  },
  {
   "cell_type": "code",
   "execution_count": 3,
   "metadata": {},
   "outputs": [
    {
     "ename": "KeyError",
     "evalue": "'Passing list-likes to .loc or [] with any missing labels is no longer supported, see https://pandas.pydata.org/pandas-docs/stable/user_guide/indexing.html#deprecate-loc-reindex-listlike'",
     "output_type": "error",
     "traceback": [
      "\u001b[1;31m---------------------------------------------------------------------------\u001b[0m",
      "\u001b[1;31mKeyError\u001b[0m                                  Traceback (most recent call last)",
      "\u001b[1;32m<ipython-input-3-28925a59f003>\u001b[0m in \u001b[0;36m<module>\u001b[1;34m\u001b[0m\n\u001b[1;32m----> 1\u001b[1;33m \u001b[0ms\u001b[0m\u001b[1;33m.\u001b[0m\u001b[0mloc\u001b[0m\u001b[1;33m[\u001b[0m\u001b[1;33m[\u001b[0m\u001b[1;36m1\u001b[0m\u001b[1;33m,\u001b[0m \u001b[1;36m2\u001b[0m\u001b[1;33m,\u001b[0m \u001b[1;36m3\u001b[0m\u001b[1;33m]\u001b[0m\u001b[1;33m]\u001b[0m\u001b[1;33m\u001b[0m\u001b[1;33m\u001b[0m\u001b[0m\n\u001b[0m",
      "\u001b[1;32mE:\\Programs\\anaconda3\\envs\\hydrus\\lib\\site-packages\\pandas\\core\\indexing.py\u001b[0m in \u001b[0;36m__getitem__\u001b[1;34m(self, key)\u001b[0m\n\u001b[0;32m   1765\u001b[0m \u001b[1;33m\u001b[0m\u001b[0m\n\u001b[0;32m   1766\u001b[0m             \u001b[0mmaybe_callable\u001b[0m \u001b[1;33m=\u001b[0m \u001b[0mcom\u001b[0m\u001b[1;33m.\u001b[0m\u001b[0mapply_if_callable\u001b[0m\u001b[1;33m(\u001b[0m\u001b[0mkey\u001b[0m\u001b[1;33m,\u001b[0m \u001b[0mself\u001b[0m\u001b[1;33m.\u001b[0m\u001b[0mobj\u001b[0m\u001b[1;33m)\u001b[0m\u001b[1;33m\u001b[0m\u001b[1;33m\u001b[0m\u001b[0m\n\u001b[1;32m-> 1767\u001b[1;33m             \u001b[1;32mreturn\u001b[0m \u001b[0mself\u001b[0m\u001b[1;33m.\u001b[0m\u001b[0m_getitem_axis\u001b[0m\u001b[1;33m(\u001b[0m\u001b[0mmaybe_callable\u001b[0m\u001b[1;33m,\u001b[0m \u001b[0maxis\u001b[0m\u001b[1;33m=\u001b[0m\u001b[0maxis\u001b[0m\u001b[1;33m)\u001b[0m\u001b[1;33m\u001b[0m\u001b[1;33m\u001b[0m\u001b[0m\n\u001b[0m\u001b[0;32m   1768\u001b[0m \u001b[1;33m\u001b[0m\u001b[0m\n\u001b[0;32m   1769\u001b[0m     \u001b[1;32mdef\u001b[0m \u001b[0m_is_scalar_access\u001b[0m\u001b[1;33m(\u001b[0m\u001b[0mself\u001b[0m\u001b[1;33m,\u001b[0m \u001b[0mkey\u001b[0m\u001b[1;33m:\u001b[0m \u001b[0mTuple\u001b[0m\u001b[1;33m)\u001b[0m\u001b[1;33m:\u001b[0m\u001b[1;33m\u001b[0m\u001b[1;33m\u001b[0m\u001b[0m\n",
      "\u001b[1;32mE:\\Programs\\anaconda3\\envs\\hydrus\\lib\\site-packages\\pandas\\core\\indexing.py\u001b[0m in \u001b[0;36m_getitem_axis\u001b[1;34m(self, key, axis)\u001b[0m\n\u001b[0;32m   1951\u001b[0m                     \u001b[1;32mraise\u001b[0m \u001b[0mValueError\u001b[0m\u001b[1;33m(\u001b[0m\u001b[1;34m\"Cannot index with multidimensional key\"\u001b[0m\u001b[1;33m)\u001b[0m\u001b[1;33m\u001b[0m\u001b[1;33m\u001b[0m\u001b[0m\n\u001b[0;32m   1952\u001b[0m \u001b[1;33m\u001b[0m\u001b[0m\n\u001b[1;32m-> 1953\u001b[1;33m                 \u001b[1;32mreturn\u001b[0m \u001b[0mself\u001b[0m\u001b[1;33m.\u001b[0m\u001b[0m_getitem_iterable\u001b[0m\u001b[1;33m(\u001b[0m\u001b[0mkey\u001b[0m\u001b[1;33m,\u001b[0m \u001b[0maxis\u001b[0m\u001b[1;33m=\u001b[0m\u001b[0maxis\u001b[0m\u001b[1;33m)\u001b[0m\u001b[1;33m\u001b[0m\u001b[1;33m\u001b[0m\u001b[0m\n\u001b[0m\u001b[0;32m   1954\u001b[0m \u001b[1;33m\u001b[0m\u001b[0m\n\u001b[0;32m   1955\u001b[0m             \u001b[1;31m# nested tuple slicing\u001b[0m\u001b[1;33m\u001b[0m\u001b[1;33m\u001b[0m\u001b[1;33m\u001b[0m\u001b[0m\n",
      "\u001b[1;32mE:\\Programs\\anaconda3\\envs\\hydrus\\lib\\site-packages\\pandas\\core\\indexing.py\u001b[0m in \u001b[0;36m_getitem_iterable\u001b[1;34m(self, key, axis)\u001b[0m\n\u001b[0;32m   1592\u001b[0m         \u001b[1;32melse\u001b[0m\u001b[1;33m:\u001b[0m\u001b[1;33m\u001b[0m\u001b[1;33m\u001b[0m\u001b[0m\n\u001b[0;32m   1593\u001b[0m             \u001b[1;31m# A collection of keys\u001b[0m\u001b[1;33m\u001b[0m\u001b[1;33m\u001b[0m\u001b[1;33m\u001b[0m\u001b[0m\n\u001b[1;32m-> 1594\u001b[1;33m             \u001b[0mkeyarr\u001b[0m\u001b[1;33m,\u001b[0m \u001b[0mindexer\u001b[0m \u001b[1;33m=\u001b[0m \u001b[0mself\u001b[0m\u001b[1;33m.\u001b[0m\u001b[0m_get_listlike_indexer\u001b[0m\u001b[1;33m(\u001b[0m\u001b[0mkey\u001b[0m\u001b[1;33m,\u001b[0m \u001b[0maxis\u001b[0m\u001b[1;33m,\u001b[0m \u001b[0mraise_missing\u001b[0m\u001b[1;33m=\u001b[0m\u001b[1;32mFalse\u001b[0m\u001b[1;33m)\u001b[0m\u001b[1;33m\u001b[0m\u001b[1;33m\u001b[0m\u001b[0m\n\u001b[0m\u001b[0;32m   1595\u001b[0m             return self.obj._reindex_with_indexers(\n\u001b[0;32m   1596\u001b[0m                 \u001b[1;33m{\u001b[0m\u001b[0maxis\u001b[0m\u001b[1;33m:\u001b[0m \u001b[1;33m[\u001b[0m\u001b[0mkeyarr\u001b[0m\u001b[1;33m,\u001b[0m \u001b[0mindexer\u001b[0m\u001b[1;33m]\u001b[0m\u001b[1;33m}\u001b[0m\u001b[1;33m,\u001b[0m \u001b[0mcopy\u001b[0m\u001b[1;33m=\u001b[0m\u001b[1;32mTrue\u001b[0m\u001b[1;33m,\u001b[0m \u001b[0mallow_dups\u001b[0m\u001b[1;33m=\u001b[0m\u001b[1;32mTrue\u001b[0m\u001b[1;33m\u001b[0m\u001b[1;33m\u001b[0m\u001b[0m\n",
      "\u001b[1;32mE:\\Programs\\anaconda3\\envs\\hydrus\\lib\\site-packages\\pandas\\core\\indexing.py\u001b[0m in \u001b[0;36m_get_listlike_indexer\u001b[1;34m(self, key, axis, raise_missing)\u001b[0m\n\u001b[0;32m   1550\u001b[0m \u001b[1;33m\u001b[0m\u001b[0m\n\u001b[0;32m   1551\u001b[0m         self._validate_read_indexer(\n\u001b[1;32m-> 1552\u001b[1;33m             \u001b[0mkeyarr\u001b[0m\u001b[1;33m,\u001b[0m \u001b[0mindexer\u001b[0m\u001b[1;33m,\u001b[0m \u001b[0mo\u001b[0m\u001b[1;33m.\u001b[0m\u001b[0m_get_axis_number\u001b[0m\u001b[1;33m(\u001b[0m\u001b[0maxis\u001b[0m\u001b[1;33m)\u001b[0m\u001b[1;33m,\u001b[0m \u001b[0mraise_missing\u001b[0m\u001b[1;33m=\u001b[0m\u001b[0mraise_missing\u001b[0m\u001b[1;33m\u001b[0m\u001b[1;33m\u001b[0m\u001b[0m\n\u001b[0m\u001b[0;32m   1553\u001b[0m         )\n\u001b[0;32m   1554\u001b[0m         \u001b[1;32mreturn\u001b[0m \u001b[0mkeyarr\u001b[0m\u001b[1;33m,\u001b[0m \u001b[0mindexer\u001b[0m\u001b[1;33m\u001b[0m\u001b[1;33m\u001b[0m\u001b[0m\n",
      "\u001b[1;32mE:\\Programs\\anaconda3\\envs\\hydrus\\lib\\site-packages\\pandas\\core\\indexing.py\u001b[0m in \u001b[0;36m_validate_read_indexer\u001b[1;34m(self, key, indexer, axis, raise_missing)\u001b[0m\n\u001b[0;32m   1652\u001b[0m             \u001b[1;32mif\u001b[0m \u001b[1;32mnot\u001b[0m \u001b[1;33m(\u001b[0m\u001b[0max\u001b[0m\u001b[1;33m.\u001b[0m\u001b[0mis_categorical\u001b[0m\u001b[1;33m(\u001b[0m\u001b[1;33m)\u001b[0m \u001b[1;32mor\u001b[0m \u001b[0max\u001b[0m\u001b[1;33m.\u001b[0m\u001b[0mis_interval\u001b[0m\u001b[1;33m(\u001b[0m\u001b[1;33m)\u001b[0m\u001b[1;33m)\u001b[0m\u001b[1;33m:\u001b[0m\u001b[1;33m\u001b[0m\u001b[1;33m\u001b[0m\u001b[0m\n\u001b[0;32m   1653\u001b[0m                 raise KeyError(\n\u001b[1;32m-> 1654\u001b[1;33m                     \u001b[1;34m\"Passing list-likes to .loc or [] with any missing labels \"\u001b[0m\u001b[1;33m\u001b[0m\u001b[1;33m\u001b[0m\u001b[0m\n\u001b[0m\u001b[0;32m   1655\u001b[0m                     \u001b[1;34m\"is no longer supported, see \"\u001b[0m\u001b[1;33m\u001b[0m\u001b[1;33m\u001b[0m\u001b[0m\n\u001b[0;32m   1656\u001b[0m                     \u001b[1;34m\"https://pandas.pydata.org/pandas-docs/stable/user_guide/indexing.html#deprecate-loc-reindex-listlike\"\u001b[0m  \u001b[1;31m# noqa:E501\u001b[0m\u001b[1;33m\u001b[0m\u001b[1;33m\u001b[0m\u001b[0m\n",
      "\u001b[1;31mKeyError\u001b[0m: 'Passing list-likes to .loc or [] with any missing labels is no longer supported, see https://pandas.pydata.org/pandas-docs/stable/user_guide/indexing.html#deprecate-loc-reindex-listlike'"
     ]
    }
   ],
   "source": [
    "s.loc[[1, 2, 3]] # missing value使用loc会报错"
   ]
  },
  {
   "cell_type": "markdown",
   "metadata": {},
   "source": [
    "现在看看使用reindex，更多内容可以参考：https://pandas.pydata.org/pandas-docs/stable/user_guide/indexing.html#deprecate-loc-reindex-listlike"
   ]
  },
  {
   "cell_type": "code",
   "execution_count": 4,
   "metadata": {},
   "outputs": [
    {
     "data": {
      "text/plain": [
       "1    2.0\n",
       "2    3.0\n",
       "3    NaN\n",
       "dtype: float64"
      ]
     },
     "execution_count": 4,
     "metadata": {},
     "output_type": "execute_result"
    }
   ],
   "source": [
    "s.reindex([1, 2, 3])"
   ]
  },
  {
   "cell_type": "markdown",
   "metadata": {},
   "source": [
    "如果仅仅想要去除valid keys对应的值，可以使用："
   ]
  },
  {
   "cell_type": "code",
   "execution_count": 6,
   "metadata": {},
   "outputs": [
    {
     "data": {
      "text/plain": [
       "Int64Index([1, 2], dtype='int64')"
      ]
     },
     "execution_count": 6,
     "metadata": {},
     "output_type": "execute_result"
    }
   ],
   "source": [
    "labels = [1, 2, 3]\n",
    "s.index.intersection(labels)\n",
    "# s.loc[s.index.intersection(labels)]"
   ]
  },
  {
   "cell_type": "markdown",
   "metadata": {},
   "source": [
    "#### 分组\n",
    "\n",
    "对dataframe进行分组的例子。"
   ]
  },
  {
   "cell_type": "code",
   "execution_count": 35,
   "metadata": {
    "pycharm": {
     "is_executing": false,
     "name": "#%%\n"
    }
   },
   "outputs": [
    {
     "name": "stdout",
     "output_type": "stream",
     "text": [
      "Index(['name', 'Year', 'Salary', 'Bonus'], dtype='object')\n",
      "<class 'pandas.core.frame.DataFrame'>\n",
      "RangeIndex: 8 entries, 0 to 7\n",
      "Data columns (total 4 columns):\n",
      " #   Column  Non-Null Count  Dtype \n",
      "---  ------  --------------  ----- \n",
      " 0   name    8 non-null      object\n",
      " 1   Year    8 non-null      int64 \n",
      " 2   Salary  8 non-null      int64 \n",
      " 3   Bonus   8 non-null      int64 \n",
      "dtypes: int64(3), object(1)\n",
      "memory usage: 384.0+ bytes\n",
      "None\n",
      "              Year        Salary          Bonus\n",
      "count     8.000000  8.000000e+00       8.000000\n",
      "mean   2016.500000  1.631437e+06  131000.000000\n",
      "std       0.534522  3.416521e+06  152851.935826\n",
      "min    2016.000000  3.000000e+03    3000.000000\n",
      "25%    2016.000000  1.587500e+04   16250.000000\n",
      "50%    2016.500000  5.124995e+05   60000.000000\n",
      "75%    2017.000000  9.999990e+05  225000.000000\n",
      "max    2017.000000  9.999999e+06  400000.000000\n",
      "    name  Year   Salary   Bonus\n",
      "0   BOSS  2016   999999  100000\n",
      "1  Lilei  2016    20000   20000\n",
      "2  Lilei  2016    25000   20000\n",
      "3    Han  2016     3000    5000\n",
      "4   BOSS  2017  9999999  200000\n",
      "5   BOSS  2017   999999  300000\n",
      "6    Han  2017     3500    3000\n",
      "7   BOSS  2017   999999  400000\n",
      "    name  Year  Salary  Bonus\n",
      "1  Lilei  2016   20000  20000\n",
      "2  Lilei  2016   25000  20000\n",
      "         Year        Salary    Bonus\n",
      "count     2.0      2.000000      2.0\n",
      "mean   2016.0  22500.000000  20000.0\n",
      "std       0.0   3535.533906      0.0\n",
      "min    2016.0  20000.000000  20000.0\n",
      "25%    2016.0  21250.000000  20000.0\n",
      "50%    2016.0  22500.000000  20000.0\n",
      "75%    2016.0  23750.000000  20000.0\n",
      "max    2016.0  25000.000000  20000.0\n",
      "BOSS\n",
      "Han\n",
      "Lilei\n",
      "<class 'pandas.core.frame.DataFrame'>\n",
      "   name  Year   Salary   Bonus\n",
      "0  BOSS  2016   999999  100000\n",
      "4  BOSS  2017  9999999  200000\n",
      "5  BOSS  2017   999999  300000\n",
      "7  BOSS  2017   999999  400000\n",
      "<class 'pandas.core.frame.DataFrame'>\n",
      "    name  Year  Salary  Bonus\n",
      "1  Lilei  2016   20000  20000\n",
      "2  Lilei  2016   25000  20000\n",
      "<class 'tuple'>\n",
      "('BOSS',    name  Year   Salary   Bonus\n",
      "0  BOSS  2016   999999  100000\n",
      "4  BOSS  2017  9999999  200000\n",
      "5  BOSS  2017   999999  300000\n",
      "7  BOSS  2017   999999  400000)\n",
      "<class 'tuple'>\n",
      "('Han',   name  Year  Salary  Bonus\n",
      "3  Han  2016    3000   5000\n",
      "6  Han  2017    3500   3000)\n",
      "<class 'tuple'>\n",
      "('Lilei',     name  Year  Salary  Bonus\n",
      "1  Lilei  2016   20000  20000\n",
      "2  Lilei  2016   25000  20000)\n"
     ]
    }
   ],
   "source": [
    "salaries = pd.DataFrame({\n",
    "    'name': ['BOSS', 'Lilei', 'Lilei', 'Han', 'BOSS', 'BOSS', 'Han', 'BOSS'],\n",
    "    'Year': [2016, 2016, 2016, 2016, 2017, 2017, 2017, 2017],\n",
    "    'Salary': [999999, 20000, 25000, 3000, 9999999, 999999, 3500, 999999],\n",
    "    'Bonus': [100000, 20000, 20000, 5000, 200000, 300000, 3000, 400000]\n",
    "})\n",
    "print(salaries.columns)\n",
    "print(salaries.info())\n",
    "print(salaries.describe())\n",
    "salaries = salaries[['name', 'Year', 'Salary', 'Bonus']]\n",
    "# 定顺序\n",
    "print(salaries)\n",
    "# 对dataframe按name进行分组\n",
    "group_by_name = salaries.groupby('name')\n",
    "# 获取分组后的某一组\n",
    "se_temp = group_by_name.get_group('Lilei')\n",
    "print(se_temp)\n",
    "print(se_temp.describe())\n",
    "# 循环各组，并将名字在给定的序列中的group添加到数组中\n",
    "config = pd.Series({'names': ['Lilei', 'BOSS']})\n",
    "dfs = []\n",
    "for name, group in group_by_name:\n",
    "    print(name)\n",
    "    if name in config['names']:\n",
    "        dfs.append(group)\n",
    "\n",
    "for i in range(len(dfs)):\n",
    "    # 如果没有把name和group分开，那么dfs[i]的类型会是tuple，key为name，value是group，可参考接下来的输出\n",
    "    print(type(dfs[i]))\n",
    "    print(dfs[i])\n",
    "\n",
    "# 如果没有把name和group分开，那么dfs[i]的类型会是tuple，key为name，value是group\n",
    "dfs_s = []\n",
    "for group in group_by_name:\n",
    "    dfs_s.append(group)\n",
    "for i in range(len(dfs_s)):\n",
    "    print(type(dfs_s[i]))\n",
    "    print(dfs_s[i])"
   ]
  },
  {
   "cell_type": "markdown",
   "metadata": {},
   "source": [
    "### pandas与numpy数据结构之间的转换\n",
    "\n",
    "pandas转为numpy比较简单，直接调用value即转为ndarray。反过来，也很容易，直接用pandas的类型，相当于直接初始化了。"
   ]
  },
  {
   "cell_type": "code",
   "execution_count": 36,
   "metadata": {
    "pycharm": {
     "name": "#%%\n"
    }
   },
   "outputs": [
    {
     "name": "stdout",
     "output_type": "stream",
     "text": [
      "   A  B  C\n",
      "0  1  4  7\n",
      "1  2  5  8\n",
      "2  3  6  9\n",
      "[[1 4 7]\n",
      " [2 5 8]\n",
      " [3 6 9]]\n",
      "[[1 4 7]\n",
      " [2 5 8]\n",
      " [3 6 9]]\n",
      "0    1\n",
      "1    2\n",
      "2    3\n",
      "Name: A, dtype: int64\n",
      "0    1\n",
      "1    2\n",
      "2    3\n",
      "Name: A, dtype: int64\n",
      "[1 2 3]\n",
      "series转为ndarray：\n",
      "['New York' 'Chicago' 'Toronto' 'Lisbon' 'Rio']\n",
      "City 1    New York\n",
      "City 2     Chicago\n",
      "City 3     Toronto\n",
      "City 4      Lisbon\n",
      "City 5         Rio\n",
      "dtype: object\n"
     ]
    }
   ],
   "source": [
    "# pandas dataframe与numpy array之间的转换\n",
    "df = pd.DataFrame({'A': [1, 2, 3], 'B': [4, 5, 6], 'C': [7, 8, 9]})\n",
    "print(df)\n",
    "# df转换为ndarray\n",
    "array_from_df=df.values\n",
    "print(array_from_df)\n",
    "print(np.array(df))\n",
    "# 读取某一列数据，两种方式均可\n",
    "print(df['A'])\n",
    "print(df.loc[:, 'A'])\n",
    "# 一列数据转换为ndarray\n",
    "print(np.array(df['A']))\n",
    "# Series转ndarray\n",
    "# Creating the Series\n",
    "sr = pd.Series(['New York', 'Chicago', 'Toronto', 'Lisbon', 'Rio'])\n",
    "# Create the Index\n",
    "index_ = ['City 1', 'City 2', 'City 3', 'City 4', 'City 5']\n",
    "# set the index\n",
    "sr.index = index_\n",
    "# return numpy array representation\n",
    "result = sr.values\n",
    "# Print the result\n",
    "print(\"series转为ndarray：\")\n",
    "print(result)\n",
    "# Print the series\n",
    "print(sr)"
   ]
  },
  {
   "cell_type": "markdown",
   "metadata": {},
   "source": [
    "## Pandas数据分析\n",
    "\n",
    "从数据读取、处理、分析和可视化及输出几个方面展开。\n",
    "\n",
    "### IO工具\n",
    "\n",
    "对于csv文件和txt文件，都可以通过pandas的read_csv()函数读取。"
   ]
  },
  {
   "cell_type": "code",
   "execution_count": 1,
   "metadata": {
    "pycharm": {
     "is_executing": false,
     "name": "#%%\n"
    }
   },
   "outputs": [
    {
     "name": "stdout",
     "output_type": "stream",
     "text": [
      "原数据：\n",
      " col1,col2,col3\n",
      "a,b,01\n",
      "a,b,02\n",
      "c,d,03\n",
      "pandas读取默认设置：\n",
      "   col1 col2  col3\n",
      "0    a    b     1\n",
      "1    a    b     2\n",
      "2    c    d     3\n",
      "pandas读取前两列：\n",
      "   col1 col2\n",
      "0    a    b\n",
      "1    a    b\n",
      "2    c    d\n",
      "pandas读取某两列：\n",
      "   col1  col3\n",
      "0    a     1\n",
      "1    a     2\n",
      "2    c     3\n",
      "pandas读取某些行：\n",
      "   col1 col2  col3\n",
      "0    a    b     2\n",
      "读取数据之后，重新命名列名：\n",
      "\n"
     ]
    },
    {
     "data": {
      "text/html": [
       "<div>\n",
       "<style scoped>\n",
       "    .dataframe tbody tr th:only-of-type {\n",
       "        vertical-align: middle;\n",
       "    }\n",
       "\n",
       "    .dataframe tbody tr th {\n",
       "        vertical-align: top;\n",
       "    }\n",
       "\n",
       "    .dataframe thead th {\n",
       "        text-align: right;\n",
       "    }\n",
       "</style>\n",
       "<table border=\"1\" class=\"dataframe\">\n",
       "  <thead>\n",
       "    <tr style=\"text-align: right;\">\n",
       "      <th></th>\n",
       "      <th>A</th>\n",
       "      <th>B</th>\n",
       "      <th>C</th>\n",
       "    </tr>\n",
       "  </thead>\n",
       "  <tbody>\n",
       "    <tr>\n",
       "      <th>0</th>\n",
       "      <td>a</td>\n",
       "      <td>b</td>\n",
       "      <td>1</td>\n",
       "    </tr>\n",
       "    <tr>\n",
       "      <th>1</th>\n",
       "      <td>a</td>\n",
       "      <td>b</td>\n",
       "      <td>2</td>\n",
       "    </tr>\n",
       "    <tr>\n",
       "      <th>2</th>\n",
       "      <td>c</td>\n",
       "      <td>d</td>\n",
       "      <td>3</td>\n",
       "    </tr>\n",
       "  </tbody>\n",
       "</table>\n",
       "</div>"
      ],
      "text/plain": [
       "   A  B  C\n",
       "0  a  b  1\n",
       "1  a  b  2\n",
       "2  c  d  3"
      ]
     },
     "execution_count": 1,
     "metadata": {},
     "output_type": "execute_result"
    }
   ],
   "source": [
    "from io import StringIO, BytesIO\n",
    "import pandas as pd\n",
    "data = ('col1,col2,col3\\n'\n",
    "         'a,b,01\\n'\n",
    "         'a,b,02\\n'\n",
    "         'c,d,03')\n",
    "print(\"原数据：\\n\",data)\n",
    "print(\"pandas读取默认设置：\\n\",pd.read_csv(StringIO(data)))\n",
    "# 读取数据的时候即进行slice\n",
    "print(\"pandas读取前两列：\\n\",pd.read_csv(StringIO(data), usecols=range(0,2)))\n",
    "print(\"pandas读取某两列：\\n\",pd.read_csv(StringIO(data), usecols=lambda x: x.upper() in ['COL1', 'COL3']))\n",
    "print(\"pandas读取某些行：\\n\",pd.read_csv(StringIO(data), skiprows=lambda x: x % 2 != 0))\n",
    "print(\"读取数据之后，重新命名列名：\\n\")\n",
    "df_example=pd.read_csv(StringIO(data))\n",
    "df_example.columns = ['A','B','C']\n",
    "df_example"
   ]
  },
  {
   "cell_type": "markdown",
   "metadata": {},
   "source": [
    "专业方面，很多数据都是把年月或者年旬或者年日分别当做行和列，在计算时，需要进行处理，把时间变为一列或一行，即把几列或行的数组拼接起来\n",
    "即将[1 2;2 3]的数据变为[1 2 2 3]，pandas的concat和numpy的concatenate类似。最后把行名index统一换成日期，构成时间序列Series"
   ]
  },
  {
   "cell_type": "code",
   "execution_count": 6,
   "metadata": {},
   "outputs": [
    {
     "data": {
      "text/plain": [
       "2011-01-01 00:00:00    0\n",
       "2011-01-01 01:00:00    1\n",
       "2011-01-01 02:00:00    2\n",
       "2011-01-01 03:00:00    0\n",
       "2011-01-01 04:00:00    1\n",
       "Freq: H, Name: bbbbb, dtype: int64"
      ]
     },
     "execution_count": 6,
     "metadata": {},
     "output_type": "execute_result"
    }
   ],
   "source": [
    "# 如果遇到“UnicodeDecodeError: 'utf8' codec can't decode byte....”错误，用记事本另存csv文件时，将“编码”设置为‘UTF-8’即可\n",
    "dataset = pd.read_csv('Sheet1.csv')\n",
    "# header指定某行的值作为各列的列名，1表示第二行，如果是None，则从第一行开始就是数据。\n",
    "dataset = pd.read_csv('Sheet1.csv', header=1)\n",
    "# 因为给定的数据格式，各人有各自的一套，所以具体情况具体分析。比如，这里dataset的第一列可以去掉，即得到所有数据，删除列时，用drop函数，加参数axis=1，不加则表示删除行\n",
    "dataset1 = dataset.drop(['旬平均'], axis=1)\n",
    "df = pd.DataFrame({\"a\": range(3), \"b\": range(3), \"c\": range(3)})\n",
    "# iloc获取的数据格式为Series\n",
    "se = df.iloc[:, 0]\n",
    "# 获取dataframe的列数：df.shape[1]\n",
    "for i in range(1, df.shape[1]):\n",
    "    se_temp = df.iloc[:, i]\n",
    "    se = pd.concat([se, se_temp])\n",
    "# 如果一开始没有给series起名，比如从csv读取出来时是dataframe，拼接之后没办法再给Series起名，但是又需要给它起名，那么只能采取重新构造一个series的方式来命名\n",
    "se = pd.Series(se, name=\"aaaaaaa\")\n",
    "# 把每行名称换为日期\n",
    "rng = pd.date_range('2011-1-1', periods=9, freq='H')\n",
    "se.index = rng\n",
    "se = pd.Series(se, name=\"bbbbb\")\n",
    "se.head()"
   ]
  },
  {
   "cell_type": "markdown",
   "metadata": {},
   "source": [
    "当csv中包含了大量的编号代码，比如是002开头的编号——002111， 使用pd.read_csv('text.csv') 则会让所有的002xxx，变成了2xxx，前面2个0不见了，因为作为数值类型，没有必要保留0。\n",
    "\n",
    "因此，为了保持编号的字符串特性，直接在参数一栏设置一下即可：\n",
    "df＝pd.read_csv('text.csv', dtype={'code':str}\n",
    " \n",
    "这样，把你要转换的列的名字设定好， “code”列中的数据读取为str，用列名或者列序号均可。\n",
    " \n",
    "这样，读取到的数据就是按照我们的要求的了。"
   ]
  },
  {
   "cell_type": "code",
   "execution_count": 39,
   "metadata": {},
   "outputs": [
    {
     "name": "stdout",
     "output_type": "stream",
     "text": [
      "  col1 col2 col3\n",
      "0    a    b   01\n",
      "1    a    b   02\n",
      "2    c    d   03\n",
      "  col1 col2 col3\n",
      "0    a    b   01\n",
      "1    a    b   02\n",
      "2    c    d   03\n"
     ]
    }
   ],
   "source": [
    "dataset = pd.read_csv(StringIO(data),dtype={2:str})\n",
    "print(dataset)\n",
    "dataset = pd.read_csv(StringIO(data),dtype={'col3':str})\n",
    "print(dataset)"
   ]
  },
  {
   "cell_type": "markdown",
   "metadata": {},
   "source": [
    "读取excel文件的话稍微有些不同，这时候我们需要使用read_excel，第一次使用可能会遇到缺少 xlrd 包的情况，因此安装此包：\n",
    "\n",
    "```Shell\n",
    "conda install -c conda-forge xlrd\n",
    "```\n",
    "\n",
    "如果实在安装不成功，可以直接试试 pip install xlrd"
   ]
  },
  {
   "cell_type": "code",
   "execution_count": 5,
   "metadata": {},
   "outputs": [
    {
     "data": {
      "text/html": [
       "<div>\n",
       "<style scoped>\n",
       "    .dataframe tbody tr th:only-of-type {\n",
       "        vertical-align: middle;\n",
       "    }\n",
       "\n",
       "    .dataframe tbody tr th {\n",
       "        vertical-align: top;\n",
       "    }\n",
       "\n",
       "    .dataframe thead th {\n",
       "        text-align: right;\n",
       "    }\n",
       "</style>\n",
       "<table border=\"1\" class=\"dataframe\">\n",
       "  <thead>\n",
       "    <tr style=\"text-align: right;\">\n",
       "      <th></th>\n",
       "      <th>RECORDID</th>\n",
       "      <th>DAM_NAME</th>\n",
       "      <th>OTHER_DAM_NAME</th>\n",
       "      <th>DAM_FORMER_NAME</th>\n",
       "      <th>STATEID</th>\n",
       "      <th>NIDID</th>\n",
       "      <th>LONGITUDE</th>\n",
       "      <th>LATITUDE</th>\n",
       "      <th>SECTION</th>\n",
       "      <th>COUNTY</th>\n",
       "      <th>...</th>\n",
       "      <th>CONG_NAME</th>\n",
       "      <th>PARTY</th>\n",
       "      <th>CONG_DIST</th>\n",
       "      <th>OTHERSTRUCTUREID</th>\n",
       "      <th>NUMSEPARATESTRUCTURES</th>\n",
       "      <th>PERMITTINGAUTHORITY</th>\n",
       "      <th>INSPECTIONAUTHORITY</th>\n",
       "      <th>ENFORCEMENTAUTHORITY</th>\n",
       "      <th>JURISDICTIONALDAM</th>\n",
       "      <th>EAP_LAST_REV_DATE</th>\n",
       "    </tr>\n",
       "  </thead>\n",
       "  <tbody>\n",
       "    <tr>\n",
       "      <th>0</th>\n",
       "      <td>1</td>\n",
       "      <td>COOPER LAKE</td>\n",
       "      <td>NaN</td>\n",
       "      <td>NaN</td>\n",
       "      <td>NaN</td>\n",
       "      <td>AK00001</td>\n",
       "      <td>-149.823147</td>\n",
       "      <td>60.433708</td>\n",
       "      <td>NaN</td>\n",
       "      <td>KENAI PENINSULA</td>\n",
       "      <td>...</td>\n",
       "      <td>Don Young (R)</td>\n",
       "      <td>R</td>\n",
       "      <td>AK00</td>\n",
       "      <td>NaN</td>\n",
       "      <td>1.0</td>\n",
       "      <td>N</td>\n",
       "      <td>N</td>\n",
       "      <td>N</td>\n",
       "      <td>N</td>\n",
       "      <td>08-JAN-18</td>\n",
       "    </tr>\n",
       "    <tr>\n",
       "      <th>1</th>\n",
       "      <td>2</td>\n",
       "      <td>BLUE LAKE</td>\n",
       "      <td>NaN</td>\n",
       "      <td>NaN</td>\n",
       "      <td>NaN</td>\n",
       "      <td>AK00002</td>\n",
       "      <td>-135.191700</td>\n",
       "      <td>57.063300</td>\n",
       "      <td>T55S, R64E, S35</td>\n",
       "      <td>SITKA</td>\n",
       "      <td>...</td>\n",
       "      <td>Don Young (R)</td>\n",
       "      <td>R</td>\n",
       "      <td>AK00</td>\n",
       "      <td>NaN</td>\n",
       "      <td>1.0</td>\n",
       "      <td>N</td>\n",
       "      <td>N</td>\n",
       "      <td>N</td>\n",
       "      <td>N</td>\n",
       "      <td>27-DEC-17</td>\n",
       "    </tr>\n",
       "    <tr>\n",
       "      <th>2</th>\n",
       "      <td>3</td>\n",
       "      <td>SALMON CREEK</td>\n",
       "      <td>NaN</td>\n",
       "      <td>NaN</td>\n",
       "      <td>NaN</td>\n",
       "      <td>AK00003</td>\n",
       "      <td>-134.403608</td>\n",
       "      <td>58.341850</td>\n",
       "      <td>T41S,R67E,S2</td>\n",
       "      <td>JUNEAU</td>\n",
       "      <td>...</td>\n",
       "      <td>Don Young (R)</td>\n",
       "      <td>R</td>\n",
       "      <td>AK00</td>\n",
       "      <td>NaN</td>\n",
       "      <td>1.0</td>\n",
       "      <td>N</td>\n",
       "      <td>N</td>\n",
       "      <td>N</td>\n",
       "      <td>N</td>\n",
       "      <td>27-SEP-17</td>\n",
       "    </tr>\n",
       "    <tr>\n",
       "      <th>3</th>\n",
       "      <td>4</td>\n",
       "      <td>ANNEX CREEK</td>\n",
       "      <td>NaN</td>\n",
       "      <td>NaN</td>\n",
       "      <td>NaN</td>\n",
       "      <td>AK00004</td>\n",
       "      <td>-134.126578</td>\n",
       "      <td>58.326939</td>\n",
       "      <td>T41S,R69E,S9</td>\n",
       "      <td>JUNEAU</td>\n",
       "      <td>...</td>\n",
       "      <td>Don Young (R)</td>\n",
       "      <td>R</td>\n",
       "      <td>AK00</td>\n",
       "      <td>NaN</td>\n",
       "      <td>2.0</td>\n",
       "      <td>N</td>\n",
       "      <td>N</td>\n",
       "      <td>N</td>\n",
       "      <td>N</td>\n",
       "      <td>27-SEP-17</td>\n",
       "    </tr>\n",
       "    <tr>\n",
       "      <th>4</th>\n",
       "      <td>5</td>\n",
       "      <td>CRYSTAL LAKE</td>\n",
       "      <td>NaN</td>\n",
       "      <td>NaN</td>\n",
       "      <td>NaN</td>\n",
       "      <td>AK00005</td>\n",
       "      <td>-132.845500</td>\n",
       "      <td>56.600000</td>\n",
       "      <td>T61S,R81E,S6</td>\n",
       "      <td>WRANGELL-PETERSBURG</td>\n",
       "      <td>...</td>\n",
       "      <td>Don Young (R)</td>\n",
       "      <td>R</td>\n",
       "      <td>AK00</td>\n",
       "      <td>NaN</td>\n",
       "      <td>1.0</td>\n",
       "      <td>N</td>\n",
       "      <td>N</td>\n",
       "      <td>N</td>\n",
       "      <td>N</td>\n",
       "      <td>19-DEC-17</td>\n",
       "    </tr>\n",
       "  </tbody>\n",
       "</table>\n",
       "<p>5 rows × 69 columns</p>\n",
       "</div>"
      ],
      "text/plain": [
       "   RECORDID      DAM_NAME OTHER_DAM_NAME DAM_FORMER_NAME  STATEID    NIDID  \\\n",
       "0         1   COOPER LAKE            NaN             NaN      NaN  AK00001   \n",
       "1         2     BLUE LAKE            NaN             NaN      NaN  AK00002   \n",
       "2         3  SALMON CREEK            NaN             NaN      NaN  AK00003   \n",
       "3         4   ANNEX CREEK            NaN             NaN      NaN  AK00004   \n",
       "4         5  CRYSTAL LAKE            NaN             NaN      NaN  AK00005   \n",
       "\n",
       "    LONGITUDE   LATITUDE          SECTION               COUNTY  ...  \\\n",
       "0 -149.823147  60.433708              NaN      KENAI PENINSULA  ...   \n",
       "1 -135.191700  57.063300  T55S, R64E, S35                SITKA  ...   \n",
       "2 -134.403608  58.341850     T41S,R67E,S2               JUNEAU  ...   \n",
       "3 -134.126578  58.326939     T41S,R69E,S9               JUNEAU  ...   \n",
       "4 -132.845500  56.600000     T61S,R81E,S6  WRANGELL-PETERSBURG  ...   \n",
       "\n",
       "       CONG_NAME PARTY  CONG_DIST OTHERSTRUCTUREID NUMSEPARATESTRUCTURES  \\\n",
       "0  Don Young (R)     R       AK00              NaN                   1.0   \n",
       "1  Don Young (R)     R       AK00              NaN                   1.0   \n",
       "2  Don Young (R)     R       AK00              NaN                   1.0   \n",
       "3  Don Young (R)     R       AK00              NaN                   2.0   \n",
       "4  Don Young (R)     R       AK00              NaN                   1.0   \n",
       "\n",
       "  PERMITTINGAUTHORITY INSPECTIONAUTHORITY ENFORCEMENTAUTHORITY  \\\n",
       "0                   N                   N                    N   \n",
       "1                   N                   N                    N   \n",
       "2                   N                   N                    N   \n",
       "3                   N                   N                    N   \n",
       "4                   N                   N                    N   \n",
       "\n",
       "  JURISDICTIONALDAM EAP_LAST_REV_DATE  \n",
       "0                 N         08-JAN-18  \n",
       "1                 N         27-DEC-17  \n",
       "2                 N         27-SEP-17  \n",
       "3                 N         27-SEP-17  \n",
       "4                 N         19-DEC-17  \n",
       "\n",
       "[5 rows x 69 columns]"
      ]
     },
     "execution_count": 5,
     "metadata": {},
     "output_type": "execute_result"
    }
   ],
   "source": [
    "import pandas as pd\n",
    "# df = pd.read_excel('AK_U.xlsx',sheet_name='AK')\n",
    "df = pd.read_excel('NID2018_U.xlsx')\n",
    "df.head()"
   ]
  },
  {
   "cell_type": "markdown",
   "metadata": {},
   "source": [
    "\n",
    "### Prepare Data\n",
    "\n",
    "#### 修改名称\n",
    "\n",
    "包括列名和行名，行一般又称index；列名也称field。\n",
    "\n",
    "总体上可以分为在读数据时修改和读后修改两种。\n",
    "\n",
    "具体的，行的修改方法有多种，参考：[重命名dataframe的index](https://blog.csdn.net/sinat_35930259/article/details/79872577)；列名的修改方法也有多种，参考[Pandas中修改DataFrame列名](http://www.voidcn.com/article/p-wycobfgd-bqs.html)"
   ]
  },
  {
   "cell_type": "code",
   "execution_count": 40,
   "metadata": {},
   "outputs": [
    {
     "name": "stdout",
     "output_type": "stream",
     "text": [
      "Index(['col1', 'col2', 'col3'], dtype='object')\n",
      "['col1', 'col2', 'col3']\n",
      "<class 'str'>\n",
      "   a  b   c\n",
      "0  a  b  01\n",
      "1  a  b  02\n",
      "2  c  d  03\n"
     ]
    }
   ],
   "source": [
    "# 给出所有列名，这里类型是Index，可以直接转为list\n",
    "print(dataset.columns)\n",
    "columns=dataset.columns.tolist()\n",
    "print(columns)\n",
    "# 转换后，每个元素直接就是字符串了\n",
    "print(type(columns[0]))\n",
    "# 修改列名的常用方式,inplace为false的话，还需要赋值到dataset，因此直接设置为true\n",
    "dataset.rename(columns={'col1':'a', 'col2':'b', 'col3':'c'}, inplace = True)\n",
    "print(dataset)\n",
    "# 修改index行名"
   ]
  },
  {
   "cell_type": "markdown",
   "metadata": {},
   "source": [
    "#### Slice\n",
    "\n",
    "切片包括横向切，纵向切，即选取某些行，选取某些列的操作。dataframe的切片操作很容易，记住灵活运用其index的功能即可，第一维是行，第二维是列，定位使用loc，数值定位用iloc。"
   ]
  },
  {
   "cell_type": "code",
   "execution_count": 41,
   "metadata": {},
   "outputs": [
    {
     "name": "stdout",
     "output_type": "stream",
     "text": [
      "   a  b   c\n",
      "0  a  b  01\n",
      "1  a  b  02\n",
      "注意因为行名是0-1-2，所以loc和iloc略有不同\n",
      "   a  b   c\n",
      "0  a  b  01\n",
      "列操作\n",
      "0    01\n",
      "1    02\n",
      "2    03\n",
      "Name: c, dtype: object\n",
      "   a   c\n",
      "0  a  01\n",
      "1  a  02\n",
      "2  c  03\n"
     ]
    }
   ],
   "source": [
    "# 取行直接用index即可\n",
    "print(dataset.loc[0:1,:])\n",
    "print(\"注意因为行名是0-1-2，所以loc和iloc略有不同\")\n",
    "print(dataset.iloc[0:1,:])\n",
    "# 取列用field\n",
    "print(\"列操作\")\n",
    "print(dataset.loc[:,'c'])\n",
    "columns=['a','c']\n",
    "print(dataset.loc[:,columns])"
   ]
  },
  {
   "cell_type": "markdown",
   "metadata": {},
   "source": [
    "#### 数据类型转换\n",
    "\n",
    "参考[Pandas数据类型转换的几个小技巧](https://zhuanlan.zhihu.com/p/35287822)\n",
    "\n",
    "Pandas中进行数据类型转换有三种基本方法：\n",
    "\n",
    "- 使用astype()函数进行强制类型转换，比如：dataset['col3'].astype('float')\n",
    "- 自定义函数进行数据类型转换\n",
    "- 使用Pandas提供的函数如to_numeric()、to_datetime()\n",
    "\n",
    "当待转换列中含有不能转换的特殊值时(例如￥,ErrorValue,14n等)astype()函数将失效。\n",
    "astype()函数有效的情形：\n",
    "\n",
    "- 数据列中的每一个单位都能简单的解释为数字(2, 2.12等）\n",
    "- 数据列中的每一个单位都是数值类型且向字符串object类型转换\n",
    "\n",
    "Pandas的astype()函数和复杂的自定函数之间有一个中间段，那就是Pandas的一些辅助函数。这些辅助函数对于某些特定数据类型的转换非常有用(如to_numeric()、to_datetime())。"
   ]
  },
  {
   "cell_type": "markdown",
   "metadata": {},
   "source": [
    "#### 数据操作\n",
    "\n",
    "包括旋转、连接等。"
   ]
  },
  {
   "cell_type": "code",
   "execution_count": 43,
   "metadata": {},
   "outputs": [
    {
     "name": "stdout",
     "output_type": "stream",
     "text": [
      "3\n",
      "3\n",
      "[0 0 1 2 0]\n"
     ]
    },
    {
     "data": {
      "text/plain": [
       "array(['b', 'a', 'c'], dtype=object)"
      ]
     },
     "execution_count": 43,
     "metadata": {},
     "output_type": "execute_result"
    }
   ],
   "source": [
    "# 返回列数：\n",
    "print(dataset.shape[1])\n",
    "# 返回行数：\n",
    "print(dataset.shape[0])\n",
    "# factorize(values[, sort, order, …])\tEncode the object as an enumerated type or categorical variable.\n",
    "labels, uniques = pd.factorize(['b', 'b', 'a', 'c', 'b'])\n",
    "print(labels)\n",
    "uniques"
   ]
  },
  {
   "cell_type": "markdown",
   "metadata": {},
   "source": [
    "对dataframe数据执行批量运算，使用pandas的apply函数。"
   ]
  },
  {
   "cell_type": "code",
   "execution_count": 44,
   "metadata": {},
   "outputs": [
    {
     "name": "stdout",
     "output_type": "stream",
     "text": [
      "   A  B\n",
      "0  4  9\n",
      "1  4  9\n",
      "2  4  9\n"
     ]
    },
    {
     "data": {
      "text/html": [
       "<div>\n",
       "<style scoped>\n",
       "    .dataframe tbody tr th:only-of-type {\n",
       "        vertical-align: middle;\n",
       "    }\n",
       "\n",
       "    .dataframe tbody tr th {\n",
       "        vertical-align: top;\n",
       "    }\n",
       "\n",
       "    .dataframe thead th {\n",
       "        text-align: right;\n",
       "    }\n",
       "</style>\n",
       "<table border=\"1\" class=\"dataframe\">\n",
       "  <thead>\n",
       "    <tr style=\"text-align: right;\">\n",
       "      <th></th>\n",
       "      <th>A</th>\n",
       "      <th>B</th>\n",
       "    </tr>\n",
       "  </thead>\n",
       "  <tbody>\n",
       "    <tr>\n",
       "      <th>0</th>\n",
       "      <td>2.0</td>\n",
       "      <td>3.0</td>\n",
       "    </tr>\n",
       "    <tr>\n",
       "      <th>1</th>\n",
       "      <td>2.0</td>\n",
       "      <td>3.0</td>\n",
       "    </tr>\n",
       "    <tr>\n",
       "      <th>2</th>\n",
       "      <td>2.0</td>\n",
       "      <td>3.0</td>\n",
       "    </tr>\n",
       "  </tbody>\n",
       "</table>\n",
       "</div>"
      ],
      "text/plain": [
       "     A    B\n",
       "0  2.0  3.0\n",
       "1  2.0  3.0\n",
       "2  2.0  3.0"
      ]
     },
     "execution_count": 44,
     "metadata": {},
     "output_type": "execute_result"
    }
   ],
   "source": [
    "import pandas as pd\n",
    "import numpy as np\n",
    "df = pd.DataFrame([[4, 9]] * 3, columns=['A', 'B'])\n",
    "print(df)\n",
    "df.apply(np.sqrt)"
   ]
  },
  {
   "cell_type": "code",
   "execution_count": 45,
   "metadata": {},
   "outputs": [
    {
     "data": {
      "text/plain": [
       "A    12\n",
       "B    27\n",
       "dtype: int64"
      ]
     },
     "execution_count": 45,
     "metadata": {},
     "output_type": "execute_result"
    }
   ],
   "source": [
    "# 作用到每列\n",
    "df.apply(np.sum, axis=0)"
   ]
  },
  {
   "cell_type": "code",
   "execution_count": 46,
   "metadata": {},
   "outputs": [
    {
     "data": {
      "text/plain": [
       "0    [1, 2]\n",
       "1    [1, 2]\n",
       "2    [1, 2]\n",
       "dtype: object"
      ]
     },
     "execution_count": 46,
     "metadata": {},
     "output_type": "execute_result"
    }
   ],
   "source": [
    "# 作用到每行\n",
    "df.apply(lambda x: [1, 2], axis=1)"
   ]
  }
 ],
 "metadata": {
  "kernelspec": {
   "display_name": "Python 3",
   "language": "python",
   "name": "python3"
  },
  "language_info": {
   "codemirror_mode": {
    "name": "ipython",
    "version": 3
   },
   "file_extension": ".py",
   "mimetype": "text/x-python",
   "name": "python",
   "nbconvert_exporter": "python",
   "pygments_lexer": "ipython3",
   "version": "3.7.6"
  },
  "pycharm": {
   "stem_cell": {
    "cell_type": "raw",
    "metadata": {
     "collapsed": false
    },
    "source": []
   }
  }
 },
 "nbformat": 4,
 "nbformat_minor": 4
}
