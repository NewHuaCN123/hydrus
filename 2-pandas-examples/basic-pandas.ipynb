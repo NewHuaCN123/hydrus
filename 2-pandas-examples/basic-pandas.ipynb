{
 "cells": [
  {
   "cell_type": "markdown",
   "metadata": {
    "pycharm": {
     "name": "#%% md\n"
    }
   },
   "source": [
    "# Pandas基础\n",
    "\n",
    "该部分主要参考[Pandas中文网](https://www.pypandas.cn/docs/)和[官方用户手册](https://pandas.pydata.org/pandas-docs/stable/index.html)，以及 [Pandas教程](https://www.yiibai.com/pandas)\n",
    "\n",
    "Pandas是一个开源的，为Python编程语言提供高性能，易于使用的**数据结构**和**数据分析工具**。在hydrus环境下安装pandas：\n",
    "\n",
    "```Shell\n",
    "conda install -c conda-forge pandas\n",
    "```\n",
    "\n",
    "Pandas适合处理多种不同类型的数据：\n",
    "\n",
    "- 不同类型的数据列组成的表格数据；\n",
    "- 有序或无序的时间序列数据；\n",
    "- 带行列标签的类型相同或不同的行或列组成的矩阵数据；\n",
    "- 任意形式的观测或统计数据，它们不需标记即可放入pandas数据结构中。 \n",
    "\n",
    "其运算都主要都围绕两类数据结构展开，Series和Dataframe，接下来从它们开始记录。\n",
    "\n",
    "Series(1维)和DataFrame(2维)能处理绝大多数的典型应用，包括金融、统计、社科、工程等各个领域。\n",
    " \n",
    "对于R用户，DataFrame提供了所有R的data.frame提供的，并且还有更多。\n",
    "\n",
    "pandas建立在NumPy之上，也整合了很多第三方库，打造了良好的科学计算环境。\n",
    "\n",
    "pandas处理的经典问题包括且不限于：\n",
    "\n",
    "- 处理缺失数据，用NaN表示；\n",
    "- 数据结构大小可变：可以插入删除DataFrame或者更高维对象的列；\n",
    "- 自动且明确的data alignment，可以明确指定数据到一系列标签下；\n",
    "- 灵活数据分组，很容易聚合转换数据；\n",
    "- 容易将杂乱、标签复杂的Python和NumPy数据结构转换为DataFrame对象；\n",
    "- 根据标签容易slicing,indexing和subsetting大数据集；\n",
    "- 容易合并和连接数据集；\n",
    "- 灵活地reshaping和pivoting数据集；\n",
    "- 多级标签；\n",
    "- 从各类文件中加载数据, 包括HDF5格式的数据；\n",
    "- 时间序列指定的功能：日期范围生成和频率转换,滑动窗口的统计, 滑动线性回归, 日期平移或滞后等。\n",
    "\n",
    "在数据处理的各个环节，包括变换和清洗数据，分析建模，组织分析结果为正式的格式，可视化和输出数据等，pandas都能很好地处理。\n",
    "\n",
    "接下来先记录pandas基本数据结构，然后日常积累常见数据处理操作。\n",
    "\n",
    "## Pandas基本数据结构\n",
    "\n",
    "最好的理解Pandas数据结构的方式是将其当做其更低维数据的容器，比如Series是标量数据的容器，Dataframe是Series的容器。\n",
    "可以通过类似字典的方式从容器中插入或移除对象。\n",
    "\n",
    "pandas中为了更直观地给出数据结构不同维度的信息，更多用index和columns，而不是使用axis0和1这样来表示。例如：\n",
    "\n",
    "``` python\n",
    "for col in df.columns:\n",
    "    series = df[col]\n",
    "    # do something with series\n",
    "```\n",
    "\n",
    "pandas所有数据结构都是值可变的，但不总是size可变的。比如Series的长度是不可变的，但是Dataframe中是可以插入列的。\n",
    "绝大多数方法都会产生新的对象，而不改变原输入数据。一般来说，pandas喜欢保持不可变性。\n",
    "\n",
    "基本上来说，是利用numpy的数组为值依据，用columns和index给列和行起名。"
   ]
  },
  {
   "cell_type": "code",
   "execution_count": 2,
   "metadata": {},
   "outputs": [
    {
     "data": {
      "text/plain": [
       "a    [0, 0, 2, 8, 0]\n",
       "b                  0\n",
       "dtype: object"
      ]
     },
     "execution_count": 2,
     "metadata": {},
     "output_type": "execute_result"
    }
   ],
   "source": [
    "import numpy as np\n",
    "import pandas as pd\n",
    "# 初始化Series\n",
    "k = pd.Series({'a':np.random.randint(10,size=5),'b':0})\n",
    "k"
   ]
  },
  {
   "cell_type": "code",
   "execution_count": 3,
   "metadata": {},
   "outputs": [
    {
     "name": "stdout",
     "output_type": "stream",
     "text": [
      "b    0\n",
      "dtype: object\n",
      "0\n"
     ]
    }
   ],
   "source": [
    "# 检索series的项\n",
    "print(k.iloc[1:])\n",
    "print(k[\"b\"])"
   ]
  },
  {
   "cell_type": "code",
   "execution_count": 4,
   "metadata": {},
   "outputs": [
    {
     "data": {
      "text/plain": [
       "A    1\n",
       "B    2\n",
       "C    3\n",
       "D    4\n",
       "dtype: int64"
      ]
     },
     "execution_count": 4,
     "metadata": {},
     "output_type": "execute_result"
    }
   ],
   "source": [
    "# 另一种常用的初始化Series的方式\n",
    "s = pd.Series([1, 2, 3, 4], index=['A', 'B', 'C', 'D'])\n",
    "s"
   ]
  },
  {
   "cell_type": "code",
   "execution_count": 5,
   "metadata": {},
   "outputs": [
    {
     "name": "stdout",
     "output_type": "stream",
     "text": [
      "Empty DataFrame\n",
      "Columns: [A, B, C, D]\n",
      "Index: []\n",
      "列名： ['A' 'B' 'C' 'D']\n",
      "有一行：\n",
      "    A  B  C  D\n",
      "0  1  2  3  4\n",
      "   a  b  c\n",
      "0  0  0  0\n",
      "1  1  1  1\n",
      "2  2  2  2\n",
      "   one  two  three  four\n",
      "a    0    1      2     3\n",
      "b    4    5      6     7\n",
      "c    8    9     10    11\n",
      "d   12   13     14    15\n",
      "            one  two  three  four\n",
      "2011-01-01    0    1      2     3\n",
      "2011-01-02    4    5      6     7\n",
      "2011-01-03    8    9     10    11\n",
      "2011-01-04   12   13     14    15\n",
      "列：\n",
      " Index(['one', 'two', 'three', 'four'], dtype='object')\n",
      "列名称：\n",
      " ['one' 'two' 'three' 'four']\n",
      "            2011-01-01  2011-01-02  2011-01-03  2011-01-04\n",
      "2011-01-01           0           1           2           3\n",
      "2011-01-02           4           5           6           7\n",
      "2011-01-03           8           9          10          11\n",
      "2011-01-04          12          13          14          15\n"
     ]
    }
   ],
   "source": [
    "# 创建一个空的 DataFrame\n",
    "df_empty = pd.DataFrame(columns=['A', 'B', 'C', 'D'])\n",
    "print(df_empty)\n",
    "print(\"列名：\",df_empty.columns.values)\n",
    "# 创建一个只有一行的，不能使用下面的方式\n",
    "# df_1r = pd.DataFrame(np.array([[1],[2],[3],[4]]),columns=['A', 'B', 'C', 'D'])\n",
    "# 需要使用append：先定一个空的，再来添加\n",
    "df_1r = df_empty\n",
    "df_1r.loc[0] = [1,2,3,4]\n",
    "print(\"有一行：\\n\",df_1r)\n",
    "# 创建有行有列的\n",
    "df = pd.DataFrame({\"a\": range(3), \"b\": range(3), \"c\": range(3)})\n",
    "print(df)\n",
    "# 使用numpy数组，命名行列进行初始化\n",
    "df2 = pd.DataFrame(np.arange(16).reshape((4,4)), columns=['one', 'two', 'three', 'four'], index=['a', 'b', 'c','d'])\n",
    "print(df2)\n",
    "# 带时间序列的dataframe的初始化\n",
    "time_range = pd.date_range('2011-1-1', periods=4, freq='D')\n",
    "df2.index = time_range\n",
    "print(df2)\n",
    "print('列：\\n',df2.columns)\n",
    "print('列名称：\\n',df2.columns.values)\n",
    "time_range = pd.date_range('2011-1-1', '2011-1-4', freq='D')\n",
    "df2.columns = time_range\n",
    "print(df2)"
   ]
  },
  {
   "cell_type": "markdown",
   "metadata": {},
   "source": [
    "可以初始化一个只有列名的空Dataframe，然后再给列赋新值，可以使用如下方式"
   ]
  },
  {
   "cell_type": "code",
   "execution_count": 6,
   "metadata": {},
   "outputs": [
    {
     "data": {
      "text/html": [
       "<div>\n",
       "<style scoped>\n",
       "    .dataframe tbody tr th:only-of-type {\n",
       "        vertical-align: middle;\n",
       "    }\n",
       "\n",
       "    .dataframe tbody tr th {\n",
       "        vertical-align: top;\n",
       "    }\n",
       "\n",
       "    .dataframe thead th {\n",
       "        text-align: right;\n",
       "    }\n",
       "</style>\n",
       "<table border=\"1\" class=\"dataframe\">\n",
       "  <thead>\n",
       "    <tr style=\"text-align: right;\">\n",
       "      <th></th>\n",
       "      <th>A</th>\n",
       "      <th>B</th>\n",
       "      <th>C</th>\n",
       "      <th>D</th>\n",
       "    </tr>\n",
       "  </thead>\n",
       "  <tbody>\n",
       "    <tr>\n",
       "      <th>0</th>\n",
       "      <td>0</td>\n",
       "      <td>NaN</td>\n",
       "      <td>NaN</td>\n",
       "      <td>NaN</td>\n",
       "    </tr>\n",
       "    <tr>\n",
       "      <th>1</th>\n",
       "      <td>1</td>\n",
       "      <td>NaN</td>\n",
       "      <td>NaN</td>\n",
       "      <td>NaN</td>\n",
       "    </tr>\n",
       "    <tr>\n",
       "      <th>2</th>\n",
       "      <td>2</td>\n",
       "      <td>NaN</td>\n",
       "      <td>NaN</td>\n",
       "      <td>NaN</td>\n",
       "    </tr>\n",
       "    <tr>\n",
       "      <th>3</th>\n",
       "      <td>3</td>\n",
       "      <td>NaN</td>\n",
       "      <td>NaN</td>\n",
       "      <td>NaN</td>\n",
       "    </tr>\n",
       "    <tr>\n",
       "      <th>4</th>\n",
       "      <td>4</td>\n",
       "      <td>NaN</td>\n",
       "      <td>NaN</td>\n",
       "      <td>NaN</td>\n",
       "    </tr>\n",
       "  </tbody>\n",
       "</table>\n",
       "</div>"
      ],
      "text/plain": [
       "   A    B    C    D\n",
       "0  0  NaN  NaN  NaN\n",
       "1  1  NaN  NaN  NaN\n",
       "2  2  NaN  NaN  NaN\n",
       "3  3  NaN  NaN  NaN\n",
       "4  4  NaN  NaN  NaN"
      ]
     },
     "execution_count": 6,
     "metadata": {},
     "output_type": "execute_result"
    }
   ],
   "source": [
    "import pandas as pd\n",
    "df0 = pd.DataFrame(columns=['A', 'B', 'C', 'D'])\n",
    "df0[\"A\"] = np.arange(5)\n",
    "df0"
   ]
  },
  {
   "cell_type": "markdown",
   "metadata": {},
   "source": [
    "如果想要批次给各列赋值，可以这样："
   ]
  },
  {
   "cell_type": "code",
   "execution_count": 7,
   "metadata": {},
   "outputs": [
    {
     "data": {
      "text/html": [
       "<div>\n",
       "<style scoped>\n",
       "    .dataframe tbody tr th:only-of-type {\n",
       "        vertical-align: middle;\n",
       "    }\n",
       "\n",
       "    .dataframe tbody tr th {\n",
       "        vertical-align: top;\n",
       "    }\n",
       "\n",
       "    .dataframe thead th {\n",
       "        text-align: right;\n",
       "    }\n",
       "</style>\n",
       "<table border=\"1\" class=\"dataframe\">\n",
       "  <thead>\n",
       "    <tr style=\"text-align: right;\">\n",
       "      <th></th>\n",
       "      <th>A</th>\n",
       "      <th>B</th>\n",
       "      <th>C</th>\n",
       "      <th>D</th>\n",
       "    </tr>\n",
       "  </thead>\n",
       "  <tbody>\n",
       "    <tr>\n",
       "      <th>0</th>\n",
       "      <td>0</td>\n",
       "      <td>0</td>\n",
       "      <td>0</td>\n",
       "      <td>0</td>\n",
       "    </tr>\n",
       "    <tr>\n",
       "      <th>1</th>\n",
       "      <td>1</td>\n",
       "      <td>1</td>\n",
       "      <td>1</td>\n",
       "      <td>1</td>\n",
       "    </tr>\n",
       "    <tr>\n",
       "      <th>2</th>\n",
       "      <td>2</td>\n",
       "      <td>2</td>\n",
       "      <td>2</td>\n",
       "      <td>2</td>\n",
       "    </tr>\n",
       "    <tr>\n",
       "      <th>3</th>\n",
       "      <td>3</td>\n",
       "      <td>3</td>\n",
       "      <td>3</td>\n",
       "      <td>3</td>\n",
       "    </tr>\n",
       "    <tr>\n",
       "      <th>4</th>\n",
       "      <td>4</td>\n",
       "      <td>4</td>\n",
       "      <td>4</td>\n",
       "      <td>4</td>\n",
       "    </tr>\n",
       "  </tbody>\n",
       "</table>\n",
       "</div>"
      ],
      "text/plain": [
       "   A  B  C  D\n",
       "0  0  0  0  0\n",
       "1  1  1  1  1\n",
       "2  2  2  2  2\n",
       "3  3  3  3  3\n",
       "4  4  4  4  4"
      ]
     },
     "execution_count": 7,
     "metadata": {},
     "output_type": "execute_result"
    }
   ],
   "source": [
    "for column in df0.columns:\n",
    "    df0[column]=np.arange(5)\n",
    "df0"
   ]
  },
  {
   "cell_type": "markdown",
   "metadata": {},
   "source": [
    "有时候会需要指定某些列的数据类型，这时候可以使用如下方式："
   ]
  },
  {
   "cell_type": "code",
   "execution_count": 8,
   "metadata": {},
   "outputs": [
    {
     "data": {
      "text/html": [
       "<div>\n",
       "<style scoped>\n",
       "    .dataframe tbody tr th:only-of-type {\n",
       "        vertical-align: middle;\n",
       "    }\n",
       "\n",
       "    .dataframe tbody tr th {\n",
       "        vertical-align: top;\n",
       "    }\n",
       "\n",
       "    .dataframe thead th {\n",
       "        text-align: right;\n",
       "    }\n",
       "</style>\n",
       "<table border=\"1\" class=\"dataframe\">\n",
       "  <thead>\n",
       "    <tr style=\"text-align: right;\">\n",
       "      <th></th>\n",
       "      <th>one</th>\n",
       "      <th>two</th>\n",
       "      <th>three</th>\n",
       "    </tr>\n",
       "  </thead>\n",
       "  <tbody>\n",
       "    <tr>\n",
       "      <th>0</th>\n",
       "      <td>a</td>\n",
       "      <td>1.2</td>\n",
       "      <td>4.2</td>\n",
       "    </tr>\n",
       "    <tr>\n",
       "      <th>1</th>\n",
       "      <td>b</td>\n",
       "      <td>70</td>\n",
       "      <td>0.03</td>\n",
       "    </tr>\n",
       "    <tr>\n",
       "      <th>2</th>\n",
       "      <td>x</td>\n",
       "      <td>5</td>\n",
       "      <td>0</td>\n",
       "    </tr>\n",
       "  </tbody>\n",
       "</table>\n",
       "</div>"
      ],
      "text/plain": [
       "  one  two three\n",
       "0   a  1.2   4.2\n",
       "1   b   70  0.03\n",
       "2   x    5     0"
      ]
     },
     "execution_count": 8,
     "metadata": {},
     "output_type": "execute_result"
    }
   ],
   "source": [
    "a = [['a', '1.2', '4.2'], ['b', '70', '0.03'], ['x', '5', '0']]\n",
    "df = pd.DataFrame(a, columns=['one', 'two', 'three'])\n",
    "df"
   ]
  },
  {
   "cell_type": "code",
   "execution_count": 9,
   "metadata": {},
   "outputs": [
    {
     "data": {
      "text/plain": [
       "one      object\n",
       "two      object\n",
       "three    object\n",
       "dtype: object"
      ]
     },
     "execution_count": 9,
     "metadata": {},
     "output_type": "execute_result"
    }
   ],
   "source": [
    "df.dtypes"
   ]
  },
  {
   "cell_type": "code",
   "execution_count": 10,
   "metadata": {},
   "outputs": [
    {
     "data": {
      "text/plain": [
       "one       object\n",
       "two      float64\n",
       "three    float64\n",
       "dtype: object"
      ]
     },
     "execution_count": 10,
     "metadata": {},
     "output_type": "execute_result"
    }
   ],
   "source": [
    "df[['two', 'three']] = df[['two', 'three']].astype(float)\n",
    "df.dtypes"
   ]
  },
  {
   "cell_type": "markdown",
   "metadata": {},
   "source": [
    "pandas与numpy数据结构之间可以方便地进行转换。\n",
    "\n",
    "pandas转为numpy比较简单，直接调用value即转为ndarray。反过来，也很容易，直接用pandas的类型，相当于直接初始化了。"
   ]
  },
  {
   "cell_type": "code",
   "execution_count": 11,
   "metadata": {
    "pycharm": {
     "name": "#%%\n"
    }
   },
   "outputs": [
    {
     "name": "stdout",
     "output_type": "stream",
     "text": [
      "   A  B  C\n",
      "0  1  4  7\n",
      "1  2  5  8\n",
      "2  3  6  9\n",
      "[[1 4 7]\n",
      " [2 5 8]\n",
      " [3 6 9]]\n",
      "[[1 4 7]\n",
      " [2 5 8]\n",
      " [3 6 9]]\n",
      "0    1\n",
      "1    2\n",
      "2    3\n",
      "Name: A, dtype: int64\n",
      "0    1\n",
      "1    2\n",
      "2    3\n",
      "Name: A, dtype: int64\n",
      "[1 2 3]\n",
      "series转为ndarray：\n",
      "['New York' 'Chicago' 'Toronto' 'Lisbon' 'Rio']\n",
      "City 1    New York\n",
      "City 2     Chicago\n",
      "City 3     Toronto\n",
      "City 4      Lisbon\n",
      "City 5         Rio\n",
      "dtype: object\n"
     ]
    }
   ],
   "source": [
    "# pandas dataframe与numpy array之间的转换\n",
    "df = pd.DataFrame({'A': [1, 2, 3], 'B': [4, 5, 6], 'C': [7, 8, 9]})\n",
    "print(df)\n",
    "# df转换为ndarray\n",
    "array_from_df=df.values\n",
    "print(array_from_df)\n",
    "print(np.array(df))\n",
    "# 读取某一列数据，两种方式均可\n",
    "print(df['A'])\n",
    "print(df.loc[:, 'A'])\n",
    "# 一列数据转换为ndarray\n",
    "print(np.array(df['A']))\n",
    "# Series转ndarray\n",
    "# Creating the Series\n",
    "sr = pd.Series(['New York', 'Chicago', 'Toronto', 'Lisbon', 'Rio'])\n",
    "# Create the Index\n",
    "index_ = ['City 1', 'City 2', 'City 3', 'City 4', 'City 5']\n",
    "# set the index\n",
    "sr.index = index_\n",
    "# return numpy array representation\n",
    "result = sr.values\n",
    "# Print the result\n",
    "print(\"series转为ndarray：\")\n",
    "print(result)\n",
    "# Print the series\n",
    "print(sr)"
   ]
  },
  {
   "cell_type": "markdown",
   "metadata": {},
   "source": [
    "## IO工具\n",
    "\n",
    "很多时候，初始化DataFrame都是从读取文件开始的。对于csv文件和txt文件，都可以通过pandas的read_csv()函数读取。"
   ]
  },
  {
   "cell_type": "code",
   "execution_count": 12,
   "metadata": {
    "pycharm": {
     "is_executing": false,
     "name": "#%%\n"
    }
   },
   "outputs": [
    {
     "name": "stdout",
     "output_type": "stream",
     "text": [
      "原数据：\n",
      " col1,col2,col3\n",
      "a,b,01\n",
      "a,b,02\n",
      "c,d,03\n",
      "pandas读取默认设置：\n",
      "   col1 col2  col3\n",
      "0    a    b     1\n",
      "1    a    b     2\n",
      "2    c    d     3\n",
      "pandas读取前两列：\n",
      "   col1 col2\n",
      "0    a    b\n",
      "1    a    b\n",
      "2    c    d\n",
      "pandas读取某两列：\n",
      "   col1  col3\n",
      "0    a     1\n",
      "1    a     2\n",
      "2    c     3\n",
      "pandas读取某些行：\n",
      "   col1 col2  col3\n",
      "0    a    b     2\n",
      "读取数据之后，重新命名列名：\n",
      "\n"
     ]
    },
    {
     "data": {
      "text/html": [
       "<div>\n",
       "<style scoped>\n",
       "    .dataframe tbody tr th:only-of-type {\n",
       "        vertical-align: middle;\n",
       "    }\n",
       "\n",
       "    .dataframe tbody tr th {\n",
       "        vertical-align: top;\n",
       "    }\n",
       "\n",
       "    .dataframe thead th {\n",
       "        text-align: right;\n",
       "    }\n",
       "</style>\n",
       "<table border=\"1\" class=\"dataframe\">\n",
       "  <thead>\n",
       "    <tr style=\"text-align: right;\">\n",
       "      <th></th>\n",
       "      <th>A</th>\n",
       "      <th>B</th>\n",
       "      <th>C</th>\n",
       "    </tr>\n",
       "  </thead>\n",
       "  <tbody>\n",
       "    <tr>\n",
       "      <th>0</th>\n",
       "      <td>a</td>\n",
       "      <td>b</td>\n",
       "      <td>1</td>\n",
       "    </tr>\n",
       "    <tr>\n",
       "      <th>1</th>\n",
       "      <td>a</td>\n",
       "      <td>b</td>\n",
       "      <td>2</td>\n",
       "    </tr>\n",
       "    <tr>\n",
       "      <th>2</th>\n",
       "      <td>c</td>\n",
       "      <td>d</td>\n",
       "      <td>3</td>\n",
       "    </tr>\n",
       "  </tbody>\n",
       "</table>\n",
       "</div>"
      ],
      "text/plain": [
       "   A  B  C\n",
       "0  a  b  1\n",
       "1  a  b  2\n",
       "2  c  d  3"
      ]
     },
     "execution_count": 12,
     "metadata": {},
     "output_type": "execute_result"
    }
   ],
   "source": [
    "from io import StringIO, BytesIO\n",
    "import pandas as pd\n",
    "data = ('col1,col2,col3\\n'\n",
    "         'a,b,01\\n'\n",
    "         'a,b,02\\n'\n",
    "         'c,d,03')\n",
    "print(\"原数据：\\n\",data)\n",
    "print(\"pandas读取默认设置：\\n\",pd.read_csv(StringIO(data)))\n",
    "# 读取数据的时候即进行slice\n",
    "print(\"pandas读取前两列：\\n\",pd.read_csv(StringIO(data), usecols=range(0,2)))\n",
    "print(\"pandas读取某两列：\\n\",pd.read_csv(StringIO(data), usecols=lambda x: x.upper() in ['COL1', 'COL3']))\n",
    "print(\"pandas读取某些行：\\n\",pd.read_csv(StringIO(data), skiprows=lambda x: x % 2 != 0))\n",
    "print(\"读取数据之后，重新命名列名：\\n\")\n",
    "df_example=pd.read_csv(StringIO(data))\n",
    "df_example.columns = ['A','B','C']\n",
    "df_example"
   ]
  },
  {
   "cell_type": "markdown",
   "metadata": {},
   "source": [
    "另外，有时候会需要指定某一列作为dataframe的index，比如指定第一列为index，可以使用如下形式："
   ]
  },
  {
   "cell_type": "code",
   "execution_count": 13,
   "metadata": {},
   "outputs": [
    {
     "name": "stdout",
     "output_type": "stream",
     "text": [
      "原数据：\n",
      " col1,col2,col3\n",
      "a,b,01\n",
      "a,b,02\n",
      "c,d,03\n",
      "pandas读取默认设置：\n",
      "      col2  col3\n",
      "col1           \n",
      "a       b     1\n",
      "a       b     2\n",
      "c       d     3\n"
     ]
    }
   ],
   "source": [
    "data = ('col1,col2,col3\\n'\n",
    "         'a,b,01\\n'\n",
    "         'a,b,02\\n'\n",
    "         'c,d,03')\n",
    "print(\"原数据：\\n\",data)\n",
    "print(\"pandas读取默认设置：\\n\",pd.read_csv(StringIO(data), index_col=0))"
   ]
  },
  {
   "cell_type": "markdown",
   "metadata": {},
   "source": [
    "专业方面，很多数据都是把年月或者年旬或者年日分别当做行和列，在计算时，需要进行处理，把时间变为一列或一行，即把几列或行的数组拼接起来\n",
    "即将[1 2;2 3]的数据变为[1 2 2 3]，pandas的concat和numpy的concatenate类似。最后把行名index统一换成日期，构成时间序列Series"
   ]
  },
  {
   "cell_type": "code",
   "execution_count": 14,
   "metadata": {},
   "outputs": [
    {
     "data": {
      "text/plain": [
       "2011-01-01 00:00:00    0\n",
       "2011-01-01 01:00:00    1\n",
       "2011-01-01 02:00:00    2\n",
       "2011-01-01 03:00:00    0\n",
       "2011-01-01 04:00:00    1\n",
       "Freq: H, Name: bbbbb, dtype: int64"
      ]
     },
     "execution_count": 14,
     "metadata": {},
     "output_type": "execute_result"
    }
   ],
   "source": [
    "# 如果遇到“UnicodeDecodeError: 'utf8' codec can't decode byte....”错误，用记事本另存csv文件时，将“编码”设置为‘UTF-8’即可\n",
    "dataset = pd.read_csv('Sheet1.csv')\n",
    "# header指定某行的值作为各列的列名，1表示第二行，如果是None，则从第一行开始就是数据。\n",
    "dataset = pd.read_csv('Sheet1.csv', header=1)\n",
    "# 因为给定的数据格式，各人有各自的一套，所以具体情况具体分析。比如，这里dataset的第一列可以去掉，即得到所有数据，删除列时，用drop函数，加参数axis=1，不加则表示删除行\n",
    "dataset1 = dataset.drop(['旬平均'], axis=1)\n",
    "df = pd.DataFrame({\"a\": range(3), \"b\": range(3), \"c\": range(3)})\n",
    "# iloc获取的数据格式为Series\n",
    "se = df.iloc[:, 0]\n",
    "# 获取dataframe的列数：df.shape[1]\n",
    "for i in range(1, df.shape[1]):\n",
    "    se_temp = df.iloc[:, i]\n",
    "    se = pd.concat([se, se_temp])\n",
    "# 如果一开始没有给series起名，比如从csv读取出来时是dataframe，拼接之后没办法再给Series起名，但是又需要给它起名，那么只能采取重新构造一个series的方式来命名\n",
    "se = pd.Series(se, name=\"aaaaaaa\")\n",
    "# 把每行名称换为日期\n",
    "rng = pd.date_range('2011-1-1', periods=9, freq='H')\n",
    "se.index = rng\n",
    "se = pd.Series(se, name=\"bbbbb\")\n",
    "se.head()"
   ]
  },
  {
   "cell_type": "markdown",
   "metadata": {},
   "source": [
    "当csv中包含了大量的编号代码，比如是002开头的编号——002111， 使用pd.read_csv('text.csv') 则会让所有的002xxx，变成了2xxx，前面2个0不见了，因为作为数值类型，没有必要保留0。\n",
    "\n",
    "因此，为了保持编号的字符串特性，直接在参数一栏设置一下即可：\n",
    "df＝pd.read_csv('text.csv', dtype={'code':str}\n",
    " \n",
    "这样，把你要转换的列的名字设定好， “code”列中的数据读取为str，用列名或者列序号均可。\n",
    " \n",
    "这样，读取到的数据就是按照我们的要求的了。"
   ]
  },
  {
   "cell_type": "code",
   "execution_count": 15,
   "metadata": {},
   "outputs": [
    {
     "name": "stdout",
     "output_type": "stream",
     "text": [
      "  col1 col2 col3\n",
      "0    a    b   01\n",
      "1    a    b   02\n",
      "2    c    d   03\n",
      "  col1 col2 col3\n",
      "0    a    b   01\n",
      "1    a    b   02\n",
      "2    c    d   03\n"
     ]
    }
   ],
   "source": [
    "dataset = pd.read_csv(StringIO(data),dtype={2:str})\n",
    "print(dataset)\n",
    "dataset = pd.read_csv(StringIO(data),dtype={'col3':str})\n",
    "print(dataset)"
   ]
  },
  {
   "cell_type": "markdown",
   "metadata": {},
   "source": [
    "如果文件有注释行，读取的时候可以使用comment参数跳过"
   ]
  },
  {
   "cell_type": "code",
   "execution_count": 16,
   "metadata": {},
   "outputs": [
    {
     "data": {
      "text/html": [
       "<div>\n",
       "<style scoped>\n",
       "    .dataframe tbody tr th:only-of-type {\n",
       "        vertical-align: middle;\n",
       "    }\n",
       "\n",
       "    .dataframe tbody tr th {\n",
       "        vertical-align: top;\n",
       "    }\n",
       "\n",
       "    .dataframe thead th {\n",
       "        text-align: right;\n",
       "    }\n",
       "</style>\n",
       "<table border=\"1\" class=\"dataframe\">\n",
       "  <thead>\n",
       "    <tr style=\"text-align: right;\">\n",
       "      <th></th>\n",
       "      <th>col1</th>\n",
       "      <th>col2</th>\n",
       "      <th>col3</th>\n",
       "    </tr>\n",
       "  </thead>\n",
       "  <tbody>\n",
       "    <tr>\n",
       "      <th>0</th>\n",
       "      <td>A</td>\n",
       "      <td>2</td>\n",
       "      <td>0</td>\n",
       "    </tr>\n",
       "    <tr>\n",
       "      <th>1</th>\n",
       "      <td>A</td>\n",
       "      <td>1</td>\n",
       "      <td>1</td>\n",
       "    </tr>\n",
       "    <tr>\n",
       "      <th>2</th>\n",
       "      <td>B</td>\n",
       "      <td>9</td>\n",
       "      <td>9</td>\n",
       "    </tr>\n",
       "    <tr>\n",
       "      <th>3</th>\n",
       "      <td>NaN</td>\n",
       "      <td>8</td>\n",
       "      <td>4</td>\n",
       "    </tr>\n",
       "    <tr>\n",
       "      <th>4</th>\n",
       "      <td>D</td>\n",
       "      <td>7</td>\n",
       "      <td>2</td>\n",
       "    </tr>\n",
       "    <tr>\n",
       "      <th>5</th>\n",
       "      <td>C</td>\n",
       "      <td>4</td>\n",
       "      <td>3</td>\n",
       "    </tr>\n",
       "  </tbody>\n",
       "</table>\n",
       "</div>"
      ],
      "text/plain": [
       "  col1  col2  col3\n",
       "0    A     2     0\n",
       "1    A     1     1\n",
       "2    B     9     9\n",
       "3  NaN     8     4\n",
       "4    D     7     2\n",
       "5    C     4     3"
      ]
     },
     "execution_count": 16,
     "metadata": {},
     "output_type": "execute_result"
    }
   ],
   "source": [
    "import pandas as pd\n",
    "file= 'test-comment.csv'\n",
    "data_wo_comment = pd.read_csv(file, comment='#')\n",
    "data_wo_comment"
   ]
  },
  {
   "cell_type": "markdown",
   "metadata": {},
   "source": [
    "读取excel文件的话稍微有些不同，这时候我们需要使用read_excel函数，该函数需要额外的 openpyxl 包，因此安装此包：\n",
    "\n",
    "```Shell\n",
    "conda install -c conda-forge openpyxl\n",
    "```"
   ]
  },
  {
   "cell_type": "code",
   "execution_count": 19,
   "metadata": {},
   "outputs": [
    {
     "data": {
      "text/html": [
       "<div>\n",
       "<style scoped>\n",
       "    .dataframe tbody tr th:only-of-type {\n",
       "        vertical-align: middle;\n",
       "    }\n",
       "\n",
       "    .dataframe tbody tr th {\n",
       "        vertical-align: top;\n",
       "    }\n",
       "\n",
       "    .dataframe thead th {\n",
       "        text-align: right;\n",
       "    }\n",
       "</style>\n",
       "<table border=\"1\" class=\"dataframe\">\n",
       "  <thead>\n",
       "    <tr style=\"text-align: right;\">\n",
       "      <th></th>\n",
       "      <th>RECORDID</th>\n",
       "      <th>DAM_NAME</th>\n",
       "      <th>OTHER_DAM_NAME</th>\n",
       "      <th>DAM_FORMER_NAME</th>\n",
       "      <th>STATEID</th>\n",
       "      <th>NIDID</th>\n",
       "      <th>LONGITUDE</th>\n",
       "      <th>LATITUDE</th>\n",
       "      <th>SECTION</th>\n",
       "      <th>COUNTY</th>\n",
       "      <th>...</th>\n",
       "      <th>CONG_NAME</th>\n",
       "      <th>PARTY</th>\n",
       "      <th>CONG_DIST</th>\n",
       "      <th>OTHERSTRUCTUREID</th>\n",
       "      <th>NUMSEPARATESTRUCTURES</th>\n",
       "      <th>PERMITTINGAUTHORITY</th>\n",
       "      <th>INSPECTIONAUTHORITY</th>\n",
       "      <th>ENFORCEMENTAUTHORITY</th>\n",
       "      <th>JURISDICTIONALDAM</th>\n",
       "      <th>EAP_LAST_REV_DATE</th>\n",
       "    </tr>\n",
       "  </thead>\n",
       "  <tbody>\n",
       "    <tr>\n",
       "      <th>0</th>\n",
       "      <td>1</td>\n",
       "      <td>COOPER LAKE</td>\n",
       "      <td>NaN</td>\n",
       "      <td>NaN</td>\n",
       "      <td>NaN</td>\n",
       "      <td>AK00001</td>\n",
       "      <td>-149.823147</td>\n",
       "      <td>60.433708</td>\n",
       "      <td>NaN</td>\n",
       "      <td>KENAI PENINSULA</td>\n",
       "      <td>...</td>\n",
       "      <td>Don Young (R)</td>\n",
       "      <td>R</td>\n",
       "      <td>AK00</td>\n",
       "      <td>NaN</td>\n",
       "      <td>1</td>\n",
       "      <td>N</td>\n",
       "      <td>N</td>\n",
       "      <td>N</td>\n",
       "      <td>N</td>\n",
       "      <td>08-JAN-18</td>\n",
       "    </tr>\n",
       "    <tr>\n",
       "      <th>1</th>\n",
       "      <td>2</td>\n",
       "      <td>BLUE LAKE</td>\n",
       "      <td>NaN</td>\n",
       "      <td>NaN</td>\n",
       "      <td>NaN</td>\n",
       "      <td>AK00002</td>\n",
       "      <td>-135.191700</td>\n",
       "      <td>57.063300</td>\n",
       "      <td>T55S, R64E, S35</td>\n",
       "      <td>SITKA</td>\n",
       "      <td>...</td>\n",
       "      <td>Don Young (R)</td>\n",
       "      <td>R</td>\n",
       "      <td>AK00</td>\n",
       "      <td>NaN</td>\n",
       "      <td>1</td>\n",
       "      <td>N</td>\n",
       "      <td>N</td>\n",
       "      <td>N</td>\n",
       "      <td>N</td>\n",
       "      <td>27-DEC-17</td>\n",
       "    </tr>\n",
       "    <tr>\n",
       "      <th>2</th>\n",
       "      <td>3</td>\n",
       "      <td>SALMON CREEK</td>\n",
       "      <td>NaN</td>\n",
       "      <td>NaN</td>\n",
       "      <td>NaN</td>\n",
       "      <td>AK00003</td>\n",
       "      <td>-134.403608</td>\n",
       "      <td>58.341850</td>\n",
       "      <td>T41S,R67E,S2</td>\n",
       "      <td>JUNEAU</td>\n",
       "      <td>...</td>\n",
       "      <td>Don Young (R)</td>\n",
       "      <td>R</td>\n",
       "      <td>AK00</td>\n",
       "      <td>NaN</td>\n",
       "      <td>1</td>\n",
       "      <td>N</td>\n",
       "      <td>N</td>\n",
       "      <td>N</td>\n",
       "      <td>N</td>\n",
       "      <td>27-SEP-17</td>\n",
       "    </tr>\n",
       "    <tr>\n",
       "      <th>3</th>\n",
       "      <td>4</td>\n",
       "      <td>ANNEX CREEK</td>\n",
       "      <td>NaN</td>\n",
       "      <td>NaN</td>\n",
       "      <td>NaN</td>\n",
       "      <td>AK00004</td>\n",
       "      <td>-134.126578</td>\n",
       "      <td>58.326939</td>\n",
       "      <td>T41S,R69E,S9</td>\n",
       "      <td>JUNEAU</td>\n",
       "      <td>...</td>\n",
       "      <td>Don Young (R)</td>\n",
       "      <td>R</td>\n",
       "      <td>AK00</td>\n",
       "      <td>NaN</td>\n",
       "      <td>2</td>\n",
       "      <td>N</td>\n",
       "      <td>N</td>\n",
       "      <td>N</td>\n",
       "      <td>N</td>\n",
       "      <td>27-SEP-17</td>\n",
       "    </tr>\n",
       "    <tr>\n",
       "      <th>4</th>\n",
       "      <td>5</td>\n",
       "      <td>CRYSTAL LAKE</td>\n",
       "      <td>NaN</td>\n",
       "      <td>NaN</td>\n",
       "      <td>NaN</td>\n",
       "      <td>AK00005</td>\n",
       "      <td>-132.845500</td>\n",
       "      <td>56.600000</td>\n",
       "      <td>T61S,R81E,S6</td>\n",
       "      <td>WRANGELL-PETERSBURG</td>\n",
       "      <td>...</td>\n",
       "      <td>Don Young (R)</td>\n",
       "      <td>R</td>\n",
       "      <td>AK00</td>\n",
       "      <td>NaN</td>\n",
       "      <td>1</td>\n",
       "      <td>N</td>\n",
       "      <td>N</td>\n",
       "      <td>N</td>\n",
       "      <td>N</td>\n",
       "      <td>19-DEC-17</td>\n",
       "    </tr>\n",
       "  </tbody>\n",
       "</table>\n",
       "<p>5 rows × 69 columns</p>\n",
       "</div>"
      ],
      "text/plain": [
       "   RECORDID      DAM_NAME OTHER_DAM_NAME DAM_FORMER_NAME  STATEID    NIDID  \\\n",
       "0         1   COOPER LAKE            NaN             NaN      NaN  AK00001   \n",
       "1         2     BLUE LAKE            NaN             NaN      NaN  AK00002   \n",
       "2         3  SALMON CREEK            NaN             NaN      NaN  AK00003   \n",
       "3         4   ANNEX CREEK            NaN             NaN      NaN  AK00004   \n",
       "4         5  CRYSTAL LAKE            NaN             NaN      NaN  AK00005   \n",
       "\n",
       "    LONGITUDE   LATITUDE          SECTION               COUNTY  ...  \\\n",
       "0 -149.823147  60.433708              NaN      KENAI PENINSULA  ...   \n",
       "1 -135.191700  57.063300  T55S, R64E, S35                SITKA  ...   \n",
       "2 -134.403608  58.341850     T41S,R67E,S2               JUNEAU  ...   \n",
       "3 -134.126578  58.326939     T41S,R69E,S9               JUNEAU  ...   \n",
       "4 -132.845500  56.600000     T61S,R81E,S6  WRANGELL-PETERSBURG  ...   \n",
       "\n",
       "       CONG_NAME PARTY  CONG_DIST OTHERSTRUCTUREID NUMSEPARATESTRUCTURES  \\\n",
       "0  Don Young (R)     R       AK00              NaN                     1   \n",
       "1  Don Young (R)     R       AK00              NaN                     1   \n",
       "2  Don Young (R)     R       AK00              NaN                     1   \n",
       "3  Don Young (R)     R       AK00              NaN                     2   \n",
       "4  Don Young (R)     R       AK00              NaN                     1   \n",
       "\n",
       "  PERMITTINGAUTHORITY INSPECTIONAUTHORITY ENFORCEMENTAUTHORITY  \\\n",
       "0                   N                   N                    N   \n",
       "1                   N                   N                    N   \n",
       "2                   N                   N                    N   \n",
       "3                   N                   N                    N   \n",
       "4                   N                   N                    N   \n",
       "\n",
       "  JURISDICTIONALDAM EAP_LAST_REV_DATE  \n",
       "0                 N         08-JAN-18  \n",
       "1                 N         27-DEC-17  \n",
       "2                 N         27-SEP-17  \n",
       "3                 N         27-SEP-17  \n",
       "4                 N         19-DEC-17  \n",
       "\n",
       "[5 rows x 69 columns]"
      ]
     },
     "execution_count": 19,
     "metadata": {},
     "output_type": "execute_result"
    }
   ],
   "source": [
    "import pandas as pd\n",
    "df = pd.read_excel('AK_U.xlsx',sheet_name='AK')\n",
    "# df = pd.read_excel('NID2018_U.xlsx')\n",
    "df.head()"
   ]
  },
  {
   "cell_type": "markdown",
   "metadata": {},
   "source": [
    "另外，有时候还会使用 feather 文件，feather 是一种高效读写二进制数据的文件格式。不过根据https://zhuanlan.zhihu.com/p/69221436 一文中的建议，pandas自带的to_feather和read_feather容易有版本不兼容的问题，所以最好还是使用feather自带的api。安装feather：\n",
    "\n",
    "```Shell\n",
    "conda install -c conda-forge feather-format\n",
    "```\n",
    "\n",
    "首先看个例子，把csv文件转为feather文件"
   ]
  },
  {
   "cell_type": "code",
   "execution_count": 21,
   "metadata": {},
   "outputs": [],
   "source": [
    "import numpy as np \n",
    "import pandas as pd\n",
    "import os\n",
    "import feather"
   ]
  },
  {
   "cell_type": "code",
   "execution_count": 22,
   "metadata": {},
   "outputs": [
    {
     "data": {
      "text/html": [
       "<div>\n",
       "<style scoped>\n",
       "    .dataframe tbody tr th:only-of-type {\n",
       "        vertical-align: middle;\n",
       "    }\n",
       "\n",
       "    .dataframe tbody tr th {\n",
       "        vertical-align: top;\n",
       "    }\n",
       "\n",
       "    .dataframe thead th {\n",
       "        text-align: right;\n",
       "    }\n",
       "</style>\n",
       "<table border=\"1\" class=\"dataframe\">\n",
       "  <thead>\n",
       "    <tr style=\"text-align: right;\">\n",
       "      <th></th>\n",
       "      <th>Unnamed: 0</th>\n",
       "      <th>DRAIN_SQKM</th>\n",
       "      <th>PPTAVG_BASIN</th>\n",
       "      <th>T_AVG_BASIN</th>\n",
       "      <th>T_MAX_BASIN</th>\n",
       "      <th>T_MAXSTD_BASIN</th>\n",
       "      <th>T_MIN_BASIN</th>\n",
       "      <th>T_MINSTD_BASIN</th>\n",
       "      <th>RH_BASIN</th>\n",
       "      <th>STREAMS_KM_SQ_KM</th>\n",
       "      <th>...</th>\n",
       "      <th>CONTACT</th>\n",
       "      <th>CANALS_PCT</th>\n",
       "      <th>RAW_AVG_DIS_ALLCANALS</th>\n",
       "      <th>NPDES_MAJ_DENS</th>\n",
       "      <th>RAW_AVG_DIS_ALL_MAJ_NPDES</th>\n",
       "      <th>FRESHW_WITHDRAWAL</th>\n",
       "      <th>PCT_IRRIG_AG</th>\n",
       "      <th>ROADS_KM_SQ_KM</th>\n",
       "      <th>PADCAT1_PCT_BASIN</th>\n",
       "      <th>PADCAT2_PCT_BASIN</th>\n",
       "    </tr>\n",
       "  </thead>\n",
       "  <tbody>\n",
       "    <tr>\n",
       "      <th>0</th>\n",
       "      <td>0</td>\n",
       "      <td>78.68936</td>\n",
       "      <td>127.5406</td>\n",
       "      <td>8.063560</td>\n",
       "      <td>13.88701</td>\n",
       "      <td>0.522248</td>\n",
       "      <td>2.277803</td>\n",
       "      <td>0.249605</td>\n",
       "      <td>66.30219</td>\n",
       "      <td>1.018440</td>\n",
       "      <td>...</td>\n",
       "      <td>57.28217</td>\n",
       "      <td>0.000000</td>\n",
       "      <td>-999.000000</td>\n",
       "      <td>0.0</td>\n",
       "      <td>-999.0</td>\n",
       "      <td>121.120320</td>\n",
       "      <td>0.000000</td>\n",
       "      <td>1.675743</td>\n",
       "      <td>0.293980</td>\n",
       "      <td>0.172727</td>\n",
       "    </tr>\n",
       "    <tr>\n",
       "      <th>1</th>\n",
       "      <td>1</td>\n",
       "      <td>57.11760</td>\n",
       "      <td>119.5265</td>\n",
       "      <td>9.303685</td>\n",
       "      <td>15.14444</td>\n",
       "      <td>0.084197</td>\n",
       "      <td>3.726328</td>\n",
       "      <td>0.148465</td>\n",
       "      <td>69.82677</td>\n",
       "      <td>0.675294</td>\n",
       "      <td>...</td>\n",
       "      <td>185.99640</td>\n",
       "      <td>3.068812</td>\n",
       "      <td>3.711502</td>\n",
       "      <td>0.0</td>\n",
       "      <td>-999.0</td>\n",
       "      <td>54.125643</td>\n",
       "      <td>0.000000</td>\n",
       "      <td>3.821900</td>\n",
       "      <td>1.301525</td>\n",
       "      <td>2.492752</td>\n",
       "    </tr>\n",
       "    <tr>\n",
       "      <th>2</th>\n",
       "      <td>2</td>\n",
       "      <td>2.08080</td>\n",
       "      <td>119.5615</td>\n",
       "      <td>9.400000</td>\n",
       "      <td>15.11700</td>\n",
       "      <td>0.056098</td>\n",
       "      <td>4.004286</td>\n",
       "      <td>0.047523</td>\n",
       "      <td>70.00000</td>\n",
       "      <td>1.044123</td>\n",
       "      <td>...</td>\n",
       "      <td>90.00000</td>\n",
       "      <td>0.000000</td>\n",
       "      <td>-999.000000</td>\n",
       "      <td>0.0</td>\n",
       "      <td>-999.0</td>\n",
       "      <td>54.125643</td>\n",
       "      <td>0.000000</td>\n",
       "      <td>4.254696</td>\n",
       "      <td>0.302768</td>\n",
       "      <td>0.000000</td>\n",
       "    </tr>\n",
       "    <tr>\n",
       "      <th>3</th>\n",
       "      <td>3</td>\n",
       "      <td>493.16220</td>\n",
       "      <td>137.2501</td>\n",
       "      <td>5.894132</td>\n",
       "      <td>11.93295</td>\n",
       "      <td>1.371181</td>\n",
       "      <td>0.932440</td>\n",
       "      <td>0.999126</td>\n",
       "      <td>68.68895</td>\n",
       "      <td>0.316812</td>\n",
       "      <td>...</td>\n",
       "      <td>32.74243</td>\n",
       "      <td>6.214682</td>\n",
       "      <td>18.087680</td>\n",
       "      <td>0.0</td>\n",
       "      <td>-999.0</td>\n",
       "      <td>152.762449</td>\n",
       "      <td>0.027244</td>\n",
       "      <td>0.996138</td>\n",
       "      <td>42.000660</td>\n",
       "      <td>14.352010</td>\n",
       "    </tr>\n",
       "    <tr>\n",
       "      <th>4</th>\n",
       "      <td>4</td>\n",
       "      <td>1183.97300</td>\n",
       "      <td>114.7634</td>\n",
       "      <td>6.354364</td>\n",
       "      <td>11.96748</td>\n",
       "      <td>0.949577</td>\n",
       "      <td>0.215594</td>\n",
       "      <td>0.567381</td>\n",
       "      <td>67.10426</td>\n",
       "      <td>0.380921</td>\n",
       "      <td>...</td>\n",
       "      <td>42.80731</td>\n",
       "      <td>2.849865</td>\n",
       "      <td>11.538900</td>\n",
       "      <td>0.0</td>\n",
       "      <td>-999.0</td>\n",
       "      <td>161.210720</td>\n",
       "      <td>0.000000</td>\n",
       "      <td>1.353241</td>\n",
       "      <td>1.845117</td>\n",
       "      <td>9.432349</td>\n",
       "    </tr>\n",
       "  </tbody>\n",
       "</table>\n",
       "<p>5 rows × 62 columns</p>\n",
       "</div>"
      ],
      "text/plain": [
       "   Unnamed: 0  DRAIN_SQKM  PPTAVG_BASIN  T_AVG_BASIN  T_MAX_BASIN  \\\n",
       "0           0    78.68936      127.5406     8.063560     13.88701   \n",
       "1           1    57.11760      119.5265     9.303685     15.14444   \n",
       "2           2     2.08080      119.5615     9.400000     15.11700   \n",
       "3           3   493.16220      137.2501     5.894132     11.93295   \n",
       "4           4  1183.97300      114.7634     6.354364     11.96748   \n",
       "\n",
       "   T_MAXSTD_BASIN  T_MIN_BASIN  T_MINSTD_BASIN  RH_BASIN  STREAMS_KM_SQ_KM  \\\n",
       "0        0.522248     2.277803        0.249605  66.30219          1.018440   \n",
       "1        0.084197     3.726328        0.148465  69.82677          0.675294   \n",
       "2        0.056098     4.004286        0.047523  70.00000          1.044123   \n",
       "3        1.371181     0.932440        0.999126  68.68895          0.316812   \n",
       "4        0.949577     0.215594        0.567381  67.10426          0.380921   \n",
       "\n",
       "   ...    CONTACT  CANALS_PCT  RAW_AVG_DIS_ALLCANALS  NPDES_MAJ_DENS  \\\n",
       "0  ...   57.28217    0.000000            -999.000000             0.0   \n",
       "1  ...  185.99640    3.068812               3.711502             0.0   \n",
       "2  ...   90.00000    0.000000            -999.000000             0.0   \n",
       "3  ...   32.74243    6.214682              18.087680             0.0   \n",
       "4  ...   42.80731    2.849865              11.538900             0.0   \n",
       "\n",
       "   RAW_AVG_DIS_ALL_MAJ_NPDES  FRESHW_WITHDRAWAL  PCT_IRRIG_AG  ROADS_KM_SQ_KM  \\\n",
       "0                     -999.0         121.120320      0.000000        1.675743   \n",
       "1                     -999.0          54.125643      0.000000        3.821900   \n",
       "2                     -999.0          54.125643      0.000000        4.254696   \n",
       "3                     -999.0         152.762449      0.027244        0.996138   \n",
       "4                     -999.0         161.210720      0.000000        1.353241   \n",
       "\n",
       "   PADCAT1_PCT_BASIN  PADCAT2_PCT_BASIN  \n",
       "0           0.293980           0.172727  \n",
       "1           1.301525           2.492752  \n",
       "2           0.302768           0.000000  \n",
       "3          42.000660          14.352010  \n",
       "4           1.845117           9.432349  \n",
       "\n",
       "[5 rows x 62 columns]"
      ]
     },
     "execution_count": 22,
     "metadata": {},
     "output_type": "execute_result"
    }
   ],
   "source": [
    "PATH = 'attr_temp99%_days_99sites.csv'\n",
    "df_temp = pd.read_csv(PATH)\n",
    "df_temp.head()"
   ]
  },
  {
   "cell_type": "code",
   "execution_count": 23,
   "metadata": {},
   "outputs": [],
   "source": [
    "df_temp.to_feather('attr_temp99%_days_99sites.feather')"
   ]
  },
  {
   "cell_type": "markdown",
   "metadata": {},
   "source": [
    "然后看看feather数据的读取："
   ]
  },
  {
   "cell_type": "code",
   "execution_count": 24,
   "metadata": {},
   "outputs": [
    {
     "data": {
      "text/html": [
       "<div>\n",
       "<style scoped>\n",
       "    .dataframe tbody tr th:only-of-type {\n",
       "        vertical-align: middle;\n",
       "    }\n",
       "\n",
       "    .dataframe tbody tr th {\n",
       "        vertical-align: top;\n",
       "    }\n",
       "\n",
       "    .dataframe thead th {\n",
       "        text-align: right;\n",
       "    }\n",
       "</style>\n",
       "<table border=\"1\" class=\"dataframe\">\n",
       "  <thead>\n",
       "    <tr style=\"text-align: right;\">\n",
       "      <th></th>\n",
       "      <th>Unnamed: 0</th>\n",
       "      <th>DRAIN_SQKM</th>\n",
       "      <th>PPTAVG_BASIN</th>\n",
       "      <th>T_AVG_BASIN</th>\n",
       "      <th>T_MAX_BASIN</th>\n",
       "      <th>T_MAXSTD_BASIN</th>\n",
       "      <th>T_MIN_BASIN</th>\n",
       "      <th>T_MINSTD_BASIN</th>\n",
       "      <th>RH_BASIN</th>\n",
       "      <th>STREAMS_KM_SQ_KM</th>\n",
       "      <th>...</th>\n",
       "      <th>CONTACT</th>\n",
       "      <th>CANALS_PCT</th>\n",
       "      <th>RAW_AVG_DIS_ALLCANALS</th>\n",
       "      <th>NPDES_MAJ_DENS</th>\n",
       "      <th>RAW_AVG_DIS_ALL_MAJ_NPDES</th>\n",
       "      <th>FRESHW_WITHDRAWAL</th>\n",
       "      <th>PCT_IRRIG_AG</th>\n",
       "      <th>ROADS_KM_SQ_KM</th>\n",
       "      <th>PADCAT1_PCT_BASIN</th>\n",
       "      <th>PADCAT2_PCT_BASIN</th>\n",
       "    </tr>\n",
       "  </thead>\n",
       "  <tbody>\n",
       "    <tr>\n",
       "      <th>0</th>\n",
       "      <td>0</td>\n",
       "      <td>78.68936</td>\n",
       "      <td>127.5406</td>\n",
       "      <td>8.063560</td>\n",
       "      <td>13.88701</td>\n",
       "      <td>0.522248</td>\n",
       "      <td>2.277803</td>\n",
       "      <td>0.249605</td>\n",
       "      <td>66.30219</td>\n",
       "      <td>1.018440</td>\n",
       "      <td>...</td>\n",
       "      <td>57.28217</td>\n",
       "      <td>0.000000</td>\n",
       "      <td>-999.000000</td>\n",
       "      <td>0.0</td>\n",
       "      <td>-999.0</td>\n",
       "      <td>121.120320</td>\n",
       "      <td>0.000000</td>\n",
       "      <td>1.675743</td>\n",
       "      <td>0.293980</td>\n",
       "      <td>0.172727</td>\n",
       "    </tr>\n",
       "    <tr>\n",
       "      <th>1</th>\n",
       "      <td>1</td>\n",
       "      <td>57.11760</td>\n",
       "      <td>119.5265</td>\n",
       "      <td>9.303685</td>\n",
       "      <td>15.14444</td>\n",
       "      <td>0.084197</td>\n",
       "      <td>3.726328</td>\n",
       "      <td>0.148465</td>\n",
       "      <td>69.82677</td>\n",
       "      <td>0.675294</td>\n",
       "      <td>...</td>\n",
       "      <td>185.99640</td>\n",
       "      <td>3.068812</td>\n",
       "      <td>3.711502</td>\n",
       "      <td>0.0</td>\n",
       "      <td>-999.0</td>\n",
       "      <td>54.125643</td>\n",
       "      <td>0.000000</td>\n",
       "      <td>3.821900</td>\n",
       "      <td>1.301525</td>\n",
       "      <td>2.492752</td>\n",
       "    </tr>\n",
       "    <tr>\n",
       "      <th>2</th>\n",
       "      <td>2</td>\n",
       "      <td>2.08080</td>\n",
       "      <td>119.5615</td>\n",
       "      <td>9.400000</td>\n",
       "      <td>15.11700</td>\n",
       "      <td>0.056098</td>\n",
       "      <td>4.004286</td>\n",
       "      <td>0.047523</td>\n",
       "      <td>70.00000</td>\n",
       "      <td>1.044123</td>\n",
       "      <td>...</td>\n",
       "      <td>90.00000</td>\n",
       "      <td>0.000000</td>\n",
       "      <td>-999.000000</td>\n",
       "      <td>0.0</td>\n",
       "      <td>-999.0</td>\n",
       "      <td>54.125643</td>\n",
       "      <td>0.000000</td>\n",
       "      <td>4.254696</td>\n",
       "      <td>0.302768</td>\n",
       "      <td>0.000000</td>\n",
       "    </tr>\n",
       "    <tr>\n",
       "      <th>3</th>\n",
       "      <td>3</td>\n",
       "      <td>493.16220</td>\n",
       "      <td>137.2501</td>\n",
       "      <td>5.894132</td>\n",
       "      <td>11.93295</td>\n",
       "      <td>1.371181</td>\n",
       "      <td>0.932440</td>\n",
       "      <td>0.999126</td>\n",
       "      <td>68.68895</td>\n",
       "      <td>0.316812</td>\n",
       "      <td>...</td>\n",
       "      <td>32.74243</td>\n",
       "      <td>6.214682</td>\n",
       "      <td>18.087680</td>\n",
       "      <td>0.0</td>\n",
       "      <td>-999.0</td>\n",
       "      <td>152.762449</td>\n",
       "      <td>0.027244</td>\n",
       "      <td>0.996138</td>\n",
       "      <td>42.000660</td>\n",
       "      <td>14.352010</td>\n",
       "    </tr>\n",
       "    <tr>\n",
       "      <th>4</th>\n",
       "      <td>4</td>\n",
       "      <td>1183.97300</td>\n",
       "      <td>114.7634</td>\n",
       "      <td>6.354364</td>\n",
       "      <td>11.96748</td>\n",
       "      <td>0.949577</td>\n",
       "      <td>0.215594</td>\n",
       "      <td>0.567381</td>\n",
       "      <td>67.10426</td>\n",
       "      <td>0.380921</td>\n",
       "      <td>...</td>\n",
       "      <td>42.80731</td>\n",
       "      <td>2.849865</td>\n",
       "      <td>11.538900</td>\n",
       "      <td>0.0</td>\n",
       "      <td>-999.0</td>\n",
       "      <td>161.210720</td>\n",
       "      <td>0.000000</td>\n",
       "      <td>1.353241</td>\n",
       "      <td>1.845117</td>\n",
       "      <td>9.432349</td>\n",
       "    </tr>\n",
       "  </tbody>\n",
       "</table>\n",
       "<p>5 rows × 62 columns</p>\n",
       "</div>"
      ],
      "text/plain": [
       "   Unnamed: 0  DRAIN_SQKM  PPTAVG_BASIN  T_AVG_BASIN  T_MAX_BASIN  \\\n",
       "0           0    78.68936      127.5406     8.063560     13.88701   \n",
       "1           1    57.11760      119.5265     9.303685     15.14444   \n",
       "2           2     2.08080      119.5615     9.400000     15.11700   \n",
       "3           3   493.16220      137.2501     5.894132     11.93295   \n",
       "4           4  1183.97300      114.7634     6.354364     11.96748   \n",
       "\n",
       "   T_MAXSTD_BASIN  T_MIN_BASIN  T_MINSTD_BASIN  RH_BASIN  STREAMS_KM_SQ_KM  \\\n",
       "0        0.522248     2.277803        0.249605  66.30219          1.018440   \n",
       "1        0.084197     3.726328        0.148465  69.82677          0.675294   \n",
       "2        0.056098     4.004286        0.047523  70.00000          1.044123   \n",
       "3        1.371181     0.932440        0.999126  68.68895          0.316812   \n",
       "4        0.949577     0.215594        0.567381  67.10426          0.380921   \n",
       "\n",
       "   ...    CONTACT  CANALS_PCT  RAW_AVG_DIS_ALLCANALS  NPDES_MAJ_DENS  \\\n",
       "0  ...   57.28217    0.000000            -999.000000             0.0   \n",
       "1  ...  185.99640    3.068812               3.711502             0.0   \n",
       "2  ...   90.00000    0.000000            -999.000000             0.0   \n",
       "3  ...   32.74243    6.214682              18.087680             0.0   \n",
       "4  ...   42.80731    2.849865              11.538900             0.0   \n",
       "\n",
       "   RAW_AVG_DIS_ALL_MAJ_NPDES  FRESHW_WITHDRAWAL  PCT_IRRIG_AG  ROADS_KM_SQ_KM  \\\n",
       "0                     -999.0         121.120320      0.000000        1.675743   \n",
       "1                     -999.0          54.125643      0.000000        3.821900   \n",
       "2                     -999.0          54.125643      0.000000        4.254696   \n",
       "3                     -999.0         152.762449      0.027244        0.996138   \n",
       "4                     -999.0         161.210720      0.000000        1.353241   \n",
       "\n",
       "   PADCAT1_PCT_BASIN  PADCAT2_PCT_BASIN  \n",
       "0           0.293980           0.172727  \n",
       "1           1.301525           2.492752  \n",
       "2           0.302768           0.000000  \n",
       "3          42.000660          14.352010  \n",
       "4           1.845117           9.432349  \n",
       "\n",
       "[5 rows x 62 columns]"
      ]
     },
     "execution_count": 24,
     "metadata": {},
     "output_type": "execute_result"
    }
   ],
   "source": [
    "train_data = pd.read_feather(\"attr_temp99%_days_99sites.feather\")\n",
    "train_data.head()"
   ]
  },
  {
   "cell_type": "markdown",
   "metadata": {},
   "source": [
    "另外还有一类数据文件格式也是常用的 -- json文件，在pandas中，读取json文件，可以使用 read_json() "
   ]
  },
  {
   "cell_type": "code",
   "execution_count": 25,
   "metadata": {},
   "outputs": [
    {
     "data": {
      "text/html": [
       "<div>\n",
       "<style scoped>\n",
       "    .dataframe tbody tr th:only-of-type {\n",
       "        vertical-align: middle;\n",
       "    }\n",
       "\n",
       "    .dataframe tbody tr th {\n",
       "        vertical-align: top;\n",
       "    }\n",
       "\n",
       "    .dataframe thead th {\n",
       "        text-align: right;\n",
       "    }\n",
       "</style>\n",
       "<table border=\"1\" class=\"dataframe\">\n",
       "  <thead>\n",
       "    <tr style=\"text-align: right;\">\n",
       "      <th></th>\n",
       "      <th>ttery</th>\n",
       "      <th>issue</th>\n",
       "      <th>code</th>\n",
       "      <th>code1</th>\n",
       "      <th>code2</th>\n",
       "      <th>time</th>\n",
       "    </tr>\n",
       "  </thead>\n",
       "  <tbody>\n",
       "    <tr>\n",
       "      <th>0</th>\n",
       "      <td>min</td>\n",
       "      <td>20130801-3391</td>\n",
       "      <td>8,4,5,2,9</td>\n",
       "      <td>297734529</td>\n",
       "      <td>NaN</td>\n",
       "      <td>1013395466000</td>\n",
       "    </tr>\n",
       "    <tr>\n",
       "      <th>1</th>\n",
       "      <td>min</td>\n",
       "      <td>20130801-3390</td>\n",
       "      <td>7,8,2,1,2</td>\n",
       "      <td>298058212</td>\n",
       "      <td>NaN</td>\n",
       "      <td>1013395406000</td>\n",
       "    </tr>\n",
       "    <tr>\n",
       "      <th>2</th>\n",
       "      <td>min</td>\n",
       "      <td>20130801-3389</td>\n",
       "      <td>5,9,1,2,9</td>\n",
       "      <td>298329129</td>\n",
       "      <td>NaN</td>\n",
       "      <td>1013395346000</td>\n",
       "    </tr>\n",
       "    <tr>\n",
       "      <th>3</th>\n",
       "      <td>min</td>\n",
       "      <td>20130801-3388</td>\n",
       "      <td>3,8,7,3,3</td>\n",
       "      <td>298588733</td>\n",
       "      <td>NaN</td>\n",
       "      <td>1013395286000</td>\n",
       "    </tr>\n",
       "    <tr>\n",
       "      <th>4</th>\n",
       "      <td>min</td>\n",
       "      <td>20130801-3387</td>\n",
       "      <td>0,8,5,2,7</td>\n",
       "      <td>298818527</td>\n",
       "      <td>NaN</td>\n",
       "      <td>1013395226000</td>\n",
       "    </tr>\n",
       "  </tbody>\n",
       "</table>\n",
       "</div>"
      ],
      "text/plain": [
       "  ttery          issue       code      code1  code2           time\n",
       "0   min  20130801-3391  8,4,5,2,9  297734529    NaN  1013395466000\n",
       "1   min  20130801-3390  7,8,2,1,2  298058212    NaN  1013395406000\n",
       "2   min  20130801-3389  5,9,1,2,9  298329129    NaN  1013395346000\n",
       "3   min  20130801-3388  3,8,7,3,3  298588733    NaN  1013395286000\n",
       "4   min  20130801-3387  0,8,5,2,7  298818527    NaN  1013395226000"
      ]
     },
     "execution_count": 25,
     "metadata": {},
     "output_type": "execute_result"
    }
   ],
   "source": [
    "import pandas as pd\n",
    "\n",
    "strtext='[{\"ttery\":\"min\",\"issue\":\"20130801-3391\",\"code\":\"8,4,5,2,9\",\"code1\":\"297734529\",\"code2\":null,\"time\":1013395466000},\\\n",
    "{\"ttery\":\"min\",\"issue\":\"20130801-3390\",\"code\":\"7,8,2,1,2\",\"code1\":\"298058212\",\"code2\":null,\"time\":1013395406000},\\\n",
    "{\"ttery\":\"min\",\"issue\":\"20130801-3389\",\"code\":\"5,9,1,2,9\",\"code1\":\"298329129\",\"code2\":null,\"time\":1013395346000},\\\n",
    "{\"ttery\":\"min\",\"issue\":\"20130801-3388\",\"code\":\"3,8,7,3,3\",\"code1\":\"298588733\",\"code2\":null,\"time\":1013395286000},\\\n",
    "{\"ttery\":\"min\",\"issue\":\"20130801-3387\",\"code\":\"0,8,5,2,7\",\"code1\":\"298818527\",\"code2\":null,\"time\":1013395226000}]'\n",
    "\n",
    "text_data = pd.read_json(strtext)\n",
    "text_data"
   ]
  },
  {
   "cell_type": "code",
   "execution_count": 26,
   "metadata": {},
   "outputs": [
    {
     "name": "stdout",
     "output_type": "stream",
     "text": [
      "<class 'numpy.int64'>\n"
     ]
    },
    {
     "data": {
      "text/plain": [
       "1011000      H\n",
       "1013500      F\n",
       "1015800      C\n",
       "1017000      C\n",
       "1019000      H\n",
       "1139000      R\n",
       "1144000    HRS\n",
       "dtype: object"
      ]
     },
     "execution_count": 26,
     "metadata": {},
     "output_type": "execute_result"
    }
   ],
   "source": [
    "json_file = \"test.json\"\n",
    "# 当json文件中仅仅是够dict的一组key-valuie时，要使用type='series'来保证读取正确\n",
    "text_json = pd.read_json(json_file, typ='series')\n",
    "print(type(text_json.index[0]))\n",
    "text_json"
   ]
  },
  {
   "cell_type": "markdown",
   "metadata": {},
   "source": [
    "但是这里发现index类型自动默认为int了，根据 [How to read index data as string with pandas.read_csv()?](https://stackoverflow.com/questions/35058435/how-to-read-index-data-as-string-with-pandas-read-csv) 的介绍（虽然是针对read_csv的，不过应该是一样的），这是pandas里面的一个小bug，没法直接一行代码指定index的数据类型， 如果采用先读取后转换的方式，那么最前面的0 是变不回来的："
   ]
  },
  {
   "cell_type": "code",
   "execution_count": 27,
   "metadata": {},
   "outputs": [
    {
     "name": "stdout",
     "output_type": "stream",
     "text": [
      "<class 'str'>\n"
     ]
    },
    {
     "data": {
      "text/plain": [
       "1011000      H\n",
       "1013500      F\n",
       "1015800      C\n",
       "1017000      C\n",
       "1019000      H\n",
       "1139000      R\n",
       "1144000    HRS\n",
       "dtype: object"
      ]
     },
     "execution_count": 27,
     "metadata": {},
     "output_type": "execute_result"
    }
   ],
   "source": [
    "text_json.index = text_json.index.map(str)\n",
    "print(type(text_json.index[0]))\n",
    "text_json"
   ]
  },
  {
   "cell_type": "markdown",
   "metadata": {},
   "source": [
    "可以采用这种方式：先读到dict里面，然后再变成series，或者dataframe，这时候index就是str了"
   ]
  },
  {
   "cell_type": "code",
   "execution_count": 28,
   "metadata": {},
   "outputs": [
    {
     "data": {
      "text/plain": [
       "01011000      H\n",
       "01013500      F\n",
       "01015800      C\n",
       "01017000      C\n",
       "01019000      H\n",
       "01139000      R\n",
       "01144000    HRS\n",
       "dtype: object"
      ]
     },
     "execution_count": 28,
     "metadata": {},
     "output_type": "execute_result"
    }
   ],
   "source": [
    "import json\n",
    "with open(json_file, 'r') as fp:\n",
    "    my_object = json.load(fp)\n",
    "all_sites_purposes = pd.Series(my_object)\n",
    "all_sites_purposes"
   ]
  },
  {
   "cell_type": "markdown",
   "metadata": {},
   "source": [
    "读取数据或者后面对数据进行操作时，有时会想要进行数据类型转换。可以参考[Pandas数据类型转换的几个小技巧](https://zhuanlan.zhihu.com/p/35287822)\n",
    "\n",
    "Pandas中进行数据类型转换有三种基本方法：\n",
    "\n",
    "- 使用astype()函数进行强制类型转换，比如：dataset['col3'].astype('float')\n",
    "- 自定义函数进行数据类型转换\n",
    "- 使用Pandas提供的函数如to_numeric()、to_datetime()\n",
    "\n",
    "当待转换列中含有不能转换的特殊值时(例如￥,ErrorValue,14n等)astype()函数将失效。\n",
    "astype()函数有效的情形：\n",
    "\n",
    "- 数据列中的每一个单位都能简单的解释为数字(2, 2.12等）\n",
    "- 数据列中的每一个单位都是数值类型且向字符串object类型转换\n",
    "\n",
    "Pandas的astype()函数和复杂的自定函数之间有一个中间段，那就是Pandas的一些辅助函数。这些辅助函数对于某些特定数据类型的转换非常有用(如to_numeric()、to_datetime())。"
   ]
  },
  {
   "cell_type": "markdown",
   "metadata": {},
   "source": [
    "如果想要配置一些项目，比如忽略某些行，选择分隔符等，需要配置对应的参数，比如："
   ]
  },
  {
   "cell_type": "code",
   "execution_count": 29,
   "metadata": {},
   "outputs": [
    {
     "data": {
      "text/html": [
       "<div>\n",
       "<style scoped>\n",
       "    .dataframe tbody tr th:only-of-type {\n",
       "        vertical-align: middle;\n",
       "    }\n",
       "\n",
       "    .dataframe tbody tr th {\n",
       "        vertical-align: top;\n",
       "    }\n",
       "\n",
       "    .dataframe thead th {\n",
       "        text-align: right;\n",
       "    }\n",
       "</style>\n",
       "<table border=\"1\" class=\"dataframe\">\n",
       "  <thead>\n",
       "    <tr style=\"text-align: right;\">\n",
       "      <th></th>\n",
       "      <th>2</th>\n",
       "      <th>3</th>\n",
       "      <th>4</th>\n",
       "      <th>5</th>\n",
       "      <th>6</th>\n",
       "      <th>7</th>\n",
       "      <th>8</th>\n",
       "      <th>9</th>\n",
       "      <th>10</th>\n",
       "      <th>11</th>\n",
       "      <th>12</th>\n",
       "      <th>13</th>\n",
       "    </tr>\n",
       "    <tr>\n",
       "      <th>0</th>\n",
       "      <th></th>\n",
       "      <th></th>\n",
       "      <th></th>\n",
       "      <th></th>\n",
       "      <th></th>\n",
       "      <th></th>\n",
       "      <th></th>\n",
       "      <th></th>\n",
       "      <th></th>\n",
       "      <th></th>\n",
       "      <th></th>\n",
       "      <th></th>\n",
       "    </tr>\n",
       "  </thead>\n",
       "  <tbody>\n",
       "    <tr>\n",
       "      <th>11120301</th>\n",
       "      <td>10.16</td>\n",
       "      <td>12.86</td>\n",
       "      <td>17.22</td>\n",
       "      <td>22.94</td>\n",
       "      <td>26.93</td>\n",
       "      <td>31.40</td>\n",
       "      <td>33.96</td>\n",
       "      <td>33.25</td>\n",
       "      <td>29.21</td>\n",
       "      <td>23.72</td>\n",
       "      <td>16.25</td>\n",
       "      <td>11.29</td>\n",
       "    </tr>\n",
       "    <tr>\n",
       "      <th>11120201</th>\n",
       "      <td>10.81</td>\n",
       "      <td>13.36</td>\n",
       "      <td>17.56</td>\n",
       "      <td>23.17</td>\n",
       "      <td>27.43</td>\n",
       "      <td>31.99</td>\n",
       "      <td>34.69</td>\n",
       "      <td>33.88</td>\n",
       "      <td>29.57</td>\n",
       "      <td>24.10</td>\n",
       "      <td>16.70</td>\n",
       "      <td>11.94</td>\n",
       "    </tr>\n",
       "    <tr>\n",
       "      <th>11120202</th>\n",
       "      <td>11.45</td>\n",
       "      <td>14.05</td>\n",
       "      <td>18.72</td>\n",
       "      <td>24.46</td>\n",
       "      <td>28.38</td>\n",
       "      <td>33.16</td>\n",
       "      <td>35.67</td>\n",
       "      <td>34.95</td>\n",
       "      <td>30.52</td>\n",
       "      <td>24.98</td>\n",
       "      <td>17.54</td>\n",
       "      <td>12.55</td>\n",
       "    </tr>\n",
       "    <tr>\n",
       "      <th>11130101</th>\n",
       "      <td>11.98</td>\n",
       "      <td>15.09</td>\n",
       "      <td>19.92</td>\n",
       "      <td>25.50</td>\n",
       "      <td>29.61</td>\n",
       "      <td>34.41</td>\n",
       "      <td>36.71</td>\n",
       "      <td>36.09</td>\n",
       "      <td>31.48</td>\n",
       "      <td>25.68</td>\n",
       "      <td>17.96</td>\n",
       "      <td>12.94</td>\n",
       "    </tr>\n",
       "    <tr>\n",
       "      <th>11120202</th>\n",
       "      <td>11.71</td>\n",
       "      <td>14.86</td>\n",
       "      <td>19.64</td>\n",
       "      <td>25.13</td>\n",
       "      <td>29.30</td>\n",
       "      <td>33.94</td>\n",
       "      <td>36.44</td>\n",
       "      <td>35.72</td>\n",
       "      <td>31.22</td>\n",
       "      <td>25.76</td>\n",
       "      <td>17.99</td>\n",
       "      <td>12.75</td>\n",
       "    </tr>\n",
       "    <tr>\n",
       "      <th>11120304</th>\n",
       "      <td>11.42</td>\n",
       "      <td>14.72</td>\n",
       "      <td>19.58</td>\n",
       "      <td>25.16</td>\n",
       "      <td>29.22</td>\n",
       "      <td>33.86</td>\n",
       "      <td>36.47</td>\n",
       "      <td>35.81</td>\n",
       "      <td>31.33</td>\n",
       "      <td>25.67</td>\n",
       "      <td>17.71</td>\n",
       "      <td>12.45</td>\n",
       "    </tr>\n",
       "    <tr>\n",
       "      <th>11120302</th>\n",
       "      <td>10.69</td>\n",
       "      <td>13.60</td>\n",
       "      <td>18.00</td>\n",
       "      <td>23.64</td>\n",
       "      <td>27.69</td>\n",
       "      <td>32.47</td>\n",
       "      <td>35.23</td>\n",
       "      <td>34.59</td>\n",
       "      <td>30.27</td>\n",
       "      <td>24.51</td>\n",
       "      <td>16.85</td>\n",
       "      <td>11.71</td>\n",
       "    </tr>\n",
       "    <tr>\n",
       "      <th>11120303</th>\n",
       "      <td>11.34</td>\n",
       "      <td>14.53</td>\n",
       "      <td>19.22</td>\n",
       "      <td>24.64</td>\n",
       "      <td>28.91</td>\n",
       "      <td>33.78</td>\n",
       "      <td>36.19</td>\n",
       "      <td>35.37</td>\n",
       "      <td>30.91</td>\n",
       "      <td>25.35</td>\n",
       "      <td>17.68</td>\n",
       "      <td>12.64</td>\n",
       "    </tr>\n",
       "  </tbody>\n",
       "</table>\n",
       "</div>"
      ],
      "text/plain": [
       "             2      3      4      5      6      7      8      9      10  \\\n",
       "0                                                                         \n",
       "11120301  10.16  12.86  17.22  22.94  26.93  31.40  33.96  33.25  29.21   \n",
       "11120201  10.81  13.36  17.56  23.17  27.43  31.99  34.69  33.88  29.57   \n",
       "11120202  11.45  14.05  18.72  24.46  28.38  33.16  35.67  34.95  30.52   \n",
       "11130101  11.98  15.09  19.92  25.50  29.61  34.41  36.71  36.09  31.48   \n",
       "11120202  11.71  14.86  19.64  25.13  29.30  33.94  36.44  35.72  31.22   \n",
       "11120304  11.42  14.72  19.58  25.16  29.22  33.86  36.47  35.81  31.33   \n",
       "11120302  10.69  13.60  18.00  23.64  27.69  32.47  35.23  34.59  30.27   \n",
       "11120303  11.34  14.53  19.22  24.64  28.91  33.78  36.19  35.37  30.91   \n",
       "\n",
       "             11     12     13  \n",
       "0                              \n",
       "11120301  23.72  16.25  11.29  \n",
       "11120201  24.10  16.70  11.94  \n",
       "11120202  24.98  17.54  12.55  \n",
       "11130101  25.68  17.96  12.94  \n",
       "11120202  25.76  17.99  12.75  \n",
       "11120304  25.67  17.71  12.45  \n",
       "11120302  24.51  16.85  11.71  \n",
       "11120303  25.35  17.68  12.64  "
      ]
     },
     "execution_count": 29,
     "metadata": {},
     "output_type": "execute_result"
    }
   ],
   "source": [
    "import os\n",
    "import pandas as pd\n",
    "fn = \"TMaxMon.csv\"\n",
    "df = pd.read_csv(fn, engine='python', index_col=0, header=None,\n",
    "                         skiprows=2, sep=',')\n",
    "df.drop(list(df.columns)[0], axis=1, inplace=True)\n",
    "df"
   ]
  },
  {
   "cell_type": "markdown",
   "metadata": {},
   "source": [
    "注意，pandas的Dataframe是没有原子性的，即行之间是可以完全相同的，所以这方面要注意，下面写入dict之后就会少一行"
   ]
  },
  {
   "cell_type": "code",
   "execution_count": 30,
   "metadata": {},
   "outputs": [
    {
     "name": "stdout",
     "output_type": "stream",
     "text": [
      "11120301\n",
      "11120201\n",
      "11120202\n",
      "11130101\n",
      "11120202\n",
      "11120304\n",
      "11120302\n",
      "11120303\n",
      "dict_keys([11120301, 11120201, 11120202, 11130101, 11120304, 11120302, 11120303])\n"
     ]
    }
   ],
   "source": [
    "d = {}\n",
    "for node_id, row in df.iterrows():\n",
    "    print(node_id)\n",
    "    d[node_id] = row.values.tolist()\n",
    "print(d.keys())"
   ]
  },
  {
   "cell_type": "markdown",
   "metadata": {},
   "source": [
    "除了读取数据，就是写入文件了，写文件最常用的就是to_csv函数。"
   ]
  },
  {
   "cell_type": "code",
   "execution_count": 31,
   "metadata": {},
   "outputs": [],
   "source": [
    "import pandas as pd\n",
    "import numpy as np\n",
    "df = pd.DataFrame({\n",
    "    'col1': ['A', 'A', 'B', np.nan, 'D', 'C'],\n",
    "    'col2': [2, 1, 9, 8, 7, 4],\n",
    "    'col3': [0, 1, 9, 4, 2, 3],\n",
    "})\n",
    "file_name = \"test.csv\"\n",
    "df.to_csv(file_name)"
   ]
  },
  {
   "cell_type": "markdown",
   "metadata": {},
   "source": [
    "如果写入的时候不要带index，则设置index为False即可："
   ]
  },
  {
   "cell_type": "code",
   "execution_count": 32,
   "metadata": {},
   "outputs": [],
   "source": [
    "df.to_csv(file_name,index=False)"
   ]
  },
  {
   "cell_type": "markdown",
   "metadata": {},
   "source": [
    "## 日期时间处理\n",
    "\n",
    "和python基础，numpy一样，pandas也有自己的日期处理包，日期总是比较麻烦的。"
   ]
  },
  {
   "cell_type": "code",
   "execution_count": 33,
   "metadata": {},
   "outputs": [
    {
     "data": {
      "text/plain": [
       "[[2000, 1, 31, 0],\n",
       " [2000, 2, 29, 0],\n",
       " [2000, 3, 31, 0],\n",
       " [2000, 4, 30, 0],\n",
       " [2000, 5, 31, 0],\n",
       " [2000, 6, 30, 0],\n",
       " [2000, 7, 31, 0],\n",
       " [2000, 8, 31, 0],\n",
       " [2000, 9, 30, 0],\n",
       " [2000, 10, 31, 0]]"
      ]
     },
     "execution_count": 33,
     "metadata": {},
     "output_type": "execute_result"
    }
   ],
   "source": [
    "import pandas as pd\n",
    "# 日期／字符串转换\n",
    "strtime=['2000-01-31', '2000-02-29', '2000-03-31', '2000-04-30',\n",
    "               '2000-05-31', '2000-06-30', '2000-07-31', '2000-08-31',\n",
    "               '2000-09-30', '2000-10-31']\n",
    "time=pd.to_datetime(strtime)\n",
    "[[dt.year, dt.month, dt.day, dt.hour] for dt in time]"
   ]
  },
  {
   "cell_type": "code",
   "execution_count": 34,
   "metadata": {},
   "outputs": [
    {
     "data": {
      "text/html": [
       "<div>\n",
       "<style scoped>\n",
       "    .dataframe tbody tr th:only-of-type {\n",
       "        vertical-align: middle;\n",
       "    }\n",
       "\n",
       "    .dataframe tbody tr th {\n",
       "        vertical-align: top;\n",
       "    }\n",
       "\n",
       "    .dataframe thead th {\n",
       "        text-align: right;\n",
       "    }\n",
       "</style>\n",
       "<table border=\"1\" class=\"dataframe\">\n",
       "  <thead>\n",
       "    <tr style=\"text-align: right;\">\n",
       "      <th></th>\n",
       "      <th>Year</th>\n",
       "      <th>Mnth</th>\n",
       "      <th>Day</th>\n",
       "      <th>Hr</th>\n",
       "    </tr>\n",
       "  </thead>\n",
       "  <tbody>\n",
       "    <tr>\n",
       "      <th>0</th>\n",
       "      <td>2000</td>\n",
       "      <td>1</td>\n",
       "      <td>31</td>\n",
       "      <td>0</td>\n",
       "    </tr>\n",
       "    <tr>\n",
       "      <th>1</th>\n",
       "      <td>2000</td>\n",
       "      <td>2</td>\n",
       "      <td>29</td>\n",
       "      <td>0</td>\n",
       "    </tr>\n",
       "    <tr>\n",
       "      <th>2</th>\n",
       "      <td>2000</td>\n",
       "      <td>3</td>\n",
       "      <td>31</td>\n",
       "      <td>0</td>\n",
       "    </tr>\n",
       "    <tr>\n",
       "      <th>3</th>\n",
       "      <td>2000</td>\n",
       "      <td>4</td>\n",
       "      <td>30</td>\n",
       "      <td>0</td>\n",
       "    </tr>\n",
       "    <tr>\n",
       "      <th>4</th>\n",
       "      <td>2000</td>\n",
       "      <td>5</td>\n",
       "      <td>31</td>\n",
       "      <td>0</td>\n",
       "    </tr>\n",
       "  </tbody>\n",
       "</table>\n",
       "</div>"
      ],
      "text/plain": [
       "   Year  Mnth  Day  Hr\n",
       "0  2000     1   31   0\n",
       "1  2000     2   29   0\n",
       "2  2000     3   31   0\n",
       "3  2000     4   30   0\n",
       "4  2000     5   31   0"
      ]
     },
     "execution_count": 34,
     "metadata": {},
     "output_type": "execute_result"
    }
   ],
   "source": [
    "my_time = pd.DataFrame([[dt.year, dt.month, dt.day, dt.hour] for dt in time], columns=['Year', 'Mnth', 'Day', 'Hr'])\n",
    "my_time.head()"
   ]
  },
  {
   "cell_type": "markdown",
   "metadata": {},
   "source": [
    "下面看看将数字转为日期。\n",
    "\n",
    "例子的数据中前面三列是年月日，最后一列是数据："
   ]
  },
  {
   "cell_type": "code",
   "execution_count": 40,
   "metadata": {},
   "outputs": [
    {
     "data": {
      "text/html": [
       "<div>\n",
       "<style scoped>\n",
       "    .dataframe tbody tr th:only-of-type {\n",
       "        vertical-align: middle;\n",
       "    }\n",
       "\n",
       "    .dataframe tbody tr th {\n",
       "        vertical-align: top;\n",
       "    }\n",
       "\n",
       "    .dataframe thead th {\n",
       "        text-align: right;\n",
       "    }\n",
       "</style>\n",
       "<table border=\"1\" class=\"dataframe\">\n",
       "  <thead>\n",
       "    <tr style=\"text-align: right;\">\n",
       "      <th></th>\n",
       "      <th>0</th>\n",
       "      <th>1</th>\n",
       "      <th>2</th>\n",
       "      <th>3</th>\n",
       "    </tr>\n",
       "  </thead>\n",
       "  <tbody>\n",
       "    <tr>\n",
       "      <th>0</th>\n",
       "      <td>1952</td>\n",
       "      <td>1</td>\n",
       "      <td>1</td>\n",
       "      <td>3950</td>\n",
       "    </tr>\n",
       "    <tr>\n",
       "      <th>1</th>\n",
       "      <td>1952</td>\n",
       "      <td>1</td>\n",
       "      <td>2</td>\n",
       "      <td>3920</td>\n",
       "    </tr>\n",
       "    <tr>\n",
       "      <th>2</th>\n",
       "      <td>1952</td>\n",
       "      <td>1</td>\n",
       "      <td>3</td>\n",
       "      <td>3960</td>\n",
       "    </tr>\n",
       "    <tr>\n",
       "      <th>3</th>\n",
       "      <td>1952</td>\n",
       "      <td>1</td>\n",
       "      <td>4</td>\n",
       "      <td>3970</td>\n",
       "    </tr>\n",
       "  </tbody>\n",
       "</table>\n",
       "</div>"
      ],
      "text/plain": [
       "      0  1  2     3\n",
       "0  1952  1  1  3950\n",
       "1  1952  1  2  3920\n",
       "2  1952  1  3  3960\n",
       "3  1952  1  4  3970"
      ]
     },
     "execution_count": 40,
     "metadata": {},
     "output_type": "execute_result"
    }
   ],
   "source": [
    "# 数字，日期转换\n",
    "import pandas as pd\n",
    "data_temp = pd.DataFrame([[1952,1,1,3950],\n",
    "[1952,1,2,3920],\n",
    "[1952,1,3,3960],\n",
    "[1952,1,4,3970]])\n",
    "data_temp"
   ]
  },
  {
   "cell_type": "code",
   "execution_count": 7,
   "metadata": {},
   "outputs": [
    {
     "name": "stdout",
     "output_type": "stream",
     "text": [
      "      0  1  2\n",
      "0  1952  1  1\n",
      "1  1952  1  2\n",
      "2  1952  1  3\n",
      "3  1952  1  4\n"
     ]
    },
    {
     "data": {
      "text/plain": [
       "array(['1952-01-01', '1952-01-02', '1952-01-03', '1952-01-04'],\n",
       "      dtype='datetime64[D]')"
      ]
     },
     "execution_count": 7,
     "metadata": {},
     "output_type": "execute_result"
    }
   ],
   "source": [
    "df_date = data_temp[[0, 1, 2]]\n",
    "print(df_date)\n",
    "df_date.columns = ['year', 'month', 'day']\n",
    "date = pd.to_datetime(df_date).values.astype('datetime64[D]')\n",
    "date"
   ]
  },
  {
   "cell_type": "markdown",
   "metadata": {},
   "source": [
    "## 排序\n",
    "\n",
    "对DataFrame中的数据进行排序也是常用的操作之一。比如："
   ]
  },
  {
   "cell_type": "code",
   "execution_count": 41,
   "metadata": {},
   "outputs": [
    {
     "data": {
      "text/html": [
       "<div>\n",
       "<style scoped>\n",
       "    .dataframe tbody tr th:only-of-type {\n",
       "        vertical-align: middle;\n",
       "    }\n",
       "\n",
       "    .dataframe tbody tr th {\n",
       "        vertical-align: top;\n",
       "    }\n",
       "\n",
       "    .dataframe thead th {\n",
       "        text-align: right;\n",
       "    }\n",
       "</style>\n",
       "<table border=\"1\" class=\"dataframe\">\n",
       "  <thead>\n",
       "    <tr style=\"text-align: right;\">\n",
       "      <th></th>\n",
       "      <th>col1</th>\n",
       "      <th>col2</th>\n",
       "      <th>col3</th>\n",
       "    </tr>\n",
       "  </thead>\n",
       "  <tbody>\n",
       "    <tr>\n",
       "      <th>0</th>\n",
       "      <td>A</td>\n",
       "      <td>2</td>\n",
       "      <td>0</td>\n",
       "    </tr>\n",
       "    <tr>\n",
       "      <th>1</th>\n",
       "      <td>A</td>\n",
       "      <td>1</td>\n",
       "      <td>1</td>\n",
       "    </tr>\n",
       "    <tr>\n",
       "      <th>2</th>\n",
       "      <td>B</td>\n",
       "      <td>9</td>\n",
       "      <td>9</td>\n",
       "    </tr>\n",
       "    <tr>\n",
       "      <th>3</th>\n",
       "      <td>NaN</td>\n",
       "      <td>8</td>\n",
       "      <td>4</td>\n",
       "    </tr>\n",
       "    <tr>\n",
       "      <th>4</th>\n",
       "      <td>D</td>\n",
       "      <td>7</td>\n",
       "      <td>2</td>\n",
       "    </tr>\n",
       "    <tr>\n",
       "      <th>5</th>\n",
       "      <td>C</td>\n",
       "      <td>4</td>\n",
       "      <td>3</td>\n",
       "    </tr>\n",
       "  </tbody>\n",
       "</table>\n",
       "</div>"
      ],
      "text/plain": [
       "  col1  col2  col3\n",
       "0    A     2     0\n",
       "1    A     1     1\n",
       "2    B     9     9\n",
       "3  NaN     8     4\n",
       "4    D     7     2\n",
       "5    C     4     3"
      ]
     },
     "execution_count": 41,
     "metadata": {},
     "output_type": "execute_result"
    }
   ],
   "source": [
    "import pandas as pd\n",
    "import numpy as np\n",
    "df = pd.DataFrame({\n",
    "    'col1': ['A', 'A', 'B', np.nan, 'D', 'C'],\n",
    "    'col2': [2, 1, 9, 8, 7, 4],\n",
    "    'col3': [0, 1, 9, 4, 2, 3],\n",
    "})\n",
    "df"
   ]
  },
  {
   "cell_type": "markdown",
   "metadata": {},
   "source": [
    "Sort by col1"
   ]
  },
  {
   "cell_type": "code",
   "execution_count": 42,
   "metadata": {},
   "outputs": [
    {
     "data": {
      "text/html": [
       "<div>\n",
       "<style scoped>\n",
       "    .dataframe tbody tr th:only-of-type {\n",
       "        vertical-align: middle;\n",
       "    }\n",
       "\n",
       "    .dataframe tbody tr th {\n",
       "        vertical-align: top;\n",
       "    }\n",
       "\n",
       "    .dataframe thead th {\n",
       "        text-align: right;\n",
       "    }\n",
       "</style>\n",
       "<table border=\"1\" class=\"dataframe\">\n",
       "  <thead>\n",
       "    <tr style=\"text-align: right;\">\n",
       "      <th></th>\n",
       "      <th>col1</th>\n",
       "      <th>col2</th>\n",
       "      <th>col3</th>\n",
       "    </tr>\n",
       "  </thead>\n",
       "  <tbody>\n",
       "    <tr>\n",
       "      <th>0</th>\n",
       "      <td>A</td>\n",
       "      <td>2</td>\n",
       "      <td>0</td>\n",
       "    </tr>\n",
       "    <tr>\n",
       "      <th>1</th>\n",
       "      <td>A</td>\n",
       "      <td>1</td>\n",
       "      <td>1</td>\n",
       "    </tr>\n",
       "    <tr>\n",
       "      <th>2</th>\n",
       "      <td>B</td>\n",
       "      <td>9</td>\n",
       "      <td>9</td>\n",
       "    </tr>\n",
       "    <tr>\n",
       "      <th>5</th>\n",
       "      <td>C</td>\n",
       "      <td>4</td>\n",
       "      <td>3</td>\n",
       "    </tr>\n",
       "    <tr>\n",
       "      <th>4</th>\n",
       "      <td>D</td>\n",
       "      <td>7</td>\n",
       "      <td>2</td>\n",
       "    </tr>\n",
       "    <tr>\n",
       "      <th>3</th>\n",
       "      <td>NaN</td>\n",
       "      <td>8</td>\n",
       "      <td>4</td>\n",
       "    </tr>\n",
       "  </tbody>\n",
       "</table>\n",
       "</div>"
      ],
      "text/plain": [
       "  col1  col2  col3\n",
       "0    A     2     0\n",
       "1    A     1     1\n",
       "2    B     9     9\n",
       "5    C     4     3\n",
       "4    D     7     2\n",
       "3  NaN     8     4"
      ]
     },
     "execution_count": 42,
     "metadata": {},
     "output_type": "execute_result"
    }
   ],
   "source": [
    "df.sort_values(by=['col1'])"
   ]
  },
  {
   "cell_type": "markdown",
   "metadata": {},
   "source": [
    "Sort by multiple columns"
   ]
  },
  {
   "cell_type": "code",
   "execution_count": 43,
   "metadata": {},
   "outputs": [
    {
     "data": {
      "text/html": [
       "<div>\n",
       "<style scoped>\n",
       "    .dataframe tbody tr th:only-of-type {\n",
       "        vertical-align: middle;\n",
       "    }\n",
       "\n",
       "    .dataframe tbody tr th {\n",
       "        vertical-align: top;\n",
       "    }\n",
       "\n",
       "    .dataframe thead th {\n",
       "        text-align: right;\n",
       "    }\n",
       "</style>\n",
       "<table border=\"1\" class=\"dataframe\">\n",
       "  <thead>\n",
       "    <tr style=\"text-align: right;\">\n",
       "      <th></th>\n",
       "      <th>col1</th>\n",
       "      <th>col2</th>\n",
       "      <th>col3</th>\n",
       "    </tr>\n",
       "  </thead>\n",
       "  <tbody>\n",
       "    <tr>\n",
       "      <th>1</th>\n",
       "      <td>A</td>\n",
       "      <td>1</td>\n",
       "      <td>1</td>\n",
       "    </tr>\n",
       "    <tr>\n",
       "      <th>0</th>\n",
       "      <td>A</td>\n",
       "      <td>2</td>\n",
       "      <td>0</td>\n",
       "    </tr>\n",
       "    <tr>\n",
       "      <th>2</th>\n",
       "      <td>B</td>\n",
       "      <td>9</td>\n",
       "      <td>9</td>\n",
       "    </tr>\n",
       "    <tr>\n",
       "      <th>5</th>\n",
       "      <td>C</td>\n",
       "      <td>4</td>\n",
       "      <td>3</td>\n",
       "    </tr>\n",
       "    <tr>\n",
       "      <th>4</th>\n",
       "      <td>D</td>\n",
       "      <td>7</td>\n",
       "      <td>2</td>\n",
       "    </tr>\n",
       "    <tr>\n",
       "      <th>3</th>\n",
       "      <td>NaN</td>\n",
       "      <td>8</td>\n",
       "      <td>4</td>\n",
       "    </tr>\n",
       "  </tbody>\n",
       "</table>\n",
       "</div>"
      ],
      "text/plain": [
       "  col1  col2  col3\n",
       "1    A     1     1\n",
       "0    A     2     0\n",
       "2    B     9     9\n",
       "5    C     4     3\n",
       "4    D     7     2\n",
       "3  NaN     8     4"
      ]
     },
     "execution_count": 43,
     "metadata": {},
     "output_type": "execute_result"
    }
   ],
   "source": [
    "df.sort_values(by=['col1', 'col2'])"
   ]
  },
  {
   "cell_type": "markdown",
   "metadata": {},
   "source": [
    "排序这个地方需要注意下NaN的顺序是会比较奇怪的，可以看到上面NaN是被当作最大值了，这种数值条件下是一样的。"
   ]
  },
  {
   "cell_type": "code",
   "execution_count": 44,
   "metadata": {},
   "outputs": [
    {
     "data": {
      "text/html": [
       "<div>\n",
       "<style scoped>\n",
       "    .dataframe tbody tr th:only-of-type {\n",
       "        vertical-align: middle;\n",
       "    }\n",
       "\n",
       "    .dataframe tbody tr th {\n",
       "        vertical-align: top;\n",
       "    }\n",
       "\n",
       "    .dataframe thead th {\n",
       "        text-align: right;\n",
       "    }\n",
       "</style>\n",
       "<table border=\"1\" class=\"dataframe\">\n",
       "  <thead>\n",
       "    <tr style=\"text-align: right;\">\n",
       "      <th></th>\n",
       "      <th>col1</th>\n",
       "    </tr>\n",
       "  </thead>\n",
       "  <tbody>\n",
       "    <tr>\n",
       "      <th>0</th>\n",
       "      <td>0.0</td>\n",
       "    </tr>\n",
       "    <tr>\n",
       "      <th>1</th>\n",
       "      <td>2.0</td>\n",
       "    </tr>\n",
       "    <tr>\n",
       "      <th>2</th>\n",
       "      <td>5.0</td>\n",
       "    </tr>\n",
       "    <tr>\n",
       "      <th>3</th>\n",
       "      <td>NaN</td>\n",
       "    </tr>\n",
       "    <tr>\n",
       "      <th>4</th>\n",
       "      <td>7.0</td>\n",
       "    </tr>\n",
       "    <tr>\n",
       "      <th>5</th>\n",
       "      <td>10.0</td>\n",
       "    </tr>\n",
       "  </tbody>\n",
       "</table>\n",
       "</div>"
      ],
      "text/plain": [
       "   col1\n",
       "0   0.0\n",
       "1   2.0\n",
       "2   5.0\n",
       "3   NaN\n",
       "4   7.0\n",
       "5  10.0"
      ]
     },
     "execution_count": 44,
     "metadata": {},
     "output_type": "execute_result"
    }
   ],
   "source": [
    "import pandas as pd\n",
    "import numpy as np\n",
    "df_nan = pd.DataFrame({'col1': [0, 2, 5, np.nan, 7, 10]})\n",
    "df_nan"
   ]
  },
  {
   "cell_type": "code",
   "execution_count": 45,
   "metadata": {},
   "outputs": [
    {
     "data": {
      "text/html": [
       "<div>\n",
       "<style scoped>\n",
       "    .dataframe tbody tr th:only-of-type {\n",
       "        vertical-align: middle;\n",
       "    }\n",
       "\n",
       "    .dataframe tbody tr th {\n",
       "        vertical-align: top;\n",
       "    }\n",
       "\n",
       "    .dataframe thead th {\n",
       "        text-align: right;\n",
       "    }\n",
       "</style>\n",
       "<table border=\"1\" class=\"dataframe\">\n",
       "  <thead>\n",
       "    <tr style=\"text-align: right;\">\n",
       "      <th></th>\n",
       "      <th>col1</th>\n",
       "    </tr>\n",
       "  </thead>\n",
       "  <tbody>\n",
       "    <tr>\n",
       "      <th>0</th>\n",
       "      <td>0.0</td>\n",
       "    </tr>\n",
       "    <tr>\n",
       "      <th>1</th>\n",
       "      <td>2.0</td>\n",
       "    </tr>\n",
       "    <tr>\n",
       "      <th>2</th>\n",
       "      <td>5.0</td>\n",
       "    </tr>\n",
       "    <tr>\n",
       "      <th>4</th>\n",
       "      <td>7.0</td>\n",
       "    </tr>\n",
       "    <tr>\n",
       "      <th>5</th>\n",
       "      <td>10.0</td>\n",
       "    </tr>\n",
       "    <tr>\n",
       "      <th>3</th>\n",
       "      <td>NaN</td>\n",
       "    </tr>\n",
       "  </tbody>\n",
       "</table>\n",
       "</div>"
      ],
      "text/plain": [
       "   col1\n",
       "0   0.0\n",
       "1   2.0\n",
       "2   5.0\n",
       "4   7.0\n",
       "5  10.0\n",
       "3   NaN"
      ]
     },
     "execution_count": 45,
     "metadata": {},
     "output_type": "execute_result"
    }
   ],
   "source": [
    "df_nan.sort_values(by=['col1'])"
   ]
  },
  {
   "cell_type": "markdown",
   "metadata": {},
   "source": [
    "## 增删，拼接等操作\n",
    "\n",
    "比如删除某些全是nan值的列。"
   ]
  },
  {
   "cell_type": "code",
   "execution_count": 46,
   "metadata": {},
   "outputs": [
    {
     "data": {
      "text/html": [
       "<div>\n",
       "<style scoped>\n",
       "    .dataframe tbody tr th:only-of-type {\n",
       "        vertical-align: middle;\n",
       "    }\n",
       "\n",
       "    .dataframe tbody tr th {\n",
       "        vertical-align: top;\n",
       "    }\n",
       "\n",
       "    .dataframe thead th {\n",
       "        text-align: right;\n",
       "    }\n",
       "</style>\n",
       "<table border=\"1\" class=\"dataframe\">\n",
       "  <thead>\n",
       "    <tr style=\"text-align: right;\">\n",
       "      <th></th>\n",
       "      <th>a</th>\n",
       "      <th>b</th>\n",
       "      <th>c</th>\n",
       "    </tr>\n",
       "  </thead>\n",
       "  <tbody>\n",
       "    <tr>\n",
       "      <th>0</th>\n",
       "      <td>0</td>\n",
       "      <td>1.0</td>\n",
       "      <td>NaN</td>\n",
       "    </tr>\n",
       "    <tr>\n",
       "      <th>1</th>\n",
       "      <td>1</td>\n",
       "      <td>NaN</td>\n",
       "      <td>NaN</td>\n",
       "    </tr>\n",
       "    <tr>\n",
       "      <th>2</th>\n",
       "      <td>2</td>\n",
       "      <td>3.0</td>\n",
       "      <td>NaN</td>\n",
       "    </tr>\n",
       "  </tbody>\n",
       "</table>\n",
       "</div>"
      ],
      "text/plain": [
       "   a    b   c\n",
       "0  0  1.0 NaN\n",
       "1  1  NaN NaN\n",
       "2  2  3.0 NaN"
      ]
     },
     "execution_count": 46,
     "metadata": {},
     "output_type": "execute_result"
    }
   ],
   "source": [
    "import pandas as pd\n",
    "import numpy as np\n",
    "df0 = pd.DataFrame({\"a\":np.arange(3),\"b\":[1,np.nan,3],\"c\":[np.nan,np.nan,np.nan]})\n",
    "df0"
   ]
  },
  {
   "cell_type": "markdown",
   "metadata": {},
   "source": [
    "直接删除的话，前面已经提到，直接drop对应列即可。"
   ]
  },
  {
   "cell_type": "code",
   "execution_count": 47,
   "metadata": {},
   "outputs": [
    {
     "data": {
      "text/html": [
       "<div>\n",
       "<style scoped>\n",
       "    .dataframe tbody tr th:only-of-type {\n",
       "        vertical-align: middle;\n",
       "    }\n",
       "\n",
       "    .dataframe tbody tr th {\n",
       "        vertical-align: top;\n",
       "    }\n",
       "\n",
       "    .dataframe thead th {\n",
       "        text-align: right;\n",
       "    }\n",
       "</style>\n",
       "<table border=\"1\" class=\"dataframe\">\n",
       "  <thead>\n",
       "    <tr style=\"text-align: right;\">\n",
       "      <th></th>\n",
       "      <th>a</th>\n",
       "      <th>b</th>\n",
       "    </tr>\n",
       "  </thead>\n",
       "  <tbody>\n",
       "    <tr>\n",
       "      <th>0</th>\n",
       "      <td>0</td>\n",
       "      <td>1.0</td>\n",
       "    </tr>\n",
       "    <tr>\n",
       "      <th>1</th>\n",
       "      <td>1</td>\n",
       "      <td>NaN</td>\n",
       "    </tr>\n",
       "    <tr>\n",
       "      <th>2</th>\n",
       "      <td>2</td>\n",
       "      <td>3.0</td>\n",
       "    </tr>\n",
       "  </tbody>\n",
       "</table>\n",
       "</div>"
      ],
      "text/plain": [
       "   a    b\n",
       "0  0  1.0\n",
       "1  1  NaN\n",
       "2  2  3.0"
      ]
     },
     "execution_count": 47,
     "metadata": {},
     "output_type": "execute_result"
    }
   ],
   "source": [
    "df1 = df0.drop(['c'], axis=1)\n",
    "df1"
   ]
  },
  {
   "cell_type": "markdown",
   "metadata": {},
   "source": [
    "但如果想要批量判断，再删除，可以这样做："
   ]
  },
  {
   "cell_type": "code",
   "execution_count": 48,
   "metadata": {},
   "outputs": [
    {
     "data": {
      "text/plain": [
       "a    False\n",
       "b    False\n",
       "c     True\n",
       "dtype: bool"
      ]
     },
     "execution_count": 48,
     "metadata": {},
     "output_type": "execute_result"
    }
   ],
   "source": [
    "# 判断哪些列全为nan\n",
    "is_all_nan = df0.apply(lambda x: all(pd.isna(x)), axis=0)\n",
    "is_all_nan"
   ]
  },
  {
   "cell_type": "code",
   "execution_count": 49,
   "metadata": {},
   "outputs": [
    {
     "data": {
      "text/html": [
       "<div>\n",
       "<style scoped>\n",
       "    .dataframe tbody tr th:only-of-type {\n",
       "        vertical-align: middle;\n",
       "    }\n",
       "\n",
       "    .dataframe tbody tr th {\n",
       "        vertical-align: top;\n",
       "    }\n",
       "\n",
       "    .dataframe thead th {\n",
       "        text-align: right;\n",
       "    }\n",
       "</style>\n",
       "<table border=\"1\" class=\"dataframe\">\n",
       "  <thead>\n",
       "    <tr style=\"text-align: right;\">\n",
       "      <th></th>\n",
       "      <th>a</th>\n",
       "      <th>b</th>\n",
       "    </tr>\n",
       "  </thead>\n",
       "  <tbody>\n",
       "    <tr>\n",
       "      <th>0</th>\n",
       "      <td>0</td>\n",
       "      <td>1.0</td>\n",
       "    </tr>\n",
       "    <tr>\n",
       "      <th>1</th>\n",
       "      <td>1</td>\n",
       "      <td>NaN</td>\n",
       "    </tr>\n",
       "    <tr>\n",
       "      <th>2</th>\n",
       "      <td>2</td>\n",
       "      <td>3.0</td>\n",
       "    </tr>\n",
       "  </tbody>\n",
       "</table>\n",
       "</div>"
      ],
      "text/plain": [
       "   a    b\n",
       "0  0  1.0\n",
       "1  1  NaN\n",
       "2  2  3.0"
      ]
     },
     "execution_count": 49,
     "metadata": {},
     "output_type": "execute_result"
    }
   ],
   "source": [
    "# 删除其中为真的列\n",
    "df2=df0.drop(is_all_nan[is_all_nan==True].index,axis=1)\n",
    "df2"
   ]
  },
  {
   "cell_type": "markdown",
   "metadata": {},
   "source": [
    "可参考：[Merge, join, and concatenate](https://www.pypandas.cn/docs/user_guide/merging.html#concatenating-objects)\n",
    "\n",
    "拼接主要使用的是concat函数，axis=0是默认选项纵向拼接，axis=1是横向"
   ]
  },
  {
   "cell_type": "code",
   "execution_count": 50,
   "metadata": {},
   "outputs": [
    {
     "name": "stdout",
     "output_type": "stream",
     "text": [
      "      A    B    C    D\n",
      "0    A0   B0   C0   D0\n",
      "1    A1   B1   C1   D1\n",
      "2    A2   B2   C2   D2\n",
      "3    A3   B3   C3   D3\n",
      "4    A4   B4   C4   D4\n",
      "5    A5   B5   C5   D5\n",
      "6    A6   B6   C6   D6\n",
      "7    A7   B7   C7   D7\n",
      "8    A8   B8   C8   D8\n",
      "9    A9   B9   C9   D9\n",
      "10  A10  B10  C10  D10\n",
      "11  A11  B11  C11  D11\n"
     ]
    }
   ],
   "source": [
    "import pandas as pd\n",
    "df0 = pd.DataFrame()\n",
    "df1 = pd.DataFrame({'A': ['A0', 'A1', 'A2', 'A3'],\n",
    "                   'B': ['B0', 'B1', 'B2', 'B3'],\n",
    "                        'C': ['C0', 'C1', 'C2', 'C3'],\n",
    "                        'D': ['D0', 'D1', 'D2', 'D3']},\n",
    "                     index=[0, 1, 2, 3]) \n",
    "\n",
    "df2 = pd.DataFrame({'A': ['A4', 'A5', 'A6', 'A7'],\n",
    "                   'B': ['B4', 'B5', 'B6', 'B7'],\n",
    "                  'C': ['C4', 'C5', 'C6', 'C7'],\n",
    "                     'D': ['D4', 'D5', 'D6', 'D7']},\n",
    "                    index=[4, 5, 6, 7]) \n",
    "\n",
    "df3 = pd.DataFrame({'A': ['A8', 'A9', 'A10', 'A11'],\n",
    "                     'B': ['B8', 'B9', 'B10', 'B11'],\n",
    "                    'C': ['C8', 'C9', 'C10', 'C11'],\n",
    "                    'D': ['D8', 'D9', 'D10', 'D11']},\n",
    "                    index=[8, 9, 10, 11]) \n",
    "\n",
    "frames = [df0, df1, df2, df3]\n",
    "result = pd.concat(frames)\n",
    "print(result)"
   ]
  },
  {
   "cell_type": "code",
   "execution_count": 51,
   "metadata": {},
   "outputs": [
    {
     "data": {
      "text/html": [
       "<div>\n",
       "<style scoped>\n",
       "    .dataframe tbody tr th:only-of-type {\n",
       "        vertical-align: middle;\n",
       "    }\n",
       "\n",
       "    .dataframe tbody tr th {\n",
       "        vertical-align: top;\n",
       "    }\n",
       "\n",
       "    .dataframe thead th {\n",
       "        text-align: right;\n",
       "    }\n",
       "</style>\n",
       "<table border=\"1\" class=\"dataframe\">\n",
       "  <thead>\n",
       "    <tr style=\"text-align: right;\">\n",
       "      <th></th>\n",
       "      <th>A</th>\n",
       "      <th>B</th>\n",
       "      <th>C</th>\n",
       "      <th>D</th>\n",
       "      <th>B</th>\n",
       "      <th>D</th>\n",
       "      <th>F</th>\n",
       "    </tr>\n",
       "  </thead>\n",
       "  <tbody>\n",
       "    <tr>\n",
       "      <th>0</th>\n",
       "      <td>A0</td>\n",
       "      <td>B0</td>\n",
       "      <td>C0</td>\n",
       "      <td>D0</td>\n",
       "      <td>NaN</td>\n",
       "      <td>NaN</td>\n",
       "      <td>NaN</td>\n",
       "    </tr>\n",
       "    <tr>\n",
       "      <th>1</th>\n",
       "      <td>A1</td>\n",
       "      <td>B1</td>\n",
       "      <td>C1</td>\n",
       "      <td>D1</td>\n",
       "      <td>NaN</td>\n",
       "      <td>NaN</td>\n",
       "      <td>NaN</td>\n",
       "    </tr>\n",
       "    <tr>\n",
       "      <th>2</th>\n",
       "      <td>A2</td>\n",
       "      <td>B2</td>\n",
       "      <td>C2</td>\n",
       "      <td>D2</td>\n",
       "      <td>B2</td>\n",
       "      <td>D2</td>\n",
       "      <td>F2</td>\n",
       "    </tr>\n",
       "    <tr>\n",
       "      <th>3</th>\n",
       "      <td>A3</td>\n",
       "      <td>B3</td>\n",
       "      <td>C3</td>\n",
       "      <td>D3</td>\n",
       "      <td>B3</td>\n",
       "      <td>D3</td>\n",
       "      <td>F3</td>\n",
       "    </tr>\n",
       "    <tr>\n",
       "      <th>6</th>\n",
       "      <td>NaN</td>\n",
       "      <td>NaN</td>\n",
       "      <td>NaN</td>\n",
       "      <td>NaN</td>\n",
       "      <td>B6</td>\n",
       "      <td>D6</td>\n",
       "      <td>F6</td>\n",
       "    </tr>\n",
       "    <tr>\n",
       "      <th>7</th>\n",
       "      <td>NaN</td>\n",
       "      <td>NaN</td>\n",
       "      <td>NaN</td>\n",
       "      <td>NaN</td>\n",
       "      <td>B7</td>\n",
       "      <td>D7</td>\n",
       "      <td>F7</td>\n",
       "    </tr>\n",
       "  </tbody>\n",
       "</table>\n",
       "</div>"
      ],
      "text/plain": [
       "     A    B    C    D    B    D    F\n",
       "0   A0   B0   C0   D0  NaN  NaN  NaN\n",
       "1   A1   B1   C1   D1  NaN  NaN  NaN\n",
       "2   A2   B2   C2   D2   B2   D2   F2\n",
       "3   A3   B3   C3   D3   B3   D3   F3\n",
       "6  NaN  NaN  NaN  NaN   B6   D6   F6\n",
       "7  NaN  NaN  NaN  NaN   B7   D7   F7"
      ]
     },
     "execution_count": 51,
     "metadata": {},
     "output_type": "execute_result"
    }
   ],
   "source": [
    "df4 = pd.DataFrame({'B': ['B2', 'B3', 'B6', 'B7'],\n",
    "                        'D': ['D2', 'D3', 'D6', 'D7'],\n",
    "                        'F': ['F2', 'F3', 'F6', 'F7']},\n",
    "                       index=[2, 3, 6, 7])\n",
    "result = pd.concat([df1, df4], axis=1)\n",
    "result"
   ]
  },
  {
   "cell_type": "markdown",
   "metadata": {},
   "source": [
    "再看 一个增加空列的例子，主要参考了：[pandas dataframe在指定的位置添加一列, 或者一次性添加几列，reindex，pd.concat的使用](https://blog.csdn.net/AlanGuoo/article/details/76522429)"
   ]
  },
  {
   "cell_type": "code",
   "execution_count": 52,
   "metadata": {},
   "outputs": [
    {
     "data": {
      "text/html": [
       "<div>\n",
       "<style scoped>\n",
       "    .dataframe tbody tr th:only-of-type {\n",
       "        vertical-align: middle;\n",
       "    }\n",
       "\n",
       "    .dataframe tbody tr th {\n",
       "        vertical-align: top;\n",
       "    }\n",
       "\n",
       "    .dataframe thead th {\n",
       "        text-align: right;\n",
       "    }\n",
       "</style>\n",
       "<table border=\"1\" class=\"dataframe\">\n",
       "  <thead>\n",
       "    <tr style=\"text-align: right;\">\n",
       "      <th></th>\n",
       "      <th>B</th>\n",
       "      <th>D</th>\n",
       "      <th>F</th>\n",
       "      <th>flow</th>\n",
       "      <th>mode</th>\n",
       "    </tr>\n",
       "  </thead>\n",
       "  <tbody>\n",
       "    <tr>\n",
       "      <th>2</th>\n",
       "      <td>B2</td>\n",
       "      <td>D2</td>\n",
       "      <td>F2</td>\n",
       "      <td>NaN</td>\n",
       "      <td>NaN</td>\n",
       "    </tr>\n",
       "    <tr>\n",
       "      <th>3</th>\n",
       "      <td>B3</td>\n",
       "      <td>D3</td>\n",
       "      <td>F3</td>\n",
       "      <td>NaN</td>\n",
       "      <td>NaN</td>\n",
       "    </tr>\n",
       "    <tr>\n",
       "      <th>6</th>\n",
       "      <td>B6</td>\n",
       "      <td>D6</td>\n",
       "      <td>F6</td>\n",
       "      <td>NaN</td>\n",
       "      <td>NaN</td>\n",
       "    </tr>\n",
       "    <tr>\n",
       "      <th>7</th>\n",
       "      <td>B7</td>\n",
       "      <td>D7</td>\n",
       "      <td>F7</td>\n",
       "      <td>NaN</td>\n",
       "      <td>NaN</td>\n",
       "    </tr>\n",
       "  </tbody>\n",
       "</table>\n",
       "</div>"
      ],
      "text/plain": [
       "    B   D   F flow mode\n",
       "2  B2  D2  F2  NaN  NaN\n",
       "3  B3  D3  F3  NaN  NaN\n",
       "6  B6  D6  F6  NaN  NaN\n",
       "7  B7  D7  F7  NaN  NaN"
      ]
     },
     "execution_count": 52,
     "metadata": {},
     "output_type": "execute_result"
    }
   ],
   "source": [
    "df5 = pd.concat([df4, pd.DataFrame(columns=['flow', 'mode'])])\n",
    "df5"
   ]
  },
  {
   "cell_type": "markdown",
   "metadata": {},
   "source": [
    "reindex可以来重新索引，如下所示，只用了df1的index，所以就剩下4行了"
   ]
  },
  {
   "cell_type": "code",
   "execution_count": 53,
   "metadata": {},
   "outputs": [
    {
     "data": {
      "text/html": [
       "<div>\n",
       "<style scoped>\n",
       "    .dataframe tbody tr th:only-of-type {\n",
       "        vertical-align: middle;\n",
       "    }\n",
       "\n",
       "    .dataframe tbody tr th {\n",
       "        vertical-align: top;\n",
       "    }\n",
       "\n",
       "    .dataframe thead th {\n",
       "        text-align: right;\n",
       "    }\n",
       "</style>\n",
       "<table border=\"1\" class=\"dataframe\">\n",
       "  <thead>\n",
       "    <tr style=\"text-align: right;\">\n",
       "      <th></th>\n",
       "      <th>B</th>\n",
       "      <th>D</th>\n",
       "      <th>F</th>\n",
       "      <th>flow</th>\n",
       "      <th>mode</th>\n",
       "    </tr>\n",
       "  </thead>\n",
       "  <tbody>\n",
       "    <tr>\n",
       "      <th>0</th>\n",
       "      <td>NaN</td>\n",
       "      <td>NaN</td>\n",
       "      <td>NaN</td>\n",
       "      <td>NaN</td>\n",
       "      <td>NaN</td>\n",
       "    </tr>\n",
       "    <tr>\n",
       "      <th>1</th>\n",
       "      <td>NaN</td>\n",
       "      <td>NaN</td>\n",
       "      <td>NaN</td>\n",
       "      <td>NaN</td>\n",
       "      <td>NaN</td>\n",
       "    </tr>\n",
       "    <tr>\n",
       "      <th>2</th>\n",
       "      <td>B2</td>\n",
       "      <td>D2</td>\n",
       "      <td>F2</td>\n",
       "      <td>NaN</td>\n",
       "      <td>NaN</td>\n",
       "    </tr>\n",
       "    <tr>\n",
       "      <th>3</th>\n",
       "      <td>B3</td>\n",
       "      <td>D3</td>\n",
       "      <td>F3</td>\n",
       "      <td>NaN</td>\n",
       "      <td>NaN</td>\n",
       "    </tr>\n",
       "  </tbody>\n",
       "</table>\n",
       "</div>"
      ],
      "text/plain": [
       "     B    D    F flow mode\n",
       "0  NaN  NaN  NaN  NaN  NaN\n",
       "1  NaN  NaN  NaN  NaN  NaN\n",
       "2   B2   D2   F2  NaN  NaN\n",
       "3   B3   D3   F3  NaN  NaN"
      ]
     },
     "execution_count": 53,
     "metadata": {},
     "output_type": "execute_result"
    }
   ],
   "source": [
    "df5.reindex(df1.index)"
   ]
  },
  {
   "cell_type": "markdown",
   "metadata": {},
   "source": [
    "另外还有一个多列拼接成一列的小例子，几列字符串拼为一列字符串："
   ]
  },
  {
   "cell_type": "code",
   "execution_count": 54,
   "metadata": {},
   "outputs": [
    {
     "name": "stdout",
     "output_type": "stream",
     "text": [
      "       a  c\n",
      "0  0-0-0  0\n",
      "1  1-1-1  1\n",
      "2  2-2-2  2\n"
     ]
    }
   ],
   "source": [
    "df = pd.DataFrame({\"a\": range(3), \"b\": range(3), \"c\": range(3)})\n",
    "# 结构很简单: 第一列的名称.str.cat(第二列的名称)\n",
    "df['a'] = df.iloc[:, 0].apply(str) + \"-\" + df['b'].apply(str) + \"-\" + df['b'].apply(str)\n",
    "# 拼接之后，只留下特定的几列\n",
    "df = df[['a', 'c']]\n",
    "print(df)"
   ]
  },
  {
   "cell_type": "markdown",
   "metadata": {},
   "source": [
    "多个Series拼接"
   ]
  },
  {
   "cell_type": "code",
   "execution_count": 55,
   "metadata": {},
   "outputs": [
    {
     "name": "stdout",
     "output_type": "stream",
     "text": [
      "<class 'pandas.core.indexes.datetimes.DatetimeIndex'>\n",
      "构建一个序列，并以时间做index： 2011-01-01    1\n",
      "2011-01-02    2\n",
      "Freq: D, Name: aa, dtype: int64\n",
      "拼接a和b：              aa    0\n",
      "2011-01-01  1.0  NaN\n",
      "2011-01-02  2.0  2.0\n",
      "2011-01-03  NaN  3.0\n",
      "2011-01-04  NaN  4.0\n",
      "拼接df1和c：              aa    0    0\n",
      "2011-01-01  1.0  NaN  5.0\n",
      "2011-01-02  2.0  2.0  6.0\n",
      "2011-01-03  NaN  3.0  NaN\n",
      "2011-01-04  NaN  4.0  NaN\n",
      "拼接多个目标：              aa    0    0    1\n",
      "2011-01-01  1.0  NaN  5.0  5.0\n",
      "2011-01-02  2.0  2.0  6.0  6.0\n",
      "2011-01-03  NaN  3.0  NaN  NaN\n",
      "2011-01-04  NaN  4.0  NaN  NaN\n"
     ]
    }
   ],
   "source": [
    "import pandas as pd\n",
    "# 初始化的时候不起名，后面rename没有用\n",
    "a = pd.Series([1, 2], name='aa')\n",
    "rng1 = pd.date_range('2011-1-1', periods=2, freq='D')\n",
    "print(type(rng1))\n",
    "a.index = rng1\n",
    "print(\"构建一个序列，并以时间做index：\",a)\n",
    "b = pd.Series([2, 3, 4])\n",
    "rng2 = pd.date_range('2011-1-2', periods=3, freq='D')\n",
    "b.index = rng2\n",
    "df1 = pd.concat([a, b], axis=1)\n",
    "print(\"拼接a和b：\",df1)\n",
    "c = pd.Series([5, 6])\n",
    "rng3 = pd.date_range('2011-1-1', periods=2, freq='D')\n",
    "c.index = rng3\n",
    "df2 = pd.concat([df1, c], axis=1)\n",
    "print(\"拼接df1和c：\",df2)\n",
    "# 尝试直接拼接多个：\n",
    "df3 = pd.concat([df1, c, c], axis=1)\n",
    "print(\"拼接多个目标：\",df3)"
   ]
  },
  {
   "cell_type": "markdown",
   "metadata": {},
   "source": [
    "拼接还可以使用append："
   ]
  },
  {
   "cell_type": "code",
   "execution_count": 56,
   "metadata": {},
   "outputs": [
    {
     "data": {
      "text/html": [
       "<div>\n",
       "<style scoped>\n",
       "    .dataframe tbody tr th:only-of-type {\n",
       "        vertical-align: middle;\n",
       "    }\n",
       "\n",
       "    .dataframe tbody tr th {\n",
       "        vertical-align: top;\n",
       "    }\n",
       "\n",
       "    .dataframe thead th {\n",
       "        text-align: right;\n",
       "    }\n",
       "</style>\n",
       "<table border=\"1\" class=\"dataframe\">\n",
       "  <thead>\n",
       "    <tr style=\"text-align: right;\">\n",
       "      <th></th>\n",
       "      <th>A</th>\n",
       "      <th>B</th>\n",
       "      <th>C</th>\n",
       "      <th>D</th>\n",
       "    </tr>\n",
       "  </thead>\n",
       "  <tbody>\n",
       "    <tr>\n",
       "      <th>0</th>\n",
       "      <td>A0</td>\n",
       "      <td>B0</td>\n",
       "      <td>C0</td>\n",
       "      <td>D0</td>\n",
       "    </tr>\n",
       "    <tr>\n",
       "      <th>1</th>\n",
       "      <td>A1</td>\n",
       "      <td>B1</td>\n",
       "      <td>C1</td>\n",
       "      <td>D1</td>\n",
       "    </tr>\n",
       "    <tr>\n",
       "      <th>2</th>\n",
       "      <td>A2</td>\n",
       "      <td>B2</td>\n",
       "      <td>C2</td>\n",
       "      <td>D2</td>\n",
       "    </tr>\n",
       "    <tr>\n",
       "      <th>3</th>\n",
       "      <td>A3</td>\n",
       "      <td>B3</td>\n",
       "      <td>C3</td>\n",
       "      <td>D3</td>\n",
       "    </tr>\n",
       "    <tr>\n",
       "      <th>4</th>\n",
       "      <td>A4</td>\n",
       "      <td>B4</td>\n",
       "      <td>C4</td>\n",
       "      <td>D4</td>\n",
       "    </tr>\n",
       "    <tr>\n",
       "      <th>5</th>\n",
       "      <td>A5</td>\n",
       "      <td>B5</td>\n",
       "      <td>C5</td>\n",
       "      <td>D5</td>\n",
       "    </tr>\n",
       "    <tr>\n",
       "      <th>6</th>\n",
       "      <td>A6</td>\n",
       "      <td>B6</td>\n",
       "      <td>C6</td>\n",
       "      <td>D6</td>\n",
       "    </tr>\n",
       "    <tr>\n",
       "      <th>7</th>\n",
       "      <td>A7</td>\n",
       "      <td>B7</td>\n",
       "      <td>C7</td>\n",
       "      <td>D7</td>\n",
       "    </tr>\n",
       "  </tbody>\n",
       "</table>\n",
       "</div>"
      ],
      "text/plain": [
       "    A   B   C   D\n",
       "0  A0  B0  C0  D0\n",
       "1  A1  B1  C1  D1\n",
       "2  A2  B2  C2  D2\n",
       "3  A3  B3  C3  D3\n",
       "4  A4  B4  C4  D4\n",
       "5  A5  B5  C5  D5\n",
       "6  A6  B6  C6  D6\n",
       "7  A7  B7  C7  D7"
      ]
     },
     "execution_count": 56,
     "metadata": {},
     "output_type": "execute_result"
    }
   ],
   "source": [
    "df1 = pd.DataFrame({'A': ['A0', 'A1', 'A2', 'A3'],\n",
    "                        'B': ['B0', 'B1', 'B2', 'B3'],\n",
    "                        'C': ['C0', 'C1', 'C2', 'C3'],\n",
    "                        'D': ['D0', 'D1', 'D2', 'D3']},\n",
    "                       index=[0, 1, 2, 3])\n",
    "df2 = pd.DataFrame({'A': ['A4', 'A5', 'A6', 'A7'],\n",
    "                        'B': ['B4', 'B5', 'B6', 'B7'],\n",
    "                        'C': ['C4', 'C5', 'C6', 'C7'],\n",
    "                        'D': ['D4', 'D5', 'D6', 'D7']},\n",
    "                       index=[4, 5, 6, 7])\n",
    "result = df1.append(df2)\n",
    "result"
   ]
  },
  {
   "cell_type": "markdown",
   "metadata": {},
   "source": [
    "在数据处理中，经常会遇到空值地情况，这时候我们通常会进行插值，pandas中提供了非常方便地插值方式可供使用。"
   ]
  },
  {
   "cell_type": "code",
   "execution_count": 57,
   "metadata": {},
   "outputs": [
    {
     "data": {
      "text/plain": [
       "0    0.0\n",
       "1    1.0\n",
       "2    2.0\n",
       "3    3.0\n",
       "dtype: float64"
      ]
     },
     "execution_count": 57,
     "metadata": {},
     "output_type": "execute_result"
    }
   ],
   "source": [
    "import pandas as pd\n",
    "import numpy as np\n",
    "s = pd.Series([0, 1, np.nan, 3])\n",
    "s.interpolate()"
   ]
  },
  {
   "cell_type": "code",
   "execution_count": 58,
   "metadata": {},
   "outputs": [
    {
     "data": {
      "text/plain": [
       "0    0.0\n",
       "1    1.0\n",
       "2    NaN\n",
       "3    3.0\n",
       "dtype: float64"
      ]
     },
     "execution_count": 58,
     "metadata": {},
     "output_type": "execute_result"
    }
   ],
   "source": [
    "s"
   ]
  },
  {
   "cell_type": "markdown",
   "metadata": {},
   "source": [
    "注意interpolate函数并不是inplace操作。\n",
    "\n",
    "如果需要平滑插值，可以使用样条插值，不过样条插值需要 scipy 包作为基础，后续会有scipy介绍，这里需要的话，可以先安装使用\n",
    "\n",
    "```Shell\n",
    "conda install -c conda-forge scipy\n",
    "```"
   ]
  },
  {
   "cell_type": "code",
   "execution_count": 60,
   "metadata": {},
   "outputs": [
    {
     "data": {
      "text/plain": [
       "0    0.000000\n",
       "1    2.000000\n",
       "2    4.666667\n",
       "3    8.000000\n",
       "dtype: float64"
      ]
     },
     "execution_count": 60,
     "metadata": {},
     "output_type": "execute_result"
    }
   ],
   "source": [
    "s = pd.Series([0, 2, np.nan, 8])\n",
    "s.interpolate(method='polynomial', order=2)"
   ]
  },
  {
   "cell_type": "markdown",
   "metadata": {},
   "source": [
    "然后，对于DataFrame："
   ]
  },
  {
   "cell_type": "code",
   "execution_count": 61,
   "metadata": {},
   "outputs": [
    {
     "data": {
      "text/html": [
       "<div>\n",
       "<style scoped>\n",
       "    .dataframe tbody tr th:only-of-type {\n",
       "        vertical-align: middle;\n",
       "    }\n",
       "\n",
       "    .dataframe tbody tr th {\n",
       "        vertical-align: top;\n",
       "    }\n",
       "\n",
       "    .dataframe thead th {\n",
       "        text-align: right;\n",
       "    }\n",
       "</style>\n",
       "<table border=\"1\" class=\"dataframe\">\n",
       "  <thead>\n",
       "    <tr style=\"text-align: right;\">\n",
       "      <th></th>\n",
       "      <th>a</th>\n",
       "      <th>b</th>\n",
       "      <th>c</th>\n",
       "      <th>d</th>\n",
       "    </tr>\n",
       "  </thead>\n",
       "  <tbody>\n",
       "    <tr>\n",
       "      <th>0</th>\n",
       "      <td>0.0</td>\n",
       "      <td>NaN</td>\n",
       "      <td>-1.0</td>\n",
       "      <td>1.0</td>\n",
       "    </tr>\n",
       "    <tr>\n",
       "      <th>1</th>\n",
       "      <td>NaN</td>\n",
       "      <td>2.0</td>\n",
       "      <td>NaN</td>\n",
       "      <td>NaN</td>\n",
       "    </tr>\n",
       "    <tr>\n",
       "      <th>2</th>\n",
       "      <td>2.0</td>\n",
       "      <td>3.0</td>\n",
       "      <td>NaN</td>\n",
       "      <td>9.0</td>\n",
       "    </tr>\n",
       "    <tr>\n",
       "      <th>3</th>\n",
       "      <td>NaN</td>\n",
       "      <td>4.0</td>\n",
       "      <td>-4.0</td>\n",
       "      <td>16.0</td>\n",
       "    </tr>\n",
       "  </tbody>\n",
       "</table>\n",
       "</div>"
      ],
      "text/plain": [
       "     a    b    c     d\n",
       "0  0.0  NaN -1.0   1.0\n",
       "1  NaN  2.0  NaN   NaN\n",
       "2  2.0  3.0  NaN   9.0\n",
       "3  NaN  4.0 -4.0  16.0"
      ]
     },
     "execution_count": 61,
     "metadata": {},
     "output_type": "execute_result"
    }
   ],
   "source": [
    "df = pd.DataFrame([(0.0, np.nan, -1.0, 1.0),\n",
    "                   (np.nan, 2.0, np.nan, np.nan),\n",
    "                   (2.0, 3.0, np.nan, 9.0),\n",
    "                   (np.nan, 4.0, -4.0, 16.0)],\n",
    "                  columns=list('abcd'))\n",
    "df"
   ]
  },
  {
   "cell_type": "code",
   "execution_count": 62,
   "metadata": {},
   "outputs": [
    {
     "data": {
      "text/html": [
       "<div>\n",
       "<style scoped>\n",
       "    .dataframe tbody tr th:only-of-type {\n",
       "        vertical-align: middle;\n",
       "    }\n",
       "\n",
       "    .dataframe tbody tr th {\n",
       "        vertical-align: top;\n",
       "    }\n",
       "\n",
       "    .dataframe thead th {\n",
       "        text-align: right;\n",
       "    }\n",
       "</style>\n",
       "<table border=\"1\" class=\"dataframe\">\n",
       "  <thead>\n",
       "    <tr style=\"text-align: right;\">\n",
       "      <th></th>\n",
       "      <th>a</th>\n",
       "      <th>b</th>\n",
       "      <th>c</th>\n",
       "      <th>d</th>\n",
       "    </tr>\n",
       "  </thead>\n",
       "  <tbody>\n",
       "    <tr>\n",
       "      <th>0</th>\n",
       "      <td>0.0</td>\n",
       "      <td>NaN</td>\n",
       "      <td>-1.0</td>\n",
       "      <td>1.0</td>\n",
       "    </tr>\n",
       "    <tr>\n",
       "      <th>1</th>\n",
       "      <td>1.0</td>\n",
       "      <td>2.0</td>\n",
       "      <td>-2.0</td>\n",
       "      <td>5.0</td>\n",
       "    </tr>\n",
       "    <tr>\n",
       "      <th>2</th>\n",
       "      <td>2.0</td>\n",
       "      <td>3.0</td>\n",
       "      <td>-3.0</td>\n",
       "      <td>9.0</td>\n",
       "    </tr>\n",
       "    <tr>\n",
       "      <th>3</th>\n",
       "      <td>2.0</td>\n",
       "      <td>4.0</td>\n",
       "      <td>-4.0</td>\n",
       "      <td>16.0</td>\n",
       "    </tr>\n",
       "  </tbody>\n",
       "</table>\n",
       "</div>"
      ],
      "text/plain": [
       "     a    b    c     d\n",
       "0  0.0  NaN -1.0   1.0\n",
       "1  1.0  2.0 -2.0   5.0\n",
       "2  2.0  3.0 -3.0   9.0\n",
       "3  2.0  4.0 -4.0  16.0"
      ]
     },
     "execution_count": 62,
     "metadata": {},
     "output_type": "execute_result"
    }
   ],
   "source": [
    "df.interpolate(method='linear', limit_direction='forward', axis=0)"
   ]
  },
  {
   "cell_type": "code",
   "execution_count": 63,
   "metadata": {},
   "outputs": [
    {
     "data": {
      "text/html": [
       "<div>\n",
       "<style scoped>\n",
       "    .dataframe tbody tr th:only-of-type {\n",
       "        vertical-align: middle;\n",
       "    }\n",
       "\n",
       "    .dataframe tbody tr th {\n",
       "        vertical-align: top;\n",
       "    }\n",
       "\n",
       "    .dataframe thead th {\n",
       "        text-align: right;\n",
       "    }\n",
       "</style>\n",
       "<table border=\"1\" class=\"dataframe\">\n",
       "  <thead>\n",
       "    <tr style=\"text-align: right;\">\n",
       "      <th></th>\n",
       "      <th>a</th>\n",
       "      <th>b</th>\n",
       "      <th>c</th>\n",
       "      <th>d</th>\n",
       "    </tr>\n",
       "  </thead>\n",
       "  <tbody>\n",
       "    <tr>\n",
       "      <th>0</th>\n",
       "      <td>0.0</td>\n",
       "      <td>-0.5</td>\n",
       "      <td>-1.0</td>\n",
       "      <td>1.0</td>\n",
       "    </tr>\n",
       "    <tr>\n",
       "      <th>1</th>\n",
       "      <td>NaN</td>\n",
       "      <td>2.0</td>\n",
       "      <td>2.0</td>\n",
       "      <td>2.0</td>\n",
       "    </tr>\n",
       "    <tr>\n",
       "      <th>2</th>\n",
       "      <td>2.0</td>\n",
       "      <td>3.0</td>\n",
       "      <td>6.0</td>\n",
       "      <td>9.0</td>\n",
       "    </tr>\n",
       "    <tr>\n",
       "      <th>3</th>\n",
       "      <td>NaN</td>\n",
       "      <td>4.0</td>\n",
       "      <td>-4.0</td>\n",
       "      <td>16.0</td>\n",
       "    </tr>\n",
       "  </tbody>\n",
       "</table>\n",
       "</div>"
      ],
      "text/plain": [
       "     a    b    c     d\n",
       "0  0.0 -0.5 -1.0   1.0\n",
       "1  NaN  2.0  2.0   2.0\n",
       "2  2.0  3.0  6.0   9.0\n",
       "3  NaN  4.0 -4.0  16.0"
      ]
     },
     "execution_count": 63,
     "metadata": {},
     "output_type": "execute_result"
    }
   ],
   "source": [
    "df.interpolate(method='linear', limit_direction='forward', axis=1)"
   ]
  },
  {
   "cell_type": "markdown",
   "metadata": {},
   "source": [
    "## 修改操作\n",
    "\n",
    "包括修改行列名，交换行列等操作。\n",
    "\n",
    "行一般又称index；列名也称field。总体上可以分为在读数据时修改和读后修改两种。\n",
    "\n",
    "具体的，行的修改方法有多种，参考：[重命名dataframe的index](https://blog.csdn.net/sinat_35930259/article/details/79872577)；列名的修改方法也有多种，参考[Pandas中修改DataFrame列名](http://www.voidcn.com/article/p-wycobfgd-bqs.html)"
   ]
  },
  {
   "cell_type": "code",
   "execution_count": 64,
   "metadata": {},
   "outputs": [
    {
     "name": "stdout",
     "output_type": "stream",
     "text": [
      "原数据：\n",
      " col1,col2,col3\n",
      "a,b,01\n",
      "a,b,02\n",
      "c,d,03\n",
      "pandas读取默认设置：\n",
      "      col2  col3\n",
      "col1           \n",
      "a       b     1\n",
      "a       b     2\n",
      "c       d     3\n",
      "Index(['col2', 'col3'], dtype='object')\n",
      "['col2', 'col3']\n",
      "<class 'str'>\n",
      "      b  c\n",
      "col1      \n",
      "a     b  1\n",
      "a     b  2\n",
      "c     d  3\n"
     ]
    }
   ],
   "source": [
    "# 给出所有列名，这里类型是Index，可以直接转为list\n",
    "import pandas as pd\n",
    "from io import StringIO, BytesIO\n",
    "data = ('col1,col2,col3\\n'\n",
    "         'a,b,01\\n'\n",
    "         'a,b,02\\n'\n",
    "         'c,d,03')\n",
    "print(\"原数据：\\n\",data)\n",
    "dataset = pd.read_csv(StringIO(data), index_col=0)\n",
    "print(\"pandas读取默认设置：\\n\",dataset)\n",
    "print(dataset.columns)\n",
    "columns=dataset.columns.tolist()\n",
    "print(columns)\n",
    "# 转换后，每个元素直接就是字符串了\n",
    "print(type(columns[0]))\n",
    "# 修改列名的常用方式,inplace为false的话，还需要赋值到dataset，因此直接设置为true\n",
    "dataset.rename(columns={'col1':'a', 'col2':'b', 'col3':'c'}, inplace = True)\n",
    "print(dataset)\n",
    "# 修改index行名"
   ]
  },
  {
   "cell_type": "code",
   "execution_count": 65,
   "metadata": {},
   "outputs": [
    {
     "name": "stdout",
     "output_type": "stream",
     "text": [
      "  new1 new2 new3 new4\n",
      "4   A4   B4   C4   D4\n",
      "5   A5   B5   C5   D5\n",
      "6   A6   B6   C6   D6\n",
      "7   A7   B7   C7   D7\n",
      "  new2 new1 new3 new4\n",
      "4   B4   A4   C4   D4\n",
      "5   B5   A5   C5   D5\n",
      "6   B6   A6   C6   D6\n",
      "7   B7   A7   C7   D7\n"
     ]
    }
   ],
   "source": [
    "\"\"\"重新命名各列\"\"\"\n",
    "new_col = ['new1', 'new2', 'new3', 'new4']\n",
    "df2.columns = new_col\n",
    "print(df2)\n",
    "\n",
    "\"\"\"交换列的位置\"\"\"\n",
    "order = ['new2', 'new1', 'new3', 'new4']\n",
    "df2 = df2[order]\n",
    "print(df2)"
   ]
  },
  {
   "cell_type": "markdown",
   "metadata": {},
   "source": [
    "行列拆分，参考[DataFrame一列拆成多列以及一行拆成多行](https://blog.csdn.net/Asher117/article/details/84346073)，在数据分析时，经常需要把DataFrame的一列拆成多列或者根据某列把一行拆成多行。"
   ]
  },
  {
   "cell_type": "code",
   "execution_count": 66,
   "metadata": {},
   "outputs": [
    {
     "data": {
      "text/html": [
       "<div>\n",
       "<style scoped>\n",
       "    .dataframe tbody tr th:only-of-type {\n",
       "        vertical-align: middle;\n",
       "    }\n",
       "\n",
       "    .dataframe tbody tr th {\n",
       "        vertical-align: top;\n",
       "    }\n",
       "\n",
       "    .dataframe thead th {\n",
       "        text-align: right;\n",
       "    }\n",
       "</style>\n",
       "<table border=\"1\" class=\"dataframe\">\n",
       "  <thead>\n",
       "    <tr style=\"text-align: right;\">\n",
       "      <th></th>\n",
       "      <th>Country</th>\n",
       "      <th>City</th>\n",
       "    </tr>\n",
       "  </thead>\n",
       "  <tbody>\n",
       "    <tr>\n",
       "      <th>0</th>\n",
       "      <td>China</td>\n",
       "      <td>Shanghai|Shenzhen</td>\n",
       "    </tr>\n",
       "    <tr>\n",
       "      <th>1</th>\n",
       "      <td>America</td>\n",
       "      <td>New York|State College</td>\n",
       "    </tr>\n",
       "    <tr>\n",
       "      <th>2</th>\n",
       "      <td>Japan</td>\n",
       "      <td>Tokyo|Osaka</td>\n",
       "    </tr>\n",
       "  </tbody>\n",
       "</table>\n",
       "</div>"
      ],
      "text/plain": [
       "   Country                    City\n",
       "0    China       Shanghai|Shenzhen\n",
       "1  America  New York|State College\n",
       "2    Japan             Tokyo|Osaka"
      ]
     },
     "execution_count": 66,
     "metadata": {},
     "output_type": "execute_result"
    }
   ],
   "source": [
    "import pandas as pd\n",
    "\n",
    "df= pd.DataFrame({'Country': ['China', 'America', 'Japan'],\n",
    "                   'City': ['Shanghai|Shenzhen', 'New York|State College', 'Tokyo|Osaka']},\n",
    "                     index=[0, 1, 2])\n",
    "df"
   ]
  },
  {
   "cell_type": "code",
   "execution_count": 67,
   "metadata": {},
   "outputs": [
    {
     "data": {
      "text/html": [
       "<div>\n",
       "<style scoped>\n",
       "    .dataframe tbody tr th:only-of-type {\n",
       "        vertical-align: middle;\n",
       "    }\n",
       "\n",
       "    .dataframe tbody tr th {\n",
       "        vertical-align: top;\n",
       "    }\n",
       "\n",
       "    .dataframe thead th {\n",
       "        text-align: right;\n",
       "    }\n",
       "</style>\n",
       "<table border=\"1\" class=\"dataframe\">\n",
       "  <thead>\n",
       "    <tr style=\"text-align: right;\">\n",
       "      <th></th>\n",
       "      <th>Country</th>\n",
       "      <th>City</th>\n",
       "      <th>Citys</th>\n",
       "    </tr>\n",
       "  </thead>\n",
       "  <tbody>\n",
       "    <tr>\n",
       "      <th>0</th>\n",
       "      <td>China</td>\n",
       "      <td>Shanghai|Shenzhen</td>\n",
       "      <td>[Shanghai, Shenzhen]</td>\n",
       "    </tr>\n",
       "    <tr>\n",
       "      <th>1</th>\n",
       "      <td>America</td>\n",
       "      <td>New York|State College</td>\n",
       "      <td>[New York, State College]</td>\n",
       "    </tr>\n",
       "    <tr>\n",
       "      <th>2</th>\n",
       "      <td>Japan</td>\n",
       "      <td>Tokyo|Osaka</td>\n",
       "      <td>[Tokyo, Osaka]</td>\n",
       "    </tr>\n",
       "  </tbody>\n",
       "</table>\n",
       "</div>"
      ],
      "text/plain": [
       "   Country                    City                      Citys\n",
       "0    China       Shanghai|Shenzhen       [Shanghai, Shenzhen]\n",
       "1  America  New York|State College  [New York, State College]\n",
       "2    Japan             Tokyo|Osaka             [Tokyo, Osaka]"
      ]
     },
     "execution_count": 67,
     "metadata": {},
     "output_type": "execute_result"
    }
   ],
   "source": [
    "df['Citys']=df['City'].map(lambda x: x.split('|'))\n",
    "df"
   ]
  },
  {
   "cell_type": "code",
   "execution_count": 68,
   "metadata": {},
   "outputs": [
    {
     "data": {
      "text/html": [
       "<div>\n",
       "<style scoped>\n",
       "    .dataframe tbody tr th:only-of-type {\n",
       "        vertical-align: middle;\n",
       "    }\n",
       "\n",
       "    .dataframe tbody tr th {\n",
       "        vertical-align: top;\n",
       "    }\n",
       "\n",
       "    .dataframe thead th {\n",
       "        text-align: right;\n",
       "    }\n",
       "</style>\n",
       "<table border=\"1\" class=\"dataframe\">\n",
       "  <thead>\n",
       "    <tr style=\"text-align: right;\">\n",
       "      <th></th>\n",
       "      <th>Country</th>\n",
       "      <th>City</th>\n",
       "      <th>Citys</th>\n",
       "      <th>City1</th>\n",
       "      <th>City2</th>\n",
       "    </tr>\n",
       "  </thead>\n",
       "  <tbody>\n",
       "    <tr>\n",
       "      <th>0</th>\n",
       "      <td>China</td>\n",
       "      <td>Shanghai|Shenzhen</td>\n",
       "      <td>[Shanghai, Shenzhen]</td>\n",
       "      <td>Shanghai</td>\n",
       "      <td>Shenzhen</td>\n",
       "    </tr>\n",
       "    <tr>\n",
       "      <th>1</th>\n",
       "      <td>America</td>\n",
       "      <td>New York|State College</td>\n",
       "      <td>[New York, State College]</td>\n",
       "      <td>New York</td>\n",
       "      <td>State College</td>\n",
       "    </tr>\n",
       "    <tr>\n",
       "      <th>2</th>\n",
       "      <td>Japan</td>\n",
       "      <td>Tokyo|Osaka</td>\n",
       "      <td>[Tokyo, Osaka]</td>\n",
       "      <td>Tokyo</td>\n",
       "      <td>Osaka</td>\n",
       "    </tr>\n",
       "  </tbody>\n",
       "</table>\n",
       "</div>"
      ],
      "text/plain": [
       "   Country                    City                      Citys     City1  \\\n",
       "0    China       Shanghai|Shenzhen       [Shanghai, Shenzhen]  Shanghai   \n",
       "1  America  New York|State College  [New York, State College]  New York   \n",
       "2    Japan             Tokyo|Osaka             [Tokyo, Osaka]     Tokyo   \n",
       "\n",
       "           City2  \n",
       "0       Shenzhen  \n",
       "1  State College  \n",
       "2          Osaka  "
      ]
     },
     "execution_count": 68,
     "metadata": {},
     "output_type": "execute_result"
    }
   ],
   "source": [
    "df['City1']=df['City'].map(lambda x: x.split('|')[0])\n",
    "df['City2']=df['City'].map(lambda x: x.split('|')[1])\n",
    "df"
   ]
  },
  {
   "cell_type": "markdown",
   "metadata": {},
   "source": [
    "除了上面的拆分，还有将各列拼接到一起，重新组织成符合数据库范式形式的表格，这就要用到十分常用的melt函数了，转换后的格式：其中一个或多个列是标识符变量，而所有其他列(被认为是测量变量)都不以行轴为轴，**只留下两个非标识符列**(变量和值)。"
   ]
  },
  {
   "cell_type": "code",
   "execution_count": 69,
   "metadata": {},
   "outputs": [
    {
     "data": {
      "text/html": [
       "<div>\n",
       "<style scoped>\n",
       "    .dataframe tbody tr th:only-of-type {\n",
       "        vertical-align: middle;\n",
       "    }\n",
       "\n",
       "    .dataframe tbody tr th {\n",
       "        vertical-align: top;\n",
       "    }\n",
       "\n",
       "    .dataframe thead th {\n",
       "        text-align: right;\n",
       "    }\n",
       "</style>\n",
       "<table border=\"1\" class=\"dataframe\">\n",
       "  <thead>\n",
       "    <tr style=\"text-align: right;\">\n",
       "      <th></th>\n",
       "      <th>A</th>\n",
       "      <th>B</th>\n",
       "      <th>C</th>\n",
       "    </tr>\n",
       "  </thead>\n",
       "  <tbody>\n",
       "    <tr>\n",
       "      <th>0</th>\n",
       "      <td>a</td>\n",
       "      <td>1</td>\n",
       "      <td>2</td>\n",
       "    </tr>\n",
       "    <tr>\n",
       "      <th>1</th>\n",
       "      <td>b</td>\n",
       "      <td>3</td>\n",
       "      <td>4</td>\n",
       "    </tr>\n",
       "    <tr>\n",
       "      <th>2</th>\n",
       "      <td>c</td>\n",
       "      <td>5</td>\n",
       "      <td>6</td>\n",
       "    </tr>\n",
       "  </tbody>\n",
       "</table>\n",
       "</div>"
      ],
      "text/plain": [
       "   A  B  C\n",
       "0  a  1  2\n",
       "1  b  3  4\n",
       "2  c  5  6"
      ]
     },
     "execution_count": 69,
     "metadata": {},
     "output_type": "execute_result"
    }
   ],
   "source": [
    "import pandas as pd\n",
    "df = pd.DataFrame({'A': {0: 'a', 1: 'b', 2: 'c'},\n",
    "                    'B': {0: 1, 1: 3, 2: 5},\n",
    "                    'C': {0: 2, 1: 4, 2: 6}})\n",
    "df"
   ]
  },
  {
   "cell_type": "code",
   "execution_count": 70,
   "metadata": {},
   "outputs": [
    {
     "data": {
      "text/html": [
       "<div>\n",
       "<style scoped>\n",
       "    .dataframe tbody tr th:only-of-type {\n",
       "        vertical-align: middle;\n",
       "    }\n",
       "\n",
       "    .dataframe tbody tr th {\n",
       "        vertical-align: top;\n",
       "    }\n",
       "\n",
       "    .dataframe thead th {\n",
       "        text-align: right;\n",
       "    }\n",
       "</style>\n",
       "<table border=\"1\" class=\"dataframe\">\n",
       "  <thead>\n",
       "    <tr style=\"text-align: right;\">\n",
       "      <th></th>\n",
       "      <th>A</th>\n",
       "      <th>variable</th>\n",
       "      <th>value</th>\n",
       "    </tr>\n",
       "  </thead>\n",
       "  <tbody>\n",
       "    <tr>\n",
       "      <th>0</th>\n",
       "      <td>a</td>\n",
       "      <td>B</td>\n",
       "      <td>1</td>\n",
       "    </tr>\n",
       "    <tr>\n",
       "      <th>1</th>\n",
       "      <td>b</td>\n",
       "      <td>B</td>\n",
       "      <td>3</td>\n",
       "    </tr>\n",
       "    <tr>\n",
       "      <th>2</th>\n",
       "      <td>c</td>\n",
       "      <td>B</td>\n",
       "      <td>5</td>\n",
       "    </tr>\n",
       "  </tbody>\n",
       "</table>\n",
       "</div>"
      ],
      "text/plain": [
       "   A variable  value\n",
       "0  a        B      1\n",
       "1  b        B      3\n",
       "2  c        B      5"
      ]
     },
     "execution_count": 70,
     "metadata": {},
     "output_type": "execute_result"
    }
   ],
   "source": [
    "pd.melt(df, id_vars=['A'], value_vars=['B'])"
   ]
  },
  {
   "cell_type": "code",
   "execution_count": 71,
   "metadata": {},
   "outputs": [
    {
     "data": {
      "text/html": [
       "<div>\n",
       "<style scoped>\n",
       "    .dataframe tbody tr th:only-of-type {\n",
       "        vertical-align: middle;\n",
       "    }\n",
       "\n",
       "    .dataframe tbody tr th {\n",
       "        vertical-align: top;\n",
       "    }\n",
       "\n",
       "    .dataframe thead th {\n",
       "        text-align: right;\n",
       "    }\n",
       "</style>\n",
       "<table border=\"1\" class=\"dataframe\">\n",
       "  <thead>\n",
       "    <tr style=\"text-align: right;\">\n",
       "      <th></th>\n",
       "      <th>A</th>\n",
       "      <th>variable</th>\n",
       "      <th>value</th>\n",
       "    </tr>\n",
       "  </thead>\n",
       "  <tbody>\n",
       "    <tr>\n",
       "      <th>0</th>\n",
       "      <td>a</td>\n",
       "      <td>B</td>\n",
       "      <td>1</td>\n",
       "    </tr>\n",
       "    <tr>\n",
       "      <th>1</th>\n",
       "      <td>b</td>\n",
       "      <td>B</td>\n",
       "      <td>3</td>\n",
       "    </tr>\n",
       "    <tr>\n",
       "      <th>2</th>\n",
       "      <td>c</td>\n",
       "      <td>B</td>\n",
       "      <td>5</td>\n",
       "    </tr>\n",
       "    <tr>\n",
       "      <th>3</th>\n",
       "      <td>a</td>\n",
       "      <td>C</td>\n",
       "      <td>2</td>\n",
       "    </tr>\n",
       "    <tr>\n",
       "      <th>4</th>\n",
       "      <td>b</td>\n",
       "      <td>C</td>\n",
       "      <td>4</td>\n",
       "    </tr>\n",
       "    <tr>\n",
       "      <th>5</th>\n",
       "      <td>c</td>\n",
       "      <td>C</td>\n",
       "      <td>6</td>\n",
       "    </tr>\n",
       "  </tbody>\n",
       "</table>\n",
       "</div>"
      ],
      "text/plain": [
       "   A variable  value\n",
       "0  a        B      1\n",
       "1  b        B      3\n",
       "2  c        B      5\n",
       "3  a        C      2\n",
       "4  b        C      4\n",
       "5  c        C      6"
      ]
     },
     "execution_count": 71,
     "metadata": {},
     "output_type": "execute_result"
    }
   ],
   "source": [
    "pd.melt(df, id_vars=['A'], value_vars=['B', 'C'])"
   ]
  },
  {
   "cell_type": "code",
   "execution_count": 72,
   "metadata": {},
   "outputs": [
    {
     "data": {
      "text/html": [
       "<div>\n",
       "<style scoped>\n",
       "    .dataframe tbody tr th:only-of-type {\n",
       "        vertical-align: middle;\n",
       "    }\n",
       "\n",
       "    .dataframe tbody tr th {\n",
       "        vertical-align: top;\n",
       "    }\n",
       "\n",
       "    .dataframe thead th {\n",
       "        text-align: right;\n",
       "    }\n",
       "</style>\n",
       "<table border=\"1\" class=\"dataframe\">\n",
       "  <thead>\n",
       "    <tr style=\"text-align: right;\">\n",
       "      <th></th>\n",
       "      <th>A</th>\n",
       "      <th>myVarname</th>\n",
       "      <th>myValname</th>\n",
       "    </tr>\n",
       "  </thead>\n",
       "  <tbody>\n",
       "    <tr>\n",
       "      <th>0</th>\n",
       "      <td>a</td>\n",
       "      <td>B</td>\n",
       "      <td>1</td>\n",
       "    </tr>\n",
       "    <tr>\n",
       "      <th>1</th>\n",
       "      <td>b</td>\n",
       "      <td>B</td>\n",
       "      <td>3</td>\n",
       "    </tr>\n",
       "    <tr>\n",
       "      <th>2</th>\n",
       "      <td>c</td>\n",
       "      <td>B</td>\n",
       "      <td>5</td>\n",
       "    </tr>\n",
       "  </tbody>\n",
       "</table>\n",
       "</div>"
      ],
      "text/plain": [
       "   A myVarname  myValname\n",
       "0  a         B          1\n",
       "1  b         B          3\n",
       "2  c         B          5"
      ]
     },
     "execution_count": 72,
     "metadata": {},
     "output_type": "execute_result"
    }
   ],
   "source": [
    "pd.melt(df, id_vars=['A'], value_vars=['B'], var_name='myVarname', value_name='myValname')"
   ]
  },
  {
   "cell_type": "markdown",
   "metadata": {},
   "source": [
    "## 索引，切片等操作\n",
    "\n",
    "首先是直接[]索引，以及loc和iloc的使用，这是pandas中最常用的索引方式。\n",
    "\n",
    "切片包括横向切，纵向切，即选取某些行，选取某些列的操作。dataframe的切片操作很容易，记住灵活运用其index的功能即可，第一维是行，第二维是列，定位使用loc，数值定位用iloc。"
   ]
  },
  {
   "cell_type": "markdown",
   "metadata": {},
   "source": [
    "先看看 Series 的索引操作"
   ]
  },
  {
   "cell_type": "code",
   "execution_count": 73,
   "metadata": {},
   "outputs": [
    {
     "data": {
      "text/plain": [
       "A    1\n",
       "B    2\n",
       "C    3\n",
       "D    4\n",
       "dtype: int64"
      ]
     },
     "execution_count": 73,
     "metadata": {},
     "output_type": "execute_result"
    }
   ],
   "source": [
    "import numpy as np\n",
    "import pandas as pd\n",
    "\n",
    "se = pd.Series([1, 2, 3, 4], index=['A', 'B', 'C', 'D'])\n",
    "se"
   ]
  },
  {
   "cell_type": "markdown",
   "metadata": {},
   "source": [
    "索引Series种符合条件的某些项可以直接采用如下方式"
   ]
  },
  {
   "cell_type": "code",
   "execution_count": 74,
   "metadata": {},
   "outputs": [
    {
     "data": {
      "text/plain": [
       "C    3\n",
       "D    4\n",
       "dtype: int64"
      ]
     },
     "execution_count": 74,
     "metadata": {},
     "output_type": "execute_result"
    }
   ],
   "source": [
    "se[se>2]"
   ]
  },
  {
   "cell_type": "markdown",
   "metadata": {},
   "source": [
    "给出符号条件的项的索引"
   ]
  },
  {
   "cell_type": "code",
   "execution_count": 75,
   "metadata": {},
   "outputs": [
    {
     "data": {
      "text/plain": [
       "['B']"
      ]
     },
     "execution_count": 75,
     "metadata": {},
     "output_type": "execute_result"
    }
   ],
   "source": [
    "se[se==2].index.tolist()"
   ]
  },
  {
   "cell_type": "markdown",
   "metadata": {},
   "source": [
    "再给一个例子，如果想要判断包含b的字符项对应的index，下面的方式是会报错的。"
   ]
  },
  {
   "cell_type": "code",
   "execution_count": 76,
   "metadata": {},
   "outputs": [
    {
     "ename": "KeyError",
     "evalue": "False",
     "output_type": "error",
     "traceback": [
      "\u001b[1;31m---------------------------------------------------------------------------\u001b[0m",
      "\u001b[1;31mKeyError\u001b[0m                                  Traceback (most recent call last)",
      "\u001b[1;32m~\\miniconda3\\envs\\hydrus\\lib\\site-packages\\pandas\\core\\indexes\\base.py\u001b[0m in \u001b[0;36mget_loc\u001b[1;34m(self, key, method, tolerance)\u001b[0m\n\u001b[0;32m   3360\u001b[0m             \u001b[1;32mtry\u001b[0m\u001b[1;33m:\u001b[0m\u001b[1;33m\u001b[0m\u001b[1;33m\u001b[0m\u001b[0m\n\u001b[1;32m-> 3361\u001b[1;33m                 \u001b[1;32mreturn\u001b[0m \u001b[0mself\u001b[0m\u001b[1;33m.\u001b[0m\u001b[0m_engine\u001b[0m\u001b[1;33m.\u001b[0m\u001b[0mget_loc\u001b[0m\u001b[1;33m(\u001b[0m\u001b[0mcasted_key\u001b[0m\u001b[1;33m)\u001b[0m\u001b[1;33m\u001b[0m\u001b[1;33m\u001b[0m\u001b[0m\n\u001b[0m\u001b[0;32m   3362\u001b[0m             \u001b[1;32mexcept\u001b[0m \u001b[0mKeyError\u001b[0m \u001b[1;32mas\u001b[0m \u001b[0merr\u001b[0m\u001b[1;33m:\u001b[0m\u001b[1;33m\u001b[0m\u001b[1;33m\u001b[0m\u001b[0m\n",
      "\u001b[1;32m~\\miniconda3\\envs\\hydrus\\lib\\site-packages\\pandas\\_libs\\index.pyx\u001b[0m in \u001b[0;36mpandas._libs.index.IndexEngine.get_loc\u001b[1;34m()\u001b[0m\n",
      "\u001b[1;32m~\\miniconda3\\envs\\hydrus\\lib\\site-packages\\pandas\\_libs\\index.pyx\u001b[0m in \u001b[0;36mpandas._libs.index.IndexEngine.get_loc\u001b[1;34m()\u001b[0m\n",
      "\u001b[1;32mpandas\\_libs\\hashtable_class_helper.pxi\u001b[0m in \u001b[0;36mpandas._libs.hashtable.PyObjectHashTable.get_item\u001b[1;34m()\u001b[0m\n",
      "\u001b[1;32mpandas\\_libs\\hashtable_class_helper.pxi\u001b[0m in \u001b[0;36mpandas._libs.hashtable.PyObjectHashTable.get_item\u001b[1;34m()\u001b[0m\n",
      "\u001b[1;31mKeyError\u001b[0m: False",
      "\nThe above exception was the direct cause of the following exception:\n",
      "\u001b[1;31mKeyError\u001b[0m                                  Traceback (most recent call last)",
      "\u001b[1;32m~\\AppData\\Local\\Temp/ipykernel_6076/1994848287.py\u001b[0m in \u001b[0;36m<module>\u001b[1;34m\u001b[0m\n\u001b[0;32m      1\u001b[0m \u001b[0ms1\u001b[0m\u001b[1;33m=\u001b[0m \u001b[0mpd\u001b[0m\u001b[1;33m.\u001b[0m\u001b[0mSeries\u001b[0m\u001b[1;33m(\u001b[0m\u001b[1;33m[\u001b[0m\u001b[1;34m'a'\u001b[0m\u001b[1;33m,\u001b[0m \u001b[1;34m'bv'\u001b[0m\u001b[1;33m,\u001b[0m \u001b[1;34m\"b\"\u001b[0m\u001b[1;33m,\u001b[0m \u001b[1;34m\"d\"\u001b[0m\u001b[1;33m]\u001b[0m\u001b[1;33m,\u001b[0m \u001b[0mindex\u001b[0m\u001b[1;33m=\u001b[0m\u001b[1;33m[\u001b[0m\u001b[1;34m'A'\u001b[0m\u001b[1;33m,\u001b[0m \u001b[1;34m'B'\u001b[0m\u001b[1;33m,\u001b[0m \u001b[1;34m'C'\u001b[0m\u001b[1;33m,\u001b[0m \u001b[1;34m'D'\u001b[0m\u001b[1;33m]\u001b[0m\u001b[1;33m)\u001b[0m\u001b[1;33m\u001b[0m\u001b[1;33m\u001b[0m\u001b[0m\n\u001b[1;32m----> 2\u001b[1;33m \u001b[0ms1\u001b[0m\u001b[1;33m[\u001b[0m\u001b[1;34m\"b\"\u001b[0m \u001b[1;32min\u001b[0m \u001b[0ms1\u001b[0m\u001b[1;33m]\u001b[0m\u001b[1;33m.\u001b[0m\u001b[0mindex\u001b[0m\u001b[1;33m.\u001b[0m\u001b[0mtolist\u001b[0m\u001b[1;33m(\u001b[0m\u001b[1;33m)\u001b[0m\u001b[1;33m\u001b[0m\u001b[1;33m\u001b[0m\u001b[0m\n\u001b[0m\u001b[0;32m      3\u001b[0m \u001b[1;31m# 或者\u001b[0m\u001b[1;33m\u001b[0m\u001b[1;33m\u001b[0m\u001b[1;33m\u001b[0m\u001b[0m\n\u001b[0;32m      4\u001b[0m \u001b[1;31m# s1[s1.find('b')].index.tolist()\u001b[0m\u001b[1;33m\u001b[0m\u001b[1;33m\u001b[0m\u001b[1;33m\u001b[0m\u001b[0m\n",
      "\u001b[1;32m~\\miniconda3\\envs\\hydrus\\lib\\site-packages\\pandas\\core\\series.py\u001b[0m in \u001b[0;36m__getitem__\u001b[1;34m(self, key)\u001b[0m\n\u001b[0;32m    940\u001b[0m \u001b[1;33m\u001b[0m\u001b[0m\n\u001b[0;32m    941\u001b[0m         \u001b[1;32melif\u001b[0m \u001b[0mkey_is_scalar\u001b[0m\u001b[1;33m:\u001b[0m\u001b[1;33m\u001b[0m\u001b[1;33m\u001b[0m\u001b[0m\n\u001b[1;32m--> 942\u001b[1;33m             \u001b[1;32mreturn\u001b[0m \u001b[0mself\u001b[0m\u001b[1;33m.\u001b[0m\u001b[0m_get_value\u001b[0m\u001b[1;33m(\u001b[0m\u001b[0mkey\u001b[0m\u001b[1;33m)\u001b[0m\u001b[1;33m\u001b[0m\u001b[1;33m\u001b[0m\u001b[0m\n\u001b[0m\u001b[0;32m    943\u001b[0m \u001b[1;33m\u001b[0m\u001b[0m\n\u001b[0;32m    944\u001b[0m         \u001b[1;32mif\u001b[0m \u001b[0mis_hashable\u001b[0m\u001b[1;33m(\u001b[0m\u001b[0mkey\u001b[0m\u001b[1;33m)\u001b[0m\u001b[1;33m:\u001b[0m\u001b[1;33m\u001b[0m\u001b[1;33m\u001b[0m\u001b[0m\n",
      "\u001b[1;32m~\\miniconda3\\envs\\hydrus\\lib\\site-packages\\pandas\\core\\series.py\u001b[0m in \u001b[0;36m_get_value\u001b[1;34m(self, label, takeable)\u001b[0m\n\u001b[0;32m   1049\u001b[0m \u001b[1;33m\u001b[0m\u001b[0m\n\u001b[0;32m   1050\u001b[0m         \u001b[1;31m# Similar to Index.get_value, but we do not fall back to positional\u001b[0m\u001b[1;33m\u001b[0m\u001b[1;33m\u001b[0m\u001b[1;33m\u001b[0m\u001b[0m\n\u001b[1;32m-> 1051\u001b[1;33m         \u001b[0mloc\u001b[0m \u001b[1;33m=\u001b[0m \u001b[0mself\u001b[0m\u001b[1;33m.\u001b[0m\u001b[0mindex\u001b[0m\u001b[1;33m.\u001b[0m\u001b[0mget_loc\u001b[0m\u001b[1;33m(\u001b[0m\u001b[0mlabel\u001b[0m\u001b[1;33m)\u001b[0m\u001b[1;33m\u001b[0m\u001b[1;33m\u001b[0m\u001b[0m\n\u001b[0m\u001b[0;32m   1052\u001b[0m         \u001b[1;32mreturn\u001b[0m \u001b[0mself\u001b[0m\u001b[1;33m.\u001b[0m\u001b[0mindex\u001b[0m\u001b[1;33m.\u001b[0m\u001b[0m_get_values_for_loc\u001b[0m\u001b[1;33m(\u001b[0m\u001b[0mself\u001b[0m\u001b[1;33m,\u001b[0m \u001b[0mloc\u001b[0m\u001b[1;33m,\u001b[0m \u001b[0mlabel\u001b[0m\u001b[1;33m)\u001b[0m\u001b[1;33m\u001b[0m\u001b[1;33m\u001b[0m\u001b[0m\n\u001b[0;32m   1053\u001b[0m \u001b[1;33m\u001b[0m\u001b[0m\n",
      "\u001b[1;32m~\\miniconda3\\envs\\hydrus\\lib\\site-packages\\pandas\\core\\indexes\\base.py\u001b[0m in \u001b[0;36mget_loc\u001b[1;34m(self, key, method, tolerance)\u001b[0m\n\u001b[0;32m   3361\u001b[0m                 \u001b[1;32mreturn\u001b[0m \u001b[0mself\u001b[0m\u001b[1;33m.\u001b[0m\u001b[0m_engine\u001b[0m\u001b[1;33m.\u001b[0m\u001b[0mget_loc\u001b[0m\u001b[1;33m(\u001b[0m\u001b[0mcasted_key\u001b[0m\u001b[1;33m)\u001b[0m\u001b[1;33m\u001b[0m\u001b[1;33m\u001b[0m\u001b[0m\n\u001b[0;32m   3362\u001b[0m             \u001b[1;32mexcept\u001b[0m \u001b[0mKeyError\u001b[0m \u001b[1;32mas\u001b[0m \u001b[0merr\u001b[0m\u001b[1;33m:\u001b[0m\u001b[1;33m\u001b[0m\u001b[1;33m\u001b[0m\u001b[0m\n\u001b[1;32m-> 3363\u001b[1;33m                 \u001b[1;32mraise\u001b[0m \u001b[0mKeyError\u001b[0m\u001b[1;33m(\u001b[0m\u001b[0mkey\u001b[0m\u001b[1;33m)\u001b[0m \u001b[1;32mfrom\u001b[0m \u001b[0merr\u001b[0m\u001b[1;33m\u001b[0m\u001b[1;33m\u001b[0m\u001b[0m\n\u001b[0m\u001b[0;32m   3364\u001b[0m \u001b[1;33m\u001b[0m\u001b[0m\n\u001b[0;32m   3365\u001b[0m         \u001b[1;32mif\u001b[0m \u001b[0mis_scalar\u001b[0m\u001b[1;33m(\u001b[0m\u001b[0mkey\u001b[0m\u001b[1;33m)\u001b[0m \u001b[1;32mand\u001b[0m \u001b[0misna\u001b[0m\u001b[1;33m(\u001b[0m\u001b[0mkey\u001b[0m\u001b[1;33m)\u001b[0m \u001b[1;32mand\u001b[0m \u001b[1;32mnot\u001b[0m \u001b[0mself\u001b[0m\u001b[1;33m.\u001b[0m\u001b[0mhasnans\u001b[0m\u001b[1;33m:\u001b[0m\u001b[1;33m\u001b[0m\u001b[1;33m\u001b[0m\u001b[0m\n",
      "\u001b[1;31mKeyError\u001b[0m: False"
     ]
    }
   ],
   "source": [
    "s1= pd.Series(['a', 'bv', \"b\", \"d\"], index=['A', 'B', 'C', 'D'])\n",
    "s1[\"b\" in s1].index.tolist()\n",
    "# 或者\n",
    "# s1[s1.find('b')].index.tolist()"
   ]
  },
  {
   "cell_type": "markdown",
   "metadata": {},
   "source": [
    "这时候需要使用apply函数遍历作用各项"
   ]
  },
  {
   "cell_type": "code",
   "execution_count": 77,
   "metadata": {},
   "outputs": [
    {
     "data": {
      "text/plain": [
       "['B', 'C']"
      ]
     },
     "execution_count": 77,
     "metadata": {},
     "output_type": "execute_result"
    }
   ],
   "source": [
    "include_b = s1.apply(lambda x:\"b\" in x)\n",
    "s1[include_b==True].index.tolist()"
   ]
  },
  {
   "cell_type": "code",
   "execution_count": 78,
   "metadata": {},
   "outputs": [
    {
     "name": "stdout",
     "output_type": "stream",
     "text": [
      "    w   x   y   z\n",
      "a   0   1   2   3\n",
      "b   4   5   6   7\n",
      "c   8   9  10  11\n",
      "d  12  13  14  15\n",
      "选择表格中的'w'列，使用类字典属性,返回的是Series类型: a     0\n",
      "b     4\n",
      "c     8\n",
      "d    12\n",
      "Name: w, dtype: int32\n",
      "选择表格中的'w'列，使用点属性,返回的是Series类型: a     0\n",
      "b     4\n",
      "c     8\n",
      "d    12\n",
      "Name: w, dtype: int32\n",
      "选择表格中的'w'列，返回的是DataFrame属性:     w\n",
      "a   0\n",
      "b   4\n",
      "c   8\n",
      "d  12\n",
      "选择表格中的'w'、'z'列:     w   z\n",
      "a   0   3\n",
      "b   4   7\n",
      "c   8  11\n",
      "d  12  15\n",
      "返回第1行到第2行的所有行，前闭后开，包括前不包括后:    w  x  y  z\n",
      "a  0  1  2  3\n",
      "b  4  5  6  7\n",
      " #返回第2行，从0计，返回的是单行，通过有前后值的索引形式:    w  x  y  z\n",
      "b  4  5  6  7\n",
      "#返回第2行的第三种方法，返回的是DataFrame，跟data[1:2]同:    w  x  y  z\n",
      "b  4  5  6  7\n",
      " #利用index值进行切片，返回的是**前闭后闭**的DataFrame:    w  x  y  z\n",
      "a  0  1  2  3\n",
      "b  4  5  6  7\n",
      "#返回data的前几行数据，默认为前五行，需要前十行则dta.head(10):     w   x   y   z\n",
      "a   0   1   2   3\n",
      "b   4   5   6   7\n",
      "c   8   9  10  11\n",
      "d  12  13  14  15\n",
      "#返回data的后几行数据，默认为后五行，需要后十行则data.tail(10):     w   x   y   z\n",
      "a   0   1   2   3\n",
      "b   4   5   6   7\n",
      "c   8   9  10  11\n",
      "d  12  13  14  15\n",
      "#选取DataFrame最后一行，返回的是Series: w    12\n",
      "x    13\n",
      "y    14\n",
      "z    15\n",
      "Name: d, dtype: int32\n",
      "#选取DataFrame最后一行，返回的是DataFrame:     w   x   y   z\n",
      "d  12  13  14  15\n",
      "#返回‘a’行'w'、'x'列，这种用于选取行索引列索引已知 w    0\n",
      "x    1\n",
      "Name: a, dtype: int32\n",
      "#选取第二行第二列，用于已知行、列位置的选取: 5\n"
     ]
    }
   ],
   "source": [
    "data = pd.DataFrame(np.arange(16).reshape(4,4),index=list('abcd'),columns=list('wxyz'))\n",
    "print(data)\n",
    "print(\"选择表格中的'w'列，使用类字典属性,返回的是Series类型:\", data['w'])\n",
    "\n",
    "print(\"选择表格中的'w'列，使用点属性,返回的是Series类型:\",data.w)\n",
    "\n",
    "print(\"选择表格中的'w'列，返回的是DataFrame属性:\",data[['w']])\n",
    "\n",
    "print(\"选择表格中的'w'、'z'列:\",data[['w','z']])  \n",
    "\n",
    "print(\"返回第1行到第2行的所有行，前闭后开，包括前不包括后:\",data[0:2])\n",
    "\n",
    "print(\" #返回第2行，从0计，返回的是单行，通过有前后值的索引形式:\",data[1:2]) \n",
    "       #如果采用data[1]则报错\n",
    "\n",
    "print(\"#返回第2行的第三种方法，返回的是DataFrame，跟data[1:2]同:\",data.iloc[1:2]) \n",
    "\n",
    "print(\" #利用index值进行切片，返回的是**前闭后闭**的DataFrame:\",data['a':'b']) \n",
    "\n",
    "print(\"#返回data的前几行数据，默认为前五行，需要前十行则dta.head(10):\",data.head())  \n",
    "print(\"#返回data的后几行数据，默认为后五行，需要后十行则data.tail(10):\",data.tail())  \n",
    "\n",
    "\n",
    "print(\"#选取DataFrame最后一行，返回的是Series:\",data.iloc[-1])   \n",
    "print(\"#选取DataFrame最后一行，返回的是DataFrame:\",data.iloc[-1:])  \n",
    "\n",
    "print(\"#返回‘a’行'w'、'x'列，这种用于选取行索引列索引已知\",data.loc['a',['w','x']])   \n",
    "\n",
    "print(\"#选取第二行第二列，用于已知行、列位置的选取:\",data.iat[1,1])   "
   ]
  },
  {
   "cell_type": "markdown",
   "metadata": {},
   "source": [
    "查看Dataframe各行信息："
   ]
  },
  {
   "cell_type": "code",
   "execution_count": 79,
   "metadata": {},
   "outputs": [
    {
     "name": "stdout",
     "output_type": "stream",
     "text": [
      "Index(['a', 'b', 'c', 'd'], dtype='object')\n"
     ]
    },
    {
     "data": {
      "text/plain": [
       "['a', 'b', 'c', 'd']"
      ]
     },
     "execution_count": 79,
     "metadata": {},
     "output_type": "execute_result"
    }
   ],
   "source": [
    "print(data.index)\n",
    "data.index.tolist()"
   ]
  },
  {
   "cell_type": "markdown",
   "metadata": {},
   "source": [
    "查看Dataframe各列信息："
   ]
  },
  {
   "cell_type": "code",
   "execution_count": 80,
   "metadata": {},
   "outputs": [
    {
     "name": "stdout",
     "output_type": "stream",
     "text": [
      "<class 'pandas.core.indexes.base.Index'>\n"
     ]
    },
    {
     "data": {
      "text/plain": [
       "['w', 'x', 'y', 'z']"
      ]
     },
     "execution_count": 80,
     "metadata": {},
     "output_type": "execute_result"
    }
   ],
   "source": [
    "print(type(data.columns))\n",
    "data.columns.tolist()"
   ]
  },
  {
   "cell_type": "markdown",
   "metadata": {},
   "source": [
    "如果某列用字符串索引，行用数字索引，那么需要这样做："
   ]
  },
  {
   "cell_type": "code",
   "execution_count": 81,
   "metadata": {},
   "outputs": [
    {
     "name": "stdout",
     "output_type": "stream",
     "text": [
      "    w   x   y   z\n",
      "a   0   1   2   3\n",
      "b   4   5   6   7\n",
      "c   8   9  10  11\n",
      "d  12  13  14  15\n"
     ]
    },
    {
     "data": {
      "text/plain": [
       "1"
      ]
     },
     "execution_count": 81,
     "metadata": {},
     "output_type": "execute_result"
    }
   ],
   "source": [
    "data = pd.DataFrame(np.arange(16).reshape(4,4),index=list('abcd'),columns=list('wxyz'))\n",
    "print(data)\n",
    "data['x'][0]"
   ]
  },
  {
   "cell_type": "code",
   "execution_count": 82,
   "metadata": {},
   "outputs": [
    {
     "name": "stdout",
     "output_type": "stream",
     "text": [
      "  new2 new1 new3 new4\n",
      "4   B4   A4   C4   D4\n",
      "5   B5   A5   C5   D5\n",
      "  new2 new1\n",
      "4   B4   A4\n",
      "5   B5   A5\n",
      "6   B6   A6\n",
      "7   B7   A7\n",
      "  new2 new1\n",
      "4   B4   A4\n",
      "5   B5   A5\n"
     ]
    }
   ],
   "source": [
    "\"\"\"取dataframe指定多行列 slice操作\"\"\"\n",
    "# 取多行\n",
    "print(df2.iloc[0:2])\n",
    "# 取多列\n",
    "print(df2.iloc[:, 0:2])\n",
    "# 取多行多列\n",
    "print(df2.iloc[0:2, 0:2])"
   ]
  },
  {
   "cell_type": "markdown",
   "metadata": {},
   "source": [
    "series的slice"
   ]
  },
  {
   "cell_type": "code",
   "execution_count": 83,
   "metadata": {},
   "outputs": [
    {
     "name": "stdout",
     "output_type": "stream",
     "text": [
      "------------------Series查询操作----------------------\n",
      "1\n",
      "a    1\n",
      "b    2\n",
      "dtype: int64\n",
      "c    3\n",
      "d    4\n",
      "dtype: int64\n",
      "a    1\n",
      "b    2\n",
      "dtype: int64\n",
      "a    1\n",
      "b    2\n",
      "c    3\n",
      "dtype: int64\n"
     ]
    }
   ],
   "source": [
    "\"\"\"给Series作slice操作\"\"\"\n",
    "arr = [1, 2, 3, 4]  # 创建数组\n",
    "series_1 = pd.Series(arr)\n",
    "series_1.index = ['a', 'b', 'c', 'd']\n",
    "print(\"------------------Series查询操作----------------------\")\n",
    "print(series_1['a'])\n",
    "print(series_1[['a', 'b']])\n",
    "print(series_1[series_1 > 2])\n",
    "print(series_1[:2])\n",
    "print(series_1['a':'c'])"
   ]
  },
  {
   "cell_type": "markdown",
   "metadata": {},
   "source": [
    "在dataframe中还常用到条件筛选。参考[30分钟带你入门数据分析工具 Pandas（上篇），果断收藏](https://zhuanlan.zhihu.com/p/44174554)，用中括号 [] 的方式，除了直接指定选中某些列外，还能接收一个条件语句，然后筛选出符合条件的行/列。比如："
   ]
  },
  {
   "cell_type": "code",
   "execution_count": 84,
   "metadata": {},
   "outputs": [
    {
     "name": "stdout",
     "output_type": "stream",
     "text": [
      "          W         X         Y         Z\n",
      "A  1.444328 -1.473487 -1.659399  0.298594\n",
      "B  0.530866  0.566232  0.987480 -0.931774\n",
      "C  0.143968  0.958281  0.786524 -0.032190\n",
      "D  0.620018 -0.192263 -0.175855 -1.118276\n",
      "E -0.180265  0.438621  2.173577 -2.866212\n",
      "          W         X         Y         Z\n",
      "A  1.444328 -1.473487 -1.659399  0.298594\n",
      "B  0.530866  0.566232  0.987480 -0.931774\n",
      "C  0.143968  0.958281  0.786524 -0.032190\n",
      "D  0.620018 -0.192263 -0.175855 -1.118276\n",
      "\n",
      "\n",
      "A   -1.473487\n",
      "B    0.566232\n",
      "C    0.958281\n",
      "D   -0.192263\n",
      "Name: X, dtype: float64\n",
      "\n",
      "\n",
      "          X         Y\n",
      "A -1.473487 -1.659399\n",
      "B  0.566232  0.987480\n",
      "C  0.958281  0.786524\n",
      "D -0.192263 -0.175855\n"
     ]
    }
   ],
   "source": [
    "import pandas as pd\n",
    "import numpy as np\n",
    "df=pd.DataFrame(np.random.randn(5,4),['A','B','C','D','E'],['W','X','Y','Z'])\n",
    "print(df)\n",
    "# 筛选出 'W'>0 的行\n",
    "print(df[df['W']>0])\n",
    "print('\\n')\n",
    "# 只看 'X' 列中 'W'>0 的数据\n",
    "print(df[df['W']>0]['X'])\n",
    "print('\\n')\n",
    "print(df[df['W']>0][['X','Y']])"
   ]
  },
  {
   "cell_type": "markdown",
   "metadata": {},
   "source": [
    "如果想要给符合条件的某些行的某列赋值，可以使用如下形式，顺便再理解下loc，loc的参数一个表示行索引，一个表示列索引。这是一个inplace的操作："
   ]
  },
  {
   "cell_type": "code",
   "execution_count": 85,
   "metadata": {},
   "outputs": [
    {
     "data": {
      "text/html": [
       "<div>\n",
       "<style scoped>\n",
       "    .dataframe tbody tr th:only-of-type {\n",
       "        vertical-align: middle;\n",
       "    }\n",
       "\n",
       "    .dataframe tbody tr th {\n",
       "        vertical-align: top;\n",
       "    }\n",
       "\n",
       "    .dataframe thead th {\n",
       "        text-align: right;\n",
       "    }\n",
       "</style>\n",
       "<table border=\"1\" class=\"dataframe\">\n",
       "  <thead>\n",
       "    <tr style=\"text-align: right;\">\n",
       "      <th></th>\n",
       "      <th>W</th>\n",
       "      <th>X</th>\n",
       "      <th>Y</th>\n",
       "      <th>Z</th>\n",
       "    </tr>\n",
       "  </thead>\n",
       "  <tbody>\n",
       "    <tr>\n",
       "      <th>A</th>\n",
       "      <td>1.000000</td>\n",
       "      <td>-1.473487</td>\n",
       "      <td>-1.659399</td>\n",
       "      <td>0.298594</td>\n",
       "    </tr>\n",
       "    <tr>\n",
       "      <th>B</th>\n",
       "      <td>1.000000</td>\n",
       "      <td>0.566232</td>\n",
       "      <td>0.987480</td>\n",
       "      <td>-0.931774</td>\n",
       "    </tr>\n",
       "    <tr>\n",
       "      <th>C</th>\n",
       "      <td>1.000000</td>\n",
       "      <td>0.958281</td>\n",
       "      <td>0.786524</td>\n",
       "      <td>-0.032190</td>\n",
       "    </tr>\n",
       "    <tr>\n",
       "      <th>D</th>\n",
       "      <td>1.000000</td>\n",
       "      <td>-0.192263</td>\n",
       "      <td>-0.175855</td>\n",
       "      <td>-1.118276</td>\n",
       "    </tr>\n",
       "    <tr>\n",
       "      <th>E</th>\n",
       "      <td>-0.180265</td>\n",
       "      <td>0.438621</td>\n",
       "      <td>2.173577</td>\n",
       "      <td>-2.866212</td>\n",
       "    </tr>\n",
       "  </tbody>\n",
       "</table>\n",
       "</div>"
      ],
      "text/plain": [
       "          W         X         Y         Z\n",
       "A  1.000000 -1.473487 -1.659399  0.298594\n",
       "B  1.000000  0.566232  0.987480 -0.931774\n",
       "C  1.000000  0.958281  0.786524 -0.032190\n",
       "D  1.000000 -0.192263 -0.175855 -1.118276\n",
       "E -0.180265  0.438621  2.173577 -2.866212"
      ]
     },
     "execution_count": 85,
     "metadata": {},
     "output_type": "execute_result"
    }
   ],
   "source": [
    "df.loc[df['W']>0, 'W'] = 1\n",
    "df"
   ]
  },
  {
   "cell_type": "markdown",
   "metadata": {},
   "source": [
    "还可以用逻辑运算符 &（与）和 |（或）来链接多个条件语句，以便一次应用多个筛选条件到当前的 DataFrame 上，比如筛选出同时满足 'W'>0 和'X'>1 的行："
   ]
  },
  {
   "cell_type": "code",
   "execution_count": 86,
   "metadata": {},
   "outputs": [
    {
     "data": {
      "text/html": [
       "<div>\n",
       "<style scoped>\n",
       "    .dataframe tbody tr th:only-of-type {\n",
       "        vertical-align: middle;\n",
       "    }\n",
       "\n",
       "    .dataframe tbody tr th {\n",
       "        vertical-align: top;\n",
       "    }\n",
       "\n",
       "    .dataframe thead th {\n",
       "        text-align: right;\n",
       "    }\n",
       "</style>\n",
       "<table border=\"1\" class=\"dataframe\">\n",
       "  <thead>\n",
       "    <tr style=\"text-align: right;\">\n",
       "      <th></th>\n",
       "      <th>W</th>\n",
       "      <th>X</th>\n",
       "      <th>Y</th>\n",
       "      <th>Z</th>\n",
       "    </tr>\n",
       "  </thead>\n",
       "  <tbody>\n",
       "    <tr>\n",
       "      <th>A</th>\n",
       "      <td>1.0</td>\n",
       "      <td>-1.473487</td>\n",
       "      <td>-1.659399</td>\n",
       "      <td>0.298594</td>\n",
       "    </tr>\n",
       "    <tr>\n",
       "      <th>B</th>\n",
       "      <td>1.0</td>\n",
       "      <td>0.566232</td>\n",
       "      <td>0.987480</td>\n",
       "      <td>-0.931774</td>\n",
       "    </tr>\n",
       "    <tr>\n",
       "      <th>C</th>\n",
       "      <td>1.0</td>\n",
       "      <td>0.958281</td>\n",
       "      <td>0.786524</td>\n",
       "      <td>-0.032190</td>\n",
       "    </tr>\n",
       "    <tr>\n",
       "      <th>D</th>\n",
       "      <td>1.0</td>\n",
       "      <td>-0.192263</td>\n",
       "      <td>-0.175855</td>\n",
       "      <td>-1.118276</td>\n",
       "    </tr>\n",
       "  </tbody>\n",
       "</table>\n",
       "</div>"
      ],
      "text/plain": [
       "     W         X         Y         Z\n",
       "A  1.0 -1.473487 -1.659399  0.298594\n",
       "B  1.0  0.566232  0.987480 -0.931774\n",
       "C  1.0  0.958281  0.786524 -0.032190\n",
       "D  1.0 -0.192263 -0.175855 -1.118276"
      ]
     },
     "execution_count": 86,
     "metadata": {},
     "output_type": "execute_result"
    }
   ],
   "source": [
    "df[(df['W']>0) & (df['X']<1)]"
   ]
  },
  {
   "cell_type": "markdown",
   "metadata": {},
   "source": [
    "如果想要获取符合条件的行的索引也很简单，如下所示："
   ]
  },
  {
   "cell_type": "code",
   "execution_count": 87,
   "metadata": {},
   "outputs": [
    {
     "data": {
      "text/plain": [
       "['A', 'B', 'C', 'D']"
      ]
     },
     "execution_count": 87,
     "metadata": {},
     "output_type": "execute_result"
    }
   ],
   "source": [
    "df[(df['W']>0) & (df['X']<1)].index.tolist()"
   ]
  },
  {
   "cell_type": "markdown",
   "metadata": {},
   "source": [
    "再比如，还可以让列之间进行比较并作为索引条件"
   ]
  },
  {
   "cell_type": "code",
   "execution_count": 88,
   "metadata": {},
   "outputs": [
    {
     "data": {
      "text/html": [
       "<div>\n",
       "<style scoped>\n",
       "    .dataframe tbody tr th:only-of-type {\n",
       "        vertical-align: middle;\n",
       "    }\n",
       "\n",
       "    .dataframe tbody tr th {\n",
       "        vertical-align: top;\n",
       "    }\n",
       "\n",
       "    .dataframe thead th {\n",
       "        text-align: right;\n",
       "    }\n",
       "</style>\n",
       "<table border=\"1\" class=\"dataframe\">\n",
       "  <thead>\n",
       "    <tr style=\"text-align: right;\">\n",
       "      <th></th>\n",
       "      <th>W</th>\n",
       "      <th>X</th>\n",
       "      <th>Y</th>\n",
       "      <th>Z</th>\n",
       "    </tr>\n",
       "  </thead>\n",
       "  <tbody>\n",
       "    <tr>\n",
       "      <th>A</th>\n",
       "      <td>1.000000</td>\n",
       "      <td>-1.473487</td>\n",
       "      <td>-1.659399</td>\n",
       "      <td>0.298594</td>\n",
       "    </tr>\n",
       "    <tr>\n",
       "      <th>B</th>\n",
       "      <td>1.000000</td>\n",
       "      <td>0.566232</td>\n",
       "      <td>0.987480</td>\n",
       "      <td>-0.931774</td>\n",
       "    </tr>\n",
       "    <tr>\n",
       "      <th>C</th>\n",
       "      <td>1.000000</td>\n",
       "      <td>0.958281</td>\n",
       "      <td>0.786524</td>\n",
       "      <td>-0.032190</td>\n",
       "    </tr>\n",
       "    <tr>\n",
       "      <th>D</th>\n",
       "      <td>1.000000</td>\n",
       "      <td>-0.192263</td>\n",
       "      <td>-0.175855</td>\n",
       "      <td>-1.118276</td>\n",
       "    </tr>\n",
       "    <tr>\n",
       "      <th>E</th>\n",
       "      <td>-0.180265</td>\n",
       "      <td>0.438621</td>\n",
       "      <td>2.173577</td>\n",
       "      <td>-2.866212</td>\n",
       "    </tr>\n",
       "  </tbody>\n",
       "</table>\n",
       "</div>"
      ],
      "text/plain": [
       "          W         X         Y         Z\n",
       "A  1.000000 -1.473487 -1.659399  0.298594\n",
       "B  1.000000  0.566232  0.987480 -0.931774\n",
       "C  1.000000  0.958281  0.786524 -0.032190\n",
       "D  1.000000 -0.192263 -0.175855 -1.118276\n",
       "E -0.180265  0.438621  2.173577 -2.866212"
      ]
     },
     "execution_count": 88,
     "metadata": {},
     "output_type": "execute_result"
    }
   ],
   "source": [
    "df"
   ]
  },
  {
   "cell_type": "code",
   "execution_count": 89,
   "metadata": {},
   "outputs": [
    {
     "data": {
      "text/html": [
       "<div>\n",
       "<style scoped>\n",
       "    .dataframe tbody tr th:only-of-type {\n",
       "        vertical-align: middle;\n",
       "    }\n",
       "\n",
       "    .dataframe tbody tr th {\n",
       "        vertical-align: top;\n",
       "    }\n",
       "\n",
       "    .dataframe thead th {\n",
       "        text-align: right;\n",
       "    }\n",
       "</style>\n",
       "<table border=\"1\" class=\"dataframe\">\n",
       "  <thead>\n",
       "    <tr style=\"text-align: right;\">\n",
       "      <th></th>\n",
       "      <th>W</th>\n",
       "      <th>X</th>\n",
       "      <th>Y</th>\n",
       "      <th>Z</th>\n",
       "    </tr>\n",
       "  </thead>\n",
       "  <tbody>\n",
       "    <tr>\n",
       "      <th>E</th>\n",
       "      <td>-0.180265</td>\n",
       "      <td>0.438621</td>\n",
       "      <td>2.173577</td>\n",
       "      <td>-2.866212</td>\n",
       "    </tr>\n",
       "  </tbody>\n",
       "</table>\n",
       "</div>"
      ],
      "text/plain": [
       "          W         X         Y         Z\n",
       "E -0.180265  0.438621  2.173577 -2.866212"
      ]
     },
     "execution_count": 89,
     "metadata": {},
     "output_type": "execute_result"
    }
   ],
   "source": [
    "df[df['W']<df['X']]"
   ]
  },
  {
   "cell_type": "markdown",
   "metadata": {},
   "source": [
    "有一种常见的索引形式，即选出Dataframe中某一列在一个list中的那些项："
   ]
  },
  {
   "cell_type": "code",
   "execution_count": 90,
   "metadata": {},
   "outputs": [
    {
     "data": {
      "text/html": [
       "<div>\n",
       "<style scoped>\n",
       "    .dataframe tbody tr th:only-of-type {\n",
       "        vertical-align: middle;\n",
       "    }\n",
       "\n",
       "    .dataframe tbody tr th {\n",
       "        vertical-align: top;\n",
       "    }\n",
       "\n",
       "    .dataframe thead th {\n",
       "        text-align: right;\n",
       "    }\n",
       "</style>\n",
       "<table border=\"1\" class=\"dataframe\">\n",
       "  <thead>\n",
       "    <tr style=\"text-align: right;\">\n",
       "      <th></th>\n",
       "      <th>A</th>\n",
       "      <th>B</th>\n",
       "    </tr>\n",
       "  </thead>\n",
       "  <tbody>\n",
       "    <tr>\n",
       "      <th>0</th>\n",
       "      <td>5</td>\n",
       "      <td>1</td>\n",
       "    </tr>\n",
       "    <tr>\n",
       "      <th>1</th>\n",
       "      <td>6</td>\n",
       "      <td>2</td>\n",
       "    </tr>\n",
       "    <tr>\n",
       "      <th>2</th>\n",
       "      <td>3</td>\n",
       "      <td>3</td>\n",
       "    </tr>\n",
       "    <tr>\n",
       "      <th>3</th>\n",
       "      <td>4</td>\n",
       "      <td>5</td>\n",
       "    </tr>\n",
       "  </tbody>\n",
       "</table>\n",
       "</div>"
      ],
      "text/plain": [
       "   A  B\n",
       "0  5  1\n",
       "1  6  2\n",
       "2  3  3\n",
       "3  4  5"
      ]
     },
     "execution_count": 90,
     "metadata": {},
     "output_type": "execute_result"
    }
   ],
   "source": [
    "import pandas as pd\n",
    "\n",
    "df = pd.DataFrame({'A': [5,6,3,4], 'B': [1,2,3,5]})\n",
    "df"
   ]
  },
  {
   "cell_type": "code",
   "execution_count": 91,
   "metadata": {},
   "outputs": [
    {
     "data": {
      "text/html": [
       "<div>\n",
       "<style scoped>\n",
       "    .dataframe tbody tr th:only-of-type {\n",
       "        vertical-align: middle;\n",
       "    }\n",
       "\n",
       "    .dataframe tbody tr th {\n",
       "        vertical-align: top;\n",
       "    }\n",
       "\n",
       "    .dataframe thead th {\n",
       "        text-align: right;\n",
       "    }\n",
       "</style>\n",
       "<table border=\"1\" class=\"dataframe\">\n",
       "  <thead>\n",
       "    <tr style=\"text-align: right;\">\n",
       "      <th></th>\n",
       "      <th>A</th>\n",
       "      <th>B</th>\n",
       "    </tr>\n",
       "  </thead>\n",
       "  <tbody>\n",
       "    <tr>\n",
       "      <th>1</th>\n",
       "      <td>6</td>\n",
       "      <td>2</td>\n",
       "    </tr>\n",
       "    <tr>\n",
       "      <th>2</th>\n",
       "      <td>3</td>\n",
       "      <td>3</td>\n",
       "    </tr>\n",
       "  </tbody>\n",
       "</table>\n",
       "</div>"
      ],
      "text/plain": [
       "   A  B\n",
       "1  6  2\n",
       "2  3  3"
      ]
     },
     "execution_count": 91,
     "metadata": {},
     "output_type": "execute_result"
    }
   ],
   "source": [
    "df[df['A'].isin([3, 6])]"
   ]
  },
  {
   "cell_type": "markdown",
   "metadata": {},
   "source": [
    "如果想要不在某个list中的项："
   ]
  },
  {
   "cell_type": "code",
   "execution_count": 92,
   "metadata": {},
   "outputs": [
    {
     "data": {
      "text/html": [
       "<div>\n",
       "<style scoped>\n",
       "    .dataframe tbody tr th:only-of-type {\n",
       "        vertical-align: middle;\n",
       "    }\n",
       "\n",
       "    .dataframe tbody tr th {\n",
       "        vertical-align: top;\n",
       "    }\n",
       "\n",
       "    .dataframe thead th {\n",
       "        text-align: right;\n",
       "    }\n",
       "</style>\n",
       "<table border=\"1\" class=\"dataframe\">\n",
       "  <thead>\n",
       "    <tr style=\"text-align: right;\">\n",
       "      <th></th>\n",
       "      <th>A</th>\n",
       "      <th>B</th>\n",
       "    </tr>\n",
       "  </thead>\n",
       "  <tbody>\n",
       "    <tr>\n",
       "      <th>0</th>\n",
       "      <td>5</td>\n",
       "      <td>1</td>\n",
       "    </tr>\n",
       "    <tr>\n",
       "      <th>3</th>\n",
       "      <td>4</td>\n",
       "      <td>5</td>\n",
       "    </tr>\n",
       "  </tbody>\n",
       "</table>\n",
       "</div>"
      ],
      "text/plain": [
       "   A  B\n",
       "0  5  1\n",
       "3  4  5"
      ]
     },
     "execution_count": 92,
     "metadata": {},
     "output_type": "execute_result"
    }
   ],
   "source": [
    "df[~df['A'].isin([3, 6])]"
   ]
  },
  {
   "cell_type": "markdown",
   "metadata": {},
   "source": [
    "使用pandas的loc时要注意，当有missing labels，在pandas 1.0版本之后是会报错的，更推荐的做法是使用reindex()"
   ]
  },
  {
   "cell_type": "code",
   "execution_count": 93,
   "metadata": {},
   "outputs": [
    {
     "data": {
      "text/plain": [
       "1    2\n",
       "2    3\n",
       "dtype: int64"
      ]
     },
     "execution_count": 93,
     "metadata": {},
     "output_type": "execute_result"
    }
   ],
   "source": [
    "import pandas as pd\n",
    "s = pd.Series([1, 2, 3])\n",
    "s.loc[[1, 2]]"
   ]
  },
  {
   "cell_type": "code",
   "execution_count": 94,
   "metadata": {},
   "outputs": [
    {
     "ename": "KeyError",
     "evalue": "'[3] not in index'",
     "output_type": "error",
     "traceback": [
      "\u001b[1;31m---------------------------------------------------------------------------\u001b[0m",
      "\u001b[1;31mKeyError\u001b[0m                                  Traceback (most recent call last)",
      "\u001b[1;32m~\\AppData\\Local\\Temp/ipykernel_6076/39620665.py\u001b[0m in \u001b[0;36m<module>\u001b[1;34m\u001b[0m\n\u001b[1;32m----> 1\u001b[1;33m \u001b[0ms\u001b[0m\u001b[1;33m.\u001b[0m\u001b[0mloc\u001b[0m\u001b[1;33m[\u001b[0m\u001b[1;33m[\u001b[0m\u001b[1;36m1\u001b[0m\u001b[1;33m,\u001b[0m \u001b[1;36m2\u001b[0m\u001b[1;33m,\u001b[0m \u001b[1;36m3\u001b[0m\u001b[1;33m]\u001b[0m\u001b[1;33m]\u001b[0m \u001b[1;31m# missing value使用loc会报错\u001b[0m\u001b[1;33m\u001b[0m\u001b[1;33m\u001b[0m\u001b[0m\n\u001b[0m",
      "\u001b[1;32m~\\miniconda3\\envs\\hydrus\\lib\\site-packages\\pandas\\core\\indexing.py\u001b[0m in \u001b[0;36m__getitem__\u001b[1;34m(self, key)\u001b[0m\n\u001b[0;32m    929\u001b[0m \u001b[1;33m\u001b[0m\u001b[0m\n\u001b[0;32m    930\u001b[0m             \u001b[0mmaybe_callable\u001b[0m \u001b[1;33m=\u001b[0m \u001b[0mcom\u001b[0m\u001b[1;33m.\u001b[0m\u001b[0mapply_if_callable\u001b[0m\u001b[1;33m(\u001b[0m\u001b[0mkey\u001b[0m\u001b[1;33m,\u001b[0m \u001b[0mself\u001b[0m\u001b[1;33m.\u001b[0m\u001b[0mobj\u001b[0m\u001b[1;33m)\u001b[0m\u001b[1;33m\u001b[0m\u001b[1;33m\u001b[0m\u001b[0m\n\u001b[1;32m--> 931\u001b[1;33m             \u001b[1;32mreturn\u001b[0m \u001b[0mself\u001b[0m\u001b[1;33m.\u001b[0m\u001b[0m_getitem_axis\u001b[0m\u001b[1;33m(\u001b[0m\u001b[0mmaybe_callable\u001b[0m\u001b[1;33m,\u001b[0m \u001b[0maxis\u001b[0m\u001b[1;33m=\u001b[0m\u001b[0maxis\u001b[0m\u001b[1;33m)\u001b[0m\u001b[1;33m\u001b[0m\u001b[1;33m\u001b[0m\u001b[0m\n\u001b[0m\u001b[0;32m    932\u001b[0m \u001b[1;33m\u001b[0m\u001b[0m\n\u001b[0;32m    933\u001b[0m     \u001b[1;32mdef\u001b[0m \u001b[0m_is_scalar_access\u001b[0m\u001b[1;33m(\u001b[0m\u001b[0mself\u001b[0m\u001b[1;33m,\u001b[0m \u001b[0mkey\u001b[0m\u001b[1;33m:\u001b[0m \u001b[0mtuple\u001b[0m\u001b[1;33m)\u001b[0m\u001b[1;33m:\u001b[0m\u001b[1;33m\u001b[0m\u001b[1;33m\u001b[0m\u001b[0m\n",
      "\u001b[1;32m~\\miniconda3\\envs\\hydrus\\lib\\site-packages\\pandas\\core\\indexing.py\u001b[0m in \u001b[0;36m_getitem_axis\u001b[1;34m(self, key, axis)\u001b[0m\n\u001b[0;32m   1151\u001b[0m                     \u001b[1;32mraise\u001b[0m \u001b[0mValueError\u001b[0m\u001b[1;33m(\u001b[0m\u001b[1;34m\"Cannot index with multidimensional key\"\u001b[0m\u001b[1;33m)\u001b[0m\u001b[1;33m\u001b[0m\u001b[1;33m\u001b[0m\u001b[0m\n\u001b[0;32m   1152\u001b[0m \u001b[1;33m\u001b[0m\u001b[0m\n\u001b[1;32m-> 1153\u001b[1;33m                 \u001b[1;32mreturn\u001b[0m \u001b[0mself\u001b[0m\u001b[1;33m.\u001b[0m\u001b[0m_getitem_iterable\u001b[0m\u001b[1;33m(\u001b[0m\u001b[0mkey\u001b[0m\u001b[1;33m,\u001b[0m \u001b[0maxis\u001b[0m\u001b[1;33m=\u001b[0m\u001b[0maxis\u001b[0m\u001b[1;33m)\u001b[0m\u001b[1;33m\u001b[0m\u001b[1;33m\u001b[0m\u001b[0m\n\u001b[0m\u001b[0;32m   1154\u001b[0m \u001b[1;33m\u001b[0m\u001b[0m\n\u001b[0;32m   1155\u001b[0m             \u001b[1;31m# nested tuple slicing\u001b[0m\u001b[1;33m\u001b[0m\u001b[1;33m\u001b[0m\u001b[1;33m\u001b[0m\u001b[0m\n",
      "\u001b[1;32m~\\miniconda3\\envs\\hydrus\\lib\\site-packages\\pandas\\core\\indexing.py\u001b[0m in \u001b[0;36m_getitem_iterable\u001b[1;34m(self, key, axis)\u001b[0m\n\u001b[0;32m   1091\u001b[0m \u001b[1;33m\u001b[0m\u001b[0m\n\u001b[0;32m   1092\u001b[0m         \u001b[1;31m# A collection of keys\u001b[0m\u001b[1;33m\u001b[0m\u001b[1;33m\u001b[0m\u001b[1;33m\u001b[0m\u001b[0m\n\u001b[1;32m-> 1093\u001b[1;33m         \u001b[0mkeyarr\u001b[0m\u001b[1;33m,\u001b[0m \u001b[0mindexer\u001b[0m \u001b[1;33m=\u001b[0m \u001b[0mself\u001b[0m\u001b[1;33m.\u001b[0m\u001b[0m_get_listlike_indexer\u001b[0m\u001b[1;33m(\u001b[0m\u001b[0mkey\u001b[0m\u001b[1;33m,\u001b[0m \u001b[0maxis\u001b[0m\u001b[1;33m)\u001b[0m\u001b[1;33m\u001b[0m\u001b[1;33m\u001b[0m\u001b[0m\n\u001b[0m\u001b[0;32m   1094\u001b[0m         return self.obj._reindex_with_indexers(\n\u001b[0;32m   1095\u001b[0m             \u001b[1;33m{\u001b[0m\u001b[0maxis\u001b[0m\u001b[1;33m:\u001b[0m \u001b[1;33m[\u001b[0m\u001b[0mkeyarr\u001b[0m\u001b[1;33m,\u001b[0m \u001b[0mindexer\u001b[0m\u001b[1;33m]\u001b[0m\u001b[1;33m}\u001b[0m\u001b[1;33m,\u001b[0m \u001b[0mcopy\u001b[0m\u001b[1;33m=\u001b[0m\u001b[1;32mTrue\u001b[0m\u001b[1;33m,\u001b[0m \u001b[0mallow_dups\u001b[0m\u001b[1;33m=\u001b[0m\u001b[1;32mTrue\u001b[0m\u001b[1;33m\u001b[0m\u001b[1;33m\u001b[0m\u001b[0m\n",
      "\u001b[1;32m~\\miniconda3\\envs\\hydrus\\lib\\site-packages\\pandas\\core\\indexing.py\u001b[0m in \u001b[0;36m_get_listlike_indexer\u001b[1;34m(self, key, axis)\u001b[0m\n\u001b[0;32m   1312\u001b[0m             \u001b[0mkeyarr\u001b[0m\u001b[1;33m,\u001b[0m \u001b[0mindexer\u001b[0m\u001b[1;33m,\u001b[0m \u001b[0mnew_indexer\u001b[0m \u001b[1;33m=\u001b[0m \u001b[0max\u001b[0m\u001b[1;33m.\u001b[0m\u001b[0m_reindex_non_unique\u001b[0m\u001b[1;33m(\u001b[0m\u001b[0mkeyarr\u001b[0m\u001b[1;33m)\u001b[0m\u001b[1;33m\u001b[0m\u001b[1;33m\u001b[0m\u001b[0m\n\u001b[0;32m   1313\u001b[0m \u001b[1;33m\u001b[0m\u001b[0m\n\u001b[1;32m-> 1314\u001b[1;33m         \u001b[0mself\u001b[0m\u001b[1;33m.\u001b[0m\u001b[0m_validate_read_indexer\u001b[0m\u001b[1;33m(\u001b[0m\u001b[0mkeyarr\u001b[0m\u001b[1;33m,\u001b[0m \u001b[0mindexer\u001b[0m\u001b[1;33m,\u001b[0m \u001b[0maxis\u001b[0m\u001b[1;33m)\u001b[0m\u001b[1;33m\u001b[0m\u001b[1;33m\u001b[0m\u001b[0m\n\u001b[0m\u001b[0;32m   1315\u001b[0m \u001b[1;33m\u001b[0m\u001b[0m\n\u001b[0;32m   1316\u001b[0m         if needs_i8_conversion(ax.dtype) or isinstance(\n",
      "\u001b[1;32m~\\miniconda3\\envs\\hydrus\\lib\\site-packages\\pandas\\core\\indexing.py\u001b[0m in \u001b[0;36m_validate_read_indexer\u001b[1;34m(self, key, indexer, axis)\u001b[0m\n\u001b[0;32m   1375\u001b[0m \u001b[1;33m\u001b[0m\u001b[0m\n\u001b[0;32m   1376\u001b[0m             \u001b[0mnot_found\u001b[0m \u001b[1;33m=\u001b[0m \u001b[0mlist\u001b[0m\u001b[1;33m(\u001b[0m\u001b[0mensure_index\u001b[0m\u001b[1;33m(\u001b[0m\u001b[0mkey\u001b[0m\u001b[1;33m)\u001b[0m\u001b[1;33m[\u001b[0m\u001b[0mmissing_mask\u001b[0m\u001b[1;33m.\u001b[0m\u001b[0mnonzero\u001b[0m\u001b[1;33m(\u001b[0m\u001b[1;33m)\u001b[0m\u001b[1;33m[\u001b[0m\u001b[1;36m0\u001b[0m\u001b[1;33m]\u001b[0m\u001b[1;33m]\u001b[0m\u001b[1;33m.\u001b[0m\u001b[0munique\u001b[0m\u001b[1;33m(\u001b[0m\u001b[1;33m)\u001b[0m\u001b[1;33m)\u001b[0m\u001b[1;33m\u001b[0m\u001b[1;33m\u001b[0m\u001b[0m\n\u001b[1;32m-> 1377\u001b[1;33m             \u001b[1;32mraise\u001b[0m \u001b[0mKeyError\u001b[0m\u001b[1;33m(\u001b[0m\u001b[1;34mf\"{not_found} not in index\"\u001b[0m\u001b[1;33m)\u001b[0m\u001b[1;33m\u001b[0m\u001b[1;33m\u001b[0m\u001b[0m\n\u001b[0m\u001b[0;32m   1378\u001b[0m \u001b[1;33m\u001b[0m\u001b[0m\n\u001b[0;32m   1379\u001b[0m \u001b[1;33m\u001b[0m\u001b[0m\n",
      "\u001b[1;31mKeyError\u001b[0m: '[3] not in index'"
     ]
    }
   ],
   "source": [
    "s.loc[[1, 2, 3]] # missing value使用loc会报错"
   ]
  },
  {
   "cell_type": "markdown",
   "metadata": {},
   "source": [
    "现在看看使用reindex，更多内容可以参考：https://pandas.pydata.org/pandas-docs/stable/user_guide/indexing.html#deprecate-loc-reindex-listlike"
   ]
  },
  {
   "cell_type": "code",
   "execution_count": 95,
   "metadata": {},
   "outputs": [
    {
     "data": {
      "text/plain": [
       "1    2.0\n",
       "2    3.0\n",
       "3    NaN\n",
       "dtype: float64"
      ]
     },
     "execution_count": 95,
     "metadata": {},
     "output_type": "execute_result"
    }
   ],
   "source": [
    "s.reindex([1, 2, 3])"
   ]
  },
  {
   "cell_type": "markdown",
   "metadata": {},
   "source": [
    "如果仅仅想要去除valid keys对应的值，可以使用："
   ]
  },
  {
   "cell_type": "code",
   "execution_count": 96,
   "metadata": {},
   "outputs": [
    {
     "data": {
      "text/plain": [
       "Int64Index([1, 2], dtype='int64')"
      ]
     },
     "execution_count": 96,
     "metadata": {},
     "output_type": "execute_result"
    }
   ],
   "source": [
    "labels = [1, 2, 3]\n",
    "s.index.intersection(labels)\n",
    "# s.loc[s.index.intersection(labels)]"
   ]
  },
  {
   "cell_type": "markdown",
   "metadata": {},
   "source": [
    "另外一个需要注意的是NaN的索引，pandas里面是容易犯错的。参考：https://blog.csdn.net/S_o_l_o_n/article/details/100661937\n",
    "\n",
    "pandas基于numpy，所以其中的空值nan和numpy.nan是等价的。numpy中的nan并不是空对象，其实际上是numpy.float64对象，所以我们不能误认为其是空对象，从而用bool(np.nan)去判断是否为空值，这是不对的。\n",
    "\n",
    "对于pandas中的空值，我们该如何判断，并且有哪些我们容易掉进去的陷阱，即不能用怎么样的方式去判断呢？\n",
    "\n",
    "可以判断pandas中单个空值对象的方式：\n",
    "\n",
    "1. 利用pd.isnull(),pd.isna();\n",
    "2. 利用np.isnan();\n",
    "3. 利用is表达式；\n",
    "4. 利用in表达式。\n",
    "\n",
    "不可以用来判断pandas单个空值对象的方式：\n",
    "\n",
    "1. **不可**直接用==表达式判断；\n",
    "2. **不可**直接用bool表达式判断；\n",
    "3. **不可**直接用if语句判断。\n",
    "\n",
    "对于同时多个空值对象的判断和处理：\n",
    "\n",
    "1. 可以用Series对象和DataFrame对象的any()或all()方法；\n",
    "2. 可以用numpy的any()或all()方法；\n",
    "3. 不可以直接用python的内置函数any()和all()方法；\n",
    "4. 可以用Series或DataFrame对象的dropna()方法剔除空值；\n",
    "5. 可以用Series或DataFrame对象的fillna()方法填充空值。"
   ]
  },
  {
   "cell_type": "code",
   "execution_count": 97,
   "metadata": {},
   "outputs": [
    {
     "name": "stdout",
     "output_type": "stream",
     "text": [
      "True\n",
      "True\n",
      "True\n",
      "True\n",
      "True\n",
      "False\n",
      "True\n",
      "na is not null\n",
      "True\n",
      "True\n"
     ]
    }
   ],
   "source": [
    "import pandas as pd\n",
    "import numpy as np\n",
    " \n",
    "na=np.nan\n",
    " \n",
    "# 可以用来判断空值的方式\n",
    "print(pd.isnull(na))  # True\n",
    "print(pd.isna(na))  # True\n",
    "print(np.isnan(na))  # True\n",
    "print(na is np.nan)  # True\n",
    "print(na in [np.nan])  # True\n",
    " \n",
    " \n",
    "# 不可以直接用来判断的方式，即以下结果和我们预期不一样\n",
    "print(na == np.nan)  # False\n",
    "print(bool(na))  # True\n",
    "if na:\n",
    "    print('na is not null')  # Output: na is not null\n",
    " \n",
    " \n",
    "# 不可以直接用python内置函数any和all\n",
    "print(any([na])) # True\n",
    "print(all([na]))  #True"
   ]
  },
  {
   "cell_type": "code",
   "execution_count": 98,
   "metadata": {},
   "outputs": [
    {
     "data": {
      "text/html": [
       "<div>\n",
       "<style scoped>\n",
       "    .dataframe tbody tr th:only-of-type {\n",
       "        vertical-align: middle;\n",
       "    }\n",
       "\n",
       "    .dataframe tbody tr th {\n",
       "        vertical-align: top;\n",
       "    }\n",
       "\n",
       "    .dataframe thead th {\n",
       "        text-align: right;\n",
       "    }\n",
       "</style>\n",
       "<table border=\"1\" class=\"dataframe\">\n",
       "  <thead>\n",
       "    <tr style=\"text-align: right;\">\n",
       "      <th></th>\n",
       "      <th>a</th>\n",
       "    </tr>\n",
       "  </thead>\n",
       "  <tbody>\n",
       "    <tr>\n",
       "      <th>0</th>\n",
       "      <td>1.0</td>\n",
       "    </tr>\n",
       "    <tr>\n",
       "      <th>1</th>\n",
       "      <td>2.0</td>\n",
       "    </tr>\n",
       "    <tr>\n",
       "      <th>2</th>\n",
       "      <td>3.0</td>\n",
       "    </tr>\n",
       "    <tr>\n",
       "      <th>4</th>\n",
       "      <td>4.0</td>\n",
       "    </tr>\n",
       "    <tr>\n",
       "      <th>5</th>\n",
       "      <td>5.0</td>\n",
       "    </tr>\n",
       "    <tr>\n",
       "      <th>6</th>\n",
       "      <td>6.0</td>\n",
       "    </tr>\n",
       "    <tr>\n",
       "      <th>7</th>\n",
       "      <td>7.0</td>\n",
       "    </tr>\n",
       "    <tr>\n",
       "      <th>8</th>\n",
       "      <td>8.0</td>\n",
       "    </tr>\n",
       "    <tr>\n",
       "      <th>9</th>\n",
       "      <td>9.0</td>\n",
       "    </tr>\n",
       "  </tbody>\n",
       "</table>\n",
       "</div>"
      ],
      "text/plain": [
       "     a\n",
       "0  1.0\n",
       "1  2.0\n",
       "2  3.0\n",
       "4  4.0\n",
       "5  5.0\n",
       "6  6.0\n",
       "7  7.0\n",
       "8  8.0\n",
       "9  9.0"
      ]
     },
     "execution_count": 98,
     "metadata": {},
     "output_type": "execute_result"
    }
   ],
   "source": [
    "df_nan = pd.DataFrame({\"a\":[1,2,3,np.nan,4,5,6,7,8,9]})\n",
    "df_nan.dropna() # 不是内置运算，即不改变原来的dataframe"
   ]
  },
  {
   "cell_type": "code",
   "execution_count": 99,
   "metadata": {},
   "outputs": [
    {
     "data": {
      "text/html": [
       "<div>\n",
       "<style scoped>\n",
       "    .dataframe tbody tr th:only-of-type {\n",
       "        vertical-align: middle;\n",
       "    }\n",
       "\n",
       "    .dataframe tbody tr th {\n",
       "        vertical-align: top;\n",
       "    }\n",
       "\n",
       "    .dataframe thead th {\n",
       "        text-align: right;\n",
       "    }\n",
       "</style>\n",
       "<table border=\"1\" class=\"dataframe\">\n",
       "  <thead>\n",
       "    <tr style=\"text-align: right;\">\n",
       "      <th></th>\n",
       "      <th>a</th>\n",
       "    </tr>\n",
       "  </thead>\n",
       "  <tbody>\n",
       "    <tr>\n",
       "      <th>0</th>\n",
       "      <td>1.0</td>\n",
       "    </tr>\n",
       "    <tr>\n",
       "      <th>1</th>\n",
       "      <td>2.0</td>\n",
       "    </tr>\n",
       "    <tr>\n",
       "      <th>2</th>\n",
       "      <td>3.0</td>\n",
       "    </tr>\n",
       "    <tr>\n",
       "      <th>3</th>\n",
       "      <td>NaN</td>\n",
       "    </tr>\n",
       "    <tr>\n",
       "      <th>4</th>\n",
       "      <td>4.0</td>\n",
       "    </tr>\n",
       "    <tr>\n",
       "      <th>5</th>\n",
       "      <td>5.0</td>\n",
       "    </tr>\n",
       "    <tr>\n",
       "      <th>6</th>\n",
       "      <td>6.0</td>\n",
       "    </tr>\n",
       "    <tr>\n",
       "      <th>7</th>\n",
       "      <td>7.0</td>\n",
       "    </tr>\n",
       "    <tr>\n",
       "      <th>8</th>\n",
       "      <td>8.0</td>\n",
       "    </tr>\n",
       "    <tr>\n",
       "      <th>9</th>\n",
       "      <td>9.0</td>\n",
       "    </tr>\n",
       "  </tbody>\n",
       "</table>\n",
       "</div>"
      ],
      "text/plain": [
       "     a\n",
       "0  1.0\n",
       "1  2.0\n",
       "2  3.0\n",
       "3  NaN\n",
       "4  4.0\n",
       "5  5.0\n",
       "6  6.0\n",
       "7  7.0\n",
       "8  8.0\n",
       "9  9.0"
      ]
     },
     "execution_count": 99,
     "metadata": {},
     "output_type": "execute_result"
    }
   ],
   "source": [
    "df_nan"
   ]
  },
  {
   "cell_type": "markdown",
   "metadata": {},
   "source": [
    "查找 nan 所在位置："
   ]
  },
  {
   "cell_type": "code",
   "execution_count": 100,
   "metadata": {},
   "outputs": [
    {
     "data": {
      "text/html": [
       "<div>\n",
       "<style scoped>\n",
       "    .dataframe tbody tr th:only-of-type {\n",
       "        vertical-align: middle;\n",
       "    }\n",
       "\n",
       "    .dataframe tbody tr th {\n",
       "        vertical-align: top;\n",
       "    }\n",
       "\n",
       "    .dataframe thead th {\n",
       "        text-align: right;\n",
       "    }\n",
       "</style>\n",
       "<table border=\"1\" class=\"dataframe\">\n",
       "  <thead>\n",
       "    <tr style=\"text-align: right;\">\n",
       "      <th></th>\n",
       "      <th>a</th>\n",
       "    </tr>\n",
       "  </thead>\n",
       "  <tbody>\n",
       "    <tr>\n",
       "      <th>3</th>\n",
       "      <td>NaN</td>\n",
       "    </tr>\n",
       "  </tbody>\n",
       "</table>\n",
       "</div>"
      ],
      "text/plain": [
       "    a\n",
       "3 NaN"
      ]
     },
     "execution_count": 100,
     "metadata": {},
     "output_type": "execute_result"
    }
   ],
   "source": [
    "df_nan[df_nan.values!=df_nan.values] "
   ]
  },
  {
   "cell_type": "code",
   "execution_count": 101,
   "metadata": {},
   "outputs": [
    {
     "data": {
      "text/plain": [
       "[3]"
      ]
     },
     "execution_count": 101,
     "metadata": {},
     "output_type": "execute_result"
    }
   ],
   "source": [
    "# 给出索引\n",
    "df_nan[df_nan.values!=df_nan.values].index.tolist()"
   ]
  },
  {
   "cell_type": "markdown",
   "metadata": {},
   "source": [
    "## 分组\n",
    "\n",
    "对dataframe进行分组的例子。\n",
    "\n",
    "任何分组(groupby)操作都涉及原始对象的以下操作之一。它们是 - \n",
    "\n",
    "- 分割对象\n",
    "- 应用一个函数\n",
    "- 结合的结果\n",
    "\n",
    "在许多情况下，我们将数据分成多个集合，并在每个子集上应用一些函数。在应用函数中，可以执行以下操作 -\n",
    "\n",
    "- 聚合 - 计算汇总统计\n",
    "- 转换 - 执行一些特定于组的操作\n",
    "- 过滤 - 在某些情况下丢弃数据"
   ]
  },
  {
   "cell_type": "code",
   "execution_count": 102,
   "metadata": {
    "pycharm": {
     "is_executing": false,
     "name": "#%%\n"
    }
   },
   "outputs": [
    {
     "name": "stdout",
     "output_type": "stream",
     "text": [
      "Index(['name', 'Year', 'Salary', 'Bonus'], dtype='object')\n",
      "<class 'pandas.core.frame.DataFrame'>\n",
      "RangeIndex: 8 entries, 0 to 7\n",
      "Data columns (total 4 columns):\n",
      " #   Column  Non-Null Count  Dtype \n",
      "---  ------  --------------  ----- \n",
      " 0   name    8 non-null      object\n",
      " 1   Year    8 non-null      int64 \n",
      " 2   Salary  8 non-null      int64 \n",
      " 3   Bonus   8 non-null      int64 \n",
      "dtypes: int64(3), object(1)\n",
      "memory usage: 384.0+ bytes\n",
      "None\n",
      "              Year        Salary          Bonus\n",
      "count     8.000000  8.000000e+00       8.000000\n",
      "mean   2016.500000  1.631437e+06  131000.000000\n",
      "std       0.534522  3.416521e+06  152851.935826\n",
      "min    2016.000000  3.000000e+03    3000.000000\n",
      "25%    2016.000000  1.587500e+04   16250.000000\n",
      "50%    2016.500000  5.124995e+05   60000.000000\n",
      "75%    2017.000000  9.999990e+05  225000.000000\n",
      "max    2017.000000  9.999999e+06  400000.000000\n",
      "    name  Year   Salary   Bonus\n",
      "0   BOSS  2016   999999  100000\n",
      "1  Lilei  2016    20000   20000\n",
      "2  Lilei  2016    25000   20000\n",
      "3    Han  2016     3000    5000\n",
      "4   BOSS  2017  9999999  200000\n",
      "5   BOSS  2017   999999  300000\n",
      "6    Han  2017     3500    3000\n",
      "7   BOSS  2017   999999  400000\n",
      "    name  Year  Salary  Bonus\n",
      "1  Lilei  2016   20000  20000\n",
      "2  Lilei  2016   25000  20000\n",
      "         Year        Salary    Bonus\n",
      "count     2.0      2.000000      2.0\n",
      "mean   2016.0  22500.000000  20000.0\n",
      "std       0.0   3535.533906      0.0\n",
      "min    2016.0  20000.000000  20000.0\n",
      "25%    2016.0  21250.000000  20000.0\n",
      "50%    2016.0  22500.000000  20000.0\n",
      "75%    2016.0  23750.000000  20000.0\n",
      "max    2016.0  25000.000000  20000.0\n",
      "BOSS\n",
      "Han\n",
      "Lilei\n",
      "<class 'pandas.core.frame.DataFrame'>\n",
      "   name  Year   Salary   Bonus\n",
      "0  BOSS  2016   999999  100000\n",
      "4  BOSS  2017  9999999  200000\n",
      "5  BOSS  2017   999999  300000\n",
      "7  BOSS  2017   999999  400000\n",
      "<class 'pandas.core.frame.DataFrame'>\n",
      "    name  Year  Salary  Bonus\n",
      "1  Lilei  2016   20000  20000\n",
      "2  Lilei  2016   25000  20000\n",
      "<class 'tuple'>\n",
      "('BOSS',    name  Year   Salary   Bonus\n",
      "0  BOSS  2016   999999  100000\n",
      "4  BOSS  2017  9999999  200000\n",
      "5  BOSS  2017   999999  300000\n",
      "7  BOSS  2017   999999  400000)\n",
      "<class 'tuple'>\n",
      "('Han',   name  Year  Salary  Bonus\n",
      "3  Han  2016    3000   5000\n",
      "6  Han  2017    3500   3000)\n",
      "<class 'tuple'>\n",
      "('Lilei',     name  Year  Salary  Bonus\n",
      "1  Lilei  2016   20000  20000\n",
      "2  Lilei  2016   25000  20000)\n"
     ]
    }
   ],
   "source": [
    "salaries = pd.DataFrame({\n",
    "    'name': ['BOSS', 'Lilei', 'Lilei', 'Han', 'BOSS', 'BOSS', 'Han', 'BOSS'],\n",
    "    'Year': [2016, 2016, 2016, 2016, 2017, 2017, 2017, 2017],\n",
    "    'Salary': [999999, 20000, 25000, 3000, 9999999, 999999, 3500, 999999],\n",
    "    'Bonus': [100000, 20000, 20000, 5000, 200000, 300000, 3000, 400000]\n",
    "})\n",
    "print(salaries.columns)\n",
    "print(salaries.info())\n",
    "print(salaries.describe())\n",
    "salaries = salaries[['name', 'Year', 'Salary', 'Bonus']]\n",
    "# 定顺序\n",
    "print(salaries)\n",
    "# 对dataframe按name进行分组\n",
    "group_by_name = salaries.groupby('name')\n",
    "# 获取分组后的某一组\n",
    "se_temp = group_by_name.get_group('Lilei')\n",
    "print(se_temp)\n",
    "print(se_temp.describe())\n",
    "# 循环各组，并将名字在给定的序列中的group添加到数组中\n",
    "config = pd.Series({'names': ['Lilei', 'BOSS']})\n",
    "dfs = []\n",
    "for name, group in group_by_name:\n",
    "    print(name)\n",
    "    if name in config['names']:\n",
    "        dfs.append(group)\n",
    "\n",
    "for i in range(len(dfs)):\n",
    "    # 如果没有把name和group分开，那么dfs[i]的类型会是tuple，key为name，value是group，可参考接下来的输出\n",
    "    print(type(dfs[i]))\n",
    "    print(dfs[i])\n",
    "\n",
    "# 如果没有把name和group分开，那么dfs[i]的类型会是tuple，key为name，value是group\n",
    "dfs_s = []\n",
    "for group in group_by_name:\n",
    "    dfs_s.append(group)\n",
    "for i in range(len(dfs_s)):\n",
    "    print(type(dfs_s[i]))\n",
    "    print(dfs_s[i])"
   ]
  },
  {
   "cell_type": "markdown",
   "metadata": {},
   "source": [
    "如果想要将类型数据转换为数字，则可以使用factorize函数："
   ]
  },
  {
   "cell_type": "code",
   "execution_count": 103,
   "metadata": {},
   "outputs": [
    {
     "name": "stdout",
     "output_type": "stream",
     "text": [
      "2\n",
      "3\n",
      "[0 0 1 2 0]\n"
     ]
    },
    {
     "data": {
      "text/plain": [
       "array(['b', 'a', 'c'], dtype=object)"
      ]
     },
     "execution_count": 103,
     "metadata": {},
     "output_type": "execute_result"
    }
   ],
   "source": [
    "# 返回列数：\n",
    "print(dataset.shape[1])\n",
    "# 返回行数：\n",
    "print(dataset.shape[0])\n",
    "# factorize(values[, sort, order, …])\tEncode the object as an enumerated type or categorical variable.\n",
    "labels, uniques = pd.factorize(['b', 'b', 'a', 'c', 'b'])\n",
    "print(labels)\n",
    "uniques"
   ]
  },
  {
   "cell_type": "markdown",
   "metadata": {},
   "source": [
    "聚合函数为每个组返回单个聚合值。当创建了分组(group by)对象，就可以对分组数据执行多个聚合操作。"
   ]
  },
  {
   "cell_type": "code",
   "execution_count": 104,
   "metadata": {},
   "outputs": [
    {
     "data": {
      "text/html": [
       "<div>\n",
       "<style scoped>\n",
       "    .dataframe tbody tr th:only-of-type {\n",
       "        vertical-align: middle;\n",
       "    }\n",
       "\n",
       "    .dataframe tbody tr th {\n",
       "        vertical-align: top;\n",
       "    }\n",
       "\n",
       "    .dataframe thead th {\n",
       "        text-align: right;\n",
       "    }\n",
       "</style>\n",
       "<table border=\"1\" class=\"dataframe\">\n",
       "  <thead>\n",
       "    <tr style=\"text-align: right;\">\n",
       "      <th></th>\n",
       "      <th>Team</th>\n",
       "      <th>Rank</th>\n",
       "      <th>Year</th>\n",
       "      <th>Points</th>\n",
       "    </tr>\n",
       "  </thead>\n",
       "  <tbody>\n",
       "    <tr>\n",
       "      <th>0</th>\n",
       "      <td>Riders</td>\n",
       "      <td>1</td>\n",
       "      <td>2014</td>\n",
       "      <td>876</td>\n",
       "    </tr>\n",
       "    <tr>\n",
       "      <th>1</th>\n",
       "      <td>Riders</td>\n",
       "      <td>2</td>\n",
       "      <td>2015</td>\n",
       "      <td>789</td>\n",
       "    </tr>\n",
       "    <tr>\n",
       "      <th>2</th>\n",
       "      <td>Devils</td>\n",
       "      <td>2</td>\n",
       "      <td>2014</td>\n",
       "      <td>863</td>\n",
       "    </tr>\n",
       "    <tr>\n",
       "      <th>3</th>\n",
       "      <td>Devils</td>\n",
       "      <td>3</td>\n",
       "      <td>2015</td>\n",
       "      <td>673</td>\n",
       "    </tr>\n",
       "    <tr>\n",
       "      <th>4</th>\n",
       "      <td>Kings</td>\n",
       "      <td>3</td>\n",
       "      <td>2014</td>\n",
       "      <td>741</td>\n",
       "    </tr>\n",
       "    <tr>\n",
       "      <th>5</th>\n",
       "      <td>kings</td>\n",
       "      <td>4</td>\n",
       "      <td>2015</td>\n",
       "      <td>812</td>\n",
       "    </tr>\n",
       "    <tr>\n",
       "      <th>6</th>\n",
       "      <td>Kings</td>\n",
       "      <td>1</td>\n",
       "      <td>2016</td>\n",
       "      <td>756</td>\n",
       "    </tr>\n",
       "    <tr>\n",
       "      <th>7</th>\n",
       "      <td>Kings</td>\n",
       "      <td>1</td>\n",
       "      <td>2017</td>\n",
       "      <td>788</td>\n",
       "    </tr>\n",
       "    <tr>\n",
       "      <th>8</th>\n",
       "      <td>Riders</td>\n",
       "      <td>2</td>\n",
       "      <td>2016</td>\n",
       "      <td>694</td>\n",
       "    </tr>\n",
       "    <tr>\n",
       "      <th>9</th>\n",
       "      <td>Royals</td>\n",
       "      <td>4</td>\n",
       "      <td>2014</td>\n",
       "      <td>701</td>\n",
       "    </tr>\n",
       "    <tr>\n",
       "      <th>10</th>\n",
       "      <td>Royals</td>\n",
       "      <td>1</td>\n",
       "      <td>2015</td>\n",
       "      <td>804</td>\n",
       "    </tr>\n",
       "    <tr>\n",
       "      <th>11</th>\n",
       "      <td>Riders</td>\n",
       "      <td>2</td>\n",
       "      <td>2017</td>\n",
       "      <td>690</td>\n",
       "    </tr>\n",
       "  </tbody>\n",
       "</table>\n",
       "</div>"
      ],
      "text/plain": [
       "      Team  Rank  Year  Points\n",
       "0   Riders     1  2014     876\n",
       "1   Riders     2  2015     789\n",
       "2   Devils     2  2014     863\n",
       "3   Devils     3  2015     673\n",
       "4    Kings     3  2014     741\n",
       "5    kings     4  2015     812\n",
       "6    Kings     1  2016     756\n",
       "7    Kings     1  2017     788\n",
       "8   Riders     2  2016     694\n",
       "9   Royals     4  2014     701\n",
       "10  Royals     1  2015     804\n",
       "11  Riders     2  2017     690"
      ]
     },
     "execution_count": 104,
     "metadata": {},
     "output_type": "execute_result"
    }
   ],
   "source": [
    "import pandas as pd\n",
    "import numpy as np\n",
    "\n",
    "ipl_data = {'Team': ['Riders', 'Riders', 'Devils', 'Devils', 'Kings',\n",
    "         'kings', 'Kings', 'Kings', 'Riders', 'Royals', 'Royals', 'Riders'],\n",
    "         'Rank': [1, 2, 2, 3, 3,4 ,1 ,1,2 , 4,1,2],\n",
    "         'Year': [2014,2015,2014,2015,2014,2015,2016,2017,2016,2014,2015,2017],\n",
    "         'Points':[876,789,863,673,741,812,756,788,694,701,804,690]}\n",
    "df = pd.DataFrame(ipl_data)\n",
    "df"
   ]
  },
  {
   "cell_type": "code",
   "execution_count": 105,
   "metadata": {},
   "outputs": [
    {
     "data": {
      "text/plain": [
       "Year\n",
       "2014    795.25\n",
       "2015    769.50\n",
       "2016    725.00\n",
       "2017    739.00\n",
       "Name: Points, dtype: float64"
      ]
     },
     "execution_count": 105,
     "metadata": {},
     "output_type": "execute_result"
    }
   ],
   "source": [
    "grouped = df.groupby('Year')\n",
    "# .round(2) 是保留两位小数\n",
    "grouped['Points'].agg(np.mean).round(2)"
   ]
  },
  {
   "cell_type": "markdown",
   "metadata": {},
   "source": [
    "## 批量运算\n",
    "\n",
    "Pandas中，为了加速运算，通常会尽量采用向量化的方式进行运算。\n",
    "\n",
    "对dataframe数据执行批量运算，使用pandas的apply函数。"
   ]
  },
  {
   "cell_type": "code",
   "execution_count": 106,
   "metadata": {},
   "outputs": [
    {
     "name": "stdout",
     "output_type": "stream",
     "text": [
      "   A  B\n",
      "0  4  9\n",
      "1  4  9\n",
      "2  4  9\n"
     ]
    },
    {
     "data": {
      "text/html": [
       "<div>\n",
       "<style scoped>\n",
       "    .dataframe tbody tr th:only-of-type {\n",
       "        vertical-align: middle;\n",
       "    }\n",
       "\n",
       "    .dataframe tbody tr th {\n",
       "        vertical-align: top;\n",
       "    }\n",
       "\n",
       "    .dataframe thead th {\n",
       "        text-align: right;\n",
       "    }\n",
       "</style>\n",
       "<table border=\"1\" class=\"dataframe\">\n",
       "  <thead>\n",
       "    <tr style=\"text-align: right;\">\n",
       "      <th></th>\n",
       "      <th>A</th>\n",
       "      <th>B</th>\n",
       "    </tr>\n",
       "  </thead>\n",
       "  <tbody>\n",
       "    <tr>\n",
       "      <th>0</th>\n",
       "      <td>2.0</td>\n",
       "      <td>3.0</td>\n",
       "    </tr>\n",
       "    <tr>\n",
       "      <th>1</th>\n",
       "      <td>2.0</td>\n",
       "      <td>3.0</td>\n",
       "    </tr>\n",
       "    <tr>\n",
       "      <th>2</th>\n",
       "      <td>2.0</td>\n",
       "      <td>3.0</td>\n",
       "    </tr>\n",
       "  </tbody>\n",
       "</table>\n",
       "</div>"
      ],
      "text/plain": [
       "     A    B\n",
       "0  2.0  3.0\n",
       "1  2.0  3.0\n",
       "2  2.0  3.0"
      ]
     },
     "execution_count": 106,
     "metadata": {},
     "output_type": "execute_result"
    }
   ],
   "source": [
    "import pandas as pd\n",
    "import numpy as np\n",
    "df = pd.DataFrame([[4, 9]] * 3, columns=['A', 'B'])\n",
    "print(df)\n",
    "df.apply(np.sqrt, axis=1)"
   ]
  },
  {
   "cell_type": "markdown",
   "metadata": {},
   "source": [
    "apply函数默认是作用到dataframe每列，axis=0"
   ]
  },
  {
   "cell_type": "code",
   "execution_count": 107,
   "metadata": {},
   "outputs": [
    {
     "data": {
      "text/plain": [
       "A    12\n",
       "B    27\n",
       "dtype: int64"
      ]
     },
     "execution_count": 107,
     "metadata": {},
     "output_type": "execute_result"
    }
   ],
   "source": [
    "df.apply(np.sum)"
   ]
  },
  {
   "cell_type": "code",
   "execution_count": 108,
   "metadata": {},
   "outputs": [
    {
     "data": {
      "text/plain": [
       "A    12\n",
       "B    27\n",
       "dtype: int64"
      ]
     },
     "execution_count": 108,
     "metadata": {},
     "output_type": "execute_result"
    }
   ],
   "source": [
    "df.apply(lambda x:sum(x))"
   ]
  },
  {
   "cell_type": "code",
   "execution_count": 109,
   "metadata": {},
   "outputs": [
    {
     "data": {
      "text/html": [
       "<div>\n",
       "<style scoped>\n",
       "    .dataframe tbody tr th:only-of-type {\n",
       "        vertical-align: middle;\n",
       "    }\n",
       "\n",
       "    .dataframe tbody tr th {\n",
       "        vertical-align: top;\n",
       "    }\n",
       "\n",
       "    .dataframe thead th {\n",
       "        text-align: right;\n",
       "    }\n",
       "</style>\n",
       "<table border=\"1\" class=\"dataframe\">\n",
       "  <thead>\n",
       "    <tr style=\"text-align: right;\">\n",
       "      <th></th>\n",
       "      <th>A</th>\n",
       "      <th>B</th>\n",
       "    </tr>\n",
       "  </thead>\n",
       "  <tbody>\n",
       "    <tr>\n",
       "      <th>0</th>\n",
       "      <td>16</td>\n",
       "      <td>81</td>\n",
       "    </tr>\n",
       "    <tr>\n",
       "      <th>1</th>\n",
       "      <td>16</td>\n",
       "      <td>81</td>\n",
       "    </tr>\n",
       "    <tr>\n",
       "      <th>2</th>\n",
       "      <td>16</td>\n",
       "      <td>81</td>\n",
       "    </tr>\n",
       "  </tbody>\n",
       "</table>\n",
       "</div>"
      ],
      "text/plain": [
       "    A   B\n",
       "0  16  81\n",
       "1  16  81\n",
       "2  16  81"
      ]
     },
     "execution_count": 109,
     "metadata": {},
     "output_type": "execute_result"
    }
   ],
   "source": [
    "df.apply(lambda x: x**2)"
   ]
  },
  {
   "cell_type": "markdown",
   "metadata": {},
   "source": [
    "如果想要作用于某些指定的列，比如对第二列之后的运算，可以如下操作："
   ]
  },
  {
   "cell_type": "code",
   "execution_count": 110,
   "metadata": {},
   "outputs": [
    {
     "data": {
      "text/html": [
       "<div>\n",
       "<style scoped>\n",
       "    .dataframe tbody tr th:only-of-type {\n",
       "        vertical-align: middle;\n",
       "    }\n",
       "\n",
       "    .dataframe tbody tr th {\n",
       "        vertical-align: top;\n",
       "    }\n",
       "\n",
       "    .dataframe thead th {\n",
       "        text-align: right;\n",
       "    }\n",
       "</style>\n",
       "<table border=\"1\" class=\"dataframe\">\n",
       "  <thead>\n",
       "    <tr style=\"text-align: right;\">\n",
       "      <th></th>\n",
       "      <th>ID</th>\n",
       "      <th>A</th>\n",
       "      <th>B</th>\n",
       "      <th>C</th>\n",
       "      <th>D</th>\n",
       "      <th>E</th>\n",
       "    </tr>\n",
       "  </thead>\n",
       "  <tbody>\n",
       "    <tr>\n",
       "      <th>0</th>\n",
       "      <td>1</td>\n",
       "      <td>2</td>\n",
       "      <td>3</td>\n",
       "      <td>4</td>\n",
       "      <td>5</td>\n",
       "      <td>6</td>\n",
       "    </tr>\n",
       "    <tr>\n",
       "      <th>1</th>\n",
       "      <td>1</td>\n",
       "      <td>2</td>\n",
       "      <td>3</td>\n",
       "      <td>4</td>\n",
       "      <td>5</td>\n",
       "      <td>6</td>\n",
       "    </tr>\n",
       "    <tr>\n",
       "      <th>2</th>\n",
       "      <td>1</td>\n",
       "      <td>2</td>\n",
       "      <td>3</td>\n",
       "      <td>4</td>\n",
       "      <td>5</td>\n",
       "      <td>6</td>\n",
       "    </tr>\n",
       "  </tbody>\n",
       "</table>\n",
       "</div>"
      ],
      "text/plain": [
       "   ID  A  B  C  D  E\n",
       "0   1  2  3  4  5  6\n",
       "1   1  2  3  4  5  6\n",
       "2   1  2  3  4  5  6"
      ]
     },
     "execution_count": 110,
     "metadata": {},
     "output_type": "execute_result"
    }
   ],
   "source": [
    "df = pd.DataFrame([[1,2,3,4,5,6]] * 3, columns=['ID', 'A', 'B', 'C', 'D', 'E'])\n",
    "df"
   ]
  },
  {
   "cell_type": "code",
   "execution_count": 111,
   "metadata": {},
   "outputs": [
    {
     "data": {
      "text/html": [
       "<div>\n",
       "<style scoped>\n",
       "    .dataframe tbody tr th:only-of-type {\n",
       "        vertical-align: middle;\n",
       "    }\n",
       "\n",
       "    .dataframe tbody tr th {\n",
       "        vertical-align: top;\n",
       "    }\n",
       "\n",
       "    .dataframe thead th {\n",
       "        text-align: right;\n",
       "    }\n",
       "</style>\n",
       "<table border=\"1\" class=\"dataframe\">\n",
       "  <thead>\n",
       "    <tr style=\"text-align: right;\">\n",
       "      <th></th>\n",
       "      <th>A</th>\n",
       "      <th>B</th>\n",
       "      <th>C</th>\n",
       "      <th>D</th>\n",
       "      <th>E</th>\n",
       "    </tr>\n",
       "  </thead>\n",
       "  <tbody>\n",
       "    <tr>\n",
       "      <th>0</th>\n",
       "      <td>4</td>\n",
       "      <td>9</td>\n",
       "      <td>16</td>\n",
       "      <td>25</td>\n",
       "      <td>36</td>\n",
       "    </tr>\n",
       "    <tr>\n",
       "      <th>1</th>\n",
       "      <td>4</td>\n",
       "      <td>9</td>\n",
       "      <td>16</td>\n",
       "      <td>25</td>\n",
       "      <td>36</td>\n",
       "    </tr>\n",
       "    <tr>\n",
       "      <th>2</th>\n",
       "      <td>4</td>\n",
       "      <td>9</td>\n",
       "      <td>16</td>\n",
       "      <td>25</td>\n",
       "      <td>36</td>\n",
       "    </tr>\n",
       "  </tbody>\n",
       "</table>\n",
       "</div>"
      ],
      "text/plain": [
       "   A  B   C   D   E\n",
       "0  4  9  16  25  36\n",
       "1  4  9  16  25  36\n",
       "2  4  9  16  25  36"
      ]
     },
     "execution_count": 111,
     "metadata": {},
     "output_type": "execute_result"
    }
   ],
   "source": [
    "df.iloc[:,1:].apply(lambda x: x**2)"
   ]
  },
  {
   "cell_type": "markdown",
   "metadata": {},
   "source": [
    "也可以直接指定某些列："
   ]
  },
  {
   "cell_type": "code",
   "execution_count": 112,
   "metadata": {},
   "outputs": [
    {
     "data": {
      "text/plain": [
       "A     6\n",
       "B     9\n",
       "C    12\n",
       "dtype: int64"
      ]
     },
     "execution_count": 112,
     "metadata": {},
     "output_type": "execute_result"
    }
   ],
   "source": [
    "df[[\"A\",\"B\",\"C\"]].apply(lambda x:sum(x))"
   ]
  },
  {
   "cell_type": "markdown",
   "metadata": {},
   "source": [
    "如果想要对一行去做运算，需要指定 axis=1"
   ]
  },
  {
   "cell_type": "code",
   "execution_count": 113,
   "metadata": {},
   "outputs": [
    {
     "data": {
      "text/plain": [
       "0    9\n",
       "1    9\n",
       "2    9\n",
       "dtype: int64"
      ]
     },
     "execution_count": 113,
     "metadata": {},
     "output_type": "execute_result"
    }
   ],
   "source": [
    "df[[\"A\",\"B\",\"C\"]].apply(lambda x:sum(x),axis=1)"
   ]
  },
  {
   "cell_type": "markdown",
   "metadata": {},
   "source": [
    "如果想要对一列的每个值操作一个函数，那么可以："
   ]
  },
  {
   "cell_type": "code",
   "execution_count": 114,
   "metadata": {},
   "outputs": [
    {
     "data": {
      "text/plain": [
       "0    1.414214\n",
       "1    1.414214\n",
       "2    1.414214\n",
       "Name: A, dtype: float64"
      ]
     },
     "execution_count": 114,
     "metadata": {},
     "output_type": "execute_result"
    }
   ],
   "source": [
    "df[\"A\"].apply(np.sqrt)"
   ]
  },
  {
   "cell_type": "markdown",
   "metadata": {},
   "source": [
    "但是可以看到，这并不是一个原地运算的函数，df是没变的："
   ]
  },
  {
   "cell_type": "code",
   "execution_count": 115,
   "metadata": {},
   "outputs": [
    {
     "data": {
      "text/html": [
       "<div>\n",
       "<style scoped>\n",
       "    .dataframe tbody tr th:only-of-type {\n",
       "        vertical-align: middle;\n",
       "    }\n",
       "\n",
       "    .dataframe tbody tr th {\n",
       "        vertical-align: top;\n",
       "    }\n",
       "\n",
       "    .dataframe thead th {\n",
       "        text-align: right;\n",
       "    }\n",
       "</style>\n",
       "<table border=\"1\" class=\"dataframe\">\n",
       "  <thead>\n",
       "    <tr style=\"text-align: right;\">\n",
       "      <th></th>\n",
       "      <th>ID</th>\n",
       "      <th>A</th>\n",
       "      <th>B</th>\n",
       "      <th>C</th>\n",
       "      <th>D</th>\n",
       "      <th>E</th>\n",
       "    </tr>\n",
       "  </thead>\n",
       "  <tbody>\n",
       "    <tr>\n",
       "      <th>0</th>\n",
       "      <td>1</td>\n",
       "      <td>2</td>\n",
       "      <td>3</td>\n",
       "      <td>4</td>\n",
       "      <td>5</td>\n",
       "      <td>6</td>\n",
       "    </tr>\n",
       "    <tr>\n",
       "      <th>1</th>\n",
       "      <td>1</td>\n",
       "      <td>2</td>\n",
       "      <td>3</td>\n",
       "      <td>4</td>\n",
       "      <td>5</td>\n",
       "      <td>6</td>\n",
       "    </tr>\n",
       "    <tr>\n",
       "      <th>2</th>\n",
       "      <td>1</td>\n",
       "      <td>2</td>\n",
       "      <td>3</td>\n",
       "      <td>4</td>\n",
       "      <td>5</td>\n",
       "      <td>6</td>\n",
       "    </tr>\n",
       "  </tbody>\n",
       "</table>\n",
       "</div>"
      ],
      "text/plain": [
       "   ID  A  B  C  D  E\n",
       "0   1  2  3  4  5  6\n",
       "1   1  2  3  4  5  6\n",
       "2   1  2  3  4  5  6"
      ]
     },
     "execution_count": 115,
     "metadata": {},
     "output_type": "execute_result"
    }
   ],
   "source": [
    "df"
   ]
  },
  {
   "cell_type": "markdown",
   "metadata": {},
   "source": [
    "如果想要执行inplace运算，则需要重新赋值一下："
   ]
  },
  {
   "cell_type": "code",
   "execution_count": 116,
   "metadata": {},
   "outputs": [
    {
     "data": {
      "text/html": [
       "<div>\n",
       "<style scoped>\n",
       "    .dataframe tbody tr th:only-of-type {\n",
       "        vertical-align: middle;\n",
       "    }\n",
       "\n",
       "    .dataframe tbody tr th {\n",
       "        vertical-align: top;\n",
       "    }\n",
       "\n",
       "    .dataframe thead th {\n",
       "        text-align: right;\n",
       "    }\n",
       "</style>\n",
       "<table border=\"1\" class=\"dataframe\">\n",
       "  <thead>\n",
       "    <tr style=\"text-align: right;\">\n",
       "      <th></th>\n",
       "      <th>ID</th>\n",
       "      <th>A</th>\n",
       "      <th>B</th>\n",
       "      <th>C</th>\n",
       "      <th>D</th>\n",
       "      <th>E</th>\n",
       "    </tr>\n",
       "  </thead>\n",
       "  <tbody>\n",
       "    <tr>\n",
       "      <th>0</th>\n",
       "      <td>1</td>\n",
       "      <td>1.414214</td>\n",
       "      <td>3</td>\n",
       "      <td>4</td>\n",
       "      <td>5</td>\n",
       "      <td>6</td>\n",
       "    </tr>\n",
       "    <tr>\n",
       "      <th>1</th>\n",
       "      <td>1</td>\n",
       "      <td>1.414214</td>\n",
       "      <td>3</td>\n",
       "      <td>4</td>\n",
       "      <td>5</td>\n",
       "      <td>6</td>\n",
       "    </tr>\n",
       "    <tr>\n",
       "      <th>2</th>\n",
       "      <td>1</td>\n",
       "      <td>1.414214</td>\n",
       "      <td>3</td>\n",
       "      <td>4</td>\n",
       "      <td>5</td>\n",
       "      <td>6</td>\n",
       "    </tr>\n",
       "  </tbody>\n",
       "</table>\n",
       "</div>"
      ],
      "text/plain": [
       "   ID         A  B  C  D  E\n",
       "0   1  1.414214  3  4  5  6\n",
       "1   1  1.414214  3  4  5  6\n",
       "2   1  1.414214  3  4  5  6"
      ]
     },
     "execution_count": 116,
     "metadata": {},
     "output_type": "execute_result"
    }
   ],
   "source": [
    "df[\"A\"]=df[\"A\"].apply(np.sqrt)\n",
    "df"
   ]
  },
  {
   "cell_type": "markdown",
   "metadata": {},
   "source": [
    "如果有nan值，可以使用忽略nan值的运算"
   ]
  },
  {
   "cell_type": "code",
   "execution_count": 117,
   "metadata": {},
   "outputs": [
    {
     "data": {
      "text/plain": [
       "array([1., 4., 3., 6.])"
      ]
     },
     "execution_count": 117,
     "metadata": {},
     "output_type": "execute_result"
    }
   ],
   "source": [
    "df = pd.DataFrame({'A':[1,2,3,np.nan], 'B':[np.nan,2,np.nan,6]})\n",
    "df.apply(lambda x:np.nansum(x), axis=1).values"
   ]
  },
  {
   "cell_type": "markdown",
   "metadata": {},
   "source": [
    "如果要指定的函数返回值和原dataframe不一致，为了继续使用向量化以使代码速度较快，可以利用numpy的相关函数"
   ]
  },
  {
   "cell_type": "code",
   "execution_count": 118,
   "metadata": {},
   "outputs": [
    {
     "data": {
      "text/plain": [
       "array([[1, 2, 3, 4, 5, 6],\n",
       "       [1, 2, 3, 4, 5, 6],\n",
       "       [1, 2, 3, 4, 5, 6]], dtype=int64)"
      ]
     },
     "execution_count": 118,
     "metadata": {},
     "output_type": "execute_result"
    }
   ],
   "source": [
    "import numpy as np\n",
    "from scipy import interpolate\n",
    "num_of_years = 20\n",
    "df = pd.DataFrame([[1,2,3,4,5,6]] * 3, columns=['A', 'B', 'C', 'D', 'E', 'F'])\n",
    "data_np=df.values\n",
    "data_np"
   ]
  },
  {
   "cell_type": "code",
   "execution_count": 119,
   "metadata": {},
   "outputs": [
    {
     "data": {
      "text/plain": [
       "array([[1.        , 1.26315789, 1.52631579, 1.78947368, 2.05263158,\n",
       "        2.31578947, 2.57894737, 2.84210526, 3.10526316, 3.36842105,\n",
       "        3.63157895, 3.89473684, 4.15789474, 4.42105263, 4.68421053,\n",
       "        4.94736842, 5.21052632, 5.47368421, 5.73684211, 6.        ],\n",
       "       [1.        , 1.26315789, 1.52631579, 1.78947368, 2.05263158,\n",
       "        2.31578947, 2.57894737, 2.84210526, 3.10526316, 3.36842105,\n",
       "        3.63157895, 3.89473684, 4.15789474, 4.42105263, 4.68421053,\n",
       "        4.94736842, 5.21052632, 5.47368421, 5.73684211, 6.        ],\n",
       "       [1.        , 1.26315789, 1.52631579, 1.78947368, 2.05263158,\n",
       "        2.31578947, 2.57894737, 2.84210526, 3.10526316, 3.36842105,\n",
       "        3.63157895, 3.89473684, 4.15789474, 4.42105263, 4.68421053,\n",
       "        4.94736842, 5.21052632, 5.47368421, 5.73684211, 6.        ]])"
      ]
     },
     "execution_count": 119,
     "metadata": {},
     "output_type": "execute_result"
    }
   ],
   "source": [
    "def interpolate_myself(y):\n",
    "    x = np.linspace(0, num_of_years - 1, num=6)\n",
    "    xs = np.linspace(0, num_of_years - 1, num=num_of_years)\n",
    "    ys = interpolate.UnivariateSpline(x, y, s=0)(xs)\n",
    "    return ys\n",
    "np_new=np.apply_along_axis(interpolate_myself, 1, data_np)\n",
    "np_new"
   ]
  },
  {
   "cell_type": "markdown",
   "metadata": {},
   "source": [
    "最后还需要还原为dataframe的话，执行DataFrame的初始化操作即可："
   ]
  },
  {
   "cell_type": "code",
   "execution_count": 120,
   "metadata": {},
   "outputs": [
    {
     "data": {
      "text/html": [
       "<div>\n",
       "<style scoped>\n",
       "    .dataframe tbody tr th:only-of-type {\n",
       "        vertical-align: middle;\n",
       "    }\n",
       "\n",
       "    .dataframe tbody tr th {\n",
       "        vertical-align: top;\n",
       "    }\n",
       "\n",
       "    .dataframe thead th {\n",
       "        text-align: right;\n",
       "    }\n",
       "</style>\n",
       "<table border=\"1\" class=\"dataframe\">\n",
       "  <thead>\n",
       "    <tr style=\"text-align: right;\">\n",
       "      <th></th>\n",
       "      <th>1985</th>\n",
       "      <th>1986</th>\n",
       "      <th>1987</th>\n",
       "      <th>1988</th>\n",
       "      <th>1989</th>\n",
       "      <th>1990</th>\n",
       "      <th>1991</th>\n",
       "      <th>1992</th>\n",
       "      <th>1993</th>\n",
       "      <th>1994</th>\n",
       "      <th>1995</th>\n",
       "      <th>1996</th>\n",
       "      <th>1997</th>\n",
       "      <th>1998</th>\n",
       "      <th>1999</th>\n",
       "      <th>2000</th>\n",
       "      <th>2001</th>\n",
       "      <th>2002</th>\n",
       "      <th>2003</th>\n",
       "      <th>2004</th>\n",
       "    </tr>\n",
       "  </thead>\n",
       "  <tbody>\n",
       "    <tr>\n",
       "      <th>0</th>\n",
       "      <td>1.0</td>\n",
       "      <td>1.263158</td>\n",
       "      <td>1.526316</td>\n",
       "      <td>1.789474</td>\n",
       "      <td>2.052632</td>\n",
       "      <td>2.315789</td>\n",
       "      <td>2.578947</td>\n",
       "      <td>2.842105</td>\n",
       "      <td>3.105263</td>\n",
       "      <td>3.368421</td>\n",
       "      <td>3.631579</td>\n",
       "      <td>3.894737</td>\n",
       "      <td>4.157895</td>\n",
       "      <td>4.421053</td>\n",
       "      <td>4.684211</td>\n",
       "      <td>4.947368</td>\n",
       "      <td>5.210526</td>\n",
       "      <td>5.473684</td>\n",
       "      <td>5.736842</td>\n",
       "      <td>6.0</td>\n",
       "    </tr>\n",
       "    <tr>\n",
       "      <th>1</th>\n",
       "      <td>1.0</td>\n",
       "      <td>1.263158</td>\n",
       "      <td>1.526316</td>\n",
       "      <td>1.789474</td>\n",
       "      <td>2.052632</td>\n",
       "      <td>2.315789</td>\n",
       "      <td>2.578947</td>\n",
       "      <td>2.842105</td>\n",
       "      <td>3.105263</td>\n",
       "      <td>3.368421</td>\n",
       "      <td>3.631579</td>\n",
       "      <td>3.894737</td>\n",
       "      <td>4.157895</td>\n",
       "      <td>4.421053</td>\n",
       "      <td>4.684211</td>\n",
       "      <td>4.947368</td>\n",
       "      <td>5.210526</td>\n",
       "      <td>5.473684</td>\n",
       "      <td>5.736842</td>\n",
       "      <td>6.0</td>\n",
       "    </tr>\n",
       "    <tr>\n",
       "      <th>2</th>\n",
       "      <td>1.0</td>\n",
       "      <td>1.263158</td>\n",
       "      <td>1.526316</td>\n",
       "      <td>1.789474</td>\n",
       "      <td>2.052632</td>\n",
       "      <td>2.315789</td>\n",
       "      <td>2.578947</td>\n",
       "      <td>2.842105</td>\n",
       "      <td>3.105263</td>\n",
       "      <td>3.368421</td>\n",
       "      <td>3.631579</td>\n",
       "      <td>3.894737</td>\n",
       "      <td>4.157895</td>\n",
       "      <td>4.421053</td>\n",
       "      <td>4.684211</td>\n",
       "      <td>4.947368</td>\n",
       "      <td>5.210526</td>\n",
       "      <td>5.473684</td>\n",
       "      <td>5.736842</td>\n",
       "      <td>6.0</td>\n",
       "    </tr>\n",
       "  </tbody>\n",
       "</table>\n",
       "</div>"
      ],
      "text/plain": [
       "   1985      1986      1987      1988      1989      1990      1991      1992  \\\n",
       "0   1.0  1.263158  1.526316  1.789474  2.052632  2.315789  2.578947  2.842105   \n",
       "1   1.0  1.263158  1.526316  1.789474  2.052632  2.315789  2.578947  2.842105   \n",
       "2   1.0  1.263158  1.526316  1.789474  2.052632  2.315789  2.578947  2.842105   \n",
       "\n",
       "       1993      1994      1995      1996      1997      1998      1999  \\\n",
       "0  3.105263  3.368421  3.631579  3.894737  4.157895  4.421053  4.684211   \n",
       "1  3.105263  3.368421  3.631579  3.894737  4.157895  4.421053  4.684211   \n",
       "2  3.105263  3.368421  3.631579  3.894737  4.157895  4.421053  4.684211   \n",
       "\n",
       "       2000      2001      2002      2003  2004  \n",
       "0  4.947368  5.210526  5.473684  5.736842   6.0  \n",
       "1  4.947368  5.210526  5.473684  5.736842   6.0  \n",
       "2  4.947368  5.210526  5.473684  5.736842   6.0  "
      ]
     },
     "execution_count": 120,
     "metadata": {},
     "output_type": "execute_result"
    }
   ],
   "source": [
    "df2 = pd.DataFrame(np_new)\n",
    "time_range = np.arange(1985,2005)\n",
    "df2.columns = time_range\n",
    "df2"
   ]
  }
 ],
 "metadata": {
  "kernelspec": {
   "display_name": "Python 3 (ipykernel)",
   "language": "python",
   "name": "python3"
  },
  "language_info": {
   "codemirror_mode": {
    "name": "ipython",
    "version": 3
   },
   "file_extension": ".py",
   "mimetype": "text/x-python",
   "name": "python",
   "nbconvert_exporter": "python",
   "pygments_lexer": "ipython3",
   "version": "3.9.6"
  },
  "pycharm": {
   "stem_cell": {
    "cell_type": "raw",
    "metadata": {
     "collapsed": false
    },
    "source": []
   }
  }
 },
 "nbformat": 4,
 "nbformat_minor": 4
}
