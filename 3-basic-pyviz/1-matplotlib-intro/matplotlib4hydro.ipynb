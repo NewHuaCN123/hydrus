{
 "cells": [
  {
   "cell_type": "markdown",
   "id": "e5443b7b-b82c-48df-a365-717b7a824196",
   "metadata": {},
   "source": [
    "# Gallery for Hydrology and water resources\n",
    "\n",
    "这里收集一些和专业更相关一些的示例画图"
   ]
  },
  {
   "cell_type": "markdown",
   "id": "9b506333-b41b-458e-9083-569751f576c0",
   "metadata": {
    "tags": []
   },
   "source": [
    "## 降雨径流图\n",
    "\n",
    "下面是在一个ax里面画两个坐标的图，这在降雨径流图中会用得到：\n",
    "\n",
    "参考：\n",
    "\n",
    "- https://github.com/matplotlib/matplotlib/issues/12318"
   ]
  },
  {
   "cell_type": "code",
   "execution_count": 44,
   "id": "ea2015ce-d945-4a22-b6a0-f68894d2380c",
   "metadata": {},
   "outputs": [
    {
     "data": {
      "image/png": "[encoded data removed]",
      "text/plain": [
       "<Figure size 432x288 with 2 Axes>"
      ]
     },
     "metadata": {
      "needs_background": "light"
     },
     "output_type": "display_data"
    }
   ],
   "source": [
    "import matplotlib.pyplot as plt\n",
    "import numpy as np\n",
    "\n",
    "runoff = np.array([1,4,5,6,7,8,9]) \n",
    "precipitation = np.array([4,5,6,7,3,3,7])\n",
    "\n",
    "\n",
    "fig, ax = plt.subplots()\n",
    "\n",
    "# x axis to plot both runoff and precip. against\n",
    "x = np.linspace(0, 10, len(runoff))\n",
    "\n",
    "ax.plot(x, runoff, color=\"r\")\n",
    "\n",
    "# Create second axes, in order to get the bars from the top you can multiply \n",
    "# by -1\n",
    "ax2 = ax.twinx()\n",
    "ax2.bar(x, -precipitation)\n",
    "\n",
    "# Now need to fix the axis labels\n",
    "max_pre = max(precipitation)\n",
    "ax2.set_ylim(-max_pre * 5, 0)\n",
    "y2_ticks = np.linspace(0, max_pre, max_pre+1)\n",
    "y2_ticklabels = [str(i) for i in y2_ticks]\n",
    "ax2.set_yticks(-1 * y2_ticks)\n",
    "ax2.set_yticklabels(y2_ticklabels)\n",
    "plt.show()"
   ]
  }
 ],
 "metadata": {
  "kernelspec": {
   "display_name": "hydrus",
   "language": "python",
   "name": "hydrus"
  },
  "language_info": {
   "codemirror_mode": {
    "name": "ipython",
    "version": 3
   },
   "file_extension": ".py",
   "mimetype": "text/x-python",
   "name": "python",
   "nbconvert_exporter": "python",
   "pygments_lexer": "ipython3",
   "version": "3.10.5"
  }
 },
 "nbformat": 4,
 "nbformat_minor": 5
}
