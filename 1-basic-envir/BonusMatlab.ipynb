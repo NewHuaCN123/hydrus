{
 "cells": [
  {
   "cell_type": "markdown",
   "metadata": {},
   "source": [
    "# Python调用Matlab\n",
    "\n",
    "很多科学计算程序由Matlab完成，但是我们想要在Python中直接调用，这时候可以使用Matlab在python中的计算引擎来帮助实现。\n",
    "\n",
    "主要参考了以下资料：\n",
    "\n",
    "- [从 Python 调用 MATLAB](https://ww2.mathworks.cn/help/matlab/matlab-engine-for-python.html?s_tid=CRUX_lftnav)\n",
    "- [python中调用matlab](https://zhuanlan.zhihu.com/p/47655091)\n",
    "\n",
    "首先本地电脑上要已经安装好matlab，进入matlab文件夹内的“extern\\engines\\python”文件夹，在python环境下执行：\n",
    "\n",
    "```Shell\n",
    "# 进入matlab的python引擎文件夹\n",
    "cd C:\\Program Files\\MATLAB\\R2021a\\extern\\engines\\python\n",
    "# 激活python环境\n",
    "conda activate hydrus\n",
    "# 安装matlabengine\n",
    "python setup.py install\n",
    "```\n",
    "\n",
    "如果因为权限原因报错，可以使用windows下的sudo，参考[这里](https://stackoverflow.com/questions/9652720/how-to-run-sudo-command-in-windows)安装 sudo 工具，这部分完整命令如下：\n",
    "\n",
    "```Shell\n",
    "# 打开windows terminal，执行下列语句\n",
    "# 首先，安装scoop工具\n",
    "Set-ExecutionPolicy RemoteSigned -scope CurrentUser\n",
    "iwr -useb get.scoop.sh | iex\n",
    "# 然后安装sudo工具\n",
    "scoop install gsudo\n",
    "# 检查安装是否成功\n",
    "sudo -v\n",
    "# 在指定python环境下安装matlabengine\n",
    "# 进入matlab的python引擎文件夹\n",
    "cd C:\\Program Files\\MATLAB\\R2021a\\extern\\engines\\python\n",
    "# 激活python环境\n",
    "conda activate hydrus\n",
    "# 安装matlabengine\n",
    "sudo python setup.py install\n",
    "# 弹出gsudo提示框，允许执行即可\n",
    "# 安装完成之后，输入conda list，可以看到 matlabengineforpython 包\n",
    "```\n",
    "\n",
    "接下来尝试执行一个matlab函数。"
   ]
  },
  {
   "cell_type": "code",
   "execution_count": 4,
   "metadata": {},
   "outputs": [
    {
     "name": "stdout",
     "output_type": "stream",
     "text": [
      "True\n"
     ]
    }
   ],
   "source": [
    "import matlab.engine\n",
    "eng = matlab.engine.start_matlab()\n",
    "tf = eng.isprime(37)\n",
    "print(tf)"
   ]
  },
  {
   "cell_type": "markdown",
   "metadata": {},
   "source": [
    "下面尝试调用一个自建的函数。函数文件为triarea.m，内容如下：\n",
    "\n",
    "```Matlab\n",
    "b = 5;\n",
    "h = 3;\n",
    "a = 0.5*(b.* h)\n",
    "```"
   ]
  },
  {
   "cell_type": "code",
   "execution_count": 5,
   "metadata": {},
   "outputs": [],
   "source": [
    "import matlab.engine\n",
    "eng = matlab.engine.start_matlab()\n",
    "eng.triarea(nargout=0)"
   ]
  },
  {
   "cell_type": "markdown",
   "metadata": {},
   "source": [
    "指定 nargout=0。尽管脚本会打印输出，但它不会向 Python 返回任何输出参数。所以在jupyter里面我们没看到输出，不过在命令行里可以看到输出：\n",
    "\n",
    "```Shell\n",
    "a=\n",
    "  7.5000\n",
    "```\n",
    "\n",
    "将脚本转换为函数并通过引擎调用该函数。要编辑文件，请打开 MATLAB 编辑器。"
   ]
  },
  {
   "cell_type": "code",
   "execution_count": 6,
   "metadata": {},
   "outputs": [],
   "source": [
    "eng.edit('triarea',nargout=0)"
   ]
  },
  {
   "cell_type": "markdown",
   "metadata": {},
   "source": [
    "执行上面的命令，可以看到matlab的编辑器被打开了。\n",
    "\n",
    "将triarea.m内容改为：\n",
    "\n",
    "```Matlab\n",
    "function a = triarea(b,h)\n",
    "a = 0.5*(b.* h);\n",
    "```\n",
    "\n",
    "然后执行："
   ]
  },
  {
   "cell_type": "code",
   "execution_count": 7,
   "metadata": {},
   "outputs": [
    {
     "name": "stdout",
     "output_type": "stream",
     "text": [
      "2.5\n"
     ]
    }
   ],
   "source": [
    "ret = eng.triarea(1.0,5.0)\n",
    "print(ret)"
   ]
  },
  {
   "cell_type": "markdown",
   "metadata": {},
   "source": [
    "此时，triarea 函数仅返回一个输出参数，因此无需指定 nargout。"
   ]
  }
 ],
 "metadata": {
  "kernelspec": {
   "display_name": "Python 3",
   "language": "python",
   "name": "python3"
  },
  "language_info": {
   "codemirror_mode": {
    "name": "ipython",
    "version": 3
   },
   "file_extension": ".py",
   "mimetype": "text/x-python",
   "name": "python",
   "nbconvert_exporter": "python",
   "pygments_lexer": "ipython3",
   "version": "3.7.8"
  }
 },
 "nbformat": 4,
 "nbformat_minor": 4
}
