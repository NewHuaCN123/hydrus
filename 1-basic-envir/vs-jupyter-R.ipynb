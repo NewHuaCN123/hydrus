{
 "cells": [
  {
   "cell_type": "markdown",
   "source": [
    "# win10下支持R语言\n",
    "\n",
    "## VS2017\n",
    "\n",
    "Install RTVS in Visual Studio 2017。\n",
    "\n",
    "首先，Run the Visual Studio installer and select the Modify option (for details, see Modify Visual Studio). \n",
    "\n",
    "If you don't yet have Visual Studio installed, see Install Visual Studio.\n",
    "\n",
    "Select the Data science and analytical applications workload：\n",
    "Data science and analytical applications workload in VS2017\n",
    "\n",
    "Set any additional options on the right side under the same workload name. By default, this workload includes F# and Python support（如果已经安装过anaconda，这里可以勾掉anaconda）. For R, minimum requirements are R language support, Runtime support for R development, and Microsoft R client.\n",
    "\n",
    "选择之后点击“修改”等待下载安装即可。\n",
    "\n",
    "一些R常用的库安装：\n",
    "在R中安装程序包也很容易，R程序有CRAN库。\n",
    "直接调用install.packages()语句即可。\n",
    "\n",
    "比如绘图的ggplot2库（注意报名要以字符串的形式给出）\n",
    "\n",
    "```R\n",
    "install.packages(\"ggplot2\")\n",
    "```"
   ],
   "metadata": {
    "collapsed": false
   }
  },
  {
   "cell_type": "markdown",
   "source": [
    "## Jupyter-R\n",
    "\n",
    "这部分主要参考了anaconda[官网](https://docs.anaconda.com/anaconda/navigator/tutorials/r-lang/)关于这部分的内容，按照官网步骤操作即可，这里不再赘述。\n",
    "\n",
    "以下代码的运行也需要参考官网的步骤，在python IDE下可能报错。\n"
   ],
   "metadata": {
    "collapsed": false
   }
  },
  {
   "cell_type": "code",
   "execution_count": null,
   "outputs": [],
   "source": [
    "library(dplyr)\n",
    "iris"
   ],
   "metadata": {
    "collapsed": false,
    "pycharm": {
     "name": "#%%\n"
    }
   }
  },
  {
   "cell_type": "code",
   "execution_count": null,
   "outputs": [],
   "source": [
    "library(ggplot2)\n",
    "ggplot(data=iris, aes(x=Sepal.Length, y=Sepal.Width, color=Species)) + geom_point(size=3)\n"
   ],
   "metadata": {
    "collapsed": false,
    "pycharm": {
     "name": "#%%\n"
    }
   }
  }
 ],
 "metadata": {
  "kernelspec": {
   "display_name": "R",
   "language": "R",
   "name": "ir"
  },
  "language_info": {
   "codemirror_mode": "r",
   "file_extension": ".r",
   "mimetype": "text/x-r-source",
   "name": "R",
   "pygments_lexer": "r",
   "version": "3.6.1"
  },
  "pycharm": {
   "stem_cell": {
    "cell_type": "raw",
    "source": [],
    "metadata": {
     "collapsed": false
    }
   }
  }
 },
 "nbformat": 4,
 "nbformat_minor": 2
}