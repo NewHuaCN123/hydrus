{
 "cells": [
  {
   "cell_type": "markdown",
   "metadata": {},
   "source": [
    "# Jupyterlab下简单接触 R 语言\n",
    "\n",
    "承接 1-basic-envir/1-get-started.ipynb 最后一段话中关于R的部分，这里稍微给几个R语言的例子。日常积累。首先，是安装R包。这里以USGS 的 dataRetrieval 为例子，如果还未执行过下面句子，就取消注释，运行即可。代码主要参考了[这里](https://usgs-r.github.io/dataRetrieval/articles/tutorial.html)"
   ]
  },
  {
   "cell_type": "code",
   "execution_count": 1,
   "metadata": {},
   "outputs": [],
   "source": [
    "# install.packages(c(\"dplyr\",\"dataRetrieval\",\"ggplot2\",\"tidyr\",\"RColorBrewer\",\"EGRET\", \"rmarkdown\", \"geoknife\"))"
   ]
  },
  {
   "cell_type": "markdown",
   "metadata": {},
   "source": [
    "R中使用包前，同样需要先导入。"
   ]
  },
  {
   "cell_type": "code",
   "execution_count": 2,
   "metadata": {},
   "outputs": [
    {
     "name": "stderr",
     "output_type": "stream",
     "text": [
      "Warning message:\n",
      "\"package 'dataRetrieval' was built under R version 3.6.3\""
     ]
    }
   ],
   "source": [
    "library(dataRetrieval)"
   ]
  },
  {
   "cell_type": "code",
   "execution_count": 3,
   "metadata": {},
   "outputs": [],
   "source": [
    "MauiCo_avgdailyQ <- readNWISdata(stateCd=\"Hawaii\", countyCd=\"Maui\", service=\"dv\", parameterCd=\"00060\")"
   ]
  },
  {
   "cell_type": "code",
   "execution_count": 4,
   "metadata": {},
   "outputs": [
    {
     "data": {
      "text/html": [
       "<table>\n",
       "<thead><tr><th scope=col>agency_cd</th><th scope=col>site_no</th><th scope=col>dateTime</th><th scope=col>X_00060_00003</th><th scope=col>X_00060_00003_cd</th><th scope=col>tz_cd</th></tr></thead>\n",
       "<tbody>\n",
       "\t<tr><td>USGS      </td><td>16400000  </td><td>2021-03-07</td><td>26.8      </td><td>P         </td><td>UTC       </td></tr>\n",
       "\t<tr><td>USGS      </td><td>16401000  </td><td>1929-08-31</td><td>18.0      </td><td>A         </td><td>UTC       </td></tr>\n",
       "\t<tr><td>USGS      </td><td>16402000  </td><td>1957-07-31</td><td>51.0      </td><td>A         </td><td>UTC       </td></tr>\n",
       "\t<tr><td>USGS      </td><td>16403000  </td><td>1957-06-30</td><td> 5.5      </td><td>A         </td><td>UTC       </td></tr>\n",
       "\t<tr><td>USGS      </td><td>16403600  </td><td>1970-09-29</td><td> 2.4      </td><td>A         </td><td>UTC       </td></tr>\n",
       "\t<tr><td>USGS      </td><td>16403900  </td><td>1996-09-30</td><td> 1.3      </td><td>A         </td><td>UTC       </td></tr>\n",
       "</tbody>\n",
       "</table>\n"
      ],
      "text/latex": [
       "\\begin{tabular}{r|llllll}\n",
       " agency\\_cd & site\\_no & dateTime & X\\_00060\\_00003 & X\\_00060\\_00003\\_cd & tz\\_cd\\\\\n",
       "\\hline\n",
       "\t USGS       & 16400000   & 2021-03-07 & 26.8       & P          & UTC       \\\\\n",
       "\t USGS       & 16401000   & 1929-08-31 & 18.0       & A          & UTC       \\\\\n",
       "\t USGS       & 16402000   & 1957-07-31 & 51.0       & A          & UTC       \\\\\n",
       "\t USGS       & 16403000   & 1957-06-30 &  5.5       & A          & UTC       \\\\\n",
       "\t USGS       & 16403600   & 1970-09-29 &  2.4       & A          & UTC       \\\\\n",
       "\t USGS       & 16403900   & 1996-09-30 &  1.3       & A          & UTC       \\\\\n",
       "\\end{tabular}\n"
      ],
      "text/markdown": [
       "\n",
       "| agency_cd | site_no | dateTime | X_00060_00003 | X_00060_00003_cd | tz_cd |\n",
       "|---|---|---|---|---|---|\n",
       "| USGS       | 16400000   | 2021-03-07 | 26.8       | P          | UTC        |\n",
       "| USGS       | 16401000   | 1929-08-31 | 18.0       | A          | UTC        |\n",
       "| USGS       | 16402000   | 1957-07-31 | 51.0       | A          | UTC        |\n",
       "| USGS       | 16403000   | 1957-06-30 |  5.5       | A          | UTC        |\n",
       "| USGS       | 16403600   | 1970-09-29 |  2.4       | A          | UTC        |\n",
       "| USGS       | 16403900   | 1996-09-30 |  1.3       | A          | UTC        |\n",
       "\n"
      ],
      "text/plain": [
       "  agency_cd site_no  dateTime   X_00060_00003 X_00060_00003_cd tz_cd\n",
       "1 USGS      16400000 2021-03-07 26.8          P                UTC  \n",
       "2 USGS      16401000 1929-08-31 18.0          A                UTC  \n",
       "3 USGS      16402000 1957-07-31 51.0          A                UTC  \n",
       "4 USGS      16403000 1957-06-30  5.5          A                UTC  \n",
       "5 USGS      16403600 1970-09-29  2.4          A                UTC  \n",
       "6 USGS      16403900 1996-09-30  1.3          A                UTC  "
      ]
     },
     "metadata": {},
     "output_type": "display_data"
    }
   ],
   "source": [
    "head(MauiCo_avgdailyQ)"
   ]
  },
  {
   "cell_type": "markdown",
   "metadata": {},
   "source": [
    "指定站点id来读取数据看看。"
   ]
  },
  {
   "cell_type": "code",
   "execution_count": 5,
   "metadata": {},
   "outputs": [
    {
     "data": {
      "text/html": [
       "<table>\n",
       "<thead><tr><th scope=col>agency_cd</th><th scope=col>site_no</th><th scope=col>Date</th><th scope=col>X_00060_00003</th><th scope=col>X_00060_00003_cd</th></tr></thead>\n",
       "<tbody>\n",
       "\t<tr><td>USGS      </td><td>01491000  </td><td>2010-01-01</td><td>415       </td><td>A         </td></tr>\n",
       "\t<tr><td>USGS      </td><td>01491000  </td><td>2010-01-02</td><td>425       </td><td>A         </td></tr>\n",
       "\t<tr><td>USGS      </td><td>01491000  </td><td>2010-01-03</td><td>334       </td><td>A         </td></tr>\n",
       "\t<tr><td>USGS      </td><td>01491000  </td><td>2010-01-04</td><td>268       </td><td>A         </td></tr>\n",
       "\t<tr><td>USGS      </td><td>01491000  </td><td>2010-01-05</td><td>241       </td><td>A         </td></tr>\n",
       "\t<tr><td>USGS      </td><td>01491000  </td><td>2010-01-06</td><td>224       </td><td>A         </td></tr>\n",
       "</tbody>\n",
       "</table>\n"
      ],
      "text/latex": [
       "\\begin{tabular}{r|lllll}\n",
       " agency\\_cd & site\\_no & Date & X\\_00060\\_00003 & X\\_00060\\_00003\\_cd\\\\\n",
       "\\hline\n",
       "\t USGS       & 01491000   & 2010-01-01 & 415        & A         \\\\\n",
       "\t USGS       & 01491000   & 2010-01-02 & 425        & A         \\\\\n",
       "\t USGS       & 01491000   & 2010-01-03 & 334        & A         \\\\\n",
       "\t USGS       & 01491000   & 2010-01-04 & 268        & A         \\\\\n",
       "\t USGS       & 01491000   & 2010-01-05 & 241        & A         \\\\\n",
       "\t USGS       & 01491000   & 2010-01-06 & 224        & A         \\\\\n",
       "\\end{tabular}\n"
      ],
      "text/markdown": [
       "\n",
       "| agency_cd | site_no | Date | X_00060_00003 | X_00060_00003_cd |\n",
       "|---|---|---|---|---|\n",
       "| USGS       | 01491000   | 2010-01-01 | 415        | A          |\n",
       "| USGS       | 01491000   | 2010-01-02 | 425        | A          |\n",
       "| USGS       | 01491000   | 2010-01-03 | 334        | A          |\n",
       "| USGS       | 01491000   | 2010-01-04 | 268        | A          |\n",
       "| USGS       | 01491000   | 2010-01-05 | 241        | A          |\n",
       "| USGS       | 01491000   | 2010-01-06 | 224        | A          |\n",
       "\n"
      ],
      "text/plain": [
       "  agency_cd site_no  Date       X_00060_00003 X_00060_00003_cd\n",
       "1 USGS      01491000 2010-01-01 415           A               \n",
       "2 USGS      01491000 2010-01-02 425           A               \n",
       "3 USGS      01491000 2010-01-03 334           A               \n",
       "4 USGS      01491000 2010-01-04 268           A               \n",
       "5 USGS      01491000 2010-01-05 241           A               \n",
       "6 USGS      01491000 2010-01-06 224           A               "
      ]
     },
     "metadata": {},
     "output_type": "display_data"
    }
   ],
   "source": [
    "# Choptank River near Greensboro, MD\n",
    "siteNumber <- \"01491000\" \n",
    "ChoptankInfo <- readNWISsite(siteNumber)\n",
    "parameterCd <- \"00060\"\n",
    "\n",
    "#Raw daily data:\n",
    "rawDailyData <- readNWISdv(siteNumber,parameterCd, \"2010-01-01\",\"2011-01-01\")\n",
    "head(rawDailyData)"
   ]
  },
  {
   "cell_type": "code",
   "execution_count": 16,
   "metadata": {},
   "outputs": [],
   "source": [
    "siteNo <- \"01491000\"\n",
    "pCode <- \"00060\"\n",
    "start.date <- \"2010-01-03\"\n",
    "end.date <- \"2010-01-03\"\n",
    "\n",
    "pheasant <- readNWISuv(siteNumbers = siteNo,\n",
    "                     parameterCd = pCode,\n",
    "                     startDate = start.date,\n",
    "                     endDate = end.date)"
   ]
  },
  {
   "cell_type": "code",
   "execution_count": 17,
   "metadata": {},
   "outputs": [
    {
     "data": {
      "text/html": [
       "<ol class=list-inline>\n",
       "\t<li>'agency_cd'</li>\n",
       "\t<li>'site_no'</li>\n",
       "\t<li>'dateTime'</li>\n",
       "\t<li>'X_00060_00000'</li>\n",
       "\t<li>'X_00060_00000_cd'</li>\n",
       "\t<li>'tz_cd'</li>\n",
       "</ol>\n"
      ],
      "text/latex": [
       "\\begin{enumerate*}\n",
       "\\item 'agency\\_cd'\n",
       "\\item 'site\\_no'\n",
       "\\item 'dateTime'\n",
       "\\item 'X\\_00060\\_00000'\n",
       "\\item 'X\\_00060\\_00000\\_cd'\n",
       "\\item 'tz\\_cd'\n",
       "\\end{enumerate*}\n"
      ],
      "text/markdown": [
       "1. 'agency_cd'\n",
       "2. 'site_no'\n",
       "3. 'dateTime'\n",
       "4. 'X_00060_00000'\n",
       "5. 'X_00060_00000_cd'\n",
       "6. 'tz_cd'\n",
       "\n",
       "\n"
      ],
      "text/plain": [
       "[1] \"agency_cd\"        \"site_no\"          \"dateTime\"         \"X_00060_00000\"   \n",
       "[5] \"X_00060_00000_cd\" \"tz_cd\"           "
      ]
     },
     "metadata": {},
     "output_type": "display_data"
    }
   ],
   "source": [
    "names(pheasant)"
   ]
  },
  {
   "cell_type": "code",
   "execution_count": 18,
   "metadata": {},
   "outputs": [
    {
     "data": {
      "text/html": [
       "<table>\n",
       "<thead><tr><th scope=col>agency_cd</th><th scope=col>site_no</th><th scope=col>dateTime</th><th scope=col>X_00060_00000</th><th scope=col>X_00060_00000_cd</th><th scope=col>tz_cd</th></tr></thead>\n",
       "<tbody>\n",
       "\t<tr><td>USGS               </td><td>01491000           </td><td>2010-01-03 05:00:00</td><td>389                </td><td>A                  </td><td>UTC                </td></tr>\n",
       "\t<tr><td>USGS               </td><td>01491000           </td><td>2010-01-03 05:15:00</td><td>386                </td><td>A                  </td><td>UTC                </td></tr>\n",
       "\t<tr><td>USGS               </td><td>01491000           </td><td>2010-01-03 05:30:00</td><td>386                </td><td>A                  </td><td>UTC                </td></tr>\n",
       "\t<tr><td>USGS               </td><td>01491000           </td><td>2010-01-03 05:45:00</td><td>382                </td><td>A                  </td><td>UTC                </td></tr>\n",
       "\t<tr><td>USGS               </td><td>01491000           </td><td>2010-01-03 06:00:00</td><td>382                </td><td>A                  </td><td>UTC                </td></tr>\n",
       "\t<tr><td>USGS               </td><td>01491000           </td><td>2010-01-03 06:15:00</td><td>379                </td><td>A                  </td><td>UTC                </td></tr>\n",
       "</tbody>\n",
       "</table>\n"
      ],
      "text/latex": [
       "\\begin{tabular}{r|llllll}\n",
       " agency\\_cd & site\\_no & dateTime & X\\_00060\\_00000 & X\\_00060\\_00000\\_cd & tz\\_cd\\\\\n",
       "\\hline\n",
       "\t USGS                & 01491000            & 2010-01-03 05:00:00 & 389                 & A                   & UTC                \\\\\n",
       "\t USGS                & 01491000            & 2010-01-03 05:15:00 & 386                 & A                   & UTC                \\\\\n",
       "\t USGS                & 01491000            & 2010-01-03 05:30:00 & 386                 & A                   & UTC                \\\\\n",
       "\t USGS                & 01491000            & 2010-01-03 05:45:00 & 382                 & A                   & UTC                \\\\\n",
       "\t USGS                & 01491000            & 2010-01-03 06:00:00 & 382                 & A                   & UTC                \\\\\n",
       "\t USGS                & 01491000            & 2010-01-03 06:15:00 & 379                 & A                   & UTC                \\\\\n",
       "\\end{tabular}\n"
      ],
      "text/markdown": [
       "\n",
       "| agency_cd | site_no | dateTime | X_00060_00000 | X_00060_00000_cd | tz_cd |\n",
       "|---|---|---|---|---|---|\n",
       "| USGS                | 01491000            | 2010-01-03 05:00:00 | 389                 | A                   | UTC                 |\n",
       "| USGS                | 01491000            | 2010-01-03 05:15:00 | 386                 | A                   | UTC                 |\n",
       "| USGS                | 01491000            | 2010-01-03 05:30:00 | 386                 | A                   | UTC                 |\n",
       "| USGS                | 01491000            | 2010-01-03 05:45:00 | 382                 | A                   | UTC                 |\n",
       "| USGS                | 01491000            | 2010-01-03 06:00:00 | 382                 | A                   | UTC                 |\n",
       "| USGS                | 01491000            | 2010-01-03 06:15:00 | 379                 | A                   | UTC                 |\n",
       "\n"
      ],
      "text/plain": [
       "  agency_cd site_no  dateTime            X_00060_00000 X_00060_00000_cd tz_cd\n",
       "1 USGS      01491000 2010-01-03 05:00:00 389           A                UTC  \n",
       "2 USGS      01491000 2010-01-03 05:15:00 386           A                UTC  \n",
       "3 USGS      01491000 2010-01-03 05:30:00 386           A                UTC  \n",
       "4 USGS      01491000 2010-01-03 05:45:00 382           A                UTC  \n",
       "5 USGS      01491000 2010-01-03 06:00:00 382           A                UTC  \n",
       "6 USGS      01491000 2010-01-03 06:15:00 379           A                UTC  "
      ]
     },
     "metadata": {},
     "output_type": "display_data"
    }
   ],
   "source": [
    "head(pheasant)"
   ]
  },
  {
   "cell_type": "markdown",
   "metadata": {},
   "source": [
    "可以注意到每天的数据并不是从0点开始的，也不是到0点结束的，因为美国各地时区不同，为了统一，在日期表示上，统一采用了UTC时间，而上例中的 Choptank River near Greensboro, MD 时区是美东时区，当地早上5点是UTC的0点。所以当输入是UTC 0点时候，就是从当地5点开始计算的。因此，日均值也是基于当地时间的。"
   ]
  },
  {
   "cell_type": "markdown",
   "metadata": {},
   "source": [
    "做一些简单的统计，可以看看summary。"
   ]
  },
  {
   "cell_type": "code",
   "execution_count": 20,
   "metadata": {},
   "outputs": [
    {
     "data": {
      "text/plain": [
       "  agency_cd           site_no             dateTime                  \n",
       " Length:96          Length:96          Min.   :2010-01-03 05:00:00  \n",
       " Class :character   Class :character   1st Qu.:2010-01-03 10:56:15  \n",
       " Mode  :character   Mode  :character   Median :2010-01-03 16:52:30  \n",
       "                                       Mean   :2010-01-03 16:52:30  \n",
       "                                       3rd Qu.:2010-01-03 22:48:45  \n",
       "                                       Max.   :2010-01-04 04:45:00  \n",
       " X_00060_00000   X_00060_00000_cd      tz_cd          \n",
       " Min.   :307.0   Length:96          Length:96         \n",
       " 1st Qu.:313.0   Class :character   Class :character  \n",
       " Median :320.5   Mode  :character   Mode  :character  \n",
       " Mean   :334.3                                        \n",
       " 3rd Qu.:356.8                                        \n",
       " Max.   :389.0                                        "
      ]
     },
     "metadata": {},
     "output_type": "display_data"
    }
   ],
   "source": [
    "summary(pheasant)"
   ]
  }
 ],
 "metadata": {
  "kernelspec": {
   "display_name": "R",
   "language": "R",
   "name": "ir"
  },
  "language_info": {
   "codemirror_mode": "r",
   "file_extension": ".r",
   "mimetype": "text/x-r-source",
   "name": "R",
   "pygments_lexer": "r",
   "version": "3.6.1"
  }
 },
 "nbformat": 4,
 "nbformat_minor": 4
}
