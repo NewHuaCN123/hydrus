{
 "cells": [
  {
   "cell_type": "markdown",
   "metadata": {},
   "source": [
    "# 开始前的准备\n",
    "\n",
    "本文主要参考了前面README.md文件中推荐的：[Intro to earth data science textbook](https://www.earthdatascience.org/courses/intro-to-earth-data-science)，记录开始python编程前的准备工作。\n",
    "\n",
    "个人学习python的原因可以归纳为以下几点：\n",
    "\n",
    "- 人工智能算法最常用语言\n",
    "- 常用基本科学计算，数据分析，GIS，地球科学等水文水资源相关学科计算库丰富\n",
    "- 上手快等\n",
    "\n",
    "主要目的是为了快速实现科学计算。关于 Open Reproducible Science 可以参考[What Is Open Reproducible Science](https://www.earthdatascience.org/courses/intro-to-earth-data-science/open-reproducible-science/get-started-open-reproducible-science/)，这里贴个图。\n",
    "\n",
    "![](workflow.png)\n",
    "\n",
    "说明：本项目大部分内容是在windows 10下jupyter lab（稍后介绍）下完成的，有一部分提到的内容是在Ubuntu18.04下实践的，会有专门说明。\n",
    "\n",
    "在开始python之前先了解一些常见工具的配置和基本使用方法，包括：\n",
    "\n",
    "- git and github\n",
    "- jupyter notebook/lab\n",
    "\n",
    "这些内容参考了：[Setup Your Earth Analytics Python, Git, Bash Environment On Your Computer](https://www.earthdatascience.org/workshops/setup-earth-analytics-python/)\n",
    "\n",
    "如果需要补充一点计算机常识，以有助于编程快速学习，可以参考b站视频 crash course：[【计算机科学速成课】[40集全/精校] - Crash Course Computer Science](https://www.bilibili.com/video/av21376839)\n",
    "\n",
    "\n",
    "## git 和 github\n",
    "\n",
    "git是一种版本控制工具，如果第一次知道这个东西，姑且先当做类似word的ctrl-z和ctrl-y。其安装比较简单，linux下直接就自带了，windows下下载windows下的安装包，然后安装时一路默认即可。随便在一个文件夹下点击右键，就可以看到git相关的内容，一般使用git bash。\n",
    "\n",
    "关于bash是什么，可以参考：[How to Access and Use Shell to Set Up a Working Directory](https://www.earthdatascience.org/workshops/setup-earth-analytics-python/introduction-to-bash-shell/)，里面讲的还是很清楚的。git bash 里面敲命令和Ubuntu系统下的指令一样的，比如cd，mkdir等常见命令。\n",
    "\n",
    "至于github是什么，可以参考：https://www.zhihu.com/question/20070065 ，最高赞那个应该所有人都能懂。\n",
    "\n",
    "然后还有一个稍微长一些的blog以供参考：[Introduction to Git and GitHub for Python Developers](https://realpython.com/python-git-github-intro/)\n",
    "\n",
    "最后补充记录一些常用操作，根据实际使用情况慢慢补充：\n",
    "\n",
    "### clone项目\n",
    "\n",
    "第一个使用的git和github命令一定就是 git clone 了，以本项目为例，打开terminal，进入你想放置本项目的文件夹，执行：\n",
    "\n",
    "```Shell\n",
    "git clone https://github.com/OuyangWenyu/hydrus.git\n",
    "```\n",
    "\n",
    "### 创建分支并推送到远程分支\n",
    "\n",
    "参考了[git创建分支并推送到远程分支](https://blog.csdn.net/ljj_9/article/details/79386306)。\n",
    "\n",
    "首先在master分支上，保证工作目标是干净的，也没有需要commit的：\n",
    "\n",
    "``` Shell\n",
    "git branch\n",
    "git status\n",
    "```\n",
    "\n",
    "然后新建一个本地分支：\n",
    "\n",
    "```Shell\n",
    "git checkout -b  <你的分支名称>\n",
    "```\n",
    "\n",
    "然后把新建的本地分支push到远程服务器，远程分支与本地分支同名（当然可以随意起名）：\n",
    "\n",
    "```Shell\n",
    "git push origin <你的分支名称>:<你的分支名称>\n",
    "```\n",
    "\n",
    "使用git branch -a查看所有分支，会看到remotes/origin/<你的分支名称> 这个远程分支，说明新建远程分支成功。\n",
    "\n",
    "## jupyter notebook/lab\n",
    "\n",
    "本节内容主要来自一篇[Jupyter Notebooks的指南](https://www.analyticsvidhya.com/blog/2018/05/starters-guide-jupyter-notebook/)。\n",
    "\n",
    "### 引言\n",
    "\n",
    "如果说有什么每个数据科学家都应该使用或必须了解的工具，那非 Jupyter Notebooks 莫属了（之前也被称为 iPython 笔记本）。Jupyter Notebooks 很强大，功能多，可共享，并且提供了在同一环境中执行数据可视化的功能。\n",
    "\n",
    "Jupyter Notebooks 允许数据科学家创建和共享他们的文档，从代码到全面的报告都可以。它们能帮助数据科学家简化工作流程，实现更高的生产力和更便捷的协作。由于这些以及你将在下面看到的原因，Jupyter Notebooks 成了数据科学家最常用的工具之一。\n",
    "\n",
    "jupyter lab 可以认为是notebook的升级版，使用更方便，所以直接使用它即可。\n",
    "\n",
    "### 安装\n",
    "\n",
    "jupyter lab 不需要单独安装，直接安装anaconda之后就可使用它。安装anacodna时，注意和自己的操作系统匹配，如果是linux注意distro发行版也要匹配。另外2020年，python2就不更新了，所以能用python3还是用python3。\n",
    "\n",
    "windows下安装anaconda就直接一路默认即可，安装完毕之后记得配置环境变量，这里给出一个个人安装windows64位 anaconda python3.7版本时的环境配置：\n",
    "\n",
    "```Text\n",
    "xx\\anaconda3\n",
    "xx\\anaconda3\\Library\\mingw-w64\\bin\n",
    "xx\\anaconda3\\Library\\bin\n",
    "xx\\anaconda3\\Scripts\\bin\n",
    "```\n",
    "\n",
    "另外，这里记录一个个人曾碰到的问题：使用pip安装时遇到了 “Can't install any package via `pip` on windows 10, ssl module in Python is not available” 的情况，这时候可以先配置好自己的环境变量，方式来自：https://github.com/pypa/virtualenv/issues/1139#issuecomment-453865723 ，shriprem commented on Jan 13, 2019的回答。\n",
    "\n",
    "linux下可以使用如下代码安装：\n",
    "\n",
    "```Shell\n",
    "$ cd /home/wvo5024\n",
    "$ curl -O https://repo.anaconda.com/archive/Anaconda3-2019.10-Linux-x86_64.sh\n",
    "$ bash  Anaconda3-2019.10-Linux-x86_64.sh\n",
    "Anaconda3 will now be installed into this location:\n",
    "/home/wvo5024/anaconda3\n",
    "...\n",
    "installation finished.\n",
    "Do you wish the installer to prepend the Anaconda3 install location\n",
    "to PATH in your /home/wvo5024 /.bashrc ? [yes|no] yes\n",
    "$ source ~/.bashrc\n",
    "$ python  --version\n",
    "```\n",
    "\n",
    "以上 /home/wvo5024 表示的是我个人的文件夹名称。\n",
    "\n",
    "### 开始使用\n",
    "\n",
    "进入jupyter lab的方式很简单，如果你配置好了环境变量，那么这里就很简单了，进入项目所在文件夹，打开cmd，输入：\n",
    "\n",
    "```Shell\n",
    "jupyter lab\n",
    "```\n",
    "\n",
    "即可进入jupyter lab。\n",
    "\n",
    "jupyter lab中有几种cell类型：\n",
    "\n",
    "- Code——不言而喻，就是写代码的地方。\n",
    "- Markdown——这是写文本的地方。你可以在运行一段代码后添加你的结论、添加注释等。\n",
    "- Raw NBConvert——这是一个可将你的笔记本转换成另一种格式（比如 HTML）的命令行工具。"
   ]
  },
  {
   "cell_type": "code",
   "execution_count": 1,
   "metadata": {
    "collapsed": false,
    "jupyter": {
     "outputs_hidden": false
    },
    "pycharm": {
     "is_executing": false,
     "name": "#%%\n"
    }
   },
   "outputs": [
    {
     "data": {
      "application/json": {
       "cell": {
        "!": "OSMagics",
        "HTML": "Other",
        "SVG": "Other",
        "bash": "Other",
        "capture": "ExecutionMagics",
        "cmd": "Other",
        "debug": "ExecutionMagics",
        "file": "Other",
        "html": "DisplayMagics",
        "javascript": "DisplayMagics",
        "js": "DisplayMagics",
        "latex": "DisplayMagics",
        "markdown": "DisplayMagics",
        "perl": "Other",
        "prun": "ExecutionMagics",
        "pypy": "Other",
        "python": "Other",
        "python2": "Other",
        "python3": "Other",
        "ruby": "Other",
        "script": "ScriptMagics",
        "sh": "Other",
        "svg": "DisplayMagics",
        "sx": "OSMagics",
        "system": "OSMagics",
        "time": "ExecutionMagics",
        "timeit": "ExecutionMagics",
        "writefile": "OSMagics"
       },
       "line": {
        "alias": "OSMagics",
        "alias_magic": "BasicMagics",
        "autoawait": "AsyncMagics",
        "autocall": "AutoMagics",
        "automagic": "AutoMagics",
        "autosave": "KernelMagics",
        "bookmark": "OSMagics",
        "cd": "OSMagics",
        "clear": "KernelMagics",
        "cls": "KernelMagics",
        "colors": "BasicMagics",
        "conda": "PackagingMagics",
        "config": "ConfigMagics",
        "connect_info": "KernelMagics",
        "copy": "Other",
        "ddir": "Other",
        "debug": "ExecutionMagics",
        "dhist": "OSMagics",
        "dirs": "OSMagics",
        "doctest_mode": "BasicMagics",
        "echo": "Other",
        "ed": "Other",
        "edit": "KernelMagics",
        "env": "OSMagics",
        "gui": "BasicMagics",
        "hist": "Other",
        "history": "HistoryMagics",
        "killbgscripts": "ScriptMagics",
        "ldir": "Other",
        "less": "KernelMagics",
        "load": "CodeMagics",
        "load_ext": "ExtensionMagics",
        "loadpy": "CodeMagics",
        "logoff": "LoggingMagics",
        "logon": "LoggingMagics",
        "logstart": "LoggingMagics",
        "logstate": "LoggingMagics",
        "logstop": "LoggingMagics",
        "ls": "Other",
        "lsmagic": "BasicMagics",
        "macro": "ExecutionMagics",
        "magic": "BasicMagics",
        "matplotlib": "PylabMagics",
        "mkdir": "Other",
        "more": "KernelMagics",
        "notebook": "BasicMagics",
        "page": "BasicMagics",
        "pastebin": "CodeMagics",
        "pdb": "ExecutionMagics",
        "pdef": "NamespaceMagics",
        "pdoc": "NamespaceMagics",
        "pfile": "NamespaceMagics",
        "pinfo": "NamespaceMagics",
        "pinfo2": "NamespaceMagics",
        "pip": "PackagingMagics",
        "popd": "OSMagics",
        "pprint": "BasicMagics",
        "precision": "BasicMagics",
        "prun": "ExecutionMagics",
        "psearch": "NamespaceMagics",
        "psource": "NamespaceMagics",
        "pushd": "OSMagics",
        "pwd": "OSMagics",
        "pycat": "OSMagics",
        "pylab": "PylabMagics",
        "qtconsole": "KernelMagics",
        "quickref": "BasicMagics",
        "recall": "HistoryMagics",
        "rehashx": "OSMagics",
        "reload_ext": "ExtensionMagics",
        "ren": "Other",
        "rep": "Other",
        "rerun": "HistoryMagics",
        "reset": "NamespaceMagics",
        "reset_selective": "NamespaceMagics",
        "rmdir": "Other",
        "run": "ExecutionMagics",
        "save": "CodeMagics",
        "sc": "OSMagics",
        "set_env": "OSMagics",
        "store": "StoreMagics",
        "sx": "OSMagics",
        "system": "OSMagics",
        "tb": "ExecutionMagics",
        "time": "ExecutionMagics",
        "timeit": "ExecutionMagics",
        "unalias": "OSMagics",
        "unload_ext": "ExtensionMagics",
        "who": "NamespaceMagics",
        "who_ls": "NamespaceMagics",
        "whos": "NamespaceMagics",
        "xdel": "NamespaceMagics",
        "xmode": "BasicMagics"
       }
      },
      "text/plain": [
       "Available line magics:\n",
       "%alias  %alias_magic  %autoawait  %autocall  %automagic  %autosave  %bookmark  %cd  %clear  %cls  %colors  %conda  %config  %connect_info  %copy  %ddir  %debug  %dhist  %dirs  %doctest_mode  %echo  %ed  %edit  %env  %gui  %hist  %history  %killbgscripts  %ldir  %less  %load  %load_ext  %loadpy  %logoff  %logon  %logstart  %logstate  %logstop  %ls  %lsmagic  %macro  %magic  %matplotlib  %mkdir  %more  %notebook  %page  %pastebin  %pdb  %pdef  %pdoc  %pfile  %pinfo  %pinfo2  %pip  %popd  %pprint  %precision  %prun  %psearch  %psource  %pushd  %pwd  %pycat  %pylab  %qtconsole  %quickref  %recall  %rehashx  %reload_ext  %ren  %rep  %rerun  %reset  %reset_selective  %rmdir  %run  %save  %sc  %set_env  %store  %sx  %system  %tb  %time  %timeit  %unalias  %unload_ext  %who  %who_ls  %whos  %xdel  %xmode\n",
       "\n",
       "Available cell magics:\n",
       "%%!  %%HTML  %%SVG  %%bash  %%capture  %%cmd  %%debug  %%file  %%html  %%javascript  %%js  %%latex  %%markdown  %%perl  %%prun  %%pypy  %%python  %%python2  %%python3  %%ruby  %%script  %%sh  %%svg  %%sx  %%system  %%time  %%timeit  %%writefile\n",
       "\n",
       "Automagic is ON, % prefix IS NOT needed for line magics."
      ]
     },
     "execution_count": 1,
     "metadata": {},
     "output_type": "execute_result"
    }
   ],
   "source": [
    "%lsmagic"
   ]
  },
  {
   "cell_type": "markdown",
   "metadata": {},
   "source": [
    "使用上述语句list magic，即显示jupyter的神奇功能。这些命令可以以两种方式运行：\n",
    "\n",
    "- 逐行方式：所有给定的命令需以%字符开头；\n",
    "- 逐单元方式：所有命令必须以%%开头。\n"
   ]
  },
  {
   "cell_type": "code",
   "execution_count": 1,
   "metadata": {
    "collapsed": false,
    "jupyter": {
     "outputs_hidden": false
    },
    "pycharm": {
     "is_executing": false,
     "name": "#%%\n"
    }
   },
   "outputs": [
    {
     "name": "stdout",
     "output_type": "stream",
     "text": [
      "Wall time: 0 ns\n"
     ]
    }
   ],
   "source": [
    "%time a = range(10)"
   ]
  },
  {
   "cell_type": "code",
   "execution_count": 2,
   "metadata": {
    "collapsed": false,
    "jupyter": {
     "outputs_hidden": false
    },
    "pycharm": {
     "is_executing": false,
     "name": "#%%\n"
    }
   },
   "outputs": [
    {
     "name": "stdout",
     "output_type": "stream",
     "text": [
      "347 ns ± 5.68 ns per loop (mean ± std. dev. of 7 runs, 1000000 loops each)\n"
     ]
    }
   ],
   "source": [
    "%%timeit a = range(10) \n",
    "min(a)"
   ]
  },
  {
   "cell_type": "markdown",
   "metadata": {},
   "source": [
    "还可以在Jupyter Notebooks中使用R、Julia和Javascript等其他语言。比如：[Interactive Workflows for C++ with Jupyter](https://blog.jupyter.org/interactive-workflows-for-c-with-jupyter-fe9b54227d92)。如果不感兴趣，下面内容可忽略。接下来进入下一节：[1-basic-envir/2-python-envir.ipynb](https://github.com/OuyangWenyu/hydrus/blob/master/1-basic-envir/2-python-envir.ipynb)\n",
    "\n",
    "要在 Jupyter 中启用 R，你需要 IRKernel。这是针对 R 的专用 kernel，你可以在 GitHub 上获取。这需要 8 个步骤，已经有详细的解释了，另外可以参阅：https://discuss.analyticsvidhya.com/t/how-to-run-r-on-jupyter-ipython-notebooks/5512 ，也可以参考anaconda[官网](https://docs.anaconda.com/anaconda/navigator/tutorials/r-lang/)关于这部分的内容，按照官网步骤操作即可，这里不再赘述。\n",
    "\n",
    "另外关于R的本地使用补充一点题外话，除了可以用最常见的RStudio， visual studio 也是很好的工具，在 Run the Visual Studio installer 时 Select the Data science and analytical applications workload：Data science and analytical applications workload in VS2017，然后 Set any additional options on the right side under the same workload name. By default, this workload includes F# and Python support（如果已经安装过anaconda，这里可以勾掉anaconda）. For R, minimum requirements are R language support, Runtime support for R development, and Microsoft R client.\n",
    "\n",
    "如果你是一位 Julia 用户，你也能在 Jupyter Notebooks 中使用 Julia！你可以查看这篇为 Julia 用户学习数据科学而编写的全面介绍文章，其中有一个章节就是关于如何在 Jupyter 环境中使用 Julia：https://www.analyticsvidhya.com/blog/2017/10/comprehensive-tutorial-learn-data-science-julia-from-scratch/\n",
    "\n",
    "如果你更偏爱 JavaScript，那么我推荐使用 IJavascript kernel。这个 GitHub 库包含了在不同操作系统上安装这个 kernel 的各个步骤：https://github.com/n-riesco/ijavascript。注意，在使用它之前，你必需要先安装好 Node.js 和 npm。"
   ]
  }
 ],
 "metadata": {
  "kernelspec": {
   "display_name": "Python 3",
   "language": "python",
   "name": "python3"
  },
  "language_info": {
   "codemirror_mode": {
    "name": "ipython",
    "version": 3
   },
   "file_extension": ".py",
   "mimetype": "text/x-python",
   "name": "python",
   "nbconvert_exporter": "python",
   "pygments_lexer": "ipython3",
   "version": "3.7.6"
  },
  "pycharm": {
   "stem_cell": {
    "cell_type": "raw",
    "metadata": {
     "collapsed": false
    },
    "source": []
   }
  }
 },
 "nbformat": 4,
 "nbformat_minor": 4
}
