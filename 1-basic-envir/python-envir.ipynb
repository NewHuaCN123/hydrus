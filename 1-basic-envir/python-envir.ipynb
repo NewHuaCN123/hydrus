{
 "cells": [
  {
   "cell_type": "markdown",
   "metadata": {
    "collapsed": true,
    "pycharm": {
     "name": "#%% md\n"
    }
   },
   "source": [
    "# python环境配置\n",
    "\n",
    "基础安装选择anaconda即可，这里补充一些日常基操：\n",
    "\n",
    "## pip批量更新"
   ]
  },
  {
   "cell_type": "code",
   "execution_count": null,
   "outputs": [],
   "source": [
    "import pip\n",
    "from subprocess import call\n",
    "from pip._internal.utils.misc import get_installed_distributions\n",
    "\n",
    "n = 1\n",
    "s = len(get_installed_distributions())\n",
    "for dist in get_installed_distributions():\n",
    "    call(\"pip install --upgrade \" + dist.project_name, shell=True)\n",
    "    print(\"共有{}个库,正在更新第{}个库,请耐心等待.......\".format(s, n))\n",
    "    n += 1\n",
    "print(\"{}个库全部更新完毕\".format(s))\n"
   ],
   "metadata": {
    "collapsed": false,
    "pycharm": {
     "name": "#%%\n"
    }
   }
  }
 ],
 "metadata": {
  "language_info": {
   "codemirror_mode": {
    "name": "ipython",
    "version": 2
   },
   "file_extension": ".py",
   "mimetype": "text/x-python",
   "name": "python",
   "nbconvert_exporter": "python",
   "pygments_lexer": "ipython2",
   "version": "2.7.6"
  },
  "kernelspec": {
   "name": "python3",
   "language": "python",
   "display_name": "Python 3"
  },
  "pycharm": {
   "stem_cell": {
    "cell_type": "raw",
    "source": [],
    "metadata": {
     "collapsed": false
    }
   }
  }
 },
 "nbformat": 4,
 "nbformat_minor": 0
}