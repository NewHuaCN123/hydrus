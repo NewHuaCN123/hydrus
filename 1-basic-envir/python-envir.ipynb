{
 "cells": [
  {
   "cell_type": "markdown",
   "metadata": {
    "pycharm": {
     "name": "#%% md\n"
    }
   },
   "source": [
    "# python环境配置\n",
    "\n",
    "基础安装选择anaconda即可，这里补充一些常用工具的背景知识及实际操作。\n",
    "\n",
    "## conda和pip介绍\n",
    "\n",
    "pip批量更新"
   ]
  },
  {
   "cell_type": "code",
   "execution_count": null,
   "metadata": {
    "collapsed": false,
    "jupyter": {
     "outputs_hidden": false
    },
    "pycharm": {
     "name": "#%%\n"
    }
   },
   "outputs": [],
   "source": [
    "import pip\n",
    "from subprocess import call\n",
    "from pip._internal.utils.misc import get_installed_distributions\n",
    "\n",
    "n = 1\n",
    "s = len(get_installed_distributions())\n",
    "for dist in get_installed_distributions():\n",
    "    call(\"pip install --upgrade \" + dist.project_name, shell=True)\n",
    "    print(\"共有{}个库,正在更新第{}个库,请耐心等待.......\".format(s, n))\n",
    "    n += 1\n",
    "print(\"{}个库全部更新完毕\".format(s))"
   ]
  },
  {
   "cell_type": "markdown",
   "metadata": {},
   "source": [
    "## Virtual Environment\n",
    "\n"
   ]
  }
 ],
 "metadata": {
  "kernelspec": {
   "display_name": "Python 3",
   "language": "python",
   "name": "python3"
  },
  "language_info": {
   "codemirror_mode": {
    "name": "ipython",
    "version": 3
   },
   "file_extension": ".py",
   "mimetype": "text/x-python",
   "name": "python",
   "nbconvert_exporter": "python",
   "pygments_lexer": "ipython3",
   "version": "3.7.4"
  },
  "pycharm": {
   "stem_cell": {
    "cell_type": "raw",
    "metadata": {
     "collapsed": false
    },
    "source": []
   }
  }
 },
 "nbformat": 4,
 "nbformat_minor": 4
}
